{
 "cells": [
  {
   "cell_type": "markdown",
   "metadata": {},
   "source": [
    "## Model Selection & Evaluation\n",
    "\n",
    "<hr>\n",
    "\n",
    "### Agenda\n",
    "1. Cross Validation \n",
    "2. Hyperparameter Tuning  \n",
    "3. Model Evaluation \n",
    "4. Model Persistance \n",
    "5. Validation Curves\n",
    "6. Learning Curves\n",
    "\n",
    "<hr>"
   ]
  },
  {
   "cell_type": "markdown",
   "metadata": {},
   "source": [
    "### 1. Cross Validation\n",
    "* Simple models underfit.\n",
    "* Accuracy for training data & validation data is not much different.\n",
    "* But, accurcy ain't that great.\n",
    "* This situation is of low variance & high bias\n",
    "* On moving towards complex models, accuracy improves.\n",
    "* But, gap between accuracy on training data & validation data increases\n",
    "* This situation is of high variance & low bias"
   ]
  },
  {
   "cell_type": "markdown",
   "metadata": {},
   "source": [
    "<img src=\"https://www.researchgate.net/profile/Ljubomir_Jacic2/post/How_does_model_complexity_impact_the_bias-variance_tradeoff/attachment/59d6233579197b807798188f/AS%3A306150770184192%401450003439733/image/biasvariance.png\" width=\"400px\">"
   ]
  },
  {
   "cell_type": "markdown",
   "metadata": {},
   "source": [
    "* We need to compare across models to find the best model.\n",
    "* We need to compare across all hyper-parameters for a particular model.\n",
    "* The data that is used for training should not be used for validation. \n",
    "* The validation accuracy is the one that we claims"
   ]
  },
  {
   "cell_type": "code",
   "execution_count": 1,
   "metadata": {
    "collapsed": true
   },
   "outputs": [],
   "source": [
    "from sklearn.tree import DecisionTreeClassifier"
   ]
  },
  {
   "cell_type": "code",
   "execution_count": 2,
   "metadata": {
    "collapsed": true
   },
   "outputs": [],
   "source": [
    "from sklearn.datasets import load_digits"
   ]
  },
  {
   "cell_type": "code",
   "execution_count": 3,
   "metadata": {
    "collapsed": true
   },
   "outputs": [],
   "source": [
    "digits = load_digits()"
   ]
  },
  {
   "cell_type": "code",
   "execution_count": 4,
   "metadata": {
    "collapsed": true
   },
   "outputs": [],
   "source": [
    "import matplotlib.pyplot as plt\n",
    "%matplotlib inline"
   ]
  },
  {
   "cell_type": "code",
   "execution_count": 5,
   "metadata": {},
   "outputs": [
    {
     "data": {
      "text/plain": [
       "<matplotlib.image.AxesImage at 0x226625eb0b8>"
      ]
     },
     "execution_count": 5,
     "metadata": {},
     "output_type": "execute_result"
    },
    {
     "data": {
      "image/png": "[encoded data removed]",
      "text/plain": [
       "<matplotlib.figure.Figure at 0x2266292ca20>"
      ]
     },
     "metadata": {},
     "output_type": "display_data"
    }
   ],
   "source": [
    "plt.imshow(digits.images[0],cmap='gray')"
   ]
  },
  {
   "cell_type": "code",
   "execution_count": 6,
   "metadata": {
    "collapsed": true
   },
   "outputs": [],
   "source": [
    "dt = DecisionTreeClassifier(max_depth=10)"
   ]
  },
  {
   "cell_type": "code",
   "execution_count": 7,
   "metadata": {
    "collapsed": true
   },
   "outputs": [],
   "source": [
    "from sklearn.model_selection import train_test_split"
   ]
  },
  {
   "cell_type": "code",
   "execution_count": 8,
   "metadata": {
    "collapsed": true
   },
   "outputs": [],
   "source": [
    "trainX, testX, trainY, testY = train_test_split(digits.data, digits.target)"
   ]
  },
  {
   "cell_type": "code",
   "execution_count": 9,
   "metadata": {},
   "outputs": [
    {
     "data": {
      "text/plain": [
       "DecisionTreeClassifier(class_weight=None, criterion='gini', max_depth=10,\n",
       "            max_features=None, max_leaf_nodes=None,\n",
       "            min_impurity_decrease=0.0, min_impurity_split=None,\n",
       "            min_samples_leaf=1, min_samples_split=2,\n",
       "            min_weight_fraction_leaf=0.0, presort=False, random_state=None,\n",
       "            splitter='best')"
      ]
     },
     "execution_count": 9,
     "metadata": {},
     "output_type": "execute_result"
    }
   ],
   "source": [
    "dt.fit(trainX,trainY)"
   ]
  },
  {
   "cell_type": "code",
   "execution_count": 10,
   "metadata": {},
   "outputs": [
    {
     "data": {
      "text/plain": [
       "0.83777777777777773"
      ]
     },
     "execution_count": 10,
     "metadata": {},
     "output_type": "execute_result"
    }
   ],
   "source": [
    "dt.score(testX,testY)"
   ]
  },
  {
   "cell_type": "code",
   "execution_count": 11,
   "metadata": {},
   "outputs": [
    {
     "data": {
      "text/plain": [
       "0.97921306607275427"
      ]
     },
     "execution_count": 11,
     "metadata": {},
     "output_type": "execute_result"
    }
   ],
   "source": [
    "dt.score(trainX,trainY)"
   ]
  },
  {
   "cell_type": "markdown",
   "metadata": {},
   "source": [
    "* Decreasing the complexity of model"
   ]
  },
  {
   "cell_type": "code",
   "execution_count": 98,
   "metadata": {
    "collapsed": true
   },
   "outputs": [],
   "source": [
    "dt = DecisionTreeClassifier(max_depth=4)"
   ]
  },
  {
   "cell_type": "code",
   "execution_count": 99,
   "metadata": {},
   "outputs": [
    {
     "data": {
      "text/plain": [
       "DecisionTreeClassifier(class_weight=None, criterion='gini', max_depth=4,\n",
       "            max_features=None, max_leaf_nodes=None,\n",
       "            min_impurity_decrease=0.0, min_impurity_split=None,\n",
       "            min_samples_leaf=1, min_samples_split=2,\n",
       "            min_weight_fraction_leaf=0.0, presort=False, random_state=None,\n",
       "            splitter='best')"
      ]
     },
     "execution_count": 99,
     "metadata": {},
     "output_type": "execute_result"
    }
   ],
   "source": [
    "dt.fit(trainX,trainY)"
   ]
  },
  {
   "cell_type": "code",
   "execution_count": 100,
   "metadata": {},
   "outputs": [
    {
     "data": {
      "text/plain": [
       "0.92307692307692313"
      ]
     },
     "execution_count": 100,
     "metadata": {},
     "output_type": "execute_result"
    }
   ],
   "source": [
    "dt.score(testX,testY)"
   ]
  },
  {
   "cell_type": "code",
   "execution_count": 101,
   "metadata": {},
   "outputs": [
    {
     "data": {
      "text/plain": [
       "0.98356807511737088"
      ]
     },
     "execution_count": 101,
     "metadata": {},
     "output_type": "execute_result"
    }
   ],
   "source": [
    "dt.score(trainX,trainY)"
   ]
  },
  {
   "cell_type": "markdown",
   "metadata": {},
   "source": [
    "* Observation : With decrease in complexity the gap in training & validation accuracy also decreased"
   ]
  },
  {
   "cell_type": "markdown",
   "metadata": {},
   "source": [
    "#### Cross Validation API\n",
    "* Splits data into k parts.\n",
    "* Use k - 1 parts for training the model\n",
    "* Use kth part for validation\n",
    "* Repeat the above steps multiple times to get a genralized behaviour"
   ]
  },
  {
   "cell_type": "code",
   "execution_count": 102,
   "metadata": {
    "collapsed": true
   },
   "outputs": [],
   "source": [
    "from sklearn.model_selection import cross_val_score"
   ]
  },
  {
   "cell_type": "code",
   "execution_count": 103,
   "metadata": {
    "collapsed": true
   },
   "outputs": [],
   "source": [
    "scores = cross_val_score(dt, digits.data, digits.target, cv =5)"
   ]
  },
  {
   "cell_type": "code",
   "execution_count": 104,
   "metadata": {},
   "outputs": [
    {
     "data": {
      "text/plain": [
       "array([ 0.53021978,  0.46132597,  0.57103064,  0.61064426,  0.54366197])"
      ]
     },
     "execution_count": 104,
     "metadata": {},
     "output_type": "execute_result"
    }
   ],
   "source": [
    "scores"
   ]
  },
  {
   "cell_type": "code",
   "execution_count": 105,
   "metadata": {},
   "outputs": [
    {
     "data": {
      "text/plain": [
       "0.54337652345464005"
      ]
     },
     "execution_count": 105,
     "metadata": {},
     "output_type": "execute_result"
    }
   ],
   "source": [
    "scores.mean()"
   ]
  },
  {
   "cell_type": "markdown",
   "metadata": {},
   "source": [
    "#### Cross-validate Function : Scores for multiple matrices"
   ]
  },
  {
   "cell_type": "code",
   "execution_count": 106,
   "metadata": {
    "collapsed": true
   },
   "outputs": [],
   "source": [
    "from sklearn.model_selection import cross_validate"
   ]
  },
  {
   "cell_type": "code",
   "execution_count": 107,
   "metadata": {
    "collapsed": true
   },
   "outputs": [],
   "source": [
    "scoring = ['precision_macro', 'recall_macro', 'accuracy']"
   ]
  },
  {
   "cell_type": "code",
   "execution_count": 108,
   "metadata": {},
   "outputs": [
    {
     "name": "stderr",
     "output_type": "stream",
     "text": [
      "C:\\ProgramData\\Anaconda3\\lib\\site-packages\\sklearn\\metrics\\classification.py:1135: UndefinedMetricWarning: Precision is ill-defined and being set to 0.0 in labels with no predicted samples.\n",
      "  'precision', 'predicted', average, warn_for)\n",
      "C:\\ProgramData\\Anaconda3\\lib\\site-packages\\sklearn\\metrics\\classification.py:1135: UndefinedMetricWarning: Precision is ill-defined and being set to 0.0 in labels with no predicted samples.\n",
      "  'precision', 'predicted', average, warn_for)\n",
      "C:\\ProgramData\\Anaconda3\\lib\\site-packages\\sklearn\\metrics\\classification.py:1135: UndefinedMetricWarning: Precision is ill-defined and being set to 0.0 in labels with no predicted samples.\n",
      "  'precision', 'predicted', average, warn_for)\n",
      "C:\\ProgramData\\Anaconda3\\lib\\site-packages\\sklearn\\metrics\\classification.py:1135: UndefinedMetricWarning: Precision is ill-defined and being set to 0.0 in labels with no predicted samples.\n",
      "  'precision', 'predicted', average, warn_for)\n",
      "C:\\ProgramData\\Anaconda3\\lib\\site-packages\\sklearn\\metrics\\classification.py:1135: UndefinedMetricWarning: Precision is ill-defined and being set to 0.0 in labels with no predicted samples.\n",
      "  'precision', 'predicted', average, warn_for)\n"
     ]
    },
    {
     "data": {
      "text/plain": [
       "{'fit_time': array([ 0.0139606 ,  0.01595902,  0.01395106,  0.01695275,  0.01397109]),\n",
       " 'score_time': array([ 0.01396394,  0.00698256,  0.00199056,  0.00199342,  0.00198865]),\n",
       " 'test_accuracy': array([ 0.53021978,  0.46132597,  0.56824513,  0.60784314,  0.54647887]),\n",
       " 'test_precision_macro': array([ 0.50877126,  0.50102354,  0.5327599 ,  0.59032273,  0.54591898]),\n",
       " 'test_recall_macro': array([ 0.52687688,  0.45960961,  0.56474045,  0.60706349,  0.54587302]),\n",
       " 'train_accuracy': array([ 0.60572226,  0.58815331,  0.59735744,  0.63055556,  0.58737864]),\n",
       " 'train_precision_macro': array([ 0.66094725,  0.64205351,  0.68889511,  0.63553368,  0.63048621]),\n",
       " 'train_recall_macro': array([ 0.60278046,  0.58475735,  0.59524054,  0.63063456,  0.58665211])}"
      ]
     },
     "execution_count": 108,
     "metadata": {},
     "output_type": "execute_result"
    }
   ],
   "source": [
    "cross_validate(dt, digits.data, digits.target, scoring=scoring, cv=5)"
   ]
  },
  {
   "cell_type": "markdown",
   "metadata": {},
   "source": [
    "#### Stratification for dealing with imbalanced Classes\n",
    "* StratifiedKFold \n",
    "  - Class frequencies are preserved in data splitting"
   ]
  },
  {
   "cell_type": "code",
   "execution_count": 109,
   "metadata": {
    "collapsed": true
   },
   "outputs": [],
   "source": [
    "import numpy as np"
   ]
  },
  {
   "cell_type": "code",
   "execution_count": 110,
   "metadata": {
    "collapsed": true
   },
   "outputs": [],
   "source": [
    "Y = np.append(np.ones(12),np.zeros(6))"
   ]
  },
  {
   "cell_type": "code",
   "execution_count": 111,
   "metadata": {
    "collapsed": true
   },
   "outputs": [],
   "source": [
    "X = np.ones((18,3))"
   ]
  },
  {
   "cell_type": "code",
   "execution_count": 112,
   "metadata": {
    "collapsed": true
   },
   "outputs": [],
   "source": [
    "from sklearn.model_selection import StratifiedKFold"
   ]
  },
  {
   "cell_type": "code",
   "execution_count": 113,
   "metadata": {
    "collapsed": true
   },
   "outputs": [],
   "source": [
    "skf = StratifiedKFold(n_splits=3)"
   ]
  },
  {
   "cell_type": "code",
   "execution_count": 114,
   "metadata": {},
   "outputs": [
    {
     "data": {
      "text/plain": [
       "[(array([ 4,  5,  6,  7,  8,  9, 10, 11, 14, 15, 16, 17]),\n",
       "  array([ 0,  1,  2,  3, 12, 13])),\n",
       " (array([ 0,  1,  2,  3,  8,  9, 10, 11, 12, 13, 16, 17]),\n",
       "  array([ 4,  5,  6,  7, 14, 15])),\n",
       " (array([ 0,  1,  2,  3,  4,  5,  6,  7, 12, 13, 14, 15]),\n",
       "  array([ 8,  9, 10, 11, 16, 17]))]"
      ]
     },
     "execution_count": 114,
     "metadata": {},
     "output_type": "execute_result"
    }
   ],
   "source": [
    "list(skf.split(X,Y))"
   ]
  },
  {
   "cell_type": "code",
   "execution_count": 115,
   "metadata": {},
   "outputs": [
    {
     "data": {
      "text/plain": [
       "array([ 1.,  1.,  1.,  1.,  1.,  1.,  1.,  1.,  0.,  0.,  0.,  0.])"
      ]
     },
     "execution_count": 115,
     "metadata": {},
     "output_type": "execute_result"
    }
   ],
   "source": [
    "Y[[ 4,  5,  6,  7,  8,  9, 10, 11, 14, 15, 16, 17]]"
   ]
  },
  {
   "cell_type": "markdown",
   "metadata": {},
   "source": [
    "### 2. Hyperparameter Tuning\n",
    "* Model parameters are learnt by learning algorithms based on data\n",
    "* Hyper-parameters needs to be configured\n",
    "* Hyper-parameters are data dependent & many times need experiments to find the best\n",
    "* sklearn provides GridSerach for finding the best hyper-parameters\n",
    "\n",
    "##### Exhaustive GridSearch\n",
    "* Searches sequentially for all the configued params\n",
    "* For all possible combinations"
   ]
  },
  {
   "cell_type": "code",
   "execution_count": 116,
   "metadata": {
    "collapsed": true
   },
   "outputs": [],
   "source": [
    "trainX, testX, trainY, testY = train_test_split(digits.data, digits.target)"
   ]
  },
  {
   "cell_type": "code",
   "execution_count": 117,
   "metadata": {
    "collapsed": true
   },
   "outputs": [],
   "source": [
    "dt = DecisionTreeClassifier()"
   ]
  },
  {
   "cell_type": "code",
   "execution_count": 118,
   "metadata": {
    "collapsed": true
   },
   "outputs": [],
   "source": [
    "from sklearn.model_selection import GridSearchCV"
   ]
  },
  {
   "cell_type": "code",
   "execution_count": 119,
   "metadata": {
    "collapsed": true
   },
   "outputs": [],
   "source": [
    "grid_search = GridSearchCV(dt, param_grid={'max_depth':range(5,30,5)}, cv=5)"
   ]
  },
  {
   "cell_type": "code",
   "execution_count": 120,
   "metadata": {},
   "outputs": [
    {
     "data": {
      "text/plain": [
       "GridSearchCV(cv=5, error_score='raise',\n",
       "       estimator=DecisionTreeClassifier(class_weight=None, criterion='gini', max_depth=None,\n",
       "            max_features=None, max_leaf_nodes=None,\n",
       "            min_impurity_decrease=0.0, min_impurity_split=None,\n",
       "            min_samples_leaf=1, min_samples_split=2,\n",
       "            min_weight_fraction_leaf=0.0, presort=False, random_state=None,\n",
       "            splitter='best'),\n",
       "       fit_params=None, iid=True, n_jobs=1,\n",
       "       param_grid={'max_depth': range(5, 30, 5)}, pre_dispatch='2*n_jobs',\n",
       "       refit=True, return_train_score=True, scoring=None, verbose=0)"
      ]
     },
     "execution_count": 120,
     "metadata": {},
     "output_type": "execute_result"
    }
   ],
   "source": [
    "grid_search.fit(digits.data,digits.target)"
   ]
  },
  {
   "cell_type": "code",
   "execution_count": 121,
   "metadata": {},
   "outputs": [
    {
     "data": {
      "text/plain": [
       "{'max_depth': 20}"
      ]
     },
     "execution_count": 121,
     "metadata": {},
     "output_type": "execute_result"
    }
   ],
   "source": [
    "grid_search.best_params_"
   ]
  },
  {
   "cell_type": "code",
   "execution_count": 184,
   "metadata": {},
   "outputs": [
    {
     "data": {
      "text/plain": [
       "{'mean_fit_time': array([ 0.05795527,  0.0542686 ,  0.05857582,  0.04844689,  0.05499535,\n",
       "         0.05406981,  0.06882367,  0.06738153,  0.06605792,  0.0674367 ,\n",
       "         0.06814194,  0.06215234,  0.08372216,  0.06419778,  0.05665255,\n",
       "         0.09465537,  0.10246191,  0.08537593,  0.04291663,  0.0507648 ,\n",
       "         0.0367064 ,  0.04547496,  0.04268665,  0.05714202,  0.05855293,\n",
       "         0.08226056,  0.05864687,  0.06372056,  0.06480961,  0.05685611,\n",
       "         0.0984931 ,  0.08471084,  0.06582146,  0.13145776,  0.14254394,\n",
       "         0.12283244,  0.03530378,  0.04088883,  0.05289474,  0.04408207,\n",
       "         0.05116639,  0.04798422,  0.06123023,  0.05829654,  0.06562638,\n",
       "         0.06043649,  0.05706062,  0.0574564 ,  0.07463999,  0.07421389,\n",
       "         0.07103624,  0.11948619,  0.11690545,  0.11484208,  0.03790264,\n",
       "         0.03880792,  0.03909426,  0.04399781,  0.04238453,  0.04268565,\n",
       "         0.06622505,  0.06263089,  0.06712818,  0.07580328,  0.07299795,\n",
       "         0.06184373,  0.09055853,  0.08886003,  0.08237467,  0.15490012,\n",
       "         0.14951839,  0.13803301]),\n",
       " 'mean_score_time': array([ 0.00558462,  0.00299168,  0.00519671,  0.0039814 ,  0.00438318,\n",
       "         0.00372391,  0.00372682,  0.00358939,  0.00318832,  0.00538702,\n",
       "         0.00578351,  0.00419888,  0.00599313,  0.0047833 ,  0.00319161,\n",
       "         0.00399666,  0.00556979,  0.00358586,  0.00339355,  0.00418997,\n",
       "         0.00298963,  0.00299177,  0.00259619,  0.00359073,  0.00299163,\n",
       "         0.0043828 ,  0.0033957 ,  0.00398302,  0.00368791,  0.00359135,\n",
       "         0.00549173,  0.00451064,  0.00379567,  0.00439086,  0.00451632,\n",
       "         0.00368881,  0.00279589,  0.00318613,  0.00618277,  0.00339127,\n",
       "         0.00319738,  0.00379109,  0.00280089,  0.00297561,  0.00418668,\n",
       "         0.0039937 ,  0.0045835 ,  0.00450034,  0.00339584,  0.00338106,\n",
       "         0.00319743,  0.00399532,  0.00384979,  0.00359511,  0.00298018,\n",
       "         0.00299067,  0.00259318,  0.0031858 ,  0.00258822,  0.00259476,\n",
       "         0.00279627,  0.00299368,  0.00318613,  0.00398831,  0.00458961,\n",
       "         0.004983  ,  0.00398846,  0.00326576,  0.00439935,  0.00338736,\n",
       "         0.00359097,  0.00319157]),\n",
       " 'mean_test_score': array([ 0.75681692,  0.75514747,  0.77184196,  0.79243183,  0.80745687,\n",
       "         0.81135225,  0.78853645,  0.78964942,  0.79855314,  0.89204229,\n",
       "         0.89593767,  0.9081803 ,  0.934335  ,  0.90539789,  0.91875348,\n",
       "         0.92710072,  0.93043962,  0.92042293,  0.74179188,  0.76683361,\n",
       "         0.77351141,  0.80300501,  0.82025598,  0.79632721,  0.80745687,\n",
       "         0.81190874,  0.81858653,  0.89315526,  0.90372844,  0.88981636,\n",
       "         0.92543127,  0.91318865,  0.92710072,  0.92654424,  0.92877017,\n",
       "         0.91819699,  0.75848637,  0.77740679,  0.79521425,  0.80077908,\n",
       "         0.7935448 ,  0.81135225,  0.80523094,  0.80634391,  0.78909293,\n",
       "         0.90539789,  0.91263216,  0.89760712,  0.92431831,  0.92932666,\n",
       "         0.92654424,  0.93043962,  0.93155259,  0.92765721,  0.77128548,\n",
       "         0.73400111,  0.7540345 ,  0.79855314,  0.78631052,  0.79410128,\n",
       "         0.79298831,  0.76293823,  0.80300501,  0.91318865,  0.91708403,\n",
       "         0.91096272,  0.92042293,  0.93043962,  0.91764051,  0.92821369,\n",
       "         0.92988314,  0.92487479]),\n",
       " 'mean_train_score': array([ 0.82915638,  0.82474799,  0.83612315,  0.85654963,  0.86377941,\n",
       "         0.86173075,  0.84268089,  0.86504272,  0.8586555 ,  1.        ,\n",
       "         1.        ,  0.99429432,  0.99986111,  1.        ,  0.99624593,\n",
       "         1.        ,  0.99972193,  0.99791211,  0.82372841,  0.83002976,\n",
       "         0.82807782,  0.86435117,  0.86422427,  0.85532297,  0.87016845,\n",
       "         0.86933695,  0.86685751,  1.        ,  1.        ,  0.99388084,\n",
       "         0.99986043,  0.99986043,  0.99610201,  1.        ,  1.        ,\n",
       "         0.99805265,  0.83890804,  0.84138916,  0.83780615,  0.86547159,\n",
       "         0.86101997,  0.87049621,  0.85087643,  0.84209123,  0.84363935,\n",
       "         1.        ,  1.        ,  0.99930478,  1.        ,  1.        ,\n",
       "         0.99986043,  1.        ,  1.        ,  1.        ,  0.83649073,\n",
       "         0.81273215,  0.83280671,  0.85890631,  0.86381805,  0.86198806,\n",
       "         0.85716598,  0.84598916,  0.87201956,  1.        ,  1.        ,\n",
       "         0.99958265,  1.        ,  1.        ,  0.99986092,  1.        ,\n",
       "         1.        ,  0.99986063]),\n",
       " 'param_bootstrap': masked_array(data = [True True True True True True True True True True True True True True True\n",
       "  True True True True True True True True True True True True True True True\n",
       "  True True True True True True False False False False False False False\n",
       "  False False False False False False False False False False False False\n",
       "  False False False False False False False False False False False False\n",
       "  False False False False False],\n",
       "              mask = [False False False False False False False False False False False False\n",
       "  False False False False False False False False False False False False\n",
       "  False False False False False False False False False False False False\n",
       "  False False False False False False False False False False False False\n",
       "  False False False False False False False False False False False False\n",
       "  False False False False False False False False False False False False],\n",
       "        fill_value = ?),\n",
       " 'param_criterion': masked_array(data = ['gini' 'gini' 'gini' 'gini' 'gini' 'gini' 'gini' 'gini' 'gini' 'gini'\n",
       "  'gini' 'gini' 'gini' 'gini' 'gini' 'gini' 'gini' 'gini' 'entropy'\n",
       "  'entropy' 'entropy' 'entropy' 'entropy' 'entropy' 'entropy' 'entropy'\n",
       "  'entropy' 'entropy' 'entropy' 'entropy' 'entropy' 'entropy' 'entropy'\n",
       "  'entropy' 'entropy' 'entropy' 'gini' 'gini' 'gini' 'gini' 'gini' 'gini'\n",
       "  'gini' 'gini' 'gini' 'gini' 'gini' 'gini' 'gini' 'gini' 'gini' 'gini'\n",
       "  'gini' 'gini' 'entropy' 'entropy' 'entropy' 'entropy' 'entropy' 'entropy'\n",
       "  'entropy' 'entropy' 'entropy' 'entropy' 'entropy' 'entropy' 'entropy'\n",
       "  'entropy' 'entropy' 'entropy' 'entropy' 'entropy'],\n",
       "              mask = [False False False False False False False False False False False False\n",
       "  False False False False False False False False False False False False\n",
       "  False False False False False False False False False False False False\n",
       "  False False False False False False False False False False False False\n",
       "  False False False False False False False False False False False False\n",
       "  False False False False False False False False False False False False],\n",
       "        fill_value = ?),\n",
       " 'param_max_depth': masked_array(data = [3 3 3 3 3 3 3 3 3 None None None None None None None None None 3 3 3 3 3 3\n",
       "  3 3 3 None None None None None None None None None 3 3 3 3 3 3 3 3 3 None\n",
       "  None None None None None None None None 3 3 3 3 3 3 3 3 3 None None None\n",
       "  None None None None None None],\n",
       "              mask = [False False False False False False False False False False False False\n",
       "  False False False False False False False False False False False False\n",
       "  False False False False False False False False False False False False\n",
       "  False False False False False False False False False False False False\n",
       "  False False False False False False False False False False False False\n",
       "  False False False False False False False False False False False False],\n",
       "        fill_value = ?),\n",
       " 'param_max_features': masked_array(data = [1 1 1 3 3 3 10 10 10 1 1 1 3 3 3 10 10 10 1 1 1 3 3 3 10 10 10 1 1 1 3 3 3\n",
       "  10 10 10 1 1 1 3 3 3 10 10 10 1 1 1 3 3 3 10 10 10 1 1 1 3 3 3 10 10 10 1\n",
       "  1 1 3 3 3 10 10 10],\n",
       "              mask = [False False False False False False False False False False False False\n",
       "  False False False False False False False False False False False False\n",
       "  False False False False False False False False False False False False\n",
       "  False False False False False False False False False False False False\n",
       "  False False False False False False False False False False False False\n",
       "  False False False False False False False False False False False False],\n",
       "        fill_value = ?),\n",
       " 'param_min_samples_split': masked_array(data = [2 3 10 2 3 10 2 3 10 2 3 10 2 3 10 2 3 10 2 3 10 2 3 10 2 3 10 2 3 10 2 3\n",
       "  10 2 3 10 2 3 10 2 3 10 2 3 10 2 3 10 2 3 10 2 3 10 2 3 10 2 3 10 2 3 10 2\n",
       "  3 10 2 3 10 2 3 10],\n",
       "              mask = [False False False False False False False False False False False False\n",
       "  False False False False False False False False False False False False\n",
       "  False False False False False False False False False False False False\n",
       "  False False False False False False False False False False False False\n",
       "  False False False False False False False False False False False False\n",
       "  False False False False False False False False False False False False],\n",
       "        fill_value = ?),\n",
       " 'params': [{'bootstrap': True,\n",
       "   'criterion': 'gini',\n",
       "   'max_depth': 3,\n",
       "   'max_features': 1,\n",
       "   'min_samples_split': 2},\n",
       "  {'bootstrap': True,\n",
       "   'criterion': 'gini',\n",
       "   'max_depth': 3,\n",
       "   'max_features': 1,\n",
       "   'min_samples_split': 3},\n",
       "  {'bootstrap': True,\n",
       "   'criterion': 'gini',\n",
       "   'max_depth': 3,\n",
       "   'max_features': 1,\n",
       "   'min_samples_split': 10},\n",
       "  {'bootstrap': True,\n",
       "   'criterion': 'gini',\n",
       "   'max_depth': 3,\n",
       "   'max_features': 3,\n",
       "   'min_samples_split': 2},\n",
       "  {'bootstrap': True,\n",
       "   'criterion': 'gini',\n",
       "   'max_depth': 3,\n",
       "   'max_features': 3,\n",
       "   'min_samples_split': 3},\n",
       "  {'bootstrap': True,\n",
       "   'criterion': 'gini',\n",
       "   'max_depth': 3,\n",
       "   'max_features': 3,\n",
       "   'min_samples_split': 10},\n",
       "  {'bootstrap': True,\n",
       "   'criterion': 'gini',\n",
       "   'max_depth': 3,\n",
       "   'max_features': 10,\n",
       "   'min_samples_split': 2},\n",
       "  {'bootstrap': True,\n",
       "   'criterion': 'gini',\n",
       "   'max_depth': 3,\n",
       "   'max_features': 10,\n",
       "   'min_samples_split': 3},\n",
       "  {'bootstrap': True,\n",
       "   'criterion': 'gini',\n",
       "   'max_depth': 3,\n",
       "   'max_features': 10,\n",
       "   'min_samples_split': 10},\n",
       "  {'bootstrap': True,\n",
       "   'criterion': 'gini',\n",
       "   'max_depth': None,\n",
       "   'max_features': 1,\n",
       "   'min_samples_split': 2},\n",
       "  {'bootstrap': True,\n",
       "   'criterion': 'gini',\n",
       "   'max_depth': None,\n",
       "   'max_features': 1,\n",
       "   'min_samples_split': 3},\n",
       "  {'bootstrap': True,\n",
       "   'criterion': 'gini',\n",
       "   'max_depth': None,\n",
       "   'max_features': 1,\n",
       "   'min_samples_split': 10},\n",
       "  {'bootstrap': True,\n",
       "   'criterion': 'gini',\n",
       "   'max_depth': None,\n",
       "   'max_features': 3,\n",
       "   'min_samples_split': 2},\n",
       "  {'bootstrap': True,\n",
       "   'criterion': 'gini',\n",
       "   'max_depth': None,\n",
       "   'max_features': 3,\n",
       "   'min_samples_split': 3},\n",
       "  {'bootstrap': True,\n",
       "   'criterion': 'gini',\n",
       "   'max_depth': None,\n",
       "   'max_features': 3,\n",
       "   'min_samples_split': 10},\n",
       "  {'bootstrap': True,\n",
       "   'criterion': 'gini',\n",
       "   'max_depth': None,\n",
       "   'max_features': 10,\n",
       "   'min_samples_split': 2},\n",
       "  {'bootstrap': True,\n",
       "   'criterion': 'gini',\n",
       "   'max_depth': None,\n",
       "   'max_features': 10,\n",
       "   'min_samples_split': 3},\n",
       "  {'bootstrap': True,\n",
       "   'criterion': 'gini',\n",
       "   'max_depth': None,\n",
       "   'max_features': 10,\n",
       "   'min_samples_split': 10},\n",
       "  {'bootstrap': True,\n",
       "   'criterion': 'entropy',\n",
       "   'max_depth': 3,\n",
       "   'max_features': 1,\n",
       "   'min_samples_split': 2},\n",
       "  {'bootstrap': True,\n",
       "   'criterion': 'entropy',\n",
       "   'max_depth': 3,\n",
       "   'max_features': 1,\n",
       "   'min_samples_split': 3},\n",
       "  {'bootstrap': True,\n",
       "   'criterion': 'entropy',\n",
       "   'max_depth': 3,\n",
       "   'max_features': 1,\n",
       "   'min_samples_split': 10},\n",
       "  {'bootstrap': True,\n",
       "   'criterion': 'entropy',\n",
       "   'max_depth': 3,\n",
       "   'max_features': 3,\n",
       "   'min_samples_split': 2},\n",
       "  {'bootstrap': True,\n",
       "   'criterion': 'entropy',\n",
       "   'max_depth': 3,\n",
       "   'max_features': 3,\n",
       "   'min_samples_split': 3},\n",
       "  {'bootstrap': True,\n",
       "   'criterion': 'entropy',\n",
       "   'max_depth': 3,\n",
       "   'max_features': 3,\n",
       "   'min_samples_split': 10},\n",
       "  {'bootstrap': True,\n",
       "   'criterion': 'entropy',\n",
       "   'max_depth': 3,\n",
       "   'max_features': 10,\n",
       "   'min_samples_split': 2},\n",
       "  {'bootstrap': True,\n",
       "   'criterion': 'entropy',\n",
       "   'max_depth': 3,\n",
       "   'max_features': 10,\n",
       "   'min_samples_split': 3},\n",
       "  {'bootstrap': True,\n",
       "   'criterion': 'entropy',\n",
       "   'max_depth': 3,\n",
       "   'max_features': 10,\n",
       "   'min_samples_split': 10},\n",
       "  {'bootstrap': True,\n",
       "   'criterion': 'entropy',\n",
       "   'max_depth': None,\n",
       "   'max_features': 1,\n",
       "   'min_samples_split': 2},\n",
       "  {'bootstrap': True,\n",
       "   'criterion': 'entropy',\n",
       "   'max_depth': None,\n",
       "   'max_features': 1,\n",
       "   'min_samples_split': 3},\n",
       "  {'bootstrap': True,\n",
       "   'criterion': 'entropy',\n",
       "   'max_depth': None,\n",
       "   'max_features': 1,\n",
       "   'min_samples_split': 10},\n",
       "  {'bootstrap': True,\n",
       "   'criterion': 'entropy',\n",
       "   'max_depth': None,\n",
       "   'max_features': 3,\n",
       "   'min_samples_split': 2},\n",
       "  {'bootstrap': True,\n",
       "   'criterion': 'entropy',\n",
       "   'max_depth': None,\n",
       "   'max_features': 3,\n",
       "   'min_samples_split': 3},\n",
       "  {'bootstrap': True,\n",
       "   'criterion': 'entropy',\n",
       "   'max_depth': None,\n",
       "   'max_features': 3,\n",
       "   'min_samples_split': 10},\n",
       "  {'bootstrap': True,\n",
       "   'criterion': 'entropy',\n",
       "   'max_depth': None,\n",
       "   'max_features': 10,\n",
       "   'min_samples_split': 2},\n",
       "  {'bootstrap': True,\n",
       "   'criterion': 'entropy',\n",
       "   'max_depth': None,\n",
       "   'max_features': 10,\n",
       "   'min_samples_split': 3},\n",
       "  {'bootstrap': True,\n",
       "   'criterion': 'entropy',\n",
       "   'max_depth': None,\n",
       "   'max_features': 10,\n",
       "   'min_samples_split': 10},\n",
       "  {'bootstrap': False,\n",
       "   'criterion': 'gini',\n",
       "   'max_depth': 3,\n",
       "   'max_features': 1,\n",
       "   'min_samples_split': 2},\n",
       "  {'bootstrap': False,\n",
       "   'criterion': 'gini',\n",
       "   'max_depth': 3,\n",
       "   'max_features': 1,\n",
       "   'min_samples_split': 3},\n",
       "  {'bootstrap': False,\n",
       "   'criterion': 'gini',\n",
       "   'max_depth': 3,\n",
       "   'max_features': 1,\n",
       "   'min_samples_split': 10},\n",
       "  {'bootstrap': False,\n",
       "   'criterion': 'gini',\n",
       "   'max_depth': 3,\n",
       "   'max_features': 3,\n",
       "   'min_samples_split': 2},\n",
       "  {'bootstrap': False,\n",
       "   'criterion': 'gini',\n",
       "   'max_depth': 3,\n",
       "   'max_features': 3,\n",
       "   'min_samples_split': 3},\n",
       "  {'bootstrap': False,\n",
       "   'criterion': 'gini',\n",
       "   'max_depth': 3,\n",
       "   'max_features': 3,\n",
       "   'min_samples_split': 10},\n",
       "  {'bootstrap': False,\n",
       "   'criterion': 'gini',\n",
       "   'max_depth': 3,\n",
       "   'max_features': 10,\n",
       "   'min_samples_split': 2},\n",
       "  {'bootstrap': False,\n",
       "   'criterion': 'gini',\n",
       "   'max_depth': 3,\n",
       "   'max_features': 10,\n",
       "   'min_samples_split': 3},\n",
       "  {'bootstrap': False,\n",
       "   'criterion': 'gini',\n",
       "   'max_depth': 3,\n",
       "   'max_features': 10,\n",
       "   'min_samples_split': 10},\n",
       "  {'bootstrap': False,\n",
       "   'criterion': 'gini',\n",
       "   'max_depth': None,\n",
       "   'max_features': 1,\n",
       "   'min_samples_split': 2},\n",
       "  {'bootstrap': False,\n",
       "   'criterion': 'gini',\n",
       "   'max_depth': None,\n",
       "   'max_features': 1,\n",
       "   'min_samples_split': 3},\n",
       "  {'bootstrap': False,\n",
       "   'criterion': 'gini',\n",
       "   'max_depth': None,\n",
       "   'max_features': 1,\n",
       "   'min_samples_split': 10},\n",
       "  {'bootstrap': False,\n",
       "   'criterion': 'gini',\n",
       "   'max_depth': None,\n",
       "   'max_features': 3,\n",
       "   'min_samples_split': 2},\n",
       "  {'bootstrap': False,\n",
       "   'criterion': 'gini',\n",
       "   'max_depth': None,\n",
       "   'max_features': 3,\n",
       "   'min_samples_split': 3},\n",
       "  {'bootstrap': False,\n",
       "   'criterion': 'gini',\n",
       "   'max_depth': None,\n",
       "   'max_features': 3,\n",
       "   'min_samples_split': 10},\n",
       "  {'bootstrap': False,\n",
       "   'criterion': 'gini',\n",
       "   'max_depth': None,\n",
       "   'max_features': 10,\n",
       "   'min_samples_split': 2},\n",
       "  {'bootstrap': False,\n",
       "   'criterion': 'gini',\n",
       "   'max_depth': None,\n",
       "   'max_features': 10,\n",
       "   'min_samples_split': 3},\n",
       "  {'bootstrap': False,\n",
       "   'criterion': 'gini',\n",
       "   'max_depth': None,\n",
       "   'max_features': 10,\n",
       "   'min_samples_split': 10},\n",
       "  {'bootstrap': False,\n",
       "   'criterion': 'entropy',\n",
       "   'max_depth': 3,\n",
       "   'max_features': 1,\n",
       "   'min_samples_split': 2},\n",
       "  {'bootstrap': False,\n",
       "   'criterion': 'entropy',\n",
       "   'max_depth': 3,\n",
       "   'max_features': 1,\n",
       "   'min_samples_split': 3},\n",
       "  {'bootstrap': False,\n",
       "   'criterion': 'entropy',\n",
       "   'max_depth': 3,\n",
       "   'max_features': 1,\n",
       "   'min_samples_split': 10},\n",
       "  {'bootstrap': False,\n",
       "   'criterion': 'entropy',\n",
       "   'max_depth': 3,\n",
       "   'max_features': 3,\n",
       "   'min_samples_split': 2},\n",
       "  {'bootstrap': False,\n",
       "   'criterion': 'entropy',\n",
       "   'max_depth': 3,\n",
       "   'max_features': 3,\n",
       "   'min_samples_split': 3},\n",
       "  {'bootstrap': False,\n",
       "   'criterion': 'entropy',\n",
       "   'max_depth': 3,\n",
       "   'max_features': 3,\n",
       "   'min_samples_split': 10},\n",
       "  {'bootstrap': False,\n",
       "   'criterion': 'entropy',\n",
       "   'max_depth': 3,\n",
       "   'max_features': 10,\n",
       "   'min_samples_split': 2},\n",
       "  {'bootstrap': False,\n",
       "   'criterion': 'entropy',\n",
       "   'max_depth': 3,\n",
       "   'max_features': 10,\n",
       "   'min_samples_split': 3},\n",
       "  {'bootstrap': False,\n",
       "   'criterion': 'entropy',\n",
       "   'max_depth': 3,\n",
       "   'max_features': 10,\n",
       "   'min_samples_split': 10},\n",
       "  {'bootstrap': False,\n",
       "   'criterion': 'entropy',\n",
       "   'max_depth': None,\n",
       "   'max_features': 1,\n",
       "   'min_samples_split': 2},\n",
       "  {'bootstrap': False,\n",
       "   'criterion': 'entropy',\n",
       "   'max_depth': None,\n",
       "   'max_features': 1,\n",
       "   'min_samples_split': 3},\n",
       "  {'bootstrap': False,\n",
       "   'criterion': 'entropy',\n",
       "   'max_depth': None,\n",
       "   'max_features': 1,\n",
       "   'min_samples_split': 10},\n",
       "  {'bootstrap': False,\n",
       "   'criterion': 'entropy',\n",
       "   'max_depth': None,\n",
       "   'max_features': 3,\n",
       "   'min_samples_split': 2},\n",
       "  {'bootstrap': False,\n",
       "   'criterion': 'entropy',\n",
       "   'max_depth': None,\n",
       "   'max_features': 3,\n",
       "   'min_samples_split': 3},\n",
       "  {'bootstrap': False,\n",
       "   'criterion': 'entropy',\n",
       "   'max_depth': None,\n",
       "   'max_features': 3,\n",
       "   'min_samples_split': 10},\n",
       "  {'bootstrap': False,\n",
       "   'criterion': 'entropy',\n",
       "   'max_depth': None,\n",
       "   'max_features': 10,\n",
       "   'min_samples_split': 2},\n",
       "  {'bootstrap': False,\n",
       "   'criterion': 'entropy',\n",
       "   'max_depth': None,\n",
       "   'max_features': 10,\n",
       "   'min_samples_split': 3},\n",
       "  {'bootstrap': False,\n",
       "   'criterion': 'entropy',\n",
       "   'max_depth': None,\n",
       "   'max_features': 10,\n",
       "   'min_samples_split': 10}],\n",
       " 'rank_test_score': array([68, 69, 63, 56, 42, 40, 59, 57, 49, 35, 33, 28,  1, 29, 20, 11,  3,\n",
       "        18, 71, 65, 62, 46, 37, 51, 42, 39, 38, 34, 31, 36, 15, 24, 11, 13,\n",
       "         8, 21, 67, 61, 52, 48, 54, 40, 45, 44, 58, 29, 26, 32, 17,  7, 13,\n",
       "         3,  2, 10, 64, 72, 70, 49, 60, 53, 55, 66, 46, 24, 23, 27, 18,  3,\n",
       "        22,  9,  6, 16]),\n",
       " 'split0_test_score': array([ 0.81043956,  0.78846154,  0.75549451,  0.78571429,  0.80494505,\n",
       "         0.84340659,  0.81868132,  0.79395604,  0.82142857,  0.87912088,\n",
       "         0.89285714,  0.89835165,  0.92857143,  0.90384615,  0.90934066,\n",
       "         0.93681319,  0.90934066,  0.91758242,  0.75274725,  0.79395604,\n",
       "         0.81043956,  0.80494505,  0.85714286,  0.82692308,  0.81593407,\n",
       "         0.84340659,  0.80769231,  0.88736264,  0.90659341,  0.85989011,\n",
       "         0.91758242,  0.90934066,  0.92307692,  0.90934066,  0.93131868,\n",
       "         0.92582418,  0.80494505,  0.72527473,  0.81868132,  0.82967033,\n",
       "         0.7967033 ,  0.81868132,  0.8543956 ,  0.82417582,  0.86263736,\n",
       "         0.9010989 ,  0.91208791,  0.91208791,  0.93406593,  0.91208791,\n",
       "         0.90659341,  0.91208791,  0.92582418,  0.93681319,  0.76648352,\n",
       "         0.73901099,  0.81318681,  0.79120879,  0.81593407,  0.84065934,\n",
       "         0.81318681,  0.74450549,  0.81593407,  0.90934066,  0.92307692,\n",
       "         0.90659341,  0.89285714,  0.93681319,  0.92582418,  0.90384615,\n",
       "         0.94230769,  0.91208791]),\n",
       " 'split0_train_score': array([ 0.84508025,  0.84996511,  0.84089323,  0.83182135,  0.84019539,\n",
       "         0.86810886,  0.8611305 ,  0.85833915,  0.84996511,  1.        ,\n",
       "         1.        ,  0.9923238 ,  1.        ,  1.        ,  0.99790649,\n",
       "         1.        ,  1.        ,  0.99720865,  0.80949058,  0.86043266,\n",
       "         0.83182135,  0.86322401,  0.86601535,  0.85345429,  0.85694348,\n",
       "         0.85136078,  0.85066294,  1.        ,  1.        ,  0.99581298,\n",
       "         0.99930216,  0.99930216,  0.99441731,  1.        ,  1.        ,\n",
       "         0.99860433,  0.85833915,  0.8136776 ,  0.83321703,  0.88276343,\n",
       "         0.86810886,  0.86322401,  0.85764131,  0.8422889 ,  0.85066294,\n",
       "         1.        ,  1.        ,  0.99930216,  1.        ,  1.        ,\n",
       "         0.99930216,  1.        ,  1.        ,  1.        ,  0.8004187 ,\n",
       "         0.81437544,  0.86252617,  0.82972784,  0.87997209,  0.89323098,\n",
       "         0.87159805,  0.83112352,  0.87299372,  1.        ,  1.        ,\n",
       "         0.99930216,  1.        ,  1.        ,  1.        ,  1.        ,\n",
       "         1.        ,  1.        ]),\n",
       " 'split1_test_score': array([ 0.64088398,  0.70994475,  0.71546961,  0.75966851,  0.75690608,\n",
       "         0.77348066,  0.75690608,  0.78176796,  0.72375691,  0.88121547,\n",
       "         0.85911602,  0.89502762,  0.90883978,  0.86187845,  0.87569061,\n",
       "         0.8839779 ,  0.90607735,  0.87292818,  0.69889503,  0.71546961,\n",
       "         0.75966851,  0.77900552,  0.78729282,  0.77900552,  0.74033149,\n",
       "         0.77624309,  0.79834254,  0.87016575,  0.86187845,  0.88121547,\n",
       "         0.88121547,  0.87845304,  0.87292818,  0.89779006,  0.89502762,\n",
       "         0.87292818,  0.66850829,  0.73756906,  0.75138122,  0.75414365,\n",
       "         0.78453039,  0.76243094,  0.73756906,  0.78176796,  0.74861878,\n",
       "         0.86464088,  0.89226519,  0.89226519,  0.90055249,  0.90331492,\n",
       "         0.88950276,  0.89502762,  0.89779006,  0.88121547,  0.70165746,\n",
       "         0.66574586,  0.67679558,  0.79834254,  0.74033149,  0.72651934,\n",
       "         0.77900552,  0.72928177,  0.78453039,  0.86740331,  0.8839779 ,\n",
       "         0.86187845,  0.8839779 ,  0.88121547,  0.88674033,  0.90055249,\n",
       "         0.87292818,  0.89502762]),\n",
       " 'split1_train_score': array([ 0.80557491,  0.83763066,  0.83554007,  0.87317073,  0.86620209,\n",
       "         0.88292683,  0.86062718,  0.8738676 ,  0.86829268,  1.        ,\n",
       "         1.        ,  0.99512195,  1.        ,  1.        ,  0.99651568,\n",
       "         1.        ,  0.99930314,  0.99790941,  0.83554007,  0.82926829,\n",
       "         0.85714286,  0.86341463,  0.871777  ,  0.87735192,  0.85714286,\n",
       "         0.86759582,  0.88013937,  1.        ,  1.        ,  0.99372822,\n",
       "         1.        ,  1.        ,  0.99581882,  1.        ,  1.        ,\n",
       "         0.99860627,  0.82857143,  0.84808362,  0.86620209,  0.84808362,\n",
       "         0.8641115 ,  0.90174216,  0.87456446,  0.83205575,  0.84878049,\n",
       "         1.        ,  1.        ,  0.99930314,  1.        ,  1.        ,\n",
       "         1.        ,  1.        ,  1.        ,  1.        ,  0.83484321,\n",
       "         0.77630662,  0.84181185,  0.87665505,  0.86202091,  0.81602787,\n",
       "         0.89616725,  0.8815331 ,  0.88362369,  1.        ,  1.        ,\n",
       "         1.        ,  1.        ,  1.        ,  1.        ,  1.        ,\n",
       "         1.        ,  0.99930314]),\n",
       " 'split2_test_score': array([ 0.77158774,  0.79108635,  0.77994429,  0.7632312 ,  0.85793872,\n",
       "         0.80501393,  0.77437326,  0.81058496,  0.8189415 ,  0.89415042,\n",
       "         0.90250696,  0.91643454,  0.9637883 ,  0.92200557,  0.93871866,\n",
       "         0.94707521,  0.94986072,  0.94707521,  0.74930362,  0.7994429 ,\n",
       "         0.78272981,  0.80779944,  0.83008357,  0.79108635,  0.81337047,\n",
       "         0.79665738,  0.8189415 ,  0.91643454,  0.91643454,  0.8913649 ,\n",
       "         0.95543175,  0.93314763,  0.95543175,  0.96657382,  0.94986072,\n",
       "         0.93593315,  0.77437326,  0.8551532 ,  0.79387187,  0.77158774,\n",
       "         0.79108635,  0.81337047,  0.81615599,  0.8189415 ,  0.78551532,\n",
       "         0.92200557,  0.92200557,  0.88300836,  0.94428969,  0.95821727,\n",
       "         0.93871866,  0.94428969,  0.9637883 ,  0.96100279,  0.77158774,\n",
       "         0.76601671,  0.76880223,  0.83286908,  0.79665738,  0.81615599,\n",
       "         0.77994429,  0.77715877,  0.80501393,  0.94707521,  0.91922006,\n",
       "         0.90807799,  0.95264624,  0.94986072,  0.91922006,  0.96657382,\n",
       "         0.95543175,  0.94428969]),\n",
       " 'split2_train_score': array([ 0.84144645,  0.83588317,  0.84075104,  0.85952712,  0.88873435,\n",
       "         0.84561892,  0.83240612,  0.86230876,  0.86926287,  1.        ,\n",
       "         1.        ,  0.99513213,  1.        ,  1.        ,  0.99652295,\n",
       "         1.        ,  1.        ,  0.99721836,  0.81919332,  0.8449235 ,\n",
       "         0.8379694 ,  0.87273992,  0.87413074,  0.83727399,  0.86230876,\n",
       "         0.86369958,  0.8713491 ,  1.        ,  1.        ,  0.99443672,\n",
       "         1.        ,  1.        ,  0.99513213,  1.        ,  1.        ,\n",
       "         0.99652295,  0.84770515,  0.86439499,  0.84631433,  0.86787204,\n",
       "         0.85187761,  0.86856745,  0.84840056,  0.84909597,  0.86091794,\n",
       "         1.        ,  1.        ,  1.        ,  1.        ,  1.        ,\n",
       "         1.        ,  1.        ,  1.        ,  1.        ,  0.83936022,\n",
       "         0.85396384,  0.82058414,  0.86369958,  0.86717663,  0.87899861,\n",
       "         0.84422809,  0.82614743,  0.86926287,  1.        ,  1.        ,\n",
       "         1.        ,  1.        ,  1.        ,  0.99930459,  1.        ,\n",
       "         1.        ,  1.        ]),\n",
       " 'split3_test_score': array([ 0.81232493,  0.75630252,  0.88795518,  0.87955182,  0.81792717,\n",
       "         0.82913165,  0.80672269,  0.78151261,  0.82633053,  0.92717087,\n",
       "         0.93557423,  0.94677871,  0.96638655,  0.95238095,  0.96078431,\n",
       "         0.95518207,  0.96638655,  0.94677871,  0.80672269,  0.77310924,\n",
       "         0.80672269,  0.83753501,  0.84593838,  0.80112045,  0.8907563 ,\n",
       "         0.84313725,  0.87114846,  0.92997199,  0.95798319,  0.94677871,\n",
       "         0.96358543,  0.94677871,  0.96638655,  0.95238095,  0.94397759,\n",
       "         0.94677871,  0.80392157,  0.83753501,  0.85714286,  0.84593838,\n",
       "         0.84033613,  0.88515406,  0.82633053,  0.82913165,  0.76470588,\n",
       "         0.94957983,  0.93837535,  0.94117647,  0.93277311,  0.96638655,\n",
       "         0.96078431,  0.98039216,  0.95518207,  0.95798319,  0.85714286,\n",
       "         0.82072829,  0.78991597,  0.77591036,  0.81232493,  0.81792717,\n",
       "         0.84033613,  0.75630252,  0.82072829,  0.93837535,  0.96078431,\n",
       "         0.96638655,  0.95798319,  0.96078431,  0.96638655,  0.94957983,\n",
       "         0.96078431,  0.96078431]),\n",
       " 'split3_train_score': array([ 0.80347222,  0.78819444,  0.83402778,  0.84305556,  0.83472222,\n",
       "         0.85138889,  0.8125    ,  0.83333333,  0.85069444,  1.        ,\n",
       "         1.        ,  0.99236111,  0.99930556,  1.        ,  0.99513889,\n",
       "         1.        ,  1.        ,  0.99861111,  0.83541667,  0.79305556,\n",
       "         0.80138889,  0.83402778,  0.83194444,  0.85347222,  0.87638889,\n",
       "         0.86458333,  0.87013889,  1.        ,  1.        ,  0.99236111,\n",
       "         1.        ,  1.        ,  0.99722222,  1.        ,  1.        ,\n",
       "         0.99791667,  0.80555556,  0.84930556,  0.81736111,  0.84861111,\n",
       "         0.84236111,  0.86111111,  0.79236111,  0.83819444,  0.79930556,\n",
       "         1.        ,  1.        ,  0.99930556,  1.        ,  1.        ,\n",
       "         1.        ,  1.        ,  1.        ,  1.        ,  0.84652778,\n",
       "         0.80972222,  0.79930556,  0.82777778,  0.85277778,  0.83333333,\n",
       "         0.83611111,  0.81319444,  0.87083333,  1.        ,  1.        ,\n",
       "         0.99861111,  1.        ,  1.        ,  1.        ,  1.        ,\n",
       "         1.        ,  1.        ]),\n",
       " 'split4_test_score': array([ 0.74929577,  0.72957746,  0.72112676,  0.77464789,  0.8       ,\n",
       "         0.8056338 ,  0.78591549,  0.78028169,  0.8028169 ,  0.87887324,\n",
       "         0.89014085,  0.88450704,  0.90422535,  0.88732394,  0.90985915,\n",
       "         0.91267606,  0.92112676,  0.91830986,  0.70140845,  0.75211268,\n",
       "         0.70704225,  0.78591549,  0.78028169,  0.78309859,  0.77746479,\n",
       "         0.8       ,  0.7971831 ,  0.86197183,  0.87605634,  0.87042254,\n",
       "         0.90985915,  0.89859155,  0.91830986,  0.90704225,  0.92394366,\n",
       "         0.90985915,  0.74084507,  0.73239437,  0.75492958,  0.8028169 ,\n",
       "         0.75492958,  0.77746479,  0.7915493 ,  0.77746479,  0.78309859,\n",
       "         0.89014085,  0.89859155,  0.85915493,  0.90985915,  0.90704225,\n",
       "         0.93802817,  0.92112676,  0.91549296,  0.90140845,  0.76056338,\n",
       "         0.67887324,  0.72112676,  0.7943662 ,  0.76619718,  0.76901408,\n",
       "         0.75211268,  0.8084507 ,  0.78873239,  0.90422535,  0.89859155,\n",
       "         0.91267606,  0.91549296,  0.92394366,  0.89014085,  0.92112676,\n",
       "         0.91830986,  0.91267606]),\n",
       " 'split4_train_score': array([ 0.85020804,  0.81206657,  0.82940361,  0.87517337,  0.889043  ,\n",
       "         0.86061026,  0.84674064,  0.89736477,  0.85506241,  1.        ,\n",
       "         1.        ,  0.99653259,  1.        ,  1.        ,  0.99514563,\n",
       "         1.        ,  0.99930652,  0.99861304,  0.81900139,  0.82246879,\n",
       "         0.81206657,  0.88834951,  0.87725381,  0.85506241,  0.89805825,\n",
       "         0.89944521,  0.86199723,  1.        ,  1.        ,  0.99306519,\n",
       "         1.        ,  1.        ,  0.99791956,  1.        ,  1.        ,\n",
       "         0.99861304,  0.85436893,  0.83148405,  0.8259362 ,  0.88002774,\n",
       "         0.87864078,  0.85783634,  0.8814147 ,  0.84882108,  0.85852982,\n",
       "         1.        ,  1.        ,  0.99861304,  1.        ,  1.        ,\n",
       "         1.        ,  1.        ,  1.        ,  1.        ,  0.86130374,\n",
       "         0.80929265,  0.83980583,  0.89667129,  0.85714286,  0.88834951,\n",
       "         0.83772538,  0.8779473 ,  0.86338419,  1.        ,  1.        ,\n",
       "         1.        ,  1.        ,  1.        ,  1.        ,  1.        ,\n",
       "         1.        ,  1.        ]),\n",
       " 'std_fit_time': array([ 0.00828634,  0.01147389,  0.00826827,  0.00838308,  0.00345437,\n",
       "         0.01134179,  0.01573994,  0.01083718,  0.00906742,  0.01320437,\n",
       "         0.01337552,  0.01348344,  0.00942172,  0.00833344,  0.0036922 ,\n",
       "         0.0051585 ,  0.00967568,  0.00135415,  0.00378217,  0.00814384,\n",
       "         0.00410044,  0.00166621,  0.00330131,  0.01067032,  0.00197443,\n",
       "         0.00669169,  0.00284881,  0.00280933,  0.00374404,  0.00372912,\n",
       "         0.00845185,  0.01111481,  0.00302803,  0.02511424,  0.01713123,\n",
       "         0.01805016,  0.00371112,  0.00671301,  0.00619158,  0.00270633,\n",
       "         0.01076561,  0.00708316,  0.00365273,  0.00232759,  0.00723872,\n",
       "         0.00299753,  0.00291438,  0.00507205,  0.00228485,  0.00299372,\n",
       "         0.00156527,  0.00330768,  0.00325992,  0.00207484,  0.00446727,\n",
       "         0.00166836,  0.00415111,  0.00286036,  0.00199416,  0.00291692,\n",
       "         0.00134688,  0.00170845,  0.0016517 ,  0.00560478,  0.00495881,\n",
       "         0.00176276,  0.00485602,  0.00433346,  0.00411382,  0.00493379,\n",
       "         0.00156027,  0.00299129]),\n",
       " 'std_score_time': array([  4.21625050e-03,   6.28946223e-04,   1.71963467e-03,\n",
       "          1.08677709e-03,   1.48685467e-03,   1.21734625e-03,\n",
       "          1.73506606e-03,   7.97559561e-04,   1.46652182e-03,\n",
       "          1.35425187e-03,   1.93218522e-03,   7.51566908e-04,\n",
       "          2.09570323e-03,   1.16577944e-03,   3.98088826e-04,\n",
       "          1.26055756e-03,   3.72428523e-03,   7.89793237e-04,\n",
       "          8.02067522e-04,   2.47581488e-03,   3.12455443e-04,\n",
       "          6.31580538e-04,   7.96376549e-04,   1.19879161e-03,\n",
       "          6.24511341e-04,   1.01745855e-03,   8.06738220e-04,\n",
       "          1.01567434e-05,   3.99815983e-04,   4.90224207e-04,\n",
       "          1.68133064e-03,   8.72433389e-04,   1.15578174e-03,\n",
       "          1.35654373e-03,   9.32844826e-04,   7.47858681e-04,\n",
       "          7.43937021e-04,   3.89879877e-04,   5.02219712e-03,\n",
       "          5.05602853e-04,   9.74260017e-04,   7.41950145e-04,\n",
       "          7.42941526e-04,   6.30755745e-04,   1.15897897e-03,\n",
       "          8.97715882e-04,   1.73711017e-03,   1.04494325e-03,\n",
       "          4.86105499e-04,   4.94681251e-04,   4.06743857e-04,\n",
       "          6.33066610e-04,   4.53946205e-04,   4.93081510e-04,\n",
       "          6.28657223e-04,   6.31135427e-04,   4.88636295e-04,\n",
       "          9.79256957e-04,   4.85227332e-04,   4.88482477e-04,\n",
       "          4.09162310e-04,   8.93725515e-04,   4.02867877e-04,\n",
       "          8.92712585e-04,   1.35300980e-03,   1.79710791e-03,\n",
       "          6.30526507e-04,   3.95487100e-04,   1.01972781e-03,\n",
       "          4.83927009e-04,   4.89079337e-04,   3.99862506e-04]),\n",
       " 'std_test_score': array([ 0.06290349,  0.03199816,  0.06240169,  0.04434013,  0.03252586,\n",
       "         0.02396535,  0.02219798,  0.0115897 ,  0.03837849,  0.01837762,\n",
       "         0.02454432,  0.02178803,  0.02634698,  0.03066244,  0.0289436 ,\n",
       "         0.02590724,  0.02364173,  0.02714478,  0.03957293,  0.03071724,\n",
       "         0.03773254,  0.02039485,  0.03099201,  0.01716631,  0.04985399,\n",
       "         0.02693395,  0.0273127 ,  0.02613262,  0.0335081 ,  0.03026056,\n",
       "         0.03038467,  0.02432871,  0.03281296,  0.02746586,  0.01923758,\n",
       "         0.02575794,  0.05089351,  0.05653568,  0.03976761,  0.03440063,\n",
       "         0.02737034,  0.04245872,  0.03951124,  0.02203871,  0.03941333,\n",
       "         0.02876217,  0.01648568,  0.02756842,  0.01637717,  0.02709613,\n",
       "         0.02540865,  0.02952981,  0.024612  ,  0.03150276,  0.0496838 ,\n",
       "         0.05694737,  0.04923246,  0.01874852,  0.0289721 ,  0.04115136,\n",
       "         0.03051983,  0.02748392,  0.01435509,  0.028224  ,  0.02599855,\n",
       "         0.03319196,  0.03023241,  0.02762166,  0.02877267,  0.02586499,\n",
       "         0.03211384,  0.02394696]),\n",
       " 'std_train_score': array([ 0.02031526,  0.0220129 ,  0.00433714,  0.01688519,  0.02309716,\n",
       "         0.01309775,  0.0184141 ,  0.02088296,  0.00845226,  0.        ,\n",
       "         0.        ,  0.00167434,  0.00027778,  0.        ,  0.00103375,\n",
       "         0.        ,  0.00034057,  0.00062547,  0.01021527,  0.02267598,\n",
       "         0.01962291,  0.01770846,  0.01655383,  0.01279082,  0.0156389 ,\n",
       "         0.01604406,  0.00993213,  0.        ,  0.        ,  0.00118662,\n",
       "         0.00027913,  0.00027913,  0.00129749,  0.        ,  0.        ,\n",
       "         0.00081035,  0.01956134,  0.01733664,  0.01708025,  0.01485442,\n",
       "         0.01266522,  0.01600792,  0.03152664,  0.00648525,  0.02263415,\n",
       "         0.        ,  0.        ,  0.0004386 ,  0.        ,  0.        ,\n",
       "         0.00027913,  0.        ,  0.        ,  0.        ,  0.02014233,\n",
       "         0.02470005,  0.02137777,  0.0267752 ,  0.00940115,  0.03128526,\n",
       "         0.0233153 ,  0.02819528,  0.00662089,  0.        ,  0.        ,\n",
       "         0.0005559 ,  0.        ,  0.        ,  0.00027816,  0.        ,\n",
       "         0.        ,  0.00027875])}"
      ]
     },
     "execution_count": 184,
     "metadata": {},
     "output_type": "execute_result"
    }
   ],
   "source": [
    "grid_search.cv_results_"
   ]
  },
  {
   "cell_type": "code",
   "execution_count": 122,
   "metadata": {},
   "outputs": [
    {
     "data": {
      "text/plain": [
       "0.78853644963828606"
      ]
     },
     "execution_count": 122,
     "metadata": {},
     "output_type": "execute_result"
    }
   ],
   "source": [
    "grid_search.best_score_"
   ]
  },
  {
   "cell_type": "code",
   "execution_count": 123,
   "metadata": {},
   "outputs": [
    {
     "data": {
      "text/plain": [
       "DecisionTreeClassifier(class_weight=None, criterion='gini', max_depth=20,\n",
       "            max_features=None, max_leaf_nodes=None,\n",
       "            min_impurity_decrease=0.0, min_impurity_split=None,\n",
       "            min_samples_leaf=1, min_samples_split=2,\n",
       "            min_weight_fraction_leaf=0.0, presort=False, random_state=None,\n",
       "            splitter='best')"
      ]
     },
     "execution_count": 123,
     "metadata": {},
     "output_type": "execute_result"
    }
   ],
   "source": [
    "grid_search.best_estimator_"
   ]
  },
  {
   "cell_type": "markdown",
   "metadata": {},
   "source": [
    "#### RandomizedSearch\n",
    "* Unlike GridSearch, not all parameters are tried & tested\n",
    "* But rather a fixed number of parameter settings is sampled from the specified distributions.\n",
    "\n",
    "##### Comparing GridSearch and RandomSearchCV"
   ]
  },
  {
   "cell_type": "code",
   "execution_count": 124,
   "metadata": {
    "collapsed": true
   },
   "outputs": [],
   "source": [
    "from time import time\n",
    "\n",
    "#randint is an intertor for generating numbers between range specified\n",
    "from scipy.stats import randint"
   ]
  },
  {
   "cell_type": "code",
   "execution_count": 125,
   "metadata": {
    "collapsed": true
   },
   "outputs": [],
   "source": [
    "X = digits.data\n",
    "Y = digits.target"
   ]
  },
  {
   "cell_type": "code",
   "execution_count": 126,
   "metadata": {
    "collapsed": true
   },
   "outputs": [],
   "source": [
    "from sklearn.ensemble import RandomForestClassifier\n",
    "from sklearn.model_selection import RandomizedSearchCV, GridSearchCV"
   ]
  },
  {
   "cell_type": "code",
   "execution_count": 127,
   "metadata": {
    "collapsed": true
   },
   "outputs": [],
   "source": [
    "# specify parameters and distributions to sample from\n",
    "param_dist = {\"max_depth\": [3, None],\n",
    "              \"max_features\": randint(1,11),\n",
    "              \"min_samples_split\": randint(2, 11),\n",
    "              \"bootstrap\": [True, False],\n",
    "              \"criterion\": [\"gini\", \"entropy\"]}"
   ]
  },
  {
   "cell_type": "code",
   "execution_count": 128,
   "metadata": {},
   "outputs": [
    {
     "data": {
      "text/plain": [
       "{'bootstrap': [True, False],\n",
       " 'criterion': ['gini', 'entropy'],\n",
       " 'max_depth': [3, None],\n",
       " 'max_features': <scipy.stats._distn_infrastructure.rv_frozen at 0x22664226c18>,\n",
       " 'min_samples_split': <scipy.stats._distn_infrastructure.rv_frozen at 0x226642269b0>}"
      ]
     },
     "execution_count": 128,
     "metadata": {},
     "output_type": "execute_result"
    }
   ],
   "source": [
    "param_dist"
   ]
  },
  {
   "cell_type": "code",
   "execution_count": 129,
   "metadata": {
    "collapsed": true
   },
   "outputs": [],
   "source": [
    "rf = RandomForestClassifier(n_estimators=20)"
   ]
  },
  {
   "cell_type": "code",
   "execution_count": 130,
   "metadata": {},
   "outputs": [
    {
     "name": "stdout",
     "output_type": "stream",
     "text": [
      "RandomizedSearchCV took 9.56 seconds for 20 candidates parameter settings.\n"
     ]
    }
   ],
   "source": [
    "n_iter_search = 20\n",
    "random_search = RandomizedSearchCV(rf, param_distributions=param_dist,\n",
    "                                   n_iter=n_iter_search, cv=5)\n",
    "\n",
    "start = time()\n",
    "random_search.fit(X, Y)\n",
    "print(\"RandomizedSearchCV took %.2f seconds for %d candidates\"\n",
    "      \" parameter settings.\" % ((time() - start), n_iter_search))"
   ]
  },
  {
   "cell_type": "code",
   "execution_count": 131,
   "metadata": {},
   "outputs": [
    {
     "data": {
      "text/plain": [
       "0.92654424040066774"
      ]
     },
     "execution_count": 131,
     "metadata": {},
     "output_type": "execute_result"
    }
   ],
   "source": [
    "random_search.best_score_"
   ]
  },
  {
   "cell_type": "code",
   "execution_count": 132,
   "metadata": {},
   "outputs": [
    {
     "name": "stdout",
     "output_type": "stream",
     "text": [
      "GridSearchCV took 30.34 seconds for 72 candidate parameter settings.\n"
     ]
    }
   ],
   "source": [
    "param_grid = {\"max_depth\": [3, None],\n",
    "              \"max_features\": [1, 3, 10],\n",
    "              \"min_samples_split\": [2, 3, 10],\n",
    "              \"bootstrap\": [True, False],\n",
    "              \"criterion\": [\"gini\", \"entropy\"]}\n",
    "\n",
    "# run grid search\n",
    "grid_search = GridSearchCV(rf, param_grid=param_grid, cv=5)\n",
    "start = time()\n",
    "grid_search.fit(X, Y)\n",
    "\n",
    "print(\"GridSearchCV took %.2f seconds for %d candidate parameter settings.\"\n",
    "      % (time() - start, len(grid_search.cv_results_['params'])))"
   ]
  },
  {
   "cell_type": "code",
   "execution_count": 133,
   "metadata": {},
   "outputs": [
    {
     "data": {
      "text/plain": [
       "0.9343350027824151"
      ]
     },
     "execution_count": 133,
     "metadata": {},
     "output_type": "execute_result"
    }
   ],
   "source": [
    "grid_search.best_score_"
   ]
  },
  {
   "cell_type": "markdown",
   "metadata": {},
   "source": [
    "* GridSearch & RandomizedSearch can fine tune hyper-parameters of transformers as well when part of pipeline"
   ]
  },
  {
   "cell_type": "markdown",
   "metadata": {},
   "source": [
    "### 3. Model Evaluation\n",
    "* Three different ways to evaluate quality of model prediction\n",
    "  - score method of estimators, a default method is configured .i.e r2_score for regression, accuracy for classification\n",
    "  - Model evalutaion tools like cross_validate or cross_val_score also returns accuracy\n",
    "  - Metrices module is rich with various prediction error calculation techniques"
   ]
  },
  {
   "cell_type": "code",
   "execution_count": 134,
   "metadata": {
    "collapsed": true
   },
   "outputs": [],
   "source": [
    "trainX, testX, trainY, testY = train_test_split(X,Y)"
   ]
  },
  {
   "cell_type": "code",
   "execution_count": 135,
   "metadata": {},
   "outputs": [
    {
     "data": {
      "text/plain": [
       "RandomForestClassifier(bootstrap=True, class_weight=None, criterion='gini',\n",
       "            max_depth=None, max_features='auto', max_leaf_nodes=None,\n",
       "            min_impurity_decrease=0.0, min_impurity_split=None,\n",
       "            min_samples_leaf=1, min_samples_split=2,\n",
       "            min_weight_fraction_leaf=0.0, n_estimators=20, n_jobs=1,\n",
       "            oob_score=False, random_state=None, verbose=0,\n",
       "            warm_start=False)"
      ]
     },
     "execution_count": 135,
     "metadata": {},
     "output_type": "execute_result"
    }
   ],
   "source": [
    "rf.fit(trainX, trainY)"
   ]
  },
  {
   "cell_type": "markdown",
   "metadata": {},
   "source": [
    "* Technique 1 - Using score function"
   ]
  },
  {
   "cell_type": "code",
   "execution_count": 136,
   "metadata": {},
   "outputs": [
    {
     "data": {
      "text/plain": [
       "0.95333333333333337"
      ]
     },
     "execution_count": 136,
     "metadata": {},
     "output_type": "execute_result"
    }
   ],
   "source": [
    "rf.score(testX,testY)"
   ]
  },
  {
   "cell_type": "markdown",
   "metadata": {},
   "source": [
    "* Technique 2 - Using cross_val_score as discussed above"
   ]
  },
  {
   "cell_type": "code",
   "execution_count": 137,
   "metadata": {},
   "outputs": [
    {
     "data": {
      "text/plain": [
       "array([ 0.93406593,  0.90883978,  0.95264624,  0.95798319,  0.88732394])"
      ]
     },
     "execution_count": 137,
     "metadata": {},
     "output_type": "execute_result"
    }
   ],
   "source": [
    "cross_val_score(rf,X,Y,cv=5)"
   ]
  },
  {
   "cell_type": "markdown",
   "metadata": {},
   "source": [
    "#### Cancer prediction sample for understanding metrices"
   ]
  },
  {
   "cell_type": "code",
   "execution_count": 138,
   "metadata": {
    "collapsed": true
   },
   "outputs": [],
   "source": [
    "from sklearn.datasets import load_breast_cancer"
   ]
  },
  {
   "cell_type": "code",
   "execution_count": 139,
   "metadata": {
    "collapsed": true
   },
   "outputs": [],
   "source": [
    "dt = DecisionTreeClassifier()"
   ]
  },
  {
   "cell_type": "code",
   "execution_count": 140,
   "metadata": {
    "collapsed": true
   },
   "outputs": [],
   "source": [
    "cancer_data = load_breast_cancer()"
   ]
  },
  {
   "cell_type": "code",
   "execution_count": 141,
   "metadata": {
    "collapsed": true
   },
   "outputs": [],
   "source": [
    "trainX, testX, trainY, testY = train_test_split(cancer_data.data, cancer_data.target)"
   ]
  },
  {
   "cell_type": "code",
   "execution_count": 142,
   "metadata": {},
   "outputs": [
    {
     "data": {
      "text/plain": [
       "DecisionTreeClassifier(class_weight=None, criterion='gini', max_depth=None,\n",
       "            max_features=None, max_leaf_nodes=None,\n",
       "            min_impurity_decrease=0.0, min_impurity_split=None,\n",
       "            min_samples_leaf=1, min_samples_split=2,\n",
       "            min_weight_fraction_leaf=0.0, presort=False, random_state=None,\n",
       "            splitter='best')"
      ]
     },
     "execution_count": 142,
     "metadata": {},
     "output_type": "execute_result"
    }
   ],
   "source": [
    "dt.fit(trainX,trainY)"
   ]
  },
  {
   "cell_type": "code",
   "execution_count": 143,
   "metadata": {
    "collapsed": true
   },
   "outputs": [],
   "source": [
    "pred = dt.predict(testX)"
   ]
  },
  {
   "cell_type": "markdown",
   "metadata": {},
   "source": [
    "#### Technique 3 - Using metrices\n",
    "##### Classfication metrices\n",
    "* Accuracy Score - Correct classification vs ( Correct classification + Incorrect Classification )"
   ]
  },
  {
   "cell_type": "code",
   "execution_count": 144,
   "metadata": {
    "collapsed": true
   },
   "outputs": [],
   "source": [
    "from sklearn import metrics"
   ]
  },
  {
   "cell_type": "code",
   "execution_count": 145,
   "metadata": {},
   "outputs": [
    {
     "data": {
      "text/plain": [
       "0.93706293706293708"
      ]
     },
     "execution_count": 145,
     "metadata": {},
     "output_type": "execute_result"
    }
   ],
   "source": [
    "metrics.accuracy_score(y_pred=pred, y_true=testY)"
   ]
  },
  {
   "cell_type": "markdown",
   "metadata": {},
   "source": [
    "* Confusion Matrix - Shows details of classification inclusing TP,FP,TN,FN\n",
    "  - True Positive (TP), Actual class is 1 & prediction is also 1\n",
    "  - True Negative (TN), Actual class is 0 & prediction is also 0\n",
    "  - False Positive (FP), Acutal class is 0 & prediction is 1\n",
    "  - False Negative (FN), Actual class is 1 & prediction is 0"
   ]
  },
  {
   "cell_type": "code",
   "execution_count": 146,
   "metadata": {},
   "outputs": [
    {
     "data": {
      "text/plain": [
       "array([[52,  3],\n",
       "       [ 6, 82]], dtype=int64)"
      ]
     },
     "execution_count": 146,
     "metadata": {},
     "output_type": "execute_result"
    }
   ],
   "source": [
    "metrics.confusion_matrix(y_pred=pred, y_true=testY, labels=[0,1])"
   ]
  },
  {
   "cell_type": "markdown",
   "metadata": {},
   "source": [
    "<img src=\"https://github.com/awantik/machine-learning-slides/blob/master/confusion_matrix.png?raw=true\" width=\"400px\">"
   ]
  },
  {
   "cell_type": "markdown",
   "metadata": {},
   "source": [
    "* Precision Score\n",
    "  - Ability of a classifier not to label positive if the sample is negative\n",
    "  - Claculated as TP/(TP+FP)\n",
    "  - We don't want a non-spam mail to be marked as spam"
   ]
  },
  {
   "cell_type": "code",
   "execution_count": 147,
   "metadata": {},
   "outputs": [
    {
     "data": {
      "text/plain": [
       "0.96470588235294119"
      ]
     },
     "execution_count": 147,
     "metadata": {},
     "output_type": "execute_result"
    }
   ],
   "source": [
    "metrics.precision_score(y_pred=pred, y_true=testY)"
   ]
  },
  {
   "cell_type": "markdown",
   "metadata": {},
   "source": [
    "* Recall Score\n",
    "  - Ability of classifier to find all positive samples\n",
    "  - It's ok to predict patient tumor to be cancer so that it undergoes more test\n",
    "  - But it is not ok to miss a cancer patient without further analysis"
   ]
  },
  {
   "cell_type": "code",
   "execution_count": 148,
   "metadata": {},
   "outputs": [
    {
     "data": {
      "text/plain": [
       "0.93181818181818177"
      ]
     },
     "execution_count": 148,
     "metadata": {},
     "output_type": "execute_result"
    }
   ],
   "source": [
    "metrics.recall_score(y_pred=pred, y_true=testY)"
   ]
  },
  {
   "cell_type": "markdown",
   "metadata": {},
   "source": [
    "* F1 score\n",
    "  - Weighted average of precision & recall"
   ]
  },
  {
   "cell_type": "code",
   "execution_count": 149,
   "metadata": {},
   "outputs": [
    {
     "data": {
      "text/plain": [
       "0.94797687861271673"
      ]
     },
     "execution_count": 149,
     "metadata": {},
     "output_type": "execute_result"
    }
   ],
   "source": [
    "metrics.f1_score(y_pred=pred, y_true=testY)"
   ]
  },
  {
   "cell_type": "markdown",
   "metadata": {},
   "source": [
    "* ROC & AUC "
   ]
  },
  {
   "cell_type": "markdown",
   "metadata": {},
   "source": [
    "##### House Price Prediction - Understanding matrices"
   ]
  },
  {
   "cell_type": "code",
   "execution_count": 150,
   "metadata": {
    "collapsed": true
   },
   "outputs": [],
   "source": [
    "from sklearn.datasets import california_housing"
   ]
  },
  {
   "cell_type": "code",
   "execution_count": 151,
   "metadata": {
    "collapsed": true
   },
   "outputs": [],
   "source": [
    "house_data = california_housing.fetch_california_housing()"
   ]
  },
  {
   "cell_type": "code",
   "execution_count": 152,
   "metadata": {
    "collapsed": true
   },
   "outputs": [],
   "source": [
    "from sklearn.linear_model import LinearRegression"
   ]
  },
  {
   "cell_type": "code",
   "execution_count": 153,
   "metadata": {
    "collapsed": true
   },
   "outputs": [],
   "source": [
    "lr = LinearRegression()"
   ]
  },
  {
   "cell_type": "code",
   "execution_count": 154,
   "metadata": {},
   "outputs": [
    {
     "data": {
      "text/plain": [
       "LinearRegression(copy_X=True, fit_intercept=True, n_jobs=1, normalize=False)"
      ]
     },
     "execution_count": 154,
     "metadata": {},
     "output_type": "execute_result"
    }
   ],
   "source": [
    "lr.fit(house_data.data, house_data.target)"
   ]
  },
  {
   "cell_type": "code",
   "execution_count": 155,
   "metadata": {
    "collapsed": true
   },
   "outputs": [],
   "source": [
    "pred = lr.predict(house_data.data)"
   ]
  },
  {
   "cell_type": "markdown",
   "metadata": {},
   "source": [
    "#### Matrices for Regression\n",
    "* mean squared error\n",
    "  - Sum of squares of difference between expected value & actual value"
   ]
  },
  {
   "cell_type": "code",
   "execution_count": 156,
   "metadata": {},
   "outputs": [
    {
     "data": {
      "text/plain": [
       "0.5243209861846071"
      ]
     },
     "execution_count": 156,
     "metadata": {},
     "output_type": "execute_result"
    }
   ],
   "source": [
    "metrics.mean_squared_error(y_pred=pred, y_true=house_data.target)"
   ]
  },
  {
   "cell_type": "markdown",
   "metadata": {},
   "source": [
    "* mean absolute error\n",
    "  - Sum of abs of difference between expected value & actual value"
   ]
  },
  {
   "cell_type": "code",
   "execution_count": 157,
   "metadata": {},
   "outputs": [
    {
     "data": {
      "text/plain": [
       "0.53116438175464609"
      ]
     },
     "execution_count": 157,
     "metadata": {},
     "output_type": "execute_result"
    }
   ],
   "source": [
    "metrics.mean_absolute_error(y_pred=pred, y_true=house_data.target)"
   ]
  },
  {
   "cell_type": "markdown",
   "metadata": {},
   "source": [
    "* r2 score\n",
    "  - Returns accuracy of model in the scale of 0 & 1\n",
    "  - It measures goodness of fit for regression models\n",
    "  - Calculated as =  (variance explained by the model)/(Total variance)\n",
    "  - High r2 means target is close to prediction\n",
    "  \n",
    "  \n",
    "  <img src=\"https://github.com/awantik/machine-learning-slides/blob/master/Capture.PNG?raw=true\" width=\"400px\">"
   ]
  },
  {
   "cell_type": "code",
   "execution_count": 158,
   "metadata": {},
   "outputs": [
    {
     "data": {
      "text/plain": [
       "0.60623268519980511"
      ]
     },
     "execution_count": 158,
     "metadata": {},
     "output_type": "execute_result"
    }
   ],
   "source": [
    "metrics.r2_score(y_pred=pred, y_true=house_data.target)"
   ]
  },
  {
   "cell_type": "markdown",
   "metadata": {},
   "source": [
    "### Metrices for Clustering \n",
    "* Two forms of evaluation \n",
    "* supervised, which uses a ground truth class values for each sample.\n",
    "  - completeness_score\n",
    "  - homogeneity_score\n",
    "* unsupervised, which measures the quality of model itself\n",
    "  - silhoutte_score\n",
    "  - calinski_harabaz_score"
   ]
  },
  {
   "cell_type": "markdown",
   "metadata": {},
   "source": [
    "##### completeness_score\n",
    "- A clustering result satisfies completeness if all the data points that are members of a given class are elements of the same cluster.\n",
    "- Accuracy is 1.0 if data belonging to same class belongs to same cluster, even if multiple classes belongs to same cluster"
   ]
  },
  {
   "cell_type": "code",
   "execution_count": 159,
   "metadata": {
    "collapsed": true
   },
   "outputs": [],
   "source": [
    "from sklearn.metrics.cluster import completeness_score"
   ]
  },
  {
   "cell_type": "code",
   "execution_count": 160,
   "metadata": {},
   "outputs": [
    {
     "data": {
      "text/plain": [
       "1.0"
      ]
     },
     "execution_count": 160,
     "metadata": {},
     "output_type": "execute_result"
    }
   ],
   "source": [
    "completeness_score( labels_true=[10,10,11,11],labels_pred=[1,1,0,0])"
   ]
  },
  {
   "cell_type": "markdown",
   "metadata": {},
   "source": [
    "* The acuracy is 1.0 because all the data belonging to same class belongs to same cluster"
   ]
  },
  {
   "cell_type": "code",
   "execution_count": 161,
   "metadata": {},
   "outputs": [
    {
     "data": {
      "text/plain": [
       "0.38368854659634433"
      ]
     },
     "execution_count": 161,
     "metadata": {},
     "output_type": "execute_result"
    }
   ],
   "source": [
    "completeness_score( labels_true=[11,22,22,11],labels_pred=[1,0,1,1])"
   ]
  },
  {
   "cell_type": "markdown",
   "metadata": {},
   "source": [
    "* The accuracy is .3 because class 1 - [11,22,11], class 2 - [22]  "
   ]
  },
  {
   "cell_type": "code",
   "execution_count": 162,
   "metadata": {},
   "outputs": [
    {
     "name": "stdout",
     "output_type": "stream",
     "text": [
      "1.0\n"
     ]
    }
   ],
   "source": [
    "print(completeness_score([10, 10, 11, 11], [0, 0, 0, 0]))"
   ]
  },
  {
   "cell_type": "markdown",
   "metadata": {},
   "source": [
    "##### homogeneity_score\n",
    "- A clustering result satisfies homogeneity if all of its clusters contain only data points which are members of a single class."
   ]
  },
  {
   "cell_type": "code",
   "execution_count": 163,
   "metadata": {
    "collapsed": true
   },
   "outputs": [],
   "source": [
    "from sklearn.metrics.cluster import homogeneity_score"
   ]
  },
  {
   "cell_type": "code",
   "execution_count": 164,
   "metadata": {},
   "outputs": [
    {
     "data": {
      "text/plain": [
       "1.0"
      ]
     },
     "execution_count": 164,
     "metadata": {},
     "output_type": "execute_result"
    }
   ],
   "source": [
    "homogeneity_score([0, 0, 1, 1], [1, 1, 0, 0])"
   ]
  },
  {
   "cell_type": "code",
   "execution_count": 165,
   "metadata": {},
   "outputs": [
    {
     "data": {
      "text/plain": [
       "0.99999999999999989"
      ]
     },
     "execution_count": 165,
     "metadata": {},
     "output_type": "execute_result"
    }
   ],
   "source": [
    "homogeneity_score([0, 0, 1, 1], [0, 1, 2, 3])"
   ]
  },
  {
   "cell_type": "code",
   "execution_count": 166,
   "metadata": {},
   "outputs": [
    {
     "data": {
      "text/plain": [
       "1.0"
      ]
     },
     "execution_count": 166,
     "metadata": {},
     "output_type": "execute_result"
    }
   ],
   "source": [
    "homogeneity_score([0, 0, 0, 0], [1, 1, 0, 0])"
   ]
  },
  {
   "cell_type": "markdown",
   "metadata": {},
   "source": [
    "* Same class data is broken into two clusters"
   ]
  },
  {
   "cell_type": "markdown",
   "metadata": {},
   "source": [
    "#### silhoutte_score\n",
    "* The Silhouette Coefficient is calculated using the mean intra-cluster distance (a) and the mean nearest-cluster distance (b) for each sample.\n",
    "* The Silhouette Coefficient for a sample is (b - a) / max(a, b). To clarify, b is the distance between a sample and the nearest cluster that the sample is not a part of."
   ]
  },
  {
   "cell_type": "markdown",
   "metadata": {},
   "source": [
    "##### Selecting the number of clusters with silhouette analysis on KMeans clustering"
   ]
  },
  {
   "cell_type": "code",
   "execution_count": 167,
   "metadata": {
    "collapsed": true
   },
   "outputs": [],
   "source": [
    "from sklearn.datasets import make_blobs\n",
    "X, Y = make_blobs(n_samples=500,\n",
    "                  n_features=2,\n",
    "                  centers=4,\n",
    "                  cluster_std=1,\n",
    "                  center_box=(-10.0, 10.0),\n",
    "                  shuffle=True,\n",
    "                  random_state=1)"
   ]
  },
  {
   "cell_type": "code",
   "execution_count": 168,
   "metadata": {},
   "outputs": [
    {
     "data": {
      "text/plain": [
       "<matplotlib.collections.PathCollection at 0x2266437a550>"
      ]
     },
     "execution_count": 168,
     "metadata": {},
     "output_type": "execute_result"
    },
    {
     "data": {
      "image/png": "[encoded data removed]",
      "text/plain": [
       "<matplotlib.figure.Figure at 0x22664320390>"
      ]
     },
     "metadata": {},
     "output_type": "display_data"
    }
   ],
   "source": [
    "plt.scatter(X[:,0],X[:,1],s=10)"
   ]
  },
  {
   "cell_type": "code",
   "execution_count": 169,
   "metadata": {
    "collapsed": true
   },
   "outputs": [],
   "source": [
    "range_n_clusters = [2, 3, 4, 5, 6]"
   ]
  },
  {
   "cell_type": "code",
   "execution_count": 170,
   "metadata": {
    "collapsed": true
   },
   "outputs": [],
   "source": [
    "from sklearn.cluster import KMeans\n",
    "from sklearn.metrics import silhouette_score"
   ]
  },
  {
   "cell_type": "code",
   "execution_count": 171,
   "metadata": {},
   "outputs": [
    {
     "name": "stdout",
     "output_type": "stream",
     "text": [
      "2 0.704978749608\n",
      "3 0.588200401213\n",
      "4 0.650518663273\n",
      "5 0.573821461214\n",
      "6 0.49311149712\n"
     ]
    }
   ],
   "source": [
    "for n_cluster in range_n_clusters:\n",
    "    kmeans = KMeans(n_clusters=n_cluster)\n",
    "    kmeans.fit(X)\n",
    "    labels = kmeans.predict(X)\n",
    "    print (n_cluster, silhouette_score(X,labels))"
   ]
  },
  {
   "cell_type": "markdown",
   "metadata": {},
   "source": [
    "* The best number of clusters is 2"
   ]
  },
  {
   "cell_type": "markdown",
   "metadata": {},
   "source": [
    "#### calinski_harabaz_score\n",
    "* The score is defined as ratio between the within-cluster dispersion and the between-cluster dispersion."
   ]
  },
  {
   "cell_type": "code",
   "execution_count": 172,
   "metadata": {},
   "outputs": [
    {
     "name": "stdout",
     "output_type": "stream",
     "text": [
      "2 1604.11228641\n",
      "3 1809.99196696\n",
      "4 2704.48587351\n",
      "5 2282.05873399\n",
      "6 2043.51063411\n"
     ]
    }
   ],
   "source": [
    "from sklearn.metrics import calinski_harabaz_score\n",
    "\n",
    "for n_cluster in range_n_clusters:\n",
    "    kmeans = KMeans(n_clusters=n_cluster)\n",
    "    kmeans.fit(X)\n",
    "    labels = kmeans.predict(X)\n",
    "    print (n_cluster, calinski_harabaz_score(X,labels))"
   ]
  },
  {
   "cell_type": "markdown",
   "metadata": {},
   "source": [
    "### 4. Model Persistance\n",
    "* Model training is an expensive process\n",
    "* It is desireable to save the model for future reuse\n",
    "* using pickle & joblib this can be achieved"
   ]
  },
  {
   "cell_type": "code",
   "execution_count": 173,
   "metadata": {
    "collapsed": true
   },
   "outputs": [],
   "source": [
    "import pickle"
   ]
  },
  {
   "cell_type": "code",
   "execution_count": 174,
   "metadata": {
    "collapsed": true
   },
   "outputs": [],
   "source": [
    "s = pickle.dumps(dt)"
   ]
  },
  {
   "cell_type": "code",
   "execution_count": 175,
   "metadata": {},
   "outputs": [
    {
     "data": {
      "text/plain": [
       "DecisionTreeClassifier(class_weight=None, criterion='gini', max_depth=None,\n",
       "            max_features=None, max_leaf_nodes=None,\n",
       "            min_impurity_decrease=0.0, min_impurity_split=None,\n",
       "            min_samples_leaf=1, min_samples_split=2,\n",
       "            min_weight_fraction_leaf=0.0, presort=False, random_state=None,\n",
       "            splitter='best')"
      ]
     },
     "execution_count": 175,
     "metadata": {},
     "output_type": "execute_result"
    }
   ],
   "source": [
    "pickle.loads(s)"
   ]
  },
  {
   "cell_type": "code",
   "execution_count": 176,
   "metadata": {},
   "outputs": [
    {
     "data": {
      "text/plain": [
       "bytes"
      ]
     },
     "execution_count": 176,
     "metadata": {},
     "output_type": "execute_result"
    }
   ],
   "source": [
    "type(s)"
   ]
  },
  {
   "cell_type": "markdown",
   "metadata": {},
   "source": [
    "* joblib is better extension of pickle\n",
    "* Doesn't convert into string"
   ]
  },
  {
   "cell_type": "code",
   "execution_count": 177,
   "metadata": {
    "collapsed": true
   },
   "outputs": [],
   "source": [
    "from sklearn.externals import joblib"
   ]
  },
  {
   "cell_type": "code",
   "execution_count": 178,
   "metadata": {},
   "outputs": [
    {
     "data": {
      "text/plain": [
       "['dt.joblib']"
      ]
     },
     "execution_count": 178,
     "metadata": {},
     "output_type": "execute_result"
    }
   ],
   "source": [
    "joblib.dump(dt, 'dt.joblib')"
   ]
  },
  {
   "cell_type": "markdown",
   "metadata": {},
   "source": [
    "* Loading the file back into model"
   ]
  },
  {
   "cell_type": "code",
   "execution_count": 179,
   "metadata": {
    "collapsed": true
   },
   "outputs": [],
   "source": [
    "dt = joblib.load('dt.joblib')"
   ]
  },
  {
   "cell_type": "code",
   "execution_count": 180,
   "metadata": {},
   "outputs": [
    {
     "data": {
      "text/plain": [
       "DecisionTreeClassifier(class_weight=None, criterion='gini', max_depth=None,\n",
       "            max_features=None, max_leaf_nodes=None,\n",
       "            min_impurity_decrease=0.0, min_impurity_split=None,\n",
       "            min_samples_leaf=1, min_samples_split=2,\n",
       "            min_weight_fraction_leaf=0.0, presort=False, random_state=None,\n",
       "            splitter='best')"
      ]
     },
     "execution_count": 180,
     "metadata": {},
     "output_type": "execute_result"
    }
   ],
   "source": [
    "dt"
   ]
  },
  {
   "cell_type": "markdown",
   "metadata": {},
   "source": [
    "### 5. Validation Curves\n",
    "* To validate a model, we need a scoring function.\n",
    "* Create a grid of possible hyper-prameter configuration.\n",
    "* Select the hyper-parameter which gives the best score"
   ]
  },
  {
   "cell_type": "code",
   "execution_count": 181,
   "metadata": {
    "collapsed": true
   },
   "outputs": [],
   "source": [
    "from sklearn.model_selection import validation_curve\n",
    "\n",
    "param_range = np.arange(1, 50, 2)\n",
    "\n",
    "train_scores, test_scores = validation_curve(RandomForestClassifier(), \n",
    "                                             digits.data, \n",
    "                                             digits.target, \n",
    "                                             param_name=\"n_estimators\", \n",
    "                                             param_range=param_range,\n",
    "                                             cv=3, \n",
    "                                             scoring=\"accuracy\", \n",
    "                                             n_jobs=-1)"
   ]
  },
  {
   "cell_type": "code",
   "execution_count": 182,
   "metadata": {},
   "outputs": [
    {
     "data": {
      "image/png": "[encoded data removed]",
      "text/plain": [
       "<matplotlib.figure.Figure at 0x22664289f98>"
      ]
     },
     "metadata": {},
     "output_type": "display_data"
    }
   ],
   "source": [
    "train_mean = np.mean(train_scores, axis=1)\n",
    "train_std = np.std(train_scores, axis=1)\n",
    "\n",
    "test_mean = np.mean(test_scores, axis=1)\n",
    "test_std = np.std(test_scores, axis=1)\n",
    "\n",
    "plt.plot(param_range, train_mean, label=\"Training score\", color=\"black\")\n",
    "plt.plot(param_range, test_mean, label=\"Cross-validation score\", color=\"dimgrey\")\n",
    "\n",
    "plt.title(\"Validation Curve With Random Forest\")\n",
    "plt.xlabel(\"Number Of Trees\")\n",
    "plt.ylabel(\"Accuracy Score\")\n",
    "plt.tight_layout()\n",
    "plt.legend(loc=\"best\")\n",
    "plt.show()"
   ]
  },
  {
   "cell_type": "markdown",
   "metadata": {},
   "source": [
    "### 6. Learning Curves\n",
    "* Learning curves shows variation in training & validation score on increasing the number of samples"
   ]
  },
  {
   "cell_type": "code",
   "execution_count": 183,
   "metadata": {
    "collapsed": true
   },
   "outputs": [],
   "source": [
    "from sklearn.model_selection import learning_curve"
   ]
  },
  {
   "cell_type": "code",
   "execution_count": 9,
   "metadata": {},
   "outputs": [
    {
     "name": "stdout",
     "output_type": "stream",
     "text": [
      "Collecting xgboost\n",
      "  Downloading xgboost-1.2.0-py3-none-win_amd64.whl (86.5 MB)\n",
      "Requirement already satisfied: numpy in c:\\users\\soura\\anaconda3\\lib\\site-packages (from xgboost) (1.18.1)\n",
      "Requirement already satisfied: scipy in c:\\users\\soura\\anaconda3\\lib\\site-packages (from xgboost) (1.4.1)\n",
      "Installing collected packages: xgboost\n",
      "Successfully installed xgboost-1.2.0\n",
      "Note: you may need to restart the kernel to use updated packages.\n"
     ]
    }
   ],
   "source": [
    "pip install xgboost"
   ]
  },
  {
   "cell_type": "code",
   "execution_count": null,
   "metadata": {},
   "outputs": [],
   "source": []
  }
 ],
 "metadata": {
  "kernelspec": {
   "display_name": "Python 3",
   "language": "python",
   "name": "python3"
  },
  "language_info": {
   "codemirror_mode": {
    "name": "ipython",
    "version": 3
   },
   "file_extension": ".py",
   "mimetype": "text/x-python",
   "name": "python",
   "nbconvert_exporter": "python",
   "pygments_lexer": "ipython3",
   "version": "3.7.6"
  }
 },
 "nbformat": 4,
 "nbformat_minor": 2
}
