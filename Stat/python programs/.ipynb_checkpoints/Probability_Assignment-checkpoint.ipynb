{
 "cells": [
  {
   "cell_type": "markdown",
   "metadata": {
    "colab_type": "text",
    "id": "YzSgy3Eu3aeg"
   },
   "source": [
    "## Probability Assignment\n",
    "\n",
    "\n",
    "You guys can submit either handwritten or typed answers. Please do the maths. Don't just write the answers only.\n",
    "\n",
    "Share your answers to amritansh.48@gmail.com"
   ]
  },
  {
   "cell_type": "markdown",
   "metadata": {
    "colab_type": "text",
    "id": "2MUluzo53hJy"
   },
   "source": [
    "**Q1.** A bag contains 2 red, 3 green and 2 blue balls. Two balls are drawn at random. What is the probability that none of the balls drawn is blue?"
   ]
  },
  {
   "cell_type": "markdown",
   "metadata": {
    "colab_type": "text",
    "id": "8jWhg0kD39wR"
   },
   "source": [
    "**Q2.** \tThree unbiased coins are tossed. What is the probability of getting at most two heads?"
   ]
  },
  {
   "cell_type": "markdown",
   "metadata": {
    "colab_type": "text",
    "id": "BsynqIE77Nie"
   },
   "source": [
    "**Q3.** If two people are drawing out cards randomly from a pack of cards, Whats the probability that person A will draw 2 cards from red suites in sucession. The person A and B draw out cards one by one."
   ]
  },
  {
   "cell_type": "markdown",
   "metadata": {
    "colab_type": "text",
    "id": "_wLMRyiZ8NKj"
   },
   "source": [
    "**Q4.** Dennis is playing a game of rock-paper-scissors with Phil. The loser of the game will pay the winner $100.\n",
    "In the game of rock-paper-scissors, each player chooses either rock, paper, or scissors simultaneously. A winner is decided by the following rules: rock beats scissors, scissors beats paper, and paper beats rock. If both players make the same choice, then the game is a tie.\n",
    "Dennis is trying to decide whether to play rock or paper. Based on previous games, he knows that Phil will make his choice according to the probabilities in the table below:\n",
    "\n",
    "\n",
    "---\n",
    "\n",
    "Phil's Choice        :                                                                                Probability\n",
    "\n",
    "---\n",
    "Rock  :  0.5\n",
    "\n",
    "---\n",
    "\n",
    "Paper :  0.2\n",
    "\n",
    "\n",
    "---\n",
    "Scissor : 0.3\n",
    "\n",
    "\n",
    "\n",
    "\n",
    "\n",
    "\n",
    "---\n",
    "\n",
    "\n",
    "\n",
    "a)\tWhat are Dennis's expected winnings if he chooses rock? Round your answer to the nearest dollar.\n",
    "\n",
    "b)\tWhat are Dennis's expected winnings if he chooses paper? Round your answer to the nearest dollar.\n",
    "\n",
    "c)\tIf Dennis wants the best payoff in the long run, he should choose: Rock, Paper, Scissor?\n",
    "\n"
   ]
  },
  {
   "cell_type": "markdown",
   "metadata": {
    "colab_type": "text",
    "id": "ToIViPgN4F6w"
   },
   "source": [
    "**Q5**. Assuming a normal distribution of a people's height in cm: Given mean = 161.2 cm and variance = 144.8 cm^2. What is the probability that a random person selected will have height greater than 179 cm. You can refer this graph for calulations.\n",
    "\n",
    "![normal_curve](https://mathbitsnotebook.com/Algebra2/Statistics/normalstandard.jpg)"
   ]
  },
  {
   "cell_type": "markdown",
   "metadata": {
    "colab_type": "text",
    "id": "INmG_zvjXR3B"
   },
   "source": [
    "**Q6.** Find Mode in all of the following data points (use python functions to calculate):\n",
    "\n",
    "  a) 12, 8, 4, 8, 1, 8, 9, 11, 9, 10, 12, 8\n",
    "  \n",
    "  b) 15, 22, 17, 19, 22, 17, 29, 24, 17, 15\n",
    "  \n",
    "  c) 0, 3, 2, 1, 3, 5, 4, 3, 42, 1, 2, 0\n",
    "  \n",
    "  d) 1, 7, 2, 4, 5, 9, 8, 3"
   ]
  },
  {
   "cell_type": "markdown",
   "metadata": {
    "colab_type": "text",
    "id": "1RbusyJ1XoWj"
   },
   "source": [
    "**Q7**. The runs scored in a cricket match by 11 players is as follows:\n",
    "\n",
    "7, 16, 121, 51, 101, 81, 1, 16, 9, 11, 16\n",
    "\n",
    "Find the mean, mode, median of this data."
   ]
  },
  {
   "cell_type": "markdown",
   "metadata": {
    "colab_type": "text",
    "id": "X6D8ooEuXv7a"
   },
   "source": [
    "**Q8**.  Find the median and mean of the following data.\n",
    "\n",
    "(a) 27, 39, 49, 20, 21, 28, 38\n",
    "\n",
    "(b) 10, 19, 54, 80, 15, 16\n",
    "\n",
    "(c) 47, 41, 52, 43, 56, 35, 49, 55, 42\n",
    "\n",
    "(d) 12, 17, 3, 14, 5, 8, 7, 15"
   ]
  }
 ],
 "metadata": {
  "colab": {
   "collapsed_sections": [],
   "name": "Probability Assignment",
   "provenance": []
  },
  "kernelspec": {
   "display_name": "Python 3",
   "language": "python",
   "name": "python3"
  },
  "language_info": {
   "codemirror_mode": {
    "name": "ipython",
    "version": 3
   },
   "file_extension": ".py",
   "mimetype": "text/x-python",
   "name": "python",
   "nbconvert_exporter": "python",
   "pygments_lexer": "ipython3",
   "version": "3.7.6"
  }
 },
 "nbformat": 4,
 "nbformat_minor": 1
}
