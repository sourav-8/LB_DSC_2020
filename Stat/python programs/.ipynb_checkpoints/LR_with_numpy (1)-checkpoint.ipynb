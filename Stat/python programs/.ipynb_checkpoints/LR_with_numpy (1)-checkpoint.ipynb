{
 "cells": [
  {
   "cell_type": "code",
   "execution_count": 1,
   "metadata": {
    "colab": {},
    "colab_type": "code",
    "id": "BDalWkpdFB1-"
   },
   "outputs": [],
   "source": [
    "import numpy as np\n",
    "import matplotlib.pyplot as plt"
   ]
  },
  {
   "cell_type": "code",
   "execution_count": null,
   "metadata": {
    "colab": {
     "base_uri": "https://localhost:8080/",
     "height": 1000
    },
    "colab_type": "code",
    "id": "8JLiICJmFLE0",
    "outputId": "c9e67693-084c-423a-ec30-a09238443aa4"
   },
   "outputs": [
    {
     "data": {
      "text/plain": [
       "array([[-1.        ],\n",
       "       [-0.97979798],\n",
       "       [-0.95959596],\n",
       "       [-0.93939394],\n",
       "       [-0.91919192],\n",
       "       [-0.8989899 ],\n",
       "       [-0.87878788],\n",
       "       [-0.85858586],\n",
       "       [-0.83838384],\n",
       "       [-0.81818182],\n",
       "       [-0.7979798 ],\n",
       "       [-0.77777778],\n",
       "       [-0.75757576],\n",
       "       [-0.73737374],\n",
       "       [-0.71717172],\n",
       "       [-0.6969697 ],\n",
       "       [-0.67676768],\n",
       "       [-0.65656566],\n",
       "       [-0.63636364],\n",
       "       [-0.61616162],\n",
       "       [-0.5959596 ],\n",
       "       [-0.57575758],\n",
       "       [-0.55555556],\n",
       "       [-0.53535354],\n",
       "       [-0.51515152],\n",
       "       [-0.49494949],\n",
       "       [-0.47474747],\n",
       "       [-0.45454545],\n",
       "       [-0.43434343],\n",
       "       [-0.41414141],\n",
       "       [-0.39393939],\n",
       "       [-0.37373737],\n",
       "       [-0.35353535],\n",
       "       [-0.33333333],\n",
       "       [-0.31313131],\n",
       "       [-0.29292929],\n",
       "       [-0.27272727],\n",
       "       [-0.25252525],\n",
       "       [-0.23232323],\n",
       "       [-0.21212121],\n",
       "       [-0.19191919],\n",
       "       [-0.17171717],\n",
       "       [-0.15151515],\n",
       "       [-0.13131313],\n",
       "       [-0.11111111],\n",
       "       [-0.09090909],\n",
       "       [-0.07070707],\n",
       "       [-0.05050505],\n",
       "       [-0.03030303],\n",
       "       [-0.01010101],\n",
       "       [ 0.01010101],\n",
       "       [ 0.03030303],\n",
       "       [ 0.05050505],\n",
       "       [ 0.07070707],\n",
       "       [ 0.09090909],\n",
       "       [ 0.11111111],\n",
       "       [ 0.13131313],\n",
       "       [ 0.15151515],\n",
       "       [ 0.17171717],\n",
       "       [ 0.19191919],\n",
       "       [ 0.21212121],\n",
       "       [ 0.23232323],\n",
       "       [ 0.25252525],\n",
       "       [ 0.27272727],\n",
       "       [ 0.29292929],\n",
       "       [ 0.31313131],\n",
       "       [ 0.33333333],\n",
       "       [ 0.35353535],\n",
       "       [ 0.37373737],\n",
       "       [ 0.39393939],\n",
       "       [ 0.41414141],\n",
       "       [ 0.43434343],\n",
       "       [ 0.45454545],\n",
       "       [ 0.47474747],\n",
       "       [ 0.49494949],\n",
       "       [ 0.51515152],\n",
       "       [ 0.53535354],\n",
       "       [ 0.55555556],\n",
       "       [ 0.57575758],\n",
       "       [ 0.5959596 ],\n",
       "       [ 0.61616162],\n",
       "       [ 0.63636364],\n",
       "       [ 0.65656566],\n",
       "       [ 0.67676768],\n",
       "       [ 0.6969697 ],\n",
       "       [ 0.71717172],\n",
       "       [ 0.73737374],\n",
       "       [ 0.75757576],\n",
       "       [ 0.77777778],\n",
       "       [ 0.7979798 ],\n",
       "       [ 0.81818182],\n",
       "       [ 0.83838384],\n",
       "       [ 0.85858586],\n",
       "       [ 0.87878788],\n",
       "       [ 0.8989899 ],\n",
       "       [ 0.91919192],\n",
       "       [ 0.93939394],\n",
       "       [ 0.95959596],\n",
       "       [ 0.97979798],\n",
       "       [ 1.        ]])"
      ]
     },
     "execution_count": 19,
     "metadata": {
      "tags": []
     },
     "output_type": "execute_result"
    }
   ],
   "source": [
    "np.random.seed(70)\n",
    "data_x = np.linspace(-10.0, 10.0, 100)[:, np.newaxis]\n",
    "data_y = np.sin(data_x) + 0.1 * np.power(data_x, 2) + 0.5 * np.random.randn(100, 1)\n",
    "# data_y = 29*data_x + 20* np.random.randn(100, 1)  # creating your data\n",
    "data_x /= np.max(data_x) #scaling\n",
    "data_x"
   ]
  },
  {
   "cell_type": "code",
   "execution_count": null,
   "metadata": {
    "colab": {
     "base_uri": "https://localhost:8080/",
     "height": 1000
    },
    "colab_type": "code",
    "id": "4TdaAALnFUOe",
    "outputId": "14688ce9-7cd1-468e-b08f-58d723b853ce"
   },
   "outputs": [
    {
     "data": {
      "text/plain": [
       "array([[ 1.        , -1.        ],\n",
       "       [ 1.        , -0.97979798],\n",
       "       [ 1.        , -0.95959596],\n",
       "       [ 1.        , -0.93939394],\n",
       "       [ 1.        , -0.91919192],\n",
       "       [ 1.        , -0.8989899 ],\n",
       "       [ 1.        , -0.87878788],\n",
       "       [ 1.        , -0.85858586],\n",
       "       [ 1.        , -0.83838384],\n",
       "       [ 1.        , -0.81818182],\n",
       "       [ 1.        , -0.7979798 ],\n",
       "       [ 1.        , -0.77777778],\n",
       "       [ 1.        , -0.75757576],\n",
       "       [ 1.        , -0.73737374],\n",
       "       [ 1.        , -0.71717172],\n",
       "       [ 1.        , -0.6969697 ],\n",
       "       [ 1.        , -0.67676768],\n",
       "       [ 1.        , -0.65656566],\n",
       "       [ 1.        , -0.63636364],\n",
       "       [ 1.        , -0.61616162],\n",
       "       [ 1.        , -0.5959596 ],\n",
       "       [ 1.        , -0.57575758],\n",
       "       [ 1.        , -0.55555556],\n",
       "       [ 1.        , -0.53535354],\n",
       "       [ 1.        , -0.51515152],\n",
       "       [ 1.        , -0.49494949],\n",
       "       [ 1.        , -0.47474747],\n",
       "       [ 1.        , -0.45454545],\n",
       "       [ 1.        , -0.43434343],\n",
       "       [ 1.        , -0.41414141],\n",
       "       [ 1.        , -0.39393939],\n",
       "       [ 1.        , -0.37373737],\n",
       "       [ 1.        , -0.35353535],\n",
       "       [ 1.        , -0.33333333],\n",
       "       [ 1.        , -0.31313131],\n",
       "       [ 1.        , -0.29292929],\n",
       "       [ 1.        , -0.27272727],\n",
       "       [ 1.        , -0.25252525],\n",
       "       [ 1.        , -0.23232323],\n",
       "       [ 1.        , -0.21212121],\n",
       "       [ 1.        , -0.19191919],\n",
       "       [ 1.        , -0.17171717],\n",
       "       [ 1.        , -0.15151515],\n",
       "       [ 1.        , -0.13131313],\n",
       "       [ 1.        , -0.11111111],\n",
       "       [ 1.        , -0.09090909],\n",
       "       [ 1.        , -0.07070707],\n",
       "       [ 1.        , -0.05050505],\n",
       "       [ 1.        , -0.03030303],\n",
       "       [ 1.        , -0.01010101],\n",
       "       [ 1.        ,  0.01010101],\n",
       "       [ 1.        ,  0.03030303],\n",
       "       [ 1.        ,  0.05050505],\n",
       "       [ 1.        ,  0.07070707],\n",
       "       [ 1.        ,  0.09090909],\n",
       "       [ 1.        ,  0.11111111],\n",
       "       [ 1.        ,  0.13131313],\n",
       "       [ 1.        ,  0.15151515],\n",
       "       [ 1.        ,  0.17171717],\n",
       "       [ 1.        ,  0.19191919],\n",
       "       [ 1.        ,  0.21212121],\n",
       "       [ 1.        ,  0.23232323],\n",
       "       [ 1.        ,  0.25252525],\n",
       "       [ 1.        ,  0.27272727],\n",
       "       [ 1.        ,  0.29292929],\n",
       "       [ 1.        ,  0.31313131],\n",
       "       [ 1.        ,  0.33333333],\n",
       "       [ 1.        ,  0.35353535],\n",
       "       [ 1.        ,  0.37373737],\n",
       "       [ 1.        ,  0.39393939],\n",
       "       [ 1.        ,  0.41414141],\n",
       "       [ 1.        ,  0.43434343],\n",
       "       [ 1.        ,  0.45454545],\n",
       "       [ 1.        ,  0.47474747],\n",
       "       [ 1.        ,  0.49494949],\n",
       "       [ 1.        ,  0.51515152],\n",
       "       [ 1.        ,  0.53535354],\n",
       "       [ 1.        ,  0.55555556],\n",
       "       [ 1.        ,  0.57575758],\n",
       "       [ 1.        ,  0.5959596 ],\n",
       "       [ 1.        ,  0.61616162],\n",
       "       [ 1.        ,  0.63636364],\n",
       "       [ 1.        ,  0.65656566],\n",
       "       [ 1.        ,  0.67676768],\n",
       "       [ 1.        ,  0.6969697 ],\n",
       "       [ 1.        ,  0.71717172],\n",
       "       [ 1.        ,  0.73737374],\n",
       "       [ 1.        ,  0.75757576],\n",
       "       [ 1.        ,  0.77777778],\n",
       "       [ 1.        ,  0.7979798 ],\n",
       "       [ 1.        ,  0.81818182],\n",
       "       [ 1.        ,  0.83838384],\n",
       "       [ 1.        ,  0.85858586],\n",
       "       [ 1.        ,  0.87878788],\n",
       "       [ 1.        ,  0.8989899 ],\n",
       "       [ 1.        ,  0.91919192],\n",
       "       [ 1.        ,  0.93939394],\n",
       "       [ 1.        ,  0.95959596],\n",
       "       [ 1.        ,  0.97979798],\n",
       "       [ 1.        ,  1.        ]])"
      ]
     },
     "execution_count": 20,
     "metadata": {
      "tags": []
     },
     "output_type": "execute_result"
    }
   ],
   "source": [
    "data_x = np.hstack((np.ones_like(data_x), data_x))\n",
    "data_x"
   ]
  },
  {
   "cell_type": "code",
   "execution_count": null,
   "metadata": {
    "colab": {
     "base_uri": "https://localhost:8080/",
     "height": 459
    },
    "colab_type": "code",
    "id": "5o4IpF-zFWxc",
    "outputId": "eabb3557-8533-4d65-f9a1-fd23fd7a24f1"
   },
   "outputs": [
    {
     "name": "stdout",
     "output_type": "stream",
     "text": [
      "[10 17 12 68 38 88 16 27 24 58 40 31 42 85 78 69 37 65 76 66 72 97 98 39\n",
      "  0 44 45 77 51 21 84  9 96 56  8 74 32  1 60  3 28 62 80 57 18 29  4 34\n",
      " 25 49 81 93 36 70 71 89 83 43 63 75 92 87 91 73 23 46 48 82 14  5  2 53\n",
      " 67 59 13 52  7  6 19 20 47 54 99 90 33 41 35 22 61 55 94 30 15 79 86 95\n",
      " 64 11 26 50]\n",
      "(20, 2) 160 20 80\n",
      "[[ 1.         -0.7979798 ]\n",
      " [ 1.         -0.65656566]\n",
      " [ 1.         -0.75757576]\n",
      " [ 1.          0.37373737]\n",
      " [ 1.         -0.23232323]\n",
      " [ 1.          0.77777778]\n",
      " [ 1.         -0.67676768]\n",
      " [ 1.         -0.45454545]\n",
      " [ 1.         -0.51515152]\n",
      " [ 1.          0.17171717]\n",
      " [ 1.         -0.19191919]\n",
      " [ 1.         -0.37373737]\n",
      " [ 1.         -0.15151515]\n",
      " [ 1.          0.71717172]\n",
      " [ 1.          0.57575758]\n",
      " [ 1.          0.39393939]\n",
      " [ 1.         -0.25252525]\n",
      " [ 1.          0.31313131]\n",
      " [ 1.          0.53535354]\n",
      " [ 1.          0.33333333]]\n"
     ]
    }
   ],
   "source": [
    "order = np.random.permutation(len(data_x))\n",
    "portion = 20\n",
    "test_x = data_x[order[:portion]]\n",
    "test_y = data_y[order[:portion]]\n",
    "train_x = data_x[order[portion:]]\n",
    "train_y = data_y[order[portion:]]\n",
    "print(order)\n",
    "print (test_x.shape, train_x.size, test_y.size, train_y.size)\n",
    "print (test_x)"
   ]
  },
  {
   "cell_type": "code",
   "execution_count": null,
   "metadata": {
    "colab": {
     "base_uri": "https://localhost:8080/",
     "height": 265
    },
    "colab_type": "code",
    "id": "KJU06clcU5iw",
    "outputId": "79effeaa-0206-41e2-892d-c83a47e16854"
   },
   "outputs": [
    {
     "data": {
      "image/png": "[encoded data removed]",
      "text/plain": [
       "<Figure size 432x288 with 1 Axes>"
      ]
     },
     "metadata": {
      "needs_background": "light",
      "tags": []
     },
     "output_type": "display_data"
    }
   ],
   "source": [
    "plt.scatter(train_x[:,1], train_y, c='b', label='Data')\n",
    "plt.show()"
   ]
  },
  {
   "cell_type": "code",
   "execution_count": null,
   "metadata": {
    "colab": {},
    "colab_type": "code",
    "id": "2_qABGqzFZOm"
   },
   "outputs": [],
   "source": [
    "def get_gradient(w, x, y):\n",
    "    y_estimate = (np.power(x,2).dot(w)).flatten() #hypothesis\n",
    "    error = (y.flatten() - y_estimate) \n",
    "    mse = (1.0/len(x))*np.sum(np.power(error, 2)) # mse\n",
    "    gradient = -(1.0/len(x)) * error.dot(x**2)         # gradient\n",
    "    return gradient, mse"
   ]
  },
  {
   "cell_type": "code",
   "execution_count": null,
   "metadata": {
    "colab": {
     "base_uri": "https://localhost:8080/",
     "height": 918
    },
    "colab_type": "code",
    "id": "XuzNhrcTFcm6",
    "outputId": "79ef0395-141b-427c-ae89-dca43777f30e"
   },
   "outputs": [
    {
     "name": "stdout",
     "output_type": "stream",
     "text": [
      "Intial values of Weights:\n",
      "-0.4884111631873461 -0.40592300845447754\n",
      "Iteration: 10 - Error: 5.9509\n",
      "Updated Weights : 2.604016 , 2.683595\n",
      "Iteration: 20 - Error: 3.9849\n",
      "Updated Weights : 4.121281 , 2.294075\n",
      "Iteration: 30 - Error: 2.7694\n",
      "Updated Weights : 5.273742 , 1.844618\n",
      "Iteration: 40 - Error: 1.9993\n",
      "Updated Weights : 6.189170 , 1.482040\n",
      "Iteration: 50 - Error: 1.5113\n",
      "Updated Weights : 6.917768 , 1.193267\n",
      "Iteration: 60 - Error: 1.2022\n",
      "Updated Weights : 7.497715 , 0.963404\n",
      "Iteration: 70 - Error: 1.0063\n",
      "Updated Weights : 7.959343 , 0.780437\n",
      "Iteration: 80 - Error: 0.8822\n",
      "Updated Weights : 8.326790 , 0.634799\n",
      "Iteration: 90 - Error: 0.8036\n",
      "Updated Weights : 8.619271 , 0.518874\n",
      "Iteration: 100 - Error: 0.7537\n",
      "Updated Weights : 8.852081 , 0.426599\n",
      "Iteration: 110 - Error: 0.7222\n",
      "Updated Weights : 9.037393 , 0.353150\n",
      "Iteration: 120 - Error: 0.7022\n",
      "Updated Weights : 9.184898 , 0.294686\n",
      "Iteration: 130 - Error: 0.6895\n",
      "Updated Weights : 9.302309 , 0.248150\n",
      "Iteration: 140 - Error: 0.6815\n",
      "Updated Weights : 9.395767 , 0.211108\n",
      "Iteration: 150 - Error: 0.6764\n",
      "Updated Weights : 9.470157 , 0.181624\n",
      "Iteration: 160 - Error: 0.6732\n",
      "Updated Weights : 9.529370 , 0.158154\n",
      "Iteration: 170 - Error: 0.6711\n",
      "Updated Weights : 9.576503 , 0.139473\n",
      "Iteration: 180 - Error: 0.6698\n",
      "Updated Weights : 9.614019 , 0.124603\n",
      "Iteration: 190 - Error: 0.6690\n",
      "Updated Weights : 9.643882 , 0.112767\n",
      "Iteration: 200 - Error: 0.6685\n",
      "Updated Weights : 9.667652 , 0.103346\n",
      "Iteration: 210 - Error: 0.6682\n",
      "Updated Weights : 9.686573 , 0.095847\n",
      "Iteration: 220 - Error: 0.6680\n",
      "Updated Weights : 9.701633 , 0.089878\n",
      "Iteration: 230 - Error: 0.6678\n",
      "Updated Weights : 9.713621 , 0.085126\n",
      "Iteration: 240 - Error: 0.6677\n",
      "Updated Weights : 9.723163 , 0.081344\n",
      "Converged\n",
      "Final Weights : 9.728659 , 0.079166\n",
      "Test Cost = 0.9013742433102577\n"
     ]
    }
   ],
   "source": [
    "w = np.random.randn(2)\n",
    "alpha = 0.25\n",
    "tolerance = 1e-3\n",
    "print(\"Intial values of Weights:\")\n",
    "print(w[1], w[0])\n",
    "# Perform Gradient Descent\n",
    "iterations = 1\n",
    "while True:\n",
    "    gradient, error = get_gradient(w, train_x, train_y)\n",
    "    new_w = w - alpha * gradient\n",
    "#     print(gradient)\n",
    "    \n",
    "    # Stopping Condition\n",
    "    if np.sum(abs(new_w - w)) < tolerance:\n",
    "        print (\"Converged\")\n",
    "        break\n",
    "    \n",
    "    # Print error every 10 iterations\n",
    "    if iterations % 10 == 0:\n",
    "        print (\"Iteration: %d - Error: %.4f\" %(iterations, error))\n",
    "        print (\"Updated Weights : {:f} , {:f}\".format(w[1], w[0]))\n",
    "    iterations += 1\n",
    "    w = new_w\n",
    "\n",
    "print (\"Final Weights : {:f} , {:f}\".format(w[1], w[0]))\n",
    "print (\"Test Cost =\", get_gradient(w, test_x, test_y)[1])"
   ]
  },
  {
   "cell_type": "code",
   "execution_count": null,
   "metadata": {
    "colab": {
     "base_uri": "https://localhost:8080/",
     "height": 51
    },
    "colab_type": "code",
    "id": "r1UZuG1AHrVa",
    "outputId": "630eebce-e5fe-4628-d7bf-e7d09124ddd1"
   },
   "outputs": [
    {
     "name": "stdout",
     "output_type": "stream",
     "text": [
      "Final eqn / hypothesis looks like:\n",
      "y = 9.728659.x^2 + 0.079166\n"
     ]
    }
   ],
   "source": [
    "print(\"Final eqn / hypothesis looks like:\")\n",
    "print('y = {:f}.x^2 + {:f}'.format(w[1], w[0]))"
   ]
  },
  {
   "cell_type": "code",
   "execution_count": null,
   "metadata": {
    "colab": {
     "base_uri": "https://localhost:8080/",
     "height": 279
    },
    "colab_type": "code",
    "id": "qkh4rdrEFkdf",
    "outputId": "df626768-f84f-4be8-f6d2-65cc21cfef85"
   },
   "outputs": [
    {
     "data": {
      "image/png": "[encoded data removed]",
      "text/plain": [
       "<Figure size 432x288 with 1 Axes>"
      ]
     },
     "metadata": {
      "needs_background": "light",
      "tags": []
     },
     "output_type": "display_data"
    }
   ],
   "source": [
    "plt.plot(data_x[:,1], (data_x**2).dot(w), c='g', label='Model')\n",
    "plt.scatter(train_x[:,1], train_y, c='b', label='Train Set')\n",
    "plt.scatter(test_x[:,1], test_y, c='r', label='Test Set')\n",
    "plt.grid()\n",
    "plt.legend(loc='best')\n",
    "plt.xlabel('X')\n",
    "plt.ylabel('Y')\n",
    "plt.show()"
   ]
  },
  {
   "cell_type": "code",
   "execution_count": null,
   "metadata": {
    "colab": {
     "base_uri": "https://localhost:8080/",
     "height": 34
    },
    "colab_type": "code",
    "id": "T8k2vm1FOzg9",
    "outputId": "ef508e60-851a-45d9-8023-1043f9131e7d"
   },
   "outputs": [
    {
     "data": {
      "text/plain": [
       "array([ -2.54352344, 290.56411486])"
      ]
     },
     "execution_count": 18,
     "metadata": {
      "tags": []
     },
     "output_type": "execute_result"
    }
   ],
   "source": [
    "w"
   ]
  }
 ],
 "metadata": {
  "colab": {
   "collapsed_sections": [],
   "name": "LR_with_numpy.ipynb",
   "provenance": []
  },
  "kernelspec": {
   "display_name": "Python 3",
   "language": "python",
   "name": "python3"
  },
  "language_info": {
   "codemirror_mode": {
    "name": "ipython",
    "version": 3
   },
   "file_extension": ".py",
   "mimetype": "text/x-python",
   "name": "python",
   "nbconvert_exporter": "python",
   "pygments_lexer": "ipython3",
   "version": "3.7.6"
  }
 },
 "nbformat": 4,
 "nbformat_minor": 1
}
