{
 "cells": [
  {
   "cell_type": "code",
   "execution_count": 1,
   "metadata": {},
   "outputs": [
    {
     "name": "stdout",
     "output_type": "stream",
     "text": [
      "[[[ 59 105   5  88  46]\n",
      "  [ 28   3  30  25  52]\n",
      "  [ 60   3  78 102  98]\n",
      "  [110 122  36  39 101]\n",
      "  [ 54 105  15  47 104]]\n",
      "\n",
      " [[113   5  37  16 104]\n",
      "  [ 48  77   5  12 104]\n",
      "  [ 72  54  62  56  57]\n",
      "  [ 37  11  82  42  79]\n",
      "  [ 49  70  21  57 109]]\n",
      "\n",
      " [[ 78  80  54  55  42]\n",
      "  [ 35  62  59  13  31]\n",
      "  [107  43  58  51  42]\n",
      "  [ 55 111 107  87  11]\n",
      "  [ 79  14  97   8  62]]\n",
      "\n",
      " [[ 55  87  12   4  49]\n",
      "  [ 63  22 112 120  10]\n",
      "  [ 11  22 107  90  84]\n",
      "  [ 95  36   3  12  55]\n",
      "  [ 29  21  19  93   1]]\n",
      "\n",
      " [[ 72 106  20  84  35]\n",
      "  [ 65 120 102  55  91]\n",
      "  [ 96  95  73  99  91]\n",
      "  [102  72  50  58 100]\n",
      "  [ 74 100  78  71  16]]]\n"
     ]
    }
   ],
   "source": [
    "import numpy as np\n",
    "\n",
    "s = np.random.randint(1,125,125).reshape(5,5,5)\n",
    "print(s)"
   ]
  },
  {
   "cell_type": "code",
   "execution_count": 2,
   "metadata": {},
   "outputs": [
    {
     "data": {
      "text/plain": [
       "array([[ 9,  0,  0,  0,  0],\n",
       "       [19, 14,  0,  0,  0],\n",
       "       [23, 23, 11,  0,  0],\n",
       "       [10, 10,  8, 18,  0],\n",
       "       [11,  3, 15, 19,  2]])"
      ]
     },
     "execution_count": 2,
     "metadata": {},
     "output_type": "execute_result"
    }
   ],
   "source": [
    "a = np.random.randint(0,25,25).reshape(5,5)\n",
    "\n",
    "np.triu(a)\n",
    "np.tril(a)"
   ]
  },
  {
   "cell_type": "code",
   "execution_count": 3,
   "metadata": {},
   "outputs": [
    {
     "name": "stdout",
     "output_type": "stream",
     "text": [
      "Not Matched\n"
     ]
    }
   ],
   "source": [
    "M1 = np.random.randint(1,16,16).reshape(4,4)\n",
    "MT1 = M1.T\n",
    "comparison = M1 == MT1\n",
    "\n",
    "if comparison.all() == True:\n",
    "    print(\"Value matched\")\n",
    "else:\n",
    "    print(\"Not Matched\")"
   ]
  },
  {
   "cell_type": "code",
   "execution_count": 9,
   "metadata": {},
   "outputs": [
    {
     "name": "stdout",
     "output_type": "stream",
     "text": [
      "[[5 2 1]\n",
      " [1 1 1]]\n",
      "\n",
      "[[3 2 1]\n",
      " [2 2 4]]\n",
      "\n",
      "[[15  4  1]\n",
      " [ 2  2  4]]\n"
     ]
    }
   ],
   "source": [
    "a = np.random.randint(1,6,6).reshape(2,3)\n",
    "b = np.random.randint(1,6,6).reshape(2,3)\n",
    "c = a*b \n",
    "print(a)\n",
    "print()\n",
    "print(b)\n",
    "print()\n",
    "print(c)"
   ]
  },
  {
   "cell_type": "code",
   "execution_count": null,
   "metadata": {},
   "outputs": [],
   "source": []
  },
  {
   "cell_type": "code",
   "execution_count": null,
   "metadata": {},
   "outputs": [],
   "source": [
    "np.eye(5)"
   ]
  },
  {
   "cell_type": "code",
   "execution_count": null,
   "metadata": {},
   "outputs": [],
   "source": [
    "np.shape(s)"
   ]
  }
 ],
 "metadata": {
  "kernelspec": {
   "display_name": "Python 3",
   "language": "python",
   "name": "python3"
  },
  "language_info": {
   "codemirror_mode": {
    "name": "ipython",
    "version": 3
   },
   "file_extension": ".py",
   "mimetype": "text/x-python",
   "name": "python",
   "nbconvert_exporter": "python",
   "pygments_lexer": "ipython3",
   "version": "3.7.6"
  }
 },
 "nbformat": 4,
 "nbformat_minor": 4
}
