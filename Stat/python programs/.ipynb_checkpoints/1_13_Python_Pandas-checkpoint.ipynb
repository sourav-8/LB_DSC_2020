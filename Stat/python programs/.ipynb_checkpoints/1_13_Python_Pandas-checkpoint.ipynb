{
 "cells": [
  {
   "cell_type": "markdown",
   "metadata": {
    "colab_type": "text",
    "id": "_9uicbKPTEAl"
   },
   "source": [
    "## Python Data Analysis Library\n",
    "\n",
    "### pandas\n",
    "is an open source, *BSD-licensed* library providing high-performance, easy-to-use data structures and data analysis tools for the Python programming language.\n",
    "\n",
    "\n",
    "\n",
    "1.   High Performance, Easy-to-use open source library for Data Analysis\n",
    "2.   Creates tabular format of data from different sources like csv, json, database\n",
    "3.   Has utilities for descriptive statistics, aggregation, handling missing data\n",
    "4.   Database utilities like merge, join are available\n",
    "5.   Fast, Programmable & Easy alternative to spreadsheets\n",
    "\n",
    "\n",
    "\n",
    "\n",
    "https://pandas.pydata.org/\n",
    "\n",
    "![alt text](https://pandas.pydata.org/_static/pandas_logo.png)"
   ]
  },
  {
   "cell_type": "markdown",
   "metadata": {
    "colab_type": "text",
    "id": "1ovtPcZGmMAy"
   },
   "source": [
    "### Highlights Of Pandas\n",
    "\n",
    "A fast and efficient DataFrame object for data manipulation with integrated indexing\n",
    "\n",
    "Tools for reading and writing data between in-memory data structures and different formats: CSV and text files, Microsoft Excel, SQL databases, and the fast HDF5 format\n",
    "\n",
    "Intelligent data alignment and integrated handling of missing data: gain automatic label-based alignment in computations and easily manipulate messy data into an orderly form\n",
    "\n",
    "Flexible reshaping and pivoting of data sets\n",
    "\n",
    "Intelligent label-based slicing, fancy indexing, and subsetting of large data sets\n",
    "\n",
    "Columns can be inserted and deleted from data structures for size mutability\n",
    "\n",
    "Aggregating or transforming data with a powerful group by engine allowing split-apply-combine operations on data sets\n",
    "\n",
    "High performance merging and joining of data sets\n",
    "\n",
    "Hierarchical axis indexing provides an intuitive way of working with high-dimensional data in a lower-dimensional data structure\n",
    "\n",
    "Time series-functionality: date range generation and frequency conversion, moving window statistics, moving window linear regressions, date shifting and lagging. Even create domain-specific time offsets and join time series without losing data\n",
    "\n",
    "Highly optimized for performance, with critical code paths written in Cython or C.\n",
    "\n",
    "Python with pandas is in use in a wide variety of academic and commercial domains, including Finance, Neuroscience, Economics, Statistics, Advertising, Web Analytics, and more.\n",
    "\n",
    "\n"
   ]
  },
  {
   "cell_type": "markdown",
   "metadata": {
    "colab_type": "text",
    "id": "ymXGFDiXXd1r"
   },
   "source": [
    "### Installation \n",
    "\n",
    "**Anaconda**\n",
    "\n",
    "conda install pandas\n",
    "\n",
    "\n",
    "**PyPI**\n",
    "\n",
    "pip install  pandas\n",
    "\n",
    "\n",
    "\n",
    "The latest version *v0.24.2 Final * released on March, 2019"
   ]
  },
  {
   "cell_type": "markdown",
   "metadata": {
    "colab_type": "text",
    "id": "pYxW7yqqX18Q"
   },
   "source": [
    "**Importing Pandas**"
   ]
  },
  {
   "cell_type": "code",
   "execution_count": null,
   "metadata": {
    "colab": {},
    "colab_type": "code",
    "id": "QpjvP4E-hXyI"
   },
   "outputs": [],
   "source": [
    "import pandas as pd"
   ]
  },
  {
   "cell_type": "markdown",
   "metadata": {
    "colab_type": "text",
    "id": "90MOO50LU4Df"
   },
   "source": [
    "###  Understanding Series & DataFrames\n",
    "Series represents one column\n",
    "\n",
    "Combine multiple columns to create a table ( .i.e DataFrame )"
   ]
  },
  {
   "cell_type": "code",
   "execution_count": null,
   "metadata": {
    "colab": {
     "base_uri": "https://localhost:8080/",
     "height": 121
    },
    "colab_type": "code",
    "id": "QXkrhvlXVONd",
    "outputId": "1bbcd635-1e7d-4123-ddcb-74f2870ef482"
   },
   "outputs": [
    {
     "data": {
      "text/plain": [
       "a    1\n",
       "b    2\n",
       "c    3\n",
       "d    4\n",
       "e    5\n",
       "dtype: int64"
      ]
     },
     "execution_count": 2,
     "metadata": {
      "tags": []
     },
     "output_type": "execute_result"
    }
   ],
   "source": [
    "series_01 = pd.Series(data=[1,2,3,4,5], index=['a','b','c','d','e'])\n",
    "series_01"
   ]
  },
  {
   "cell_type": "code",
   "execution_count": null,
   "metadata": {
    "colab": {
     "base_uri": "https://localhost:8080/",
     "height": 121
    },
    "colab_type": "code",
    "id": "C1u6yKpLVwSB",
    "outputId": "842a7f3c-1c37-4384-e873-3261708e60d7"
   },
   "outputs": [
    {
     "data": {
      "text/plain": [
       "a    9\n",
       "b    8\n",
       "c    7\n",
       "d    6\n",
       "e    5\n",
       "dtype: int64"
      ]
     },
     "execution_count": 3,
     "metadata": {
      "tags": []
     },
     "output_type": "execute_result"
    }
   ],
   "source": [
    "series_02 = pd.Series(data=[9,8,7,6,5], index=list('abcde'))\n",
    "series_02"
   ]
  },
  {
   "cell_type": "code",
   "execution_count": null,
   "metadata": {
    "colab": {
     "base_uri": "https://localhost:8080/",
     "height": 35
    },
    "colab_type": "code",
    "id": "vy-zRCfXWF52",
    "outputId": "3d2cd3b6-a1ff-4399-a9ab-cef773a79d8d"
   },
   "outputs": [
    {
     "name": "stdout",
     "output_type": "stream",
     "text": [
      "<class 'pandas.core.series.Series'>\n"
     ]
    }
   ],
   "source": [
    "df = pd.DataFrame({'A':series_01, 'B':series_02})\n",
    "print(type(df.A))"
   ]
  },
  {
   "cell_type": "code",
   "execution_count": null,
   "metadata": {
    "colab": {
     "base_uri": "https://localhost:8080/",
     "height": 35
    },
    "colab_type": "code",
    "id": "v4paboU_WU0P",
    "outputId": "9ef61ea1-2a72-4130-8b43-7dfdf0b83f3f"
   },
   "outputs": [
    {
     "name": "stdout",
     "output_type": "stream",
     "text": [
      "<class 'pandas.core.series.Series'>\n"
     ]
    }
   ],
   "source": [
    "import numpy as np\n",
    "# create a random 10 x 10 dataframe\n",
    "dataframe_01 = pd.DataFrame(data=np.random.randint(1,10,size=(10,10)), index=list('ABCDEFGHIJ'), columns=list('abcdefghij'))\n",
    "print(type(dataframe_01.a))"
   ]
  },
  {
   "cell_type": "markdown",
   "metadata": {
    "colab_type": "text",
    "id": "oF1xFIb6Wvvk"
   },
   "source": [
    "### Loading CSV"
   ]
  },
  {
   "cell_type": "code",
   "execution_count": null,
   "metadata": {
    "colab": {
     "base_uri": "https://localhost:8080/",
     "height": 113,
     "resources": {
      "http://localhost:8080/nbextensions/google.colab/files.js": {
       "data": "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",
       "headers": [
        [
         "content-type",
         "application/javascript"
        ]
       ],
       "ok": true,
       "status": 200,
       "status_text": ""
      }
     }
    },
    "colab_type": "code",
    "id": "ekwpWzz1WzzB",
    "outputId": "f5511e76-a48f-49fb-db42-4375ded3741b"
   },
   "outputs": [
    {
     "data": {
      "text/html": [
       "\n",
       "     <input type=\"file\" id=\"files-670448ff-825e-42e7-9155-dbd645408835\" name=\"files[]\" multiple disabled />\n",
       "     <output id=\"result-670448ff-825e-42e7-9155-dbd645408835\">\n",
       "      Upload widget is only available when the cell has been executed in the\n",
       "      current browser session. Please rerun this cell to enable.\n",
       "      </output>\n",
       "      <script src=\"/nbextensions/google.colab/files.js\"></script> "
      ],
      "text/plain": [
       "<IPython.core.display.HTML object>"
      ]
     },
     "metadata": {
      "tags": []
     },
     "output_type": "display_data"
    },
    {
     "name": "stdout",
     "output_type": "stream",
     "text": [
      "Saving iris.csv to iris.csv\n"
     ]
    },
    {
     "data": {
      "text/plain": [
       "{'iris.csv': b'sepal_length,sepal_width,petal_length,petal_width,species\\n5.1,3.5,1.4,0.2,setosa\\n4.9,3.0,1.4,0.2,setosa\\n4.7,3.2,1.3,0.2,setosa\\n4.6,3.1,1.5,0.2,setosa\\n5.0,3.6,1.4,0.2,setosa\\n5.4,3.9,1.7,0.4,setosa\\n4.6,3.4,1.4,0.3,setosa\\n5.0,3.4,1.5,0.2,setosa\\n4.4,2.9,1.4,0.2,setosa\\n4.9,3.1,1.5,0.1,setosa\\n5.4,3.7,1.5,0.2,setosa\\n4.8,3.4,1.6,0.2,setosa\\n4.8,3.0,1.4,0.1,setosa\\n4.3,3.0,1.1,0.1,setosa\\n5.8,4.0,1.2,0.2,setosa\\n5.7,4.4,1.5,0.4,setosa\\n5.4,3.9,1.3,0.4,setosa\\n5.1,3.5,1.4,0.3,setosa\\n5.7,3.8,1.7,0.3,setosa\\n5.1,3.8,1.5,0.3,setosa\\n5.4,3.4,1.7,0.2,setosa\\n5.1,3.7,1.5,0.4,setosa\\n4.6,3.6,1.0,0.2,setosa\\n5.1,3.3,1.7,0.5,setosa\\n4.8,3.4,1.9,0.2,setosa\\n5.0,3.0,1.6,0.2,setosa\\n5.0,3.4,1.6,0.4,setosa\\n5.2,3.5,1.5,0.2,setosa\\n5.2,3.4,1.4,0.2,setosa\\n4.7,3.2,1.6,0.2,setosa\\n4.8,3.1,1.6,0.2,setosa\\n5.4,3.4,1.5,0.4,setosa\\n5.2,4.1,1.5,0.1,setosa\\n5.5,4.2,1.4,0.2,setosa\\n4.9,3.1,1.5,0.1,setosa\\n5.0,3.2,1.2,0.2,setosa\\n5.5,3.5,1.3,0.2,setosa\\n4.9,3.1,1.5,0.1,setosa\\n4.4,3.0,1.3,0.2,setosa\\n5.1,3.4,1.5,0.2,setosa\\n5.0,3.5,1.3,0.3,setosa\\n4.5,2.3,1.3,0.3,setosa\\n4.4,3.2,1.3,0.2,setosa\\n5.0,3.5,1.6,0.6,setosa\\n5.1,3.8,1.9,0.4,setosa\\n4.8,3.0,1.4,0.3,setosa\\n5.1,3.8,1.6,0.2,setosa\\n4.6,3.2,1.4,0.2,setosa\\n5.3,3.7,1.5,0.2,setosa\\n5.0,3.3,1.4,0.2,setosa\\n7.0,3.2,4.7,1.4,versicolor\\n6.4,3.2,4.5,1.5,versicolor\\n6.9,3.1,4.9,1.5,versicolor\\n5.5,2.3,4.0,1.3,versicolor\\n6.5,2.8,4.6,1.5,versicolor\\n5.7,2.8,4.5,1.3,versicolor\\n6.3,3.3,4.7,1.6,versicolor\\n4.9,2.4,3.3,1.0,versicolor\\n6.6,2.9,4.6,1.3,versicolor\\n5.2,2.7,3.9,1.4,versicolor\\n5.0,2.0,3.5,1.0,versicolor\\n5.9,3.0,4.2,1.5,versicolor\\n6.0,2.2,4.0,1.0,versicolor\\n6.1,2.9,4.7,1.4,versicolor\\n5.6,2.9,3.6,1.3,versicolor\\n6.7,3.1,4.4,1.4,versicolor\\n5.6,3.0,4.5,1.5,versicolor\\n5.8,2.7,4.1,1.0,versicolor\\n6.2,2.2,4.5,1.5,versicolor\\n5.6,2.5,3.9,1.1,versicolor\\n5.9,3.2,4.8,1.8,versicolor\\n6.1,2.8,4.0,1.3,versicolor\\n6.3,2.5,4.9,1.5,versicolor\\n6.1,2.8,4.7,1.2,versicolor\\n6.4,2.9,4.3,1.3,versicolor\\n6.6,3.0,4.4,1.4,versicolor\\n6.8,2.8,4.8,1.4,versicolor\\n6.7,3.0,5.0,1.7,versicolor\\n6.0,2.9,4.5,1.5,versicolor\\n5.7,2.6,3.5,1.0,versicolor\\n5.5,2.4,3.8,1.1,versicolor\\n5.5,2.4,3.7,1.0,versicolor\\n5.8,2.7,3.9,1.2,versicolor\\n6.0,2.7,5.1,1.6,versicolor\\n5.4,3.0,4.5,1.5,versicolor\\n6.0,3.4,4.5,1.6,versicolor\\n6.7,3.1,4.7,1.5,versicolor\\n6.3,2.3,4.4,1.3,versicolor\\n5.6,3.0,4.1,1.3,versicolor\\n5.5,2.5,4.0,1.3,versicolor\\n5.5,2.6,4.4,1.2,versicolor\\n6.1,3.0,4.6,1.4,versicolor\\n5.8,2.6,4.0,1.2,versicolor\\n5.0,2.3,3.3,1.0,versicolor\\n5.6,2.7,4.2,1.3,versicolor\\n5.7,3.0,4.2,1.2,versicolor\\n5.7,2.9,4.2,1.3,versicolor\\n6.2,2.9,4.3,1.3,versicolor\\n5.1,2.5,3.0,1.1,versicolor\\n5.7,2.8,4.1,1.3,versicolor\\n6.3,3.3,6.0,2.5,virginica\\n5.8,2.7,5.1,1.9,virginica\\n7.1,3.0,5.9,2.1,virginica\\n6.3,2.9,5.6,1.8,virginica\\n6.5,3.0,5.8,2.2,virginica\\n7.6,3.0,6.6,2.1,virginica\\n4.9,2.5,4.5,1.7,virginica\\n7.3,2.9,6.3,1.8,virginica\\n6.7,2.5,5.8,1.8,virginica\\n7.2,3.6,6.1,2.5,virginica\\n6.5,3.2,5.1,2.0,virginica\\n6.4,2.7,5.3,1.9,virginica\\n6.8,3.0,5.5,2.1,virginica\\n5.7,2.5,5.0,2.0,virginica\\n5.8,2.8,5.1,2.4,virginica\\n6.4,3.2,5.3,2.3,virginica\\n6.5,3.0,5.5,1.8,virginica\\n7.7,3.8,6.7,2.2,virginica\\n7.7,2.6,6.9,2.3,virginica\\n6.0,2.2,5.0,1.5,virginica\\n6.9,3.2,5.7,2.3,virginica\\n5.6,2.8,4.9,2.0,virginica\\n7.7,2.8,6.7,2.0,virginica\\n6.3,2.7,4.9,1.8,virginica\\n6.7,3.3,5.7,2.1,virginica\\n7.2,3.2,6.0,1.8,virginica\\n6.2,2.8,4.8,1.8,virginica\\n6.1,3.0,4.9,1.8,virginica\\n6.4,2.8,5.6,2.1,virginica\\n7.2,3.0,5.8,1.6,virginica\\n7.4,2.8,6.1,1.9,virginica\\n7.9,3.8,6.4,2.0,virginica\\n6.4,2.8,5.6,2.2,virginica\\n6.3,2.8,5.1,1.5,virginica\\n6.1,2.6,5.6,1.4,virginica\\n7.7,3.0,6.1,2.3,virginica\\n6.3,3.4,5.6,2.4,virginica\\n6.4,3.1,5.5,1.8,virginica\\n6.0,3.0,4.8,1.8,virginica\\n6.9,3.1,5.4,2.1,virginica\\n6.7,3.1,5.6,2.4,virginica\\n6.9,3.1,5.1,2.3,virginica\\n5.8,2.7,5.1,1.9,virginica\\n6.8,3.2,5.9,2.3,virginica\\n6.7,3.3,5.7,2.5,virginica\\n6.7,3.0,5.2,2.3,virginica\\n6.3,2.5,5.0,1.9,virginica\\n6.5,3.0,5.2,2.0,virginica\\n6.2,3.4,5.4,2.3,virginica\\n5.9,3.0,5.1,1.8,virginica\\n'}"
      ]
     },
     "execution_count": 6,
     "metadata": {
      "tags": []
     },
     "output_type": "execute_result"
    }
   ],
   "source": [
    "from google.colab import files\n",
    "files.upload()"
   ]
  },
  {
   "cell_type": "code",
   "execution_count": null,
   "metadata": {
    "colab": {
     "base_uri": "https://localhost:8080/",
     "height": 35
    },
    "colab_type": "code",
    "id": "LQosrLvOX4UF",
    "outputId": "5552a649-664c-4737-80aa-795a19027d10"
   },
   "outputs": [
    {
     "name": "stdout",
     "output_type": "stream",
     "text": [
      "<class 'pandas.core.frame.DataFrame'>\n"
     ]
    }
   ],
   "source": [
    "iris_data = pd.read_csv('iris.csv')\n",
    "print(type(iris_data))"
   ]
  },
  {
   "cell_type": "code",
   "execution_count": null,
   "metadata": {
    "colab": {
     "base_uri": "https://localhost:8080/",
     "height": 355
    },
    "colab_type": "code",
    "id": "EfJvfU5IYLUQ",
    "outputId": "f861b01a-49c2-48c2-87a3-9db9315cfa08"
   },
   "outputs": [
    {
     "data": {
      "text/html": [
       "<div>\n",
       "<style scoped>\n",
       "    .dataframe tbody tr th:only-of-type {\n",
       "        vertical-align: middle;\n",
       "    }\n",
       "\n",
       "    .dataframe tbody tr th {\n",
       "        vertical-align: top;\n",
       "    }\n",
       "\n",
       "    .dataframe thead th {\n",
       "        text-align: right;\n",
       "    }\n",
       "</style>\n",
       "<table border=\"1\" class=\"dataframe\">\n",
       "  <thead>\n",
       "    <tr style=\"text-align: right;\">\n",
       "      <th></th>\n",
       "      <th>sepal_length</th>\n",
       "      <th>sepal_width</th>\n",
       "      <th>petal_length</th>\n",
       "      <th>petal_width</th>\n",
       "      <th>species</th>\n",
       "    </tr>\n",
       "  </thead>\n",
       "  <tbody>\n",
       "    <tr>\n",
       "      <th>0</th>\n",
       "      <td>5.1</td>\n",
       "      <td>3.5</td>\n",
       "      <td>1.4</td>\n",
       "      <td>0.2</td>\n",
       "      <td>setosa</td>\n",
       "    </tr>\n",
       "    <tr>\n",
       "      <th>1</th>\n",
       "      <td>4.9</td>\n",
       "      <td>3.0</td>\n",
       "      <td>1.4</td>\n",
       "      <td>0.2</td>\n",
       "      <td>setosa</td>\n",
       "    </tr>\n",
       "    <tr>\n",
       "      <th>2</th>\n",
       "      <td>4.7</td>\n",
       "      <td>3.2</td>\n",
       "      <td>1.3</td>\n",
       "      <td>0.2</td>\n",
       "      <td>setosa</td>\n",
       "    </tr>\n",
       "    <tr>\n",
       "      <th>3</th>\n",
       "      <td>4.6</td>\n",
       "      <td>3.1</td>\n",
       "      <td>1.5</td>\n",
       "      <td>0.2</td>\n",
       "      <td>setosa</td>\n",
       "    </tr>\n",
       "    <tr>\n",
       "      <th>4</th>\n",
       "      <td>5.0</td>\n",
       "      <td>3.6</td>\n",
       "      <td>1.4</td>\n",
       "      <td>0.2</td>\n",
       "      <td>setosa</td>\n",
       "    </tr>\n",
       "    <tr>\n",
       "      <th>5</th>\n",
       "      <td>5.4</td>\n",
       "      <td>3.9</td>\n",
       "      <td>1.7</td>\n",
       "      <td>0.4</td>\n",
       "      <td>setosa</td>\n",
       "    </tr>\n",
       "    <tr>\n",
       "      <th>6</th>\n",
       "      <td>4.6</td>\n",
       "      <td>3.4</td>\n",
       "      <td>1.4</td>\n",
       "      <td>0.3</td>\n",
       "      <td>setosa</td>\n",
       "    </tr>\n",
       "    <tr>\n",
       "      <th>7</th>\n",
       "      <td>5.0</td>\n",
       "      <td>3.4</td>\n",
       "      <td>1.5</td>\n",
       "      <td>0.2</td>\n",
       "      <td>setosa</td>\n",
       "    </tr>\n",
       "    <tr>\n",
       "      <th>8</th>\n",
       "      <td>4.4</td>\n",
       "      <td>2.9</td>\n",
       "      <td>1.4</td>\n",
       "      <td>0.2</td>\n",
       "      <td>setosa</td>\n",
       "    </tr>\n",
       "    <tr>\n",
       "      <th>9</th>\n",
       "      <td>4.9</td>\n",
       "      <td>3.1</td>\n",
       "      <td>1.5</td>\n",
       "      <td>0.1</td>\n",
       "      <td>setosa</td>\n",
       "    </tr>\n",
       "  </tbody>\n",
       "</table>\n",
       "</div>"
      ],
      "text/plain": [
       "   sepal_length  sepal_width  petal_length  petal_width species\n",
       "0           5.1          3.5           1.4          0.2  setosa\n",
       "1           4.9          3.0           1.4          0.2  setosa\n",
       "2           4.7          3.2           1.3          0.2  setosa\n",
       "3           4.6          3.1           1.5          0.2  setosa\n",
       "4           5.0          3.6           1.4          0.2  setosa\n",
       "5           5.4          3.9           1.7          0.4  setosa\n",
       "6           4.6          3.4           1.4          0.3  setosa\n",
       "7           5.0          3.4           1.5          0.2  setosa\n",
       "8           4.4          2.9           1.4          0.2  setosa\n",
       "9           4.9          3.1           1.5          0.1  setosa"
      ]
     },
     "execution_count": 8,
     "metadata": {
      "tags": []
     },
     "output_type": "execute_result"
    }
   ],
   "source": [
    "iris_data.head(10)"
   ]
  },
  {
   "cell_type": "code",
   "execution_count": null,
   "metadata": {
    "colab": {
     "base_uri": "https://localhost:8080/",
     "height": 263
    },
    "colab_type": "code",
    "id": "pygFsHujYiLS",
    "outputId": "0abb6abc-7af7-4e7b-8072-0c0bdaf46896"
   },
   "outputs": [
    {
     "data": {
      "text/html": [
       "<div>\n",
       "<style scoped>\n",
       "    .dataframe tbody tr th:only-of-type {\n",
       "        vertical-align: middle;\n",
       "    }\n",
       "\n",
       "    .dataframe tbody tr th {\n",
       "        vertical-align: top;\n",
       "    }\n",
       "\n",
       "    .dataframe thead th {\n",
       "        text-align: right;\n",
       "    }\n",
       "</style>\n",
       "<table border=\"1\" class=\"dataframe\">\n",
       "  <thead>\n",
       "    <tr style=\"text-align: right;\">\n",
       "      <th></th>\n",
       "      <th>sepal_length</th>\n",
       "      <th>sepal_width</th>\n",
       "      <th>petal_length</th>\n",
       "      <th>petal_width</th>\n",
       "      <th>species</th>\n",
       "    </tr>\n",
       "  </thead>\n",
       "  <tbody>\n",
       "    <tr>\n",
       "      <th>143</th>\n",
       "      <td>6.8</td>\n",
       "      <td>3.2</td>\n",
       "      <td>5.9</td>\n",
       "      <td>2.3</td>\n",
       "      <td>virginica</td>\n",
       "    </tr>\n",
       "    <tr>\n",
       "      <th>144</th>\n",
       "      <td>6.7</td>\n",
       "      <td>3.3</td>\n",
       "      <td>5.7</td>\n",
       "      <td>2.5</td>\n",
       "      <td>virginica</td>\n",
       "    </tr>\n",
       "    <tr>\n",
       "      <th>145</th>\n",
       "      <td>6.7</td>\n",
       "      <td>3.0</td>\n",
       "      <td>5.2</td>\n",
       "      <td>2.3</td>\n",
       "      <td>virginica</td>\n",
       "    </tr>\n",
       "    <tr>\n",
       "      <th>146</th>\n",
       "      <td>6.3</td>\n",
       "      <td>2.5</td>\n",
       "      <td>5.0</td>\n",
       "      <td>1.9</td>\n",
       "      <td>virginica</td>\n",
       "    </tr>\n",
       "    <tr>\n",
       "      <th>147</th>\n",
       "      <td>6.5</td>\n",
       "      <td>3.0</td>\n",
       "      <td>5.2</td>\n",
       "      <td>2.0</td>\n",
       "      <td>virginica</td>\n",
       "    </tr>\n",
       "    <tr>\n",
       "      <th>148</th>\n",
       "      <td>6.2</td>\n",
       "      <td>3.4</td>\n",
       "      <td>5.4</td>\n",
       "      <td>2.3</td>\n",
       "      <td>virginica</td>\n",
       "    </tr>\n",
       "    <tr>\n",
       "      <th>149</th>\n",
       "      <td>5.9</td>\n",
       "      <td>3.0</td>\n",
       "      <td>5.1</td>\n",
       "      <td>1.8</td>\n",
       "      <td>virginica</td>\n",
       "    </tr>\n",
       "  </tbody>\n",
       "</table>\n",
       "</div>"
      ],
      "text/plain": [
       "     sepal_length  sepal_width  petal_length  petal_width    species\n",
       "143           6.8          3.2           5.9          2.3  virginica\n",
       "144           6.7          3.3           5.7          2.5  virginica\n",
       "145           6.7          3.0           5.2          2.3  virginica\n",
       "146           6.3          2.5           5.0          1.9  virginica\n",
       "147           6.5          3.0           5.2          2.0  virginica\n",
       "148           6.2          3.4           5.4          2.3  virginica\n",
       "149           5.9          3.0           5.1          1.8  virginica"
      ]
     },
     "execution_count": 9,
     "metadata": {
      "tags": []
     },
     "output_type": "execute_result"
    }
   ],
   "source": [
    "iris_data.tail(7)"
   ]
  },
  {
   "cell_type": "code",
   "execution_count": null,
   "metadata": {
    "colab": {
     "base_uri": "https://localhost:8080/",
     "height": 294
    },
    "colab_type": "code",
    "id": "0tLWgzVmYmUU",
    "outputId": "e49e7809-118f-4161-c202-80dee7eddbbf"
   },
   "outputs": [
    {
     "data": {
      "text/html": [
       "<div>\n",
       "<style scoped>\n",
       "    .dataframe tbody tr th:only-of-type {\n",
       "        vertical-align: middle;\n",
       "    }\n",
       "\n",
       "    .dataframe tbody tr th {\n",
       "        vertical-align: top;\n",
       "    }\n",
       "\n",
       "    .dataframe thead th {\n",
       "        text-align: right;\n",
       "    }\n",
       "</style>\n",
       "<table border=\"1\" class=\"dataframe\">\n",
       "  <thead>\n",
       "    <tr style=\"text-align: right;\">\n",
       "      <th></th>\n",
       "      <th>sepal_length</th>\n",
       "      <th>sepal_width</th>\n",
       "      <th>petal_length</th>\n",
       "      <th>petal_width</th>\n",
       "    </tr>\n",
       "  </thead>\n",
       "  <tbody>\n",
       "    <tr>\n",
       "      <th>count</th>\n",
       "      <td>150.000000</td>\n",
       "      <td>150.000000</td>\n",
       "      <td>150.000000</td>\n",
       "      <td>150.000000</td>\n",
       "    </tr>\n",
       "    <tr>\n",
       "      <th>mean</th>\n",
       "      <td>5.843333</td>\n",
       "      <td>3.054000</td>\n",
       "      <td>3.758667</td>\n",
       "      <td>1.198667</td>\n",
       "    </tr>\n",
       "    <tr>\n",
       "      <th>std</th>\n",
       "      <td>0.828066</td>\n",
       "      <td>0.433594</td>\n",
       "      <td>1.764420</td>\n",
       "      <td>0.763161</td>\n",
       "    </tr>\n",
       "    <tr>\n",
       "      <th>min</th>\n",
       "      <td>4.300000</td>\n",
       "      <td>2.000000</td>\n",
       "      <td>1.000000</td>\n",
       "      <td>0.100000</td>\n",
       "    </tr>\n",
       "    <tr>\n",
       "      <th>25%</th>\n",
       "      <td>5.100000</td>\n",
       "      <td>2.800000</td>\n",
       "      <td>1.600000</td>\n",
       "      <td>0.300000</td>\n",
       "    </tr>\n",
       "    <tr>\n",
       "      <th>50%</th>\n",
       "      <td>5.800000</td>\n",
       "      <td>3.000000</td>\n",
       "      <td>4.350000</td>\n",
       "      <td>1.300000</td>\n",
       "    </tr>\n",
       "    <tr>\n",
       "      <th>75%</th>\n",
       "      <td>6.400000</td>\n",
       "      <td>3.300000</td>\n",
       "      <td>5.100000</td>\n",
       "      <td>1.800000</td>\n",
       "    </tr>\n",
       "    <tr>\n",
       "      <th>max</th>\n",
       "      <td>7.900000</td>\n",
       "      <td>4.400000</td>\n",
       "      <td>6.900000</td>\n",
       "      <td>2.500000</td>\n",
       "    </tr>\n",
       "  </tbody>\n",
       "</table>\n",
       "</div>"
      ],
      "text/plain": [
       "       sepal_length  sepal_width  petal_length  petal_width\n",
       "count    150.000000   150.000000    150.000000   150.000000\n",
       "mean       5.843333     3.054000      3.758667     1.198667\n",
       "std        0.828066     0.433594      1.764420     0.763161\n",
       "min        4.300000     2.000000      1.000000     0.100000\n",
       "25%        5.100000     2.800000      1.600000     0.300000\n",
       "50%        5.800000     3.000000      4.350000     1.300000\n",
       "75%        6.400000     3.300000      5.100000     1.800000\n",
       "max        7.900000     4.400000      6.900000     2.500000"
      ]
     },
     "execution_count": 10,
     "metadata": {
      "tags": []
     },
     "output_type": "execute_result"
    }
   ],
   "source": [
    "iris_data.describe()"
   ]
  },
  {
   "cell_type": "code",
   "execution_count": null,
   "metadata": {
    "colab": {
     "base_uri": "https://localhost:8080/",
     "height": 191
    },
    "colab_type": "code",
    "id": "O6hz4hkWYPf8",
    "outputId": "eb59657b-9370-4fa3-a3c1-6cc18810169d"
   },
   "outputs": [
    {
     "name": "stdout",
     "output_type": "stream",
     "text": [
      "<class 'pandas.core.frame.DataFrame'>\n",
      "RangeIndex: 150 entries, 0 to 149\n",
      "Data columns (total 5 columns):\n",
      "sepal_length    150 non-null float64\n",
      "sepal_width     150 non-null float64\n",
      "petal_length    150 non-null float64\n",
      "petal_width     150 non-null float64\n",
      "species         150 non-null object\n",
      "dtypes: float64(4), object(1)\n",
      "memory usage: 5.9+ KB\n"
     ]
    }
   ],
   "source": [
    "iris_data.info()"
   ]
  },
  {
   "cell_type": "code",
   "execution_count": null,
   "metadata": {
    "colab": {
     "base_uri": "https://localhost:8080/",
     "height": 416
    },
    "colab_type": "code",
    "id": "hsBjZRlqZIjb",
    "outputId": "e708a486-494e-47fb-a9ef-df183956dac9"
   },
   "outputs": [
    {
     "data": {
      "text/plain": [
       "0.2    28\n",
       "1.3    13\n",
       "1.5    12\n",
       "1.8    12\n",
       "1.4     8\n",
       "2.3     8\n",
       "1.0     7\n",
       "0.3     7\n",
       "0.4     7\n",
       "0.1     6\n",
       "2.0     6\n",
       "2.1     6\n",
       "1.2     5\n",
       "1.9     5\n",
       "1.6     4\n",
       "2.5     3\n",
       "2.2     3\n",
       "2.4     3\n",
       "1.1     3\n",
       "1.7     2\n",
       "0.6     1\n",
       "0.5     1\n",
       "Name: petal_width, dtype: int64"
      ]
     },
     "execution_count": 12,
     "metadata": {
      "tags": []
     },
     "output_type": "execute_result"
    }
   ],
   "source": [
    "iris_data.petal_width.value_counts()"
   ]
  },
  {
   "cell_type": "code",
   "execution_count": null,
   "metadata": {
    "colab": {
     "base_uri": "https://localhost:8080/",
     "height": 1092
    },
    "colab_type": "code",
    "id": "bAWgi2_jYZ-v",
    "outputId": "a84d9b86-a3cc-4911-b408-7cf6f0b385c9"
   },
   "outputs": [
    {
     "data": {
      "text/plain": [
       "0      3.5\n",
       "1      3.0\n",
       "2      3.2\n",
       "3      3.1\n",
       "4      3.6\n",
       "5      3.9\n",
       "6      3.4\n",
       "7      3.4\n",
       "8      2.9\n",
       "9      3.1\n",
       "10     3.7\n",
       "11     3.4\n",
       "12     3.0\n",
       "13     3.0\n",
       "14     4.0\n",
       "15     4.4\n",
       "16     3.9\n",
       "17     3.5\n",
       "18     3.8\n",
       "19     3.8\n",
       "20     3.4\n",
       "21     3.7\n",
       "22     3.6\n",
       "23     3.3\n",
       "24     3.4\n",
       "25     3.0\n",
       "26     3.4\n",
       "27     3.5\n",
       "28     3.4\n",
       "29     3.2\n",
       "      ... \n",
       "120    3.2\n",
       "121    2.8\n",
       "122    2.8\n",
       "123    2.7\n",
       "124    3.3\n",
       "125    3.2\n",
       "126    2.8\n",
       "127    3.0\n",
       "128    2.8\n",
       "129    3.0\n",
       "130    2.8\n",
       "131    3.8\n",
       "132    2.8\n",
       "133    2.8\n",
       "134    2.6\n",
       "135    3.0\n",
       "136    3.4\n",
       "137    3.1\n",
       "138    3.0\n",
       "139    3.1\n",
       "140    3.1\n",
       "141    3.1\n",
       "142    2.7\n",
       "143    3.2\n",
       "144    3.3\n",
       "145    3.0\n",
       "146    2.5\n",
       "147    3.0\n",
       "148    3.4\n",
       "149    3.0\n",
       "Name: sepal_width, Length: 150, dtype: float64"
      ]
     },
     "execution_count": 13,
     "metadata": {
      "tags": []
     },
     "output_type": "execute_result"
    }
   ],
   "source": [
    "iris_data.sepal_width"
   ]
  },
  {
   "cell_type": "code",
   "execution_count": null,
   "metadata": {
    "colab": {
     "base_uri": "https://localhost:8080/",
     "height": 121
    },
    "colab_type": "code",
    "id": "XPipjmplgNnZ",
    "outputId": "47f60102-9c81-4f89-a956-4637e40d15fd"
   },
   "outputs": [
    {
     "data": {
      "text/plain": [
       "0    3.5\n",
       "1    3.0\n",
       "2    3.2\n",
       "3    3.1\n",
       "4    3.6\n",
       "Name: sepal_width, dtype: float64"
      ]
     },
     "execution_count": 14,
     "metadata": {
      "tags": []
     },
     "output_type": "execute_result"
    }
   ],
   "source": [
    "iris_data.sepal_width.head()"
   ]
  },
  {
   "cell_type": "code",
   "execution_count": null,
   "metadata": {
    "colab": {
     "base_uri": "https://localhost:8080/",
     "height": 121
    },
    "colab_type": "code",
    "id": "MFENMq3cxSR-",
    "outputId": "f9b6b2e0-ad2c-462e-bbd6-1a94aa681749"
   },
   "outputs": [
    {
     "data": {
      "text/plain": [
       "145    2.3\n",
       "146    1.9\n",
       "147    2.0\n",
       "148    2.3\n",
       "149    1.8\n",
       "Name: petal_width, dtype: float64"
      ]
     },
     "execution_count": 15,
     "metadata": {
      "tags": []
     },
     "output_type": "execute_result"
    }
   ],
   "source": [
    "iris_data.petal_width.tail()"
   ]
  },
  {
   "cell_type": "markdown",
   "metadata": {
    "colab_type": "text",
    "id": "5PsvmkTkUgeg"
   },
   "source": [
    "### Loading JSON"
   ]
  },
  {
   "cell_type": "code",
   "execution_count": null,
   "metadata": {
    "colab": {
     "base_uri": "https://localhost:8080/",
     "height": 113,
     "resources": {
      "http://localhost:8080/nbextensions/google.colab/files.js": {
       "data": "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",
       "headers": [
        [
         "content-type",
         "application/javascript"
        ]
       ],
       "ok": true,
       "status": 200,
       "status_text": ""
      }
     }
    },
    "colab_type": "code",
    "id": "iI2Z8y3qjg6x",
    "outputId": "a26acb94-6dae-4d3e-fd54-f113132afefa"
   },
   "outputs": [
    {
     "data": {
      "text/html": [
       "\n",
       "     <input type=\"file\" id=\"files-90cf5433-8c64-43af-88d8-77000c4f8fdf\" name=\"files[]\" multiple disabled />\n",
       "     <output id=\"result-90cf5433-8c64-43af-88d8-77000c4f8fdf\">\n",
       "      Upload widget is only available when the cell has been executed in the\n",
       "      current browser session. Please rerun this cell to enable.\n",
       "      </output>\n",
       "      <script src=\"/nbextensions/google.colab/files.js\"></script> "
      ],
      "text/plain": [
       "<IPython.core.display.HTML object>"
      ]
     },
     "metadata": {
      "tags": []
     },
     "output_type": "display_data"
    },
    {
     "name": "stdout",
     "output_type": "stream",
     "text": [
      "Saving movie.json.txt to movie.json.txt\n"
     ]
    },
    {
     "data": {
      "text/plain": [
       "{'movie.json.txt': b'{\\n\\n    \"David Smith\": \\n\\n    {\\n\\n        \"Vertigo\": 4,\\n\\n        \"Scarface\": 4.5,\\n\\n        \"Raging Bull\": 3.0,\\n\\n        \"Goodfellas\": 4.5,\\n\\n        \"The Apartment\": 1.0\\n\\n    },\\n\\n    \"Brenda Peterson\": \\n\\n    {\\n\\n        \"Vertigo\": 3.0,\\n\\n        \"Scarface\": 1.5,\\n\\n        \"Raging Bull\": 1.0,\\n\\n        \"Goodfellas\": 2.0,\\n\\n        \"The Apartment\": 5.0,\\n\\n        \"Roman Holiday\": 4.5 \\n\\n    },\\n\\n    \"Bill Duffy\": \\n\\n    {\\n\\n        \"Vertigo\": 4.5,\\n\\n        \"Scarface\": 5.0,\\n\\n        \"Goodfellas\": 4.5,\\n\\n        \"The Apartment\": 1.0\\n\\n    },\\n\\n    \"Samuel Miller\": \\n\\n    {\\n\\n        \"Scarface\": 3.5,\\n\\n        \"Raging Bull\": 5.0,\\n\\n        \"The Apartment\": 1.0,\\n\\n        \"Goodfellas\": 5.0,\\n\\n        \"Roman Holiday\": 1.0 \\n\\n    },\\n\\n    \"Julie Hammel\": \\n\\n    {\\n\\n       \"Scarface\": 2.5,\\n\\n       \"Roman Holiday\": 4.5,\\n\\n       \"Goodfellas\": 3.0\\n\\n    },\\n\\n    \"Clarissa Jackson\": \\n\\n    {\\n\\n        \"Vertigo\": 5.0,\\n\\n        \"Scarface\": 4.5,\\n\\n        \"Raging Bull\": 4.0,\\n\\n        \"Goodfellas\": 2.5,\\n\\n        \"The Apartment\": 1.0,\\n\\n        \"Roman Holiday\": 1.5\\n\\n    },\\n\\n    \"Adam Cohen\": \\n\\n    {\\n\\n       \"Vertigo\": 3.5,\\n\\n       \"Scarface\": 3.0,\\n\\n       \"The Apartment\": 1.0,\\n\\n       \"Goodfellas\": 4.5,\\n\\n       \"Roman Holiday\": 3.0\\n\\n    },\\n\\n    \"Chris Duncan\": \\n\\n    {\\n\\n       \"The Apartment\": 1.5,\\n\\n       \"Raging Bull\": 4.5\\n\\n    }\\n\\n}'}"
      ]
     },
     "execution_count": 16,
     "metadata": {
      "tags": []
     },
     "output_type": "execute_result"
    }
   ],
   "source": [
    "files.upload()"
   ]
  },
  {
   "cell_type": "code",
   "execution_count": null,
   "metadata": {
    "colab": {
     "base_uri": "https://localhost:8080/",
     "height": 233
    },
    "colab_type": "code",
    "id": "f9PXN3RPj7xb",
    "outputId": "9a131b0e-ba82-4ebb-bbe6-545fd5298cfa"
   },
   "outputs": [
    {
     "data": {
      "text/html": [
       "<div>\n",
       "<style scoped>\n",
       "    .dataframe tbody tr th:only-of-type {\n",
       "        vertical-align: middle;\n",
       "    }\n",
       "\n",
       "    .dataframe tbody tr th {\n",
       "        vertical-align: top;\n",
       "    }\n",
       "\n",
       "    .dataframe thead th {\n",
       "        text-align: right;\n",
       "    }\n",
       "</style>\n",
       "<table border=\"1\" class=\"dataframe\">\n",
       "  <thead>\n",
       "    <tr style=\"text-align: right;\">\n",
       "      <th></th>\n",
       "      <th>David Smith</th>\n",
       "      <th>Brenda Peterson</th>\n",
       "      <th>Bill Duffy</th>\n",
       "      <th>Samuel Miller</th>\n",
       "      <th>Julie Hammel</th>\n",
       "      <th>Clarissa Jackson</th>\n",
       "      <th>Adam Cohen</th>\n",
       "      <th>Chris Duncan</th>\n",
       "    </tr>\n",
       "  </thead>\n",
       "  <tbody>\n",
       "    <tr>\n",
       "      <th>Goodfellas</th>\n",
       "      <td>4.5</td>\n",
       "      <td>2.0</td>\n",
       "      <td>4.5</td>\n",
       "      <td>5.0</td>\n",
       "      <td>3.0</td>\n",
       "      <td>2.5</td>\n",
       "      <td>4.5</td>\n",
       "      <td>NaN</td>\n",
       "    </tr>\n",
       "    <tr>\n",
       "      <th>Raging Bull</th>\n",
       "      <td>3.0</td>\n",
       "      <td>1.0</td>\n",
       "      <td>NaN</td>\n",
       "      <td>5.0</td>\n",
       "      <td>NaN</td>\n",
       "      <td>4.0</td>\n",
       "      <td>NaN</td>\n",
       "      <td>4.5</td>\n",
       "    </tr>\n",
       "    <tr>\n",
       "      <th>Roman Holiday</th>\n",
       "      <td>NaN</td>\n",
       "      <td>4.5</td>\n",
       "      <td>NaN</td>\n",
       "      <td>1.0</td>\n",
       "      <td>4.5</td>\n",
       "      <td>1.5</td>\n",
       "      <td>3.0</td>\n",
       "      <td>NaN</td>\n",
       "    </tr>\n",
       "    <tr>\n",
       "      <th>Scarface</th>\n",
       "      <td>4.5</td>\n",
       "      <td>1.5</td>\n",
       "      <td>5.0</td>\n",
       "      <td>3.5</td>\n",
       "      <td>2.5</td>\n",
       "      <td>4.5</td>\n",
       "      <td>3.0</td>\n",
       "      <td>NaN</td>\n",
       "    </tr>\n",
       "    <tr>\n",
       "      <th>The Apartment</th>\n",
       "      <td>1.0</td>\n",
       "      <td>5.0</td>\n",
       "      <td>1.0</td>\n",
       "      <td>1.0</td>\n",
       "      <td>NaN</td>\n",
       "      <td>1.0</td>\n",
       "      <td>1.0</td>\n",
       "      <td>1.5</td>\n",
       "    </tr>\n",
       "    <tr>\n",
       "      <th>Vertigo</th>\n",
       "      <td>4.0</td>\n",
       "      <td>3.0</td>\n",
       "      <td>4.5</td>\n",
       "      <td>NaN</td>\n",
       "      <td>NaN</td>\n",
       "      <td>5.0</td>\n",
       "      <td>3.5</td>\n",
       "      <td>NaN</td>\n",
       "    </tr>\n",
       "  </tbody>\n",
       "</table>\n",
       "</div>"
      ],
      "text/plain": [
       "               David Smith  Brenda Peterson  ...  Adam Cohen  Chris Duncan\n",
       "Goodfellas             4.5              2.0  ...         4.5           NaN\n",
       "Raging Bull            3.0              1.0  ...         NaN           4.5\n",
       "Roman Holiday          NaN              4.5  ...         3.0           NaN\n",
       "Scarface               4.5              1.5  ...         3.0           NaN\n",
       "The Apartment          1.0              5.0  ...         1.0           1.5\n",
       "Vertigo                4.0              3.0  ...         3.5           NaN\n",
       "\n",
       "[6 rows x 8 columns]"
      ]
     },
     "execution_count": 17,
     "metadata": {
      "tags": []
     },
     "output_type": "execute_result"
    }
   ],
   "source": [
    "movie_data = pd.read_json('movie.json.txt')\n",
    "movie_data"
   ]
  },
  {
   "cell_type": "code",
   "execution_count": null,
   "metadata": {
    "colab": {
     "base_uri": "https://localhost:8080/",
     "height": 294
    },
    "colab_type": "code",
    "id": "15aCoATDnqot",
    "outputId": "197f279e-a9e9-4f60-bf2a-b2ac4bc90e66"
   },
   "outputs": [
    {
     "data": {
      "text/html": [
       "<div>\n",
       "<style scoped>\n",
       "    .dataframe tbody tr th:only-of-type {\n",
       "        vertical-align: middle;\n",
       "    }\n",
       "\n",
       "    .dataframe tbody tr th {\n",
       "        vertical-align: top;\n",
       "    }\n",
       "\n",
       "    .dataframe thead th {\n",
       "        text-align: right;\n",
       "    }\n",
       "</style>\n",
       "<table border=\"1\" class=\"dataframe\">\n",
       "  <thead>\n",
       "    <tr style=\"text-align: right;\">\n",
       "      <th></th>\n",
       "      <th>David Smith</th>\n",
       "      <th>Brenda Peterson</th>\n",
       "      <th>Bill Duffy</th>\n",
       "      <th>Samuel Miller</th>\n",
       "      <th>Julie Hammel</th>\n",
       "      <th>Clarissa Jackson</th>\n",
       "      <th>Adam Cohen</th>\n",
       "      <th>Chris Duncan</th>\n",
       "    </tr>\n",
       "  </thead>\n",
       "  <tbody>\n",
       "    <tr>\n",
       "      <th>count</th>\n",
       "      <td>5.000000</td>\n",
       "      <td>6.000000</td>\n",
       "      <td>4.000000</td>\n",
       "      <td>5.000000</td>\n",
       "      <td>3.000000</td>\n",
       "      <td>6.000000</td>\n",
       "      <td>5.000000</td>\n",
       "      <td>2.00000</td>\n",
       "    </tr>\n",
       "    <tr>\n",
       "      <th>mean</th>\n",
       "      <td>3.400000</td>\n",
       "      <td>2.833333</td>\n",
       "      <td>3.750000</td>\n",
       "      <td>3.100000</td>\n",
       "      <td>3.333333</td>\n",
       "      <td>3.083333</td>\n",
       "      <td>3.000000</td>\n",
       "      <td>3.00000</td>\n",
       "    </tr>\n",
       "    <tr>\n",
       "      <th>std</th>\n",
       "      <td>1.474788</td>\n",
       "      <td>1.632993</td>\n",
       "      <td>1.848423</td>\n",
       "      <td>2.012461</td>\n",
       "      <td>1.040833</td>\n",
       "      <td>1.655798</td>\n",
       "      <td>1.274755</td>\n",
       "      <td>2.12132</td>\n",
       "    </tr>\n",
       "    <tr>\n",
       "      <th>min</th>\n",
       "      <td>1.000000</td>\n",
       "      <td>1.000000</td>\n",
       "      <td>1.000000</td>\n",
       "      <td>1.000000</td>\n",
       "      <td>2.500000</td>\n",
       "      <td>1.000000</td>\n",
       "      <td>1.000000</td>\n",
       "      <td>1.50000</td>\n",
       "    </tr>\n",
       "    <tr>\n",
       "      <th>25%</th>\n",
       "      <td>3.000000</td>\n",
       "      <td>1.625000</td>\n",
       "      <td>3.625000</td>\n",
       "      <td>1.000000</td>\n",
       "      <td>2.750000</td>\n",
       "      <td>1.750000</td>\n",
       "      <td>3.000000</td>\n",
       "      <td>2.25000</td>\n",
       "    </tr>\n",
       "    <tr>\n",
       "      <th>50%</th>\n",
       "      <td>4.000000</td>\n",
       "      <td>2.500000</td>\n",
       "      <td>4.500000</td>\n",
       "      <td>3.500000</td>\n",
       "      <td>3.000000</td>\n",
       "      <td>3.250000</td>\n",
       "      <td>3.000000</td>\n",
       "      <td>3.00000</td>\n",
       "    </tr>\n",
       "    <tr>\n",
       "      <th>75%</th>\n",
       "      <td>4.500000</td>\n",
       "      <td>4.125000</td>\n",
       "      <td>4.625000</td>\n",
       "      <td>5.000000</td>\n",
       "      <td>3.750000</td>\n",
       "      <td>4.375000</td>\n",
       "      <td>3.500000</td>\n",
       "      <td>3.75000</td>\n",
       "    </tr>\n",
       "    <tr>\n",
       "      <th>max</th>\n",
       "      <td>4.500000</td>\n",
       "      <td>5.000000</td>\n",
       "      <td>5.000000</td>\n",
       "      <td>5.000000</td>\n",
       "      <td>4.500000</td>\n",
       "      <td>5.000000</td>\n",
       "      <td>4.500000</td>\n",
       "      <td>4.50000</td>\n",
       "    </tr>\n",
       "  </tbody>\n",
       "</table>\n",
       "</div>"
      ],
      "text/plain": [
       "       David Smith  Brenda Peterson  ...  Adam Cohen  Chris Duncan\n",
       "count     5.000000         6.000000  ...    5.000000       2.00000\n",
       "mean      3.400000         2.833333  ...    3.000000       3.00000\n",
       "std       1.474788         1.632993  ...    1.274755       2.12132\n",
       "min       1.000000         1.000000  ...    1.000000       1.50000\n",
       "25%       3.000000         1.625000  ...    3.000000       2.25000\n",
       "50%       4.000000         2.500000  ...    3.000000       3.00000\n",
       "75%       4.500000         4.125000  ...    3.500000       3.75000\n",
       "max       4.500000         5.000000  ...    4.500000       4.50000\n",
       "\n",
       "[8 rows x 8 columns]"
      ]
     },
     "execution_count": 18,
     "metadata": {
      "tags": []
     },
     "output_type": "execute_result"
    }
   ],
   "source": [
    "movie_data.describe()"
   ]
  },
  {
   "cell_type": "markdown",
   "metadata": {
    "colab_type": "text",
    "id": "tBPEOPpbnwc-"
   },
   "source": [
    "### Accessing subset of data - rows, columns, filters"
   ]
  },
  {
   "cell_type": "code",
   "execution_count": null,
   "metadata": {
    "colab": {
     "base_uri": "https://localhost:8080/",
     "height": 113,
     "resources": {
      "http://localhost:8080/nbextensions/google.colab/files.js": {
       "data": "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",
       "headers": [
        [
         "content-type",
         "application/javascript"
        ]
       ],
       "ok": true,
       "status": 200,
       "status_text": ""
      }
     }
    },
    "colab_type": "code",
    "id": "DZBGgGOFn5u7",
    "outputId": "3773e2d9-c567-480c-88c2-fe9a85b232e5"
   },
   "outputs": [
    {
     "data": {
      "text/html": [
       "\n",
       "     <input type=\"file\" id=\"files-0763590f-99b4-411f-b5b1-b30e1a3b0e8e\" name=\"files[]\" multiple disabled />\n",
       "     <output id=\"result-0763590f-99b4-411f-b5b1-b30e1a3b0e8e\">\n",
       "      Upload widget is only available when the cell has been executed in the\n",
       "      current browser session. Please rerun this cell to enable.\n",
       "      </output>\n",
       "      <script src=\"/nbextensions/google.colab/files.js\"></script> "
      ],
      "text/plain": [
       "<IPython.core.display.HTML object>"
      ]
     },
     "metadata": {
      "tags": []
     },
     "output_type": "display_data"
    },
    {
     "name": "stdout",
     "output_type": "stream",
     "text": [
      "Saving HR_comma_sep.csv.txt to HR_comma_sep.csv.txt\n"
     ]
    },
    {
     "data": {
      "text/plain": [
       "{'HR_comma_sep.csv.txt': b'satisfaction_level,last_evaluation,number_project,average_montly_hours,time_spend_company,Work_accident,left,promotion_last_5years,sales,salary\\n0.38,0.53,2,157,3,0,1,0,sales,low\\n0.8,0.86,5,262,6,0,1,0,sales,medium\\n0.11,0.88,7,272,4,0,1,0,sales,medium\\n0.72,0.87,5,223,5,0,1,0,sales,low\\n0.37,0.52,2,159,3,0,1,0,sales,low\\n0.41,0.5,2,153,3,0,1,0,sales,low\\n0.1,0.77,6,247,4,0,1,0,sales,low\\n0.92,0.85,5,259,5,0,1,0,sales,low\\n0.89,1,5,224,5,0,1,0,sales,low\\n0.42,0.53,2,142,3,0,1,0,sales,low\\n0.45,0.54,2,135,3,0,1,0,sales,low\\n0.11,0.81,6,305,4,0,1,0,sales,low\\n0.84,0.92,4,234,5,0,1,0,sales,low\\n0.41,0.55,2,148,3,0,1,0,sales,low\\n0.36,0.56,2,137,3,0,1,0,sales,low\\n0.38,0.54,2,143,3,0,1,0,sales,low\\n0.45,0.47,2,160,3,0,1,0,sales,low\\n0.78,0.99,4,255,6,0,1,0,sales,low\\n0.45,0.51,2,160,3,1,1,1,sales,low\\n0.76,0.89,5,262,5,0,1,0,sales,low\\n0.11,0.83,6,282,4,0,1,0,sales,low\\n0.38,0.55,2,147,3,0,1,0,sales,low\\n0.09,0.95,6,304,4,0,1,0,sales,low\\n0.46,0.57,2,139,3,0,1,0,sales,low\\n0.4,0.53,2,158,3,0,1,0,sales,low\\n0.89,0.92,5,242,5,0,1,0,sales,low\\n0.82,0.87,4,239,5,0,1,0,sales,low\\n0.4,0.49,2,135,3,0,1,0,sales,low\\n0.41,0.46,2,128,3,0,1,0,accounting,low\\n0.38,0.5,2,132,3,0,1,0,accounting,low\\n0.09,0.62,6,294,4,0,1,0,accounting,low\\n0.45,0.57,2,134,3,0,1,0,hr,low\\n0.4,0.51,2,145,3,0,1,0,hr,low\\n0.45,0.55,2,140,3,0,1,0,hr,low\\n0.84,0.87,4,246,6,0,1,0,hr,low\\n0.1,0.94,6,255,4,0,1,0,technical,low\\n0.38,0.46,2,137,3,0,1,0,technical,low\\n0.45,0.5,2,126,3,0,1,0,technical,low\\n0.11,0.89,6,306,4,0,1,0,technical,low\\n0.41,0.54,2,152,3,0,1,0,technical,low\\n0.87,0.88,5,269,5,0,1,0,technical,low\\n0.45,0.48,2,158,3,0,1,0,technical,low\\n0.4,0.46,2,127,3,0,1,0,technical,low\\n0.1,0.8,7,281,4,0,1,0,technical,low\\n0.09,0.89,6,276,4,0,1,0,technical,low\\n0.84,0.74,3,182,4,0,1,0,technical,low\\n0.4,0.55,2,147,3,0,1,0,support,low\\n0.57,0.7,3,273,6,0,1,0,support,low\\n0.4,0.54,2,148,3,0,1,0,support,low\\n0.43,0.47,2,147,3,0,1,0,support,low\\n0.13,0.78,6,152,2,0,1,0,support,low\\n0.44,0.55,2,135,3,0,1,0,support,low\\n0.38,0.55,2,134,3,0,1,0,support,low\\n0.39,0.54,2,132,3,0,1,0,support,low\\n0.1,0.92,7,307,4,0,1,0,support,low\\n0.37,0.46,2,140,3,0,1,0,support,low\\n0.11,0.94,7,255,4,0,1,0,support,low\\n0.1,0.81,6,309,4,0,1,0,technical,low\\n0.38,0.54,2,128,3,0,1,0,technical,low\\n0.85,1,4,225,5,0,1,0,technical,low\\n0.85,0.91,5,226,5,0,1,0,management,medium\\n0.11,0.93,7,308,4,0,1,0,IT,medium\\n0.1,0.95,6,244,5,0,1,0,IT,medium\\n0.36,0.56,2,132,3,0,1,0,IT,medium\\n0.11,0.94,6,286,4,0,1,0,IT,medium\\n0.81,0.7,6,161,4,0,1,0,IT,medium\\n0.43,0.54,2,153,3,0,1,0,product_mng,medium\\n0.9,0.98,4,264,6,0,1,0,product_mng,medium\\n0.76,0.86,5,223,5,1,1,0,product_mng,medium\\n0.43,0.5,2,135,3,0,1,0,product_mng,medium\\n0.74,0.99,2,277,3,0,1,0,IT,medium\\n0.09,0.77,5,275,4,0,1,0,product_mng,medium\\n0.45,0.49,2,149,3,0,1,0,product_mng,high\\n0.09,0.87,7,295,4,0,1,0,product_mng,low\\n0.11,0.97,6,277,4,0,1,0,product_mng,medium\\n0.11,0.79,7,306,4,0,1,0,product_mng,medium\\n0.1,0.83,6,295,4,0,1,0,product_mng,medium\\n0.4,0.54,2,137,3,0,1,0,marketing,medium\\n0.43,0.56,2,157,3,0,1,0,sales,low\\n0.39,0.56,2,142,3,0,1,0,accounting,low\\n0.45,0.54,2,140,3,0,1,0,support,low\\n0.38,0.49,2,151,3,0,1,0,technical,low\\n0.79,0.59,4,139,3,0,1,1,management,low\\n0.84,0.85,4,249,6,0,1,0,marketing,low\\n0.11,0.77,6,291,4,0,1,0,marketing,low\\n0.11,0.87,6,305,4,0,1,0,marketing,low\\n0.17,0.84,5,232,3,0,1,0,sales,low\\n0.44,0.45,2,132,3,0,1,0,sales,low\\n0.37,0.57,2,130,3,0,1,0,sales,low\\n0.1,0.79,6,291,4,0,1,0,sales,low\\n0.4,0.5,2,130,3,0,1,0,sales,low\\n0.89,1,5,246,5,0,1,0,sales,low\\n0.42,0.48,2,143,3,0,1,0,sales,low\\n0.46,0.55,2,129,3,0,1,0,sales,low\\n0.09,0.83,6,255,4,0,1,0,sales,low\\n0.37,0.51,2,155,3,0,1,0,sales,low\\n0.1,0.77,6,265,4,0,1,0,sales,low\\n0.1,0.84,6,279,4,0,1,0,sales,low\\n0.11,0.97,6,284,4,0,1,0,sales,low\\n0.9,1,5,221,6,0,1,0,sales,medium\\n0.38,0.52,2,154,3,0,1,0,sales,medium\\n0.36,0.52,2,147,3,0,1,0,sales,medium\\n0.42,0.46,2,150,3,0,1,0,sales,medium\\n0.09,0.94,7,267,4,0,1,0,sales,medium\\n0.43,0.52,2,158,3,0,1,0,sales,medium\\n0.24,0.46,7,224,5,0,1,0,accounting,medium\\n0.91,1,4,257,5,0,1,0,accounting,medium\\n0.44,0.5,2,148,3,0,1,0,accounting,medium\\n0.71,0.87,3,177,4,0,1,0,hr,medium\\n0.4,0.49,2,155,3,0,1,0,hr,medium\\n0.43,0.47,2,144,3,0,1,0,hr,medium\\n0.09,0.85,6,289,4,0,1,0,hr,high\\n0.43,0.52,2,160,3,0,1,0,technical,low\\n0.9,0.96,4,258,5,0,1,0,technical,medium\\n0.84,1,5,234,5,0,1,0,technical,medium\\n0.37,0.48,2,137,3,0,1,0,technical,medium\\n0.86,0.68,5,263,2,0,1,0,technical,medium\\n0.11,0.84,6,251,4,0,1,0,technical,low\\n0.37,0.57,2,133,3,0,1,0,technical,low\\n0.4,0.46,2,132,3,0,1,0,technical,low\\n0.14,0.62,4,158,4,1,1,0,technical,low\\n0.4,0.46,2,135,3,0,1,0,technical,low\\n0.75,1,4,216,6,0,1,0,technical,low\\n0.11,0.84,6,300,5,1,1,0,support,low\\n0.46,0.49,2,138,3,0,1,0,support,low\\n0.11,0.92,6,260,4,0,1,0,support,low\\n0.38,0.49,2,132,3,0,1,0,support,low\\n0.7,0.89,3,183,5,0,1,0,support,low\\n0.09,0.82,6,250,4,0,1,0,support,low\\n0.37,0.45,2,151,3,0,1,0,support,low\\n0.1,0.83,6,292,4,0,1,0,support,low\\n0.38,0.57,2,140,3,0,1,0,support,low\\n0.9,1,5,221,5,0,1,0,support,low\\n0.44,0.51,2,138,3,0,1,0,support,low\\n0.36,0.5,2,132,3,0,1,0,technical,low\\n0.31,0.84,7,133,5,0,1,0,technical,low\\n0.1,0.84,6,283,4,1,1,0,technical,low\\n0.42,0.48,2,129,3,0,1,0,management,low\\n0.74,1,4,249,5,0,1,0,IT,low\\n0.73,0.87,5,257,5,0,1,0,IT,low\\n0.09,0.96,6,245,4,0,1,0,IT,low\\n0.45,0.53,2,155,3,0,1,0,IT,low\\n0.11,0.8,6,256,4,0,1,0,IT,low\\n0.37,0.47,2,152,3,0,1,0,product_mng,low\\n0.84,0.99,4,267,5,0,1,0,product_mng,low\\n0.41,0.46,2,151,3,0,1,0,product_mng,low\\n0.76,0.92,4,239,5,0,1,0,product_mng,low\\n0.11,0.87,6,306,4,0,1,0,IT,low\\n0.84,0.88,4,263,5,1,1,0,marketing,low\\n0.39,0.5,2,147,3,0,1,0,marketing,low\\n0.11,0.91,6,278,4,0,1,0,marketing,low\\n0.45,0.56,2,154,3,0,1,0,marketing,low\\n0.37,0.52,2,143,3,0,1,0,marketing,low\\n0.4,0.52,2,155,3,0,1,0,marketing,low\\n0.39,0.48,2,160,3,0,1,0,sales,low\\n0.11,0.8,6,304,4,0,1,0,accounting,low\\n0.83,1,5,240,5,0,1,0,support,low\\n0.11,0.92,6,305,4,0,1,0,technical,low\\n0.39,0.5,2,136,3,0,1,0,management,low\\n0.45,0.45,2,132,3,0,1,0,marketing,low\\n0.1,0.95,7,301,4,0,1,0,marketing,low\\n0.9,0.98,5,243,6,0,1,0,marketing,low\\n0.45,0.51,2,147,3,0,1,0,sales,low\\n0.79,0.89,5,239,5,0,1,0,sales,low\\n0.9,0.99,5,260,5,0,1,0,sales,low\\n0.11,0.84,7,296,4,0,1,0,sales,low\\n0.43,0.55,2,129,3,0,1,0,sales,low\\n0.31,0.54,5,132,5,0,1,0,sales,low\\n0.32,0.5,2,135,5,0,1,0,sales,low\\n0.45,0.57,2,158,3,0,1,0,sales,low\\n0.81,0.99,4,259,5,0,1,0,sales,low\\n0.41,0.46,2,160,3,0,1,1,sales,low\\n0.11,0.78,7,278,4,0,1,0,sales,low\\n0.1,0.88,6,284,4,0,1,0,sales,low\\n0.7,0.53,2,274,4,0,1,0,sales,low\\n0.54,0.74,4,164,2,0,1,0,sales,low\\n0.41,0.48,2,148,3,0,1,0,sales,low\\n0.38,0.5,2,140,3,0,1,0,sales,medium\\n0.37,0.51,2,127,3,0,1,0,sales,medium\\n0.11,0.85,6,308,5,0,1,0,sales,medium\\n0.4,0.47,2,146,3,0,1,0,sales,medium\\n0.1,0.84,6,261,4,0,1,0,accounting,medium\\n0.89,0.99,5,257,5,0,1,0,accounting,medium\\n0.11,0.8,6,285,4,0,1,0,accounting,medium\\n0.36,0.55,2,141,3,0,1,0,hr,medium\\n0.4,0.46,2,127,3,0,1,0,hr,medium\\n0.09,0.85,6,297,4,0,1,0,hr,medium\\n0.4,0.46,2,143,3,0,1,0,hr,medium\\n0.37,0.55,2,152,3,0,1,0,technical,medium\\n0.44,0.51,2,156,3,0,1,0,technical,high\\n0.09,0.8,7,283,5,0,1,0,technical,low\\n0.92,0.87,4,226,6,1,1,0,technical,medium\\n0.74,0.91,4,232,5,0,1,0,technical,medium\\n0.09,0.82,6,249,4,0,1,0,technical,medium\\n0.89,0.95,4,275,5,0,1,0,technical,medium\\n0.09,0.8,6,304,4,0,1,0,technical,low\\n0.27,0.54,7,278,3,0,1,0,technical,low\\n0.1,0.91,6,287,4,0,1,0,technical,low\\n0.1,0.89,7,285,4,0,1,0,technical,low\\n0.77,0.94,5,226,6,0,1,0,support,low\\n0.9,0.82,5,259,5,0,1,0,support,low\\n0.39,0.5,2,135,3,0,1,0,support,low\\n0.76,1,5,219,5,0,1,0,support,low\\n0.1,0.93,6,256,4,0,1,0,support,low\\n0.87,0.9,5,254,6,0,1,0,support,low\\n0.38,0.5,2,153,3,0,1,0,support,low\\n0.77,0.99,5,228,5,0,1,0,support,low\\n0.78,0.87,4,228,5,0,1,0,support,low\\n0.44,0.5,2,128,3,0,1,0,support,low\\n0.38,0.52,2,153,3,0,1,0,support,low\\n0.43,0.46,2,156,3,0,1,0,technical,low\\n0.39,0.5,4,294,3,0,1,0,technical,low\\n0.88,1,5,219,5,0,1,0,technical,low\\n0.45,0.46,2,153,3,0,1,0,management,low\\n0.4,0.53,2,151,3,0,1,0,IT,low\\n0.36,0.51,2,155,3,0,1,0,IT,low\\n0.36,0.48,2,158,3,0,1,0,IT,low\\n0.9,0.98,5,245,5,0,1,0,IT,low\\n0.43,0.53,2,131,3,0,1,0,IT,low\\n0.89,0.87,5,225,5,0,1,0,product_mng,low\\n0.1,0.84,6,286,4,0,1,0,product_mng,low\\n0.37,0.5,2,135,3,0,1,0,product_mng,low\\n0.37,0.51,2,153,3,0,1,0,product_mng,low\\n0.87,0.9,5,252,5,0,1,0,IT,low\\n0.4,0.56,2,149,3,0,1,0,accounting,low\\n0.9,0.97,4,258,5,0,1,0,accounting,low\\n0.37,0.46,2,158,3,0,1,0,hr,low\\n0.44,0.54,2,149,3,0,1,0,hr,low\\n0.85,0.95,5,236,5,0,1,0,hr,low\\n0.78,0.98,5,239,6,0,1,0,marketing,low\\n0.42,0.47,2,159,3,0,1,0,marketing,low\\n0.92,0.99,5,255,6,0,1,0,sales,low\\n0.11,0.83,6,244,4,0,1,0,accounting,low\\n0.42,0.56,2,134,3,0,1,0,support,low\\n0.48,0.57,4,270,4,0,1,0,technical,low\\n0.83,0.85,4,255,5,0,1,0,management,low\\n0.4,0.53,2,151,3,0,1,0,marketing,low\\n0.43,0.45,2,135,3,0,1,0,marketing,low\\n0.43,0.53,2,146,3,0,1,0,marketing,low\\n0.1,0.97,7,254,4,0,1,0,sales,low\\n0.1,0.87,7,289,4,0,1,0,sales,low\\n0.37,0.46,2,156,3,0,1,0,sales,low\\n0.38,0.53,2,156,3,0,1,0,sales,low\\n0.4,0.5,2,128,3,0,1,0,sales,low\\n0.89,0.86,5,275,5,0,1,0,sales,low\\n0.45,0.46,2,155,3,0,1,0,sales,low\\n0.37,0.48,2,159,3,0,1,0,sales,low\\n0.46,0.49,2,148,3,0,1,0,sales,low\\n0.87,0.91,4,228,5,0,1,0,sales,low\\n0.11,0.84,6,298,4,0,1,0,sales,low\\n0.79,0.87,5,261,5,0,1,0,sales,low\\n0.79,0.92,5,254,6,0,1,0,sales,low\\n0.19,0.59,7,192,3,0,1,0,sales,low\\n0.87,0.98,4,248,5,0,1,0,sales,low\\n0.6,0.92,2,258,5,0,1,0,sales,low\\n0.44,0.45,2,156,3,0,1,0,sales,medium\\n0.11,0.81,6,266,4,1,1,0,sales,medium\\n0.42,0.54,2,156,3,0,1,0,sales,medium\\n0.88,0.88,5,232,5,1,1,0,accounting,medium\\n0.11,0.84,6,287,4,0,1,0,accounting,medium\\n0.46,0.46,2,154,3,0,1,0,accounting,medium\\n0.82,0.97,5,263,5,0,1,0,hr,medium\\n0.44,0.56,2,131,3,0,1,0,hr,medium\\n0.11,0.78,6,260,4,0,1,0,hr,medium\\n0.42,0.5,2,139,3,0,1,0,hr,medium\\n0.84,0.93,4,251,5,0,1,0,technical,medium\\n0.11,0.95,6,286,4,0,1,0,technical,medium\\n0.45,0.53,2,129,3,0,1,0,technical,high\\n0.38,0.56,2,156,3,0,1,0,technical,low\\n0.38,0.86,6,139,6,0,1,0,technical,medium\\n0.44,0.51,2,127,3,0,1,0,technical,medium\\n0.11,0.84,6,251,4,0,1,0,technical,medium\\n0.81,0.93,5,270,5,0,1,0,technical,medium\\n0.09,0.96,6,296,4,0,1,0,technical,low\\n0.11,0.9,6,254,4,0,1,0,technical,low\\n0.81,0.95,5,238,6,0,1,0,technical,low\\n0.1,0.97,6,267,4,1,1,0,support,low\\n0.74,0.89,5,229,6,0,1,0,support,low\\n0.09,0.78,6,254,4,0,1,0,support,low\\n0.82,0.81,4,233,4,1,1,0,support,low\\n0.1,0.98,6,268,4,0,1,0,support,low\\n0.27,0.56,3,301,3,0,1,0,support,low\\n0.83,0.92,5,267,6,0,1,0,support,low\\n0.1,0.93,6,289,4,1,1,0,support,low\\n0.38,0.47,2,144,3,0,1,0,support,low\\n0.4,0.56,2,148,3,0,1,0,support,low\\n0.11,0.83,6,306,4,0,1,0,support,low\\n0.11,0.79,6,292,4,0,1,1,technical,low\\n0.82,0.91,5,232,5,0,1,0,technical,low\\n0.36,0.48,2,137,3,0,1,0,technical,low\\n0.4,0.46,2,128,3,0,1,0,management,low\\n0.87,0.84,5,231,5,0,1,0,IT,low\\n0.41,0.49,2,146,3,0,1,0,IT,low\\n0.11,0.91,6,308,4,1,1,0,IT,low\\n0.1,0.93,6,253,4,0,1,0,IT,medium\\n0.38,0.51,2,146,3,0,1,0,IT,medium\\n0.39,0.55,2,156,3,0,1,0,product_mng,medium\\n0.4,0.52,2,147,3,0,1,0,product_mng,medium\\n0.45,0.48,2,136,3,0,1,0,product_mng,medium\\n0.74,0.84,5,249,5,0,1,0,product_mng,medium\\n0.45,0.55,2,151,3,0,1,0,IT,medium\\n0.12,1,3,278,4,0,1,0,RandD,medium\\n0.1,0.77,7,250,5,0,1,0,RandD,medium\\n0.37,0.55,2,127,3,0,1,0,RandD,medium\\n0.89,0.87,5,255,5,0,1,0,RandD,medium\\n0.45,0.47,2,135,3,0,1,0,RandD,medium\\n0.37,0.46,2,149,3,0,1,0,marketing,high\\n0.11,0.81,5,287,4,0,1,0,sales,low\\n0.41,0.48,2,145,3,0,1,0,accounting,medium\\n0.1,0.94,6,285,4,0,1,0,support,medium\\n0.1,0.93,7,305,4,0,1,0,technical,medium\\n0.11,0.95,7,300,4,0,1,0,management,medium\\n0.4,0.54,2,139,3,0,1,0,marketing,low\\n0.41,0.49,2,130,3,0,1,0,marketing,low\\n0.1,0.81,6,268,4,0,1,0,marketing,low\\n0.73,0.86,4,245,6,0,1,0,sales,low\\n0.43,0.47,2,135,3,0,1,0,sales,low\\n0.37,0.46,2,153,3,0,1,0,sales,low\\n0.11,0.94,6,276,4,0,1,0,sales,low\\n0.4,0.46,2,130,3,0,1,0,sales,low\\n0.41,0.54,2,153,3,1,1,0,sales,low\\n0.82,0.84,5,244,5,0,1,0,sales,low\\n0.61,0.47,2,253,3,0,1,0,sales,low\\n0.11,0.91,7,287,4,0,1,0,sales,low\\n0.37,0.45,2,131,3,0,1,0,sales,low\\n0.41,0.52,2,135,3,0,1,0,sales,low\\n0.37,0.52,2,157,3,0,1,0,sales,low\\n0.88,0.99,5,262,6,0,1,0,sales,low\\n0.1,0.85,6,266,4,0,1,0,sales,low\\n0.44,0.48,2,148,3,0,1,0,sales,low\\n0.38,0.57,2,140,3,0,1,0,sales,low\\n0.11,0.85,7,302,4,0,1,0,sales,low\\n0.09,0.98,6,271,4,0,1,0,sales,low\\n0.45,0.52,2,145,3,0,1,0,sales,medium\\n0.1,0.81,6,290,4,0,1,0,accounting,medium\\n0.45,0.47,2,151,3,0,1,0,accounting,medium\\n0.77,0.87,5,266,5,0,1,0,accounting,medium\\n0.44,0.51,2,140,3,0,1,0,hr,medium\\n0.39,0.5,2,142,3,0,1,0,hr,medium\\n0.1,0.91,6,246,4,0,1,0,hr,medium\\n0.09,0.89,7,308,5,0,1,0,hr,medium\\n0.37,0.47,2,141,3,0,1,0,technical,medium\\n0.9,1,5,232,5,0,1,0,technical,medium\\n0.41,0.56,2,143,3,0,1,0,technical,medium\\n0.37,0.52,2,155,3,0,1,0,technical,medium\\n0.1,0.86,6,278,4,0,1,0,technical,high\\n0.81,1,4,253,5,0,1,0,technical,low\\n0.11,0.8,6,282,4,0,1,0,technical,medium\\n0.11,0.84,7,264,4,0,1,0,technical,medium\\n0.4,0.46,2,149,3,0,1,0,technical,medium\\n0.09,0.8,6,304,5,0,1,0,technical,medium\\n0.48,0.93,3,219,6,0,1,0,technical,low\\n0.91,0.91,4,262,6,0,1,0,support,low\\n0.43,0.57,2,135,3,0,1,0,support,low\\n0.33,0.88,6,219,5,0,1,0,support,low\\n0.41,0.57,2,136,3,0,1,0,support,low\\n0.41,0.55,2,154,3,0,1,0,support,low\\n0.37,0.54,2,149,3,0,1,0,support,low\\n0.31,0.62,6,135,5,0,1,0,support,low\\n0.09,0.91,6,275,4,0,1,0,support,low\\n0.1,0.87,6,290,4,0,1,0,support,low\\n0.76,0.9,4,263,5,0,1,0,support,low\\n0.41,0.54,2,145,3,0,1,0,support,low\\n0.72,0.96,5,267,5,0,1,0,technical,low\\n0.4,0.5,2,141,3,1,1,0,technical,low\\n0.91,0.87,4,235,5,0,1,0,technical,low\\n0.1,0.83,6,258,4,0,1,0,management,low\\n0.4,0.56,2,131,3,0,1,0,IT,low\\n0.82,0.86,5,243,5,0,1,0,IT,low\\n0.1,0.82,6,266,4,0,1,0,IT,low\\n0.37,0.45,2,142,3,0,1,0,IT,low\\n0.36,0.51,2,135,3,0,1,0,IT,low\\n0.39,0.48,2,141,3,0,1,0,product_mng,medium\\n0.36,0.57,2,142,3,0,1,0,product_mng,medium\\n0.86,0.84,5,254,5,0,1,0,product_mng,medium\\n0.73,0.99,5,262,5,0,1,0,product_mng,medium\\n0.56,0.71,4,296,2,0,1,0,IT,medium\\n0.44,0.56,2,158,3,0,1,0,accounting,medium\\n0.31,0.56,4,238,2,0,1,0,accounting,medium\\n0.77,0.93,4,231,5,0,1,0,hr,medium\\n0.44,0.45,2,156,3,0,1,0,hr,medium\\n0.38,0.46,2,145,3,0,1,0,hr,medium\\n0.45,0.48,2,144,3,0,1,0,marketing,medium\\n0.38,0.51,2,159,3,0,1,0,sales,medium\\n0.36,0.48,2,156,3,0,1,0,accounting,high\\n0.75,0.9,5,256,5,0,1,0,support,low\\n0.1,0.93,6,298,4,0,1,0,technical,medium\\n0.1,0.97,6,247,4,0,1,0,management,medium\\n0.45,0.5,2,157,3,0,1,0,marketing,medium\\n0.42,0.57,2,154,3,1,1,0,marketing,medium\\n0.78,1,4,253,5,0,1,0,marketing,low\\n0.45,0.55,2,148,3,0,1,0,sales,low\\n0.84,1,4,261,5,0,1,0,sales,low\\n0.11,0.93,6,282,4,0,1,0,sales,low\\n0.42,0.56,2,133,3,0,1,0,sales,low\\n0.45,0.46,2,128,3,0,1,0,sales,low\\n0.46,0.57,2,139,3,0,1,0,sales,low\\n0.09,0.79,6,293,5,0,1,0,sales,low\\n0.87,0.83,4,265,6,0,1,0,sales,low\\n0.1,0.87,6,250,4,0,1,0,sales,low\\n0.91,1,5,251,6,0,1,0,sales,low\\n0.76,0.92,4,246,5,0,1,0,sales,low\\n0.74,1,5,275,5,0,1,0,sales,low\\n0.92,0.93,5,240,5,0,1,0,sales,low\\n0.76,0.87,5,245,5,0,1,0,sales,low\\n0.47,0.5,4,254,4,0,1,0,sales,low\\n0.73,0.99,5,241,5,0,1,0,sales,low\\n0.09,0.94,6,257,4,0,1,0,sales,low\\n0.91,0.92,4,246,5,0,1,0,sales,low\\n0.82,0.98,4,233,5,0,1,0,sales,low\\n0.28,0.45,6,218,4,0,1,0,accounting,low\\n0.84,0.99,4,262,6,0,1,0,accounting,medium\\n0.45,0.53,2,138,3,0,1,0,accounting,medium\\n0.45,0.54,2,142,3,0,1,0,hr,medium\\n0.91,0.97,5,233,5,0,1,0,hr,medium\\n0.42,0.48,2,155,3,0,1,0,hr,medium\\n0.82,1,4,229,6,0,1,0,hr,medium\\n0.11,0.9,6,264,4,0,1,0,technical,medium\\n0.42,0.53,3,199,4,0,1,0,technical,medium\\n0.82,0.85,4,223,5,0,1,0,technical,medium\\n0.09,0.96,6,268,4,0,1,0,technical,medium\\n0.1,0.94,6,287,4,0,1,0,technical,medium\\n0.86,1,5,257,5,0,1,0,technical,medium\\n0.4,0.46,2,143,3,0,1,0,technical,high\\n0.45,0.46,2,130,3,0,1,0,technical,low\\n0.42,0.51,2,136,3,0,1,0,technical,medium\\n0.74,0.92,4,261,5,0,1,0,technical,medium\\n0.55,0.6,3,180,4,0,1,0,technical,medium\\n0.37,0.45,2,126,3,0,1,0,support,medium\\n0.41,0.52,2,127,3,1,1,0,support,low\\n0.89,0.65,5,195,6,0,1,0,support,low\\n0.41,0.57,2,160,3,0,1,0,support,low\\n0.44,0.51,2,150,3,0,1,0,support,low\\n0.87,0.84,4,264,6,0,1,0,support,low\\n0.1,0.84,6,309,4,0,1,0,support,low\\n0.41,0.47,2,135,3,0,1,0,support,low\\n0.11,0.85,6,261,4,0,1,0,support,low\\n0.43,0.53,2,160,3,0,1,0,support,low\\n0.77,0.9,4,237,5,0,1,0,support,low\\n0.41,0.52,2,136,3,0,1,0,technical,low\\n0.41,0.48,2,139,3,0,1,0,technical,low\\n0.36,0.78,2,151,4,0,1,0,technical,low\\n0.77,1,5,229,5,0,1,0,management,low\\n0.81,0.98,5,245,5,0,1,0,IT,low\\n0.39,0.54,2,127,3,0,1,0,IT,low\\n0.09,0.94,6,283,5,0,1,0,IT,low\\n0.44,0.46,2,143,3,0,1,0,IT,low\\n0.1,0.84,5,298,4,0,1,0,IT,low\\n0.36,0.48,2,159,3,0,1,0,product_mng,low\\n0.81,0.92,5,239,5,0,1,0,product_mng,low\\n0.81,0.9,4,226,5,0,1,0,product_mng,medium\\n0.85,0.98,5,248,5,0,1,0,product_mng,medium\\n0.1,0.87,6,286,4,0,1,0,IT,medium\\n0.37,0.54,2,145,3,0,1,0,RandD,medium\\n0.09,0.97,7,254,4,1,1,0,RandD,medium\\n0.44,0.53,2,127,3,0,1,0,RandD,medium\\n0.86,0.93,5,223,5,0,1,0,RandD,medium\\n0.77,1,4,255,5,0,1,0,RandD,medium\\n0.41,0.48,2,136,3,0,1,0,marketing,medium\\n0.4,0.48,2,137,3,0,1,0,sales,medium\\n0.43,0.49,2,135,3,0,1,0,accounting,medium\\n0.43,0.5,2,137,3,0,1,0,support,medium\\n0.8,0.53,3,255,5,0,1,0,technical,high\\n0.8,0.85,4,273,5,0,1,0,management,low\\n0.82,0.98,5,234,5,0,1,0,marketing,medium\\n0.37,0.54,2,152,3,0,1,0,marketing,medium\\n0.37,0.48,2,134,3,0,1,0,marketing,medium\\n0.09,0.95,6,292,4,0,1,0,sales,medium\\n0.9,0.92,5,245,5,0,1,0,sales,low\\n0.41,0.52,2,159,3,0,1,0,sales,low\\n0.1,0.85,6,260,4,0,1,0,sales,low\\n0.44,0.53,2,149,3,0,1,0,sales,low\\n0.89,0.85,5,266,5,0,1,0,sales,low\\n0.42,0.56,2,149,3,0,1,0,sales,low\\n0.87,1,5,242,5,0,1,0,sales,low\\n0.45,0.57,2,134,3,0,1,0,sales,low\\n0.11,0.87,5,271,4,0,1,0,sales,low\\n0.09,0.79,6,275,4,0,1,0,sales,low\\n0.76,0.83,5,227,5,0,1,0,sales,low\\n0.11,0.96,7,277,5,0,1,0,sales,low\\n0.37,0.49,2,151,3,0,1,0,sales,low\\n0.1,0.79,6,274,4,0,1,0,sales,low\\n0.77,0.87,4,242,6,0,1,0,sales,low\\n0.42,0.54,2,143,3,1,1,0,sales,low\\n0.38,0.52,2,145,3,0,1,0,sales,low\\n0.32,0.95,5,172,2,0,1,0,sales,low\\n0.38,0.49,2,135,3,0,1,0,accounting,low\\n0.19,1,4,192,4,0,1,0,accounting,low\\n0.1,0.83,7,276,4,0,1,0,accounting,low\\n0.76,0.88,4,206,4,0,1,0,hr,medium\\n0.53,0.56,4,281,6,0,1,0,hr,medium\\n0.39,0.51,2,151,3,0,1,0,hr,medium\\n0.11,0.83,6,244,4,0,1,0,hr,medium\\n0.1,0.94,6,309,4,0,1,0,technical,medium\\n0.84,1,5,218,5,0,1,0,technical,medium\\n0.82,0.99,4,263,6,0,1,0,technical,medium\\n0.1,0.82,6,244,4,0,1,0,technical,medium\\n0.59,0.49,7,263,4,0,1,0,technical,medium\\n0.44,0.48,2,143,3,0,1,0,technical,medium\\n0.89,0.95,2,181,5,0,1,0,technical,medium\\n0.91,0.84,5,265,5,0,1,0,technical,medium\\n0.66,0.57,5,161,5,0,1,0,technical,high\\n0.11,0.87,7,282,5,0,1,0,technical,low\\n0.43,0.51,2,155,3,0,1,0,technical,medium\\n0.78,0.83,4,217,6,0,1,0,support,medium\\n0.11,0.97,6,289,5,0,1,0,support,medium\\n0.83,0.98,4,259,5,0,1,0,support,medium\\n0.39,0.54,2,158,3,0,1,0,support,low\\n0.38,0.55,2,158,3,0,1,0,support,low\\n0.37,0.57,2,155,3,0,1,0,support,low\\n0.44,0.48,2,146,3,0,1,0,support,low\\n0.53,0.85,2,164,5,0,1,0,support,low\\n0.09,0.96,6,259,4,0,1,0,support,low\\n0.11,0.89,6,293,4,0,1,0,support,low\\n0.83,0.96,5,275,5,0,1,0,support,low\\n0.88,1,5,219,6,1,1,0,technical,low\\n0.1,0.89,6,247,4,0,1,0,technical,low\\n0.09,0.86,7,309,4,0,1,0,technical,low\\n0.44,0.54,2,151,3,0,1,0,management,low\\n0.39,0.51,2,129,3,0,1,0,IT,low\\n0.87,0.94,4,274,5,0,1,0,IT,low\\n0.74,0.99,4,233,5,0,1,0,IT,low\\n0.1,0.95,7,289,4,0,1,0,IT,low\\n0.74,0.82,4,239,6,0,1,0,IT,low\\n0.75,0.99,5,221,5,0,1,0,product_mng,low\\n0.41,0.56,2,150,3,0,1,0,product_mng,low\\n0.41,0.45,2,144,3,1,1,0,product_mng,low\\n0.09,0.9,7,289,4,0,1,0,product_mng,low\\n0.09,0.8,6,301,5,0,1,0,IT,medium\\n0.39,0.57,2,145,3,0,1,0,accounting,medium\\n0.4,0.56,2,137,3,0,1,0,accounting,medium\\n0.37,0.54,2,131,3,1,1,0,hr,medium\\n0.1,0.84,6,246,4,0,1,0,hr,medium\\n0.43,0.51,2,136,3,0,1,0,hr,medium\\n0.75,0.85,5,240,6,1,1,0,marketing,medium\\n0.37,0.56,2,156,3,0,1,0,sales,medium\\n0.11,0.85,6,305,4,0,1,0,accounting,medium\\n0.45,0.45,2,154,3,1,1,0,support,medium\\n0.87,1,5,261,5,1,1,0,technical,medium\\n0.11,0.94,7,244,4,0,1,0,management,medium\\n0.45,0.54,2,129,3,0,1,0,marketing,high\\n0.81,0.87,4,254,5,0,1,0,marketing,low\\n0.77,0.91,5,236,5,0,1,0,marketing,medium\\n0.89,0.92,5,237,5,0,1,0,sales,medium\\n0.43,0.49,2,135,3,0,1,0,sales,medium\\n0.78,1,5,236,5,0,1,0,sales,medium\\n0.37,0.47,2,149,3,0,1,0,sales,low\\n0.37,0.5,2,141,3,0,1,0,sales,low\\n0.85,0.82,4,270,5,0,1,0,sales,low\\n0.41,0.47,2,138,3,0,1,0,sales,low\\n0.11,0.96,6,298,4,0,1,0,sales,low\\n0.75,0.99,5,254,5,0,1,0,sales,low\\n0.82,0.85,5,248,5,0,1,0,sales,low\\n0.79,1,5,257,6,0,1,0,sales,low\\n0.43,0.53,2,150,3,0,1,0,sales,low\\n0.1,0.9,7,281,4,0,1,0,sales,low\\n0.46,0.48,2,141,3,1,1,0,sales,low\\n0.43,0.57,2,157,3,0,1,0,sales,low\\n0.43,0.55,2,136,3,0,1,0,sales,low\\n0.11,0.8,7,296,4,0,1,0,sales,low\\n0.09,0.86,6,279,4,0,1,0,sales,low\\n0.37,0.53,2,131,3,0,1,0,sales,low\\n0.4,0.57,2,160,3,0,1,0,accounting,low\\n0.1,0.77,7,291,4,0,1,0,accounting,low\\n0.41,0.53,2,157,3,0,1,0,accounting,low\\n0.79,0.58,3,294,4,0,1,0,hr,low\\n0.11,0.79,7,310,4,0,1,0,hr,low\\n0.1,0.97,6,282,4,0,1,0,hr,medium\\n0.44,0.51,2,134,3,0,1,0,hr,medium\\n0.25,0.46,4,214,4,0,1,0,technical,medium\\n0.44,0.52,2,137,3,0,1,0,technical,medium\\n0.73,1,4,252,5,0,1,0,technical,medium\\n0.75,0.97,5,243,6,0,1,0,technical,medium\\n0.36,0.47,2,148,3,0,1,0,technical,medium\\n0.37,0.49,2,151,3,0,1,0,technical,medium\\n0.39,0.49,2,129,3,0,1,0,technical,medium\\n0.48,0.78,2,198,2,0,1,0,technical,medium\\n0.57,0.72,4,275,6,0,1,0,technical,medium\\n0.9,0.96,5,243,5,0,1,0,technical,medium\\n0.39,0.55,2,159,3,0,1,0,technical,high\\n0.44,0.51,2,145,3,0,1,0,support,low\\n0.81,0.88,5,242,5,0,1,0,support,medium\\n0.74,0.87,5,242,5,0,1,0,support,medium\\n0.44,0.56,2,145,3,0,1,0,support,medium\\n0.41,0.56,2,154,3,0,1,1,support,medium\\n0.4,0.51,2,139,3,0,1,0,support,low\\n0.46,0.57,2,152,3,0,1,0,support,low\\n0.8,0.83,2,211,3,0,1,0,support,low\\n0.87,0.9,5,258,5,0,1,0,support,low\\n0.39,0.54,2,155,3,0,1,0,support,low\\n0.38,0.55,2,148,3,0,1,0,support,low\\n0.66,0.67,2,255,3,0,1,0,technical,low\\n0.1,0.8,6,264,4,0,1,0,technical,low\\n0.37,0.54,2,132,3,0,1,0,technical,low\\n0.1,0.77,6,255,4,0,1,0,management,low\\n0.09,0.87,5,263,4,0,1,0,IT,low\\n0.86,0.84,5,222,5,0,1,0,IT,low\\n0.11,0.9,6,263,4,0,1,0,IT,low\\n0.37,0.46,2,157,3,0,1,0,IT,low\\n0.11,0.92,7,307,4,0,1,0,IT,low\\n0.77,0.98,5,259,6,0,1,0,product_mng,low\\n0.84,0.94,5,222,6,0,1,0,product_mng,low\\n0.1,0.84,7,250,4,0,1,0,product_mng,low\\n0.83,0.9,5,245,5,0,1,0,product_mng,low\\n0.11,0.79,6,292,4,0,1,0,IT,low\\n0.86,0.92,5,252,5,0,1,0,RandD,low\\n0.38,0.56,2,161,3,0,1,0,RandD,medium\\n0.11,0.88,5,250,4,0,1,0,RandD,medium\\n0.45,0.49,2,134,3,0,1,0,RandD,medium\\n0.1,0.85,7,279,4,0,1,0,RandD,medium\\n0.09,0.95,7,256,4,0,1,0,marketing,medium\\n0.39,0.53,2,127,3,0,1,0,sales,medium\\n0.37,0.47,2,138,3,1,1,0,accounting,medium\\n0.81,0.97,5,243,5,0,1,0,support,medium\\n0.09,0.9,7,296,4,0,1,0,technical,medium\\n0.1,0.88,7,267,4,0,1,0,management,medium\\n0.39,0.49,2,144,3,0,1,0,marketing,medium\\n0.83,0.95,4,251,5,0,1,0,marketing,medium\\n0.45,0.57,2,148,3,0,1,0,marketing,high\\n0.43,0.51,2,141,3,0,1,0,sales,low\\n0.8,0.75,3,268,2,0,1,0,sales,medium\\n0.1,0.86,6,247,4,0,1,0,sales,medium\\n0.1,0.55,2,247,4,0,1,0,sales,medium\\n0.36,0.52,2,146,3,0,1,0,sales,medium\\n0.38,0.5,2,140,3,0,1,0,sales,low\\n0.78,0.98,5,263,6,0,1,0,sales,low\\n0.44,0.49,2,145,3,0,1,0,sales,low\\n0.41,0.46,2,156,3,1,1,0,sales,low\\n0.72,0.85,5,244,6,0,1,0,sales,low\\n0.46,0.54,2,144,3,0,1,0,sales,low\\n0.1,0.9,7,286,4,0,1,0,sales,low\\n0.34,0.67,4,141,2,0,1,0,sales,low\\n0.11,0.89,6,260,5,0,1,0,sales,low\\n0.38,0.56,2,154,3,0,1,0,sales,low\\n0.82,0.92,5,225,5,0,1,0,sales,low\\n0.39,0.57,2,127,3,0,1,0,sales,low\\n0.44,0.53,2,140,3,0,1,0,sales,low\\n0.43,0.52,2,147,3,0,1,0,sales,low\\n0.84,0.83,4,227,5,0,1,0,accounting,low\\n0.43,0.48,2,153,3,0,1,0,accounting,low\\n0.37,0.52,2,128,3,0,1,0,accounting,low\\n0.74,0.97,4,228,5,0,1,0,hr,low\\n0.73,0.97,5,235,5,0,1,0,hr,low\\n0.37,0.47,2,148,3,0,1,0,hr,low\\n0.58,0.62,4,238,3,0,1,0,hr,low\\n0.4,0.54,2,141,3,0,1,0,technical,medium\\n0.51,0.83,5,249,4,0,1,0,technical,medium\\n0.46,0.5,2,151,3,0,1,0,technical,medium\\n0.45,0.54,2,129,3,0,1,0,technical,medium\\n0.46,0.5,2,156,3,0,1,0,technical,medium\\n0.39,0.45,2,134,3,0,1,0,technical,medium\\n0.09,0.88,6,269,4,0,1,0,technical,medium\\n0.09,0.77,6,290,4,0,1,0,technical,medium\\n0.37,0.51,2,132,3,0,1,0,technical,medium\\n0.1,0.89,7,308,4,0,1,0,technical,medium\\n0.77,1,4,232,5,0,1,0,technical,medium\\n0.79,0.86,5,235,5,0,1,0,support,medium\\n0.43,0.55,2,130,3,0,1,0,support,high\\n0.38,0.53,2,146,3,0,1,0,support,low\\n0.77,0.91,5,221,6,0,1,0,support,medium\\n0.44,0.5,2,130,3,0,1,0,support,medium\\n0.39,0.46,2,136,3,0,1,0,support,medium\\n0.78,0.89,5,274,6,0,1,0,support,medium\\n0.1,0.79,6,256,5,0,1,0,support,low\\n0.1,0.77,5,276,4,0,1,0,support,low\\n0.75,0.85,5,267,5,0,1,0,support,low\\n0.46,0.62,6,213,3,0,1,0,support,low\\n0.91,0.97,4,274,6,0,1,0,technical,low\\n0.1,0.92,6,258,4,0,1,0,technical,low\\n0.72,0.6,3,153,5,0,1,0,technical,low\\n0.11,0.95,6,245,4,0,1,0,management,low\\n0.11,0.94,6,264,4,0,1,0,IT,low\\n0.46,0.57,2,154,3,0,1,0,IT,low\\n0.37,0.46,2,149,3,0,1,0,IT,low\\n0.46,0.5,2,157,3,0,1,0,IT,low\\n0.43,0.57,2,127,3,0,1,0,IT,low\\n0.11,0.82,6,270,4,0,1,0,product_mng,low\\n0.73,0.89,5,236,6,0,1,0,product_mng,low\\n0.43,0.47,2,158,3,0,1,0,product_mng,low\\n0.86,1,5,229,5,0,1,0,product_mng,low\\n0.1,0.83,6,269,4,0,1,0,IT,low\\n0.4,0.49,2,128,3,0,1,0,sales,low\\n0.11,0.87,7,278,4,0,1,0,sales,low\\n0.86,0.98,3,158,5,0,1,0,sales,low\\n0.42,1,3,202,3,0,1,0,sales,medium\\n0.79,0.84,4,240,5,0,1,0,sales,medium\\n0.1,0.96,7,255,4,0,1,0,marketing,medium\\n0.09,0.92,7,254,4,0,1,0,sales,medium\\n0.09,0.82,6,257,4,0,1,0,accounting,medium\\n0.87,1,4,228,5,0,1,0,support,medium\\n0.36,0.49,2,145,3,0,1,0,technical,medium\\n0.42,0.75,3,218,4,0,1,0,management,medium\\n0.84,0.86,5,268,5,0,1,0,marketing,medium\\n0.1,0.83,6,278,4,0,1,0,marketing,medium\\n0.78,0.71,3,249,5,0,1,0,marketing,medium\\n0.35,0.99,3,236,4,0,1,0,sales,medium\\n0.1,0.81,7,291,4,0,1,0,sales,high\\n0.11,0.8,6,306,4,0,1,0,sales,low\\n0.43,0.48,2,135,3,0,1,0,sales,medium\\n0.38,0.45,2,156,3,0,1,0,sales,medium\\n0.46,0.54,2,143,3,0,1,0,sales,medium\\n0.89,0.82,4,243,5,0,1,0,sales,medium\\n0.45,0.5,2,147,3,0,1,0,sales,low\\n0.44,0.53,2,159,3,0,1,0,sales,low\\n0.74,0.54,5,216,3,0,1,0,sales,low\\n0.45,0.54,2,152,3,0,1,0,sales,low\\n0.79,0.93,4,226,5,0,1,0,sales,low\\n0.79,0.91,5,271,5,0,1,0,sales,low\\n0.11,0.87,6,255,4,0,1,0,sales,low\\n0.42,0.48,2,140,3,0,1,0,sales,low\\n0.64,0.9,6,252,2,0,1,0,sales,low\\n0.4,0.55,2,159,3,0,1,0,sales,low\\n0.84,0.98,5,270,5,0,1,0,sales,low\\n0.73,0.92,5,232,5,0,1,0,sales,low\\n0.4,0.51,2,144,3,0,1,0,accounting,low\\n0.36,0.45,2,127,3,0,1,0,accounting,low\\n0.43,0.47,2,131,3,0,1,0,accounting,low\\n0.11,0.78,6,243,4,0,1,0,hr,low\\n0.91,1,5,244,6,0,1,0,hr,low\\n0.8,1,5,260,5,0,1,0,hr,low\\n0.42,0.49,2,139,3,0,1,0,hr,low\\n0.31,0.87,4,184,3,0,1,0,technical,low\\n0.44,0.47,2,130,3,0,1,0,technical,low\\n0.38,0.54,2,135,3,0,1,0,technical,medium\\n0.45,0.56,2,146,3,0,1,0,technical,medium\\n0.43,0.46,2,149,3,0,1,0,technical,medium\\n0.45,0.46,2,153,3,1,1,0,technical,medium\\n0.43,0.57,2,160,3,0,1,0,technical,medium\\n0.43,0.49,2,160,3,0,1,0,technical,medium\\n0.09,0.83,6,282,4,0,1,0,technical,medium\\n0.43,0.47,2,128,3,0,1,0,technical,medium\\n0.79,0.94,4,232,5,0,1,0,technical,medium\\n0.85,0.58,3,226,2,0,1,0,support,medium\\n0.38,0.45,2,129,3,0,1,0,support,medium\\n0.11,0.92,7,255,4,0,1,0,support,medium\\n0.83,0.99,5,258,5,0,1,0,support,high\\n0.81,0.91,4,229,5,0,1,0,support,low\\n0.42,0.56,2,143,3,0,1,0,support,medium\\n0.11,0.87,6,257,4,0,1,0,support,medium\\n0.11,0.85,7,275,4,0,1,0,support,medium\\n0.1,0.89,7,291,4,0,1,0,support,medium\\n0.5,0.54,5,153,4,0,1,0,support,low\\n0.44,0.49,2,154,3,0,1,0,support,low\\n0.11,0.9,6,301,4,0,1,0,technical,low\\n0.39,0.52,2,134,3,0,1,0,technical,low\\n0.11,0.78,6,245,4,0,1,0,technical,low\\n0.36,0.5,2,132,3,0,1,0,management,low\\n0.43,0.51,2,130,3,0,1,0,IT,low\\n0.4,0.5,2,127,3,0,1,0,IT,low\\n0.86,0.84,4,246,6,0,1,0,IT,low\\n0.38,0.49,2,145,3,0,1,0,IT,low\\n0.46,0.45,2,138,3,0,1,1,IT,low\\n0.37,0.57,2,129,3,0,1,0,product_mng,low\\n0.43,0.52,2,150,3,0,1,0,product_mng,low\\n0.66,0.93,5,253,5,0,1,0,product_mng,low\\n0.37,0.48,2,160,3,0,1,0,product_mng,low\\n0.77,0.92,5,235,5,0,1,0,IT,low\\n0.38,0.55,2,151,3,0,1,0,sales,low\\n0.39,0.54,2,127,3,0,1,0,sales,low\\n0.41,0.55,2,151,3,0,1,0,sales,low\\n0.1,0.9,7,290,4,0,1,0,sales,low\\n0.09,0.93,6,249,4,0,1,0,sales,low\\n0.41,0.47,2,131,3,0,1,0,marketing,medium\\n0.39,0.46,2,159,3,0,1,0,sales,medium\\n0.83,0.99,4,223,5,0,1,0,accounting,medium\\n0.09,0.87,3,214,2,0,1,0,support,medium\\n0.75,0.81,5,227,5,0,1,0,technical,medium\\n0.44,0.54,2,127,3,0,1,0,management,medium\\n0.1,0.84,6,293,5,0,1,0,marketing,medium\\n0.42,0.46,2,141,3,0,1,0,marketing,medium\\n0.1,0.83,6,300,4,0,1,0,marketing,medium\\n0.1,0.86,6,309,4,0,1,0,sales,medium\\n0.31,0.77,4,149,3,0,1,0,sales,medium\\n0.42,0.54,2,159,3,0,1,0,sales,medium\\n0.38,0.5,2,152,3,0,1,0,sales,high\\n0.39,0.57,2,158,3,0,1,0,sales,low\\n0.1,0.97,6,254,5,0,1,0,sales,medium\\n0.11,0.93,6,294,4,0,1,0,sales,medium\\n0.1,0.92,7,269,4,0,1,0,sales,medium\\n0.11,0.9,7,247,4,0,1,0,sales,medium\\n0.44,0.65,3,271,4,0,1,0,sales,low\\n0.91,0.96,4,232,5,0,1,0,sales,low\\n0.72,1,4,245,5,0,1,0,sales,low\\n0.36,0.46,2,132,3,0,1,0,sales,low\\n0.44,0.57,2,131,3,0,1,0,sales,low\\n0.85,0.99,5,248,5,0,1,0,sales,low\\n0.78,0.93,5,225,5,0,1,0,sales,low\\n0.39,0.46,2,156,3,0,1,0,sales,low\\n0.78,0.81,3,222,2,0,1,0,sales,low\\n0.1,0.92,6,243,4,1,1,0,sales,low\\n0.23,0.99,4,204,4,1,1,0,accounting,low\\n0.11,0.87,6,301,4,0,1,0,accounting,low\\n0.9,0.83,5,259,5,0,1,0,accounting,low\\n0.91,0.89,4,247,5,0,1,0,hr,low\\n0.11,0.79,7,295,4,0,1,0,hr,low\\n0.43,0.54,2,150,3,0,1,0,hr,low\\n0.45,0.49,2,151,3,0,1,0,hr,low\\n0.11,0.91,5,291,4,0,1,0,technical,low\\n0.11,0.93,6,253,4,1,1,0,technical,low\\n0.43,0.5,2,161,3,0,1,0,technical,low\\n0.91,0.97,4,251,6,0,1,0,technical,low\\n0.43,0.55,2,153,3,0,1,0,technical,medium\\n0.85,0.82,5,264,6,0,1,0,technical,medium\\n0.1,0.77,6,310,4,0,1,0,technical,medium\\n0.81,0.95,5,266,5,0,1,0,technical,medium\\n0.36,0.62,4,237,2,0,1,0,technical,medium\\n0.45,0.54,2,138,3,0,1,0,technical,medium\\n0.86,1,5,227,5,0,1,0,technical,medium\\n0.71,1,4,300,5,0,1,0,support,medium\\n0.11,0.97,7,310,4,0,1,0,support,medium\\n0.84,0.93,5,236,5,0,1,0,support,medium\\n0.09,0.97,7,288,4,0,1,0,support,medium\\n0.38,0.49,2,127,3,0,1,0,support,medium\\n0.15,0.55,6,139,4,0,1,0,support,high\\n0.1,0.92,7,253,4,1,1,0,support,low\\n0.8,0.97,4,218,5,1,1,0,support,medium\\n0.84,0.97,5,251,5,0,1,0,support,medium\\n0.11,0.87,6,264,4,0,1,0,support,medium\\n0.89,0.79,3,149,2,0,1,0,support,medium\\n0.45,0.51,2,138,3,0,1,0,technical,low\\n0.11,0.93,7,284,4,0,1,0,technical,low\\n0.74,0.93,5,244,5,0,1,0,technical,low\\n0.41,0.5,2,128,3,0,1,0,management,low\\n0.44,0.53,2,154,3,0,1,0,IT,low\\n0.37,0.56,2,138,3,0,1,0,IT,low\\n0.11,0.86,6,308,4,0,1,0,IT,low\\n0.1,0.93,6,269,4,0,1,0,IT,low\\n0.7,0.74,6,136,3,0,1,0,IT,low\\n0.59,1,2,160,5,0,1,0,product_mng,low\\n0.38,0.53,2,138,3,0,1,0,product_mng,low\\n0.72,0.95,4,220,5,0,1,0,product_mng,low\\n0.73,1,5,274,5,0,1,0,product_mng,low\\n0.39,0.48,2,161,3,0,1,0,IT,low\\n0.89,0.82,5,224,6,0,1,0,RandD,low\\n0.89,1,4,260,5,0,1,0,RandD,low\\n0.11,0.78,6,300,4,1,1,0,RandD,low\\n0.43,0.56,2,133,3,0,1,0,RandD,low\\n0.09,0.93,6,308,4,0,1,0,RandD,low\\n0.81,0.9,5,238,6,0,1,0,marketing,low\\n0.37,0.53,2,126,3,0,1,0,sales,low\\n0.36,0.56,2,138,3,0,1,0,accounting,medium\\n0.11,0.85,6,299,4,0,1,0,support,medium\\n0.1,0.85,6,254,4,0,1,0,technical,medium\\n0.66,0.47,7,156,2,0,1,0,management,medium\\n0.39,0.47,2,152,3,0,1,0,marketing,medium\\n0.44,0.51,2,146,3,0,1,0,marketing,medium\\n0.1,0.84,6,253,4,0,1,0,marketing,medium\\n0.79,0.94,5,227,6,0,1,0,sales,medium\\n0.1,0.81,6,301,4,1,1,0,sales,medium\\n0.54,0.94,6,294,3,0,1,0,sales,medium\\n0.37,0.47,2,151,3,0,1,0,sales,medium\\n0.37,0.57,2,128,3,0,1,0,sales,medium\\n0.82,0.89,5,217,5,0,1,0,sales,high\\n0.45,0.52,2,160,3,0,1,0,sales,low\\n0.79,0.9,5,263,5,0,1,0,sales,medium\\n0.42,0.56,2,156,3,0,1,0,sales,medium\\n0.1,0.85,6,273,4,0,1,0,sales,medium\\n0.11,0.78,6,303,4,0,1,0,sales,medium\\n0.74,1,4,253,5,0,1,0,sales,low\\n0.1,0.93,6,270,4,0,1,0,sales,low\\n0.79,1,4,218,5,0,1,0,sales,low\\n0.43,0.48,2,144,3,0,1,0,sales,low\\n0.41,0.47,2,154,3,0,1,0,sales,low\\n0.39,0.55,2,146,3,0,1,0,sales,low\\n0.1,0.94,6,260,4,0,1,0,sales,low\\n0.82,0.85,5,218,5,0,1,0,sales,low\\n0.41,0.46,2,128,3,0,1,0,accounting,low\\n0.42,0.56,2,128,3,0,1,0,accounting,low\\n0.74,0.88,4,248,6,0,1,0,accounting,low\\n0.38,0.57,2,152,3,1,1,0,hr,low\\n0.39,0.56,2,126,3,0,1,0,hr,low\\n0.87,0.94,4,260,5,0,1,0,hr,low\\n0.1,0.9,5,263,4,0,1,0,hr,low\\n0.78,1,5,220,5,0,1,0,technical,low\\n0.14,0.73,7,282,5,0,1,0,technical,low\\n0.11,0.94,6,277,5,0,1,0,technical,low\\n0.91,0.94,5,257,5,0,1,0,technical,low\\n0.49,0.63,6,265,3,0,1,0,technical,low\\n0.38,0.47,2,143,3,0,1,0,technical,low\\n0.82,0.97,5,263,5,0,1,0,technical,medium\\n0.38,0.88,3,154,4,0,1,0,technical,medium\\n0.89,1,5,253,5,0,1,0,technical,medium\\n0.11,0.79,6,294,4,0,1,0,technical,medium\\n0.37,0.51,2,128,3,0,1,0,technical,medium\\n0.38,0.5,2,153,3,0,1,0,support,medium\\n0.78,0.87,5,256,5,0,1,0,support,medium\\n0.41,0.51,2,127,3,0,1,0,support,medium\\n0.41,0.51,2,137,3,0,1,0,support,medium\\n0.11,0.83,6,295,4,0,1,0,support,medium\\n0.11,0.79,6,281,4,0,1,0,support,medium\\n0.43,0.57,2,131,3,1,1,0,support,medium\\n0.75,0.86,5,237,5,0,1,0,support,high\\n0.74,0.99,4,276,5,0,1,0,support,low\\n0.85,0.85,5,267,5,0,1,0,support,medium\\n0.73,0.92,5,266,5,0,1,0,support,medium\\n0.1,0.79,6,294,4,0,1,0,technical,medium\\n0.44,0.56,2,134,3,0,1,0,technical,medium\\n0.3,0.56,3,309,4,1,1,0,technical,low\\n0.11,0.77,7,273,4,0,1,0,management,low\\n0.84,0.83,5,238,5,0,1,0,IT,low\\n0.78,0.94,5,271,6,0,1,0,IT,low\\n0.43,0.53,2,145,3,0,1,0,IT,low\\n0.36,0.55,2,152,3,0,1,0,IT,low\\n0.43,0.47,2,128,3,0,1,0,IT,low\\n0.45,0.46,2,142,3,0,1,0,product_mng,low\\n0.76,0.93,5,238,5,0,1,0,product_mng,low\\n0.1,0.78,7,286,4,0,1,0,product_mng,low\\n0.09,0.86,6,291,4,0,1,0,product_mng,low\\n0.92,1,5,259,5,0,1,0,IT,low\\n0.92,0.9,5,248,5,0,1,0,sales,low\\n0.79,0.98,4,271,5,0,1,0,sales,low\\n0.43,0.51,2,140,3,0,1,0,sales,low\\n0.8,0.95,4,274,5,0,1,0,sales,low\\n0.44,0.49,2,127,3,1,1,0,sales,low\\n0.89,0.87,5,275,6,0,1,0,marketing,low\\n0.48,0.88,3,239,3,0,1,0,sales,low\\n0.11,0.82,6,304,4,1,1,0,accounting,low\\n0.38,0.55,2,145,3,0,1,0,support,low\\n0.11,0.85,6,259,4,0,1,0,technical,medium\\n0.82,0.86,4,264,5,0,1,0,management,medium\\n0.37,0.45,2,160,3,0,1,0,marketing,medium\\n0.4,0.48,2,138,3,0,1,0,marketing,medium\\n0.43,0.47,2,137,3,0,1,0,marketing,medium\\n0.44,0.5,2,156,3,0,1,0,sales,medium\\n0.42,0.56,2,147,3,0,1,0,sales,medium\\n0.11,0.8,7,243,4,0,1,0,sales,medium\\n0.78,0.87,4,236,5,0,1,0,sales,medium\\n0.46,0.86,2,212,4,0,1,0,sales,medium\\n0.77,0.91,5,261,6,0,1,0,sales,medium\\n0.83,0.82,4,243,5,0,1,0,sales,medium\\n0.32,0.58,5,271,5,0,1,0,sales,high\\n0.9,0.92,5,154,4,0,1,0,sales,low\\n0.42,0.52,2,151,3,0,1,0,sales,medium\\n0.1,0.96,6,254,4,1,1,0,sales,medium\\n0.1,0.91,6,285,4,0,1,0,sales,medium\\n0.44,0.49,2,130,3,0,1,0,sales,medium\\n0.1,0.95,7,301,4,0,1,0,sales,low\\n0.11,0.8,6,286,4,0,1,0,sales,low\\n0.1,0.89,6,246,4,0,1,0,sales,low\\n0.39,0.47,2,135,3,0,1,0,sales,low\\n0.92,0.92,4,245,5,0,1,0,sales,low\\n0.43,0.56,2,136,3,0,1,0,sales,low\\n0.11,0.89,6,301,4,0,1,0,accounting,low\\n0.81,1,5,235,5,0,1,0,accounting,low\\n0.11,0.85,7,272,4,0,1,0,accounting,low\\n0.87,1,5,274,5,0,1,0,hr,low\\n0.37,0.46,2,131,3,0,1,0,hr,low\\n0.39,0.56,2,135,3,0,1,0,hr,low\\n0.61,0.86,4,196,4,0,1,0,hr,low\\n0.11,0.95,6,285,4,0,1,0,technical,low\\n0.09,0.9,7,289,5,0,1,0,technical,low\\n0.36,0.52,2,157,3,0,1,0,technical,low\\n0.09,0.94,6,308,4,0,1,0,technical,low\\n0.41,0.71,4,301,5,0,1,0,technical,low\\n0.4,0.46,2,131,3,0,1,0,technical,low\\n0.1,0.91,6,262,5,1,1,0,technical,low\\n0.46,0.53,2,143,3,1,1,0,technical,low\\n0.39,0.57,2,133,3,0,1,0,technical,medium\\n0.41,0.5,2,153,3,0,1,0,technical,medium\\n0.1,0.94,7,281,4,0,1,0,technical,medium\\n0.39,0.51,2,132,3,0,1,0,support,medium\\n0.73,0.83,5,270,5,1,1,0,support,medium\\n0.41,0.45,2,150,3,0,1,0,support,medium\\n0.37,0.51,2,140,3,0,1,0,support,medium\\n0.38,0.5,2,150,3,1,1,0,support,medium\\n0.8,0.63,5,180,5,0,1,0,support,medium\\n0.09,0.85,5,281,4,0,1,0,support,medium\\n0.85,0.92,4,275,5,0,1,0,support,medium\\n0.42,0.54,2,130,3,0,1,0,support,medium\\n0.41,0.48,2,130,3,0,1,0,support,high\\n0.38,0.46,2,147,3,0,1,0,support,low\\n0.72,1,5,264,5,0,1,0,technical,medium\\n0.11,0.74,6,290,5,0,1,0,technical,medium\\n0.37,0.47,2,150,3,0,1,0,technical,medium\\n0.1,0.81,6,304,4,0,1,0,management,medium\\n0.36,0.54,2,136,3,0,1,0,IT,low\\n0.92,0.94,5,307,5,0,1,0,IT,low\\n0.11,0.87,5,303,4,0,1,0,IT,low\\n0.39,0.56,2,156,3,0,1,0,IT,low\\n0.11,0.95,6,271,4,0,1,0,IT,low\\n0.45,0.45,2,140,3,0,1,0,product_mng,low\\n0.44,0.55,2,130,3,1,1,0,product_mng,low\\n0.85,0.97,4,266,6,0,1,0,product_mng,low\\n0.43,0.52,2,139,3,0,1,0,product_mng,low\\n0.75,0.86,5,260,5,0,1,0,IT,low\\n0.11,0.55,2,137,3,1,1,0,RandD,low\\n0.36,0.5,2,158,3,0,1,0,RandD,low\\n0.1,0.79,6,249,4,0,1,0,RandD,low\\n0.74,0.89,5,259,5,0,1,0,RandD,low\\n0.4,0.46,2,144,3,0,1,0,RandD,low\\n0.09,0.77,6,244,4,0,1,0,marketing,low\\n0.76,0.91,4,219,5,0,1,0,sales,low\\n0.45,0.57,2,151,3,0,1,0,accounting,low\\n0.84,0.88,4,269,5,0,1,0,support,low\\n0.38,0.45,2,127,3,0,1,0,technical,low\\n0.38,0.46,2,144,3,0,1,0,management,low\\n0.38,0.54,2,157,3,0,1,0,marketing,medium\\n0.86,0.94,5,224,5,0,1,0,marketing,medium\\n0.37,0.46,2,155,3,0,1,0,marketing,medium\\n0.37,0.5,2,131,3,0,1,0,sales,medium\\n0.87,1,4,258,5,1,1,1,sales,medium\\n0.11,0.85,6,267,4,0,1,0,sales,medium\\n0.42,0.5,2,141,3,0,1,0,sales,medium\\n0.43,0.48,2,160,3,0,1,0,sales,medium\\n0.09,0.8,6,247,4,0,1,0,sales,medium\\n0.54,0.56,4,260,3,0,1,0,sales,medium\\n0.4,0.47,2,151,3,0,1,0,sales,medium\\n0.36,0.52,2,137,3,1,1,0,sales,medium\\n0.87,0.9,4,256,5,0,1,0,sales,high\\n0.75,0.88,4,239,5,0,1,0,sales,low\\n0.43,0.53,2,152,3,0,1,0,sales,medium\\n0.43,0.47,2,149,3,0,1,0,sales,medium\\n0.1,0.87,6,284,4,0,1,0,sales,medium\\n0.11,0.78,7,248,4,0,1,0,sales,medium\\n0.44,0.53,2,156,3,0,1,0,sales,low\\n0.39,0.48,2,138,3,0,1,0,sales,low\\n0.4,0.55,2,155,3,0,1,0,sales,low\\n0.92,0.87,4,229,6,0,1,0,sales,low\\n0.36,0.47,2,136,3,0,1,0,accounting,low\\n0.86,0.95,4,241,5,0,1,0,accounting,low\\n0.74,0.87,5,258,5,0,1,0,accounting,low\\n0.8,0.95,3,146,5,0,1,0,hr,low\\n0.36,0.48,2,145,3,0,1,0,hr,low\\n0.42,0.57,2,159,3,0,1,0,hr,low\\n0.42,0.47,2,129,3,0,1,0,hr,low\\n0.4,0.45,2,142,3,0,1,0,technical,low\\n0.46,0.53,2,129,3,0,1,0,technical,low\\n0.09,0.9,6,287,4,0,1,0,technical,low\\n0.88,0.89,4,275,5,0,1,0,technical,low\\n0.1,0.82,6,272,4,0,1,0,technical,low\\n0.1,0.97,6,307,4,0,1,0,technical,low\\n0.11,0.93,4,295,3,0,1,0,technical,low\\n0.84,0.88,5,237,5,0,1,0,technical,low\\n0.42,0.56,2,158,3,0,1,0,technical,low\\n0.1,0.86,6,266,4,1,1,0,technical,low\\n0.1,0.95,6,256,4,0,1,0,technical,medium\\n0.46,0.54,2,158,3,0,1,0,support,medium\\n0.09,0.97,7,268,4,0,1,0,support,medium\\n0.89,1,4,237,5,0,1,0,support,medium\\n0.82,1,4,273,6,0,1,0,support,medium\\n0.11,0.89,6,309,4,0,1,0,support,medium\\n0.81,0.84,5,258,5,0,1,0,support,medium\\n0.81,0.94,5,233,6,0,1,0,support,medium\\n0.77,1,4,249,6,0,1,0,support,medium\\n0.63,0.94,3,179,2,0,1,0,support,medium\\n0.4,0.57,2,128,3,0,1,0,support,medium\\n0.86,1,4,250,6,0,1,0,support,medium\\n0.37,0.49,2,151,3,0,1,0,technical,high\\n0.44,0.5,2,132,3,0,1,0,technical,low\\n0.74,0.89,5,232,6,0,1,0,technical,medium\\n0.79,1,4,229,5,1,1,0,management,medium\\n0.09,0.92,6,261,4,0,1,0,IT,medium\\n0.37,0.48,2,129,3,0,1,0,IT,medium\\n0.09,0.78,6,244,4,0,1,0,IT,low\\n0.09,0.84,6,258,4,0,1,0,IT,low\\n0.1,0.8,7,292,5,0,1,0,IT,low\\n0.45,0.56,2,143,3,0,1,0,product_mng,low\\n0.4,0.51,2,136,3,0,1,0,product_mng,low\\n0.31,0.95,6,235,5,0,1,0,product_mng,low\\n0.7,0.93,2,310,3,0,1,0,product_mng,low\\n0.36,0.48,2,152,3,0,1,0,IT,low\\n0.34,0.97,6,157,5,1,1,0,RandD,low\\n0.87,0.83,5,267,5,0,1,0,RandD,low\\n0.11,0.91,6,302,4,0,1,0,RandD,low\\n0.47,0.81,4,133,3,0,1,0,RandD,low\\n0.43,0.52,2,142,3,0,1,0,RandD,low\\n0.43,0.47,2,129,3,0,1,0,marketing,low\\n0.45,0.57,2,136,3,0,1,0,sales,low\\n0.74,1,5,223,5,0,1,0,accounting,low\\n0.1,0.89,6,244,4,1,1,0,support,low\\n0.78,0.87,5,243,5,0,1,0,technical,low\\n0.9,0.95,5,275,3,0,1,0,management,low\\n0.53,0.95,6,205,4,0,1,0,marketing,low\\n0.45,0.54,2,154,3,0,1,0,marketing,low\\n0.86,0.83,4,270,5,0,1,0,marketing,medium\\n0.74,0.89,4,267,5,0,1,0,sales,medium\\n0.09,0.79,6,276,4,0,1,0,sales,medium\\n0.8,0.95,5,244,5,0,1,0,sales,medium\\n0.46,0.53,2,128,3,0,1,0,sales,medium\\n0.86,0.95,5,269,6,0,1,0,sales,medium\\n0.86,0.95,4,238,5,0,1,0,sales,medium\\n0.9,0.91,4,269,5,0,1,0,sales,medium\\n0.87,0.88,5,231,6,0,1,0,sales,medium\\n0.83,0.94,4,267,5,0,1,0,sales,medium\\n0.77,0.83,4,245,5,0,1,0,sales,medium\\n0.77,1,4,272,5,0,1,0,sales,medium\\n0.9,0.86,5,254,5,0,1,0,sales,high\\n0.73,0.92,4,273,5,0,1,0,sales,low\\n0.91,0.9,4,250,5,0,1,0,sales,medium\\n0.36,0.53,2,133,3,0,1,0,sales,medium\\n0.38,0.54,2,150,3,0,1,0,sales,medium\\n0.44,0.46,2,157,3,0,1,0,sales,medium\\n0.73,1,5,230,5,0,1,0,sales,low\\n0.89,0.91,5,260,5,0,1,0,sales,low\\n0.11,0.77,6,275,4,0,1,0,accounting,low\\n0.1,0.77,7,308,4,0,1,0,accounting,low\\n0.37,0.46,2,129,3,0,1,0,accounting,low\\n0.38,0.48,2,134,3,0,1,0,hr,low\\n0.42,0.48,2,132,3,0,1,0,hr,low\\n0.44,0.46,2,153,3,0,1,0,hr,low\\n0.11,0.83,6,262,4,0,1,0,hr,low\\n0.09,0.97,7,262,4,0,1,0,technical,low\\n0.43,0.47,2,130,3,0,1,0,technical,low\\n0.38,0.52,2,156,3,0,1,0,technical,low\\n0.11,0.89,6,254,4,0,1,0,technical,low\\n0.37,0.49,2,130,3,0,1,0,technical,low\\n0.44,0.57,2,139,3,0,1,0,technical,low\\n0.72,0.82,5,269,5,0,1,0,technical,low\\n0.1,0.91,7,297,4,0,1,0,technical,low\\n0.73,0.86,5,249,5,0,1,0,technical,low\\n0.09,0.82,7,267,4,0,1,0,technical,low\\n0.44,0.46,2,149,3,0,1,0,technical,low\\n0.09,0.82,6,251,4,0,1,0,support,low\\n0.1,0.87,6,306,4,0,1,0,support,medium\\n0.11,0.86,6,279,4,0,1,0,support,medium\\n0.42,0.46,2,131,3,0,1,0,support,medium\\n0.09,0.85,6,260,4,0,1,0,support,medium\\n0.72,0.88,5,249,5,0,1,0,support,medium\\n0.75,0.97,4,245,5,0,1,0,support,medium\\n0.44,0.5,2,138,3,0,1,0,support,medium\\n0.11,0.91,6,278,4,0,1,0,support,medium\\n0.38,0.47,2,147,3,0,1,0,support,medium\\n0.39,0.57,2,131,3,0,1,0,support,medium\\n0.1,0.9,7,301,4,0,1,0,technical,medium\\n0.43,0.52,2,141,3,0,1,0,technical,medium\\n0.39,0.57,2,158,3,0,1,0,technical,high\\n0.88,0.87,4,235,6,0,1,0,management,low\\n0.1,0.85,7,261,4,0,1,0,IT,medium\\n0.1,0.89,5,270,4,0,1,0,IT,medium\\n0.11,0.93,6,290,4,0,1,0,IT,medium\\n0.37,0.47,2,149,3,0,1,0,IT,medium\\n0.37,0.48,2,160,3,0,1,0,IT,low\\n0.77,0.87,4,150,4,0,1,0,product_mng,low\\n0.91,0.94,5,218,6,0,1,0,product_mng,low\\n0.46,0.51,2,155,3,0,1,0,product_mng,low\\n0.11,0.87,6,291,4,0,1,0,product_mng,low\\n0.86,0.91,5,265,5,0,1,0,IT,low\\n0.87,0.88,5,262,6,0,1,0,sales,low\\n0.09,0.92,6,303,5,0,1,0,sales,low\\n0.42,0.46,2,132,3,0,1,0,sales,low\\n0.82,0.83,4,245,5,1,1,0,sales,low\\n0.46,0.48,2,129,3,0,1,0,sales,low\\n0.88,1,5,226,6,0,1,0,marketing,low\\n0.1,0.91,6,286,4,0,1,0,marketing,low\\n0.43,0.45,2,140,3,0,1,0,sales,low\\n0.37,0.49,2,153,3,0,1,0,accounting,low\\n0.8,0.95,5,217,5,0,1,0,support,low\\n0.83,0.95,5,258,5,0,1,0,technical,low\\n0.39,0.57,2,156,3,0,1,0,management,low\\n0.77,0.92,5,255,5,0,1,0,marketing,low\\n0.43,0.46,2,129,3,0,1,0,marketing,low\\n0.79,0.96,4,234,5,0,1,0,marketing,low\\n0.39,0.55,2,152,3,1,1,0,sales,medium\\n0.1,0.88,7,300,4,0,1,0,sales,medium\\n0.39,0.53,2,131,3,0,1,0,sales,medium\\n0.11,0.89,6,301,4,0,1,0,sales,medium\\n0.4,0.51,2,156,3,0,1,0,sales,medium\\n0.42,0.52,2,141,3,1,1,0,sales,medium\\n0.57,0.85,4,219,2,1,1,0,sales,medium\\n0.11,0.95,7,269,5,0,1,0,sales,medium\\n0.36,0.73,4,276,2,0,1,0,sales,medium\\n0.11,0.94,7,302,4,0,1,0,sales,medium\\n0.35,0.8,6,281,2,0,1,0,sales,medium\\n0.78,0.99,5,241,5,0,1,0,sales,medium\\n0.11,0.93,7,288,4,0,1,0,sales,high\\n0.1,0.96,6,303,4,0,1,0,sales,low\\n0.42,0.54,2,135,3,0,1,0,sales,medium\\n0.43,0.5,2,127,3,1,1,0,sales,medium\\n0.79,0.84,5,245,5,0,1,0,sales,medium\\n0.45,0.45,2,145,3,0,1,0,sales,medium\\n0.09,0.91,6,248,4,0,1,0,sales,low\\n0.11,0.91,6,302,4,0,1,0,accounting,low\\n0.45,0.49,2,144,3,0,1,0,accounting,low\\n0.11,0.91,6,272,4,0,1,0,accounting,low\\n0.09,0.8,6,294,4,0,1,0,hr,low\\n0.78,0.71,4,296,3,0,1,0,hr,low\\n0.38,0.5,2,151,3,1,1,0,hr,low\\n0.82,0.82,4,249,5,0,1,0,hr,low\\n0.85,0.89,4,221,5,0,1,0,technical,low\\n0.45,0.46,2,146,3,0,1,0,technical,low\\n0.77,0.89,5,243,5,0,1,0,technical,low\\n0.39,0.5,2,127,3,0,1,0,technical,low\\n0.91,0.9,4,245,5,0,1,0,technical,low\\n0.11,0.77,6,264,4,0,1,0,technical,low\\n0.46,0.45,2,143,3,0,1,0,technical,low\\n0.43,0.49,2,135,3,0,1,0,technical,low\\n0.11,0.96,6,262,4,1,1,0,technical,low\\n0.1,0.93,6,299,4,0,1,0,technical,low\\n0.09,0.8,5,279,4,0,1,0,technical,low\\n0.36,0.51,2,155,3,0,1,0,support,low\\n0.11,0.89,6,264,4,0,1,0,support,low\\n0.09,0.77,6,256,5,0,1,0,support,medium\\n0.44,0.51,2,129,3,0,1,0,support,medium\\n0.73,0.97,5,217,6,0,1,0,support,medium\\n0.21,0.58,7,203,5,0,1,0,support,medium\\n0.8,0.85,4,264,5,0,1,0,support,medium\\n0.37,0.55,2,159,3,0,1,0,support,medium\\n0.79,0.96,5,218,5,0,1,0,support,medium\\n0.09,0.8,6,298,4,0,1,0,support,medium\\n0.75,0.74,6,134,3,0,1,0,support,medium\\n0.83,1,5,263,5,0,1,0,technical,medium\\n0.1,0.77,5,252,4,0,1,0,technical,medium\\n0.44,0.55,2,136,3,0,1,0,technical,medium\\n0.42,0.97,6,259,4,0,1,0,management,high\\n0.43,0.56,2,158,3,0,1,0,IT,low\\n0.09,0.84,7,307,4,0,1,0,IT,medium\\n0.44,0.53,2,152,3,0,1,0,IT,medium\\n0.81,0.98,5,237,5,0,1,0,IT,medium\\n0.1,0.79,7,284,4,0,1,0,IT,medium\\n0.1,0.93,6,243,4,0,1,0,product_mng,low\\n0.11,0.83,6,268,4,0,1,0,product_mng,low\\n0.09,0.77,6,244,4,0,1,0,product_mng,low\\n0.75,0.83,5,262,5,0,1,0,product_mng,low\\n0.38,0.55,2,134,3,0,1,0,IT,low\\n0.09,0.87,7,278,4,0,1,0,IT,low\\n0.74,0.97,5,238,5,0,1,0,IT,low\\n0.44,0.56,2,127,3,0,1,0,IT,low\\n0.76,0.95,4,259,5,0,1,0,RandD,low\\n0.42,0.56,2,146,3,0,1,0,RandD,low\\n0.75,1,4,243,5,0,1,0,RandD,low\\n0.36,0.52,2,137,3,0,1,0,marketing,low\\n0.75,0.93,5,229,5,0,1,0,sales,low\\n0.4,0.46,2,134,3,0,1,0,accounting,low\\n0.75,0.89,4,228,5,0,1,0,support,low\\n0.09,0.84,6,301,4,0,1,0,technical,low\\n0.39,0.46,2,127,3,0,1,0,management,low\\n0.4,0.48,2,142,3,0,1,0,marketing,low\\n0.39,0.54,2,131,3,0,1,0,marketing,low\\n0.1,0.85,7,310,5,0,1,0,marketing,low\\n0.42,0.55,2,148,3,0,1,0,sales,low\\n0.37,0.52,2,143,3,0,1,0,sales,medium\\n0.11,0.98,6,250,4,0,1,0,sales,medium\\n0.09,0.88,7,265,4,0,1,0,sales,medium\\n0.41,0.54,2,152,3,0,1,0,sales,medium\\n0.42,0.49,2,145,3,0,1,0,sales,medium\\n0.4,0.49,2,140,3,0,1,0,sales,medium\\n0.36,0.47,2,129,3,0,1,0,sales,medium\\n0.74,0.9,4,226,5,0,1,0,sales,medium\\n0.66,1,5,269,5,0,1,0,sales,medium\\n0.38,0.47,2,152,3,0,1,0,sales,medium\\n0.43,0.51,2,132,3,0,1,0,sales,medium\\n0.43,0.53,2,148,3,0,1,0,sales,medium\\n0.1,0.85,6,297,5,0,1,0,sales,high\\n0.82,0.85,4,274,5,0,1,0,sales,low\\n0.1,0.77,6,280,4,0,1,0,sales,medium\\n0.1,0.93,6,288,4,0,1,0,sales,medium\\n0.43,0.49,2,155,3,0,1,0,sales,medium\\n0.09,0.94,7,247,4,0,1,0,sales,medium\\n0.41,0.54,2,138,3,0,1,0,accounting,low\\n0.1,0.82,7,284,4,0,1,0,accounting,low\\n0.88,0.92,4,225,5,0,1,0,accounting,low\\n0.43,0.57,2,151,3,1,1,0,hr,low\\n0.42,0.5,2,155,3,0,1,0,hr,low\\n0.85,1,4,234,5,0,1,0,hr,low\\n0.38,0.49,2,144,3,0,1,0,hr,low\\n0.39,0.47,2,142,3,0,1,0,technical,low\\n0.41,0.48,2,126,3,0,1,0,technical,low\\n0.88,0.92,4,233,6,0,1,0,technical,low\\n0.78,0.96,4,241,5,0,1,0,technical,low\\n0.45,0.48,2,138,3,0,1,0,technical,low\\n0.09,0.95,6,260,4,1,1,0,technical,low\\n0.44,0.56,2,145,3,0,1,0,technical,low\\n0.11,0.84,6,252,4,0,1,0,technical,low\\n0.36,0.51,2,143,3,0,1,0,technical,low\\n0.86,0.98,4,270,5,0,1,0,technical,low\\n0.1,0.92,6,285,4,0,1,0,technical,low\\n0.45,0.53,2,149,3,0,1,0,support,low\\n0.42,0.53,2,158,3,0,1,0,support,low\\n0.36,0.55,2,134,3,0,1,0,support,low\\n0.45,0.55,2,129,3,0,1,0,support,medium\\n0.38,0.57,2,131,3,0,1,0,support,medium\\n0.11,0.97,6,288,4,0,1,0,support,medium\\n0.45,0.46,2,142,3,0,1,0,support,medium\\n0.87,0.95,5,227,5,0,1,0,support,medium\\n0.45,0.53,2,131,3,0,1,0,support,medium\\n0.1,0.83,6,283,5,0,1,0,support,medium\\n0.44,0.54,2,139,3,0,1,0,support,medium\\n0.78,1,4,267,5,0,1,0,technical,medium\\n0.38,0.56,2,148,3,0,1,0,technical,medium\\n0.85,0.84,5,272,6,0,1,0,technical,medium\\n0.36,0.48,2,148,3,1,1,0,management,medium\\n0.75,0.88,5,270,5,0,1,0,IT,high\\n0.81,0.81,4,218,5,1,1,0,IT,low\\n0.4,0.55,2,150,3,0,1,0,IT,medium\\n0.83,0.83,5,260,5,0,1,0,IT,medium\\n0.41,0.52,2,127,3,0,1,0,IT,medium\\n0.42,0.57,2,134,3,0,1,0,product_mng,medium\\n0.09,0.83,7,258,4,0,1,0,product_mng,low\\n0.87,0.81,5,304,5,0,1,0,product_mng,low\\n0.43,0.56,6,149,4,0,1,0,product_mng,low\\n0.39,0.51,2,139,3,0,1,0,IT,low\\n0.1,0.9,6,272,5,0,1,0,RandD,low\\n0.41,0.52,2,132,3,0,1,0,RandD,low\\n0.72,1,2,240,2,0,1,0,RandD,low\\n0.44,0.55,2,137,3,0,1,0,RandD,low\\n0.38,0.5,2,139,3,0,1,0,RandD,low\\n0.46,0.52,2,148,3,0,1,0,RandD,low\\n0.4,0.49,2,149,3,0,1,0,marketing,low\\n0.45,0.45,2,131,3,0,1,0,sales,low\\n0.89,0.89,5,262,5,0,1,0,accounting,low\\n0.1,0.97,7,284,4,0,1,0,support,low\\n0.46,0.48,2,161,3,0,1,0,technical,low\\n0.09,0.78,7,290,4,0,1,0,management,low\\n0.45,0.57,2,149,3,0,1,0,marketing,low\\n0.89,0.98,4,242,6,0,1,0,marketing,low\\n0.62,0.77,5,227,4,0,1,0,marketing,low\\n0.11,0.93,6,276,4,0,1,0,sales,low\\n0.44,0.5,2,135,3,0,1,0,sales,low\\n0.09,0.94,6,266,4,0,1,0,sales,medium\\n0.56,0.75,5,236,2,0,1,0,sales,medium\\n0.77,0.89,4,270,5,0,1,0,sales,medium\\n0.39,0.49,2,146,3,0,1,0,sales,medium\\n0.1,0.92,5,272,4,0,1,0,sales,medium\\n0.72,0.85,5,246,5,0,1,0,sales,medium\\n0.4,0.52,2,136,3,0,1,0,sales,medium\\n0.11,0.81,6,260,4,0,1,0,sales,medium\\n0.88,1,5,247,5,0,1,0,sales,medium\\n0.37,0.51,2,127,3,0,1,0,sales,medium\\n0.11,0.96,6,267,4,0,1,0,sales,medium\\n0.4,0.52,2,143,3,0,1,0,sales,medium\\n0.1,0.86,6,306,4,0,1,0,sales,high\\n0.62,0.89,3,131,4,0,1,0,sales,low\\n0.78,0.86,4,249,5,0,1,0,sales,medium\\n0.37,0.52,2,144,3,0,1,0,sales,medium\\n0.76,0.82,4,254,5,1,1,0,sales,medium\\n0.42,0.53,2,131,3,0,1,0,accounting,medium\\n0.1,0.77,6,272,4,0,1,0,accounting,low\\n0.42,0.47,2,157,3,0,1,0,accounting,low\\n0.1,0.96,7,301,4,0,1,0,hr,low\\n0.1,0.81,6,252,4,0,1,0,hr,low\\n0.42,0.47,2,130,3,0,1,0,hr,low\\n0.09,0.86,6,297,4,0,1,0,hr,low\\n0.1,0.8,6,248,4,0,1,0,technical,low\\n0.11,0.89,7,257,4,0,1,0,technical,low\\n0.44,0.53,2,147,3,0,1,0,technical,low\\n0.87,0.9,3,307,5,0,1,0,technical,low\\n0.44,0.46,2,154,3,0,1,0,technical,low\\n0.41,0.56,2,143,3,0,1,0,technical,low\\n0.51,0.79,4,134,3,0,1,0,technical,low\\n0.89,0.96,5,221,5,0,1,0,technical,low\\n0.1,0.96,6,275,4,0,1,0,technical,low\\n0.9,0.94,5,247,5,0,1,0,technical,low\\n0.36,0.55,2,131,3,0,1,0,technical,low\\n0.44,0.54,2,150,3,0,1,0,support,low\\n0.39,0.57,2,150,3,0,1,0,support,low\\n0.38,1,5,137,4,0,1,0,support,low\\n0.73,0.95,4,223,6,0,1,0,support,low\\n0.1,0.96,6,292,4,0,1,0,support,medium\\n0.89,0.83,5,130,4,1,1,0,support,medium\\n0.87,0.85,5,221,6,0,1,0,support,medium\\n0.84,0.89,4,245,5,1,1,0,support,medium\\n0.11,0.77,6,274,4,0,1,0,support,medium\\n0.74,1,5,248,5,0,1,0,support,medium\\n0.79,0.97,4,243,5,0,1,0,support,medium\\n0.1,0.92,7,273,4,0,1,0,technical,medium\\n0.83,0.95,5,221,5,0,1,0,technical,medium\\n0.1,0.79,6,271,4,0,1,0,technical,medium\\n0.45,0.5,2,157,3,0,1,0,management,medium\\n0.29,0.48,2,249,4,0,1,0,IT,medium\\n0.46,0.46,2,145,3,0,1,0,IT,high\\n0.11,0.83,6,262,5,0,1,0,IT,low\\n0.75,0.89,5,272,5,0,1,0,IT,medium\\n0.4,0.5,2,129,3,0,1,0,IT,medium\\n0.37,0.46,2,134,3,0,1,0,product_mng,medium\\n0.41,0.52,2,147,3,0,1,0,product_mng,medium\\n0.1,0.83,6,293,4,0,1,0,product_mng,low\\n0.39,0.52,2,129,3,0,1,0,product_mng,low\\n0.4,0.45,2,140,3,0,1,0,IT,low\\n0.41,0.52,2,132,3,0,1,0,RandD,low\\n0.11,0.89,6,284,4,0,1,0,RandD,low\\n0.74,0.99,5,263,5,0,1,0,RandD,low\\n0.42,0.46,2,143,3,0,1,0,RandD,low\\n0.88,0.88,4,265,5,0,1,0,RandD,low\\n0.37,0.53,2,147,3,0,1,0,RandD,low\\n0.78,0.81,4,253,5,0,1,0,marketing,low\\n0.46,0.5,2,141,3,0,1,0,sales,low\\n0.74,1,5,222,6,0,1,0,accounting,low\\n0.11,0.86,6,273,4,1,1,0,support,low\\n0.8,0.87,5,240,6,0,1,0,technical,low\\n0.37,0.48,2,154,3,0,1,0,management,low\\n0.87,0.92,4,253,6,0,1,0,marketing,low\\n0.9,0.84,5,221,5,0,1,0,marketing,low\\n0.1,0.88,6,263,4,0,1,0,marketing,low\\n0.43,0.46,2,145,3,0,1,0,sales,low\\n0.11,0.91,6,279,4,0,1,0,sales,low\\n0.4,0.46,2,146,3,0,1,0,sales,low\\n0.09,0.93,7,270,4,0,1,0,sales,medium\\n0.4,0.5,2,135,3,0,1,0,sales,medium\\n0.14,0.7,5,236,3,0,1,0,sales,medium\\n0.4,0.49,2,151,3,0,1,0,sales,medium\\n0.11,0.79,6,244,4,1,1,0,sales,medium\\n0.72,1,4,169,3,0,1,0,sales,medium\\n0.39,0.57,2,157,3,0,1,0,sales,medium\\n0.82,0.93,4,246,5,0,1,0,sales,medium\\n0.41,0.52,2,142,3,0,1,0,sales,medium\\n0.45,0.51,2,156,3,0,1,0,sales,medium\\n0.2,0.7,6,281,5,0,1,0,sales,medium\\n0.43,0.53,2,146,3,0,1,0,sales,medium\\n0.39,0.55,2,156,3,0,1,0,sales,high\\n0.11,0.86,6,299,4,1,1,0,sales,low\\n0.45,0.47,2,136,3,0,1,0,sales,medium\\n0.11,0.87,6,272,4,0,1,0,sales,medium\\n0.84,0.86,5,240,5,0,1,0,accounting,medium\\n0.86,0.96,5,245,6,0,1,0,accounting,medium\\n0.79,0.93,5,269,5,0,1,0,accounting,low\\n0.39,0.57,2,130,3,0,1,0,hr,low\\n0.15,0.62,4,257,3,0,1,0,hr,low\\n0.81,1,4,241,5,0,1,0,hr,low\\n0.39,0.53,2,136,3,0,1,0,hr,low\\n0.92,0.94,4,219,5,0,1,0,technical,low\\n0.9,0.98,5,271,5,0,1,0,technical,low\\n0.32,0.6,2,280,4,0,1,0,technical,low\\n0.46,0.46,2,140,3,0,1,0,technical,low\\n0.83,0.98,4,254,5,0,1,0,technical,low\\n0.39,0.47,2,131,3,0,1,0,technical,low\\n0.2,0.9,6,138,3,0,1,0,technical,low\\n0.11,0.85,6,295,4,0,1,0,technical,low\\n0.11,0.96,6,301,5,0,1,0,technical,low\\n0.1,0.95,7,296,4,0,1,0,technical,low\\n0.75,0.87,5,246,5,0,1,0,technical,low\\n0.44,0.57,2,145,3,0,1,0,support,low\\n0.86,0.93,5,241,5,1,1,0,support,low\\n0.1,0.82,6,269,4,0,1,0,support,low\\n0.39,0.49,2,146,3,0,1,0,support,low\\n0.45,0.48,2,149,3,0,1,0,support,low\\n0.1,0.94,7,287,4,0,1,0,support,medium\\n0.36,0.55,2,138,3,0,1,0,support,medium\\n0.57,0.61,4,158,5,0,1,0,support,medium\\n0.09,0.87,6,266,4,0,1,0,support,medium\\n0.87,0.91,4,255,5,0,1,0,support,medium\\n0.43,0.52,2,156,3,0,1,0,support,medium\\n0.36,0.5,2,147,3,0,1,0,technical,medium\\n0.91,0.99,5,265,5,1,1,0,technical,medium\\n0.41,0.48,2,136,3,0,1,0,technical,medium\\n0.37,0.52,2,140,3,0,1,0,management,medium\\n0.43,0.45,2,146,3,0,1,0,IT,medium\\n0.43,0.57,2,142,3,0,1,0,IT,medium\\n0.4,0.53,2,155,3,0,1,0,IT,high\\n0.1,0.89,7,285,4,0,1,0,IT,low\\n0.76,0.99,4,253,5,1,1,0,IT,medium\\n0.82,0.93,4,248,5,0,1,0,product_mng,medium\\n0.11,0.83,7,255,5,0,1,0,product_mng,medium\\n0.43,0.52,2,154,3,1,1,0,product_mng,medium\\n0.11,0.88,7,305,4,0,1,0,product_mng,low\\n0.41,0.48,2,141,3,0,1,0,IT,low\\n0.73,0.87,5,252,5,0,1,0,RandD,low\\n0.37,0.57,2,157,3,0,1,0,RandD,low\\n0.11,0.89,6,250,4,0,1,0,RandD,low\\n0.46,0.52,2,131,3,0,1,0,RandD,low\\n0.41,0.5,2,149,3,0,1,0,RandD,low\\n0.78,0.78,4,260,5,0,1,0,RandD,low\\n0.78,0.86,5,260,6,0,1,0,marketing,low\\n0.72,0.86,5,251,5,0,1,0,sales,low\\n0.63,0.83,6,242,5,0,1,0,accounting,low\\n0.55,1,6,136,3,0,1,0,support,low\\n0.45,0.55,2,155,3,0,1,0,technical,low\\n0.39,0.51,2,155,3,0,1,0,management,low\\n0.1,0.81,6,248,4,0,1,0,marketing,low\\n0.4,0.5,2,136,3,0,1,0,marketing,low\\n0.39,0.54,2,133,3,0,1,0,marketing,low\\n0.78,0.45,4,128,2,0,1,0,sales,low\\n0.42,0.53,2,142,3,0,1,0,sales,low\\n0.39,0.54,2,149,3,0,1,0,sales,low\\n0.46,0.57,2,145,3,0,1,0,sales,low\\n0.1,0.92,6,279,4,0,1,0,sales,medium\\n0.45,0.47,2,146,3,0,1,0,sales,medium\\n0.1,0.83,6,264,4,1,1,0,sales,medium\\n0.1,0.89,7,272,4,0,1,0,sales,medium\\n0.78,0.86,5,256,5,0,1,0,sales,medium\\n0.4,0.65,2,296,5,0,1,0,sales,medium\\n0.45,0.51,2,155,3,1,1,0,sales,medium\\n0.39,0.56,2,130,3,0,1,0,sales,medium\\n0.43,0.48,2,157,3,0,1,0,sales,medium\\n0.09,0.96,6,245,4,0,1,0,sales,medium\\n0.79,0.86,5,226,5,0,1,0,sales,medium\\n0.44,0.47,2,156,3,1,1,0,sales,medium\\n0.79,0.95,5,228,5,0,1,0,sales,high\\n0.38,0.46,2,155,3,0,1,0,sales,low\\n0.36,0.56,2,159,3,0,1,0,sales,medium\\n0.39,0.57,2,142,3,0,1,0,accounting,medium\\n0.09,0.93,6,271,4,0,1,0,accounting,medium\\n0.16,0.65,4,277,5,0,1,0,accounting,medium\\n0.09,0.77,6,310,4,0,1,0,hr,low\\n0.11,0.87,6,254,4,0,1,0,hr,low\\n0.44,0.56,2,142,3,0,1,0,hr,low\\n0.11,0.88,7,253,4,0,1,0,hr,low\\n0.11,0.97,6,260,4,0,1,0,technical,low\\n0.45,0.52,2,147,3,0,1,0,technical,low\\n0.1,0.96,7,288,4,0,1,0,technical,low\\n0.4,0.46,2,160,3,0,1,0,technical,low\\n0.38,0.55,2,130,3,0,1,0,technical,low\\n0.39,0.56,2,133,3,0,1,0,technical,low\\n0.38,0.55,2,160,3,0,1,0,technical,low\\n0.38,0.45,2,151,3,0,1,0,technical,low\\n0.17,0.75,3,188,4,0,1,0,technical,low\\n0.79,0.84,5,247,5,0,1,0,technical,low\\n0.1,0.85,7,259,4,0,1,0,technical,low\\n0.37,0.48,2,129,3,0,1,0,support,low\\n0.42,0.49,2,152,3,0,1,0,support,low\\n0.44,0.48,2,128,3,0,1,0,support,low\\n0.11,0.83,6,253,4,0,1,0,support,low\\n0.39,0.48,2,151,3,0,1,0,support,low\\n0.1,0.83,5,271,5,0,1,0,support,low\\n0.4,0.46,2,155,3,0,1,0,support,medium\\n0.86,0.91,5,245,5,0,1,0,support,medium\\n0.37,0.46,2,157,3,0,1,0,support,medium\\n0.4,0.51,2,160,3,0,1,0,support,medium\\n0.43,0.48,2,149,3,0,1,0,support,medium\\n0.88,0.88,5,248,5,0,1,0,technical,medium\\n0.44,0.52,2,128,3,0,1,0,technical,medium\\n0.87,1,4,224,5,0,1,0,technical,medium\\n0.4,0.46,2,156,3,0,1,0,management,medium\\n0.45,0.52,2,143,3,0,1,0,IT,medium\\n0.84,0.93,4,250,5,0,1,0,IT,medium\\n0.1,0.68,3,179,3,0,1,0,IT,medium\\n0.72,0.99,5,257,5,0,1,0,IT,high\\n0.4,0.5,2,127,3,0,1,0,IT,low\\n0.45,0.5,2,145,3,0,1,0,product_mng,medium\\n0.89,0.98,5,274,5,0,1,0,product_mng,medium\\n0.4,0.55,2,131,3,0,1,0,product_mng,medium\\n0.38,0.53,2,136,3,0,1,0,product_mng,medium\\n0.38,0.47,2,140,3,1,1,0,IT,low\\n0.1,0.82,7,265,4,0,1,0,RandD,low\\n0.42,0.48,2,148,3,1,1,0,RandD,low\\n0.74,0.86,5,262,5,0,1,0,RandD,low\\n0.1,0.8,6,261,4,0,1,0,RandD,low\\n0.82,0.9,5,248,5,0,1,0,RandD,low\\n0.38,0.55,2,131,3,0,1,0,marketing,low\\n0.41,0.56,2,160,3,0,1,0,sales,low\\n0.4,0.47,2,152,3,0,1,0,accounting,low\\n0.83,0.98,4,249,5,0,1,0,support,low\\n0.36,0.57,2,144,3,0,1,0,technical,low\\n0.75,0.98,4,245,5,0,1,0,management,low\\n0.44,0.53,2,146,3,0,1,0,marketing,low\\n0.1,0.94,6,297,5,0,1,0,marketing,low\\n0.39,0.52,2,148,3,1,1,0,marketing,low\\n0.09,0.84,7,260,4,0,1,0,sales,low\\n0.4,0.57,2,152,3,0,1,0,sales,low\\n0.41,0.54,2,135,3,0,1,0,sales,low\\n0.83,0.92,4,235,5,0,1,0,sales,low\\n0.42,0.47,2,145,3,0,1,0,sales,low\\n0.61,0.46,5,220,4,0,1,0,sales,low\\n0.44,0.52,2,128,3,0,1,0,sales,medium\\n0.77,0.81,5,237,5,0,1,0,sales,medium\\n0.81,0.95,4,275,5,0,1,0,sales,medium\\n0.1,0.78,6,310,4,0,1,0,sales,medium\\n0.73,0.84,5,251,6,0,1,0,sales,medium\\n0.09,0.83,6,250,4,0,1,0,sales,medium\\n0.9,0.99,4,259,6,0,1,0,sales,medium\\n0.88,1,4,259,5,0,1,0,sales,medium\\n0.09,0.87,7,305,4,0,1,0,sales,medium\\n0.4,0.56,2,130,3,1,1,0,sales,medium\\n0.17,0.55,6,250,5,0,1,0,sales,medium\\n0.82,0.82,5,220,6,0,1,0,sales,medium\\n0.9,0.83,4,266,5,0,1,0,sales,high\\n0.83,0.92,4,255,5,0,1,0,accounting,low\\n0.44,0.5,2,154,3,0,1,0,accounting,medium\\n0.5,0.85,4,138,3,0,1,0,accounting,medium\\n0.14,0.61,6,291,5,0,1,0,hr,medium\\n0.77,0.82,4,217,5,0,1,0,hr,medium\\n0.09,0.83,6,286,4,0,1,0,hr,low\\n0.11,0.88,6,290,4,0,1,0,hr,low\\n0.44,0.57,2,148,3,0,1,0,technical,low\\n0.43,0.52,2,146,3,0,1,0,technical,low\\n0.12,0.8,5,136,2,0,1,0,technical,low\\n0.1,0.86,7,261,5,0,1,0,technical,low\\n0.1,0.96,6,274,4,0,1,0,technical,low\\n0.4,0.48,2,132,3,0,1,0,technical,low\\n0.41,0.47,2,145,3,0,1,0,technical,low\\n0.37,0.48,2,153,3,0,1,0,technical,low\\n0.4,0.48,2,139,3,0,1,0,technical,low\\n0.74,0.96,4,231,5,0,1,0,technical,low\\n0.39,0.48,2,154,3,0,1,0,technical,low\\n0.11,0.9,5,307,4,0,1,0,support,low\\n0.36,0.51,2,129,3,0,1,0,support,low\\n0.8,0.83,5,275,5,0,1,0,support,low\\n0.6,0.85,3,250,2,0,1,0,support,low\\n0.36,0.54,2,158,3,0,1,0,support,low\\n0.1,0.96,6,310,5,0,1,0,support,low\\n0.65,0.86,2,181,2,0,1,0,support,low\\n0.49,0.73,4,244,3,0,1,0,support,low\\n0.73,0.96,5,256,6,1,1,0,support,medium\\n0.11,0.8,6,259,5,0,1,0,support,medium\\n0.73,0.91,4,247,5,0,1,0,support,medium\\n0.43,0.46,2,129,3,0,1,0,technical,medium\\n0.73,0.93,5,229,5,0,1,0,technical,medium\\n0.76,0.85,5,236,6,0,1,0,technical,medium\\n0.09,0.96,6,281,4,0,1,0,management,medium\\n0.9,0.81,5,264,5,0,1,0,IT,medium\\n0.1,0.81,6,308,4,0,1,0,IT,medium\\n0.43,0.48,2,147,3,0,1,0,IT,medium\\n0.41,0.55,2,159,3,0,1,0,IT,medium\\n0.41,0.57,2,154,3,0,1,0,IT,medium\\n0.1,0.87,6,307,4,0,1,0,product_mng,high\\n0.4,0.46,2,132,3,0,1,0,product_mng,low\\n0.4,0.53,2,152,3,0,1,0,product_mng,medium\\n0.36,0.48,5,310,3,0,1,0,product_mng,medium\\n0.83,0.95,5,230,5,0,1,0,IT,medium\\n0.83,0.94,5,273,5,0,1,0,RandD,medium\\n0.41,0.51,2,144,3,0,1,0,RandD,low\\n0.11,0.93,7,296,4,0,1,0,RandD,low\\n0.68,0.62,5,198,5,1,1,0,RandD,low\\n0.43,0.53,2,157,3,0,1,0,RandD,low\\n0.44,0.51,2,145,3,0,1,0,marketing,low\\n0.87,0.94,5,219,5,0,1,0,marketing,low\\n0.43,0.54,2,153,3,0,1,0,sales,low\\n0.89,0.48,3,178,5,0,1,0,accounting,low\\n0.83,0.88,5,239,5,0,1,0,support,low\\n0.11,0.87,6,278,5,0,1,0,technical,low\\n0.85,1,6,260,3,1,1,0,management,low\\n0.89,0.97,4,264,5,0,1,0,marketing,low\\n0.09,0.92,7,301,4,0,1,0,marketing,low\\n0.43,0.55,4,134,3,0,1,0,marketing,low\\n0.42,0.46,2,147,3,0,1,0,sales,low\\n0.43,0.54,2,130,3,0,1,0,sales,low\\n0.1,0.93,6,307,4,0,1,0,sales,low\\n0.37,0.46,2,156,3,0,1,0,sales,low\\n0.76,0.98,4,237,5,0,1,0,sales,low\\n0.88,0.89,4,254,5,0,1,0,sales,low\\n0.39,0.48,2,151,3,0,1,0,sales,low\\n0.45,0.54,2,131,3,0,1,0,sales,medium\\n0.91,0.95,5,241,5,0,1,0,sales,medium\\n0.86,0.85,5,267,5,0,1,0,sales,medium\\n0.39,0.53,2,153,3,0,1,0,sales,medium\\n0.89,1,4,217,5,0,1,0,sales,medium\\n0.11,0.86,6,254,4,0,1,0,sales,medium\\n0.1,0.87,6,265,5,0,1,0,sales,medium\\n0.38,0.57,2,146,3,0,1,0,sales,medium\\n0.4,0.54,2,156,3,0,1,0,sales,medium\\n0.86,0.97,5,269,5,0,1,0,sales,medium\\n0.1,0.86,6,288,4,0,1,0,sales,medium\\n0.1,0.85,6,283,4,0,1,0,sales,medium\\n0.42,0.5,2,128,3,0,1,0,accounting,high\\n0.36,0.46,2,130,3,0,1,0,accounting,low\\n0.39,0.48,2,127,3,0,1,0,accounting,medium\\n0.43,0.47,2,137,3,0,1,0,hr,medium\\n0.36,0.49,2,133,3,0,1,0,hr,medium\\n0.09,0.91,6,275,4,0,1,0,hr,medium\\n0.42,0.55,2,146,3,0,1,0,hr,low\\n0.42,0.46,2,135,3,0,1,0,technical,low\\n0.91,0.89,5,217,5,0,1,0,technical,low\\n0.41,0.56,2,154,3,0,1,0,technical,low\\n0.11,0.78,6,247,4,0,1,0,technical,low\\n0.09,0.83,6,295,5,0,1,0,technical,low\\n0.83,1,5,224,5,0,1,0,technical,low\\n0.11,0.78,6,281,4,0,1,0,technical,low\\n0.1,0.93,7,258,4,0,1,0,technical,low\\n0.42,0.55,2,150,3,0,1,0,technical,low\\n0.1,0.97,7,282,4,0,1,0,technical,low\\n0.38,0.51,2,138,3,0,1,0,technical,low\\n0.77,0.98,4,238,6,0,1,0,support,low\\n0.11,0.85,7,244,4,0,1,0,support,low\\n0.87,0.97,5,250,6,0,1,0,support,low\\n0.1,0.88,7,282,4,0,1,0,support,low\\n0.1,0.89,7,253,4,0,1,0,support,low\\n0.09,0.9,6,256,4,0,1,0,support,low\\n0.84,0.85,5,260,5,0,1,0,support,low\\n0.11,0.86,6,245,4,0,1,0,support,low\\n0.81,0.97,5,230,5,0,1,0,support,low\\n0.77,0.85,5,276,5,0,1,0,support,medium\\n0.42,0.47,2,137,3,0,1,0,support,medium\\n0.36,0.56,2,140,3,0,1,0,technical,medium\\n0.81,0.83,5,269,6,0,1,0,technical,medium\\n0.37,0.46,2,130,3,1,1,0,technical,medium\\n0.1,0.96,6,264,4,0,1,0,management,medium\\n0.14,0.55,6,175,5,0,1,0,IT,medium\\n0.41,0.51,2,159,3,0,1,0,IT,medium\\n0.44,0.55,2,128,3,0,1,1,IT,medium\\n0.82,0.94,5,232,5,1,1,0,IT,medium\\n0.67,0.54,3,166,5,0,1,0,IT,medium\\n0.44,0.57,2,141,3,0,1,0,product_mng,medium\\n0.42,0.54,2,143,3,0,1,0,product_mng,high\\n0.84,0.83,4,239,5,0,1,0,product_mng,low\\n0.86,1,4,232,5,0,1,0,product_mng,medium\\n0.56,0.86,5,252,2,0,1,0,IT,medium\\n0.09,0.93,6,255,4,0,1,0,RandD,medium\\n0.1,0.81,7,270,4,0,1,0,RandD,medium\\n0.39,0.54,2,149,3,0,1,0,RandD,low\\n0.75,0.89,5,276,5,0,1,0,RandD,low\\n0.43,0.55,2,159,3,0,1,0,RandD,low\\n0.09,0.96,7,274,5,0,1,0,marketing,low\\n0.83,0.94,4,264,5,0,1,0,sales,low\\n0.59,1,3,156,4,0,1,0,accounting,low\\n0.44,0.54,2,135,3,0,1,0,support,low\\n0.38,0.49,2,128,3,0,1,0,technical,low\\n0.76,0.98,5,242,5,0,1,0,management,low\\n0.22,0.86,4,293,3,0,1,0,marketing,low\\n0.4,0.46,2,141,3,0,1,0,marketing,low\\n0.41,0.48,2,155,3,0,1,0,marketing,low\\n0.38,0.51,2,141,3,0,1,0,sales,low\\n0.45,0.68,4,212,4,1,1,0,sales,low\\n0.39,0.56,2,160,3,0,1,0,sales,low\\n0.45,0.47,2,150,3,0,1,0,sales,low\\n0.42,0.53,2,132,3,1,1,0,sales,low\\n0.1,0.87,6,248,4,0,1,0,sales,low\\n0.78,0.96,5,272,5,0,1,0,sales,low\\n0.39,0.56,2,160,3,0,1,0,sales,low\\n0.1,0.87,7,299,4,0,1,0,sales,low\\n0.1,0.8,6,292,4,0,1,0,sales,medium\\n0.43,0.46,2,126,3,0,1,0,sales,medium\\n0.38,0.45,2,132,3,0,1,0,sales,medium\\n0.09,0.77,6,282,5,0,1,0,sales,medium\\n0.39,0.53,2,141,3,0,1,0,sales,medium\\n0.73,0.99,6,206,5,0,1,0,sales,medium\\n0.38,0.49,2,140,3,0,1,0,sales,medium\\n0.1,0.91,6,255,4,0,1,0,sales,medium\\n0.41,0.54,2,133,3,0,1,0,sales,medium\\n0.43,0.51,2,131,3,0,1,0,sales,medium\\n0.79,0.96,4,257,5,0,1,0,accounting,medium\\n0.1,0.81,6,269,4,0,1,0,accounting,medium\\n0.11,0.97,6,254,4,0,1,0,accounting,high\\n0.42,0.5,2,143,3,0,1,0,hr,low\\n0.36,0.51,2,157,3,0,1,0,hr,medium\\n0.63,0.93,5,163,3,0,1,0,hr,medium\\n0.41,0.56,2,133,3,0,1,0,hr,medium\\n0.36,0.46,2,157,3,0,1,0,technical,medium\\n0.1,0.9,6,301,5,0,1,0,technical,low\\n0.11,0.96,6,310,4,0,1,0,technical,low\\n0.44,0.54,2,133,3,0,1,0,technical,low\\n0.77,0.96,5,249,6,0,1,0,technical,low\\n0.91,1,4,251,6,0,1,0,technical,low\\n0.26,0.46,2,242,3,0,1,0,technical,low\\n0.81,0.93,5,265,6,0,1,0,technical,low\\n0.11,0.87,6,280,4,0,1,0,technical,low\\n0.92,0.89,4,241,5,0,1,0,technical,low\\n0.1,0.86,5,253,4,0,1,0,technical,low\\n0.45,0.51,2,137,3,0,1,0,support,low\\n0.11,0.94,6,266,4,0,1,0,support,low\\n0.23,0.7,5,168,4,0,1,0,support,low\\n0.86,0.95,4,270,5,0,1,0,support,low\\n0.44,0.55,2,141,3,0,1,0,support,low\\n0.41,0.56,2,133,3,0,1,0,support,low\\n0.84,0.97,5,256,5,0,1,0,support,low\\n0.42,0.52,2,160,3,0,1,0,support,low\\n0.11,0.88,7,275,4,0,1,0,support,low\\n0.38,0.46,2,160,3,0,1,0,support,low\\n0.11,0.96,7,244,4,0,1,0,support,low\\n0.1,0.83,6,271,4,0,1,0,technical,medium\\n0.86,0.88,5,268,5,0,1,0,technical,medium\\n0.91,1,4,253,5,1,1,0,technical,medium\\n0.37,0.53,2,140,3,0,1,0,management,medium\\n0.46,0.5,2,146,3,0,1,0,IT,medium\\n0.1,0.89,6,259,5,0,1,0,IT,medium\\n0.37,0.46,2,127,3,0,1,0,IT,medium\\n0.4,0.48,2,161,3,0,1,0,IT,medium\\n0.09,0.78,6,260,4,0,1,0,IT,medium\\n0.11,0.89,6,272,4,0,1,0,product_mng,medium\\n0.39,0.48,2,159,3,0,1,0,product_mng,medium\\n0.89,0.96,4,219,6,0,1,0,product_mng,medium\\n0.09,0.91,6,243,4,0,1,0,product_mng,high\\n0.88,0.97,4,255,5,1,1,0,IT,low\\n0.11,0.9,7,245,4,0,1,0,RandD,medium\\n0.1,0.95,6,264,5,0,1,0,RandD,medium\\n0.91,1,4,245,6,0,1,0,RandD,medium\\n0.44,0.52,2,137,3,0,1,0,RandD,medium\\n0.63,0.76,2,157,4,0,1,0,RandD,low\\n0.1,0.87,7,247,4,0,1,0,marketing,low\\n0.36,0.51,2,144,3,0,1,0,sales,low\\n0.45,0.51,2,149,3,0,1,0,accounting,low\\n0.73,1,5,253,6,0,1,0,support,low\\n0.37,0.55,2,140,3,0,1,0,technical,low\\n0.09,0.85,7,307,4,0,1,0,management,low\\n0.41,0.71,3,205,4,0,1,0,marketing,low\\n0.72,1,5,234,5,0,1,0,marketing,low\\n0.36,0.54,2,127,3,0,1,0,marketing,low\\n0.9,1,4,229,5,0,1,0,sales,low\\n0.44,0.56,2,141,3,0,1,0,sales,low\\n0.78,0.95,4,260,5,0,1,0,sales,low\\n0.37,0.52,2,141,3,0,1,0,sales,low\\n0.4,0.47,2,144,3,1,1,0,sales,low\\n0.84,1,5,250,5,0,1,0,sales,low\\n0.09,0.86,6,245,4,0,1,0,sales,low\\n0.83,0.93,4,269,5,0,1,0,sales,low\\n0.11,0.87,6,273,4,0,1,0,sales,low\\n0.37,0.5,2,142,3,0,1,0,sales,low\\n0.09,0.93,6,273,5,0,1,0,sales,low\\n0.43,0.47,2,248,2,0,1,0,sales,medium\\n0.39,0.56,2,147,3,0,1,0,sales,medium\\n0.85,0.9,2,168,2,0,1,0,sales,medium\\n0.38,0.52,2,128,3,0,1,0,sales,medium\\n0.76,0.84,5,227,5,1,1,0,sales,medium\\n0.44,0.51,2,135,3,0,1,0,sales,medium\\n0.73,1,4,268,5,0,1,0,sales,medium\\n0.43,0.53,2,136,3,0,1,0,sales,medium\\n0.43,0.51,2,149,3,1,1,0,accounting,medium\\n0.09,0.96,7,264,4,0,1,0,accounting,medium\\n0.43,0.53,2,143,3,0,1,0,accounting,medium\\n0.45,0.57,2,138,3,0,1,0,hr,medium\\n0.42,0.48,2,146,3,0,1,0,hr,high\\n0.41,0.46,2,150,3,1,1,0,hr,low\\n0.44,0.55,2,156,3,0,1,0,hr,medium\\n0.09,0.92,7,245,4,0,1,0,technical,medium\\n0.41,0.51,2,156,3,0,1,0,technical,medium\\n0.43,0.51,2,143,3,0,1,0,technical,medium\\n0.38,0.51,2,159,3,0,1,0,technical,low\\n0.85,0.96,4,217,5,0,1,0,technical,low\\n0.88,0.91,4,234,6,0,1,0,technical,low\\n0.44,0.46,2,138,3,0,1,0,technical,low\\n0.11,0.92,7,265,4,0,1,0,technical,low\\n0.38,0.5,2,145,3,0,1,0,technical,low\\n0.09,0.78,6,263,4,0,1,0,technical,low\\n0.11,0.79,6,264,4,0,1,0,technical,low\\n0.11,0.88,6,253,4,0,1,0,support,low\\n0.44,0.48,2,155,3,0,1,0,support,low\\n0.38,0.51,2,137,3,0,1,0,support,low\\n0.1,0.87,6,254,5,0,1,0,support,low\\n0.45,0.57,2,143,3,0,1,0,support,low\\n0.11,0.94,7,280,5,0,1,0,support,low\\n0.36,0.48,2,136,3,0,1,0,support,low\\n0.72,0.95,5,271,5,0,1,0,support,low\\n0.43,0.48,2,157,3,0,1,0,support,low\\n0.45,0.5,2,150,3,0,1,0,support,low\\n0.4,0.53,2,127,3,0,1,0,support,low\\n0.1,0.81,6,271,4,0,1,0,technical,low\\n0.83,0.93,5,257,5,0,1,0,technical,low\\n0.11,0.8,7,305,4,0,1,0,technical,medium\\n0.43,0.5,2,152,3,0,1,0,management,medium\\n0.38,0.5,2,144,3,0,1,0,IT,medium\\n0.83,1,5,269,5,0,1,0,IT,medium\\n0.11,0.82,7,285,4,0,1,0,IT,medium\\n0.43,0.52,2,136,3,0,1,0,IT,medium\\n0.11,0.88,6,294,4,0,1,0,IT,medium\\n0.43,0.46,2,157,3,0,1,0,product_mng,medium\\n0.1,0.89,6,280,4,0,1,0,product_mng,medium\\n0.44,0.51,2,152,3,0,1,0,product_mng,medium\\n0.82,0.91,5,276,6,0,1,0,product_mng,medium\\n0.1,0.86,6,247,4,0,1,0,IT,medium\\n0.1,0.95,5,286,4,0,1,0,RandD,high\\n0.3,0.89,5,257,5,0,1,0,RandD,low\\n0.1,0.93,6,258,4,0,1,0,RandD,medium\\n0.39,0.5,2,151,3,0,1,0,RandD,medium\\n0.14,0.47,4,175,2,0,1,0,RandD,medium\\n0.82,0.92,4,252,5,0,1,0,marketing,medium\\n0.1,0.85,6,266,4,0,1,0,sales,low\\n0.09,0.9,6,295,4,0,1,0,accounting,low\\n0.54,0.83,6,165,6,0,1,0,support,low\\n0.61,0.58,2,264,4,0,1,0,technical,low\\n0.1,0.79,6,275,4,0,1,0,management,low\\n0.1,0.9,6,299,4,0,1,0,marketing,low\\n0.36,0.49,2,147,3,0,1,0,marketing,low\\n0.1,0.97,7,306,4,0,1,0,marketing,low\\n0.84,1,5,242,5,0,1,0,sales,low\\n0.38,0.51,2,159,3,0,1,0,sales,low\\n0.41,0.49,2,147,3,0,1,0,sales,low\\n0.37,0.51,2,154,3,1,1,0,sales,low\\n0.43,0.56,2,129,3,0,1,0,sales,low\\n0.46,0.53,2,161,3,0,1,0,sales,low\\n0.09,0.84,6,269,4,0,1,0,sales,low\\n0.78,0.86,5,274,5,0,1,0,sales,low\\n0.45,0.53,2,159,3,0,1,0,sales,low\\n0.42,0.47,2,135,3,0,1,0,sales,low\\n0.46,0.53,2,147,3,0,1,0,sales,low\\n0.39,0.49,2,142,3,0,1,0,sales,low\\n0.36,0.51,2,130,3,0,1,0,sales,low\\n0.43,0.53,2,147,3,0,1,0,sales,medium\\n0.85,0.87,5,246,5,1,1,0,sales,medium\\n0.11,0.92,6,281,4,0,1,0,sales,medium\\n0.11,0.9,6,253,4,0,1,0,sales,medium\\n0.38,0.47,2,128,3,0,1,0,sales,medium\\n0.43,0.57,2,129,3,0,1,0,sales,medium\\n0.75,1,5,223,6,0,1,0,accounting,medium\\n0.11,0.92,6,269,4,0,1,0,accounting,medium\\n0.1,0.9,7,269,4,0,1,0,accounting,medium\\n0.1,0.81,7,244,5,0,1,0,hr,medium\\n0.37,0.5,2,154,3,0,1,0,hr,medium\\n0.11,0.93,5,140,5,0,1,0,hr,medium\\n0.45,0.46,2,159,3,0,1,0,hr,high\\n0.44,0.48,2,158,3,0,1,0,technical,low\\n0.44,0.56,2,133,3,0,1,0,technical,medium\\n0.11,0.77,6,247,4,0,1,0,technical,medium\\n0.79,0.93,5,268,5,0,1,0,technical,medium\\n0.8,0.9,5,267,5,0,1,0,technical,medium\\n0.1,0.87,7,251,5,0,1,0,technical,low\\n0.09,0.93,6,279,4,0,1,0,technical,low\\n0.7,0.84,6,161,4,0,1,0,technical,low\\n0.72,0.84,4,256,5,0,1,0,technical,low\\n0.11,0.8,6,304,4,0,1,0,technical,low\\n0.39,0.51,2,137,3,0,1,0,technical,low\\n0.4,0.49,2,144,3,0,1,0,support,low\\n0.43,0.54,2,142,3,0,1,0,support,low\\n0.76,0.87,5,262,5,0,1,0,support,low\\n0.4,0.48,2,142,3,0,1,0,support,low\\n0.09,0.89,6,282,4,0,1,0,support,low\\n0.37,0.54,2,157,3,0,1,0,support,low\\n0.87,0.91,5,228,5,0,1,0,support,low\\n0.1,0.86,6,283,4,0,1,0,support,low\\n0.11,0.86,6,286,4,0,1,0,support,low\\n0.43,0.5,2,148,3,0,1,0,support,low\\n0.1,0.81,6,245,4,0,1,0,support,low\\n0.11,0.95,6,279,4,0,1,0,technical,low\\n0.85,0.87,5,245,5,0,1,0,technical,low\\n0.37,0.49,2,138,3,0,1,0,technical,low\\n0.44,0.52,2,141,3,0,1,0,management,low\\n0.1,0.83,7,302,5,0,1,0,IT,medium\\n0.11,0.89,6,268,4,0,1,0,IT,medium\\n0.87,0.88,5,240,5,0,1,0,IT,medium\\n0.39,0.49,2,127,3,0,1,0,IT,medium\\n0.1,0.94,7,264,4,0,1,0,IT,medium\\n0.44,0.53,2,155,3,0,1,0,product_mng,medium\\n0.4,0.49,2,143,3,0,1,0,product_mng,medium\\n0.76,0.98,5,217,6,0,1,0,product_mng,medium\\n0.46,0.55,2,147,3,0,1,0,product_mng,medium\\n0.9,0.92,4,271,5,0,1,0,IT,medium\\n0.85,0.87,4,273,5,0,1,0,RandD,medium\\n0.1,0.78,5,285,4,1,1,0,RandD,medium\\n0.43,0.49,2,131,3,0,1,0,RandD,high\\n0.2,0.5,5,135,6,0,1,0,RandD,low\\n0.81,0.92,5,239,5,0,1,0,RandD,medium\\n0.83,0.85,5,237,5,0,1,0,marketing,medium\\n0.14,0.75,4,277,5,1,1,0,sales,medium\\n0.1,0.84,5,303,5,0,1,0,accounting,medium\\n0.91,0.98,4,242,6,0,1,0,support,low\\n0.37,0.57,2,158,3,0,1,0,technical,low\\n0.42,0.57,2,147,3,1,1,0,management,low\\n0.39,0.68,2,282,5,0,1,0,marketing,low\\n0.39,0.54,2,154,3,0,1,0,marketing,low\\n0.44,0.52,2,149,3,0,1,0,marketing,low\\n0.37,0.45,2,149,3,0,1,0,sales,low\\n0.39,0.53,2,146,3,0,1,0,sales,low\\n0.72,0.94,4,258,5,0,1,0,sales,low\\n0.37,0.49,2,148,3,0,1,0,sales,low\\n0.82,0.94,5,236,5,0,1,0,sales,low\\n0.42,0.52,2,134,3,0,1,0,sales,low\\n0.59,1,2,155,5,0,1,0,sales,low\\n0.82,0.86,5,257,5,0,1,0,sales,low\\n0.73,0.97,6,189,2,0,1,0,sales,low\\n0.78,0.66,3,164,3,0,1,0,sales,low\\n0.09,0.95,6,271,4,0,1,0,sales,low\\n0.1,0.97,6,280,4,0,1,0,sales,low\\n0.45,0.46,2,149,3,0,1,0,sales,low\\n0.83,0.81,5,219,5,0,1,0,sales,low\\n0.43,0.51,2,128,3,0,1,0,sales,low\\n0.4,0.47,2,128,3,0,1,0,sales,medium\\n0.43,0.46,2,157,3,0,1,0,sales,medium\\n0.78,0.93,4,225,5,0,1,0,sales,medium\\n0.39,0.45,2,140,3,0,1,0,sales,medium\\n0.11,0.97,6,310,4,0,1,0,accounting,medium\\n0.36,0.52,2,143,3,0,1,0,accounting,medium\\n0.36,0.54,2,153,3,0,1,0,accounting,medium\\n0.1,0.79,7,310,4,0,1,0,hr,medium\\n0.4,0.47,2,136,3,0,1,0,hr,medium\\n0.81,0.85,4,251,6,0,1,0,hr,medium\\n0.4,0.47,2,144,3,0,1,0,hr,medium\\n0.09,0.93,6,296,4,0,1,0,technical,medium\\n0.76,0.89,5,238,5,0,1,0,technical,high\\n0.73,0.93,5,162,4,0,1,0,technical,low\\n0.38,0.49,2,137,3,0,1,0,technical,medium\\n0.72,0.84,5,257,5,0,1,0,technical,medium\\n0.4,0.56,2,148,3,0,1,0,technical,medium\\n0.91,0.99,5,254,5,0,1,0,technical,medium\\n0.85,0.85,4,247,6,0,1,0,technical,low\\n0.9,0.7,5,206,4,0,1,0,technical,low\\n0.46,0.55,2,145,3,0,1,0,technical,low\\n0.43,0.57,2,159,3,1,1,0,technical,low\\n0.89,0.88,5,228,5,1,1,0,support,low\\n0.09,0.81,6,257,4,0,1,0,support,low\\n0.4,0.48,2,155,3,0,1,0,support,low\\n0.76,0.83,6,293,6,0,1,0,support,low\\n0.4,0.57,2,151,3,0,1,0,support,low\\n0.37,0.48,2,160,3,0,1,0,support,low\\n0.37,0.53,2,143,3,0,1,0,support,low\\n0.11,0.96,6,280,4,0,1,0,support,low\\n0.37,0.52,2,158,3,0,1,0,support,low\\n0.09,0.89,7,310,4,0,1,0,support,low\\n0.88,0.86,5,258,5,0,1,0,support,low\\n0.84,0.94,5,262,5,0,1,0,technical,low\\n0.1,0.98,6,265,4,0,1,0,technical,low\\n0.41,0.47,2,143,3,1,1,0,technical,low\\n0.84,0.91,5,232,6,0,1,0,management,low\\n0.41,0.55,2,161,3,0,1,0,IT,low\\n0.53,0.76,5,132,6,0,1,0,IT,low\\n0.42,0.47,2,139,3,1,1,0,IT,medium\\n0.36,0.5,2,131,3,0,1,0,IT,medium\\n0.38,0.52,2,161,3,0,1,0,IT,medium\\n0.36,0.48,2,152,3,0,1,0,product_mng,medium\\n0.46,0.54,2,138,3,0,1,0,product_mng,medium\\n0.37,0.47,2,159,3,1,1,0,product_mng,medium\\n0.42,0.49,2,153,3,0,1,0,product_mng,medium\\n0.44,0.56,2,156,3,0,1,0,IT,medium\\n0.92,0.82,5,265,5,0,1,0,RandD,medium\\n0.1,0.79,6,301,5,0,1,0,RandD,medium\\n0.76,1,4,220,6,0,1,0,RandD,medium\\n0.11,0.79,6,247,4,0,1,0,RandD,medium\\n0.43,0.48,2,136,3,0,1,0,RandD,high\\n0.4,0.49,2,160,3,0,1,0,marketing,low\\n0.11,0.84,7,310,4,0,1,0,sales,medium\\n0.84,0.82,5,240,5,0,1,0,accounting,medium\\n0.84,0.84,5,238,5,0,1,0,support,medium\\n0.51,0.6,7,243,5,0,1,0,technical,medium\\n0.66,0.91,5,248,4,0,1,0,management,low\\n0.42,0.56,2,137,3,0,1,0,marketing,low\\n0.38,0.49,2,155,3,0,1,0,marketing,low\\n0.15,0.63,7,229,3,0,1,0,marketing,low\\n0.38,0.53,2,140,3,0,1,0,sales,low\\n0.43,0.54,2,156,3,0,1,0,sales,low\\n0.37,0.57,2,147,3,0,1,0,sales,low\\n0.11,0.92,7,293,4,0,1,0,sales,low\\n0.41,0.53,2,157,3,0,1,0,sales,low\\n0.84,0.96,4,247,5,0,1,0,sales,low\\n0.4,0.51,2,148,3,0,1,0,sales,low\\n0.58,0.74,4,215,3,0,0,0,sales,low\\n0.82,0.67,2,202,3,0,0,0,sales,low\\n0.45,0.69,5,193,3,0,0,0,sales,low\\n0.78,0.82,5,247,3,0,0,0,sales,low\\n0.49,0.6,3,214,2,0,0,0,sales,low\\n0.36,0.95,3,206,4,0,0,0,sales,low\\n0.54,0.37,2,176,2,0,0,0,sales,low\\n0.99,0.91,5,136,4,0,0,0,sales,low\\n0.5,0.75,6,127,3,0,0,0,sales,low\\n0.74,0.64,4,268,3,0,0,0,sales,low\\n0.56,0.58,4,258,3,0,0,0,sales,medium\\n0.34,0.39,2,136,3,0,0,0,sales,medium\\n0.48,0.94,5,255,6,0,0,0,accounting,medium\\n0.73,0.62,3,218,3,0,0,0,accounting,medium\\n0.59,0.87,3,268,4,0,0,0,accounting,medium\\n0.81,0.57,3,224,2,0,0,0,hr,medium\\n0.9,0.66,3,231,3,0,0,0,hr,medium\\n0.41,0.84,6,191,6,0,0,0,hr,medium\\n0.89,0.92,4,165,5,0,0,0,hr,medium\\n0.48,0.84,4,252,3,0,0,0,technical,medium\\n0.79,0.97,5,266,2,0,0,0,technical,medium\\n0.98,0.66,5,248,3,0,0,0,technical,medium\\n0.75,0.7,4,144,4,0,0,0,technical,high\\n1,0.41,4,174,3,0,0,0,technical,low\\n0.24,0.82,5,179,6,0,0,0,technical,medium\\n0.84,0.43,6,246,4,0,0,0,technical,medium\\n0.56,0.86,4,201,3,1,0,0,technical,medium\\n0.92,0.93,4,208,3,0,0,0,technical,medium\\n0.61,0.98,3,267,3,0,0,0,technical,low\\n0.84,0.77,4,262,4,0,0,0,technical,low\\n0.85,0.59,3,235,3,0,0,0,support,low\\n0.67,0.57,2,160,4,0,0,0,support,low\\n0.54,0.94,4,267,4,0,0,0,support,low\\n0.75,0.56,5,175,4,0,0,0,support,low\\n0.82,0.79,4,224,2,0,0,0,support,low\\n0.76,0.6,4,177,2,0,0,0,support,low\\n0.19,0.53,6,191,4,0,0,0,support,low\\n0.61,0.41,3,138,3,0,0,0,support,low\\n0.51,0.8,3,218,2,1,0,0,support,low\\n0.52,0.88,3,179,2,1,0,0,support,low\\n0.74,0.58,3,241,3,0,0,0,support,low\\n0.98,0.91,4,240,3,0,0,0,technical,low\\n0.71,0.92,3,202,4,0,0,0,technical,low\\n0.33,0.88,6,260,3,0,0,0,technical,low\\n0.98,0.97,3,196,3,0,0,0,management,low\\n0.52,0.59,2,176,3,1,0,0,IT,low\\n0.84,0.65,2,140,3,0,0,0,IT,low\\n0.87,0.5,3,242,2,0,0,0,IT,low\\n0.48,0.85,3,279,4,0,0,0,IT,low\\n0.58,0.55,4,202,3,0,0,0,IT,medium\\n0.58,0.84,5,228,3,0,0,0,product_mng,medium\\n0.73,0.69,4,171,3,0,0,0,product_mng,medium\\n0.68,0.54,4,153,3,0,0,0,product_mng,medium\\n0.41,0.68,3,165,3,1,0,0,product_mng,medium\\n0.85,0.6,3,182,3,0,0,0,IT,medium\\n0.54,0.7,5,239,5,0,0,0,RandD,medium\\n0.81,0.61,5,231,2,0,0,0,RandD,medium\\n0.7,0.52,4,255,3,0,0,0,RandD,medium\\n0.63,0.66,4,237,2,1,0,0,RandD,medium\\n0.68,0.54,3,251,2,0,0,0,RandD,medium\\n0.7,0.53,4,178,2,0,0,0,marketing,medium\\n0.82,0.65,4,148,3,0,0,0,sales,high\\n0.72,0.94,4,240,4,0,0,0,accounting,low\\n0.77,0.78,3,269,3,0,0,0,support,medium\\n0.86,0.91,4,147,3,0,0,0,technical,medium\\n0.15,0.97,3,198,5,0,0,0,management,medium\\n0.81,0.99,5,143,3,0,0,0,marketing,medium\\n0.93,0.98,3,238,2,0,0,0,marketing,low\\n0.62,0.74,4,213,4,0,0,0,marketing,low\\n0.53,0.81,3,226,3,1,0,0,sales,low\\n0.86,0.99,3,169,2,1,0,0,sales,low\\n0.92,0.65,4,238,2,0,0,0,sales,low\\n0.97,0.83,4,202,3,0,0,0,sales,low\\n0.39,0.78,2,205,6,1,0,0,sales,low\\n0.45,0.66,3,111,4,0,0,0,sales,low\\n0.41,0.47,4,104,3,0,0,0,sales,low\\n0.51,0.69,3,212,3,0,0,0,sales,low\\n0.74,0.62,4,236,4,0,0,0,sales,low\\n0.69,0.57,5,245,2,1,0,0,sales,low\\n0.84,0.64,4,267,4,0,0,0,sales,low\\n0.69,0.66,5,106,5,0,0,0,sales,low\\n0.93,0.53,5,198,3,0,0,0,sales,low\\n0.33,0.45,6,239,3,0,0,0,sales,low\\n0.25,0.65,5,220,3,0,0,0,sales,low\\n0.63,0.59,5,224,3,0,0,0,sales,low\\n0.81,0.62,3,100,3,0,0,0,sales,low\\n0.12,0.87,4,244,5,0,0,0,sales,low\\n0.52,0.66,4,139,3,0,0,0,sales,low\\n0.57,0.51,2,152,2,0,0,0,accounting,medium\\n0.84,0.58,4,208,3,0,0,0,accounting,medium\\n0.6,0.95,5,205,3,0,0,0,accounting,medium\\n0.73,0.44,2,194,6,0,0,0,hr,medium\\n0.2,0.58,3,209,5,0,0,0,hr,medium\\n0.58,0.9,3,212,3,0,0,0,hr,medium\\n0.48,0.56,2,151,3,0,0,0,hr,medium\\n0.54,0.67,4,282,6,0,0,0,technical,medium\\n0.86,1,4,256,3,0,0,0,technical,medium\\n0.94,0.83,2,185,3,1,0,0,technical,medium\\n0.76,0.74,5,132,3,0,0,0,technical,medium\\n0.61,0.95,5,233,3,0,0,0,technical,medium\\n0.56,0.94,4,215,2,0,0,0,technical,high\\n1,0.74,3,220,4,0,0,0,technical,low\\n0.15,0.53,6,222,3,0,0,0,technical,medium\\n0.19,0.58,5,182,2,0,0,0,technical,medium\\n0.17,0.73,5,258,4,0,0,0,technical,medium\\n0.71,0.57,3,209,2,0,0,0,technical,medium\\n0.86,0.79,3,242,2,0,0,0,support,low\\n0.59,0.88,4,155,3,1,0,0,support,low\\n0.74,0.76,5,104,4,0,0,0,support,low\\n0.98,0.92,4,201,3,1,0,0,support,low\\n0.93,0.75,5,143,3,0,0,0,support,low\\n1,0.92,5,161,3,1,0,0,support,low\\n0.59,0.81,4,200,2,0,0,0,support,low\\n0.98,0.55,4,255,2,0,0,0,support,low\\n0.35,0.5,5,227,2,0,0,0,support,low\\n0.42,0.96,3,270,6,0,0,0,support,low\\n0.61,0.85,5,230,3,0,0,0,support,low\\n0.78,0.72,5,270,3,1,0,0,technical,low\\n0.93,0.52,4,200,3,0,0,0,technical,low\\n0.5,0.95,5,207,3,0,0,0,technical,low\\n0.67,0.51,5,182,3,0,0,0,management,low\\n0.75,0.85,4,234,3,0,0,0,IT,low\\n0.79,0.51,4,237,2,0,0,0,IT,low\\n0.84,0.89,4,187,2,1,0,0,IT,low\\n0.72,0.5,3,257,6,0,0,0,IT,low\\n0.57,0.48,2,194,2,0,0,0,IT,low\\n0.73,0.52,4,162,3,0,0,0,product_mng,low\\n0.74,0.58,4,148,2,0,0,0,product_mng,medium\\n0.52,0.83,4,210,2,0,0,0,product_mng,medium\\n0.56,0.76,3,213,2,1,0,0,product_mng,medium\\n0.76,0.68,4,189,2,1,0,0,IT,medium\\n0.82,0.93,4,185,2,0,0,0,RandD,medium\\n0.76,0.83,3,186,2,1,0,0,RandD,medium\\n0.62,0.59,3,128,3,0,0,0,RandD,medium\\n0.48,0.8,4,268,3,0,0,0,RandD,medium\\n0.64,0.77,3,213,3,1,0,0,RandD,medium\\n0.74,0.82,4,142,2,0,0,0,marketing,medium\\n0.52,0.43,2,199,2,0,0,0,sales,medium\\n0.67,0.5,4,157,2,0,0,0,accounting,medium\\n0.71,0.76,5,172,2,1,0,0,support,high\\n0.72,0.63,3,176,3,1,0,0,technical,low\\n0.33,0.58,2,183,2,0,0,0,management,medium\\n0.91,0.56,4,270,2,0,0,0,marketing,medium\\n0.88,0.68,5,157,4,1,0,0,marketing,medium\\n0.96,0.6,4,185,3,0,0,0,marketing,medium\\n0.97,0.68,3,167,3,0,0,0,sales,low\\n0.27,0.59,5,226,5,0,0,0,sales,low\\n0.65,0.64,3,223,4,0,0,0,sales,low\\n0.68,0.73,3,257,3,0,0,0,sales,low\\n0.68,0.46,4,143,3,0,0,0,sales,low\\n0.69,0.74,3,215,2,0,0,0,sales,low\\n0.79,0.99,3,194,4,0,0,0,sales,low\\n0.74,0.92,5,193,3,0,0,0,sales,low\\n0.8,0.83,3,163,3,0,0,0,sales,low\\n0.38,0.94,5,252,5,0,0,0,sales,low\\n0.26,0.83,3,168,3,0,0,0,sales,low\\n0.81,0.86,3,231,3,0,0,0,sales,low\\n0.67,0.54,2,141,2,0,0,0,sales,low\\n0.55,0.81,4,260,2,0,0,0,sales,low\\n0.87,0.71,3,132,2,0,0,0,sales,low\\n0.46,0.69,2,159,2,0,0,0,sales,low\\n0.63,0.57,4,177,3,1,0,0,sales,low\\n0.54,0.96,4,248,3,0,0,0,sales,low\\n1,0.49,3,185,2,0,0,0,sales,low\\n0.97,0.66,4,149,2,0,0,0,accounting,low\\n0.9,0.92,3,152,3,0,0,0,accounting,low\\n0.75,0.7,3,129,3,0,0,0,accounting,medium\\n0.92,0.84,4,208,2,0,0,0,hr,medium\\n0.8,0.94,4,136,2,0,0,0,hr,medium\\n0.57,0.81,3,142,2,0,0,0,hr,medium\\n0.81,0.94,3,225,4,0,0,0,hr,medium\\n0.64,0.6,3,143,3,0,0,0,technical,medium\\n0.71,0.54,4,215,3,0,0,0,technical,medium\\n0.35,0.58,3,229,6,1,0,0,technical,medium\\n0.88,0.81,5,193,5,0,0,0,technical,medium\\n0.13,0.59,5,160,5,0,0,0,technical,medium\\n0.82,0.73,4,195,5,1,0,0,technical,medium\\n0.17,0.92,4,189,2,0,0,0,technical,medium\\n0.21,0.82,4,207,5,0,0,0,technical,high\\n0.89,0.47,4,108,3,0,0,0,technical,low\\n0.2,0.72,6,224,4,0,0,0,technical,medium\\n0.99,0.81,5,180,3,1,0,0,technical,medium\\n0.26,0.85,6,152,4,0,0,0,support,medium\\n0.22,0.53,4,244,2,0,0,0,support,medium\\n0.79,0.84,3,176,3,0,0,0,support,low\\n0.73,0.79,4,145,2,1,0,0,support,low\\n0.83,0.54,3,149,3,0,0,0,support,low\\n0.42,0.54,3,122,4,0,0,0,support,low\\n0.18,0.8,2,110,5,0,0,0,support,low\\n0.92,0.91,4,222,2,0,0,0,support,low\\n0.87,0.52,3,237,3,0,0,0,support,low\\n0.72,0.65,4,224,3,0,0,0,support,low\\n0.64,0.58,5,115,5,0,0,0,support,low\\n1,0.66,4,180,3,0,0,0,technical,low\\n0.83,0.65,4,162,3,0,0,0,technical,low\\n0.98,0.58,4,136,3,0,0,0,technical,low\\n0.7,0.87,3,260,2,0,0,0,management,low\\n0.9,0.79,4,150,2,0,0,0,IT,low\\n0.55,0.99,4,248,3,0,0,0,IT,low\\n0.78,0.84,3,233,3,1,0,0,IT,low\\n0.89,0.53,5,272,3,0,0,0,IT,low\\n0.17,0.59,3,197,5,0,0,0,IT,low\\n0.14,0.64,5,164,5,0,0,0,product_mng,low\\n0.85,0.57,4,216,2,0,0,0,product_mng,low\\n0.84,0.79,4,266,3,1,0,0,product_mng,low\\n0.7,0.69,3,102,4,1,0,0,product_mng,medium\\n0.16,0.98,5,284,5,0,0,0,IT,medium\\n0.51,0.69,3,145,2,1,0,0,RandD,medium\\n0.6,0.89,3,167,4,0,0,0,RandD,medium\\n0.5,0.63,3,172,2,0,0,0,RandD,medium\\n0.43,0.39,5,198,5,0,0,0,RandD,medium\\n0.5,0.7,4,201,4,0,0,0,RandD,medium\\n0.91,0.89,4,197,4,0,0,0,marketing,medium\\n0.65,0.93,4,270,2,0,0,0,sales,medium\\n0.59,0.52,2,149,3,0,0,0,accounting,medium\\n0.89,0.56,3,256,3,0,0,0,support,medium\\n0.97,0.6,3,162,3,0,0,0,technical,medium\\n0.56,0.97,5,163,2,0,0,0,management,high\\n0.76,0.93,3,266,3,1,0,0,marketing,low\\n0.28,0.55,4,208,4,0,0,0,marketing,medium\\n0.75,0.51,4,138,4,0,0,0,marketing,medium\\n0.78,0.81,4,232,3,0,0,0,sales,medium\\n0.26,0.63,6,100,4,0,0,0,sales,medium\\n0.53,0.72,2,172,5,0,0,0,sales,low\\n0.25,0.41,3,133,6,1,0,0,sales,low\\n0.82,0.51,3,234,3,0,0,0,sales,low\\n0.71,0.57,2,183,4,0,0,0,sales,low\\n0.61,0.95,4,174,4,0,0,0,sales,low\\n0.89,0.68,3,175,2,0,0,0,sales,low\\n0.57,0.78,3,109,3,1,0,0,sales,low\\n0.93,0.8,4,248,3,0,0,0,sales,low\\n0.61,0.84,5,104,4,0,0,0,sales,low\\n0.56,0.62,3,154,2,0,0,0,sales,low\\n0.7,0.89,6,214,2,0,0,0,sales,low\\n0.9,0.64,4,209,4,0,0,0,sales,low\\n0.15,0.74,6,212,2,0,0,0,sales,low\\n0.39,0.36,3,168,3,1,0,0,sales,low\\n0.74,0.72,4,176,3,0,0,0,sales,low\\n0.7,0.61,4,163,4,1,0,0,sales,low\\n0.72,0.93,4,148,2,0,0,0,sales,low\\n0.61,0.97,3,137,3,0,0,0,accounting,low\\n0.96,1,5,162,3,0,0,0,accounting,low\\n0.7,0.59,4,216,3,0,0,0,accounting,low\\n0.92,0.49,3,240,2,0,0,0,hr,low\\n0.72,0.56,4,176,2,0,0,0,hr,medium\\n0.53,0.75,6,192,6,0,0,0,hr,medium\\n0.67,0.85,3,160,4,0,0,0,hr,medium\\n0.78,0.8,4,194,2,1,0,0,technical,medium\\n0.53,0.75,4,239,2,1,0,0,technical,medium\\n0.9,0.48,4,204,3,0,0,0,technical,medium\\n0.16,0.9,5,258,3,0,0,0,technical,medium\\n0.62,0.38,3,257,3,0,0,0,technical,medium\\n0.62,0.98,4,137,3,0,0,0,technical,medium\\n0.22,0.52,6,175,4,0,0,0,technical,medium\\n0.91,0.82,3,183,3,0,0,0,technical,medium\\n0.87,0.74,4,190,4,0,0,0,technical,medium\\n0.95,0.69,3,225,2,0,0,0,technical,high\\n0.99,0.75,3,215,3,0,0,0,technical,low\\n0.99,0.57,3,176,4,1,0,0,support,medium\\n0.77,0.99,4,153,3,1,0,0,support,medium\\n0.75,0.68,3,150,2,1,0,0,support,medium\\n0.83,0.54,4,259,5,0,0,0,support,medium\\n0.61,0.39,3,99,2,0,0,0,support,low\\n0.91,0.97,3,167,2,0,0,0,support,low\\n0.47,0.64,3,192,3,0,0,0,support,low\\n0.77,0.61,5,146,3,0,0,0,support,low\\n0.55,0.51,3,190,3,0,0,0,support,low\\n0.32,0.48,5,246,3,0,0,0,support,low\\n0.96,0.67,6,190,3,0,0,0,support,low\\n0.72,0.79,5,260,2,0,0,0,technical,low\\n0.8,0.9,4,136,3,0,0,0,technical,low\\n0.61,0.55,4,231,3,0,0,0,technical,low\\n0.97,0.88,3,204,2,0,0,0,management,low\\n0.63,0.93,4,201,3,0,0,0,IT,low\\n0.92,0.92,3,159,3,0,0,0,IT,low\\n0.94,0.74,5,171,3,0,0,0,IT,low\\n0.79,0.72,6,240,4,0,0,0,IT,low\\n0.75,0.73,2,152,4,0,0,0,IT,low\\n0.78,0.99,3,151,3,1,0,0,product_mng,low\\n0.96,0.45,6,232,2,1,0,0,product_mng,low\\n0.65,0.68,4,128,5,0,0,0,product_mng,low\\n0.18,0.94,3,187,6,1,0,0,product_mng,low\\n0.94,0.51,3,160,2,0,0,0,IT,low\\n0.84,0.79,4,259,3,0,0,0,RandD,medium\\n0.67,0.54,2,136,2,0,0,0,RandD,medium\\n0.71,0.5,4,253,3,0,0,0,RandD,medium\\n0.56,0.64,3,260,3,0,0,0,RandD,medium\\n0.29,0.56,5,231,6,0,0,0,RandD,medium\\n0.47,0.9,3,101,2,1,0,0,marketing,medium\\n0.4,0.69,2,174,3,0,0,0,sales,medium\\n0.81,0.82,4,167,2,0,0,0,accounting,medium\\n0.96,0.99,3,148,3,0,0,0,support,medium\\n0.99,0.75,6,139,5,1,0,0,technical,medium\\n0.75,0.77,4,136,3,0,0,0,management,medium\\n0.75,0.74,4,153,2,0,0,0,marketing,medium\\n1,0.86,4,161,2,0,0,0,marketing,high\\n0.52,0.53,2,163,2,0,0,0,marketing,low\\n0.98,0.74,3,164,3,0,0,0,sales,medium\\n0.6,0.64,2,137,5,0,0,0,sales,medium\\n0.38,0.44,3,137,3,0,0,0,sales,medium\\n0.51,0.41,6,106,5,0,0,0,sales,medium\\n0.91,0.61,2,272,2,0,0,0,sales,low\\n0.56,0.62,5,238,3,0,0,0,sales,low\\n0.58,0.69,4,223,4,0,0,0,sales,low\\n0.51,0.53,3,201,2,0,0,0,sales,low\\n0.91,0.55,6,97,4,0,0,0,sales,low\\n0.8,0.98,2,232,6,1,0,0,sales,low\\n0.55,0.83,4,199,3,0,0,0,sales,low\\n0.62,0.53,3,141,3,0,0,0,sales,low\\n0.62,0.6,3,171,2,0,0,0,sales,low\\n0.87,0.58,4,212,3,0,0,0,sales,low\\n0.65,0.5,5,270,2,0,0,0,sales,low\\n0.51,0.64,3,267,2,0,0,0,sales,low\\n0.98,0.77,3,134,2,1,0,0,sales,low\\n0.13,0.43,4,165,5,0,0,0,sales,low\\n0.78,0.76,5,168,4,1,0,0,sales,low\\n0.6,0.98,3,262,2,0,0,0,accounting,low\\n0.68,0.69,3,185,2,0,0,0,accounting,low\\n0.55,0.84,3,237,3,0,0,0,accounting,low\\n0.99,0.79,4,192,3,0,0,0,hr,low\\n0.92,0.68,5,236,2,0,0,0,hr,low\\n1,0.65,4,202,4,1,0,0,hr,low\\n0.77,0.93,4,171,2,0,0,0,hr,medium\\n0.86,0.7,5,160,3,0,0,0,technical,medium\\n0.89,0.84,2,252,3,0,0,0,technical,medium\\n0.58,0.55,5,206,3,0,0,0,technical,medium\\n0.56,0.66,3,212,2,0,0,0,technical,medium\\n0.38,0.64,3,111,3,0,0,0,technical,medium\\n0.62,0.64,3,240,2,0,0,0,technical,medium\\n0.66,0.77,2,171,2,0,0,0,technical,medium\\n0.3,0.44,3,129,2,0,0,0,technical,medium\\n0.82,0.83,3,271,2,0,0,0,technical,medium\\n0.96,0.68,4,162,2,0,0,0,technical,medium\\n0.66,0.95,3,191,3,0,0,0,technical,medium\\n0.79,0.5,5,176,3,0,0,0,support,high\\n0.97,0.77,3,182,2,1,0,0,support,low\\n0.59,0.65,3,226,3,0,0,0,support,medium\\n0.57,0.48,4,161,3,0,0,0,support,medium\\n0.64,0.53,4,163,3,0,0,0,support,medium\\n0.14,0.51,5,173,4,0,0,0,support,medium\\n0.48,0.55,3,228,2,0,0,0,support,low\\n0.78,1,3,139,3,0,0,0,support,low\\n0.96,0.62,5,128,5,0,0,0,support,low\\n0.82,0.97,3,115,2,1,0,0,support,low\\n0.94,0.9,5,191,4,0,0,0,support,low\\n0.95,0.66,4,183,3,0,0,0,technical,low\\n0.59,0.43,3,173,3,0,0,0,technical,low\\n0.69,0.89,4,174,2,0,0,0,technical,low\\n0.74,0.72,3,213,3,0,0,0,management,low\\n0.67,0.67,4,192,4,0,0,0,IT,low\\n0.83,0.52,3,167,2,1,0,0,IT,low\\n0.81,0.85,3,263,3,1,0,0,IT,low\\n0.54,0.73,2,100,3,0,0,0,IT,low\\n0.89,0.83,3,164,3,0,0,0,IT,low\\n0.79,0.74,5,172,2,0,0,0,product_mng,low\\n0.46,0.58,4,171,3,0,0,0,product_mng,low\\n0.99,0.93,4,236,3,0,0,0,product_mng,low\\n0.75,0.9,5,186,4,0,0,0,product_mng,low\\n0.93,0.82,4,175,3,0,0,0,IT,low\\n0.65,0.6,5,227,3,0,0,0,RandD,low\\n0.19,0.63,4,142,6,0,0,0,RandD,low\\n0.48,0.61,2,121,2,0,0,0,RandD,medium\\n0.95,0.64,5,234,3,0,0,0,RandD,medium\\n0.92,0.77,4,185,3,0,0,0,RandD,medium\\n0.84,0.54,4,160,3,0,0,0,marketing,medium\\n0.37,0.63,4,153,3,1,0,0,sales,medium\\n0.22,0.74,3,199,6,0,0,0,accounting,medium\\n0.64,0.54,3,166,2,0,0,0,support,medium\\n0.72,0.88,2,247,3,0,0,0,technical,medium\\n0.48,0.69,4,245,3,0,0,0,management,medium\\n0.12,0.55,5,242,4,0,0,0,marketing,medium\\n0.78,0.98,5,158,2,0,0,0,marketing,medium\\n0.71,0.74,3,163,3,1,0,0,marketing,medium\\n0.38,0.69,3,99,3,1,0,0,sales,high\\n0.57,0.85,4,164,3,0,0,0,sales,low\\n0.72,0.51,3,160,3,0,0,0,sales,medium\\n0.6,0.57,2,184,3,0,0,0,sales,medium\\n0.61,0.55,5,266,2,0,0,0,sales,medium\\n0.67,0.64,4,190,2,0,0,0,sales,medium\\n0.97,0.97,5,192,2,0,0,0,sales,low\\n0.22,0.6,3,205,6,1,0,0,sales,low\\n0.15,0.53,4,205,5,1,0,0,sales,low\\n0.6,0.6,3,258,3,0,0,0,sales,low\\n0.15,0.8,5,151,2,1,0,0,sales,low\\n0.5,0.81,3,148,2,0,0,0,sales,low\\n0.9,0.67,3,179,2,0,0,0,sales,low\\n0.84,0.51,6,141,2,1,0,0,sales,low\\n0.74,0.78,5,216,2,0,0,0,sales,low\\n0.72,0.51,3,235,2,0,0,0,sales,low\\n0.93,0.63,3,160,4,1,0,0,sales,low\\n0.54,0.69,3,141,4,0,0,0,sales,low\\n0.87,0.65,4,246,2,1,0,0,sales,low\\n0.19,0.98,5,226,4,1,0,0,accounting,low\\n0.33,0.4,4,212,2,1,0,0,accounting,low\\n0.94,0.93,4,220,3,0,0,0,accounting,low\\n0.77,0.49,4,266,2,0,0,0,hr,low\\n0.48,0.82,3,183,2,0,0,0,hr,low\\n0.7,0.74,5,263,3,1,0,0,hr,low\\n0.54,0.93,4,161,4,1,0,0,hr,low\\n0.61,0.98,4,199,2,0,0,0,technical,low\\n0.97,0.4,4,258,4,1,0,0,technical,medium\\n0.6,0.85,3,209,2,1,0,0,technical,medium\\n0.93,0.84,5,135,3,0,0,0,technical,medium\\n0.48,0.69,4,222,2,0,0,0,technical,medium\\n0.16,0.76,5,192,3,0,0,0,technical,medium\\n0.18,0.75,3,250,3,0,0,0,technical,medium\\n0.84,0.75,3,187,3,1,0,0,technical,medium\\n0.69,0.63,4,217,3,0,0,0,technical,medium\\n0.22,0.88,4,213,3,1,0,0,technical,medium\\n0.83,0.52,4,273,3,0,0,0,technical,medium\\n0.58,0.5,2,132,3,0,0,0,support,medium\\n0.61,0.62,4,140,3,1,0,0,support,medium\\n0.67,0.5,4,173,2,1,0,0,support,high\\n0.56,0.76,4,189,2,0,0,0,support,low\\n0.74,0.74,3,156,3,0,0,0,support,medium\\n0.92,0.97,4,238,5,1,0,0,support,medium\\n0.81,0.68,5,230,2,0,0,0,support,medium\\n0.48,0.49,4,242,2,1,0,0,support,medium\\n0.73,0.72,4,197,3,0,0,0,support,low\\n0.97,0.66,6,164,5,0,0,0,support,low\\n0.15,0.51,6,248,5,0,0,0,support,low\\n0.69,0.76,5,255,6,0,0,0,technical,low\\n0.61,0.68,5,225,4,0,0,0,technical,low\\n0.86,0.58,3,151,2,0,0,0,technical,low\\n0.55,0.88,4,252,3,0,0,0,management,low\\n0.9,0.74,4,206,4,1,0,0,IT,low\\n0.65,0.4,2,141,2,0,0,0,IT,low\\n0.81,0.92,5,259,3,0,0,0,IT,low\\n0.65,0.86,5,250,3,0,0,0,IT,low\\n0.47,0.86,4,169,6,0,0,0,IT,low\\n0.93,0.53,3,200,3,1,0,0,product_mng,low\\n0.77,0.9,4,104,5,0,0,0,product_mng,low\\n0.87,0.82,6,176,3,0,0,0,product_mng,low\\n0.87,0.84,5,137,2,0,0,0,product_mng,low\\n0.65,0.75,2,151,3,0,0,0,IT,low\\n0.21,0.7,6,130,6,1,0,0,RandD,low\\n0.75,0.59,4,199,2,0,0,0,RandD,low\\n0.72,0.86,4,191,2,0,0,0,RandD,low\\n0.88,0.63,3,273,3,1,0,0,RandD,low\\n0.66,0.58,3,205,3,0,0,0,RandD,medium\\n0.8,0.75,3,181,3,0,0,0,marketing,medium\\n0.22,0.55,4,261,3,1,0,0,sales,medium\\n0.92,0.69,3,192,3,0,0,0,accounting,medium\\n0.54,0.77,4,271,3,0,0,0,support,medium\\n0.91,0.56,4,158,3,0,0,0,technical,medium\\n0.77,0.83,4,231,2,0,0,0,management,medium\\n0.61,0.51,3,156,3,1,0,0,marketing,medium\\n0.48,0.9,4,201,4,0,0,0,marketing,medium\\n0.25,0.69,3,187,4,0,0,0,marketing,medium\\n0.91,0.7,3,132,4,0,0,0,sales,medium\\n0.72,0.58,5,147,3,1,0,0,sales,medium\\n0.77,0.71,4,223,3,0,0,0,sales,high\\n0.41,0.4,2,194,2,0,0,0,sales,low\\n0.51,0.49,4,234,2,0,0,0,sales,medium\\n0.72,0.79,3,149,3,0,0,0,sales,medium\\n0.47,0.57,3,162,3,1,0,0,sales,medium\\n0.53,0.67,4,238,2,0,0,0,sales,medium\\n0.65,0.52,5,149,3,0,0,0,sales,low\\n0.18,0.75,4,170,5,0,0,0,sales,low\\n0.61,0.48,3,250,2,0,0,0,sales,low\\n0.86,0.72,4,167,2,0,0,0,sales,low\\n0.14,0.77,4,166,5,0,0,0,sales,low\\n0.63,0.8,3,205,2,0,0,0,sales,low\\n0.79,0.57,3,250,3,0,0,0,sales,low\\n0.78,0.97,4,142,3,0,0,0,sales,low\\n0.14,0.52,4,217,6,0,0,0,sales,low\\n0.85,0.54,3,139,3,0,0,0,sales,low\\n0.85,0.75,4,139,3,0,0,0,sales,low\\n0.91,0.76,5,152,3,0,0,0,accounting,low\\n0.76,0.74,3,224,2,0,0,0,accounting,low\\n0.62,0.72,5,180,3,0,0,0,accounting,low\\n0.53,0.69,4,216,2,0,0,0,hr,low\\n0.97,0.63,3,133,3,0,0,0,hr,low\\n0.48,0.53,4,271,3,0,0,0,hr,low\\n0.5,0.55,4,148,3,1,0,0,hr,low\\n0.32,0.42,2,99,4,0,0,0,technical,low\\n0.58,0.77,4,196,2,1,0,0,technical,low\\n0.81,0.83,3,196,2,0,0,0,technical,low\\n0.48,0.84,4,228,3,0,0,0,technical,medium\\n0.96,0.88,4,165,2,0,0,0,technical,medium\\n0.56,0.9,3,235,2,0,0,0,technical,medium\\n0.63,0.96,4,167,2,0,0,0,technical,medium\\n0.21,0.5,5,255,5,0,0,0,technical,medium\\n0.94,0.78,3,184,3,1,0,0,technical,medium\\n0.94,0.89,4,239,3,0,0,0,technical,medium\\n0.96,0.54,3,153,2,0,0,0,technical,medium\\n0.49,0.5,4,187,5,1,0,0,support,medium\\n0.82,0.68,2,285,2,0,0,0,support,medium\\n0.6,0.5,3,274,3,0,0,0,support,medium\\n0.76,0.5,3,156,3,1,0,0,support,medium\\n0.69,0.64,5,265,2,1,0,0,support,high\\n1,0.94,4,144,3,0,0,0,support,low\\n0.62,0.66,4,143,3,0,0,0,support,medium\\n0.4,0.99,4,214,6,1,0,0,support,medium\\n0.94,0.91,3,163,3,0,0,0,support,medium\\n0.76,0.84,4,236,4,0,0,0,support,medium\\n0.58,0.69,3,146,4,0,0,0,support,low\\n0.85,0.78,4,106,2,0,0,0,technical,low\\n0.45,0.52,2,105,3,0,0,0,technical,low\\n0.13,0.67,3,181,4,0,0,0,technical,low\\n0.24,0.5,5,174,4,0,0,0,management,low\\n0.64,0.69,3,207,2,1,0,0,IT,low\\n0.63,0.61,6,118,2,0,0,0,IT,low\\n0.61,0.99,4,251,2,0,0,0,IT,low\\n0.71,0.99,2,136,3,0,0,0,IT,low\\n0.9,0.89,5,249,3,1,0,0,IT,low\\n0.17,0.76,4,171,5,0,0,0,product_mng,low\\n0.93,0.97,3,256,2,1,0,0,product_mng,low\\n0.83,0.89,5,141,3,1,0,0,product_mng,low\\n0.58,0.75,4,186,2,0,0,0,product_mng,low\\n0.76,0.5,3,258,3,0,0,0,IT,low\\n0.5,0.78,3,228,2,0,0,0,RandD,low\\n0.22,0.81,5,205,4,0,0,0,RandD,low\\n0.9,0.88,4,174,3,0,0,0,RandD,low\\n0.7,0.63,3,155,4,1,0,0,RandD,low\\n0.73,0.85,5,245,3,0,0,0,RandD,low\\n0.84,0.87,3,271,3,0,0,0,marketing,low\\n0.55,0.63,5,184,4,0,0,0,marketing,medium\\n0.63,0.98,4,175,2,0,0,0,sales,medium\\n0.51,0.92,3,224,3,0,0,0,accounting,medium\\n0.81,0.76,4,177,3,0,0,0,support,medium\\n0.8,0.96,4,268,3,0,0,0,technical,medium\\n0.99,0.97,4,208,3,0,0,0,management,medium\\n0.9,0.87,5,219,2,0,0,0,marketing,medium\\n0.65,0.67,5,128,5,0,0,0,marketing,medium\\n0.75,0.75,3,273,3,0,0,0,marketing,medium\\n0.62,0.49,4,218,4,0,0,0,sales,medium\\n0.61,0.63,5,230,3,0,0,0,sales,medium\\n0.24,0.6,4,195,5,0,0,0,sales,medium\\n0.71,0.63,3,254,3,1,0,0,sales,high\\n0.49,0.8,2,275,2,0,0,0,sales,low\\n0.44,0.66,3,162,2,0,0,0,sales,medium\\n0.75,0.87,4,193,3,0,0,0,sales,medium\\n0.74,0.84,3,239,4,0,0,0,sales,medium\\n0.62,0.87,5,149,3,0,0,0,sales,medium\\n0.51,0.58,3,155,3,0,0,0,sales,low\\n0.61,0.59,5,271,2,0,0,0,sales,low\\n0.56,0.49,5,163,3,0,0,0,sales,low\\n0.79,0.76,3,160,3,0,0,0,sales,low\\n0.68,0.75,6,274,5,0,0,0,sales,low\\n0.9,0.84,2,199,3,0,0,0,sales,low\\n0.83,0.93,5,241,3,0,0,0,sales,low\\n0.94,0.82,3,187,3,0,0,0,sales,low\\n0.21,0.65,5,223,3,1,0,0,sales,low\\n0.58,0.87,3,268,2,0,0,0,sales,low\\n0.52,0.38,6,169,3,0,0,0,accounting,low\\n0.18,0.67,5,285,5,0,0,0,accounting,low\\n0.94,0.91,5,254,3,0,0,0,accounting,low\\n0.69,0.5,3,208,4,0,0,0,hr,low\\n0.65,0.83,4,218,3,0,0,0,hr,low\\n0.46,0.62,2,187,3,0,0,0,hr,low\\n0.72,0.62,4,256,3,0,0,0,hr,low\\n0.3,0.37,6,278,3,0,0,0,technical,low\\n0.51,0.51,4,204,2,0,0,0,technical,low\\n0.43,0.75,3,108,2,0,0,0,technical,low\\n0.56,0.94,3,226,2,0,0,0,technical,low\\n0.63,0.91,4,246,3,0,0,0,technical,medium\\n0.61,0.55,5,260,3,0,0,0,technical,medium\\n0.53,0.73,4,248,2,0,0,0,technical,medium\\n0.87,0.75,3,132,3,0,0,0,technical,medium\\n0.68,0.7,4,185,4,0,0,0,technical,medium\\n0.78,0.84,3,269,2,0,0,0,technical,medium\\n0.49,0.95,4,156,2,0,0,0,technical,medium\\n0.96,0.81,3,212,3,0,0,0,support,medium\\n0.83,0.74,3,221,2,0,0,0,support,medium\\n0.48,0.67,5,273,3,0,0,0,support,medium\\n0.63,0.86,4,271,3,1,0,0,support,medium\\n0.87,0.38,4,183,5,0,0,0,support,medium\\n0.21,0.9,4,271,6,0,0,0,support,high\\n0.79,0.58,5,165,3,0,0,0,support,low\\n0.8,0.96,3,257,5,0,0,0,support,medium\\n0.78,0.82,4,143,3,0,0,0,support,medium\\n0.67,0.65,5,156,2,0,0,0,support,medium\\n0.67,0.71,3,190,3,1,0,0,support,medium\\n0.26,0.67,2,242,6,0,0,0,technical,low\\n0.89,0.83,5,267,4,0,0,0,technical,low\\n0.7,0.53,4,152,3,0,0,0,technical,low\\n0.51,0.48,5,136,4,0,0,0,management,low\\n0.53,0.88,3,157,3,0,0,0,IT,low\\n0.76,0.51,4,281,3,0,0,0,IT,low\\n0.86,0.93,5,208,2,0,0,0,IT,low\\n0.63,0.96,5,152,3,0,0,0,IT,low\\n0.58,0.86,5,271,3,0,0,0,IT,low\\n0.58,0.83,4,163,3,1,0,0,product_mng,low\\n0.9,0.82,4,136,3,0,0,0,product_mng,low\\n0.79,0.57,4,233,2,0,0,0,product_mng,low\\n0.8,0.74,4,221,4,0,0,0,product_mng,low\\n0.53,0.65,2,189,2,1,0,0,IT,low\\n0.52,0.84,2,226,3,0,0,0,RandD,low\\n0.82,0.59,5,201,3,0,0,0,RandD,low\\n0.68,0.9,2,133,4,0,0,0,RandD,low\\n0.21,0.61,3,173,2,0,0,0,RandD,low\\n0.81,0.5,4,152,3,1,0,0,RandD,low\\n0.57,0.9,3,256,4,0,0,0,RandD,low\\n0.99,0.72,3,119,2,1,0,0,marketing,low\\n0.9,1,4,207,3,0,0,0,sales,medium\\n0.76,0.64,3,189,3,0,0,0,accounting,medium\\n0.56,0.92,4,172,2,0,0,0,support,medium\\n0.5,0.93,6,150,3,1,0,0,technical,medium\\n0.48,0.89,5,179,3,0,0,0,management,medium\\n0.99,0.97,3,257,2,0,0,0,marketing,medium\\n0.76,0.8,5,229,2,0,0,0,marketing,medium\\n0.93,0.97,4,227,3,0,0,0,marketing,medium\\n0.99,0.78,4,140,3,0,0,0,sales,medium\\n0.85,0.78,4,251,3,0,0,0,sales,medium\\n0.63,0.95,4,137,3,0,0,0,sales,medium\\n0.63,0.78,3,153,3,1,0,0,sales,medium\\n0.5,0.65,5,242,3,0,0,0,sales,high\\n0.52,0.57,3,150,3,0,0,0,sales,low\\n0.63,0.99,3,247,3,0,0,0,sales,medium\\n0.78,0.5,4,212,2,0,0,0,sales,medium\\n0.98,0.53,3,234,3,0,0,0,sales,medium\\n0.14,1,5,174,5,0,0,0,sales,medium\\n0.7,0.9,3,225,2,0,0,0,sales,low\\n0.88,0.6,4,224,2,0,0,0,sales,low\\n0.72,0.62,3,270,4,0,0,0,sales,low\\n0.88,0.51,4,139,3,0,0,0,sales,low\\n0.71,0.51,3,248,4,0,0,0,sales,low\\n0.6,0.85,3,172,2,0,0,0,sales,low\\n0.88,0.86,4,224,3,1,0,0,sales,low\\n0.55,0.72,5,232,4,0,0,0,sales,low\\n0.85,0.55,4,260,2,1,0,0,sales,low\\n0.84,0.51,2,117,4,0,0,0,accounting,low\\n0.91,0.61,4,243,2,1,0,0,accounting,low\\n0.82,0.62,4,202,2,0,0,0,accounting,low\\n0.6,0.91,2,168,4,0,0,0,hr,low\\n0.89,0.71,5,194,3,0,0,0,hr,low\\n0.6,0.97,4,219,4,1,0,0,hr,low\\n0.64,0.52,4,207,3,0,0,0,hr,low\\n0.93,0.88,4,177,3,0,0,0,technical,low\\n0.81,0.99,3,239,2,1,0,0,technical,low\\n0.31,0.49,4,165,3,1,0,0,technical,low\\n0.68,0.69,4,225,2,0,0,0,technical,low\\n0.78,0.59,3,212,2,0,0,0,technical,low\\n0.44,0.42,4,159,4,0,0,0,technical,medium\\n0.64,0.93,4,233,2,1,0,0,technical,medium\\n0.81,0.63,4,108,6,0,0,0,technical,medium\\n0.5,0.49,3,214,3,0,0,0,technical,medium\\n0.69,0.61,5,229,3,0,0,0,technical,medium\\n0.77,0.75,4,223,3,0,0,0,technical,medium\\n0.69,0.56,4,178,3,0,0,0,support,medium\\n0.87,0.68,4,246,2,0,0,0,support,medium\\n0.85,0.91,4,145,3,0,0,0,support,medium\\n0.83,0.83,4,224,4,0,0,0,support,medium\\n0.68,0.51,3,259,3,0,0,0,support,medium\\n0.78,0.65,4,207,2,0,0,0,support,medium\\n0.78,0.89,3,253,3,0,0,0,support,high\\n0.93,0.68,4,196,2,1,0,0,support,low\\n0.54,0.75,3,240,3,0,0,0,support,medium\\n0.76,0.56,3,255,3,0,0,0,support,medium\\n0.4,0.72,3,139,2,0,0,0,support,medium\\n0.73,0.81,3,168,2,0,0,0,technical,medium\\n0.86,0.98,5,233,3,0,0,0,technical,low\\n0.38,0.68,5,211,6,0,0,0,technical,low\\n0.71,0.48,5,114,3,0,0,0,management,low\\n0.58,0.97,5,202,2,0,0,0,IT,low\\n0.67,0.59,3,177,3,1,0,0,IT,low\\n0.55,0.76,4,233,4,0,0,0,IT,low\\n0.76,0.98,2,111,2,0,0,0,IT,low\\n0.7,0.82,3,178,3,0,0,0,IT,low\\n0.66,0.46,4,204,4,0,0,0,product_mng,low\\n0.96,0.72,3,272,3,0,0,0,product_mng,low\\n0.6,0.77,4,157,4,0,0,0,product_mng,low\\n0.54,0.94,5,229,3,1,0,0,product_mng,low\\n0.85,0.9,5,202,3,0,0,0,IT,low\\n0.96,0.84,3,264,3,0,0,0,RandD,low\\n0.86,0.62,3,256,3,1,0,0,RandD,low\\n0.53,0.87,3,151,2,0,0,0,RandD,low\\n0.91,0.95,3,251,3,0,0,0,RandD,low\\n0.33,0.7,5,271,4,0,0,0,RandD,low\\n0.75,0.73,4,274,2,0,0,0,RandD,low\\n0.97,0.8,3,169,3,0,0,0,marketing,low\\n0.68,0.51,4,176,4,1,0,0,sales,low\\n0.68,0.7,5,168,2,0,0,0,accounting,medium\\n0.57,0.87,4,171,2,0,0,0,support,medium\\n0.87,0.9,4,214,3,0,0,0,technical,medium\\n0.5,0.91,5,224,2,1,0,0,management,medium\\n0.76,0.59,3,191,4,0,0,0,marketing,medium\\n0.79,0.61,5,96,4,0,0,0,marketing,medium\\n0.17,0.9,6,217,6,1,0,0,marketing,medium\\n0.6,0.62,4,135,2,1,0,0,sales,medium\\n0.89,0.67,3,226,3,0,0,0,sales,medium\\n0.69,0.87,3,202,2,0,0,0,sales,medium\\n0.68,0.85,2,180,6,0,0,0,sales,medium\\n0.61,0.87,5,174,4,0,0,0,sales,medium\\n0.63,0.5,3,140,2,0,0,0,sales,high\\n0.5,0.96,4,147,3,0,0,0,sales,low\\n0.49,0.74,2,263,3,1,0,0,sales,medium\\n0.83,0.55,5,261,5,0,0,0,sales,medium\\n0.59,0.71,2,176,2,1,0,0,sales,medium\\n0.75,0.93,2,98,5,0,0,0,sales,medium\\n0.66,0.48,3,192,3,1,0,0,sales,low\\n0.68,0.51,4,157,3,0,0,0,sales,low\\n0.73,0.58,5,230,3,0,0,0,sales,low\\n0.98,0.53,4,192,2,1,0,0,sales,low\\n0.86,0.65,3,161,3,0,0,0,sales,low\\n0.5,0.55,3,176,3,0,0,0,sales,low\\n0.76,0.76,3,216,3,0,0,0,sales,low\\n0.3,0.47,4,176,2,0,0,0,sales,low\\n0.3,0.86,3,276,5,1,0,0,accounting,low\\n0.64,0.59,3,174,3,1,0,0,accounting,low\\n0.59,0.75,3,106,2,0,0,0,accounting,low\\n0.85,0.63,4,154,3,0,0,0,hr,low\\n0.76,0.93,3,271,5,0,0,0,hr,low\\n0.63,0.5,5,246,2,0,0,0,hr,low\\n0.65,0.86,4,264,2,1,0,0,hr,low\\n0.43,0.68,3,197,2,0,0,0,technical,low\\n0.83,0.56,4,165,2,0,0,0,technical,low\\n0.49,0.77,4,218,2,0,0,0,technical,low\\n0.67,0.73,3,203,2,0,0,0,technical,low\\n0.9,0.47,2,107,6,1,0,0,technical,low\\n0.83,0.96,3,179,2,0,0,0,technical,low\\n0.92,0.84,5,264,3,0,0,0,technical,medium\\n0.83,0.7,5,154,3,0,0,0,technical,medium\\n0.64,0.55,4,167,3,1,0,0,technical,medium\\n0.93,0.97,4,158,3,1,0,0,technical,medium\\n0.6,0.87,4,227,3,1,0,0,technical,medium\\n0.74,0.69,3,230,2,0,0,0,support,medium\\n0.56,0.75,5,143,5,0,0,0,support,medium\\n0.61,0.77,4,142,3,0,0,0,support,medium\\n0.63,0.62,4,184,4,0,0,0,support,medium\\n0.24,0.62,5,169,4,0,0,0,support,medium\\n0.17,0.56,5,218,4,1,0,0,support,medium\\n0.46,0.64,2,121,3,0,0,0,support,medium\\n0.68,0.48,4,251,4,0,0,0,support,high\\n0.68,0.6,2,192,6,0,0,0,support,low\\n0.16,0.71,6,227,5,0,0,0,support,medium\\n0.15,0.56,6,140,5,0,0,0,support,medium\\n0.55,0.49,3,152,2,0,0,0,technical,medium\\n0.72,0.66,4,202,4,0,0,0,technical,medium\\n0.91,0.89,2,219,4,0,0,0,technical,low\\n0.3,0.91,4,248,4,0,0,0,management,low\\n0.56,0.68,5,203,2,0,0,0,IT,low\\n0.94,0.94,3,255,3,0,0,0,IT,low\\n0.82,0.63,5,177,3,0,0,0,IT,low\\n0.66,0.86,5,185,3,0,0,0,IT,low\\n0.74,0.64,4,101,6,1,0,0,IT,low\\n0.63,0.5,3,246,3,0,0,0,product_mng,low\\n0.65,0.42,6,220,2,0,0,0,product_mng,low\\n0.56,0.81,3,145,2,0,0,0,product_mng,low\\n0.32,0.73,6,194,5,0,0,0,product_mng,low\\n0.8,0.9,4,241,2,0,0,0,IT,low\\n0.34,0.87,6,175,4,0,0,0,RandD,low\\n0.62,0.71,5,149,2,0,0,0,RandD,low\\n0.5,0.86,3,253,2,0,0,0,RandD,low\\n0.58,0.98,5,218,3,0,0,0,RandD,low\\n0.94,0.9,2,263,3,0,0,0,RandD,low\\n0.67,0.99,4,247,3,1,0,0,RandD,low\\n0.2,0.74,6,148,4,0,0,0,marketing,low\\n0.91,0.59,5,162,2,0,0,0,sales,low\\n0.91,0.67,2,255,4,0,0,0,accounting,low\\n0.78,0.87,3,191,3,1,0,0,support,medium\\n0.82,0.55,3,217,4,1,0,0,technical,medium\\n0.54,0.96,3,201,3,0,0,0,management,medium\\n0.53,0.81,3,253,3,0,0,0,marketing,medium\\n0.47,0.55,4,122,5,1,0,0,marketing,medium\\n0.87,0.5,3,269,3,0,0,0,marketing,medium\\n0.5,0.68,4,161,3,0,0,0,sales,medium\\n0.59,0.83,3,156,2,0,0,0,sales,medium\\n0.89,0.69,3,173,3,0,0,0,sales,medium\\n0.54,0.49,4,152,3,1,0,0,sales,medium\\n0.62,0.85,3,145,3,0,0,0,sales,medium\\n0.91,0.85,3,248,3,0,0,0,sales,medium\\n0.84,0.99,2,184,2,0,0,0,sales,high\\n0.69,0.65,4,232,2,1,0,0,sales,low\\n0.76,0.63,3,162,2,0,0,0,sales,medium\\n0.8,0.54,4,269,3,0,0,0,sales,medium\\n0.4,0.47,5,108,3,0,0,0,sales,medium\\n0.8,0.99,3,248,3,1,0,0,sales,medium\\n0.76,0.4,2,122,5,0,0,0,sales,low\\n0.55,0.9,4,273,2,1,0,0,sales,low\\n0.98,0.63,3,285,6,0,0,0,sales,low\\n0.54,0.56,4,227,3,0,0,0,sales,low\\n0.63,0.56,4,248,2,1,0,0,sales,low\\n0.88,0.63,3,257,3,0,0,0,sales,low\\n0.5,0.95,5,194,3,0,0,0,sales,low\\n0.52,0.72,3,253,3,0,0,0,accounting,low\\n0.89,0.95,4,141,3,0,0,0,accounting,low\\n0.55,0.9,4,199,3,0,0,0,accounting,low\\n0.51,0.81,3,143,2,0,0,0,hr,low\\n0.35,0.52,5,244,3,0,0,0,hr,low\\n0.54,0.71,5,173,2,0,0,0,hr,low\\n0.72,0.84,4,186,3,0,0,0,hr,low\\n0.61,0.93,2,247,3,0,0,0,technical,low\\n0.17,0.93,3,218,4,0,0,0,technical,low\\n0.71,0.88,3,140,2,0,0,0,technical,low\\n0.88,0.52,4,166,2,0,0,0,technical,low\\n0.48,1,3,216,2,0,0,0,technical,low\\n0.16,0.97,6,235,3,0,0,0,technical,low\\n0.62,0.72,3,188,3,0,0,0,technical,low\\n0.59,0.47,3,143,2,0,0,0,technical,medium\\n0.14,0.9,4,198,4,0,0,0,technical,medium\\n0.96,0.92,4,148,3,0,0,0,technical,medium\\n0.96,0.42,6,101,4,0,0,0,technical,medium\\n0.13,0.89,4,249,6,1,0,0,support,medium\\n0.64,0.61,5,249,3,1,0,0,support,medium\\n0.64,0.67,5,198,2,1,0,0,support,medium\\n0.57,0.72,3,202,3,1,0,0,support,medium\\n0.49,1,3,176,3,0,0,0,support,medium\\n0.89,0.79,4,133,2,0,0,0,support,medium\\n0.94,0.75,5,238,2,0,0,0,support,medium\\n0.51,0.58,2,181,4,0,0,0,support,medium\\n0.8,0.85,5,242,3,0,0,0,support,high\\n0.74,0.51,4,185,2,1,0,0,support,low\\n0.66,0.85,4,237,3,1,0,0,support,medium\\n0.66,0.99,5,244,3,0,0,0,technical,medium\\n0.59,0.62,3,178,4,0,0,0,technical,medium\\n0.91,0.57,3,164,3,0,0,0,technical,medium\\n0.83,0.98,5,189,4,1,0,0,management,low\\n0.5,0.91,3,212,2,0,0,0,IT,low\\n0.69,0.97,4,233,3,0,0,0,IT,low\\n0.87,0.91,5,268,3,0,0,0,IT,low\\n0.37,0.43,2,155,2,0,0,0,IT,low\\n0.9,0.98,4,257,3,0,0,0,IT,low\\n0.68,0.41,4,254,5,0,0,0,product_mng,low\\n0.93,0.63,4,143,3,1,0,0,product_mng,low\\n0.95,0.45,3,225,2,0,0,0,product_mng,low\\n0.99,1,4,223,2,1,0,0,product_mng,low\\n0.64,0.9,2,101,6,0,0,0,IT,low\\n0.96,0.37,2,159,6,0,0,0,RandD,low\\n0.92,0.54,5,141,2,0,0,0,RandD,low\\n0.22,0.52,5,147,5,1,0,0,RandD,low\\n0.82,0.99,5,252,3,1,0,0,RandD,low\\n0.75,0.89,3,196,3,0,0,0,RandD,low\\n0.2,0.89,6,244,3,0,0,0,RandD,low\\n0.64,0.73,3,142,3,0,0,0,marketing,low\\n0.62,0.9,4,155,4,0,0,0,sales,low\\n0.73,0.59,3,219,2,0,0,0,accounting,low\\n0.52,0.51,3,213,4,0,0,0,support,low\\n0.63,0.67,5,263,3,0,0,0,technical,medium\\n0.84,0.92,4,274,3,0,0,0,management,medium\\n0.49,0.96,3,140,3,0,0,0,marketing,medium\\n0.54,0.78,4,176,2,0,0,0,marketing,medium\\n0.52,0.78,4,206,2,0,0,0,marketing,medium\\n0.66,0.63,6,223,6,0,0,0,sales,medium\\n0.73,0.41,2,231,6,1,0,0,sales,medium\\n0.54,0.64,3,250,3,0,0,0,sales,medium\\n0.72,0.68,5,266,4,0,0,0,sales,medium\\n0.75,0.64,4,247,3,1,0,0,sales,medium\\n0.77,0.57,3,189,2,0,0,0,sales,medium\\n0.42,0.94,5,227,5,0,0,0,sales,medium\\n0.13,0.69,4,127,4,0,0,0,sales,high\\n0.73,0.88,5,204,5,0,0,0,sales,low\\n0.5,0.95,5,137,3,0,0,0,sales,medium\\n0.92,0.62,4,265,3,1,0,0,sales,medium\\n0.73,0.66,3,135,2,0,0,0,sales,medium\\n0.74,0.38,2,126,3,0,0,0,sales,medium\\n0.76,0.78,3,189,2,0,0,0,sales,low\\n0.53,0.92,3,207,4,1,0,0,sales,low\\n0.65,0.72,3,134,3,0,0,0,sales,low\\n0.91,0.85,4,203,2,0,0,0,sales,low\\n0.69,0.76,5,222,3,1,0,0,sales,low\\n0.56,0.66,3,232,2,0,0,0,sales,low\\n0.55,0.81,4,267,5,0,0,0,accounting,low\\n0.74,0.5,5,131,3,0,0,0,accounting,low\\n0.86,0.86,3,155,4,0,0,0,accounting,low\\n0.82,0.74,3,232,3,0,0,0,hr,low\\n0.35,0.8,3,137,5,0,0,0,hr,low\\n0.93,0.99,4,136,4,0,0,0,hr,low\\n0.55,0.77,3,237,2,0,0,0,hr,low\\n0.99,0.68,4,190,3,0,0,0,technical,low\\n0.91,0.89,4,144,3,1,0,0,technical,low\\n0.24,0.65,6,194,3,0,0,0,technical,low\\n0.77,0.67,3,186,2,0,0,0,technical,low\\n0.64,0.66,3,218,3,0,0,0,technical,low\\n0.58,0.76,5,260,2,1,0,0,technical,low\\n0.65,0.99,4,200,4,0,0,0,technical,low\\n0.44,0.68,3,140,3,0,0,0,technical,low\\n0.59,0.75,2,156,3,0,0,0,technical,medium\\n0.99,0.56,3,193,3,1,0,0,technical,medium\\n0.75,0.79,4,145,3,0,0,0,technical,medium\\n0.77,0.49,4,217,2,0,0,0,support,medium\\n0.85,0.64,4,162,3,0,0,0,support,medium\\n0.77,0.93,5,182,4,0,0,0,support,medium\\n0.54,0.95,3,221,3,0,0,0,support,medium\\n0.69,0.82,4,208,2,0,0,0,support,medium\\n0.66,0.65,5,161,3,0,0,0,support,medium\\n0.51,0.65,4,269,3,0,0,0,support,medium\\n0.74,0.59,4,155,3,0,0,0,support,medium\\n0.55,0.72,3,110,3,0,0,0,support,medium\\n0.65,0.84,3,154,3,0,0,0,support,high\\n0.2,0.77,6,213,4,0,0,0,support,low\\n0.92,0.94,5,248,3,0,0,0,technical,medium\\n0.57,0.6,3,202,3,0,0,0,technical,medium\\n0.75,0.78,2,251,6,0,0,0,technical,medium\\n0.68,0.84,3,239,2,0,0,0,management,medium\\n0.97,0.7,3,203,3,0,0,0,IT,low\\n0.79,0.48,4,184,5,1,0,0,IT,low\\n0.66,0.75,4,203,3,1,0,0,IT,low\\n0.96,0.69,3,214,2,1,0,0,IT,low\\n0.73,0.69,4,161,3,0,0,0,IT,low\\n0.29,0.58,5,234,2,0,0,0,product_mng,low\\n0.58,0.56,3,151,2,0,0,0,product_mng,low\\n0.72,0.58,4,149,3,0,0,0,product_mng,low\\n0.94,0.87,4,240,3,0,0,0,product_mng,low\\n0.48,0.56,5,140,2,0,0,0,IT,low\\n0.6,0.99,3,187,2,0,0,0,RandD,low\\n0.97,0.58,5,156,2,1,0,0,RandD,low\\n0.74,0.41,4,250,4,0,0,0,RandD,low\\n0.97,0.61,3,165,2,0,0,0,RandD,low\\n0.88,0.67,5,260,3,1,0,0,RandD,low\\n0.5,0.7,3,274,3,0,0,0,marketing,low\\n0.93,0.98,4,160,3,0,0,0,sales,low\\n0.3,0.7,5,280,4,1,0,0,accounting,low\\n0.69,0.53,3,142,3,0,0,0,support,low\\n0.69,0.9,2,155,2,0,0,0,technical,low\\n0.53,0.67,4,167,2,0,0,0,management,low\\n0.32,0.8,3,263,3,0,0,0,marketing,medium\\n0.73,0.75,3,259,4,0,0,0,marketing,medium\\n0.77,0.61,4,223,3,0,0,0,marketing,medium\\n0.59,0.81,6,123,5,0,0,0,sales,medium\\n0.19,0.51,5,226,3,0,0,0,sales,medium\\n0.78,0.95,3,270,2,0,0,0,sales,medium\\n0.84,0.74,3,139,3,0,0,0,sales,medium\\n0.65,0.77,5,241,2,0,0,0,sales,medium\\n0.38,0.43,2,160,6,0,0,0,sales,medium\\n0.12,0.47,3,258,5,0,0,0,sales,medium\\n0.74,0.81,5,106,5,0,0,0,sales,medium\\n0.67,0.82,4,171,2,0,0,0,sales,medium\\n0.5,0.79,3,186,3,0,0,0,sales,high\\n0.99,0.39,6,214,5,1,0,0,sales,low\\n0.79,0.89,4,240,3,0,0,0,sales,medium\\n0.72,0.51,4,164,3,0,0,0,sales,medium\\n0.83,0.57,4,232,3,0,0,0,sales,medium\\n0.69,0.55,5,242,2,0,0,0,sales,medium\\n0.5,0.89,5,222,3,0,0,0,sales,low\\n0.82,0.84,3,139,2,1,0,0,sales,low\\n0.68,0.56,4,272,3,0,0,0,sales,low\\n0.82,0.69,4,262,2,0,0,0,sales,low\\n0.32,0.81,2,249,3,0,0,0,accounting,low\\n0.93,0.86,4,219,3,0,0,0,accounting,low\\n0.42,0.73,4,208,5,0,0,0,accounting,low\\n0.22,0.44,3,166,6,0,0,0,hr,low\\n0.56,0.88,3,174,3,0,0,0,hr,low\\n0.77,0.75,4,225,3,0,0,0,hr,low\\n0.29,0.48,2,116,6,1,0,0,hr,low\\n0.97,0.65,3,219,2,0,0,0,technical,low\\n0.91,0.7,4,196,2,0,0,0,technical,low\\n0.52,0.67,4,210,3,1,0,0,technical,low\\n0.54,0.64,2,219,3,0,0,0,technical,low\\n0.54,0.98,3,197,3,0,0,0,technical,low\\n0.67,0.52,2,102,6,0,0,0,technical,low\\n0.72,0.85,3,186,4,0,0,0,technical,low\\n0.68,0.51,4,224,2,0,0,0,technical,low\\n0.65,0.98,3,283,2,1,0,0,technical,low\\n0.72,0.98,5,197,4,0,0,0,technical,low\\n0.51,0.79,5,267,3,0,0,0,technical,medium\\n0.8,0.58,4,172,3,0,0,0,support,medium\\n0.83,0.93,4,261,2,0,0,0,support,medium\\n0.15,0.86,3,204,4,0,0,0,support,medium\\n0.5,0.73,4,237,2,0,0,0,support,medium\\n0.8,0.55,2,212,3,0,0,0,support,medium\\n0.96,0.62,4,217,2,0,0,0,support,medium\\n0.67,0.7,5,159,3,1,0,0,support,medium\\n0.98,0.96,5,139,3,0,0,0,support,medium\\n0.88,0.59,5,230,3,0,0,0,support,medium\\n0.85,0.79,3,157,4,0,0,0,support,medium\\n0.75,0.7,5,269,3,0,0,0,support,medium\\n0.38,0.77,2,170,3,0,0,0,technical,high\\n0.55,0.82,2,197,4,0,0,0,technical,low\\n0.63,0.89,4,246,3,0,0,0,technical,medium\\n0.78,0.51,4,278,3,0,0,0,management,medium\\n0.99,0.84,5,138,2,0,0,0,IT,medium\\n0.72,0.87,3,238,3,0,0,0,IT,medium\\n0.14,0.83,5,175,6,1,0,0,IT,low\\n0.81,0.67,4,216,3,0,0,0,IT,low\\n0.73,0.86,4,196,4,1,0,0,IT,low\\n0.58,0.8,5,187,3,1,0,0,product_mng,low\\n0.24,0.85,4,155,5,0,0,0,product_mng,low\\n0.31,0.86,3,205,5,0,0,0,product_mng,low\\n0.74,0.63,3,230,2,0,0,0,product_mng,low\\n0.86,0.69,5,157,3,0,0,0,IT,low\\n0.22,0.8,4,287,4,0,0,0,RandD,low\\n0.66,0.7,4,161,3,0,0,0,RandD,low\\n0.21,0.76,5,239,2,0,0,0,RandD,low\\n0.95,0.61,3,267,2,0,0,0,RandD,low\\n0.24,0.55,5,208,5,0,0,0,RandD,low\\n0.66,0.95,3,133,3,0,0,0,marketing,low\\n0.88,0.86,3,187,3,0,0,0,marketing,low\\n0.67,0.61,4,140,2,0,0,0,sales,low\\n0.75,0.58,4,270,3,0,0,0,accounting,low\\n0.93,0.48,3,147,3,0,0,0,support,low\\n0.64,0.71,3,181,2,0,0,0,technical,low\\n0.51,0.53,3,156,3,0,0,0,management,low\\n0.98,0.5,4,207,3,0,0,0,marketing,low\\n0.72,0.63,4,241,4,1,0,0,marketing,medium\\n0.51,0.75,4,154,3,0,0,0,marketing,medium\\n0.54,0.58,4,206,3,0,0,0,sales,medium\\n0.99,0.76,4,204,2,0,0,0,sales,medium\\n0.44,0.9,4,117,3,0,0,0,sales,medium\\n0.74,0.48,5,144,3,0,0,0,sales,medium\\n0.9,0.77,3,156,3,0,0,0,sales,medium\\n0.86,0.58,4,211,4,0,0,0,sales,medium\\n0.66,0.52,3,149,4,1,0,0,sales,medium\\n0.64,0.96,4,152,5,0,0,0,sales,medium\\n0.5,0.59,4,192,2,0,0,0,sales,medium\\n0.88,0.68,4,274,4,0,0,0,sales,medium\\n0.72,0.47,5,168,6,0,0,0,sales,high\\n0.53,0.53,4,205,3,0,0,0,sales,low\\n0.83,0.77,3,228,3,0,0,0,sales,medium\\n0.24,0.52,4,228,5,0,0,0,sales,medium\\n0.66,0.75,5,227,3,1,0,0,sales,medium\\n0.43,0.63,3,156,3,0,0,0,sales,medium\\n0.75,0.66,5,177,2,0,0,0,sales,low\\n0.42,0.89,6,188,5,1,0,0,sales,low\\n0.54,0.74,3,185,4,0,0,0,sales,low\\n0.84,0.85,3,153,4,0,0,0,accounting,low\\n0.95,0.79,4,174,3,0,0,0,accounting,low\\n0.6,0.61,4,209,3,0,0,0,accounting,low\\n0.95,0.71,3,251,2,1,0,0,hr,low\\n0.62,0.89,3,153,3,1,0,0,hr,low\\n0.89,0.73,3,210,2,0,0,0,hr,low\\n0.73,0.93,5,167,3,0,0,0,hr,low\\n0.86,0.94,3,151,2,0,0,0,technical,low\\n0.76,0.73,3,158,2,0,0,0,technical,low\\n0.91,0.76,3,116,5,0,0,0,technical,low\\n1,0.81,5,178,2,0,0,0,technical,low\\n0.98,0.78,4,155,3,1,0,0,technical,low\\n0.65,0.89,3,151,2,0,0,0,technical,low\\n0.62,0.79,4,216,2,1,0,0,technical,low\\n0.83,0.82,5,179,3,0,0,0,technical,low\\n0.75,1,4,135,4,0,0,0,technical,low\\n0.82,0.63,4,232,4,0,0,0,technical,low\\n0.69,0.68,4,168,3,0,0,0,technical,low\\n0.41,0.96,6,171,5,1,0,0,support,medium\\n0.52,0.64,5,258,2,0,0,0,support,medium\\n0.74,0.86,3,221,2,0,0,0,support,medium\\n0.33,0.96,5,97,3,0,0,0,support,medium\\n0.8,0.69,3,164,3,0,0,0,support,medium\\n0.82,0.89,4,237,3,0,0,0,support,medium\\n0.59,0.65,5,161,2,0,0,0,support,medium\\n0.98,0.8,4,134,2,1,0,0,support,medium\\n0.93,0.94,4,188,3,0,0,0,support,medium\\n0.49,0.95,4,181,3,0,0,0,support,medium\\n0.6,0.94,4,160,2,0,0,0,support,medium\\n0.34,0.82,6,197,5,1,0,0,technical,medium\\n0.71,0.77,3,145,3,0,0,0,technical,high\\n0.6,0.64,5,221,2,0,0,0,technical,low\\n0.12,0.78,6,260,5,0,0,0,management,medium\\n0.16,0.87,3,99,5,1,0,0,IT,medium\\n0.57,0.61,3,243,3,0,0,0,IT,medium\\n0.72,0.8,5,244,3,0,0,0,IT,medium\\n0.91,0.55,4,179,4,0,0,0,IT,low\\n0.95,0.49,4,146,6,1,0,0,IT,low\\n0.71,0.9,3,262,2,1,0,0,product_mng,low\\n0.9,0.69,4,174,2,0,0,0,product_mng,low\\n0.66,0.81,4,148,4,0,0,0,product_mng,low\\n0.48,0.59,5,235,3,0,0,0,product_mng,low\\n0.82,0.82,5,285,2,1,0,0,IT,low\\n0.83,0.79,4,143,3,0,0,0,RandD,low\\n0.85,0.82,6,141,5,0,0,0,RandD,low\\n0.84,0.47,3,125,4,0,0,0,RandD,low\\n0.99,0.51,4,232,3,0,0,0,RandD,low\\n0.54,0.72,3,172,2,0,0,0,RandD,low\\n0.64,0.42,5,283,5,0,0,0,marketing,low\\n0.67,0.68,3,189,3,0,0,0,sales,low\\n0.48,0.54,2,144,3,0,0,0,accounting,low\\n0.58,0.77,4,145,3,1,0,0,support,low\\n0.54,0.59,3,200,3,0,0,0,technical,low\\n0.25,0.65,3,264,4,0,0,0,management,low\\n0.9,0.53,3,215,3,0,0,0,marketing,low\\n0.48,0.39,4,272,3,0,0,0,marketing,low\\n0.76,0.9,5,142,3,0,0,0,marketing,low\\n0.72,0.53,5,240,2,0,0,0,sales,medium\\n0.95,0.66,4,168,2,0,0,0,sales,medium\\n0.73,0.55,4,171,4,0,0,0,sales,medium\\n0.93,0.7,3,159,2,0,0,0,sales,medium\\n0.89,0.61,3,175,4,0,0,0,sales,medium\\n0.7,0.97,4,244,3,0,0,0,sales,medium\\n0.98,0.57,3,198,3,0,0,0,sales,medium\\n0.72,0.65,5,151,3,0,0,0,sales,medium\\n0.49,0.69,2,188,4,0,0,0,sales,medium\\n0.15,0.85,3,199,2,0,0,0,sales,medium\\n0.57,0.96,4,257,3,0,0,0,sales,medium\\n0.21,0.81,4,144,4,0,0,0,sales,medium\\n0.46,0.57,4,275,3,0,0,0,sales,high\\n0.56,0.52,3,243,3,0,0,0,sales,low\\n0.81,0.66,3,181,2,1,0,0,sales,medium\\n0.93,0.59,5,172,3,0,0,0,sales,medium\\n0.82,0.97,3,244,5,0,0,0,sales,medium\\n0.76,0.51,4,242,3,0,0,0,sales,medium\\n0.97,0.81,3,249,2,0,0,0,sales,low\\n0.38,0.81,5,128,3,1,0,0,accounting,low\\n0.46,0.49,3,213,3,0,0,0,accounting,low\\n0.34,0.57,4,152,3,1,0,0,accounting,low\\n0.63,0.76,4,245,3,0,0,0,hr,low\\n0.57,0.56,4,113,3,0,0,0,hr,low\\n0.17,0.76,4,280,5,0,0,0,hr,low\\n0.74,0.67,3,273,3,1,0,0,hr,low\\n0.59,0.56,4,221,3,1,0,0,technical,low\\n0.49,0.61,5,133,3,0,0,0,technical,low\\n0.49,0.58,3,136,4,1,0,0,technical,low\\n0.61,0.71,4,243,3,1,0,0,technical,low\\n0.81,0.79,5,135,3,0,0,0,technical,low\\n0.74,0.63,3,231,3,0,0,0,technical,low\\n0.91,0.98,3,259,4,0,0,0,technical,low\\n0.71,0.66,3,238,2,0,0,0,technical,low\\n0.73,0.71,3,210,3,0,0,0,technical,low\\n0.44,0.4,3,120,6,0,0,0,technical,low\\n0.6,0.56,2,203,4,0,0,0,technical,low\\n0.73,0.88,4,148,2,0,0,0,support,low\\n0.8,0.54,4,258,3,0,0,0,support,low\\n0.97,0.5,3,225,2,0,0,0,support,medium\\n0.99,0.75,4,208,2,0,0,0,support,medium\\n0.96,0.82,4,274,3,0,0,0,support,medium\\n0.24,0.7,5,147,6,1,0,0,support,medium\\n0.45,0.39,2,167,3,0,0,0,support,medium\\n0.74,0.96,4,154,4,0,0,0,support,medium\\n0.6,0.98,4,195,3,0,0,0,support,medium\\n0.67,0.56,3,237,4,0,0,0,support,medium\\n0.57,0.99,4,222,2,0,0,0,support,medium\\n0.87,0.71,5,145,4,0,0,0,technical,medium\\n0.25,0.83,3,257,5,1,0,0,technical,medium\\n0.98,0.84,3,286,4,0,0,0,technical,medium\\n0.3,0.64,2,137,3,0,0,0,management,high\\n0.21,0.52,5,130,2,0,0,0,IT,low\\n0.56,0.7,3,214,2,0,0,0,IT,medium\\n0.75,0.96,3,138,2,0,0,0,IT,medium\\n0.5,0.77,3,166,3,0,0,0,IT,medium\\n0.61,0.92,4,159,5,0,0,0,IT,medium\\n0.83,0.59,5,160,4,0,0,0,product_mng,low\\n0.66,0.76,3,155,4,1,0,0,product_mng,low\\n0.84,0.68,3,231,3,0,0,0,product_mng,low\\n0.87,0.57,4,227,3,0,0,0,product_mng,low\\n0.48,0.37,3,181,2,0,0,0,IT,low\\n0.84,0.79,4,222,3,0,0,0,RandD,low\\n0.49,0.71,3,196,3,0,0,0,RandD,low\\n0.67,0.93,3,206,3,0,0,0,RandD,low\\n0.12,0.93,6,257,6,1,0,0,RandD,low\\n0.99,0.67,5,153,2,0,0,0,RandD,low\\n0.17,0.59,5,250,5,0,0,0,marketing,low\\n0.58,0.66,3,250,5,0,0,0,sales,low\\n0.5,0.73,3,148,3,0,0,0,accounting,low\\n0.35,0.69,3,141,2,1,0,0,support,low\\n0.93,0.95,6,147,3,0,0,0,technical,low\\n0.73,0.87,3,142,3,0,0,0,management,low\\n0.91,0.54,3,210,2,0,0,0,marketing,low\\n0.72,0.66,3,152,2,0,0,0,marketing,low\\n0.51,0.39,3,149,3,0,0,0,marketing,low\\n0.55,0.92,3,198,3,0,0,0,sales,low\\n0.66,0.76,3,139,5,0,0,0,sales,low\\n0.84,0.41,6,255,6,1,0,0,sales,medium\\n0.81,0.8,4,229,2,0,0,0,sales,medium\\n0.81,0.69,5,134,2,0,0,0,sales,medium\\n0.5,0.75,5,255,3,0,0,0,sales,medium\\n0.78,0.68,5,189,3,0,0,0,sales,medium\\n0.76,0.74,3,183,3,0,0,0,sales,medium\\n0.49,0.71,3,154,2,0,0,0,sales,medium\\n0.99,0.61,3,167,3,0,0,0,sales,medium\\n0.73,0.48,4,139,5,0,0,0,sales,medium\\n0.88,0.74,5,245,2,0,0,0,sales,medium\\n0.79,0.91,4,200,3,0,0,0,sales,medium\\n0.83,0.98,3,159,2,0,0,0,sales,medium\\n0.21,0.44,4,163,6,0,0,0,sales,high\\n0.87,0.52,3,158,2,1,0,0,sales,low\\n1,0.89,3,194,3,0,0,0,sales,medium\\n0.49,0.98,3,267,3,1,0,0,sales,medium\\n0.51,0.63,3,183,2,0,0,0,sales,medium\\n0.63,0.64,3,174,2,0,0,0,accounting,medium\\n0.91,0.63,4,240,3,0,0,0,accounting,low\\n0.54,0.5,2,123,4,1,0,0,accounting,low\\n1,0.59,4,174,3,0,0,0,hr,low\\n0.64,0.91,5,246,3,0,0,0,hr,low\\n0.65,0.96,5,173,2,0,0,0,hr,low\\n0.15,0.93,4,185,5,0,0,0,hr,low\\n0.81,0.83,4,259,3,1,0,0,technical,low\\n0.61,0.83,3,112,4,1,0,0,technical,low\\n0.86,0.55,5,219,2,0,0,0,technical,medium\\n0.71,0.62,3,258,2,0,0,0,technical,medium\\n0.72,0.82,5,287,3,0,0,0,technical,medium\\n0.84,0.37,5,186,2,0,0,0,technical,medium\\n0.38,0.74,3,159,4,0,0,0,technical,medium\\n0.75,0.56,4,230,3,0,0,0,technical,medium\\n0.93,0.77,5,106,5,0,0,0,technical,medium\\n0.71,0.64,4,189,3,0,0,0,technical,medium\\n0.75,0.96,3,252,3,0,0,0,technical,medium\\n0.56,0.68,4,220,2,0,0,0,support,medium\\n0.57,0.82,5,218,3,0,0,0,support,medium\\n0.63,0.83,4,145,4,0,0,0,support,medium\\n0.59,0.91,4,142,3,1,0,0,support,medium\\n0.77,0.62,3,218,2,0,0,0,support,medium\\n0.65,0.7,4,157,4,0,0,0,support,medium\\n0.84,0.49,4,178,3,0,0,0,support,medium\\n0.9,0.45,4,241,6,0,0,0,support,medium\\n0.6,0.83,3,230,3,0,0,0,support,medium\\n0.9,0.74,5,249,3,0,0,0,support,medium\\n0.94,0.7,5,147,2,0,0,0,support,medium\\n0.56,0.9,4,115,3,0,0,0,technical,medium\\n0.95,0.86,5,143,3,0,0,0,technical,medium\\n0.97,0.85,4,219,3,0,0,0,technical,medium\\n0.55,0.63,4,218,2,0,0,0,management,medium\\n0.79,0.6,5,235,2,0,0,0,IT,medium\\n0.49,0.76,5,237,3,0,0,0,IT,high\\n0.49,0.58,5,186,2,0,0,0,IT,high\\n0.57,0.65,5,177,2,0,0,0,IT,high\\n0.89,0.81,4,228,4,0,0,0,IT,high\\n0.66,0.59,3,204,3,0,0,0,product_mng,high\\n0.94,0.77,5,210,3,0,0,0,product_mng,high\\n0.98,0.95,4,250,2,1,0,0,product_mng,high\\n0.18,0.52,5,185,6,0,0,0,product_mng,high\\n0.57,0.73,3,146,3,0,0,0,IT,high\\n0.67,0.55,3,217,2,0,0,0,RandD,high\\n0.12,0.61,6,172,6,0,0,0,RandD,high\\n0.48,0.95,3,184,2,0,0,0,RandD,high\\n0.61,0.97,3,148,3,0,0,0,RandD,low\\n0.23,0.52,5,236,4,0,0,0,RandD,low\\n0.4,0.38,3,280,2,0,0,0,marketing,low\\n0.57,0.6,3,218,3,0,0,0,sales,low\\n0.95,0.98,5,155,3,0,0,0,accounting,low\\n0.93,0.66,4,242,4,0,0,0,support,low\\n0.7,0.88,3,166,5,0,0,0,technical,low\\n0.58,0.9,4,175,3,1,0,0,management,low\\n0.52,0.95,5,234,3,0,0,0,marketing,low\\n0.98,0.88,5,232,3,0,0,0,marketing,low\\n0.93,0.94,4,156,3,1,0,0,marketing,low\\n0.34,0.63,5,248,3,0,0,0,sales,low\\n0.87,0.75,4,218,2,0,0,0,sales,low\\n0.52,0.96,5,251,2,1,0,0,sales,low\\n0.58,0.91,4,173,4,0,0,0,sales,low\\n0.65,0.51,4,157,3,1,0,0,sales,medium\\n0.74,0.59,3,274,3,0,0,0,sales,medium\\n0.63,0.7,5,182,3,0,0,0,sales,medium\\n0.74,0.74,4,233,2,0,0,0,sales,medium\\n0.65,1,4,249,3,0,0,0,sales,medium\\n0.48,0.94,3,162,3,1,0,0,sales,medium\\n0.84,0.75,3,184,3,0,0,0,sales,medium\\n0.6,0.62,3,135,2,0,0,0,sales,medium\\n0.56,0.57,3,143,2,0,0,0,sales,medium\\n0.13,0.8,5,203,5,0,0,0,sales,medium\\n0.83,0.51,5,143,4,0,0,0,sales,medium\\n0.91,0.42,2,142,3,1,0,0,sales,medium\\n0.97,0.97,5,171,2,0,0,0,sales,high\\n0.9,0.96,3,223,4,0,0,0,sales,high\\n0.57,0.87,4,148,3,0,0,0,sales,high\\n0.84,0.79,6,140,2,0,0,0,accounting,high\\n0.84,0.74,4,226,2,0,0,0,accounting,high\\n0.17,0.93,5,183,5,0,0,0,accounting,high\\n0.97,0.86,5,135,3,0,0,0,hr,high\\n0.94,0.66,3,236,2,0,0,0,hr,high\\n0.83,0.61,5,257,2,0,0,0,hr,low\\n0.91,0.73,3,155,3,0,0,0,hr,low\\n0.9,0.76,2,211,4,0,0,0,technical,low\\n0.95,0.86,3,207,2,0,0,0,technical,low\\n0.69,0.95,3,126,6,0,0,0,technical,low\\n0.49,0.98,3,267,2,0,0,0,technical,low\\n0.45,0.37,6,226,2,0,0,0,technical,low\\n0.21,0.9,2,239,2,0,0,0,technical,low\\n0.67,0.61,3,202,2,0,0,0,technical,medium\\n0.76,0.62,3,150,2,1,0,0,technical,medium\\n0.19,0.78,5,156,6,0,0,0,technical,medium\\n0.52,0.73,2,233,3,0,0,0,technical,medium\\n0.66,0.59,5,262,2,0,0,0,technical,medium\\n0.95,0.67,3,183,3,0,0,0,support,medium\\n0.95,0.78,4,225,2,0,0,0,support,medium\\n0.57,0.54,5,216,3,0,0,0,support,medium\\n0.48,0.57,5,227,3,0,0,0,support,medium\\n0.95,0.5,4,242,2,0,0,0,support,medium\\n0.7,0.67,4,224,3,0,0,0,support,medium\\n0.48,0.61,3,223,3,1,0,0,support,medium\\n0.62,0.58,3,202,2,0,0,0,support,medium\\n0.58,0.76,3,220,3,0,0,0,support,medium\\n1,0.87,4,129,5,0,0,0,support,medium\\n0.79,0.65,2,193,5,0,0,0,support,medium\\n0.58,0.73,3,165,2,0,0,0,technical,medium\\n0.59,0.79,4,209,2,0,0,0,technical,medium\\n0.66,0.8,4,183,2,1,0,0,technical,medium\\n0.71,0.59,4,138,3,0,0,0,management,medium\\n0.9,0.74,5,152,3,0,0,0,IT,medium\\n0.74,0.63,4,170,2,0,0,0,IT,medium\\n0.66,0.93,5,185,3,0,0,0,IT,medium\\n0.92,0.53,2,249,2,0,0,0,IT,high\\n0.55,0.51,4,155,3,0,0,0,IT,low\\n0.51,0.43,3,204,4,0,0,0,product_mng,medium\\n0.49,0.52,5,188,4,0,0,0,product_mng,medium\\n0.88,0.52,5,264,4,0,0,0,product_mng,medium\\n0.6,0.8,4,146,2,0,0,0,product_mng,medium\\n0.93,0.65,4,212,4,0,0,0,IT,medium\\n0.86,0.59,3,215,3,0,0,0,RandD,medium\\n0.78,0.98,4,239,3,0,0,0,RandD,medium\\n0.69,0.55,3,188,3,0,0,0,RandD,medium\\n0.84,0.51,4,259,3,0,0,0,RandD,medium\\n0.48,0.62,3,200,3,1,0,0,RandD,medium\\n0.63,0.86,3,245,2,0,0,0,marketing,low\\n0.54,0.61,3,182,2,0,0,0,sales,low\\n0.85,0.53,4,181,2,0,0,0,accounting,low\\n0.51,0.52,3,164,3,0,0,0,support,low\\n0.88,0.86,5,257,3,0,0,0,technical,low\\n0.87,0.93,3,178,3,0,0,0,management,low\\n0.54,0.5,4,224,3,0,0,0,marketing,low\\n0.96,0.67,5,170,3,0,0,0,marketing,high\\n0.58,0.75,4,233,2,0,0,0,marketing,low\\n0.21,0.57,5,239,3,0,0,0,sales,high\\n0.5,0.56,5,185,2,0,0,0,sales,high\\n0.52,0.54,4,184,3,0,0,0,sales,low\\n0.5,0.7,3,188,2,0,0,0,sales,low\\n0.74,0.86,3,186,3,1,0,0,sales,high\\n0.69,0.63,3,226,3,0,0,0,sales,low\\n0.61,0.74,2,143,6,0,0,0,sales,medium\\n0.5,0.82,3,213,3,0,0,0,sales,high\\n0.79,0.53,2,217,2,0,0,0,sales,medium\\n0.73,0.68,5,190,2,0,0,0,sales,medium\\n0.49,0.69,2,147,2,0,0,0,sales,medium\\n0.7,0.77,2,235,3,1,0,0,sales,medium\\n0.27,0.62,6,136,3,0,0,0,sales,high\\n0.8,0.54,5,261,2,0,0,0,sales,medium\\n0.45,0.6,6,176,4,0,0,0,sales,medium\\n0.63,0.64,4,212,4,0,0,0,sales,medium\\n0.76,0.52,2,148,3,0,0,0,sales,high\\n0.42,0.74,6,218,6,0,0,0,sales,medium\\n0.41,0.87,6,262,6,0,0,0,sales,high\\n0.74,0.46,6,145,3,0,0,0,accounting,low\\n0.82,0.75,3,230,4,1,0,0,accounting,medium\\n0.82,0.65,4,210,2,0,0,0,accounting,medium\\n0.53,0.73,4,227,3,0,0,0,hr,medium\\n0.71,0.77,4,142,2,0,0,0,hr,medium\\n0.5,0.9,4,171,2,0,0,0,hr,low\\n0.68,0.89,3,241,3,0,0,0,hr,low\\n0.68,0.99,3,247,2,1,0,0,technical,low\\n0.48,0.86,5,246,3,0,0,0,technical,low\\n0.59,0.72,3,188,3,1,0,0,technical,low\\n0.21,0.7,3,104,2,0,0,0,technical,low\\n0.99,0.73,5,197,4,1,0,0,technical,low\\n1,0.88,4,191,4,0,0,0,technical,low\\n0.84,0.51,4,173,2,0,0,0,technical,low\\n0.86,0.82,2,207,4,1,0,0,technical,low\\n0.52,0.54,5,247,4,0,0,0,technical,high\\n0.94,0.97,5,197,5,1,0,0,technical,low\\n0.55,0.81,3,242,2,0,0,0,technical,low\\n0.79,0.59,3,145,2,0,0,0,support,low\\n0.91,0.9,4,174,3,0,0,0,support,low\\n0.82,0.99,3,195,2,0,0,0,support,high\\n0.84,0.94,4,270,3,1,0,0,support,low\\n0.72,0.68,4,238,3,0,0,0,support,low\\n0.68,0.85,4,156,2,0,0,0,support,low\\n0.99,0.96,5,261,3,0,0,0,support,high\\n0.74,0.85,5,135,2,0,0,0,support,low\\n0.8,0.41,6,185,4,0,0,0,support,medium\\n0.55,0.55,3,197,3,0,0,0,support,high\\n0.56,0.95,3,241,3,0,0,0,support,medium\\n0.88,0.98,3,263,3,1,0,0,technical,high\\n0.86,0.49,4,251,2,0,0,0,technical,medium\\n0.64,0.95,3,218,2,0,0,0,technical,medium\\n0.82,0.58,4,183,3,0,0,0,management,medium\\n0.66,0.8,4,252,3,0,0,0,IT,medium\\n0.64,0.95,3,98,3,0,0,0,IT,medium\\n0.17,0.78,6,284,4,0,0,0,IT,medium\\n0.75,0.68,4,220,2,0,0,0,IT,medium\\n0.45,0.39,4,275,3,0,0,0,IT,medium\\n0.99,0.9,4,164,3,0,0,0,product_mng,high\\n0.93,0.67,5,237,4,0,0,0,product_mng,low\\n0.88,0.8,3,133,3,0,0,0,product_mng,medium\\n0.62,0.52,5,256,4,0,0,0,product_mng,medium\\n0.94,0.88,4,270,3,0,0,0,IT,medium\\n0.59,0.92,4,196,2,0,0,0,RandD,medium\\n0.93,0.89,4,209,2,0,0,0,RandD,medium\\n0.71,0.39,3,261,3,0,0,0,RandD,medium\\n0.6,0.6,3,221,2,0,0,0,RandD,medium\\n0.71,0.69,4,180,3,1,0,0,RandD,medium\\n0.91,0.57,4,145,3,0,0,0,marketing,medium\\n0.78,0.96,4,111,2,0,0,0,sales,high\\n0.52,0.63,4,232,3,0,0,0,accounting,low\\n0.99,0.7,5,195,3,0,0,0,support,low\\n0.86,0.51,4,211,2,1,0,0,technical,low\\n0.74,0.68,4,194,2,0,0,0,management,high\\n0.15,0.84,4,275,5,0,0,0,marketing,low\\n0.57,0.54,3,140,3,0,0,0,marketing,low\\n0.67,0.6,3,157,3,0,0,0,marketing,low\\n0.8,0.93,4,258,3,0,0,0,sales,high\\n0.83,0.82,5,273,4,0,0,0,sales,low\\n0.69,0.53,3,135,2,0,0,0,sales,low\\n0.64,0.83,3,188,4,0,0,0,sales,low\\n0.95,0.52,5,222,2,0,0,0,sales,low\\n0.97,0.52,4,231,3,0,0,0,sales,low\\n0.85,0.86,3,255,2,0,0,0,sales,low\\n0.72,0.51,3,254,2,0,0,0,sales,low\\n0.91,0.85,3,244,3,1,0,0,sales,medium\\n0.81,0.83,3,132,4,0,0,0,sales,medium\\n0.13,0.67,5,234,6,0,0,0,sales,medium\\n0.95,0.81,4,272,3,0,0,0,sales,medium\\n0.82,0.54,4,191,3,0,0,0,sales,medium\\n0.63,0.93,4,238,4,0,0,0,sales,medium\\n0.55,0.69,3,225,2,0,0,0,sales,medium\\n0.83,0.95,3,211,2,0,0,0,sales,medium\\n0.54,0.98,3,217,3,0,0,0,sales,medium\\n0.89,0.91,5,156,4,0,0,0,sales,medium\\n0.79,0.55,3,147,3,0,0,0,sales,medium\\n0.56,0.73,4,134,3,0,0,0,accounting,medium\\n0.89,0.7,4,235,2,1,0,0,accounting,high\\n1,0.66,4,238,4,0,0,0,accounting,low\\n0.43,0.72,3,258,4,0,0,0,hr,medium\\n0.71,0.55,5,224,3,0,0,0,hr,medium\\n0.98,0.59,4,149,2,0,0,0,hr,medium\\n0.81,0.7,4,219,2,1,0,0,hr,medium\\n0.71,0.53,3,186,2,0,0,0,technical,low\\n0.99,0.6,4,259,4,0,0,0,technical,low\\n0.34,0.62,3,119,2,0,0,0,technical,low\\n0.58,0.91,3,223,2,0,0,0,technical,low\\n0.77,0.49,4,184,3,0,0,0,technical,low\\n0.64,0.5,3,238,4,0,0,0,technical,low\\n0.13,1,4,157,5,1,0,0,technical,low\\n0.98,0.6,2,249,3,0,0,0,technical,low\\n0.72,0.84,4,195,2,0,0,0,technical,low\\n0.55,0.79,3,162,2,0,0,0,technical,low\\n0.62,0.91,4,231,3,0,0,0,technical,low\\n0.74,0.91,2,264,3,0,0,0,support,low\\n0.69,0.96,3,210,3,0,0,0,support,low\\n0.6,0.63,4,192,3,0,0,0,support,low\\n0.54,0.43,3,192,2,0,0,0,support,low\\n0.56,0.75,4,249,3,0,0,0,support,low\\n0.58,0.86,5,206,3,0,0,0,support,low\\n0.21,0.66,4,165,5,0,0,0,support,low\\n0.52,0.85,5,183,3,0,0,0,support,low\\n0.98,0.7,4,253,2,0,0,0,support,low\\n0.85,0.97,3,256,3,0,0,0,support,low\\n0.62,0.88,2,263,4,0,0,0,support,medium\\n0.63,0.61,3,234,3,1,0,0,technical,medium\\n0.84,0.97,6,223,2,0,0,0,technical,medium\\n0.71,0.69,2,172,3,0,0,0,technical,medium\\n0.36,0.55,6,226,6,0,0,0,management,medium\\n0.79,0.56,6,205,4,1,0,0,IT,medium\\n0.59,0.55,4,235,2,0,0,0,IT,medium\\n0.5,0.53,4,263,3,0,0,0,IT,medium\\n0.88,0.66,4,271,3,1,0,0,IT,medium\\n0.65,0.69,6,131,5,0,0,0,IT,medium\\n0.71,0.56,4,238,4,0,0,0,product_mng,medium\\n0.89,0.54,3,214,2,0,0,0,product_mng,medium\\n0.83,0.84,3,267,3,0,0,0,product_mng,high\\n0.73,0.53,3,184,2,0,0,0,product_mng,low\\n0.71,0.67,3,264,3,0,0,0,IT,medium\\n0.53,0.66,3,109,2,0,0,0,RandD,medium\\n0.74,0.7,3,253,4,1,0,0,RandD,medium\\n0.6,0.52,4,207,2,1,0,0,RandD,medium\\n0.47,0.6,4,263,5,0,0,0,RandD,low\\n0.88,0.88,3,214,2,1,0,0,RandD,low\\n0.62,0.67,2,153,3,0,0,0,marketing,low\\n0.24,0.48,5,123,5,1,0,0,sales,low\\n0.15,0.36,5,159,2,0,0,0,accounting,low\\n0.92,0.82,3,185,3,0,0,0,support,low\\n0.74,0.7,4,167,3,1,0,0,technical,low\\n0.86,0.77,3,271,3,0,0,0,management,low\\n0.96,0.61,3,140,3,0,0,0,marketing,low\\n0.54,0.6,4,141,3,0,0,0,marketing,low\\n0.99,0.87,4,190,2,0,0,0,marketing,low\\n0.72,0.73,5,134,2,0,0,0,sales,low\\n0.96,0.75,5,176,4,0,0,0,sales,low\\n0.73,0.73,4,194,2,0,0,0,sales,low\\n0.67,0.44,5,212,4,0,0,0,sales,low\\n0.58,0.72,5,234,3,1,0,0,sales,low\\n0.9,0.99,4,190,2,0,0,0,sales,low\\n0.99,0.37,5,155,3,0,0,0,sales,low\\n0.89,0.58,4,232,2,0,0,0,sales,low\\n0.72,0.95,4,216,3,0,0,0,sales,low\\n0.77,0.8,3,207,3,0,0,0,sales,low\\n0.8,0.94,4,200,4,0,0,0,sales,medium\\n0.89,0.86,3,178,4,0,0,0,sales,medium\\n0.59,0.81,4,173,2,0,0,0,sales,medium\\n0.24,0.87,5,268,5,0,0,0,sales,medium\\n0.94,0.59,6,212,2,0,0,0,sales,medium\\n0.74,0.5,4,216,3,0,0,0,sales,medium\\n0.63,0.62,5,212,6,0,0,0,sales,medium\\n0.63,0.59,3,155,3,1,0,0,sales,medium\\n0.77,0.65,4,164,2,0,0,0,sales,medium\\n0.87,0.74,3,209,3,0,0,0,accounting,medium\\n0.79,0.61,4,136,3,0,0,0,accounting,medium\\n0.54,0.84,4,223,3,0,0,0,accounting,medium\\n0.59,0.83,4,239,4,0,0,0,hr,high\\n0.86,0.87,3,205,4,0,0,0,hr,low\\n0.98,0.68,3,203,3,0,0,0,hr,medium\\n1,0.79,5,152,4,0,0,0,hr,medium\\n0.9,0.79,4,236,3,1,0,0,technical,medium\\n0.34,0.6,4,114,3,0,0,0,technical,medium\\n0.95,0.93,3,209,2,0,0,0,technical,low\\n0.79,0.48,4,178,2,0,0,0,technical,low\\n0.13,0.91,4,175,5,0,0,0,technical,low\\n0.72,0.69,3,270,4,0,0,0,technical,low\\n0.63,0.54,3,145,2,1,0,0,technical,low\\n0.81,0.76,5,134,2,0,0,0,technical,low\\n0.71,0.75,4,272,4,0,0,0,technical,low\\n0.49,0.76,3,208,2,0,0,0,technical,low\\n0.59,0.65,4,219,3,1,0,0,technical,low\\n0.87,0.59,5,154,3,0,0,0,support,low\\n0.66,0.6,3,179,4,0,0,0,support,low\\n0.78,0.92,5,137,2,0,0,0,support,low\\n0.65,0.7,4,211,2,0,0,0,support,low\\n0.8,0.97,5,271,4,0,0,0,support,low\\n0.56,0.75,4,192,2,0,0,0,support,low\\n0.85,0.67,4,228,4,0,0,0,support,low\\n0.14,0.46,2,267,6,1,0,0,support,low\\n0.74,0.62,4,272,2,0,0,0,support,low\\n0.86,0.93,2,260,2,0,0,0,support,low\\n0.71,0.96,4,161,3,0,0,0,support,low\\n0.83,0.99,4,226,2,0,0,0,technical,low\\n0.52,0.49,4,249,4,1,0,0,technical,medium\\n0.63,0.8,3,243,3,0,0,0,technical,medium\\n0.92,0.93,4,247,2,0,0,0,management,medium\\n0.66,0.87,3,186,2,0,0,0,IT,medium\\n0.77,0.7,3,155,3,0,0,0,IT,medium\\n0.74,0.97,2,135,4,0,0,0,IT,medium\\n0.81,0.76,5,198,4,0,0,0,IT,medium\\n0.67,0.55,3,175,2,0,0,0,IT,medium\\n0.75,0.92,3,192,3,0,0,0,product_mng,medium\\n0.65,0.36,2,282,3,0,0,0,product_mng,medium\\n0.81,0.6,4,179,3,0,0,0,product_mng,medium\\n0.57,0.77,4,245,3,0,0,0,product_mng,medium\\n0.89,0.66,4,235,3,0,0,0,IT,high\\n0.5,0.56,4,266,2,0,0,0,RandD,low\\n0.21,0.42,4,269,4,1,0,0,RandD,medium\\n0.79,0.67,3,264,2,0,0,0,RandD,medium\\n0.66,0.57,3,161,2,1,0,0,RandD,medium\\n0.82,0.95,3,203,3,0,0,0,RandD,medium\\n0.85,0.85,4,258,2,0,0,0,marketing,low\\n0.72,0.96,3,143,3,0,0,0,sales,low\\n0.52,0.92,3,214,3,0,0,0,accounting,low\\n0.5,0.62,4,166,3,1,0,0,support,low\\n0.52,0.82,3,192,3,0,0,0,technical,low\\n0.13,0.87,3,185,4,1,0,0,management,low\\n0.87,0.98,4,173,3,0,0,0,marketing,low\\n0.53,0.98,2,163,3,0,0,0,marketing,low\\n0.15,0.76,5,277,4,0,0,0,marketing,low\\n0.64,0.86,5,274,2,1,0,0,sales,low\\n0.52,0.44,3,119,2,0,0,0,sales,low\\n0.79,0.67,4,267,3,0,0,0,sales,low\\n0.74,0.89,3,160,2,0,0,0,sales,low\\n0.81,0.84,4,198,2,0,0,0,sales,low\\n0.94,0.6,3,193,3,0,0,0,sales,low\\n0.67,0.84,6,250,2,0,0,0,sales,low\\n0.93,0.84,3,237,4,1,0,0,sales,low\\n0.52,0.96,4,170,2,0,0,0,sales,low\\n0.48,0.74,2,157,2,1,0,0,sales,medium\\n0.57,0.92,6,267,4,0,0,0,sales,medium\\n0.71,0.77,4,192,4,0,0,0,sales,medium\\n0.9,0.74,4,218,2,1,0,0,sales,medium\\n0.58,0.61,4,210,3,0,0,0,sales,medium\\n0.66,0.48,4,229,4,0,0,0,sales,medium\\n0.59,0.66,3,186,3,0,0,0,sales,medium\\n0.96,0.5,3,234,2,1,0,0,sales,medium\\n0.13,0.91,2,149,5,0,0,0,sales,medium\\n0.93,0.92,3,205,3,0,0,0,sales,medium\\n0.54,0.72,3,148,4,0,0,0,accounting,medium\\n0.54,0.77,5,270,3,0,0,0,accounting,medium\\n0.87,0.62,3,176,3,0,0,0,accounting,high\\n0.79,0.91,3,226,2,0,0,0,hr,low\\n0.83,0.57,3,232,4,0,0,0,hr,medium\\n0.73,0.6,3,137,3,0,0,0,hr,medium\\n0.29,0.42,6,253,3,0,0,0,hr,medium\\n0.8,0.7,6,231,4,0,0,0,technical,medium\\n0.29,0.81,3,189,6,0,0,0,technical,low\\n0.43,0.85,6,168,2,0,0,0,technical,low\\n0.99,0.93,3,261,3,0,0,0,technical,low\\n0.86,0.51,4,152,3,0,0,0,technical,low\\n0.85,0.78,5,263,2,1,0,0,technical,low\\n0.66,0.68,3,258,3,0,0,0,technical,low\\n0.57,0.99,3,205,3,0,0,0,technical,low\\n0.31,0.64,6,183,2,1,0,0,technical,low\\n0.88,0.88,3,153,3,0,0,0,technical,low\\n0.72,0.72,5,194,4,0,0,0,technical,low\\n0.75,0.66,4,202,2,0,0,0,support,low\\n0.82,0.71,4,164,4,0,0,0,support,low\\n0.82,0.67,3,213,2,0,0,0,support,low\\n0.15,0.52,4,265,6,0,0,0,support,low\\n0.16,0.88,6,218,3,0,0,0,support,low\\n0.95,0.4,5,286,4,0,0,0,support,low\\n0.87,0.73,3,172,3,1,0,0,support,low\\n0.85,0.89,4,251,2,0,0,0,support,low\\n0.58,0.6,3,110,3,1,0,0,support,low\\n0.63,0.86,3,269,4,0,0,0,support,low\\n0.69,0.68,3,151,3,1,0,0,support,low\\n0.53,0.85,5,161,2,0,0,0,technical,medium\\n0.96,0.71,4,210,3,0,0,0,technical,medium\\n0.73,0.83,2,167,3,0,0,0,technical,medium\\n0.5,0.6,3,270,3,1,0,0,management,medium\\n0.81,0.83,3,133,3,1,0,0,IT,medium\\n0.82,0.59,3,249,3,0,0,0,IT,medium\\n0.76,0.72,4,266,3,0,0,0,IT,medium\\n0.27,0.82,4,276,2,0,0,0,IT,medium\\n0.64,0.38,6,215,3,0,0,0,IT,medium\\n0.57,0.9,3,262,2,0,0,0,product_mng,medium\\n0.49,0.84,5,193,3,0,0,0,product_mng,medium\\n0.66,0.92,2,102,4,0,0,0,product_mng,medium\\n0.71,0.36,4,278,4,1,0,0,product_mng,high\\n0.61,0.63,3,250,4,0,0,0,IT,low\\n0.52,0.89,5,193,4,0,0,0,RandD,medium\\n0.62,0.91,3,133,3,0,0,0,RandD,medium\\n0.98,0.65,4,216,4,0,0,0,RandD,medium\\n0.67,0.56,5,174,2,1,0,0,RandD,medium\\n0.85,0.62,2,280,4,0,0,0,RandD,low\\n0.84,0.85,4,246,2,0,0,0,marketing,low\\n1,0.53,3,142,3,0,0,0,sales,low\\n0.72,0.76,4,144,3,1,0,0,accounting,low\\n0.66,0.75,6,100,4,1,0,0,support,low\\n0.64,0.71,5,212,2,0,0,0,technical,low\\n1,0.76,5,201,3,0,0,0,management,low\\n0.75,0.59,5,206,2,0,0,0,marketing,low\\n0.81,0.77,4,197,3,0,0,0,marketing,low\\n0.31,0.98,5,232,5,0,0,0,marketing,low\\n0.32,0.97,6,272,2,0,0,0,sales,low\\n0.48,0.5,4,173,3,0,0,0,sales,low\\n0.62,0.42,2,124,2,0,0,0,sales,low\\n0.77,0.86,5,282,4,0,0,0,sales,low\\n0.76,0.8,2,219,4,1,0,0,sales,low\\n0.68,0.41,3,106,6,0,0,0,sales,low\\n0.72,0.79,4,192,4,0,0,0,sales,low\\n0.87,0.91,5,190,2,0,0,0,sales,low\\n0.59,0.57,2,156,2,0,0,0,sales,low\\n0.7,0.64,3,180,2,0,0,0,sales,low\\n0.73,0.81,4,245,2,0,0,0,sales,low\\n0.58,0.62,3,169,2,0,0,0,sales,medium\\n0.64,0.66,3,188,4,0,0,0,sales,medium\\n0.89,0.66,5,224,2,0,0,0,sales,medium\\n0.95,0.71,3,263,2,1,0,0,sales,medium\\n0.84,0.9,3,262,2,0,0,0,sales,medium\\n0.6,0.99,4,225,3,0,0,0,sales,medium\\n0.71,0.63,5,224,3,1,0,0,sales,medium\\n0.6,0.95,3,266,3,0,0,0,sales,medium\\n0.91,0.68,3,218,3,1,0,0,accounting,medium\\n0.75,1,3,102,3,0,0,0,accounting,medium\\n0.7,0.67,4,181,3,0,0,0,accounting,medium\\n0.23,0.64,5,150,5,0,0,0,hr,medium\\n0.73,0.83,4,270,2,0,0,0,hr,high\\n0.99,0.49,4,270,2,0,0,0,hr,low\\n0.62,0.68,5,265,3,0,0,0,hr,medium\\n0.98,0.89,4,169,3,0,0,0,technical,medium\\n0.61,0.94,3,224,4,0,0,0,technical,medium\\n0.52,0.92,3,150,2,1,0,0,technical,medium\\n0.65,0.66,5,239,4,0,0,0,technical,low\\n0.59,0.9,3,245,3,1,0,0,technical,low\\n0.71,0.8,3,182,2,1,0,0,technical,low\\n0.18,0.7,5,182,4,0,0,0,technical,low\\n0.21,0.93,4,243,4,0,0,0,technical,low\\n0.15,0.67,6,209,5,0,0,0,technical,low\\n0.97,0.53,4,195,4,0,0,0,technical,low\\n0.39,0.48,3,190,2,0,0,0,technical,low\\n0.35,0.66,2,140,2,0,0,0,support,medium\\n0.88,0.58,4,147,4,0,0,0,support,medium\\n0.58,0.97,3,265,3,0,0,0,support,medium\\n0.61,0.78,3,238,2,0,0,0,support,medium\\n0.59,0.98,3,155,3,0,0,0,support,medium\\n0.55,0.41,4,132,5,1,0,0,support,medium\\n0.52,0.8,5,257,3,0,0,0,support,medium\\n0.71,0.77,2,255,3,0,0,0,support,medium\\n0.63,0.82,5,229,2,0,0,0,support,medium\\n0.17,0.84,5,216,4,0,0,0,support,medium\\n0.95,0.49,4,269,4,0,0,0,support,medium\\n1,0.73,3,205,2,0,0,0,technical,medium\\n0.73,0.96,2,151,3,0,0,0,technical,medium\\n0.8,0.64,4,246,3,1,0,0,technical,medium\\n0.63,0.8,4,256,4,0,0,0,management,medium\\n0.95,0.59,4,235,3,0,0,0,IT,medium\\n0.75,0.83,4,229,2,0,0,0,IT,medium\\n0.64,0.72,5,158,3,0,0,0,IT,medium\\n0.72,1,3,197,3,0,0,0,IT,medium\\n0.72,0.53,3,151,4,0,0,0,IT,medium\\n0.85,0.63,3,167,3,0,0,0,product_mng,medium\\n0.24,0.94,4,146,4,0,0,0,product_mng,medium\\n0.69,0.53,4,281,4,0,0,0,product_mng,medium\\n0.69,0.7,3,212,2,0,0,0,product_mng,medium\\n0.87,0.59,5,261,3,0,0,0,IT,medium\\n0.78,0.91,3,238,2,0,0,0,RandD,high\\n0.76,0.74,4,235,3,0,0,0,RandD,high\\n0.35,0.7,3,107,3,0,0,0,RandD,high\\n0.88,0.59,6,243,4,0,0,0,RandD,high\\n0.78,0.79,5,233,3,1,0,0,RandD,high\\n0.36,0.42,3,206,5,0,0,0,marketing,high\\n0.24,0.7,5,172,4,0,0,0,sales,high\\n0.55,0.82,3,248,2,0,0,0,accounting,high\\n0.91,0.53,3,147,4,1,0,0,support,high\\n0.66,0.61,5,259,3,0,0,0,technical,high\\n0.57,0.82,3,267,3,0,0,0,management,high\\n0.64,0.64,3,263,3,0,0,0,marketing,high\\n0.63,0.98,3,160,4,1,0,0,marketing,low\\n0.49,0.92,5,176,3,0,0,0,marketing,low\\n0.7,0.7,3,224,3,0,0,0,sales,low\\n0.3,0.71,3,155,2,0,0,0,sales,low\\n0.51,0.52,3,132,3,0,0,0,sales,low\\n0.71,0.87,5,173,3,0,0,0,sales,low\\n0.64,0.67,3,165,3,0,0,0,sales,low\\n0.67,0.66,6,272,3,0,0,0,sales,low\\n0.83,0.94,5,156,3,1,0,0,sales,low\\n0.92,0.96,3,154,2,1,0,0,sales,low\\n0.84,0.53,3,237,3,1,0,0,sales,low\\n0.97,0.75,2,271,6,0,0,0,sales,low\\n0.19,0.91,6,152,3,0,0,0,sales,low\\n0.86,0.51,4,152,3,1,0,0,sales,low\\n0.71,0.69,3,172,3,0,0,0,sales,low\\n0.76,0.56,4,214,2,1,0,0,sales,medium\\n0.68,0.88,5,201,3,0,0,0,sales,medium\\n0.61,0.99,2,275,3,1,0,0,sales,medium\\n0.85,0.79,3,156,3,0,0,0,sales,medium\\n0.84,0.89,3,234,2,0,0,0,sales,medium\\n0.62,0.63,2,123,2,0,0,0,sales,medium\\n0.77,0.76,3,201,4,0,0,0,accounting,medium\\n0.79,0.93,5,160,4,1,0,0,accounting,medium\\n0.97,0.5,3,173,2,0,0,0,accounting,medium\\n0.59,0.61,4,141,2,1,0,0,hr,medium\\n0.93,0.62,3,231,6,0,0,0,hr,medium\\n0.85,0.54,4,174,2,0,0,0,hr,medium\\n0.7,0.57,4,211,3,0,0,0,hr,high\\n0.54,0.91,3,249,3,0,0,0,technical,high\\n0.42,0.86,2,108,5,0,0,0,technical,high\\n0.96,0.75,4,165,3,0,0,0,technical,high\\n0.58,0.8,3,181,4,0,0,0,technical,high\\n0.61,0.59,3,237,2,0,0,0,technical,high\\n0.62,0.97,5,180,2,0,0,0,technical,high\\n0.68,0.7,3,209,3,0,0,0,technical,high\\n0.6,0.73,3,191,5,1,0,0,technical,low\\n0.7,0.91,4,181,2,1,0,0,technical,low\\n0.65,0.55,4,250,2,0,0,0,technical,low\\n0.48,0.59,2,179,2,0,0,0,technical,low\\n0.75,0.73,3,225,4,0,0,0,support,low\\n0.69,0.78,5,267,2,1,0,0,support,low\\n0.34,0.46,2,169,2,1,0,0,support,low\\n0.59,0.49,4,164,3,0,0,0,support,low\\n0.94,0.95,4,155,3,0,0,0,support,medium\\n0.98,0.77,5,223,2,1,0,0,support,medium\\n0.72,0.66,3,160,3,0,0,0,support,medium\\n0.79,0.7,4,268,2,0,0,0,support,medium\\n0.54,0.61,4,151,4,1,0,0,support,medium\\n0.73,0.95,3,156,2,0,0,0,support,medium\\n0.82,0.58,4,136,3,0,0,0,support,medium\\n0.57,0.45,3,189,2,0,0,0,technical,medium\\n0.98,0.93,5,203,2,0,0,0,technical,medium\\n0.91,0.65,5,174,2,0,0,0,technical,medium\\n0.72,0.91,3,239,2,0,0,0,management,medium\\n0.48,0.73,5,152,6,0,0,0,IT,medium\\n0.57,0.86,4,268,6,0,0,0,IT,medium\\n0.86,0.96,4,146,3,0,0,0,IT,medium\\n0.63,0.85,3,232,4,0,0,0,IT,medium\\n0.81,0.52,3,255,5,0,0,0,IT,medium\\n0.21,0.37,4,129,4,0,0,0,product_mng,medium\\n0.9,0.66,3,261,3,1,0,0,product_mng,medium\\n0.79,0.78,3,101,2,1,0,0,product_mng,medium\\n0.95,0.49,4,229,3,0,0,0,product_mng,medium\\n0.29,0.43,3,162,4,0,0,0,IT,medium\\n0.81,0.52,4,270,3,0,0,0,RandD,medium\\n0.21,0.56,6,277,5,0,0,0,RandD,medium\\n0.7,0.83,5,261,4,0,0,0,RandD,high\\n0.66,0.64,4,204,2,0,0,0,RandD,low\\n0.16,0.86,2,215,2,0,0,0,RandD,medium\\n0.72,0.8,3,219,3,0,0,0,marketing,medium\\n0.51,0.5,3,147,4,0,0,0,sales,medium\\n0.59,0.63,5,243,2,0,0,0,accounting,medium\\n0.66,0.4,2,155,5,1,0,0,support,medium\\n0.69,0.84,3,253,2,0,0,0,technical,medium\\n0.69,0.94,4,235,3,0,0,0,management,medium\\n0.89,0.79,5,257,3,0,0,0,marketing,medium\\n0.52,0.56,4,225,2,0,0,0,marketing,medium\\n0.91,0.91,3,167,3,0,0,0,marketing,medium\\n0.96,0.53,5,224,4,0,0,0,sales,low\\n0.8,0.58,5,127,3,0,0,0,sales,low\\n0.55,0.77,3,256,3,1,0,0,sales,low\\n0.93,0.63,4,233,2,0,0,0,sales,low\\n0.93,0.86,4,169,4,0,0,0,sales,low\\n0.54,0.48,3,152,2,0,0,0,sales,low\\n0.48,0.76,5,236,2,0,0,0,sales,low\\n0.19,0.99,3,154,2,0,0,0,sales,high\\n0.95,0.71,3,223,2,0,0,0,sales,low\\n0.96,0.81,4,211,3,0,0,0,sales,high\\n0.63,0.89,4,192,2,0,0,0,sales,high\\n0.81,0.8,4,227,2,1,0,0,sales,low\\n0.5,0.88,4,265,3,1,0,0,sales,low\\n0.76,0.72,5,228,2,0,0,0,sales,high\\n0.84,0.49,4,152,3,0,0,0,sales,low\\n0.2,0.95,5,169,5,0,0,0,sales,medium\\n0.78,0.92,3,169,3,0,0,0,sales,high\\n0.8,0.68,4,157,3,0,0,0,sales,medium\\n0.94,0.57,4,251,2,1,0,0,sales,medium\\n0.44,0.74,5,253,2,0,0,0,accounting,medium\\n0.92,0.85,3,155,2,0,0,0,accounting,medium\\n0.54,0.8,3,232,2,0,0,0,accounting,high\\n0.56,0.56,4,195,2,0,0,0,hr,medium\\n0.66,0.69,4,198,3,1,0,0,hr,medium\\n0.8,0.91,3,246,3,0,0,0,hr,medium\\n0.6,0.81,2,214,3,0,0,0,hr,high\\n0.73,0.73,5,249,3,0,0,0,technical,medium\\n0.55,0.74,3,211,3,1,0,0,technical,high\\n0.7,0.71,5,269,3,0,0,0,technical,low\\n0.53,0.68,4,214,3,0,0,0,technical,medium\\n0.9,0.94,4,231,3,0,0,0,technical,medium\\n0.8,0.78,3,175,3,0,0,0,technical,medium\\n0.51,0.6,5,175,3,0,0,0,technical,medium\\n0.86,0.96,5,238,5,0,0,0,technical,low\\n0.63,0.79,4,228,4,0,0,0,technical,low\\n0.83,0.93,3,220,4,0,0,0,technical,low\\n0.85,0.55,4,233,2,1,0,0,technical,low\\n0.8,0.57,3,225,4,0,0,0,support,low\\n0.79,0.97,5,187,3,0,0,0,support,low\\n0.37,0.71,3,117,3,0,0,0,support,low\\n0.85,0.9,3,184,3,1,0,0,support,low\\n0.76,0.56,3,216,3,0,0,0,support,low\\n0.99,0.62,4,140,2,1,0,0,support,low\\n0.55,0.63,3,201,2,1,0,0,support,high\\n0.69,0.69,4,167,3,1,0,0,support,low\\n0.68,1,5,203,2,0,0,0,support,low\\n0.69,0.9,5,231,2,1,0,0,support,low\\n0.65,0.7,3,141,4,0,0,0,support,low\\n0.17,0.88,6,226,3,1,0,0,technical,high\\n0.48,0.65,3,199,2,0,0,0,technical,low\\n0.65,0.59,4,192,3,0,0,0,technical,low\\n0.57,0.49,4,247,2,0,0,0,management,low\\n0.8,0.67,3,164,3,0,0,0,IT,high\\n0.8,0.6,5,234,2,0,0,0,IT,low\\n0.5,0.6,2,177,3,1,0,0,IT,medium\\n0.95,0.87,3,208,2,0,0,0,IT,high\\n0.69,0.93,3,233,3,0,0,0,IT,medium\\n0.74,0.57,4,172,3,0,0,0,product_mng,high\\n0.68,0.59,3,141,3,0,0,0,product_mng,medium\\n0.68,0.55,3,213,3,0,0,0,product_mng,medium\\n0.65,0.37,5,128,3,1,0,0,product_mng,medium\\n0.85,0.92,4,151,3,1,0,0,IT,medium\\n0.49,0.48,4,247,3,0,0,0,RandD,medium\\n0.19,0.8,6,143,4,0,0,0,RandD,medium\\n0.95,0.61,3,164,3,0,0,0,RandD,medium\\n0.63,0.62,3,183,3,0,0,0,RandD,medium\\n0.83,0.8,4,274,3,0,0,0,RandD,high\\n0.62,0.78,4,261,2,0,0,0,marketing,low\\n0.74,0.98,5,200,3,0,0,0,sales,medium\\n0.7,0.87,5,177,2,0,0,0,accounting,medium\\n0.28,0.38,5,139,4,0,0,0,support,medium\\n0.39,0.56,6,228,5,0,0,0,technical,medium\\n0.62,0.63,3,230,2,0,0,0,management,medium\\n0.79,0.54,5,212,4,0,0,0,marketing,medium\\n0.87,0.74,4,265,4,0,0,0,marketing,medium\\n0.29,0.75,3,124,4,0,0,0,marketing,medium\\n0.37,0.88,4,155,3,0,0,0,sales,medium\\n0.68,0.55,4,215,4,0,0,0,sales,high\\n0.9,0.51,4,214,2,0,0,0,sales,low\\n0.97,0.65,3,181,3,0,0,0,sales,low\\n0.6,0.77,4,229,2,0,0,0,sales,low\\n0.58,0.79,5,262,2,0,0,0,sales,high\\n0.83,0.86,3,165,3,0,0,0,sales,low\\n0.83,0.73,5,136,3,0,0,0,sales,low\\n0.94,0.71,4,151,2,1,0,0,sales,low\\n0.69,0.9,5,226,4,0,0,0,sales,high\\n0.81,0.81,5,215,2,0,0,0,sales,low\\n0.19,0.5,6,143,5,1,0,0,sales,low\\n0.18,0.64,3,223,4,1,0,0,sales,low\\n0.58,0.63,4,271,3,0,0,0,sales,low\\n0.76,0.65,3,220,3,0,0,0,sales,low\\n0.26,0.47,6,182,4,0,0,0,sales,low\\n0.78,0.87,3,190,3,0,0,0,sales,low\\n0.71,0.56,3,198,3,0,0,0,sales,medium\\n0.76,0.61,3,141,2,0,0,0,sales,medium\\n0.44,0.81,3,248,2,0,0,0,accounting,medium\\n0.26,0.69,2,168,5,0,0,0,accounting,medium\\n0.75,0.57,5,162,3,0,0,0,accounting,medium\\n0.64,0.9,4,211,3,0,0,0,hr,medium\\n0.79,0.71,4,271,3,0,0,0,hr,medium\\n0.96,0.61,3,271,2,0,0,0,hr,medium\\n0.63,1,5,244,2,0,0,0,hr,medium\\n0.65,0.55,5,261,3,1,0,0,technical,medium\\n0.76,0.81,3,225,3,0,0,0,technical,medium\\n0.26,0.9,4,266,5,0,0,0,technical,medium\\n0.84,0.73,3,146,5,1,0,0,technical,high\\n0.74,0.77,3,233,3,0,0,0,technical,low\\n0.53,0.45,4,180,3,0,0,0,technical,medium\\n0.7,0.56,5,208,3,0,0,0,technical,medium\\n0.62,0.69,4,165,4,1,0,0,technical,medium\\n0.71,0.68,4,221,4,0,0,0,technical,medium\\n0.5,0.65,3,215,2,0,0,0,technical,low\\n0.53,0.5,6,264,6,0,0,0,technical,low\\n0.88,0.89,2,160,4,0,0,0,support,low\\n0.79,0.83,2,192,3,0,0,0,support,low\\n0.69,0.89,5,201,2,0,0,0,support,low\\n0.57,0.96,4,264,2,0,0,0,support,low\\n0.68,0.8,4,186,3,1,0,0,support,low\\n0.6,0.82,4,272,3,0,0,0,support,low\\n0.7,0.9,4,216,3,0,0,0,support,low\\n0.71,0.76,4,142,2,1,0,0,support,low\\n0.49,0.51,4,133,3,0,0,0,support,low\\n0.74,0.7,4,260,2,0,0,0,support,low\\n0.2,0.93,4,101,5,0,0,0,support,low\\n0.57,0.5,4,230,2,0,0,0,technical,low\\n0.83,0.48,3,242,4,0,0,0,technical,low\\n0.22,0.64,3,193,2,0,0,0,technical,low\\n0.67,0.57,2,234,4,0,0,0,management,low\\n0.54,0.84,3,132,3,0,0,0,IT,low\\n0.54,0.53,4,183,3,0,0,0,IT,low\\n0.64,0.61,4,191,4,0,0,0,IT,low\\n0.23,0.84,5,140,4,0,0,0,IT,low\\n0.88,0.87,5,257,3,0,0,0,IT,medium\\n0.83,0.54,4,219,3,0,0,0,product_mng,medium\\n0.88,0.67,5,141,2,0,0,0,product_mng,medium\\n0.9,0.85,5,162,2,0,0,0,product_mng,medium\\n0.49,0.61,3,181,3,0,0,0,product_mng,medium\\n0.55,0.49,3,191,3,0,0,0,IT,medium\\n0.92,0.69,4,149,6,1,0,0,RandD,medium\\n0.72,0.67,3,164,4,0,0,0,RandD,medium\\n0.63,0.5,4,235,3,0,0,0,RandD,medium\\n0.98,0.66,3,199,3,0,0,0,RandD,medium\\n0.76,0.52,3,248,3,0,0,0,RandD,medium\\n0.42,0.56,2,103,3,1,0,0,marketing,medium\\n0.58,0.65,4,248,4,0,0,0,marketing,high\\n0.85,0.82,3,153,3,1,0,0,sales,low\\n0.67,0.95,4,241,4,0,0,0,accounting,medium\\n0.58,1,4,258,3,0,0,0,support,medium\\n0.84,0.76,5,172,5,1,0,0,technical,medium\\n0.56,0.68,3,149,2,0,0,0,management,medium\\n0.63,0.83,4,217,3,0,0,0,marketing,low\\n0.51,0.92,3,243,3,0,0,0,marketing,low\\n0.95,0.81,5,120,3,0,0,0,marketing,low\\n0.85,0.55,3,137,3,1,0,0,sales,low\\n0.73,0.78,5,150,3,0,0,0,sales,low\\n0.2,0.49,5,199,5,0,0,0,sales,low\\n0.78,0.79,3,203,2,0,0,0,sales,low\\n0.83,0.8,3,273,3,0,0,0,sales,low\\n0.87,0.56,2,214,3,1,0,0,sales,low\\n0.98,0.99,5,141,3,0,0,0,sales,low\\n1,0.81,5,243,3,0,0,0,sales,low\\n0.7,0.55,4,159,3,0,0,0,sales,low\\n0.62,0.88,5,146,3,0,0,0,sales,low\\n0.67,0.72,4,159,2,0,0,0,sales,low\\n0.86,0.96,4,196,3,0,0,0,sales,low\\n0.44,0.57,5,183,2,1,0,0,sales,low\\n0.19,0.86,4,192,4,0,0,0,sales,low\\n0.76,0.83,4,246,2,0,0,0,sales,low\\n0.89,0.93,5,191,4,0,0,0,sales,low\\n0.25,0.97,3,158,3,0,0,0,sales,low\\n0.68,1,4,167,2,0,0,0,sales,low\\n0.38,0.5,2,187,2,1,0,0,sales,medium\\n0.64,0.95,4,199,4,0,0,0,accounting,medium\\n0.76,0.62,4,157,3,0,0,0,accounting,medium\\n0.26,0.45,2,157,3,0,0,0,accounting,medium\\n0.69,0.67,3,178,2,0,0,0,hr,medium\\n0.98,0.66,3,154,2,0,0,0,hr,medium\\n0.86,0.83,5,208,2,1,0,0,hr,medium\\n0.14,0.68,4,273,5,1,0,0,hr,medium\\n0.58,0.63,4,159,3,0,0,0,technical,medium\\n0.63,0.97,4,234,2,0,0,0,technical,medium\\n0.7,0.91,5,139,3,1,0,0,technical,medium\\n0.73,0.62,4,210,4,0,0,0,technical,medium\\n0.89,0.52,3,164,3,0,0,0,technical,high\\n0.17,0.61,3,241,5,1,0,0,technical,low\\n0.86,0.73,5,259,2,0,0,0,technical,medium\\n0.59,0.73,3,159,3,1,0,0,technical,medium\\n0.22,0.51,4,131,2,0,0,0,technical,medium\\n0.55,0.57,3,266,2,0,0,0,technical,medium\\n0.74,0.6,3,153,2,0,0,0,technical,low\\n0.55,0.54,3,253,2,0,0,0,support,low\\n0.67,0.94,4,141,2,1,0,0,support,low\\n0.64,0.8,3,199,3,0,0,0,support,low\\n0.58,0.71,3,205,3,0,0,0,support,low\\n0.9,0.6,4,252,3,0,0,0,support,low\\n0.89,0.9,4,153,3,0,0,0,support,low\\n0.74,0.37,2,171,4,0,0,0,support,low\\n0.78,0.91,5,150,4,0,0,0,support,low\\n0.97,0.53,4,247,3,0,0,0,support,low\\n0.52,0.92,4,150,2,1,0,0,support,low\\n0.99,0.86,4,206,2,0,0,0,support,low\\n0.76,0.44,4,192,4,1,0,0,technical,low\\n0.69,0.96,5,164,3,0,0,0,technical,low\\n0.59,0.69,3,186,3,0,0,0,technical,low\\n0.95,0.63,3,249,3,0,0,0,management,low\\n0.69,0.81,3,214,2,0,0,0,IT,low\\n0.76,0.75,4,193,4,0,0,0,IT,low\\n0.7,0.84,2,114,4,0,0,0,IT,low\\n0.87,0.6,2,122,2,0,0,0,IT,low\\n0.44,0.55,3,170,3,1,0,0,IT,low\\n0.54,0.91,3,151,3,0,0,0,product_mng,medium\\n0.55,0.75,3,156,3,0,0,0,product_mng,medium\\n0.81,0.75,5,170,3,1,0,0,product_mng,medium\\n0.5,0.55,3,188,2,0,0,0,product_mng,medium\\n0.93,0.74,4,201,3,1,0,0,IT,medium\\n0.64,0.5,6,254,6,0,0,0,RandD,medium\\n0.57,0.78,3,206,4,0,0,0,RandD,medium\\n0.95,0.74,4,216,3,0,0,0,RandD,medium\\n0.86,0.67,5,200,3,0,0,0,RandD,medium\\n0.82,0.58,4,202,2,0,0,0,RandD,medium\\n0.18,0.79,4,217,4,0,0,0,RandD,medium\\n0.58,0.7,5,151,4,0,0,0,marketing,medium\\n0.57,0.56,3,224,2,0,0,0,sales,high\\n0.94,0.83,5,148,3,0,0,0,accounting,low\\n0.2,0.97,6,224,5,1,0,0,support,medium\\n0.73,0.75,2,243,5,1,0,0,technical,medium\\n0.94,0.8,4,238,3,1,0,0,management,medium\\n0.99,0.61,3,254,3,0,0,0,marketing,medium\\n0.22,0.49,4,218,4,0,0,0,marketing,low\\n0.67,0.66,3,237,3,0,0,0,marketing,low\\n0.49,0.67,4,185,2,0,0,0,sales,low\\n0.78,0.95,4,184,3,0,0,0,sales,low\\n0.15,0.74,2,176,3,1,0,0,sales,low\\n0.91,0.89,4,260,3,0,0,0,sales,low\\n0.7,0.78,4,254,4,0,0,0,sales,low\\n0.6,0.95,3,221,3,0,0,0,sales,low\\n0.59,0.57,5,257,2,0,0,0,sales,low\\n0.59,0.93,3,265,3,1,0,0,sales,low\\n0.55,0.64,3,138,3,1,0,0,sales,low\\n0.42,0.75,3,163,2,1,0,0,sales,low\\n0.57,0.81,3,144,3,0,0,0,sales,low\\n0.72,0.51,3,146,2,1,0,0,sales,low\\n0.83,0.81,3,242,6,0,0,0,sales,low\\n0.89,0.93,4,249,3,0,0,0,sales,low\\n0.55,0.59,3,245,3,0,0,0,sales,low\\n0.53,0.75,4,201,2,0,0,0,sales,low\\n0.74,0.59,4,177,4,1,0,0,sales,medium\\n0.63,0.98,4,160,2,0,0,0,sales,medium\\n0.63,0.4,6,177,2,1,0,0,sales,medium\\n0.61,0.97,4,153,3,0,0,0,accounting,medium\\n0.76,0.79,3,197,5,0,0,0,accounting,medium\\n0.67,0.82,4,246,4,0,0,0,accounting,medium\\n0.51,0.95,4,258,3,0,0,0,hr,medium\\n0.67,0.55,3,137,3,0,0,0,hr,medium\\n0.16,0.94,3,178,4,0,0,0,hr,medium\\n0.34,0.85,4,123,4,0,0,0,hr,medium\\n0.58,0.73,5,162,3,1,0,0,technical,medium\\n0.5,0.71,5,210,5,0,0,0,technical,medium\\n0.56,0.48,4,197,3,1,0,0,technical,high\\n0.56,0.98,3,220,3,0,0,0,technical,low\\n0.74,0.71,4,133,2,0,0,0,technical,medium\\n0.69,0.99,3,198,2,0,0,0,technical,medium\\n0.15,0.81,4,160,5,0,0,0,technical,medium\\n0.58,0.67,2,180,2,0,0,0,technical,medium\\n0.8,0.79,3,217,3,0,0,0,technical,low\\n0.5,0.57,3,223,3,0,0,0,technical,low\\n0.66,0.92,4,229,2,0,0,0,technical,low\\n0.81,0.78,4,159,3,0,0,0,support,low\\n0.14,0.68,5,253,5,0,0,0,support,low\\n0.92,0.85,3,235,2,0,0,0,support,low\\n0.69,0.91,4,186,3,0,0,0,support,low\\n0.66,0.99,4,263,2,0,0,0,support,low\\n0.85,0.39,4,239,4,0,0,0,support,low\\n0.83,0.69,4,151,2,0,0,0,support,low\\n1,0.49,3,106,4,0,0,0,support,low\\n0.68,0.65,3,183,4,0,0,0,support,low\\n0.26,0.97,3,125,2,0,0,0,support,low\\n0.35,0.41,3,157,2,0,0,0,support,low\\n0.12,0.58,3,241,2,0,0,0,technical,low\\n0.91,0.93,4,184,3,0,0,0,technical,low\\n0.65,0.67,4,144,3,0,0,0,technical,low\\n0.78,0.72,3,255,4,1,0,0,management,low\\n0.61,0.82,3,261,4,0,0,0,IT,low\\n0.64,0.51,4,207,2,0,0,0,IT,low\\n0.58,0.73,4,205,4,0,0,0,IT,low\\n0.63,0.76,4,217,2,1,0,0,IT,medium\\n0.94,0.6,4,215,2,1,0,0,IT,medium\\n0.26,0.81,5,139,4,0,0,0,product_mng,medium\\n0.59,0.69,3,146,3,0,0,0,product_mng,medium\\n0.78,0.8,4,175,3,0,0,0,product_mng,medium\\n0.86,0.64,5,188,3,0,0,0,product_mng,medium\\n0.79,0.73,5,155,3,0,0,0,IT,medium\\n0.89,0.73,4,171,4,0,0,0,RandD,medium\\n0.34,0.99,4,184,3,0,0,0,RandD,medium\\n0.29,0.77,3,164,6,0,0,0,RandD,medium\\n0.71,0.89,3,244,4,0,0,0,RandD,medium\\n0.93,0.58,4,222,2,0,0,0,RandD,medium\\n0.94,0.76,4,231,3,1,0,0,RandD,high\\n0.91,0.72,3,213,3,0,0,0,marketing,low\\n0.71,0.96,4,144,4,0,0,0,sales,medium\\n0.67,0.81,3,221,4,1,0,0,accounting,medium\\n0.54,0.42,3,138,3,1,0,0,support,medium\\n0.89,0.58,3,183,4,0,0,0,technical,medium\\n0.94,0.91,3,250,3,1,0,0,management,low\\n0.15,0.89,3,219,6,0,0,0,marketing,low\\n0.45,0.92,6,164,4,1,0,0,marketing,low\\n0.92,0.67,4,161,4,1,0,0,marketing,low\\n0.63,0.56,4,274,5,1,0,0,sales,low\\n0.8,0.66,4,181,3,1,0,0,sales,low\\n0.45,0.72,3,148,2,0,0,0,sales,low\\n0.72,0.54,3,226,2,1,0,0,sales,low\\n0.84,0.36,6,256,5,0,0,0,sales,low\\n0.61,0.51,3,141,2,0,0,0,sales,low\\n0.63,0.88,3,177,3,0,0,0,sales,low\\n0.49,0.54,4,173,2,0,0,0,sales,low\\n0.68,0.51,2,196,3,0,0,0,sales,low\\n0.64,0.85,5,179,2,0,0,0,sales,low\\n0.61,0.64,4,201,3,0,0,0,sales,low\\n0.83,0.55,5,247,3,0,0,0,sales,low\\n0.94,0.51,5,238,2,0,0,0,sales,low\\n0.27,0.66,3,133,6,0,0,0,sales,low\\n0.6,0.49,2,194,4,0,0,0,sales,low\\n0.83,0.69,4,232,2,0,0,0,sales,low\\n0.53,0.75,3,232,3,0,0,0,sales,low\\n0.79,0.97,4,204,3,0,0,0,sales,medium\\n0.96,0.49,4,252,3,1,0,0,sales,medium\\n0.5,0.56,3,164,3,0,0,0,accounting,medium\\n0.68,0.81,5,266,2,0,0,0,accounting,medium\\n0.24,0.54,4,226,4,1,0,0,accounting,medium\\n0.8,0.8,4,252,6,0,0,0,hr,medium\\n0.62,0.74,4,155,3,0,0,0,hr,medium\\n1,0.85,3,202,2,0,0,0,hr,medium\\n0.64,0.75,3,214,3,0,0,0,hr,medium\\n0.51,0.55,4,267,3,0,0,0,technical,medium\\n0.74,0.5,4,265,3,0,0,0,technical,medium\\n0.49,0.99,3,221,2,1,0,0,technical,medium\\n0.96,0.83,4,132,6,0,0,0,technical,high\\n0.59,0.62,4,227,4,1,0,0,technical,low\\n0.84,0.57,4,234,3,0,0,0,technical,medium\\n0.16,0.84,3,238,6,0,0,0,technical,medium\\n0.62,0.75,3,149,2,1,0,0,technical,medium\\n0.79,0.67,4,152,3,0,0,0,technical,medium\\n0.53,0.83,4,249,3,1,0,0,technical,low\\n0.17,0.48,6,270,5,0,0,0,technical,low\\n0.57,0.76,3,200,2,0,0,0,support,low\\n0.65,0.82,4,207,2,0,0,0,support,low\\n0.69,0.74,4,266,2,1,0,0,support,low\\n0.3,0.8,6,250,3,0,0,0,support,low\\n0.99,0.92,3,220,3,0,0,0,support,low\\n0.5,0.69,4,177,2,0,0,0,support,low\\n0.54,0.96,3,147,2,0,0,0,support,medium\\n0.69,0.57,4,227,4,0,0,0,support,medium\\n0.5,0.85,4,272,2,0,0,0,support,medium\\n0.66,0.73,3,244,3,0,0,0,support,medium\\n1,0.93,5,182,3,1,0,0,support,medium\\n0.15,0.61,3,146,6,1,0,0,technical,medium\\n0.31,0.54,5,259,5,1,0,0,technical,medium\\n0.65,0.49,4,184,4,0,0,0,technical,medium\\n0.72,0.69,4,149,2,0,0,0,management,medium\\n0.84,0.85,4,185,3,1,0,0,IT,medium\\n0.55,0.8,3,254,2,0,0,0,IT,medium\\n0.6,0.58,4,249,3,0,0,0,IT,medium\\n0.84,0.48,4,269,2,0,0,0,IT,medium\\n0.68,0.87,3,168,3,0,0,0,IT,medium\\n0.13,1,6,225,3,0,0,0,product_mng,medium\\n0.88,0.98,3,160,2,0,0,0,product_mng,medium\\n0.64,0.57,5,149,3,1,0,0,product_mng,medium\\n0.19,0.95,5,193,3,0,0,0,product_mng,medium\\n0.83,0.88,5,171,3,1,0,0,IT,medium\\n0.17,0.41,4,232,3,1,0,0,RandD,medium\\n0.44,0.74,4,250,6,0,0,0,RandD,medium\\n0.52,0.55,4,243,2,0,0,0,RandD,medium\\n0.66,0.62,4,250,2,0,0,0,RandD,medium\\n0.96,0.55,4,153,3,0,0,0,RandD,medium\\n0.19,0.5,5,126,3,1,0,0,RandD,medium\\n0.86,1,3,192,3,0,0,0,marketing,high\\n0.65,0.57,3,137,4,1,0,0,sales,high\\n0.61,0.97,3,199,3,1,0,0,accounting,high\\n0.53,0.96,3,181,3,1,0,0,support,high\\n0.14,0.76,5,260,6,0,0,0,technical,high\\n0.74,1,4,199,4,0,0,0,management,high\\n0.47,0.62,6,171,5,1,0,0,marketing,high\\n0.6,0.56,4,260,3,0,0,0,marketing,high\\n0.81,0.58,3,243,4,0,0,0,marketing,high\\n0.95,0.59,2,154,4,0,0,0,sales,high\\n0.98,0.8,2,201,2,0,0,0,sales,high\\n0.52,0.8,5,234,3,0,0,0,sales,high\\n1,0.97,3,216,3,1,0,0,sales,low\\n0.16,0.74,5,205,4,1,0,0,sales,low\\n0.19,0.83,3,225,4,0,0,0,sales,low\\n0.94,0.87,3,229,3,0,0,0,sales,low\\n0.58,0.43,6,132,3,0,0,0,sales,low\\n0.92,0.69,4,180,3,0,0,0,sales,low\\n0.65,0.8,4,164,4,0,0,0,sales,low\\n0.74,0.74,5,175,3,0,0,0,sales,low\\n0.6,0.53,5,103,2,0,0,0,sales,low\\n1,1,5,142,4,0,0,0,sales,low\\n0.81,0.96,4,212,3,0,0,0,sales,low\\n0.54,0.67,2,129,3,1,0,0,sales,low\\n0.18,0.81,5,140,4,0,0,0,sales,low\\n0.82,0.88,4,149,2,0,0,0,sales,low\\n0.9,0.96,2,258,2,0,0,0,sales,low\\n0.62,0.62,4,136,2,0,0,0,sales,medium\\n0.77,0.76,2,216,3,1,0,0,accounting,medium\\n0.58,0.86,3,151,2,0,0,0,accounting,medium\\n0.27,0.47,5,217,6,0,0,0,accounting,medium\\n0.78,0.72,4,219,3,0,0,0,hr,medium\\n0.98,0.66,3,150,3,0,0,0,hr,medium\\n0.75,0.5,4,98,4,0,0,0,hr,medium\\n0.74,0.67,5,140,3,0,0,0,hr,medium\\n0.9,0.99,3,259,3,1,0,0,technical,medium\\n0.73,0.71,5,215,6,1,0,0,technical,medium\\n0.9,0.62,4,258,3,0,0,0,technical,medium\\n0.68,0.91,4,162,3,1,0,0,technical,medium\\n0.9,0.74,3,260,4,0,0,0,technical,high\\n0.64,0.93,5,198,2,0,0,0,technical,high\\n0.63,0.9,2,242,3,1,0,0,technical,high\\n0.87,0.89,4,219,4,0,0,0,technical,high\\n0.6,0.55,4,204,3,0,0,0,technical,high\\n0.7,0.74,3,157,3,0,0,0,technical,high\\n0.15,0.94,5,244,6,0,0,0,technical,high\\n0.45,0.75,3,122,3,0,0,0,support,high\\n0.43,0.9,5,282,5,0,0,0,support,low\\n0.92,0.46,5,195,5,0,0,0,support,low\\n0.72,0.81,4,134,2,0,0,0,support,low\\n0.94,0.84,3,210,2,0,0,0,support,low\\n0.74,0.52,3,170,3,0,0,0,support,low\\n0.48,0.71,2,140,3,1,0,0,support,low\\n0.84,0.76,5,215,2,1,0,0,support,low\\n0.53,0.86,3,150,3,0,0,0,support,low\\n0.45,0.88,5,268,3,1,0,0,support,medium\\n0.95,0.67,4,270,4,0,0,0,support,medium\\n0.95,0.58,3,163,3,0,0,0,technical,medium\\n0.7,0.85,3,188,2,0,0,0,technical,medium\\n0.19,0.93,3,110,4,0,0,0,technical,medium\\n0.74,0.91,5,135,3,0,0,0,management,medium\\n0.54,0.59,4,228,3,0,0,0,IT,medium\\n0.5,0.69,5,172,2,0,0,0,IT,medium\\n0.95,0.72,3,168,5,0,0,0,IT,medium\\n0.69,0.69,5,160,3,0,0,0,IT,medium\\n0.24,0.74,5,282,3,0,0,0,IT,medium\\n0.96,0.7,5,184,2,1,0,0,product_mng,medium\\n0.61,0.5,4,217,4,1,0,0,product_mng,medium\\n0.76,0.53,6,281,3,0,0,0,product_mng,medium\\n0.61,0.64,3,245,2,0,0,0,product_mng,medium\\n0.37,0.48,2,285,5,0,0,0,IT,medium\\n0.81,0.9,4,165,3,0,0,0,RandD,medium\\n0.59,0.9,3,146,3,0,0,0,RandD,medium\\n0.73,0.82,3,133,3,0,0,0,RandD,medium\\n0.87,0.57,2,181,6,0,0,0,RandD,medium\\n0.67,0.66,6,152,3,0,0,0,RandD,medium\\n0.96,0.78,2,284,3,0,0,0,RandD,medium\\n0.98,0.51,3,157,3,0,0,0,marketing,medium\\n0.5,0.58,4,165,2,0,0,0,sales,high\\n0.49,0.71,3,255,2,1,0,0,accounting,low\\n0.13,0.65,4,194,4,0,0,0,support,medium\\n0.57,0.68,3,102,6,0,0,0,technical,medium\\n0.51,0.94,4,247,2,0,0,0,management,medium\\n0.99,0.69,3,206,2,0,0,0,marketing,medium\\n0.8,0.77,3,171,2,0,0,0,marketing,medium\\n0.56,0.39,5,263,4,0,0,0,marketing,medium\\n0.96,0.84,4,272,4,1,0,0,sales,medium\\n0.96,0.5,3,158,2,1,0,0,sales,medium\\n0.87,0.53,6,216,6,1,0,0,sales,medium\\n0.61,0.9,5,113,3,0,0,0,sales,medium\\n0.18,0.6,3,140,4,0,0,0,sales,low\\n0.24,0.77,5,178,5,0,0,0,sales,low\\n0.86,0.48,4,153,3,0,0,0,sales,low\\n0.25,0.62,6,271,5,0,0,0,sales,low\\n0.25,0.82,3,269,5,0,0,0,sales,low\\n0.63,0.55,3,160,3,0,0,0,sales,low\\n0.89,0.68,4,258,2,1,0,0,sales,low\\n0.87,0.82,4,251,3,0,0,0,sales,high\\n0.87,0.78,3,170,2,0,0,0,sales,low\\n0.71,0.99,4,238,4,1,0,0,sales,high\\n0.98,0.87,4,152,2,0,0,0,sales,high\\n0.16,0.51,3,262,6,0,0,0,sales,low\\n0.83,0.68,4,273,2,0,0,0,sales,low\\n0.65,0.77,3,233,2,0,0,0,sales,high\\n0.95,0.64,3,262,3,0,0,0,sales,low\\n0.67,0.67,3,183,3,0,0,0,accounting,medium\\n0.53,0.88,3,150,3,1,0,0,accounting,high\\n0.74,0.94,3,132,3,0,0,0,accounting,medium\\n0.77,0.79,3,200,4,0,0,0,hr,medium\\n0.13,0.72,4,148,5,0,0,0,hr,medium\\n0.82,0.92,3,187,3,1,0,0,hr,medium\\n0.88,0.65,4,224,2,0,0,0,hr,high\\n0.89,0.5,4,147,2,0,0,0,technical,medium\\n0.85,0.51,3,153,4,0,0,0,technical,medium\\n0.93,0.87,5,154,2,0,0,0,technical,medium\\n0.62,0.7,5,270,3,0,0,0,technical,high\\n0.58,0.96,3,202,2,0,0,0,technical,medium\\n0.98,0.5,4,264,3,0,0,0,technical,high\\n0.52,0.45,2,145,3,0,0,0,technical,low\\n0.76,0.49,3,138,2,1,0,0,technical,medium\\n0.73,0.91,3,238,2,0,0,0,technical,medium\\n0.74,0.64,4,147,5,0,0,0,technical,medium\\n0.49,0.48,3,190,2,0,0,0,technical,medium\\n0.91,0.97,4,183,3,0,0,0,support,low\\n0.74,0.92,5,255,3,0,0,0,support,low\\n0.86,0.82,4,252,4,0,0,0,support,low\\n0.52,0.47,6,141,5,1,0,0,support,low\\n0.95,0.81,3,260,2,0,0,0,support,low\\n0.65,0.98,3,136,3,0,0,0,support,low\\n0.7,0.56,4,182,2,0,0,0,support,low\\n0.14,0.66,6,142,5,0,0,0,support,low\\n0.92,0.53,2,261,4,0,0,0,support,low\\n0.54,0.6,3,209,2,0,0,0,support,low\\n0.76,0.95,2,156,4,0,0,0,support,high\\n0.78,0.66,4,214,2,0,0,0,technical,low\\n0.85,0.86,4,250,3,0,0,0,technical,low\\n0.78,0.8,4,197,3,1,0,0,technical,low\\n0.55,0.72,3,149,3,0,0,0,management,low\\n0.68,0.61,5,271,2,0,0,0,IT,high\\n0.91,0.68,4,187,2,0,0,0,IT,low\\n0.76,0.56,3,154,2,0,0,0,IT,low\\n0.15,0.67,4,264,3,0,0,0,IT,low\\n0.95,0.6,2,144,3,0,0,0,IT,high\\n0.74,0.37,6,200,3,0,0,0,product_mng,low\\n0.92,0.56,5,197,2,1,0,0,product_mng,medium\\n0.64,0.89,3,175,3,1,0,0,product_mng,high\\n0.96,0.9,3,161,3,0,0,0,product_mng,medium\\n0.21,0.72,3,245,6,0,0,0,IT,high\\n0.85,0.67,3,167,4,0,0,0,RandD,medium\\n0.52,0.86,5,168,3,0,0,0,RandD,medium\\n0.54,0.81,5,261,6,0,0,0,RandD,medium\\n0.56,0.81,5,274,4,0,0,0,RandD,medium\\n0.59,0.79,4,181,3,0,0,0,RandD,medium\\n0.88,0.58,5,266,3,1,0,0,marketing,medium\\n0.7,0.84,4,184,3,0,0,0,sales,medium\\n0.95,0.58,3,193,2,0,0,0,accounting,medium\\n0.83,0.88,3,217,2,1,0,0,support,high\\n0.76,0.62,4,197,3,0,0,0,technical,low\\n0.82,0.92,5,252,3,0,0,0,management,medium\\n0.55,0.97,4,136,3,0,0,0,marketing,medium\\n0.89,0.55,5,194,4,0,0,0,marketing,medium\\n0.66,0.94,4,190,3,0,0,0,marketing,medium\\n0.41,0.61,3,185,2,1,0,0,sales,medium\\n0.83,0.77,3,232,2,1,0,0,sales,medium\\n0.88,0.72,3,200,2,1,0,0,sales,medium\\n0.56,0.66,5,155,2,0,0,0,sales,medium\\n0.53,0.72,3,228,3,0,0,0,sales,medium\\n0.8,0.41,3,188,4,0,0,0,sales,high\\n0.95,0.78,4,245,3,0,0,0,sales,low\\n0.9,0.88,4,205,2,0,0,0,sales,low\\n0.5,0.97,4,269,3,0,0,0,sales,low\\n0.4,0.59,3,207,6,0,0,0,sales,high\\n0.52,0.85,3,250,4,0,0,0,sales,low\\n0.51,0.5,5,251,3,1,0,0,sales,low\\n0.84,0.62,5,217,3,0,0,0,sales,low\\n0.78,0.98,5,252,3,0,0,0,sales,high\\n0.91,0.71,2,159,3,1,0,0,sales,low\\n0.59,0.71,5,169,2,0,0,0,sales,low\\n0.69,0.97,5,105,4,0,0,0,sales,low\\n0.87,0.93,4,268,2,0,0,0,sales,low\\n0.66,1,5,145,2,0,0,0,sales,low\\n0.5,0.54,4,165,3,0,0,0,accounting,low\\n0.95,0.75,3,253,4,0,0,0,accounting,low\\n0.77,0.64,3,254,3,0,0,0,accounting,medium\\n0.66,0.5,3,218,2,0,0,0,hr,medium\\n0.61,0.98,3,138,5,1,0,0,hr,medium\\n0.7,0.87,5,239,3,0,0,0,hr,medium\\n0.89,0.71,5,182,2,1,0,0,hr,medium\\n0.6,0.78,4,152,3,1,0,0,technical,medium\\n0.62,0.51,3,222,3,1,0,0,technical,medium\\n0.59,0.9,2,219,2,1,0,0,technical,medium\\n0.69,0.59,4,266,4,0,0,0,technical,medium\\n0.36,0.94,3,113,5,1,0,0,technical,medium\\n0.59,0.93,4,146,3,0,0,0,technical,medium\\n0.5,0.51,5,238,4,0,0,0,technical,medium\\n0.53,0.99,3,188,3,0,0,0,technical,high\\n0.84,0.9,4,237,2,0,0,0,technical,low\\n0.51,0.95,4,201,3,0,0,0,technical,medium\\n0.53,0.56,5,188,3,0,0,0,technical,medium\\n0.98,0.63,3,137,3,0,0,0,support,medium\\n0.95,0.81,4,263,3,0,0,0,support,medium\\n0.13,0.76,5,217,3,0,0,0,support,low\\n0.5,0.64,4,213,4,0,0,0,support,low\\n0.93,0.76,3,244,3,0,0,0,support,low\\n0.5,0.87,3,252,2,0,0,0,support,low\\n0.66,0.84,4,168,2,0,0,0,support,low\\n0.89,0.79,4,212,3,0,0,0,support,low\\n0.46,0.43,4,258,3,0,0,0,support,low\\n0.67,0.6,4,210,3,0,0,0,support,low\\n0.96,0.9,4,246,3,0,0,0,support,low\\n0.98,0.76,4,221,3,1,0,0,technical,low\\n0.67,0.57,5,215,4,0,0,0,technical,low\\n0.72,0.72,4,175,4,0,0,0,technical,low\\n0.65,0.49,5,221,2,0,0,0,management,low\\n0.72,0.67,5,219,3,0,0,0,IT,low\\n0.78,0.58,3,154,3,0,0,0,IT,low\\n0.93,0.56,3,266,2,0,0,0,IT,low\\n0.73,0.85,5,224,4,0,0,0,IT,low\\n0.2,0.57,4,269,5,1,0,0,IT,low\\n0.47,0.5,4,159,2,0,0,0,product_mng,low\\n0.56,0.62,4,247,3,0,0,0,product_mng,low\\n0.72,0.86,4,137,2,0,0,0,product_mng,low\\n0.91,0.56,4,251,4,0,0,0,product_mng,medium\\n0.79,0.49,5,210,3,0,0,0,IT,medium\\n0.53,0.75,2,123,4,0,0,0,RandD,medium\\n0.14,0.51,4,253,6,0,0,0,RandD,medium\\n0.78,0.92,5,242,4,0,0,0,RandD,medium\\n0.52,0.74,3,238,3,0,0,0,RandD,medium\\n0.94,0.68,5,151,2,0,0,0,RandD,medium\\n0.83,0.8,4,158,4,0,0,0,marketing,medium\\n0.44,0.68,2,120,2,0,0,0,marketing,medium\\n0.72,0.74,3,187,2,0,0,0,sales,medium\\n0.84,0.58,3,140,3,0,0,0,accounting,medium\\n0.76,0.99,3,164,2,0,0,0,support,medium\\n0.92,0.94,5,253,2,0,0,0,technical,high\\n0.58,0.93,5,235,2,0,0,0,management,low\\n0.85,0.81,4,189,4,0,0,0,marketing,medium\\n0.74,0.51,4,246,3,1,0,0,marketing,medium\\n0.74,0.87,4,258,2,0,0,0,marketing,medium\\n0.72,0.8,3,158,3,0,0,0,sales,medium\\n0.76,0.98,4,173,3,1,0,0,sales,low\\n0.85,0.72,3,201,3,0,0,0,sales,low\\n0.82,0.49,5,185,3,0,0,0,sales,low\\n0.6,0.93,5,270,3,1,0,0,sales,low\\n0.39,0.64,3,152,2,0,0,0,sales,low\\n0.83,0.53,3,211,4,1,0,0,sales,low\\n0.7,0.92,3,162,3,1,0,0,sales,low\\n0.84,0.97,4,253,2,1,0,0,sales,low\\n0.9,0.77,4,236,3,0,0,0,sales,low\\n0.18,0.84,4,231,5,0,0,0,sales,low\\n0.52,0.71,2,231,2,0,0,0,sales,low\\n0.87,0.51,4,233,3,0,0,0,sales,low\\n0.6,0.79,5,217,2,0,0,0,sales,low\\n0.72,0.93,4,174,2,0,0,0,sales,low\\n0.48,0.64,4,227,3,0,0,0,sales,low\\n0.75,0.53,3,222,2,0,0,0,sales,low\\n0.85,0.55,2,207,6,0,0,0,sales,low\\n0.39,0.41,6,115,3,0,0,0,sales,low\\n0.61,0.68,3,254,2,0,0,0,accounting,low\\n0.6,0.61,4,170,3,0,0,0,accounting,low\\n0.57,0.64,2,206,3,0,0,0,accounting,low\\n0.19,0.68,5,149,3,0,0,0,hr,medium\\n0.48,0.77,3,197,3,0,0,0,hr,medium\\n0.69,0.75,4,261,3,0,0,0,hr,medium\\n0.7,0.55,4,256,4,0,0,0,hr,medium\\n0.65,0.92,3,219,3,0,0,0,technical,medium\\n0.81,0.96,4,143,3,1,0,0,technical,medium\\n0.85,0.95,4,171,3,0,0,0,technical,medium\\n0.93,0.76,4,207,2,0,0,0,technical,medium\\n0.72,0.94,4,235,3,0,0,0,technical,medium\\n0.49,0.55,2,173,3,0,0,0,technical,medium\\n0.94,0.47,5,131,6,0,0,0,technical,medium\\n0.81,0.84,4,143,2,0,0,0,technical,medium\\n0.92,0.78,5,193,4,0,0,0,technical,high\\n0.97,0.82,3,135,2,0,0,0,technical,low\\n0.98,0.61,4,265,2,1,0,0,technical,medium\\n0.44,0.45,3,133,2,1,0,0,support,medium\\n0.72,0.87,4,184,4,0,0,0,support,medium\\n0.8,0.73,5,135,3,0,0,0,support,medium\\n0.6,0.72,4,267,4,0,0,0,support,low\\n0.89,0.65,4,184,3,0,0,0,support,low\\n0.69,0.57,5,227,2,0,0,0,support,low\\n0.54,0.81,4,257,2,0,0,0,support,low\\n0.97,0.75,5,235,3,1,0,0,support,low\\n0.37,0.4,4,161,2,0,0,0,support,low\\n0.73,0.52,4,215,3,0,0,0,support,low\\n0.57,0.69,4,146,3,0,0,0,support,low\\n0.86,0.66,4,191,2,0,0,0,technical,low\\n0.83,0.85,4,261,3,0,0,0,technical,low\\n0.19,0.52,5,200,5,0,0,0,technical,low\\n0.55,0.93,4,239,4,0,0,0,management,low\\n0.6,0.65,4,160,2,0,0,0,IT,low\\n0.62,0.71,3,177,3,1,0,0,IT,low\\n0.65,0.55,5,215,2,0,0,0,IT,low\\n0.4,0.48,4,97,2,0,0,0,IT,low\\n0.82,0.78,5,231,2,1,0,0,IT,low\\n0.75,0.69,2,257,2,1,0,0,product_mng,low\\n0.83,0.53,3,232,3,1,0,0,product_mng,low\\n0.77,0.78,4,212,3,0,0,0,product_mng,low\\n0.59,0.98,4,198,3,0,0,0,product_mng,low\\n0.8,0.79,5,240,4,0,0,0,IT,medium\\n0.84,0.55,3,242,3,0,0,0,RandD,medium\\n0.88,0.71,4,250,3,0,0,0,RandD,medium\\n0.37,0.9,3,229,6,0,0,0,RandD,medium\\n0.88,0.66,4,133,2,0,0,0,RandD,medium\\n0.69,0.85,3,200,2,0,0,0,RandD,medium\\n0.54,0.49,2,155,2,1,0,0,marketing,medium\\n0.76,0.57,5,139,4,0,0,0,sales,medium\\n0.51,0.58,4,272,3,0,0,0,accounting,medium\\n0.16,0.52,3,100,4,0,0,0,support,medium\\n0.65,0.6,5,160,3,0,0,0,technical,medium\\n0.54,0.81,5,195,4,0,0,0,management,medium\\n0.66,0.68,4,152,3,0,0,0,marketing,high\\n0.95,0.65,5,182,3,0,0,0,marketing,low\\n0.83,0.57,3,137,2,0,0,0,marketing,medium\\n0.98,0.84,4,182,3,0,0,0,sales,medium\\n0.72,0.72,3,217,2,0,0,0,sales,medium\\n0.71,0.62,4,192,4,0,0,0,sales,medium\\n0.36,0.65,3,116,2,1,0,0,sales,low\\n0.55,0.65,4,170,4,0,0,0,sales,low\\n0.64,0.52,3,223,3,0,0,0,sales,low\\n0.62,0.57,3,174,2,0,0,0,sales,low\\n1,0.95,3,193,6,0,0,0,sales,low\\n0.91,0.91,6,167,2,1,0,0,sales,low\\n0.81,0.67,4,225,3,0,0,0,sales,low\\n0.71,0.92,4,248,3,1,0,0,sales,low\\n0.97,0.74,3,104,5,0,0,0,sales,low\\n0.75,0.86,6,148,4,0,0,0,sales,low\\n0.68,1,3,148,4,1,0,0,sales,low\\n0.87,0.68,5,187,3,0,0,0,sales,low\\n0.96,0.57,3,151,2,0,0,0,sales,low\\n0.41,0.86,6,215,5,0,0,0,sales,low\\n0.81,0.61,4,142,4,0,0,0,sales,low\\n0.68,1,6,258,5,0,0,0,sales,low\\n0.63,0.56,4,228,3,0,0,0,accounting,low\\n0.6,0.84,2,221,3,0,0,0,accounting,low\\n0.66,0.97,3,263,3,0,0,0,accounting,medium\\n0.69,0.82,4,273,4,0,0,0,hr,medium\\n0.23,0.37,3,247,4,0,0,0,hr,medium\\n0.52,0.63,3,225,3,0,0,0,hr,medium\\n0.65,0.86,4,269,2,1,0,0,hr,medium\\n0.78,0.4,6,174,3,0,0,0,technical,medium\\n0.6,0.65,5,201,2,0,0,0,technical,medium\\n0.9,0.62,3,254,3,0,0,0,technical,medium\\n0.59,0.95,5,254,2,0,0,0,technical,medium\\n0.89,0.78,3,185,2,1,0,0,technical,medium\\n0.96,0.85,4,200,4,0,0,0,technical,medium\\n0.68,0.76,3,190,3,1,0,0,technical,medium\\n0.52,0.72,2,160,2,0,0,0,technical,high\\n0.68,0.94,3,264,2,0,0,0,technical,low\\n0.6,0.59,3,172,3,0,0,0,technical,medium\\n0.28,0.83,5,279,4,0,0,0,technical,medium\\n0.98,0.54,5,260,3,0,0,0,support,medium\\n0.67,0.52,4,262,2,0,0,0,support,medium\\n0.86,0.6,5,134,2,1,0,0,support,low\\n0.83,0.9,3,195,3,0,0,0,support,low\\n0.79,0.86,3,139,3,0,0,0,support,low\\n0.54,0.86,4,205,5,0,0,0,support,low\\n0.51,0.86,5,212,2,0,0,0,support,low\\n0.75,0.65,4,148,2,0,0,0,support,low\\n0.51,0.67,4,228,3,0,0,0,support,low\\n0.73,0.74,5,230,3,0,0,0,support,low\\n0.17,0.4,4,286,3,0,0,0,support,low\\n0.88,0.59,4,142,3,0,0,0,technical,low\\n0.76,0.79,3,161,3,0,0,0,technical,low\\n0.29,0.77,3,152,3,1,0,0,technical,low\\n0.62,0.97,4,266,3,0,0,0,management,low\\n0.5,0.85,2,143,3,0,0,0,IT,low\\n0.16,0.65,5,165,3,0,0,0,IT,low\\n0.18,0.99,4,204,6,0,0,0,IT,low\\n0.86,0.68,4,170,2,0,0,0,IT,low\\n0.68,0.52,5,203,3,0,0,0,IT,low\\n0.68,0.85,3,199,3,0,0,0,product_mng,low\\n0.89,0.78,4,223,3,0,0,0,product_mng,low\\n0.86,0.88,4,220,2,0,0,0,product_mng,low\\n0.43,0.41,4,190,3,0,0,0,product_mng,medium\\n0.85,0.58,4,143,6,1,0,0,IT,medium\\n0.94,0.8,5,111,4,0,0,1,RandD,medium\\n0.58,0.71,4,145,3,1,0,1,RandD,medium\\n0.43,0.6,3,138,3,0,0,1,RandD,medium\\n0.72,0.49,3,203,3,0,0,1,RandD,medium\\n0.95,0.96,5,175,3,1,0,1,RandD,medium\\n0.35,0.67,3,119,3,0,0,1,marketing,medium\\n0.77,0.79,3,157,3,0,0,1,sales,medium\\n0.74,0.7,5,135,2,0,0,1,accounting,medium\\n0.5,0.6,4,200,2,0,0,1,support,medium\\n0.87,0.56,4,121,2,0,0,1,technical,medium\\n0.55,0.48,3,162,3,0,0,1,management,high\\n0.8,0.65,3,135,3,0,0,1,marketing,low\\n0.49,0.52,4,183,2,0,0,1,marketing,medium\\n0.54,0.92,4,228,3,0,0,1,marketing,medium\\n0.21,0.87,4,148,5,0,0,0,sales,medium\\n0.77,0.77,3,219,2,0,0,0,sales,medium\\n0.53,0.73,4,147,3,0,0,0,sales,low\\n0.89,0.49,5,165,6,0,0,0,sales,low\\n0.25,0.59,4,218,3,1,0,0,sales,low\\n0.53,0.59,3,231,2,0,0,0,sales,low\\n0.44,0.45,2,124,3,0,0,0,sales,low\\n0.7,0.44,2,131,2,0,0,0,sales,low\\n0.54,0.76,3,199,4,0,0,0,sales,low\\n0.9,0.56,3,220,3,0,0,0,sales,low\\n0.69,0.8,5,215,3,0,0,0,sales,low\\n0.78,0.59,4,180,3,0,0,0,sales,low\\n0.91,0.49,6,272,6,0,0,0,sales,low\\n0.92,0.61,2,228,2,0,0,0,sales,low\\n0.96,0.88,3,168,2,0,0,0,sales,low\\n0.8,0.77,4,205,2,0,0,0,sales,low\\n0.52,0.67,3,244,3,0,0,0,sales,low\\n0.52,0.97,3,185,2,0,0,0,sales,low\\n0.93,0.96,5,135,3,1,0,0,sales,low\\n0.89,0.9,4,160,2,0,0,0,accounting,low\\n0.83,0.61,4,262,4,0,0,0,accounting,low\\n0.7,0.84,6,225,6,0,0,0,accounting,low\\n0.89,0.74,4,174,2,0,0,0,hr,low\\n0.21,0.37,6,266,3,0,0,1,hr,medium\\n0.67,0.78,4,241,4,0,0,1,hr,medium\\n0.73,0.97,3,245,2,0,0,1,hr,medium\\n0.85,0.51,3,261,4,0,0,1,technical,medium\\n0.54,0.85,4,157,3,0,0,1,technical,medium\\n0.74,0.94,3,286,6,0,0,1,technical,medium\\n0.71,0.65,4,263,2,1,0,1,technical,medium\\n0.76,0.52,2,229,3,0,0,1,technical,medium\\n0.85,0.5,4,159,2,0,0,1,technical,medium\\n0.82,0.89,4,196,3,0,0,1,technical,medium\\n0.71,0.79,4,133,3,0,0,1,technical,medium\\n0.79,0.65,5,228,3,0,0,1,technical,medium\\n0.86,0.56,4,247,3,0,0,1,technical,high\\n0.9,0.78,5,215,3,0,0,1,technical,low\\n0.65,0.8,6,233,3,1,0,1,support,medium\\n0.53,0.74,5,237,2,0,0,1,support,medium\\n0.51,0.91,4,269,5,0,0,1,support,medium\\n1,0.76,6,246,3,1,0,1,support,medium\\n0.92,0.82,4,168,3,0,0,1,support,low\\n1,0.59,3,168,3,0,0,1,support,low\\n0.23,0.67,4,163,5,0,0,1,support,low\\n0.52,0.77,3,142,2,0,0,1,support,low\\n0.8,0.83,4,183,2,1,0,1,support,low\\n0.59,0.72,4,264,3,0,0,0,support,low\\n0.75,0.55,2,184,2,0,0,0,support,low\\n0.99,0.58,4,138,3,0,0,0,technical,low\\n0.57,0.76,3,195,3,0,0,0,technical,medium\\n0.87,0.95,4,251,3,0,0,0,technical,medium\\n0.52,0.47,3,108,5,0,0,0,management,medium\\n0.57,0.9,3,144,2,0,0,0,IT,medium\\n0.32,0.77,6,112,4,0,0,0,IT,medium\\n0.66,0.81,2,201,3,0,0,0,IT,medium\\n0.53,0.8,4,204,3,0,0,0,IT,medium\\n0.55,0.62,5,226,3,0,0,0,IT,medium\\n0.66,0.9,3,217,4,0,0,0,product_mng,medium\\n0.69,0.92,4,149,2,0,0,0,product_mng,medium\\n0.67,0.99,5,237,3,0,0,0,product_mng,medium\\n0.75,0.37,3,256,3,0,0,0,product_mng,medium\\n0.7,0.98,4,194,2,0,0,0,IT,medium\\n0.71,0.74,3,202,2,0,0,0,RandD,medium\\n0.97,0.6,5,133,2,0,0,0,RandD,medium\\n0.5,0.48,3,246,3,0,0,0,RandD,medium\\n0.34,0.92,3,206,3,0,0,0,RandD,medium\\n0.67,0.74,3,204,3,0,0,0,RandD,medium\\n0.78,0.98,4,157,3,0,0,0,marketing,medium\\n0.52,0.91,4,187,2,0,0,0,sales,medium\\n0.91,0.51,2,211,2,0,0,0,accounting,medium\\n0.79,0.92,3,204,3,0,0,0,support,medium\\n0.83,0.53,5,182,2,1,0,0,technical,medium\\n0.74,0.76,3,244,3,0,0,0,management,medium\\n0.77,0.97,3,184,3,1,0,0,marketing,medium\\n0.49,0.71,2,117,3,0,0,0,marketing,high\\n0.94,0.89,3,230,3,1,0,0,marketing,high\\n0.99,0.91,3,241,2,0,0,0,sales,high\\n0.69,0.84,3,227,3,1,0,0,sales,high\\n0.88,0.59,5,147,4,0,0,0,sales,high\\n0.89,0.9,3,240,3,0,0,0,sales,high\\n0.8,0.58,4,238,2,0,0,0,sales,high\\n0.22,0.89,4,262,4,0,0,0,sales,high\\n0.87,0.83,4,215,2,0,0,0,sales,high\\n0.66,0.66,3,211,4,0,0,0,sales,high\\n0.9,0.68,3,156,3,1,0,0,sales,high\\n0.95,0.54,4,180,5,0,0,0,sales,high\\n0.49,0.56,4,260,6,0,0,0,sales,low\\n0.71,0.68,4,228,2,0,0,0,sales,low\\n0.2,0.96,2,249,3,0,0,0,sales,low\\n0.95,0.64,3,242,5,1,0,0,sales,low\\n0.68,0.8,2,254,2,1,0,0,sales,low\\n0.93,0.68,3,272,2,1,0,0,sales,low\\n0.85,0.57,5,210,3,0,0,0,sales,low\\n0.82,0.68,3,140,2,0,0,0,sales,low\\n0.87,0.42,5,252,5,0,0,0,sales,low\\n0.88,0.84,3,266,3,0,0,0,accounting,low\\n0.98,0.79,4,138,3,0,0,0,accounting,low\\n0.89,0.98,3,220,3,0,0,0,accounting,low\\n0.92,0.51,5,214,3,0,0,0,hr,low\\n0.48,0.6,2,121,5,0,0,0,hr,low\\n0.67,0.49,4,195,3,0,0,0,hr,low\\n0.84,0.55,3,135,3,0,0,0,hr,medium\\n0.97,0.78,4,261,2,0,0,0,technical,medium\\n0.65,0.53,5,205,3,1,0,0,technical,medium\\n0.79,0.87,5,240,2,1,0,0,technical,medium\\n0.75,0.75,2,141,4,0,0,0,technical,medium\\n0.69,0.64,4,200,3,0,0,0,technical,medium\\n0.85,0.6,4,257,3,0,0,0,technical,medium\\n0.34,0.41,2,141,3,0,0,0,technical,medium\\n0.97,0.68,3,185,2,0,0,0,technical,medium\\n0.39,0.99,6,235,6,0,0,0,technical,medium\\n0.54,0.81,4,264,4,0,0,0,technical,medium\\n0.78,0.67,4,260,3,0,0,0,technical,medium\\n0.49,0.79,4,158,3,0,0,0,support,high\\n0.17,0.83,6,195,5,0,0,0,support,high\\n0.98,0.81,3,180,2,1,0,0,support,high\\n0.9,1,2,114,5,0,0,0,support,high\\n0.24,0.89,5,228,4,1,0,0,support,high\\n0.92,0.79,5,243,3,1,0,0,support,high\\n0.36,0.72,3,179,3,0,0,0,support,high\\n0.19,0.76,2,158,3,0,0,0,support,high\\n0.75,0.76,4,254,4,0,0,0,support,low\\n0.91,0.81,3,220,3,1,0,0,support,low\\n0.72,0.95,5,171,3,0,0,0,support,low\\n0.62,0.64,4,142,2,0,0,0,technical,low\\n0.97,0.75,3,241,2,0,0,0,technical,low\\n0.69,0.64,3,275,3,0,0,0,technical,low\\n0.98,0.56,3,157,2,0,0,0,management,low\\n0.62,0.53,5,169,3,0,0,0,IT,low\\n0.59,0.82,2,233,2,0,0,0,IT,medium\\n0.73,0.98,4,160,3,0,0,0,IT,medium\\n0.71,0.79,3,189,3,0,0,0,IT,medium\\n0.85,0.58,4,273,4,0,0,0,IT,medium\\n0.8,0.94,4,141,3,1,0,0,product_mng,medium\\n0.48,0.38,3,134,3,0,0,0,product_mng,medium\\n0.64,0.4,3,248,3,0,0,0,product_mng,medium\\n0.19,0.64,6,222,5,0,0,0,product_mng,medium\\n0.82,0.69,5,219,3,0,0,0,IT,medium\\n0.99,0.96,4,202,3,0,0,0,RandD,medium\\n0.45,0.58,3,200,2,0,0,0,RandD,medium\\n0.89,0.89,3,138,2,0,0,0,RandD,medium\\n0.75,0.78,4,158,5,1,0,0,RandD,medium\\n0.8,0.86,3,136,2,0,0,0,RandD,medium\\n0.78,0.49,4,222,2,0,0,0,marketing,medium\\n0.95,0.76,3,236,2,1,0,0,sales,medium\\n0.68,0.67,4,135,2,0,0,0,accounting,medium\\n0.82,0.97,5,235,3,0,0,0,support,medium\\n0.9,0.69,4,274,2,0,0,0,technical,medium\\n0.59,0.99,3,235,2,0,0,0,management,medium\\n0.66,0.57,3,169,4,1,0,0,marketing,medium\\n0.63,0.56,5,286,4,0,0,0,marketing,medium\\n0.73,0.78,3,166,2,0,0,0,marketing,medium\\n0.63,0.93,3,236,4,0,0,0,sales,high\\n0.87,0.62,5,197,2,0,0,0,sales,low\\n0.62,0.87,6,169,2,1,0,0,sales,medium\\n0.53,0.9,3,210,3,0,0,0,sales,medium\\n0.94,0.83,4,156,2,0,0,0,sales,medium\\n0.94,0.55,5,231,2,0,0,0,sales,medium\\n0.55,0.64,3,101,2,1,0,0,sales,medium\\n0.58,0.72,4,259,3,0,0,0,sales,medium\\n0.98,0.88,5,203,5,1,0,0,sales,medium\\n0.74,0.76,5,255,4,0,0,0,sales,medium\\n0.65,0.48,3,131,3,1,0,0,sales,medium\\n0.97,0.79,2,272,2,0,0,0,sales,medium\\n0.58,0.75,4,253,2,0,0,0,sales,low\\n0.49,0.77,2,254,2,0,0,0,sales,low\\n0.69,0.98,3,214,2,0,0,0,sales,low\\n0.55,0.49,5,195,3,0,0,0,sales,low\\n0.65,0.89,4,240,3,0,0,0,sales,low\\n0.87,0.49,4,149,2,0,0,0,sales,low\\n0.12,0.7,4,276,4,0,0,0,sales,low\\n0.65,0.84,4,247,4,0,0,0,accounting,high\\n0.23,0.66,4,212,4,1,0,0,accounting,low\\n0.62,0.77,4,256,3,0,0,0,accounting,high\\n0.86,0.72,4,178,2,0,0,0,hr,high\\n0.85,0.6,4,255,4,0,0,0,hr,low\\n0.74,0.76,3,224,2,0,0,0,hr,low\\n0.53,0.76,2,204,4,0,0,0,hr,high\\n0.99,0.44,6,104,6,0,0,0,technical,low\\n0.48,0.81,5,113,3,0,0,0,technical,medium\\n0.72,0.74,3,243,2,0,0,0,technical,high\\n0.76,0.72,3,242,5,1,0,0,technical,medium\\n0.41,0.7,4,177,3,0,0,0,technical,medium\\n0.85,0.88,3,235,2,0,0,0,technical,medium\\n0.62,0.49,4,175,3,0,0,0,technical,medium\\n0.16,0.78,4,280,6,0,0,0,technical,high\\n0.58,0.61,3,205,2,0,0,0,technical,medium\\n0.73,0.95,4,243,3,0,0,0,technical,medium\\n0.28,0.76,3,150,2,0,0,0,technical,medium\\n0.77,0.61,4,178,2,1,0,0,support,high\\n0.85,0.86,3,231,3,0,0,0,support,medium\\n0.56,0.76,3,134,2,0,0,0,support,high\\n0.81,1,5,143,2,0,0,0,support,low\\n0.83,0.87,3,156,3,0,0,0,support,medium\\n0.49,0.48,4,249,3,0,0,0,support,medium\\n0.81,0.97,3,247,3,0,0,0,support,medium\\n0.56,0.92,5,222,4,0,0,0,support,medium\\n0.77,0.83,3,160,3,0,0,0,support,low\\n0.73,0.5,4,224,4,1,0,0,support,low\\n0.95,0.72,4,235,2,0,0,0,support,low\\n0.69,0.68,5,167,3,0,0,0,technical,low\\n0.79,0.89,3,104,4,0,0,0,technical,low\\n0.63,0.57,5,160,2,0,0,0,technical,low\\n0.8,0.79,4,168,3,0,0,0,management,low\\n0.64,0.61,2,153,2,0,0,0,IT,low\\n0.92,0.9,4,249,3,0,0,0,IT,low\\n0.96,0.75,4,177,2,0,0,0,IT,low\\n0.56,0.85,3,225,3,0,0,0,IT,high\\n0.37,0.61,3,186,2,0,0,0,IT,low\\n0.5,0.82,3,133,2,1,0,0,product_mng,low\\n0.49,0.58,4,213,4,1,0,0,product_mng,low\\n1,0.73,3,245,2,1,0,0,product_mng,low\\n0.82,0.75,5,160,3,1,0,0,product_mng,high\\n0.52,0.54,4,212,3,0,0,0,IT,low\\n0.76,0.96,4,135,3,1,0,1,RandD,low\\n0.2,0.53,3,149,4,0,0,1,RandD,low\\n0.6,0.9,4,178,3,0,0,1,RandD,high\\n0.69,0.9,6,224,4,0,0,1,RandD,low\\n0.93,0.51,3,196,2,0,0,1,RandD,medium\\n0.7,0.64,4,178,3,1,0,1,marketing,high\\n0.56,0.54,4,191,2,1,0,1,sales,medium\\n0.97,0.61,4,167,3,0,0,1,accounting,high\\n0.24,0.65,6,275,5,1,0,1,support,medium\\n0.83,0.91,3,168,3,0,0,1,technical,medium\\n0.55,0.85,3,152,2,0,0,1,management,medium\\n0.68,0.99,3,263,3,1,0,1,marketing,medium\\n0.48,0.53,3,113,4,0,0,0,marketing,medium\\n0.75,0.95,3,253,3,0,0,0,marketing,medium\\n0.61,0.5,4,271,3,1,0,0,sales,medium\\n0.5,0.74,4,165,2,1,0,0,sales,medium\\n0.78,0.54,5,257,3,0,0,0,sales,high\\n0.61,0.68,4,244,3,0,0,0,sales,low\\n0.48,0.5,4,179,3,0,0,0,sales,medium\\n0.93,0.92,3,248,2,0,0,0,sales,medium\\n0.78,0.58,3,224,2,0,0,0,sales,medium\\n0.92,0.99,5,236,4,0,0,0,sales,medium\\n0.71,0.98,5,213,3,0,0,0,sales,medium\\n0.15,0.42,4,238,3,0,0,0,sales,medium\\n0.14,0.83,5,153,5,1,0,0,sales,medium\\n0.56,0.72,4,247,2,0,0,0,sales,medium\\n1,0.84,3,154,3,0,0,0,sales,medium\\n0.77,0.82,3,147,4,0,0,0,sales,high\\n0.86,0.66,3,150,2,0,0,0,sales,low\\n0.88,0.95,3,137,3,0,0,0,sales,low\\n0.85,0.84,5,179,3,0,0,0,sales,low\\n0.95,0.56,5,194,2,0,0,0,sales,high\\n0.65,0.65,4,224,3,0,0,0,sales,low\\n0.7,0.55,3,253,2,1,0,0,accounting,low\\n0.6,0.55,3,177,3,1,0,0,accounting,low\\n0.84,0.83,3,215,3,0,0,0,accounting,high\\n0.23,0.59,5,245,5,0,0,0,hr,low\\n0.89,0.75,3,134,3,0,0,0,hr,low\\n0.98,0.91,4,273,2,0,0,0,hr,low\\n0.88,0.83,4,163,3,0,0,0,hr,low\\n0.87,0.52,3,152,4,0,0,0,technical,low\\n0.93,0.96,3,268,4,0,0,0,technical,low\\n0.13,0.95,5,149,2,0,0,0,technical,low\\n0.99,0.56,6,128,4,0,0,0,technical,medium\\n0.52,0.51,3,218,2,1,0,0,technical,medium\\n0.58,0.98,3,146,3,0,0,0,technical,medium\\n0.85,0.57,5,190,2,1,0,0,technical,medium\\n0.41,0.59,2,182,3,0,0,0,technical,medium\\n1,0.8,5,162,3,1,0,0,technical,medium\\n0.63,0.64,3,243,3,0,0,0,technical,medium\\n0.63,0.58,4,141,3,1,0,0,technical,medium\\n0.63,0.9,3,142,3,0,0,0,support,medium\\n0.59,0.62,3,203,4,0,0,0,support,medium\\n0.88,0.77,4,168,4,0,0,0,support,medium\\n0.72,0.7,3,149,3,0,0,0,support,medium\\n0.67,0.81,4,168,2,0,0,0,support,high\\n0.41,0.54,2,190,4,0,0,0,support,low\\n0.3,0.68,3,229,6,0,0,0,support,medium\\n0.83,0.84,3,249,2,0,0,0,support,medium\\n0.73,0.93,4,162,2,1,0,0,support,medium\\n0.87,0.9,4,163,2,0,0,0,support,medium\\n0.93,0.74,2,169,4,0,0,0,support,low\\n0.97,0.91,4,257,3,1,0,0,technical,low\\n0.7,0.54,4,150,4,0,0,0,technical,low\\n0.66,0.95,4,183,3,0,0,0,technical,low\\n0.62,0.66,3,208,3,0,0,0,management,low\\n0.56,0.52,4,158,2,0,0,0,IT,low\\n0.32,0.72,2,240,5,0,0,0,IT,low\\n0.55,0.81,5,251,3,0,0,0,IT,low\\n0.69,0.91,5,205,2,0,0,0,IT,low\\n0.91,0.63,4,226,3,1,0,0,IT,low\\n0.33,0.82,5,249,6,0,0,0,product_mng,low\\n0.37,0.74,2,197,3,0,0,0,product_mng,low\\n0.95,0.57,5,216,3,0,0,0,product_mng,low\\n0.17,0.91,4,260,5,0,0,0,product_mng,low\\n0.95,0.53,4,263,3,0,0,0,IT,low\\n0.27,0.69,2,177,5,0,0,0,RandD,low\\n0.91,0.95,4,171,3,0,0,0,RandD,low\\n0.49,0.61,3,148,2,1,0,0,RandD,low\\n0.6,0.56,4,138,3,0,0,0,RandD,low\\n0.52,0.57,4,183,3,0,0,0,RandD,low\\n0.54,0.65,3,202,3,0,0,0,marketing,low\\n0.86,0.53,4,160,2,1,0,0,sales,medium\\n0.78,0.87,4,264,3,0,0,0,accounting,medium\\n0.6,0.81,4,245,3,1,0,0,support,medium\\n0.15,0.91,2,207,3,0,0,0,technical,medium\\n0.72,0.92,3,225,3,0,0,0,management,medium\\n0.94,0.85,4,236,2,0,0,0,marketing,medium\\n0.92,0.56,4,170,3,0,0,0,marketing,medium\\n0.6,0.88,3,261,3,1,0,0,marketing,medium\\n0.41,0.68,4,273,3,0,0,0,sales,medium\\n0.5,0.43,3,184,2,0,0,0,sales,medium\\n0.8,0.91,3,202,2,0,0,0,sales,medium\\n0.67,0.83,4,195,3,0,0,0,sales,medium\\n0.71,0.88,4,266,3,0,0,0,sales,high\\n0.66,0.85,3,266,5,0,0,0,sales,low\\n0.77,0.74,5,263,2,0,0,0,sales,medium\\n0.62,0.54,3,142,2,0,0,0,sales,medium\\n0.95,0.53,4,162,3,0,0,0,sales,medium\\n0.89,0.75,5,258,2,0,0,0,sales,medium\\n0.74,0.83,4,170,2,0,0,0,sales,low\\n0.19,0.8,4,249,5,0,0,0,sales,low\\n0.83,0.77,3,171,3,0,0,0,sales,low\\n0.53,0.64,2,177,4,0,0,0,sales,low\\n0.98,0.75,5,188,2,0,0,0,sales,low\\n0.74,0.99,5,146,2,0,0,0,sales,low\\n0.22,0.88,5,154,5,0,0,0,sales,low\\n0.76,0.68,4,204,3,1,0,0,sales,low\\n0.89,0.91,5,224,3,1,0,0,sales,low\\n0.5,0.84,3,156,4,0,0,0,accounting,low\\n0.17,0.82,6,259,4,0,0,0,accounting,low\\n0.46,0.38,6,165,3,0,0,0,accounting,low\\n0.68,0.78,3,264,3,0,0,0,hr,low\\n0.77,0.86,4,215,2,0,0,0,hr,low\\n0.68,0.83,3,133,3,0,0,0,hr,low\\n0.15,0.7,4,220,4,0,0,0,hr,low\\n0.7,0.98,4,176,5,0,0,0,technical,low\\n0.66,0.96,4,103,2,0,0,0,technical,low\\n0.54,0.52,5,155,3,0,0,0,technical,low\\n0.57,0.57,4,141,3,0,0,0,technical,low\\n0.78,0.58,3,150,3,1,0,0,technical,low\\n0.14,0.83,5,171,6,0,0,0,technical,medium\\n0.73,0.86,4,179,3,0,0,0,technical,medium\\n0.65,0.97,4,145,2,0,0,0,technical,medium\\n0.31,0.59,3,176,3,0,0,0,technical,medium\\n0.77,0.55,2,172,2,0,0,0,technical,medium\\n0.68,0.85,3,243,4,0,0,0,technical,medium\\n0.79,0.69,4,209,2,0,0,0,support,medium\\n0.92,0.62,4,196,3,0,0,0,support,medium\\n0.77,0.96,6,225,4,0,0,0,support,medium\\n0.48,0.89,3,261,2,0,0,0,support,medium\\n0.63,0.66,4,157,2,0,0,0,support,medium\\n0.92,0.49,5,259,3,1,0,0,support,medium\\n0.5,0.85,4,224,6,0,0,0,support,high\\n0.52,0.91,5,193,2,0,0,0,support,low\\n0.73,0.79,4,157,3,0,0,0,support,medium\\n0.99,0.87,4,223,3,0,0,0,support,medium\\n0.91,0.99,3,188,3,1,0,0,support,medium\\n0.85,0.79,3,217,2,0,0,0,technical,medium\\n0.95,0.69,4,207,2,1,0,0,technical,low\\n0.67,0.85,3,153,4,0,0,0,technical,low\\n0.86,0.55,3,269,2,0,0,0,management,low\\n0.71,0.54,4,198,3,0,0,0,IT,low\\n0.99,0.95,4,102,5,0,0,0,IT,low\\n0.57,0.61,3,167,2,1,0,0,IT,low\\n0.98,0.72,3,252,2,0,0,0,IT,low\\n0.62,0.58,3,192,2,0,0,0,IT,low\\n0.74,0.79,5,237,4,0,0,0,product_mng,low\\n0.7,0.6,4,158,3,0,0,0,product_mng,low\\n0.8,0.93,3,260,3,0,0,0,product_mng,low\\n0.65,0.69,4,153,3,0,0,0,product_mng,low\\n0.53,0.52,3,233,4,0,0,0,IT,low\\n0.43,0.62,2,180,3,0,0,0,RandD,low\\n0.59,0.65,4,163,3,1,0,0,RandD,low\\n0.16,0.96,6,211,6,1,0,0,RandD,low\\n0.84,0.8,3,151,3,1,0,0,RandD,low\\n0.78,0.95,3,249,4,0,0,0,RandD,low\\n0.66,0.91,5,199,3,1,0,0,marketing,low\\n0.7,0.74,4,247,2,0,0,0,sales,low\\n0.73,0.63,4,174,3,0,0,0,accounting,low\\n0.65,0.88,4,268,4,0,0,0,support,medium\\n0.79,0.59,5,197,4,0,0,0,technical,medium\\n0.57,0.68,4,154,3,1,0,0,management,medium\\n0.24,0.58,5,279,4,0,0,0,marketing,medium\\n0.95,0.78,3,204,2,1,0,0,marketing,medium\\n0.38,0.54,2,112,3,0,0,0,marketing,medium\\n0.9,0.78,4,261,2,1,0,0,sales,medium\\n0.5,0.4,3,180,4,0,0,0,sales,medium\\n0.68,0.61,3,261,5,0,0,0,sales,medium\\n0.5,0.78,6,138,3,0,0,0,sales,medium\\n0.85,0.81,4,164,4,0,0,0,sales,medium\\n0.95,0.52,3,144,3,0,0,0,sales,medium\\n0.92,0.92,3,244,2,0,0,0,sales,high\\n0.83,0.87,5,233,3,0,0,0,sales,low\\n0.9,0.78,4,225,2,1,0,0,sales,medium\\n0.21,0.77,6,215,4,0,0,0,sales,medium\\n0.94,0.86,3,223,4,0,0,0,sales,medium\\n0.7,0.85,4,232,3,0,0,0,sales,medium\\n0.54,0.76,3,157,4,0,0,0,sales,low\\n0.77,0.65,4,268,3,0,0,0,sales,low\\n0.62,0.49,3,158,2,0,0,0,sales,low\\n0.93,0.55,5,222,2,0,0,0,sales,low\\n0.81,0.86,3,210,3,0,0,0,sales,low\\n0.99,0.79,4,133,2,0,0,0,sales,low\\n0.78,0.49,3,224,3,0,0,0,sales,low\\n0.66,0.63,5,264,5,0,0,0,accounting,low\\n0.9,0.72,5,237,2,0,0,0,accounting,low\\n0.74,0.53,5,141,2,0,0,0,accounting,low\\n0.65,0.78,4,238,5,1,0,0,hr,low\\n0.99,0.52,4,167,3,0,0,0,hr,low\\n0.83,0.72,4,161,3,0,0,0,hr,low\\n0.6,0.82,4,194,3,0,0,0,hr,low\\n0.55,0.93,3,217,3,1,0,0,technical,low\\n0.96,0.71,3,170,3,0,0,0,technical,low\\n0.83,0.94,4,243,3,0,0,0,technical,low\\n0.95,0.7,4,267,3,1,0,0,technical,low\\n0.77,0.88,2,169,3,0,0,0,technical,medium\\n0.83,0.95,3,255,3,0,0,0,technical,medium\\n0.87,0.54,4,211,3,0,0,0,technical,medium\\n0.69,0.49,3,198,4,0,0,0,technical,medium\\n0.67,0.58,3,246,3,0,0,0,technical,medium\\n0.55,0.49,3,146,2,0,0,0,technical,medium\\n0.55,0.82,4,134,6,0,0,0,technical,medium\\n0.39,0.48,3,169,3,0,0,0,support,medium\\n0.51,0.93,5,232,3,0,0,0,support,medium\\n0.39,0.38,2,106,3,1,0,0,support,medium\\n0.96,0.93,4,260,3,0,0,0,support,medium\\n0.68,0.81,3,232,2,0,0,0,support,medium\\n0.67,0.71,4,173,3,0,0,0,support,high\\n0.68,0.44,5,152,5,0,0,0,support,low\\n0.56,0.58,3,173,3,0,0,0,support,medium\\n0.9,0.7,3,274,3,0,0,0,support,medium\\n0.69,0.59,3,233,3,0,0,0,support,medium\\n0.99,0.71,4,232,3,0,0,0,support,medium\\n0.42,0.59,3,156,2,0,0,0,technical,low\\n0.28,0.51,3,124,3,0,0,0,technical,low\\n0.55,0.65,3,207,3,0,0,0,technical,low\\n0.91,0.53,3,273,6,0,0,0,management,low\\n0.53,0.98,3,219,4,0,0,0,IT,low\\n0.87,0.74,4,207,3,0,0,0,IT,low\\n0.57,0.6,4,248,4,0,0,0,IT,low\\n0.59,0.77,3,169,3,0,0,0,IT,low\\n0.76,0.89,4,181,3,0,0,0,IT,low\\n0.59,0.42,3,196,3,0,0,0,product_mng,low\\n0.5,0.54,3,254,2,0,0,0,product_mng,low\\n0.55,0.55,4,191,4,0,0,0,product_mng,low\\n0.92,0.53,3,238,2,0,0,0,product_mng,low\\n0.8,0.51,5,196,3,0,0,0,IT,low\\n0.93,0.66,4,228,3,0,0,0,RandD,low\\n0.67,0.57,4,165,3,0,0,0,RandD,low\\n0.78,0.55,3,144,2,0,0,0,RandD,low\\n0.61,0.7,4,243,3,0,0,0,RandD,low\\n0.74,0.84,3,206,3,0,0,0,RandD,low\\n0.5,0.49,3,180,3,1,0,0,marketing,low\\n0.84,0.96,3,161,2,1,0,0,sales,low\\n0.89,0.55,4,196,2,0,0,0,accounting,medium\\n0.77,0.89,5,152,3,0,0,0,support,medium\\n0.64,0.71,3,231,4,0,0,0,technical,medium\\n0.77,0.89,2,215,5,1,0,0,management,medium\\n0.74,0.58,4,233,4,0,0,0,marketing,medium\\n0.88,0.96,4,155,2,0,0,0,marketing,medium\\n0.88,0.96,5,182,4,1,0,0,marketing,medium\\n0.89,0.88,3,165,4,0,0,0,sales,medium\\n0.74,0.59,2,257,4,1,0,0,sales,medium\\n0.63,0.74,4,155,2,0,0,0,sales,medium\\n0.63,0.8,4,243,2,0,0,0,sales,medium\\n0.68,0.92,2,184,4,0,0,0,sales,medium\\n0.14,0.81,4,138,3,1,0,0,sales,high\\n0.86,0.94,5,209,4,0,0,0,sales,low\\n0.73,0.53,3,205,2,0,0,0,sales,medium\\n0.57,0.56,3,191,3,0,0,0,sales,medium\\n0.97,0.75,5,270,3,1,0,0,sales,medium\\n0.67,0.36,4,97,4,0,0,0,sales,medium\\n0.89,0.74,4,174,2,0,0,0,sales,low\\n0.8,0.96,5,124,3,0,0,0,sales,low\\n0.3,0.51,2,178,3,0,0,0,sales,low\\n0.14,0.73,5,266,6,0,0,0,sales,low\\n0.91,0.8,4,181,3,0,0,0,sales,low\\n0.49,0.81,4,233,3,0,0,0,sales,low\\n0.57,0.68,3,254,4,0,0,0,sales,low\\n0.59,0.62,3,219,3,0,0,0,sales,low\\n0.5,0.7,5,166,2,0,0,0,accounting,low\\n0.69,0.97,3,158,2,0,0,0,accounting,low\\n0.81,0.68,3,151,3,0,0,0,accounting,low\\n0.79,0.82,3,98,3,1,0,0,hr,low\\n0.55,0.91,4,187,4,1,0,0,hr,low\\n0.92,0.62,4,266,2,0,0,0,hr,low\\n0.94,0.59,5,250,3,0,0,0,hr,low\\n0.67,0.55,5,193,3,0,0,0,technical,low\\n0.53,0.92,4,223,3,1,0,0,technical,low\\n0.77,0.59,5,189,5,0,0,0,technical,low\\n0.57,0.82,5,138,3,0,0,0,technical,low\\n0.64,0.97,4,268,2,0,0,0,technical,low\\n0.35,1,6,186,2,0,0,0,technical,low\\n0.66,0.71,3,136,3,1,0,0,technical,medium\\n0.59,0.84,4,245,3,0,0,0,technical,medium\\n0.49,0.93,4,184,3,0,0,0,technical,medium\\n0.91,0.99,5,152,3,0,0,0,technical,medium\\n0.12,0.6,2,194,4,0,0,0,technical,medium\\n0.74,0.68,3,242,5,1,0,0,support,medium\\n0.84,0.94,4,246,2,1,0,0,support,medium\\n0.51,0.99,4,211,3,0,0,0,support,medium\\n0.94,0.71,4,189,3,0,0,0,support,medium\\n0.74,0.66,3,254,2,0,0,0,support,medium\\n0.52,0.54,5,239,3,0,0,0,support,medium\\n0.31,0.92,4,133,6,0,0,0,support,medium\\n0.72,0.59,3,255,2,0,0,0,support,high\\n0.92,1,3,212,2,0,0,0,support,low\\n0.56,0.64,3,270,3,0,0,0,support,medium\\n0.76,0.45,5,177,6,0,0,0,support,medium\\n0.59,0.9,4,261,4,0,0,0,technical,medium\\n0.5,0.74,3,220,3,0,0,0,technical,medium\\n0.88,0.72,2,144,4,1,0,0,technical,low\\n0.86,0.49,4,274,2,0,0,0,management,low\\n0.66,0.99,4,195,3,0,0,0,IT,low\\n0.7,0.69,4,158,3,0,0,0,IT,low\\n0.98,0.93,5,145,4,0,0,0,IT,low\\n0.61,0.73,3,165,3,1,0,0,IT,low\\n0.57,0.66,4,270,2,0,0,0,IT,low\\n0.84,0.91,5,208,3,0,0,0,product_mng,low\\n0.76,0.4,2,245,5,0,0,0,product_mng,medium\\n0.64,0.99,4,180,4,0,0,0,product_mng,medium\\n0.87,0.7,5,225,3,0,0,0,product_mng,medium\\n0.62,0.69,3,261,2,0,0,0,IT,medium\\n0.16,0.99,3,213,6,1,0,1,RandD,medium\\n0.83,0.87,3,230,3,0,0,1,RandD,medium\\n0.36,0.59,2,198,2,0,0,1,RandD,medium\\n0.47,0.51,6,190,5,0,0,1,RandD,medium\\n0.54,0.51,4,137,4,0,0,1,RandD,medium\\n0.83,0.83,3,186,3,1,0,1,marketing,medium\\n0.96,0.68,4,137,2,0,0,1,sales,medium\\n0.91,0.74,5,192,3,0,0,1,accounting,medium\\n0.56,0.59,4,164,3,0,0,1,support,medium\\n0.73,0.66,6,195,3,0,0,1,technical,medium\\n0.97,0.63,4,151,3,0,0,1,management,medium\\n0.75,0.74,5,231,3,0,0,1,marketing,medium\\n0.49,0.76,3,257,2,1,0,0,marketing,medium\\n0.57,0.94,4,257,3,0,0,0,marketing,medium\\n0.41,0.58,5,274,2,1,0,0,sales,medium\\n0.53,0.7,3,138,2,0,0,0,sales,medium\\n0.93,0.6,4,184,3,0,0,0,sales,medium\\n0.58,0.9,3,151,3,0,0,0,sales,medium\\n0.6,0.54,3,265,3,1,0,0,sales,medium\\n0.74,0.8,4,241,2,0,0,0,sales,medium\\n0.62,0.52,3,148,3,0,0,0,sales,medium\\n0.7,0.76,5,165,3,0,0,0,sales,medium\\n0.93,0.75,3,243,2,0,0,0,sales,medium\\n0.75,0.9,4,197,2,0,0,0,sales,medium\\n0.95,0.48,5,214,6,1,0,1,sales,medium\\n0.43,0.98,4,164,3,0,0,1,sales,medium\\n0.77,0.58,4,243,4,1,0,1,sales,medium\\n0.67,1,4,145,3,1,0,1,sales,medium\\n0.51,0.72,4,163,4,0,0,1,sales,medium\\n0.94,0.53,5,257,2,0,0,1,sales,medium\\n0.9,0.85,3,253,3,0,0,0,sales,medium\\n0.8,0.78,4,234,3,0,0,0,sales,medium\\n0.34,0.89,5,266,6,0,0,0,sales,medium\\n0.45,0.53,3,181,4,1,0,0,accounting,low\\n0.97,0.66,4,193,4,0,0,0,accounting,low\\n0.5,0.48,3,163,4,0,0,0,accounting,low\\n0.89,0.62,5,144,2,0,0,0,hr,low\\n0.76,0.5,4,245,3,0,0,0,hr,low\\n0.66,0.84,4,197,2,0,0,0,hr,low\\n0.74,0.63,3,180,2,0,0,0,hr,low\\n0.69,0.74,4,237,3,0,0,0,technical,low\\n0.59,0.57,2,170,3,0,0,0,technical,low\\n1,0.85,3,150,3,0,0,0,technical,low\\n0.61,0.75,2,100,4,0,0,0,technical,low\\n0.98,0.42,5,226,3,0,0,0,technical,low\\n0.59,0.71,5,222,3,0,0,0,technical,low\\n0.22,0.69,4,182,6,0,0,0,technical,low\\n0.71,0.95,3,150,2,0,0,0,technical,low\\n0.86,0.53,4,244,3,0,0,0,technical,medium\\n0.65,0.59,5,271,3,0,0,0,technical,medium\\n0.93,0.67,5,167,3,0,0,0,technical,medium\\n0.49,0.69,2,128,2,0,0,0,support,medium\\n0.78,0.77,3,149,4,1,0,0,support,medium\\n0.62,0.7,4,141,4,0,0,0,support,medium\\n0.72,0.63,3,149,2,0,0,0,support,medium\\n0.7,0.56,4,107,6,0,0,0,support,medium\\n0.54,0.93,5,189,2,0,0,0,support,medium\\n0.61,0.95,4,169,4,0,0,0,support,medium\\n0.84,0.95,4,208,3,1,0,0,support,medium\\n0.8,0.58,3,197,3,0,0,0,support,medium\\n0.58,0.5,4,225,3,0,0,0,support,high\\n0.97,0.87,2,175,6,0,0,0,support,high\\n0.92,0.55,3,172,2,0,0,0,technical,high\\n0.96,0.51,3,237,4,0,0,0,technical,high\\n0.73,0.87,4,155,3,1,0,0,technical,high\\n0.73,0.71,4,148,3,0,0,0,management,high\\n0.53,0.83,4,246,3,0,0,0,IT,high\\n0.17,0.82,5,193,5,0,0,0,IT,high\\n0.75,0.76,5,175,4,0,0,0,IT,low\\n0.76,0.44,3,121,4,0,0,0,IT,low\\n0.76,0.77,4,223,3,0,0,0,IT,low\\n0.92,0.55,3,259,3,0,0,0,product_mng,low\\n0.82,0.88,4,171,2,0,0,0,product_mng,low\\n0.38,0.5,2,170,3,0,0,0,product_mng,low\\n0.49,0.72,4,246,3,0,0,0,product_mng,low\\n0.53,0.8,3,175,3,0,0,0,IT,low\\n0.56,0.59,3,185,2,0,0,0,RandD,medium\\n0.69,0.98,3,168,2,0,0,0,RandD,medium\\n0.62,0.99,4,171,3,0,0,0,RandD,medium\\n0.71,0.76,3,201,2,0,0,0,RandD,medium\\n0.52,1,4,148,3,0,0,0,RandD,medium\\n0.2,0.53,6,189,4,0,0,0,marketing,medium\\n0.93,0.61,3,166,3,0,0,0,sales,medium\\n0.74,0.81,4,150,2,0,0,0,accounting,medium\\n0.78,0.45,3,253,6,0,0,1,support,medium\\n0.85,0.79,3,243,2,0,0,1,technical,medium\\n0.79,0.56,5,250,2,1,0,1,management,medium\\n0.92,0.91,3,228,2,0,0,1,marketing,medium\\n0.58,0.97,3,186,3,0,0,1,marketing,medium\\n0.68,0.72,3,213,3,0,0,1,marketing,medium\\n0.9,0.67,4,233,3,0,0,1,sales,medium\\n0.67,0.71,5,265,2,0,0,1,sales,medium\\n0.79,0.73,4,226,3,0,0,0,sales,medium\\n0.23,0.48,5,221,6,0,0,0,sales,medium\\n0.98,0.99,3,253,4,0,0,0,sales,medium\\n0.8,0.75,3,134,4,0,0,0,sales,medium\\n0.77,0.84,3,188,4,0,0,0,sales,medium\\n1,0.91,3,160,4,0,0,0,sales,medium\\n0.6,0.92,4,164,4,0,0,0,sales,medium\\n0.49,0.54,6,214,3,0,0,0,sales,high\\n0.91,0.99,5,228,4,1,0,0,sales,low\\n0.97,0.52,5,149,3,1,0,0,sales,medium\\n0.71,0.76,3,175,2,0,0,0,sales,medium\\n0.62,0.91,3,195,3,0,0,0,sales,medium\\n0.61,0.92,3,222,4,0,0,0,sales,medium\\n0.21,0.6,5,249,4,0,0,0,sales,medium\\n0.64,0.97,2,226,3,1,0,0,sales,medium\\n0.61,0.65,2,117,2,1,0,0,sales,medium\\n0.58,0.75,4,255,3,0,0,0,sales,medium\\n0.41,0.9,6,155,2,0,0,0,accounting,medium\\n0.98,0.73,5,185,3,0,0,0,accounting,medium\\n0.5,0.88,4,275,5,0,0,0,accounting,low\\n0.98,0.61,3,226,2,0,0,0,hr,low\\n0.4,0.85,4,198,2,0,0,0,hr,low\\n0.63,0.92,2,198,2,0,0,0,hr,low\\n0.75,0.53,4,251,3,0,0,0,hr,low\\n0.82,0.84,3,237,2,0,0,0,technical,low\\n0.55,0.62,5,197,2,0,0,0,technical,low\\n0.44,0.36,2,136,3,0,0,0,technical,high\\n0.92,0.88,3,184,3,1,0,0,technical,low\\n0.57,0.56,2,159,3,0,0,0,technical,high\\n0.73,0.86,4,133,3,0,0,0,technical,high\\n0.82,0.92,5,198,3,0,0,0,technical,low\\n0.54,0.75,3,260,2,0,0,0,technical,low\\n0.64,0.95,3,154,4,0,0,0,technical,high\\n0.99,0.76,4,185,5,0,0,0,technical,low\\n0.19,0.92,5,193,6,0,0,0,technical,medium\\n0.86,0.96,4,167,3,0,0,0,support,high\\n0.65,0.66,5,165,3,0,0,0,support,medium\\n0.52,0.81,3,253,2,0,0,0,support,medium\\n0.85,0.49,4,142,3,0,0,0,support,medium\\n0.61,0.64,5,186,4,0,0,0,support,medium\\n0.77,0.57,4,203,3,1,0,0,support,high\\n0.54,0.94,4,217,2,0,0,0,support,medium\\n0.76,0.74,4,187,3,0,0,0,support,medium\\n0.79,0.9,3,152,4,0,0,0,support,medium\\n0.89,0.93,5,150,2,0,0,0,support,high\\n0.6,0.8,3,191,2,0,0,0,support,medium\\n0.51,0.58,4,140,3,0,0,0,technical,high\\n0.2,0.72,5,123,2,1,0,0,technical,low\\n0.93,0.6,5,170,2,0,0,0,technical,medium\\n0.77,0.54,3,227,4,0,0,0,management,medium\\n0.8,0.87,4,220,2,0,0,0,IT,medium\\n0.8,0.97,5,258,3,0,0,0,IT,medium\\n0.62,0.92,5,149,3,0,0,0,IT,low\\n0.79,0.72,4,192,3,0,0,0,IT,low\\n0.88,0.73,5,267,3,0,0,0,IT,low\\n0.96,0.73,5,169,3,1,0,0,product_mng,low\\n0.34,0.69,2,178,3,0,0,0,product_mng,low\\n0.34,0.65,2,165,4,0,0,0,product_mng,low\\n0.88,0.85,4,231,3,0,0,0,product_mng,low\\n0.66,0.61,3,260,3,0,0,0,IT,low\\n0.55,0.71,4,181,2,1,0,0,RandD,low\\n0.59,0.51,3,243,2,0,0,0,RandD,low\\n0.62,0.73,4,191,3,0,0,0,RandD,high\\n0.78,0.93,3,200,3,0,0,0,RandD,low\\n0.73,0.75,5,265,3,0,0,0,RandD,low\\n0.71,0.94,4,246,3,0,0,0,marketing,low\\n0.97,0.86,3,187,2,0,0,0,sales,low\\n0.21,0.74,5,141,4,0,0,0,accounting,high\\n0.52,0.96,4,246,3,0,0,0,support,low\\n0.73,0.88,4,236,3,1,0,0,technical,low\\n0.74,0.83,3,170,3,0,0,0,management,low\\n0.26,0.71,6,189,2,0,0,0,marketing,high\\n0.52,0.78,4,237,3,0,0,0,marketing,low\\n0.69,0.54,4,180,3,0,0,0,marketing,medium\\n0.79,0.59,2,157,6,0,0,0,sales,high\\n0.93,0.62,4,258,3,0,0,0,sales,medium\\n0.34,0.87,4,283,2,0,0,0,sales,high\\n0.77,0.52,4,216,3,0,0,0,sales,medium\\n0.36,0.73,3,187,3,0,0,0,sales,medium\\n0.93,0.58,3,215,3,0,0,0,sales,medium\\n0.7,0.58,3,211,3,0,0,0,sales,medium\\n0.51,0.49,4,182,2,0,0,0,sales,medium\\n0.83,0.78,3,165,3,1,0,0,sales,medium\\n0.89,0.89,4,265,2,0,0,0,sales,medium\\n0.94,0.59,3,137,2,0,0,0,sales,medium\\n0.8,0.55,4,269,3,0,0,0,sales,high\\n0.74,0.66,3,177,2,0,0,0,sales,low\\n0.5,0.91,3,240,2,0,0,0,sales,medium\\n0.54,0.84,4,174,2,0,0,0,sales,medium\\n0.5,0.54,3,134,3,0,0,0,sales,medium\\n0.17,0.91,2,271,4,0,0,0,sales,medium\\n0.57,0.53,5,216,2,1,0,0,sales,medium\\n0.8,0.51,4,213,3,0,0,0,sales,medium\\n0.45,0.64,5,133,4,0,0,0,accounting,medium\\n0.87,0.5,4,267,2,1,0,0,accounting,medium\\n0.98,0.64,3,263,4,0,0,0,accounting,medium\\n0.55,0.8,4,260,3,0,0,0,hr,high\\n0.53,0.5,4,185,3,0,0,0,hr,low\\n0.75,0.48,2,284,6,0,0,0,hr,low\\n0.96,0.59,3,229,3,0,0,0,hr,low\\n0.71,0.97,3,189,3,1,0,0,technical,high\\n0.7,0.63,3,209,3,0,0,0,technical,low\\n0.33,0.94,4,166,6,0,0,0,technical,low\\n0.93,0.94,3,183,2,0,0,0,technical,low\\n0.64,0.65,3,181,2,0,0,0,technical,high\\n0.27,0.45,3,239,4,0,0,0,technical,low\\n0.99,0.99,3,158,2,0,0,0,technical,low\\n0.81,0.62,3,187,3,0,0,0,technical,low\\n0.6,0.91,4,236,3,0,0,0,technical,low\\n0.32,0.4,6,162,5,0,0,0,technical,low\\n0.48,0.68,4,163,2,1,0,0,technical,low\\n0.87,0.51,4,173,3,0,0,0,support,low\\n0.91,0.79,5,273,4,1,0,0,support,medium\\n0.24,0.89,5,142,4,0,0,0,support,medium\\n0.66,0.56,4,141,4,0,0,0,support,medium\\n0.94,0.59,3,234,2,0,0,0,support,medium\\n0.93,0.97,5,255,4,0,0,0,support,medium\\n0.19,0.55,5,148,4,0,0,0,support,medium\\n0.88,0.45,5,274,2,1,0,0,support,medium\\n0.76,0.47,3,223,2,0,0,0,support,medium\\n0.67,0.64,5,248,3,0,0,0,support,medium\\n0.54,0.5,4,146,2,0,0,0,support,medium\\n0.53,0.95,2,101,5,0,0,0,technical,medium\\n0.67,0.92,4,265,4,0,0,0,technical,medium\\n0.5,0.38,5,175,4,0,0,0,technical,high\\n0.49,0.76,4,202,3,0,0,0,management,low\\n0.82,0.71,3,160,3,0,0,0,IT,medium\\n0.86,0.71,3,235,3,0,0,0,IT,medium\\n0.5,0.5,4,267,3,0,0,0,IT,medium\\n0.82,0.6,3,261,2,1,0,0,IT,medium\\n0.95,0.78,2,148,2,0,0,0,IT,low\\n0.64,0.87,3,239,4,0,0,0,product_mng,low\\n0.91,0.5,3,178,2,0,0,0,product_mng,low\\n0.79,0.75,2,221,3,0,0,0,product_mng,low\\n0.83,0.56,4,269,3,0,0,0,product_mng,low\\n0.66,0.6,3,262,2,1,0,0,IT,low\\n0.92,0.8,4,263,4,0,0,0,RandD,low\\n0.59,0.47,5,191,3,0,0,0,RandD,low\\n0.6,0.83,2,189,2,0,0,0,RandD,low\\n0.68,0.97,5,207,4,1,0,0,RandD,low\\n0.58,0.73,3,265,6,0,0,0,RandD,low\\n0.93,0.77,5,224,2,0,0,0,marketing,low\\n0.66,0.5,3,229,3,0,0,0,marketing,low\\n0.8,0.99,3,158,3,0,0,0,sales,low\\n0.28,0.79,5,202,5,0,0,0,accounting,low\\n0.84,0.59,4,216,2,0,0,0,support,low\\n0.86,0.58,4,220,5,0,0,0,technical,low\\n0.46,0.45,2,172,2,1,0,0,management,low\\n0.94,0.92,3,187,2,0,0,0,marketing,low\\n0.8,0.76,3,270,2,1,0,0,marketing,low\\n0.13,0.63,6,219,6,0,0,0,marketing,low\\n0.95,0.73,3,243,3,1,0,0,sales,medium\\n0.93,0.88,4,261,4,0,0,0,sales,medium\\n0.86,0.81,4,179,3,0,0,0,sales,medium\\n0.67,0.93,5,133,2,0,0,0,sales,medium\\n0.73,0.6,4,224,3,0,0,0,sales,medium\\n0.62,0.92,4,198,2,0,0,0,sales,medium\\n0.53,0.81,5,135,2,0,0,0,sales,medium\\n0.68,0.68,3,143,3,0,0,0,sales,medium\\n0.69,0.55,4,234,2,0,0,0,sales,medium\\n0.66,0.92,3,177,3,0,0,0,sales,medium\\n0.98,0.56,5,180,3,0,0,0,sales,medium\\n0.57,0.39,3,193,6,0,0,0,sales,medium\\n0.64,0.78,5,148,4,0,0,0,sales,high\\n0.71,0.58,3,194,4,0,0,0,sales,low\\n0.94,0.7,3,271,4,0,0,0,sales,medium\\n0.8,0.85,3,135,2,0,0,0,sales,medium\\n0.59,0.94,4,136,2,0,0,0,sales,medium\\n0.95,0.7,6,243,3,0,0,0,sales,medium\\n1,0.39,2,210,5,0,0,0,sales,low\\n0.53,0.59,3,163,4,0,0,0,accounting,low\\n0.35,0.59,5,268,3,0,0,0,accounting,low\\n0.73,0.66,3,244,3,0,0,0,accounting,low\\n0.89,0.63,4,164,3,0,0,0,hr,low\\n0.21,0.93,4,260,3,0,0,0,hr,low\\n0.21,0.85,5,153,3,0,0,0,hr,low\\n0.6,0.83,4,216,2,1,0,0,hr,low\\n0.94,0.69,2,198,3,0,0,0,technical,low\\n0.92,0.68,4,196,3,1,0,0,technical,low\\n0.92,0.78,3,218,3,0,0,0,technical,low\\n0.71,0.98,5,167,3,0,0,0,technical,low\\n0.69,0.83,4,264,3,0,0,0,technical,low\\n0.26,0.51,2,284,2,0,0,0,technical,low\\n0.21,0.78,4,218,6,0,0,0,technical,low\\n0.36,0.42,2,192,2,0,0,0,technical,low\\n0.81,0.92,5,255,4,1,0,0,technical,low\\n0.54,0.88,3,251,2,0,0,0,technical,low\\n0.63,0.87,5,248,2,0,0,0,technical,low\\n0.86,0.75,5,157,4,0,0,0,support,low\\n0.8,0.79,5,240,2,0,0,0,support,low\\n0.55,0.58,5,262,3,0,0,0,support,medium\\n0.18,0.6,3,130,2,1,0,0,support,medium\\n0.88,0.98,3,152,3,0,0,0,support,medium\\n0.65,0.86,4,256,2,0,0,0,support,medium\\n0.99,1,3,139,2,0,0,0,support,medium\\n0.88,0.93,4,195,2,0,0,0,support,medium\\n0.67,0.59,3,205,5,0,0,0,support,medium\\n0.53,0.59,4,265,2,0,0,0,support,medium\\n0.83,0.61,5,246,3,0,0,0,support,medium\\n0.36,0.71,3,100,3,0,0,0,technical,medium\\n0.62,0.64,5,150,3,1,0,0,technical,medium\\n0.72,0.67,4,147,2,0,0,0,technical,medium\\n0.79,0.54,4,244,3,0,0,0,management,high\\n1,0.87,4,256,3,0,0,0,IT,low\\n0.65,0.52,4,266,3,1,0,0,IT,medium\\n0.84,0.91,3,199,4,0,0,0,IT,medium\\n0.81,0.59,2,236,3,0,0,0,IT,medium\\n0.59,0.51,3,203,2,1,0,0,IT,medium\\n0.78,0.53,3,156,3,0,0,0,product_mng,low\\n0.22,0.52,5,109,4,0,0,0,product_mng,low\\n0.96,0.98,5,248,3,0,0,0,product_mng,low\\n0.85,0.8,4,254,2,0,0,0,product_mng,low\\n0.12,0.73,6,166,3,0,0,0,IT,low\\n0.6,0.68,4,264,2,1,0,0,RandD,low\\n0.93,0.84,5,266,3,0,0,0,RandD,low\\n0.73,0.86,4,138,2,0,0,0,RandD,low\\n0.7,0.66,3,151,2,0,0,0,RandD,low\\n0.18,0.59,4,132,3,0,0,0,RandD,low\\n0.81,0.6,4,133,3,0,0,0,RandD,low\\n0.28,0.9,4,275,6,0,0,0,marketing,low\\n0.74,0.79,3,275,3,0,0,0,sales,low\\n0.5,0.74,4,272,5,0,0,0,accounting,low\\n0.83,0.85,4,201,2,1,0,0,support,low\\n0.55,0.66,3,164,2,0,0,0,technical,low\\n0.77,0.94,4,224,2,0,0,0,management,low\\n0.92,0.58,4,201,2,0,0,0,marketing,low\\n0.59,0.89,5,169,2,1,0,0,marketing,low\\n0.45,0.72,4,149,3,0,0,0,marketing,low\\n0.76,0.97,3,271,3,0,0,0,sales,low\\n0.89,0.69,4,137,3,0,0,0,sales,medium\\n0.73,0.5,3,208,2,0,0,0,sales,medium\\n0.65,0.7,3,231,3,0,0,0,sales,medium\\n0.14,0.96,3,196,5,1,0,0,sales,medium\\n0.3,0.47,2,159,4,0,0,0,sales,medium\\n0.53,0.82,5,184,3,0,0,0,sales,medium\\n0.66,0.89,3,257,3,0,0,0,sales,medium\\n0.84,0.59,3,234,2,0,0,0,sales,medium\\n0.74,0.97,3,239,4,1,0,0,sales,medium\\n0.56,0.4,2,255,3,0,0,0,sales,medium\\n0.42,0.47,4,146,3,1,0,0,sales,medium\\n0.29,0.8,5,103,6,0,0,0,sales,medium\\n0.54,0.72,5,206,4,0,0,0,sales,high\\n0.8,0.52,3,253,2,1,0,0,sales,low\\n0.89,0.93,4,245,4,0,0,0,sales,medium\\n0.92,0.58,3,261,3,1,0,0,sales,medium\\n0.87,0.68,4,217,3,0,0,0,sales,medium\\n0.76,0.82,4,172,3,1,0,0,sales,medium\\n0.64,0.61,3,221,3,0,0,0,accounting,low\\n0.83,0.57,2,246,5,1,0,0,accounting,low\\n0.55,0.6,3,145,4,0,0,0,accounting,low\\n0.83,0.7,5,168,3,0,0,0,hr,low\\n0.58,0.62,5,184,3,0,0,0,hr,low\\n0.67,0.97,4,186,3,0,0,0,hr,low\\n0.65,0.57,3,238,3,0,0,0,hr,low\\n0.89,0.95,5,203,3,0,0,0,technical,low\\n0.84,0.5,5,195,3,0,0,0,technical,low\\n0.5,0.7,5,264,2,0,0,0,technical,low\\n0.7,0.51,3,256,3,0,0,0,technical,low\\n0.79,0.83,5,268,3,0,0,0,technical,low\\n0.19,0.72,6,243,6,1,0,0,technical,low\\n0.89,0.5,4,136,2,1,0,0,technical,low\\n0.36,0.6,2,136,6,0,0,0,technical,low\\n0.62,0.66,5,165,3,0,0,0,technical,low\\n0.84,0.93,6,166,4,0,0,0,technical,low\\n0.65,0.87,4,267,2,0,0,0,technical,low\\n0.65,0.7,4,233,3,0,0,0,support,medium\\n0.87,0.92,3,141,2,0,0,0,support,medium\\n0.66,0.73,5,249,2,0,0,0,support,medium\\n0.83,0.9,3,102,4,0,0,0,support,medium\\n0.89,0.63,3,268,3,0,0,0,support,medium\\n0.91,0.97,4,139,3,0,0,0,support,medium\\n0.91,0.56,3,168,2,0,0,0,support,medium\\n0.83,0.5,4,259,2,0,0,0,support,medium\\n0.87,0.82,4,248,2,0,0,0,support,medium\\n0.62,0.79,3,274,3,0,0,0,support,medium\\n0.54,1,3,169,2,0,0,0,support,medium\\n0.84,0.53,5,190,3,0,0,0,technical,medium\\n0.33,0.82,2,114,5,0,0,0,technical,high\\n0.79,0.58,4,191,6,0,0,0,technical,low\\n0.31,0.41,2,263,3,0,0,0,management,medium\\n0.68,0.81,3,166,2,0,0,0,IT,medium\\n0.52,0.7,4,247,5,0,0,0,IT,medium\\n0.54,0.64,3,203,4,0,0,0,IT,medium\\n0.73,0.78,4,181,4,0,0,0,IT,low\\n0.49,0.74,3,229,3,1,0,0,IT,low\\n0.37,0.67,2,159,2,0,0,0,product_mng,low\\n0.53,0.84,3,151,3,0,0,0,product_mng,low\\n0.58,0.75,4,222,3,1,0,0,product_mng,low\\n0.2,0.51,2,163,2,0,0,0,product_mng,low\\n0.91,0.6,4,163,5,0,0,0,IT,low\\n0.53,0.78,2,138,2,0,0,0,RandD,low\\n0.99,0.72,4,136,3,0,0,0,RandD,low\\n0.97,0.87,3,207,4,0,0,0,RandD,low\\n0.18,0.93,3,245,4,1,0,0,RandD,low\\n0.83,0.93,6,130,5,0,0,0,RandD,low\\n0.49,0.47,4,285,3,0,0,0,RandD,low\\n0.74,0.93,3,204,4,0,0,0,marketing,low\\n0.7,0.6,3,183,3,0,0,0,sales,low\\n0.97,0.91,3,246,2,0,0,0,accounting,low\\n0.92,0.91,3,250,4,0,0,0,support,low\\n0.94,0.7,3,176,3,0,0,0,technical,low\\n1,0.98,3,177,2,0,0,0,management,low\\n0.5,0.51,3,169,4,0,0,0,marketing,low\\n0.77,0.89,3,142,3,0,0,0,marketing,low\\n0.68,0.71,5,135,4,1,0,0,marketing,medium\\n0.57,0.43,3,167,3,0,0,0,sales,medium\\n0.57,0.61,5,191,4,0,0,0,sales,medium\\n0.48,0.97,3,224,6,0,0,0,sales,medium\\n0.7,0.95,5,234,6,1,0,0,sales,medium\\n0.68,0.43,3,161,2,1,0,0,sales,medium\\n0.62,0.68,3,124,3,0,0,0,sales,medium\\n0.61,0.51,4,242,3,0,0,0,sales,medium\\n0.83,0.77,2,186,2,0,0,0,sales,medium\\n0.99,0.8,5,254,5,0,0,0,sales,medium\\n0.58,0.72,4,170,2,0,0,0,sales,medium\\n0.93,0.83,4,225,2,0,0,0,sales,medium\\n0.66,0.5,4,263,3,0,0,0,sales,high\\n0.52,0.98,4,148,3,0,0,0,sales,low\\n0.5,0.6,5,216,3,0,0,0,sales,medium\\n0.16,0.7,5,257,4,0,0,0,sales,medium\\n0.62,0.74,4,173,2,0,0,0,sales,medium\\n0.49,0.49,6,188,3,0,0,0,sales,medium\\n0.56,0.91,4,188,2,1,0,0,sales,low\\n0.96,0.59,4,108,6,0,0,0,sales,low\\n0.5,0.75,5,179,3,0,0,0,accounting,low\\n0.99,0.99,4,195,2,0,0,0,accounting,low\\n0.54,0.51,3,265,3,0,0,0,accounting,low\\n0.52,0.9,4,285,2,0,0,0,hr,low\\n0.81,0.99,5,202,4,0,0,0,hr,low\\n0.5,0.73,4,271,2,0,0,0,hr,low\\n0.51,0.88,3,202,4,0,0,0,hr,low\\n0.41,0.47,6,171,2,0,0,0,technical,low\\n0.62,0.72,2,180,2,1,0,0,technical,low\\n0.56,0.68,3,269,3,1,0,0,technical,low\\n0.96,0.75,3,231,3,0,0,0,technical,low\\n0.58,0.64,2,249,2,0,0,0,technical,low\\n0.66,0.75,3,228,2,0,0,0,technical,low\\n0.56,0.75,2,264,2,0,0,0,technical,low\\n0.56,0.93,4,210,3,1,0,0,technical,low\\n0.67,0.91,3,256,3,0,0,0,technical,low\\n0.72,0.71,5,137,3,0,0,0,technical,low\\n0.59,0.79,4,272,3,0,0,0,technical,low\\n0.95,0.55,5,185,2,0,0,0,support,low\\n1,0.93,3,264,4,0,0,0,support,medium\\n0.56,0.64,3,238,3,0,0,0,support,medium\\n0.52,0.49,4,98,3,0,0,0,support,medium\\n0.88,0.9,4,248,2,0,0,0,support,medium\\n0.58,0.84,4,271,2,0,0,0,support,medium\\n0.86,0.92,3,180,2,0,0,0,support,medium\\n0.19,0.64,5,181,4,1,0,0,support,medium\\n0.6,0.6,4,182,3,0,0,0,support,medium\\n0.82,0.87,3,204,4,0,0,0,support,medium\\n0.64,0.75,4,170,3,0,0,0,support,medium\\n0.83,0.67,4,139,3,0,0,0,technical,medium\\n0.57,0.75,3,159,2,0,0,0,technical,medium\\n0.98,0.92,3,254,3,0,0,0,technical,high\\n0.54,0.69,4,168,2,0,0,0,management,low\\n0.72,0.66,3,256,2,0,0,0,IT,medium\\n0.89,0.87,4,209,2,0,0,0,IT,medium\\n0.41,0.57,3,193,3,1,0,0,IT,medium\\n0.93,0.62,4,142,2,0,0,0,IT,medium\\n0.9,0.9,3,274,3,0,0,0,IT,low\\n0.38,0.59,4,276,2,0,0,0,product_mng,low\\n0.52,0.88,4,155,3,1,0,0,product_mng,low\\n0.99,0.72,3,220,2,1,0,0,product_mng,low\\n0.69,0.74,2,271,2,0,0,0,product_mng,low\\n0.76,0.76,5,175,3,0,0,0,IT,low\\n0.42,0.46,3,128,2,1,0,0,RandD,low\\n0.78,0.9,4,104,4,0,0,0,RandD,low\\n0.37,0.46,3,173,6,0,0,0,RandD,medium\\n0.89,0.39,6,190,3,1,0,0,RandD,medium\\n0.93,0.49,5,167,3,0,0,0,RandD,medium\\n0.98,0.56,3,187,3,0,0,0,RandD,medium\\n0.65,0.56,3,259,3,0,0,0,marketing,medium\\n0.3,0.61,3,138,5,0,0,0,sales,medium\\n0.97,1,5,251,2,0,0,0,accounting,medium\\n0.84,0.49,5,189,2,0,0,0,support,medium\\n0.76,0.76,4,149,3,0,0,0,technical,medium\\n0.5,0.74,4,246,3,0,0,0,management,medium\\n0.48,0.61,3,146,3,0,0,0,marketing,medium\\n0.56,0.63,4,204,4,0,0,0,marketing,medium\\n0.99,0.77,4,184,3,0,0,0,marketing,medium\\n0.65,0.94,4,174,3,0,0,0,sales,medium\\n0.92,0.81,3,196,2,0,0,0,sales,medium\\n0.88,0.76,3,223,3,0,0,0,sales,medium\\n0.99,0.86,3,198,3,0,0,0,sales,medium\\n0.96,0.93,5,141,2,1,0,0,sales,medium\\n0.55,0.85,4,273,2,0,0,0,sales,medium\\n0.71,0.94,4,209,3,0,0,0,sales,medium\\n0.72,0.68,3,135,4,0,0,0,sales,medium\\n0.23,0.5,5,100,3,0,0,0,sales,medium\\n0.78,0.61,3,193,3,0,0,0,sales,medium\\n0.82,0.61,3,229,2,0,0,0,sales,medium\\n0.49,0.74,4,104,4,0,0,0,sales,medium\\n0.96,0.82,4,201,2,0,0,0,sales,high\\n0.5,0.78,3,206,3,1,0,1,sales,high\\n0.98,0.57,5,141,3,0,0,1,sales,high\\n0.85,0.57,4,150,3,0,0,1,sales,high\\n0.72,0.75,3,166,3,0,0,1,sales,high\\n0.78,0.83,4,252,2,0,0,1,sales,high\\n0.62,0.43,2,106,2,0,0,1,sales,high\\n0.64,0.38,5,171,6,1,0,1,accounting,high\\n0.24,0.5,4,232,3,0,0,1,accounting,high\\n0.84,0.78,5,172,2,0,0,1,accounting,high\\n0.61,0.61,4,239,2,0,0,1,hr,high\\n0.79,0.71,4,222,3,0,0,1,hr,high\\n0.86,0.77,3,152,3,0,0,1,hr,low\\n0.7,0.54,3,198,3,1,0,1,hr,low\\n0.53,0.76,5,143,4,0,0,1,technical,low\\n0.58,0.88,3,157,4,0,0,1,technical,low\\n0.45,0.55,5,268,2,0,0,0,technical,low\\n0.86,0.87,4,183,3,0,0,0,technical,low\\n0.95,0.81,4,238,2,0,0,0,technical,low\\n0.51,0.84,4,214,2,0,0,0,technical,low\\n0.35,0.41,6,244,3,0,0,0,technical,low\\n0.99,0.57,3,221,3,0,0,0,technical,low\\n0.73,0.49,4,200,2,1,0,0,technical,low\\n0.44,0.48,2,226,3,0,0,0,technical,low\\n0.43,0.74,4,121,5,1,0,0,technical,low\\n0.81,0.77,5,249,2,0,0,0,support,low\\n0.77,0.83,3,204,3,0,0,0,support,low\\n0.52,0.86,5,256,3,0,0,0,support,medium\\n0.21,0.92,2,211,2,0,0,0,support,medium\\n0.88,0.93,3,162,3,0,0,0,support,medium\\n0.48,0.8,5,235,2,0,0,0,support,medium\\n0.21,0.63,5,226,3,0,0,0,support,medium\\n0.81,0.53,4,242,3,0,0,0,support,medium\\n0.38,0.77,3,173,5,0,0,0,support,medium\\n0.67,0.77,5,167,2,0,0,0,support,medium\\n0.87,0.94,4,256,2,0,0,0,support,medium\\n0.85,0.41,2,229,6,0,0,0,technical,medium\\n0.52,0.9,5,176,3,0,0,0,technical,medium\\n0.9,0.95,3,133,4,0,0,0,technical,medium\\n0.85,0.56,5,203,3,0,0,0,management,high\\n0.77,0.52,3,210,3,1,0,0,IT,high\\n0.61,0.97,4,198,2,0,0,0,IT,high\\n0.74,0.54,3,175,3,1,0,0,IT,high\\n0.56,0.85,5,245,3,0,0,0,IT,high\\n0.28,0.97,4,102,3,0,0,0,IT,high\\n0.86,0.68,2,192,3,0,0,0,product_mng,high\\n0.63,0.78,4,160,2,0,0,0,product_mng,high\\n0.85,0.96,3,211,2,0,0,0,product_mng,low\\n0.84,0.84,6,261,5,0,0,0,product_mng,low\\n0.98,0.6,4,191,3,0,0,0,IT,low\\n0.51,0.78,5,225,4,0,0,0,RandD,low\\n0.71,0.85,4,157,2,0,0,0,RandD,low\\n0.88,0.69,3,248,4,0,0,0,RandD,low\\n0.16,0.81,2,159,6,1,0,0,RandD,low\\n0.98,0.86,4,254,2,1,0,0,RandD,low\\n0.81,0.76,3,203,3,0,0,0,RandD,medium\\n0.17,0.79,2,126,5,0,0,0,marketing,medium\\n0.22,0.65,6,212,4,0,0,0,sales,medium\\n0.67,0.69,5,225,3,0,0,0,accounting,medium\\n0.72,0.83,5,193,2,0,0,0,support,medium\\n0.67,0.91,3,147,3,0,0,0,technical,medium\\n0.47,0.55,2,156,2,0,0,0,management,medium\\n0.51,0.75,3,234,2,1,0,0,marketing,medium\\n0.88,0.71,5,246,3,0,0,0,marketing,medium\\n0.48,0.94,4,231,4,0,0,0,marketing,medium\\n0.66,0.99,4,209,3,0,0,0,sales,medium\\n0.58,0.5,3,144,3,0,0,0,sales,medium\\n0.23,0.96,2,234,4,0,0,0,sales,medium\\n0.86,0.77,5,230,2,0,0,0,sales,medium\\n0.81,0.99,2,156,5,0,0,0,sales,medium\\n0.75,0.54,6,138,4,1,0,0,sales,medium\\n0.49,0.89,2,233,4,1,0,0,sales,medium\\n0.31,0.5,3,262,5,0,0,0,sales,medium\\n0.83,0.75,6,215,5,0,0,0,sales,medium\\n0.7,0.55,4,227,3,0,0,0,sales,medium\\n0.49,0.99,3,199,3,0,0,0,sales,medium\\n0.57,0.92,3,238,2,0,0,0,sales,medium\\n0.37,0.45,6,100,5,1,0,0,sales,medium\\n0.69,0.75,3,179,2,1,0,0,sales,high\\n0.62,0.98,4,107,2,0,0,0,sales,low\\n0.5,0.68,4,274,4,0,0,0,sales,medium\\n0.81,0.73,4,272,2,0,0,0,sales,medium\\n0.2,0.41,6,264,3,0,0,0,sales,medium\\n0.22,0.58,2,255,5,0,0,0,sales,medium\\n0.63,0.79,5,215,2,1,0,0,accounting,medium\\n0.68,0.53,3,156,4,0,0,0,accounting,medium\\n0.52,0.49,3,146,2,1,0,0,accounting,medium\\n0.22,0.52,6,217,6,0,0,0,hr,medium\\n0.51,0.82,3,206,4,0,0,0,hr,medium\\n0.66,0.92,4,239,3,0,0,0,hr,medium\\n0.26,0.37,2,232,3,1,0,0,hr,low\\n0.42,0.4,3,160,2,0,0,0,technical,low\\n0.86,0.77,5,237,3,1,0,0,technical,low\\n0.52,0.68,3,162,4,1,0,0,technical,low\\n0.95,0.64,3,138,4,1,0,0,technical,low\\n0.63,0.94,2,228,2,1,0,0,technical,low\\n1,0.54,3,151,2,1,0,0,technical,low\\n0.54,0.58,3,169,2,1,0,0,technical,high\\n0.9,0.7,3,147,4,0,0,0,technical,low\\n0.49,0.99,6,205,5,0,0,0,technical,high\\n0.81,0.6,3,140,2,0,0,0,technical,high\\n0.5,0.66,4,150,4,0,0,0,technical,low\\n0.7,0.88,4,191,3,1,0,0,support,low\\n0.5,0.85,4,150,2,0,0,0,support,high\\n0.98,0.66,2,255,3,0,0,0,support,low\\n0.86,0.51,3,230,3,0,0,0,support,medium\\n0.93,0.77,3,202,5,0,0,0,support,high\\n0.62,0.75,3,180,3,0,0,0,support,medium\\n0.64,0.57,3,179,3,0,0,0,support,medium\\n0.66,0.94,4,198,3,1,0,0,support,medium\\n0.65,0.86,4,267,2,0,0,0,support,medium\\n0.89,0.84,3,166,2,0,0,0,support,high\\n0.77,0.58,4,162,2,0,0,0,support,medium\\n0.4,0.36,4,128,4,0,0,0,technical,medium\\n0.36,0.44,4,114,4,0,0,0,technical,medium\\n0.3,0.48,2,104,2,0,0,0,technical,high\\n0.9,0.64,4,139,3,1,0,0,management,medium\\n0.23,0.49,5,214,5,0,0,0,IT,high\\n0.24,0.79,2,175,5,0,0,0,IT,low\\n0.98,0.92,4,175,2,0,0,0,IT,medium\\n0.49,0.48,2,186,2,0,0,0,IT,medium\\n0.23,0.48,3,139,4,0,0,0,IT,medium\\n0.79,0.71,3,202,3,0,0,0,product_mng,medium\\n0.21,0.76,4,165,6,1,0,0,product_mng,low\\n0.38,0.92,5,238,2,0,0,0,product_mng,low\\n0.17,0.59,4,179,4,0,0,0,product_mng,low\\n0.56,0.69,5,239,2,1,0,0,IT,low\\n0.97,0.7,5,195,2,1,0,0,RandD,low\\n0.22,0.78,6,206,6,0,0,0,RandD,low\\n0.84,0.88,3,194,3,0,0,0,RandD,low\\n0.64,0.63,5,105,5,1,0,0,RandD,low\\n0.78,0.69,5,256,3,0,0,0,RandD,low\\n0.23,0.4,6,110,4,1,0,0,marketing,low\\n0.99,0.82,6,185,4,1,0,0,sales,high\\n0.15,0.76,4,255,6,0,0,0,accounting,low\\n0.24,0.96,3,174,6,0,0,0,support,low\\n0.84,0.71,4,273,3,0,0,0,technical,low\\n0.82,0.58,2,248,6,0,0,0,management,low\\n0.17,0.86,3,286,6,0,0,0,marketing,high\\n0.72,0.71,5,248,2,0,0,0,marketing,low\\n0.86,0.91,3,234,3,1,0,0,marketing,low\\n0.75,0.55,3,162,3,0,0,0,sales,low\\n0.93,0.82,5,272,3,0,0,0,sales,high\\n0.75,0.52,3,260,3,1,0,0,sales,low\\n0.45,0.55,3,151,3,0,0,0,sales,medium\\n0.44,0.87,2,140,4,0,0,0,sales,high\\n0.55,0.9,5,237,3,0,0,0,sales,medium\\n0.78,0.56,5,252,2,0,0,0,sales,high\\n0.5,0.52,4,178,3,0,0,0,sales,medium\\n0.96,0.66,4,268,3,0,0,0,sales,medium\\n0.72,0.53,5,244,4,0,0,0,sales,medium\\n0.77,0.55,3,225,3,0,0,0,sales,medium\\n0.89,0.94,5,223,3,0,0,0,sales,medium\\n0.58,0.79,4,149,6,0,0,0,sales,medium\\n0.75,0.96,5,190,3,0,0,0,sales,medium\\n0.77,0.8,4,167,3,0,0,0,sales,medium\\n0.76,0.87,4,161,3,0,0,0,sales,high\\n0.87,0.76,4,218,2,0,0,0,sales,low\\n0.95,0.74,3,212,3,0,0,0,sales,medium\\n0.73,0.54,3,150,3,0,0,0,sales,medium\\n0.2,0.56,5,181,6,0,0,0,accounting,medium\\n0.55,0.43,3,120,6,1,0,0,accounting,medium\\n0.21,0.53,3,229,5,0,0,0,accounting,medium\\n0.91,0.74,3,139,5,1,0,0,hr,medium\\n0.61,0.87,4,151,3,0,0,0,hr,medium\\n0.89,0.59,4,230,3,0,0,0,hr,medium\\n0.65,0.76,4,193,2,0,0,0,hr,medium\\n0.7,0.48,4,229,2,0,0,0,technical,high\\n0.79,0.95,3,222,4,0,0,0,technical,low\\n0.99,0.67,3,200,2,0,0,0,technical,low\\n0.52,0.77,4,134,4,0,0,0,technical,low\\n0.71,0.97,3,219,3,0,0,0,technical,high\\n0.21,0.58,5,197,4,0,0,0,technical,low\\n0.4,0.62,3,283,5,0,0,0,technical,low\\n0.74,0.75,4,149,3,0,0,0,technical,low\\n0.79,0.6,4,161,3,0,0,0,technical,high\\n0.88,0.58,5,264,3,0,0,0,technical,low\\n0.89,0.93,4,137,2,0,0,0,technical,low\\n0.61,0.72,3,144,2,0,0,0,support,low\\n0.48,0.54,4,105,5,1,0,0,support,low\\n0.81,0.98,6,196,2,0,0,0,support,low\\n0.71,0.74,3,250,3,0,0,0,support,low\\n0.92,0.53,3,253,3,0,0,0,support,low\\n0.99,0.71,4,199,4,0,0,0,support,medium\\n0.74,0.55,6,130,2,0,0,0,support,medium\\n1,0.94,3,257,4,0,0,0,support,medium\\n0.81,0.55,3,127,4,0,0,0,support,medium\\n0.59,0.7,2,153,2,0,0,0,support,medium\\n0.9,0.58,5,260,2,0,0,0,support,medium\\n0.98,0.9,4,247,2,0,0,0,technical,medium\\n0.56,0.55,3,250,4,0,0,0,technical,medium\\n0.86,0.89,4,136,4,0,0,0,technical,medium\\n0.82,0.59,3,210,3,0,0,0,management,medium\\n0.94,0.53,4,183,3,0,0,0,IT,medium\\n0.68,0.96,4,255,3,0,0,0,IT,medium\\n0.81,0.69,5,109,2,0,0,0,IT,high\\n0.59,0.59,3,173,3,0,0,0,IT,low\\n0.54,0.82,4,266,2,0,0,0,IT,medium\\n0.77,0.87,5,257,2,0,0,0,product_mng,medium\\n0.62,0.61,6,103,4,0,0,0,product_mng,medium\\n0.58,0.57,5,105,6,0,0,0,product_mng,medium\\n0.63,0.84,3,269,2,0,0,0,product_mng,low\\n0.78,1,4,154,2,0,0,0,IT,low\\n0.82,0.78,5,232,3,0,0,0,RandD,low\\n0.73,0.86,3,215,4,0,0,0,RandD,low\\n0.53,0.74,4,272,2,1,0,0,RandD,low\\n0.88,0.62,4,221,2,0,0,0,RandD,low\\n0.65,0.6,4,200,4,0,0,0,RandD,low\\n0.57,0.61,5,254,5,0,0,0,marketing,low\\n0.93,0.76,5,187,3,0,0,0,marketing,low\\n0.83,0.64,2,192,2,0,0,0,sales,low\\n0.73,0.45,5,232,4,0,0,0,accounting,low\\n0.78,0.67,4,221,3,1,0,0,support,low\\n0.9,0.62,3,233,5,1,0,0,technical,low\\n0.59,0.66,3,166,3,1,0,0,management,low\\n0.67,0.89,2,173,3,0,0,0,marketing,low\\n0.59,0.51,4,184,2,0,0,0,marketing,low\\n0.53,0.54,4,257,3,1,0,0,marketing,low\\n0.56,0.73,4,226,2,0,0,0,sales,low\\n0.72,0.89,3,221,3,0,0,0,sales,low\\n0.81,0.49,2,205,5,1,0,0,sales,low\\n0.54,0.68,3,158,3,0,0,0,sales,low\\n0.91,0.87,3,199,3,0,0,0,sales,medium\\n0.51,0.96,3,192,3,0,0,0,sales,medium\\n0.59,0.39,4,190,5,0,0,0,sales,medium\\n0.64,0.86,5,222,3,0,0,0,sales,medium\\n0.95,0.68,5,225,3,0,0,0,sales,medium\\n0.75,0.69,3,274,2,0,0,0,sales,medium\\n0.44,0.38,3,197,2,0,0,0,sales,medium\\n0.55,0.6,4,176,3,0,0,0,sales,medium\\n0.6,0.81,3,226,2,0,0,0,sales,medium\\n0.84,0.58,5,186,2,0,0,0,sales,medium\\n0.49,0.65,3,226,3,0,0,0,sales,medium\\n0.75,0.71,4,209,3,0,0,0,sales,medium\\n0.35,0.81,5,182,5,0,0,0,sales,high\\n0.68,0.78,3,232,3,0,0,0,sales,low\\n0.52,0.53,2,286,3,0,0,0,sales,medium\\n0.78,0.57,3,177,3,0,0,0,accounting,medium\\n0.44,0.92,6,268,4,1,0,0,accounting,medium\\n0.18,0.86,5,267,4,0,0,0,accounting,medium\\n0.37,0.52,4,211,4,0,0,0,hr,low\\n0.71,0.76,3,246,3,0,0,0,hr,low\\n0.55,0.83,5,220,3,0,0,0,hr,low\\n0.98,0.78,3,197,2,0,0,0,hr,low\\n0.88,0.53,3,188,3,0,0,0,technical,low\\n0.79,0.9,5,212,5,0,0,0,technical,low\\n0.96,0.66,3,230,3,0,0,0,technical,low\\n0.3,0.55,6,178,2,0,0,0,technical,low\\n0.59,0.9,4,226,2,0,0,0,technical,low\\n0.72,0.55,4,202,3,0,0,0,technical,low\\n0.59,0.87,4,191,2,0,0,0,technical,low\\n0.93,0.68,2,150,3,0,0,0,technical,low\\n0.49,0.86,5,235,5,0,0,0,technical,low\\n0.73,0.95,3,258,3,0,0,0,technical,low\\n0.53,0.6,5,247,3,0,0,0,technical,low\\n0.77,0.83,6,271,3,0,0,0,support,low\\n0.45,0.62,6,129,5,0,0,0,support,low\\n0.95,0.78,5,246,3,0,0,0,support,low\\n0.86,0.69,5,157,4,0,0,0,support,low\\n0.59,0.58,4,233,4,0,0,0,support,low\\n0.95,0.63,4,153,3,0,0,0,support,low\\n0.7,0.92,4,142,2,1,0,0,support,medium\\n0.56,0.64,5,241,3,1,0,0,support,medium\\n0.5,0.92,3,186,2,0,0,0,support,medium\\n0.76,0.92,4,154,3,0,0,0,support,medium\\n0.85,0.77,5,263,3,0,0,0,support,medium\\n0.98,1,5,150,3,0,0,0,technical,medium\\n0.65,0.4,2,277,2,0,0,0,technical,medium\\n0.44,0.97,4,240,5,1,0,0,technical,medium\\n0.55,0.97,3,222,2,0,0,0,management,medium\\n0.16,0.8,4,140,5,1,0,0,IT,medium\\n0.16,0.9,6,213,2,0,0,0,IT,medium\\n0.75,1,4,272,4,1,0,0,IT,medium\\n0.59,0.57,4,261,2,0,0,0,IT,high\\n0.48,0.87,3,236,2,0,0,0,IT,low\\n0.18,0.68,6,154,5,0,0,0,product_mng,medium\\n0.8,0.72,3,271,2,0,0,0,product_mng,medium\\n0.8,0.88,3,154,2,0,0,0,product_mng,medium\\n0.15,0.52,4,207,4,0,0,0,product_mng,medium\\n0.62,0.86,4,181,2,0,0,0,IT,low\\n0.21,0.99,6,165,4,1,0,0,RandD,low\\n0.9,0.82,3,203,2,0,0,0,RandD,low\\n0.51,1,4,197,2,0,0,0,RandD,low\\n0.99,0.9,4,177,3,0,0,0,RandD,low\\n0.71,0.49,4,273,2,1,0,0,RandD,low\\n0.89,0.93,4,141,2,0,0,0,marketing,low\\n0.74,0.67,4,158,3,0,0,0,sales,low\\n0.84,0.85,3,243,2,0,0,0,accounting,low\\n0.4,0.64,3,188,3,0,0,0,support,low\\n1,0.71,4,216,2,0,0,0,technical,low\\n0.48,0.51,5,286,3,0,0,0,management,low\\n0.99,0.6,3,262,2,0,0,0,marketing,low\\n0.73,0.81,5,173,3,0,0,0,marketing,low\\n0.84,0.91,3,247,4,0,0,0,marketing,low\\n0.55,0.7,3,237,4,0,0,0,sales,low\\n0.44,0.99,5,119,2,0,0,0,sales,low\\n0.95,0.67,4,227,3,0,0,0,sales,low\\n0.76,0.65,4,195,3,0,0,0,sales,low\\n0.94,0.7,6,217,5,0,0,0,sales,low\\n0.85,0.5,4,267,3,0,0,0,sales,low\\n0.57,0.62,3,154,2,0,0,0,sales,medium\\n0.67,0.49,5,161,2,0,0,0,sales,medium\\n0.7,0.67,3,179,3,1,0,0,sales,medium\\n0.67,0.55,4,214,3,1,0,0,sales,medium\\n0.72,0.84,3,167,3,0,0,0,sales,medium\\n0.71,0.53,6,203,3,0,0,0,sales,medium\\n0.51,0.8,4,231,3,0,0,0,sales,medium\\n0.98,0.65,4,263,2,1,0,0,sales,medium\\n0.52,0.83,2,227,4,0,0,0,sales,medium\\n0.21,0.9,4,235,4,0,0,0,sales,medium\\n0.43,0.93,6,127,3,1,0,0,sales,medium\\n0.91,0.62,4,158,3,1,0,0,sales,medium\\n0.74,0.85,4,105,5,0,0,0,sales,high\\n0.34,0.81,3,257,5,0,0,0,accounting,low\\n0.28,0.46,4,260,2,0,0,0,accounting,medium\\n0.7,0.79,6,145,3,0,0,0,accounting,medium\\n0.53,0.59,2,201,3,1,0,0,hr,medium\\n0.97,0.51,4,241,4,0,0,0,hr,medium\\n0.96,0.59,3,214,2,0,0,0,hr,low\\n0.74,0.53,4,166,3,0,0,0,hr,low\\n0.79,0.86,4,173,4,0,0,0,technical,low\\n0.61,0.47,4,181,5,0,0,0,technical,low\\n0.36,0.4,4,114,4,1,0,0,technical,low\\n0.15,0.91,5,267,4,0,0,0,technical,low\\n0.61,0.5,4,216,2,0,0,0,technical,low\\n0.59,0.94,4,265,3,0,0,0,technical,low\\n0.58,0.77,5,272,2,1,0,0,technical,low\\n0.49,0.92,4,229,2,0,0,0,technical,low\\n0.92,0.96,5,174,3,1,0,0,technical,low\\n0.72,0.92,3,264,3,0,0,0,technical,low\\n0.77,0.85,5,221,5,0,0,0,technical,low\\n0.6,0.57,3,202,3,0,0,0,support,low\\n0.21,0.4,3,262,3,0,0,0,support,low\\n0.83,0.75,3,150,3,0,0,0,support,low\\n0.71,0.95,3,251,3,0,0,0,support,low\\n0.94,0.46,2,230,2,1,0,0,support,low\\n0.59,0.99,3,185,2,0,0,0,support,medium\\n0.59,0.59,4,216,2,1,0,0,support,medium\\n0.99,0.68,3,181,3,1,0,0,support,medium\\n0.64,0.7,5,140,4,0,0,0,support,medium\\n0.54,0.5,4,160,3,0,0,0,support,medium\\n0.78,0.63,3,192,2,0,0,0,support,medium\\n0.7,0.79,6,257,4,0,0,0,technical,medium\\n0.9,0.62,5,236,6,0,0,0,technical,medium\\n0.14,0.74,6,160,5,0,0,0,technical,medium\\n0.33,0.69,3,125,3,0,0,0,management,medium\\n0.73,0.53,4,139,2,0,0,0,IT,medium\\n0.8,0.87,4,217,3,0,0,0,IT,medium\\n0.17,0.91,6,246,5,0,0,0,IT,high\\n0.34,0.91,4,284,4,0,0,0,IT,low\\n0.61,0.9,3,263,3,0,0,0,IT,medium\\n0.18,0.95,4,241,6,0,0,0,product_mng,medium\\n0.72,0.94,3,258,3,0,0,0,product_mng,medium\\n0.32,0.79,4,136,3,0,0,0,product_mng,medium\\n0.85,0.81,2,223,3,1,0,0,product_mng,low\\n0.85,0.74,5,170,4,0,0,0,IT,low\\n0.8,0.81,4,194,3,1,0,0,RandD,low\\n0.36,0.82,4,218,5,0,0,0,RandD,low\\n0.8,0.99,6,178,5,0,0,0,RandD,low\\n0.55,0.9,3,181,3,1,0,0,RandD,low\\n0.69,0.56,3,183,4,1,0,0,RandD,low\\n0.71,0.61,2,198,2,1,0,0,marketing,low\\n0.74,0.56,3,203,3,0,0,0,sales,low\\n0.76,0.89,5,204,3,0,0,0,accounting,low\\n0.81,0.62,3,257,3,0,0,0,support,low\\n0.59,1,4,169,2,0,0,0,technical,low\\n0.97,0.69,4,203,2,0,0,0,management,low\\n0.98,0.74,4,260,2,1,0,0,marketing,low\\n0.96,0.87,5,202,2,0,0,0,marketing,low\\n0.82,0.63,4,199,2,0,0,0,marketing,low\\n0.97,0.93,2,270,4,0,0,0,sales,low\\n0.74,0.51,5,258,2,0,0,0,sales,low\\n0.14,0.52,4,108,6,0,0,0,sales,low\\n0.3,0.67,3,232,3,0,0,0,sales,low\\n0.74,0.89,4,149,2,0,0,0,sales,low\\n0.85,0.48,4,214,3,0,0,0,sales,medium\\n0.69,0.65,4,136,2,0,0,0,sales,medium\\n0.6,0.95,4,164,4,0,0,0,sales,medium\\n0.53,0.85,3,236,6,0,0,0,sales,medium\\n0.94,0.88,3,270,3,0,0,0,sales,medium\\n0.57,0.63,5,156,4,0,0,0,sales,medium\\n0.2,0.73,3,250,5,0,0,0,sales,medium\\n0.82,0.92,4,196,3,0,0,0,sales,medium\\n0.62,0.92,5,169,2,0,0,0,sales,medium\\n0.88,0.59,2,144,3,0,0,0,sales,medium\\n0.82,0.62,4,160,3,0,0,0,sales,medium\\n0.62,0.91,3,142,6,1,0,0,sales,medium\\n0.74,0.48,5,165,2,0,0,0,sales,high\\n0.91,0.66,4,163,3,0,0,0,sales,low\\n0.7,0.96,3,263,3,0,0,0,accounting,medium\\n0.84,0.9,3,178,2,0,0,0,accounting,medium\\n0.35,0.57,3,109,3,0,0,0,accounting,medium\\n0.28,0.83,4,206,5,0,0,0,hr,medium\\n0.37,0.37,3,168,3,0,0,0,hr,low\\n0.75,0.5,4,155,2,1,0,0,hr,low\\n0.34,0.6,4,154,2,0,0,0,hr,low\\n0.55,0.5,4,179,3,0,0,0,technical,low\\n0.97,0.92,3,168,3,0,0,0,technical,low\\n0.91,0.57,3,158,3,0,0,0,technical,low\\n0.48,0.63,3,180,2,1,0,0,technical,low\\n0.53,0.71,4,227,3,0,0,0,technical,low\\n0.84,0.67,3,139,2,0,0,0,technical,low\\n0.31,0.69,3,120,3,0,0,0,technical,low\\n0.81,0.62,4,255,4,1,0,0,technical,low\\n0.78,0.95,5,273,2,0,0,0,technical,low\\n0.64,0.68,3,272,3,0,0,0,technical,low\\n0.41,0.77,4,231,6,0,0,0,technical,low\\n0.74,0.81,5,281,3,1,0,0,support,low\\n0.89,0.86,3,208,3,0,0,0,support,low\\n0.26,0.43,4,215,4,1,0,0,support,low\\n0.72,0.39,5,111,5,0,0,0,support,low\\n0.84,0.74,2,168,3,0,0,0,support,low\\n0.52,0.8,2,144,4,0,0,0,support,low\\n0.65,0.95,3,266,3,1,0,0,support,low\\n0.66,0.56,3,169,2,1,0,0,support,medium\\n0.86,0.63,4,162,2,0,0,0,support,medium\\n0.91,0.9,3,243,3,0,0,0,support,medium\\n0.84,0.6,3,186,3,1,0,0,support,medium\\n0.87,0.57,4,231,4,0,0,0,technical,medium\\n0.57,0.54,4,167,3,0,0,0,technical,medium\\n0.68,0.5,3,139,3,0,0,0,technical,medium\\n1,0.59,5,182,3,1,0,0,management,medium\\n0.86,0.74,4,261,2,0,0,0,IT,medium\\n0.7,0.99,4,248,3,0,0,0,IT,medium\\n0.28,0.7,2,164,4,0,0,0,IT,medium\\n0.84,0.9,3,230,3,0,0,0,IT,medium\\n0.68,0.92,3,226,2,0,0,0,IT,high\\n0.45,0.6,2,98,3,0,0,0,product_mng,low\\n0.37,0.74,5,117,3,0,0,0,product_mng,medium\\n0.98,0.84,4,200,2,0,0,0,product_mng,medium\\n0.67,0.57,3,206,3,1,0,0,product_mng,medium\\n0.74,0.83,4,142,3,0,0,0,IT,medium\\n0.48,0.46,2,174,3,0,0,0,RandD,low\\n0.22,0.63,5,284,6,0,0,0,RandD,low\\n0.14,0.79,5,163,6,0,0,0,RandD,low\\n0.93,0.92,5,189,2,0,0,0,RandD,low\\n0.83,0.54,4,189,4,0,0,0,RandD,low\\n0.94,0.79,3,256,3,0,0,0,marketing,low\\n0.7,0.98,3,215,2,0,0,0,sales,low\\n0.74,0.86,4,221,2,1,0,0,accounting,low\\n0.83,0.85,4,263,3,0,0,0,support,medium\\n0.97,0.61,3,208,3,0,0,0,technical,medium\\n0.61,0.71,3,216,4,0,0,0,management,medium\\n0.77,0.71,2,242,2,0,0,0,marketing,medium\\n0.66,0.73,2,135,6,0,0,0,marketing,medium\\n0.92,0.99,3,190,3,0,0,0,marketing,medium\\n0.62,0.55,3,108,2,1,0,0,sales,medium\\n0.15,0.67,6,195,2,0,0,0,sales,medium\\n0.82,0.68,3,160,4,0,0,0,sales,medium\\n0.7,0.48,5,273,2,0,0,0,sales,medium\\n0.18,0.39,2,177,6,0,0,0,sales,medium\\n0.99,0.59,3,163,2,0,0,0,sales,medium\\n0.22,0.9,4,106,2,0,0,0,sales,medium\\n0.61,0.83,5,236,2,0,0,0,sales,medium\\n0.78,0.91,3,132,2,0,0,0,sales,medium\\n0.84,0.61,3,253,2,0,0,0,sales,medium\\n0.87,0.74,4,151,4,0,0,0,sales,medium\\n0.73,0.9,4,266,3,0,0,0,sales,medium\\n0.7,0.86,3,141,2,1,0,0,sales,medium\\n0.98,0.71,5,217,3,0,0,0,sales,medium\\n0.85,0.49,3,258,3,0,0,0,sales,medium\\n0.56,0.83,5,275,2,0,0,0,sales,medium\\n0.48,0.62,4,210,2,0,0,0,sales,medium\\n0.65,0.7,3,243,3,0,0,0,sales,medium\\n0.84,0.59,3,234,3,1,0,0,sales,medium\\n0.17,0.73,4,274,3,0,0,0,accounting,high\\n0.84,0.61,4,261,2,0,0,0,accounting,high\\n0.96,0.59,3,158,3,1,0,0,accounting,high\\n0.62,0.96,5,251,2,0,0,0,hr,high\\n0.57,0.7,3,158,3,0,0,0,hr,high\\n0.98,0.87,3,246,3,0,0,0,hr,high\\n0.72,0.99,4,227,3,0,0,0,hr,high\\n0.43,0.46,4,169,5,0,0,0,technical,high\\n0.68,0.57,5,187,4,0,0,0,technical,high\\n0.69,0.86,4,238,3,0,0,0,technical,high\\n0.91,0.66,4,139,3,0,0,0,technical,high\\n0.42,0.37,2,284,3,0,0,0,technical,high\\n0.8,0.99,4,255,5,1,0,0,technical,low\\n0.79,0.57,5,230,2,0,0,0,technical,low\\n1,0.94,3,272,3,0,0,0,technical,low\\n0.63,0.75,4,155,3,0,0,0,technical,low\\n0.61,0.51,6,163,6,0,0,0,technical,low\\n0.78,0.98,4,260,3,0,0,0,technical,low\\n0.72,0.96,5,223,3,1,0,0,support,low\\n0.64,0.51,4,247,2,1,0,0,support,low\\n0.79,0.86,3,126,5,0,0,0,support,low\\n0.64,0.55,3,147,2,0,0,0,support,low\\n0.82,0.88,4,259,3,0,0,0,support,low\\n0.51,0.86,4,196,2,0,0,0,support,low\\n0.18,0.51,6,227,2,0,0,0,support,low\\n0.67,0.58,5,161,3,1,0,0,support,low\\n0.65,0.85,3,213,2,0,0,0,support,low\\n0.7,0.8,4,183,2,0,0,0,support,medium\\n0.59,0.59,3,194,2,1,0,0,support,medium\\n0.56,0.76,3,237,3,0,0,0,technical,medium\\n0.17,0.94,5,273,4,0,0,0,technical,medium\\n0.8,0.89,2,166,3,0,0,0,technical,medium\\n0.91,0.62,5,169,4,0,0,0,management,medium\\n0.51,0.54,3,154,3,1,0,0,IT,medium\\n0.76,0.59,3,201,6,1,0,0,IT,medium\\n0.82,0.59,3,178,2,0,0,0,IT,medium\\n0.44,0.66,3,161,3,0,0,0,IT,medium\\n0.5,0.48,4,269,3,0,0,0,IT,medium\\n0.54,0.49,3,203,3,1,0,0,product_mng,medium\\n0.56,0.63,4,271,2,1,0,0,product_mng,high\\n0.77,0.66,6,181,4,0,0,0,product_mng,high\\n0.39,0.38,4,135,2,0,0,0,product_mng,high\\n0.52,0.62,3,275,2,0,0,0,IT,high\\n0.63,0.91,3,252,2,0,0,0,RandD,high\\n0.49,0.46,2,129,2,0,0,0,RandD,high\\n0.2,0.47,4,230,4,0,0,0,RandD,high\\n0.21,0.94,3,287,5,0,0,0,RandD,high\\n0.85,0.98,5,156,2,0,0,0,RandD,low\\n0.54,0.82,2,279,3,1,0,0,marketing,low\\n0.23,0.88,5,156,4,0,0,0,sales,low\\n0.65,0.96,3,168,2,0,0,0,accounting,low\\n0.19,0.85,6,259,3,1,0,0,support,low\\n0.76,0.58,4,188,3,0,0,0,technical,low\\n0.83,0.8,4,149,3,0,0,0,management,low\\n0.97,0.47,3,157,4,0,0,0,marketing,low\\n0.67,1,3,201,4,0,0,0,marketing,medium\\n0.53,0.62,3,185,3,0,0,0,marketing,medium\\n0.34,0.71,2,160,3,1,0,0,sales,medium\\n0.58,0.48,5,251,3,0,0,0,sales,medium\\n0.96,0.68,5,145,3,1,0,0,sales,medium\\n0.72,0.76,3,269,3,1,0,0,sales,medium\\n0.58,0.62,3,213,2,0,0,0,sales,medium\\n0.39,0.67,6,276,6,0,0,0,sales,medium\\n0.24,0.57,5,232,3,0,0,0,sales,medium\\n0.64,0.73,4,184,3,0,0,0,sales,medium\\n0.98,0.55,3,260,3,0,0,0,sales,medium\\n0.64,0.99,3,214,2,0,0,0,sales,medium\\n0.56,0.41,2,194,2,0,0,0,sales,medium\\n0.53,0.74,5,181,2,0,0,0,sales,medium\\n0.62,0.57,4,215,3,0,0,0,sales,medium\\n0.85,0.69,3,194,4,0,0,0,sales,medium\\n0.76,0.85,4,190,3,0,0,0,sales,medium\\n0.69,0.5,3,260,4,0,0,0,sales,medium\\n0.35,0.67,2,171,3,0,0,0,sales,medium\\n0.54,0.47,2,193,4,0,0,0,sales,medium\\n0.63,0.49,3,252,3,0,0,0,sales,medium\\n0.58,0.58,5,171,2,0,0,0,accounting,medium\\n0.7,0.93,3,185,4,0,0,0,accounting,medium\\n0.48,0.51,4,152,4,0,0,0,accounting,high\\n0.59,0.92,4,183,2,0,0,0,hr,low\\n0.96,0.8,4,145,2,0,0,0,hr,medium\\n0.99,0.77,3,190,4,0,0,0,hr,medium\\n0.73,0.59,4,214,5,0,0,0,hr,medium\\n0.7,0.73,2,139,2,0,0,0,technical,medium\\n0.85,0.88,5,236,4,0,0,0,technical,medium\\n0.66,0.61,3,156,3,1,0,0,technical,medium\\n0.94,0.97,2,221,2,0,0,0,technical,medium\\n0.54,0.64,6,278,2,0,0,0,technical,medium\\n0.78,0.47,4,129,2,0,0,0,technical,medium\\n0.64,0.85,3,213,4,0,0,0,technical,medium\\n0.68,0.56,3,146,3,0,0,0,technical,low\\n0.92,0.84,4,159,3,0,0,0,technical,low\\n0.72,0.73,3,198,2,0,0,0,technical,low\\n0.78,0.74,6,251,4,0,0,0,technical,low\\n0.35,0.54,2,124,3,0,0,0,support,low\\n0.97,0.77,5,223,2,0,0,0,support,low\\n0.57,0.65,3,163,2,0,0,0,support,low\\n0.9,0.66,4,242,3,0,0,0,support,high\\n0.31,0.61,4,97,2,0,0,0,support,low\\n0.17,0.5,4,267,6,0,0,0,support,high\\n0.8,0.4,5,199,4,1,0,0,support,high\\n0.19,0.76,3,107,5,0,0,0,support,low\\n0.57,0.65,5,144,3,1,0,0,support,low\\n0.22,0.96,3,213,3,0,0,0,support,high\\n0.15,0.9,5,284,4,0,0,0,support,low\\n0.62,0.67,5,259,3,0,0,0,technical,medium\\n0.61,0.41,3,103,2,0,0,0,technical,high\\n0.87,0.81,5,236,3,0,0,0,technical,medium\\n0.54,0.75,4,199,2,0,0,0,management,medium\\n0.71,0.54,3,201,2,0,0,0,IT,medium\\n0.66,0.67,3,123,4,0,0,0,IT,medium\\n0.7,0.68,4,143,5,0,0,0,IT,high\\n0.53,0.5,5,159,2,0,0,0,IT,medium\\n0.92,0.54,5,203,3,0,0,0,IT,medium\\n0.93,0.73,4,168,2,0,0,0,product_mng,medium\\n0.62,0.7,5,180,4,0,0,0,product_mng,high\\n0.65,0.53,5,142,3,0,0,0,product_mng,medium\\n0.87,0.98,4,266,2,1,0,0,product_mng,high\\n0.97,0.89,5,265,2,0,0,0,IT,low\\n0.76,0.77,5,257,3,0,0,0,RandD,medium\\n0.96,0.55,4,234,4,0,0,0,RandD,medium\\n1,0.8,3,223,3,0,0,0,RandD,medium\\n0.99,0.85,5,261,4,0,0,0,RandD,medium\\n0.67,0.84,4,197,2,0,0,0,RandD,low\\n0.61,0.52,4,171,2,0,0,0,marketing,low\\n0.62,0.92,3,228,2,0,0,0,sales,low\\n0.62,0.79,3,141,3,0,0,0,accounting,low\\n0.97,0.76,3,147,3,1,0,0,support,low\\n0.86,0.56,5,237,3,0,0,0,technical,low\\n0.15,0.44,3,199,2,0,0,0,management,low\\n0.14,0.95,4,144,5,0,0,0,marketing,low\\n0.7,0.98,4,146,3,0,0,0,marketing,low\\n0.95,0.7,4,139,3,0,0,0,marketing,low\\n0.63,0.86,4,169,2,0,0,0,sales,high\\n0.45,0.75,4,169,2,0,0,0,sales,low\\n0.9,0.6,3,268,3,0,0,0,sales,low\\n0.15,0.87,4,194,4,0,0,0,sales,low\\n0.75,0.86,3,249,3,0,0,0,sales,low\\n0.14,0.52,4,122,2,0,0,0,sales,high\\n0.5,0.94,5,176,4,0,0,0,sales,low\\n0.45,0.45,4,168,2,0,0,0,sales,low\\n0.86,0.92,3,260,2,0,0,0,sales,low\\n0.52,0.62,3,179,3,0,0,0,sales,high\\n0.79,0.48,5,200,3,0,0,0,sales,low\\n0.47,0.56,4,165,3,0,0,0,sales,medium\\n0.76,0.64,4,144,2,0,0,0,sales,high\\n0.52,0.72,4,186,2,0,0,0,sales,medium\\n0.84,0.54,4,156,4,0,0,0,sales,high\\n0.5,0.7,4,162,2,0,0,0,sales,medium\\n0.52,0.63,3,269,2,0,0,0,sales,medium\\n0.76,0.37,3,127,4,0,0,0,sales,medium\\n0.59,0.58,2,267,3,0,0,0,sales,medium\\n0.65,0.79,4,196,2,0,0,0,accounting,medium\\n0.68,0.83,3,144,2,0,0,0,accounting,medium\\n0.52,0.72,2,247,4,0,0,0,accounting,medium\\n0.92,0.5,5,258,3,0,0,0,hr,medium\\n0.53,0.84,4,219,2,0,0,0,hr,high\\n0.5,0.95,2,208,2,0,0,0,hr,low\\n0.98,0.77,4,184,3,0,0,0,hr,medium\\n0.85,0.6,5,178,2,0,0,0,technical,medium\\n0.49,0.83,4,194,3,0,0,0,technical,medium\\n0.52,0.73,4,245,4,0,0,0,technical,medium\\n0.96,0.77,3,193,3,0,0,0,technical,medium\\n0.86,0.85,3,254,3,0,0,0,technical,medium\\n0.35,0.59,3,281,2,0,0,0,technical,medium\\n0.99,0.97,5,229,2,0,0,0,technical,medium\\n0.52,0.92,4,112,2,0,0,0,technical,medium\\n0.75,0.91,4,243,3,0,0,0,technical,high\\n0.67,0.66,3,151,3,0,0,0,technical,low\\n0.49,0.37,4,216,4,0,0,0,technical,low\\n0.51,0.62,3,110,3,0,0,0,support,low\\n0.65,0.6,3,142,2,0,0,0,support,high\\n0.73,0.8,4,251,2,1,0,0,support,low\\n0.46,0.75,6,276,6,0,0,0,support,low\\n0.94,0.82,4,159,2,1,0,0,support,low\\n0.53,0.69,4,257,4,0,0,0,support,high\\n0.6,0.79,5,154,2,0,0,0,support,low\\n0.63,0.97,5,146,3,0,0,0,support,low\\n0.75,0.77,4,204,2,0,0,0,support,low\\n0.69,0.53,4,156,3,0,0,0,support,low\\n0.81,0.5,4,170,4,0,0,0,support,low\\n0.74,0.84,3,239,3,0,0,0,technical,low\\n0.72,0.55,4,145,3,0,0,0,technical,low\\n0.27,0.39,4,193,4,0,0,0,technical,medium\\n0.86,0.74,2,178,3,0,0,0,management,medium\\n0.5,0.59,3,260,3,0,0,0,IT,medium\\n0.82,0.5,3,198,4,0,0,0,IT,medium\\n0.73,0.51,4,249,5,0,0,0,IT,medium\\n0.7,0.72,4,202,3,0,0,0,IT,medium\\n0.9,0.72,4,143,3,0,0,0,IT,medium\\n0.72,0.95,2,178,4,1,0,0,product_mng,medium\\n0.63,0.85,3,151,4,1,0,0,product_mng,medium\\n0.84,0.99,4,134,3,0,0,0,product_mng,medium\\n0.98,0.92,5,221,3,1,0,0,product_mng,medium\\n0.41,0.48,6,165,4,0,0,0,IT,medium\\n0.72,0.58,4,255,2,0,0,0,RandD,high\\n0.87,0.89,3,140,2,1,0,0,RandD,low\\n0.63,0.71,5,141,2,0,0,0,RandD,medium\\n0.6,0.96,4,99,6,0,0,0,RandD,medium\\n0.58,0.79,5,197,3,0,0,0,RandD,medium\\n0.64,0.52,3,240,3,0,0,0,marketing,medium\\n0.74,0.62,3,216,3,1,0,0,sales,low\\n0.93,0.7,5,206,4,0,0,0,accounting,low\\n0.74,0.75,4,257,3,0,0,0,support,low\\n0.98,0.6,4,160,3,0,0,0,technical,low\\n0.87,0.82,5,138,3,1,0,0,management,low\\n0.76,0.99,3,216,3,0,0,0,marketing,low\\n0.15,0.91,6,281,3,0,0,0,marketing,low\\n0.18,0.57,6,238,6,1,0,0,marketing,low\\n1,0.67,3,199,4,0,0,0,sales,low\\n0.98,0.63,3,135,3,0,0,0,sales,low\\n0.73,0.97,3,165,2,0,0,0,sales,low\\n0.67,0.72,3,180,3,0,0,0,sales,low\\n0.9,0.74,3,227,3,0,0,0,sales,low\\n0.54,0.53,3,251,2,0,0,0,sales,low\\n0.15,0.39,5,229,4,0,0,0,sales,low\\n0.58,0.54,4,199,2,0,0,0,sales,low\\n0.81,0.51,4,271,2,0,0,0,sales,low\\n0.17,0.51,5,221,3,0,0,0,sales,low\\n0.68,0.73,4,251,3,0,0,0,sales,low\\n0.68,0.49,4,153,4,0,0,0,sales,low\\n0.7,0.93,4,241,3,0,0,0,sales,low\\n0.49,0.68,4,201,4,0,0,0,sales,medium\\n0.55,0.96,4,267,3,0,0,0,sales,medium\\n0.48,0.84,3,146,2,1,0,0,sales,medium\\n0.63,0.98,4,210,3,0,0,0,sales,medium\\n0.83,0.69,4,233,2,0,0,0,sales,medium\\n0.48,0.87,3,221,2,0,0,0,sales,medium\\n0.98,0.96,5,183,3,1,0,0,accounting,medium\\n0.57,0.72,4,221,3,0,0,0,accounting,medium\\n0.72,0.66,3,167,3,0,0,0,accounting,medium\\n0.9,0.8,4,240,3,0,0,0,hr,medium\\n0.64,0.59,3,200,2,1,0,0,hr,medium\\n0.55,0.98,2,144,2,0,0,0,hr,medium\\n0.56,0.59,5,209,2,1,0,0,hr,high\\n0.8,0.55,3,206,2,0,0,0,technical,low\\n0.65,0.76,3,111,5,0,0,0,technical,medium\\n0.75,0.78,3,241,3,0,0,0,technical,medium\\n0.69,0.79,3,207,3,0,0,0,technical,medium\\n0.91,0.76,3,197,3,0,0,0,technical,medium\\n0.78,0.63,5,200,2,0,0,0,technical,low\\n0.71,0.68,4,242,4,0,0,0,technical,low\\n0.79,0.96,4,180,3,0,0,0,technical,low\\n0.86,0.72,4,173,3,0,0,0,technical,low\\n0.87,0.82,3,224,3,0,0,0,technical,low\\n0.76,0.99,2,183,2,0,0,0,technical,low\\n0.76,0.8,4,226,5,0,0,0,support,low\\n0.74,0.66,3,257,3,0,0,0,support,low\\n0.56,0.81,3,165,4,0,0,0,support,low\\n0.54,0.91,3,142,2,0,0,0,support,low\\n0.84,0.79,4,258,4,0,0,0,support,low\\n0.55,0.69,5,193,2,0,0,0,support,low\\n0.69,0.51,3,176,2,0,0,0,support,low\\n0.79,0.88,4,188,3,0,0,0,support,low\\n0.21,0.38,3,275,5,0,0,0,support,low\\n0.57,0.58,3,132,3,0,0,0,support,low\\n0.89,0.95,3,246,4,0,0,0,support,low\\n0.72,0.98,3,181,4,0,0,0,technical,low\\n0.56,0.58,5,266,3,0,0,0,technical,low\\n0.84,0.68,4,151,2,0,0,0,technical,low\\n0.94,0.76,3,257,4,1,0,0,management,low\\n0.29,0.88,6,183,4,0,0,0,IT,medium\\n0.54,0.93,3,124,5,0,0,0,IT,medium\\n0.93,0.73,4,153,2,1,0,0,IT,medium\\n0.8,0.68,4,199,2,0,0,0,IT,medium\\n1,0.73,5,142,4,0,0,0,IT,medium\\n0.89,0.56,4,159,3,0,0,0,product_mng,medium\\n0.6,0.78,6,211,4,1,0,0,product_mng,medium\\n0.49,0.94,5,136,3,0,0,0,product_mng,medium\\n0.65,0.75,4,153,2,0,0,0,product_mng,medium\\n0.6,0.71,5,263,2,1,0,0,IT,medium\\n0.51,1,3,168,3,1,0,0,RandD,medium\\n0.74,0.89,4,234,3,1,0,0,RandD,medium\\n0.57,0.42,4,154,5,0,0,0,RandD,high\\n0.82,0.84,5,173,2,0,0,0,RandD,low\\n0.19,0.63,5,206,6,0,0,0,RandD,medium\\n0.5,0.64,4,208,2,0,0,0,marketing,medium\\n0.91,0.68,4,178,3,1,0,0,sales,medium\\n0.19,0.86,4,198,6,0,0,0,accounting,medium\\n0.94,0.84,4,220,3,0,0,0,support,low\\n0.88,0.67,4,226,2,0,0,0,technical,low\\n0.9,0.87,4,231,5,0,0,0,management,low\\n0.49,0.96,2,206,2,0,0,0,marketing,low\\n0.99,0.55,4,179,4,0,0,0,marketing,low\\n0.72,0.81,4,200,2,0,0,0,marketing,low\\n0.66,0.69,5,202,6,0,0,0,sales,low\\n0.96,0.51,4,237,3,0,0,0,sales,low\\n0.49,0.69,4,270,3,0,0,0,sales,low\\n0.73,0.49,3,168,2,1,0,0,sales,low\\n0.48,0.98,5,132,4,0,0,0,sales,low\\n0.57,0.78,3,162,2,0,0,0,sales,low\\n0.63,0.82,3,269,3,0,0,0,sales,low\\n0.46,0.87,5,254,5,1,0,0,sales,low\\n0.64,0.5,3,261,2,0,0,0,sales,low\\n0.56,0.73,4,148,3,0,0,0,sales,low\\n0.97,0.75,5,228,4,0,0,0,sales,low\\n0.69,0.68,3,138,3,0,0,0,sales,low\\n0.23,0.97,4,200,3,0,0,0,sales,low\\n0.77,0.48,4,258,4,1,0,0,sales,low\\n0.76,0.57,4,266,3,0,0,0,sales,low\\n0.98,0.66,3,204,2,0,0,0,sales,medium\\n0.92,0.77,3,236,3,0,0,0,sales,medium\\n0.63,0.67,4,149,3,1,0,0,sales,medium\\n0.91,0.69,5,240,3,0,0,0,sales,medium\\n0.4,0.67,3,115,3,0,0,0,accounting,medium\\n0.82,0.62,4,267,3,1,0,0,accounting,medium\\n0.81,0.88,4,149,3,0,0,0,accounting,medium\\n0.61,0.69,3,224,3,0,0,0,hr,medium\\n0.3,0.57,2,158,2,0,0,0,hr,medium\\n0.59,0.72,2,107,3,0,0,0,hr,medium\\n0.2,0.56,3,217,5,0,0,0,hr,medium\\n0.75,0.56,2,212,2,0,0,0,technical,medium\\n0.59,0.79,3,270,3,0,0,0,technical,high\\n0.63,0.53,4,243,2,0,0,0,technical,low\\n0.77,0.68,5,162,4,1,0,0,technical,medium\\n0.82,0.6,5,232,2,0,0,0,technical,medium\\n0.6,0.85,5,187,4,0,0,0,technical,medium\\n0.83,0.72,3,259,2,0,0,0,technical,medium\\n0.67,0.6,4,209,2,0,0,0,technical,low\\n0.84,0.56,5,97,6,0,0,0,technical,low\\n0.68,0.79,5,139,4,0,0,0,technical,low\\n0.74,0.92,4,258,3,1,0,0,technical,low\\n0.63,0.64,3,208,2,1,0,0,support,low\\n0.88,0.9,2,233,3,0,0,0,support,low\\n1,0.81,3,168,4,0,0,0,support,low\\n0.7,0.87,4,252,2,1,0,0,support,low\\n0.5,0.71,5,171,4,0,0,0,support,low\\n0.94,0.66,5,219,3,0,0,0,support,low\\n0.67,0.54,3,213,4,0,0,0,support,low\\n0.8,0.88,5,199,4,0,0,0,support,low\\n0.7,0.88,4,245,2,0,0,0,support,low\\n0.24,0.73,4,273,5,0,0,0,support,low\\n0.98,1,4,202,3,0,0,0,support,low\\n0.76,0.65,4,240,3,0,0,0,technical,low\\n0.78,0.5,4,155,4,0,0,0,technical,low\\n0.42,0.91,3,209,2,0,0,0,technical,low\\n0.83,0.64,4,210,3,0,0,0,management,medium\\n0.98,0.81,4,266,6,0,0,0,IT,medium\\n0.64,0.81,2,226,2,0,0,0,IT,medium\\n0.67,0.75,4,133,2,0,0,0,IT,medium\\n0.26,0.39,3,99,4,0,0,0,IT,medium\\n0.97,0.64,3,237,3,0,0,0,IT,medium\\n0.48,0.6,4,230,3,0,0,0,product_mng,medium\\n0.84,0.55,4,149,2,0,0,0,product_mng,medium\\n0.71,0.74,4,206,4,0,0,0,product_mng,medium\\n1,0.84,3,185,3,0,0,0,product_mng,medium\\n0.6,0.76,5,269,2,0,0,0,IT,medium\\n0.95,0.37,6,233,5,0,0,0,RandD,medium\\n0.56,0.56,3,162,2,0,0,0,RandD,high\\n0.75,0.49,2,173,3,1,0,0,RandD,low\\n0.98,0.53,6,253,4,0,0,0,RandD,medium\\n0.7,0.72,5,134,3,0,0,0,RandD,medium\\n0.65,0.92,4,133,3,0,0,0,marketing,medium\\n0.8,0.81,5,143,2,0,0,0,sales,medium\\n0.49,0.78,3,264,4,0,0,0,accounting,low\\n0.32,0.73,3,180,6,0,0,0,support,low\\n0.88,0.54,3,235,2,1,0,0,technical,low\\n0.8,0.97,4,232,2,0,0,0,management,low\\n0.73,0.74,4,181,4,0,0,0,marketing,low\\n0.72,0.58,3,198,2,0,0,0,marketing,low\\n0.58,0.78,5,211,3,1,0,0,marketing,low\\n0.66,0.96,4,216,3,0,0,0,sales,low\\n0.63,0.79,3,197,3,1,0,0,sales,low\\n0.69,0.56,2,214,2,0,0,0,sales,low\\n0.49,0.59,3,185,3,0,0,0,sales,low\\n0.6,0.45,3,173,2,0,0,0,sales,low\\n0.5,0.63,4,229,4,0,0,0,sales,low\\n0.34,0.81,4,116,3,1,0,0,sales,low\\n0.79,0.6,5,223,3,0,0,0,sales,low\\n0.98,0.68,4,154,3,0,0,0,sales,low\\n0.96,0.97,5,240,2,0,0,0,sales,low\\n0.88,0.89,3,139,2,0,0,0,sales,low\\n0.6,0.61,2,275,2,0,0,0,sales,low\\n0.62,0.73,3,158,3,1,0,0,sales,low\\n0.4,0.72,3,204,4,1,0,0,sales,low\\n0.16,0.82,5,121,2,0,0,0,sales,medium\\n0.81,0.98,5,243,6,0,0,0,sales,medium\\n0.69,0.69,4,195,2,0,0,0,sales,medium\\n0.66,0.51,5,149,3,0,0,0,sales,medium\\n0.66,0.62,5,214,2,0,0,0,sales,medium\\n0.61,0.53,4,266,3,0,0,0,accounting,medium\\n0.99,0.77,5,222,2,0,0,0,accounting,medium\\n0.73,0.54,3,283,6,0,0,0,accounting,medium\\n0.63,0.72,2,161,5,0,0,0,hr,medium\\n0.6,0.91,3,157,4,0,0,0,hr,medium\\n0.44,0.44,3,126,2,0,0,0,hr,medium\\n0.64,0.95,3,131,6,0,0,0,hr,medium\\n0.91,0.81,4,139,2,0,0,0,technical,high\\n0.55,0.59,4,230,3,0,0,0,technical,low\\n0.7,0.73,4,240,2,1,0,0,technical,medium\\n0.37,0.59,3,134,3,0,0,0,technical,medium\\n0.16,0.56,6,196,3,0,0,0,technical,medium\\n0.69,0.97,5,240,4,0,0,0,technical,medium\\n0.96,0.47,2,233,5,1,0,0,technical,low\\n0.62,0.91,5,267,3,0,0,0,technical,low\\n0.94,0.45,2,211,3,0,0,0,technical,low\\n0.67,0.83,3,260,3,0,0,0,technical,low\\n0.89,0.57,3,113,3,0,0,0,technical,low\\n0.6,0.63,5,267,3,0,0,0,support,low\\n0.89,0.62,5,196,3,0,0,0,support,low\\n0.6,0.89,3,232,2,0,0,0,support,low\\n0.93,0.95,2,156,3,1,0,0,support,low\\n0.38,0.78,4,159,5,0,0,0,support,low\\n0.62,0.57,3,223,3,1,0,0,support,low\\n0.86,0.86,4,197,3,1,0,0,support,low\\n0.61,0.62,2,192,2,1,0,0,support,low\\n0.77,0.64,4,192,3,0,0,0,support,low\\n0.85,0.73,4,174,3,0,0,0,support,low\\n0.94,0.62,4,191,3,0,0,0,support,low\\n0.59,0.59,4,270,2,0,0,0,technical,low\\n0.9,0.92,3,139,3,0,0,0,technical,low\\n0.86,0.65,4,243,2,0,0,0,technical,low\\n0.72,0.7,3,238,2,0,0,0,management,low\\n0.84,0.52,5,189,2,1,0,0,IT,low\\n0.64,0.5,4,189,3,0,0,0,IT,medium\\n0.81,0.75,4,206,3,0,0,0,IT,medium\\n0.66,0.7,5,254,2,0,0,0,IT,medium\\n0.75,0.55,3,253,6,0,0,0,IT,medium\\n0.54,0.67,3,243,2,0,0,0,product_mng,medium\\n0.98,0.76,3,224,2,0,0,0,product_mng,medium\\n0.8,0.85,4,139,2,0,0,0,product_mng,medium\\n0.68,0.7,5,270,3,0,0,0,product_mng,medium\\n0.54,0.57,3,257,2,0,0,0,IT,medium\\n0.88,0.84,4,170,2,0,0,0,RandD,medium\\n0.71,0.62,3,222,3,0,0,0,RandD,medium\\n0.77,0.58,2,247,2,1,0,0,RandD,medium\\n0.6,0.6,4,201,3,0,0,0,RandD,high\\n0.53,0.75,4,263,5,0,0,0,RandD,low\\n0.85,0.5,3,168,2,1,0,0,marketing,medium\\n0.59,0.75,4,190,2,0,0,0,sales,medium\\n0.23,0.77,4,140,5,0,0,0,accounting,medium\\n0.7,0.6,3,224,3,0,0,0,support,medium\\n0.92,0.49,5,145,3,0,0,0,technical,low\\n0.95,0.37,4,285,3,0,0,0,management,low\\n0.39,0.43,3,154,3,0,0,0,marketing,low\\n0.85,0.8,4,200,2,0,0,0,marketing,low\\n0.98,0.7,3,255,2,1,0,0,marketing,low\\n0.15,0.48,6,204,6,1,0,0,sales,low\\n0.68,0.54,3,270,4,1,0,0,sales,low\\n0.24,0.91,5,177,5,0,0,0,sales,low\\n0.77,0.59,4,140,3,0,0,0,sales,medium\\n0.36,0.69,3,165,3,0,0,0,sales,medium\\n0.5,0.89,3,187,4,1,0,0,sales,medium\\n0.2,0.98,4,166,4,1,0,0,sales,medium\\n0.86,0.56,5,141,2,0,0,0,sales,medium\\n0.84,0.63,4,135,2,0,0,0,sales,medium\\n0.9,0.98,5,148,4,0,0,0,sales,medium\\n0.4,0.51,3,120,6,0,0,0,sales,medium\\n0.63,0.62,3,141,3,0,0,0,sales,medium\\n0.73,0.95,3,222,4,0,0,0,sales,medium\\n0.25,0.67,2,136,6,0,0,0,sales,medium\\n0.7,0.57,3,180,2,0,0,0,sales,medium\\n0.6,0.97,3,187,3,1,0,0,sales,medium\\n0.99,0.66,3,202,3,0,0,0,sales,medium\\n0.29,0.86,3,251,4,0,0,0,sales,medium\\n0.53,0.63,4,259,2,0,0,0,sales,medium\\n0.83,0.76,3,262,2,0,0,0,accounting,medium\\n0.18,0.92,5,251,4,0,0,0,accounting,medium\\n0.14,0.74,4,117,5,0,0,0,accounting,medium\\n0.5,0.66,4,155,2,0,0,0,hr,medium\\n0.36,0.89,3,197,6,0,0,0,hr,medium\\n0.34,0.56,3,139,2,0,0,0,hr,medium\\n0.51,0.75,4,175,2,0,0,0,hr,medium\\n0.5,0.52,5,137,3,1,0,0,technical,medium\\n0.69,0.93,3,228,4,0,0,0,technical,medium\\n0.52,0.51,2,232,4,0,0,0,technical,high\\n0.32,0.5,2,143,3,0,0,0,technical,high\\n0.88,0.99,3,190,5,0,0,0,technical,high\\n0.6,0.87,3,196,3,1,0,0,technical,high\\n0.72,0.8,3,213,3,0,0,0,technical,high\\n0.65,0.9,3,200,3,0,0,0,technical,high\\n0.82,0.78,5,166,2,0,0,0,technical,high\\n0.67,0.92,5,258,3,0,0,0,technical,high\\n0.44,0.87,5,104,4,0,0,0,technical,high\\n0.52,0.85,5,173,2,0,0,0,support,high\\n0.54,0.51,2,176,3,0,0,0,support,high\\n0.67,0.76,5,181,3,0,0,0,support,high\\n0.16,0.64,6,143,5,1,0,0,support,low\\n0.81,0.73,4,186,3,0,0,0,support,low\\n0.77,0.85,3,136,3,0,0,0,support,low\\n0.84,0.99,4,219,2,0,0,0,support,low\\n0.56,0.56,5,229,4,1,0,0,support,low\\n0.67,0.97,5,239,3,0,0,0,support,low\\n0.65,0.7,4,182,2,0,0,0,support,low\\n0.39,0.57,2,132,3,0,0,0,support,low\\n0.77,0.75,3,272,3,0,0,0,technical,low\\n0.41,0.96,5,167,3,1,0,0,technical,low\\n0.59,0.67,3,180,2,0,0,0,technical,low\\n0.14,0.72,6,100,5,0,0,0,management,low\\n0.6,0.82,4,134,2,0,0,0,IT,low\\n0.14,0.98,6,221,5,0,0,0,IT,low\\n0.88,0.8,3,166,2,0,0,0,IT,low\\n0.6,0.91,4,214,2,0,0,0,IT,medium\\n1,0.49,4,227,3,1,0,0,IT,medium\\n0.56,0.98,4,207,3,0,0,0,product_mng,medium\\n0.72,0.54,3,286,6,0,0,0,product_mng,medium\\n0.59,0.83,3,240,3,1,0,0,product_mng,medium\\n0.74,0.75,4,111,4,1,0,0,product_mng,medium\\n0.52,0.69,4,164,2,0,0,0,IT,medium\\n0.77,0.74,2,187,6,0,0,0,RandD,medium\\n0.48,0.81,4,248,2,0,0,0,RandD,medium\\n0.99,0.56,5,210,2,0,0,0,RandD,medium\\n0.23,0.78,4,163,6,0,0,0,RandD,medium\\n0.63,1,5,241,4,0,0,0,RandD,medium\\n0.51,0.83,3,136,3,0,0,0,marketing,high\\n0.54,0.55,4,208,5,0,0,0,sales,high\\n0.53,0.73,5,174,3,0,0,0,accounting,high\\n0.72,0.84,4,250,3,0,0,0,support,high\\n0.57,0.61,2,189,2,1,0,0,technical,high\\n0.81,0.77,3,204,3,0,0,0,management,high\\n0.64,0.57,4,217,3,0,0,0,marketing,high\\n0.77,0.57,5,162,3,0,0,0,marketing,high\\n0.83,0.55,3,257,2,0,0,0,marketing,low\\n0.6,0.71,3,195,2,0,0,0,sales,low\\n0.86,0.87,5,156,4,0,0,0,sales,low\\n0.5,0.55,2,128,3,0,0,0,sales,low\\n0.6,0.75,5,233,3,1,0,0,sales,low\\n0.85,0.73,4,260,4,0,0,0,sales,low\\n0.4,0.87,5,250,4,0,0,0,sales,low\\n0.38,0.79,5,176,3,0,0,0,sales,low\\n0.96,0.59,6,133,5,0,0,0,sales,medium\\n0.59,0.57,4,197,2,0,0,0,sales,medium\\n0.56,0.5,3,156,3,1,0,0,sales,medium\\n0.84,0.96,3,162,3,0,0,0,sales,medium\\n0.94,0.99,3,207,2,0,0,0,sales,medium\\n0.72,0.63,3,223,2,1,0,0,sales,medium\\n0.82,0.7,3,149,2,0,0,0,sales,medium\\n1,0.95,3,275,3,1,0,0,sales,medium\\n0.62,0.77,3,271,2,0,0,0,sales,medium\\n0.76,0.89,3,273,2,1,0,0,sales,medium\\n0.23,0.74,5,219,4,0,0,0,sales,medium\\n0.7,0.99,5,135,4,0,0,0,sales,medium\\n0.71,0.88,3,158,3,0,0,0,accounting,medium\\n0.32,0.37,3,167,3,0,0,0,accounting,medium\\n0.69,0.67,4,274,4,0,0,0,accounting,medium\\n0.66,0.59,3,145,3,0,0,0,hr,medium\\n0.7,0.67,6,233,6,0,0,0,hr,medium\\n0.91,0.76,3,159,3,0,0,0,hr,medium\\n0.2,0.7,4,221,5,0,0,0,hr,medium\\n0.72,0.83,3,132,2,0,0,0,technical,medium\\n0.74,0.93,5,140,3,0,0,0,technical,medium\\n0.53,0.79,3,206,3,0,0,0,technical,medium\\n0.99,0.92,4,229,2,0,0,0,technical,medium\\n0.75,0.85,4,272,4,0,0,0,technical,high\\n0.86,0.78,4,164,2,0,0,0,technical,low\\n0.93,0.86,4,145,3,0,0,0,technical,medium\\n0.81,0.95,3,212,3,0,0,0,technical,medium\\n0.49,0.67,3,254,2,1,0,0,technical,medium\\n0.97,0.72,5,260,4,0,0,0,technical,medium\\n0.62,0.89,3,201,3,0,0,0,technical,medium\\n0.75,0.79,4,176,4,1,0,0,support,medium\\n0.87,0.58,3,140,3,1,0,0,support,medium\\n0.93,0.65,5,201,3,0,0,0,support,medium\\n0.74,0.68,3,206,2,1,0,0,support,medium\\n0.68,0.57,3,197,3,1,0,0,support,medium\\n0.49,0.63,3,245,4,0,0,0,support,low\\n0.75,0.84,3,145,3,1,0,0,support,low\\n0.95,0.58,4,131,5,0,0,0,support,low\\n0.95,0.75,5,235,3,1,0,0,support,low\\n0.67,0.65,5,242,3,0,0,0,support,low\\n0.71,0.6,2,251,3,0,0,0,support,low\\n0.81,0.73,4,258,2,0,0,0,technical,low\\n0.79,0.36,3,114,3,0,0,0,technical,high\\n0.57,0.52,3,143,2,0,0,0,technical,low\\n0.85,0.65,3,187,2,0,0,0,management,high\\n0.15,0.78,5,255,3,0,0,0,IT,high\\n0.48,0.87,3,267,2,0,0,0,IT,low\\n0.92,0.91,4,247,3,0,0,0,IT,low\\n0.73,0.67,4,153,3,0,0,0,IT,high\\n0.68,0.71,3,237,3,0,0,0,IT,low\\n0.88,0.55,5,182,3,0,0,0,product_mng,medium\\n0.8,0.55,4,144,5,1,0,0,product_mng,high\\n0.66,0.9,3,176,2,1,0,0,product_mng,medium\\n0.19,0.8,5,203,6,0,0,0,product_mng,medium\\n0.3,0.53,3,148,4,0,0,0,IT,medium\\n0.8,0.8,3,175,2,0,0,0,RandD,medium\\n0.66,0.84,3,211,4,0,0,0,RandD,high\\n0.22,0.67,6,175,5,0,0,0,RandD,medium\\n0.57,0.59,4,206,3,0,0,0,RandD,medium\\n0.83,0.73,4,262,2,0,0,0,RandD,medium\\n0.57,0.5,4,177,2,0,0,0,marketing,high\\n0.78,0.54,3,134,3,0,0,0,sales,medium\\n0.88,0.89,2,201,3,0,0,0,accounting,high\\n0.48,0.69,3,105,3,0,0,0,support,low\\n0.91,0.82,4,259,3,0,0,0,technical,medium\\n0.3,0.97,3,171,4,1,0,0,management,medium\\n0.63,0.98,4,228,3,0,0,0,marketing,medium\\n0.62,0.36,2,137,4,1,0,0,marketing,medium\\n0.74,0.72,5,196,3,0,0,0,marketing,low\\n0.5,0.53,3,207,4,0,0,0,sales,low\\n0.36,0.74,6,280,3,0,0,0,sales,low\\n0.57,0.65,4,162,3,1,0,0,sales,low\\n0.73,0.55,4,267,3,0,0,0,sales,low\\n0.77,0.67,5,207,2,0,0,0,sales,low\\n0.86,0.5,4,196,2,0,0,0,sales,low\\n0.24,0.55,6,231,4,0,0,0,sales,low\\n0.83,0.62,4,242,3,0,0,0,sales,low\\n0.72,0.63,4,207,3,0,0,0,sales,low\\n0.52,0.82,4,206,2,1,0,0,sales,high\\n0.99,0.54,4,236,4,0,0,0,sales,low\\n0.15,0.68,5,246,2,0,0,0,sales,low\\n0.79,0.94,3,204,2,1,0,0,sales,low\\n0.19,0.91,3,268,4,0,0,0,sales,low\\n0.59,0.62,3,212,2,1,0,0,sales,high\\n0.15,0.74,6,178,3,0,0,0,sales,low\\n0.75,0.72,5,260,3,0,0,0,sales,low\\n0.47,0.71,2,241,4,0,0,0,sales,low\\n0.64,0.64,3,234,3,1,0,0,sales,high\\n0.66,0.76,3,207,2,0,0,0,accounting,low\\n0.8,0.91,5,242,3,1,0,0,accounting,medium\\n0.82,0.52,5,225,2,0,0,0,accounting,high\\n0.8,0.98,3,161,3,0,0,0,hr,medium\\n0.98,0.98,4,259,2,0,0,0,hr,high\\n0.95,0.96,3,250,3,0,0,0,hr,medium\\n0.88,0.61,3,236,3,0,0,0,hr,medium\\n0.9,0.97,4,239,4,0,0,0,technical,medium\\n0.66,0.83,4,266,3,1,0,0,technical,medium\\n0.99,0.62,5,133,3,0,0,0,technical,medium\\n0.86,0.95,5,275,2,0,0,0,technical,medium\\n0.96,0.95,5,189,2,0,0,0,technical,medium\\n1,0.63,5,171,3,0,0,0,technical,medium\\n0.46,0.38,6,140,3,0,0,0,technical,high\\n0.19,0.85,6,116,3,0,0,0,technical,low\\n0.73,0.6,3,145,6,1,0,0,technical,medium\\n0.63,0.5,4,167,3,1,0,0,technical,medium\\n0.68,0.89,4,227,3,0,0,0,technical,medium\\n0.78,0.96,4,245,3,0,0,0,support,medium\\n0.79,0.56,4,132,3,0,0,0,support,medium\\n0.86,0.99,3,254,2,0,0,0,support,medium\\n0.98,0.53,4,166,2,0,0,0,support,medium\\n0.89,0.79,2,208,3,1,0,0,support,medium\\n0.86,0.87,3,197,4,1,0,0,support,medium\\n0.65,0.83,4,263,3,1,0,0,support,high\\n0.52,0.98,4,272,2,0,0,0,support,low\\n0.54,0.65,3,147,3,1,0,0,support,low\\n0.68,0.73,4,197,3,0,0,0,support,low\\n0.88,0.65,3,268,2,0,0,0,support,high\\n0.75,0.85,4,181,3,0,0,0,technical,low\\n0.17,0.93,6,192,4,0,0,0,technical,low\\n0.92,0.83,5,270,3,0,0,0,technical,low\\n0.79,0.66,3,183,3,0,0,0,management,high\\n0.52,0.66,5,184,3,0,0,0,IT,low\\n0.95,0.73,4,238,3,1,0,0,IT,low\\n0.72,0.49,4,148,2,0,0,0,IT,low\\n0.4,0.41,4,127,3,0,0,0,IT,low\\n0.61,0.59,3,162,2,1,0,0,IT,low\\n0.49,0.97,4,166,5,0,0,0,product_mng,low\\n0.32,0.55,4,283,4,0,0,0,product_mng,low\\n0.82,0.77,3,108,6,0,0,0,product_mng,medium\\n0.9,0.79,3,154,2,0,0,0,product_mng,medium\\n0.95,0.74,3,139,2,0,0,0,IT,medium\\n0.55,0.6,5,271,3,1,0,0,RandD,medium\\n0.91,0.78,4,153,3,0,0,0,RandD,medium\\n0.45,0.41,3,216,6,1,0,0,RandD,medium\\n0.65,0.6,3,218,4,0,0,0,RandD,medium\\n0.88,0.89,3,171,2,0,0,0,RandD,medium\\n0.78,0.76,3,238,3,0,0,0,marketing,medium\\n0.77,0.71,3,134,3,0,0,0,marketing,medium\\n0.32,0.75,3,255,4,0,0,0,sales,medium\\n0.98,0.38,4,140,6,0,0,0,accounting,medium\\n0.51,0.76,2,239,3,0,0,0,support,high\\n0.81,0.59,4,187,2,0,0,0,technical,low\\n0.64,0.9,5,279,5,0,0,0,management,medium\\n0.73,0.94,4,213,3,1,0,0,marketing,medium\\n0.49,0.56,5,202,2,0,0,0,marketing,medium\\n0.84,0.54,3,265,2,0,0,0,marketing,medium\\n0.81,0.86,4,249,3,0,0,0,sales,low\\n0.77,0.5,4,281,2,0,0,0,sales,low\\n0.24,0.83,3,208,5,0,0,0,sales,low\\n0.77,0.78,3,165,2,0,0,0,sales,low\\n0.13,0.88,3,146,5,0,0,0,sales,low\\n0.94,0.66,4,230,2,0,0,0,sales,low\\n0.61,0.82,3,209,2,0,0,0,sales,low\\n0.95,0.49,4,178,2,0,0,0,sales,low\\n0.22,0.92,6,220,4,1,0,0,sales,low\\n0.65,0.56,3,142,3,0,0,0,sales,low\\n0.95,0.67,3,153,2,0,0,0,sales,low\\n0.98,0.62,5,254,5,1,0,0,sales,low\\n0.88,0.72,3,193,4,0,0,0,sales,low\\n0.94,0.69,3,248,3,0,0,0,sales,low\\n0.62,0.75,4,216,2,0,0,0,sales,low\\n0.81,0.96,3,226,3,0,0,0,sales,low\\n0.56,0.51,4,140,2,0,0,0,sales,low\\n0.52,0.86,6,103,4,0,0,0,sales,low\\n0.88,0.57,4,185,2,0,0,0,sales,low\\n0.56,0.92,5,160,3,0,0,0,accounting,low\\n0.36,0.63,3,130,5,0,0,0,accounting,low\\n0.56,0.85,5,230,3,0,0,0,accounting,medium\\n0.89,0.46,4,248,5,1,0,0,hr,medium\\n0.95,0.42,3,189,2,1,0,0,hr,medium\\n0.48,0.52,3,280,2,0,0,0,hr,medium\\n0.75,0.75,4,266,3,0,0,0,hr,medium\\n0.65,0.54,4,260,3,0,0,0,technical,medium\\n0.4,0.86,2,264,5,0,0,0,technical,medium\\n0.52,0.53,5,182,2,0,0,0,technical,medium\\n0.52,0.68,4,233,2,0,0,0,technical,medium\\n0.68,0.49,3,230,3,0,0,0,technical,medium\\n0.72,0.61,5,170,3,0,0,0,technical,medium\\n0.78,0.72,4,258,3,0,0,0,technical,medium\\n0.54,0.9,3,164,3,0,0,0,technical,high\\n0.18,0.46,4,249,4,0,0,0,technical,low\\n0.51,0.5,2,235,2,0,0,0,technical,medium\\n0.63,0.86,6,206,6,0,0,0,technical,medium\\n0.83,0.86,4,139,3,0,0,0,support,medium\\n0.91,0.82,3,145,3,1,0,0,support,medium\\n0.79,0.66,4,139,4,0,0,0,support,low\\n0.52,0.95,3,171,3,1,0,0,support,low\\n0.83,0.94,3,160,3,0,0,0,support,low\\n0.92,0.74,3,137,2,0,0,0,support,low\\n0.14,0.72,4,254,4,0,0,0,support,low\\n0.8,0.38,3,215,6,0,0,0,support,low\\n0.79,0.72,3,216,4,0,0,0,support,low\\n0.86,0.6,3,229,2,1,0,0,support,low\\n0.95,0.47,6,215,4,0,0,0,support,low\\n0.77,0.9,4,163,3,0,0,0,technical,low\\n0.55,0.72,4,273,3,0,0,0,technical,low\\n0.42,0.91,2,176,3,0,0,0,technical,low\\n0.79,0.86,5,270,2,0,0,0,management,low\\n0.41,0.48,3,182,2,0,0,0,IT,low\\n0.66,0.72,4,223,4,0,0,0,IT,low\\n1,0.65,4,237,3,0,0,0,IT,low\\n0.87,0.74,5,248,2,0,0,0,IT,low\\n0.51,0.99,3,233,4,0,0,0,IT,low\\n0.63,0.79,2,206,5,0,0,0,product_mng,low\\n0.86,0.86,4,227,2,0,0,0,product_mng,low\\n0.4,0.98,4,154,3,0,0,0,product_mng,low\\n0.79,0.97,6,113,2,1,0,0,product_mng,medium\\n0.7,0.9,4,254,3,0,0,0,IT,medium\\n0.49,0.91,5,231,3,0,0,0,RandD,medium\\n0.76,0.62,4,190,3,0,0,0,RandD,medium\\n0.89,0.52,3,190,3,0,0,0,RandD,medium\\n0.83,0.86,3,179,2,0,0,0,RandD,medium\\n0.19,0.69,4,269,6,0,0,0,RandD,medium\\n0.68,0.67,3,228,2,0,0,0,RandD,medium\\n0.62,0.68,4,251,4,0,0,0,marketing,medium\\n0.87,0.49,2,251,3,0,0,0,sales,medium\\n0.66,0.75,4,200,4,0,0,0,accounting,medium\\n0.37,0.41,2,146,2,0,0,0,support,medium\\n0.57,0.49,3,159,4,1,0,0,technical,high\\n0.66,0.81,5,135,2,0,0,0,management,low\\n0.63,0.88,5,260,3,0,0,0,marketing,medium\\n0.65,0.96,5,226,2,1,0,0,marketing,medium\\n0.33,0.85,2,127,3,0,0,0,marketing,medium\\n0.66,0.57,6,278,3,0,0,0,sales,medium\\n0.87,0.95,3,242,5,0,0,0,sales,low\\n0.85,0.85,3,182,3,0,0,0,sales,low\\n0.49,0.51,2,182,3,0,0,0,sales,low\\n0.87,0.8,4,197,3,0,0,0,sales,low\\n0.17,0.49,4,286,5,1,0,0,sales,low\\n0.55,0.46,4,226,5,0,0,0,sales,low\\n0.91,0.71,5,156,3,0,0,0,sales,low\\n0.96,0.62,5,185,3,0,0,0,sales,low\\n0.53,0.5,3,231,3,0,0,0,sales,low\\n0.25,0.59,4,166,5,0,0,0,sales,low\\n0.98,0.57,3,229,3,0,0,0,sales,low\\n0.83,0.36,4,242,3,0,0,0,sales,low\\n0.71,0.83,5,206,3,0,0,0,sales,low\\n0.74,0.77,4,206,3,0,0,0,sales,low\\n0.56,0.7,4,135,2,0,0,0,sales,low\\n0.23,0.9,5,234,3,1,0,0,sales,low\\n0.35,0.64,4,147,2,0,0,0,sales,low\\n0.48,0.98,4,174,3,0,0,0,sales,low\\n0.83,0.74,3,259,3,1,0,0,accounting,low\\n0.73,0.87,3,227,4,0,0,0,accounting,low\\n0.85,0.97,4,104,5,0,0,0,accounting,low\\n0.8,0.95,3,247,3,0,0,0,hr,medium\\n0.98,0.74,4,139,3,0,0,0,hr,medium\\n0.96,0.85,3,186,2,0,0,0,hr,medium\\n0.67,0.75,3,194,3,0,0,0,hr,medium\\n0.58,0.91,3,124,2,0,0,0,technical,medium\\n0.83,0.86,3,273,3,0,0,0,technical,medium\\n0.9,0.57,4,186,4,0,0,0,technical,medium\\n0.89,0.66,4,252,3,0,0,0,technical,medium\\n0.99,0.92,3,154,3,0,0,0,technical,medium\\n0.89,0.5,4,238,3,0,0,0,technical,medium\\n0.79,0.5,4,151,3,1,0,0,technical,medium\\n0.64,0.41,3,231,6,0,0,0,technical,medium\\n0.22,0.57,5,174,6,0,0,0,technical,high\\n0.94,0.6,5,278,2,0,0,0,technical,low\\n0.56,0.97,3,270,3,1,0,0,technical,medium\\n0.85,0.8,4,158,3,0,0,0,support,medium\\n0.8,0.62,3,191,3,0,0,0,support,medium\\n0.86,0.53,3,163,3,0,0,0,support,medium\\n0.96,1,5,152,4,0,0,0,support,low\\n0.51,0.61,4,251,2,1,0,0,support,low\\n0.73,0.95,3,149,2,0,0,0,support,low\\n0.31,0.75,4,220,3,0,0,0,support,low\\n0.62,0.51,4,175,3,0,0,0,support,low\\n0.55,0.91,3,179,3,1,0,0,support,low\\n0.51,0.8,4,257,2,0,0,0,support,low\\n0.54,0.54,3,196,3,0,0,0,support,low\\n0.65,0.95,3,190,3,0,0,0,technical,low\\n0.65,0.75,4,270,2,0,0,0,technical,low\\n0.9,0.64,5,226,2,0,0,0,technical,low\\n0.55,0.71,3,211,2,0,0,0,management,low\\n0.59,0.89,3,192,2,0,0,0,IT,low\\n0.34,0.67,5,96,2,1,0,0,IT,low\\n0.31,0.92,5,197,5,0,0,0,IT,low\\n0.83,0.71,3,243,2,1,0,0,IT,low\\n0.8,0.73,3,168,2,0,0,0,IT,low\\n0.66,0.85,5,271,4,0,0,0,product_mng,low\\n0.98,0.39,5,158,4,1,0,0,product_mng,medium\\n0.89,0.52,4,243,5,0,0,0,product_mng,medium\\n0.64,0.94,3,148,2,0,0,0,product_mng,medium\\n0.95,0.68,3,165,3,0,0,0,IT,medium\\n0.96,0.85,5,171,2,0,0,0,RandD,medium\\n0.96,0.82,5,164,2,0,0,0,RandD,medium\\n0.63,0.81,4,265,2,0,0,0,RandD,medium\\n0.83,0.71,4,196,2,0,0,0,RandD,medium\\n0.61,0.72,4,182,2,1,0,0,RandD,medium\\n0.89,0.66,3,272,3,0,0,0,RandD,medium\\n0.67,0.63,3,241,3,0,0,0,marketing,medium\\n0.61,1,5,139,2,0,0,0,sales,medium\\n0.58,0.77,3,180,2,0,0,0,accounting,high\\n0.56,0.76,4,206,2,1,0,0,support,low\\n0.13,0.49,6,227,4,0,0,0,technical,medium\\n0.39,1,5,204,5,1,0,0,management,medium\\n0.94,0.48,4,218,3,0,0,0,marketing,medium\\n0.63,0.61,3,205,2,0,0,0,marketing,medium\\n0.75,0.63,4,261,3,1,0,0,marketing,low\\n0.7,0.83,3,159,3,0,0,0,sales,low\\n0.28,0.83,4,162,3,0,0,0,sales,low\\n0.77,0.42,4,98,2,0,0,0,sales,low\\n0.79,0.64,4,263,2,0,0,0,sales,low\\n0.51,0.46,3,176,3,0,0,0,sales,low\\n0.96,0.99,4,233,3,0,0,0,sales,low\\n0.72,0.99,4,156,2,1,0,0,sales,low\\n0.97,1,3,198,2,0,0,0,sales,low\\n0.55,0.9,4,191,3,0,0,0,sales,low\\n0.32,0.45,2,188,3,0,0,0,sales,low\\n0.78,0.65,3,157,2,0,0,0,sales,low\\n0.17,0.57,5,286,3,0,0,0,sales,low\\n0.88,0.5,4,216,2,0,0,0,sales,low\\n0.97,0.5,3,188,3,1,0,0,sales,low\\n0.74,0.86,5,153,2,0,0,0,sales,low\\n0.26,0.45,5,187,2,0,0,0,sales,low\\n0.87,0.92,4,141,3,0,0,0,sales,low\\n0.29,0.47,5,139,4,0,0,0,sales,low\\n0.91,0.95,3,189,2,0,0,0,sales,low\\n0.71,0.77,3,193,3,1,0,0,accounting,low\\n0.6,0.63,3,182,3,0,0,0,accounting,medium\\n0.5,0.61,4,135,3,0,0,0,accounting,medium\\n0.49,0.85,4,238,2,0,0,0,hr,medium\\n0.53,0.92,3,199,2,0,0,0,hr,medium\\n0.42,0.38,2,115,3,0,0,0,hr,medium\\n0.53,0.82,3,133,3,0,0,0,hr,medium\\n0.34,0.62,4,158,2,0,0,0,technical,medium\\n0.68,0.51,5,158,3,0,0,0,technical,medium\\n0.56,0.77,5,238,4,0,0,0,technical,medium\\n0.72,0.71,3,242,2,0,0,0,technical,medium\\n0.76,0.55,4,250,3,0,0,0,technical,medium\\n0.87,0.57,4,175,2,0,0,0,technical,medium\\n0.97,0.63,3,270,4,1,0,0,technical,high\\n0.8,0.62,3,171,3,0,0,0,technical,low\\n0.67,0.81,5,175,6,1,0,0,technical,medium\\n0.6,0.97,5,145,2,0,0,0,technical,medium\\n0.88,0.5,3,170,3,0,0,0,technical,medium\\n0.64,0.74,3,267,2,0,0,0,support,medium\\n0.85,0.7,3,188,2,0,0,0,support,low\\n0.9,0.48,3,213,3,0,0,0,support,low\\n0.76,0.84,5,249,3,0,0,0,support,low\\n0.55,0.66,3,134,3,0,0,0,support,low\\n0.76,0.77,5,234,3,0,0,0,support,low\\n0.87,0.72,3,201,3,0,0,0,support,low\\n0.8,0.82,3,178,3,0,0,0,support,low\\n0.54,0.68,4,183,2,0,0,0,support,low\\n0.84,0.91,4,207,3,0,0,0,support,low\\n0.85,0.64,4,147,3,0,0,0,support,low\\n0.95,0.49,3,188,3,0,0,0,technical,low\\n0.48,0.56,3,229,3,0,0,0,technical,low\\n0.53,0.77,2,271,2,0,0,0,technical,low\\n0.8,0.82,4,175,2,0,0,0,management,low\\n0.4,0.46,2,109,3,0,0,0,IT,low\\n0.76,0.69,4,253,3,0,0,0,IT,low\\n0.99,0.64,3,174,4,0,0,0,IT,low\\n0.49,0.64,3,142,4,0,0,0,IT,low\\n0.94,0.71,3,175,3,0,0,0,IT,low\\n0.54,0.73,4,266,3,0,0,0,product_mng,low\\n0.13,0.93,4,253,5,1,0,0,product_mng,low\\n0.91,0.84,3,237,2,0,0,0,product_mng,medium\\n0.73,0.56,3,215,3,0,0,0,product_mng,medium\\n0.65,0.97,3,171,3,0,0,0,IT,medium\\n0.23,0.51,6,194,4,1,0,0,RandD,medium\\n0.23,0.88,5,238,6,0,0,0,RandD,medium\\n0.89,0.51,3,249,3,0,0,0,RandD,medium\\n0.81,0.8,3,183,2,1,0,0,RandD,medium\\n0.51,0.74,3,271,4,0,0,0,RandD,medium\\n0.35,0.81,6,256,3,0,0,0,RandD,medium\\n0.49,0.66,3,169,3,0,0,0,marketing,medium\\n0.51,0.8,3,254,2,0,0,0,sales,medium\\n0.66,0.86,4,112,6,0,0,0,accounting,medium\\n0.74,0.96,5,222,2,0,0,0,support,high\\n0.57,0.96,4,177,2,0,0,0,technical,low\\n0.8,0.74,5,181,4,1,0,0,management,medium\\n0.79,0.84,4,144,2,1,0,0,marketing,medium\\n0.74,0.94,4,255,4,0,0,0,marketing,medium\\n0.74,0.8,3,219,2,0,0,0,marketing,medium\\n0.4,1,6,206,2,0,0,0,sales,low\\n0.14,0.71,2,155,3,0,0,0,sales,low\\n0.83,0.87,5,248,3,0,0,0,sales,low\\n0.76,0.52,4,259,2,0,0,0,sales,low\\n0.8,0.8,3,271,4,0,0,0,sales,low\\n0.95,0.38,2,103,3,0,0,0,sales,low\\n0.88,0.76,4,159,4,1,0,0,sales,low\\n0.92,0.85,4,184,3,0,0,0,sales,low\\n0.16,0.88,4,201,6,0,0,0,sales,medium\\n0.7,0.63,3,157,4,0,0,0,sales,medium\\n0.71,0.93,3,287,5,0,0,0,sales,medium\\n0.52,0.82,2,242,3,0,0,0,sales,medium\\n0.49,0.58,5,246,3,1,0,0,sales,medium\\n0.5,0.57,3,219,3,0,0,0,sales,medium\\n0.86,0.94,3,212,3,0,0,0,sales,medium\\n0.49,0.99,5,262,2,1,0,0,sales,medium\\n0.69,0.91,4,128,3,1,0,0,sales,medium\\n0.96,1,3,231,6,0,0,0,sales,medium\\n0.87,0.54,3,260,2,0,0,0,sales,medium\\n0.36,0.4,3,160,3,0,0,0,accounting,medium\\n0.86,1,3,166,3,1,0,0,accounting,medium\\n0.79,0.74,4,222,2,0,0,0,accounting,medium\\n1,0.52,4,171,4,0,0,0,hr,medium\\n0.88,0.88,3,220,4,0,0,0,hr,medium\\n0.49,0.65,4,176,3,1,0,0,hr,medium\\n0.52,0.62,3,160,2,0,0,0,hr,medium\\n0.76,0.78,3,162,3,0,0,0,technical,medium\\n0.69,0.91,3,167,2,0,0,0,technical,medium\\n0.69,0.81,5,217,2,0,0,0,technical,medium\\n0.75,0.58,3,159,3,0,0,0,technical,medium\\n0.47,0.47,4,191,3,0,0,0,technical,medium\\n0.88,1,3,125,3,0,0,0,technical,medium\\n0.49,0.43,5,210,4,1,0,0,technical,medium\\n0.92,0.67,4,241,3,0,0,0,technical,high\\n0.24,0.48,4,145,3,1,0,0,technical,high\\n0.69,1,5,237,3,0,0,0,technical,high\\n0.81,0.57,4,213,4,0,0,0,technical,high\\n0.61,0.48,4,257,2,0,0,0,support,high\\n0.75,0.86,6,114,4,0,0,0,support,high\\n0.69,0.86,4,214,2,0,0,0,support,high\\n0.53,0.49,3,191,3,0,0,0,support,high\\n0.93,0.96,4,223,3,1,0,0,support,high\\n0.15,0.67,5,249,5,0,0,0,support,high\\n0.48,0.41,5,286,3,0,0,0,support,high\\n0.67,0.73,4,251,3,0,0,0,support,high\\n0.36,0.93,3,162,5,0,0,0,support,low\\n0.35,0.54,3,138,4,0,0,0,support,low\\n0.65,0.62,4,235,3,0,0,0,support,low\\n0.8,0.5,4,125,3,0,0,0,technical,low\\n0.97,0.96,5,210,6,1,0,0,technical,low\\n0.67,0.64,4,136,3,0,0,0,technical,low\\n0.58,0.78,3,223,3,0,0,0,management,low\\n0.61,0.67,3,188,5,0,0,0,IT,low\\n0.97,0.66,4,214,2,1,0,0,IT,low\\n0.87,0.97,4,160,3,0,0,0,IT,low\\n0.8,0.71,4,200,2,0,0,0,IT,low\\n0.91,0.55,3,223,3,0,0,0,IT,low\\n0.63,0.73,3,272,2,0,0,0,product_mng,low\\n0.79,0.96,4,170,2,0,0,0,product_mng,low\\n0.89,0.57,2,235,3,1,0,0,product_mng,low\\n1,0.87,3,274,3,0,0,0,product_mng,medium\\n0.6,0.73,5,203,2,0,0,0,IT,medium\\n0.7,0.8,4,236,2,0,0,0,RandD,medium\\n0.79,0.81,4,203,3,0,0,0,RandD,medium\\n0.88,0.72,4,249,3,1,0,0,RandD,medium\\n0.87,0.48,4,133,2,0,0,0,RandD,medium\\n0.52,0.58,3,203,2,0,0,0,RandD,medium\\n0.59,0.75,3,168,3,0,0,0,RandD,medium\\n0.64,0.75,4,172,4,0,0,0,marketing,medium\\n0.81,0.83,3,177,2,0,0,0,sales,medium\\n0.87,0.57,3,149,2,0,0,0,accounting,medium\\n0.74,0.61,3,231,2,0,0,0,support,medium\\n0.73,0.89,3,226,3,1,0,0,technical,high\\n0.97,0.58,4,187,4,1,0,0,management,high\\n0.54,0.81,3,145,2,0,0,0,marketing,high\\n0.59,0.55,4,138,2,0,0,0,marketing,high\\n0.99,0.95,3,153,4,0,0,0,marketing,high\\n0.79,0.75,4,168,3,0,0,0,sales,high\\n0.96,0.37,3,111,2,0,0,0,sales,high\\n0.54,0.67,3,154,2,0,0,0,sales,high\\n0.79,0.84,4,171,3,0,0,0,sales,low\\n0.64,0.79,3,253,2,0,0,0,sales,low\\n0.65,0.53,4,160,3,0,0,0,sales,low\\n0.87,0.86,3,196,4,0,0,0,sales,low\\n0.7,0.59,4,178,3,0,0,0,sales,low\\n0.89,0.81,3,268,3,0,0,0,sales,low\\n0.61,0.58,6,146,3,0,0,0,sales,low\\n0.9,0.49,4,185,2,0,0,0,sales,low\\n0.49,0.54,4,247,3,1,0,0,sales,medium\\n0.85,0.97,4,210,2,0,0,0,sales,medium\\n0.54,0.58,3,234,3,0,0,0,sales,medium\\n0.64,0.57,4,271,2,0,0,0,sales,medium\\n0.81,0.77,5,102,5,0,0,0,sales,medium\\n0.49,0.66,3,163,3,0,0,0,sales,medium\\n0.58,0.57,3,144,4,1,0,0,sales,medium\\n0.62,0.49,3,172,3,0,0,0,sales,medium\\n0.8,0.84,3,203,3,1,0,0,accounting,medium\\n0.64,0.64,3,192,3,1,0,0,accounting,medium\\n0.81,0.86,5,159,2,0,0,0,accounting,medium\\n0.8,0.74,3,159,2,0,0,0,hr,medium\\n0.92,0.81,4,206,2,0,0,0,hr,medium\\n0.66,0.98,4,225,2,1,0,0,hr,medium\\n0.79,0.89,3,252,2,0,0,0,hr,medium\\n0.74,0.54,6,113,3,0,0,0,technical,medium\\n0.79,0.74,3,238,2,0,0,0,technical,medium\\n0.87,0.94,3,217,3,0,0,0,technical,medium\\n0.49,0.57,4,145,2,0,0,0,technical,medium\\n0.3,0.44,5,128,4,1,0,0,technical,medium\\n0.85,0.89,4,177,3,0,0,0,technical,medium\\n0.61,0.97,4,256,4,0,0,0,technical,medium\\n0.68,0.55,3,182,3,1,0,0,technical,medium\\n0.67,0.67,4,226,2,0,0,0,technical,high\\n0.63,0.73,5,168,3,0,0,0,technical,low\\n0.63,0.94,4,145,3,0,0,0,technical,medium\\n0.5,0.88,4,172,4,0,0,0,support,medium\\n0.7,0.55,4,233,2,0,0,0,support,medium\\n0.18,0.46,5,202,4,0,0,0,support,medium\\n0.77,0.55,5,255,2,0,0,0,support,medium\\n0.78,0.61,3,257,3,0,0,0,support,medium\\n0.54,0.77,3,185,3,0,0,0,support,medium\\n0.9,0.69,3,231,4,0,0,0,support,medium\\n0.56,0.76,3,207,2,0,0,0,support,medium\\n0.63,0.81,3,215,3,0,0,0,support,medium\\n0.68,0.75,5,243,3,1,0,0,support,low\\n0.96,0.54,3,198,3,0,0,0,support,low\\n0.85,0.87,6,232,6,0,0,0,technical,low\\n0.82,0.66,4,150,3,0,0,0,technical,low\\n0.44,0.39,2,188,3,0,0,0,technical,low\\n0.86,0.97,4,155,3,0,0,0,management,low\\n0.56,0.68,3,109,3,0,0,0,IT,low\\n0.69,0.94,3,170,3,0,0,0,IT,high\\n0.91,0.85,5,214,2,0,0,0,IT,low\\n0.99,0.94,3,244,3,0,0,0,IT,high\\n0.76,0.84,5,137,4,0,0,0,IT,high\\n0.63,0.67,5,250,2,0,0,0,product_mng,low\\n0.21,0.62,4,247,3,1,0,0,product_mng,low\\n0.63,0.43,2,222,4,0,0,0,product_mng,high\\n0.58,0.51,2,100,2,0,0,0,product_mng,low\\n0.52,0.84,4,212,3,0,0,0,IT,medium\\n0.89,0.64,3,184,5,0,0,0,RandD,high\\n0.81,0.81,4,177,3,0,0,0,RandD,medium\\n0.62,0.73,3,138,3,0,0,0,RandD,medium\\n0.83,0.5,4,167,3,1,0,0,RandD,medium\\n0.85,0.99,3,201,3,0,0,0,RandD,medium\\n0.52,0.61,5,162,3,0,0,0,marketing,high\\n0.57,0.97,5,126,5,0,0,0,sales,medium\\n0.93,1,4,145,3,0,0,0,accounting,medium\\n0.78,0.89,3,211,3,0,0,0,support,medium\\n0.65,0.59,3,167,2,0,0,0,technical,high\\n0.42,0.74,5,256,6,0,0,0,management,medium\\n0.22,0.61,6,237,5,0,0,0,marketing,high\\n0.71,0.96,5,135,4,1,0,0,marketing,low\\n0.44,0.68,5,209,4,0,0,0,marketing,medium\\n0.6,0.52,4,190,3,0,0,0,sales,medium\\n0.68,0.61,3,134,4,0,0,0,sales,medium\\n0.53,0.41,2,148,2,1,0,0,sales,medium\\n0.8,0.82,4,202,3,0,0,0,sales,low\\n0.97,0.82,4,176,2,0,0,0,sales,low\\n0.47,0.47,2,221,6,0,0,0,sales,low\\n0.96,0.93,3,156,3,0,0,0,sales,low\\n0.81,0.45,6,98,3,0,0,0,sales,low\\n0.86,0.65,4,134,4,0,0,0,sales,low\\n0.59,0.82,4,203,4,1,0,0,sales,low\\n0.53,0.97,3,189,3,0,0,0,sales,low\\n0.57,0.86,3,258,2,0,0,0,sales,low\\n0.7,0.48,4,237,3,0,0,0,sales,low\\n0.58,0.59,4,224,3,0,0,0,sales,high\\n0.43,0.86,5,125,3,1,0,0,sales,low\\n0.92,0.82,4,207,4,0,0,0,sales,low\\n0.24,0.7,5,194,3,0,0,0,sales,low\\n0.67,0.52,3,273,3,0,0,0,sales,low\\n0.68,0.84,3,209,3,0,0,0,sales,high\\n0.54,0.75,3,181,3,0,0,0,accounting,low\\n0.73,0.63,3,172,4,1,0,0,accounting,low\\n0.59,0.41,4,139,3,0,0,0,accounting,low\\n0.22,0.64,6,260,4,0,0,0,hr,high\\n0.49,0.83,3,168,4,1,0,0,hr,low\\n0.91,1,6,242,3,1,0,0,hr,medium\\n0.18,0.97,4,206,3,0,0,0,hr,high\\n0.71,0.41,5,107,4,0,0,0,technical,medium\\n0.56,0.66,5,216,2,0,0,0,technical,high\\n0.84,0.62,4,152,3,0,0,0,technical,medium\\n0.59,0.49,5,122,5,0,0,0,technical,medium\\n0.88,0.62,4,138,3,0,0,0,technical,medium\\n0.8,0.52,3,182,2,0,0,0,technical,medium\\n0.53,0.63,3,205,2,0,0,0,technical,medium\\n0.53,0.83,3,267,4,0,0,0,technical,medium\\n0.3,0.67,3,150,2,0,0,0,technical,medium\\n0.91,0.7,4,134,2,0,0,0,technical,medium\\n0.32,0.66,5,116,5,1,0,0,technical,high\\n0.73,0.87,3,181,3,0,0,0,support,low\\n0.87,0.54,3,268,3,0,0,0,support,medium\\n0.57,0.73,3,129,3,0,0,0,support,medium\\n0.62,0.94,3,151,4,0,0,0,support,medium\\n0.55,0.91,3,243,4,0,0,0,support,medium\\n0.93,0.57,5,143,2,0,0,0,support,medium\\n0.3,0.47,6,156,2,1,0,0,support,medium\\n0.57,0.7,3,210,2,0,0,0,support,medium\\n0.9,0.85,4,279,6,0,0,0,support,medium\\n0.83,0.79,4,270,3,1,0,0,support,medium\\n0.38,0.64,5,160,3,0,0,0,support,high\\n0.97,0.95,4,173,2,0,0,0,technical,low\\n0.7,1,4,261,3,0,0,0,technical,low\\n0.26,0.73,4,178,6,0,0,0,technical,low\\n0.58,0.58,3,122,3,0,0,0,management,high\\n0.69,0.57,5,227,4,0,0,0,IT,low\\n0.88,0.6,2,168,3,0,0,0,IT,low\\n0.57,0.91,4,252,4,0,0,0,IT,low\\n0.94,0.8,5,170,4,0,0,0,IT,high\\n0.94,0.58,3,135,3,0,0,0,IT,low\\n0.46,0.49,5,286,5,0,0,0,product_mng,low\\n0.49,0.57,2,213,3,1,0,0,product_mng,low\\n0.96,1,5,148,3,0,0,0,product_mng,low\\n0.29,0.95,5,117,4,0,0,0,product_mng,low\\n0.94,0.69,3,164,2,0,0,0,IT,low\\n0.56,0.64,3,262,2,1,0,0,RandD,low\\n0.18,0.49,5,250,5,1,0,0,RandD,medium\\n0.84,0.83,4,222,3,0,0,0,RandD,medium\\n0.58,0.96,3,192,4,0,0,0,RandD,medium\\n0.21,0.6,5,151,6,0,0,0,RandD,medium\\n0.59,0.53,4,216,2,0,0,0,marketing,medium\\n0.66,0.65,3,234,2,0,0,0,marketing,medium\\n0.58,0.82,4,268,3,0,0,0,sales,medium\\n0.66,0.49,4,194,5,0,0,0,accounting,medium\\n0.56,0.78,3,200,2,0,0,0,support,medium\\n0.92,0.78,3,194,3,0,0,0,technical,medium\\n0.56,0.69,3,176,3,0,0,0,management,medium\\n0.57,0.59,4,158,3,0,0,0,marketing,medium\\n0.99,0.79,3,271,4,0,0,0,marketing,high\\n0.76,0.93,4,187,4,0,0,0,marketing,low\\n0.78,0.91,4,202,2,0,0,0,sales,medium\\n0.99,0.48,5,202,2,0,0,0,sales,medium\\n0.71,0.95,6,204,3,1,0,0,sales,medium\\n0.51,0.96,4,204,3,1,0,0,sales,medium\\n0.88,0.82,3,244,3,0,0,0,sales,low\\n0.96,0.83,3,234,3,0,0,0,sales,low\\n0.9,0.64,4,217,3,0,0,0,sales,low\\n0.77,0.51,4,142,4,0,0,0,sales,low\\n0.95,0.5,4,186,3,1,0,0,sales,low\\n0.85,0.67,3,267,2,1,0,0,sales,low\\n0.46,0.79,2,108,3,0,0,0,sales,low\\n0.57,0.95,3,274,4,0,0,0,sales,low\\n0.93,1,3,148,4,0,0,0,sales,low\\n0.78,0.68,5,168,3,0,0,0,sales,low\\n0.68,1,4,185,2,1,0,0,sales,low\\n0.83,0.78,3,257,2,0,0,0,sales,low\\n0.56,0.51,5,256,4,1,0,0,sales,low\\n0.93,0.78,2,188,2,0,0,0,sales,low\\n0.13,0.53,6,173,4,0,0,0,sales,low\\n0.71,0.99,5,208,2,1,0,0,accounting,low\\n0.98,0.74,4,202,3,0,0,0,accounting,low\\n0.83,0.82,3,134,3,0,0,0,accounting,low\\n0.78,0.65,3,154,2,0,0,0,hr,low\\n0.35,0.58,3,103,3,0,0,0,hr,low\\n0.67,0.55,4,256,6,0,0,0,hr,low\\n0.86,0.88,4,274,3,0,0,0,hr,medium\\n0.33,0.61,2,163,3,0,0,0,technical,medium\\n0.3,0.86,6,232,3,0,0,0,technical,medium\\n0.75,0.63,4,268,3,0,0,0,technical,medium\\n0.8,0.98,3,209,3,0,0,0,technical,medium\\n0.98,0.53,5,238,3,0,0,0,technical,medium\\n0.72,0.48,3,155,2,0,0,0,technical,medium\\n0.82,0.52,5,270,3,0,0,0,technical,medium\\n0.91,0.59,3,134,2,1,0,0,technical,medium\\n0.84,0.78,3,221,3,1,0,0,technical,medium\\n0.95,0.74,4,258,3,0,0,0,technical,medium\\n0.53,0.51,6,272,5,0,0,0,technical,medium\\n0.5,0.5,4,184,3,0,0,0,support,high\\n0.36,0.95,6,276,2,0,0,0,support,low\\n0.33,0.38,4,186,3,0,0,0,support,medium\\n0.38,0.47,3,189,5,0,0,0,support,medium\\n0.7,0.9,3,224,3,0,0,0,support,medium\\n0.44,0.45,6,237,6,0,0,0,support,medium\\n0.32,0.66,3,144,2,0,0,0,support,low\\n0.63,0.93,6,171,3,1,0,0,support,low\\n0.56,0.54,3,232,2,0,0,0,support,low\\n0.56,0.78,4,193,2,1,0,0,support,low\\n0.81,0.78,3,166,2,0,0,0,support,low\\n0.89,0.75,3,167,2,0,0,0,technical,low\\n0.63,0.87,2,101,3,0,0,0,technical,low\\n0.64,0.66,5,266,3,0,0,0,technical,low\\n0.46,0.53,3,135,2,0,0,0,management,low\\n0.76,0.56,4,137,3,0,0,0,IT,low\\n0.99,0.71,3,191,3,0,0,0,IT,low\\n0.85,0.76,4,262,2,0,0,0,IT,low\\n0.78,0.99,3,174,3,0,0,0,IT,low\\n0.91,0.56,4,241,2,0,0,0,IT,low\\n0.16,0.57,5,144,4,1,0,0,product_mng,low\\n0.71,0.57,3,218,3,0,0,0,product_mng,low\\n0.92,0.68,5,210,2,0,0,0,product_mng,low\\n0.21,0.98,6,208,5,1,0,0,product_mng,low\\n0.74,0.6,3,232,3,0,0,0,IT,low\\n0.76,0.6,3,140,2,0,0,0,RandD,low\\n0.62,0.95,3,189,4,0,0,0,RandD,low\\n1,0.61,5,264,3,0,0,0,RandD,medium\\n0.67,0.54,5,157,2,0,0,0,RandD,medium\\n0.81,0.87,4,161,2,0,0,0,RandD,medium\\n0.84,0.69,4,149,3,0,0,0,marketing,medium\\n0.84,0.99,3,144,4,0,0,0,sales,medium\\n0.97,0.97,4,242,2,0,0,0,accounting,medium\\n0.7,0.5,6,214,5,0,0,0,support,medium\\n0.52,0.74,4,174,3,0,0,0,technical,medium\\n0.46,0.88,5,169,3,0,0,0,management,medium\\n1,0.87,4,268,2,0,0,0,marketing,medium\\n0.91,0.58,3,257,3,0,0,0,marketing,medium\\n0.16,0.69,4,187,5,0,0,0,marketing,medium\\n0.58,0.62,5,270,2,0,0,0,sales,high\\n0.75,0.61,5,173,4,0,0,0,sales,low\\n0.96,0.62,6,193,4,0,0,0,sales,medium\\n0.92,0.78,4,212,2,0,0,0,sales,medium\\n0.35,0.63,3,156,3,0,0,0,sales,medium\\n0.56,0.96,3,244,3,0,0,0,sales,medium\\n0.27,0.96,3,255,4,0,0,0,sales,low\\n0.66,0.72,5,152,3,1,0,0,sales,low\\n0.66,0.98,4,163,3,1,0,0,sales,low\\n0.98,0.69,3,150,2,0,0,0,sales,low\\n0.51,0.58,4,169,2,0,0,0,sales,low\\n0.51,0.83,3,133,3,0,0,0,sales,low\\n0.53,0.94,4,202,3,1,0,0,sales,low\\n0.69,0.7,4,169,2,0,0,0,sales,low\\n0.66,0.74,4,270,2,1,0,0,sales,low\\n0.89,0.76,3,251,2,1,0,0,sales,low\\n0.74,0.64,3,267,5,0,0,0,sales,low\\n0.82,0.75,4,224,3,0,0,0,sales,low\\n0.66,0.9,3,250,2,0,0,0,sales,low\\n0.59,0.97,3,258,2,0,0,0,accounting,low\\n0.13,0.65,2,209,5,0,0,0,accounting,low\\n0.68,0.74,4,215,3,0,0,0,accounting,low\\n0.5,0.81,3,183,3,0,0,0,hr,low\\n0.6,0.82,3,143,3,0,0,0,hr,low\\n0.87,0.98,3,174,3,0,0,0,hr,low\\n0.51,0.89,6,170,4,0,0,0,hr,low\\n0.78,0.63,3,202,2,0,0,0,technical,low\\n0.66,0.96,4,160,2,0,0,0,technical,medium\\n0.72,0.73,5,211,2,0,0,0,technical,medium\\n0.57,0.98,3,236,3,1,0,0,technical,medium\\n0.5,0.49,4,236,3,0,0,0,technical,medium\\n0.72,0.62,4,252,2,1,0,0,technical,medium\\n0.41,0.48,3,155,2,1,0,0,technical,medium\\n0.55,0.65,5,138,2,0,0,0,technical,medium\\n0.49,0.94,4,195,3,1,0,0,technical,medium\\n0.8,0.94,3,150,3,0,0,0,technical,medium\\n0.78,0.51,3,172,3,0,0,0,technical,medium\\n0.69,0.56,3,240,2,0,0,0,support,medium\\n0.83,0.98,3,229,6,0,0,0,support,medium\\n0.89,0.73,3,169,3,0,0,0,support,high\\n0.94,0.82,3,246,3,0,0,0,support,low\\n0.51,0.53,4,260,2,1,0,0,support,medium\\n0.89,0.9,4,101,6,0,0,0,support,medium\\n0.99,0.69,3,190,3,0,0,0,support,medium\\n0.79,0.66,3,154,4,0,0,0,support,medium\\n0.98,0.97,4,196,4,0,0,0,support,low\\n0.98,0.97,3,209,3,0,0,0,support,low\\n0.97,0.67,4,223,3,0,0,0,support,low\\n0.71,0.71,4,221,3,0,0,0,technical,low\\n0.49,0.6,4,141,3,0,0,0,technical,low\\n0.72,0.71,3,135,3,0,0,0,technical,low\\n0.58,0.61,2,191,3,1,0,0,management,low\\n0.65,1,4,195,3,0,0,0,IT,low\\n0.18,0.55,5,217,4,0,0,0,IT,low\\n0.83,0.99,4,184,3,0,0,0,IT,low\\n0.2,0.76,5,188,3,0,0,0,IT,low\\n0.96,0.93,6,240,6,0,0,0,IT,low\\n0.59,0.69,4,226,3,0,0,0,product_mng,low\\n0.97,0.99,3,196,3,0,0,0,product_mng,low\\n0.14,0.99,6,251,4,0,0,0,product_mng,low\\n0.75,0.96,4,150,2,0,0,0,product_mng,low\\n0.71,0.63,3,249,3,0,0,0,IT,low\\n0.84,0.52,4,251,3,0,0,0,RandD,low\\n0.57,0.75,5,252,3,0,0,0,RandD,medium\\n0.46,0.55,5,261,5,0,0,0,RandD,medium\\n0.77,0.94,4,225,2,0,0,0,RandD,medium\\n0.44,0.65,2,151,3,0,0,0,RandD,medium\\n0.68,0.59,4,147,2,0,0,0,marketing,medium\\n0.94,0.58,4,159,3,0,0,0,sales,medium\\n0.73,0.91,4,241,2,1,0,0,accounting,medium\\n0.51,0.5,5,176,5,0,0,0,support,medium\\n0.93,0.87,4,218,4,0,0,0,technical,medium\\n0.74,1,4,219,3,0,0,0,management,medium\\n0.82,0.9,3,227,3,0,0,0,marketing,medium\\n0.86,0.91,4,182,2,0,0,0,marketing,medium\\n0.99,0.86,4,196,2,1,0,0,marketing,high\\n0.58,0.86,4,257,3,0,0,0,sales,low\\n0.96,0.6,5,182,5,0,0,0,sales,medium\\n0.72,0.67,4,192,3,0,0,0,sales,medium\\n0.23,0.94,4,142,4,0,0,0,sales,medium\\n0.99,0.79,4,172,2,0,0,0,sales,medium\\n0.95,0.58,4,188,3,0,0,0,sales,low\\n0.75,0.55,5,281,3,1,0,0,sales,low\\n0.95,0.54,4,255,2,0,0,0,sales,low\\n0.97,0.84,3,223,3,0,0,0,sales,low\\n0.98,0.86,2,219,4,0,0,0,sales,low\\n0.79,0.98,3,195,2,0,0,0,sales,low\\n0.54,0.91,2,156,3,0,0,0,sales,low\\n0.51,0.51,5,259,4,0,0,0,sales,low\\n0.83,0.91,4,266,3,1,0,0,sales,low\\n0.6,0.7,3,147,2,0,0,0,sales,low\\n0.58,0.83,4,207,3,0,0,0,sales,low\\n0.55,0.68,3,185,2,0,0,0,sales,low\\n0.5,0.64,5,195,2,0,0,0,sales,low\\n0.46,0.41,6,148,4,0,0,0,sales,low\\n0.61,0.82,3,157,2,0,0,0,accounting,low\\n0.91,0.98,4,146,3,0,0,0,accounting,low\\n0.5,0.94,3,262,4,0,0,0,accounting,low\\n0.75,0.82,3,169,3,0,0,0,hr,low\\n0.74,0.87,3,192,3,1,0,0,hr,low\\n0.62,0.53,4,147,2,0,0,0,hr,low\\n0.87,0.76,5,254,2,1,0,0,hr,low\\n0.13,0.72,3,244,4,0,0,0,technical,medium\\n0.71,0.43,2,100,6,0,0,0,technical,medium\\n0.7,0.9,3,173,2,0,0,0,technical,medium\\n0.32,0.87,2,197,2,1,0,0,technical,medium\\n0.84,0.72,3,256,4,0,0,0,technical,medium\\n0.79,0.87,4,253,2,0,0,0,technical,medium\\n0.97,0.64,4,152,2,0,0,0,technical,medium\\n0.76,0.58,5,136,3,0,0,0,technical,medium\\n0.97,0.63,3,141,3,0,0,0,technical,medium\\n0.53,0.4,5,212,3,1,0,0,technical,medium\\n0.61,0.57,4,144,3,0,0,0,technical,medium\\n0.94,0.89,2,118,4,0,0,0,support,medium\\n0.52,0.79,5,265,3,1,0,0,support,high\\n0.91,0.67,3,143,3,0,0,0,support,low\\n0.52,0.63,3,230,2,0,0,0,support,medium\\n0.59,0.68,5,243,2,0,0,0,support,medium\\n0.61,0.71,3,152,4,1,0,0,support,medium\\n0.78,0.78,3,252,3,0,0,0,support,medium\\n0.44,0.67,3,113,2,0,0,0,support,low\\n0.8,0.97,4,259,2,0,0,0,support,low\\n0.54,0.6,4,139,5,0,0,0,support,low\\n0.96,0.91,4,228,3,1,0,0,support,low\\n0.98,0.49,4,214,3,0,0,0,technical,low\\n0.83,0.91,4,210,4,0,0,0,technical,low\\n0.64,0.89,4,146,3,0,0,0,technical,low\\n0.51,0.78,3,155,2,0,0,0,management,low\\n0.31,0.42,2,169,5,0,0,0,IT,low\\n0.53,0.68,3,258,3,0,0,0,IT,low\\n0.81,0.53,3,258,2,0,0,0,IT,low\\n0.17,0.85,3,168,4,0,0,0,IT,low\\n0.72,0.98,3,211,2,0,0,0,IT,low\\n0.49,0.49,2,245,3,0,0,0,product_mng,low\\n0.81,0.95,3,204,2,0,0,0,product_mng,low\\n0.75,0.98,2,161,3,0,0,0,product_mng,low\\n0.74,0.73,3,267,3,0,0,0,product_mng,low\\n0.82,0.73,3,183,3,0,0,0,IT,low\\n0.36,0.4,2,105,3,0,0,0,RandD,low\\n0.89,0.55,3,260,2,0,0,0,RandD,low\\n0.78,0.87,3,183,4,0,0,0,RandD,low\\n0.81,0.56,4,262,3,0,0,0,RandD,medium\\n0.61,0.78,4,244,4,0,0,0,RandD,medium\\n0.23,0.96,4,242,6,0,0,0,marketing,medium\\n0.73,1,4,146,3,0,0,0,sales,medium\\n0.4,0.65,4,252,6,0,0,0,accounting,medium\\n0.99,0.63,5,229,2,0,0,0,support,medium\\n0.62,0.54,4,170,3,0,0,0,technical,medium\\n0.61,0.93,3,250,4,0,0,0,management,medium\\n0.9,0.98,2,243,3,0,0,0,marketing,medium\\n0.93,0.67,4,135,3,1,0,0,marketing,medium\\n0.52,0.75,4,266,3,0,0,0,marketing,medium\\n0.77,0.72,4,223,3,0,0,0,sales,medium\\n0.59,0.76,4,234,3,0,0,0,sales,high\\n0.51,0.59,4,187,3,0,0,0,sales,low\\n0.67,0.95,3,229,3,0,0,0,sales,medium\\n0.95,0.65,3,155,2,1,0,0,sales,medium\\n0.75,0.76,3,246,3,0,0,0,sales,medium\\n0.54,0.61,3,152,3,0,0,0,sales,medium\\n0.45,0.71,2,172,2,0,0,0,sales,low\\n0.66,0.66,4,255,5,0,0,0,sales,low\\n0.36,0.69,3,98,2,0,0,0,sales,low\\n0.3,0.47,6,141,6,0,0,0,sales,low\\n0.61,0.63,4,146,4,1,0,0,sales,low\\n0.71,0.7,4,213,3,0,0,0,sales,low\\n0.6,0.99,4,160,3,0,0,0,sales,low\\n0.19,0.61,3,272,4,0,0,0,sales,low\\n0.91,1,4,125,4,0,0,0,sales,medium\\n0.98,0.69,3,152,2,0,0,0,sales,medium\\n0.9,0.78,3,162,2,0,0,0,sales,medium\\n0.73,0.94,3,251,6,0,0,0,sales,medium\\n0.52,0.56,3,225,3,0,0,0,accounting,medium\\n0.77,0.56,3,236,3,1,0,0,accounting,medium\\n0.98,0.62,3,203,2,0,0,0,accounting,medium\\n0.79,0.5,4,252,3,1,0,0,hr,medium\\n0.73,0.91,3,135,2,0,0,0,hr,medium\\n0.97,0.95,3,257,2,0,0,0,hr,medium\\n0.38,0.6,5,145,5,0,0,0,hr,medium\\n0.59,0.48,5,267,3,0,0,0,technical,medium\\n0.73,0.79,4,208,5,0,0,0,technical,medium\\n0.84,0.53,4,206,3,0,0,0,technical,medium\\n0.61,0.59,4,247,2,0,0,0,technical,medium\\n0.79,0.78,2,228,2,0,0,0,technical,medium\\n0.73,0.91,4,248,2,1,0,0,technical,medium\\n0.22,0.9,4,209,5,0,0,0,technical,medium\\n0.84,0.52,5,171,3,0,0,0,technical,medium\\n0.21,0.85,6,221,5,0,0,0,technical,medium\\n0.44,0.69,2,173,2,0,0,0,technical,medium\\n0.2,0.52,5,218,5,0,0,0,technical,medium\\n0.51,0.86,4,223,3,1,0,0,support,medium\\n0.55,0.98,3,169,2,0,0,0,support,medium\\n0.24,0.38,6,109,2,0,0,0,support,medium\\n0.65,0.77,4,273,2,0,0,0,support,high\\n0.44,0.42,3,178,3,0,0,0,support,high\\n0.98,0.67,4,189,4,0,0,0,support,high\\n0.69,0.8,5,203,2,1,0,0,support,high\\n0.71,0.56,3,177,4,0,0,0,support,high\\n0.54,0.71,5,253,2,1,0,0,support,high\\n0.77,0.98,3,273,3,0,0,0,support,high\\n0.53,0.43,2,139,3,0,0,0,support,high\\n0.64,0.72,3,185,2,1,0,0,technical,high\\n0.69,0.59,5,182,4,0,0,0,technical,high\\n0.93,0.71,5,270,2,0,0,0,technical,high\\n0.58,0.65,3,139,4,0,0,0,management,high\\n0.33,0.46,5,261,6,1,0,0,IT,low\\n0.95,0.57,3,238,3,0,0,0,IT,low\\n0.65,0.9,3,241,3,0,0,0,IT,low\\n0.9,0.7,3,223,2,0,0,0,IT,low\\n0.59,0.8,3,258,3,1,0,0,IT,low\\n0.88,0.55,4,205,4,0,0,0,product_mng,low\\n0.63,0.83,4,243,4,0,0,0,product_mng,low\\n0.53,0.61,4,198,2,0,0,0,product_mng,low\\n0.63,0.64,4,178,3,0,0,0,product_mng,low\\n0.96,0.76,4,158,3,0,0,0,IT,low\\n0.7,0.73,3,194,2,0,0,0,RandD,low\\n0.73,0.36,4,253,2,1,0,0,RandD,low\\n0.94,0.8,4,228,2,0,0,0,RandD,low\\n0.82,0.58,5,227,3,0,0,0,RandD,low\\n0.44,0.63,3,162,2,0,0,0,RandD,low\\n0.58,0.9,5,257,3,0,0,0,marketing,medium\\n0.55,0.97,2,140,2,0,0,0,sales,medium\\n0.92,0.84,3,164,2,0,0,0,accounting,medium\\n0.91,0.59,4,177,4,0,0,0,support,medium\\n0.69,0.61,4,260,4,0,0,0,technical,medium\\n0.23,0.7,4,233,2,0,0,0,management,medium\\n0.21,0.81,4,227,5,0,0,0,marketing,medium\\n0.51,0.6,4,140,3,0,0,0,marketing,medium\\n0.73,0.74,3,254,4,1,0,0,marketing,medium\\n0.65,0.67,3,245,3,0,0,0,sales,medium\\n0.64,0.48,2,157,2,0,0,0,sales,medium\\n0.77,0.49,3,265,3,0,0,0,sales,medium\\n0.71,0.79,4,261,3,0,0,0,sales,high\\n0.2,0.38,6,212,6,0,0,0,sales,high\\n0.99,0.57,4,216,3,0,0,0,sales,high\\n0.77,0.57,4,238,3,0,0,0,sales,high\\n0.8,0.56,2,204,3,0,0,0,sales,high\\n0.97,0.5,4,216,2,0,0,0,sales,high\\n0.89,0.53,4,208,3,0,0,0,sales,high\\n0.97,0.7,4,218,2,0,0,0,sales,high\\n0.23,0.99,5,176,4,1,0,0,sales,low\\n0.6,0.75,4,144,2,0,0,0,sales,low\\n0.52,0.63,5,241,3,0,0,0,sales,low\\n0.86,0.63,3,271,2,0,0,0,sales,low\\n0.86,0.95,4,184,3,0,0,0,sales,low\\n0.76,0.58,3,262,2,0,0,0,sales,low\\n0.79,0.77,6,233,6,0,0,0,sales,low\\n0.35,0.52,3,155,3,0,0,0,sales,low\\n1,0.97,5,141,2,0,0,0,accounting,medium\\n0.2,0.8,6,251,5,0,0,0,accounting,medium\\n0.57,0.62,5,141,3,0,0,0,accounting,medium\\n0.23,0.46,4,274,5,1,0,0,hr,medium\\n0.82,0.97,3,160,2,0,0,0,hr,medium\\n0.98,0.8,3,166,2,0,0,0,hr,medium\\n0.52,0.7,4,219,3,0,0,0,hr,medium\\n0.96,0.61,4,158,6,0,0,0,technical,medium\\n0.69,0.64,4,190,4,0,0,0,technical,medium\\n0.92,0.77,5,191,2,0,0,0,technical,medium\\n0.91,0.43,4,117,5,1,0,0,technical,medium\\n0.85,0.96,4,240,6,0,0,0,technical,medium\\n0.91,0.77,4,239,2,0,0,0,technical,medium\\n0.79,0.55,4,145,3,0,0,0,technical,medium\\n0.74,0.95,3,157,4,0,0,0,technical,medium\\n0.73,0.72,3,166,3,0,0,0,technical,medium\\n0.55,0.98,4,137,2,0,0,0,technical,medium\\n0.79,0.97,5,208,4,1,0,0,technical,medium\\n0.53,0.51,4,174,2,0,0,0,support,medium\\n0.7,0.6,3,267,3,0,0,0,support,medium\\n0.74,0.56,3,125,6,0,0,0,support,medium\\n0.95,0.76,4,220,3,0,0,0,support,medium\\n0.49,0.57,4,141,3,0,0,0,support,medium\\n0.79,0.9,5,146,3,1,0,0,support,high\\n0.99,0.86,3,166,2,0,0,0,support,low\\n0.56,0.79,4,197,2,0,0,0,support,medium\\n0.7,0.79,4,240,2,0,0,0,support,medium\\n0.93,0.65,4,258,3,0,0,0,support,medium\\n0.46,0.66,6,229,3,0,0,0,support,medium\\n0.24,0.61,5,252,4,0,0,0,technical,medium\\n0.32,0.41,3,138,3,1,0,0,technical,medium\\n0.5,0.78,4,208,3,1,0,0,technical,medium\\n0.58,0.72,3,113,3,1,0,0,management,medium\\n0.83,0.81,4,209,4,0,0,0,IT,medium\\n0.57,0.42,2,248,4,0,0,0,IT,medium\\n0.51,0.83,5,161,3,0,0,0,IT,low\\n0.65,0.96,2,246,2,1,0,0,IT,low\\n0.52,0.41,3,283,3,0,0,0,IT,low\\n0.77,0.7,3,145,2,0,0,0,product_mng,low\\n0.42,0.77,3,270,3,0,0,0,product_mng,low\\n0.68,0.79,4,273,4,0,0,0,product_mng,low\\n0.83,0.92,4,187,6,1,0,0,product_mng,low\\n0.66,0.63,3,166,3,0,0,0,IT,high\\n0.75,0.57,3,158,2,1,0,0,RandD,low\\n0.65,0.48,4,229,3,0,0,0,RandD,high\\n0.49,0.6,3,191,3,1,0,0,RandD,high\\n0.77,0.96,3,232,2,1,0,0,RandD,low\\n0.65,0.97,3,198,3,0,0,0,RandD,low\\n0.65,0.49,5,238,4,0,0,0,marketing,high\\n0.44,0.58,2,157,2,0,0,0,sales,low\\n0.61,0.72,4,134,2,0,0,0,accounting,medium\\n0.98,0.89,3,150,3,0,0,0,support,high\\n0.68,0.88,5,256,2,0,0,0,technical,medium\\n0.58,0.5,3,208,3,0,0,0,management,medium\\n0.81,0.92,3,136,3,0,0,0,marketing,medium\\n0.76,0.5,4,136,3,0,0,0,marketing,medium\\n0.14,0.93,4,180,4,0,0,0,marketing,high\\n0.49,0.91,3,227,3,0,0,0,sales,medium\\n0.97,0.78,5,156,3,0,0,0,sales,medium\\n0.91,0.6,4,133,4,1,0,0,sales,medium\\n0.15,0.98,2,96,2,0,0,0,sales,high\\n0.82,0.63,3,171,3,0,0,0,sales,medium\\n0.67,0.87,3,177,4,0,0,0,sales,high\\n0.5,0.96,4,274,3,0,0,0,sales,low\\n0.57,0.39,2,145,3,0,0,0,sales,medium\\n0.99,0.94,5,221,2,0,0,0,sales,medium\\n0.97,0.94,3,202,2,0,0,0,sales,medium\\n0.93,0.58,5,238,2,0,0,0,sales,medium\\n0.62,0.6,4,170,2,0,0,0,sales,low\\n0.62,0.51,4,208,2,1,0,0,sales,low\\n0.96,0.61,4,199,3,0,0,0,sales,low\\n0.98,0.96,4,253,3,0,0,0,sales,low\\n0.52,0.57,4,239,3,0,0,0,sales,low\\n0.56,0.77,5,279,4,0,0,0,sales,low\\n0.14,0.41,6,114,3,0,0,0,sales,low\\n0.29,0.38,6,105,5,0,0,0,sales,low\\n0.76,0.81,4,193,3,1,0,0,accounting,low\\n0.39,0.58,3,152,3,1,0,0,accounting,low\\n0.96,0.72,4,228,2,0,0,0,accounting,high\\n0.84,0.93,3,242,4,0,0,0,hr,low\\n0.81,0.62,4,197,3,0,0,0,hr,low\\n0.51,0.51,5,222,4,0,0,0,hr,low\\n0.87,0.75,3,222,3,0,0,0,hr,low\\n0.94,0.77,5,233,4,0,0,0,technical,high\\n0.69,0.97,4,264,3,0,0,0,technical,low\\n0.44,0.53,3,132,3,1,0,0,technical,low\\n0.85,0.55,5,182,3,0,0,0,technical,low\\n0.18,0.86,6,264,3,0,0,0,technical,high\\n0.91,0.74,6,253,2,0,0,0,technical,low\\n0.81,0.83,3,193,3,0,0,0,technical,medium\\n0.82,0.59,5,143,2,1,0,0,technical,high\\n0.48,0.79,3,180,2,0,0,0,technical,medium\\n0.92,0.84,3,220,3,1,0,0,technical,high\\n0.94,0.88,5,150,4,0,0,0,technical,medium\\n1,0.56,3,182,3,0,0,0,support,medium\\n0.96,0.91,3,257,3,0,0,0,support,medium\\n0.24,0.74,3,269,4,1,0,0,support,medium\\n0.62,0.89,5,243,3,0,0,0,support,medium\\n0.55,0.76,4,257,3,0,0,0,support,medium\\n0.82,0.52,5,233,2,0,0,0,support,medium\\n0.62,0.56,4,267,4,0,0,0,support,medium\\n0.61,0.69,4,160,2,1,0,0,support,high\\n0.72,0.52,3,143,4,1,0,0,support,low\\n0.45,0.76,4,143,2,1,0,0,support,medium\\n0.51,0.93,3,162,4,0,0,0,support,medium\\n0.42,0.53,3,181,5,0,0,0,technical,medium\\n0.69,0.64,3,286,3,0,0,0,technical,medium\\n0.61,0.66,2,111,3,0,0,0,technical,medium\\n0.5,0.98,5,177,4,0,0,0,management,medium\\n0.25,0.68,4,279,5,1,0,0,IT,medium\\n0.88,0.89,4,135,3,0,0,0,IT,medium\\n0.81,0.66,3,160,2,0,0,0,IT,medium\\n0.75,0.77,3,178,4,0,0,0,IT,high\\n0.77,0.8,3,147,3,0,0,0,IT,low\\n0.55,0.72,3,204,2,0,0,0,product_mng,low\\n0.7,0.73,5,151,2,0,0,0,product_mng,low\\n0.96,0.78,3,209,2,0,0,0,product_mng,high\\n0.18,0.73,6,225,4,0,0,0,product_mng,low\\n0.22,0.62,6,142,3,0,0,0,IT,low\\n0.95,0.49,3,158,2,0,0,0,RandD,low\\n0.37,0.71,2,139,4,0,0,0,RandD,high\\n0.84,0.45,3,263,2,0,0,0,RandD,low\\n0.8,0.68,3,160,3,0,0,0,RandD,low\\n0.57,0.55,2,173,2,0,0,0,RandD,low\\n0.98,0.63,3,169,2,0,0,0,marketing,low\\n0.95,0.62,3,161,3,0,0,0,sales,low\\n0.8,0.65,4,172,3,1,0,0,accounting,low\\n0.52,0.7,3,257,3,0,0,0,support,low\\n0.31,0.62,2,139,3,0,0,0,technical,medium\\n0.71,0.59,5,245,2,0,0,0,management,medium\\n0.71,0.85,3,260,3,0,0,0,marketing,medium\\n0.5,0.96,5,229,4,0,0,0,marketing,medium\\n0.95,0.9,2,129,5,0,0,0,marketing,medium\\n0.95,0.77,3,184,4,0,0,0,sales,medium\\n0.65,0.85,4,204,3,0,0,0,sales,medium\\n0.94,0.72,3,152,2,1,0,0,sales,medium\\n0.72,0.85,4,142,3,0,0,0,sales,medium\\n0.94,0.79,4,136,2,0,0,0,sales,medium\\n0.79,0.94,4,216,4,0,0,0,sales,medium\\n0.6,0.58,3,201,3,0,0,0,sales,medium\\n0.62,0.76,4,163,3,0,0,0,sales,high\\n0.94,0.74,4,224,5,0,0,0,sales,low\\n0.24,0.5,4,209,3,0,0,0,sales,medium\\n0.17,0.71,5,257,4,1,0,0,sales,medium\\n0.66,0.83,4,234,4,0,0,0,sales,medium\\n0.65,0.56,3,221,2,0,0,0,sales,medium\\n0.51,0.62,2,186,2,0,0,0,sales,low\\n0.41,0.75,4,199,3,0,0,0,sales,low\\n0.98,0.99,3,235,3,0,0,0,sales,low\\n0.96,0.55,5,211,2,0,0,0,sales,low\\n0.55,0.97,4,136,4,0,0,0,sales,low\\n0.99,0.71,4,155,3,0,0,0,sales,low\\n0.51,0.98,4,269,3,0,0,0,accounting,low\\n0.74,0.9,3,285,3,0,0,0,accounting,low\\n0.81,0.87,5,241,3,0,0,0,accounting,low\\n0.51,0.87,3,180,4,0,0,0,hr,low\\n0.53,0.55,5,224,2,1,0,0,hr,low\\n0.67,0.48,6,107,2,1,0,0,hr,low\\n0.68,0.64,2,167,2,0,0,0,hr,low\\n0.69,0.63,3,137,3,0,0,0,technical,low\\n0.71,0.65,4,239,3,0,0,0,technical,low\\n0.64,0.56,3,239,3,0,0,0,technical,low\\n0.62,0.58,3,148,2,1,0,0,technical,low\\n0.81,0.5,4,231,3,1,0,0,technical,low\\n0.84,0.54,4,179,2,0,0,0,technical,low\\n1,0.67,3,181,2,0,0,0,technical,low\\n0.72,0.73,5,184,4,1,0,0,technical,low\\n0.57,0.67,3,207,2,0,0,0,technical,medium\\n0.73,0.99,4,152,4,0,0,0,technical,medium\\n0.91,0.59,4,133,4,0,0,0,technical,medium\\n0.98,0.85,4,178,3,0,0,0,support,medium\\n0.58,0.95,4,173,3,0,0,0,support,medium\\n0.73,0.52,2,113,5,1,0,0,support,medium\\n0.96,0.95,3,236,2,0,0,0,support,medium\\n0.57,0.98,3,188,5,0,0,0,support,medium\\n0.77,0.73,3,269,2,0,0,0,support,medium\\n0.3,0.85,2,203,3,0,0,0,support,medium\\n0.85,0.75,3,214,3,0,0,0,support,medium\\n0.49,0.83,2,185,6,0,0,0,support,medium\\n0.77,0.43,4,265,6,0,0,0,support,high\\n1,0.99,4,184,4,0,0,0,support,low\\n0.85,0.74,3,157,3,0,0,0,technical,medium\\n0.87,0.75,3,258,3,0,0,0,technical,medium\\n0.9,0.79,3,222,6,1,0,0,technical,medium\\n0.71,0.8,5,248,4,0,0,0,management,medium\\n0.59,0.56,5,162,4,0,0,0,IT,low\\n0.85,0.74,3,250,3,1,0,0,IT,low\\n0.72,0.82,4,231,3,0,0,0,IT,low\\n0.73,0.65,3,165,3,0,0,0,IT,low\\n0.9,0.54,3,272,2,0,0,0,IT,low\\n0.59,0.65,4,177,2,0,0,0,product_mng,low\\n0.52,0.9,3,133,3,0,0,0,product_mng,low\\n0.85,0.49,4,159,3,0,0,0,product_mng,low\\n0.35,0.4,3,130,3,0,0,0,product_mng,low\\n0.7,0.68,3,185,4,0,0,0,IT,low\\n0.58,0.86,3,182,3,0,0,0,RandD,low\\n0.89,0.5,2,238,4,0,0,0,RandD,low\\n0.54,0.63,3,211,3,0,0,0,RandD,low\\n0.55,0.89,4,209,3,0,0,0,RandD,low\\n0.77,0.62,5,190,3,0,0,0,RandD,low\\n0.55,0.61,4,272,4,1,0,0,marketing,low\\n0.6,0.77,3,202,3,0,0,0,sales,low\\n0.75,0.9,4,185,3,0,0,0,accounting,low\\n0.57,0.88,3,176,3,0,0,0,support,low\\n0.69,0.94,4,239,3,0,0,0,technical,low\\n0.87,0.98,4,238,3,1,0,0,management,low\\n0.69,0.36,5,269,6,1,0,0,marketing,medium\\n0.58,0.92,3,232,5,0,0,0,marketing,medium\\n0.87,0.64,2,148,6,1,0,0,marketing,medium\\n0.71,0.77,3,149,2,0,0,0,sales,medium\\n0.74,0.78,4,203,2,0,0,0,sales,medium\\n0.75,0.53,5,235,3,0,0,0,sales,medium\\n0.5,0.54,2,269,2,1,0,0,sales,medium\\n0.59,0.86,4,260,2,0,0,0,sales,medium\\n0.81,0.84,3,216,3,0,0,0,sales,medium\\n0.34,0.55,3,136,2,1,0,0,sales,medium\\n0.53,0.87,5,158,3,0,0,0,sales,medium\\n0.94,0.85,4,180,4,0,0,0,sales,medium\\n0.76,0.77,5,133,2,0,0,0,sales,high\\n0.2,0.58,5,199,4,0,0,0,sales,low\\n0.97,0.67,3,169,2,1,0,0,sales,medium\\n0.96,0.72,3,195,2,0,0,0,sales,medium\\n0.81,0.5,5,205,3,0,0,0,sales,medium\\n0.2,0.48,4,156,4,1,0,0,sales,medium\\n0.53,0.71,3,125,2,1,0,0,sales,low\\n0.75,0.76,3,171,4,0,0,0,sales,low\\n0.55,0.91,4,199,3,0,0,0,sales,low\\n0.58,0.65,5,187,2,0,0,0,sales,low\\n0.99,0.64,4,218,4,0,0,0,accounting,low\\n0.96,0.86,4,268,3,0,0,0,accounting,low\\n0.82,0.92,3,257,2,0,0,0,accounting,low\\n0.88,0.77,4,224,5,1,0,0,hr,low\\n0.78,0.97,4,221,4,0,0,0,hr,low\\n0.46,0.47,6,101,5,0,0,0,hr,low\\n0.88,0.59,3,224,2,0,0,0,hr,low\\n0.91,0.55,3,223,4,1,0,0,technical,low\\n0.6,0.68,4,271,4,0,0,0,technical,low\\n0.82,0.51,3,210,2,0,0,0,technical,low\\n0.67,0.56,4,241,3,0,0,0,technical,low\\n0.55,0.61,3,209,3,0,0,0,technical,low\\n0.73,0.62,5,186,4,0,0,0,technical,low\\n0.59,0.68,4,273,2,0,0,0,technical,low\\n0.4,0.65,6,172,2,1,0,0,technical,low\\n0.56,0.99,3,209,2,0,0,0,technical,low\\n0.87,0.57,4,175,2,1,0,0,technical,low\\n0.5,0.53,5,239,3,0,0,0,technical,medium\\n0.98,0.79,4,231,4,0,0,0,support,medium\\n0.71,0.96,4,131,3,0,0,0,support,medium\\n0.72,0.89,4,217,3,0,0,0,support,medium\\n0.5,0.83,4,242,2,0,0,0,support,medium\\n0.89,0.56,3,224,2,0,0,0,support,medium\\n0.56,0.68,3,208,3,1,0,0,support,medium\\n0.32,0.55,4,167,5,0,0,0,support,medium\\n0.96,0.88,5,269,2,0,0,0,support,medium\\n0.67,0.92,4,156,2,0,0,0,support,medium\\n0.26,0.7,3,238,6,0,0,0,support,medium\\n0.51,0.9,5,193,4,0,0,0,support,medium\\n0.16,0.78,4,196,5,0,0,0,technical,high\\n0.77,0.71,5,233,2,0,0,0,technical,low\\n0.67,0.52,2,152,5,0,0,0,technical,medium\\n0.36,0.77,4,252,2,0,0,0,management,medium\\n0.69,0.82,3,262,5,1,0,0,IT,medium\\n0.72,0.76,3,261,4,0,0,0,IT,medium\\n0.72,0.81,4,144,2,0,0,0,IT,low\\n0.88,0.95,4,234,3,0,0,0,IT,low\\n0.91,0.55,2,234,2,0,0,0,IT,low\\n0.96,0.6,4,170,2,1,0,0,product_mng,low\\n0.49,0.8,3,238,4,0,0,0,product_mng,low\\n0.59,0.97,5,242,3,0,0,0,product_mng,low\\n0.8,0.87,4,209,3,0,0,0,product_mng,low\\n0.91,0.67,4,206,3,0,0,0,IT,low\\n0.18,0.79,4,240,5,0,0,0,RandD,low\\n0.94,0.58,5,215,2,0,0,0,RandD,low\\n0.44,0.61,3,147,4,0,0,0,RandD,low\\n0.96,0.59,2,265,2,0,0,0,RandD,low\\n0.55,0.97,4,162,3,0,0,0,RandD,low\\n0.99,0.54,4,239,3,0,0,0,marketing,low\\n0.75,0.88,3,224,2,0,0,0,sales,low\\n0.66,0.78,4,256,3,0,0,0,accounting,low\\n0.96,0.57,3,263,3,0,0,0,support,low\\n0.6,0.86,6,272,4,0,0,0,technical,low\\n0.64,0.78,4,159,4,0,0,0,management,medium\\n0.85,0.8,4,219,2,0,0,0,marketing,medium\\n0.3,0.53,3,210,6,0,0,0,marketing,medium\\n0.74,0.95,4,237,3,1,0,0,marketing,medium\\n0.14,0.8,5,226,3,0,0,0,sales,medium\\n0.93,0.76,3,212,3,0,0,0,sales,medium\\n0.75,0.48,3,250,5,0,0,0,sales,medium\\n0.58,0.63,4,171,3,0,0,0,sales,medium\\n0.59,0.6,3,149,4,0,0,0,sales,medium\\n0.2,0.9,5,228,6,0,0,0,sales,medium\\n1,0.84,3,215,2,0,0,0,sales,medium\\n0.51,0.51,3,272,3,0,0,0,sales,medium\\n0.16,0.72,4,192,6,0,0,0,sales,high\\n0.77,0.56,5,226,4,0,0,0,sales,low\\n0.61,0.47,2,149,3,0,0,0,sales,medium\\n0.73,0.51,3,244,2,0,0,0,sales,medium\\n0.52,0.85,4,193,3,0,0,0,sales,medium\\n0.13,0.72,4,247,3,0,0,0,sales,medium\\n0.73,0.62,3,181,3,0,0,0,sales,low\\n0.39,0.68,2,137,3,1,0,0,sales,low\\n0.92,0.8,3,211,4,0,0,0,sales,low\\n0.34,0.78,5,137,4,0,0,0,sales,low\\n0.94,0.51,4,229,2,1,0,0,sales,low\\n0.82,0.65,4,168,3,0,0,0,accounting,low\\n0.26,0.69,4,180,3,1,0,0,accounting,low\\n0.78,0.53,4,177,2,0,0,0,accounting,low\\n0.61,0.95,4,191,2,0,0,0,hr,low\\n0.5,0.53,3,191,2,1,0,0,hr,low\\n0.52,0.96,4,125,3,0,0,0,hr,low\\n0.89,0.79,4,152,3,0,0,0,hr,low\\n0.85,0.52,4,174,2,0,0,0,technical,low\\n0.62,0.86,4,135,3,0,0,0,technical,low\\n0.38,0.67,2,117,3,0,0,0,technical,low\\n0.55,0.49,2,180,5,1,0,0,technical,low\\n0.83,0.84,4,146,3,0,0,0,technical,low\\n0.62,0.65,3,249,3,0,0,0,technical,low\\n0.6,0.54,3,136,3,1,0,0,technical,low\\n0.62,0.5,4,198,3,1,0,0,technical,low\\n0.23,0.88,5,201,3,0,0,0,technical,low\\n0.13,0.74,6,132,4,1,0,0,technical,medium\\n0.96,0.63,4,142,4,0,0,0,technical,medium\\n0.5,0.74,5,256,3,1,0,0,support,medium\\n0.66,0.72,3,135,2,0,0,0,support,medium\\n0.61,0.72,4,209,2,0,0,0,support,medium\\n0.45,0.48,5,287,5,0,0,0,support,medium\\n0.5,0.95,4,222,3,1,0,0,support,medium\\n0.75,0.82,3,227,2,0,0,0,support,medium\\n0.88,0.5,4,162,2,0,0,0,support,medium\\n0.49,0.79,5,206,2,0,0,0,support,medium\\n0.82,0.87,5,273,6,0,0,0,support,medium\\n0.92,0.65,4,135,3,0,0,0,support,medium\\n0.4,0.85,5,99,2,1,0,0,support,high\\n0.36,0.61,4,166,4,0,0,0,technical,low\\n0.8,0.99,5,187,3,1,0,0,technical,medium\\n0.68,0.65,4,134,3,0,0,0,technical,medium\\n0.54,0.45,4,137,3,1,0,0,management,medium\\n0.73,0.69,3,175,2,0,0,0,IT,medium\\n0.64,0.49,5,188,2,0,0,0,IT,low\\n0.12,0.39,5,161,4,0,0,0,IT,low\\n0.6,0.7,4,145,6,0,0,0,IT,low\\n0.36,0.62,4,111,6,0,0,0,IT,low\\n0.63,0.76,3,176,2,0,0,0,product_mng,low\\n0.67,0.94,2,192,3,0,0,0,product_mng,low\\n0.83,0.9,3,179,2,1,0,0,product_mng,low\\n0.48,0.9,4,224,3,0,0,0,product_mng,low\\n0.89,0.56,4,241,5,0,0,0,IT,low\\n0.71,0.96,3,201,3,0,0,0,RandD,low\\n0.31,0.59,4,138,2,0,0,0,RandD,low\\n0.89,0.84,5,168,2,0,0,0,RandD,low\\n0.38,0.51,2,120,3,0,0,0,RandD,low\\n0.88,0.92,3,179,3,0,0,0,RandD,low\\n0.64,0.85,3,250,3,0,0,0,marketing,low\\n0.65,0.74,4,237,3,1,0,0,sales,low\\n0.65,0.81,4,192,3,0,0,0,accounting,low\\n0.54,0.97,4,258,3,0,0,0,support,low\\n0.69,0.76,4,257,4,0,0,0,technical,low\\n0.77,0.78,2,271,3,0,0,0,management,low\\n0.28,0.66,3,184,2,0,0,0,marketing,low\\n0.33,0.4,6,214,6,0,0,0,marketing,medium\\n0.83,0.68,4,198,3,0,0,0,marketing,medium\\n0.89,0.73,3,274,2,0,0,0,sales,medium\\n0.76,0.6,5,279,2,0,0,0,sales,medium\\n0.83,0.64,5,272,2,0,0,0,sales,medium\\n0.57,0.85,4,152,3,0,0,0,sales,medium\\n0.61,0.89,2,287,4,0,0,0,sales,medium\\n0.96,0.89,2,239,6,1,0,0,sales,medium\\n0.17,0.5,4,274,6,0,0,0,sales,medium\\n0.61,0.6,4,121,2,0,0,0,sales,medium\\n0.73,0.74,5,199,2,0,0,0,sales,medium\\n0.3,0.39,3,175,3,0,0,0,sales,medium\\n0.42,0.67,2,115,3,0,0,0,sales,high\\n0.65,0.75,3,194,4,1,0,0,sales,low\\n0.17,0.45,2,119,3,0,0,0,sales,medium\\n0.12,0.82,5,162,4,1,0,0,sales,medium\\n0.7,0.78,5,264,2,0,0,0,sales,medium\\n0.87,0.88,3,179,2,0,0,0,sales,medium\\n0.43,0.44,5,213,3,0,0,0,sales,low\\n0.84,0.65,3,269,2,0,0,0,sales,low\\n0.94,0.55,3,160,3,0,0,0,sales,low\\n0.89,0.76,4,133,2,0,0,0,accounting,low\\n0.69,0.75,5,201,3,0,0,0,accounting,low\\n0.18,0.99,4,160,5,0,0,0,accounting,low\\n0.98,0.69,3,274,3,0,0,0,hr,low\\n0.3,0.88,5,245,4,0,0,0,hr,low\\n0.51,0.53,3,237,3,0,0,0,hr,medium\\n0.76,0.9,3,279,6,0,0,0,hr,medium\\n0.67,0.96,4,207,3,0,0,0,technical,medium\\n0.12,0.84,4,218,6,0,0,0,technical,medium\\n0.42,0.41,5,240,2,0,0,0,technical,medium\\n0.69,0.76,3,153,3,0,0,0,technical,medium\\n0.63,0.96,3,144,2,0,0,0,technical,medium\\n0.66,0.62,2,159,3,1,0,0,technical,medium\\n0.5,0.5,3,237,2,0,0,0,technical,medium\\n0.67,0.82,5,148,2,1,0,0,technical,medium\\n0.59,0.62,4,205,3,0,0,0,technical,medium\\n0.75,0.78,2,264,3,1,0,0,technical,medium\\n0.88,0.89,5,189,2,0,0,0,technical,medium\\n0.99,0.75,3,243,3,0,0,0,support,medium\\n0.44,0.42,2,199,2,0,0,0,support,medium\\n0.65,0.78,4,205,2,0,0,0,support,medium\\n0.88,0.63,3,184,4,0,0,0,support,medium\\n0.58,0.79,2,274,4,0,0,0,support,medium\\n0.99,0.9,4,181,3,0,0,0,support,medium\\n0.76,0.71,3,205,2,0,0,0,support,medium\\n0.14,0.98,5,172,5,0,0,0,support,medium\\n0.57,0.86,3,164,2,0,0,0,support,medium\\n0.52,0.82,3,138,2,1,0,0,support,medium\\n0.71,0.55,5,262,3,0,0,0,support,medium\\n0.27,0.75,5,264,3,0,0,0,technical,medium\\n0.49,0.52,3,225,2,0,0,0,technical,high\\n0.59,0.5,3,199,2,0,0,0,technical,high\\n0.24,0.65,6,210,5,0,0,0,management,high\\n0.18,0.87,6,226,4,0,0,0,IT,high\\n0.73,0.62,5,134,3,0,0,0,IT,high\\n0.78,0.63,6,111,6,0,0,0,IT,high\\n0.94,0.73,5,142,2,1,0,0,IT,high\\n0.86,0.53,3,213,3,0,0,0,IT,high\\n0.97,0.88,4,139,2,0,0,0,product_mng,high\\n0.49,0.54,3,145,3,0,0,0,product_mng,high\\n0.82,0.48,4,149,6,0,0,0,product_mng,high\\n0.86,0.64,4,147,2,1,0,0,product_mng,high\\n0.3,0.39,3,193,3,1,0,0,IT,low\\n0.7,0.38,4,270,2,0,0,0,RandD,low\\n0.8,0.78,5,266,3,0,0,0,RandD,low\\n0.36,0.63,2,278,4,0,0,0,RandD,low\\n0.4,0.61,3,165,2,0,0,0,RandD,low\\n0.8,0.58,4,175,2,0,0,0,RandD,low\\n0.98,0.73,4,140,4,0,0,0,marketing,low\\n0.92,0.67,3,149,3,0,0,0,sales,low\\n0.68,1,3,205,4,0,0,0,accounting,low\\n1,0.59,3,253,3,0,0,0,support,low\\n0.8,0.54,3,222,4,0,0,0,technical,low\\n0.85,0.69,4,216,4,0,0,0,management,low\\n0.69,0.6,3,139,2,0,0,0,marketing,low\\n0.57,0.52,4,252,2,0,0,0,marketing,low\\n0.33,0.72,2,173,2,0,0,0,marketing,low\\n0.19,0.48,6,178,3,1,0,0,sales,medium\\n0.5,0.63,3,160,2,0,0,0,sales,medium\\n0.52,0.88,3,261,4,0,0,0,sales,medium\\n0.13,0.52,6,188,3,0,0,0,sales,medium\\n0.18,0.73,4,219,5,0,0,0,sales,medium\\n0.86,0.64,4,263,3,0,0,0,sales,medium\\n0.86,0.59,4,165,3,0,0,0,sales,medium\\n0.16,0.76,6,218,6,0,0,0,sales,medium\\n0.43,0.46,2,239,3,1,0,0,sales,medium\\n0.79,0.63,3,212,2,1,0,0,sales,medium\\n0.51,0.67,4,133,3,0,0,0,sales,medium\\n0.83,0.55,5,250,3,1,0,0,sales,medium\\n0.61,0.45,3,114,3,0,0,0,sales,high\\n0.65,0.57,3,168,2,0,0,0,sales,high\\n0.95,0.83,4,252,2,0,0,0,sales,high\\n0.63,0.64,5,189,4,0,0,0,sales,high\\n0.72,0.6,3,265,2,1,0,0,sales,high\\n0.8,0.57,3,176,3,0,0,0,sales,high\\n0.7,0.57,4,150,4,0,0,0,sales,high\\n0.45,0.79,5,97,6,1,0,0,accounting,high\\n0.64,0.85,4,265,2,0,0,0,accounting,low\\n0.94,0.48,4,260,4,0,0,0,accounting,low\\n0.57,0.76,4,164,2,0,0,0,hr,low\\n0.35,0.56,4,142,2,0,0,0,hr,low\\n0.75,0.81,2,247,4,0,0,0,hr,low\\n0.7,0.92,5,182,3,0,0,0,hr,low\\n0.7,0.47,2,238,3,0,0,0,technical,low\\n0.61,0.62,3,191,3,0,0,0,technical,low\\n0.78,0.87,4,178,3,0,0,0,technical,medium\\n0.97,0.77,4,208,2,0,0,0,technical,medium\\n0.51,0.76,3,256,2,0,0,0,technical,medium\\n0.56,0.71,5,243,3,0,0,0,technical,medium\\n0.87,0.55,3,233,3,0,0,0,technical,medium\\n0.64,0.78,5,200,3,0,0,0,technical,medium\\n0.6,0.85,2,226,2,1,0,0,technical,medium\\n0.9,0.76,2,150,2,0,0,0,technical,medium\\n0.54,0.62,2,141,2,0,0,0,technical,medium\\n0.23,0.8,5,139,3,0,0,0,support,medium\\n0.8,0.81,3,199,4,1,0,0,support,medium\\n0.23,0.78,4,154,6,1,0,0,support,medium\\n0.81,0.51,3,247,2,0,0,0,support,medium\\n0.35,0.6,5,239,5,0,0,0,support,medium\\n0.67,0.8,4,137,2,0,0,0,support,medium\\n0.46,0.6,4,119,5,0,0,0,support,medium\\n0.84,0.98,4,134,5,1,0,0,support,medium\\n0.92,0.79,3,243,4,0,0,0,support,medium\\n0.75,0.93,5,210,3,0,0,0,support,medium\\n0.7,0.57,4,265,2,0,0,0,support,medium\\n0.7,0.75,4,204,3,0,0,0,technical,medium\\n0.9,0.81,6,273,5,0,0,0,technical,medium\\n0.8,1,3,177,2,0,0,0,technical,medium\\n0.5,0.65,5,285,6,0,0,0,management,high\\n0.84,0.72,4,222,2,0,0,0,IT,low\\n0.48,0.94,3,185,2,1,0,0,IT,medium\\n0.98,0.87,5,151,6,0,0,0,IT,medium\\n0.64,0.96,3,109,4,0,0,0,IT,medium\\n0.58,0.53,4,192,4,0,0,0,IT,medium\\n0.66,0.89,4,139,3,0,0,0,product_mng,medium\\n0.76,0.98,4,191,2,0,0,0,product_mng,medium\\n0.32,0.42,6,114,3,0,0,0,product_mng,medium\\n0.49,0.87,3,212,2,0,0,0,product_mng,medium\\n0.81,0.51,3,162,2,0,0,0,IT,medium\\n0.42,0.48,5,191,5,0,0,0,RandD,medium\\n0.17,0.85,3,234,3,0,0,0,RandD,low\\n0.49,0.59,4,265,3,0,0,0,RandD,low\\n0.34,0.69,6,283,2,0,0,0,RandD,low\\n0.86,0.81,3,232,4,0,0,0,RandD,low\\n0.51,0.71,4,208,3,1,0,0,marketing,low\\n0.49,0.99,4,258,3,1,0,0,sales,low\\n0.49,0.63,3,175,2,0,0,0,accounting,low\\n0.51,0.59,3,238,3,0,0,0,support,high\\n0.64,0.52,3,166,3,0,0,0,technical,low\\n0.62,0.85,4,225,2,0,0,0,management,high\\n0.81,0.52,4,221,6,0,0,0,marketing,high\\n0.95,0.57,2,263,3,0,0,0,marketing,low\\n0.88,0.66,4,218,4,1,0,0,marketing,low\\n0.87,0.68,5,236,4,0,0,0,sales,high\\n0.73,0.68,5,133,2,0,0,0,sales,low\\n0.98,0.73,2,237,3,0,0,0,sales,medium\\n0.77,0.48,3,204,6,0,0,0,sales,high\\n0.76,0.99,3,166,3,0,0,0,sales,medium\\n0.21,0.93,4,189,2,1,0,0,sales,medium\\n0.72,0.63,4,251,3,0,0,0,sales,medium\\n0.41,0.56,2,121,2,0,0,0,sales,medium\\n0.9,0.56,3,149,2,0,0,0,sales,high\\n0.96,0.9,5,198,2,0,0,0,sales,medium\\n0.61,0.48,4,163,3,0,0,0,sales,medium\\n0.6,0.8,4,222,2,0,0,0,sales,medium\\n0.5,0.76,2,107,4,0,0,0,sales,high\\n0.79,0.61,4,162,2,0,0,0,sales,medium\\n0.32,0.69,6,192,3,0,0,0,sales,high\\n0.85,0.59,5,236,3,0,0,0,sales,low\\n0.9,0.62,5,225,2,0,0,0,sales,medium\\n0.74,0.54,4,167,2,0,0,0,sales,medium\\n0.21,0.76,6,219,4,1,0,0,sales,medium\\n0.91,0.61,3,255,3,0,0,0,accounting,medium\\n0.9,0.66,5,137,2,0,0,0,accounting,low\\n0.74,0.99,4,193,3,0,0,0,accounting,low\\n0.76,0.75,3,239,2,0,0,0,hr,low\\n0.45,0.61,5,179,5,0,0,0,hr,low\\n0.73,0.63,3,205,2,1,0,0,hr,low\\n0.6,0.73,3,140,5,1,0,0,hr,low\\n0.8,0.77,5,256,2,0,0,0,technical,low\\n0.53,0.7,4,243,3,0,0,0,technical,low\\n0.97,0.63,5,163,3,0,0,0,technical,low\\n0.64,0.99,3,167,2,0,0,0,technical,low\\n0.92,0.59,4,190,5,0,0,0,technical,high\\n0.6,0.57,5,145,3,1,0,0,technical,low\\n1,0.6,4,265,4,0,0,0,technical,low\\n0.69,0.63,4,272,2,0,0,0,technical,low\\n0.53,0.45,5,140,5,0,0,0,technical,low\\n0.63,0.58,4,236,2,0,0,0,technical,high\\n0.57,0.89,4,255,3,1,0,0,technical,low\\n0.79,0.45,5,131,6,0,0,0,support,low\\n0.68,0.92,4,209,6,0,0,0,support,low\\n0.56,0.61,3,250,2,0,0,0,support,high\\n0.48,0.51,3,201,2,1,0,0,support,low\\n0.59,0.67,4,271,2,0,0,0,support,medium\\n0.34,0.76,6,237,5,0,0,0,support,high\\n0.98,0.87,3,239,4,0,0,0,support,medium\\n0.36,0.45,2,135,3,1,0,0,support,high\\n0.6,0.58,2,182,2,0,0,0,support,medium\\n0.24,0.54,6,193,4,0,0,0,support,medium\\n0.67,0.72,4,192,3,1,0,0,support,medium\\n0.17,0.6,5,144,6,0,0,0,technical,medium\\n0.57,0.58,3,251,3,0,0,0,technical,medium\\n0.7,0.85,3,161,2,0,0,0,technical,medium\\n0.73,0.62,3,171,3,0,0,0,management,medium\\n0.61,0.86,4,153,5,0,0,0,IT,medium\\n0.95,0.96,4,161,2,0,0,0,IT,high\\n0.85,0.55,3,226,4,0,0,0,IT,low\\n0.72,0.9,3,193,3,0,0,0,IT,medium\\n0.84,0.66,4,204,3,0,0,0,IT,medium\\n0.57,0.47,2,158,2,0,0,0,product_mng,medium\\n0.69,0.69,3,236,4,0,0,0,product_mng,medium\\n0.57,0.68,4,191,3,0,0,0,product_mng,medium\\n0.52,0.59,6,104,4,0,0,0,product_mng,medium\\n0.56,0.55,3,245,2,0,0,0,IT,medium\\n0.75,0.74,3,186,3,1,0,0,RandD,medium\\n0.98,0.75,5,168,4,1,0,0,RandD,medium\\n0.48,0.55,4,262,3,1,0,0,RandD,high\\n0.35,0.67,2,116,3,0,0,0,RandD,low\\n0.66,0.93,4,187,2,0,0,0,RandD,low\\n0.79,0.9,5,184,3,0,0,0,marketing,low\\n0.86,0.53,4,155,3,0,0,0,marketing,high\\n0.88,1,5,190,2,0,0,0,sales,low\\n0.83,0.64,3,242,3,0,0,0,accounting,low\\n0.8,0.64,5,204,2,0,0,0,support,low\\n0.64,0.69,4,232,3,0,0,0,technical,high\\n0.72,0.59,4,245,2,0,0,0,management,low\\n0.67,0.61,3,251,2,0,0,0,marketing,low\\n0.75,0.7,4,179,2,0,0,0,marketing,low\\n0.65,0.95,4,153,2,0,0,0,marketing,low\\n0.98,0.98,5,210,6,0,0,0,sales,low\\n0.68,0.8,2,257,2,1,0,0,sales,low\\n0.52,0.37,3,137,4,0,0,0,sales,low\\n0.68,0.93,4,179,2,0,0,0,sales,medium\\n0.92,0.74,4,213,3,0,0,0,sales,medium\\n0.86,0.79,3,106,6,1,0,0,sales,medium\\n0.5,0.99,4,272,2,0,0,0,sales,medium\\n0.35,0.37,4,153,2,0,0,0,sales,medium\\n0.76,0.97,5,172,3,0,0,0,sales,medium\\n0.66,0.95,4,224,2,0,0,0,sales,medium\\n0.58,0.71,3,230,3,1,0,0,sales,medium\\n0.55,0.97,4,222,4,0,0,0,sales,medium\\n0.9,0.53,3,270,3,0,0,0,sales,medium\\n0.75,0.71,4,205,3,0,0,0,sales,medium\\n0.9,0.63,4,134,3,1,0,0,sales,medium\\n0.14,0.54,5,275,4,1,0,0,sales,high\\n0.86,0.57,4,183,3,0,0,0,sales,low\\n0.56,0.84,4,143,4,0,0,0,sales,medium\\n0.54,0.63,5,259,2,0,0,0,sales,medium\\n0.36,0.8,5,186,4,0,0,0,accounting,medium\\n0.82,0.59,3,155,3,0,0,0,accounting,medium\\n0.49,0.42,2,266,3,0,0,0,accounting,low\\n0.77,0.97,3,215,2,0,0,0,hr,low\\n0.64,0.83,4,179,3,0,0,0,hr,low\\n0.93,0.53,3,217,3,0,0,0,hr,low\\n0.96,0.94,5,235,3,0,0,0,hr,low\\n0.6,0.97,3,164,2,0,0,0,technical,low\\n0.58,0.55,3,178,5,0,0,0,technical,low\\n0.52,0.49,5,170,3,0,0,0,technical,low\\n0.74,0.79,5,241,3,0,0,0,technical,low\\n0.64,0.99,4,222,2,0,0,0,technical,low\\n0.93,0.59,3,233,3,0,0,0,technical,low\\n0.76,0.49,5,243,3,0,0,0,technical,low\\n0.5,0.54,4,175,2,0,0,0,technical,low\\n0.79,0.55,4,266,3,0,0,0,technical,low\\n0.97,0.95,5,201,2,0,0,0,technical,low\\n0.6,0.49,5,259,4,0,0,0,technical,low\\n0.84,0.73,5,105,5,0,0,0,support,low\\n0.75,0.99,5,189,3,0,0,0,support,low\\n0.24,0.91,4,232,2,0,0,0,support,low\\n0.24,0.91,5,258,6,0,0,0,support,low\\n0.51,0.58,5,173,3,0,0,0,support,low\\n0.5,0.88,4,147,3,0,0,0,support,medium\\n0.66,0.36,3,256,6,0,0,0,support,medium\\n0.97,0.77,3,206,4,0,0,0,support,medium\\n0.61,0.5,4,175,3,0,0,0,support,medium\\n0.77,0.49,4,274,2,1,0,0,support,medium\\n0.74,0.64,3,229,3,0,0,0,support,medium\\n0.92,0.98,4,161,3,0,0,0,technical,medium\\n0.78,0.99,2,188,2,0,0,0,technical,medium\\n0.56,0.57,3,205,3,0,0,0,technical,medium\\n0.82,0.63,3,246,3,0,0,0,management,medium\\n0.26,0.98,5,161,5,0,0,0,IT,medium\\n0.69,0.85,5,246,3,0,0,0,IT,medium\\n0.78,0.83,4,158,3,0,0,0,IT,high\\n0.67,0.86,3,175,3,0,0,0,IT,low\\n0.77,0.91,5,268,3,1,0,0,IT,medium\\n0.8,0.63,4,211,2,0,0,0,product_mng,medium\\n0.51,0.51,3,274,2,0,0,0,product_mng,medium\\n0.77,0.52,4,241,3,0,0,0,product_mng,medium\\n0.65,0.71,3,170,2,0,0,0,product_mng,low\\n0.58,0.53,3,287,5,0,0,0,IT,low\\n0.67,0.39,2,235,6,0,0,0,RandD,low\\n0.33,0.39,3,98,3,1,0,0,RandD,low\\n0.78,0.66,6,105,5,1,0,0,RandD,low\\n0.58,0.83,3,226,3,0,0,0,RandD,low\\n0.63,0.59,4,171,4,0,0,0,RandD,low\\n0.63,0.51,4,153,4,0,0,0,RandD,low\\n0.59,0.55,3,183,4,0,0,0,marketing,low\\n0.6,0.9,5,139,3,0,0,0,sales,low\\n0.93,0.9,5,210,3,0,0,0,accounting,low\\n0.78,0.77,2,177,4,0,0,0,support,low\\n0.65,0.6,3,148,2,0,0,0,technical,low\\n1,0.61,4,198,2,0,0,0,management,low\\n0.96,1,3,137,4,1,0,0,marketing,low\\n0.54,0.97,5,233,3,1,0,0,marketing,low\\n0.98,0.69,2,204,4,0,0,0,marketing,low\\n0.34,0.59,2,164,2,0,0,0,sales,low\\n0.71,0.53,5,162,2,0,0,0,sales,low\\n0.64,0.64,3,180,2,1,0,0,sales,low\\n0.71,0.93,2,199,2,0,0,0,sales,low\\n0.58,0.63,4,190,2,0,0,0,sales,medium\\n0.87,0.96,4,151,3,1,0,0,sales,medium\\n0.58,0.85,4,162,3,0,0,0,sales,medium\\n0.87,0.67,3,139,2,0,0,0,sales,medium\\n0.72,0.86,3,231,3,1,0,0,sales,medium\\n0.67,0.83,5,269,2,0,0,0,sales,medium\\n0.53,0.97,4,249,3,0,0,0,sales,medium\\n0.78,0.61,3,148,2,0,0,0,sales,medium\\n0.19,0.63,4,233,5,0,0,0,sales,medium\\n1,0.88,4,240,4,0,0,0,sales,medium\\n0.75,0.75,5,229,2,1,0,0,sales,medium\\n0.29,0.66,3,256,2,1,0,0,sales,medium\\n0.37,0.7,2,188,2,0,0,0,sales,high\\n0.78,0.5,3,167,2,0,0,0,sales,low\\n0.24,0.64,5,190,4,0,0,0,sales,medium\\n0.49,0.7,4,168,3,0,0,0,accounting,medium\\n0.18,0.64,6,154,5,0,0,0,accounting,medium\\n0.76,0.85,4,135,3,0,0,0,accounting,medium\\n0.5,0.97,4,217,3,0,0,0,hr,low\\n0.82,0.94,3,253,2,0,0,0,hr,low\\n0.97,0.94,3,180,3,0,0,0,hr,low\\n0.72,0.9,4,225,2,0,0,0,hr,low\\n0.98,0.64,4,134,3,1,0,0,technical,low\\n0.76,0.73,3,192,2,0,0,0,technical,low\\n0.72,0.88,3,224,3,0,0,0,technical,low\\n0.96,0.91,3,260,5,0,0,0,technical,low\\n0.62,0.78,3,178,3,1,0,0,technical,low\\n0.25,0.98,4,166,5,1,0,0,technical,low\\n0.82,0.56,5,180,3,0,0,0,technical,low\\n0.59,0.9,3,189,2,0,0,0,technical,low\\n0.94,0.73,3,154,3,0,0,0,technical,low\\n0.72,0.88,3,236,3,0,0,0,technical,low\\n0.53,0.78,5,198,3,0,0,0,technical,low\\n0.67,0.83,3,148,3,0,0,0,support,low\\n0.99,0.52,4,205,2,0,0,0,support,low\\n0.64,0.53,4,133,3,0,0,0,support,low\\n0.61,0.57,4,160,3,1,0,0,support,low\\n0.89,0.85,4,201,2,1,0,0,support,low\\n0.61,0.7,5,157,4,0,0,0,support,low\\n0.9,0.74,3,260,2,0,0,0,support,medium\\n0.96,0.51,5,152,3,0,0,0,support,medium\\n0.62,0.55,4,218,3,0,0,0,support,medium\\n0.89,0.57,3,252,2,0,0,0,support,medium\\n0.52,0.67,4,216,3,0,0,0,support,medium\\n0.66,0.99,3,183,2,0,0,0,technical,medium\\n0.96,0.6,5,269,2,0,0,0,technical,medium\\n0.95,0.89,5,132,4,0,0,0,technical,medium\\n0.75,0.98,4,170,4,0,0,0,management,medium\\n0.39,0.87,5,257,5,1,0,0,IT,medium\\n0.93,0.69,3,138,2,0,0,0,IT,medium\\n0.44,0.54,3,115,3,0,0,0,IT,medium\\n0.9,0.67,3,165,2,0,0,0,IT,high\\n0.75,0.81,3,214,3,0,0,0,IT,low\\n0.45,0.75,2,246,2,0,0,0,product_mng,medium\\n0.42,0.6,2,188,3,0,0,0,product_mng,medium\\n0.99,0.82,3,255,2,0,0,0,product_mng,medium\\n0.89,0.91,4,190,2,0,0,0,product_mng,medium\\n0.96,0.9,4,164,4,0,0,0,IT,low\\n0.5,0.46,3,165,3,0,0,0,RandD,low\\n0.59,0.59,3,141,3,0,0,0,RandD,low\\n0.57,0.69,3,154,2,0,0,0,RandD,low\\n1,0.87,3,165,2,0,0,0,RandD,low\\n0.6,0.59,5,266,2,0,0,0,RandD,low\\n0.21,0.85,6,235,6,0,0,0,RandD,low\\n0.63,0.83,4,159,2,0,0,0,marketing,low\\n0.8,0.82,3,218,3,0,0,0,sales,low\\n0.51,0.96,3,149,4,0,0,0,accounting,low\\n0.89,0.96,5,239,3,0,0,0,support,low\\n0.83,0.58,4,225,3,0,0,0,technical,low\\n0.77,0.74,6,247,3,0,0,0,management,low\\n0.79,0.99,4,183,2,0,0,0,marketing,low\\n0.63,0.85,5,214,2,0,0,0,marketing,low\\n0.68,0.48,5,113,2,0,0,0,marketing,low\\n0.74,0.69,4,244,2,0,0,0,sales,low\\n0.49,0.67,6,286,4,0,0,0,sales,low\\n0.46,0.55,3,139,2,0,0,0,sales,medium\\n0.9,0.91,5,176,3,0,0,0,sales,medium\\n0.7,0.67,5,136,3,0,0,0,sales,medium\\n0.84,0.71,4,222,2,0,0,0,sales,medium\\n0.89,0.77,4,269,4,0,0,0,sales,medium\\n0.59,0.87,4,183,2,0,0,0,sales,medium\\n0.57,0.72,3,206,3,0,0,0,sales,medium\\n0.53,0.49,3,158,3,0,0,0,sales,medium\\n0.83,0.89,4,136,3,0,0,0,sales,medium\\n0.51,0.66,4,182,2,0,0,0,sales,medium\\n0.78,0.61,4,268,3,0,0,0,sales,medium\\n0.52,0.69,3,144,3,0,0,0,sales,medium\\n0.42,0.5,5,286,4,0,0,0,sales,high\\n0.61,0.38,2,268,3,0,0,0,sales,low\\n0.85,1,3,255,3,0,0,0,sales,medium\\n0.17,0.85,6,245,5,0,0,0,sales,medium\\n0.79,0.52,3,134,2,1,0,0,sales,medium\\n0.56,0.98,3,251,3,1,0,0,accounting,medium\\n0.5,0.73,5,165,2,0,0,0,accounting,low\\n0.51,0.53,3,223,2,1,0,0,accounting,low\\n0.77,0.67,4,225,4,0,0,0,hr,low\\n0.84,0.9,3,196,3,1,0,0,hr,low\\n0.21,0.49,3,253,3,0,0,0,hr,low\\n0.65,0.57,5,222,3,0,0,0,hr,low\\n0.95,0.87,4,135,3,0,0,0,technical,low\\n0.8,0.75,4,217,2,0,0,0,technical,low\\n0.77,0.85,5,192,2,0,0,0,technical,low\\n0.57,0.7,3,172,3,0,0,0,technical,low\\n0.92,0.55,4,183,3,0,0,0,technical,low\\n1,0.71,5,186,2,0,0,0,technical,low\\n0.85,0.67,4,163,3,0,0,0,technical,low\\n0.57,0.8,4,262,3,0,0,0,technical,low\\n0.66,0.68,3,202,3,0,0,0,technical,low\\n0.85,0.8,4,248,3,0,0,0,technical,low\\n0.99,0.5,5,214,2,0,0,0,technical,low\\n0.91,0.82,4,260,4,0,0,0,support,low\\n0.96,0.97,4,260,3,0,0,0,support,low\\n0.49,0.52,4,251,2,0,0,0,support,low\\n0.39,0.85,5,179,5,0,0,0,support,low\\n0.87,0.74,4,178,2,1,0,0,support,medium\\n0.19,0.85,6,210,4,0,0,0,support,medium\\n0.9,0.83,3,273,4,0,0,0,support,medium\\n0.5,0.5,5,166,2,0,0,0,support,medium\\n0.7,0.9,5,246,2,0,0,0,support,medium\\n0.52,0.55,5,192,3,0,0,0,support,medium\\n0.71,0.69,3,274,3,0,0,0,support,medium\\n0.4,0.41,3,232,3,0,0,0,technical,medium\\n0.96,0.53,3,158,4,0,0,0,technical,medium\\n0.86,0.92,5,137,3,0,0,0,technical,medium\\n0.68,0.85,3,209,2,0,0,0,management,medium\\n0.56,0.64,3,206,2,0,0,0,IT,medium\\n0.65,0.56,3,230,2,0,0,0,IT,high\\n0.98,0.61,5,239,3,0,0,0,IT,low\\n0.18,0.51,5,159,6,0,0,0,IT,medium\\n0.66,0.65,4,244,2,0,0,0,IT,medium\\n0.14,0.51,5,259,5,0,0,0,product_mng,medium\\n0.94,0.8,5,245,3,1,0,0,product_mng,medium\\n0.56,1,3,141,2,1,0,0,product_mng,low\\n0.56,0.8,5,202,4,0,0,0,product_mng,low\\n0.59,0.89,5,143,3,1,0,0,IT,low\\n0.63,0.62,4,286,5,1,0,0,RandD,low\\n0.97,0.88,5,173,3,0,0,0,RandD,low\\n0.76,0.7,5,195,3,0,0,0,RandD,low\\n0.85,0.58,4,167,4,0,0,0,RandD,low\\n0.23,0.73,5,197,4,1,0,0,RandD,low\\n0.68,0.62,3,255,5,0,0,0,RandD,low\\n0.71,0.73,3,274,3,0,0,0,marketing,low\\n0.5,0.59,3,192,2,0,0,0,sales,low\\n0.61,0.7,3,225,3,0,0,0,accounting,low\\n0.99,0.65,3,209,2,1,0,0,support,low\\n0.97,0.86,5,222,3,0,0,0,technical,low\\n0.82,0.71,5,208,2,0,0,0,management,low\\n0.72,0.68,5,162,5,0,0,0,marketing,low\\n0.53,0.74,3,135,2,0,0,0,marketing,low\\n0.55,0.87,4,200,3,0,0,0,marketing,low\\n0.52,0.53,4,159,4,0,0,0,sales,low\\n0.8,0.81,5,156,2,0,0,0,sales,low\\n0.51,0.95,4,169,3,1,0,0,sales,low\\n0.66,0.65,4,154,3,0,0,0,sales,medium\\n0.56,0.43,2,169,3,0,0,0,sales,medium\\n0.5,0.84,3,233,3,1,0,0,sales,medium\\n0.94,0.78,3,218,2,1,0,0,sales,medium\\n0.42,0.8,4,279,6,0,0,0,sales,medium\\n0.6,0.61,3,195,3,0,0,0,sales,medium\\n0.55,0.71,4,223,3,0,0,0,sales,medium\\n0.76,0.72,3,275,4,1,0,0,sales,medium\\n0.84,0.74,3,234,3,1,0,0,sales,medium\\n0.33,0.62,4,113,6,0,0,0,sales,medium\\n0.61,0.95,3,133,5,0,0,0,sales,medium\\n0.91,0.93,5,158,4,0,0,0,sales,medium\\n0.73,0.74,4,214,3,0,0,0,sales,high\\n0.87,0.67,4,272,4,0,0,0,sales,low\\n0.38,0.42,2,127,4,0,0,0,sales,medium\\n0.8,0.51,4,141,3,1,0,0,sales,medium\\n0.69,0.8,5,263,3,1,0,0,accounting,medium\\n0.99,0.92,5,174,5,0,0,0,accounting,medium\\n0.92,0.76,5,246,2,1,0,0,accounting,low\\n0.6,0.88,3,201,2,0,0,0,hr,low\\n0.89,0.93,3,181,3,0,0,0,hr,low\\n0.91,0.93,3,238,2,0,0,0,hr,low\\n0.35,0.52,3,167,2,0,0,0,hr,low\\n0.88,0.68,5,224,2,0,0,0,technical,low\\n0.66,0.69,3,182,3,1,0,0,technical,low\\n0.21,0.55,4,189,2,0,0,0,technical,low\\n0.78,0.64,3,169,2,1,0,0,technical,medium\\n0.21,0.96,4,287,5,0,0,0,technical,medium\\n0.64,0.94,3,150,2,0,0,0,technical,medium\\n0.68,0.95,4,146,2,0,0,0,technical,medium\\n0.99,0.87,4,162,4,0,0,0,technical,medium\\n0.85,0.55,4,158,5,0,0,0,technical,medium\\n0.86,0.51,3,185,2,0,0,0,technical,medium\\n0.89,0.98,3,214,3,0,0,0,technical,medium\\n0.49,0.85,4,200,3,0,0,0,support,medium\\n0.76,0.97,4,219,2,0,0,0,support,medium\\n0.79,0.87,3,218,3,0,0,0,support,medium\\n0.89,0.64,4,237,2,0,0,0,support,medium\\n0.34,0.51,3,105,3,0,0,0,support,medium\\n0.81,0.92,3,251,3,1,0,0,support,medium\\n0.96,0.7,3,227,2,0,0,0,support,medium\\n0.7,0.87,3,158,2,0,0,0,support,medium\\n0.92,0.61,4,252,2,0,0,0,support,medium\\n0.5,0.76,4,198,3,0,0,0,support,medium\\n0.75,0.72,2,192,3,0,0,0,support,medium\\n0.42,0.38,2,139,4,0,0,0,technical,medium\\n0.29,0.4,6,205,3,0,0,0,technical,medium\\n0.91,0.48,3,224,3,0,0,0,technical,medium\\n0.55,0.97,4,267,4,0,0,0,management,medium\\n0.57,0.81,4,200,3,1,0,0,IT,medium\\n0.27,0.48,3,97,6,0,0,0,IT,medium\\n0.7,0.43,6,253,3,0,0,0,IT,high\\n0.63,0.68,4,191,2,0,0,0,IT,high\\n0.97,0.63,5,199,2,1,0,0,IT,high\\n0.28,0.52,3,127,4,0,0,0,product_mng,high\\n0.7,0.6,3,187,2,0,0,0,product_mng,high\\n0.83,0.51,4,215,3,0,0,0,product_mng,high\\n0.22,0.76,4,176,6,1,0,0,product_mng,high\\n0.55,0.47,3,194,2,0,0,0,IT,high\\n0.33,0.77,3,216,3,0,0,0,RandD,high\\n0.5,0.78,4,185,3,0,0,0,RandD,high\\n0.93,0.88,5,140,3,0,0,0,RandD,high\\n0.77,0.66,3,260,4,0,0,0,RandD,high\\n0.93,0.97,5,137,4,0,0,0,RandD,low\\n0.72,1,4,151,2,0,0,0,RandD,low\\n0.78,0.53,3,152,2,0,0,0,marketing,low\\n0.55,0.75,4,166,2,0,0,0,sales,low\\n0.39,0.86,3,261,2,0,0,0,accounting,low\\n0.67,0.78,3,235,3,0,0,0,support,low\\n0.61,0.89,3,201,2,0,0,0,technical,low\\n0.6,0.69,6,250,5,1,0,0,management,low\\n0.48,0.64,4,146,2,0,0,0,marketing,low\\n0.75,0.84,4,195,3,0,0,0,marketing,low\\n0.87,0.58,4,259,3,0,0,0,marketing,low\\n0.51,0.54,4,166,4,1,0,0,sales,low\\n0.63,0.9,4,188,4,1,0,0,sales,low\\n0.6,0.57,3,203,2,0,0,0,sales,low\\n0.7,0.99,3,167,3,0,0,0,sales,low\\n0.5,0.99,2,258,3,1,0,0,sales,medium\\n0.59,0.51,2,126,3,0,0,0,sales,medium\\n0.52,0.39,6,246,4,0,0,0,sales,medium\\n0.55,0.49,3,205,3,0,0,0,sales,medium\\n0.81,0.62,5,201,3,1,0,0,sales,medium\\n0.94,0.98,4,197,3,0,0,0,sales,medium\\n0.98,0.61,3,272,3,0,0,0,sales,medium\\n0.83,0.84,4,206,2,0,0,0,sales,medium\\n0.93,0.62,3,184,3,0,0,0,sales,medium\\n0.99,0.54,3,199,2,0,0,0,sales,medium\\n0.55,0.57,4,220,3,0,0,0,sales,medium\\n0.96,0.83,3,233,3,0,0,0,sales,medium\\n0.28,0.77,3,221,3,0,0,0,sales,high\\n0.97,0.6,6,168,5,1,0,0,sales,high\\n0.8,0.78,3,251,3,0,0,0,sales,high\\n0.75,0.55,2,188,3,0,0,0,accounting,high\\n0.89,0.88,3,203,3,0,0,0,accounting,high\\n0.6,0.76,5,168,2,1,0,0,accounting,high\\n0.73,0.98,3,227,2,1,0,0,hr,high\\n0.88,0.75,4,159,2,0,0,0,hr,high\\n0.5,0.7,3,159,3,0,0,0,hr,low\\n0.53,0.78,5,275,5,0,0,0,hr,low\\n0.95,0.43,6,283,2,0,0,0,technical,low\\n0.94,0.53,5,169,3,0,0,0,technical,low\\n0.49,0.8,3,227,4,1,0,0,technical,low\\n0.59,0.57,3,147,4,0,0,0,technical,low\\n0.51,0.91,3,227,2,0,0,0,technical,low\\n0.66,0.66,4,166,3,0,0,0,technical,low\\n0.76,0.94,4,168,6,0,0,0,technical,medium\\n0.12,0.59,3,229,6,0,0,0,technical,medium\\n0.84,0.65,3,134,3,0,0,0,technical,medium\\n0.94,0.81,3,196,3,0,0,0,technical,medium\\n0.63,0.84,4,181,3,0,0,0,technical,medium\\n0.79,0.99,4,177,3,1,0,0,support,medium\\n0.85,0.68,3,272,2,1,0,0,support,medium\\n0.74,0.52,3,213,3,0,0,0,support,medium\\n0.23,0.75,6,220,3,0,0,0,support,medium\\n0.62,0.51,4,274,2,0,0,0,support,medium\\n0.36,0.56,6,242,6,0,0,0,support,medium\\n0.7,0.83,4,182,3,0,0,0,support,medium\\n0.57,0.75,5,172,4,0,0,0,support,medium\\n0.83,0.99,3,226,3,0,0,0,support,medium\\n0.71,0.96,3,132,2,0,0,0,support,medium\\n0.23,0.72,6,121,3,0,0,0,support,medium\\n0.59,0.69,4,207,2,0,0,0,technical,medium\\n0.69,0.61,2,141,3,0,0,0,technical,medium\\n0.63,0.81,5,189,3,0,0,0,technical,medium\\n0.9,0.59,6,269,4,1,0,0,management,medium\\n0.31,0.57,4,200,4,0,0,0,IT,medium\\n0.92,0.62,3,199,2,0,0,0,IT,medium\\n0.96,0.87,4,213,3,0,0,0,IT,medium\\n0.66,0.51,6,105,4,0,0,0,IT,high\\n0.48,0.97,4,141,2,0,0,0,IT,low\\n0.15,0.55,3,255,3,1,0,0,product_mng,medium\\n0.59,0.79,3,217,4,0,0,0,product_mng,medium\\n0.66,0.85,6,165,5,0,0,0,product_mng,medium\\n0.69,0.92,5,220,2,0,0,0,product_mng,medium\\n0.65,0.79,4,241,4,0,0,0,IT,medium\\n0.58,0.94,5,274,3,0,0,0,RandD,medium\\n0.72,0.57,4,224,4,0,0,0,RandD,medium\\n0.65,0.99,5,240,5,0,0,0,RandD,medium\\n0.63,0.77,5,210,3,0,0,0,RandD,medium\\n0.55,0.87,3,215,2,0,0,0,RandD,medium\\n0.74,0.56,4,254,2,0,0,0,marketing,low\\n0.58,0.84,4,150,4,1,0,0,sales,low\\n0.71,0.72,4,177,3,0,0,0,accounting,low\\n0.83,0.37,5,101,4,1,0,0,support,low\\n0.63,0.52,3,183,2,0,0,0,technical,low\\n0.56,0.61,3,224,3,0,0,0,management,low\\n0.88,0.55,3,263,3,0,0,0,marketing,low\\n0.82,0.55,3,207,2,0,0,0,marketing,high\\n0.69,0.72,3,243,3,0,0,0,marketing,low\\n0.57,0.54,3,157,4,1,0,0,sales,high\\n0.75,0.69,3,242,3,0,0,0,sales,high\\n0.6,0.98,4,265,2,0,0,0,sales,low\\n0.96,0.92,3,196,4,0,0,0,sales,low\\n0.75,0.67,4,135,2,0,0,0,sales,high\\n1,0.61,6,270,3,0,0,0,sales,low\\n0.92,0.97,4,201,2,0,0,0,sales,medium\\n0.84,0.93,5,225,4,0,0,0,sales,high\\n0.82,0.77,4,205,3,0,0,0,sales,medium\\n0.74,0.42,3,131,3,0,0,0,sales,medium\\n0.21,0.39,2,118,4,0,0,0,sales,medium\\n0.62,0.64,5,187,3,0,0,0,sales,medium\\n0.54,0.48,3,275,2,0,0,0,sales,high\\n0.55,0.97,5,125,4,0,0,0,sales,medium\\n0.84,0.55,4,270,3,1,0,0,sales,medium\\n0.61,0.56,2,123,2,0,0,0,sales,medium\\n0.64,0.53,3,281,3,0,0,0,sales,high\\n0.92,0.51,3,223,2,0,0,0,sales,medium\\n0.86,0.87,3,268,2,0,0,0,sales,high\\n0.6,0.74,4,174,3,0,0,0,accounting,low\\n0.86,0.92,3,162,3,1,0,0,accounting,medium\\n0.55,0.51,3,192,3,0,0,0,accounting,medium\\n0.54,0.58,4,178,3,0,0,0,hr,medium\\n0.49,0.9,3,250,2,0,0,0,hr,medium\\n0.98,0.72,3,262,4,0,0,0,hr,low\\n0.55,0.55,5,194,3,1,0,0,hr,low\\n0.64,0.5,3,146,3,0,0,0,technical,low\\n0.54,0.53,4,245,2,0,0,0,technical,low\\n0.58,0.45,3,131,2,0,0,0,technical,low\\n0.57,0.37,3,108,4,0,0,0,technical,low\\n0.65,0.64,5,206,3,0,0,0,technical,low\\n0.6,0.4,3,146,4,1,0,0,technical,low\\n0.59,0.45,2,171,2,0,0,0,technical,low\\n0.77,0.5,4,173,2,1,0,0,technical,low\\n0.55,0.49,5,240,3,0,0,0,technical,high\\n0.5,0.6,4,199,2,0,0,0,technical,low\\n0.43,0.77,3,237,3,1,0,0,technical,low\\n0.58,0.84,3,258,4,0,0,0,support,low\\n0.66,0.68,4,269,3,1,0,0,support,low\\n0.7,0.8,5,245,4,0,0,0,support,high\\n0.82,0.54,4,164,3,0,0,0,support,low\\n0.49,0.49,4,256,3,1,0,0,support,low\\n0.99,0.79,4,213,3,0,0,0,support,low\\n0.96,0.73,3,193,3,1,0,0,support,high\\n0.7,0.57,3,179,2,0,0,0,support,low\\n0.22,0.89,6,278,5,1,0,0,support,medium\\n0.91,0.52,3,256,2,0,0,0,support,high\\n0.18,0.76,5,173,4,0,0,0,support,medium\\n0.84,0.68,4,179,3,0,0,0,technical,high\\n0.66,0.38,4,145,5,0,0,0,technical,medium\\n0.49,0.65,3,168,4,0,0,0,technical,medium\\n0.88,0.89,4,213,3,0,0,0,management,medium\\n0.69,0.91,6,150,5,0,0,0,IT,medium\\n0.83,0.75,3,262,3,0,0,0,IT,medium\\n0.56,0.84,4,149,4,1,0,0,IT,medium\\n0.95,0.77,5,139,2,0,0,0,IT,medium\\n0.56,1,3,272,2,0,0,0,IT,medium\\n0.93,0.73,3,252,4,0,0,0,product_mng,high\\n0.84,0.52,3,232,4,0,0,0,product_mng,low\\n0.84,0.48,3,266,2,0,0,0,product_mng,medium\\n0.52,0.65,4,264,3,0,0,0,product_mng,medium\\n0.98,0.8,4,142,2,0,0,0,IT,medium\\n0.66,0.64,5,208,4,0,0,0,RandD,medium\\n0.92,0.49,5,178,2,1,0,0,RandD,medium\\n0.71,0.8,5,192,3,0,0,0,RandD,medium\\n0.65,0.92,4,242,2,0,0,0,RandD,medium\\n0.23,0.47,4,277,5,0,0,0,RandD,medium\\n0.71,0.97,3,173,2,1,0,0,marketing,medium\\n0.21,0.65,4,276,6,0,0,0,marketing,high\\n0.7,0.72,2,189,3,0,0,0,sales,low\\n0.9,0.5,4,139,2,0,0,0,accounting,low\\n0.6,0.52,5,140,3,0,0,0,support,low\\n0.58,0.63,5,191,3,1,0,0,technical,high\\n0.73,0.72,5,178,2,0,0,0,management,low\\n0.56,0.67,4,184,3,0,0,0,marketing,low\\n0.97,0.57,3,144,3,0,0,0,marketing,low\\n0.92,0.91,3,160,2,0,0,0,marketing,high\\n0.77,0.68,3,225,2,0,0,0,sales,low\\n0.97,0.81,5,266,2,0,0,0,sales,low\\n0.7,0.69,5,154,2,0,0,0,sales,low\\n0.78,0.82,4,142,2,1,0,0,sales,low\\n0.77,0.87,3,207,4,1,0,0,sales,low\\n0.66,0.53,4,162,3,0,0,0,sales,low\\n0.25,0.98,6,287,5,1,0,0,sales,low\\n0.89,0.87,2,270,6,1,0,0,sales,medium\\n0.15,0.66,5,160,4,1,0,0,sales,medium\\n0.26,0.91,6,113,2,0,0,0,sales,medium\\n0.74,0.58,4,178,4,0,0,0,sales,medium\\n0.52,0.83,3,153,2,0,0,0,sales,medium\\n0.95,0.62,4,255,2,0,0,0,sales,medium\\n0.66,0.82,4,257,3,1,0,0,sales,medium\\n0.79,0.66,4,243,3,0,0,0,sales,medium\\n0.98,0.94,3,179,3,0,0,0,sales,medium\\n0.4,0.37,3,123,2,0,0,0,sales,medium\\n1,0.68,3,132,2,0,0,0,sales,medium\\n0.71,0.79,3,134,3,0,0,0,sales,medium\\n0.48,0.45,3,277,2,1,0,0,accounting,high\\n0.76,1,5,265,2,0,0,0,accounting,low\\n0.61,0.62,4,269,4,0,0,0,accounting,medium\\n0.74,0.9,4,156,4,0,0,0,hr,medium\\n0.24,0.94,6,237,5,0,0,0,hr,medium\\n0.79,0.97,3,271,2,0,0,0,hr,medium\\n0.75,0.98,3,206,2,0,0,0,hr,low\\n0.6,0.98,4,192,3,0,0,0,technical,low\\n0.72,0.95,4,230,3,0,0,0,technical,low\\n1,0.6,4,261,3,0,0,0,technical,low\\n0.55,0.88,3,173,3,1,0,0,technical,low\\n0.3,0.98,2,109,4,1,0,0,technical,low\\n0.89,0.59,3,247,4,0,0,0,technical,low\\n0.84,0.84,5,163,3,0,0,0,technical,low\\n0.67,0.64,4,149,4,0,0,0,technical,low\\n0.15,0.48,6,218,6,0,0,0,technical,low\\n0.59,0.75,4,194,2,0,0,0,technical,low\\n0.5,0.59,4,157,2,0,0,0,technical,low\\n0.23,0.68,5,244,3,0,0,0,support,low\\n0.95,0.58,5,169,2,0,0,0,support,low\\n0.31,0.53,2,146,3,1,0,0,support,low\\n0.47,0.55,5,207,3,0,0,0,support,low\\n0.26,0.95,3,195,5,0,0,0,support,low\\n0.55,0.64,6,148,4,0,0,0,support,low\\n0.89,0.58,3,272,2,0,0,0,support,low\\n0.88,0.68,3,185,2,0,0,0,support,low\\n0.98,0.62,5,260,2,1,0,0,support,low\\n0.96,0.48,3,182,2,1,0,0,support,medium\\n0.85,0.65,3,195,3,0,0,0,support,medium\\n0.96,0.85,3,168,3,0,0,0,technical,medium\\n0.85,0.88,3,198,4,1,0,0,technical,medium\\n0.59,0.93,5,172,2,0,0,0,technical,medium\\n0.51,0.5,4,216,2,1,0,0,management,medium\\n0.5,0.75,3,232,2,0,0,0,IT,medium\\n0.53,0.59,3,148,3,0,0,0,IT,medium\\n0.44,0.83,4,210,2,0,0,0,IT,medium\\n0.99,0.55,3,197,2,0,0,0,IT,medium\\n0.73,0.83,4,241,3,0,0,0,IT,medium\\n0.51,0.71,5,154,2,0,0,0,product_mng,medium\\n0.5,0.84,3,259,2,0,0,0,product_mng,high\\n0.52,0.76,4,106,2,1,0,0,product_mng,low\\n0.74,0.74,5,262,2,0,0,0,product_mng,medium\\n0.69,0.89,2,202,2,0,0,0,IT,medium\\n0.22,0.65,5,174,5,1,0,0,RandD,medium\\n0.49,0.89,4,240,2,0,0,0,RandD,medium\\n0.7,0.57,5,247,3,0,0,0,RandD,low\\n0.68,0.63,4,148,3,0,0,0,RandD,low\\n0.66,0.84,5,187,2,1,0,0,RandD,low\\n0.99,0.58,4,183,3,0,0,0,marketing,low\\n0.88,0.59,4,240,2,0,0,0,sales,low\\n0.2,0.54,4,149,3,0,0,0,accounting,low\\n0.56,0.44,2,130,3,0,0,0,support,low\\n0.68,0.85,4,203,2,0,0,0,technical,low\\n0.85,0.6,3,218,3,0,0,0,management,low\\n0.95,0.95,4,204,3,1,0,0,marketing,low\\n0.6,0.77,4,163,3,1,0,0,marketing,low\\n0.61,0.53,4,183,3,0,0,0,marketing,low\\n0.55,0.55,4,211,4,0,0,0,sales,low\\n0.64,0.78,5,156,5,1,0,0,sales,low\\n0.64,0.6,3,196,3,0,0,0,sales,low\\n0.87,0.54,4,162,2,0,0,0,sales,low\\n0.2,0.9,3,218,4,0,0,0,sales,low\\n0.99,0.64,4,135,2,1,0,0,sales,low\\n0.96,0.7,2,273,3,0,0,0,sales,low\\n0.53,0.65,3,241,3,0,0,0,sales,low\\n0.7,0.39,6,285,4,0,0,0,sales,low\\n0.68,0.61,6,236,3,0,0,0,sales,medium\\n0.96,0.48,4,222,3,0,0,0,sales,medium\\n0.64,0.64,4,242,3,0,0,0,sales,medium\\n0.86,0.65,5,166,3,0,0,0,sales,medium\\n0.87,0.84,3,172,3,0,0,0,sales,medium\\n0.53,0.56,4,249,2,0,0,0,sales,medium\\n0.72,0.98,4,180,2,0,0,0,sales,medium\\n0.83,0.59,4,197,4,0,0,0,sales,medium\\n0.97,0.54,5,185,2,0,0,0,sales,medium\\n0.92,0.76,3,171,2,0,0,0,sales,medium\\n0.82,0.95,6,191,6,0,0,0,accounting,medium\\n0.59,0.56,4,250,2,0,0,0,accounting,medium\\n0.84,0.95,5,199,3,0,0,0,accounting,high\\n0.71,0.84,3,139,2,0,0,0,hr,low\\n0.49,0.98,3,224,3,0,0,0,hr,medium\\n0.78,0.61,3,227,3,0,0,0,hr,medium\\n0.84,0.81,4,198,2,0,0,0,hr,medium\\n0.85,0.96,5,165,5,0,0,0,technical,medium\\n0.87,0.93,4,199,3,0,0,0,technical,low\\n0.94,0.84,5,203,3,0,0,0,technical,low\\n0.82,0.97,4,243,3,1,0,0,technical,low\\n0.78,0.78,3,135,3,0,0,0,technical,low\\n0.47,0.55,4,100,4,1,0,0,technical,low\\n0.5,0.48,2,150,3,1,0,0,technical,low\\n0.75,0.82,4,252,3,0,0,0,technical,low\\n0.36,0.39,3,98,3,0,0,0,technical,low\\n0.91,0.61,3,262,3,0,0,0,technical,low\\n0.87,0.68,3,257,3,0,0,0,technical,low\\n0.97,0.94,3,160,3,0,0,0,support,low\\n0.71,0.65,3,190,3,0,0,0,support,low\\n0.83,0.65,3,231,2,0,0,0,support,low\\n0.42,0.51,3,190,4,0,0,0,support,low\\n0.53,0.51,4,181,3,0,0,0,support,low\\n0.56,0.88,4,273,3,0,0,0,support,low\\n0.26,0.7,5,214,6,1,0,0,support,low\\n0.53,0.49,4,192,2,0,0,0,support,low\\n0.99,0.73,4,224,2,0,0,0,support,low\\n0.48,0.43,3,96,3,0,0,0,support,low\\n0.91,0.5,3,276,4,0,0,0,support,low\\n0.76,0.79,3,162,2,1,0,0,technical,medium\\n0.67,0.8,4,190,4,0,0,0,technical,medium\\n0.58,0.6,4,147,3,0,0,0,technical,medium\\n0.57,0.78,4,143,3,0,0,0,management,medium\\n0.55,0.57,5,280,6,1,0,0,IT,medium\\n0.79,0.49,3,137,2,0,0,0,IT,medium\\n0.48,0.98,3,259,6,0,0,0,IT,medium\\n0.68,0.69,4,176,3,1,0,0,IT,medium\\n0.19,0.64,5,231,4,1,0,0,IT,medium\\n0.99,0.48,3,104,3,0,0,0,product_mng,medium\\n0.3,0.76,5,224,2,0,0,0,product_mng,medium\\n0.81,0.85,4,202,3,1,0,0,product_mng,medium\\n0.58,0.74,4,180,3,0,0,0,product_mng,high\\n0.74,0.61,3,228,2,1,0,0,IT,low\\n0.59,0.74,5,165,2,0,0,0,RandD,medium\\n0.46,0.63,2,177,6,0,0,0,RandD,medium\\n0.58,0.43,3,194,2,1,0,0,RandD,medium\\n0.77,0.95,3,192,4,1,0,0,RandD,medium\\n0.79,0.77,4,171,2,0,0,0,RandD,low\\n0.51,0.95,3,187,2,0,0,0,marketing,low\\n0.7,0.58,3,205,3,0,0,0,sales,low\\n0.84,0.73,5,230,4,1,0,0,accounting,low\\n0.19,0.9,5,172,2,0,0,0,support,low\\n0.9,0.52,4,167,3,1,0,0,technical,low\\n0.19,0.91,5,145,3,0,0,0,management,low\\n0.96,0.53,3,166,3,0,0,0,marketing,low\\n0.87,1,3,148,3,0,0,0,marketing,low\\n0.5,0.89,5,223,3,0,0,0,marketing,low\\n0.88,0.58,2,123,4,0,0,0,sales,low\\n0.55,0.99,3,158,3,0,0,0,sales,low\\n0.89,0.86,3,223,2,0,0,0,sales,low\\n0.58,0.69,3,252,3,0,0,0,sales,low\\n0.58,0.96,5,143,2,0,0,0,sales,low\\n0.34,0.88,5,131,6,0,0,0,sales,low\\n0.54,0.65,5,206,4,1,0,0,sales,low\\n0.59,0.54,4,210,3,0,0,0,sales,low\\n0.88,0.96,4,262,3,0,0,0,sales,medium\\n0.72,0.69,4,147,3,0,0,0,sales,medium\\n0.79,0.75,4,259,3,0,0,0,sales,medium\\n0.51,0.73,4,174,3,0,0,0,sales,medium\\n0.84,0.84,3,150,4,0,0,0,sales,medium\\n0.95,0.67,4,219,2,0,0,0,sales,medium\\n0.58,0.88,5,178,4,0,0,0,sales,medium\\n0.69,0.98,3,269,3,1,0,0,sales,medium\\n0.17,0.64,6,205,5,1,0,0,sales,medium\\n0.81,0.72,3,232,3,1,0,0,sales,medium\\n0.41,0.5,3,193,3,0,0,0,sales,medium\\n0.12,0.42,3,110,2,0,0,0,accounting,medium\\n0.71,0.6,4,208,3,0,0,0,accounting,high\\n0.32,0.69,5,157,4,0,0,0,accounting,low\\n0.83,0.98,5,187,4,0,0,0,hr,medium\\n0.74,0.92,4,226,3,0,0,0,hr,medium\\n0.67,0.85,4,266,3,0,0,0,hr,medium\\n0.85,0.56,3,159,3,0,0,0,hr,medium\\n0.49,0.75,4,259,3,1,0,0,technical,low\\n0.7,0.74,4,150,3,1,0,0,technical,low\\n0.44,0.58,4,152,3,0,0,0,technical,low\\n0.5,0.87,5,245,2,0,0,0,technical,low\\n0.63,0.74,5,227,2,0,0,0,technical,low\\n0.87,0.77,4,261,3,0,0,0,technical,low\\n0.82,0.53,4,162,3,1,0,0,technical,low\\n0.97,0.89,4,193,3,0,0,0,technical,low\\n0.9,0.81,4,144,2,0,0,0,technical,low\\n0.41,0.5,6,151,2,0,0,0,technical,low\\n0.58,0.94,4,225,2,0,0,0,technical,low\\n0.77,0.5,5,170,2,0,0,0,support,low\\n0.89,0.75,4,246,3,1,0,0,support,low\\n0.64,0.72,4,254,3,0,0,0,support,low\\n0.31,0.79,2,193,4,0,0,0,support,low\\n0.6,0.88,4,175,3,0,0,0,support,low\\n0.2,1,3,123,4,0,0,0,support,low\\n0.13,0.6,3,178,5,0,0,0,support,low\\n0.95,0.9,3,259,2,0,0,0,support,low\\n0.15,0.96,5,201,6,0,0,0,support,low\\n0.22,0.98,4,185,3,0,0,0,support,low\\n0.33,0.51,2,166,3,0,0,0,support,medium\\n0.23,0.96,4,213,4,0,0,0,technical,medium\\n0.85,0.79,4,138,2,0,0,0,technical,medium\\n0.79,0.57,3,168,2,0,0,0,technical,medium\\n0.6,0.6,4,197,3,0,0,0,management,medium\\n0.89,0.74,5,220,3,0,0,0,IT,medium\\n0.65,0.92,3,101,3,1,0,0,IT,medium\\n0.61,0.7,4,175,3,1,0,0,IT,medium\\n0.4,0.79,5,181,5,0,0,0,IT,medium\\n0.49,0.57,3,157,3,0,0,0,IT,medium\\n0.95,0.75,3,247,2,0,0,0,product_mng,medium\\n0.85,1,5,244,2,0,0,0,product_mng,medium\\n0.24,0.39,4,152,5,0,0,0,product_mng,high\\n0.85,0.99,5,176,4,0,0,0,product_mng,low\\n0.99,0.98,5,241,2,0,0,0,IT,medium\\n0.49,0.49,4,240,2,0,0,0,RandD,medium\\n0.56,0.73,3,226,3,0,0,0,RandD,medium\\n0.65,0.66,6,240,4,0,0,0,RandD,medium\\n0.62,0.68,3,253,5,1,0,0,RandD,low\\n0.78,0.68,4,174,3,1,0,0,RandD,low\\n0.54,0.7,3,213,2,0,0,0,marketing,low\\n0.61,0.77,4,195,2,0,0,0,sales,low\\n0.49,0.99,6,230,4,0,0,0,accounting,low\\n0.29,0.85,2,248,6,1,0,0,support,low\\n0.64,0.79,4,274,2,1,0,0,technical,low\\n0.93,0.94,4,217,2,0,0,0,management,low\\n0.16,0.66,6,229,6,0,0,0,marketing,low\\n0.68,0.85,5,173,3,0,0,0,marketing,low\\n0.71,0.8,2,146,4,0,0,0,marketing,low\\n0.62,0.82,5,151,5,0,0,0,sales,low\\n0.74,0.75,2,137,3,1,0,0,sales,low\\n0.81,0.5,3,198,3,0,0,0,sales,low\\n0.2,0.82,4,190,5,0,0,0,sales,low\\n0.51,0.91,4,206,3,0,0,0,sales,low\\n0.55,0.99,4,238,3,0,0,0,sales,low\\n0.45,0.41,3,193,2,1,0,0,sales,low\\n0.91,0.61,4,176,3,0,0,0,sales,low\\n0.73,0.59,6,121,5,0,0,0,sales,low\\n0.98,0.88,4,145,2,0,0,0,sales,low\\n0.62,0.65,4,212,3,1,0,0,sales,medium\\n0.57,0.62,3,198,4,0,0,0,sales,medium\\n0.99,0.57,3,189,4,1,0,0,sales,medium\\n0.82,0.68,2,200,3,0,0,0,sales,medium\\n0.24,0.81,4,217,5,0,0,0,sales,medium\\n0.84,0.73,5,245,3,0,0,0,sales,medium\\n0.9,0.55,3,260,3,0,0,0,sales,medium\\n0.13,0.73,5,206,5,0,0,0,sales,medium\\n0.6,0.67,3,249,2,0,0,0,sales,medium\\n0.72,0.87,4,154,2,1,0,0,accounting,medium\\n0.68,0.61,4,147,3,0,0,0,accounting,medium\\n0.51,0.72,3,148,2,0,0,0,accounting,medium\\n0.74,0.58,3,220,2,0,0,0,hr,high\\n0.86,0.73,3,241,3,0,0,0,hr,low\\n0.85,0.51,3,242,3,0,0,0,hr,medium\\n0.63,0.85,2,156,3,1,0,0,hr,medium\\n0.74,0.87,3,155,3,0,0,0,technical,medium\\n0.6,0.5,3,211,3,0,0,0,technical,medium\\n0.69,0.82,4,137,2,1,0,0,technical,low\\n0.56,0.96,2,269,2,0,0,0,technical,low\\n0.5,0.67,2,142,3,0,0,0,technical,low\\n0.84,0.5,5,267,2,0,0,0,technical,low\\n0.93,0.48,5,134,6,0,0,0,technical,low\\n0.12,0.5,5,287,4,0,0,0,technical,low\\n0.52,0.58,4,134,3,0,0,0,technical,low\\n0.6,0.54,3,185,2,0,0,0,technical,low\\n0.71,1,3,181,4,0,0,0,technical,medium\\n0.21,0.81,5,169,4,0,0,0,support,medium\\n0.15,0.84,3,201,6,0,0,0,support,medium\\n0.38,0.55,2,215,6,0,0,0,support,medium\\n0.27,0.86,3,222,5,0,0,0,support,medium\\n0.86,0.64,4,137,2,0,0,0,support,medium\\n0.17,0.52,6,176,5,0,0,0,support,medium\\n0.66,0.69,3,257,2,0,0,0,support,medium\\n0.95,0.51,3,224,4,0,0,0,support,medium\\n0.59,0.92,5,226,3,0,0,0,support,medium\\n0.49,0.61,5,196,3,0,0,0,support,medium\\n0.9,0.88,5,256,4,0,0,0,support,medium\\n0.98,0.81,3,153,4,0,0,0,technical,medium\\n0.52,1,4,221,3,0,0,0,technical,medium\\n0.12,0.95,3,236,3,0,0,0,technical,medium\\n0.91,0.67,5,137,3,0,0,0,management,medium\\n0.99,0.62,4,256,2,0,0,0,IT,medium\\n0.49,0.8,4,161,2,0,0,0,IT,medium\\n0.92,0.51,4,167,3,1,0,0,IT,medium\\n0.21,0.84,3,194,2,0,0,0,IT,medium\\n0.89,0.9,3,231,3,0,0,0,IT,medium\\n0.84,0.81,4,152,2,1,0,0,product_mng,medium\\n0.72,0.68,3,150,3,1,0,0,product_mng,medium\\n0.57,0.46,3,207,3,0,0,0,product_mng,medium\\n0.9,0.69,4,172,3,0,0,0,product_mng,medium\\n0.59,0.75,2,273,2,0,0,0,IT,high\\n0.97,0.69,4,134,3,0,0,0,RandD,high\\n0.56,0.85,3,109,2,0,0,0,RandD,high\\n0.78,0.59,4,124,3,1,0,0,RandD,high\\n0.64,0.72,4,253,4,0,0,0,RandD,high\\n0.58,0.9,5,224,3,0,0,0,RandD,high\\n0.68,0.58,3,217,2,0,0,0,marketing,high\\n0.82,0.73,3,148,4,0,0,0,sales,high\\n0.83,0.78,5,240,3,0,0,0,accounting,high\\n0.49,0.49,2,226,3,0,0,0,support,high\\n0.57,0.95,4,176,3,0,0,0,technical,high\\n0.66,0.93,4,248,3,0,0,0,management,high\\n0.78,0.6,2,206,2,0,0,0,marketing,low\\n0.55,0.8,3,192,3,1,0,0,marketing,low\\n0.98,0.62,3,140,4,0,0,0,marketing,low\\n0.89,0.51,4,141,3,0,0,0,sales,low\\n0.67,0.83,3,220,3,0,0,0,sales,low\\n1,0.49,4,140,3,0,0,0,sales,low\\n0.67,0.44,4,194,2,1,0,0,sales,low\\n0.2,0.98,2,228,3,0,0,0,sales,low\\n0.71,0.87,4,238,3,0,0,0,sales,low\\n0.65,0.91,3,207,3,0,0,0,sales,low\\n0.82,0.82,4,164,2,0,0,0,sales,low\\n0.48,0.89,3,224,3,0,0,0,sales,low\\n0.96,0.9,4,201,3,0,0,0,sales,low\\n0.52,0.63,3,171,2,0,0,0,sales,low\\n0.24,0.78,5,131,5,0,0,0,sales,low\\n0.92,0.95,6,239,4,0,0,0,sales,medium\\n0.66,0.89,3,202,3,1,0,0,sales,medium\\n0.93,0.68,3,137,3,1,0,0,sales,medium\\n0.77,0.59,4,153,3,0,0,0,sales,medium\\n0.6,0.48,4,219,4,1,0,0,sales,medium\\n0.78,0.49,3,194,3,1,0,0,sales,medium\\n0.6,0.53,4,228,3,0,0,0,sales,medium\\n0.31,1,4,177,5,0,0,0,accounting,medium\\n0.49,0.68,3,181,3,0,0,0,accounting,medium\\n0.33,0.95,4,280,3,0,0,0,accounting,medium\\n0.76,0.91,3,133,2,0,0,0,hr,medium\\n0.65,0.63,3,237,3,0,0,0,hr,medium\\n0.88,0.75,5,152,3,0,0,0,hr,high\\n0.52,0.92,5,280,6,1,0,0,hr,high\\n0.48,0.5,6,253,4,0,0,0,technical,high\\n0.2,0.59,5,105,4,0,0,0,technical,high\\n0.93,0.84,3,159,3,0,0,0,technical,high\\n0.55,0.92,4,257,2,0,0,0,technical,high\\n0.73,0.64,3,202,4,0,0,0,technical,high\\n0.57,0.56,3,241,3,0,0,0,technical,high\\n0.63,0.8,3,267,3,0,0,0,technical,low\\n0.23,0.88,4,175,6,0,0,0,technical,low\\n0.93,0.53,3,257,2,1,0,0,technical,low\\n0.78,0.86,4,240,3,0,0,0,technical,low\\n0.75,0.73,5,181,3,1,0,0,technical,low\\n0.61,0.82,3,271,3,0,0,0,support,low\\n0.36,0.97,5,151,3,0,0,0,support,low\\n0.59,0.67,2,168,3,0,0,0,support,low\\n0.78,0.63,4,265,3,0,0,0,support,medium\\n0.93,0.53,5,204,2,0,0,0,support,medium\\n0.67,0.72,4,223,3,0,0,0,support,medium\\n0.52,0.63,4,136,2,0,0,0,support,medium\\n0.69,0.95,5,184,2,0,0,0,support,medium\\n0.25,0.8,5,186,4,1,0,0,support,medium\\n0.4,0.43,3,128,3,0,0,0,support,medium\\n0.98,0.83,5,211,3,0,0,0,support,medium\\n0.92,0.89,4,236,4,1,0,0,technical,medium\\n0.57,0.98,3,214,2,0,0,0,technical,medium\\n0.81,0.52,4,274,3,0,0,0,technical,medium\\n0.56,0.67,5,165,3,1,0,0,management,medium\\n0.86,0.71,5,235,4,0,0,0,IT,medium\\n0.74,0.9,4,189,2,0,0,0,IT,medium\\n0.57,0.61,3,112,5,0,0,0,IT,medium\\n0.9,0.64,3,163,3,0,0,0,IT,medium\\n0.8,0.57,3,162,2,0,0,0,IT,medium\\n0.22,0.8,4,149,5,0,0,0,product_mng,medium\\n0.73,0.84,4,238,2,0,0,0,product_mng,medium\\n0.48,0.47,3,160,3,0,0,0,product_mng,medium\\n0.52,0.94,3,263,3,0,0,0,product_mng,medium\\n0.53,0.71,4,271,3,0,0,0,IT,medium\\n0.97,0.48,4,221,3,0,0,0,RandD,medium\\n0.97,0.54,3,255,2,1,0,0,RandD,high\\n0.54,0.88,4,170,4,0,0,0,RandD,low\\n0.99,0.7,4,190,4,1,0,0,RandD,medium\\n0.79,0.76,4,216,4,0,0,0,RandD,medium\\n0.71,0.54,3,249,3,0,0,0,marketing,medium\\n0.82,0.76,3,174,3,0,0,0,sales,medium\\n0.6,0.7,4,265,4,1,0,0,accounting,medium\\n0.17,0.88,2,206,4,0,0,0,support,medium\\n0.73,0.6,4,222,3,0,0,0,technical,medium\\n0.69,0.54,5,152,3,1,0,0,management,medium\\n0.86,0.61,4,221,2,0,0,0,marketing,medium\\n0.67,0.55,5,239,2,0,0,0,marketing,medium\\n0.25,0.96,6,217,4,0,0,0,marketing,low\\n0.65,0.66,3,164,2,0,0,0,sales,low\\n0.81,0.56,3,142,3,0,0,0,sales,low\\n0.58,0.53,4,181,3,1,0,0,sales,low\\n0.14,0.57,4,207,5,0,0,0,sales,low\\n0.15,0.37,2,167,3,0,0,0,sales,low\\n0.98,0.51,3,243,2,0,0,0,sales,low\\n0.91,0.5,4,231,3,0,0,0,sales,high\\n0.86,0.71,4,250,3,1,0,0,sales,low\\n0.56,0.63,3,145,2,0,0,0,sales,high\\n0.58,0.77,4,190,6,0,0,0,sales,high\\n0.54,0.64,2,128,2,0,0,0,sales,low\\n0.59,0.99,5,254,3,1,0,0,sales,low\\n0.92,0.88,3,145,4,1,0,0,sales,high\\n0.82,0.8,4,246,3,0,0,0,sales,low\\n0.86,0.68,5,246,2,0,0,0,sales,medium\\n0.66,0.77,5,236,3,0,0,0,sales,high\\n0.85,0.66,3,234,3,0,0,0,sales,medium\\n0.8,0.6,3,247,2,0,0,0,sales,medium\\n0.99,0.61,3,154,3,0,0,0,sales,medium\\n0.25,0.45,3,228,5,0,0,0,accounting,medium\\n0.93,0.99,4,209,3,1,0,0,accounting,high\\n0.5,0.54,5,173,2,0,0,0,accounting,medium\\n0.68,0.71,4,206,2,0,0,0,hr,medium\\n0.62,0.87,3,151,2,1,0,0,hr,medium\\n0.99,0.54,4,196,4,1,0,0,hr,high\\n0.93,0.52,3,229,2,1,0,0,hr,medium\\n0.2,0.75,3,235,4,0,0,0,technical,high\\n0.58,0.61,4,200,3,0,0,0,technical,low\\n0.94,0.76,4,261,6,0,0,0,technical,medium\\n0.18,0.54,4,165,3,0,0,0,technical,medium\\n0.18,0.62,3,165,4,0,0,0,technical,medium\\n0.7,0.74,5,255,2,0,0,0,technical,medium\\n0.93,0.92,5,185,5,0,0,0,technical,low\\n0.5,0.76,4,229,3,1,0,0,technical,low\\n0.54,0.71,3,153,3,0,0,0,technical,low\\n0.74,0.63,4,238,2,0,0,0,technical,low\\n0.66,0.67,3,199,2,0,0,0,technical,low\\n0.61,0.87,3,185,2,1,0,0,support,low\\n0.74,0.98,3,196,6,1,0,0,support,low\\n0.48,0.51,4,201,4,0,0,0,support,low\\n0.65,0.84,3,189,2,1,0,0,support,low\\n0.94,0.49,2,250,5,0,0,0,support,low\\n0.91,0.79,4,254,2,0,0,0,support,high\\n0.87,0.65,3,212,3,1,0,0,support,low\\n0.23,0.79,5,196,5,1,0,0,support,low\\n0.4,0.73,4,146,3,0,0,0,support,low\\n0.68,0.85,3,250,3,0,0,0,support,low\\n0.95,0.88,3,266,2,1,0,0,support,high\\n0.63,0.96,4,133,2,0,0,0,technical,low\\n0.47,0.53,4,181,3,0,0,0,technical,low\\n0.2,0.5,6,282,6,1,0,0,technical,low\\n0.72,0.84,2,173,2,1,0,0,management,high\\n0.56,0.57,5,237,2,0,0,0,IT,low\\n0.7,0.74,3,202,2,0,0,0,IT,medium\\n0.59,0.82,3,162,2,0,0,0,IT,high\\n0.78,0.96,3,248,3,0,0,0,IT,medium\\n0.62,0.64,3,165,3,0,0,0,IT,high\\n0.71,0.61,2,216,2,0,0,0,product_mng,medium\\n0.72,0.45,4,143,6,0,0,0,product_mng,medium\\n0.76,0.77,3,254,3,0,0,0,product_mng,medium\\n0.83,0.56,3,186,3,0,0,0,product_mng,medium\\n0.92,0.99,4,245,4,0,0,0,IT,medium\\n0.67,0.77,3,157,3,0,0,0,RandD,medium\\n0.56,0.45,3,184,3,0,0,0,RandD,medium\\n0.91,0.63,4,210,3,0,0,0,RandD,medium\\n0.56,0.86,4,137,2,1,0,0,RandD,high\\n0.72,0.95,3,145,2,0,0,0,RandD,low\\n0.56,0.86,4,181,3,0,0,0,marketing,medium\\n0.92,0.56,3,174,3,0,0,0,sales,medium\\n0.74,0.88,5,183,3,1,0,0,accounting,medium\\n0.88,0.84,4,171,4,1,0,0,support,medium\\n0.69,0.72,2,190,2,0,0,0,technical,medium\\n0.87,0.78,4,142,3,0,0,0,management,medium\\n0.98,0.5,3,198,3,0,0,0,marketing,medium\\n0.9,0.61,3,185,3,0,0,0,marketing,medium\\n0.49,0.87,4,171,3,1,0,0,marketing,medium\\n0.78,0.57,4,264,3,0,0,0,sales,high\\n0.58,0.98,3,175,3,0,0,0,sales,low\\n0.91,0.88,5,210,2,1,0,0,sales,low\\n0.92,0.75,4,212,3,0,0,0,sales,low\\n0.36,0.66,4,97,2,0,0,0,sales,high\\n0.55,0.53,4,214,3,0,0,0,sales,low\\n0.95,0.96,4,244,3,0,0,0,sales,low\\n0.5,0.67,3,246,3,0,0,0,sales,low\\n0.42,0.73,3,115,6,0,0,0,sales,high\\n0.75,0.68,3,237,5,0,0,0,sales,low\\n0.88,0.7,4,146,4,0,0,0,sales,low\\n0.53,0.63,5,159,4,0,0,0,sales,low\\n0.84,0.4,4,246,3,0,0,0,sales,low\\n0.49,0.93,3,226,3,0,0,0,sales,low\\n0.71,0.91,3,261,3,0,0,0,sales,low\\n0.83,0.64,4,242,2,0,0,0,sales,low\\n0.88,0.93,4,177,3,0,0,0,sales,medium\\n0.87,0.53,4,144,3,0,0,0,sales,medium\\n0.43,0.82,2,221,5,0,0,0,sales,medium\\n0.8,0.9,5,265,3,0,0,0,accounting,medium\\n0.32,0.67,5,224,4,1,0,0,accounting,medium\\n0.77,0.56,3,167,4,0,0,0,accounting,medium\\n0.97,0.77,3,245,3,0,0,0,hr,medium\\n0.98,0.63,4,232,2,0,0,0,hr,medium\\n0.62,0.64,5,229,2,0,0,0,hr,medium\\n0.53,0.94,4,128,6,0,0,0,hr,medium\\n0.93,0.49,3,211,2,0,0,0,technical,medium\\n0.51,0.91,4,194,2,0,0,0,technical,medium\\n0.76,0.76,4,214,3,0,0,0,technical,high\\n0.69,0.89,3,216,4,0,0,0,technical,low\\n0.58,0.6,4,222,3,0,0,0,technical,medium\\n0.98,0.77,4,144,4,0,0,0,technical,medium\\n0.58,0.54,3,287,6,0,0,0,technical,medium\\n0.57,0.97,4,224,4,0,0,0,technical,medium\\n0.84,0.79,4,157,4,0,0,0,technical,low\\n0.15,0.67,5,216,6,0,0,0,technical,low\\n0.88,0.72,5,181,4,0,0,0,technical,low\\n0.69,0.99,3,133,3,0,0,0,support,low\\n0.56,0.84,5,154,2,1,0,0,support,low\\n0.49,0.58,3,265,3,0,0,0,support,low\\n0.4,0.45,4,113,3,0,0,0,support,low\\n0.67,0.36,3,280,4,0,0,0,support,low\\n0.79,0.5,3,213,3,1,0,0,support,low\\n0.47,0.44,5,255,5,1,0,0,support,low\\n0.82,0.54,3,243,4,0,0,0,support,low\\n0.82,0.87,3,206,2,0,0,0,support,low\\n0.63,0.57,5,149,3,0,0,0,support,low\\n0.91,0.53,2,273,3,0,0,0,support,low\\n0.89,1,4,226,2,1,0,0,technical,low\\n0.96,0.93,3,238,2,0,0,0,technical,low\\n0.83,0.72,2,226,3,0,0,0,technical,low\\n0.75,0.92,3,199,3,1,0,0,management,low\\n0.75,0.82,5,202,3,1,0,0,IT,low\\n0.41,0.69,2,152,4,1,0,0,IT,low\\n0.96,0.94,3,167,3,0,0,0,IT,low\\n0.58,0.79,4,130,3,0,0,0,IT,medium\\n0.74,0.89,3,229,3,0,0,0,IT,medium\\n0.78,0.74,4,261,3,1,0,0,product_mng,medium\\n0.5,0.72,3,182,2,1,0,0,product_mng,medium\\n1,0.52,4,198,3,0,0,0,product_mng,medium\\n0.85,0.91,3,244,3,0,0,0,product_mng,medium\\n0.82,0.89,4,275,3,0,0,0,IT,medium\\n0.19,0.81,5,245,5,0,0,0,RandD,medium\\n0.9,0.9,3,147,3,1,0,0,RandD,medium\\n0.59,1,4,275,3,0,0,0,RandD,medium\\n0.53,0.46,2,167,2,0,0,0,RandD,medium\\n0.57,0.5,5,149,5,1,0,0,RandD,medium\\n0.85,0.99,4,233,2,0,0,0,marketing,high\\n0.64,0.67,5,167,2,0,0,0,sales,low\\n0.57,0.54,3,159,3,1,0,0,accounting,medium\\n0.86,0.85,2,195,4,0,0,0,support,medium\\n0.6,0.7,5,229,2,0,0,0,technical,medium\\n0.17,0.76,4,199,5,0,0,0,management,medium\\n0.54,0.63,3,174,3,0,0,0,marketing,low\\n0.35,0.78,5,275,4,0,0,0,marketing,low\\n0.92,0.77,5,217,4,0,0,0,marketing,low\\n0.66,1,4,192,2,0,0,0,sales,low\\n0.83,0.9,4,195,3,0,0,0,sales,low\\n0.89,0.86,3,261,4,0,0,0,sales,low\\n0.94,0.61,4,199,3,0,0,0,sales,low\\n0.24,0.85,4,160,5,0,0,0,sales,low\\n0.69,0.8,3,177,4,0,0,0,sales,low\\n0.45,0.46,3,179,2,1,0,0,sales,low\\n0.78,0.93,4,161,3,0,0,0,sales,low\\n0.91,0.38,5,279,5,0,0,0,sales,low\\n0.63,0.65,4,246,6,1,0,0,sales,low\\n0.71,0.8,4,199,2,0,0,0,sales,low\\n0.73,0.69,3,161,3,0,0,0,sales,low\\n0.69,0.52,5,219,3,0,0,0,sales,low\\n0.52,0.57,5,162,3,0,0,0,sales,low\\n0.78,0.66,4,258,3,0,0,0,sales,low\\n0.94,0.69,3,269,3,0,0,0,sales,low\\n0.55,0.73,4,201,3,0,0,0,sales,low\\n0.43,0.38,2,278,3,1,0,0,sales,low\\n0.77,0.66,3,147,2,0,0,0,sales,medium\\n0.59,0.8,5,247,3,0,0,0,accounting,medium\\n0.65,0.54,4,191,4,0,0,0,accounting,medium\\n0.82,0.37,2,280,3,0,0,0,accounting,medium\\n0.31,0.72,2,191,3,0,0,0,hr,medium\\n0.84,0.65,4,264,2,0,0,0,hr,medium\\n0.15,0.4,3,236,5,0,0,0,hr,medium\\n0.64,0.52,4,271,2,1,0,0,hr,medium\\n0.48,0.63,5,129,5,0,0,0,technical,medium\\n0.82,0.58,4,249,5,0,0,0,technical,medium\\n0.99,0.54,3,188,3,0,0,0,technical,medium\\n0.8,0.52,3,147,3,1,0,0,technical,medium\\n0.94,0.92,3,273,3,0,0,0,technical,high\\n0.94,0.81,4,237,3,1,0,0,technical,low\\n0.77,0.79,3,273,2,0,0,0,technical,medium\\n0.48,0.54,3,190,3,0,0,0,technical,medium\\n0.62,0.68,3,226,3,0,0,0,technical,medium\\n0.61,0.9,4,216,3,0,0,0,technical,medium\\n0.27,0.6,6,205,5,1,0,0,technical,low\\n0.89,0.65,3,208,2,0,0,0,support,low\\n0.58,0.81,4,266,2,0,0,0,support,low\\n0.64,0.77,3,249,2,1,0,0,support,low\\n0.73,0.88,5,134,2,1,0,0,support,low\\n0.74,0.85,2,189,3,0,0,0,support,low\\n0.75,0.82,4,143,2,0,0,0,support,low\\n0.78,0.84,4,173,3,0,0,0,support,low\\n0.18,0.95,6,248,3,0,0,0,support,low\\n0.8,0.84,3,186,6,0,0,0,support,low\\n0.89,0.64,5,191,3,0,0,0,support,low\\n0.84,0.5,3,227,2,0,0,0,support,low\\n0.64,0.38,2,269,5,0,0,0,technical,low\\n0.53,0.82,3,254,3,1,0,0,technical,low\\n0.15,0.66,4,180,4,0,0,0,technical,low\\n0.66,0.62,3,144,3,0,0,0,management,low\\n0.49,0.78,5,137,3,1,0,0,IT,low\\n0.78,0.72,3,223,4,0,0,0,IT,low\\n0.39,0.75,5,286,5,0,0,0,IT,low\\n0.9,0.83,3,151,3,0,0,0,IT,low\\n0.96,0.74,5,244,2,1,0,0,IT,low\\n0.63,0.81,4,216,4,0,0,0,product_mng,medium\\n0.63,0.74,4,173,3,0,0,0,product_mng,medium\\n0.89,0.81,3,186,3,0,0,0,product_mng,medium\\n0.93,0.57,2,205,4,1,0,0,product_mng,medium\\n0.87,0.59,4,202,3,0,0,0,IT,medium\\n0.56,0.53,3,189,3,0,0,0,RandD,medium\\n0.97,0.55,4,181,5,1,0,0,RandD,medium\\n0.61,0.51,3,207,3,0,0,0,RandD,medium\\n0.73,0.46,4,240,4,1,0,0,RandD,medium\\n0.61,0.69,2,164,2,0,0,0,RandD,medium\\n0.99,0.71,4,212,2,0,0,0,marketing,medium\\n0.57,0.75,4,151,2,0,0,0,sales,medium\\n0.74,0.96,4,197,3,0,0,0,accounting,high\\n0.86,0.61,5,265,3,0,0,0,support,low\\n0.68,0.72,4,274,3,0,0,0,technical,medium\\n0.66,0.63,3,201,4,0,0,0,management,medium\\n0.86,0.89,3,250,2,0,0,0,marketing,medium\\n0.85,0.78,3,165,4,0,0,0,marketing,medium\\n0.98,0.53,5,186,3,0,0,0,marketing,low\\n0.14,0.73,5,273,4,1,0,0,sales,low\\n0.2,0.54,5,162,6,0,0,0,sales,low\\n0.9,0.97,3,141,3,0,0,0,sales,low\\n0.51,0.96,5,268,4,0,0,0,sales,low\\n0.63,0.77,3,176,2,1,0,0,sales,low\\n0.83,0.88,3,223,3,1,0,0,sales,low\\n0.67,0.72,4,218,2,1,0,0,sales,low\\n0.96,0.52,4,228,3,0,0,0,sales,low\\n0.69,0.75,3,204,3,0,0,0,sales,low\\n0.69,0.9,4,148,2,0,0,0,sales,low\\n0.64,0.94,3,221,2,0,0,0,sales,low\\n0.62,0.48,4,271,3,0,0,0,sales,low\\n0.55,0.75,3,191,3,0,0,0,sales,low\\n0.98,0.51,4,223,2,0,0,0,sales,low\\n0.83,0.78,5,250,2,1,0,0,sales,low\\n0.73,0.77,3,230,2,0,0,0,sales,low\\n0.58,0.86,3,226,2,0,0,0,sales,low\\n0.52,0.67,4,182,3,0,0,0,sales,medium\\n0.91,0.7,3,195,3,0,0,0,sales,medium\\n0.72,0.64,3,231,2,0,0,0,accounting,medium\\n0.7,0.74,3,224,3,0,0,0,accounting,medium\\n0.86,0.92,4,229,4,0,0,0,accounting,medium\\n0.82,0.57,2,158,3,1,0,0,hr,medium\\n0.83,0.78,4,242,3,1,0,0,hr,medium\\n0.99,0.64,3,183,3,0,0,0,hr,medium\\n0.88,0.58,5,213,4,0,0,0,hr,medium\\n0.68,0.74,4,263,2,1,0,0,technical,medium\\n0.9,0.49,3,237,2,0,0,0,technical,medium\\n0.59,0.67,6,126,3,0,0,0,technical,medium\\n0.76,0.71,6,168,2,0,0,0,technical,high\\n0.23,0.63,5,151,4,1,0,0,technical,low\\n0.8,0.85,4,239,3,0,0,0,technical,medium\\n0.62,0.49,4,174,3,0,0,0,technical,medium\\n0.28,0.46,5,277,6,0,0,0,technical,medium\\n0.81,0.97,3,133,3,0,0,0,technical,medium\\n0.64,0.91,4,150,3,0,0,0,technical,low\\n0.76,0.6,5,244,3,1,0,0,technical,low\\n0.79,0.87,3,232,2,0,0,0,support,low\\n0.72,0.91,3,267,2,0,0,0,support,low\\n0.22,0.59,5,162,2,0,0,0,support,low\\n0.18,0.73,5,228,5,0,0,0,support,low\\n0.91,0.49,2,180,3,0,0,0,support,low\\n0.69,0.63,2,252,3,0,0,0,support,low\\n0.91,0.66,5,212,3,0,0,0,support,low\\n0.67,0.84,4,224,3,0,0,0,support,low\\n0.98,0.62,2,240,3,1,0,0,support,low\\n0.69,0.62,4,183,4,0,0,0,support,low\\n0.96,0.74,5,160,5,1,0,0,support,low\\n0.69,0.68,4,225,3,0,0,0,technical,low\\n0.65,0.68,3,268,2,1,0,0,technical,low\\n0.7,0.75,3,221,3,0,0,0,technical,low\\n0.48,0.94,3,173,2,0,0,0,management,low\\n0.48,0.51,4,103,4,0,0,0,IT,low\\n0.16,0.89,4,196,3,1,0,0,IT,low\\n0.72,0.97,3,239,3,0,0,0,IT,low\\n0.91,0.71,3,171,2,0,0,0,IT,low\\n0.74,0.54,3,243,3,0,0,0,IT,medium\\n0.56,0.56,2,153,2,0,0,0,product_mng,medium\\n0.56,0.41,6,142,3,0,0,0,product_mng,medium\\n0.88,0.55,5,168,2,0,0,0,product_mng,medium\\n0.86,0.9,5,180,4,0,0,0,product_mng,medium\\n0.66,0.84,4,186,3,0,0,0,IT,medium\\n0.41,0.45,3,236,2,0,0,0,RandD,medium\\n0.68,0.83,5,267,3,0,0,0,RandD,medium\\n0.59,0.47,3,129,2,0,0,0,RandD,medium\\n0.52,0.78,3,181,3,0,0,0,RandD,medium\\n0.3,0.54,2,99,2,0,0,0,RandD,medium\\n0.44,0.67,5,170,3,1,0,0,marketing,medium\\n0.75,0.64,3,195,3,0,0,0,sales,high\\n0.23,0.94,4,149,6,0,0,0,accounting,low\\n0.34,0.46,6,132,2,0,0,0,support,medium\\n0.52,0.59,3,164,3,0,0,0,technical,medium\\n0.79,0.83,4,250,2,0,0,0,management,medium\\n0.5,0.77,3,204,2,0,0,0,marketing,medium\\n0.89,0.65,3,210,3,0,0,0,marketing,low\\n0.84,0.52,6,98,3,0,0,0,marketing,low\\n0.26,0.47,3,241,4,0,0,0,sales,low\\n0.57,0.96,5,203,4,0,0,0,sales,low\\n0.14,0.99,3,257,4,1,0,0,sales,low\\n0.94,0.62,5,201,2,0,0,0,sales,low\\n0.3,0.58,2,124,3,0,0,0,sales,low\\n0.29,0.43,6,175,3,0,0,0,sales,low\\n0.82,0.75,3,161,3,0,0,0,sales,low\\n0.62,0.75,4,183,4,1,0,0,sales,low\\n0.64,0.99,5,262,5,0,0,0,sales,low\\n0.17,0.52,4,184,4,0,0,0,sales,low\\n0.75,0.56,3,207,3,0,0,0,sales,low\\n0.49,0.73,4,185,3,0,0,0,sales,low\\n0.84,0.58,4,180,2,0,0,0,sales,low\\n0.48,0.96,4,224,2,1,0,0,sales,low\\n0.54,0.53,3,184,3,0,0,0,sales,low\\n0.76,0.99,5,252,3,1,0,0,sales,low\\n0.77,0.84,4,196,3,0,0,0,sales,low\\n0.95,0.97,4,203,2,0,0,0,sales,low\\n0.72,0.83,4,181,3,0,0,0,sales,low\\n0.74,0.67,4,148,3,0,0,0,accounting,medium\\n0.9,0.55,4,211,3,0,0,0,accounting,medium\\n0.67,0.55,3,246,3,0,0,0,accounting,medium\\n0.97,0.55,4,258,3,0,0,0,hr,medium\\n0.55,0.59,3,231,4,0,0,0,hr,medium\\n0.32,0.95,2,184,5,0,0,0,hr,medium\\n0.4,0.42,3,146,2,1,0,0,hr,medium\\n0.66,0.54,2,136,2,0,0,0,technical,low\\n0.7,0.77,4,266,2,0,0,0,technical,low\\n0.69,0.89,2,220,3,0,0,0,technical,low\\n0.72,0.57,2,248,2,0,0,0,technical,low\\n0.21,0.65,3,183,3,0,0,0,technical,low\\n0.91,0.9,3,169,3,0,0,0,technical,low\\n0.72,0.71,3,132,2,1,0,0,technical,low\\n0.96,0.72,3,197,3,0,0,0,technical,low\\n1,0.89,4,152,3,0,0,0,technical,low\\n0.63,0.51,3,126,6,0,0,0,technical,low\\n0.24,0.74,6,106,5,0,0,0,technical,low\\n0.44,0.38,4,128,2,0,0,0,support,low\\n0.92,0.57,3,191,3,0,0,0,support,low\\n0.51,0.51,4,189,3,0,0,0,support,low\\n0.77,0.71,5,141,3,0,0,0,support,low\\n0.8,0.97,4,220,3,0,0,0,support,low\\n0.84,0.46,5,118,3,0,0,0,support,low\\n0.91,0.88,5,223,3,0,0,0,support,low\\n0.64,0.61,3,263,3,0,0,0,support,low\\n0.15,0.59,5,209,4,1,0,0,support,medium\\n0.74,0.58,4,193,3,0,0,0,support,medium\\n0.94,0.78,4,211,3,0,0,0,support,medium\\n0.57,0.58,3,192,3,0,0,0,technical,medium\\n0.92,0.63,5,156,3,0,0,0,technical,medium\\n0.76,0.54,5,278,2,1,0,0,technical,medium\\n0.73,0.92,3,199,3,1,0,0,management,medium\\n0.24,0.6,2,194,6,0,0,0,IT,medium\\n0.42,0.47,2,125,4,0,0,0,IT,medium\\n0.92,0.82,4,96,4,0,0,0,IT,medium\\n0.92,0.94,3,234,2,1,0,0,IT,medium\\n0.68,0.55,6,181,3,0,0,0,IT,medium\\n0.49,0.86,4,246,2,0,0,0,product_mng,medium\\n0.57,0.98,3,171,3,0,0,0,product_mng,medium\\n0.3,0.66,3,198,2,0,0,0,product_mng,medium\\n0.17,0.81,5,280,4,0,0,0,product_mng,medium\\n0.91,0.49,3,267,3,0,0,0,IT,medium\\n0.83,0.91,3,251,2,0,0,0,RandD,medium\\n0.87,0.76,5,182,3,0,0,0,RandD,medium\\n0.71,0.8,4,157,3,0,0,0,RandD,medium\\n0.88,0.5,3,206,2,0,0,0,RandD,medium\\n0.63,0.94,3,237,3,1,0,0,RandD,medium\\n0.99,0.58,2,166,3,0,0,0,marketing,medium\\n0.99,0.81,4,229,2,1,0,0,sales,medium\\n0.77,0.53,5,256,3,0,0,0,accounting,medium\\n0.64,0.69,5,114,6,0,0,0,support,medium\\n0.61,1,5,243,2,0,0,0,technical,medium\\n0.37,0.82,3,199,5,0,0,0,management,medium\\n0.19,1,4,188,4,1,0,0,marketing,medium\\n0.96,0.87,4,187,2,0,0,0,marketing,medium\\n0.8,0.62,4,216,2,0,0,0,marketing,medium\\n0.14,0.63,6,215,5,0,0,0,sales,low\\n0.15,0.69,6,213,6,0,0,0,sales,low\\n0.52,0.82,4,198,4,0,0,0,sales,low\\n0.27,0.55,5,121,3,1,0,0,sales,low\\n0.97,0.96,3,212,3,0,0,0,sales,low\\n0.52,0.93,2,271,3,0,0,0,sales,low\\n0.98,0.89,3,186,2,0,0,0,sales,low\\n0.96,0.95,4,265,2,0,0,0,sales,low\\n0.28,0.92,3,151,3,0,0,0,sales,low\\n0.65,0.55,5,206,3,0,0,0,sales,low\\n0.59,0.63,4,153,3,1,0,0,sales,low\\n0.64,0.48,4,267,2,1,0,0,sales,low\\n0.71,0.48,3,161,3,0,0,0,sales,low\\n0.83,0.84,2,149,3,0,0,0,sales,low\\n0.95,0.94,2,269,4,1,0,0,sales,low\\n0.73,0.49,3,248,3,0,0,0,sales,low\\n0.81,0.75,4,243,2,0,0,0,sales,low\\n0.71,0.44,2,207,4,0,0,0,sales,low\\n0.8,0.56,6,111,6,0,0,0,sales,low\\n0.85,0.53,3,226,2,0,0,0,accounting,low\\n0.41,0.7,2,151,3,1,0,0,accounting,low\\n0.51,0.84,4,224,2,0,0,0,accounting,medium\\n0.49,0.57,4,146,4,0,0,0,hr,medium\\n0.76,0.55,4,163,2,1,0,0,hr,medium\\n0.57,0.69,4,255,3,0,0,0,hr,medium\\n0.54,0.48,6,196,2,0,0,0,hr,medium\\n0.68,0.74,3,227,2,0,0,0,technical,medium\\n0.7,0.5,3,251,2,0,0,0,technical,medium\\n0.77,0.87,4,209,3,0,0,0,technical,medium\\n0.95,0.51,3,254,4,0,0,0,technical,medium\\n0.5,0.64,3,249,2,1,0,0,technical,low\\n0.99,0.53,4,131,3,1,0,0,technical,low\\n0.94,0.51,5,142,2,0,0,0,technical,low\\n0.83,0.66,3,239,3,0,0,0,technical,low\\n0.64,0.81,3,225,3,1,0,0,technical,low\\n0.16,0.73,6,170,3,0,0,0,technical,low\\n0.83,0.71,3,254,2,0,0,0,technical,low\\n0.93,0.73,4,156,2,0,0,0,support,low\\n0.32,0.64,3,151,3,0,0,0,support,low\\n0.12,0.9,3,200,3,0,0,0,support,low\\n0.5,0.5,3,184,3,1,0,0,support,low\\n0.57,0.74,3,257,2,0,0,0,support,low\\n0.25,0.75,5,194,5,1,0,0,support,low\\n0.98,0.56,3,139,2,1,0,0,support,low\\n0.81,0.51,3,273,2,1,0,0,support,low\\n0.94,0.63,5,261,3,0,0,0,support,low\\n0.83,0.57,3,135,3,1,0,0,support,low\\n0.77,0.4,4,207,5,0,0,0,support,low\\n0.57,0.65,4,265,3,0,0,0,technical,low\\n0.18,0.96,5,208,6,0,0,0,technical,medium\\n0.67,0.71,4,159,2,1,0,0,technical,medium\\n0.35,0.47,4,151,6,0,0,0,management,medium\\n0.78,0.44,3,97,4,0,0,0,IT,medium\\n0.72,0.79,4,154,3,0,0,0,IT,medium\\n0.9,0.58,3,264,3,0,0,0,IT,medium\\n0.58,0.49,3,135,2,0,0,0,IT,medium\\n0.64,0.56,3,238,2,0,0,0,IT,medium\\n0.91,0.79,4,166,3,0,0,0,product_mng,medium\\n0.59,0.51,3,156,3,0,0,0,product_mng,medium\\n0.76,0.8,3,202,3,0,0,0,product_mng,medium\\n0.76,0.85,3,204,2,1,0,0,product_mng,medium\\n0.51,0.69,3,135,3,0,0,0,IT,medium\\n0.54,0.55,4,252,3,0,0,0,RandD,medium\\n0.67,0.93,5,254,3,1,0,0,RandD,medium\\n0.68,0.44,5,165,3,0,0,0,RandD,medium\\n0.97,0.58,3,200,2,0,0,0,RandD,medium\\n0.5,0.74,3,155,3,0,0,0,RandD,medium\\n0.81,0.52,3,162,3,0,0,0,marketing,medium\\n0.77,0.73,4,159,3,1,0,0,sales,medium\\n0.59,0.75,4,266,3,0,0,0,accounting,medium\\n1,0.96,4,155,3,0,0,0,support,medium\\n0.74,0.95,5,170,4,0,0,0,technical,medium\\n0.91,0.52,4,172,4,1,0,0,management,high\\n0.77,0.65,3,187,3,0,0,0,marketing,low\\n0.79,0.98,4,185,2,0,0,0,marketing,medium\\n0.82,0.51,5,232,3,0,0,0,marketing,medium\\n0.89,0.96,5,260,3,0,0,0,sales,low\\n0.83,0.62,4,218,3,0,0,0,sales,low\\n0.72,0.7,4,217,3,0,0,0,sales,low\\n0.7,0.74,3,212,3,0,0,0,sales,low\\n1,0.89,3,189,3,0,0,0,sales,low\\n0.57,0.66,4,158,2,0,0,0,sales,low\\n0.55,0.54,5,168,2,0,0,0,sales,low\\n0.47,0.7,4,134,3,0,0,0,sales,low\\n0.95,0.77,4,213,3,1,0,0,sales,low\\n0.29,0.57,5,149,3,0,0,0,sales,low\\n0.71,0.5,3,201,2,0,0,0,sales,low\\n0.89,0.68,4,146,3,0,0,0,sales,low\\n0.81,0.97,4,212,2,0,0,0,sales,low\\n0.72,0.64,4,140,2,0,0,0,sales,low\\n1,0.85,4,156,3,0,0,0,sales,low\\n0.79,0.49,4,163,3,0,0,0,sales,high\\n0.69,0.84,3,154,2,0,0,0,sales,low\\n0.97,0.66,4,218,3,0,0,0,sales,high\\n0.61,0.59,3,157,2,0,0,0,sales,high\\n0.71,0.89,3,222,3,0,0,0,accounting,low\\n0.96,0.76,4,152,3,1,0,0,accounting,low\\n0.77,0.73,5,263,2,0,0,0,accounting,high\\n0.57,0.99,3,231,3,0,0,0,hr,low\\n0.92,0.76,4,258,2,0,0,0,hr,medium\\n0.99,0.92,5,213,2,0,0,0,hr,high\\n0.86,0.73,3,159,3,0,0,0,hr,medium\\n0.78,0.66,4,156,3,1,0,0,technical,low\\n0.85,0.66,3,235,3,0,0,0,technical,low\\n0.38,0.6,4,190,2,0,0,0,technical,low\\n0.63,0.93,4,238,2,0,0,0,technical,low\\n0.66,0.72,4,137,3,0,0,0,technical,low\\n0.19,0.79,5,171,3,1,0,0,technical,low\\n0.63,0.59,4,249,2,0,0,0,technical,low\\n0.32,0.74,6,205,3,0,0,0,technical,low\\n0.73,0.55,3,149,3,0,0,0,technical,low\\n0.75,0.89,4,139,3,0,0,0,technical,low\\n0.7,0.66,4,168,3,0,0,0,technical,low\\n0.77,0.61,4,181,2,0,0,0,support,low\\n0.83,0.8,4,150,3,0,0,0,support,low\\n0.75,0.49,4,246,3,0,0,0,support,low\\n0.97,0.54,3,271,3,0,0,0,support,medium\\n0.75,0.55,5,204,3,0,0,0,support,low\\n0.66,0.84,3,170,4,0,0,0,support,low\\n0.56,0.49,3,208,3,0,0,0,support,low\\n0.77,0.98,2,226,3,0,0,0,support,low\\n0.82,0.81,3,149,3,0,0,0,support,low\\n0.85,0.59,2,264,2,0,0,0,support,low\\n0.49,0.79,5,177,2,0,0,0,support,low\\n0.24,0.87,4,262,3,0,0,0,technical,low\\n0.32,0.74,3,211,3,0,0,0,technical,low\\n0.77,0.51,4,141,3,1,0,0,technical,low\\n0.77,0.83,5,197,4,0,0,0,management,high\\n0.93,0.87,3,154,3,1,0,0,IT,low\\n0.22,0.74,5,178,5,0,0,0,IT,low\\n0.24,0.89,5,169,4,0,0,0,IT,low\\n0.99,0.99,3,228,4,0,0,0,IT,low\\n0.61,0.5,3,231,3,0,0,0,IT,high\\n0.6,0.91,4,185,3,1,0,0,product_mng,low\\n0.79,0.7,3,195,2,0,0,0,product_mng,low\\n0.94,0.62,3,147,3,0,0,0,product_mng,low\\n0.18,0.85,5,192,3,0,0,0,product_mng,high\\n0.51,0.73,5,241,3,0,0,0,IT,low\\n0.55,0.92,3,151,3,0,0,0,RandD,medium\\n0.73,0.74,3,221,3,0,0,0,RandD,high\\n0.41,0.63,5,263,3,0,0,0,RandD,medium\\n0.88,0.66,3,178,3,0,0,0,RandD,high\\n0.23,0.56,5,169,5,0,0,0,RandD,medium\\n0.78,0.56,3,271,4,0,0,0,marketing,medium\\n0.34,0.69,3,155,3,0,0,0,marketing,medium\\n0.51,0.41,2,164,4,0,0,0,sales,medium\\n0.8,0.86,3,226,2,0,0,0,accounting,medium\\n0.66,0.57,4,220,2,1,0,0,support,medium\\n0.62,0.63,5,153,6,0,0,0,technical,medium\\n0.5,0.97,2,252,4,0,0,0,management,medium\\n0.96,0.94,3,182,3,0,0,0,marketing,high\\n0.5,0.84,3,150,2,0,0,0,marketing,low\\n0.73,0.69,6,273,4,1,0,0,marketing,medium\\n0.47,0.39,6,215,5,0,0,0,sales,medium\\n0.49,0.83,3,172,2,0,0,0,sales,medium\\n0.92,0.62,3,264,2,0,0,0,sales,medium\\n0.24,0.39,5,158,2,0,0,0,sales,medium\\n0.61,0.58,4,142,4,0,0,0,sales,medium\\n0.83,0.89,4,137,3,0,0,0,sales,medium\\n0.88,0.66,4,275,3,0,0,0,sales,medium\\n0.61,0.55,3,245,3,0,0,0,sales,medium\\n0.68,0.54,4,165,4,0,0,0,sales,high\\n0.51,0.7,4,142,4,1,0,0,sales,low\\n0.88,0.58,4,215,2,0,0,0,sales,low\\n0.94,0.84,5,240,3,0,0,0,sales,low\\n0.58,0.88,4,255,3,0,0,0,sales,high\\n0.63,0.98,4,265,3,0,0,0,sales,low\\n0.81,0.49,4,285,4,0,0,0,sales,low\\n0.61,0.86,3,238,2,0,0,0,sales,low\\n0.65,0.63,3,137,3,0,0,0,sales,high\\n0.67,0.63,3,270,5,0,0,0,sales,low\\n0.64,0.62,4,145,3,1,0,0,sales,low\\n0.25,0.76,6,182,3,0,0,0,accounting,low\\n0.13,0.62,3,264,6,0,0,0,accounting,low\\n0.14,0.89,3,212,6,0,0,0,accounting,low\\n0.74,0.51,5,198,3,0,0,0,hr,low\\n0.8,0.81,5,200,3,0,0,0,hr,low\\n0.5,0.56,3,263,4,0,0,0,hr,medium\\n0.69,0.75,4,249,4,0,0,0,hr,medium\\n0.91,0.53,4,212,3,0,0,0,technical,low\\n0.8,0.51,3,159,3,0,0,0,technical,low\\n0.93,0.52,3,181,3,0,0,0,technical,low\\n0.57,0.99,3,100,4,1,0,0,technical,low\\n0.51,0.58,2,218,2,1,0,0,technical,low\\n0.98,0.54,4,178,3,0,0,0,technical,low\\n0.85,0.83,4,219,3,0,0,0,technical,low\\n0.73,0.56,5,239,3,0,0,0,technical,low\\n0.97,0.9,3,255,2,0,0,0,technical,low\\n0.52,0.61,4,163,2,0,0,0,technical,low\\n0.31,0.38,3,173,2,0,0,0,technical,low\\n0.49,0.77,3,147,3,0,0,0,support,low\\n0.81,0.44,4,166,4,1,0,0,support,low\\n0.52,0.8,5,209,2,0,0,0,support,low\\n0.69,0.56,5,271,3,0,0,0,support,low\\n0.7,0.74,3,253,4,1,0,0,support,low\\n0.65,0.85,4,233,2,0,0,0,support,low\\n0.54,0.71,2,194,2,0,0,0,support,low\\n0.57,0.49,2,237,2,0,0,0,support,low\\n0.78,0.9,4,238,2,0,0,0,support,low\\n0.99,0.92,4,212,3,0,0,0,support,low\\n0.57,0.83,5,189,3,0,0,0,support,low\\n0.33,0.58,3,115,3,0,0,0,technical,low\\n0.97,0.58,4,159,3,0,0,0,technical,low\\n0.95,0.58,5,133,3,0,0,0,technical,low\\n0.69,0.83,5,225,3,0,0,0,management,low\\n0.97,0.91,2,112,5,0,0,0,IT,low\\n0.4,0.59,3,111,4,1,0,0,IT,low\\n0.67,0.71,4,178,6,0,0,0,IT,low\\n0.96,0.58,5,178,3,0,0,0,IT,low\\n0.49,0.95,2,181,4,1,0,0,IT,low\\n0.56,0.66,3,139,2,0,0,0,product_mng,low\\n0.99,0.78,2,177,4,0,0,0,product_mng,low\\n0.49,0.88,4,270,3,0,0,0,product_mng,low\\n0.53,0.69,4,135,3,0,0,0,product_mng,low\\n0.75,0.5,4,166,4,0,0,0,IT,low\\n0.51,0.89,3,230,4,0,0,0,marketing,low\\n0.65,0.9,3,163,3,1,0,0,marketing,medium\\n0.45,0.66,2,236,3,0,0,0,marketing,medium\\n0.98,0.91,3,264,4,1,0,0,marketing,medium\\n0.9,0.74,3,185,2,0,0,0,marketing,medium\\n0.37,0.62,4,253,2,0,0,0,marketing,medium\\n0.52,0.99,4,253,3,0,0,0,marketing,medium\\n0.96,0.78,3,135,3,0,0,0,sales,medium\\n0.99,0.7,2,182,4,0,0,0,accounting,medium\\n0.66,0.56,5,202,3,0,0,0,support,medium\\n0.84,0.54,5,186,2,0,0,0,technical,medium\\n0.16,0.87,5,163,3,0,0,0,management,medium\\n0.75,0.59,3,242,3,0,0,0,marketing,medium\\n0.52,0.74,3,160,2,0,0,0,marketing,high\\n0.86,0.86,3,173,3,0,0,0,marketing,low\\n0.75,0.53,3,154,2,0,0,0,sales,medium\\n0.73,0.99,3,160,3,0,0,0,sales,medium\\n0.98,0.84,3,139,2,0,0,0,sales,medium\\n0.8,0.84,3,251,3,0,0,0,sales,medium\\n0.18,0.48,4,176,4,1,0,0,sales,low\\n0.37,0.72,2,163,3,0,0,0,sales,low\\n0.97,0.86,3,257,4,0,0,0,sales,low\\n0.56,0.68,4,159,3,0,0,0,sales,low\\n0.32,0.65,2,183,3,0,0,0,sales,low\\n0.63,0.88,4,260,2,0,0,0,sales,low\\n0.36,0.78,6,151,3,0,0,0,sales,low\\n0.75,0.49,4,246,3,1,0,0,sales,low\\n0.42,0.86,3,160,4,1,0,0,sales,low\\n0.96,0.66,3,155,2,0,0,0,sales,low\\n0.62,0.78,5,250,6,0,0,0,sales,low\\n0.78,0.96,2,174,3,0,0,0,sales,low\\n0.93,0.89,3,262,2,0,0,0,sales,low\\n0.93,0.87,4,257,2,0,0,0,sales,low\\n0.45,0.42,4,140,2,0,0,0,sales,low\\n0.44,0.56,3,123,3,0,0,0,accounting,medium\\n0.57,0.55,3,264,2,0,0,0,accounting,medium\\n0.77,0.51,2,254,5,0,0,0,accounting,medium\\n0.6,0.98,4,205,4,0,0,0,hr,medium\\n0.25,0.94,6,199,4,0,0,0,hr,medium\\n0.59,0.43,3,171,3,0,0,0,hr,medium\\n0.29,0.57,5,98,5,0,0,0,hr,medium\\n0.5,0.95,3,166,4,1,0,0,technical,low\\n0.91,0.94,4,264,4,0,0,0,technical,low\\n0.78,0.65,3,176,2,0,0,0,technical,low\\n0.73,0.76,2,166,3,0,0,0,technical,low\\n0.51,0.59,4,169,3,0,0,0,technical,low\\n0.65,0.82,4,257,3,0,0,0,technical,low\\n0.25,0.87,3,265,4,0,0,0,technical,low\\n0.5,0.63,5,167,2,0,0,0,technical,low\\n0.53,0.58,4,134,2,0,0,0,technical,low\\n0.57,0.76,2,176,3,0,0,0,technical,low\\n0.77,0.91,5,274,3,0,0,0,technical,low\\n0.94,0.77,3,201,3,0,0,0,support,low\\n0.5,0.53,3,121,4,0,0,0,support,low\\n0.47,0.57,3,97,4,0,0,0,support,low\\n0.92,0.54,4,217,4,0,0,0,support,low\\n0.9,0.87,3,220,3,0,0,0,support,low\\n0.54,0.46,2,98,4,0,0,0,support,low\\n0.58,0.97,5,265,3,0,0,0,support,low\\n0.95,0.87,3,201,3,0,0,0,support,low\\n0.52,0.71,3,151,3,0,0,0,support,low\\n0.83,0.51,4,199,3,0,0,0,support,low\\n0.54,0.92,4,175,3,0,0,0,support,low\\n0.8,0.85,5,253,3,1,0,0,technical,low\\n0.52,0.57,3,183,2,0,0,0,technical,low\\n0.83,0.8,5,223,3,0,0,0,technical,low\\n0.74,0.55,5,168,4,0,0,0,management,low\\n0.87,0.71,5,244,2,0,0,0,IT,low\\n0.45,0.87,2,268,4,1,0,0,IT,low\\n0.72,0.72,4,218,4,0,0,0,IT,low\\n0.27,0.85,2,277,6,1,0,0,IT,low\\n0.51,0.88,5,225,2,1,0,0,IT,low\\n0.55,0.55,4,257,3,0,0,0,product_mng,low\\n0.89,0.69,4,170,3,0,0,0,product_mng,low\\n0.85,0.86,3,179,3,0,0,0,product_mng,low\\n0.29,0.85,4,211,2,0,0,0,product_mng,low\\n0.96,0.5,3,217,2,1,0,0,IT,low\\n0.9,0.68,3,135,3,0,0,0,RandD,low\\n0.28,0.94,6,167,3,1,0,0,RandD,low\\n0.93,0.98,4,189,3,0,0,0,RandD,medium\\n0.51,0.57,3,162,3,1,0,0,RandD,medium\\n0.97,0.76,3,193,3,0,0,0,RandD,medium\\n0.71,0.55,4,273,3,1,0,0,RandD,medium\\n0.52,0.69,6,138,5,0,0,0,marketing,medium\\n0.87,0.84,4,237,3,1,0,0,sales,medium\\n0.78,0.61,5,260,2,0,0,0,accounting,medium\\n0.57,0.82,3,149,5,1,0,0,support,medium\\n0.34,0.49,4,149,3,0,0,0,technical,medium\\n0.95,0.95,4,137,4,0,0,0,management,medium\\n0.72,0.73,5,167,3,0,0,0,marketing,medium\\n0.61,0.37,4,165,6,0,0,0,marketing,medium\\n0.39,0.39,2,131,2,0,0,0,marketing,high\\n0.72,0.59,5,138,2,0,0,0,sales,low\\n0.86,0.91,4,234,3,1,0,0,sales,medium\\n0.69,0.67,4,141,3,0,0,0,sales,medium\\n0.5,0.65,4,266,3,1,0,0,sales,medium\\n0.62,0.68,3,134,2,0,0,0,sales,medium\\n0.76,0.55,4,147,3,0,0,0,sales,low\\n0.97,0.88,4,237,4,0,0,0,sales,low\\n0.78,0.57,5,114,4,0,0,0,sales,low\\n0.81,0.89,4,166,2,1,0,0,sales,low\\n0.15,0.95,4,173,5,1,0,0,sales,low\\n0.72,0.5,3,205,3,1,0,0,sales,low\\n0.8,0.5,3,219,3,0,0,0,sales,low\\n0.76,0.74,3,173,2,0,0,0,sales,low\\n0.19,0.73,4,231,3,0,0,0,sales,low\\n0.75,0.75,5,133,2,0,0,0,sales,low\\n0.94,0.49,4,220,3,0,0,0,sales,low\\n0.93,0.59,5,158,3,0,0,0,sales,low\\n0.96,0.92,3,182,4,0,0,0,sales,low\\n0.14,0.57,6,275,5,0,0,0,sales,low\\n0.75,0.71,3,237,3,1,0,0,accounting,low\\n0.6,0.59,5,146,4,0,0,0,accounting,low\\n0.65,0.48,4,144,3,0,0,0,accounting,low\\n0.59,0.79,2,195,3,0,0,0,hr,low\\n0.93,0.78,5,191,4,0,0,0,hr,medium\\n0.5,1,3,149,2,0,0,0,hr,medium\\n0.62,0.55,4,137,3,1,0,0,hr,medium\\n0.24,0.58,3,184,5,1,0,0,technical,medium\\n0.66,0.87,4,139,3,0,0,0,technical,medium\\n0.55,0.95,4,249,4,0,0,0,technical,medium\\n0.91,0.66,3,168,3,0,0,0,technical,medium\\n0.59,0.51,2,145,5,0,0,0,technical,medium\\n0.74,0.54,5,221,3,0,0,0,technical,medium\\n0.43,0.51,2,123,3,0,0,0,technical,medium\\n0.85,0.99,6,153,6,0,0,0,technical,medium\\n0.46,0.54,3,183,4,0,0,0,technical,medium\\n0.48,0.56,4,271,3,0,0,0,technical,high\\n0.96,1,4,167,2,1,0,0,technical,low\\n0.55,0.9,4,177,3,0,0,0,support,medium\\n0.82,0.74,3,256,3,1,0,0,support,medium\\n0.24,0.65,3,143,4,0,0,0,support,medium\\n0.69,0.71,3,241,3,0,0,0,support,medium\\n0.29,0.68,4,210,3,0,0,0,support,low\\n0.53,0.7,4,155,5,1,0,0,support,low\\n0.65,0.77,2,248,3,0,0,0,support,low\\n0.57,0.53,3,162,3,0,0,0,support,low\\n0.6,0.5,4,137,3,0,0,0,support,low\\n0.79,0.55,5,242,2,0,0,0,support,low\\n0.41,0.5,6,257,6,1,0,0,support,low\\n0.79,0.72,5,245,3,1,0,0,technical,low\\n0.5,0.8,3,234,3,0,0,0,technical,low\\n0.8,0.76,4,135,2,0,0,0,technical,low\\n0.61,0.79,5,269,2,0,0,0,management,low\\n0.99,0.68,4,238,3,0,0,0,IT,low\\n0.77,0.86,3,101,5,0,0,0,IT,low\\n0.7,0.52,5,200,2,1,0,0,IT,low\\n0.55,0.87,3,241,4,0,0,0,IT,low\\n0.87,0.63,3,143,3,1,0,0,IT,low\\n0.97,0.6,3,169,2,1,0,0,product_mng,low\\n0.56,0.99,4,270,2,0,0,0,product_mng,low\\n0.99,0.81,4,246,3,1,0,0,product_mng,low\\n0.57,0.66,4,151,2,0,0,0,product_mng,low\\n1,0.84,3,227,3,0,0,0,IT,low\\n0.97,0.74,3,134,3,1,0,0,marketing,high\\n0.81,0.54,4,155,4,0,0,0,accounting,high\\n0.76,0.48,5,173,3,0,0,0,accounting,high\\n0.95,0.55,5,134,3,0,0,0,IT,medium\\n0.81,0.65,3,195,2,0,0,0,IT,medium\\n0.8,0.65,3,264,4,0,0,0,management,high\\n0.72,0.57,3,203,2,1,0,0,marketing,medium\\n0.68,0.65,3,243,2,0,0,0,sales,medium\\n0.21,0.61,6,159,5,1,0,0,accounting,medium\\n0.46,0.4,3,145,2,0,0,0,support,medium\\n0.8,0.7,3,238,2,0,0,0,technical,medium\\n0.57,0.64,4,151,2,0,0,0,management,medium\\n0.58,0.57,5,205,2,0,0,0,marketing,high\\n0.91,1,4,211,3,0,0,0,marketing,low\\n0.63,0.67,5,169,2,0,0,0,marketing,medium\\n0.95,0.86,2,263,4,0,0,0,sales,medium\\n0.87,0.67,5,143,3,0,0,0,sales,medium\\n0.22,0.53,5,160,4,1,0,0,sales,medium\\n0.95,0.65,5,142,2,1,0,0,sales,low\\n0.18,0.5,4,169,4,0,0,0,sales,low\\n0.87,0.63,5,214,3,0,0,0,sales,low\\n0.23,0.84,5,131,5,0,0,0,sales,low\\n0.93,0.69,3,213,4,0,0,0,sales,low\\n0.58,0.75,4,244,4,0,0,0,sales,low\\n0.68,0.55,4,169,3,1,0,0,sales,low\\n0.76,0.71,4,156,3,0,0,0,sales,low\\n0.68,0.84,5,161,3,0,0,0,sales,low\\n0.99,0.47,3,152,5,0,0,0,sales,low\\n0.64,0.55,3,201,2,0,0,0,sales,low\\n0.61,0.83,5,269,5,1,0,0,sales,low\\n0.51,0.5,5,242,2,0,0,0,sales,low\\n0.69,0.66,3,113,4,0,0,0,sales,low\\n0.85,0.6,3,251,2,0,0,0,sales,low\\n0.55,0.89,6,99,3,0,0,0,sales,low\\n0.56,0.89,4,263,3,0,0,0,accounting,low\\n0.69,0.68,4,214,4,0,0,0,accounting,low\\n0.61,0.46,4,172,3,0,0,0,accounting,low\\n0.47,0.65,4,172,2,0,0,0,hr,low\\n0.58,0.79,4,196,3,1,0,0,hr,low\\n0.16,0.56,5,152,5,0,0,0,hr,medium\\n0.53,0.64,2,109,3,0,0,0,hr,medium\\n0.82,0.82,5,193,4,0,0,0,technical,medium\\n0.68,0.61,4,227,3,0,0,0,technical,medium\\n0.6,0.72,3,181,2,0,0,0,technical,medium\\n0.93,0.44,5,190,5,0,0,0,technical,medium\\n0.58,0.49,2,107,3,0,0,0,technical,medium\\n0.61,0.96,4,161,3,1,0,0,technical,medium\\n0.74,0.71,4,243,3,0,0,0,technical,medium\\n0.88,0.91,3,157,2,0,0,0,technical,medium\\n0.94,0.8,6,147,3,0,0,0,technical,medium\\n0.44,0.46,3,121,3,0,0,0,technical,medium\\n0.73,0.52,3,274,2,0,0,0,technical,high\\n0.9,0.68,4,204,4,1,0,0,support,low\\n0.97,0.49,3,199,2,0,0,0,support,medium\\n0.86,0.96,5,246,3,0,0,0,support,medium\\n0.81,0.98,3,141,3,0,0,0,support,medium\\n0.24,0.76,6,213,4,0,0,0,support,medium\\n0.92,0.97,4,199,3,0,0,0,support,low\\n0.34,0.62,2,257,6,1,0,0,support,low\\n0.95,0.53,4,143,3,0,0,0,support,low\\n0.94,0.81,3,150,2,0,0,0,support,low\\n0.54,0.82,3,284,2,1,0,0,support,low\\n0.87,0.57,3,149,3,0,0,0,support,low\\n0.54,0.74,4,160,6,0,0,0,technical,low\\n0.75,0.49,4,208,4,0,0,0,technical,low\\n0.88,1,3,248,3,0,0,0,technical,medium\\n0.78,0.86,3,210,3,0,0,0,management,medium\\n0.88,0.71,5,219,2,0,0,0,IT,medium\\n0.51,0.94,4,155,3,0,0,0,IT,medium\\n0.31,0.7,4,182,3,0,0,0,IT,medium\\n0.22,1,6,244,3,0,0,0,IT,medium\\n0.56,0.83,5,157,3,0,0,0,IT,medium\\n0.38,0.63,2,182,2,0,0,0,product_mng,medium\\n0.56,0.47,5,185,4,0,0,0,product_mng,medium\\n0.55,0.9,4,206,3,0,0,0,product_mng,medium\\n0.74,0.99,4,156,3,0,0,0,product_mng,medium\\n0.64,0.92,5,211,2,1,0,0,IT,medium\\n0.69,0.91,6,247,6,0,0,0,RandD,medium\\n0.99,0.54,3,247,3,0,0,0,RandD,medium\\n0.66,0.75,4,235,3,0,0,0,RandD,medium\\n0.79,0.93,5,169,3,0,0,0,RandD,medium\\n0.92,0.54,3,246,3,0,0,0,RandD,medium\\n0.84,0.49,3,172,4,0,0,0,RandD,medium\\n0.31,0.59,4,218,5,0,0,0,marketing,medium\\n0.34,0.52,6,265,6,0,0,0,sales,medium\\n0.88,0.96,5,173,4,0,0,0,accounting,medium\\n0.8,0.84,3,195,3,0,0,0,support,medium\\n0.75,0.92,3,160,3,1,0,0,technical,medium\\n0.71,0.7,4,237,4,0,0,0,management,medium\\n0.66,0.49,3,206,2,0,0,0,marketing,medium\\n0.54,0.72,6,222,5,0,0,0,marketing,high\\n0.47,0.4,3,113,3,0,0,0,marketing,high\\n0.87,0.79,3,244,3,0,0,0,sales,high\\n0.9,0.52,3,162,2,0,0,0,sales,high\\n0.51,0.63,3,234,2,0,0,0,sales,high\\n0.62,0.71,4,168,2,0,0,0,sales,high\\n0.47,0.43,3,120,3,0,0,0,sales,high\\n0.59,0.94,5,274,2,0,0,0,sales,high\\n0.87,0.62,4,202,3,0,0,0,sales,high\\n0.59,0.97,3,209,3,0,0,0,sales,high\\n0.87,0.71,6,224,6,0,0,0,sales,high\\n0.89,0.93,3,168,2,0,0,0,sales,high\\n0.73,0.68,4,227,3,0,0,0,sales,low\\n0.79,0.98,3,217,3,0,0,0,sales,low\\n0.8,0.74,2,205,3,1,0,0,sales,low\\n0.73,0.89,5,223,3,0,0,0,sales,low\\n0.96,0.9,3,175,3,1,0,0,sales,low\\n0.66,0.96,3,175,2,0,0,0,sales,low\\n0.53,0.97,4,254,3,0,0,0,sales,low\\n0.86,0.56,5,215,2,0,0,0,sales,low\\n0.92,0.86,3,166,4,0,0,0,sales,low\\n0.31,0.95,5,205,3,0,0,0,accounting,low\\n0.69,0.73,4,233,2,0,0,0,accounting,low\\n0.7,0.83,3,189,3,0,0,0,accounting,low\\n0.63,0.74,4,202,3,0,0,0,hr,low\\n0.24,0.53,6,165,5,0,0,0,hr,low\\n0.13,0.94,4,213,5,1,0,0,hr,low\\n0.47,0.41,2,140,3,0,0,0,hr,medium\\n0.53,0.58,4,251,2,0,0,0,technical,medium\\n0.96,0.96,5,243,3,0,0,0,technical,medium\\n0.92,0.88,4,111,4,0,0,0,technical,medium\\n0.56,0.59,3,178,2,0,0,0,technical,medium\\n0.51,0.88,5,230,4,0,0,0,technical,medium\\n0.22,0.85,6,172,6,1,0,0,technical,medium\\n0.83,0.92,3,268,2,1,0,0,technical,medium\\n0.85,0.48,2,208,4,0,0,0,technical,medium\\n0.85,0.92,3,188,4,0,0,0,technical,medium\\n0.85,0.9,5,247,2,0,0,0,technical,medium\\n0.73,0.82,4,205,4,0,0,0,technical,medium\\n0.18,0.52,3,213,4,0,0,0,support,high\\n0.63,0.87,4,145,3,1,0,0,support,high\\n0.5,0.48,2,106,2,0,0,0,support,high\\n0.63,0.47,3,180,3,1,0,0,support,high\\n0.15,0.95,4,251,5,0,0,0,support,high\\n0.96,0.69,4,156,5,0,0,0,support,high\\n0.96,0.91,5,179,2,0,0,0,support,high\\n0.31,0.51,4,229,6,0,0,0,support,high\\n0.59,0.49,4,149,4,0,0,0,support,low\\n0.75,0.98,4,198,3,0,0,0,support,low\\n0.96,0.51,3,241,6,1,0,0,support,low\\n0.69,0.67,4,156,3,0,0,0,technical,low\\n0.92,0.89,3,220,2,0,0,0,technical,low\\n0.96,0.82,5,185,3,0,0,0,technical,low\\n0.67,0.7,4,222,3,0,0,0,management,low\\n0.49,0.56,3,221,3,1,0,0,IT,low\\n0.85,0.65,4,280,3,1,0,0,IT,medium\\n0.85,0.53,3,250,3,0,0,0,IT,medium\\n0.91,0.77,4,167,3,1,0,0,IT,medium\\n0.7,0.48,4,238,3,0,0,0,IT,medium\\n0.98,0.99,4,132,2,0,0,0,product_mng,medium\\n0.48,0.48,2,245,5,0,0,0,product_mng,medium\\n0.39,0.6,2,161,2,0,0,0,product_mng,medium\\n0.66,0.89,3,242,3,0,0,0,product_mng,medium\\n0.6,0.61,3,104,5,0,0,0,IT,medium\\n0.88,0.9,4,152,4,0,0,0,RandD,medium\\n0.85,0.83,3,226,2,0,0,0,RandD,medium\\n0.76,0.81,3,175,3,0,0,0,RandD,medium\\n1,0.67,5,241,4,0,0,0,RandD,medium\\n0.79,0.74,2,158,3,0,0,0,RandD,medium\\n0.63,0.52,5,226,4,0,0,0,marketing,medium\\n0.5,0.83,2,220,2,1,0,0,sales,medium\\n0.83,0.74,4,233,3,0,0,0,accounting,medium\\n0.71,0.81,3,141,3,0,0,0,support,medium\\n0.94,0.87,4,157,3,0,0,0,technical,medium\\n0.56,0.57,2,112,4,0,0,0,management,medium\\n0.78,0.71,4,216,2,0,0,0,marketing,medium\\n0.34,0.46,5,131,3,0,0,0,marketing,medium\\n0.62,0.67,3,212,3,0,0,0,marketing,medium\\n0.82,0.74,3,163,2,0,0,0,sales,high\\n0.42,0.5,2,151,3,0,0,0,sales,low\\n0.51,0.79,3,137,3,0,0,0,sales,medium\\n0.63,0.78,2,158,5,1,0,0,sales,medium\\n0.43,0.81,3,102,3,0,0,0,sales,medium\\n0.5,0.49,5,256,3,0,0,0,sales,medium\\n0.81,0.87,4,203,2,0,0,0,sales,medium\\n0.63,0.7,5,177,2,1,0,0,sales,medium\\n0.86,0.7,4,197,3,0,0,0,sales,medium\\n0.92,0.91,3,202,2,0,0,0,sales,medium\\n0.72,0.78,3,229,2,0,0,0,sales,medium\\n0.78,0.63,4,181,2,0,0,0,sales,medium\\n0.76,0.65,3,254,2,0,0,0,sales,low\\n0.84,0.63,2,162,3,0,0,0,sales,low\\n0.78,0.54,4,102,3,0,0,0,sales,low\\n0.57,0.59,4,197,3,0,0,0,sales,low\\n0.15,0.42,3,98,3,0,0,0,sales,low\\n0.69,0.77,3,232,2,0,0,0,sales,low\\n0.73,0.6,3,252,4,1,0,0,sales,low\\n0.96,0.54,5,161,3,1,0,0,accounting,high\\n0.91,0.78,4,169,4,0,0,0,accounting,low\\n0.58,0.97,2,216,3,0,0,0,accounting,high\\n0.84,0.56,3,266,3,0,0,0,hr,high\\n0.51,0.58,3,141,3,0,0,0,hr,low\\n0.71,0.95,4,249,3,0,0,0,hr,low\\n0.63,0.82,5,268,3,0,0,0,hr,high\\n0.66,0.51,3,192,3,0,0,0,technical,low\\n0.5,0.8,6,201,5,0,0,0,technical,medium\\n0.56,0.89,3,163,3,1,0,0,technical,high\\n0.57,0.46,3,167,4,0,0,0,technical,medium\\n0.7,0.65,5,202,3,1,0,0,technical,medium\\n0.84,0.62,5,245,4,0,0,0,technical,medium\\n0.33,0.59,3,243,2,0,0,0,technical,medium\\n0.64,0.94,3,204,2,0,0,0,technical,high\\n0.93,0.54,4,239,2,0,0,0,technical,medium\\n1,0.58,4,229,2,1,0,0,technical,medium\\n0.91,0.49,3,213,4,0,0,0,technical,medium\\n0.56,0.59,5,254,4,0,0,0,support,high\\n0.62,0.52,6,253,4,0,0,0,support,medium\\n0.98,0.68,4,253,3,0,0,0,support,high\\n0.96,0.85,5,211,4,0,0,0,support,low\\n0.61,0.99,5,98,2,0,0,0,support,medium\\n0.92,0.66,4,133,3,0,0,0,support,medium\\n0.58,0.67,5,265,3,0,0,0,support,medium\\n0.47,0.49,2,112,3,1,0,0,support,medium\\n0.87,0.7,3,224,3,0,0,0,support,low\\n0.8,0.64,5,180,2,0,0,0,support,low\\n0.54,0.53,3,203,2,0,0,0,support,low\\n0.14,0.83,6,275,6,0,0,0,technical,low\\n0.98,0.76,5,168,3,0,0,0,technical,low\\n0.13,0.58,4,203,4,0,0,0,technical,low\\n0.64,0.81,3,209,3,0,0,0,management,low\\n0.91,0.75,3,166,2,0,0,0,IT,low\\n0.24,0.71,3,187,5,0,0,0,IT,low\\n0.34,0.42,6,287,5,1,0,0,IT,low\\n0.51,0.85,2,248,4,0,0,0,IT,high\\n0.91,0.7,3,193,2,0,0,0,IT,low\\n0.86,0.9,4,162,3,0,0,0,product_mng,low\\n1,0.61,3,188,4,0,0,0,product_mng,low\\n0.37,0.41,6,101,3,0,0,0,product_mng,low\\n0.46,0.73,6,256,4,0,0,0,product_mng,high\\n0.86,0.8,5,134,2,0,0,0,IT,low\\n0.36,0.68,2,126,4,0,0,0,marketing,high\\n0.52,0.93,2,243,3,0,0,0,accounting,high\\n0.51,0.73,3,205,4,0,0,0,accounting,high\\n0.69,0.94,5,259,2,0,0,0,IT,medium\\n0.67,0.5,5,219,3,0,0,0,IT,medium\\n0.6,0.99,5,161,3,0,0,0,management,high\\n0.71,0.57,3,207,3,0,0,0,marketing,medium\\n0.65,0.79,3,201,3,1,0,0,sales,high\\n0.48,0.92,3,234,3,0,0,0,accounting,medium\\n0.67,0.58,4,158,3,0,0,0,support,medium\\n0.68,0.63,5,185,4,0,0,0,technical,medium\\n0.74,0.85,3,176,3,0,0,0,management,medium\\n0.9,0.77,5,163,3,0,0,0,marketing,medium\\n0.67,0.83,3,171,3,1,0,0,marketing,medium\\n0.64,0.66,5,163,4,0,0,0,marketing,medium\\n0.54,0.87,4,163,3,0,0,0,sales,medium\\n0.6,0.73,2,180,2,0,0,0,sales,high\\n0.72,0.67,3,243,3,0,0,0,sales,low\\n0.97,0.49,4,213,2,0,0,0,sales,medium\\n0.99,0.89,3,273,2,0,0,0,sales,medium\\n0.75,0.93,4,195,3,0,0,0,sales,medium\\n0.84,0.98,4,246,3,0,0,0,sales,medium\\n0.76,0.5,3,196,3,1,0,0,sales,medium\\n0.96,0.51,5,205,2,1,0,0,sales,medium\\n0.12,0.81,4,287,6,0,0,0,sales,medium\\n0.54,0.79,3,211,3,0,0,0,sales,medium\\n0.69,0.98,3,261,4,0,0,0,sales,medium\\n0.77,0.71,5,204,3,0,0,0,sales,high\\n0.96,0.86,2,163,3,0,0,0,sales,low\\n0.53,0.62,4,162,2,0,0,0,sales,low\\n0.54,0.72,4,259,2,1,0,0,sales,low\\n0.89,0.64,4,151,5,0,0,0,sales,high\\n0.52,0.84,2,266,2,0,0,0,sales,low\\n0.29,0.65,5,110,5,1,0,0,sales,low\\n0.93,0.6,4,271,3,0,0,0,accounting,low\\n0.71,0.68,4,208,2,0,0,0,accounting,high\\n0.23,0.5,2,150,6,0,0,0,accounting,low\\n0.89,0.96,3,122,4,0,0,0,hr,low\\n0.51,0.5,4,246,3,0,0,0,hr,low\\n0.27,0.64,2,188,3,0,0,0,hr,low\\n0.9,0.53,3,167,3,0,0,0,hr,low\\n0.88,0.57,4,261,4,0,0,0,technical,low\\n0.91,0.83,4,235,3,0,0,0,technical,low\\n0.65,0.63,4,199,2,0,0,0,technical,medium\\n0.68,0.5,4,166,4,1,0,0,technical,medium\\n0.58,0.63,4,272,3,0,0,0,technical,medium\\n0.68,0.62,3,158,3,0,0,0,technical,medium\\n0.59,0.76,3,264,3,0,0,0,technical,medium\\n0.56,0.57,5,274,3,0,0,0,technical,medium\\n0.74,0.44,5,169,3,1,0,0,technical,medium\\n0.5,0.91,4,148,2,0,0,0,technical,medium\\n0.85,0.65,4,162,2,0,0,0,technical,medium\\n0.57,0.48,5,221,3,0,0,0,support,medium\\n0.89,0.58,3,167,3,0,0,0,support,medium\\n0.76,0.66,5,206,2,0,0,0,support,medium\\n0.96,0.7,3,169,3,0,0,0,support,high\\n0.81,0.68,4,179,3,0,0,0,support,low\\n0.79,0.85,4,100,6,0,0,0,support,medium\\n0.63,0.66,3,177,2,1,0,0,support,medium\\n0.92,0.82,5,252,3,0,0,0,support,medium\\n0.77,0.74,4,202,4,0,0,0,support,medium\\n0.73,0.87,4,263,2,0,0,0,support,low\\n0.74,0.98,4,160,2,0,0,0,support,low\\n0.8,0.74,5,229,3,1,0,0,technical,low\\n0.82,0.85,5,195,4,0,0,0,technical,low\\n0.48,0.81,3,212,2,0,0,0,technical,low\\n0.79,0.54,6,190,4,0,0,0,management,low\\n0.87,0.41,3,219,3,1,0,0,IT,low\\n0.96,0.88,2,193,2,0,0,0,IT,low\\n0.96,0.58,5,197,4,1,0,0,IT,low\\n0.69,0.66,3,206,2,0,0,0,IT,low\\n0.42,0.58,2,140,3,0,0,0,IT,low\\n0.7,0.76,3,173,2,0,0,0,product_mng,low\\n0.97,0.76,6,142,2,0,0,0,product_mng,low\\n0.6,0.59,3,237,4,1,0,0,product_mng,low\\n0.63,0.63,5,252,2,0,0,0,product_mng,low\\n0.65,0.82,4,196,2,0,0,0,IT,low\\n0.85,0.81,3,205,3,0,0,0,marketing,high\\n0.54,0.83,3,201,3,0,0,0,accounting,high\\n0.23,0.74,5,120,4,0,0,0,accounting,high\\n0.95,0.73,2,187,2,0,0,0,IT,medium\\n1,0.51,5,274,4,0,0,0,IT,medium\\n0.77,0.93,3,227,3,0,0,0,management,high\\n0.8,0.53,3,245,3,0,0,0,sales,medium\\n0.88,0.56,4,243,4,0,0,0,accounting,medium\\n0.73,0.68,3,132,2,0,0,0,support,medium\\n0.54,0.9,3,206,3,0,0,0,technical,medium\\n0.92,0.58,5,205,2,1,0,0,management,medium\\n0.14,0.88,3,162,4,0,0,0,marketing,medium\\n0.65,0.79,5,266,3,0,0,0,marketing,medium\\n0.17,0.89,5,261,5,0,0,0,marketing,medium\\n0.18,0.67,5,209,4,0,0,0,sales,medium\\n0.58,0.5,5,184,4,0,0,0,sales,medium\\n0.63,0.67,4,229,3,0,0,0,sales,medium\\n0.68,0.81,3,180,2,1,0,0,sales,high\\n0.91,0.98,5,135,3,0,0,0,sales,low\\n0.95,0.94,3,174,3,0,0,0,sales,medium\\n0.89,0.76,2,278,2,0,0,0,sales,medium\\n0.76,0.76,3,197,2,0,0,0,sales,medium\\n0.96,0.72,3,157,3,0,0,0,sales,medium\\n0.78,0.63,4,156,3,0,0,0,sales,low\\n0.98,0.9,3,186,4,0,0,0,sales,low\\n0.76,0.42,3,217,2,0,0,0,sales,low\\n0.63,0.49,5,192,2,0,0,0,sales,low\\n0.39,0.37,3,127,3,0,0,0,sales,low\\n0.91,0.67,3,257,2,0,0,0,sales,low\\n0.8,0.8,4,229,4,0,0,0,sales,low\\n0.89,0.64,4,274,2,1,0,0,sales,low\\n0.75,0.41,5,196,4,0,0,0,sales,low\\n0.94,0.85,3,137,3,0,0,0,sales,low\\n0.5,0.75,4,239,2,0,0,0,accounting,low\\n0.75,0.95,4,177,3,0,0,0,accounting,low\\n0.84,0.78,5,164,3,0,0,0,accounting,low\\n0.55,0.81,5,229,3,0,0,0,hr,low\\n0.59,0.82,3,149,3,0,0,0,hr,low\\n0.58,0.43,3,224,6,0,0,0,hr,low\\n0.91,0.59,5,179,3,0,0,0,hr,low\\n0.43,0.92,5,151,4,0,0,0,technical,low\\n0.51,0.79,5,222,2,0,0,0,technical,low\\n0.81,0.96,4,219,2,0,0,0,technical,low\\n0.72,0.39,3,257,3,0,0,0,technical,low\\n0.89,0.99,4,258,3,1,0,0,technical,medium\\n0.61,0.74,5,185,2,1,0,0,technical,medium\\n0.57,0.7,3,248,2,0,0,0,technical,medium\\n0.74,0.82,5,154,2,0,0,0,technical,medium\\n0.87,0.64,3,187,2,0,0,0,technical,medium\\n0.58,0.62,3,182,3,0,0,0,technical,medium\\n0.63,0.59,3,189,3,0,0,0,technical,medium\\n0.89,0.85,4,195,4,0,0,0,support,medium\\n0.49,0.74,2,154,3,0,0,0,support,medium\\n0.59,0.59,4,244,3,0,0,0,support,medium\\n0.71,0.99,3,228,2,0,0,0,support,medium\\n0.58,0.62,3,218,3,0,0,0,support,medium\\n0.84,0.61,5,202,3,0,0,0,support,high\\n0.92,0.48,4,208,3,0,0,0,support,low\\n0.91,0.59,3,266,2,0,0,0,support,medium\\n0.92,0.78,4,177,2,0,0,0,support,medium\\n0.95,0.65,3,183,3,0,0,0,support,medium\\n0.53,0.62,4,201,3,0,0,0,support,medium\\n0.89,0.89,5,179,2,0,0,0,technical,low\\n0.81,0.84,3,198,2,0,0,0,technical,low\\n0.78,0.67,5,209,3,0,0,0,technical,low\\n0.66,0.48,3,203,4,1,0,0,management,low\\n0.37,0.71,6,266,5,0,0,0,IT,low\\n0.55,0.84,4,200,4,0,0,0,IT,low\\n0.79,0.88,3,195,4,0,0,0,IT,low\\n0.89,0.83,5,269,3,0,0,0,IT,low\\n0.54,0.76,5,226,2,0,0,0,IT,low\\n0.74,0.8,4,200,4,0,0,0,product_mng,low\\n0.7,0.47,2,176,5,0,0,0,product_mng,low\\n0.37,0.85,2,185,3,0,0,0,product_mng,low\\n0.84,0.71,3,179,2,0,0,0,product_mng,low\\n0.55,0.58,5,208,3,0,0,0,IT,low\\n0.93,0.79,5,241,4,0,0,0,marketing,high\\n0.97,0.55,4,166,3,1,0,0,accounting,high\\n0.64,0.53,3,216,3,0,0,0,accounting,high\\n0.62,0.64,4,185,2,0,0,0,IT,medium\\n0.26,0.91,5,183,6,0,0,0,IT,medium\\n0.93,0.49,4,255,2,0,0,0,management,high\\n0.27,0.61,3,213,6,0,0,0,sales,low\\n0.9,0.63,4,173,3,0,0,0,accounting,medium\\n0.16,0.7,6,246,4,0,0,0,support,medium\\n0.75,0.63,3,148,4,0,0,0,technical,medium\\n0.72,0.74,2,238,3,0,0,0,management,medium\\n0.68,0.51,3,185,3,0,0,0,marketing,medium\\n0.13,0.77,4,201,5,0,0,0,marketing,medium\\n0.96,0.92,3,150,2,0,0,0,marketing,medium\\n0.71,0.72,4,137,3,0,0,0,sales,medium\\n0.85,0.66,5,189,3,0,0,0,sales,medium\\n0.87,0.91,3,229,3,1,0,0,sales,medium\\n0.86,0.93,3,199,3,1,0,0,sales,medium\\n0.49,0.85,3,250,2,0,0,0,sales,medium\\n0.99,0.59,5,263,3,0,0,0,sales,high\\n0.75,0.95,3,268,3,1,0,0,sales,low\\n0.61,0.64,3,187,2,0,0,0,sales,medium\\n0.89,0.84,6,196,4,0,0,0,sales,medium\\n0.77,0.7,4,232,3,0,0,0,sales,medium\\n0.7,0.79,3,226,4,0,0,0,sales,medium\\n0.5,0.58,4,96,3,0,0,0,sales,low\\n0.61,1,4,133,4,0,0,0,sales,low\\n0.98,0.53,4,214,2,0,0,0,sales,low\\n0.61,0.77,4,252,2,0,0,0,sales,low\\n0.85,0.56,3,199,4,0,0,0,sales,low\\n0.42,0.85,3,150,3,0,0,0,sales,low\\n0.56,0.75,4,141,3,0,0,0,sales,low\\n0.88,0.8,4,239,3,0,0,0,sales,low\\n0.92,0.69,3,139,2,0,0,0,accounting,low\\n0.85,0.77,3,146,4,0,0,0,accounting,low\\n0.66,0.74,4,179,3,0,0,0,accounting,low\\n0.82,0.93,3,160,3,0,0,0,hr,low\\n0.14,0.58,6,205,3,0,0,0,hr,low\\n0.6,0.98,5,213,3,0,0,0,hr,low\\n0.92,0.65,4,260,2,0,0,0,hr,low\\n0.51,0.72,3,242,3,0,0,0,technical,low\\n0.85,0.46,3,123,5,1,0,0,technical,low\\n0.43,0.84,2,285,5,0,0,0,technical,low\\n0.98,0.56,3,103,5,0,0,0,technical,medium\\n0.84,0.55,5,264,3,0,0,0,technical,medium\\n0.7,0.52,3,227,2,0,0,0,technical,medium\\n0.82,0.82,5,267,2,0,0,0,technical,medium\\n0.94,0.67,3,142,3,0,0,0,technical,medium\\n0.55,0.79,3,254,3,1,0,0,technical,medium\\n0.98,0.5,3,251,3,0,0,0,technical,medium\\n0.78,0.63,4,158,3,0,0,0,technical,medium\\n0.99,0.77,5,160,3,0,0,0,support,medium\\n0.74,0.58,4,215,3,1,0,0,support,medium\\n0.5,0.74,4,237,2,1,0,0,support,medium\\n0.25,0.8,5,237,6,0,0,0,support,medium\\n0.49,0.55,4,268,4,0,0,0,support,high\\n0.63,0.74,4,234,3,0,0,0,support,low\\n0.68,0.73,3,250,2,0,0,0,support,medium\\n0.62,0.54,4,212,4,0,0,0,support,medium\\n0.89,0.52,4,189,3,0,0,0,support,medium\\n0.31,0.37,2,104,3,1,0,0,support,medium\\n0.89,0.61,3,211,2,0,0,0,support,low\\n0.72,0.65,3,109,5,1,0,0,technical,low\\n0.84,0.75,2,168,2,0,0,0,technical,low\\n0.88,0.71,3,184,3,0,0,0,technical,low\\n0.74,1,4,242,2,0,0,0,management,low\\n0.96,0.95,6,215,4,0,0,0,IT,low\\n0.82,0.89,5,182,3,0,0,0,IT,low\\n0.7,0.64,5,260,3,0,0,0,IT,low\\n0.61,0.84,4,265,2,0,0,0,IT,low\\n0.65,0.83,5,182,2,1,0,0,IT,low\\n0.77,0.64,3,191,3,1,0,0,product_mng,low\\n0.81,0.77,5,167,4,0,0,0,product_mng,low\\n0.87,0.66,3,270,2,0,0,0,product_mng,low\\n0.96,0.73,4,273,2,0,0,0,product_mng,low\\n0.48,0.7,3,251,3,0,0,0,IT,low\\n0.78,0.96,3,217,3,0,0,0,marketing,high\\n0.75,1,4,222,2,1,0,0,accounting,high\\n0.23,0.87,5,258,4,1,0,0,accounting,high\\n0.85,0.76,3,197,5,0,0,0,IT,medium\\n0.67,0.56,3,193,2,1,0,0,IT,medium\\n0.71,0.81,2,182,3,0,0,0,management,high\\n0.72,0.7,3,163,3,1,0,0,sales,medium\\n0.8,0.77,4,224,2,0,0,0,accounting,medium\\n0.64,0.86,4,143,2,0,0,0,support,medium\\n0.54,0.42,6,218,3,0,0,0,technical,medium\\n0.73,0.67,3,208,4,0,0,0,management,medium\\n0.73,1,2,229,3,0,0,0,marketing,medium\\n0.55,0.62,5,184,4,0,0,0,marketing,medium\\n0.63,0.41,3,180,5,1,0,0,marketing,medium\\n0.15,0.8,5,121,5,0,0,0,sales,medium\\n0.6,0.5,5,203,3,0,0,0,sales,medium\\n0.38,0.51,3,151,2,0,0,0,sales,medium\\n0.81,0.77,4,239,3,0,0,0,sales,medium\\n0.75,0.53,3,166,3,0,0,0,sales,high\\n0.52,0.92,3,268,3,0,0,0,sales,low\\n0.51,1,5,196,4,0,0,0,sales,medium\\n0.66,0.62,4,241,3,0,0,0,sales,medium\\n0.8,0.87,5,251,3,0,0,0,sales,medium\\n0.85,0.69,3,263,3,0,0,0,sales,medium\\n0.77,0.73,3,224,2,1,0,0,sales,low\\n0.29,0.4,4,138,4,0,0,0,sales,low\\n0.15,0.67,6,167,6,0,0,0,sales,low\\n0.73,0.83,5,266,5,0,0,0,sales,low\\n0.55,0.74,2,116,3,0,0,0,sales,low\\n0.2,0.69,2,160,4,0,0,0,sales,low\\n0.56,0.68,3,144,3,1,0,0,sales,low\\n0.55,0.54,3,190,3,0,0,0,sales,low\\n0.9,0.49,6,175,4,0,0,0,sales,low\\n0.73,0.55,3,206,4,0,0,0,accounting,low\\n0.48,0.99,5,180,2,0,0,0,accounting,low\\n0.64,0.74,4,157,4,0,0,0,accounting,low\\n0.95,0.75,4,203,3,0,0,0,hr,low\\n0.82,0.66,4,238,3,1,0,0,hr,low\\n0.95,0.65,3,273,4,0,0,0,hr,low\\n0.92,0.9,4,179,3,0,0,0,hr,low\\n0.22,0.84,3,131,5,1,0,0,technical,low\\n0.17,0.77,4,151,6,0,0,0,technical,low\\n0.51,0.55,3,261,3,0,0,0,technical,low\\n0.67,0.64,3,203,2,1,0,0,technical,low\\n0.6,0.66,5,143,2,0,0,0,technical,low\\n0.99,0.55,3,97,6,1,0,0,technical,medium\\n0.35,0.71,6,204,4,1,0,0,technical,medium\\n0.13,0.72,4,154,4,0,0,0,technical,medium\\n0.97,0.93,2,160,6,0,0,0,technical,medium\\n0.49,0.61,4,232,3,1,0,0,technical,medium\\n0.62,0.71,3,255,2,0,0,0,technical,medium\\n0.35,0.54,3,128,3,0,0,0,support,medium\\n0.81,0.79,4,222,3,0,0,0,support,medium\\n0.57,0.75,5,171,4,0,0,0,support,medium\\n1,0.66,4,173,2,0,0,0,support,medium\\n0.93,0.71,4,272,2,0,0,0,support,medium\\n0.89,0.85,3,166,3,0,0,0,support,medium\\n0.64,0.61,4,143,2,1,0,0,support,high\\n0.54,0.95,4,149,3,0,0,0,support,low\\n0.52,0.85,4,257,2,0,0,0,support,medium\\n0.12,0.65,5,262,6,0,0,0,support,medium\\n0.14,0.49,4,115,4,0,0,0,support,medium\\n0.57,0.54,4,142,4,0,0,0,technical,medium\\n0.57,0.64,4,144,4,0,0,0,technical,low\\n1,0.56,5,247,3,0,0,0,technical,low\\n0.94,0.58,4,216,3,0,0,0,management,low\\n0.93,0.48,3,276,3,0,0,0,IT,low\\n0.91,0.88,5,123,5,0,0,0,IT,low\\n0.85,0.77,4,264,3,0,0,0,IT,low\\n0.8,0.98,3,189,6,0,0,0,IT,low\\n0.68,0.69,3,148,2,0,0,0,IT,low\\n0.91,0.6,5,150,3,0,0,0,product_mng,medium\\n0.93,0.9,3,172,3,0,0,0,product_mng,medium\\n0.81,0.68,3,236,2,0,0,0,product_mng,medium\\n0.51,0.74,4,151,3,0,0,0,product_mng,medium\\n0.49,0.52,3,168,3,0,0,0,IT,medium\\n0.55,0.55,5,256,3,0,0,0,RandD,medium\\n0.17,0.51,6,213,3,0,0,0,RandD,medium\\n0.8,0.79,4,148,3,0,0,0,RandD,medium\\n0.61,0.67,3,266,3,0,0,0,RandD,medium\\n0.59,0.73,3,195,2,0,0,0,RandD,medium\\n0.67,0.77,4,242,3,0,0,0,marketing,medium\\n0.96,0.81,4,183,3,0,0,0,sales,medium\\n0.72,0.66,3,134,3,0,0,0,accounting,medium\\n0.72,0.76,4,189,2,0,0,0,support,medium\\n0.99,0.61,5,196,3,0,0,0,technical,medium\\n0.22,0.61,4,150,6,0,0,0,management,medium\\n0.32,0.52,4,191,2,0,0,0,marketing,medium\\n0.64,0.86,4,248,6,0,0,0,marketing,medium\\n0.9,0.49,3,256,2,0,0,0,marketing,medium\\n0.86,0.9,3,158,2,0,0,0,sales,medium\\n0.67,0.76,2,210,2,0,0,0,sales,medium\\n0.9,0.59,3,247,2,0,0,0,sales,medium\\n0.52,0.8,3,156,3,0,0,0,sales,medium\\n0.57,0.89,3,202,2,0,0,0,sales,medium\\n0.55,0.83,3,157,2,0,0,0,sales,medium\\n0.2,0.83,4,258,4,0,0,0,sales,high\\n0.89,0.66,4,176,3,0,0,0,sales,high\\n0.15,0.56,4,214,5,0,0,0,sales,high\\n0.8,0.6,3,212,3,0,0,0,sales,high\\n0.55,0.48,4,271,6,1,0,0,sales,high\\n0.53,0.64,5,281,4,0,0,0,sales,high\\n0.62,0.77,3,204,4,0,0,0,sales,high\\n1,0.58,3,112,2,0,0,0,sales,high\\n0.31,0.75,3,120,4,0,0,0,sales,high\\n0.62,0.51,5,134,3,0,0,0,sales,high\\n0.73,0.61,5,222,3,0,0,0,sales,high\\n0.52,0.61,3,203,3,0,0,0,sales,high\\n0.33,0.65,2,239,5,0,0,0,sales,low\\n0.88,0.5,3,142,3,0,0,0,accounting,low\\n0.65,0.54,2,177,3,0,0,0,accounting,low\\n0.91,0.7,6,201,2,1,0,0,accounting,low\\n0.83,0.91,3,196,4,0,0,0,hr,low\\n0.2,0.87,3,140,6,1,0,0,hr,low\\n0.96,0.8,5,195,4,1,0,0,hr,low\\n0.75,0.89,5,154,4,0,0,0,hr,low\\n0.93,0.57,3,141,2,0,0,0,technical,low\\n0.87,0.49,4,213,3,0,0,0,technical,low\\n0.94,0.58,5,222,3,0,0,0,technical,low\\n0.85,0.72,3,150,2,1,0,0,technical,low\\n0.63,0.5,4,172,2,0,0,0,technical,low\\n0.78,0.63,5,261,3,0,0,0,technical,low\\n0.87,0.92,2,248,3,0,0,0,technical,low\\n0.77,0.76,5,149,2,0,0,0,technical,medium\\n1,0.61,5,178,3,0,0,0,technical,medium\\n0.93,0.81,3,212,3,0,0,0,technical,medium\\n0.5,0.4,2,108,2,0,0,0,technical,medium\\n0.9,0.66,4,160,2,1,0,0,support,medium\\n0.61,0.56,2,160,3,0,0,0,support,medium\\n0.57,0.97,5,196,2,0,0,0,support,medium\\n0.43,0.5,4,121,5,1,0,0,support,medium\\n0.6,0.56,5,268,2,0,0,0,support,medium\\n0.56,0.92,3,232,2,0,0,0,support,medium\\n0.57,0.62,5,263,2,0,0,0,support,medium\\n0.56,0.82,3,208,2,0,0,0,support,medium\\n0.64,0.9,6,143,5,0,0,0,support,high\\n0.53,0.56,5,236,4,1,0,0,support,high\\n0.19,0.6,5,198,4,0,0,0,support,high\\n0.5,0.8,4,261,3,0,0,0,technical,high\\n0.86,0.97,4,258,3,0,0,0,technical,high\\n0.92,0.66,3,230,3,0,0,0,technical,high\\n0.82,0.97,3,137,3,0,0,0,management,high\\n0.54,0.51,5,258,3,0,0,0,IT,high\\n0.23,0.51,5,139,6,0,0,0,IT,low\\n0.65,0.71,4,186,2,0,0,0,IT,low\\n0.99,0.98,4,259,3,0,0,0,IT,low\\n0.54,0.59,4,202,3,0,0,0,IT,low\\n0.99,0.68,4,235,3,0,0,0,product_mng,low\\n0.76,0.89,4,224,2,0,0,0,product_mng,low\\n0.57,0.54,4,210,3,0,0,0,product_mng,low\\n0.53,0.75,4,240,4,0,0,0,product_mng,low\\n0.86,0.55,5,149,4,0,0,0,IT,medium\\n0.97,0.96,4,250,6,0,0,0,RandD,medium\\n0.13,0.76,5,171,5,0,0,0,RandD,medium\\n0.73,0.89,3,139,3,0,0,0,RandD,medium\\n0.62,0.95,4,132,3,0,0,0,RandD,medium\\n0.59,0.37,3,125,2,0,0,0,RandD,medium\\n0.63,0.7,6,141,3,1,0,0,marketing,medium\\n0.64,0.52,3,269,2,0,0,0,sales,medium\\n0.5,0.85,5,249,3,1,0,0,accounting,medium\\n0.58,0.89,3,256,2,0,0,0,support,medium\\n0.32,0.87,4,179,4,0,0,0,technical,medium\\n0.72,0.67,5,210,2,0,0,0,management,medium\\n0.61,0.74,3,160,3,0,0,0,marketing,medium\\n0.97,0.55,2,267,4,0,0,0,marketing,medium\\n0.87,0.64,2,169,3,1,0,0,marketing,medium\\n0.88,0.81,4,235,6,0,0,0,sales,medium\\n0.52,0.99,3,136,3,0,0,0,sales,medium\\n0.95,0.81,5,210,4,0,0,0,sales,medium\\n0.96,0.62,5,230,2,0,0,0,sales,medium\\n0.98,0.58,5,186,3,0,0,0,sales,medium\\n0.51,0.51,2,271,3,0,0,0,sales,medium\\n1,0.63,2,105,2,0,0,0,sales,medium\\n0.97,0.67,2,147,2,0,0,0,sales,medium\\n0.79,0.56,4,177,3,0,0,0,sales,high\\n0.64,0.45,3,135,6,0,0,0,sales,low\\n0.84,0.76,5,243,3,0,0,0,sales,medium\\n0.94,0.57,3,166,4,0,0,0,sales,medium\\n0.7,0.79,4,194,3,0,0,0,sales,medium\\n0.64,1,4,201,2,0,0,0,sales,medium\\n0.56,0.88,4,248,2,0,0,0,sales,medium\\n0.32,0.81,5,111,4,0,0,0,sales,medium\\n0.75,0.72,5,174,3,0,0,0,sales,medium\\n0.78,0.58,3,241,3,1,0,0,sales,medium\\n0.7,0.49,4,173,3,0,0,0,sales,medium\\n0.21,0.39,6,132,5,0,0,0,accounting,medium\\n0.64,0.96,3,274,3,0,0,0,accounting,low\\n0.54,0.52,3,115,3,0,0,0,accounting,low\\n0.79,0.98,4,170,3,0,0,0,hr,low\\n0.91,0.58,3,172,3,0,0,0,hr,low\\n0.76,0.73,4,148,2,1,0,0,hr,low\\n0.77,0.95,3,246,3,0,0,0,hr,low\\n0.92,0.88,4,151,3,0,0,0,technical,low\\n0.53,0.57,5,141,3,1,0,0,technical,high\\n0.44,0.52,3,269,4,0,0,0,technical,low\\n0.54,0.52,5,170,4,0,0,0,technical,high\\n0.93,0.5,2,135,3,0,0,0,technical,high\\n0.67,0.68,4,254,3,0,0,0,technical,low\\n0.66,0.99,3,228,2,0,0,0,technical,low\\n0.7,0.6,3,266,2,0,0,0,technical,high\\n0.79,0.57,4,152,3,0,0,0,technical,low\\n0.5,0.75,5,178,6,0,0,0,technical,medium\\n1,0.75,3,237,3,0,0,0,technical,high\\n0.61,0.52,5,255,3,0,0,0,support,medium\\n0.72,0.5,4,245,3,0,0,0,support,medium\\n0.78,0.95,3,155,3,1,0,0,support,medium\\n0.87,0.84,5,216,3,1,0,0,support,medium\\n0.57,0.58,3,251,2,0,0,0,support,high\\n0.85,0.96,2,260,3,0,0,0,support,medium\\n0.83,0.67,5,132,2,1,0,0,support,medium\\n0.4,0.37,3,169,3,1,0,0,support,medium\\n0.91,0.69,4,259,3,0,0,0,support,high\\n0.48,0.98,3,257,2,0,0,0,support,medium\\n0.94,0.58,5,190,3,1,0,0,support,high\\n0.65,0.76,4,171,4,0,0,0,technical,low\\n0.54,0.49,4,190,3,0,0,0,technical,medium\\n0.76,0.81,5,270,4,0,0,0,technical,medium\\n0.88,0.59,4,227,3,0,0,0,management,medium\\n0.9,0.55,3,195,3,0,0,0,IT,medium\\n0.64,0.75,3,169,3,0,0,0,IT,low\\n0.74,0.75,4,169,4,0,0,0,IT,low\\n0.45,0.54,2,184,2,0,0,0,IT,low\\n0.61,0.62,3,240,3,0,0,0,IT,low\\n0.16,0.97,6,282,4,0,0,0,product_mng,low\\n0.67,0.74,3,226,3,0,0,0,product_mng,low\\n0.74,0.74,2,254,3,0,0,0,product_mng,low\\n0.53,0.57,4,250,3,1,0,0,product_mng,low\\n0.75,0.98,3,143,2,0,0,0,IT,low\\n0.76,0.98,4,258,3,0,0,0,RandD,low\\n0.72,0.72,5,265,3,0,0,0,RandD,high\\n0.65,0.54,6,181,4,0,0,0,RandD,low\\n0.69,0.66,4,178,3,0,0,0,RandD,low\\n0.7,0.74,3,194,3,0,0,0,RandD,low\\n0.66,0.84,4,253,4,0,0,0,marketing,low\\n0.13,0.48,3,210,3,0,0,0,sales,high\\n0.67,0.53,3,264,2,0,0,0,accounting,low\\n0.99,0.7,3,219,3,0,0,0,support,low\\n0.51,0.86,3,198,2,0,0,0,technical,low\\n0.61,0.7,4,161,3,1,0,0,management,high\\n0.9,0.6,3,255,4,1,0,0,marketing,low\\n0.61,0.62,4,233,3,0,0,0,marketing,medium\\n0.15,0.89,3,251,4,0,0,0,marketing,high\\n0.53,0.85,5,268,3,1,0,0,sales,medium\\n0.41,0.48,3,135,3,0,0,0,sales,high\\n0.9,0.64,4,201,2,1,0,0,sales,medium\\n0.67,0.9,5,171,3,0,0,0,sales,medium\\n0.22,0.7,4,225,4,0,0,0,sales,medium\\n0.35,0.56,3,144,3,0,0,0,sales,medium\\n0.66,0.96,4,185,2,1,0,0,sales,medium\\n0.63,0.82,5,275,3,1,0,0,sales,medium\\n0.89,0.67,3,269,3,0,0,0,sales,medium\\n0.88,0.75,4,201,2,0,0,0,sales,medium\\n0.73,0.6,4,166,3,0,0,0,sales,high\\n1,0.83,4,280,4,1,0,0,sales,low\\n0.99,0.89,4,254,3,1,0,0,sales,medium\\n0.12,0.84,5,230,4,0,0,0,sales,medium\\n0.64,0.43,5,269,3,0,0,0,sales,medium\\n0.65,0.72,3,248,4,0,0,0,sales,medium\\n0.56,0.57,4,161,3,0,0,0,sales,medium\\n0.88,0.62,4,237,2,0,0,0,sales,medium\\n0.54,0.68,3,144,5,0,0,0,sales,medium\\n0.77,0.8,2,255,2,1,0,0,accounting,medium\\n0.66,0.67,5,148,3,0,0,0,accounting,medium\\n0.54,0.65,3,185,2,0,0,0,accounting,high\\n0.14,0.43,2,238,3,0,0,0,hr,low\\n0.85,0.69,5,273,3,1,0,0,hr,low\\n0.9,0.66,3,256,4,0,0,0,hr,low\\n0.81,0.79,4,177,2,0,0,0,hr,high\\n0.14,0.76,5,215,4,0,0,0,technical,low\\n0.94,0.96,4,270,3,1,0,0,technical,low\\n0.69,0.82,4,272,2,0,0,0,technical,low\\n0.66,0.67,4,268,2,0,0,0,technical,high\\n0.75,0.61,4,272,2,0,0,0,technical,low\\n0.53,0.61,4,182,3,0,0,0,technical,low\\n0.91,0.82,6,280,3,0,0,0,technical,low\\n0.93,0.61,4,205,3,0,0,0,technical,low\\n0.89,0.91,3,264,3,1,0,0,technical,low\\n0.84,0.79,2,150,3,0,0,0,technical,low\\n0.94,0.86,3,150,2,0,0,0,technical,low\\n1,0.86,4,195,4,0,0,0,support,medium\\n0.79,0.68,5,272,3,0,0,0,support,medium\\n0.62,0.61,3,171,3,0,0,0,support,medium\\n0.45,0.43,4,253,4,0,0,0,support,medium\\n0.54,0.48,3,158,2,0,0,0,support,medium\\n0.13,0.97,3,156,2,0,0,0,support,medium\\n0.99,0.73,3,181,2,0,0,0,support,medium\\n0.54,0.75,4,249,4,0,0,0,support,medium\\n0.52,0.38,3,132,4,0,0,0,support,medium\\n0.24,0.65,4,248,3,0,0,0,support,medium\\n0.12,0.7,5,277,3,0,0,0,support,medium\\n0.52,0.96,6,166,5,1,0,0,technical,medium\\n0.44,0.63,3,193,3,0,0,0,technical,high\\n0.81,0.53,3,148,3,0,0,0,technical,low\\n0.25,0.64,4,226,5,0,0,0,management,medium\\n0.63,0.91,3,233,4,0,0,0,IT,medium\\n0.61,0.46,3,171,3,0,0,0,IT,medium\\n0.51,0.56,4,157,3,0,0,0,IT,medium\\n0.66,0.54,5,191,2,0,0,0,IT,low\\n0.86,0.59,4,189,2,0,0,0,IT,low\\n0.98,0.89,5,181,3,0,0,0,product_mng,low\\n0.99,0.37,6,219,6,0,0,0,product_mng,low\\n0.78,0.91,3,166,2,1,0,0,product_mng,low\\n0.84,0.53,2,275,3,0,0,0,product_mng,low\\n0.17,0.59,6,160,2,0,0,0,IT,low\\n0.48,0.72,4,186,3,0,0,0,RandD,low\\n0.63,0.66,3,256,4,1,0,0,RandD,low\\n0.58,0.67,3,156,2,0,0,0,RandD,low\\n0.7,0.48,5,99,4,0,0,0,RandD,low\\n0.61,0.85,4,273,3,0,0,0,RandD,low\\n0.91,0.81,4,135,2,0,0,0,marketing,low\\n0.34,0.82,6,202,3,0,0,0,sales,low\\n0.56,0.49,4,256,3,0,0,0,accounting,low\\n0.93,0.81,3,143,3,0,0,0,support,low\\n0.56,0.81,4,216,2,0,0,0,technical,low\\n0.99,0.5,4,173,3,0,0,0,management,low\\n0.77,0.83,4,154,3,0,0,0,marketing,low\\n0.76,0.61,4,172,2,0,0,0,marketing,low\\n0.65,0.65,5,180,2,0,0,0,marketing,low\\n0.5,0.76,3,174,3,0,0,0,sales,medium\\n0.59,0.61,3,210,2,0,0,0,sales,medium\\n0.68,0.58,4,186,2,0,0,0,sales,medium\\n0.85,0.82,5,184,3,0,0,0,sales,medium\\n0.83,0.77,3,260,2,0,0,0,sales,medium\\n0.7,0.58,4,207,2,1,0,0,sales,medium\\n0.16,0.76,6,210,5,0,0,0,sales,medium\\n0.66,0.95,5,206,2,0,0,0,sales,medium\\n0.81,0.84,4,173,4,0,0,0,sales,medium\\n0.96,0.74,5,194,4,1,0,0,sales,medium\\n0.66,0.54,5,203,2,0,0,0,sales,medium\\n0.83,0.53,3,186,4,0,0,0,sales,medium\\n0.99,0.9,4,175,3,1,0,0,sales,high\\n0.99,0.83,4,274,2,0,0,0,sales,low\\n0.67,0.78,4,193,3,0,0,0,sales,medium\\n0.54,0.61,2,264,3,0,0,0,sales,medium\\n0.22,0.69,3,212,3,0,0,0,sales,medium\\n0.25,0.82,5,244,5,1,0,0,sales,medium\\n0.73,0.98,4,216,2,0,0,0,sales,low\\n1,0.88,4,252,4,0,0,0,accounting,low\\n0.4,0.58,3,135,3,0,0,0,accounting,low\\n0.45,0.5,5,99,4,1,0,0,accounting,low\\n0.61,0.81,5,136,3,0,0,0,hr,low\\n0.81,0.64,6,176,5,0,0,0,hr,low\\n0.61,0.76,4,135,2,0,0,0,hr,low\\n0.57,0.94,3,230,2,0,0,0,hr,low\\n0.9,0.65,4,221,3,0,0,0,technical,low\\n0.43,0.82,4,138,5,0,0,0,technical,low\\n0.99,0.98,4,169,3,1,0,0,technical,low\\n0.62,0.49,4,174,3,0,0,0,technical,low\\n0.63,0.65,3,162,2,0,0,0,technical,low\\n0.89,0.99,4,274,4,0,0,0,technical,low\\n0.61,0.84,3,206,2,0,0,0,technical,low\\n0.62,0.89,4,254,3,1,0,0,technical,low\\n0.86,0.61,4,181,4,0,0,0,technical,low\\n0.75,0.62,5,144,3,0,0,0,technical,low\\n0.63,0.54,4,147,4,0,0,0,technical,low\\n0.69,0.8,3,212,4,0,0,0,support,low\\n0.71,0.76,3,134,3,1,0,0,support,low\\n0.63,0.95,4,134,3,0,0,0,support,medium\\n0.89,0.7,3,256,4,0,0,0,support,medium\\n0.71,0.36,2,132,5,0,0,0,support,medium\\n0.88,0.82,4,109,2,0,0,0,support,medium\\n0.73,0.52,4,141,3,0,0,0,support,medium\\n0.52,0.83,4,180,2,0,0,0,support,medium\\n0.77,0.65,2,162,4,1,0,0,support,medium\\n0.94,0.48,4,143,2,0,0,0,support,medium\\n0.99,0.87,5,211,2,0,0,0,support,medium\\n0.89,0.56,4,225,4,0,0,0,technical,medium\\n0.53,0.52,2,135,4,0,0,0,technical,medium\\n0.23,0.64,3,228,4,1,0,0,technical,medium\\n0.87,0.73,5,111,4,0,0,0,management,high\\n0.21,0.69,3,144,6,1,0,0,IT,low\\n0.71,0.51,4,202,3,0,0,0,IT,medium\\n0.75,0.71,5,147,4,1,0,0,IT,medium\\n0.63,0.89,3,239,3,0,0,0,IT,medium\\n0.55,0.4,5,219,4,0,0,0,IT,medium\\n0.93,0.55,3,134,3,1,0,0,product_mng,low\\n0.53,0.89,3,167,2,0,0,0,product_mng,low\\n0.94,0.89,4,192,2,0,0,0,product_mng,low\\n0.46,0.82,2,189,5,0,0,0,product_mng,low\\n0.59,0.53,4,213,2,0,0,0,IT,low\\n0.75,0.56,5,231,2,0,0,0,RandD,low\\n0.76,0.63,3,198,3,0,0,0,RandD,low\\n0.96,0.89,3,163,2,0,0,0,RandD,low\\n0.55,0.93,4,251,4,1,0,0,RandD,low\\n0.52,0.82,3,170,3,0,0,0,RandD,low\\n0.55,0.5,5,231,3,0,0,0,marketing,low\\n0.52,0.98,4,165,2,0,0,0,sales,low\\n0.49,0.5,5,183,3,0,0,0,accounting,low\\n0.49,0.89,3,213,2,0,0,0,support,low\\n1,0.89,3,230,3,1,0,0,technical,low\\n0.97,0.62,3,167,3,0,0,0,management,low\\n0.97,0.89,3,264,3,0,0,0,marketing,low\\n0.21,0.43,2,249,3,0,0,0,marketing,low\\n0.24,0.7,6,153,5,1,0,0,marketing,low\\n0.76,0.79,3,111,2,0,0,0,sales,low\\n0.78,0.6,3,232,2,0,0,0,sales,low\\n0.59,0.52,6,190,4,0,0,0,sales,medium\\n0.54,0.71,3,145,3,1,0,0,sales,medium\\n0.34,0.69,2,193,3,0,0,0,sales,medium\\n0.91,0.82,3,183,2,0,0,0,sales,medium\\n0.49,0.61,3,240,3,0,0,0,sales,medium\\n0.71,1,5,210,3,0,0,0,sales,medium\\n0.64,0.72,4,152,3,1,0,0,sales,medium\\n0.6,0.61,4,140,4,0,0,0,sales,medium\\n0.91,0.66,3,208,4,0,0,0,sales,medium\\n0.92,0.6,3,198,2,0,0,0,sales,medium\\n0.91,0.52,3,178,3,0,0,0,sales,medium\\n0.88,0.77,3,279,3,1,0,0,sales,medium\\n0.86,0.82,3,263,6,0,0,0,sales,high\\n0.81,0.54,3,215,4,1,0,0,sales,low\\n0.84,0.73,3,181,3,1,0,0,sales,medium\\n0.56,0.55,2,270,3,0,0,0,sales,medium\\n0.6,0.52,3,236,3,0,0,0,sales,medium\\n0.71,0.87,3,271,2,0,0,0,accounting,medium\\n0.62,0.79,5,172,3,0,0,0,accounting,low\\n0.73,0.65,3,145,2,0,0,0,accounting,low\\n0.56,0.69,5,198,3,0,0,0,hr,low\\n0.6,0.74,3,175,3,1,0,0,hr,low\\n0.55,0.64,4,260,3,0,0,0,hr,low\\n0.5,0.7,4,135,3,0,0,0,hr,low\\n0.42,0.73,3,108,4,0,0,0,technical,low\\n0.51,0.94,5,260,4,0,0,0,technical,low\\n0.66,0.94,4,176,2,1,0,0,technical,low\\n0.79,0.67,5,222,4,0,0,0,technical,low\\n0.3,0.66,4,119,3,0,0,0,technical,low\\n0.57,1,3,241,4,0,0,0,technical,low\\n0.74,0.93,6,225,4,0,0,0,technical,low\\n0.98,0.56,5,188,3,0,0,0,technical,low\\n0.17,0.73,4,188,5,0,0,0,technical,low\\n0.62,0.77,3,225,4,1,0,0,technical,low\\n0.32,0.4,2,132,3,0,0,0,technical,low\\n0.58,0.91,5,185,2,0,0,0,support,low\\n0.59,0.9,4,173,3,0,0,0,support,medium\\n0.59,0.55,3,179,3,0,0,0,support,medium\\n0.8,0.58,4,189,2,0,0,0,support,medium\\n0.84,0.85,5,246,3,0,0,0,support,medium\\n0.54,0.76,2,166,4,0,0,0,support,medium\\n0.51,0.98,4,245,3,0,0,0,support,medium\\n0.66,0.56,2,104,3,1,0,0,support,medium\\n0.37,0.52,4,151,2,0,0,0,support,medium\\n0.49,0.63,4,213,3,0,0,0,support,medium\\n0.88,0.71,5,255,3,0,0,0,support,medium\\n0.66,0.9,4,268,3,0,0,0,technical,medium\\n0.25,0.53,4,160,4,0,0,0,technical,medium\\n0.49,0.52,4,267,2,0,0,0,technical,high\\n0.87,0.77,3,190,3,0,0,0,management,low\\n0.54,0.95,5,255,2,0,0,0,IT,medium\\n0.24,0.95,3,168,4,0,0,0,IT,medium\\n0.65,0.74,4,228,2,1,0,0,IT,medium\\n0.58,0.87,4,181,3,0,0,0,IT,medium\\n0.77,0.54,5,252,2,0,0,0,IT,low\\n0.86,0.63,4,244,3,0,0,0,product_mng,low\\n0.62,0.69,3,207,4,0,0,0,product_mng,low\\n0.56,0.48,3,134,3,0,0,0,product_mng,low\\n0.75,0.53,3,244,2,0,0,0,product_mng,low\\n0.8,0.96,4,160,4,0,0,0,IT,low\\n0.56,0.93,4,260,4,0,0,0,RandD,low\\n0.83,0.6,4,170,3,0,0,0,RandD,low\\n0.51,0.98,4,171,2,0,0,0,RandD,low\\n0.82,0.9,4,232,3,0,0,0,RandD,low\\n0.81,0.91,3,184,3,0,0,0,RandD,low\\n0.52,0.64,4,268,3,0,0,0,marketing,low\\n0.79,0.56,4,248,3,0,0,0,sales,low\\n0.83,0.5,5,274,3,0,0,0,accounting,low\\n0.97,0.81,3,145,3,0,0,0,support,low\\n0.61,0.88,5,134,4,0,0,0,technical,low\\n0.84,0.66,3,114,6,1,0,0,management,low\\n0.9,1,4,218,2,0,0,0,marketing,low\\n0.82,0.77,4,152,2,1,0,0,marketing,low\\n0.69,0.76,5,174,3,0,0,0,marketing,low\\n0.18,0.73,6,231,4,0,0,0,sales,low\\n0.33,1,2,210,3,1,0,0,sales,medium\\n0.15,0.92,5,164,3,0,0,0,sales,medium\\n0.61,0.78,4,198,3,0,0,0,sales,medium\\n0.92,0.55,4,220,2,0,0,0,sales,medium\\n0.13,0.61,6,283,5,0,0,0,sales,medium\\n0.18,0.48,4,240,4,0,0,0,sales,medium\\n0.27,0.85,5,142,6,0,0,0,sales,medium\\n0.66,0.61,4,263,4,0,0,0,sales,medium\\n0.21,0.81,5,142,4,0,0,0,sales,medium\\n0.92,0.9,4,203,4,0,0,0,sales,medium\\n0.97,0.5,3,266,3,1,0,0,sales,medium\\n0.97,0.7,3,253,3,0,0,0,sales,medium\\n0.64,0.61,4,136,3,0,0,0,sales,high\\n0.75,0.9,3,140,3,0,0,0,sales,low\\n0.9,0.76,4,252,4,0,0,0,sales,medium\\n0.81,0.75,5,101,5,0,0,0,sales,medium\\n0.99,0.72,3,163,3,0,0,0,sales,medium\\n0.49,0.5,5,170,2,0,0,0,sales,medium\\n0.92,0.4,2,238,3,0,0,0,accounting,low\\n0.74,0.56,4,190,3,1,0,0,accounting,low\\n0.37,0.37,5,173,2,0,0,0,accounting,low\\n0.67,0.61,4,145,4,0,0,0,hr,low\\n0.74,0.89,5,182,2,0,0,0,hr,low\\n0.85,0.64,4,188,3,0,0,0,hr,low\\n0.72,0.71,3,133,2,0,0,0,hr,low\\n0.75,0.71,4,155,4,0,0,0,technical,low\\n0.91,0.4,6,153,3,0,0,0,technical,low\\n0.84,0.62,4,138,3,0,0,0,technical,low\\n0.64,0.51,4,177,3,0,0,0,technical,low\\n0.15,0.91,6,98,6,1,0,0,technical,low\\n0.66,0.66,3,225,3,0,0,0,technical,low\\n0.2,0.69,6,236,4,0,0,0,technical,low\\n0.97,0.78,3,268,3,1,0,0,technical,low\\n0.59,0.73,2,230,3,0,0,0,technical,low\\n0.88,0.6,4,162,2,0,0,0,technical,low\\n0.16,0.73,4,197,2,0,0,0,technical,low\\n0.61,0.96,3,247,3,0,0,0,support,low\\n0.52,0.79,4,234,3,0,0,0,support,low\\n0.82,0.49,4,276,4,0,0,0,support,low\\n0.75,0.94,5,217,2,0,0,0,support,medium\\n0.62,0.5,4,156,2,0,0,0,support,medium\\n0.91,0.88,3,189,2,0,0,0,support,medium\\n0.61,0.98,2,238,4,0,0,0,support,medium\\n0.79,0.77,3,201,6,1,0,0,support,medium\\n0.9,0.93,4,263,3,1,0,0,support,medium\\n0.75,0.83,3,146,3,0,0,0,support,medium\\n0.81,0.64,4,213,3,0,0,0,support,medium\\n0.59,0.88,3,159,2,0,0,0,technical,medium\\n0.56,0.83,3,236,3,1,0,0,technical,medium\\n0.98,0.79,5,257,4,0,0,0,technical,medium\\n0.59,0.72,4,168,4,0,0,0,management,medium\\n0.61,0.67,4,151,3,0,0,0,IT,high\\n0.78,0.7,4,139,3,0,0,0,IT,low\\n0.55,0.93,5,196,3,0,0,0,IT,medium\\n0.2,0.97,4,237,5,0,0,0,IT,medium\\n0.79,0.44,2,236,3,0,0,0,IT,medium\\n0.52,0.98,4,265,3,0,0,0,product_mng,medium\\n0.97,0.52,4,207,3,0,0,0,product_mng,low\\n0.63,0.94,4,219,3,0,0,0,product_mng,low\\n0.85,0.99,3,208,2,0,0,0,product_mng,low\\n0.59,0.74,3,240,3,0,0,0,IT,low\\n0.64,0.6,3,135,3,0,0,0,RandD,low\\n0.8,0.67,3,236,3,1,0,0,RandD,low\\n0.61,0.75,3,140,3,0,0,0,RandD,low\\n0.87,0.61,3,162,2,0,0,0,RandD,low\\n0.75,0.59,3,117,3,1,0,0,RandD,medium\\n0.96,0.51,4,225,3,0,0,0,marketing,medium\\n0.75,0.92,3,211,3,0,0,0,sales,medium\\n0.19,0.58,4,173,5,0,0,0,accounting,medium\\n0.52,0.97,4,170,3,0,0,0,support,medium\\n0.6,0.6,3,242,3,0,0,0,technical,medium\\n0.9,0.81,4,175,3,0,0,0,management,medium\\n0.89,0.92,3,195,2,0,0,0,marketing,medium\\n0.54,0.93,4,184,2,1,0,0,marketing,medium\\n0.99,0.55,3,170,3,0,0,0,marketing,medium\\n0.66,0.56,4,185,3,0,0,0,sales,medium\\n0.92,0.64,4,259,2,0,0,0,sales,medium\\n0.19,0.72,4,102,3,0,0,0,sales,medium\\n0.39,0.37,5,156,4,0,0,0,sales,medium\\n0.41,0.68,3,191,4,0,0,0,sales,medium\\n0.6,0.49,3,239,2,0,0,0,sales,medium\\n0.95,0.54,4,235,4,0,0,0,sales,medium\\n0.51,0.87,2,130,4,0,0,0,sales,medium\\n0.54,0.74,2,166,3,0,0,0,sales,medium\\n0.16,0.54,5,206,5,0,0,0,sales,medium\\n0.98,0.77,3,191,2,0,0,0,sales,medium\\n0.65,0.75,3,214,3,0,0,0,sales,medium\\n0.38,0.5,3,196,3,0,0,0,sales,medium\\n0.95,0.71,4,151,4,0,0,0,sales,medium\\n0.6,0.62,5,165,2,0,0,0,sales,medium\\n0.78,0.91,3,177,2,0,0,0,sales,high\\n0.19,0.63,6,241,6,0,0,0,sales,high\\n0.56,0.99,4,230,3,0,0,0,sales,high\\n0.21,0.71,4,270,2,0,0,0,sales,high\\n0.83,0.71,3,234,4,0,0,0,accounting,high\\n0.5,0.64,3,257,2,1,0,0,accounting,high\\n0.74,0.87,5,264,3,0,0,0,accounting,high\\n0.75,0.83,4,133,4,0,0,0,hr,high\\n0.85,0.66,4,155,4,0,0,0,hr,high\\n0.93,0.59,3,202,2,0,0,0,hr,high\\n0.76,0.7,3,136,2,0,0,0,hr,high\\n0.91,0.78,3,269,3,1,0,0,technical,high\\n0.22,0.54,6,169,4,0,0,0,technical,low\\n0.78,0.52,5,192,3,1,0,0,technical,low\\n0.53,0.8,4,241,3,1,0,0,technical,low\\n0.58,0.69,4,165,3,0,0,0,technical,low\\n0.99,0.81,3,183,2,0,0,0,technical,low\\n0.62,0.64,4,163,3,0,0,0,technical,low\\n0.59,0.69,3,162,3,0,0,0,technical,low\\n0.13,0.76,5,219,4,0,0,0,technical,low\\n0.19,0.63,4,278,6,0,0,0,technical,low\\n0.94,0.99,2,273,4,0,0,0,technical,low\\n0.53,0.96,4,272,2,0,0,0,support,low\\n0.96,0.85,5,168,2,0,0,0,support,low\\n0.62,0.87,4,221,3,1,0,0,support,low\\n0.81,0.86,4,213,3,0,0,0,support,low\\n0.63,0.78,4,275,3,0,0,0,support,low\\n0.92,0.68,5,177,4,0,0,0,support,medium\\n0.83,0.74,4,249,2,0,0,0,support,medium\\n0.49,0.37,5,246,3,0,0,0,support,medium\\n0.8,0.66,4,223,3,0,0,0,support,medium\\n0.54,0.76,4,244,2,0,0,0,support,medium\\n0.37,0.72,3,169,2,1,0,0,support,medium\\n0.93,0.56,5,140,3,0,0,0,technical,medium\\n0.88,0.99,5,253,2,0,0,0,technical,medium\\n0.79,0.87,3,194,2,0,0,0,technical,medium\\n0.65,0.88,4,173,3,0,0,0,management,medium\\n0.72,0.7,4,172,3,0,0,0,IT,medium\\n0.58,0.49,3,167,3,0,0,0,IT,medium\\n0.37,0.51,2,153,3,0,0,0,IT,high\\n0.87,0.97,4,243,3,0,0,0,IT,high\\n0.63,0.72,6,163,4,0,0,0,IT,high\\n0.72,0.79,3,221,3,0,0,0,product_mng,high\\n0.36,0.55,3,191,3,0,0,0,product_mng,high\\n0.96,0.7,4,272,3,0,0,0,product_mng,high\\n0.52,0.37,2,118,2,0,0,0,product_mng,high\\n0.16,0.83,5,173,4,0,0,0,IT,high\\n0.63,0.55,4,200,3,1,0,0,RandD,low\\n0.92,0.76,5,132,3,1,0,0,RandD,low\\n0.82,0.49,4,180,2,0,0,0,RandD,low\\n0.18,0.54,4,145,5,0,0,0,RandD,low\\n0.73,0.48,4,139,2,0,0,0,RandD,low\\n0.44,0.61,5,230,6,0,0,0,marketing,low\\n0.73,0.62,4,247,4,0,0,0,sales,low\\n0.62,0.95,4,140,2,0,0,0,accounting,low\\n0.94,0.8,4,266,3,1,0,0,support,medium\\n0.76,0.74,4,261,3,0,0,0,technical,medium\\n0.89,0.49,4,275,3,0,0,0,management,medium\\n0.9,0.88,5,254,2,0,0,0,marketing,medium\\n1,0.93,5,231,2,0,0,0,marketing,medium\\n0.71,0.9,3,138,3,0,0,0,marketing,medium\\n0.73,0.97,4,163,3,0,0,0,sales,medium\\n0.97,0.9,5,262,3,0,0,0,sales,medium\\n0.6,0.59,4,201,3,0,0,0,sales,medium\\n0.82,0.67,3,229,3,0,0,0,sales,medium\\n0.95,0.48,4,228,2,0,0,0,sales,medium\\n0.88,0.65,5,228,3,0,0,0,sales,medium\\n0.79,0.49,3,273,3,0,0,0,sales,medium\\n0.52,0.96,4,171,2,0,0,0,sales,medium\\n0.22,0.61,3,148,5,0,0,0,sales,medium\\n0.59,0.96,5,211,3,0,0,0,sales,medium\\n0.84,0.64,2,211,3,0,0,0,sales,medium\\n0.54,0.41,3,175,3,0,0,0,sales,medium\\n1,0.86,4,245,4,0,0,0,sales,medium\\n0.93,0.59,3,273,2,1,0,0,sales,medium\\n0.96,0.55,3,225,4,1,0,0,sales,medium\\n0.56,0.41,5,152,3,0,0,0,sales,medium\\n0.49,0.66,5,194,3,0,0,0,sales,medium\\n0.89,0.51,4,185,3,1,0,0,sales,high\\n0.57,0.91,3,193,2,0,0,0,sales,low\\n0.96,0.64,3,166,2,0,0,0,accounting,medium\\n0.65,0.89,5,223,3,1,0,0,accounting,medium\\n0.14,0.66,5,281,4,1,0,0,accounting,medium\\n0.64,0.49,3,241,3,0,0,0,hr,medium\\n0.98,0.91,3,165,2,1,0,0,hr,medium\\n0.71,0.59,4,143,2,0,0,0,hr,medium\\n0.96,0.49,5,137,3,0,0,0,hr,medium\\n0.9,0.57,4,185,3,1,0,0,technical,medium\\n0.52,0.96,3,271,3,1,0,0,technical,medium\\n0.78,0.98,4,207,2,1,0,0,technical,medium\\n0.62,0.69,4,184,3,0,0,0,technical,low\\n0.6,0.8,4,253,2,0,0,0,technical,low\\n0.82,0.62,3,152,6,0,0,0,technical,low\\n0.52,0.55,3,225,2,0,0,0,technical,low\\n0.13,0.84,5,189,5,0,0,0,technical,low\\n0.97,0.93,3,153,2,0,0,0,technical,low\\n0.63,0.9,4,245,3,0,0,0,technical,low\\n0.68,0.78,5,233,3,0,0,0,technical,high\\n0.74,0.83,4,210,3,0,0,0,support,low\\n0.89,0.57,4,176,4,0,0,0,support,high\\n0.28,0.95,5,191,3,0,0,0,support,high\\n0.61,0.9,3,224,3,0,0,0,support,low\\n0.67,0.49,3,185,3,0,0,0,support,low\\n0.86,0.64,3,245,4,0,0,0,support,high\\n0.87,0.93,3,173,2,0,0,0,support,low\\n0.7,0.95,4,231,3,0,0,0,support,medium\\n0.68,0.84,3,270,3,0,0,0,support,high\\n0.69,0.75,5,196,3,0,0,0,support,medium\\n0.97,0.83,3,238,2,0,0,0,support,medium\\n0.62,0.89,4,261,2,0,0,0,technical,medium\\n0.55,0.87,3,201,2,0,0,0,technical,medium\\n0.61,0.73,3,252,3,0,0,0,technical,high\\n0.15,0.81,3,191,5,0,0,0,management,medium\\n0.84,0.86,3,199,3,0,0,0,IT,medium\\n0.87,0.64,5,234,2,1,0,0,IT,medium\\n0.93,0.86,4,192,4,0,0,0,IT,high\\n0.14,0.73,6,237,5,0,0,0,IT,medium\\n0.96,0.7,3,207,3,0,0,0,IT,high\\n0.41,0.63,2,145,2,0,0,0,product_mng,low\\n0.84,0.96,6,155,5,0,0,0,product_mng,medium\\n0.94,0.69,5,145,2,0,0,0,product_mng,medium\\n0.6,0.86,6,247,6,0,0,0,product_mng,medium\\n0.7,0.73,4,182,3,0,0,0,IT,medium\\n0.29,0.91,4,183,4,0,0,0,RandD,low\\n0.31,0.51,2,146,3,0,0,0,RandD,low\\n0.73,0.99,3,241,3,0,0,0,RandD,low\\n0.51,0.52,5,261,3,1,0,0,RandD,low\\n0.58,0.77,4,140,3,0,0,0,RandD,low\\n0.59,0.97,3,257,3,0,0,0,marketing,low\\n0.95,0.9,3,186,2,0,0,0,marketing,low\\n0.84,0.93,3,159,3,0,0,0,sales,low\\n0.28,0.37,3,164,4,1,0,0,accounting,low\\n0.94,0.52,4,217,6,1,0,0,support,low\\n0.49,0.59,4,137,4,0,0,0,technical,high\\n0.72,0.5,4,164,2,1,0,0,management,low\\n0.19,0.85,5,249,3,0,0,0,marketing,low\\n0.83,0.95,3,264,2,0,0,0,marketing,low\\n0.79,0.92,4,208,2,1,0,0,marketing,low\\n0.72,0.61,3,175,3,0,0,0,sales,high\\n0.97,0.74,4,209,2,0,0,0,sales,low\\n0.92,0.83,4,268,4,0,0,0,sales,low\\n0.95,0.53,3,264,3,0,0,0,sales,low\\n0.76,0.64,4,234,2,0,0,0,sales,high\\n0.24,0.62,5,199,4,0,0,0,sales,low\\n0.89,0.99,4,205,2,0,0,1,sales,medium\\n0.69,0.63,5,140,4,0,0,1,sales,high\\n0.92,0.98,3,257,3,0,0,1,sales,medium\\n0.79,0.61,4,227,2,0,0,1,sales,high\\n0.87,0.94,4,189,3,0,0,1,sales,medium\\n0.89,0.88,5,241,2,1,0,0,sales,medium\\n0.75,0.77,5,199,4,0,0,0,sales,medium\\n0.78,0.6,4,206,3,0,0,0,sales,medium\\n0.13,0.62,5,268,3,0,0,0,sales,medium\\n0.94,0.86,3,221,3,1,0,0,sales,medium\\n0.94,0.88,4,262,2,0,0,0,sales,medium\\n0.67,0.6,5,253,6,0,0,0,sales,medium\\n0.6,0.73,5,241,3,0,0,0,sales,high\\n0.62,0.94,4,252,4,0,0,0,accounting,low\\n0.38,0.52,2,171,3,0,0,0,accounting,medium\\n0.8,0.77,4,194,3,0,0,0,accounting,medium\\n0.61,0.42,3,104,2,0,0,0,hr,medium\\n0.61,0.56,4,176,3,0,0,0,hr,medium\\n0.66,0.8,4,192,3,0,0,0,hr,medium\\n0.56,0.74,3,154,2,0,0,0,hr,medium\\n1,0.55,4,186,4,1,0,0,technical,medium\\n0.73,0.86,3,200,4,0,0,0,technical,medium\\n0.6,0.66,4,132,4,0,0,0,technical,medium\\n0.78,0.59,5,236,3,0,0,0,technical,high\\n0.48,0.53,3,211,4,0,0,0,technical,low\\n0.9,0.77,4,273,2,0,0,0,technical,low\\n0.16,0.76,4,223,4,0,0,0,technical,low\\n0.5,0.75,3,204,2,0,0,0,technical,high\\n0.66,0.65,3,196,3,1,0,0,technical,low\\n0.44,0.37,2,219,2,0,0,0,technical,low\\n0.95,0.67,4,261,3,0,0,0,technical,low\\n0.9,0.65,3,254,2,0,0,0,support,high\\n0.27,0.48,4,185,2,0,0,0,support,low\\n0.51,0.74,6,98,3,0,0,0,support,low\\n0.68,0.76,3,260,4,0,0,0,support,low\\n0.97,0.93,5,137,2,1,0,0,support,low\\n0.91,0.75,4,159,3,1,0,0,support,low\\n0.76,0.88,5,265,4,0,0,0,support,low\\n0.88,0.61,4,177,4,1,0,0,support,low\\n0.83,0.73,4,247,2,0,0,0,support,medium\\n0.78,0.54,3,161,3,0,0,0,support,medium\\n0.52,0.38,2,103,3,0,0,0,support,medium\\n0.63,0.49,4,151,3,0,0,0,technical,medium\\n0.9,0.74,3,193,3,0,0,0,technical,medium\\n0.48,0.58,3,194,3,0,0,0,technical,medium\\n0.7,0.6,5,208,3,0,0,0,management,medium\\n0.68,0.66,4,229,3,0,0,0,IT,medium\\n0.7,0.87,3,166,2,0,0,0,IT,medium\\n0.77,0.5,3,141,3,0,0,0,IT,medium\\n0.73,0.93,3,249,2,0,0,0,IT,medium\\n0.87,0.48,4,264,3,0,0,0,IT,medium\\n0.65,0.98,3,252,2,0,0,0,product_mng,high\\n0.62,0.7,2,134,3,0,0,0,product_mng,low\\n0.53,0.51,3,274,2,1,0,0,product_mng,medium\\n0.59,0.39,5,200,4,0,0,0,product_mng,medium\\n0.87,0.72,2,154,3,0,0,0,IT,medium\\n0.47,0.53,3,111,4,0,0,0,RandD,medium\\n0.96,0.81,3,247,3,0,0,0,RandD,low\\n0.79,0.74,3,169,3,0,0,0,RandD,low\\n0.84,0.6,3,250,3,1,0,0,RandD,low\\n0.68,0.49,3,178,3,1,0,0,RandD,low\\n0.86,0.66,4,251,3,0,0,0,RandD,low\\n0.73,0.98,5,272,2,0,0,0,marketing,low\\n0.9,0.67,2,229,4,0,0,0,sales,low\\n0.63,0.64,3,180,3,0,0,0,accounting,low\\n0.71,0.72,3,271,2,0,0,0,support,low\\n0.71,0.68,5,226,3,0,0,0,technical,low\\n0.95,0.62,4,150,2,0,0,0,management,low\\n0.51,0.86,4,260,3,1,0,0,marketing,low\\n0.77,0.91,4,161,3,0,0,0,marketing,low\\n0.48,0.51,3,136,3,0,0,0,marketing,low\\n0.93,0.91,2,238,2,1,0,0,sales,low\\n0.83,0.86,4,98,4,0,0,0,sales,low\\n0.61,0.73,5,156,4,0,0,0,sales,low\\n0.97,0.89,4,248,2,0,0,0,sales,low\\n0.5,0.81,3,170,2,0,0,0,sales,low\\n0.84,0.54,3,245,3,0,0,0,sales,low\\n0.58,0.38,4,203,5,0,0,0,sales,low\\n0.59,0.72,3,182,3,0,0,0,sales,medium\\n0.77,0.83,3,175,3,0,0,1,sales,medium\\n0.78,0.4,4,145,5,1,0,1,sales,medium\\n0.6,0.96,4,220,3,1,0,1,sales,medium\\n0.53,0.77,4,259,2,1,0,1,sales,medium\\n0.73,0.69,3,228,2,0,0,1,sales,medium\\n0.76,0.94,3,189,3,0,0,0,sales,medium\\n0.12,0.61,6,257,3,0,0,0,sales,medium\\n0.2,0.98,3,180,6,0,0,0,sales,medium\\n0.5,0.77,4,180,3,0,0,0,sales,medium\\n0.79,0.65,5,215,2,1,0,0,sales,medium\\n0.96,0.68,3,132,2,0,0,0,sales,medium\\n0.26,0.69,5,213,2,0,0,0,accounting,high\\n0.8,0.72,4,173,3,0,0,0,accounting,low\\n0.43,0.71,3,186,2,0,0,0,accounting,medium\\n0.87,0.71,4,157,2,0,0,0,hr,medium\\n0.63,0.75,4,175,4,0,0,0,hr,medium\\n0.58,0.48,3,135,3,1,0,0,hr,medium\\n0.2,0.42,4,256,5,0,0,0,hr,low\\n0.62,0.71,4,268,3,0,0,0,technical,low\\n0.91,0.94,5,159,3,0,0,0,technical,low\\n0.66,0.91,3,191,4,0,0,0,technical,low\\n0.53,0.81,3,275,2,0,0,0,technical,low\\n0.52,0.98,5,217,2,1,0,0,technical,low\\n1,0.88,6,201,4,0,0,0,technical,low\\n0.73,0.67,4,205,3,0,0,0,technical,low\\n0.65,0.67,3,240,2,1,0,0,technical,low\\n0.5,0.95,5,137,3,0,0,0,technical,low\\n0.94,0.59,4,241,2,0,0,0,technical,low\\n0.48,0.86,5,198,4,0,0,0,technical,low\\n0.67,0.87,5,254,2,0,0,0,support,low\\n0.73,0.94,4,262,3,0,0,0,support,low\\n0.63,0.71,4,244,2,0,0,0,support,low\\n0.84,0.84,4,266,3,0,0,0,support,low\\n0.2,0.94,6,191,5,0,0,0,support,low\\n0.76,0.57,3,148,3,1,0,0,support,low\\n0.55,0.54,3,233,2,0,0,0,support,low\\n0.8,0.55,4,178,2,1,0,0,support,low\\n0.64,0.91,3,165,3,1,0,0,support,low\\n0.59,0.97,5,179,6,0,0,0,support,medium\\n0.92,0.98,3,149,3,0,0,0,support,medium\\n0.75,0.76,3,269,2,1,0,0,technical,medium\\n0.69,0.74,5,227,2,0,0,0,technical,medium\\n0.82,0.93,3,247,3,0,0,0,technical,medium\\n0.88,0.85,3,220,3,0,0,0,management,medium\\n0.89,0.91,3,233,2,0,0,0,IT,medium\\n1,0.79,5,171,5,0,0,0,IT,medium\\n0.66,0.91,4,234,2,1,0,0,IT,medium\\n0.76,0.92,3,176,2,0,0,0,IT,medium\\n0.8,0.62,5,190,4,1,0,0,IT,medium\\n0.58,0.86,4,168,2,0,0,0,product_mng,medium\\n0.73,0.93,3,205,3,0,0,0,product_mng,high\\n1,0.73,5,189,3,1,0,0,product_mng,low\\n0.18,0.9,4,282,4,0,0,0,product_mng,medium\\n0.47,0.46,2,152,2,0,0,0,IT,medium\\n0.92,0.64,4,217,4,0,0,0,RandD,medium\\n0.51,0.5,4,130,3,0,0,0,RandD,medium\\n0.81,0.62,4,153,4,0,0,0,RandD,low\\n0.52,0.57,3,270,3,0,0,0,RandD,low\\n0.95,0.96,3,220,3,0,0,0,RandD,low\\n0.93,0.64,4,253,3,0,0,0,RandD,low\\n0.98,0.67,4,209,6,0,0,0,marketing,low\\n0.79,0.79,4,231,2,0,0,0,sales,low\\n0.99,0.73,4,240,4,0,0,0,accounting,low\\n0.64,0.9,5,266,3,0,0,0,support,low\\n0.54,0.44,3,153,2,0,0,0,technical,low\\n0.79,0.59,4,187,2,0,0,0,management,low\\n0.55,0.98,4,185,2,1,0,0,marketing,low\\n0.18,0.81,4,147,4,0,0,0,marketing,low\\n0.56,0.81,4,188,3,1,0,0,marketing,low\\n0.92,0.67,2,252,2,0,0,0,sales,low\\n0.99,0.75,4,163,2,0,0,0,sales,low\\n0.77,0.85,4,189,2,0,0,0,sales,low\\n0.49,0.52,3,156,2,0,0,0,sales,low\\n0.98,0.58,3,183,3,0,0,0,sales,low\\n0.18,0.54,6,209,5,1,0,0,sales,low\\n0.8,0.82,4,271,4,0,0,0,sales,low\\n0.81,0.77,5,251,2,0,0,0,sales,low\\n0.13,0.61,5,198,5,0,0,0,sales,medium\\n0.58,0.97,3,274,4,1,0,1,sales,medium\\n0.75,0.63,4,209,3,0,0,1,sales,medium\\n0.8,0.94,4,271,4,0,0,1,sales,medium\\n0.78,0.6,4,143,2,0,0,1,sales,medium\\n0.92,0.6,5,236,3,1,0,1,sales,medium\\n0.85,0.98,5,222,3,0,0,1,sales,medium\\n0.52,0.63,3,233,3,0,0,1,sales,medium\\n0.95,0.84,3,270,3,1,0,1,sales,medium\\n0.81,0.92,5,258,3,0,0,1,sales,medium\\n0.16,0.82,6,202,4,1,0,1,sales,medium\\n0.91,0.74,3,150,2,0,0,0,accounting,medium\\n0.62,0.51,4,193,3,0,0,0,accounting,high\\n0.24,0.42,5,210,5,0,0,0,accounting,low\\n0.88,0.51,3,208,3,0,0,0,hr,medium\\n0.94,0.73,3,196,3,0,0,0,hr,medium\\n0.76,0.79,5,187,4,0,0,0,hr,medium\\n0.49,0.67,3,140,2,0,0,0,hr,medium\\n0.93,0.9,4,256,4,0,0,0,technical,low\\n0.92,0.66,4,113,3,0,0,0,technical,low\\n0.19,0.94,4,196,5,0,0,0,technical,low\\n0.66,0.76,3,170,3,0,0,0,technical,low\\n0.16,0.94,4,261,6,0,0,0,technical,low\\n0.83,0.99,5,132,3,0,0,0,technical,low\\n0.69,0.53,3,153,3,0,0,0,technical,low\\n0.82,0.53,3,147,3,1,0,0,technical,low\\n0.88,0.72,5,244,2,0,0,0,technical,low\\n0.31,0.42,4,108,4,0,0,0,technical,low\\n0.83,0.49,4,218,2,0,0,0,technical,low\\n0.94,0.52,5,133,3,0,0,0,support,low\\n0.65,0.79,5,233,3,0,0,0,support,low\\n0.6,0.6,4,147,3,0,0,0,support,low\\n0.52,0.43,3,176,3,0,0,0,support,low\\n0.66,0.89,4,169,4,0,0,0,support,low\\n0.87,0.87,4,144,3,0,0,0,support,low\\n0.2,0.99,5,151,3,1,0,0,support,low\\n0.63,0.91,4,252,3,1,0,0,support,medium\\n0.69,0.98,4,180,3,0,0,0,support,medium\\n0.48,0.61,3,251,3,0,0,0,support,medium\\n0.8,0.8,4,263,4,0,0,0,support,medium\\n0.89,0.74,5,260,6,0,0,0,technical,medium\\n0.67,0.63,3,227,3,0,0,0,technical,medium\\n0.37,0.86,6,260,3,0,0,0,technical,medium\\n0.93,0.61,5,158,3,0,0,0,management,medium\\n0.69,0.52,3,186,3,0,0,0,IT,medium\\n0.16,0.61,4,171,6,0,0,0,IT,medium\\n0.81,0.55,3,199,2,1,0,0,IT,medium\\n0.97,0.63,5,258,2,0,0,0,IT,medium\\n0.77,0.59,4,273,2,0,0,0,IT,high\\n0.75,0.78,2,259,3,0,0,0,product_mng,low\\n0.88,0.82,3,265,3,0,0,0,product_mng,medium\\n0.43,0.51,5,168,4,0,0,0,product_mng,medium\\n0.99,0.99,4,163,4,0,0,0,product_mng,medium\\n0.59,0.65,5,265,3,0,0,0,IT,medium\\n0.89,0.71,4,190,3,0,0,0,RandD,low\\n0.54,0.73,3,157,3,0,0,0,RandD,low\\n0.32,0.86,4,266,4,0,0,0,RandD,low\\n0.17,0.55,6,240,6,0,0,0,RandD,low\\n0.78,0.55,3,143,3,0,0,0,RandD,low\\n0.73,0.68,3,121,5,0,0,0,RandD,low\\n0.65,0.76,2,170,5,0,0,0,IT,low\\n0.8,0.71,4,161,4,0,0,0,IT,low\\n0.61,0.86,3,239,3,0,0,0,IT,low\\n0.67,0.49,3,224,3,0,0,0,IT,low\\n0.63,0.57,3,242,3,0,0,0,product_mng,low\\n0.51,0.58,4,140,2,1,0,0,product_mng,low\\n0.82,0.59,5,170,3,0,0,0,product_mng,low\\n0.79,0.67,5,156,2,0,0,0,product_mng,low\\n0.49,0.6,2,113,5,0,0,0,IT,low\\n0.7,0.59,3,138,3,0,0,0,RandD,low\\n0.13,0.5,3,137,5,0,0,0,RandD,low\\n0.83,0.52,5,217,3,0,0,0,RandD,low\\n0.83,0.91,3,155,3,0,0,0,RandD,low\\n0.19,0.83,5,280,4,0,0,0,RandD,low\\n0.8,0.81,5,248,2,1,0,0,RandD,low\\n0.49,0.67,2,190,8,0,0,0,marketing,medium\\n0.92,0.99,3,176,8,0,0,0,sales,medium\\n0.81,0.55,4,217,8,0,0,0,accounting,medium\\n0.62,0.91,3,269,8,0,0,0,support,medium\\n0.21,0.7,3,238,8,0,0,0,technical,medium\\n0.95,0.74,5,243,6,0,0,0,management,medium\\n0.51,0.8,4,198,6,0,0,0,marketing,medium\\n0.52,0.89,3,188,6,0,0,0,marketing,medium\\n0.64,0.56,3,257,6,0,0,0,marketing,medium\\n0.62,0.79,4,268,6,0,0,0,sales,medium\\n0.73,0.88,5,233,4,1,0,0,sales,medium\\n0.32,0.86,4,214,5,0,0,0,sales,medium\\n0.78,0.96,2,285,3,0,0,0,sales,high\\n0.65,0.91,4,224,2,1,0,0,sales,low\\n0.56,0.92,4,224,3,0,0,0,sales,medium\\n0.96,0.89,3,142,4,0,0,0,sales,medium\\n0.79,0.82,4,220,3,0,0,0,sales,medium\\n0.66,0.58,4,244,3,0,0,0,sales,medium\\n0.67,0.68,4,171,3,0,0,0,sales,low\\n0.86,0.82,4,274,2,1,0,0,sales,low\\n0.57,0.72,4,214,2,1,0,0,sales,low\\n0.86,0.87,5,171,2,0,0,0,sales,low\\n0.52,0.59,5,150,2,0,0,0,sales,low\\n0.73,0.61,4,260,2,1,0,0,sales,low\\n0.78,0.63,5,259,3,0,0,0,sales,low\\n0.95,0.63,3,153,2,0,0,0,sales,low\\n0.75,0.61,3,263,3,0,0,0,sales,low\\n0.83,0.52,2,149,2,1,0,0,sales,low\\n0.48,1,4,261,3,0,0,0,accounting,low\\n0.3,0.58,2,189,4,1,0,0,accounting,low\\n0.72,0.85,5,237,4,0,0,0,accounting,low\\n0.61,0.52,3,224,3,0,0,0,hr,low\\n0.31,0.87,6,240,3,1,0,0,hr,low\\n0.62,0.81,3,245,2,1,0,0,hr,low\\n0.48,0.49,3,268,3,0,0,0,hr,low\\n0.97,0.89,4,208,2,1,0,0,technical,low\\n0.61,0.83,4,153,2,0,0,0,technical,low\\n0.93,0.99,3,169,3,0,0,0,technical,low\\n0.89,0.39,5,218,2,0,0,0,technical,low\\n0.95,0.9,3,155,3,0,0,0,technical,medium\\n0.36,0.44,5,155,3,0,0,0,technical,medium\\n0.29,0.39,6,105,6,0,0,0,technical,medium\\n0.65,0.83,4,251,2,0,0,0,technical,medium\\n0.72,0.54,4,219,2,0,0,0,technical,medium\\n0.51,0.56,4,198,2,1,0,0,technical,medium\\n0.54,0.53,4,158,2,0,0,0,technical,medium\\n0.66,0.58,3,157,2,0,0,0,support,medium\\n0.59,0.54,4,178,2,0,0,0,support,medium\\n0.45,0.48,3,145,2,0,0,0,support,medium\\n0.15,0.91,5,230,3,0,0,0,support,medium\\n0.95,0.53,3,174,3,0,0,0,support,medium\\n0.49,0.59,5,140,3,0,0,0,support,high\\n0.68,0.97,3,174,2,0,0,0,support,low\\n0.7,0.76,4,173,2,0,0,0,support,medium\\n0.9,0.73,2,203,4,0,0,0,support,medium\\n0.94,0.95,5,170,3,0,0,0,support,medium\\n0.8,0.86,3,203,3,0,0,0,support,medium\\n0.59,0.53,5,169,3,0,0,0,technical,low\\n0.43,0.96,3,109,6,0,0,0,technical,low\\n0.7,0.54,5,263,3,0,0,0,technical,low\\n0.51,0.62,4,185,3,0,0,0,management,low\\n0.12,0.49,4,191,5,0,0,0,IT,low\\n0.14,0.56,5,259,4,1,0,0,IT,low\\n0.86,0.91,4,253,3,0,0,0,IT,low\\n0.97,0.5,3,216,3,0,0,0,IT,low\\n1,0.86,2,264,3,0,0,0,IT,medium\\n0.49,0.63,3,181,3,1,0,0,product_mng,medium\\n0.9,0.93,3,209,3,0,0,0,product_mng,medium\\n0.82,0.89,4,239,2,0,0,0,product_mng,medium\\n0.59,0.48,3,197,3,0,0,0,product_mng,medium\\n0.97,0.57,4,150,2,0,0,0,IT,medium\\n0.69,0.88,3,164,10,0,0,0,management,medium\\n0.73,0.84,3,216,8,0,0,0,management,medium\\n0.48,0.74,2,271,8,1,0,0,management,medium\\n0.94,0.49,4,176,8,0,0,0,management,medium\\n0.74,0.73,3,156,8,0,0,0,management,medium\\n0.65,0.63,4,143,8,0,0,0,management,medium\\n0.93,0.94,4,233,6,0,0,0,IT,medium\\n0.57,0.67,3,138,6,1,0,0,IT,medium\\n0.9,0.49,3,259,6,0,0,0,IT,medium\\n0.55,0.86,4,169,6,0,0,0,IT,medium\\n0.59,0.73,3,172,6,0,0,0,product_mng,medium\\n0.72,0.98,4,156,3,0,0,0,product_mng,medium\\n0.87,0.52,4,140,3,0,0,0,product_mng,medium\\n0.86,0.82,4,212,2,0,0,0,product_mng,medium\\n0.61,0.5,4,269,3,0,0,0,IT,medium\\n0.45,0.63,5,111,5,0,0,0,management,medium\\n0.51,0.63,4,198,2,0,0,0,management,medium\\n0.87,0.92,4,263,3,0,0,0,management,medium\\n0.29,0.38,5,191,5,0,0,0,management,medium\\n0.57,0.64,3,188,3,0,0,0,management,medium\\n0.69,0.83,4,252,3,0,0,0,management,medium\\n0.61,0.9,2,142,3,0,0,0,marketing,high\\n0.96,0.85,4,247,3,0,0,0,sales,high\\n0.16,0.61,6,269,2,0,0,0,accounting,high\\n0.96,0.82,4,244,3,0,0,0,support,high\\n0.77,0.81,4,164,3,0,0,0,technical,high\\n0.85,0.87,6,232,5,0,0,0,management,high\\n0.37,0.49,3,177,3,0,0,0,marketing,high\\n0.68,0.65,3,173,3,1,0,0,marketing,high\\n0.87,0.6,5,165,2,1,0,0,marketing,high\\n0.95,0.8,3,225,2,0,0,0,sales,high\\n0.84,0.63,3,121,3,1,0,0,sales,low\\n0.44,0.51,2,219,4,0,0,0,sales,low\\n0.94,0.73,4,204,2,0,0,0,sales,low\\n0.85,0.94,5,235,4,0,0,0,sales,low\\n0.75,0.51,2,215,2,1,0,0,sales,low\\n0.76,0.67,5,243,3,0,0,0,sales,low\\n0.13,0.97,4,162,6,0,0,0,sales,low\\n0.6,0.79,4,262,3,0,0,0,sales,low\\n0.45,0.55,4,206,2,0,0,0,sales,low\\n0.49,1,2,125,4,1,0,0,sales,low\\n0.19,0.36,3,167,5,0,0,0,sales,low\\n0.68,0.89,5,218,5,0,0,0,sales,low\\n0.53,0.91,5,181,3,0,0,0,sales,low\\n1,0.77,5,269,3,0,0,0,sales,low\\n0.99,0.86,3,167,2,0,0,0,sales,low\\n0.29,0.75,6,271,10,0,0,0,sales,medium\\n0.54,0.83,4,201,8,1,0,0,sales,medium\\n0.25,0.9,6,229,8,0,0,0,sales,medium\\n0.71,0.76,4,148,8,0,0,0,accounting,medium\\n0.96,0.84,3,147,8,0,0,0,accounting,medium\\n0.8,0.9,4,211,8,0,0,0,accounting,medium\\n0.82,0.87,5,145,6,0,0,0,hr,medium\\n0.19,0.97,6,269,6,0,0,0,hr,medium\\n0.43,0.74,4,129,6,0,0,0,hr,medium\\n0.62,0.84,3,270,6,0,0,0,hr,medium\\n0.75,0.85,3,250,6,0,0,0,technical,medium\\n0.56,0.48,5,192,2,1,0,0,technical,medium\\n0.88,0.91,4,233,4,0,0,0,technical,high\\n0.63,0.57,4,192,3,0,0,0,technical,high\\n0.75,0.93,3,247,2,0,0,0,technical,high\\n0.74,1,4,192,4,0,0,0,technical,high\\n0.55,0.68,3,178,3,1,0,0,technical,high\\n0.87,0.55,4,197,3,0,0,0,technical,high\\n0.13,0.9,5,264,6,0,0,0,technical,high\\n0.33,0.64,2,274,3,1,0,0,technical,high\\n0.89,0.97,4,147,2,0,0,0,technical,low\\n0.56,0.94,3,154,3,1,0,0,support,low\\n0.95,0.61,3,224,2,1,0,0,support,low\\n0.57,0.59,4,250,2,0,0,0,support,low\\n0.72,0.53,3,179,3,0,0,0,support,low\\n0.28,0.44,4,170,2,0,0,0,support,low\\n0.54,0.61,4,118,5,0,0,0,support,low\\n0.54,0.95,4,256,3,0,0,0,support,low\\n0.99,0.8,3,209,2,0,0,0,support,medium\\n0.37,0.69,2,146,3,0,0,0,support,medium\\n0.77,0.87,3,275,4,1,0,0,support,medium\\n0.7,0.88,4,180,2,0,0,0,support,medium\\n0.8,0.74,3,228,3,0,0,0,technical,medium\\n0.52,0.63,3,204,3,0,0,0,technical,medium\\n0.69,0.55,3,172,2,0,0,0,technical,medium\\n0.6,0.62,5,274,3,0,0,0,management,medium\\n0.74,0.64,3,136,2,0,0,0,IT,medium\\n0.69,0.82,4,252,3,1,0,0,IT,medium\\n0.78,0.89,4,137,3,0,0,0,IT,medium\\n0.77,0.75,4,191,3,0,0,0,IT,medium\\n0.91,0.68,4,132,4,0,0,0,IT,medium\\n0.54,0.68,6,249,5,0,0,0,product_mng,medium\\n0.48,0.77,6,274,6,0,0,0,product_mng,medium\\n0.55,0.96,3,194,3,0,0,0,product_mng,medium\\n0.17,0.36,6,191,2,0,0,0,product_mng,medium\\n0.77,0.83,5,216,4,0,0,0,IT,medium\\n0.93,0.98,3,241,3,0,0,0,IT,medium\\n0.65,0.91,4,243,5,1,0,0,IT,medium\\n0.67,0.52,4,207,3,0,0,0,IT,medium\\n0.95,0.88,3,199,3,0,0,0,IT,medium\\n0.61,0.97,6,286,4,0,0,0,product_mng,medium\\n0.57,0.39,4,132,3,0,0,0,product_mng,high\\n0.65,1,4,229,4,0,0,0,product_mng,low\\n0.85,0.81,4,260,3,0,0,0,product_mng,medium\\n0.61,0.96,3,214,2,0,0,0,IT,medium\\n0.65,0.9,6,217,4,1,0,1,RandD,medium\\n0.92,0.93,4,225,2,0,0,1,RandD,medium\\n0.37,0.41,2,113,3,0,0,1,RandD,medium\\n0.48,0.77,5,250,2,0,0,1,RandD,medium\\n0.82,0.91,5,271,2,0,0,1,RandD,medium\\n0.84,0.75,4,135,3,0,0,1,RandD,medium\\n0.57,0.46,2,100,6,1,0,1,marketing,medium\\n0.8,0.75,4,224,3,0,0,1,sales,medium\\n0.49,0.91,4,134,4,0,0,0,accounting,low\\n0.79,0.82,5,158,2,0,0,0,support,low\\n0.48,0.67,3,183,2,0,0,0,technical,low\\n0.28,0.89,4,97,6,0,0,0,management,low\\n0.47,0.56,4,226,3,0,0,0,marketing,low\\n0.91,0.6,4,235,4,1,0,0,marketing,low\\n0.75,0.6,4,186,10,1,0,0,marketing,low\\n0.61,0.89,3,242,10,0,0,0,sales,high\\n0.47,0.79,3,284,10,0,0,0,sales,low\\n0.22,0.7,2,274,10,0,0,0,sales,high\\n0.5,0.48,4,130,10,0,0,0,sales,high\\n0.56,0.87,3,146,10,0,0,0,sales,low\\n0.84,0.85,4,207,10,0,0,0,sales,low\\n0.69,0.72,4,210,2,1,0,0,sales,high\\n0.53,0.64,3,143,2,0,0,0,sales,low\\n0.17,0.57,4,116,3,0,0,0,sales,medium\\n0.48,0.71,2,162,3,1,0,0,sales,high\\n0.94,0.51,3,242,3,0,0,0,sales,medium\\n0.77,0.89,4,153,7,0,0,0,sales,medium\\n1,0.72,5,194,7,1,0,0,sales,medium\\n0.49,0.65,4,233,7,0,0,0,sales,medium\\n0.93,0.73,4,283,7,0,0,0,sales,high\\n0.38,0.43,3,188,7,0,0,0,sales,medium\\n0.6,0.54,4,182,6,0,0,0,sales,medium\\n0.5,0.82,2,286,6,0,0,0,sales,medium\\n0.97,0.55,5,212,6,0,0,0,sales,high\\n0.93,0.95,5,176,6,0,0,1,accounting,medium\\n0.5,1,5,264,8,0,0,1,accounting,high\\n0.52,0.84,3,261,8,0,0,1,accounting,low\\n0.5,0.71,4,163,8,0,0,1,hr,medium\\n0.55,0.4,3,139,8,0,0,1,hr,medium\\n0.95,0.84,3,261,8,1,0,1,hr,medium\\n0.48,0.42,2,275,6,1,0,1,hr,medium\\n0.51,0.39,5,132,6,1,0,1,technical,low\\n0.96,0.48,3,202,6,0,0,0,technical,low\\n0.97,0.84,4,177,6,0,0,0,technical,low\\n0.97,0.66,5,234,6,0,0,0,technical,low\\n0.71,0.54,4,188,6,0,0,0,technical,low\\n0.82,0.49,5,203,6,0,0,0,technical,low\\n0.57,1,4,227,10,0,0,0,technical,low\\n0.48,0.93,3,150,10,0,0,0,technical,low\\n0.71,0.64,3,267,3,0,0,0,technical,low\\n0.63,0.61,5,186,10,0,0,0,technical,low\\n0.99,0.84,4,142,10,0,0,0,technical,high\\n0.79,0.83,3,126,10,1,0,0,support,low\\n0.65,0.85,4,201,10,0,0,0,support,low\\n0.7,0.85,4,142,2,0,0,0,support,low\\n0.99,0.94,4,167,4,0,0,0,support,low\\n0.65,0.62,4,258,2,0,0,0,support,high\\n0.92,0.85,3,207,2,0,0,0,support,low\\n0.24,0.5,4,282,4,1,0,0,support,low\\n0.39,0.89,3,188,5,0,0,0,support,low\\n0.82,0.85,3,214,2,0,0,0,support,high\\n0.78,0.89,4,272,2,0,0,0,support,low\\n0.62,0.79,3,259,3,0,0,0,support,medium\\n0.6,0.61,5,191,2,1,0,0,technical,high\\n0.49,0.57,3,192,3,0,0,0,technical,medium\\n0.82,0.82,3,164,3,0,0,0,technical,high\\n0.48,0.81,4,149,2,0,0,0,management,medium\\n0.69,0.56,4,149,3,0,0,0,IT,medium\\n0.4,0.89,2,165,3,0,0,0,IT,medium\\n0.72,0.8,3,222,3,0,0,0,IT,medium\\n0.75,0.84,5,222,3,1,0,0,IT,medium\\n0.5,0.77,3,265,3,0,0,0,IT,medium\\n0.78,0.5,5,247,4,0,0,0,product_mng,medium\\n0.76,0.45,4,147,2,0,0,0,product_mng,medium\\n0.94,0.52,3,273,3,0,0,0,product_mng,high\\n0.24,0.94,6,144,4,0,0,0,product_mng,low\\n0.99,0.66,3,181,2,0,0,0,IT,medium\\n0.67,0.64,3,198,2,1,0,0,management,medium\\n0.76,0.57,5,255,4,0,0,0,management,medium\\n0.76,0.77,4,169,10,0,0,0,management,medium\\n0.55,0.64,4,201,10,1,0,0,management,medium\\n0.74,0.6,4,274,10,1,0,0,management,medium\\n0.81,0.85,4,134,10,1,0,0,management,medium\\n0.98,0.67,3,190,10,0,0,0,IT,medium\\n0.98,0.98,4,170,10,0,0,0,IT,medium\\n0.58,0.91,3,154,10,0,0,0,product_mng,high\\n0.18,0.75,3,142,2,0,0,0,product_mng,low\\n0.57,0.67,5,235,2,0,0,0,product_mng,low\\n0.7,0.62,3,110,3,0,0,0,product_mng,low\\n0.49,0.77,3,211,3,0,0,0,IT,high\\n0.7,0.56,4,214,3,0,0,1,management,medium\\n0.16,0.93,5,210,7,0,0,1,management,medium\\n0.58,0.59,3,207,7,0,0,1,management,medium\\n0.66,0.57,4,161,7,0,0,1,management,medium\\n0.51,0.55,2,102,7,0,0,1,management,medium\\n0.48,0.84,4,186,7,0,0,1,management,medium\\n0.56,0.71,3,211,6,0,0,1,marketing,low\\n0.81,0.62,3,240,6,0,0,1,sales,low\\n0.57,0.7,4,237,6,0,0,0,accounting,low\\n0.66,0.53,3,164,6,0,0,0,support,low\\n0.22,0.91,6,222,8,0,0,0,technical,low\\n0.96,0.71,3,205,8,1,0,0,management,medium\\n0.87,0.88,4,140,8,0,0,0,marketing,medium\\n0.61,0.42,2,103,8,0,0,0,marketing,medium\\n0.66,0.85,3,178,8,1,0,0,marketing,medium\\n0.9,0.51,4,137,6,0,0,0,sales,medium\\n0.64,0.67,3,143,6,0,0,0,sales,medium\\n0.76,0.82,4,170,6,0,0,0,sales,medium\\n0.97,0.41,5,135,6,0,0,0,sales,medium\\n0.69,0.76,3,174,6,0,0,0,sales,medium\\n0.98,0.55,3,166,6,1,0,0,sales,medium\\n0.18,0.61,5,174,6,0,0,0,sales,medium\\n0.62,0.91,3,251,10,0,0,0,sales,medium\\n0.29,0.37,6,187,10,1,0,0,sales,high\\n0.87,0.48,5,170,3,0,0,0,sales,low\\n0.91,0.64,3,241,10,0,0,0,sales,medium\\n0.53,0.79,3,221,10,1,0,0,sales,medium\\n0.69,0.73,4,257,10,1,0,0,sales,medium\\n0.14,0.58,4,275,10,0,0,0,sales,medium\\n0.7,0.77,4,245,2,0,0,0,sales,low\\n0.77,0.75,6,246,6,0,0,0,sales,low\\n0.77,0.76,6,263,6,0,0,0,sales,low\\n0.76,0.99,3,133,4,0,0,0,sales,low\\n0.66,0.49,4,157,3,0,0,0,sales,low\\n0.5,0.95,3,198,4,0,0,0,accounting,low\\n0.57,0.9,5,145,3,0,0,0,accounting,low\\n0.97,0.62,6,118,2,0,0,0,accounting,low\\n0.26,0.99,5,184,5,0,0,0,hr,low\\n0.72,0.62,3,243,2,1,0,0,hr,low\\n0.83,0.93,3,247,2,0,0,0,hr,low\\n0.55,0.4,3,158,3,0,0,0,hr,low\\n0.77,0.74,5,243,2,0,0,0,technical,low\\n0.24,0.63,4,203,5,0,0,0,technical,low\\n0.8,0.96,3,161,3,0,0,0,technical,low\\n0.5,0.59,4,214,3,1,0,0,technical,low\\n0.66,0.59,4,179,3,0,0,0,technical,low\\n0.66,0.77,4,188,2,0,0,0,technical,low\\n0.66,0.81,3,174,3,0,0,0,technical,low\\n0.96,0.83,3,177,4,0,0,0,technical,low\\n0.75,0.94,5,194,4,0,0,0,technical,low\\n0.78,0.77,3,244,2,0,0,0,technical,medium\\n0.57,0.82,4,269,2,0,0,0,technical,medium\\n0.78,0.68,2,159,3,1,0,0,support,medium\\n0.57,0.88,4,140,2,0,0,0,support,medium\\n0.84,0.56,5,224,2,0,0,0,support,medium\\n0.23,0.94,5,242,4,0,0,0,support,medium\\n0.53,0.37,3,180,3,0,0,0,support,medium\\n0.82,0.71,3,150,3,0,0,0,support,medium\\n0.59,0.64,5,269,3,0,0,0,support,medium\\n0.5,0.52,2,178,2,0,0,0,support,medium\\n1,0.74,2,187,3,0,0,0,support,medium\\n0.94,0.61,3,140,2,0,0,0,support,medium\\n0.86,0.61,4,193,2,0,0,0,support,high\\n0.73,0.49,4,243,2,0,0,0,technical,low\\n0.49,0.94,3,144,3,1,0,0,technical,medium\\n0.79,0.73,2,147,2,0,0,0,technical,medium\\n0.83,0.5,6,165,3,0,0,0,management,medium\\n0.85,0.67,3,176,2,0,0,0,IT,medium\\n0.65,0.37,3,170,6,0,0,0,IT,low\\n0.94,0.65,4,213,2,1,0,0,IT,low\\n0.76,0.81,4,242,2,0,0,0,IT,low\\n0.77,0.54,4,139,3,1,0,0,IT,low\\n0.77,0.91,4,239,3,1,0,0,product_mng,low\\n0.59,0.64,5,123,2,0,0,0,product_mng,low\\n0.69,0.9,3,185,4,0,0,0,product_mng,low\\n0.51,0.85,4,186,2,0,0,0,product_mng,low\\n0.8,0.67,3,178,3,0,0,0,IT,low\\n0.98,0.7,3,153,10,0,0,0,management,high\\n0.69,0.72,4,185,10,1,0,0,management,high\\n0.14,0.76,4,142,10,0,0,0,management,high\\n0.95,0.9,4,221,10,1,0,0,management,high\\n0.53,0.61,3,148,10,0,0,0,management,high\\n0.64,0.52,5,258,10,1,0,0,management,high\\n0.51,0.73,4,229,3,0,0,0,sales,low\\n0.36,0.73,2,111,2,0,0,0,sales,low\\n0.62,0.97,2,271,3,0,0,0,sales,low\\n0.98,0.58,4,133,3,0,0,0,sales,low\\n0.53,0.7,4,223,3,0,0,0,sales,low\\n0.8,0.95,4,272,2,0,0,0,sales,low\\n0.73,0.77,3,233,3,0,0,0,sales,medium\\n0.82,0.8,3,162,3,0,0,0,sales,medium\\n0.62,0.75,5,165,4,0,0,0,sales,medium\\n0.87,0.48,5,242,3,0,0,0,sales,medium\\n0.43,0.65,4,124,2,0,0,0,sales,medium\\n0.57,0.6,2,163,3,0,0,0,sales,medium\\n0.91,0.77,3,144,3,0,0,0,sales,medium\\n0.75,0.59,5,149,4,0,0,0,sales,medium\\n0.76,0.8,5,217,2,0,0,0,sales,medium\\n0.85,0.49,4,139,2,0,0,0,sales,medium\\n0.56,0.67,3,270,2,0,0,0,sales,medium\\n0.86,0.84,3,177,3,0,0,0,sales,medium\\n0.21,0.43,5,175,2,1,0,0,sales,high\\n0.94,0.59,3,151,2,0,0,0,sales,low\\n0.98,0.74,3,185,3,0,0,0,sales,medium\\n0.42,0.45,3,227,3,0,0,0,sales,medium\\n0.98,0.89,4,218,2,0,0,0,sales,medium\\n1,0.93,5,167,3,0,0,0,sales,medium\\n0.95,0.52,3,183,2,1,0,0,sales,low\\n0.95,0.5,4,259,3,0,0,0,sales,low\\n0.68,0.53,3,138,2,1,0,0,sales,low\\n0.64,0.38,5,122,4,0,0,0,sales,low\\n0.24,0.62,6,225,6,0,0,0,sales,low\\n0.37,0.72,3,121,2,0,0,0,sales,low\\n0.67,0.4,4,274,3,0,0,0,sales,low\\n0.86,0.89,4,153,4,0,0,0,sales,low\\n0.43,0.38,3,119,2,0,0,0,sales,low\\n0.67,0.67,4,141,2,1,0,0,sales,low\\n0.92,0.6,4,161,3,0,0,0,IT,low\\n0.43,0.46,2,186,2,0,0,0,product_mng,low\\n0.52,0.8,3,252,4,0,0,0,product_mng,low\\n0.16,0.42,3,182,3,1,0,0,product_mng,low\\n0.49,0.6,4,264,2,1,0,0,product_mng,low\\n0.37,0.63,4,167,3,0,0,0,IT,low\\n0.98,0.68,5,171,3,0,0,0,management,high\\n0.33,0.97,5,130,4,0,0,0,management,high\\n0.14,0.79,5,271,4,0,0,0,management,high\\n0.54,0.79,5,249,3,1,0,0,management,high\\n0.63,0.48,4,180,4,0,0,0,management,high\\n0.55,0.69,4,220,3,1,0,0,management,high\\n0.84,0.53,3,210,4,1,0,0,marketing,medium\\n0.51,0.97,4,258,2,0,0,0,sales,medium\\n0.15,0.75,3,150,4,0,0,1,accounting,medium\\n0.97,0.79,5,259,3,0,0,1,support,medium\\n0.67,0.69,3,231,3,0,0,1,technical,medium\\n0.48,0.67,4,220,3,0,0,1,management,medium\\n0.69,0.58,4,149,3,0,0,1,marketing,medium\\n0.6,0.62,3,238,4,0,0,1,marketing,medium\\n0.82,0.71,2,209,5,0,0,1,marketing,medium\\n0.86,0.95,4,149,3,0,0,1,sales,medium\\n0.69,0.59,4,264,3,0,0,0,sales,medium\\n0.87,0.87,5,207,2,0,0,0,sales,high\\n0.17,0.78,3,239,6,0,0,0,sales,low\\n0.94,0.51,6,239,5,0,0,0,sales,medium\\n0.5,1,4,258,3,0,0,0,sales,medium\\n0.16,0.72,3,203,3,0,0,0,sales,medium\\n0.89,0.99,2,258,3,0,0,0,sales,medium\\n0.69,0.51,3,257,3,1,0,0,IT,low\\n0.5,0.51,5,134,3,0,0,0,product_mng,low\\n0.16,0.46,6,240,2,0,0,0,product_mng,low\\n0.75,0.99,2,237,5,1,0,0,product_mng,low\\n0.64,0.66,5,157,2,0,0,0,product_mng,low\\n0.78,0.43,4,275,3,0,0,0,IT,low\\n0.81,0.74,2,228,3,0,0,0,management,high\\n0.55,0.58,3,254,2,0,0,0,management,high\\n0.53,0.53,4,257,2,0,0,0,management,high\\n0.69,0.73,3,231,2,1,0,0,management,high\\n0.8,0.53,3,217,3,0,0,0,management,high\\n0.77,0.98,3,286,6,0,0,0,management,high\\n0.84,0.8,4,236,3,0,0,0,marketing,low\\n0.64,0.55,4,215,2,0,0,0,sales,low\\n0.78,0.57,4,157,3,0,0,0,accounting,low\\n0.67,0.7,3,149,3,0,0,0,support,low\\n0.81,0.77,3,221,2,0,0,0,technical,low\\n0.91,0.82,4,238,2,0,0,0,management,low\\n0.75,0.89,6,250,2,0,0,0,marketing,medium\\n0.78,0.96,3,202,4,1,0,0,marketing,medium\\n0.54,0.52,4,173,2,0,0,0,marketing,medium\\n0.77,0.71,5,250,3,1,0,0,sales,medium\\n0.89,0.63,4,270,3,1,0,0,sales,medium\\n0.16,0.98,3,232,5,0,0,0,sales,medium\\n0.77,0.99,4,260,3,0,0,0,sales,medium\\n0.69,0.48,5,232,4,0,0,0,sales,medium\\n0.61,0.81,4,134,3,0,0,0,sales,medium\\n0.59,0.81,4,189,3,0,0,0,sales,medium\\n0.58,0.8,4,113,3,0,0,0,IT,medium\\n0.88,0.67,5,264,3,0,0,0,product_mng,medium\\n0.51,0.63,5,260,2,0,0,0,product_mng,high\\n0.31,0.7,3,132,3,0,0,0,product_mng,low\\n0.52,0.52,4,168,3,0,0,0,product_mng,medium\\n0.57,0.46,3,186,3,1,0,0,IT,medium\\n0.5,0.77,3,267,2,0,0,0,management,high\\n0.74,0.63,3,180,3,0,0,0,management,high\\n0.74,0.77,3,211,3,0,0,0,management,high\\n0.82,0.51,2,268,2,0,0,0,management,high\\n0.74,0.71,3,206,3,0,0,0,management,high\\n0.2,0.59,6,113,3,0,0,0,management,high\\n0.63,0.48,4,179,3,0,0,0,marketing,low\\n0.19,0.8,6,157,6,1,0,0,sales,low\\n0.4,0.62,4,127,5,0,0,0,accounting,low\\n0.71,0.37,2,179,5,0,0,1,support,low\\n0.84,0.73,4,197,3,0,0,1,technical,low\\n0.59,0.84,4,251,4,1,0,1,management,low\\n0.57,0.85,4,250,3,1,0,1,marketing,low\\n0.81,0.61,2,176,5,0,0,1,marketing,low\\n0.8,0.7,4,246,3,0,0,1,marketing,low\\n0.49,0.66,3,155,3,0,0,1,sales,low\\n0.55,0.64,3,178,2,0,0,1,sales,low\\n0.68,0.4,3,213,5,1,0,1,sales,low\\n0.55,0.67,3,150,2,0,0,1,sales,low\\n0.59,0.62,3,166,2,0,0,0,sales,low\\n0.91,0.8,5,169,4,0,0,0,sales,low\\n0.48,0.9,4,208,3,0,0,0,sales,low\\n0.84,0.66,3,209,2,0,0,0,sales,low\\n0.73,0.54,4,167,3,0,0,0,IT,medium\\n0.28,0.59,6,281,3,0,0,0,product_mng,medium\\n0.77,0.65,3,156,4,0,0,0,product_mng,medium\\n0.67,0.65,3,265,3,0,0,0,product_mng,medium\\n0.5,0.53,3,142,3,1,0,0,product_mng,medium\\n0.32,0.47,3,143,4,0,0,0,IT,medium\\n0.57,0.78,3,134,3,0,0,0,RandD,medium\\n0.51,0.8,5,268,3,0,0,0,RandD,medium\\n0.61,0.6,3,255,2,0,0,0,RandD,medium\\n0.83,0.73,4,157,2,0,0,0,RandD,medium\\n0.87,0.97,5,151,3,0,0,0,RandD,medium\\n0.7,0.63,3,157,2,0,0,0,RandD,medium\\n0.78,0.65,3,139,3,0,0,0,marketing,high\\n0.71,0.53,4,196,2,1,0,0,sales,low\\n0.68,0.99,3,159,2,0,0,0,accounting,medium\\n0.75,0.53,4,224,4,1,0,0,support,medium\\n0.7,0.53,3,215,7,1,0,0,technical,medium\\n0.59,0.94,5,157,7,1,0,0,management,medium\\n0.64,0.87,4,157,7,0,0,0,marketing,low\\n0.61,0.88,5,146,7,1,0,0,marketing,low\\n0.77,0.49,2,286,7,0,0,0,marketing,low\\n0.51,0.64,3,203,3,0,0,0,sales,low\\n0.49,0.49,3,168,7,0,0,0,sales,low\\n0.77,0.75,3,170,7,0,0,0,sales,low\\n0.31,0.86,3,266,7,0,0,0,sales,low\\n0.54,0.76,3,183,3,0,0,0,sales,low\\n0.56,0.66,4,264,3,0,0,0,sales,low\\n0.65,0.77,4,205,3,0,0,0,sales,low\\n0.49,0.36,2,192,3,0,0,0,sales,low\\n0.82,0.79,3,176,3,0,0,0,technical,low\\n0.6,0.52,3,183,2,0,0,0,support,low\\n0.64,0.63,3,156,6,1,0,0,support,low\\n0.7,0.68,3,150,3,0,0,0,support,low\\n0.65,0.89,4,204,8,1,0,0,support,low\\n0.69,0.78,5,131,8,0,0,0,support,low\\n0.93,0.74,5,248,8,1,0,0,support,low\\n0.55,0.52,4,168,8,0,0,0,support,low\\n0.75,0.87,4,146,8,1,0,0,support,low\\n0.47,0.43,4,246,3,0,0,0,support,low\\n0.72,0.88,5,216,10,1,0,0,support,medium\\n0.59,0.92,3,203,10,0,0,0,support,medium\\n0.98,0.49,3,199,10,0,0,0,technical,medium\\n0.39,0.52,2,102,8,0,0,0,technical,medium\\n0.93,0.87,4,139,8,0,0,0,technical,medium\\n0.71,0.97,5,208,8,1,0,0,management,medium\\n0.49,0.54,4,215,4,0,0,0,IT,medium\\n0.63,0.93,4,233,3,0,0,0,IT,medium\\n0.45,0.64,3,169,10,0,0,0,IT,medium\\n0.77,0.64,3,190,10,1,0,0,IT,medium\\n0.77,0.63,4,236,7,0,0,0,IT,medium\\n0.5,0.92,4,266,7,0,0,0,product_mng,medium\\n0.45,0.42,4,156,7,0,0,0,product_mng,high\\n0.81,0.47,4,153,7,0,0,0,product_mng,low\\n0.83,0.67,3,175,3,0,0,0,product_mng,medium\\n0.47,0.76,6,174,10,0,0,0,IT,medium\\n0.25,0.89,4,154,10,0,0,0,management,high\\n0.89,0.55,5,251,10,0,0,0,management,high\\n0.97,0.57,3,164,10,0,0,0,management,high\\n0.6,0.65,2,225,10,0,0,0,management,high\\n0.67,0.72,2,134,10,0,0,0,management,high\\n0.89,0.77,3,144,3,0,0,0,management,high\\n0.6,0.91,5,211,3,0,0,0,sales,low\\n0.64,0.79,4,139,3,0,0,0,sales,low\\n0.57,0.66,3,268,3,0,0,0,sales,low\\n0.56,0.98,5,171,3,1,0,0,sales,low\\n0.6,0.9,4,260,2,0,0,0,sales,medium\\n0.17,0.66,6,224,3,0,0,0,sales,medium\\n0.74,0.49,4,233,3,0,0,0,sales,medium\\n0.44,0.41,3,125,7,0,0,0,sales,medium\\n0.51,0.89,4,233,7,0,0,0,sales,medium\\n0.86,0.57,3,162,7,0,0,0,sales,medium\\n0.96,0.48,4,198,7,0,0,0,sales,medium\\n0.87,0.82,4,198,7,0,0,0,sales,medium\\n0.58,0.79,3,243,3,1,0,0,sales,medium\\n0.24,0.56,4,281,7,0,0,0,sales,medium\\n0.42,0.8,4,259,7,1,0,0,sales,medium\\n0.65,0.94,4,184,7,0,0,0,sales,medium\\n0.73,0.92,6,189,3,1,0,0,sales,medium\\n0.63,0.6,4,258,3,0,0,0,sales,medium\\n0.95,0.48,4,225,3,0,0,0,sales,medium\\n0.52,0.83,5,145,3,0,0,0,sales,medium\\n0.96,0.55,3,164,3,0,0,0,sales,medium\\n0.66,0.51,4,254,2,0,0,0,sales,medium\\n0.98,0.44,4,154,6,1,0,0,sales,medium\\n0.56,0.79,5,248,3,0,0,0,sales,medium\\n0.97,0.54,3,154,8,1,0,0,sales,medium\\n0.72,0.92,3,242,8,0,0,0,sales,medium\\n0.74,0.78,4,194,8,0,0,0,sales,medium\\n0.2,0.6,5,261,8,0,0,0,sales,medium\\n0.73,0.56,3,245,8,0,0,0,sales,medium\\n0.76,0.79,3,247,3,0,0,0,sales,low\\n0.65,0.54,4,147,10,0,0,0,sales,low\\n0.66,0.5,3,139,10,1,0,0,sales,low\\n0.96,0.97,6,137,10,0,0,0,sales,low\\n0.57,0.55,4,177,8,0,0,0,sales,low\\n0.61,0.82,4,184,8,0,0,0,IT,low\\n0.57,0.69,3,212,8,0,0,0,product_mng,low\\n0.59,0.47,3,159,4,0,0,0,product_mng,low\\n0.92,0.68,4,178,3,0,0,0,product_mng,low\\n0.79,0.56,3,149,10,0,0,0,product_mng,low\\n0.95,0.66,4,223,10,0,0,0,IT,low\\n0.24,0.81,6,263,7,0,0,0,management,high\\n0.49,0.52,4,161,7,0,0,0,management,high\\n0.49,0.68,3,192,7,0,0,0,management,high\\n0.97,0.51,5,215,7,0,0,0,management,high\\n0.55,0.78,4,261,3,0,0,0,management,high\\n0.76,0.56,5,222,10,0,0,0,management,high\\n0.53,0.99,3,223,10,0,0,0,marketing,low\\n0.51,0.86,3,182,10,0,0,0,sales,low\\n0.57,0.93,2,204,10,0,0,0,accounting,low\\n0.58,0.91,3,195,10,0,0,0,support,low\\n0.6,0.98,4,146,10,0,0,0,technical,low\\n0.65,0.74,4,233,4,1,0,0,management,low\\n0.91,0.75,2,147,3,0,0,0,marketing,low\\n0.65,0.55,3,156,5,0,0,0,marketing,low\\n0.18,0.49,3,240,2,1,0,0,marketing,low\\n0.66,0.9,4,177,7,0,0,0,sales,low\\n0.78,0.8,3,135,7,0,0,0,sales,medium\\n0.82,0.65,5,178,7,1,0,0,sales,medium\\n0.54,0.64,3,190,7,0,0,0,sales,medium\\n0.95,0.84,3,240,7,0,0,0,sales,medium\\n0.65,0.85,4,172,3,0,0,0,sales,medium\\n0.83,0.55,3,271,7,0,0,0,sales,medium\\n0.15,0.6,5,188,7,0,0,0,sales,medium\\n0.59,0.59,4,197,7,0,0,0,IT,medium\\n0.99,0.94,5,151,3,0,0,0,product_mng,medium\\n0.76,0.72,3,263,3,0,0,0,product_mng,medium\\n0.64,0.67,2,223,3,0,0,0,product_mng,medium\\n0.95,0.75,4,151,3,0,0,0,product_mng,medium\\n0.53,0.66,3,191,3,0,0,0,IT,high\\n0.59,0.5,2,162,2,0,0,0,management,high\\n0.69,0.86,5,195,6,0,0,0,management,high\\n0.5,0.49,4,222,3,0,0,0,management,high\\n0.89,0.96,3,179,8,0,0,0,management,high\\n0.56,0.39,3,106,8,0,0,0,management,high\\n0.77,0.68,3,214,8,1,0,0,management,high\\n0.15,0.75,3,259,8,1,0,0,marketing,high\\n0.88,0.58,3,145,8,0,0,0,sales,low\\n0.89,0.86,4,153,3,0,0,0,accounting,low\\n0.65,0.52,2,117,10,1,0,0,support,low\\n0.58,0.99,3,207,10,0,0,0,technical,low\\n0.56,0.85,3,265,10,1,0,0,management,low\\n0.25,0.72,5,279,8,0,0,0,marketing,low\\n0.87,0.89,4,225,8,0,0,0,marketing,low\\n0.62,0.4,3,158,8,1,0,0,marketing,low\\n0.72,0.75,4,211,4,0,0,0,sales,medium\\n0.49,0.94,4,175,3,0,0,0,sales,medium\\n0.57,0.91,4,224,10,0,0,0,sales,medium\\n0.63,0.65,3,190,10,0,0,0,sales,medium\\n0.91,0.63,5,240,7,0,0,0,sales,medium\\n0.7,0.68,5,225,7,0,0,0,sales,medium\\n0.66,0.95,5,192,7,0,0,0,sales,medium\\n0.77,0.48,5,262,7,0,0,0,IT,medium\\n0.68,0.97,3,250,3,1,0,0,product_mng,medium\\n0.34,0.46,3,155,10,0,0,0,product_mng,medium\\n0.97,0.64,4,238,10,1,0,0,product_mng,medium\\n0.57,0.75,4,249,10,0,0,0,product_mng,medium\\n0.66,0.65,3,272,10,0,0,0,IT,medium\\n0.68,0.67,4,162,10,0,0,0,management,high\\n0.49,0.78,4,254,10,0,0,0,management,high\\n0.72,0.66,4,184,3,0,0,0,management,high\\n0.77,0.89,4,269,10,0,0,0,management,high\\n0.77,0.73,3,201,10,0,0,0,management,high\\n0.59,0.73,4,247,10,0,0,0,management,high\\n0.41,0.67,6,221,10,0,0,0,marketing,medium\\n0.94,0.64,5,247,10,0,0,0,sales,medium\\n0.91,0.61,4,135,10,0,0,0,accounting,medium\\n0.7,0.84,3,260,4,1,0,0,support,medium\\n0.51,0.52,3,188,3,0,0,0,technical,high\\n0.22,0.7,4,159,5,0,0,0,management,low\\n0.69,0.65,3,153,2,0,0,0,marketing,medium\\n0.2,0.68,5,167,7,0,0,0,marketing,medium\\n0.9,0.85,3,158,7,0,0,0,marketing,medium\\n0.76,0.85,3,180,7,0,0,0,sales,medium\\n0.88,0.51,3,211,7,0,0,0,sales,medium\\n0.31,0.63,4,104,7,1,0,0,sales,medium\\n0.17,0.66,6,174,3,0,0,0,sales,medium\\n0.91,0.77,3,195,7,0,0,0,sales,medium\\n0.97,0.38,5,211,7,1,0,0,sales,medium\\n0.61,0.77,5,232,7,0,0,0,sales,medium\\n0.74,0.67,5,216,3,0,0,0,sales,low\\n0.65,0.82,5,265,3,0,0,0,IT,low\\n0.87,0.73,5,184,3,0,0,0,product_mng,low\\n0.56,0.71,5,244,3,0,0,0,product_mng,low\\n0.78,0.69,4,202,3,0,0,0,product_mng,low\\n0.73,0.57,3,146,2,0,0,0,product_mng,low\\n0.66,0.78,4,161,6,0,0,0,IT,low\\n0.15,0.81,5,280,3,1,0,0,RandD,high\\n0.52,0.69,5,208,8,1,0,0,RandD,low\\n0.44,0.66,6,134,8,0,0,0,RandD,high\\n0.7,0.7,3,162,8,0,0,0,RandD,high\\n0.63,0.52,5,209,8,1,0,0,RandD,low\\n0.89,0.59,3,265,8,0,0,0,RandD,low\\n0.96,0.85,4,173,3,0,0,0,marketing,high\\n0.98,0.99,4,261,10,1,0,0,sales,low\\n0.62,0.82,3,204,10,0,0,0,accounting,medium\\n0.62,0.73,3,144,10,1,0,0,support,high\\n0.69,0.43,5,113,8,0,0,0,technical,medium\\n0.5,0.91,4,144,8,0,0,0,management,medium\\n0.71,0.93,5,140,8,0,0,0,marketing,medium\\n0.5,0.68,3,245,4,0,0,0,marketing,medium\\n0.93,0.6,3,188,3,0,0,0,marketing,high\\n0.95,0.77,5,199,10,1,0,0,sales,medium\\n0.17,0.61,6,154,10,1,0,0,sales,medium\\n0.92,0.68,4,138,7,0,0,0,sales,medium\\n0.64,0.48,3,147,7,0,0,0,sales,high\\n0.27,0.42,6,173,7,0,0,0,sales,medium\\n0.66,0.87,3,223,7,0,0,0,sales,high\\n0.59,0.69,3,200,3,0,0,0,sales,low\\n0.93,0.98,4,189,10,0,0,0,sales,medium\\n0.58,0.67,5,133,10,0,0,0,technical,medium\\n0.96,0.6,3,160,10,0,0,0,support,medium\\n0.69,0.85,3,153,10,0,0,0,support,medium\\n0.41,0.38,4,142,10,1,0,0,support,low\\n0.36,0.41,3,167,10,0,0,0,support,low\\n0.71,0.78,4,227,2,0,0,0,support,low\\n0.94,0.9,4,144,4,0,0,0,support,low\\n0.51,0.76,4,140,3,0,0,0,support,low\\n0.83,0.48,4,220,3,1,0,0,support,low\\n0.22,0.62,3,180,3,0,0,0,support,low\\n0.66,0.89,4,173,4,0,0,0,support,low\\n0.14,0.58,3,179,5,0,0,0,support,low\\n0.16,0.96,5,137,5,1,0,0,technical,low\\n0.81,0.78,3,165,3,0,0,0,technical,high\\n0.73,0.94,3,177,3,0,0,0,technical,low\\n0.7,0.58,5,168,3,0,0,0,management,low\\n0.62,0.73,3,245,4,0,0,0,IT,low\\n0.5,0.83,5,258,2,0,0,0,IT,low\\n0.7,0.88,3,159,2,0,0,0,IT,high\\n0.53,0.73,3,163,3,1,0,0,IT,low\\n0.87,0.9,3,174,2,0,0,0,IT,low\\n0.59,0.6,3,214,2,1,0,0,product_mng,low\\n0.94,0.67,4,191,3,1,0,0,product_mng,high\\n0.2,0.53,5,272,5,0,0,0,product_mng,low\\n0.42,0.44,3,183,2,0,0,0,product_mng,medium\\n0.43,0.66,4,135,2,0,0,0,IT,high\\n0.43,0.76,6,154,2,0,0,0,management,high\\n0.77,0.86,5,238,3,0,0,0,management,high\\n0.76,0.98,2,235,3,0,0,0,management,high\\n0.82,0.9,3,215,4,0,0,0,management,high\\n0.75,0.66,5,234,2,0,0,0,management,high\\n0.63,0.98,4,187,3,0,0,0,management,high\\n0.51,0.75,3,133,3,0,0,0,sales,medium\\n0.23,0.7,3,123,5,0,0,0,sales,medium\\n0.77,0.58,4,202,3,0,0,0,sales,medium\\n0.54,0.63,4,140,3,0,0,0,sales,medium\\n0.63,0.85,4,182,3,1,0,0,sales,high\\n0.55,0.45,3,179,2,1,0,0,sales,low\\n0.31,0.63,3,150,3,1,0,0,sales,medium\\n0.98,0.74,4,151,3,0,0,0,sales,medium\\n0.16,0.95,6,117,7,0,0,0,sales,medium\\n0.54,0.78,3,156,7,0,0,0,sales,medium\\n0.73,0.48,3,211,7,0,0,0,sales,medium\\n0.16,0.63,6,286,7,0,0,1,sales,medium\\n0.57,0.82,5,233,7,0,0,1,sales,medium\\n0.88,0.88,4,222,3,1,0,1,sales,medium\\n0.95,0.81,4,258,7,0,0,1,sales,medium\\n0.93,0.7,5,231,7,0,0,1,sales,high\\n0.91,0.58,3,220,7,0,0,1,sales,low\\n0.77,0.82,4,134,3,0,0,1,sales,low\\n0.24,0.94,6,141,3,1,0,0,sales,low\\n0.74,0.74,5,160,3,1,0,0,sales,high\\n0.53,0.59,4,259,3,0,0,0,sales,low\\n0.89,0.77,5,232,3,0,0,0,sales,low\\n0.23,0.77,5,272,2,0,0,0,sales,low\\n0.69,0.66,3,215,6,0,0,0,sales,high\\n0.52,0.72,4,222,3,0,0,0,sales,low\\n0.9,0.58,3,244,8,0,0,0,sales,low\\n0.92,0.63,5,224,8,1,0,0,sales,low\\n0.72,0.59,5,200,8,1,0,0,sales,low\\n0.92,0.61,4,143,8,0,0,0,sales,low\\n0.79,0.86,5,238,8,0,0,0,sales,low\\n0.48,0.89,4,145,3,0,0,0,sales,low\\n0.27,0.76,4,108,10,0,0,0,sales,medium\\n0.67,0.49,3,247,10,0,0,0,sales,medium\\n0.48,0.7,3,213,10,0,0,0,sales,medium\\n0.99,0.6,4,209,8,1,0,0,IT,medium\\n0.49,0.88,4,240,8,0,0,0,product_mng,medium\\n0.39,0.45,3,100,8,1,0,0,product_mng,medium\\n0.99,0.92,4,265,4,1,0,0,product_mng,medium\\n0.78,0.57,3,209,3,0,0,0,product_mng,medium\\n0.5,0.73,3,154,10,0,0,0,IT,medium\\n0.61,0.79,5,230,10,0,0,0,management,high\\n0.88,0.6,4,208,7,0,0,1,management,high\\n0.44,0.44,2,141,7,1,0,1,management,high\\n0.73,0.78,3,262,7,1,0,1,management,high\\n0.58,0.84,4,206,7,0,0,1,management,high\\n0.74,0.98,3,166,3,1,0,1,management,high\\n0.32,0.48,4,117,10,0,0,1,marketing,medium\\n0.88,0.83,4,273,10,0,0,0,sales,medium\\n0.81,0.9,4,270,10,0,0,0,accounting,medium\\n0.59,0.92,3,138,10,0,0,0,support,low\\n0.79,0.65,3,235,10,0,0,0,technical,low\\n0.92,0.64,4,190,10,1,0,0,management,low\\n0.76,0.85,3,192,3,0,0,0,marketing,low\\n0.91,0.65,5,214,3,1,0,0,marketing,low\\n0.8,0.84,4,242,2,1,0,0,marketing,low\\n0.73,0.72,4,233,2,0,0,0,sales,low\\n0.88,0.53,3,218,4,0,0,0,sales,low\\n0.65,0.4,5,125,4,0,0,0,sales,low\\n0.84,0.5,4,178,2,0,0,0,sales,low\\n0.93,0.5,5,272,3,0,0,0,sales,low\\n0.64,0.6,3,265,4,0,0,0,sales,low\\n0.66,0.72,4,271,3,0,0,0,sales,low\\n0.76,0.56,3,179,3,1,0,0,sales,low\\n0.34,0.72,3,118,4,0,0,0,IT,low\\n0.48,0.8,4,196,5,0,0,0,product_mng,low\\n0.79,0.61,4,173,2,0,0,0,product_mng,low\\n0.82,0.67,4,156,3,0,0,0,product_mng,low\\n0.51,0.71,2,180,3,0,0,0,product_mng,low\\n0.84,0.78,4,263,3,0,0,0,IT,low\\n0.66,0.79,5,134,3,0,0,0,management,high\\n0.72,0.88,3,189,3,1,0,0,management,high\\n0.53,0.91,4,167,4,0,0,0,management,high\\n0.81,0.8,5,132,2,1,0,0,management,high\\n0.58,0.9,3,209,2,0,0,0,management,high\\n0.82,0.56,2,227,5,1,0,0,management,high\\n0.72,0.99,4,239,3,0,0,0,marketing,medium\\n0.9,0.54,4,172,4,0,0,0,sales,medium\\n0.98,0.91,3,188,4,0,0,0,accounting,medium\\n0.56,0.74,3,265,3,0,0,0,support,medium\\n0.77,0.82,3,153,3,1,0,0,technical,medium\\n0.61,0.89,4,242,2,0,0,0,management,medium\\n0.97,0.61,4,262,3,1,0,1,marketing,medium\\n0.64,0.55,3,246,2,0,0,1,marketing,high\\n0.99,0.97,4,211,2,0,0,1,marketing,low\\n0.61,0.42,3,145,4,0,0,1,sales,medium\\n0.72,0.71,4,256,3,0,0,1,sales,medium\\n0.67,0.91,2,245,2,1,0,1,sales,medium\\n0.9,0.56,3,151,3,0,0,0,sales,medium\\n0.9,0.73,4,245,2,0,0,0,sales,low\\n0.63,0.61,4,171,3,0,0,0,sales,low\\n0.64,0.88,3,252,2,0,0,0,sales,low\\n0.44,0.65,3,175,2,0,0,0,IT,low\\n0.64,0.94,4,210,3,0,0,0,product_mng,low\\n0.65,0.95,2,180,2,0,0,0,product_mng,low\\n0.69,0.9,5,103,5,0,0,0,product_mng,low\\n0.93,0.51,4,110,3,0,0,0,product_mng,low\\n0.73,0.9,5,184,3,0,0,0,IT,low\\n0.83,0.6,4,161,2,0,0,0,management,high\\n0.82,0.49,5,210,3,0,0,0,management,high\\n0.39,0.91,2,212,2,0,0,0,management,high\\n0.53,0.47,6,106,6,0,0,0,management,high\\n0.88,0.81,4,179,3,0,0,0,management,high\\n0.8,0.6,5,217,3,0,0,0,management,high\\n0.68,0.79,4,184,3,0,0,0,marketing,low\\n0.66,0.6,3,210,2,0,0,0,sales,low\\n0.61,0.61,4,246,2,0,0,0,accounting,low\\n0.74,0.55,4,262,3,0,0,0,support,low\\n0.61,0.83,4,245,3,1,0,1,technical,low\\n0.57,0.99,3,222,3,1,0,1,management,low\\n0.68,0.54,4,146,4,0,0,1,marketing,medium\\n0.75,0.79,4,263,3,0,0,1,marketing,medium\\n0.29,0.57,5,134,2,0,0,1,marketing,medium\\n0.81,0.81,5,250,4,0,0,1,sales,medium\\n0.53,0.68,4,173,3,0,0,0,sales,medium\\n0.42,0.96,6,173,3,0,0,0,sales,medium\\n0.64,0.67,4,252,3,1,0,0,sales,medium\\n0.63,0.5,2,230,4,0,0,0,sales,medium\\n0.81,0.81,4,212,2,1,0,0,sales,medium\\n0.71,0.66,5,187,2,0,0,0,sales,medium\\n0.7,0.83,5,241,2,0,0,0,sales,medium\\n0.53,1,3,164,4,0,0,0,IT,medium\\n0.16,0.93,6,218,6,1,0,0,product_mng,high\\n0.17,0.55,4,194,3,0,0,0,product_mng,low\\n0.7,0.95,3,158,2,0,0,0,product_mng,medium\\n0.43,0.88,2,149,4,0,0,0,product_mng,medium\\n0.49,0.62,4,161,2,0,0,0,IT,medium\\n0.5,0.9,5,226,2,0,0,0,management,high\\n0.57,0.59,2,111,2,0,0,0,management,high\\n0.68,0.75,4,258,3,0,0,0,management,high\\n0.62,0.61,3,266,2,0,0,0,management,high\\n0.69,0.75,3,253,3,0,0,0,management,high\\n0.63,0.7,5,160,3,0,0,0,management,high\\n0.76,0.62,5,230,3,1,0,0,marketing,low\\n0.62,0.76,5,198,3,0,0,0,sales,low\\n0.82,0.69,3,250,3,0,0,0,accounting,low\\n0.2,0.7,4,225,5,0,0,0,support,low\\n0.16,0.7,3,178,3,1,0,0,technical,low\\n0.2,0.78,4,196,3,0,0,0,management,low\\n0.53,0.51,4,240,2,0,0,0,marketing,low\\n0.71,0.63,3,204,3,0,0,0,marketing,low\\n0.7,0.93,3,250,3,0,0,0,marketing,low\\n0.92,0.94,2,224,2,0,0,0,sales,low\\n0.81,0.92,4,268,3,0,0,0,sales,low\\n0.79,0.62,5,167,3,0,0,0,sales,low\\n0.53,0.64,3,168,3,0,0,0,sales,low\\n0.51,0.56,4,168,2,0,0,0,sales,low\\n0.78,0.9,5,158,3,0,0,0,sales,low\\n0.5,0.91,3,240,3,0,0,0,sales,low\\n0.92,1,4,261,4,0,0,0,sales,medium\\n0.59,0.54,4,176,2,0,0,0,technical,medium\\n0.77,0.55,3,217,3,0,0,0,support,medium\\n0.74,0.87,5,224,2,0,0,0,support,medium\\n0.67,0.97,4,196,3,0,0,0,support,medium\\n0.56,0.59,3,223,3,0,0,0,support,medium\\n0.84,0.44,5,131,5,1,0,0,support,medium\\n0.53,0.77,2,167,2,0,0,0,support,medium\\n0.86,0.71,5,273,3,0,0,0,support,medium\\n0.77,0.68,3,98,3,0,0,0,support,medium\\n0.97,0.94,4,253,3,0,0,0,support,medium\\n0.69,0.87,5,174,3,0,0,0,support,medium\\n0.73,0.9,3,274,2,0,0,0,support,high\\n0.42,0.47,6,174,5,0,0,0,technical,low\\n0.4,0.47,5,173,5,0,0,0,technical,medium\\n0.33,0.41,2,198,4,0,0,0,technical,medium\\n0.68,0.66,3,238,2,0,0,0,management,medium\\n0.78,0.8,3,256,2,0,0,0,IT,medium\\n0.92,0.6,3,179,2,0,0,0,IT,low\\n0.66,0.66,4,273,4,1,0,0,IT,low\\n0.6,0.45,3,104,4,0,0,0,IT,low\\n0.86,0.83,4,208,3,1,0,0,IT,low\\n0.61,0.49,3,275,2,0,0,0,product_mng,low\\n0.71,0.68,3,231,2,1,0,0,product_mng,low\\n0.86,0.62,4,186,3,0,0,0,product_mng,low\\n0.96,0.59,3,241,3,0,0,0,product_mng,low\\n0.7,0.54,3,194,2,1,0,0,IT,low\\n0.38,0.49,4,196,3,0,0,1,management,high\\n0.39,0.75,6,185,3,0,0,1,management,high\\n0.49,0.4,2,148,2,1,0,1,management,high\\n0.78,0.62,4,150,3,0,0,1,management,high\\n0.74,0.79,5,121,5,0,0,1,management,high\\n0.82,0.76,4,266,3,0,0,1,management,high\\n0.6,0.42,2,109,6,0,0,0,sales,low\\n0.72,0.99,3,143,4,0,0,0,sales,low\\n0.73,0.97,3,174,3,0,0,0,sales,low\\n0.89,0.55,4,159,2,0,0,0,sales,medium\\n0.74,0.94,4,157,2,0,0,0,sales,medium\\n0.83,0.57,2,222,2,0,0,0,sales,medium\\n0.24,0.88,5,199,5,1,0,0,sales,medium\\n0.93,0.89,3,255,7,1,0,0,sales,medium\\n0.96,0.62,4,253,7,0,0,0,sales,medium\\n0.16,0.68,5,149,7,1,0,0,sales,medium\\n0.21,0.85,6,285,7,0,0,0,sales,medium\\n0.69,0.54,3,164,7,0,0,0,sales,medium\\n0.66,0.96,3,243,3,1,0,0,sales,medium\\n0.67,0.39,2,207,7,0,0,0,sales,medium\\n0.85,0.58,4,186,7,0,0,0,sales,medium\\n0.37,0.92,4,211,7,0,0,0,sales,high\\n0.64,0.64,2,190,3,0,0,0,sales,low\\n0.91,0.82,2,241,3,0,0,0,sales,medium\\n0.96,0.68,3,206,3,0,0,0,sales,medium\\n0.74,0.7,4,273,3,0,0,0,sales,medium\\n0.94,0.99,2,157,3,0,0,0,sales,medium\\n0.37,0.72,3,183,2,0,0,0,sales,low\\n0.92,0.85,3,151,6,1,0,0,sales,low\\n0.86,0.72,3,217,3,0,0,0,sales,low\\n0.66,0.49,5,235,8,1,0,0,sales,low\\n0.19,0.61,4,127,8,0,0,0,sales,low\\n0.65,0.61,5,167,8,0,0,0,sales,low\\n0.92,0.44,3,260,8,0,0,0,sales,low\\n0.83,0.8,3,240,8,0,0,0,sales,low\\n0.94,0.82,4,187,3,0,0,0,sales,low\\n0.42,0.69,3,126,2,0,0,0,sales,low\\n0.78,0.53,6,168,3,0,0,0,sales,low\\n0.58,0.76,4,197,5,0,0,0,sales,low\\n0.5,0.64,2,170,8,0,0,0,sales,low\\n0.82,0.76,3,219,8,1,0,0,IT,low\\n0.97,0.92,6,137,8,1,0,0,product_mng,low\\n0.8,0.93,3,225,4,0,0,0,product_mng,low\\n0.82,0.84,3,194,3,0,0,0,product_mng,low\\n0.95,0.99,5,251,4,0,0,0,product_mng,low\\n0.88,0.51,5,195,4,0,0,0,IT,low\\n0.5,0.86,3,180,7,0,0,1,management,high\\n0.53,0.8,2,225,7,1,0,1,management,high\\n0.82,0.74,3,229,7,0,0,1,management,high\\n0.15,0.74,6,144,7,0,0,1,management,high\\n0.92,0.7,3,129,3,0,0,1,management,high\\n0.53,0.74,3,172,10,0,0,1,management,high\\n0.58,1,4,220,10,0,0,0,marketing,medium\\n0.88,0.74,3,273,10,0,0,0,sales,medium\\n0.85,0.72,3,245,10,0,0,0,accounting,medium\\n0.99,0.68,5,264,10,1,0,0,support,medium\\n0.94,0.73,3,268,10,0,0,0,technical,medium\\n0.63,0.94,3,172,3,0,0,0,management,medium\\n0.85,0.9,3,245,3,0,0,0,marketing,medium\\n0.95,0.66,5,192,3,0,0,0,marketing,medium\\n0.71,0.66,3,268,4,0,0,0,marketing,high\\n0.49,0.88,4,244,3,0,0,0,sales,low\\n0.71,0.69,4,222,4,0,0,0,sales,medium\\n0.52,0.62,5,239,2,0,0,0,sales,medium\\n0.48,0.72,3,143,4,0,0,0,sales,medium\\n0.82,0.79,3,160,3,0,0,0,sales,medium\\n0.83,0.76,2,255,7,0,0,0,sales,low\\n0.85,0.87,4,152,7,0,0,0,sales,low\\n0.57,0.64,4,226,7,0,0,0,sales,low\\n0.16,0.63,5,266,7,0,0,0,IT,low\\n0.85,0.64,5,256,7,0,0,0,product_mng,low\\n0.82,0.67,3,198,3,1,0,0,product_mng,low\\n0.9,0.89,4,254,7,0,0,0,product_mng,low\\n0.92,0.64,2,104,7,0,0,0,product_mng,low\\n0.9,0.48,4,136,7,0,0,0,IT,low\\n0.82,0.8,5,205,3,0,0,0,IT,low\\n0.84,0.81,4,236,3,1,0,0,IT,low\\n0.92,0.65,3,176,3,0,0,0,IT,low\\n0.82,0.82,3,148,3,0,0,0,IT,low\\n0.8,0.8,4,146,3,1,0,0,IT,low\\n0.6,0.85,3,242,2,0,0,0,IT,low\\n0.14,0.38,5,115,6,1,0,0,marketing,high\\n0.85,0.89,4,150,3,0,0,0,accounting,high\\n0.55,0.81,3,239,8,0,0,0,accounting,high\\n0.49,0.71,4,178,8,0,0,0,IT,medium\\n0.82,0.58,5,263,8,0,0,0,IT,medium\\n0.59,0.77,3,272,8,0,0,0,management,high\\n0.9,0.82,3,133,8,0,0,0,marketing,medium\\n0.62,0.72,3,149,3,1,0,0,marketing,medium\\n0.61,0.68,3,193,2,0,0,0,marketing,medium\\n0.52,0.55,5,174,3,1,0,0,sales,medium\\n0.79,0.87,4,223,5,0,0,0,sales,medium\\n0.49,0.89,4,201,8,0,0,0,sales,medium\\n0.73,0.67,2,139,8,0,0,0,sales,medium\\n0.67,0.49,5,241,8,0,0,0,sales,medium\\n0.52,0.61,4,187,4,1,0,0,sales,medium\\n0.72,0.64,4,192,3,0,0,0,sales,medium\\n0.48,0.5,5,142,4,0,0,0,IT,medium\\n0.19,0.79,4,229,4,0,0,0,product_mng,medium\\n0.49,0.49,3,104,7,0,0,0,product_mng,high\\n0.9,0.76,3,255,7,0,0,0,product_mng,low\\n0.49,0.49,4,212,7,0,0,0,product_mng,medium\\n0.6,0.53,2,235,7,0,0,0,IT,medium\\n0.62,0.85,3,237,3,1,0,0,IT,medium\\n0.64,0.5,4,253,10,0,0,1,management,high\\n0.22,0.94,3,193,10,0,0,1,management,high\\n0.9,0.55,3,259,10,1,0,1,management,high\\n0.74,0.95,5,266,10,0,0,1,management,high\\n0.85,0.54,3,185,10,0,0,1,management,high\\n0.33,0.65,3,172,10,0,0,1,marketing,high\\n0.5,0.73,4,180,3,0,0,0,IT,low\\n0.38,0.53,2,157,3,0,1,0,sales,low\\n0.8,0.86,5,262,6,0,1,0,sales,medium\\n0.11,0.88,7,272,4,0,1,0,sales,medium\\n0.72,0.87,5,223,5,0,1,0,sales,low\\n0.37,0.52,2,159,3,0,1,0,sales,low\\n0.41,0.5,2,153,3,0,1,0,sales,low\\n0.1,0.77,6,247,4,0,1,0,sales,low\\n0.92,0.85,5,259,5,0,1,0,sales,low\\n0.89,1,5,224,5,0,1,0,sales,low\\n0.42,0.53,2,142,3,0,1,0,sales,low\\n0.45,0.54,2,135,3,0,1,0,sales,low\\n0.11,0.81,6,305,4,0,1,0,sales,low\\n0.84,0.92,4,234,5,0,1,0,sales,low\\n0.41,0.55,2,148,3,0,1,0,sales,low\\n0.36,0.56,2,137,3,0,1,0,sales,low\\n0.38,0.54,2,143,3,0,1,0,sales,low\\n0.45,0.47,2,160,3,0,1,0,sales,low\\n0.78,0.99,4,255,6,0,1,0,sales,low\\n0.45,0.51,2,160,3,1,1,1,sales,low\\n0.76,0.89,5,262,5,0,1,0,sales,low\\n0.11,0.83,6,282,4,0,1,0,sales,low\\n0.38,0.55,2,147,3,0,1,0,sales,low\\n0.09,0.95,6,304,4,0,1,0,sales,low\\n0.46,0.57,2,139,3,0,1,0,sales,low\\n0.4,0.53,2,158,3,0,1,0,sales,low\\n0.89,0.92,5,242,5,0,1,0,sales,low\\n0.82,0.87,4,239,5,0,1,0,sales,low\\n0.4,0.49,2,135,3,0,1,0,sales,low\\n0.41,0.46,2,128,3,0,1,0,accounting,low\\n0.38,0.5,2,132,3,0,1,0,accounting,low\\n0.09,0.62,6,294,4,0,1,0,accounting,low\\n0.45,0.57,2,134,3,0,1,0,hr,low\\n0.4,0.51,2,145,3,0,1,0,hr,low\\n0.45,0.55,2,140,3,0,1,0,hr,low\\n0.84,0.87,4,246,6,0,1,0,hr,low\\n0.1,0.94,6,255,4,0,1,0,technical,low\\n0.38,0.46,2,137,3,0,1,0,technical,low\\n0.45,0.5,2,126,3,0,1,0,technical,low\\n0.11,0.89,6,306,4,0,1,0,technical,low\\n0.41,0.54,2,152,3,0,1,0,technical,low\\n0.87,0.88,5,269,5,0,1,0,technical,low\\n0.45,0.48,2,158,3,0,1,0,technical,low\\n0.4,0.46,2,127,3,0,1,0,technical,low\\n0.1,0.8,7,281,4,0,1,0,technical,low\\n0.09,0.89,6,276,4,0,1,0,technical,low\\n0.84,0.74,3,182,4,0,1,0,technical,low\\n0.4,0.55,2,147,3,0,1,0,support,low\\n0.57,0.7,3,273,6,0,1,0,support,low\\n0.4,0.54,2,148,3,0,1,0,support,low\\n0.43,0.47,2,147,3,0,1,0,support,low\\n0.13,0.78,6,152,2,0,1,0,support,low\\n0.44,0.55,2,135,3,0,1,0,support,low\\n0.38,0.55,2,134,3,0,1,0,support,low\\n0.39,0.54,2,132,3,0,1,0,support,low\\n0.1,0.92,7,307,4,0,1,0,support,low\\n0.37,0.46,2,140,3,0,1,0,support,low\\n0.11,0.94,7,255,4,0,1,0,support,low\\n0.1,0.81,6,309,4,0,1,0,technical,low\\n0.38,0.54,2,128,3,0,1,0,technical,low\\n0.85,1,4,225,5,0,1,0,technical,low\\n0.85,0.91,5,226,5,0,1,0,management,medium\\n0.11,0.93,7,308,4,0,1,0,IT,medium\\n0.1,0.95,6,244,5,0,1,0,IT,medium\\n0.36,0.56,2,132,3,0,1,0,IT,medium\\n0.11,0.94,6,286,4,0,1,0,IT,medium\\n0.81,0.7,6,161,4,0,1,0,IT,medium\\n0.43,0.54,2,153,3,0,1,0,product_mng,medium\\n0.9,0.98,4,264,6,0,1,0,product_mng,medium\\n0.76,0.86,5,223,5,1,1,0,product_mng,medium\\n0.43,0.5,2,135,3,0,1,0,product_mng,medium\\n0.74,0.99,2,277,3,0,1,0,IT,medium\\n0.09,0.77,5,275,4,0,1,0,product_mng,medium\\n0.45,0.49,2,149,3,0,1,0,product_mng,high\\n0.09,0.87,7,295,4,0,1,0,product_mng,low\\n0.11,0.97,6,277,4,0,1,0,product_mng,medium\\n0.11,0.79,7,306,4,0,1,0,product_mng,medium\\n0.1,0.83,6,295,4,0,1,0,product_mng,medium\\n0.4,0.54,2,137,3,0,1,0,marketing,medium\\n0.43,0.56,2,157,3,0,1,0,sales,low\\n0.39,0.56,2,142,3,0,1,0,accounting,low\\n0.45,0.54,2,140,3,0,1,0,support,low\\n0.38,0.49,2,151,3,0,1,0,technical,low\\n0.79,0.59,4,139,3,0,1,1,management,low\\n0.84,0.85,4,249,6,0,1,0,marketing,low\\n0.11,0.77,6,291,4,0,1,0,marketing,low\\n0.11,0.87,6,305,4,0,1,0,marketing,low\\n0.17,0.84,5,232,3,0,1,0,sales,low\\n0.44,0.45,2,132,3,0,1,0,sales,low\\n0.37,0.57,2,130,3,0,1,0,sales,low\\n0.1,0.79,6,291,4,0,1,0,sales,low\\n0.4,0.5,2,130,3,0,1,0,sales,low\\n0.89,1,5,246,5,0,1,0,sales,low\\n0.42,0.48,2,143,3,0,1,0,sales,low\\n0.46,0.55,2,129,3,0,1,0,sales,low\\n0.09,0.83,6,255,4,0,1,0,sales,low\\n0.37,0.51,2,155,3,0,1,0,sales,low\\n0.1,0.77,6,265,4,0,1,0,sales,low\\n0.1,0.84,6,279,4,0,1,0,sales,low\\n0.11,0.97,6,284,4,0,1,0,sales,low\\n0.9,1,5,221,6,0,1,0,sales,medium\\n0.38,0.52,2,154,3,0,1,0,sales,medium\\n0.36,0.52,2,147,3,0,1,0,sales,medium\\n0.42,0.46,2,150,3,0,1,0,sales,medium\\n0.09,0.94,7,267,4,0,1,0,sales,medium\\n0.43,0.52,2,158,3,0,1,0,sales,medium\\n0.24,0.46,7,224,5,0,1,0,accounting,medium\\n0.91,1,4,257,5,0,1,0,accounting,medium\\n0.44,0.5,2,148,3,0,1,0,accounting,medium\\n0.71,0.87,3,177,4,0,1,0,hr,medium\\n0.4,0.49,2,155,3,0,1,0,hr,medium\\n0.43,0.47,2,144,3,0,1,0,hr,medium\\n0.09,0.85,6,289,4,0,1,0,hr,high\\n0.43,0.52,2,160,3,0,1,0,technical,low\\n0.9,0.96,4,258,5,0,1,0,technical,medium\\n0.84,1,5,234,5,0,1,0,technical,medium\\n0.37,0.48,2,137,3,0,1,0,technical,medium\\n0.86,0.68,5,263,2,0,1,0,technical,medium\\n0.11,0.84,6,251,4,0,1,0,technical,low\\n0.37,0.57,2,133,3,0,1,0,technical,low\\n0.4,0.46,2,132,3,0,1,0,technical,low\\n0.14,0.62,4,158,4,1,1,0,technical,low\\n0.4,0.46,2,135,3,0,1,0,technical,low\\n0.75,1,4,216,6,0,1,0,technical,low\\n0.11,0.84,6,300,5,1,1,0,support,low\\n0.46,0.49,2,138,3,0,1,0,support,low\\n0.11,0.92,6,260,4,0,1,0,support,low\\n0.38,0.49,2,132,3,0,1,0,support,low\\n0.7,0.89,3,183,5,0,1,0,support,low\\n0.09,0.82,6,250,4,0,1,0,support,low\\n0.37,0.45,2,151,3,0,1,0,support,low\\n0.1,0.83,6,292,4,0,1,0,support,low\\n0.38,0.57,2,140,3,0,1,0,support,low\\n0.9,1,5,221,5,0,1,0,support,low\\n0.44,0.51,2,138,3,0,1,0,support,low\\n0.36,0.5,2,132,3,0,1,0,technical,low\\n0.31,0.84,7,133,5,0,1,0,technical,low\\n0.1,0.84,6,283,4,1,1,0,technical,low\\n0.42,0.48,2,129,3,0,1,0,management,low\\n0.74,1,4,249,5,0,1,0,IT,low\\n0.73,0.87,5,257,5,0,1,0,IT,low\\n0.09,0.96,6,245,4,0,1,0,IT,low\\n0.45,0.53,2,155,3,0,1,0,IT,low\\n0.11,0.8,6,256,4,0,1,0,IT,low\\n0.37,0.47,2,152,3,0,1,0,product_mng,low\\n0.84,0.99,4,267,5,0,1,0,product_mng,low\\n0.41,0.46,2,151,3,0,1,0,product_mng,low\\n0.76,0.92,4,239,5,0,1,0,product_mng,low\\n0.11,0.87,6,306,4,0,1,0,IT,low\\n0.84,0.88,4,263,5,1,1,0,marketing,low\\n0.39,0.5,2,147,3,0,1,0,marketing,low\\n0.11,0.91,6,278,4,0,1,0,marketing,low\\n0.45,0.56,2,154,3,0,1,0,marketing,low\\n0.37,0.52,2,143,3,0,1,0,marketing,low\\n0.4,0.52,2,155,3,0,1,0,marketing,low\\n0.39,0.48,2,160,3,0,1,0,sales,low\\n0.11,0.8,6,304,4,0,1,0,accounting,low\\n0.83,1,5,240,5,0,1,0,support,low\\n0.11,0.92,6,305,4,0,1,0,technical,low\\n0.39,0.5,2,136,3,0,1,0,management,low\\n0.45,0.45,2,132,3,0,1,0,marketing,low\\n0.1,0.95,7,301,4,0,1,0,marketing,low\\n0.9,0.98,5,243,6,0,1,0,marketing,low\\n0.45,0.51,2,147,3,0,1,0,sales,low\\n0.79,0.89,5,239,5,0,1,0,sales,low\\n0.9,0.99,5,260,5,0,1,0,sales,low\\n0.11,0.84,7,296,4,0,1,0,sales,low\\n0.43,0.55,2,129,3,0,1,0,sales,low\\n0.31,0.54,5,132,5,0,1,0,sales,low\\n0.32,0.5,2,135,5,0,1,0,sales,low\\n0.45,0.57,2,158,3,0,1,0,sales,low\\n0.81,0.99,4,259,5,0,1,0,sales,low\\n0.41,0.46,2,160,3,0,1,1,sales,low\\n0.11,0.78,7,278,4,0,1,0,sales,low\\n0.1,0.88,6,284,4,0,1,0,sales,low\\n0.7,0.53,2,274,4,0,1,0,sales,low\\n0.54,0.74,4,164,2,0,1,0,sales,low\\n0.41,0.48,2,148,3,0,1,0,sales,low\\n0.38,0.5,2,140,3,0,1,0,sales,medium\\n0.37,0.51,2,127,3,0,1,0,sales,medium\\n0.11,0.85,6,308,5,0,1,0,sales,medium\\n0.4,0.47,2,146,3,0,1,0,sales,medium\\n0.1,0.84,6,261,4,0,1,0,accounting,medium\\n0.89,0.99,5,257,5,0,1,0,accounting,medium\\n0.11,0.8,6,285,4,0,1,0,accounting,medium\\n0.36,0.55,2,141,3,0,1,0,hr,medium\\n0.4,0.46,2,127,3,0,1,0,hr,medium\\n0.09,0.85,6,297,4,0,1,0,hr,medium\\n0.4,0.46,2,143,3,0,1,0,hr,medium\\n0.37,0.55,2,152,3,0,1,0,technical,medium\\n0.44,0.51,2,156,3,0,1,0,technical,high\\n0.09,0.8,7,283,5,0,1,0,technical,low\\n0.92,0.87,4,226,6,1,1,0,technical,medium\\n0.74,0.91,4,232,5,0,1,0,technical,medium\\n0.09,0.82,6,249,4,0,1,0,technical,medium\\n0.89,0.95,4,275,5,0,1,0,technical,medium\\n0.09,0.8,6,304,4,0,1,0,technical,low\\n0.27,0.54,7,278,3,0,1,0,technical,low\\n0.1,0.91,6,287,4,0,1,0,technical,low\\n0.1,0.89,7,285,4,0,1,0,technical,low\\n0.77,0.94,5,226,6,0,1,0,support,low\\n0.9,0.82,5,259,5,0,1,0,support,low\\n0.39,0.5,2,135,3,0,1,0,support,low\\n0.76,1,5,219,5,0,1,0,support,low\\n0.1,0.93,6,256,4,0,1,0,support,low\\n0.87,0.9,5,254,6,0,1,0,support,low\\n0.38,0.5,2,153,3,0,1,0,support,low\\n0.77,0.99,5,228,5,0,1,0,support,low\\n0.78,0.87,4,228,5,0,1,0,support,low\\n0.44,0.5,2,128,3,0,1,0,support,low\\n0.38,0.52,2,153,3,0,1,0,support,low\\n0.43,0.46,2,156,3,0,1,0,technical,low\\n0.39,0.5,4,294,3,0,1,0,technical,low\\n0.88,1,5,219,5,0,1,0,technical,low\\n0.45,0.46,2,153,3,0,1,0,management,low\\n0.4,0.53,2,151,3,0,1,0,IT,low\\n0.36,0.51,2,155,3,0,1,0,IT,low\\n0.36,0.48,2,158,3,0,1,0,IT,low\\n0.9,0.98,5,245,5,0,1,0,IT,low\\n0.43,0.53,2,131,3,0,1,0,IT,low\\n0.89,0.87,5,225,5,0,1,0,product_mng,low\\n0.1,0.84,6,286,4,0,1,0,product_mng,low\\n0.37,0.5,2,135,3,0,1,0,product_mng,low\\n0.37,0.51,2,153,3,0,1,0,product_mng,low\\n0.87,0.9,5,252,5,0,1,0,IT,low\\n0.4,0.56,2,149,3,0,1,0,accounting,low\\n0.9,0.97,4,258,5,0,1,0,accounting,low\\n0.37,0.46,2,158,3,0,1,0,hr,low\\n0.44,0.54,2,149,3,0,1,0,hr,low\\n0.85,0.95,5,236,5,0,1,0,hr,low\\n0.78,0.98,5,239,6,0,1,0,marketing,low\\n0.42,0.47,2,159,3,0,1,0,marketing,low\\n0.92,0.99,5,255,6,0,1,0,sales,low\\n0.11,0.83,6,244,4,0,1,0,accounting,low\\n0.42,0.56,2,134,3,0,1,0,support,low\\n0.48,0.57,4,270,4,0,1,0,technical,low\\n0.83,0.85,4,255,5,0,1,0,management,low\\n0.4,0.53,2,151,3,0,1,0,marketing,low\\n0.43,0.45,2,135,3,0,1,0,marketing,low\\n0.43,0.53,2,146,3,0,1,0,marketing,low\\n0.1,0.97,7,254,4,0,1,0,sales,low\\n0.1,0.87,7,289,4,0,1,0,sales,low\\n0.37,0.46,2,156,3,0,1,0,sales,low\\n0.38,0.53,2,156,3,0,1,0,sales,low\\n0.4,0.5,2,128,3,0,1,0,sales,low\\n0.89,0.86,5,275,5,0,1,0,sales,low\\n0.45,0.46,2,155,3,0,1,0,sales,low\\n0.37,0.48,2,159,3,0,1,0,sales,low\\n0.46,0.49,2,148,3,0,1,0,sales,low\\n0.87,0.91,4,228,5,0,1,0,sales,low\\n0.11,0.84,6,298,4,0,1,0,sales,low\\n0.79,0.87,5,261,5,0,1,0,sales,low\\n0.79,0.92,5,254,6,0,1,0,sales,low\\n0.19,0.59,7,192,3,0,1,0,sales,low\\n0.87,0.98,4,248,5,0,1,0,sales,low\\n0.6,0.92,2,258,5,0,1,0,sales,low\\n0.44,0.45,2,156,3,0,1,0,sales,medium\\n0.11,0.81,6,266,4,1,1,0,sales,medium\\n0.42,0.54,2,156,3,0,1,0,sales,medium\\n0.88,0.88,5,232,5,1,1,0,accounting,medium\\n0.11,0.84,6,287,4,0,1,0,accounting,medium\\n0.46,0.46,2,154,3,0,1,0,accounting,medium\\n0.82,0.97,5,263,5,0,1,0,hr,medium\\n0.44,0.56,2,131,3,0,1,0,hr,medium\\n0.11,0.78,6,260,4,0,1,0,hr,medium\\n0.42,0.5,2,139,3,0,1,0,hr,medium\\n0.84,0.93,4,251,5,0,1,0,technical,medium\\n0.11,0.95,6,286,4,0,1,0,technical,medium\\n0.45,0.53,2,129,3,0,1,0,technical,high\\n0.38,0.56,2,156,3,0,1,0,technical,low\\n0.38,0.86,6,139,6,0,1,0,technical,medium\\n0.44,0.51,2,127,3,0,1,0,technical,medium\\n0.11,0.84,6,251,4,0,1,0,technical,medium\\n0.81,0.93,5,270,5,0,1,0,technical,medium\\n0.09,0.96,6,296,4,0,1,0,technical,low\\n0.11,0.9,6,254,4,0,1,0,technical,low\\n0.81,0.95,5,238,6,0,1,0,technical,low\\n0.1,0.97,6,267,4,1,1,0,support,low\\n0.74,0.89,5,229,6,0,1,0,support,low\\n0.09,0.78,6,254,4,0,1,0,support,low\\n0.82,0.81,4,233,4,1,1,0,support,low\\n0.1,0.98,6,268,4,0,1,0,support,low\\n0.27,0.56,3,301,3,0,1,0,support,low\\n0.83,0.92,5,267,6,0,1,0,support,low\\n0.1,0.93,6,289,4,1,1,0,support,low\\n0.38,0.47,2,144,3,0,1,0,support,low\\n0.4,0.56,2,148,3,0,1,0,support,low\\n0.11,0.83,6,306,4,0,1,0,support,low\\n0.11,0.79,6,292,4,0,1,1,technical,low\\n0.82,0.91,5,232,5,0,1,0,technical,low\\n0.36,0.48,2,137,3,0,1,0,technical,low\\n0.4,0.46,2,128,3,0,1,0,management,low\\n0.87,0.84,5,231,5,0,1,0,IT,low\\n0.41,0.49,2,146,3,0,1,0,IT,low\\n0.11,0.91,6,308,4,1,1,0,IT,low\\n0.1,0.93,6,253,4,0,1,0,IT,medium\\n0.38,0.51,2,146,3,0,1,0,IT,medium\\n0.39,0.55,2,156,3,0,1,0,product_mng,medium\\n0.4,0.52,2,147,3,0,1,0,product_mng,medium\\n0.45,0.48,2,136,3,0,1,0,product_mng,medium\\n0.74,0.84,5,249,5,0,1,0,product_mng,medium\\n0.45,0.55,2,151,3,0,1,0,IT,medium\\n0.12,1,3,278,4,0,1,0,RandD,medium\\n0.1,0.77,7,250,5,0,1,0,RandD,medium\\n0.37,0.55,2,127,3,0,1,0,RandD,medium\\n0.89,0.87,5,255,5,0,1,0,RandD,medium\\n0.45,0.47,2,135,3,0,1,0,RandD,medium\\n0.37,0.46,2,149,3,0,1,0,marketing,high\\n0.11,0.81,5,287,4,0,1,0,sales,low\\n0.41,0.48,2,145,3,0,1,0,accounting,medium\\n0.1,0.94,6,285,4,0,1,0,support,medium\\n0.1,0.93,7,305,4,0,1,0,technical,medium\\n0.11,0.95,7,300,4,0,1,0,management,medium\\n0.4,0.54,2,139,3,0,1,0,marketing,low\\n0.41,0.49,2,130,3,0,1,0,marketing,low\\n0.1,0.81,6,268,4,0,1,0,marketing,low\\n0.73,0.86,4,245,6,0,1,0,sales,low\\n0.43,0.47,2,135,3,0,1,0,sales,low\\n0.37,0.46,2,153,3,0,1,0,sales,low\\n0.11,0.94,6,276,4,0,1,0,sales,low\\n0.4,0.46,2,130,3,0,1,0,sales,low\\n0.41,0.54,2,153,3,1,1,0,sales,low\\n0.82,0.84,5,244,5,0,1,0,sales,low\\n0.61,0.47,2,253,3,0,1,0,sales,low\\n0.11,0.91,7,287,4,0,1,0,sales,low\\n0.37,0.45,2,131,3,0,1,0,sales,low\\n0.41,0.52,2,135,3,0,1,0,sales,low\\n0.37,0.52,2,157,3,0,1,0,sales,low\\n0.88,0.99,5,262,6,0,1,0,sales,low\\n0.1,0.85,6,266,4,0,1,0,sales,low\\n0.44,0.48,2,148,3,0,1,0,sales,low\\n0.38,0.57,2,140,3,0,1,0,sales,low\\n0.11,0.85,7,302,4,0,1,0,sales,low\\n0.09,0.98,6,271,4,0,1,0,sales,low\\n0.45,0.52,2,145,3,0,1,0,sales,medium\\n0.1,0.81,6,290,4,0,1,0,accounting,medium\\n0.45,0.47,2,151,3,0,1,0,accounting,medium\\n0.77,0.87,5,266,5,0,1,0,accounting,medium\\n0.44,0.51,2,140,3,0,1,0,hr,medium\\n0.39,0.5,2,142,3,0,1,0,hr,medium\\n0.1,0.91,6,246,4,0,1,0,hr,medium\\n0.09,0.89,7,308,5,0,1,0,hr,medium\\n0.37,0.47,2,141,3,0,1,0,technical,medium\\n0.9,1,5,232,5,0,1,0,technical,medium\\n0.41,0.56,2,143,3,0,1,0,technical,medium\\n0.37,0.52,2,155,3,0,1,0,technical,medium\\n0.1,0.86,6,278,4,0,1,0,technical,high\\n0.81,1,4,253,5,0,1,0,technical,low\\n0.11,0.8,6,282,4,0,1,0,technical,medium\\n0.11,0.84,7,264,4,0,1,0,technical,medium\\n0.4,0.46,2,149,3,0,1,0,technical,medium\\n0.09,0.8,6,304,5,0,1,0,technical,medium\\n0.48,0.93,3,219,6,0,1,0,technical,low\\n0.91,0.91,4,262,6,0,1,0,support,low\\n0.43,0.57,2,135,3,0,1,0,support,low\\n0.33,0.88,6,219,5,0,1,0,support,low\\n0.41,0.57,2,136,3,0,1,0,support,low\\n0.41,0.55,2,154,3,0,1,0,support,low\\n0.37,0.54,2,149,3,0,1,0,support,low\\n0.31,0.62,6,135,5,0,1,0,support,low\\n0.09,0.91,6,275,4,0,1,0,support,low\\n0.1,0.87,6,290,4,0,1,0,support,low\\n0.76,0.9,4,263,5,0,1,0,support,low\\n0.41,0.54,2,145,3,0,1,0,support,low\\n0.72,0.96,5,267,5,0,1,0,technical,low\\n0.4,0.5,2,141,3,1,1,0,technical,low\\n0.91,0.87,4,235,5,0,1,0,technical,low\\n0.1,0.83,6,258,4,0,1,0,management,low\\n0.4,0.56,2,131,3,0,1,0,IT,low\\n0.82,0.86,5,243,5,0,1,0,IT,low\\n0.1,0.82,6,266,4,0,1,0,IT,low\\n0.37,0.45,2,142,3,0,1,0,IT,low\\n0.36,0.51,2,135,3,0,1,0,IT,low\\n0.39,0.48,2,141,3,0,1,0,product_mng,medium\\n0.36,0.57,2,142,3,0,1,0,product_mng,medium\\n0.86,0.84,5,254,5,0,1,0,product_mng,medium\\n0.73,0.99,5,262,5,0,1,0,product_mng,medium\\n0.56,0.71,4,296,2,0,1,0,IT,medium\\n0.44,0.56,2,158,3,0,1,0,accounting,medium\\n0.31,0.56,4,238,2,0,1,0,accounting,medium\\n0.77,0.93,4,231,5,0,1,0,hr,medium\\n0.44,0.45,2,156,3,0,1,0,hr,medium\\n0.38,0.46,2,145,3,0,1,0,hr,medium\\n0.45,0.48,2,144,3,0,1,0,marketing,medium\\n0.38,0.51,2,159,3,0,1,0,sales,medium\\n0.36,0.48,2,156,3,0,1,0,accounting,high\\n0.75,0.9,5,256,5,0,1,0,support,low\\n0.1,0.93,6,298,4,0,1,0,technical,medium\\n0.1,0.97,6,247,4,0,1,0,management,medium\\n0.45,0.5,2,157,3,0,1,0,marketing,medium\\n0.42,0.57,2,154,3,1,1,0,marketing,medium\\n0.78,1,4,253,5,0,1,0,marketing,low\\n0.45,0.55,2,148,3,0,1,0,sales,low\\n0.84,1,4,261,5,0,1,0,sales,low\\n0.11,0.93,6,282,4,0,1,0,sales,low\\n0.42,0.56,2,133,3,0,1,0,sales,low\\n0.45,0.46,2,128,3,0,1,0,sales,low\\n0.46,0.57,2,139,3,0,1,0,sales,low\\n0.09,0.79,6,293,5,0,1,0,sales,low\\n0.87,0.83,4,265,6,0,1,0,sales,low\\n0.1,0.87,6,250,4,0,1,0,sales,low\\n0.91,1,5,251,6,0,1,0,sales,low\\n0.76,0.92,4,246,5,0,1,0,sales,low\\n0.74,1,5,275,5,0,1,0,sales,low\\n0.92,0.93,5,240,5,0,1,0,sales,low\\n0.76,0.87,5,245,5,0,1,0,sales,low\\n0.47,0.5,4,254,4,0,1,0,sales,low\\n0.73,0.99,5,241,5,0,1,0,sales,low\\n0.09,0.94,6,257,4,0,1,0,sales,low\\n0.91,0.92,4,246,5,0,1,0,sales,low\\n0.82,0.98,4,233,5,0,1,0,sales,low\\n0.28,0.45,6,218,4,0,1,0,accounting,low\\n0.84,0.99,4,262,6,0,1,0,accounting,medium\\n0.45,0.53,2,138,3,0,1,0,accounting,medium\\n0.45,0.54,2,142,3,0,1,0,hr,medium\\n0.91,0.97,5,233,5,0,1,0,hr,medium\\n0.42,0.48,2,155,3,0,1,0,hr,medium\\n0.82,1,4,229,6,0,1,0,hr,medium\\n0.11,0.9,6,264,4,0,1,0,technical,medium\\n0.42,0.53,3,199,4,0,1,0,technical,medium\\n0.82,0.85,4,223,5,0,1,0,technical,medium\\n0.09,0.96,6,268,4,0,1,0,technical,medium\\n0.1,0.94,6,287,4,0,1,0,technical,medium\\n0.86,1,5,257,5,0,1,0,technical,medium\\n0.4,0.46,2,143,3,0,1,0,technical,high\\n0.45,0.46,2,130,3,0,1,0,technical,low\\n0.42,0.51,2,136,3,0,1,0,technical,medium\\n0.74,0.92,4,261,5,0,1,0,technical,medium\\n0.55,0.6,3,180,4,0,1,0,technical,medium\\n0.37,0.45,2,126,3,0,1,0,support,medium\\n0.41,0.52,2,127,3,1,1,0,support,low\\n0.89,0.65,5,195,6,0,1,0,support,low\\n0.41,0.57,2,160,3,0,1,0,support,low\\n0.44,0.51,2,150,3,0,1,0,support,low\\n0.87,0.84,4,264,6,0,1,0,support,low\\n0.1,0.84,6,309,4,0,1,0,support,low\\n0.41,0.47,2,135,3,0,1,0,support,low\\n0.11,0.85,6,261,4,0,1,0,support,low\\n0.43,0.53,2,160,3,0,1,0,support,low\\n0.77,0.9,4,237,5,0,1,0,support,low\\n0.41,0.52,2,136,3,0,1,0,technical,low\\n0.41,0.48,2,139,3,0,1,0,technical,low\\n0.36,0.78,2,151,4,0,1,0,technical,low\\n0.77,1,5,229,5,0,1,0,management,low\\n0.81,0.98,5,245,5,0,1,0,IT,low\\n0.39,0.54,2,127,3,0,1,0,IT,low\\n0.09,0.94,6,283,5,0,1,0,IT,low\\n0.44,0.46,2,143,3,0,1,0,IT,low\\n0.1,0.84,5,298,4,0,1,0,IT,low\\n0.36,0.48,2,159,3,0,1,0,product_mng,low\\n0.81,0.92,5,239,5,0,1,0,product_mng,low\\n0.81,0.9,4,226,5,0,1,0,product_mng,medium\\n0.85,0.98,5,248,5,0,1,0,product_mng,medium\\n0.1,0.87,6,286,4,0,1,0,IT,medium\\n0.37,0.54,2,145,3,0,1,0,RandD,medium\\n0.09,0.97,7,254,4,1,1,0,RandD,medium\\n0.44,0.53,2,127,3,0,1,0,RandD,medium\\n0.86,0.93,5,223,5,0,1,0,RandD,medium\\n0.77,1,4,255,5,0,1,0,RandD,medium\\n0.41,0.48,2,136,3,0,1,0,marketing,medium\\n0.4,0.48,2,137,3,0,1,0,sales,medium\\n0.43,0.49,2,135,3,0,1,0,accounting,medium\\n0.43,0.5,2,137,3,0,1,0,support,medium\\n0.8,0.53,3,255,5,0,1,0,technical,high\\n0.8,0.85,4,273,5,0,1,0,management,low\\n0.82,0.98,5,234,5,0,1,0,marketing,medium\\n0.37,0.54,2,152,3,0,1,0,marketing,medium\\n0.37,0.48,2,134,3,0,1,0,marketing,medium\\n0.09,0.95,6,292,4,0,1,0,sales,medium\\n0.9,0.92,5,245,5,0,1,0,sales,low\\n0.41,0.52,2,159,3,0,1,0,sales,low\\n0.1,0.85,6,260,4,0,1,0,sales,low\\n0.44,0.53,2,149,3,0,1,0,sales,low\\n0.89,0.85,5,266,5,0,1,0,sales,low\\n0.42,0.56,2,149,3,0,1,0,sales,low\\n0.87,1,5,242,5,0,1,0,sales,low\\n0.45,0.57,2,134,3,0,1,0,sales,low\\n0.11,0.87,5,271,4,0,1,0,sales,low\\n0.09,0.79,6,275,4,0,1,0,sales,low\\n0.76,0.83,5,227,5,0,1,0,sales,low\\n0.11,0.96,7,277,5,0,1,0,sales,low\\n0.37,0.49,2,151,3,0,1,0,sales,low\\n0.1,0.79,6,274,4,0,1,0,sales,low\\n0.77,0.87,4,242,6,0,1,0,sales,low\\n0.42,0.54,2,143,3,1,1,0,sales,low\\n0.38,0.52,2,145,3,0,1,0,sales,low\\n0.32,0.95,5,172,2,0,1,0,sales,low\\n0.38,0.49,2,135,3,0,1,0,accounting,low\\n0.19,1,4,192,4,0,1,0,accounting,low\\n0.1,0.83,7,276,4,0,1,0,accounting,low\\n0.76,0.88,4,206,4,0,1,0,hr,medium\\n0.53,0.56,4,281,6,0,1,0,hr,medium\\n0.39,0.51,2,151,3,0,1,0,hr,medium\\n0.11,0.83,6,244,4,0,1,0,hr,medium\\n0.1,0.94,6,309,4,0,1,0,technical,medium\\n0.84,1,5,218,5,0,1,0,technical,medium\\n0.82,0.99,4,263,6,0,1,0,technical,medium\\n0.1,0.82,6,244,4,0,1,0,technical,medium\\n0.59,0.49,7,263,4,0,1,0,technical,medium\\n0.44,0.48,2,143,3,0,1,0,technical,medium\\n0.89,0.95,2,181,5,0,1,0,technical,medium\\n0.91,0.84,5,265,5,0,1,0,technical,medium\\n0.66,0.57,5,161,5,0,1,0,technical,high\\n0.11,0.87,7,282,5,0,1,0,technical,low\\n0.43,0.51,2,155,3,0,1,0,technical,medium\\n0.78,0.83,4,217,6,0,1,0,support,medium\\n0.11,0.97,6,289,5,0,1,0,support,medium\\n0.83,0.98,4,259,5,0,1,0,support,medium\\n0.39,0.54,2,158,3,0,1,0,support,low\\n0.38,0.55,2,158,3,0,1,0,support,low\\n0.37,0.57,2,155,3,0,1,0,support,low\\n0.44,0.48,2,146,3,0,1,0,support,low\\n0.53,0.85,2,164,5,0,1,0,support,low\\n0.09,0.96,6,259,4,0,1,0,support,low\\n0.11,0.89,6,293,4,0,1,0,support,low\\n0.83,0.96,5,275,5,0,1,0,support,low\\n0.88,1,5,219,6,1,1,0,technical,low\\n0.1,0.89,6,247,4,0,1,0,technical,low\\n0.09,0.86,7,309,4,0,1,0,technical,low\\n0.44,0.54,2,151,3,0,1,0,management,low\\n0.39,0.51,2,129,3,0,1,0,IT,low\\n0.87,0.94,4,274,5,0,1,0,IT,low\\n0.74,0.99,4,233,5,0,1,0,IT,low\\n0.1,0.95,7,289,4,0,1,0,IT,low\\n0.74,0.82,4,239,6,0,1,0,IT,low\\n0.75,0.99,5,221,5,0,1,0,product_mng,low\\n0.41,0.56,2,150,3,0,1,0,product_mng,low\\n0.41,0.45,2,144,3,1,1,0,product_mng,low\\n0.09,0.9,7,289,4,0,1,0,product_mng,low\\n0.09,0.8,6,301,5,0,1,0,IT,medium\\n0.39,0.57,2,145,3,0,1,0,accounting,medium\\n0.4,0.56,2,137,3,0,1,0,accounting,medium\\n0.37,0.54,2,131,3,1,1,0,hr,medium\\n0.1,0.84,6,246,4,0,1,0,hr,medium\\n0.43,0.51,2,136,3,0,1,0,hr,medium\\n0.75,0.85,5,240,6,1,1,0,marketing,medium\\n0.37,0.56,2,156,3,0,1,0,sales,medium\\n0.11,0.85,6,305,4,0,1,0,accounting,medium\\n0.45,0.45,2,154,3,1,1,0,support,medium\\n0.87,1,5,261,5,1,1,0,technical,medium\\n0.11,0.94,7,244,4,0,1,0,management,medium\\n0.45,0.54,2,129,3,0,1,0,marketing,high\\n0.81,0.87,4,254,5,0,1,0,marketing,low\\n0.77,0.91,5,236,5,0,1,0,marketing,medium\\n0.89,0.92,5,237,5,0,1,0,sales,medium\\n0.43,0.49,2,135,3,0,1,0,sales,medium\\n0.78,1,5,236,5,0,1,0,sales,medium\\n0.37,0.47,2,149,3,0,1,0,sales,low\\n0.37,0.5,2,141,3,0,1,0,sales,low\\n0.85,0.82,4,270,5,0,1,0,sales,low\\n0.41,0.47,2,138,3,0,1,0,sales,low\\n0.11,0.96,6,298,4,0,1,0,sales,low\\n0.75,0.99,5,254,5,0,1,0,sales,low\\n0.82,0.85,5,248,5,0,1,0,sales,low\\n0.79,1,5,257,6,0,1,0,sales,low\\n0.43,0.53,2,150,3,0,1,0,sales,low\\n0.1,0.9,7,281,4,0,1,0,sales,low\\n0.46,0.48,2,141,3,1,1,0,sales,low\\n0.43,0.57,2,157,3,0,1,0,sales,low\\n0.43,0.55,2,136,3,0,1,0,sales,low\\n0.11,0.8,7,296,4,0,1,0,sales,low\\n0.09,0.86,6,279,4,0,1,0,sales,low\\n0.37,0.53,2,131,3,0,1,0,sales,low\\n0.4,0.57,2,160,3,0,1,0,accounting,low\\n0.1,0.77,7,291,4,0,1,0,accounting,low\\n0.41,0.53,2,157,3,0,1,0,accounting,low\\n0.79,0.58,3,294,4,0,1,0,hr,low\\n0.11,0.79,7,310,4,0,1,0,hr,low\\n0.1,0.97,6,282,4,0,1,0,hr,medium\\n0.44,0.51,2,134,3,0,1,0,hr,medium\\n0.25,0.46,4,214,4,0,1,0,technical,medium\\n0.44,0.52,2,137,3,0,1,0,technical,medium\\n0.73,1,4,252,5,0,1,0,technical,medium\\n0.75,0.97,5,243,6,0,1,0,technical,medium\\n0.36,0.47,2,148,3,0,1,0,technical,medium\\n0.37,0.49,2,151,3,0,1,0,technical,medium\\n0.39,0.49,2,129,3,0,1,0,technical,medium\\n0.48,0.78,2,198,2,0,1,0,technical,medium\\n0.57,0.72,4,275,6,0,1,0,technical,medium\\n0.9,0.96,5,243,5,0,1,0,technical,medium\\n0.39,0.55,2,159,3,0,1,0,technical,high\\n0.44,0.51,2,145,3,0,1,0,support,low\\n0.81,0.88,5,242,5,0,1,0,support,medium\\n0.74,0.87,5,242,5,0,1,0,support,medium\\n0.44,0.56,2,145,3,0,1,0,support,medium\\n0.41,0.56,2,154,3,0,1,1,support,medium\\n0.4,0.51,2,139,3,0,1,0,support,low\\n0.46,0.57,2,152,3,0,1,0,support,low\\n0.8,0.83,2,211,3,0,1,0,support,low\\n0.87,0.9,5,258,5,0,1,0,support,low\\n0.39,0.54,2,155,3,0,1,0,support,low\\n0.38,0.55,2,148,3,0,1,0,support,low\\n0.66,0.67,2,255,3,0,1,0,technical,low\\n0.1,0.8,6,264,4,0,1,0,technical,low\\n0.37,0.54,2,132,3,0,1,0,technical,low\\n0.1,0.77,6,255,4,0,1,0,management,low\\n0.09,0.87,5,263,4,0,1,0,IT,low\\n0.86,0.84,5,222,5,0,1,0,IT,low\\n0.11,0.9,6,263,4,0,1,0,IT,low\\n0.37,0.46,2,157,3,0,1,0,IT,low\\n0.11,0.92,7,307,4,0,1,0,IT,low\\n0.77,0.98,5,259,6,0,1,0,product_mng,low\\n0.84,0.94,5,222,6,0,1,0,product_mng,low\\n0.1,0.84,7,250,4,0,1,0,product_mng,low\\n0.83,0.9,5,245,5,0,1,0,product_mng,low\\n0.11,0.79,6,292,4,0,1,0,IT,low\\n0.86,0.92,5,252,5,0,1,0,RandD,low\\n0.38,0.56,2,161,3,0,1,0,RandD,medium\\n0.11,0.88,5,250,4,0,1,0,RandD,medium\\n0.45,0.49,2,134,3,0,1,0,RandD,medium\\n0.1,0.85,7,279,4,0,1,0,RandD,medium\\n0.09,0.95,7,256,4,0,1,0,marketing,medium\\n0.39,0.53,2,127,3,0,1,0,sales,medium\\n0.37,0.47,2,138,3,1,1,0,accounting,medium\\n0.81,0.97,5,243,5,0,1,0,support,medium\\n0.09,0.9,7,296,4,0,1,0,technical,medium\\n0.1,0.88,7,267,4,0,1,0,management,medium\\n0.39,0.49,2,144,3,0,1,0,marketing,medium\\n0.83,0.95,4,251,5,0,1,0,marketing,medium\\n0.45,0.57,2,148,3,0,1,0,marketing,high\\n0.43,0.51,2,141,3,0,1,0,sales,low\\n0.8,0.75,3,268,2,0,1,0,sales,medium\\n0.1,0.86,6,247,4,0,1,0,sales,medium\\n0.1,0.55,2,247,4,0,1,0,sales,medium\\n0.36,0.52,2,146,3,0,1,0,sales,medium\\n0.38,0.5,2,140,3,0,1,0,sales,low\\n0.78,0.98,5,263,6,0,1,0,sales,low\\n0.44,0.49,2,145,3,0,1,0,sales,low\\n0.41,0.46,2,156,3,1,1,0,sales,low\\n0.72,0.85,5,244,6,0,1,0,sales,low\\n0.46,0.54,2,144,3,0,1,0,sales,low\\n0.1,0.9,7,286,4,0,1,0,sales,low\\n0.34,0.67,4,141,2,0,1,0,sales,low\\n0.11,0.89,6,260,5,0,1,0,sales,low\\n0.38,0.56,2,154,3,0,1,0,sales,low\\n0.82,0.92,5,225,5,0,1,0,sales,low\\n0.39,0.57,2,127,3,0,1,0,sales,low\\n0.44,0.53,2,140,3,0,1,0,sales,low\\n0.43,0.52,2,147,3,0,1,0,sales,low\\n0.84,0.83,4,227,5,0,1,0,accounting,low\\n0.43,0.48,2,153,3,0,1,0,accounting,low\\n0.37,0.52,2,128,3,0,1,0,accounting,low\\n0.74,0.97,4,228,5,0,1,0,hr,low\\n0.73,0.97,5,235,5,0,1,0,hr,low\\n0.37,0.47,2,148,3,0,1,0,hr,low\\n0.58,0.62,4,238,3,0,1,0,hr,low\\n0.4,0.54,2,141,3,0,1,0,technical,medium\\n0.51,0.83,5,249,4,0,1,0,technical,medium\\n0.46,0.5,2,151,3,0,1,0,technical,medium\\n0.45,0.54,2,129,3,0,1,0,technical,medium\\n0.46,0.5,2,156,3,0,1,0,technical,medium\\n0.39,0.45,2,134,3,0,1,0,technical,medium\\n0.09,0.88,6,269,4,0,1,0,technical,medium\\n0.09,0.77,6,290,4,0,1,0,technical,medium\\n0.37,0.51,2,132,3,0,1,0,technical,medium\\n0.1,0.89,7,308,4,0,1,0,technical,medium\\n0.77,1,4,232,5,0,1,0,technical,medium\\n0.79,0.86,5,235,5,0,1,0,support,medium\\n0.43,0.55,2,130,3,0,1,0,support,high\\n0.38,0.53,2,146,3,0,1,0,support,low\\n0.77,0.91,5,221,6,0,1,0,support,medium\\n0.44,0.5,2,130,3,0,1,0,support,medium\\n0.39,0.46,2,136,3,0,1,0,support,medium\\n0.78,0.89,5,274,6,0,1,0,support,medium\\n0.1,0.79,6,256,5,0,1,0,support,low\\n0.1,0.77,5,276,4,0,1,0,support,low\\n0.75,0.85,5,267,5,0,1,0,support,low\\n0.46,0.62,6,213,3,0,1,0,support,low\\n0.91,0.97,4,274,6,0,1,0,technical,low\\n0.1,0.92,6,258,4,0,1,0,technical,low\\n0.72,0.6,3,153,5,0,1,0,technical,low\\n0.11,0.95,6,245,4,0,1,0,management,low\\n0.11,0.94,6,264,4,0,1,0,IT,low\\n0.46,0.57,2,154,3,0,1,0,IT,low\\n0.37,0.46,2,149,3,0,1,0,IT,low\\n0.46,0.5,2,157,3,0,1,0,IT,low\\n0.43,0.57,2,127,3,0,1,0,IT,low\\n0.11,0.82,6,270,4,0,1,0,product_mng,low\\n0.73,0.89,5,236,6,0,1,0,product_mng,low\\n0.43,0.47,2,158,3,0,1,0,product_mng,low\\n0.86,1,5,229,5,0,1,0,product_mng,low\\n0.1,0.83,6,269,4,0,1,0,IT,low\\n0.4,0.49,2,128,3,0,1,0,sales,low\\n0.11,0.87,7,278,4,0,1,0,sales,low\\n0.86,0.98,3,158,5,0,1,0,sales,low\\n0.42,1,3,202,3,0,1,0,sales,medium\\n0.79,0.84,4,240,5,0,1,0,sales,medium\\n0.1,0.96,7,255,4,0,1,0,marketing,medium\\n0.09,0.92,7,254,4,0,1,0,sales,medium\\n0.09,0.82,6,257,4,0,1,0,accounting,medium\\n0.87,1,4,228,5,0,1,0,support,medium\\n0.36,0.49,2,145,3,0,1,0,technical,medium\\n0.42,0.75,3,218,4,0,1,0,management,medium\\n0.84,0.86,5,268,5,0,1,0,marketing,medium\\n0.1,0.83,6,278,4,0,1,0,marketing,medium\\n0.78,0.71,3,249,5,0,1,0,marketing,medium\\n0.35,0.99,3,236,4,0,1,0,sales,medium\\n0.1,0.81,7,291,4,0,1,0,sales,high\\n0.11,0.8,6,306,4,0,1,0,sales,low\\n0.43,0.48,2,135,3,0,1,0,sales,medium\\n0.38,0.45,2,156,3,0,1,0,sales,medium\\n0.46,0.54,2,143,3,0,1,0,sales,medium\\n0.89,0.82,4,243,5,0,1,0,sales,medium\\n0.45,0.5,2,147,3,0,1,0,sales,low\\n0.44,0.53,2,159,3,0,1,0,sales,low\\n0.74,0.54,5,216,3,0,1,0,sales,low\\n0.45,0.54,2,152,3,0,1,0,sales,low\\n0.79,0.93,4,226,5,0,1,0,sales,low\\n0.79,0.91,5,271,5,0,1,0,sales,low\\n0.11,0.87,6,255,4,0,1,0,sales,low\\n0.42,0.48,2,140,3,0,1,0,sales,low\\n0.64,0.9,6,252,2,0,1,0,sales,low\\n0.4,0.55,2,159,3,0,1,0,sales,low\\n0.84,0.98,5,270,5,0,1,0,sales,low\\n0.73,0.92,5,232,5,0,1,0,sales,low\\n0.4,0.51,2,144,3,0,1,0,accounting,low\\n0.36,0.45,2,127,3,0,1,0,accounting,low\\n0.43,0.47,2,131,3,0,1,0,accounting,low\\n0.11,0.78,6,243,4,0,1,0,hr,low\\n0.91,1,5,244,6,0,1,0,hr,low\\n0.8,1,5,260,5,0,1,0,hr,low\\n0.42,0.49,2,139,3,0,1,0,hr,low\\n0.31,0.87,4,184,3,0,1,0,technical,low\\n0.44,0.47,2,130,3,0,1,0,technical,low\\n0.38,0.54,2,135,3,0,1,0,technical,medium\\n0.45,0.56,2,146,3,0,1,0,technical,medium\\n0.43,0.46,2,149,3,0,1,0,technical,medium\\n0.45,0.46,2,153,3,1,1,0,technical,medium\\n0.43,0.57,2,160,3,0,1,0,technical,medium\\n0.43,0.49,2,160,3,0,1,0,technical,medium\\n0.09,0.83,6,282,4,0,1,0,technical,medium\\n0.43,0.47,2,128,3,0,1,0,technical,medium\\n0.79,0.94,4,232,5,0,1,0,technical,medium\\n0.85,0.58,3,226,2,0,1,0,support,medium\\n0.38,0.45,2,129,3,0,1,0,support,medium\\n0.11,0.92,7,255,4,0,1,0,support,medium\\n0.83,0.99,5,258,5,0,1,0,support,high\\n0.81,0.91,4,229,5,0,1,0,support,low\\n0.42,0.56,2,143,3,0,1,0,support,medium\\n0.11,0.87,6,257,4,0,1,0,support,medium\\n0.11,0.85,7,275,4,0,1,0,support,medium\\n0.1,0.89,7,291,4,0,1,0,support,medium\\n0.5,0.54,5,153,4,0,1,0,support,low\\n0.44,0.49,2,154,3,0,1,0,support,low\\n0.11,0.9,6,301,4,0,1,0,technical,low\\n0.39,0.52,2,134,3,0,1,0,technical,low\\n0.11,0.78,6,245,4,0,1,0,technical,low\\n0.36,0.5,2,132,3,0,1,0,management,low\\n0.43,0.51,2,130,3,0,1,0,IT,low\\n0.4,0.5,2,127,3,0,1,0,IT,low\\n0.86,0.84,4,246,6,0,1,0,IT,low\\n0.38,0.49,2,145,3,0,1,0,IT,low\\n0.46,0.45,2,138,3,0,1,1,IT,low\\n0.37,0.57,2,129,3,0,1,0,product_mng,low\\n0.43,0.52,2,150,3,0,1,0,product_mng,low\\n0.66,0.93,5,253,5,0,1,0,product_mng,low\\n0.37,0.48,2,160,3,0,1,0,product_mng,low\\n0.77,0.92,5,235,5,0,1,0,IT,low\\n0.38,0.55,2,151,3,0,1,0,sales,low\\n0.39,0.54,2,127,3,0,1,0,sales,low\\n0.41,0.55,2,151,3,0,1,0,sales,low\\n0.1,0.9,7,290,4,0,1,0,sales,low\\n0.09,0.93,6,249,4,0,1,0,sales,low\\n0.41,0.47,2,131,3,0,1,0,marketing,medium\\n0.39,0.46,2,159,3,0,1,0,sales,medium\\n0.83,0.99,4,223,5,0,1,0,accounting,medium\\n0.09,0.87,3,214,2,0,1,0,support,medium\\n0.75,0.81,5,227,5,0,1,0,technical,medium\\n0.44,0.54,2,127,3,0,1,0,management,medium\\n0.1,0.84,6,293,5,0,1,0,marketing,medium\\n0.42,0.46,2,141,3,0,1,0,marketing,medium\\n0.1,0.83,6,300,4,0,1,0,marketing,medium\\n0.1,0.86,6,309,4,0,1,0,sales,medium\\n0.31,0.77,4,149,3,0,1,0,sales,medium\\n0.42,0.54,2,159,3,0,1,0,sales,medium\\n0.38,0.5,2,152,3,0,1,0,sales,high\\n0.39,0.57,2,158,3,0,1,0,sales,low\\n0.1,0.97,6,254,5,0,1,0,sales,medium\\n0.11,0.93,6,294,4,0,1,0,sales,medium\\n0.1,0.92,7,269,4,0,1,0,sales,medium\\n0.11,0.9,7,247,4,0,1,0,sales,medium\\n0.44,0.65,3,271,4,0,1,0,sales,low\\n0.91,0.96,4,232,5,0,1,0,sales,low\\n0.72,1,4,245,5,0,1,0,sales,low\\n0.66,0.66,3,225,3,0,0,0,technical,low\\n0.2,0.69,6,236,4,0,0,0,technical,low\\n0.97,0.78,3,268,3,1,0,0,technical,low\\n0.59,0.73,2,230,3,0,0,0,technical,low\\n0.88,0.6,4,162,2,0,0,0,technical,low\\n0.16,0.73,4,197,2,0,0,0,technical,low\\n0.61,0.96,3,247,3,0,0,0,support,low\\n0.52,0.79,4,234,3,0,0,0,support,low\\n0.82,0.49,4,276,4,0,0,0,support,low\\n0.75,0.94,5,217,2,0,0,0,support,medium\\n0.62,0.5,4,156,2,0,0,0,support,medium\\n0.91,0.88,3,189,2,0,0,0,support,medium\\n0.61,0.98,2,238,4,0,0,0,support,medium\\n0.79,0.77,3,201,6,1,0,0,support,medium\\n0.9,0.93,4,263,3,1,0,0,support,medium\\n0.75,0.83,3,146,3,0,0,0,support,medium\\n0.81,0.64,4,213,3,0,0,0,support,medium\\n0.59,0.88,3,159,2,0,0,0,technical,medium\\n0.56,0.83,3,236,3,1,0,0,technical,medium\\n0.98,0.79,5,257,4,0,0,0,technical,medium\\n0.59,0.72,4,168,4,0,0,0,management,medium\\n0.61,0.67,4,151,3,0,0,0,IT,high\\n0.78,0.7,4,139,3,0,0,0,IT,low\\n0.55,0.93,5,196,3,0,0,0,IT,medium\\n0.2,0.97,4,237,5,0,0,0,IT,medium\\n0.79,0.44,2,236,3,0,0,0,IT,medium\\n0.52,0.98,4,265,3,0,0,0,product_mng,medium\\n0.97,0.52,4,207,3,0,0,0,product_mng,low\\n0.63,0.94,4,219,3,0,0,0,product_mng,low\\n0.85,0.99,3,208,2,0,0,0,product_mng,low\\n0.59,0.74,3,240,3,0,0,0,IT,low\\n0.64,0.6,3,135,3,0,0,0,RandD,low\\n0.8,0.67,3,236,3,1,0,0,RandD,low\\n0.61,0.75,3,140,3,0,0,0,RandD,low\\n0.87,0.61,3,162,2,0,0,0,RandD,low\\n0.75,0.59,3,117,3,1,0,0,RandD,medium\\n0.96,0.51,4,225,3,0,0,0,marketing,medium\\n0.75,0.92,3,211,3,0,0,0,sales,medium\\n0.19,0.58,4,173,5,0,0,0,accounting,medium\\n0.52,0.97,4,170,3,0,0,0,support,medium\\n0.6,0.6,3,242,3,0,0,0,technical,medium\\n0.9,0.81,4,175,3,0,0,0,management,medium\\n0.89,0.92,3,195,2,0,0,0,marketing,medium\\n0.54,0.93,4,184,2,1,0,0,marketing,medium\\n0.99,0.55,3,170,3,0,0,0,marketing,medium\\n0.66,0.56,4,185,3,0,0,0,sales,medium\\n0.92,0.64,4,259,2,0,0,0,sales,medium\\n0.19,0.72,4,102,3,0,0,0,sales,medium\\n0.39,0.37,5,156,4,0,0,0,sales,medium\\n0.41,0.68,3,191,4,0,0,0,sales,medium\\n0.6,0.49,3,239,2,0,0,0,sales,medium\\n0.95,0.54,4,235,4,0,0,0,sales,medium\\n0.51,0.87,2,130,4,0,0,0,sales,medium\\n0.54,0.74,2,166,3,0,0,0,sales,medium\\n0.16,0.54,5,206,5,0,0,0,sales,medium\\n0.98,0.77,3,191,2,0,0,0,sales,medium\\n0.65,0.75,3,214,3,0,0,0,sales,medium\\n0.38,0.5,3,196,3,0,0,0,sales,medium\\n0.95,0.71,4,151,4,0,0,0,sales,medium\\n0.6,0.62,5,165,2,0,0,0,sales,medium\\n0.78,0.91,3,177,2,0,0,0,sales,high\\n0.19,0.63,6,241,6,0,0,0,sales,high\\n0.56,0.99,4,230,3,0,0,0,sales,high\\n0.21,0.71,4,270,2,0,0,0,sales,high\\n0.83,0.71,3,234,4,0,0,0,accounting,high\\n0.5,0.64,3,257,2,1,0,0,accounting,high\\n0.74,0.87,5,264,3,0,0,0,accounting,high\\n0.75,0.83,4,133,4,0,0,0,hr,high\\n0.85,0.66,4,155,4,0,0,0,hr,high\\n0.93,0.59,3,202,2,0,0,0,hr,high\\n0.76,0.7,3,136,2,0,0,0,hr,high\\n0.91,0.78,3,269,3,1,0,0,technical,high\\n0.22,0.54,6,169,4,0,0,0,technical,low\\n0.78,0.52,5,192,3,1,0,0,technical,low\\n0.53,0.8,4,241,3,1,0,0,technical,low\\n0.58,0.69,4,165,3,0,0,0,technical,low\\n0.99,0.81,3,183,2,0,0,0,technical,low\\n0.62,0.64,4,163,3,0,0,0,technical,low\\n0.59,0.69,3,162,3,0,0,0,technical,low\\n0.13,0.76,5,219,4,0,0,0,technical,low\\n0.19,0.63,4,278,6,0,0,0,technical,low\\n0.94,0.99,2,273,4,0,0,0,technical,low\\n0.53,0.96,4,272,2,0,0,0,support,low\\n0.96,0.85,5,168,2,0,0,0,support,low\\n0.62,0.87,4,221,3,1,0,0,support,low\\n0.81,0.86,4,213,3,0,0,0,support,low\\n0.63,0.78,4,275,3,0,0,0,support,low\\n0.92,0.68,5,177,4,0,0,0,support,medium\\n0.83,0.74,4,249,2,0,0,0,support,medium\\n0.49,0.37,5,246,3,0,0,0,support,medium\\n0.8,0.66,4,223,3,0,0,0,support,medium\\n0.54,0.76,4,244,2,0,0,0,support,medium\\n0.37,0.72,3,169,2,1,0,0,support,medium\\n0.93,0.56,5,140,3,0,0,0,technical,medium\\n0.88,0.99,5,253,2,0,0,0,technical,medium\\n0.79,0.87,3,194,2,0,0,0,technical,medium\\n0.65,0.88,4,173,3,0,0,0,management,medium\\n0.72,0.7,4,172,3,0,0,0,IT,medium\\n0.58,0.49,3,167,3,0,0,0,IT,medium\\n0.37,0.51,2,153,3,0,0,0,IT,high\\n0.87,0.97,4,243,3,0,0,0,IT,high\\n0.63,0.72,6,163,4,0,0,0,IT,high\\n0.72,0.79,3,221,3,0,0,0,product_mng,high\\n0.36,0.55,3,191,3,0,0,0,product_mng,high\\n0.96,0.7,4,272,3,0,0,0,product_mng,high\\n0.52,0.37,2,118,2,0,0,0,product_mng,high\\n0.16,0.83,5,173,4,0,0,0,IT,high\\n0.63,0.55,4,200,3,1,0,0,RandD,low\\n0.92,0.76,5,132,3,1,0,0,RandD,low\\n0.82,0.49,4,180,2,0,0,0,RandD,low\\n0.18,0.54,4,145,5,0,0,0,RandD,low\\n0.73,0.48,4,139,2,0,0,0,RandD,low\\n0.44,0.61,5,230,6,0,0,0,marketing,low\\n0.73,0.62,4,247,4,0,0,0,sales,low\\n0.62,0.95,4,140,2,0,0,0,accounting,low\\n0.94,0.8,4,266,3,1,0,0,support,medium\\n0.76,0.74,4,261,3,0,0,0,technical,medium\\n0.89,0.49,4,275,3,0,0,0,management,medium\\n0.9,0.88,5,254,2,0,0,0,marketing,medium\\n1,0.93,5,231,2,0,0,0,marketing,medium\\n0.71,0.9,3,138,3,0,0,0,marketing,medium\\n0.73,0.97,4,163,3,0,0,0,sales,medium\\n0.97,0.9,5,262,3,0,0,0,sales,medium\\n0.6,0.59,4,201,3,0,0,0,sales,medium\\n0.82,0.67,3,229,3,0,0,0,sales,medium\\n0.95,0.48,4,228,2,0,0,0,sales,medium\\n0.88,0.65,5,228,3,0,0,0,sales,medium\\n0.79,0.49,3,273,3,0,0,0,sales,medium\\n0.52,0.96,4,171,2,0,0,0,sales,medium\\n0.22,0.61,3,148,5,0,0,0,sales,medium\\n0.59,0.96,5,211,3,0,0,0,sales,medium\\n0.84,0.64,2,211,3,0,0,0,sales,medium\\n0.54,0.41,3,175,3,0,0,0,sales,medium\\n1,0.86,4,245,4,0,0,0,sales,medium\\n0.93,0.59,3,273,2,1,0,0,sales,medium\\n0.96,0.55,3,225,4,1,0,0,sales,medium\\n0.56,0.41,5,152,3,0,0,0,sales,medium\\n0.49,0.66,5,194,3,0,0,0,sales,medium\\n0.89,0.51,4,185,3,1,0,0,sales,high\\n0.57,0.91,3,193,2,0,0,0,sales,low\\n0.96,0.64,3,166,2,0,0,0,accounting,medium\\n0.65,0.89,5,223,3,1,0,0,accounting,medium\\n0.14,0.66,5,281,4,1,0,0,accounting,medium\\n0.64,0.49,3,241,3,0,0,0,hr,medium\\n0.98,0.91,3,165,2,1,0,0,hr,medium\\n0.71,0.59,4,143,2,0,0,0,hr,medium\\n0.96,0.49,5,137,3,0,0,0,hr,medium\\n0.9,0.57,4,185,3,1,0,0,technical,medium\\n0.52,0.96,3,271,3,1,0,0,technical,medium\\n0.78,0.98,4,207,2,1,0,0,technical,medium\\n0.62,0.69,4,184,3,0,0,0,technical,low\\n0.6,0.8,4,253,2,0,0,0,technical,low\\n0.82,0.62,3,152,6,0,0,0,technical,low\\n0.52,0.55,3,225,2,0,0,0,technical,low\\n0.13,0.84,5,189,5,0,0,0,technical,low\\n0.97,0.93,3,153,2,0,0,0,technical,low\\n0.63,0.9,4,245,3,0,0,0,technical,low\\n0.68,0.78,5,233,3,0,0,0,technical,high\\n0.74,0.83,4,210,3,0,0,0,support,low\\n0.89,0.57,4,176,4,0,0,0,support,high\\n0.28,0.95,5,191,3,0,0,0,support,high\\n0.61,0.9,3,224,3,0,0,0,support,low\\n0.67,0.49,3,185,3,0,0,0,support,low\\n0.86,0.64,3,245,4,0,0,0,support,high\\n0.87,0.93,3,173,2,0,0,0,support,low\\n0.7,0.95,4,231,3,0,0,0,support,medium\\n0.68,0.84,3,270,3,0,0,0,support,high\\n0.69,0.75,5,196,3,0,0,0,support,medium\\n0.97,0.83,3,238,2,0,0,0,support,medium\\n0.62,0.89,4,261,2,0,0,0,technical,medium\\n0.55,0.87,3,201,2,0,0,0,technical,medium\\n0.61,0.73,3,252,3,0,0,0,technical,high\\n0.15,0.81,3,191,5,0,0,0,management,medium\\n0.84,0.86,3,199,3,0,0,0,IT,medium\\n0.87,0.64,5,234,2,1,0,0,IT,medium\\n0.93,0.86,4,192,4,0,0,0,IT,high\\n0.14,0.73,6,237,5,0,0,0,IT,medium\\n0.96,0.7,3,207,3,0,0,0,IT,high\\n0.41,0.63,2,145,2,0,0,0,product_mng,low\\n0.84,0.96,6,155,5,0,0,0,product_mng,medium\\n0.94,0.69,5,145,2,0,0,0,product_mng,medium\\n0.6,0.86,6,247,6,0,0,0,product_mng,medium\\n0.7,0.73,4,182,3,0,0,0,IT,medium\\n0.29,0.91,4,183,4,0,0,0,RandD,low\\n0.31,0.51,2,146,3,0,0,0,RandD,low\\n0.73,0.99,3,241,3,0,0,0,RandD,low\\n0.51,0.52,5,261,3,1,0,0,RandD,low\\n0.58,0.77,4,140,3,0,0,0,RandD,low\\n0.59,0.97,3,257,3,0,0,0,marketing,low\\n0.95,0.9,3,186,2,0,0,0,marketing,low\\n0.84,0.93,3,159,3,0,0,0,sales,low\\n0.28,0.37,3,164,4,1,0,0,accounting,low\\n0.94,0.52,4,217,6,1,0,0,support,low\\n0.49,0.59,4,137,4,0,0,0,technical,high\\n0.72,0.5,4,164,2,1,0,0,management,low\\n0.19,0.85,5,249,3,0,0,0,marketing,low\\n0.83,0.95,3,264,2,0,0,0,marketing,low\\n0.79,0.92,4,208,2,1,0,0,marketing,low\\n0.72,0.61,3,175,3,0,0,0,sales,high\\n0.97,0.74,4,209,2,0,0,0,sales,low\\n0.92,0.83,4,268,4,0,0,0,sales,low\\n0.95,0.53,3,264,3,0,0,0,sales,low\\n0.76,0.64,4,234,2,0,0,0,sales,high\\n0.24,0.62,5,199,4,0,0,0,sales,low\\n0.89,0.99,4,205,2,0,0,1,sales,medium\\n0.69,0.63,5,140,4,0,0,1,sales,high\\n0.92,0.98,3,257,3,0,0,1,sales,medium\\n0.79,0.61,4,227,2,0,0,1,sales,high\\n0.87,0.94,4,189,3,0,0,1,sales,medium\\n0.89,0.88,5,241,2,1,0,0,sales,medium\\n0.75,0.77,5,199,4,0,0,0,sales,medium\\n0.78,0.6,4,206,3,0,0,0,sales,medium\\n0.13,0.62,5,268,3,0,0,0,sales,medium\\n0.94,0.86,3,221,3,1,0,0,sales,medium\\n0.94,0.88,4,262,2,0,0,0,sales,medium\\n0.67,0.6,5,253,6,0,0,0,sales,medium\\n0.6,0.73,5,241,3,0,0,0,sales,high\\n0.62,0.94,4,252,4,0,0,0,accounting,low\\n0.38,0.52,2,171,3,0,0,0,accounting,medium\\n0.8,0.77,4,194,3,0,0,0,accounting,medium\\n0.61,0.42,3,104,2,0,0,0,hr,medium\\n0.61,0.56,4,176,3,0,0,0,hr,medium\\n0.66,0.8,4,192,3,0,0,0,hr,medium\\n0.56,0.74,3,154,2,0,0,0,hr,medium\\n1,0.55,4,186,4,1,0,0,technical,medium\\n0.73,0.86,3,200,4,0,0,0,technical,medium\\n0.6,0.66,4,132,4,0,0,0,technical,medium\\n0.78,0.59,5,236,3,0,0,0,technical,high\\n0.48,0.53,3,211,4,0,0,0,technical,low\\n0.9,0.77,4,273,2,0,0,0,technical,low\\n0.16,0.76,4,223,4,0,0,0,technical,low\\n0.5,0.75,3,204,2,0,0,0,technical,high\\n0.66,0.65,3,196,3,1,0,0,technical,low\\n0.44,0.37,2,219,2,0,0,0,technical,low\\n0.95,0.67,4,261,3,0,0,0,technical,low\\n0.9,0.65,3,254,2,0,0,0,support,high\\n0.27,0.48,4,185,2,0,0,0,support,low\\n0.51,0.74,6,98,3,0,0,0,support,low\\n0.68,0.76,3,260,4,0,0,0,support,low\\n0.97,0.93,5,137,2,1,0,0,support,low\\n0.91,0.75,4,159,3,1,0,0,support,low\\n0.76,0.88,5,265,4,0,0,0,support,low\\n0.88,0.61,4,177,4,1,0,0,support,low\\n0.83,0.73,4,247,2,0,0,0,support,medium\\n0.78,0.54,3,161,3,0,0,0,support,medium\\n0.52,0.38,2,103,3,0,0,0,support,medium\\n0.63,0.49,4,151,3,0,0,0,technical,medium\\n0.9,0.74,3,193,3,0,0,0,technical,medium\\n0.48,0.58,3,194,3,0,0,0,technical,medium\\n0.7,0.6,5,208,3,0,0,0,management,medium\\n0.68,0.66,4,229,3,0,0,0,IT,medium\\n0.7,0.87,3,166,2,0,0,0,IT,medium\\n0.77,0.5,3,141,3,0,0,0,IT,medium\\n0.73,0.93,3,249,2,0,0,0,IT,medium\\n0.87,0.48,4,264,3,0,0,0,IT,medium\\n0.65,0.98,3,252,2,0,0,0,product_mng,high\\n0.62,0.7,2,134,3,0,0,0,product_mng,low\\n0.53,0.51,3,274,2,1,0,0,product_mng,medium\\n0.59,0.39,5,200,4,0,0,0,product_mng,medium\\n0.87,0.72,2,154,3,0,0,0,IT,medium\\n0.47,0.53,3,111,4,0,0,0,RandD,medium\\n0.96,0.81,3,247,3,0,0,0,RandD,low\\n0.79,0.74,3,169,3,0,0,0,RandD,low\\n0.84,0.6,3,250,3,1,0,0,RandD,low\\n0.68,0.49,3,178,3,1,0,0,RandD,low\\n0.86,0.66,4,251,3,0,0,0,RandD,low\\n0.73,0.98,5,272,2,0,0,0,marketing,low\\n0.9,0.67,2,229,4,0,0,0,sales,low\\n0.63,0.64,3,180,3,0,0,0,accounting,low\\n0.71,0.72,3,271,2,0,0,0,support,low\\n0.71,0.68,5,226,3,0,0,0,technical,low\\n0.95,0.62,4,150,2,0,0,0,management,low\\n0.51,0.86,4,260,3,1,0,0,marketing,low\\n0.77,0.91,4,161,3,0,0,0,marketing,low\\n0.48,0.51,3,136,3,0,0,0,marketing,low\\n0.93,0.91,2,238,2,1,0,0,sales,low\\n0.83,0.86,4,98,4,0,0,0,sales,low\\n0.61,0.73,5,156,4,0,0,0,sales,low\\n0.97,0.89,4,248,2,0,0,0,sales,low\\n0.5,0.81,3,170,2,0,0,0,sales,low\\n0.84,0.54,3,245,3,0,0,0,sales,low\\n0.58,0.38,4,203,5,0,0,0,sales,low\\n0.59,0.72,3,182,3,0,0,0,sales,medium\\n0.77,0.83,3,175,3,0,0,1,sales,medium\\n0.78,0.4,4,145,5,1,0,1,sales,medium\\n0.6,0.96,4,220,3,1,0,1,sales,medium\\n0.53,0.77,4,259,2,1,0,1,sales,medium\\n0.73,0.69,3,228,2,0,0,1,sales,medium\\n0.76,0.94,3,189,3,0,0,0,sales,medium\\n0.12,0.61,6,257,3,0,0,0,sales,medium\\n0.2,0.98,3,180,6,0,0,0,sales,medium\\n0.5,0.77,4,180,3,0,0,0,sales,medium\\n0.79,0.65,5,215,2,1,0,0,sales,medium\\n0.96,0.68,3,132,2,0,0,0,sales,medium\\n0.26,0.69,5,213,2,0,0,0,accounting,high\\n0.8,0.72,4,173,3,0,0,0,accounting,low\\n0.43,0.71,3,186,2,0,0,0,accounting,medium\\n0.87,0.71,4,157,2,0,0,0,hr,medium\\n0.63,0.75,4,175,4,0,0,0,hr,medium\\n0.58,0.48,3,135,3,1,0,0,hr,medium\\n0.2,0.42,4,256,5,0,0,0,hr,low\\n0.62,0.71,4,268,3,0,0,0,technical,low\\n0.91,0.94,5,159,3,0,0,0,technical,low\\n0.66,0.91,3,191,4,0,0,0,technical,low\\n0.53,0.81,3,275,2,0,0,0,technical,low\\n0.52,0.98,5,217,2,1,0,0,technical,low\\n1,0.88,6,201,4,0,0,0,technical,low\\n0.73,0.67,4,205,3,0,0,0,technical,low\\n0.65,0.67,3,240,2,1,0,0,technical,low\\n0.5,0.95,5,137,3,0,0,0,technical,low\\n0.94,0.59,4,241,2,0,0,0,technical,low\\n0.48,0.86,5,198,4,0,0,0,technical,low\\n0.67,0.87,5,254,2,0,0,0,support,low\\n0.73,0.94,4,262,3,0,0,0,support,low\\n0.63,0.71,4,244,2,0,0,0,support,low\\n0.84,0.84,4,266,3,0,0,0,support,low\\n0.2,0.94,6,191,5,0,0,0,support,low\\n0.76,0.57,3,148,3,1,0,0,support,low\\n0.55,0.54,3,233,2,0,0,0,support,low\\n0.8,0.55,4,178,2,1,0,0,support,low\\n0.64,0.91,3,165,3,1,0,0,support,low\\n0.59,0.97,5,179,6,0,0,0,support,medium\\n0.92,0.98,3,149,3,0,0,0,support,medium\\n0.75,0.76,3,269,2,1,0,0,technical,medium\\n0.69,0.74,5,227,2,0,0,0,technical,medium\\n0.82,0.93,3,247,3,0,0,0,technical,medium\\n0.88,0.85,3,220,3,0,0,0,management,medium\\n0.89,0.91,3,233,2,0,0,0,IT,medium\\n1,0.79,5,171,5,0,0,0,IT,medium\\n0.66,0.91,4,234,2,1,0,0,IT,medium\\n0.76,0.92,3,176,2,0,0,0,IT,medium\\n0.8,0.62,5,190,4,1,0,0,IT,medium\\n0.58,0.86,4,168,2,0,0,0,product_mng,medium\\n0.73,0.93,3,205,3,0,0,0,product_mng,high\\n1,0.73,5,189,3,1,0,0,product_mng,low\\n0.18,0.9,4,282,4,0,0,0,product_mng,medium\\n0.47,0.46,2,152,2,0,0,0,IT,medium\\n0.92,0.64,4,217,4,0,0,0,RandD,medium\\n0.51,0.5,4,130,3,0,0,0,RandD,medium\\n0.81,0.62,4,153,4,0,0,0,RandD,low\\n0.52,0.57,3,270,3,0,0,0,RandD,low\\n0.95,0.96,3,220,3,0,0,0,RandD,low\\n0.93,0.64,4,253,3,0,0,0,RandD,low\\n0.98,0.67,4,209,6,0,0,0,marketing,low\\n0.79,0.79,4,231,2,0,0,0,sales,low\\n0.99,0.73,4,240,4,0,0,0,accounting,low\\n0.64,0.9,5,266,3,0,0,0,support,low\\n0.54,0.44,3,153,2,0,0,0,technical,low\\n0.79,0.59,4,187,2,0,0,0,management,low\\n0.55,0.98,4,185,2,1,0,0,marketing,low\\n0.18,0.81,4,147,4,0,0,0,marketing,low\\n0.56,0.81,4,188,3,1,0,0,marketing,low\\n0.92,0.67,2,252,2,0,0,0,sales,low\\n0.99,0.75,4,163,2,0,0,0,sales,low\\n0.77,0.85,4,189,2,0,0,0,sales,low\\n0.49,0.52,3,156,2,0,0,0,sales,low\\n0.98,0.58,3,183,3,0,0,0,sales,low\\n0.18,0.54,6,209,5,1,0,0,sales,low\\n0.8,0.82,4,271,4,0,0,0,sales,low\\n0.81,0.77,5,251,2,0,0,0,sales,low\\n0.13,0.61,5,198,5,0,0,0,sales,medium\\n0.58,0.97,3,274,4,1,0,1,sales,medium\\n0.75,0.63,4,209,3,0,0,1,sales,medium\\n0.8,0.94,4,271,4,0,0,1,sales,medium\\n0.78,0.6,4,143,2,0,0,1,sales,medium\\n0.92,0.6,5,236,3,1,0,1,sales,medium\\n0.85,0.98,5,222,3,0,0,1,sales,medium\\n0.52,0.63,3,233,3,0,0,1,sales,medium\\n0.95,0.84,3,270,3,1,0,1,sales,medium\\n0.81,0.92,5,258,3,0,0,1,sales,medium\\n0.16,0.82,6,202,4,1,0,1,sales,medium\\n0.91,0.74,3,150,2,0,0,0,accounting,medium\\n0.62,0.51,4,193,3,0,0,0,accounting,high\\n0.24,0.42,5,210,5,0,0,0,accounting,low\\n0.88,0.51,3,208,3,0,0,0,hr,medium\\n0.94,0.73,3,196,3,0,0,0,hr,medium\\n0.76,0.79,5,187,4,0,0,0,hr,medium\\n0.49,0.67,3,140,2,0,0,0,hr,medium\\n0.93,0.9,4,256,4,0,0,0,technical,low\\n0.92,0.66,4,113,3,0,0,0,technical,low\\n0.19,0.94,4,196,5,0,0,0,technical,low\\n0.66,0.76,3,170,3,0,0,0,technical,low\\n0.16,0.94,4,261,6,0,0,0,technical,low\\n0.83,0.99,5,132,3,0,0,0,technical,low\\n0.69,0.53,3,153,3,0,0,0,technical,low\\n0.82,0.53,3,147,3,1,0,0,technical,low\\n0.88,0.72,5,244,2,0,0,0,technical,low\\n0.31,0.42,4,108,4,0,0,0,technical,low\\n0.83,0.49,4,218,2,0,0,0,technical,low\\n0.94,0.52,5,133,3,0,0,0,support,low\\n0.65,0.79,5,233,3,0,0,0,support,low\\n0.6,0.6,4,147,3,0,0,0,support,low\\n0.52,0.43,3,176,3,0,0,0,support,low\\n0.66,0.89,4,169,4,0,0,0,support,low\\n0.87,0.87,4,144,3,0,0,0,support,low\\n0.2,0.99,5,151,3,1,0,0,support,low\\n0.63,0.91,4,252,3,1,0,0,support,medium\\n0.69,0.98,4,180,3,0,0,0,support,medium\\n0.48,0.61,3,251,3,0,0,0,support,medium\\n0.8,0.8,4,263,4,0,0,0,support,medium\\n0.89,0.74,5,260,6,0,0,0,technical,medium\\n0.67,0.63,3,227,3,0,0,0,technical,medium\\n0.37,0.86,6,260,3,0,0,0,technical,medium\\n0.93,0.61,5,158,3,0,0,0,management,medium\\n0.69,0.52,3,186,3,0,0,0,IT,medium\\n0.16,0.61,4,171,6,0,0,0,IT,medium\\n0.81,0.55,3,199,2,1,0,0,IT,medium\\n0.97,0.63,5,258,2,0,0,0,IT,medium\\n0.77,0.59,4,273,2,0,0,0,IT,high\\n0.75,0.78,2,259,3,0,0,0,product_mng,low\\n0.88,0.82,3,265,3,0,0,0,product_mng,medium\\n0.43,0.51,5,168,4,0,0,0,product_mng,medium\\n0.99,0.99,4,163,4,0,0,0,product_mng,medium\\n0.59,0.65,5,265,3,0,0,0,IT,medium\\n0.89,0.71,4,190,3,0,0,0,RandD,low\\n0.54,0.73,3,157,3,0,0,0,RandD,low\\n0.32,0.86,4,266,4,0,0,0,RandD,low\\n0.17,0.55,6,240,6,0,0,0,RandD,low\\n0.78,0.55,3,143,3,0,0,0,RandD,low\\n0.73,0.68,3,121,5,0,0,0,RandD,low\\n0.65,0.76,2,170,5,0,0,0,IT,low\\n0.8,0.71,4,161,4,0,0,0,IT,low\\n0.61,0.86,3,239,3,0,0,0,IT,low\\n0.67,0.49,3,224,3,0,0,0,IT,low\\n0.63,0.57,3,242,3,0,0,0,product_mng,low\\n0.51,0.58,4,140,2,1,0,0,product_mng,low\\n0.82,0.59,5,170,3,0,0,0,product_mng,low\\n0.79,0.67,5,156,2,0,0,0,product_mng,low\\n0.49,0.6,2,113,5,0,0,0,IT,low\\n0.7,0.59,3,138,3,0,0,0,RandD,low\\n0.13,0.5,3,137,5,0,0,0,RandD,low\\n0.83,0.52,5,217,3,0,0,0,RandD,low\\n0.83,0.91,3,155,3,0,0,0,RandD,low\\n0.19,0.83,5,280,4,0,0,0,RandD,low\\n0.8,0.81,5,248,2,1,0,0,RandD,low\\n0.49,0.67,2,190,8,0,0,0,marketing,medium\\n0.92,0.99,3,176,8,0,0,0,sales,medium\\n0.81,0.55,4,217,8,0,0,0,accounting,medium\\n0.62,0.91,3,269,8,0,0,0,support,medium\\n0.21,0.7,3,238,8,0,0,0,technical,medium\\n0.95,0.74,5,243,6,0,0,0,management,medium\\n0.51,0.8,4,198,6,0,0,0,marketing,medium\\n0.52,0.89,3,188,6,0,0,0,marketing,medium\\n0.64,0.56,3,257,6,0,0,0,marketing,medium\\n0.62,0.79,4,268,6,0,0,0,sales,medium\\n0.73,0.88,5,233,4,1,0,0,sales,medium\\n0.32,0.86,4,214,5,0,0,0,sales,medium\\n0.78,0.96,2,285,3,0,0,0,sales,high\\n0.65,0.91,4,224,2,1,0,0,sales,low\\n0.56,0.92,4,224,3,0,0,0,sales,medium\\n0.96,0.89,3,142,4,0,0,0,sales,medium\\n0.79,0.82,4,220,3,0,0,0,sales,medium\\n0.66,0.58,4,244,3,0,0,0,sales,medium\\n0.67,0.68,4,171,3,0,0,0,sales,low\\n0.86,0.82,4,274,2,1,0,0,sales,low\\n0.57,0.72,4,214,2,1,0,0,sales,low\\n0.86,0.87,5,171,2,0,0,0,sales,low\\n0.52,0.59,5,150,2,0,0,0,sales,low\\n0.73,0.61,4,260,2,1,0,0,sales,low\\n0.78,0.63,5,259,3,0,0,0,sales,low\\n0.95,0.63,3,153,2,0,0,0,sales,low\\n0.75,0.61,3,263,3,0,0,0,sales,low\\n0.83,0.52,2,149,2,1,0,0,sales,low\\n0.48,1,4,261,3,0,0,0,accounting,low\\n0.3,0.58,2,189,4,1,0,0,accounting,low\\n0.72,0.85,5,237,4,0,0,0,accounting,low\\n0.61,0.52,3,224,3,0,0,0,hr,low\\n0.31,0.87,6,240,3,1,0,0,hr,low\\n0.62,0.81,3,245,2,1,0,0,hr,low\\n0.48,0.49,3,268,3,0,0,0,hr,low\\n0.97,0.89,4,208,2,1,0,0,technical,low\\n0.61,0.83,4,153,2,0,0,0,technical,low\\n0.93,0.99,3,169,3,0,0,0,technical,low\\n0.89,0.39,5,218,2,0,0,0,technical,low\\n0.95,0.9,3,155,3,0,0,0,technical,medium\\n0.36,0.44,5,155,3,0,0,0,technical,medium\\n0.29,0.39,6,105,6,0,0,0,technical,medium\\n0.65,0.83,4,251,2,0,0,0,technical,medium\\n0.72,0.54,4,219,2,0,0,0,technical,medium\\n0.51,0.56,4,198,2,1,0,0,technical,medium\\n0.54,0.53,4,158,2,0,0,0,technical,medium\\n0.66,0.58,3,157,2,0,0,0,support,medium\\n0.59,0.54,4,178,2,0,0,0,support,medium\\n0.45,0.48,3,145,2,0,0,0,support,medium\\n0.15,0.91,5,230,3,0,0,0,support,medium\\n0.95,0.53,3,174,3,0,0,0,support,medium\\n0.49,0.59,5,140,3,0,0,0,support,high\\n0.68,0.97,3,174,2,0,0,0,support,low\\n0.7,0.76,4,173,2,0,0,0,support,medium\\n0.9,0.73,2,203,4,0,0,0,support,medium\\n0.94,0.95,5,170,3,0,0,0,support,medium\\n0.8,0.86,3,203,3,0,0,0,support,medium\\n0.59,0.53,5,169,3,0,0,0,technical,low\\n0.43,0.96,3,109,6,0,0,0,technical,low\\n0.7,0.54,5,263,3,0,0,0,technical,low\\n0.51,0.62,4,185,3,0,0,0,management,low\\n0.12,0.49,4,191,5,0,0,0,IT,low\\n0.14,0.56,5,259,4,1,0,0,IT,low\\n0.86,0.91,4,253,3,0,0,0,IT,low\\n0.97,0.5,3,216,3,0,0,0,IT,low\\n1,0.86,2,264,3,0,0,0,IT,medium\\n0.49,0.63,3,181,3,1,0,0,product_mng,medium\\n0.9,0.93,3,209,3,0,0,0,product_mng,medium\\n0.82,0.89,4,239,2,0,0,0,product_mng,medium\\n0.59,0.48,3,197,3,0,0,0,product_mng,medium\\n0.97,0.57,4,150,2,0,0,0,IT,medium\\n0.69,0.88,3,164,10,0,0,0,management,medium\\n0.73,0.84,3,216,8,0,0,0,management,medium\\n0.48,0.74,2,271,8,1,0,0,management,medium\\n0.94,0.49,4,176,8,0,0,0,management,medium\\n0.74,0.73,3,156,8,0,0,0,management,medium\\n0.65,0.63,4,143,8,0,0,0,management,medium\\n0.93,0.94,4,233,6,0,0,0,IT,medium\\n0.57,0.67,3,138,6,1,0,0,IT,medium\\n0.9,0.49,3,259,6,0,0,0,IT,medium\\n0.55,0.86,4,169,6,0,0,0,IT,medium\\n0.59,0.73,3,172,6,0,0,0,product_mng,medium\\n0.72,0.98,4,156,3,0,0,0,product_mng,medium\\n0.87,0.52,4,140,3,0,0,0,product_mng,medium\\n0.86,0.82,4,212,2,0,0,0,product_mng,medium\\n0.61,0.5,4,269,3,0,0,0,IT,medium\\n0.45,0.63,5,111,5,0,0,0,management,medium\\n0.51,0.63,4,198,2,0,0,0,management,medium\\n0.87,0.92,4,263,3,0,0,0,management,medium\\n0.29,0.38,5,191,5,0,0,0,management,medium\\n0.57,0.64,3,188,3,0,0,0,management,medium\\n0.69,0.83,4,252,3,0,0,0,management,medium\\n0.61,0.9,2,142,3,0,0,0,marketing,high\\n0.96,0.85,4,247,3,0,0,0,sales,high\\n0.16,0.61,6,269,2,0,0,0,accounting,high\\n0.96,0.82,4,244,3,0,0,0,support,high\\n0.77,0.81,4,164,3,0,0,0,technical,high\\n0.85,0.87,6,232,5,0,0,0,management,high\\n0.37,0.49,3,177,3,0,0,0,marketing,high\\n0.68,0.65,3,173,3,1,0,0,marketing,high\\n0.87,0.6,5,165,2,1,0,0,marketing,high\\n0.95,0.8,3,225,2,0,0,0,sales,high\\n0.84,0.63,3,121,3,1,0,0,sales,low\\n0.44,0.51,2,219,4,0,0,0,sales,low\\n0.94,0.73,4,204,2,0,0,0,sales,low\\n0.85,0.94,5,235,4,0,0,0,sales,low\\n0.75,0.51,2,215,2,1,0,0,sales,low\\n0.76,0.67,5,243,3,0,0,0,sales,low\\n0.13,0.97,4,162,6,0,0,0,sales,low\\n0.6,0.79,4,262,3,0,0,0,sales,low\\n0.45,0.55,4,206,2,0,0,0,sales,low\\n0.49,1,2,125,4,1,0,0,sales,low\\n0.19,0.36,3,167,5,0,0,0,sales,low\\n0.68,0.89,5,218,5,0,0,0,sales,low\\n0.53,0.91,5,181,3,0,0,0,sales,low\\n1,0.77,5,269,3,0,0,0,sales,low\\n0.99,0.86,3,167,2,0,0,0,sales,low\\n0.29,0.75,6,271,10,0,0,0,sales,medium\\n0.54,0.83,4,201,8,1,0,0,sales,medium\\n0.25,0.9,6,229,8,0,0,0,sales,medium\\n0.71,0.76,4,148,8,0,0,0,accounting,medium\\n0.96,0.84,3,147,8,0,0,0,accounting,medium\\n0.8,0.9,4,211,8,0,0,0,accounting,medium\\n0.82,0.87,5,145,6,0,0,0,hr,medium\\n0.19,0.97,6,269,6,0,0,0,hr,medium\\n0.43,0.74,4,129,6,0,0,0,hr,medium\\n0.62,0.84,3,270,6,0,0,0,hr,medium\\n0.75,0.85,3,250,6,0,0,0,technical,medium\\n0.56,0.48,5,192,2,1,0,0,technical,medium\\n0.88,0.91,4,233,4,0,0,0,technical,high\\n0.63,0.57,4,192,3,0,0,0,technical,high\\n0.75,0.93,3,247,2,0,0,0,technical,high\\n0.74,1,4,192,4,0,0,0,technical,high\\n0.55,0.68,3,178,3,1,0,0,technical,high\\n0.87,0.55,4,197,3,0,0,0,technical,high\\n0.13,0.9,5,264,6,0,0,0,technical,high\\n0.33,0.64,2,274,3,1,0,0,technical,high\\n0.89,0.97,4,147,2,0,0,0,technical,low\\n0.56,0.94,3,154,3,1,0,0,support,low\\n0.95,0.61,3,224,2,1,0,0,support,low\\n0.57,0.59,4,250,2,0,0,0,support,low\\n0.72,0.53,3,179,3,0,0,0,support,low\\n0.28,0.44,4,170,2,0,0,0,support,low\\n0.54,0.61,4,118,5,0,0,0,support,low\\n0.54,0.95,4,256,3,0,0,0,support,low\\n0.99,0.8,3,209,2,0,0,0,support,medium\\n0.37,0.69,2,146,3,0,0,0,support,medium\\n0.77,0.87,3,275,4,1,0,0,support,medium\\n0.7,0.88,4,180,2,0,0,0,support,medium\\n0.8,0.74,3,228,3,0,0,0,technical,medium\\n0.52,0.63,3,204,3,0,0,0,technical,medium\\n0.69,0.55,3,172,2,0,0,0,technical,medium\\n0.6,0.62,5,274,3,0,0,0,management,medium\\n0.74,0.64,3,136,2,0,0,0,IT,medium\\n0.69,0.82,4,252,3,1,0,0,IT,medium\\n0.78,0.89,4,137,3,0,0,0,IT,medium\\n0.77,0.75,4,191,3,0,0,0,IT,medium\\n0.91,0.68,4,132,4,0,0,0,IT,medium\\n0.54,0.68,6,249,5,0,0,0,product_mng,medium\\n0.48,0.77,6,274,6,0,0,0,product_mng,medium\\n0.55,0.96,3,194,3,0,0,0,product_mng,medium\\n0.17,0.36,6,191,2,0,0,0,product_mng,medium\\n0.77,0.83,5,216,4,0,0,0,IT,medium\\n0.93,0.98,3,241,3,0,0,0,IT,medium\\n0.65,0.91,4,243,5,1,0,0,IT,medium\\n0.67,0.52,4,207,3,0,0,0,IT,medium\\n0.95,0.88,3,199,3,0,0,0,IT,medium\\n0.61,0.97,6,286,4,0,0,0,product_mng,medium\\n0.57,0.39,4,132,3,0,0,0,product_mng,high\\n0.65,1,4,229,4,0,0,0,product_mng,low\\n0.85,0.81,4,260,3,0,0,0,product_mng,medium\\n0.61,0.96,3,214,2,0,0,0,IT,medium\\n0.65,0.9,6,217,4,1,0,1,RandD,medium\\n0.92,0.93,4,225,2,0,0,1,RandD,medium\\n0.37,0.41,2,113,3,0,0,1,RandD,medium\\n0.48,0.77,5,250,2,0,0,1,RandD,medium\\n0.82,0.91,5,271,2,0,0,1,RandD,medium\\n0.84,0.75,4,135,3,0,0,1,RandD,medium\\n0.57,0.46,2,100,6,1,0,1,marketing,medium\\n0.8,0.75,4,224,3,0,0,1,sales,medium\\n0.49,0.91,4,134,4,0,0,0,accounting,low\\n0.79,0.82,5,158,2,0,0,0,support,low\\n0.48,0.67,3,183,2,0,0,0,technical,low\\n0.28,0.89,4,97,6,0,0,0,management,low\\n0.47,0.56,4,226,3,0,0,0,marketing,low\\n0.91,0.6,4,235,4,1,0,0,marketing,low\\n0.75,0.6,4,186,10,1,0,0,marketing,low\\n0.61,0.89,3,242,10,0,0,0,sales,high\\n0.47,0.79,3,284,10,0,0,0,sales,low\\n0.22,0.7,2,274,10,0,0,0,sales,high\\n0.5,0.48,4,130,10,0,0,0,sales,high\\n0.56,0.87,3,146,10,0,0,0,sales,low\\n0.84,0.85,4,207,10,0,0,0,sales,low\\n0.69,0.72,4,210,2,1,0,0,sales,high\\n0.53,0.64,3,143,2,0,0,0,sales,low\\n0.17,0.57,4,116,3,0,0,0,sales,medium\\n0.48,0.71,2,162,3,1,0,0,sales,high\\n0.94,0.51,3,242,3,0,0,0,sales,medium\\n0.77,0.89,4,153,7,0,0,0,sales,medium\\n1,0.72,5,194,7,1,0,0,sales,medium\\n0.49,0.65,4,233,7,0,0,0,sales,medium\\n0.93,0.73,4,283,7,0,0,0,sales,high\\n0.38,0.43,3,188,7,0,0,0,sales,medium\\n0.6,0.54,4,182,6,0,0,0,sales,medium\\n0.5,0.82,2,286,6,0,0,0,sales,medium\\n0.97,0.55,5,212,6,0,0,0,sales,high\\n0.93,0.95,5,176,6,0,0,1,accounting,medium\\n0.5,1,5,264,8,0,0,1,accounting,high\\n0.52,0.84,3,261,8,0,0,1,accounting,low\\n0.5,0.71,4,163,8,0,0,1,hr,medium\\n0.55,0.4,3,139,8,0,0,1,hr,medium\\n0.95,0.84,3,261,8,1,0,1,hr,medium\\n0.48,0.42,2,275,6,1,0,1,hr,medium\\n0.51,0.39,5,132,6,1,0,1,technical,low\\n0.96,0.48,3,202,6,0,0,0,technical,low\\n0.97,0.84,4,177,6,0,0,0,technical,low\\n0.97,0.66,5,234,6,0,0,0,technical,low\\n0.71,0.54,4,188,6,0,0,0,technical,low\\n0.82,0.49,5,203,6,0,0,0,technical,low\\n0.57,1,4,227,10,0,0,0,technical,low\\n0.48,0.93,3,150,10,0,0,0,technical,low\\n0.71,0.64,3,267,3,0,0,0,technical,low\\n0.63,0.61,5,186,10,0,0,0,technical,low\\n0.99,0.84,4,142,10,0,0,0,technical,high\\n0.79,0.83,3,126,10,1,0,0,support,low\\n0.65,0.85,4,201,10,0,0,0,support,low\\n0.7,0.85,4,142,2,0,0,0,support,low\\n0.99,0.94,4,167,4,0,0,0,support,low\\n0.65,0.62,4,258,2,0,0,0,support,high\\n0.92,0.85,3,207,2,0,0,0,support,low\\n0.24,0.5,4,282,4,1,0,0,support,low\\n0.39,0.89,3,188,5,0,0,0,support,low\\n0.82,0.85,3,214,2,0,0,0,support,high\\n0.78,0.89,4,272,2,0,0,0,support,low\\n0.62,0.79,3,259,3,0,0,0,support,medium\\n0.6,0.61,5,191,2,1,0,0,technical,high\\n0.49,0.57,3,192,3,0,0,0,technical,medium\\n0.82,0.82,3,164,3,0,0,0,technical,high\\n0.48,0.81,4,149,2,0,0,0,management,medium\\n0.69,0.56,4,149,3,0,0,0,IT,medium\\n0.4,0.89,2,165,3,0,0,0,IT,medium\\n0.72,0.8,3,222,3,0,0,0,IT,medium\\n0.75,0.84,5,222,3,1,0,0,IT,medium\\n0.5,0.77,3,265,3,0,0,0,IT,medium\\n0.78,0.5,5,247,4,0,0,0,product_mng,medium\\n0.76,0.45,4,147,2,0,0,0,product_mng,medium\\n0.94,0.52,3,273,3,0,0,0,product_mng,high\\n0.24,0.94,6,144,4,0,0,0,product_mng,low\\n0.99,0.66,3,181,2,0,0,0,IT,medium\\n0.67,0.64,3,198,2,1,0,0,management,medium\\n0.76,0.57,5,255,4,0,0,0,management,medium\\n0.76,0.77,4,169,10,0,0,0,management,medium\\n0.55,0.64,4,201,10,1,0,0,management,medium\\n0.74,0.6,4,274,10,1,0,0,management,medium\\n0.81,0.85,4,134,10,1,0,0,management,medium\\n0.98,0.67,3,190,10,0,0,0,IT,medium\\n0.98,0.98,4,170,10,0,0,0,IT,medium\\n0.58,0.91,3,154,10,0,0,0,product_mng,high\\n0.18,0.75,3,142,2,0,0,0,product_mng,low\\n0.57,0.67,5,235,2,0,0,0,product_mng,low\\n0.7,0.62,3,110,3,0,0,0,product_mng,low\\n0.49,0.77,3,211,3,0,0,0,IT,high\\n0.7,0.56,4,214,3,0,0,1,management,medium\\n0.16,0.93,5,210,7,0,0,1,management,medium\\n0.58,0.59,3,207,7,0,0,1,management,medium\\n0.66,0.57,4,161,7,0,0,1,management,medium\\n0.51,0.55,2,102,7,0,0,1,management,medium\\n0.48,0.84,4,186,7,0,0,1,management,medium\\n0.56,0.71,3,211,6,0,0,1,marketing,low\\n0.81,0.62,3,240,6,0,0,1,sales,low\\n0.57,0.7,4,237,6,0,0,0,accounting,low\\n0.66,0.53,3,164,6,0,0,0,support,low\\n0.22,0.91,6,222,8,0,0,0,technical,low\\n0.96,0.71,3,205,8,1,0,0,management,medium\\n0.87,0.88,4,140,8,0,0,0,marketing,medium\\n0.61,0.42,2,103,8,0,0,0,marketing,medium\\n0.66,0.85,3,178,8,1,0,0,marketing,medium\\n0.9,0.51,4,137,6,0,0,0,sales,medium\\n0.64,0.67,3,143,6,0,0,0,sales,medium\\n0.76,0.82,4,170,6,0,0,0,sales,medium\\n0.97,0.41,5,135,6,0,0,0,sales,medium\\n0.69,0.76,3,174,6,0,0,0,sales,medium\\n0.98,0.55,3,166,6,1,0,0,sales,medium\\n0.18,0.61,5,174,6,0,0,0,sales,medium\\n0.62,0.91,3,251,10,0,0,0,sales,medium\\n0.29,0.37,6,187,10,1,0,0,sales,high\\n0.87,0.48,5,170,3,0,0,0,sales,low\\n0.91,0.64,3,241,10,0,0,0,sales,medium\\n0.53,0.79,3,221,10,1,0,0,sales,medium\\n0.69,0.73,4,257,10,1,0,0,sales,medium\\n0.14,0.58,4,275,10,0,0,0,sales,medium\\n0.7,0.77,4,245,2,0,0,0,sales,low\\n0.77,0.75,6,246,6,0,0,0,sales,low\\n0.77,0.76,6,263,6,0,0,0,sales,low\\n0.76,0.99,3,133,4,0,0,0,sales,low\\n0.66,0.49,4,157,3,0,0,0,sales,low\\n0.5,0.95,3,198,4,0,0,0,accounting,low\\n0.57,0.9,5,145,3,0,0,0,accounting,low\\n0.97,0.62,6,118,2,0,0,0,accounting,low\\n0.26,0.99,5,184,5,0,0,0,hr,low\\n0.72,0.62,3,243,2,1,0,0,hr,low\\n0.83,0.93,3,247,2,0,0,0,hr,low\\n0.55,0.4,3,158,3,0,0,0,hr,low\\n0.77,0.74,5,243,2,0,0,0,technical,low\\n0.24,0.63,4,203,5,0,0,0,technical,low\\n0.8,0.96,3,161,3,0,0,0,technical,low\\n0.5,0.59,4,214,3,1,0,0,technical,low\\n0.66,0.59,4,179,3,0,0,0,technical,low\\n0.66,0.77,4,188,2,0,0,0,technical,low\\n0.66,0.81,3,174,3,0,0,0,technical,low\\n0.96,0.83,3,177,4,0,0,0,technical,low\\n0.75,0.94,5,194,4,0,0,0,technical,low\\n0.78,0.77,3,244,2,0,0,0,technical,medium\\n0.57,0.82,4,269,2,0,0,0,technical,medium\\n0.78,0.68,2,159,3,1,0,0,support,medium\\n0.57,0.88,4,140,2,0,0,0,support,medium\\n0.84,0.56,5,224,2,0,0,0,support,medium\\n0.23,0.94,5,242,4,0,0,0,support,medium\\n0.53,0.37,3,180,3,0,0,0,support,medium\\n0.82,0.71,3,150,3,0,0,0,support,medium\\n0.59,0.64,5,269,3,0,0,0,support,medium\\n0.5,0.52,2,178,2,0,0,0,support,medium\\n1,0.74,2,187,3,0,0,0,support,medium\\n0.94,0.61,3,140,2,0,0,0,support,medium\\n0.86,0.61,4,193,2,0,0,0,support,high\\n0.73,0.49,4,243,2,0,0,0,technical,low\\n0.49,0.94,3,144,3,1,0,0,technical,medium\\n0.79,0.73,2,147,2,0,0,0,technical,medium\\n0.83,0.5,6,165,3,0,0,0,management,medium\\n0.85,0.67,3,176,2,0,0,0,IT,medium\\n0.65,0.37,3,170,6,0,0,0,IT,low\\n0.94,0.65,4,213,2,1,0,0,IT,low\\n0.76,0.81,4,242,2,0,0,0,IT,low\\n0.77,0.54,4,139,3,1,0,0,IT,low\\n0.77,0.91,4,239,3,1,0,0,product_mng,low\\n0.59,0.64,5,123,2,0,0,0,product_mng,low\\n0.69,0.9,3,185,4,0,0,0,product_mng,low\\n0.51,0.85,4,186,2,0,0,0,product_mng,low\\n0.8,0.67,3,178,3,0,0,0,IT,low\\n0.98,0.7,3,153,10,0,0,0,management,high\\n0.69,0.72,4,185,10,1,0,0,management,high\\n0.14,0.76,4,142,10,0,0,0,management,high\\n0.95,0.9,4,221,10,1,0,0,management,high\\n0.53,0.61,3,148,10,0,0,0,management,high\\n0.64,0.52,5,258,10,1,0,0,management,high\\n0.51,0.73,4,229,3,0,0,0,sales,low\\n0.36,0.73,2,111,2,0,0,0,sales,low\\n0.62,0.97,2,271,3,0,0,0,sales,low\\n0.98,0.58,4,133,3,0,0,0,sales,low\\n0.53,0.7,4,223,3,0,0,0,sales,low\\n0.8,0.95,4,272,2,0,0,0,sales,low\\n0.73,0.77,3,233,3,0,0,0,sales,medium\\n0.82,0.8,3,162,3,0,0,0,sales,medium\\n0.62,0.75,5,165,4,0,0,0,sales,medium\\n0.87,0.48,5,242,3,0,0,0,sales,medium\\n0.43,0.65,4,124,2,0,0,0,sales,medium\\n0.57,0.6,2,163,3,0,0,0,sales,medium\\n0.91,0.77,3,144,3,0,0,0,sales,medium\\n0.75,0.59,5,149,4,0,0,0,sales,medium\\n0.76,0.8,5,217,2,0,0,0,sales,medium\\n0.85,0.49,4,139,2,0,0,0,sales,medium\\n0.56,0.67,3,270,2,0,0,0,sales,medium\\n0.86,0.84,3,177,3,0,0,0,sales,medium\\n0.21,0.43,5,175,2,1,0,0,sales,high\\n0.94,0.59,3,151,2,0,0,0,sales,low\\n0.98,0.74,3,185,3,0,0,0,sales,medium\\n0.42,0.45,3,227,3,0,0,0,sales,medium\\n0.98,0.89,4,218,2,0,0,0,sales,medium\\n1,0.93,5,167,3,0,0,0,sales,medium\\n0.95,0.52,3,183,2,1,0,0,sales,low\\n0.95,0.5,4,259,3,0,0,0,sales,low\\n0.68,0.53,3,138,2,1,0,0,sales,low\\n0.64,0.38,5,122,4,0,0,0,sales,low\\n0.24,0.62,6,225,6,0,0,0,sales,low\\n0.37,0.72,3,121,2,0,0,0,sales,low\\n0.67,0.4,4,274,3,0,0,0,sales,low\\n0.86,0.89,4,153,4,0,0,0,sales,low\\n0.43,0.38,3,119,2,0,0,0,sales,low\\n0.67,0.67,4,141,2,1,0,0,sales,low\\n0.92,0.6,4,161,3,0,0,0,IT,low\\n0.43,0.46,2,186,2,0,0,0,product_mng,low\\n0.52,0.8,3,252,4,0,0,0,product_mng,low\\n0.16,0.42,3,182,3,1,0,0,product_mng,low\\n0.49,0.6,4,264,2,1,0,0,product_mng,low\\n0.37,0.63,4,167,3,0,0,0,IT,low\\n0.98,0.68,5,171,3,0,0,0,management,high\\n0.33,0.97,5,130,4,0,0,0,management,high\\n0.14,0.79,5,271,4,0,0,0,management,high\\n0.54,0.79,5,249,3,1,0,0,management,high\\n0.63,0.48,4,180,4,0,0,0,management,high\\n0.55,0.69,4,220,3,1,0,0,management,high\\n0.84,0.53,3,210,4,1,0,0,marketing,medium\\n0.51,0.97,4,258,2,0,0,0,sales,medium\\n0.15,0.75,3,150,4,0,0,1,accounting,medium\\n0.97,0.79,5,259,3,0,0,1,support,medium\\n0.67,0.69,3,231,3,0,0,1,technical,medium\\n0.48,0.67,4,220,3,0,0,1,management,medium\\n0.69,0.58,4,149,3,0,0,1,marketing,medium\\n0.6,0.62,3,238,4,0,0,1,marketing,medium\\n0.82,0.71,2,209,5,0,0,1,marketing,medium\\n0.86,0.95,4,149,3,0,0,1,sales,medium\\n0.69,0.59,4,264,3,0,0,0,sales,medium\\n0.87,0.87,5,207,2,0,0,0,sales,high\\n0.17,0.78,3,239,6,0,0,0,sales,low\\n0.94,0.51,6,239,5,0,0,0,sales,medium\\n0.5,1,4,258,3,0,0,0,sales,medium\\n0.16,0.72,3,203,3,0,0,0,sales,medium\\n0.89,0.99,2,258,3,0,0,0,sales,medium\\n0.69,0.51,3,257,3,1,0,0,IT,low\\n0.5,0.51,5,134,3,0,0,0,product_mng,low\\n0.16,0.46,6,240,2,0,0,0,product_mng,low\\n0.75,0.99,2,237,5,1,0,0,product_mng,low\\n0.64,0.66,5,157,2,0,0,0,product_mng,low\\n0.78,0.43,4,275,3,0,0,0,IT,low\\n0.81,0.74,2,228,3,0,0,0,management,high\\n0.55,0.58,3,254,2,0,0,0,management,high\\n0.53,0.53,4,257,2,0,0,0,management,high\\n0.69,0.73,3,231,2,1,0,0,management,high\\n0.8,0.53,3,217,3,0,0,0,management,high\\n0.77,0.98,3,286,6,0,0,0,management,high\\n0.84,0.8,4,236,3,0,0,0,marketing,low\\n0.64,0.55,4,215,2,0,0,0,sales,low\\n0.78,0.57,4,157,3,0,0,0,accounting,low\\n0.67,0.7,3,149,3,0,0,0,support,low\\n0.81,0.77,3,221,2,0,0,0,technical,low\\n0.91,0.82,4,238,2,0,0,0,management,low\\n0.75,0.89,6,250,2,0,0,0,marketing,medium\\n0.78,0.96,3,202,4,1,0,0,marketing,medium\\n0.54,0.52,4,173,2,0,0,0,marketing,medium\\n0.77,0.71,5,250,3,1,0,0,sales,medium\\n0.89,0.63,4,270,3,1,0,0,sales,medium\\n0.16,0.98,3,232,5,0,0,0,sales,medium\\n0.77,0.99,4,260,3,0,0,0,sales,medium\\n0.69,0.48,5,232,4,0,0,0,sales,medium\\n0.61,0.81,4,134,3,0,0,0,sales,medium\\n0.59,0.81,4,189,3,0,0,0,sales,medium\\n0.58,0.8,4,113,3,0,0,0,IT,medium\\n0.88,0.67,5,264,3,0,0,0,product_mng,medium\\n0.51,0.63,5,260,2,0,0,0,product_mng,high\\n0.31,0.7,3,132,3,0,0,0,product_mng,low\\n0.52,0.52,4,168,3,0,0,0,product_mng,medium\\n0.57,0.46,3,186,3,1,0,0,IT,medium\\n0.5,0.77,3,267,2,0,0,0,management,high\\n0.74,0.63,3,180,3,0,0,0,management,high\\n0.74,0.77,3,211,3,0,0,0,management,high\\n0.82,0.51,2,268,2,0,0,0,management,high\\n0.74,0.71,3,206,3,0,0,0,management,high\\n0.2,0.59,6,113,3,0,0,0,management,high\\n0.63,0.48,4,179,3,0,0,0,marketing,low\\n0.19,0.8,6,157,6,1,0,0,sales,low\\n0.4,0.62,4,127,5,0,0,0,accounting,low\\n0.71,0.37,2,179,5,0,0,1,support,low\\n0.84,0.73,4,197,3,0,0,1,technical,low\\n0.59,0.84,4,251,4,1,0,1,management,low\\n0.57,0.85,4,250,3,1,0,1,marketing,low\\n0.81,0.61,2,176,5,0,0,1,marketing,low\\n0.8,0.7,4,246,3,0,0,1,marketing,low\\n0.49,0.66,3,155,3,0,0,1,sales,low\\n0.55,0.64,3,178,2,0,0,1,sales,low\\n0.68,0.4,3,213,5,1,0,1,sales,low\\n0.55,0.67,3,150,2,0,0,1,sales,low\\n0.59,0.62,3,166,2,0,0,0,sales,low\\n0.91,0.8,5,169,4,0,0,0,sales,low\\n0.48,0.9,4,208,3,0,0,0,sales,low\\n0.84,0.66,3,209,2,0,0,0,sales,low\\n0.73,0.54,4,167,3,0,0,0,IT,medium\\n0.28,0.59,6,281,3,0,0,0,product_mng,medium\\n0.77,0.65,3,156,4,0,0,0,product_mng,medium\\n0.67,0.65,3,265,3,0,0,0,product_mng,medium\\n0.5,0.53,3,142,3,1,0,0,product_mng,medium\\n0.32,0.47,3,143,4,0,0,0,IT,medium\\n0.57,0.78,3,134,3,0,0,0,RandD,medium\\n0.51,0.8,5,268,3,0,0,0,RandD,medium\\n0.61,0.6,3,255,2,0,0,0,RandD,medium\\n0.83,0.73,4,157,2,0,0,0,RandD,medium\\n0.87,0.97,5,151,3,0,0,0,RandD,medium\\n0.7,0.63,3,157,2,0,0,0,RandD,medium\\n0.78,0.65,3,139,3,0,0,0,marketing,high\\n0.71,0.53,4,196,2,1,0,0,sales,low\\n0.68,0.99,3,159,2,0,0,0,accounting,medium\\n0.75,0.53,4,224,4,1,0,0,support,medium\\n0.7,0.53,3,215,7,1,0,0,technical,medium\\n0.59,0.94,5,157,7,1,0,0,management,medium\\n0.64,0.87,4,157,7,0,0,0,marketing,low\\n0.61,0.88,5,146,7,1,0,0,marketing,low\\n0.77,0.49,2,286,7,0,0,0,marketing,low\\n0.51,0.64,3,203,3,0,0,0,sales,low\\n0.49,0.49,3,168,7,0,0,0,sales,low\\n0.77,0.75,3,170,7,0,0,0,sales,low\\n0.31,0.86,3,266,7,0,0,0,sales,low\\n0.54,0.76,3,183,3,0,0,0,sales,low\\n0.56,0.66,4,264,3,0,0,0,sales,low\\n0.65,0.77,4,205,3,0,0,0,sales,low\\n0.49,0.36,2,192,3,0,0,0,sales,low\\n0.82,0.79,3,176,3,0,0,0,technical,low\\n0.6,0.52,3,183,2,0,0,0,support,low\\n0.64,0.63,3,156,6,1,0,0,support,low\\n0.7,0.68,3,150,3,0,0,0,support,low\\n0.65,0.89,4,204,8,1,0,0,support,low\\n0.69,0.78,5,131,8,0,0,0,support,low\\n0.93,0.74,5,248,8,1,0,0,support,low\\n0.55,0.52,4,168,8,0,0,0,support,low\\n0.75,0.87,4,146,8,1,0,0,support,low\\n0.47,0.43,4,246,3,0,0,0,support,low\\n0.72,0.88,5,216,10,1,0,0,support,medium\\n0.59,0.92,3,203,10,0,0,0,support,medium\\n0.98,0.49,3,199,10,0,0,0,technical,medium\\n0.39,0.52,2,102,8,0,0,0,technical,medium\\n0.93,0.87,4,139,8,0,0,0,technical,medium\\n0.71,0.97,5,208,8,1,0,0,management,medium\\n0.49,0.54,4,215,4,0,0,0,IT,medium\\n0.63,0.93,4,233,3,0,0,0,IT,medium\\n0.45,0.64,3,169,10,0,0,0,IT,medium\\n0.77,0.64,3,190,10,1,0,0,IT,medium\\n0.77,0.63,4,236,7,0,0,0,IT,medium\\n0.5,0.92,4,266,7,0,0,0,product_mng,medium\\n0.45,0.42,4,156,7,0,0,0,product_mng,high\\n0.81,0.47,4,153,7,0,0,0,product_mng,low\\n0.83,0.67,3,175,3,0,0,0,product_mng,medium\\n0.47,0.76,6,174,10,0,0,0,IT,medium\\n0.25,0.89,4,154,10,0,0,0,management,high\\n0.89,0.55,5,251,10,0,0,0,management,high\\n0.97,0.57,3,164,10,0,0,0,management,high\\n0.6,0.65,2,225,10,0,0,0,management,high\\n0.67,0.72,2,134,10,0,0,0,management,high\\n0.89,0.77,3,144,3,0,0,0,management,high\\n0.6,0.91,5,211,3,0,0,0,sales,low\\n0.64,0.79,4,139,3,0,0,0,sales,low\\n0.57,0.66,3,268,3,0,0,0,sales,low\\n0.56,0.98,5,171,3,1,0,0,sales,low\\n0.6,0.9,4,260,2,0,0,0,sales,medium\\n0.17,0.66,6,224,3,0,0,0,sales,medium\\n0.74,0.49,4,233,3,0,0,0,sales,medium\\n0.44,0.41,3,125,7,0,0,0,sales,medium\\n0.51,0.89,4,233,7,0,0,0,sales,medium\\n0.86,0.57,3,162,7,0,0,0,sales,medium\\n0.96,0.48,4,198,7,0,0,0,sales,medium\\n0.87,0.82,4,198,7,0,0,0,sales,medium\\n0.58,0.79,3,243,3,1,0,0,sales,medium\\n0.24,0.56,4,281,7,0,0,0,sales,medium\\n0.42,0.8,4,259,7,1,0,0,sales,medium\\n0.65,0.94,4,184,7,0,0,0,sales,medium\\n0.73,0.92,6,189,3,1,0,0,sales,medium\\n0.63,0.6,4,258,3,0,0,0,sales,medium\\n0.95,0.48,4,225,3,0,0,0,sales,medium\\n0.52,0.83,5,145,3,0,0,0,sales,medium\\n0.96,0.55,3,164,3,0,0,0,sales,medium\\n0.66,0.51,4,254,2,0,0,0,sales,medium\\n0.98,0.44,4,154,6,1,0,0,sales,medium\\n0.56,0.79,5,248,3,0,0,0,sales,medium\\n0.97,0.54,3,154,8,1,0,0,sales,medium\\n0.72,0.92,3,242,8,0,0,0,sales,medium\\n0.74,0.78,4,194,8,0,0,0,sales,medium\\n0.2,0.6,5,261,8,0,0,0,sales,medium\\n0.73,0.56,3,245,8,0,0,0,sales,medium\\n0.76,0.79,3,247,3,0,0,0,sales,low\\n0.65,0.54,4,147,10,0,0,0,sales,low\\n0.66,0.5,3,139,10,1,0,0,sales,low\\n0.96,0.97,6,137,10,0,0,0,sales,low\\n0.57,0.55,4,177,8,0,0,0,sales,low\\n0.61,0.82,4,184,8,0,0,0,IT,low\\n0.57,0.69,3,212,8,0,0,0,product_mng,low\\n0.59,0.47,3,159,4,0,0,0,product_mng,low\\n0.92,0.68,4,178,3,0,0,0,product_mng,low\\n0.79,0.56,3,149,10,0,0,0,product_mng,low\\n0.95,0.66,4,223,10,0,0,0,IT,low\\n0.24,0.81,6,263,7,0,0,0,management,high\\n0.49,0.52,4,161,7,0,0,0,management,high\\n0.49,0.68,3,192,7,0,0,0,management,high\\n0.97,0.51,5,215,7,0,0,0,management,high\\n0.55,0.78,4,261,3,0,0,0,management,high\\n0.76,0.56,5,222,10,0,0,0,management,high\\n0.53,0.99,3,223,10,0,0,0,marketing,low\\n0.51,0.86,3,182,10,0,0,0,sales,low\\n0.57,0.93,2,204,10,0,0,0,accounting,low\\n0.58,0.91,3,195,10,0,0,0,support,low\\n0.6,0.98,4,146,10,0,0,0,technical,low\\n0.65,0.74,4,233,4,1,0,0,management,low\\n0.91,0.75,2,147,3,0,0,0,marketing,low\\n0.65,0.55,3,156,5,0,0,0,marketing,low\\n0.18,0.49,3,240,2,1,0,0,marketing,low\\n0.66,0.9,4,177,7,0,0,0,sales,low\\n0.78,0.8,3,135,7,0,0,0,sales,medium\\n0.82,0.65,5,178,7,1,0,0,sales,medium\\n0.54,0.64,3,190,7,0,0,0,sales,medium\\n0.95,0.84,3,240,7,0,0,0,sales,medium\\n0.65,0.85,4,172,3,0,0,0,sales,medium\\n0.83,0.55,3,271,7,0,0,0,sales,medium\\n0.15,0.6,5,188,7,0,0,0,sales,medium\\n0.59,0.59,4,197,7,0,0,0,IT,medium\\n0.99,0.94,5,151,3,0,0,0,product_mng,medium\\n0.76,0.72,3,263,3,0,0,0,product_mng,medium\\n0.64,0.67,2,223,3,0,0,0,product_mng,medium\\n0.95,0.75,4,151,3,0,0,0,product_mng,medium\\n0.53,0.66,3,191,3,0,0,0,IT,high\\n0.59,0.5,2,162,2,0,0,0,management,high\\n0.69,0.86,5,195,6,0,0,0,management,high\\n0.5,0.49,4,222,3,0,0,0,management,high\\n0.89,0.96,3,179,8,0,0,0,management,high\\n0.56,0.39,3,106,8,0,0,0,management,high\\n0.77,0.68,3,214,8,1,0,0,management,high\\n0.15,0.75,3,259,8,1,0,0,marketing,high\\n0.88,0.58,3,145,8,0,0,0,sales,low\\n0.89,0.86,4,153,3,0,0,0,accounting,low\\n0.65,0.52,2,117,10,1,0,0,support,low\\n0.58,0.99,3,207,10,0,0,0,technical,low\\n0.56,0.85,3,265,10,1,0,0,management,low\\n0.25,0.72,5,279,8,0,0,0,marketing,low\\n0.87,0.89,4,225,8,0,0,0,marketing,low\\n0.62,0.4,3,158,8,1,0,0,marketing,low\\n0.72,0.75,4,211,4,0,0,0,sales,medium\\n0.49,0.94,4,175,3,0,0,0,sales,medium\\n0.57,0.91,4,224,10,0,0,0,sales,medium\\n0.63,0.65,3,190,10,0,0,0,sales,medium\\n0.91,0.63,5,240,7,0,0,0,sales,medium\\n0.7,0.68,5,225,7,0,0,0,sales,medium\\n0.66,0.95,5,192,7,0,0,0,sales,medium\\n0.77,0.48,5,262,7,0,0,0,IT,medium\\n0.68,0.97,3,250,3,1,0,0,product_mng,medium\\n0.34,0.46,3,155,10,0,0,0,product_mng,medium\\n0.97,0.64,4,238,10,1,0,0,product_mng,medium\\n0.57,0.75,4,249,10,0,0,0,product_mng,medium\\n0.66,0.65,3,272,10,0,0,0,IT,medium\\n0.68,0.67,4,162,10,0,0,0,management,high\\n0.49,0.78,4,254,10,0,0,0,management,high\\n0.72,0.66,4,184,3,0,0,0,management,high\\n0.77,0.89,4,269,10,0,0,0,management,high\\n0.77,0.73,3,201,10,0,0,0,management,high\\n0.59,0.73,4,247,10,0,0,0,management,high\\n0.41,0.67,6,221,10,0,0,0,marketing,medium\\n0.94,0.64,5,247,10,0,0,0,sales,medium\\n0.91,0.61,4,135,10,0,0,0,accounting,medium\\n0.7,0.84,3,260,4,1,0,0,support,medium\\n0.51,0.52,3,188,3,0,0,0,technical,high\\n0.22,0.7,4,159,5,0,0,0,management,low\\n0.69,0.65,3,153,2,0,0,0,marketing,medium\\n0.2,0.68,5,167,7,0,0,0,marketing,medium\\n0.9,0.85,3,158,7,0,0,0,marketing,medium\\n0.76,0.85,3,180,7,0,0,0,sales,medium\\n0.88,0.51,3,211,7,0,0,0,sales,medium\\n0.31,0.63,4,104,7,1,0,0,sales,medium\\n0.17,0.66,6,174,3,0,0,0,sales,medium\\n0.91,0.77,3,195,7,0,0,0,sales,medium\\n0.97,0.38,5,211,7,1,0,0,sales,medium\\n0.61,0.77,5,232,7,0,0,0,sales,medium\\n0.74,0.67,5,216,3,0,0,0,sales,low\\n0.65,0.82,5,265,3,0,0,0,IT,low\\n0.87,0.73,5,184,3,0,0,0,product_mng,low\\n0.56,0.71,5,244,3,0,0,0,product_mng,low\\n0.78,0.69,4,202,3,0,0,0,product_mng,low\\n0.73,0.57,3,146,2,0,0,0,product_mng,low\\n0.66,0.78,4,161,6,0,0,0,IT,low\\n0.15,0.81,5,280,3,1,0,0,RandD,high\\n0.52,0.69,5,208,8,1,0,0,RandD,low\\n0.44,0.66,6,134,8,0,0,0,RandD,high\\n0.7,0.7,3,162,8,0,0,0,RandD,high\\n0.63,0.52,5,209,8,1,0,0,RandD,low\\n0.89,0.59,3,265,8,0,0,0,RandD,low\\n0.96,0.85,4,173,3,0,0,0,marketing,high\\n0.98,0.99,4,261,10,1,0,0,sales,low\\n0.62,0.82,3,204,10,0,0,0,accounting,medium\\n0.62,0.73,3,144,10,1,0,0,support,high\\n0.69,0.43,5,113,8,0,0,0,technical,medium\\n0.5,0.91,4,144,8,0,0,0,management,medium\\n0.71,0.93,5,140,8,0,0,0,marketing,medium\\n0.5,0.68,3,245,4,0,0,0,marketing,medium\\n0.93,0.6,3,188,3,0,0,0,marketing,high\\n0.95,0.77,5,199,10,1,0,0,sales,medium\\n0.17,0.61,6,154,10,1,0,0,sales,medium\\n0.92,0.68,4,138,7,0,0,0,sales,medium\\n0.64,0.48,3,147,7,0,0,0,sales,high\\n0.27,0.42,6,173,7,0,0,0,sales,medium\\n0.66,0.87,3,223,7,0,0,0,sales,high\\n0.59,0.69,3,200,3,0,0,0,sales,low\\n0.93,0.98,4,189,10,0,0,0,sales,medium\\n0.58,0.67,5,133,10,0,0,0,technical,medium\\n0.96,0.6,3,160,10,0,0,0,support,medium\\n0.69,0.85,3,153,10,0,0,0,support,medium\\n0.41,0.38,4,142,10,1,0,0,support,low\\n0.36,0.41,3,167,10,0,0,0,support,low\\n0.71,0.78,4,227,2,0,0,0,support,low\\n0.94,0.9,4,144,4,0,0,0,support,low\\n0.51,0.76,4,140,3,0,0,0,support,low\\n0.83,0.48,4,220,3,1,0,0,support,low\\n0.22,0.62,3,180,3,0,0,0,support,low\\n0.66,0.89,4,173,4,0,0,0,support,low\\n0.14,0.58,3,179,5,0,0,0,support,low\\n0.16,0.96,5,137,5,1,0,0,technical,low\\n0.81,0.78,3,165,3,0,0,0,technical,high\\n0.73,0.94,3,177,3,0,0,0,technical,low\\n0.7,0.58,5,168,3,0,0,0,management,low\\n0.62,0.73,3,245,4,0,0,0,IT,low\\n0.5,0.83,5,258,2,0,0,0,IT,low\\n0.7,0.88,3,159,2,0,0,0,IT,high\\n0.53,0.73,3,163,3,1,0,0,IT,low\\n0.87,0.9,3,174,2,0,0,0,IT,low\\n0.59,0.6,3,214,2,1,0,0,product_mng,low\\n0.94,0.67,4,191,3,1,0,0,product_mng,high\\n0.2,0.53,5,272,5,0,0,0,product_mng,low\\n0.42,0.44,3,183,2,0,0,0,product_mng,medium\\n0.43,0.66,4,135,2,0,0,0,IT,high\\n0.43,0.76,6,154,2,0,0,0,management,high\\n0.77,0.86,5,238,3,0,0,0,management,high\\n0.76,0.98,2,235,3,0,0,0,management,high\\n0.82,0.9,3,215,4,0,0,0,management,high\\n0.75,0.66,5,234,2,0,0,0,management,high\\n0.63,0.98,4,187,3,0,0,0,management,high\\n0.51,0.75,3,133,3,0,0,0,sales,medium\\n0.23,0.7,3,123,5,0,0,0,sales,medium\\n0.77,0.58,4,202,3,0,0,0,sales,medium\\n0.54,0.63,4,140,3,0,0,0,sales,medium\\n0.63,0.85,4,182,3,1,0,0,sales,high\\n0.55,0.45,3,179,2,1,0,0,sales,low\\n0.31,0.63,3,150,3,1,0,0,sales,medium\\n0.98,0.74,4,151,3,0,0,0,sales,medium\\n0.16,0.95,6,117,7,0,0,0,sales,medium\\n0.54,0.78,3,156,7,0,0,0,sales,medium\\n0.73,0.48,3,211,7,0,0,0,sales,medium\\n0.16,0.63,6,286,7,0,0,1,sales,medium\\n0.57,0.82,5,233,7,0,0,1,sales,medium\\n0.88,0.88,4,222,3,1,0,1,sales,medium\\n0.95,0.81,4,258,7,0,0,1,sales,medium\\n0.93,0.7,5,231,7,0,0,1,sales,high\\n0.91,0.58,3,220,7,0,0,1,sales,low\\n0.77,0.82,4,134,3,0,0,1,sales,low\\n0.24,0.94,6,141,3,1,0,0,sales,low\\n0.74,0.74,5,160,3,1,0,0,sales,high\\n0.53,0.59,4,259,3,0,0,0,sales,low\\n0.89,0.77,5,232,3,0,0,0,sales,low\\n0.23,0.77,5,272,2,0,0,0,sales,low\\n0.69,0.66,3,215,6,0,0,0,sales,high\\n0.52,0.72,4,222,3,0,0,0,sales,low\\n0.9,0.58,3,244,8,0,0,0,sales,low\\n0.92,0.63,5,224,8,1,0,0,sales,low\\n0.72,0.59,5,200,8,1,0,0,sales,low\\n0.92,0.61,4,143,8,0,0,0,sales,low\\n0.79,0.86,5,238,8,0,0,0,sales,low\\n0.48,0.89,4,145,3,0,0,0,sales,low\\n0.27,0.76,4,108,10,0,0,0,sales,medium\\n0.67,0.49,3,247,10,0,0,0,sales,medium\\n0.48,0.7,3,213,10,0,0,0,sales,medium\\n0.99,0.6,4,209,8,1,0,0,IT,medium\\n0.49,0.88,4,240,8,0,0,0,product_mng,medium\\n0.39,0.45,3,100,8,1,0,0,product_mng,medium\\n0.99,0.92,4,265,4,1,0,0,product_mng,medium\\n0.78,0.57,3,209,3,0,0,0,product_mng,medium\\n0.5,0.73,3,154,10,0,0,0,IT,medium\\n0.61,0.79,5,230,10,0,0,0,management,high\\n0.88,0.6,4,208,7,0,0,1,management,high\\n0.44,0.44,2,141,7,1,0,1,management,high\\n0.73,0.78,3,262,7,1,0,1,management,high\\n0.58,0.84,4,206,7,0,0,1,management,high\\n0.74,0.98,3,166,3,1,0,1,management,high\\n0.32,0.48,4,117,10,0,0,1,marketing,medium\\n0.88,0.83,4,273,10,0,0,0,sales,medium\\n0.81,0.9,4,270,10,0,0,0,accounting,medium\\n0.59,0.92,3,138,10,0,0,0,support,low\\n0.79,0.65,3,235,10,0,0,0,technical,low\\n0.92,0.64,4,190,10,1,0,0,management,low\\n0.76,0.85,3,192,3,0,0,0,marketing,low\\n0.91,0.65,5,214,3,1,0,0,marketing,low\\n0.8,0.84,4,242,2,1,0,0,marketing,low\\n0.73,0.72,4,233,2,0,0,0,sales,low\\n0.88,0.53,3,218,4,0,0,0,sales,low\\n0.65,0.4,5,125,4,0,0,0,sales,low\\n0.84,0.5,4,178,2,0,0,0,sales,low\\n0.93,0.5,5,272,3,0,0,0,sales,low\\n0.64,0.6,3,265,4,0,0,0,sales,low\\n0.66,0.72,4,271,3,0,0,0,sales,low\\n0.76,0.56,3,179,3,1,0,0,sales,low\\n0.34,0.72,3,118,4,0,0,0,IT,low\\n0.48,0.8,4,196,5,0,0,0,product_mng,low\\n0.79,0.61,4,173,2,0,0,0,product_mng,low\\n0.82,0.67,4,156,3,0,0,0,product_mng,low\\n0.51,0.71,2,180,3,0,0,0,product_mng,low\\n0.84,0.78,4,263,3,0,0,0,IT,low\\n0.66,0.79,5,134,3,0,0,0,management,high\\n0.72,0.88,3,189,3,1,0,0,management,high\\n0.53,0.91,4,167,4,0,0,0,management,high\\n0.81,0.8,5,132,2,1,0,0,management,high\\n0.58,0.9,3,209,2,0,0,0,management,high\\n0.82,0.56,2,227,5,1,0,0,management,high\\n0.72,0.99,4,239,3,0,0,0,marketing,medium\\n0.9,0.54,4,172,4,0,0,0,sales,medium\\n0.98,0.91,3,188,4,0,0,0,accounting,medium\\n0.56,0.74,3,265,3,0,0,0,support,medium\\n0.77,0.82,3,153,3,1,0,0,technical,medium\\n0.61,0.89,4,242,2,0,0,0,management,medium\\n0.97,0.61,4,262,3,1,0,1,marketing,medium\\n0.64,0.55,3,246,2,0,0,1,marketing,high\\n0.99,0.97,4,211,2,0,0,1,marketing,low\\n0.61,0.42,3,145,4,0,0,1,sales,medium\\n0.72,0.71,4,256,3,0,0,1,sales,medium\\n0.67,0.91,2,245,2,1,0,1,sales,medium\\n0.9,0.56,3,151,3,0,0,0,sales,medium\\n0.9,0.73,4,245,2,0,0,0,sales,low\\n0.63,0.61,4,171,3,0,0,0,sales,low\\n0.64,0.88,3,252,2,0,0,0,sales,low\\n0.44,0.65,3,175,2,0,0,0,IT,low\\n0.64,0.94,4,210,3,0,0,0,product_mng,low\\n0.65,0.95,2,180,2,0,0,0,product_mng,low\\n0.69,0.9,5,103,5,0,0,0,product_mng,low\\n0.93,0.51,4,110,3,0,0,0,product_mng,low\\n0.73,0.9,5,184,3,0,0,0,IT,low\\n0.83,0.6,4,161,2,0,0,0,management,high\\n0.82,0.49,5,210,3,0,0,0,management,high\\n0.39,0.91,2,212,2,0,0,0,management,high\\n0.53,0.47,6,106,6,0,0,0,management,high\\n0.88,0.81,4,179,3,0,0,0,management,high\\n0.8,0.6,5,217,3,0,0,0,management,high\\n0.68,0.79,4,184,3,0,0,0,marketing,low\\n0.66,0.6,3,210,2,0,0,0,sales,low\\n0.61,0.61,4,246,2,0,0,0,accounting,low\\n0.74,0.55,4,262,3,0,0,0,support,low\\n0.61,0.83,4,245,3,1,0,1,technical,low\\n0.57,0.99,3,222,3,1,0,1,management,low\\n0.68,0.54,4,146,4,0,0,1,marketing,medium\\n0.75,0.79,4,263,3,0,0,1,marketing,medium\\n0.29,0.57,5,134,2,0,0,1,marketing,medium\\n0.81,0.81,5,250,4,0,0,1,sales,medium\\n0.53,0.68,4,173,3,0,0,0,sales,medium\\n0.42,0.96,6,173,3,0,0,0,sales,medium\\n0.64,0.67,4,252,3,1,0,0,sales,medium\\n0.63,0.5,2,230,4,0,0,0,sales,medium\\n0.81,0.81,4,212,2,1,0,0,sales,medium\\n0.71,0.66,5,187,2,0,0,0,sales,medium\\n0.7,0.83,5,241,2,0,0,0,sales,medium\\n0.53,1,3,164,4,0,0,0,IT,medium\\n0.16,0.93,6,218,6,1,0,0,product_mng,high\\n0.17,0.55,4,194,3,0,0,0,product_mng,low\\n0.7,0.95,3,158,2,0,0,0,product_mng,medium\\n0.43,0.88,2,149,4,0,0,0,product_mng,medium\\n0.49,0.62,4,161,2,0,0,0,IT,medium\\n0.5,0.9,5,226,2,0,0,0,management,high\\n0.57,0.59,2,111,2,0,0,0,management,high\\n0.68,0.75,4,258,3,0,0,0,management,high\\n0.62,0.61,3,266,2,0,0,0,management,high\\n0.69,0.75,3,253,3,0,0,0,management,high\\n0.63,0.7,5,160,3,0,0,0,management,high\\n0.76,0.62,5,230,3,1,0,0,marketing,low\\n0.62,0.76,5,198,3,0,0,0,sales,low\\n0.82,0.69,3,250,3,0,0,0,accounting,low\\n0.2,0.7,4,225,5,0,0,0,support,low\\n0.16,0.7,3,178,3,1,0,0,technical,low\\n0.2,0.78,4,196,3,0,0,0,management,low\\n0.53,0.51,4,240,2,0,0,0,marketing,low\\n0.71,0.63,3,204,3,0,0,0,marketing,low\\n0.7,0.93,3,250,3,0,0,0,marketing,low\\n0.92,0.94,2,224,2,0,0,0,sales,low\\n0.81,0.92,4,268,3,0,0,0,sales,low\\n0.79,0.62,5,167,3,0,0,0,sales,low\\n0.53,0.64,3,168,3,0,0,0,sales,low\\n0.51,0.56,4,168,2,0,0,0,sales,low\\n0.78,0.9,5,158,3,0,0,0,sales,low\\n0.5,0.91,3,240,3,0,0,0,sales,low\\n0.92,1,4,261,4,0,0,0,sales,medium\\n0.59,0.54,4,176,2,0,0,0,technical,medium\\n0.77,0.55,3,217,3,0,0,0,support,medium\\n0.74,0.87,5,224,2,0,0,0,support,medium\\n0.67,0.97,4,196,3,0,0,0,support,medium\\n0.56,0.59,3,223,3,0,0,0,support,medium\\n0.84,0.44,5,131,5,1,0,0,support,medium\\n0.53,0.77,2,167,2,0,0,0,support,medium\\n0.86,0.71,5,273,3,0,0,0,support,medium\\n0.77,0.68,3,98,3,0,0,0,support,medium\\n0.97,0.94,4,253,3,0,0,0,support,medium\\n0.69,0.87,5,174,3,0,0,0,support,medium\\n0.73,0.9,3,274,2,0,0,0,support,high\\n0.42,0.47,6,174,5,0,0,0,technical,low\\n0.4,0.47,5,173,5,0,0,0,technical,medium\\n0.33,0.41,2,198,4,0,0,0,technical,medium\\n0.68,0.66,3,238,2,0,0,0,management,medium\\n0.78,0.8,3,256,2,0,0,0,IT,medium\\n0.92,0.6,3,179,2,0,0,0,IT,low\\n0.66,0.66,4,273,4,1,0,0,IT,low\\n0.6,0.45,3,104,4,0,0,0,IT,low\\n0.86,0.83,4,208,3,1,0,0,IT,low\\n0.61,0.49,3,275,2,0,0,0,product_mng,low\\n0.71,0.68,3,231,2,1,0,0,product_mng,low\\n0.86,0.62,4,186,3,0,0,0,product_mng,low\\n0.96,0.59,3,241,3,0,0,0,product_mng,low\\n0.7,0.54,3,194,2,1,0,0,IT,low\\n0.38,0.49,4,196,3,0,0,1,management,high\\n0.39,0.75,6,185,3,0,0,1,management,high\\n0.49,0.4,2,148,2,1,0,1,management,high\\n0.78,0.62,4,150,3,0,0,1,management,high\\n0.74,0.79,5,121,5,0,0,1,management,high\\n0.82,0.76,4,266,3,0,0,1,management,high\\n0.6,0.42,2,109,6,0,0,0,sales,low\\n0.72,0.99,3,143,4,0,0,0,sales,low\\n0.73,0.97,3,174,3,0,0,0,sales,low\\n0.89,0.55,4,159,2,0,0,0,sales,medium\\n0.74,0.94,4,157,2,0,0,0,sales,medium\\n0.83,0.57,2,222,2,0,0,0,sales,medium\\n0.24,0.88,5,199,5,1,0,0,sales,medium\\n0.93,0.89,3,255,7,1,0,0,sales,medium\\n0.96,0.62,4,253,7,0,0,0,sales,medium\\n0.16,0.68,5,149,7,1,0,0,sales,medium\\n0.21,0.85,6,285,7,0,0,0,sales,medium\\n0.69,0.54,3,164,7,0,0,0,sales,medium\\n0.66,0.96,3,243,3,1,0,0,sales,medium\\n0.67,0.39,2,207,7,0,0,0,sales,medium\\n0.85,0.58,4,186,7,0,0,0,sales,medium\\n0.37,0.92,4,211,7,0,0,0,sales,high\\n0.64,0.64,2,190,3,0,0,0,sales,low\\n0.91,0.82,2,241,3,0,0,0,sales,medium\\n0.96,0.68,3,206,3,0,0,0,sales,medium\\n0.74,0.7,4,273,3,0,0,0,sales,medium\\n0.94,0.99,2,157,3,0,0,0,sales,medium\\n0.37,0.72,3,183,2,0,0,0,sales,low\\n0.92,0.85,3,151,6,1,0,0,sales,low\\n0.86,0.72,3,217,3,0,0,0,sales,low\\n0.66,0.49,5,235,8,1,0,0,sales,low\\n0.19,0.61,4,127,8,0,0,0,sales,low\\n0.65,0.61,5,167,8,0,0,0,sales,low\\n0.92,0.44,3,260,8,0,0,0,sales,low\\n0.83,0.8,3,240,8,0,0,0,sales,low\\n0.94,0.82,4,187,3,0,0,0,sales,low\\n0.42,0.69,3,126,2,0,0,0,sales,low\\n0.78,0.53,6,168,3,0,0,0,sales,low\\n0.58,0.76,4,197,5,0,0,0,sales,low\\n0.5,0.64,2,170,8,0,0,0,sales,low\\n0.82,0.76,3,219,8,1,0,0,IT,low\\n0.97,0.92,6,137,8,1,0,0,product_mng,low\\n0.8,0.93,3,225,4,0,0,0,product_mng,low\\n0.82,0.84,3,194,3,0,0,0,product_mng,low\\n0.95,0.99,5,251,4,0,0,0,product_mng,low\\n0.88,0.51,5,195,4,0,0,0,IT,low\\n0.5,0.86,3,180,7,0,0,1,management,high\\n0.53,0.8,2,225,7,1,0,1,management,high\\n0.82,0.74,3,229,7,0,0,1,management,high\\n0.15,0.74,6,144,7,0,0,1,management,high\\n0.92,0.7,3,129,3,0,0,1,management,high\\n0.53,0.74,3,172,10,0,0,1,management,high\\n0.58,1,4,220,10,0,0,0,marketing,medium\\n0.88,0.74,3,273,10,0,0,0,sales,medium\\n0.85,0.72,3,245,10,0,0,0,accounting,medium\\n0.99,0.68,5,264,10,1,0,0,support,medium\\n0.94,0.73,3,268,10,0,0,0,technical,medium\\n0.63,0.94,3,172,3,0,0,0,management,medium\\n0.85,0.9,3,245,3,0,0,0,marketing,medium\\n0.95,0.66,5,192,3,0,0,0,marketing,medium\\n0.71,0.66,3,268,4,0,0,0,marketing,high\\n0.49,0.88,4,244,3,0,0,0,sales,low\\n0.71,0.69,4,222,4,0,0,0,sales,medium\\n0.52,0.62,5,239,2,0,0,0,sales,medium\\n0.48,0.72,3,143,4,0,0,0,sales,medium\\n0.82,0.79,3,160,3,0,0,0,sales,medium\\n0.83,0.76,2,255,7,0,0,0,sales,low\\n0.85,0.87,4,152,7,0,0,0,sales,low\\n0.57,0.64,4,226,7,0,0,0,sales,low\\n0.16,0.63,5,266,7,0,0,0,IT,low\\n0.85,0.64,5,256,7,0,0,0,product_mng,low\\n0.82,0.67,3,198,3,1,0,0,product_mng,low\\n0.9,0.89,4,254,7,0,0,0,product_mng,low\\n0.92,0.64,2,104,7,0,0,0,product_mng,low\\n0.9,0.48,4,136,7,0,0,0,IT,low\\n0.82,0.8,5,205,3,0,0,0,IT,low\\n0.84,0.81,4,236,3,1,0,0,IT,low\\n0.92,0.65,3,176,3,0,0,0,IT,low\\n0.82,0.82,3,148,3,0,0,0,IT,low\\n0.8,0.8,4,146,3,1,0,0,IT,low\\n0.6,0.85,3,242,2,0,0,0,IT,low\\n0.14,0.38,5,115,6,1,0,0,marketing,high\\n0.85,0.89,4,150,3,0,0,0,accounting,high\\n0.55,0.81,3,239,8,0,0,0,accounting,high\\n0.49,0.71,4,178,8,0,0,0,IT,medium\\n0.82,0.58,5,263,8,0,0,0,IT,medium\\n0.59,0.77,3,272,8,0,0,0,management,high\\n0.9,0.82,3,133,8,0,0,0,marketing,medium\\n0.62,0.72,3,149,3,1,0,0,marketing,medium\\n0.61,0.68,3,193,2,0,0,0,marketing,medium\\n0.52,0.55,5,174,3,1,0,0,sales,medium\\n0.79,0.87,4,223,5,0,0,0,sales,medium\\n0.49,0.89,4,201,8,0,0,0,sales,medium\\n0.73,0.67,2,139,8,0,0,0,sales,medium\\n0.67,0.49,5,241,8,0,0,0,sales,medium\\n0.52,0.61,4,187,4,1,0,0,sales,medium\\n0.72,0.64,4,192,3,0,0,0,sales,medium\\n0.48,0.5,5,142,4,0,0,0,IT,medium\\n0.19,0.79,4,229,4,0,0,0,product_mng,medium\\n0.49,0.49,3,104,7,0,0,0,product_mng,high\\n0.9,0.76,3,255,7,0,0,0,product_mng,low\\n0.49,0.49,4,212,7,0,0,0,product_mng,medium\\n0.6,0.53,2,235,7,0,0,0,IT,medium\\n0.62,0.85,3,237,3,1,0,0,IT,medium\\n0.64,0.5,4,253,10,0,0,1,management,high\\n0.22,0.94,3,193,10,0,0,1,management,high\\n0.9,0.55,3,259,10,1,0,1,management,high\\n0.74,0.95,5,266,10,0,0,1,management,high\\n0.85,0.54,3,185,10,0,0,1,management,high\\n0.33,0.65,3,172,10,0,0,1,marketing,high\\n0.5,0.73,4,180,3,0,0,0,IT,low\\n0.38,0.53,2,157,3,0,1,0,sales,low\\n0.8,0.86,5,262,6,0,1,0,sales,medium\\n0.11,0.88,7,272,4,0,1,0,sales,medium\\n0.72,0.87,5,223,5,0,1,0,sales,low\\n0.37,0.52,2,159,3,0,1,0,sales,low\\n0.41,0.5,2,153,3,0,1,0,sales,low\\n0.1,0.77,6,247,4,0,1,0,sales,low\\n0.92,0.85,5,259,5,0,1,0,sales,low\\n0.89,1,5,224,5,0,1,0,sales,low\\n0.42,0.53,2,142,3,0,1,0,sales,low\\n0.45,0.54,2,135,3,0,1,0,sales,low\\n0.11,0.81,6,305,4,0,1,0,sales,low\\n0.84,0.92,4,234,5,0,1,0,sales,low\\n0.41,0.55,2,148,3,0,1,0,sales,low\\n0.36,0.56,2,137,3,0,1,0,sales,low\\n0.38,0.54,2,143,3,0,1,0,sales,low\\n0.45,0.47,2,160,3,0,1,0,sales,low\\n0.78,0.99,4,255,6,0,1,0,sales,low\\n0.45,0.51,2,160,3,1,1,1,sales,low\\n0.76,0.89,5,262,5,0,1,0,sales,low\\n0.11,0.83,6,282,4,0,1,0,sales,low\\n0.38,0.55,2,147,3,0,1,0,sales,low\\n0.09,0.95,6,304,4,0,1,0,sales,low\\n0.46,0.57,2,139,3,0,1,0,sales,low\\n0.4,0.53,2,158,3,0,1,0,sales,low\\n0.89,0.92,5,242,5,0,1,0,sales,low\\n0.82,0.87,4,239,5,0,1,0,sales,low\\n0.4,0.49,2,135,3,0,1,0,sales,low\\n0.41,0.46,2,128,3,0,1,0,accounting,low\\n0.38,0.5,2,132,3,0,1,0,accounting,low\\n0.09,0.62,6,294,4,0,1,0,accounting,low\\n0.45,0.57,2,134,3,0,1,0,hr,low\\n0.4,0.51,2,145,3,0,1,0,hr,low\\n0.45,0.55,2,140,3,0,1,0,hr,low\\n0.84,0.87,4,246,6,0,1,0,hr,low\\n0.1,0.94,6,255,4,0,1,0,technical,low\\n0.38,0.46,2,137,3,0,1,0,technical,low\\n0.45,0.5,2,126,3,0,1,0,technical,low\\n0.11,0.89,6,306,4,0,1,0,technical,low\\n0.41,0.54,2,152,3,0,1,0,technical,low\\n0.87,0.88,5,269,5,0,1,0,technical,low\\n0.45,0.48,2,158,3,0,1,0,technical,low\\n0.4,0.46,2,127,3,0,1,0,technical,low\\n0.1,0.8,7,281,4,0,1,0,technical,low\\n0.09,0.89,6,276,4,0,1,0,technical,low\\n0.84,0.74,3,182,4,0,1,0,technical,low\\n0.4,0.55,2,147,3,0,1,0,support,low\\n0.57,0.7,3,273,6,0,1,0,support,low\\n0.4,0.54,2,148,3,0,1,0,support,low\\n0.43,0.47,2,147,3,0,1,0,support,low\\n0.13,0.78,6,152,2,0,1,0,support,low\\n0.44,0.55,2,135,3,0,1,0,support,low\\n0.38,0.55,2,134,3,0,1,0,support,low\\n0.39,0.54,2,132,3,0,1,0,support,low\\n0.1,0.92,7,307,4,0,1,0,support,low\\n0.37,0.46,2,140,3,0,1,0,support,low\\n0.11,0.94,7,255,4,0,1,0,support,low\\n0.1,0.81,6,309,4,0,1,0,technical,low\\n0.38,0.54,2,128,3,0,1,0,technical,low\\n0.85,1,4,225,5,0,1,0,technical,low\\n0.85,0.91,5,226,5,0,1,0,management,medium\\n0.11,0.93,7,308,4,0,1,0,IT,medium\\n0.1,0.95,6,244,5,0,1,0,IT,medium\\n0.36,0.56,2,132,3,0,1,0,IT,medium\\n0.11,0.94,6,286,4,0,1,0,IT,medium\\n0.81,0.7,6,161,4,0,1,0,IT,medium\\n0.43,0.54,2,153,3,0,1,0,product_mng,medium\\n0.9,0.98,4,264,6,0,1,0,product_mng,medium\\n0.76,0.86,5,223,5,1,1,0,product_mng,medium\\n0.43,0.5,2,135,3,0,1,0,product_mng,medium\\n0.74,0.99,2,277,3,0,1,0,IT,medium\\n0.09,0.77,5,275,4,0,1,0,product_mng,medium\\n0.45,0.49,2,149,3,0,1,0,product_mng,high\\n0.09,0.87,7,295,4,0,1,0,product_mng,low\\n0.11,0.97,6,277,4,0,1,0,product_mng,medium\\n0.11,0.79,7,306,4,0,1,0,product_mng,medium\\n0.1,0.83,6,295,4,0,1,0,product_mng,medium\\n0.4,0.54,2,137,3,0,1,0,marketing,medium\\n0.43,0.56,2,157,3,0,1,0,sales,low\\n0.39,0.56,2,142,3,0,1,0,accounting,low\\n0.45,0.54,2,140,3,0,1,0,support,low\\n0.38,0.49,2,151,3,0,1,0,technical,low\\n0.79,0.59,4,139,3,0,1,1,management,low\\n0.84,0.85,4,249,6,0,1,0,marketing,low\\n0.11,0.77,6,291,4,0,1,0,marketing,low\\n0.11,0.87,6,305,4,0,1,0,marketing,low\\n0.17,0.84,5,232,3,0,1,0,sales,low\\n0.44,0.45,2,132,3,0,1,0,sales,low\\n0.37,0.57,2,130,3,0,1,0,sales,low\\n0.1,0.79,6,291,4,0,1,0,sales,low\\n0.4,0.5,2,130,3,0,1,0,sales,low\\n0.89,1,5,246,5,0,1,0,sales,low\\n0.42,0.48,2,143,3,0,1,0,sales,low\\n0.46,0.55,2,129,3,0,1,0,sales,low\\n0.09,0.83,6,255,4,0,1,0,sales,low\\n0.37,0.51,2,155,3,0,1,0,sales,low\\n0.1,0.77,6,265,4,0,1,0,sales,low\\n0.1,0.84,6,279,4,0,1,0,sales,low\\n0.11,0.97,6,284,4,0,1,0,sales,low\\n0.9,1,5,221,6,0,1,0,sales,medium\\n0.38,0.52,2,154,3,0,1,0,sales,medium\\n0.36,0.52,2,147,3,0,1,0,sales,medium\\n0.42,0.46,2,150,3,0,1,0,sales,medium\\n0.09,0.94,7,267,4,0,1,0,sales,medium\\n0.43,0.52,2,158,3,0,1,0,sales,medium\\n0.24,0.46,7,224,5,0,1,0,accounting,medium\\n0.91,1,4,257,5,0,1,0,accounting,medium\\n0.44,0.5,2,148,3,0,1,0,accounting,medium\\n0.71,0.87,3,177,4,0,1,0,hr,medium\\n0.4,0.49,2,155,3,0,1,0,hr,medium\\n0.43,0.47,2,144,3,0,1,0,hr,medium\\n0.09,0.85,6,289,4,0,1,0,hr,high\\n0.43,0.52,2,160,3,0,1,0,technical,low\\n0.9,0.96,4,258,5,0,1,0,technical,medium\\n0.84,1,5,234,5,0,1,0,technical,medium\\n0.37,0.48,2,137,3,0,1,0,technical,medium\\n0.86,0.68,5,263,2,0,1,0,technical,medium\\n0.11,0.84,6,251,4,0,1,0,technical,low\\n0.37,0.57,2,133,3,0,1,0,technical,low\\n0.4,0.46,2,132,3,0,1,0,technical,low\\n0.14,0.62,4,158,4,1,1,0,technical,low\\n0.4,0.46,2,135,3,0,1,0,technical,low\\n0.75,1,4,216,6,0,1,0,technical,low\\n0.11,0.84,6,300,5,1,1,0,support,low\\n0.46,0.49,2,138,3,0,1,0,support,low\\n0.11,0.92,6,260,4,0,1,0,support,low\\n0.38,0.49,2,132,3,0,1,0,support,low\\n0.7,0.89,3,183,5,0,1,0,support,low\\n0.09,0.82,6,250,4,0,1,0,support,low\\n0.37,0.45,2,151,3,0,1,0,support,low\\n0.1,0.83,6,292,4,0,1,0,support,low\\n0.38,0.57,2,140,3,0,1,0,support,low\\n0.9,1,5,221,5,0,1,0,support,low\\n0.44,0.51,2,138,3,0,1,0,support,low\\n0.36,0.5,2,132,3,0,1,0,technical,low\\n0.31,0.84,7,133,5,0,1,0,technical,low\\n0.1,0.84,6,283,4,1,1,0,technical,low\\n0.42,0.48,2,129,3,0,1,0,management,low\\n0.74,1,4,249,5,0,1,0,IT,low\\n0.73,0.87,5,257,5,0,1,0,IT,low\\n0.09,0.96,6,245,4,0,1,0,IT,low\\n0.45,0.53,2,155,3,0,1,0,IT,low\\n0.11,0.8,6,256,4,0,1,0,IT,low\\n0.37,0.47,2,152,3,0,1,0,product_mng,low\\n0.84,0.99,4,267,5,0,1,0,product_mng,low\\n0.41,0.46,2,151,3,0,1,0,product_mng,low\\n0.76,0.92,4,239,5,0,1,0,product_mng,low\\n0.11,0.87,6,306,4,0,1,0,IT,low\\n0.84,0.88,4,263,5,1,1,0,marketing,low\\n0.39,0.5,2,147,3,0,1,0,marketing,low\\n0.11,0.91,6,278,4,0,1,0,marketing,low\\n0.45,0.56,2,154,3,0,1,0,marketing,low\\n0.37,0.52,2,143,3,0,1,0,marketing,low\\n0.4,0.52,2,155,3,0,1,0,marketing,low\\n0.39,0.48,2,160,3,0,1,0,sales,low\\n0.11,0.8,6,304,4,0,1,0,accounting,low\\n0.83,1,5,240,5,0,1,0,support,low\\n0.11,0.92,6,305,4,0,1,0,technical,low\\n0.39,0.5,2,136,3,0,1,0,management,low\\n0.45,0.45,2,132,3,0,1,0,marketing,low\\n0.1,0.95,7,301,4,0,1,0,marketing,low\\n0.9,0.98,5,243,6,0,1,0,marketing,low\\n0.45,0.51,2,147,3,0,1,0,sales,low\\n0.79,0.89,5,239,5,0,1,0,sales,low\\n0.9,0.99,5,260,5,0,1,0,sales,low\\n0.11,0.84,7,296,4,0,1,0,sales,low\\n0.43,0.55,2,129,3,0,1,0,sales,low\\n0.31,0.54,5,132,5,0,1,0,sales,low\\n0.32,0.5,2,135,5,0,1,0,sales,low\\n0.45,0.57,2,158,3,0,1,0,sales,low\\n0.81,0.99,4,259,5,0,1,0,sales,low\\n0.41,0.46,2,160,3,0,1,1,sales,low\\n0.11,0.78,7,278,4,0,1,0,sales,low\\n0.1,0.88,6,284,4,0,1,0,sales,low\\n0.7,0.53,2,274,4,0,1,0,sales,low\\n0.54,0.74,4,164,2,0,1,0,sales,low\\n0.41,0.48,2,148,3,0,1,0,sales,low\\n0.38,0.5,2,140,3,0,1,0,sales,medium\\n0.37,0.51,2,127,3,0,1,0,sales,medium\\n0.11,0.85,6,308,5,0,1,0,sales,medium\\n0.4,0.47,2,146,3,0,1,0,sales,medium\\n0.1,0.84,6,261,4,0,1,0,accounting,medium\\n0.89,0.99,5,257,5,0,1,0,accounting,medium\\n0.11,0.8,6,285,4,0,1,0,accounting,medium\\n0.36,0.55,2,141,3,0,1,0,hr,medium\\n0.4,0.46,2,127,3,0,1,0,hr,medium\\n0.09,0.85,6,297,4,0,1,0,hr,medium\\n0.4,0.46,2,143,3,0,1,0,hr,medium\\n0.37,0.55,2,152,3,0,1,0,technical,medium\\n0.44,0.51,2,156,3,0,1,0,technical,high\\n0.09,0.8,7,283,5,0,1,0,technical,low\\n0.92,0.87,4,226,6,1,1,0,technical,medium\\n0.74,0.91,4,232,5,0,1,0,technical,medium\\n0.09,0.82,6,249,4,0,1,0,technical,medium\\n0.89,0.95,4,275,5,0,1,0,technical,medium\\n0.09,0.8,6,304,4,0,1,0,technical,low\\n0.27,0.54,7,278,3,0,1,0,technical,low\\n0.1,0.91,6,287,4,0,1,0,technical,low\\n0.1,0.89,7,285,4,0,1,0,technical,low\\n0.77,0.94,5,226,6,0,1,0,support,low\\n0.9,0.82,5,259,5,0,1,0,support,low\\n0.39,0.5,2,135,3,0,1,0,support,low\\n0.76,1,5,219,5,0,1,0,support,low\\n0.1,0.93,6,256,4,0,1,0,support,low\\n0.87,0.9,5,254,6,0,1,0,support,low\\n0.38,0.5,2,153,3,0,1,0,support,low\\n0.77,0.99,5,228,5,0,1,0,support,low\\n0.78,0.87,4,228,5,0,1,0,support,low\\n0.44,0.5,2,128,3,0,1,0,support,low\\n0.38,0.52,2,153,3,0,1,0,support,low\\n0.43,0.46,2,156,3,0,1,0,technical,low\\n0.39,0.5,4,294,3,0,1,0,technical,low\\n0.88,1,5,219,5,0,1,0,technical,low\\n0.45,0.46,2,153,3,0,1,0,management,low\\n0.4,0.53,2,151,3,0,1,0,IT,low\\n0.36,0.51,2,155,3,0,1,0,IT,low\\n0.36,0.48,2,158,3,0,1,0,IT,low\\n0.9,0.98,5,245,5,0,1,0,IT,low\\n0.43,0.53,2,131,3,0,1,0,IT,low\\n0.89,0.87,5,225,5,0,1,0,product_mng,low\\n0.1,0.84,6,286,4,0,1,0,product_mng,low\\n0.37,0.5,2,135,3,0,1,0,product_mng,low\\n0.37,0.51,2,153,3,0,1,0,product_mng,low\\n0.87,0.9,5,252,5,0,1,0,IT,low\\n0.4,0.56,2,149,3,0,1,0,accounting,low\\n0.9,0.97,4,258,5,0,1,0,accounting,low\\n0.37,0.46,2,158,3,0,1,0,hr,low\\n0.44,0.54,2,149,3,0,1,0,hr,low\\n0.85,0.95,5,236,5,0,1,0,hr,low\\n0.78,0.98,5,239,6,0,1,0,marketing,low\\n0.42,0.47,2,159,3,0,1,0,marketing,low\\n0.92,0.99,5,255,6,0,1,0,sales,low\\n0.11,0.83,6,244,4,0,1,0,accounting,low\\n0.42,0.56,2,134,3,0,1,0,support,low\\n0.48,0.57,4,270,4,0,1,0,technical,low\\n0.83,0.85,4,255,5,0,1,0,management,low\\n0.4,0.53,2,151,3,0,1,0,marketing,low\\n0.43,0.45,2,135,3,0,1,0,marketing,low\\n0.43,0.53,2,146,3,0,1,0,marketing,low\\n0.1,0.97,7,254,4,0,1,0,sales,low\\n0.1,0.87,7,289,4,0,1,0,sales,low\\n0.37,0.46,2,156,3,0,1,0,sales,low\\n0.38,0.53,2,156,3,0,1,0,sales,low\\n0.4,0.5,2,128,3,0,1,0,sales,low\\n0.89,0.86,5,275,5,0,1,0,sales,low\\n0.45,0.46,2,155,3,0,1,0,sales,low\\n0.37,0.48,2,159,3,0,1,0,sales,low\\n0.46,0.49,2,148,3,0,1,0,sales,low\\n0.87,0.91,4,228,5,0,1,0,sales,low\\n0.11,0.84,6,298,4,0,1,0,sales,low\\n0.79,0.87,5,261,5,0,1,0,sales,low\\n0.79,0.92,5,254,6,0,1,0,sales,low\\n0.19,0.59,7,192,3,0,1,0,sales,low\\n0.87,0.98,4,248,5,0,1,0,sales,low\\n0.6,0.92,2,258,5,0,1,0,sales,low\\n0.44,0.45,2,156,3,0,1,0,sales,medium\\n0.11,0.81,6,266,4,1,1,0,sales,medium\\n0.42,0.54,2,156,3,0,1,0,sales,medium\\n0.88,0.88,5,232,5,1,1,0,accounting,medium\\n0.11,0.84,6,287,4,0,1,0,accounting,medium\\n0.46,0.46,2,154,3,0,1,0,accounting,medium\\n0.82,0.97,5,263,5,0,1,0,hr,medium\\n0.44,0.56,2,131,3,0,1,0,hr,medium\\n0.11,0.78,6,260,4,0,1,0,hr,medium\\n0.42,0.5,2,139,3,0,1,0,hr,medium\\n0.84,0.93,4,251,5,0,1,0,technical,medium\\n0.11,0.95,6,286,4,0,1,0,technical,medium\\n0.45,0.53,2,129,3,0,1,0,technical,high\\n0.38,0.56,2,156,3,0,1,0,technical,low\\n0.38,0.86,6,139,6,0,1,0,technical,medium\\n0.44,0.51,2,127,3,0,1,0,technical,medium\\n0.11,0.84,6,251,4,0,1,0,technical,medium\\n0.81,0.93,5,270,5,0,1,0,technical,medium\\n0.09,0.96,6,296,4,0,1,0,technical,low\\n0.11,0.9,6,254,4,0,1,0,technical,low\\n0.81,0.95,5,238,6,0,1,0,technical,low\\n0.1,0.97,6,267,4,1,1,0,support,low\\n0.74,0.89,5,229,6,0,1,0,support,low\\n0.09,0.78,6,254,4,0,1,0,support,low\\n0.82,0.81,4,233,4,1,1,0,support,low\\n0.1,0.98,6,268,4,0,1,0,support,low\\n0.27,0.56,3,301,3,0,1,0,support,low\\n0.83,0.92,5,267,6,0,1,0,support,low\\n0.1,0.93,6,289,4,1,1,0,support,low\\n0.38,0.47,2,144,3,0,1,0,support,low\\n0.4,0.56,2,148,3,0,1,0,support,low\\n0.11,0.83,6,306,4,0,1,0,support,low\\n0.11,0.79,6,292,4,0,1,1,technical,low\\n0.82,0.91,5,232,5,0,1,0,technical,low\\n0.36,0.48,2,137,3,0,1,0,technical,low\\n0.4,0.46,2,128,3,0,1,0,management,low\\n0.87,0.84,5,231,5,0,1,0,IT,low\\n0.41,0.49,2,146,3,0,1,0,IT,low\\n0.11,0.91,6,308,4,1,1,0,IT,low\\n0.1,0.93,6,253,4,0,1,0,IT,medium\\n0.38,0.51,2,146,3,0,1,0,IT,medium\\n0.39,0.55,2,156,3,0,1,0,product_mng,medium\\n0.4,0.52,2,147,3,0,1,0,product_mng,medium\\n0.45,0.48,2,136,3,0,1,0,product_mng,medium\\n0.74,0.84,5,249,5,0,1,0,product_mng,medium\\n0.45,0.55,2,151,3,0,1,0,IT,medium\\n0.12,1,3,278,4,0,1,0,RandD,medium\\n0.1,0.77,7,250,5,0,1,0,RandD,medium\\n0.37,0.55,2,127,3,0,1,0,RandD,medium\\n0.89,0.87,5,255,5,0,1,0,RandD,medium\\n0.45,0.47,2,135,3,0,1,0,RandD,medium\\n0.37,0.46,2,149,3,0,1,0,marketing,high\\n0.11,0.81,5,287,4,0,1,0,sales,low\\n0.41,0.48,2,145,3,0,1,0,accounting,medium\\n0.1,0.94,6,285,4,0,1,0,support,medium\\n0.1,0.93,7,305,4,0,1,0,technical,medium\\n0.11,0.95,7,300,4,0,1,0,management,medium\\n0.4,0.54,2,139,3,0,1,0,marketing,low\\n0.41,0.49,2,130,3,0,1,0,marketing,low\\n0.1,0.81,6,268,4,0,1,0,marketing,low\\n0.73,0.86,4,245,6,0,1,0,sales,low\\n0.43,0.47,2,135,3,0,1,0,sales,low\\n0.37,0.46,2,153,3,0,1,0,sales,low\\n0.11,0.94,6,276,4,0,1,0,sales,low\\n0.4,0.46,2,130,3,0,1,0,sales,low\\n0.41,0.54,2,153,3,1,1,0,sales,low\\n0.82,0.84,5,244,5,0,1,0,sales,low\\n0.61,0.47,2,253,3,0,1,0,sales,low\\n0.11,0.91,7,287,4,0,1,0,sales,low\\n0.37,0.45,2,131,3,0,1,0,sales,low\\n0.41,0.52,2,135,3,0,1,0,sales,low\\n0.37,0.52,2,157,3,0,1,0,sales,low\\n0.88,0.99,5,262,6,0,1,0,sales,low\\n0.1,0.85,6,266,4,0,1,0,sales,low\\n0.44,0.48,2,148,3,0,1,0,sales,low\\n0.38,0.57,2,140,3,0,1,0,sales,low\\n0.11,0.85,7,302,4,0,1,0,sales,low\\n0.09,0.98,6,271,4,0,1,0,sales,low\\n0.45,0.52,2,145,3,0,1,0,sales,medium\\n0.1,0.81,6,290,4,0,1,0,accounting,medium\\n0.45,0.47,2,151,3,0,1,0,accounting,medium\\n0.77,0.87,5,266,5,0,1,0,accounting,medium\\n0.44,0.51,2,140,3,0,1,0,hr,medium\\n0.39,0.5,2,142,3,0,1,0,hr,medium\\n0.1,0.91,6,246,4,0,1,0,hr,medium\\n0.09,0.89,7,308,5,0,1,0,hr,medium\\n0.37,0.47,2,141,3,0,1,0,technical,medium\\n0.9,1,5,232,5,0,1,0,technical,medium\\n0.41,0.56,2,143,3,0,1,0,technical,medium\\n0.37,0.52,2,155,3,0,1,0,technical,medium\\n0.1,0.86,6,278,4,0,1,0,technical,high\\n0.81,1,4,253,5,0,1,0,technical,low\\n0.11,0.8,6,282,4,0,1,0,technical,medium\\n0.11,0.84,7,264,4,0,1,0,technical,medium\\n0.4,0.46,2,149,3,0,1,0,technical,medium\\n0.09,0.8,6,304,5,0,1,0,technical,medium\\n0.48,0.93,3,219,6,0,1,0,technical,low\\n0.91,0.91,4,262,6,0,1,0,support,low\\n0.43,0.57,2,135,3,0,1,0,support,low\\n0.33,0.88,6,219,5,0,1,0,support,low\\n0.41,0.57,2,136,3,0,1,0,support,low\\n0.41,0.55,2,154,3,0,1,0,support,low\\n0.37,0.54,2,149,3,0,1,0,support,low\\n0.31,0.62,6,135,5,0,1,0,support,low\\n0.09,0.91,6,275,4,0,1,0,support,low\\n0.1,0.87,6,290,4,0,1,0,support,low\\n0.76,0.9,4,263,5,0,1,0,support,low\\n0.41,0.54,2,145,3,0,1,0,support,low\\n0.72,0.96,5,267,5,0,1,0,technical,low\\n0.4,0.5,2,141,3,1,1,0,technical,low\\n0.91,0.87,4,235,5,0,1,0,technical,low\\n0.1,0.83,6,258,4,0,1,0,management,low\\n0.4,0.56,2,131,3,0,1,0,IT,low\\n0.82,0.86,5,243,5,0,1,0,IT,low\\n0.1,0.82,6,266,4,0,1,0,IT,low\\n0.37,0.45,2,142,3,0,1,0,IT,low\\n0.36,0.51,2,135,3,0,1,0,IT,low\\n0.39,0.48,2,141,3,0,1,0,product_mng,medium\\n0.36,0.57,2,142,3,0,1,0,product_mng,medium\\n0.86,0.84,5,254,5,0,1,0,product_mng,medium\\n0.73,0.99,5,262,5,0,1,0,product_mng,medium\\n0.56,0.71,4,296,2,0,1,0,IT,medium\\n0.44,0.56,2,158,3,0,1,0,accounting,medium\\n0.31,0.56,4,238,2,0,1,0,accounting,medium\\n0.77,0.93,4,231,5,0,1,0,hr,medium\\n0.44,0.45,2,156,3,0,1,0,hr,medium\\n0.38,0.46,2,145,3,0,1,0,hr,medium\\n0.45,0.48,2,144,3,0,1,0,marketing,medium\\n0.38,0.51,2,159,3,0,1,0,sales,medium\\n0.36,0.48,2,156,3,0,1,0,accounting,high\\n0.75,0.9,5,256,5,0,1,0,support,low\\n0.1,0.93,6,298,4,0,1,0,technical,medium\\n0.1,0.97,6,247,4,0,1,0,management,medium\\n0.45,0.5,2,157,3,0,1,0,marketing,medium\\n0.42,0.57,2,154,3,1,1,0,marketing,medium\\n0.78,1,4,253,5,0,1,0,marketing,low\\n0.45,0.55,2,148,3,0,1,0,sales,low\\n0.84,1,4,261,5,0,1,0,sales,low\\n0.11,0.93,6,282,4,0,1,0,sales,low\\n0.42,0.56,2,133,3,0,1,0,sales,low\\n0.45,0.46,2,128,3,0,1,0,sales,low\\n0.46,0.57,2,139,3,0,1,0,sales,low\\n0.09,0.79,6,293,5,0,1,0,sales,low\\n0.87,0.83,4,265,6,0,1,0,sales,low\\n0.1,0.87,6,250,4,0,1,0,sales,low\\n0.91,1,5,251,6,0,1,0,sales,low\\n0.76,0.92,4,246,5,0,1,0,sales,low\\n0.74,1,5,275,5,0,1,0,sales,low\\n0.92,0.93,5,240,5,0,1,0,sales,low\\n0.76,0.87,5,245,5,0,1,0,sales,low\\n0.47,0.5,4,254,4,0,1,0,sales,low\\n0.73,0.99,5,241,5,0,1,0,sales,low\\n0.09,0.94,6,257,4,0,1,0,sales,low\\n0.91,0.92,4,246,5,0,1,0,sales,low\\n0.82,0.98,4,233,5,0,1,0,sales,low\\n0.28,0.45,6,218,4,0,1,0,accounting,low\\n0.84,0.99,4,262,6,0,1,0,accounting,medium\\n0.45,0.53,2,138,3,0,1,0,accounting,medium\\n0.45,0.54,2,142,3,0,1,0,hr,medium\\n0.91,0.97,5,233,5,0,1,0,hr,medium\\n0.42,0.48,2,155,3,0,1,0,hr,medium\\n0.82,1,4,229,6,0,1,0,hr,medium\\n0.11,0.9,6,264,4,0,1,0,technical,medium\\n0.42,0.53,3,199,4,0,1,0,technical,medium\\n0.82,0.85,4,223,5,0,1,0,technical,medium\\n0.09,0.96,6,268,4,0,1,0,technical,medium\\n0.1,0.94,6,287,4,0,1,0,technical,medium\\n0.86,1,5,257,5,0,1,0,technical,medium\\n0.4,0.46,2,143,3,0,1,0,technical,high\\n0.45,0.46,2,130,3,0,1,0,technical,low\\n0.42,0.51,2,136,3,0,1,0,technical,medium\\n0.74,0.92,4,261,5,0,1,0,technical,medium\\n0.55,0.6,3,180,4,0,1,0,technical,medium\\n0.37,0.45,2,126,3,0,1,0,support,medium\\n0.41,0.52,2,127,3,1,1,0,support,low\\n0.89,0.65,5,195,6,0,1,0,support,low\\n0.41,0.57,2,160,3,0,1,0,support,low\\n0.44,0.51,2,150,3,0,1,0,support,low\\n0.87,0.84,4,264,6,0,1,0,support,low\\n0.1,0.84,6,309,4,0,1,0,support,low\\n0.41,0.47,2,135,3,0,1,0,support,low\\n0.11,0.85,6,261,4,0,1,0,support,low\\n0.43,0.53,2,160,3,0,1,0,support,low\\n0.77,0.9,4,237,5,0,1,0,support,low\\n0.41,0.52,2,136,3,0,1,0,technical,low\\n0.41,0.48,2,139,3,0,1,0,technical,low\\n0.36,0.78,2,151,4,0,1,0,technical,low\\n0.77,1,5,229,5,0,1,0,management,low\\n0.81,0.98,5,245,5,0,1,0,IT,low\\n0.39,0.54,2,127,3,0,1,0,IT,low\\n0.09,0.94,6,283,5,0,1,0,IT,low\\n0.44,0.46,2,143,3,0,1,0,IT,low\\n0.1,0.84,5,298,4,0,1,0,IT,low\\n0.36,0.48,2,159,3,0,1,0,product_mng,low\\n0.81,0.92,5,239,5,0,1,0,product_mng,low\\n0.81,0.9,4,226,5,0,1,0,product_mng,medium\\n0.85,0.98,5,248,5,0,1,0,product_mng,medium\\n0.1,0.87,6,286,4,0,1,0,IT,medium\\n0.37,0.54,2,145,3,0,1,0,RandD,medium\\n0.09,0.97,7,254,4,1,1,0,RandD,medium\\n0.44,0.53,2,127,3,0,1,0,RandD,medium\\n0.86,0.93,5,223,5,0,1,0,RandD,medium\\n0.77,1,4,255,5,0,1,0,RandD,medium\\n0.41,0.48,2,136,3,0,1,0,marketing,medium\\n0.4,0.48,2,137,3,0,1,0,sales,medium\\n0.43,0.49,2,135,3,0,1,0,accounting,medium\\n0.43,0.5,2,137,3,0,1,0,support,medium\\n0.8,0.53,3,255,5,0,1,0,technical,high\\n0.8,0.85,4,273,5,0,1,0,management,low\\n0.82,0.98,5,234,5,0,1,0,marketing,medium\\n0.37,0.54,2,152,3,0,1,0,marketing,medium\\n0.37,0.48,2,134,3,0,1,0,marketing,medium\\n0.09,0.95,6,292,4,0,1,0,sales,medium\\n0.9,0.92,5,245,5,0,1,0,sales,low\\n0.41,0.52,2,159,3,0,1,0,sales,low\\n0.1,0.85,6,260,4,0,1,0,sales,low\\n0.44,0.53,2,149,3,0,1,0,sales,low\\n0.89,0.85,5,266,5,0,1,0,sales,low\\n0.42,0.56,2,149,3,0,1,0,sales,low\\n0.87,1,5,242,5,0,1,0,sales,low\\n0.45,0.57,2,134,3,0,1,0,sales,low\\n0.11,0.87,5,271,4,0,1,0,sales,low\\n0.09,0.79,6,275,4,0,1,0,sales,low\\n0.76,0.83,5,227,5,0,1,0,sales,low\\n0.11,0.96,7,277,5,0,1,0,sales,low\\n0.37,0.49,2,151,3,0,1,0,sales,low\\n0.1,0.79,6,274,4,0,1,0,sales,low\\n0.77,0.87,4,242,6,0,1,0,sales,low\\n0.42,0.54,2,143,3,1,1,0,sales,low\\n0.38,0.52,2,145,3,0,1,0,sales,low\\n0.32,0.95,5,172,2,0,1,0,sales,low\\n0.38,0.49,2,135,3,0,1,0,accounting,low\\n0.19,1,4,192,4,0,1,0,accounting,low\\n0.1,0.83,7,276,4,0,1,0,accounting,low\\n0.76,0.88,4,206,4,0,1,0,hr,medium\\n0.53,0.56,4,281,6,0,1,0,hr,medium\\n0.39,0.51,2,151,3,0,1,0,hr,medium\\n0.11,0.83,6,244,4,0,1,0,hr,medium\\n0.1,0.94,6,309,4,0,1,0,technical,medium\\n0.84,1,5,218,5,0,1,0,technical,medium\\n0.82,0.99,4,263,6,0,1,0,technical,medium\\n0.1,0.82,6,244,4,0,1,0,technical,medium\\n0.59,0.49,7,263,4,0,1,0,technical,medium\\n0.44,0.48,2,143,3,0,1,0,technical,medium\\n0.89,0.95,2,181,5,0,1,0,technical,medium\\n0.91,0.84,5,265,5,0,1,0,technical,medium\\n0.66,0.57,5,161,5,0,1,0,technical,high\\n0.11,0.87,7,282,5,0,1,0,technical,low\\n0.43,0.51,2,155,3,0,1,0,technical,medium\\n0.78,0.83,4,217,6,0,1,0,support,medium\\n0.11,0.97,6,289,5,0,1,0,support,medium\\n0.83,0.98,4,259,5,0,1,0,support,medium\\n0.39,0.54,2,158,3,0,1,0,support,low\\n0.38,0.55,2,158,3,0,1,0,support,low\\n0.37,0.57,2,155,3,0,1,0,support,low\\n0.44,0.48,2,146,3,0,1,0,support,low\\n0.53,0.85,2,164,5,0,1,0,support,low\\n0.09,0.96,6,259,4,0,1,0,support,low\\n0.11,0.89,6,293,4,0,1,0,support,low\\n0.83,0.96,5,275,5,0,1,0,support,low\\n0.88,1,5,219,6,1,1,0,technical,low\\n0.1,0.89,6,247,4,0,1,0,technical,low\\n0.09,0.86,7,309,4,0,1,0,technical,low\\n0.44,0.54,2,151,3,0,1,0,management,low\\n0.39,0.51,2,129,3,0,1,0,IT,low\\n0.87,0.94,4,274,5,0,1,0,IT,low\\n0.74,0.99,4,233,5,0,1,0,IT,low\\n0.1,0.95,7,289,4,0,1,0,IT,low\\n0.74,0.82,4,239,6,0,1,0,IT,low\\n0.75,0.99,5,221,5,0,1,0,product_mng,low\\n0.41,0.56,2,150,3,0,1,0,product_mng,low\\n0.41,0.45,2,144,3,1,1,0,product_mng,low\\n0.09,0.9,7,289,4,0,1,0,product_mng,low\\n0.09,0.8,6,301,5,0,1,0,IT,medium\\n0.39,0.57,2,145,3,0,1,0,accounting,medium\\n0.4,0.56,2,137,3,0,1,0,accounting,medium\\n0.37,0.54,2,131,3,1,1,0,hr,medium\\n0.1,0.84,6,246,4,0,1,0,hr,medium\\n0.43,0.51,2,136,3,0,1,0,hr,medium\\n0.75,0.85,5,240,6,1,1,0,marketing,medium\\n0.37,0.56,2,156,3,0,1,0,sales,medium\\n0.11,0.85,6,305,4,0,1,0,accounting,medium\\n0.45,0.45,2,154,3,1,1,0,support,medium\\n0.87,1,5,261,5,1,1,0,technical,medium\\n0.11,0.94,7,244,4,0,1,0,management,medium\\n0.45,0.54,2,129,3,0,1,0,marketing,high\\n0.81,0.87,4,254,5,0,1,0,marketing,low\\n0.77,0.91,5,236,5,0,1,0,marketing,medium\\n0.89,0.92,5,237,5,0,1,0,sales,medium\\n0.43,0.49,2,135,3,0,1,0,sales,medium\\n0.78,1,5,236,5,0,1,0,sales,medium\\n0.37,0.47,2,149,3,0,1,0,sales,low\\n0.37,0.5,2,141,3,0,1,0,sales,low\\n0.85,0.82,4,270,5,0,1,0,sales,low\\n0.41,0.47,2,138,3,0,1,0,sales,low\\n0.11,0.96,6,298,4,0,1,0,sales,low\\n0.75,0.99,5,254,5,0,1,0,sales,low\\n0.82,0.85,5,248,5,0,1,0,sales,low\\n0.79,1,5,257,6,0,1,0,sales,low\\n0.43,0.53,2,150,3,0,1,0,sales,low\\n0.1,0.9,7,281,4,0,1,0,sales,low\\n0.46,0.48,2,141,3,1,1,0,sales,low\\n0.43,0.57,2,157,3,0,1,0,sales,low\\n0.43,0.55,2,136,3,0,1,0,sales,low\\n0.11,0.8,7,296,4,0,1,0,sales,low\\n0.09,0.86,6,279,4,0,1,0,sales,low\\n0.37,0.53,2,131,3,0,1,0,sales,low\\n0.4,0.57,2,160,3,0,1,0,accounting,low\\n0.1,0.77,7,291,4,0,1,0,accounting,low\\n0.41,0.53,2,157,3,0,1,0,accounting,low\\n0.79,0.58,3,294,4,0,1,0,hr,low\\n0.11,0.79,7,310,4,0,1,0,hr,low\\n0.1,0.97,6,282,4,0,1,0,hr,medium\\n0.44,0.51,2,134,3,0,1,0,hr,medium\\n0.25,0.46,4,214,4,0,1,0,technical,medium\\n0.44,0.52,2,137,3,0,1,0,technical,medium\\n0.73,1,4,252,5,0,1,0,technical,medium\\n0.75,0.97,5,243,6,0,1,0,technical,medium\\n0.36,0.47,2,148,3,0,1,0,technical,medium\\n0.37,0.49,2,151,3,0,1,0,technical,medium\\n0.39,0.49,2,129,3,0,1,0,technical,medium\\n0.48,0.78,2,198,2,0,1,0,technical,medium\\n0.57,0.72,4,275,6,0,1,0,technical,medium\\n0.9,0.96,5,243,5,0,1,0,technical,medium\\n0.39,0.55,2,159,3,0,1,0,technical,high\\n0.44,0.51,2,145,3,0,1,0,support,low\\n0.81,0.88,5,242,5,0,1,0,support,medium\\n0.74,0.87,5,242,5,0,1,0,support,medium\\n0.44,0.56,2,145,3,0,1,0,support,medium\\n0.41,0.56,2,154,3,0,1,1,support,medium\\n0.4,0.51,2,139,3,0,1,0,support,low\\n0.46,0.57,2,152,3,0,1,0,support,low\\n0.8,0.83,2,211,3,0,1,0,support,low\\n0.87,0.9,5,258,5,0,1,0,support,low\\n0.39,0.54,2,155,3,0,1,0,support,low\\n0.38,0.55,2,148,3,0,1,0,support,low\\n0.66,0.67,2,255,3,0,1,0,technical,low\\n0.1,0.8,6,264,4,0,1,0,technical,low\\n0.37,0.54,2,132,3,0,1,0,technical,low\\n0.1,0.77,6,255,4,0,1,0,management,low\\n0.09,0.87,5,263,4,0,1,0,IT,low\\n0.86,0.84,5,222,5,0,1,0,IT,low\\n0.11,0.9,6,263,4,0,1,0,IT,low\\n0.37,0.46,2,157,3,0,1,0,IT,low\\n0.11,0.92,7,307,4,0,1,0,IT,low\\n0.77,0.98,5,259,6,0,1,0,product_mng,low\\n0.84,0.94,5,222,6,0,1,0,product_mng,low\\n0.1,0.84,7,250,4,0,1,0,product_mng,low\\n0.83,0.9,5,245,5,0,1,0,product_mng,low\\n0.11,0.79,6,292,4,0,1,0,IT,low\\n0.86,0.92,5,252,5,0,1,0,RandD,low\\n0.38,0.56,2,161,3,0,1,0,RandD,medium\\n0.11,0.88,5,250,4,0,1,0,RandD,medium\\n0.45,0.49,2,134,3,0,1,0,RandD,medium\\n0.1,0.85,7,279,4,0,1,0,RandD,medium\\n0.09,0.95,7,256,4,0,1,0,marketing,medium\\n0.39,0.53,2,127,3,0,1,0,sales,medium\\n0.37,0.47,2,138,3,1,1,0,accounting,medium\\n0.81,0.97,5,243,5,0,1,0,support,medium\\n0.09,0.9,7,296,4,0,1,0,technical,medium\\n0.1,0.88,7,267,4,0,1,0,management,medium\\n0.39,0.49,2,144,3,0,1,0,marketing,medium\\n0.83,0.95,4,251,5,0,1,0,marketing,medium\\n0.45,0.57,2,148,3,0,1,0,marketing,high\\n0.43,0.51,2,141,3,0,1,0,sales,low\\n0.8,0.75,3,268,2,0,1,0,sales,medium\\n0.1,0.86,6,247,4,0,1,0,sales,medium\\n0.1,0.55,2,247,4,0,1,0,sales,medium\\n0.36,0.52,2,146,3,0,1,0,sales,medium\\n0.38,0.5,2,140,3,0,1,0,sales,low\\n0.78,0.98,5,263,6,0,1,0,sales,low\\n0.44,0.49,2,145,3,0,1,0,sales,low\\n0.41,0.46,2,156,3,1,1,0,sales,low\\n0.72,0.85,5,244,6,0,1,0,sales,low\\n0.46,0.54,2,144,3,0,1,0,sales,low\\n0.1,0.9,7,286,4,0,1,0,sales,low\\n0.34,0.67,4,141,2,0,1,0,sales,low\\n0.11,0.89,6,260,5,0,1,0,sales,low\\n0.38,0.56,2,154,3,0,1,0,sales,low\\n0.82,0.92,5,225,5,0,1,0,sales,low\\n0.39,0.57,2,127,3,0,1,0,sales,low\\n0.44,0.53,2,140,3,0,1,0,sales,low\\n0.43,0.52,2,147,3,0,1,0,sales,low\\n0.84,0.83,4,227,5,0,1,0,accounting,low\\n0.43,0.48,2,153,3,0,1,0,accounting,low\\n0.37,0.52,2,128,3,0,1,0,accounting,low\\n0.74,0.97,4,228,5,0,1,0,hr,low\\n0.73,0.97,5,235,5,0,1,0,hr,low\\n0.37,0.47,2,148,3,0,1,0,hr,low\\n0.58,0.62,4,238,3,0,1,0,hr,low\\n0.4,0.54,2,141,3,0,1,0,technical,medium\\n0.51,0.83,5,249,4,0,1,0,technical,medium\\n0.46,0.5,2,151,3,0,1,0,technical,medium\\n0.45,0.54,2,129,3,0,1,0,technical,medium\\n0.46,0.5,2,156,3,0,1,0,technical,medium\\n0.39,0.45,2,134,3,0,1,0,technical,medium\\n0.09,0.88,6,269,4,0,1,0,technical,medium\\n0.09,0.77,6,290,4,0,1,0,technical,medium\\n0.37,0.51,2,132,3,0,1,0,technical,medium\\n0.1,0.89,7,308,4,0,1,0,technical,medium\\n0.77,1,4,232,5,0,1,0,technical,medium\\n0.79,0.86,5,235,5,0,1,0,support,medium\\n0.43,0.55,2,130,3,0,1,0,support,high\\n0.38,0.53,2,146,3,0,1,0,support,low\\n0.77,0.91,5,221,6,0,1,0,support,medium\\n0.44,0.5,2,130,3,0,1,0,support,medium\\n0.39,0.46,2,136,3,0,1,0,support,medium\\n0.1,0.79,6,275,4,0,1,0,management,low\\n0.1,0.9,6,299,4,0,1,0,marketing,low\\n0.36,0.49,2,147,3,0,1,0,marketing,low\\n0.1,0.97,7,306,4,0,1,0,marketing,low\\n0.84,1,5,242,5,0,1,0,sales,low\\n0.38,0.51,2,159,3,0,1,0,sales,low\\n0.41,0.49,2,147,3,0,1,0,sales,low\\n0.37,0.51,2,154,3,1,1,0,sales,low\\n0.43,0.56,2,129,3,0,1,0,sales,low\\n0.46,0.53,2,161,3,0,1,0,sales,low\\n0.09,0.84,6,269,4,0,1,0,sales,low\\n0.78,0.86,5,274,5,0,1,0,sales,low\\n0.45,0.53,2,159,3,0,1,0,sales,low\\n0.42,0.47,2,135,3,0,1,0,sales,low\\n0.46,0.53,2,147,3,0,1,0,sales,low\\n0.39,0.49,2,142,3,0,1,0,sales,low\\n0.36,0.51,2,130,3,0,1,0,sales,low\\n0.43,0.53,2,147,3,0,1,0,sales,medium\\n0.85,0.87,5,246,5,1,1,0,sales,medium\\n0.11,0.92,6,281,4,0,1,0,sales,medium\\n0.11,0.9,6,253,4,0,1,0,sales,medium\\n0.38,0.47,2,128,3,0,1,0,sales,medium\\n0.43,0.57,2,129,3,0,1,0,sales,medium\\n0.75,1,5,223,6,0,1,0,accounting,medium\\n0.11,0.92,6,269,4,0,1,0,accounting,medium\\n0.1,0.9,7,269,4,0,1,0,accounting,medium\\n0.1,0.81,7,244,5,0,1,0,hr,medium\\n0.37,0.5,2,154,3,0,1,0,hr,medium\\n0.11,0.93,5,140,5,0,1,0,hr,medium\\n0.45,0.46,2,159,3,0,1,0,hr,high\\n0.44,0.48,2,158,3,0,1,0,technical,low\\n0.44,0.56,2,133,3,0,1,0,technical,medium\\n0.11,0.77,6,247,4,0,1,0,technical,medium\\n0.79,0.93,5,268,5,0,1,0,technical,medium\\n0.8,0.9,5,267,5,0,1,0,technical,medium\\n0.1,0.87,7,251,5,0,1,0,technical,low\\n0.09,0.93,6,279,4,0,1,0,technical,low\\n0.7,0.84,6,161,4,0,1,0,technical,low\\n0.72,0.84,4,256,5,0,1,0,technical,low\\n0.11,0.8,6,304,4,0,1,0,technical,low\\n0.39,0.51,2,137,3,0,1,0,technical,low\\n0.4,0.49,2,144,3,0,1,0,support,low\\n0.43,0.54,2,142,3,0,1,0,support,low\\n0.76,0.87,5,262,5,0,1,0,support,low\\n0.4,0.48,2,142,3,0,1,0,support,low\\n0.09,0.89,6,282,4,0,1,0,support,low\\n0.37,0.54,2,157,3,0,1,0,support,low\\n0.87,0.91,5,228,5,0,1,0,support,low\\n0.1,0.86,6,283,4,0,1,0,support,low\\n0.11,0.86,6,286,4,0,1,0,support,low\\n0.43,0.5,2,148,3,0,1,0,support,low\\n0.1,0.81,6,245,4,0,1,0,support,low\\n0.11,0.95,6,279,4,0,1,0,technical,low\\n0.85,0.87,5,245,5,0,1,0,technical,low\\n0.37,0.49,2,138,3,0,1,0,technical,low\\n0.44,0.52,2,141,3,0,1,0,management,low\\n0.1,0.83,7,302,5,0,1,0,IT,medium\\n0.11,0.89,6,268,4,0,1,0,IT,medium\\n0.87,0.88,5,240,5,0,1,0,IT,medium\\n0.39,0.49,2,127,3,0,1,0,IT,medium\\n0.1,0.94,7,264,4,0,1,0,IT,medium\\n0.44,0.53,2,155,3,0,1,0,product_mng,medium\\n0.4,0.49,2,143,3,0,1,0,product_mng,medium\\n0.76,0.98,5,217,6,0,1,0,product_mng,medium\\n0.46,0.55,2,147,3,0,1,0,product_mng,medium\\n0.9,0.92,4,271,5,0,1,0,IT,medium\\n0.85,0.87,4,273,5,0,1,0,RandD,medium\\n0.1,0.78,5,285,4,1,1,0,RandD,medium\\n0.43,0.49,2,131,3,0,1,0,RandD,high\\n0.2,0.5,5,135,6,0,1,0,RandD,low\\n0.81,0.92,5,239,5,0,1,0,RandD,medium\\n0.83,0.85,5,237,5,0,1,0,marketing,medium\\n0.14,0.75,4,277,5,1,1,0,sales,medium\\n0.1,0.84,5,303,5,0,1,0,accounting,medium\\n0.91,0.98,4,242,6,0,1,0,support,low\\n0.37,0.57,2,158,3,0,1,0,technical,low\\n0.42,0.57,2,147,3,1,1,0,management,low\\n0.39,0.68,2,282,5,0,1,0,marketing,low\\n0.39,0.54,2,154,3,0,1,0,marketing,low\\n0.44,0.52,2,149,3,0,1,0,marketing,low\\n0.37,0.45,2,149,3,0,1,0,sales,low\\n0.39,0.53,2,146,3,0,1,0,sales,low\\n0.72,0.94,4,258,5,0,1,0,sales,low\\n0.37,0.49,2,148,3,0,1,0,sales,low\\n0.82,0.94,5,236,5,0,1,0,sales,low\\n0.42,0.52,2,134,3,0,1,0,sales,low\\n0.59,1,2,155,5,0,1,0,sales,low\\n0.82,0.86,5,257,5,0,1,0,sales,low\\n0.73,0.97,6,189,2,0,1,0,sales,low\\n0.78,0.66,3,164,3,0,1,0,sales,low\\n0.09,0.95,6,271,4,0,1,0,sales,low\\n0.1,0.97,6,280,4,0,1,0,sales,low\\n0.45,0.46,2,149,3,0,1,0,sales,low\\n0.83,0.81,5,219,5,0,1,0,sales,low\\n0.43,0.51,2,128,3,0,1,0,sales,low\\n0.4,0.47,2,128,3,0,1,0,sales,medium\\n0.43,0.46,2,157,3,0,1,0,sales,medium\\n0.78,0.93,4,225,5,0,1,0,sales,medium\\n0.39,0.45,2,140,3,0,1,0,sales,medium\\n0.11,0.97,6,310,4,0,1,0,accounting,medium\\n0.36,0.52,2,143,3,0,1,0,accounting,medium\\n0.36,0.54,2,153,3,0,1,0,accounting,medium\\n0.1,0.79,7,310,4,0,1,0,hr,medium\\n0.4,0.47,2,136,3,0,1,0,hr,medium\\n0.81,0.85,4,251,6,0,1,0,hr,medium\\n0.4,0.47,2,144,3,0,1,0,hr,medium\\n0.09,0.93,6,296,4,0,1,0,technical,medium\\n0.76,0.89,5,238,5,0,1,0,technical,high\\n0.73,0.93,5,162,4,0,1,0,technical,low\\n0.38,0.49,2,137,3,0,1,0,technical,medium\\n0.72,0.84,5,257,5,0,1,0,technical,medium\\n0.4,0.56,2,148,3,0,1,0,technical,medium\\n0.91,0.99,5,254,5,0,1,0,technical,medium\\n0.85,0.85,4,247,6,0,1,0,technical,low\\n0.9,0.7,5,206,4,0,1,0,technical,low\\n0.46,0.55,2,145,3,0,1,0,technical,low\\n0.43,0.57,2,159,3,1,1,0,technical,low\\n0.89,0.88,5,228,5,1,1,0,support,low\\n0.09,0.81,6,257,4,0,1,0,support,low\\n0.4,0.48,2,155,3,0,1,0,support,low\\n0.76,0.83,6,293,6,0,1,0,support,low\\n0.4,0.57,2,151,3,0,1,0,support,low\\n0.37,0.48,2,160,3,0,1,0,support,low\\n0.37,0.53,2,143,3,0,1,0,support,low\\n0.11,0.96,6,280,4,0,1,0,support,low\\n0.37,0.52,2,158,3,0,1,0,support,low'}"
      ]
     },
     "execution_count": 19,
     "metadata": {
      "tags": []
     },
     "output_type": "execute_result"
    }
   ],
   "source": [
    "files.upload()"
   ]
  },
  {
   "cell_type": "code",
   "execution_count": null,
   "metadata": {
    "colab": {
     "base_uri": "https://localhost:8080/",
     "height": 222
    },
    "colab_type": "code",
    "id": "l13DZ_SwoB5l",
    "outputId": "d408e55d-c106-4520-8549-fce273fb1b91"
   },
   "outputs": [
    {
     "data": {
      "text/html": [
       "<div>\n",
       "<style scoped>\n",
       "    .dataframe tbody tr th:only-of-type {\n",
       "        vertical-align: middle;\n",
       "    }\n",
       "\n",
       "    .dataframe tbody tr th {\n",
       "        vertical-align: top;\n",
       "    }\n",
       "\n",
       "    .dataframe thead th {\n",
       "        text-align: right;\n",
       "    }\n",
       "</style>\n",
       "<table border=\"1\" class=\"dataframe\">\n",
       "  <thead>\n",
       "    <tr style=\"text-align: right;\">\n",
       "      <th></th>\n",
       "      <th>satisfaction_level</th>\n",
       "      <th>last_evaluation</th>\n",
       "      <th>number_project</th>\n",
       "      <th>average_montly_hours</th>\n",
       "      <th>time_spend_company</th>\n",
       "      <th>Work_accident</th>\n",
       "      <th>left</th>\n",
       "      <th>promotion_last_5years</th>\n",
       "      <th>sales</th>\n",
       "      <th>salary</th>\n",
       "    </tr>\n",
       "  </thead>\n",
       "  <tbody>\n",
       "    <tr>\n",
       "      <th>0</th>\n",
       "      <td>0.38</td>\n",
       "      <td>0.53</td>\n",
       "      <td>2</td>\n",
       "      <td>157</td>\n",
       "      <td>3</td>\n",
       "      <td>0</td>\n",
       "      <td>1</td>\n",
       "      <td>0</td>\n",
       "      <td>sales</td>\n",
       "      <td>low</td>\n",
       "    </tr>\n",
       "    <tr>\n",
       "      <th>1</th>\n",
       "      <td>0.80</td>\n",
       "      <td>0.86</td>\n",
       "      <td>5</td>\n",
       "      <td>262</td>\n",
       "      <td>6</td>\n",
       "      <td>0</td>\n",
       "      <td>1</td>\n",
       "      <td>0</td>\n",
       "      <td>sales</td>\n",
       "      <td>medium</td>\n",
       "    </tr>\n",
       "    <tr>\n",
       "      <th>2</th>\n",
       "      <td>0.11</td>\n",
       "      <td>0.88</td>\n",
       "      <td>7</td>\n",
       "      <td>272</td>\n",
       "      <td>4</td>\n",
       "      <td>0</td>\n",
       "      <td>1</td>\n",
       "      <td>0</td>\n",
       "      <td>sales</td>\n",
       "      <td>medium</td>\n",
       "    </tr>\n",
       "    <tr>\n",
       "      <th>3</th>\n",
       "      <td>0.72</td>\n",
       "      <td>0.87</td>\n",
       "      <td>5</td>\n",
       "      <td>223</td>\n",
       "      <td>5</td>\n",
       "      <td>0</td>\n",
       "      <td>1</td>\n",
       "      <td>0</td>\n",
       "      <td>sales</td>\n",
       "      <td>low</td>\n",
       "    </tr>\n",
       "    <tr>\n",
       "      <th>4</th>\n",
       "      <td>0.37</td>\n",
       "      <td>0.52</td>\n",
       "      <td>2</td>\n",
       "      <td>159</td>\n",
       "      <td>3</td>\n",
       "      <td>0</td>\n",
       "      <td>1</td>\n",
       "      <td>0</td>\n",
       "      <td>sales</td>\n",
       "      <td>low</td>\n",
       "    </tr>\n",
       "  </tbody>\n",
       "</table>\n",
       "</div>"
      ],
      "text/plain": [
       "   satisfaction_level  last_evaluation  ...  sales  salary\n",
       "0                0.38             0.53  ...  sales     low\n",
       "1                0.80             0.86  ...  sales  medium\n",
       "2                0.11             0.88  ...  sales  medium\n",
       "3                0.72             0.87  ...  sales     low\n",
       "4                0.37             0.52  ...  sales     low\n",
       "\n",
       "[5 rows x 10 columns]"
      ]
     },
     "execution_count": 21,
     "metadata": {
      "tags": []
     },
     "output_type": "execute_result"
    }
   ],
   "source": [
    "hr_data = pd.read_csv('HR_comma_sep.csv.txt')\n",
    "hr_data.head(5)"
   ]
  },
  {
   "cell_type": "code",
   "execution_count": null,
   "metadata": {
    "colab": {
     "base_uri": "https://localhost:8080/",
     "height": 222
    },
    "colab_type": "code",
    "id": "CTUj-WAfyJ6b",
    "outputId": "e25d4874-c292-46f3-bfed-0c71ddef8726"
   },
   "outputs": [
    {
     "data": {
      "text/html": [
       "<div>\n",
       "<style scoped>\n",
       "    .dataframe tbody tr th:only-of-type {\n",
       "        vertical-align: middle;\n",
       "    }\n",
       "\n",
       "    .dataframe tbody tr th {\n",
       "        vertical-align: top;\n",
       "    }\n",
       "\n",
       "    .dataframe thead th {\n",
       "        text-align: right;\n",
       "    }\n",
       "</style>\n",
       "<table border=\"1\" class=\"dataframe\">\n",
       "  <thead>\n",
       "    <tr style=\"text-align: right;\">\n",
       "      <th></th>\n",
       "      <th>satisfaction_level</th>\n",
       "      <th>last_evaluation</th>\n",
       "      <th>number_project</th>\n",
       "      <th>average_montly_hours</th>\n",
       "      <th>time_spend_company</th>\n",
       "      <th>Work_accident</th>\n",
       "      <th>left</th>\n",
       "      <th>promotion_last_5years</th>\n",
       "      <th>sales</th>\n",
       "      <th>salary</th>\n",
       "    </tr>\n",
       "  </thead>\n",
       "  <tbody>\n",
       "    <tr>\n",
       "      <th>0</th>\n",
       "      <td>0.38</td>\n",
       "      <td>0.53</td>\n",
       "      <td>2</td>\n",
       "      <td>157</td>\n",
       "      <td>3</td>\n",
       "      <td>0</td>\n",
       "      <td>1</td>\n",
       "      <td>0</td>\n",
       "      <td>sales</td>\n",
       "      <td>low</td>\n",
       "    </tr>\n",
       "    <tr>\n",
       "      <th>1</th>\n",
       "      <td>0.80</td>\n",
       "      <td>0.86</td>\n",
       "      <td>5</td>\n",
       "      <td>262</td>\n",
       "      <td>6</td>\n",
       "      <td>0</td>\n",
       "      <td>1</td>\n",
       "      <td>0</td>\n",
       "      <td>sales</td>\n",
       "      <td>medium</td>\n",
       "    </tr>\n",
       "    <tr>\n",
       "      <th>2</th>\n",
       "      <td>0.11</td>\n",
       "      <td>0.88</td>\n",
       "      <td>7</td>\n",
       "      <td>272</td>\n",
       "      <td>4</td>\n",
       "      <td>0</td>\n",
       "      <td>1</td>\n",
       "      <td>0</td>\n",
       "      <td>sales</td>\n",
       "      <td>medium</td>\n",
       "    </tr>\n",
       "    <tr>\n",
       "      <th>3</th>\n",
       "      <td>0.72</td>\n",
       "      <td>0.87</td>\n",
       "      <td>5</td>\n",
       "      <td>223</td>\n",
       "      <td>5</td>\n",
       "      <td>0</td>\n",
       "      <td>1</td>\n",
       "      <td>0</td>\n",
       "      <td>sales</td>\n",
       "      <td>low</td>\n",
       "    </tr>\n",
       "    <tr>\n",
       "      <th>4</th>\n",
       "      <td>0.37</td>\n",
       "      <td>0.52</td>\n",
       "      <td>2</td>\n",
       "      <td>159</td>\n",
       "      <td>3</td>\n",
       "      <td>0</td>\n",
       "      <td>1</td>\n",
       "      <td>0</td>\n",
       "      <td>sales</td>\n",
       "      <td>low</td>\n",
       "    </tr>\n",
       "  </tbody>\n",
       "</table>\n",
       "</div>"
      ],
      "text/plain": [
       "   satisfaction_level  last_evaluation  number_project  average_montly_hours  \\\n",
       "0                0.38             0.53               2                   157   \n",
       "1                0.80             0.86               5                   262   \n",
       "2                0.11             0.88               7                   272   \n",
       "3                0.72             0.87               5                   223   \n",
       "4                0.37             0.52               2                   159   \n",
       "\n",
       "   time_spend_company  Work_accident  left  promotion_last_5years  sales  \\\n",
       "0                   3              0     1                      0  sales   \n",
       "1                   6              0     1                      0  sales   \n",
       "2                   4              0     1                      0  sales   \n",
       "3                   5              0     1                      0  sales   \n",
       "4                   3              0     1                      0  sales   \n",
       "\n",
       "   salary  \n",
       "0     low  \n",
       "1  medium  \n",
       "2  medium  \n",
       "3     low  \n",
       "4     low  "
      ]
     },
     "execution_count": 16,
     "metadata": {
      "tags": []
     },
     "output_type": "execute_result"
    }
   ],
   "source": [
    "hr_data.head()"
   ]
  },
  {
   "cell_type": "code",
   "execution_count": null,
   "metadata": {
    "colab": {
     "base_uri": "https://localhost:8080/",
     "height": 87
    },
    "colab_type": "code",
    "id": "dtLQS70Qomvs",
    "outputId": "6a70b02d-1e7f-4520-af37-cfb69681cd21"
   },
   "outputs": [
    {
     "data": {
      "text/plain": [
       "Index(['satisfaction_level', 'last_evaluation', 'number_project',\n",
       "       'average_montly_hours', 'time_spend_company', 'Work_accident', 'left',\n",
       "       'promotion_last_5years', 'sales', 'salary'],\n",
       "      dtype='object')"
      ]
     },
     "execution_count": 22,
     "metadata": {
      "tags": []
     },
     "output_type": "execute_result"
    }
   ],
   "source": [
    "hr_data.columns"
   ]
  },
  {
   "cell_type": "code",
   "execution_count": null,
   "metadata": {
    "colab": {
     "base_uri": "https://localhost:8080/",
     "height": 277
    },
    "colab_type": "code",
    "id": "TrGV5Ml3o3Jg",
    "outputId": "fda12560-2f8a-4749-e064-7a0e47b29ea3"
   },
   "outputs": [
    {
     "name": "stdout",
     "output_type": "stream",
     "text": [
      "<class 'pandas.core.frame.DataFrame'>\n",
      "RangeIndex: 14999 entries, 0 to 14998\n",
      "Data columns (total 10 columns):\n",
      "satisfaction_level       14999 non-null float64\n",
      "last_evaluation          14999 non-null float64\n",
      "number_project           14999 non-null int64\n",
      "average_montly_hours     14999 non-null int64\n",
      "time_spend_company       14999 non-null int64\n",
      "Work_accident            14999 non-null int64\n",
      "left                     14999 non-null int64\n",
      "promotion_last_5years    14999 non-null int64\n",
      "sales                    14999 non-null object\n",
      "salary                   14999 non-null object\n",
      "dtypes: float64(2), int64(6), object(2)\n",
      "memory usage: 1.1+ MB\n"
     ]
    }
   ],
   "source": [
    "hr_data.info()"
   ]
  },
  {
   "cell_type": "code",
   "execution_count": null,
   "metadata": {
    "colab": {
     "base_uri": "https://localhost:8080/",
     "height": 202
    },
    "colab_type": "code",
    "id": "sTus1IjTpEMQ",
    "outputId": "be199331-6717-422e-94bf-3e456f9785f3"
   },
   "outputs": [
    {
     "data": {
      "text/html": [
       "<div>\n",
       "<style scoped>\n",
       "    .dataframe tbody tr th:only-of-type {\n",
       "        vertical-align: middle;\n",
       "    }\n",
       "\n",
       "    .dataframe tbody tr th {\n",
       "        vertical-align: top;\n",
       "    }\n",
       "\n",
       "    .dataframe thead th {\n",
       "        text-align: right;\n",
       "    }\n",
       "</style>\n",
       "<table border=\"1\" class=\"dataframe\">\n",
       "  <thead>\n",
       "    <tr style=\"text-align: right;\">\n",
       "      <th></th>\n",
       "      <th>satisfaction_level</th>\n",
       "      <th>last_evaluation</th>\n",
       "    </tr>\n",
       "  </thead>\n",
       "  <tbody>\n",
       "    <tr>\n",
       "      <th>0</th>\n",
       "      <td>0.38</td>\n",
       "      <td>0.53</td>\n",
       "    </tr>\n",
       "    <tr>\n",
       "      <th>1</th>\n",
       "      <td>0.80</td>\n",
       "      <td>0.86</td>\n",
       "    </tr>\n",
       "    <tr>\n",
       "      <th>2</th>\n",
       "      <td>0.11</td>\n",
       "      <td>0.88</td>\n",
       "    </tr>\n",
       "    <tr>\n",
       "      <th>3</th>\n",
       "      <td>0.72</td>\n",
       "      <td>0.87</td>\n",
       "    </tr>\n",
       "    <tr>\n",
       "      <th>4</th>\n",
       "      <td>0.37</td>\n",
       "      <td>0.52</td>\n",
       "    </tr>\n",
       "  </tbody>\n",
       "</table>\n",
       "</div>"
      ],
      "text/plain": [
       "   satisfaction_level  last_evaluation\n",
       "0                0.38             0.53\n",
       "1                0.80             0.86\n",
       "2                0.11             0.88\n",
       "3                0.72             0.87\n",
       "4                0.37             0.52"
      ]
     },
     "execution_count": 26,
     "metadata": {
      "tags": []
     },
     "output_type": "execute_result"
    }
   ],
   "source": [
    "cat_cols_data = hr_data.select_dtypes('float64')\n",
    "cat_cols_data.head()"
   ]
  },
  {
   "cell_type": "code",
   "execution_count": null,
   "metadata": {
    "colab": {
     "base_uri": "https://localhost:8080/",
     "height": 355
    },
    "colab_type": "code",
    "id": "4oiBqMIbpRmR",
    "outputId": "fc6bb090-75c3-452d-fa56-62e2a4731258"
   },
   "outputs": [
    {
     "data": {
      "text/html": [
       "<div>\n",
       "<style scoped>\n",
       "    .dataframe tbody tr th:only-of-type {\n",
       "        vertical-align: middle;\n",
       "    }\n",
       "\n",
       "    .dataframe tbody tr th {\n",
       "        vertical-align: top;\n",
       "    }\n",
       "\n",
       "    .dataframe thead th {\n",
       "        text-align: right;\n",
       "    }\n",
       "</style>\n",
       "<table border=\"1\" class=\"dataframe\">\n",
       "  <thead>\n",
       "    <tr style=\"text-align: right;\">\n",
       "      <th></th>\n",
       "      <th>satisfaction_level</th>\n",
       "      <th>last_evaluation</th>\n",
       "      <th>number_project</th>\n",
       "    </tr>\n",
       "  </thead>\n",
       "  <tbody>\n",
       "    <tr>\n",
       "      <th>0</th>\n",
       "      <td>0.38</td>\n",
       "      <td>0.53</td>\n",
       "      <td>2</td>\n",
       "    </tr>\n",
       "    <tr>\n",
       "      <th>1</th>\n",
       "      <td>0.80</td>\n",
       "      <td>0.86</td>\n",
       "      <td>5</td>\n",
       "    </tr>\n",
       "    <tr>\n",
       "      <th>2</th>\n",
       "      <td>0.11</td>\n",
       "      <td>0.88</td>\n",
       "      <td>7</td>\n",
       "    </tr>\n",
       "    <tr>\n",
       "      <th>3</th>\n",
       "      <td>0.72</td>\n",
       "      <td>0.87</td>\n",
       "      <td>5</td>\n",
       "    </tr>\n",
       "    <tr>\n",
       "      <th>4</th>\n",
       "      <td>0.37</td>\n",
       "      <td>0.52</td>\n",
       "      <td>2</td>\n",
       "    </tr>\n",
       "    <tr>\n",
       "      <th>5</th>\n",
       "      <td>0.41</td>\n",
       "      <td>0.50</td>\n",
       "      <td>2</td>\n",
       "    </tr>\n",
       "    <tr>\n",
       "      <th>6</th>\n",
       "      <td>0.10</td>\n",
       "      <td>0.77</td>\n",
       "      <td>6</td>\n",
       "    </tr>\n",
       "    <tr>\n",
       "      <th>7</th>\n",
       "      <td>0.92</td>\n",
       "      <td>0.85</td>\n",
       "      <td>5</td>\n",
       "    </tr>\n",
       "    <tr>\n",
       "      <th>8</th>\n",
       "      <td>0.89</td>\n",
       "      <td>1.00</td>\n",
       "      <td>5</td>\n",
       "    </tr>\n",
       "    <tr>\n",
       "      <th>9</th>\n",
       "      <td>0.42</td>\n",
       "      <td>0.53</td>\n",
       "      <td>2</td>\n",
       "    </tr>\n",
       "  </tbody>\n",
       "</table>\n",
       "</div>"
      ],
      "text/plain": [
       "   satisfaction_level  last_evaluation  number_project\n",
       "0                0.38             0.53               2\n",
       "1                0.80             0.86               5\n",
       "2                0.11             0.88               7\n",
       "3                0.72             0.87               5\n",
       "4                0.37             0.52               2\n",
       "5                0.41             0.50               2\n",
       "6                0.10             0.77               6\n",
       "7                0.92             0.85               5\n",
       "8                0.89             1.00               5\n",
       "9                0.42             0.53               2"
      ]
     },
     "execution_count": 27,
     "metadata": {
      "tags": []
     },
     "output_type": "execute_result"
    }
   ],
   "source": [
    "hr_data[['satisfaction_level','last_evaluation','number_project']].head(10)"
   ]
  },
  {
   "cell_type": "code",
   "execution_count": null,
   "metadata": {
    "colab": {
     "base_uri": "https://localhost:8080/",
     "height": 121
    },
    "colab_type": "code",
    "id": "BEyJVKs7pYNx",
    "outputId": "93007547-88e2-4fea-d877-80461aeace40"
   },
   "outputs": [
    {
     "data": {
      "text/plain": [
       "0    0.38\n",
       "1    0.80\n",
       "2    0.11\n",
       "3    0.72\n",
       "4    0.37\n",
       "Name: satisfaction_level, dtype: float64"
      ]
     },
     "execution_count": 28,
     "metadata": {
      "tags": []
     },
     "output_type": "execute_result"
    }
   ],
   "source": [
    "hr_data.satisfaction_level[:5]"
   ]
  },
  {
   "cell_type": "code",
   "execution_count": null,
   "metadata": {
    "colab": {
     "base_uri": "https://localhost:8080/",
     "height": 1582
    },
    "colab_type": "code",
    "id": "MV-jrCmPpdoP",
    "outputId": "5c3aa014-4ead-4e64-a567-b434a1e56881"
   },
   "outputs": [
    {
     "data": {
      "text/html": [
       "<div>\n",
       "<style scoped>\n",
       "    .dataframe tbody tr th:only-of-type {\n",
       "        vertical-align: middle;\n",
       "    }\n",
       "\n",
       "    .dataframe tbody tr th {\n",
       "        vertical-align: top;\n",
       "    }\n",
       "\n",
       "    .dataframe thead th {\n",
       "        text-align: right;\n",
       "    }\n",
       "</style>\n",
       "<table border=\"1\" class=\"dataframe\">\n",
       "  <thead>\n",
       "    <tr style=\"text-align: right;\">\n",
       "      <th></th>\n",
       "      <th>satisfaction_level</th>\n",
       "      <th>last_evaluation</th>\n",
       "    </tr>\n",
       "  </thead>\n",
       "  <tbody>\n",
       "    <tr>\n",
       "      <th>50</th>\n",
       "      <td>0.13</td>\n",
       "      <td>0.78</td>\n",
       "    </tr>\n",
       "    <tr>\n",
       "      <th>51</th>\n",
       "      <td>0.44</td>\n",
       "      <td>0.55</td>\n",
       "    </tr>\n",
       "    <tr>\n",
       "      <th>52</th>\n",
       "      <td>0.38</td>\n",
       "      <td>0.55</td>\n",
       "    </tr>\n",
       "    <tr>\n",
       "      <th>53</th>\n",
       "      <td>0.39</td>\n",
       "      <td>0.54</td>\n",
       "    </tr>\n",
       "    <tr>\n",
       "      <th>54</th>\n",
       "      <td>0.10</td>\n",
       "      <td>0.92</td>\n",
       "    </tr>\n",
       "    <tr>\n",
       "      <th>55</th>\n",
       "      <td>0.37</td>\n",
       "      <td>0.46</td>\n",
       "    </tr>\n",
       "    <tr>\n",
       "      <th>56</th>\n",
       "      <td>0.11</td>\n",
       "      <td>0.94</td>\n",
       "    </tr>\n",
       "    <tr>\n",
       "      <th>57</th>\n",
       "      <td>0.10</td>\n",
       "      <td>0.81</td>\n",
       "    </tr>\n",
       "    <tr>\n",
       "      <th>58</th>\n",
       "      <td>0.38</td>\n",
       "      <td>0.54</td>\n",
       "    </tr>\n",
       "    <tr>\n",
       "      <th>59</th>\n",
       "      <td>0.85</td>\n",
       "      <td>1.00</td>\n",
       "    </tr>\n",
       "    <tr>\n",
       "      <th>60</th>\n",
       "      <td>0.85</td>\n",
       "      <td>0.91</td>\n",
       "    </tr>\n",
       "    <tr>\n",
       "      <th>61</th>\n",
       "      <td>0.11</td>\n",
       "      <td>0.93</td>\n",
       "    </tr>\n",
       "    <tr>\n",
       "      <th>62</th>\n",
       "      <td>0.10</td>\n",
       "      <td>0.95</td>\n",
       "    </tr>\n",
       "    <tr>\n",
       "      <th>63</th>\n",
       "      <td>0.36</td>\n",
       "      <td>0.56</td>\n",
       "    </tr>\n",
       "    <tr>\n",
       "      <th>64</th>\n",
       "      <td>0.11</td>\n",
       "      <td>0.94</td>\n",
       "    </tr>\n",
       "    <tr>\n",
       "      <th>65</th>\n",
       "      <td>0.81</td>\n",
       "      <td>0.70</td>\n",
       "    </tr>\n",
       "    <tr>\n",
       "      <th>66</th>\n",
       "      <td>0.43</td>\n",
       "      <td>0.54</td>\n",
       "    </tr>\n",
       "    <tr>\n",
       "      <th>67</th>\n",
       "      <td>0.90</td>\n",
       "      <td>0.98</td>\n",
       "    </tr>\n",
       "    <tr>\n",
       "      <th>68</th>\n",
       "      <td>0.76</td>\n",
       "      <td>0.86</td>\n",
       "    </tr>\n",
       "    <tr>\n",
       "      <th>69</th>\n",
       "      <td>0.43</td>\n",
       "      <td>0.50</td>\n",
       "    </tr>\n",
       "    <tr>\n",
       "      <th>70</th>\n",
       "      <td>0.74</td>\n",
       "      <td>0.99</td>\n",
       "    </tr>\n",
       "    <tr>\n",
       "      <th>71</th>\n",
       "      <td>0.09</td>\n",
       "      <td>0.77</td>\n",
       "    </tr>\n",
       "    <tr>\n",
       "      <th>72</th>\n",
       "      <td>0.45</td>\n",
       "      <td>0.49</td>\n",
       "    </tr>\n",
       "    <tr>\n",
       "      <th>73</th>\n",
       "      <td>0.09</td>\n",
       "      <td>0.87</td>\n",
       "    </tr>\n",
       "    <tr>\n",
       "      <th>74</th>\n",
       "      <td>0.11</td>\n",
       "      <td>0.97</td>\n",
       "    </tr>\n",
       "    <tr>\n",
       "      <th>75</th>\n",
       "      <td>0.11</td>\n",
       "      <td>0.79</td>\n",
       "    </tr>\n",
       "    <tr>\n",
       "      <th>76</th>\n",
       "      <td>0.10</td>\n",
       "      <td>0.83</td>\n",
       "    </tr>\n",
       "    <tr>\n",
       "      <th>77</th>\n",
       "      <td>0.40</td>\n",
       "      <td>0.54</td>\n",
       "    </tr>\n",
       "    <tr>\n",
       "      <th>78</th>\n",
       "      <td>0.43</td>\n",
       "      <td>0.56</td>\n",
       "    </tr>\n",
       "    <tr>\n",
       "      <th>79</th>\n",
       "      <td>0.39</td>\n",
       "      <td>0.56</td>\n",
       "    </tr>\n",
       "    <tr>\n",
       "      <th>80</th>\n",
       "      <td>0.45</td>\n",
       "      <td>0.54</td>\n",
       "    </tr>\n",
       "    <tr>\n",
       "      <th>81</th>\n",
       "      <td>0.38</td>\n",
       "      <td>0.49</td>\n",
       "    </tr>\n",
       "    <tr>\n",
       "      <th>82</th>\n",
       "      <td>0.79</td>\n",
       "      <td>0.59</td>\n",
       "    </tr>\n",
       "    <tr>\n",
       "      <th>83</th>\n",
       "      <td>0.84</td>\n",
       "      <td>0.85</td>\n",
       "    </tr>\n",
       "    <tr>\n",
       "      <th>84</th>\n",
       "      <td>0.11</td>\n",
       "      <td>0.77</td>\n",
       "    </tr>\n",
       "    <tr>\n",
       "      <th>85</th>\n",
       "      <td>0.11</td>\n",
       "      <td>0.87</td>\n",
       "    </tr>\n",
       "    <tr>\n",
       "      <th>86</th>\n",
       "      <td>0.17</td>\n",
       "      <td>0.84</td>\n",
       "    </tr>\n",
       "    <tr>\n",
       "      <th>87</th>\n",
       "      <td>0.44</td>\n",
       "      <td>0.45</td>\n",
       "    </tr>\n",
       "    <tr>\n",
       "      <th>88</th>\n",
       "      <td>0.37</td>\n",
       "      <td>0.57</td>\n",
       "    </tr>\n",
       "    <tr>\n",
       "      <th>89</th>\n",
       "      <td>0.10</td>\n",
       "      <td>0.79</td>\n",
       "    </tr>\n",
       "    <tr>\n",
       "      <th>90</th>\n",
       "      <td>0.40</td>\n",
       "      <td>0.50</td>\n",
       "    </tr>\n",
       "    <tr>\n",
       "      <th>91</th>\n",
       "      <td>0.89</td>\n",
       "      <td>1.00</td>\n",
       "    </tr>\n",
       "    <tr>\n",
       "      <th>92</th>\n",
       "      <td>0.42</td>\n",
       "      <td>0.48</td>\n",
       "    </tr>\n",
       "    <tr>\n",
       "      <th>93</th>\n",
       "      <td>0.46</td>\n",
       "      <td>0.55</td>\n",
       "    </tr>\n",
       "    <tr>\n",
       "      <th>94</th>\n",
       "      <td>0.09</td>\n",
       "      <td>0.83</td>\n",
       "    </tr>\n",
       "    <tr>\n",
       "      <th>95</th>\n",
       "      <td>0.37</td>\n",
       "      <td>0.51</td>\n",
       "    </tr>\n",
       "    <tr>\n",
       "      <th>96</th>\n",
       "      <td>0.10</td>\n",
       "      <td>0.77</td>\n",
       "    </tr>\n",
       "    <tr>\n",
       "      <th>97</th>\n",
       "      <td>0.10</td>\n",
       "      <td>0.84</td>\n",
       "    </tr>\n",
       "    <tr>\n",
       "      <th>98</th>\n",
       "      <td>0.11</td>\n",
       "      <td>0.97</td>\n",
       "    </tr>\n",
       "    <tr>\n",
       "      <th>99</th>\n",
       "      <td>0.90</td>\n",
       "      <td>1.00</td>\n",
       "    </tr>\n",
       "  </tbody>\n",
       "</table>\n",
       "</div>"
      ],
      "text/plain": [
       "    satisfaction_level  last_evaluation\n",
       "50                0.13             0.78\n",
       "51                0.44             0.55\n",
       "52                0.38             0.55\n",
       "53                0.39             0.54\n",
       "54                0.10             0.92\n",
       "55                0.37             0.46\n",
       "56                0.11             0.94\n",
       "57                0.10             0.81\n",
       "58                0.38             0.54\n",
       "59                0.85             1.00\n",
       "60                0.85             0.91\n",
       "61                0.11             0.93\n",
       "62                0.10             0.95\n",
       "63                0.36             0.56\n",
       "64                0.11             0.94\n",
       "65                0.81             0.70\n",
       "66                0.43             0.54\n",
       "67                0.90             0.98\n",
       "68                0.76             0.86\n",
       "69                0.43             0.50\n",
       "70                0.74             0.99\n",
       "71                0.09             0.77\n",
       "72                0.45             0.49\n",
       "73                0.09             0.87\n",
       "74                0.11             0.97\n",
       "75                0.11             0.79\n",
       "76                0.10             0.83\n",
       "77                0.40             0.54\n",
       "78                0.43             0.56\n",
       "79                0.39             0.56\n",
       "80                0.45             0.54\n",
       "81                0.38             0.49\n",
       "82                0.79             0.59\n",
       "83                0.84             0.85\n",
       "84                0.11             0.77\n",
       "85                0.11             0.87\n",
       "86                0.17             0.84\n",
       "87                0.44             0.45\n",
       "88                0.37             0.57\n",
       "89                0.10             0.79\n",
       "90                0.40             0.50\n",
       "91                0.89             1.00\n",
       "92                0.42             0.48\n",
       "93                0.46             0.55\n",
       "94                0.09             0.83\n",
       "95                0.37             0.51\n",
       "96                0.10             0.77\n",
       "97                0.10             0.84\n",
       "98                0.11             0.97\n",
       "99                0.90             1.00"
      ]
     },
     "execution_count": 30,
     "metadata": {
      "tags": []
     },
     "output_type": "execute_result"
    }
   ],
   "source": [
    "hr_data[['satisfaction_level', 'last_evaluation']][50:100]"
   ]
  },
  {
   "cell_type": "code",
   "execution_count": null,
   "metadata": {
    "colab": {
     "base_uri": "https://localhost:8080/",
     "height": 233
    },
    "colab_type": "code",
    "id": "ouATG-VuFH4G",
    "outputId": "382da7a1-6bc1-4175-b263-0150fab03090"
   },
   "outputs": [
    {
     "data": {
      "text/html": [
       "<div>\n",
       "<style scoped>\n",
       "    .dataframe tbody tr th:only-of-type {\n",
       "        vertical-align: middle;\n",
       "    }\n",
       "\n",
       "    .dataframe tbody tr th {\n",
       "        vertical-align: top;\n",
       "    }\n",
       "\n",
       "    .dataframe thead th {\n",
       "        text-align: right;\n",
       "    }\n",
       "</style>\n",
       "<table border=\"1\" class=\"dataframe\">\n",
       "  <thead>\n",
       "    <tr style=\"text-align: right;\">\n",
       "      <th></th>\n",
       "      <th>David Smith</th>\n",
       "      <th>Brenda Peterson</th>\n",
       "      <th>Bill Duffy</th>\n",
       "      <th>Samuel Miller</th>\n",
       "      <th>Julie Hammel</th>\n",
       "      <th>Clarissa Jackson</th>\n",
       "      <th>Adam Cohen</th>\n",
       "      <th>Chris Duncan</th>\n",
       "    </tr>\n",
       "  </thead>\n",
       "  <tbody>\n",
       "    <tr>\n",
       "      <th>Goodfellas</th>\n",
       "      <td>4.5</td>\n",
       "      <td>2.0</td>\n",
       "      <td>4.5</td>\n",
       "      <td>5.0</td>\n",
       "      <td>3.0</td>\n",
       "      <td>2.5</td>\n",
       "      <td>4.5</td>\n",
       "      <td>NaN</td>\n",
       "    </tr>\n",
       "    <tr>\n",
       "      <th>Raging Bull</th>\n",
       "      <td>3.0</td>\n",
       "      <td>1.0</td>\n",
       "      <td>NaN</td>\n",
       "      <td>5.0</td>\n",
       "      <td>NaN</td>\n",
       "      <td>4.0</td>\n",
       "      <td>NaN</td>\n",
       "      <td>4.5</td>\n",
       "    </tr>\n",
       "    <tr>\n",
       "      <th>Roman Holiday</th>\n",
       "      <td>NaN</td>\n",
       "      <td>4.5</td>\n",
       "      <td>NaN</td>\n",
       "      <td>1.0</td>\n",
       "      <td>4.5</td>\n",
       "      <td>1.5</td>\n",
       "      <td>3.0</td>\n",
       "      <td>NaN</td>\n",
       "    </tr>\n",
       "    <tr>\n",
       "      <th>Scarface</th>\n",
       "      <td>4.5</td>\n",
       "      <td>1.5</td>\n",
       "      <td>5.0</td>\n",
       "      <td>3.5</td>\n",
       "      <td>2.5</td>\n",
       "      <td>4.5</td>\n",
       "      <td>3.0</td>\n",
       "      <td>NaN</td>\n",
       "    </tr>\n",
       "    <tr>\n",
       "      <th>The Apartment</th>\n",
       "      <td>1.0</td>\n",
       "      <td>5.0</td>\n",
       "      <td>1.0</td>\n",
       "      <td>1.0</td>\n",
       "      <td>NaN</td>\n",
       "      <td>1.0</td>\n",
       "      <td>1.0</td>\n",
       "      <td>1.5</td>\n",
       "    </tr>\n",
       "    <tr>\n",
       "      <th>Vertigo</th>\n",
       "      <td>4.0</td>\n",
       "      <td>3.0</td>\n",
       "      <td>4.5</td>\n",
       "      <td>NaN</td>\n",
       "      <td>NaN</td>\n",
       "      <td>5.0</td>\n",
       "      <td>3.5</td>\n",
       "      <td>NaN</td>\n",
       "    </tr>\n",
       "  </tbody>\n",
       "</table>\n",
       "</div>"
      ],
      "text/plain": [
       "               David Smith  Brenda Peterson  ...  Adam Cohen  Chris Duncan\n",
       "Goodfellas             4.5              2.0  ...         4.5           NaN\n",
       "Raging Bull            3.0              1.0  ...         NaN           4.5\n",
       "Roman Holiday          NaN              4.5  ...         3.0           NaN\n",
       "Scarface               4.5              1.5  ...         3.0           NaN\n",
       "The Apartment          1.0              5.0  ...         1.0           1.5\n",
       "Vertigo                4.0              3.0  ...         3.5           NaN\n",
       "\n",
       "[6 rows x 8 columns]"
      ]
     },
     "execution_count": 31,
     "metadata": {
      "tags": []
     },
     "output_type": "execute_result"
    }
   ],
   "source": [
    "movie_data"
   ]
  },
  {
   "cell_type": "code",
   "execution_count": null,
   "metadata": {
    "colab": {
     "base_uri": "https://localhost:8080/",
     "height": 173
    },
    "colab_type": "code",
    "id": "YQF-z5DkFU_z",
    "outputId": "f312c266-202b-4d57-d9d0-eb1b95fb1c94"
   },
   "outputs": [
    {
     "data": {
      "text/plain": [
       "David Smith         4.5\n",
       "Brenda Peterson     1.5\n",
       "Bill Duffy          5.0\n",
       "Samuel Miller       3.5\n",
       "Julie Hammel        2.5\n",
       "Clarissa Jackson    4.5\n",
       "Adam Cohen          3.0\n",
       "Chris Duncan        NaN\n",
       "Name: Scarface, dtype: float64"
      ]
     },
     "execution_count": 32,
     "metadata": {
      "tags": []
     },
     "output_type": "execute_result"
    }
   ],
   "source": [
    "movie_data.loc['Scarface']"
   ]
  },
  {
   "cell_type": "code",
   "execution_count": null,
   "metadata": {
    "colab": {
     "base_uri": "https://localhost:8080/",
     "height": 173
    },
    "colab_type": "code",
    "id": "FtcL7QM5FaBs",
    "outputId": "df72879d-b47b-4659-deff-4d79ad55596c"
   },
   "outputs": [
    {
     "data": {
      "text/plain": [
       "David Smith         4.5\n",
       "Brenda Peterson     2.0\n",
       "Bill Duffy          4.5\n",
       "Samuel Miller       5.0\n",
       "Julie Hammel        3.0\n",
       "Clarissa Jackson    2.5\n",
       "Adam Cohen          4.5\n",
       "Chris Duncan        NaN\n",
       "Name: Goodfellas, dtype: float64"
      ]
     },
     "execution_count": 35,
     "metadata": {
      "tags": []
     },
     "output_type": "execute_result"
    }
   ],
   "source": [
    "movie_data.loc['Goodfellas']"
   ]
  },
  {
   "cell_type": "code",
   "execution_count": null,
   "metadata": {
    "colab": {
     "base_uri": "https://localhost:8080/",
     "height": 141
    },
    "colab_type": "code",
    "id": "Jkrc6shZFxrM",
    "outputId": "908873c8-4407-4a15-f722-3ca362a31430"
   },
   "outputs": [
    {
     "data": {
      "text/html": [
       "<div>\n",
       "<style scoped>\n",
       "    .dataframe tbody tr th:only-of-type {\n",
       "        vertical-align: middle;\n",
       "    }\n",
       "\n",
       "    .dataframe tbody tr th {\n",
       "        vertical-align: top;\n",
       "    }\n",
       "\n",
       "    .dataframe thead th {\n",
       "        text-align: right;\n",
       "    }\n",
       "</style>\n",
       "<table border=\"1\" class=\"dataframe\">\n",
       "  <thead>\n",
       "    <tr style=\"text-align: right;\">\n",
       "      <th></th>\n",
       "      <th>David Smith</th>\n",
       "      <th>Brenda Peterson</th>\n",
       "      <th>Bill Duffy</th>\n",
       "      <th>Samuel Miller</th>\n",
       "      <th>Julie Hammel</th>\n",
       "      <th>Clarissa Jackson</th>\n",
       "      <th>Adam Cohen</th>\n",
       "      <th>Chris Duncan</th>\n",
       "    </tr>\n",
       "  </thead>\n",
       "  <tbody>\n",
       "    <tr>\n",
       "      <th>Raging Bull</th>\n",
       "      <td>3.0</td>\n",
       "      <td>1.0</td>\n",
       "      <td>NaN</td>\n",
       "      <td>5.0</td>\n",
       "      <td>NaN</td>\n",
       "      <td>4.0</td>\n",
       "      <td>NaN</td>\n",
       "      <td>4.5</td>\n",
       "    </tr>\n",
       "    <tr>\n",
       "      <th>Roman Holiday</th>\n",
       "      <td>NaN</td>\n",
       "      <td>4.5</td>\n",
       "      <td>NaN</td>\n",
       "      <td>1.0</td>\n",
       "      <td>4.5</td>\n",
       "      <td>1.5</td>\n",
       "      <td>3.0</td>\n",
       "      <td>NaN</td>\n",
       "    </tr>\n",
       "    <tr>\n",
       "      <th>Scarface</th>\n",
       "      <td>4.5</td>\n",
       "      <td>1.5</td>\n",
       "      <td>5.0</td>\n",
       "      <td>3.5</td>\n",
       "      <td>2.5</td>\n",
       "      <td>4.5</td>\n",
       "      <td>3.0</td>\n",
       "      <td>NaN</td>\n",
       "    </tr>\n",
       "  </tbody>\n",
       "</table>\n",
       "</div>"
      ],
      "text/plain": [
       "               David Smith  Brenda Peterson  ...  Adam Cohen  Chris Duncan\n",
       "Raging Bull            3.0              1.0  ...         NaN           4.5\n",
       "Roman Holiday          NaN              4.5  ...         3.0           NaN\n",
       "Scarface               4.5              1.5  ...         3.0           NaN\n",
       "\n",
       "[3 rows x 8 columns]"
      ]
     },
     "execution_count": 36,
     "metadata": {
      "tags": []
     },
     "output_type": "execute_result"
    }
   ],
   "source": [
    "movie_data.iloc[1:4]"
   ]
  },
  {
   "cell_type": "code",
   "execution_count": null,
   "metadata": {
    "colab": {
     "base_uri": "https://localhost:8080/",
     "height": 141
    },
    "colab_type": "code",
    "id": "i7oqjiTTFzdy",
    "outputId": "5d0833d9-29a1-4170-d9c3-627745ebbaff"
   },
   "outputs": [
    {
     "data": {
      "text/html": [
       "<div>\n",
       "<style scoped>\n",
       "    .dataframe tbody tr th:only-of-type {\n",
       "        vertical-align: middle;\n",
       "    }\n",
       "\n",
       "    .dataframe tbody tr th {\n",
       "        vertical-align: top;\n",
       "    }\n",
       "\n",
       "    .dataframe thead th {\n",
       "        text-align: right;\n",
       "    }\n",
       "</style>\n",
       "<table border=\"1\" class=\"dataframe\">\n",
       "  <thead>\n",
       "    <tr style=\"text-align: right;\">\n",
       "      <th></th>\n",
       "      <th>David Smith</th>\n",
       "      <th>Brenda Peterson</th>\n",
       "      <th>Bill Duffy</th>\n",
       "      <th>Samuel Miller</th>\n",
       "      <th>Julie Hammel</th>\n",
       "      <th>Clarissa Jackson</th>\n",
       "      <th>Adam Cohen</th>\n",
       "      <th>Chris Duncan</th>\n",
       "    </tr>\n",
       "  </thead>\n",
       "  <tbody>\n",
       "    <tr>\n",
       "      <th>Raging Bull</th>\n",
       "      <td>3.0</td>\n",
       "      <td>1.0</td>\n",
       "      <td>NaN</td>\n",
       "      <td>5.0</td>\n",
       "      <td>NaN</td>\n",
       "      <td>4.0</td>\n",
       "      <td>NaN</td>\n",
       "      <td>4.5</td>\n",
       "    </tr>\n",
       "    <tr>\n",
       "      <th>Roman Holiday</th>\n",
       "      <td>NaN</td>\n",
       "      <td>4.5</td>\n",
       "      <td>NaN</td>\n",
       "      <td>1.0</td>\n",
       "      <td>4.5</td>\n",
       "      <td>1.5</td>\n",
       "      <td>3.0</td>\n",
       "      <td>NaN</td>\n",
       "    </tr>\n",
       "    <tr>\n",
       "      <th>Scarface</th>\n",
       "      <td>4.5</td>\n",
       "      <td>1.5</td>\n",
       "      <td>5.0</td>\n",
       "      <td>3.5</td>\n",
       "      <td>2.5</td>\n",
       "      <td>4.5</td>\n",
       "      <td>3.0</td>\n",
       "      <td>NaN</td>\n",
       "    </tr>\n",
       "  </tbody>\n",
       "</table>\n",
       "</div>"
      ],
      "text/plain": [
       "               David Smith  Brenda Peterson  ...  Adam Cohen  Chris Duncan\n",
       "Raging Bull            3.0              1.0  ...         NaN           4.5\n",
       "Roman Holiday          NaN              4.5  ...         3.0           NaN\n",
       "Scarface               4.5              1.5  ...         3.0           NaN\n",
       "\n",
       "[3 rows x 8 columns]"
      ]
     },
     "execution_count": 37,
     "metadata": {
      "tags": []
     },
     "output_type": "execute_result"
    }
   ],
   "source": [
    "movie_data[1:4]"
   ]
  },
  {
   "cell_type": "code",
   "execution_count": null,
   "metadata": {
    "colab": {
     "base_uri": "https://localhost:8080/",
     "height": 192
    },
    "colab_type": "code",
    "id": "8KXeAx3rGbzu",
    "outputId": "23ceb5af-f6ff-447b-d29a-4821a8a02f0c"
   },
   "outputs": [
    {
     "data": {
      "text/html": [
       "<div>\n",
       "<style scoped>\n",
       "    .dataframe tbody tr th:only-of-type {\n",
       "        vertical-align: middle;\n",
       "    }\n",
       "\n",
       "    .dataframe tbody tr th {\n",
       "        vertical-align: top;\n",
       "    }\n",
       "\n",
       "    .dataframe thead th {\n",
       "        text-align: right;\n",
       "    }\n",
       "</style>\n",
       "<table border=\"1\" class=\"dataframe\">\n",
       "  <thead>\n",
       "    <tr style=\"text-align: right;\">\n",
       "      <th></th>\n",
       "      <th>Adam Cohen</th>\n",
       "      <th>Bill Duffy</th>\n",
       "      <th>Brenda Peterson</th>\n",
       "      <th>Chris Duncan</th>\n",
       "      <th>Clarissa Jackson</th>\n",
       "      <th>David Smith</th>\n",
       "      <th>Julie Hammel</th>\n",
       "      <th>Samuel Miller</th>\n",
       "    </tr>\n",
       "  </thead>\n",
       "  <tbody>\n",
       "    <tr>\n",
       "      <th>Raging Bull</th>\n",
       "      <td>NaN</td>\n",
       "      <td>NaN</td>\n",
       "      <td>1.0</td>\n",
       "      <td>4.5</td>\n",
       "      <td>4.0</td>\n",
       "      <td>3.0</td>\n",
       "      <td>NaN</td>\n",
       "      <td>5.0</td>\n",
       "    </tr>\n",
       "    <tr>\n",
       "      <th>Roman Holiday</th>\n",
       "      <td>3.0</td>\n",
       "      <td>NaN</td>\n",
       "      <td>4.5</td>\n",
       "      <td>NaN</td>\n",
       "      <td>1.5</td>\n",
       "      <td>NaN</td>\n",
       "      <td>4.5</td>\n",
       "      <td>1.0</td>\n",
       "    </tr>\n",
       "    <tr>\n",
       "      <th>Scarface</th>\n",
       "      <td>3.0</td>\n",
       "      <td>5.0</td>\n",
       "      <td>1.5</td>\n",
       "      <td>NaN</td>\n",
       "      <td>4.5</td>\n",
       "      <td>4.5</td>\n",
       "      <td>2.5</td>\n",
       "      <td>3.5</td>\n",
       "    </tr>\n",
       "  </tbody>\n",
       "</table>\n",
       "</div>"
      ],
      "text/plain": [
       "               Adam Cohen  Bill Duffy  Brenda Peterson  Chris Duncan  \\\n",
       "Raging Bull           NaN         NaN              1.0           4.5   \n",
       "Roman Holiday         3.0         NaN              4.5           NaN   \n",
       "Scarface              3.0         5.0              1.5           NaN   \n",
       "\n",
       "               Clarissa Jackson  David Smith  Julie Hammel  Samuel Miller  \n",
       "Raging Bull                 4.0          3.0           NaN            5.0  \n",
       "Roman Holiday               1.5          NaN           4.5            1.0  \n",
       "Scarface                    4.5          4.5           2.5            3.5  "
      ]
     },
     "execution_count": 25,
     "metadata": {
      "tags": []
     },
     "output_type": "execute_result"
    }
   ],
   "source": [
    "movie_data.iloc[1:4]"
   ]
  },
  {
   "cell_type": "code",
   "execution_count": null,
   "metadata": {
    "colab": {
     "base_uri": "https://localhost:8080/",
     "height": 141
    },
    "colab_type": "code",
    "id": "4bpcgQLuGfoE",
    "outputId": "79795246-7314-48d1-8f75-3b16711147c3"
   },
   "outputs": [
    {
     "data": {
      "text/html": [
       "<div>\n",
       "<style scoped>\n",
       "    .dataframe tbody tr th:only-of-type {\n",
       "        vertical-align: middle;\n",
       "    }\n",
       "\n",
       "    .dataframe tbody tr th {\n",
       "        vertical-align: top;\n",
       "    }\n",
       "\n",
       "    .dataframe thead th {\n",
       "        text-align: right;\n",
       "    }\n",
       "</style>\n",
       "<table border=\"1\" class=\"dataframe\">\n",
       "  <thead>\n",
       "    <tr style=\"text-align: right;\">\n",
       "      <th></th>\n",
       "      <th>David Smith</th>\n",
       "      <th>Brenda Peterson</th>\n",
       "      <th>Bill Duffy</th>\n",
       "      <th>Samuel Miller</th>\n",
       "      <th>Julie Hammel</th>\n",
       "      <th>Clarissa Jackson</th>\n",
       "      <th>Adam Cohen</th>\n",
       "      <th>Chris Duncan</th>\n",
       "    </tr>\n",
       "  </thead>\n",
       "  <tbody>\n",
       "    <tr>\n",
       "      <th>Roman Holiday</th>\n",
       "      <td>NaN</td>\n",
       "      <td>4.5</td>\n",
       "      <td>NaN</td>\n",
       "      <td>1.0</td>\n",
       "      <td>4.5</td>\n",
       "      <td>1.5</td>\n",
       "      <td>3.0</td>\n",
       "      <td>NaN</td>\n",
       "    </tr>\n",
       "    <tr>\n",
       "      <th>Scarface</th>\n",
       "      <td>4.5</td>\n",
       "      <td>1.5</td>\n",
       "      <td>5.0</td>\n",
       "      <td>3.5</td>\n",
       "      <td>2.5</td>\n",
       "      <td>4.5</td>\n",
       "      <td>3.0</td>\n",
       "      <td>NaN</td>\n",
       "    </tr>\n",
       "    <tr>\n",
       "      <th>The Apartment</th>\n",
       "      <td>1.0</td>\n",
       "      <td>5.0</td>\n",
       "      <td>1.0</td>\n",
       "      <td>1.0</td>\n",
       "      <td>NaN</td>\n",
       "      <td>1.0</td>\n",
       "      <td>1.0</td>\n",
       "      <td>1.5</td>\n",
       "    </tr>\n",
       "  </tbody>\n",
       "</table>\n",
       "</div>"
      ],
      "text/plain": [
       "               David Smith  Brenda Peterson  ...  Adam Cohen  Chris Duncan\n",
       "Roman Holiday          NaN              4.5  ...         3.0           NaN\n",
       "Scarface               4.5              1.5  ...         3.0           NaN\n",
       "The Apartment          1.0              5.0  ...         1.0           1.5\n",
       "\n",
       "[3 rows x 8 columns]"
      ]
     },
     "execution_count": 38,
     "metadata": {
      "tags": []
     },
     "output_type": "execute_result"
    }
   ],
   "source": [
    "movie_data[ (movie_data['Adam Cohen'] <= 3)]"
   ]
  },
  {
   "cell_type": "code",
   "execution_count": null,
   "metadata": {
    "colab": {
     "base_uri": "https://localhost:8080/",
     "height": 79
    },
    "colab_type": "code",
    "id": "iZwD1nIWGkL0",
    "outputId": "c48ae77c-8d83-4c9e-cc61-8dea9403e0d3"
   },
   "outputs": [
    {
     "data": {
      "text/html": [
       "<div>\n",
       "<style scoped>\n",
       "    .dataframe tbody tr th:only-of-type {\n",
       "        vertical-align: middle;\n",
       "    }\n",
       "\n",
       "    .dataframe tbody tr th {\n",
       "        vertical-align: top;\n",
       "    }\n",
       "\n",
       "    .dataframe thead th {\n",
       "        text-align: right;\n",
       "    }\n",
       "</style>\n",
       "<table border=\"1\" class=\"dataframe\">\n",
       "  <thead>\n",
       "    <tr style=\"text-align: right;\">\n",
       "      <th></th>\n",
       "      <th>David Smith</th>\n",
       "      <th>Brenda Peterson</th>\n",
       "      <th>Bill Duffy</th>\n",
       "      <th>Samuel Miller</th>\n",
       "      <th>Julie Hammel</th>\n",
       "      <th>Clarissa Jackson</th>\n",
       "      <th>Adam Cohen</th>\n",
       "      <th>Chris Duncan</th>\n",
       "    </tr>\n",
       "  </thead>\n",
       "  <tbody>\n",
       "    <tr>\n",
       "      <th>Goodfellas</th>\n",
       "      <td>4.5</td>\n",
       "      <td>2.0</td>\n",
       "      <td>4.5</td>\n",
       "      <td>5.0</td>\n",
       "      <td>3.0</td>\n",
       "      <td>2.5</td>\n",
       "      <td>4.5</td>\n",
       "      <td>NaN</td>\n",
       "    </tr>\n",
       "  </tbody>\n",
       "</table>\n",
       "</div>"
      ],
      "text/plain": [
       "            David Smith  Brenda Peterson  ...  Adam Cohen  Chris Duncan\n",
       "Goodfellas          4.5              2.0  ...         4.5           NaN\n",
       "\n",
       "[1 rows x 8 columns]"
      ]
     },
     "execution_count": 39,
     "metadata": {
      "tags": []
     },
     "output_type": "execute_result"
    }
   ],
   "source": [
    "movie_data[ ((movie_data['Adam Cohen'] > 3) & (movie_data['David Smith'] > 4))]"
   ]
  },
  {
   "cell_type": "markdown",
   "metadata": {
    "colab_type": "text",
    "id": "Zv1zjaB-GnuE"
   },
   "source": [
    "### Handling missing data\n",
    "\n",
    "\n",
    "*   Machine Learning algorithms don't expect data missing\n",
    "\n",
    "*   If there is a columns with more than 40% data missing, we may drop the column\n",
    "\n",
    "*   For rows with, important column values missing. Drop the rows\n",
    "\n"
   ]
  },
  {
   "cell_type": "code",
   "execution_count": null,
   "metadata": {
    "colab": {
     "base_uri": "https://localhost:8080/",
     "height": 139
    },
    "colab_type": "code",
    "id": "RTMb3Yj2LF2d",
    "outputId": "80423d7f-15be-47c4-d62c-6a4caa019d75"
   },
   "outputs": [
    {
     "data": {
      "text/plain": [
       "Goodfellas        True\n",
       "Raging Bull      False\n",
       "Roman Holiday    False\n",
       "Scarface          True\n",
       "The Apartment     True\n",
       "Vertigo           True\n",
       "Name: Bill Duffy, dtype: bool"
      ]
     },
     "execution_count": 40,
     "metadata": {
      "tags": []
     },
     "output_type": "execute_result"
    }
   ],
   "source": [
    "# Get all the rows for which column 'Bill Duffy' is missing\n",
    "movie_data['Bill Duffy'].notnull()"
   ]
  },
  {
   "cell_type": "code",
   "execution_count": null,
   "metadata": {
    "colab": {
     "base_uri": "https://localhost:8080/",
     "height": 171
    },
    "colab_type": "code",
    "id": "dv5OTuYmLM3F",
    "outputId": "bd56ed31-adab-4e0c-efff-4d8a311e9432"
   },
   "outputs": [
    {
     "data": {
      "text/html": [
       "<div>\n",
       "<style scoped>\n",
       "    .dataframe tbody tr th:only-of-type {\n",
       "        vertical-align: middle;\n",
       "    }\n",
       "\n",
       "    .dataframe tbody tr th {\n",
       "        vertical-align: top;\n",
       "    }\n",
       "\n",
       "    .dataframe thead th {\n",
       "        text-align: right;\n",
       "    }\n",
       "</style>\n",
       "<table border=\"1\" class=\"dataframe\">\n",
       "  <thead>\n",
       "    <tr style=\"text-align: right;\">\n",
       "      <th></th>\n",
       "      <th>David Smith</th>\n",
       "      <th>Brenda Peterson</th>\n",
       "      <th>Bill Duffy</th>\n",
       "      <th>Samuel Miller</th>\n",
       "      <th>Julie Hammel</th>\n",
       "      <th>Clarissa Jackson</th>\n",
       "      <th>Adam Cohen</th>\n",
       "      <th>Chris Duncan</th>\n",
       "    </tr>\n",
       "  </thead>\n",
       "  <tbody>\n",
       "    <tr>\n",
       "      <th>Goodfellas</th>\n",
       "      <td>4.5</td>\n",
       "      <td>2.0</td>\n",
       "      <td>4.5</td>\n",
       "      <td>5.0</td>\n",
       "      <td>3.0</td>\n",
       "      <td>2.5</td>\n",
       "      <td>4.5</td>\n",
       "      <td>NaN</td>\n",
       "    </tr>\n",
       "    <tr>\n",
       "      <th>Scarface</th>\n",
       "      <td>4.5</td>\n",
       "      <td>1.5</td>\n",
       "      <td>5.0</td>\n",
       "      <td>3.5</td>\n",
       "      <td>2.5</td>\n",
       "      <td>4.5</td>\n",
       "      <td>3.0</td>\n",
       "      <td>NaN</td>\n",
       "    </tr>\n",
       "    <tr>\n",
       "      <th>The Apartment</th>\n",
       "      <td>1.0</td>\n",
       "      <td>5.0</td>\n",
       "      <td>1.0</td>\n",
       "      <td>1.0</td>\n",
       "      <td>NaN</td>\n",
       "      <td>1.0</td>\n",
       "      <td>1.0</td>\n",
       "      <td>1.5</td>\n",
       "    </tr>\n",
       "    <tr>\n",
       "      <th>Vertigo</th>\n",
       "      <td>4.0</td>\n",
       "      <td>3.0</td>\n",
       "      <td>4.5</td>\n",
       "      <td>NaN</td>\n",
       "      <td>NaN</td>\n",
       "      <td>5.0</td>\n",
       "      <td>3.5</td>\n",
       "      <td>NaN</td>\n",
       "    </tr>\n",
       "  </tbody>\n",
       "</table>\n",
       "</div>"
      ],
      "text/plain": [
       "               David Smith  Brenda Peterson  ...  Adam Cohen  Chris Duncan\n",
       "Goodfellas             4.5              2.0  ...         4.5           NaN\n",
       "Scarface               4.5              1.5  ...         3.0           NaN\n",
       "The Apartment          1.0              5.0  ...         1.0           1.5\n",
       "Vertigo                4.0              3.0  ...         3.5           NaN\n",
       "\n",
       "[4 rows x 8 columns]"
      ]
     },
     "execution_count": 41,
     "metadata": {
      "tags": []
     },
     "output_type": "execute_result"
    }
   ],
   "source": [
    "movie_data[movie_data['Bill Duffy'].notnull()]"
   ]
  },
  {
   "cell_type": "code",
   "execution_count": null,
   "metadata": {
    "colab": {
     "base_uri": "https://localhost:8080/",
     "height": 110
    },
    "colab_type": "code",
    "id": "M8hJLmmkLQ5W",
    "outputId": "15dd6558-f244-474e-8450-914a00199c79"
   },
   "outputs": [
    {
     "data": {
      "text/html": [
       "<div>\n",
       "<style scoped>\n",
       "    .dataframe tbody tr th:only-of-type {\n",
       "        vertical-align: middle;\n",
       "    }\n",
       "\n",
       "    .dataframe tbody tr th {\n",
       "        vertical-align: top;\n",
       "    }\n",
       "\n",
       "    .dataframe thead th {\n",
       "        text-align: right;\n",
       "    }\n",
       "</style>\n",
       "<table border=\"1\" class=\"dataframe\">\n",
       "  <thead>\n",
       "    <tr style=\"text-align: right;\">\n",
       "      <th></th>\n",
       "      <th>David Smith</th>\n",
       "      <th>Brenda Peterson</th>\n",
       "      <th>Bill Duffy</th>\n",
       "      <th>Samuel Miller</th>\n",
       "      <th>Julie Hammel</th>\n",
       "      <th>Clarissa Jackson</th>\n",
       "      <th>Adam Cohen</th>\n",
       "      <th>Chris Duncan</th>\n",
       "    </tr>\n",
       "  </thead>\n",
       "  <tbody>\n",
       "    <tr>\n",
       "      <th>Raging Bull</th>\n",
       "      <td>3.0</td>\n",
       "      <td>1.0</td>\n",
       "      <td>NaN</td>\n",
       "      <td>5.0</td>\n",
       "      <td>NaN</td>\n",
       "      <td>4.0</td>\n",
       "      <td>NaN</td>\n",
       "      <td>4.5</td>\n",
       "    </tr>\n",
       "    <tr>\n",
       "      <th>Roman Holiday</th>\n",
       "      <td>NaN</td>\n",
       "      <td>4.5</td>\n",
       "      <td>NaN</td>\n",
       "      <td>1.0</td>\n",
       "      <td>4.5</td>\n",
       "      <td>1.5</td>\n",
       "      <td>3.0</td>\n",
       "      <td>NaN</td>\n",
       "    </tr>\n",
       "  </tbody>\n",
       "</table>\n",
       "</div>"
      ],
      "text/plain": [
       "               David Smith  Brenda Peterson  ...  Adam Cohen  Chris Duncan\n",
       "Raging Bull            3.0              1.0  ...         NaN           4.5\n",
       "Roman Holiday          NaN              4.5  ...         3.0           NaN\n",
       "\n",
       "[2 rows x 8 columns]"
      ]
     },
     "execution_count": 42,
     "metadata": {
      "tags": []
     },
     "output_type": "execute_result"
    }
   ],
   "source": [
    "movie_data[movie_data['Bill Duffy'].isnull()]"
   ]
  },
  {
   "cell_type": "markdown",
   "metadata": {
    "colab_type": "text",
    "id": "yuMn97CQPLk2"
   },
   "source": [
    "### Dropping Rows & Columns"
   ]
  },
  {
   "cell_type": "code",
   "execution_count": null,
   "metadata": {
    "colab": {
     "base_uri": "https://localhost:8080/",
     "height": 113,
     "resources": {
      "http://localhost:8080/nbextensions/google.colab/files.js": {
       "data": "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",
       "headers": [
        [
         "content-type",
         "application/javascript"
        ]
       ],
       "ok": true,
       "status": 200,
       "status_text": ""
      }
     }
    },
    "colab_type": "code",
    "id": "Tp0IlXb-PMns",
    "outputId": "90f37349-aeb1-497f-d85d-c55ae2459003"
   },
   "outputs": [
    {
     "data": {
      "text/html": [
       "\n",
       "     <input type=\"file\" id=\"files-735a4e2a-4dc7-4138-a4c5-4ebf23a2f6b0\" name=\"files[]\" multiple disabled />\n",
       "     <output id=\"result-735a4e2a-4dc7-4138-a4c5-4ebf23a2f6b0\">\n",
       "      Upload widget is only available when the cell has been executed in the\n",
       "      current browser session. Please rerun this cell to enable.\n",
       "      </output>\n",
       "      <script src=\"/nbextensions/google.colab/files.js\"></script> "
      ],
      "text/plain": [
       "<IPython.core.display.HTML object>"
      ]
     },
     "metadata": {
      "tags": []
     },
     "output_type": "display_data"
    },
    {
     "name": "stdout",
     "output_type": "stream",
     "text": [
      "Saving titanic-train.csv.txt to titanic-train.csv.txt\n"
     ]
    },
    {
     "data": {
      "text/plain": [
       "{'titanic-train.csv.txt': b'PassengerId,Survived,Pclass,Name,Sex,Age,SibSp,Parch,Ticket,Fare,Cabin,Embarked\\n1,0,3,\"Braund, Mr. Owen Harris\",male,22,1,0,A/5 21171,7.25,,S\\n2,1,1,\"Cumings, Mrs. John Bradley (Florence Briggs Thayer)\",female,38,1,0,PC 17599,71.2833,C85,C\\n3,1,3,\"Heikkinen, Miss. Laina\",female,26,0,0,STON/O2. 3101282,7.925,,S\\n4,1,1,\"Futrelle, Mrs. Jacques Heath (Lily May Peel)\",female,35,1,0,113803,53.1,C123,S\\n5,0,3,\"Allen, Mr. William Henry\",male,35,0,0,373450,8.05,,S\\n6,0,3,\"Moran, Mr. James\",male,,0,0,330877,8.4583,,Q\\n7,0,1,\"McCarthy, Mr. Timothy J\",male,54,0,0,17463,51.8625,E46,S\\n8,0,3,\"Palsson, Master. Gosta Leonard\",male,2,3,1,349909,21.075,,S\\n9,1,3,\"Johnson, Mrs. Oscar W (Elisabeth Vilhelmina Berg)\",female,27,0,2,347742,11.1333,,S\\n10,1,2,\"Nasser, Mrs. Nicholas (Adele Achem)\",female,14,1,0,237736,30.0708,,C\\n11,1,3,\"Sandstrom, Miss. Marguerite Rut\",female,4,1,1,PP 9549,16.7,G6,S\\n12,1,1,\"Bonnell, Miss. Elizabeth\",female,58,0,0,113783,26.55,C103,S\\n13,0,3,\"Saundercock, Mr. William Henry\",male,20,0,0,A/5. 2151,8.05,,S\\n14,0,3,\"Andersson, Mr. Anders Johan\",male,39,1,5,347082,31.275,,S\\n15,0,3,\"Vestrom, Miss. Hulda Amanda Adolfina\",female,14,0,0,350406,7.8542,,S\\n16,1,2,\"Hewlett, Mrs. (Mary D Kingcome) \",female,55,0,0,248706,16,,S\\n17,0,3,\"Rice, Master. Eugene\",male,2,4,1,382652,29.125,,Q\\n18,1,2,\"Williams, Mr. Charles Eugene\",male,,0,0,244373,13,,S\\n19,0,3,\"Vander Planke, Mrs. Julius (Emelia Maria Vandemoortele)\",female,31,1,0,345763,18,,S\\n20,1,3,\"Masselmani, Mrs. Fatima\",female,,0,0,2649,7.225,,C\\n21,0,2,\"Fynney, Mr. Joseph J\",male,35,0,0,239865,26,,S\\n22,1,2,\"Beesley, Mr. Lawrence\",male,34,0,0,248698,13,D56,S\\n23,1,3,\"McGowan, Miss. Anna \"\"Annie\"\"\",female,15,0,0,330923,8.0292,,Q\\n24,1,1,\"Sloper, Mr. William Thompson\",male,28,0,0,113788,35.5,A6,S\\n25,0,3,\"Palsson, Miss. Torborg Danira\",female,8,3,1,349909,21.075,,S\\n26,1,3,\"Asplund, Mrs. Carl Oscar (Selma Augusta Emilia Johansson)\",female,38,1,5,347077,31.3875,,S\\n27,0,3,\"Emir, Mr. Farred Chehab\",male,,0,0,2631,7.225,,C\\n28,0,1,\"Fortune, Mr. Charles Alexander\",male,19,3,2,19950,263,C23 C25 C27,S\\n29,1,3,\"O\\'Dwyer, Miss. Ellen \"\"Nellie\"\"\",female,,0,0,330959,7.8792,,Q\\n30,0,3,\"Todoroff, Mr. Lalio\",male,,0,0,349216,7.8958,,S\\n31,0,1,\"Uruchurtu, Don. Manuel E\",male,40,0,0,PC 17601,27.7208,,C\\n32,1,1,\"Spencer, Mrs. William Augustus (Marie Eugenie)\",female,,1,0,PC 17569,146.5208,B78,C\\n33,1,3,\"Glynn, Miss. Mary Agatha\",female,,0,0,335677,7.75,,Q\\n34,0,2,\"Wheadon, Mr. Edward H\",male,66,0,0,C.A. 24579,10.5,,S\\n35,0,1,\"Meyer, Mr. Edgar Joseph\",male,28,1,0,PC 17604,82.1708,,C\\n36,0,1,\"Holverson, Mr. Alexander Oskar\",male,42,1,0,113789,52,,S\\n37,1,3,\"Mamee, Mr. Hanna\",male,,0,0,2677,7.2292,,C\\n38,0,3,\"Cann, Mr. Ernest Charles\",male,21,0,0,A./5. 2152,8.05,,S\\n39,0,3,\"Vander Planke, Miss. Augusta Maria\",female,18,2,0,345764,18,,S\\n40,1,3,\"Nicola-Yarred, Miss. Jamila\",female,14,1,0,2651,11.2417,,C\\n41,0,3,\"Ahlin, Mrs. Johan (Johanna Persdotter Larsson)\",female,40,1,0,7546,9.475,,S\\n42,0,2,\"Turpin, Mrs. William John Robert (Dorothy Ann Wonnacott)\",female,27,1,0,11668,21,,S\\n43,0,3,\"Kraeff, Mr. Theodor\",male,,0,0,349253,7.8958,,C\\n44,1,2,\"Laroche, Miss. Simonne Marie Anne Andree\",female,3,1,2,SC/Paris 2123,41.5792,,C\\n45,1,3,\"Devaney, Miss. Margaret Delia\",female,19,0,0,330958,7.8792,,Q\\n46,0,3,\"Rogers, Mr. William John\",male,,0,0,S.C./A.4. 23567,8.05,,S\\n47,0,3,\"Lennon, Mr. Denis\",male,,1,0,370371,15.5,,Q\\n48,1,3,\"O\\'Driscoll, Miss. Bridget\",female,,0,0,14311,7.75,,Q\\n49,0,3,\"Samaan, Mr. Youssef\",male,,2,0,2662,21.6792,,C\\n50,0,3,\"Arnold-Franchi, Mrs. Josef (Josefine Franchi)\",female,18,1,0,349237,17.8,,S\\n51,0,3,\"Panula, Master. Juha Niilo\",male,7,4,1,3101295,39.6875,,S\\n52,0,3,\"Nosworthy, Mr. Richard Cater\",male,21,0,0,A/4. 39886,7.8,,S\\n53,1,1,\"Harper, Mrs. Henry Sleeper (Myna Haxtun)\",female,49,1,0,PC 17572,76.7292,D33,C\\n54,1,2,\"Faunthorpe, Mrs. Lizzie (Elizabeth Anne Wilkinson)\",female,29,1,0,2926,26,,S\\n55,0,1,\"Ostby, Mr. Engelhart Cornelius\",male,65,0,1,113509,61.9792,B30,C\\n56,1,1,\"Woolner, Mr. Hugh\",male,,0,0,19947,35.5,C52,S\\n57,1,2,\"Rugg, Miss. Emily\",female,21,0,0,C.A. 31026,10.5,,S\\n58,0,3,\"Novel, Mr. Mansouer\",male,28.5,0,0,2697,7.2292,,C\\n59,1,2,\"West, Miss. Constance Mirium\",female,5,1,2,C.A. 34651,27.75,,S\\n60,0,3,\"Goodwin, Master. William Frederick\",male,11,5,2,CA 2144,46.9,,S\\n61,0,3,\"Sirayanian, Mr. Orsen\",male,22,0,0,2669,7.2292,,C\\n62,1,1,\"Icard, Miss. Amelie\",female,38,0,0,113572,80,B28,\\n63,0,1,\"Harris, Mr. Henry Birkhardt\",male,45,1,0,36973,83.475,C83,S\\n64,0,3,\"Skoog, Master. Harald\",male,4,3,2,347088,27.9,,S\\n65,0,1,\"Stewart, Mr. Albert A\",male,,0,0,PC 17605,27.7208,,C\\n66,1,3,\"Moubarek, Master. Gerios\",male,,1,1,2661,15.2458,,C\\n67,1,2,\"Nye, Mrs. (Elizabeth Ramell)\",female,29,0,0,C.A. 29395,10.5,F33,S\\n68,0,3,\"Crease, Mr. Ernest James\",male,19,0,0,S.P. 3464,8.1583,,S\\n69,1,3,\"Andersson, Miss. Erna Alexandra\",female,17,4,2,3101281,7.925,,S\\n70,0,3,\"Kink, Mr. Vincenz\",male,26,2,0,315151,8.6625,,S\\n71,0,2,\"Jenkin, Mr. Stephen Curnow\",male,32,0,0,C.A. 33111,10.5,,S\\n72,0,3,\"Goodwin, Miss. Lillian Amy\",female,16,5,2,CA 2144,46.9,,S\\n73,0,2,\"Hood, Mr. Ambrose Jr\",male,21,0,0,S.O.C. 14879,73.5,,S\\n74,0,3,\"Chronopoulos, Mr. Apostolos\",male,26,1,0,2680,14.4542,,C\\n75,1,3,\"Bing, Mr. Lee\",male,32,0,0,1601,56.4958,,S\\n76,0,3,\"Moen, Mr. Sigurd Hansen\",male,25,0,0,348123,7.65,F G73,S\\n77,0,3,\"Staneff, Mr. Ivan\",male,,0,0,349208,7.8958,,S\\n78,0,3,\"Moutal, Mr. Rahamin Haim\",male,,0,0,374746,8.05,,S\\n79,1,2,\"Caldwell, Master. Alden Gates\",male,0.83,0,2,248738,29,,S\\n80,1,3,\"Dowdell, Miss. Elizabeth\",female,30,0,0,364516,12.475,,S\\n81,0,3,\"Waelens, Mr. Achille\",male,22,0,0,345767,9,,S\\n82,1,3,\"Sheerlinck, Mr. Jan Baptist\",male,29,0,0,345779,9.5,,S\\n83,1,3,\"McDermott, Miss. Brigdet Delia\",female,,0,0,330932,7.7875,,Q\\n84,0,1,\"Carrau, Mr. Francisco M\",male,28,0,0,113059,47.1,,S\\n85,1,2,\"Ilett, Miss. Bertha\",female,17,0,0,SO/C 14885,10.5,,S\\n86,1,3,\"Backstrom, Mrs. Karl Alfred (Maria Mathilda Gustafsson)\",female,33,3,0,3101278,15.85,,S\\n87,0,3,\"Ford, Mr. William Neal\",male,16,1,3,W./C. 6608,34.375,,S\\n88,0,3,\"Slocovski, Mr. Selman Francis\",male,,0,0,SOTON/OQ 392086,8.05,,S\\n89,1,1,\"Fortune, Miss. Mabel Helen\",female,23,3,2,19950,263,C23 C25 C27,S\\n90,0,3,\"Celotti, Mr. Francesco\",male,24,0,0,343275,8.05,,S\\n91,0,3,\"Christmann, Mr. Emil\",male,29,0,0,343276,8.05,,S\\n92,0,3,\"Andreasson, Mr. Paul Edvin\",male,20,0,0,347466,7.8542,,S\\n93,0,1,\"Chaffee, Mr. Herbert Fuller\",male,46,1,0,W.E.P. 5734,61.175,E31,S\\n94,0,3,\"Dean, Mr. Bertram Frank\",male,26,1,2,C.A. 2315,20.575,,S\\n95,0,3,\"Coxon, Mr. Daniel\",male,59,0,0,364500,7.25,,S\\n96,0,3,\"Shorney, Mr. Charles Joseph\",male,,0,0,374910,8.05,,S\\n97,0,1,\"Goldschmidt, Mr. George B\",male,71,0,0,PC 17754,34.6542,A5,C\\n98,1,1,\"Greenfield, Mr. William Bertram\",male,23,0,1,PC 17759,63.3583,D10 D12,C\\n99,1,2,\"Doling, Mrs. John T (Ada Julia Bone)\",female,34,0,1,231919,23,,S\\n100,0,2,\"Kantor, Mr. Sinai\",male,34,1,0,244367,26,,S\\n101,0,3,\"Petranec, Miss. Matilda\",female,28,0,0,349245,7.8958,,S\\n102,0,3,\"Petroff, Mr. Pastcho (\"\"Pentcho\"\")\",male,,0,0,349215,7.8958,,S\\n103,0,1,\"White, Mr. Richard Frasar\",male,21,0,1,35281,77.2875,D26,S\\n104,0,3,\"Johansson, Mr. Gustaf Joel\",male,33,0,0,7540,8.6542,,S\\n105,0,3,\"Gustafsson, Mr. Anders Vilhelm\",male,37,2,0,3101276,7.925,,S\\n106,0,3,\"Mionoff, Mr. Stoytcho\",male,28,0,0,349207,7.8958,,S\\n107,1,3,\"Salkjelsvik, Miss. Anna Kristine\",female,21,0,0,343120,7.65,,S\\n108,1,3,\"Moss, Mr. Albert Johan\",male,,0,0,312991,7.775,,S\\n109,0,3,\"Rekic, Mr. Tido\",male,38,0,0,349249,7.8958,,S\\n110,1,3,\"Moran, Miss. Bertha\",female,,1,0,371110,24.15,,Q\\n111,0,1,\"Porter, Mr. Walter Chamberlain\",male,47,0,0,110465,52,C110,S\\n112,0,3,\"Zabour, Miss. Hileni\",female,14.5,1,0,2665,14.4542,,C\\n113,0,3,\"Barton, Mr. David John\",male,22,0,0,324669,8.05,,S\\n114,0,3,\"Jussila, Miss. Katriina\",female,20,1,0,4136,9.825,,S\\n115,0,3,\"Attalah, Miss. Malake\",female,17,0,0,2627,14.4583,,C\\n116,0,3,\"Pekoniemi, Mr. Edvard\",male,21,0,0,STON/O 2. 3101294,7.925,,S\\n117,0,3,\"Connors, Mr. Patrick\",male,70.5,0,0,370369,7.75,,Q\\n118,0,2,\"Turpin, Mr. William John Robert\",male,29,1,0,11668,21,,S\\n119,0,1,\"Baxter, Mr. Quigg Edmond\",male,24,0,1,PC 17558,247.5208,B58 B60,C\\n120,0,3,\"Andersson, Miss. Ellis Anna Maria\",female,2,4,2,347082,31.275,,S\\n121,0,2,\"Hickman, Mr. Stanley George\",male,21,2,0,S.O.C. 14879,73.5,,S\\n122,0,3,\"Moore, Mr. Leonard Charles\",male,,0,0,A4. 54510,8.05,,S\\n123,0,2,\"Nasser, Mr. Nicholas\",male,32.5,1,0,237736,30.0708,,C\\n124,1,2,\"Webber, Miss. Susan\",female,32.5,0,0,27267,13,E101,S\\n125,0,1,\"White, Mr. Percival Wayland\",male,54,0,1,35281,77.2875,D26,S\\n126,1,3,\"Nicola-Yarred, Master. Elias\",male,12,1,0,2651,11.2417,,C\\n127,0,3,\"McMahon, Mr. Martin\",male,,0,0,370372,7.75,,Q\\n128,1,3,\"Madsen, Mr. Fridtjof Arne\",male,24,0,0,C 17369,7.1417,,S\\n129,1,3,\"Peter, Miss. Anna\",female,,1,1,2668,22.3583,F E69,C\\n130,0,3,\"Ekstrom, Mr. Johan\",male,45,0,0,347061,6.975,,S\\n131,0,3,\"Drazenoic, Mr. Jozef\",male,33,0,0,349241,7.8958,,C\\n132,0,3,\"Coelho, Mr. Domingos Fernandeo\",male,20,0,0,SOTON/O.Q. 3101307,7.05,,S\\n133,0,3,\"Robins, Mrs. Alexander A (Grace Charity Laury)\",female,47,1,0,A/5. 3337,14.5,,S\\n134,1,2,\"Weisz, Mrs. Leopold (Mathilde Francoise Pede)\",female,29,1,0,228414,26,,S\\n135,0,2,\"Sobey, Mr. Samuel James Hayden\",male,25,0,0,C.A. 29178,13,,S\\n136,0,2,\"Richard, Mr. Emile\",male,23,0,0,SC/PARIS 2133,15.0458,,C\\n137,1,1,\"Newsom, Miss. Helen Monypeny\",female,19,0,2,11752,26.2833,D47,S\\n138,0,1,\"Futrelle, Mr. Jacques Heath\",male,37,1,0,113803,53.1,C123,S\\n139,0,3,\"Osen, Mr. Olaf Elon\",male,16,0,0,7534,9.2167,,S\\n140,0,1,\"Giglio, Mr. Victor\",male,24,0,0,PC 17593,79.2,B86,C\\n141,0,3,\"Boulos, Mrs. Joseph (Sultana)\",female,,0,2,2678,15.2458,,C\\n142,1,3,\"Nysten, Miss. Anna Sofia\",female,22,0,0,347081,7.75,,S\\n143,1,3,\"Hakkarainen, Mrs. Pekka Pietari (Elin Matilda Dolck)\",female,24,1,0,STON/O2. 3101279,15.85,,S\\n144,0,3,\"Burke, Mr. Jeremiah\",male,19,0,0,365222,6.75,,Q\\n145,0,2,\"Andrew, Mr. Edgardo Samuel\",male,18,0,0,231945,11.5,,S\\n146,0,2,\"Nicholls, Mr. Joseph Charles\",male,19,1,1,C.A. 33112,36.75,,S\\n147,1,3,\"Andersson, Mr. August Edvard (\"\"Wennerstrom\"\")\",male,27,0,0,350043,7.7958,,S\\n148,0,3,\"Ford, Miss. Robina Maggie \"\"Ruby\"\"\",female,9,2,2,W./C. 6608,34.375,,S\\n149,0,2,\"Navratil, Mr. Michel (\"\"Louis M Hoffman\"\")\",male,36.5,0,2,230080,26,F2,S\\n150,0,2,\"Byles, Rev. Thomas Roussel Davids\",male,42,0,0,244310,13,,S\\n151,0,2,\"Bateman, Rev. Robert James\",male,51,0,0,S.O.P. 1166,12.525,,S\\n152,1,1,\"Pears, Mrs. Thomas (Edith Wearne)\",female,22,1,0,113776,66.6,C2,S\\n153,0,3,\"Meo, Mr. Alfonzo\",male,55.5,0,0,A.5. 11206,8.05,,S\\n154,0,3,\"van Billiard, Mr. Austin Blyler\",male,40.5,0,2,A/5. 851,14.5,,S\\n155,0,3,\"Olsen, Mr. Ole Martin\",male,,0,0,Fa 265302,7.3125,,S\\n156,0,1,\"Williams, Mr. Charles Duane\",male,51,0,1,PC 17597,61.3792,,C\\n157,1,3,\"Gilnagh, Miss. Katherine \"\"Katie\"\"\",female,16,0,0,35851,7.7333,,Q\\n158,0,3,\"Corn, Mr. Harry\",male,30,0,0,SOTON/OQ 392090,8.05,,S\\n159,0,3,\"Smiljanic, Mr. Mile\",male,,0,0,315037,8.6625,,S\\n160,0,3,\"Sage, Master. Thomas Henry\",male,,8,2,CA. 2343,69.55,,S\\n161,0,3,\"Cribb, Mr. John Hatfield\",male,44,0,1,371362,16.1,,S\\n162,1,2,\"Watt, Mrs. James (Elizabeth \"\"Bessie\"\" Inglis Milne)\",female,40,0,0,C.A. 33595,15.75,,S\\n163,0,3,\"Bengtsson, Mr. John Viktor\",male,26,0,0,347068,7.775,,S\\n164,0,3,\"Calic, Mr. Jovo\",male,17,0,0,315093,8.6625,,S\\n165,0,3,\"Panula, Master. Eino Viljami\",male,1,4,1,3101295,39.6875,,S\\n166,1,3,\"Goldsmith, Master. Frank John William \"\"Frankie\"\"\",male,9,0,2,363291,20.525,,S\\n167,1,1,\"Chibnall, Mrs. (Edith Martha Bowerman)\",female,,0,1,113505,55,E33,S\\n168,0,3,\"Skoog, Mrs. William (Anna Bernhardina Karlsson)\",female,45,1,4,347088,27.9,,S\\n169,0,1,\"Baumann, Mr. John D\",male,,0,0,PC 17318,25.925,,S\\n170,0,3,\"Ling, Mr. Lee\",male,28,0,0,1601,56.4958,,S\\n171,0,1,\"Van der hoef, Mr. Wyckoff\",male,61,0,0,111240,33.5,B19,S\\n172,0,3,\"Rice, Master. Arthur\",male,4,4,1,382652,29.125,,Q\\n173,1,3,\"Johnson, Miss. Eleanor Ileen\",female,1,1,1,347742,11.1333,,S\\n174,0,3,\"Sivola, Mr. Antti Wilhelm\",male,21,0,0,STON/O 2. 3101280,7.925,,S\\n175,0,1,\"Smith, Mr. James Clinch\",male,56,0,0,17764,30.6958,A7,C\\n176,0,3,\"Klasen, Mr. Klas Albin\",male,18,1,1,350404,7.8542,,S\\n177,0,3,\"Lefebre, Master. Henry Forbes\",male,,3,1,4133,25.4667,,S\\n178,0,1,\"Isham, Miss. Ann Elizabeth\",female,50,0,0,PC 17595,28.7125,C49,C\\n179,0,2,\"Hale, Mr. Reginald\",male,30,0,0,250653,13,,S\\n180,0,3,\"Leonard, Mr. Lionel\",male,36,0,0,LINE,0,,S\\n181,0,3,\"Sage, Miss. Constance Gladys\",female,,8,2,CA. 2343,69.55,,S\\n182,0,2,\"Pernot, Mr. Rene\",male,,0,0,SC/PARIS 2131,15.05,,C\\n183,0,3,\"Asplund, Master. Clarence Gustaf Hugo\",male,9,4,2,347077,31.3875,,S\\n184,1,2,\"Becker, Master. Richard F\",male,1,2,1,230136,39,F4,S\\n185,1,3,\"Kink-Heilmann, Miss. Luise Gretchen\",female,4,0,2,315153,22.025,,S\\n186,0,1,\"Rood, Mr. Hugh Roscoe\",male,,0,0,113767,50,A32,S\\n187,1,3,\"O\\'Brien, Mrs. Thomas (Johanna \"\"Hannah\"\" Godfrey)\",female,,1,0,370365,15.5,,Q\\n188,1,1,\"Romaine, Mr. Charles Hallace (\"\"Mr C Rolmane\"\")\",male,45,0,0,111428,26.55,,S\\n189,0,3,\"Bourke, Mr. John\",male,40,1,1,364849,15.5,,Q\\n190,0,3,\"Turcin, Mr. Stjepan\",male,36,0,0,349247,7.8958,,S\\n191,1,2,\"Pinsky, Mrs. (Rosa)\",female,32,0,0,234604,13,,S\\n192,0,2,\"Carbines, Mr. William\",male,19,0,0,28424,13,,S\\n193,1,3,\"Andersen-Jensen, Miss. Carla Christine Nielsine\",female,19,1,0,350046,7.8542,,S\\n194,1,2,\"Navratil, Master. Michel M\",male,3,1,1,230080,26,F2,S\\n195,1,1,\"Brown, Mrs. James Joseph (Margaret Tobin)\",female,44,0,0,PC 17610,27.7208,B4,C\\n196,1,1,\"Lurette, Miss. Elise\",female,58,0,0,PC 17569,146.5208,B80,C\\n197,0,3,\"Mernagh, Mr. Robert\",male,,0,0,368703,7.75,,Q\\n198,0,3,\"Olsen, Mr. Karl Siegwart Andreas\",male,42,0,1,4579,8.4042,,S\\n199,1,3,\"Madigan, Miss. Margaret \"\"Maggie\"\"\",female,,0,0,370370,7.75,,Q\\n200,0,2,\"Yrois, Miss. Henriette (\"\"Mrs Harbeck\"\")\",female,24,0,0,248747,13,,S\\n201,0,3,\"Vande Walle, Mr. Nestor Cyriel\",male,28,0,0,345770,9.5,,S\\n202,0,3,\"Sage, Mr. Frederick\",male,,8,2,CA. 2343,69.55,,S\\n203,0,3,\"Johanson, Mr. Jakob Alfred\",male,34,0,0,3101264,6.4958,,S\\n204,0,3,\"Youseff, Mr. Gerious\",male,45.5,0,0,2628,7.225,,C\\n205,1,3,\"Cohen, Mr. Gurshon \"\"Gus\"\"\",male,18,0,0,A/5 3540,8.05,,S\\n206,0,3,\"Strom, Miss. Telma Matilda\",female,2,0,1,347054,10.4625,G6,S\\n207,0,3,\"Backstrom, Mr. Karl Alfred\",male,32,1,0,3101278,15.85,,S\\n208,1,3,\"Albimona, Mr. Nassef Cassem\",male,26,0,0,2699,18.7875,,C\\n209,1,3,\"Carr, Miss. Helen \"\"Ellen\"\"\",female,16,0,0,367231,7.75,,Q\\n210,1,1,\"Blank, Mr. Henry\",male,40,0,0,112277,31,A31,C\\n211,0,3,\"Ali, Mr. Ahmed\",male,24,0,0,SOTON/O.Q. 3101311,7.05,,S\\n212,1,2,\"Cameron, Miss. Clear Annie\",female,35,0,0,F.C.C. 13528,21,,S\\n213,0,3,\"Perkin, Mr. John Henry\",male,22,0,0,A/5 21174,7.25,,S\\n214,0,2,\"Givard, Mr. Hans Kristensen\",male,30,0,0,250646,13,,S\\n215,0,3,\"Kiernan, Mr. Philip\",male,,1,0,367229,7.75,,Q\\n216,1,1,\"Newell, Miss. Madeleine\",female,31,1,0,35273,113.275,D36,C\\n217,1,3,\"Honkanen, Miss. Eliina\",female,27,0,0,STON/O2. 3101283,7.925,,S\\n218,0,2,\"Jacobsohn, Mr. Sidney Samuel\",male,42,1,0,243847,27,,S\\n219,1,1,\"Bazzani, Miss. Albina\",female,32,0,0,11813,76.2917,D15,C\\n220,0,2,\"Harris, Mr. Walter\",male,30,0,0,W/C 14208,10.5,,S\\n221,1,3,\"Sunderland, Mr. Victor Francis\",male,16,0,0,SOTON/OQ 392089,8.05,,S\\n222,0,2,\"Bracken, Mr. James H\",male,27,0,0,220367,13,,S\\n223,0,3,\"Green, Mr. George Henry\",male,51,0,0,21440,8.05,,S\\n224,0,3,\"Nenkoff, Mr. Christo\",male,,0,0,349234,7.8958,,S\\n225,1,1,\"Hoyt, Mr. Frederick Maxfield\",male,38,1,0,19943,90,C93,S\\n226,0,3,\"Berglund, Mr. Karl Ivar Sven\",male,22,0,0,PP 4348,9.35,,S\\n227,1,2,\"Mellors, Mr. William John\",male,19,0,0,SW/PP 751,10.5,,S\\n228,0,3,\"Lovell, Mr. John Hall (\"\"Henry\"\")\",male,20.5,0,0,A/5 21173,7.25,,S\\n229,0,2,\"Fahlstrom, Mr. Arne Jonas\",male,18,0,0,236171,13,,S\\n230,0,3,\"Lefebre, Miss. Mathilde\",female,,3,1,4133,25.4667,,S\\n231,1,1,\"Harris, Mrs. Henry Birkhardt (Irene Wallach)\",female,35,1,0,36973,83.475,C83,S\\n232,0,3,\"Larsson, Mr. Bengt Edvin\",male,29,0,0,347067,7.775,,S\\n233,0,2,\"Sjostedt, Mr. Ernst Adolf\",male,59,0,0,237442,13.5,,S\\n234,1,3,\"Asplund, Miss. Lillian Gertrud\",female,5,4,2,347077,31.3875,,S\\n235,0,2,\"Leyson, Mr. Robert William Norman\",male,24,0,0,C.A. 29566,10.5,,S\\n236,0,3,\"Harknett, Miss. Alice Phoebe\",female,,0,0,W./C. 6609,7.55,,S\\n237,0,2,\"Hold, Mr. Stephen\",male,44,1,0,26707,26,,S\\n238,1,2,\"Collyer, Miss. Marjorie \"\"Lottie\"\"\",female,8,0,2,C.A. 31921,26.25,,S\\n239,0,2,\"Pengelly, Mr. Frederick William\",male,19,0,0,28665,10.5,,S\\n240,0,2,\"Hunt, Mr. George Henry\",male,33,0,0,SCO/W 1585,12.275,,S\\n241,0,3,\"Zabour, Miss. Thamine\",female,,1,0,2665,14.4542,,C\\n242,1,3,\"Murphy, Miss. Katherine \"\"Kate\"\"\",female,,1,0,367230,15.5,,Q\\n243,0,2,\"Coleridge, Mr. Reginald Charles\",male,29,0,0,W./C. 14263,10.5,,S\\n244,0,3,\"Maenpaa, Mr. Matti Alexanteri\",male,22,0,0,STON/O 2. 3101275,7.125,,S\\n245,0,3,\"Attalah, Mr. Sleiman\",male,30,0,0,2694,7.225,,C\\n246,0,1,\"Minahan, Dr. William Edward\",male,44,2,0,19928,90,C78,Q\\n247,0,3,\"Lindahl, Miss. Agda Thorilda Viktoria\",female,25,0,0,347071,7.775,,S\\n248,1,2,\"Hamalainen, Mrs. William (Anna)\",female,24,0,2,250649,14.5,,S\\n249,1,1,\"Beckwith, Mr. Richard Leonard\",male,37,1,1,11751,52.5542,D35,S\\n250,0,2,\"Carter, Rev. Ernest Courtenay\",male,54,1,0,244252,26,,S\\n251,0,3,\"Reed, Mr. James George\",male,,0,0,362316,7.25,,S\\n252,0,3,\"Strom, Mrs. Wilhelm (Elna Matilda Persson)\",female,29,1,1,347054,10.4625,G6,S\\n253,0,1,\"Stead, Mr. William Thomas\",male,62,0,0,113514,26.55,C87,S\\n254,0,3,\"Lobb, Mr. William Arthur\",male,30,1,0,A/5. 3336,16.1,,S\\n255,0,3,\"Rosblom, Mrs. Viktor (Helena Wilhelmina)\",female,41,0,2,370129,20.2125,,S\\n256,1,3,\"Touma, Mrs. Darwis (Hanne Youssef Razi)\",female,29,0,2,2650,15.2458,,C\\n257,1,1,\"Thorne, Mrs. Gertrude Maybelle\",female,,0,0,PC 17585,79.2,,C\\n258,1,1,\"Cherry, Miss. Gladys\",female,30,0,0,110152,86.5,B77,S\\n259,1,1,\"Ward, Miss. Anna\",female,35,0,0,PC 17755,512.3292,,C\\n260,1,2,\"Parrish, Mrs. (Lutie Davis)\",female,50,0,1,230433,26,,S\\n261,0,3,\"Smith, Mr. Thomas\",male,,0,0,384461,7.75,,Q\\n262,1,3,\"Asplund, Master. Edvin Rojj Felix\",male,3,4,2,347077,31.3875,,S\\n263,0,1,\"Taussig, Mr. Emil\",male,52,1,1,110413,79.65,E67,S\\n264,0,1,\"Harrison, Mr. William\",male,40,0,0,112059,0,B94,S\\n265,0,3,\"Henry, Miss. Delia\",female,,0,0,382649,7.75,,Q\\n266,0,2,\"Reeves, Mr. David\",male,36,0,0,C.A. 17248,10.5,,S\\n267,0,3,\"Panula, Mr. Ernesti Arvid\",male,16,4,1,3101295,39.6875,,S\\n268,1,3,\"Persson, Mr. Ernst Ulrik\",male,25,1,0,347083,7.775,,S\\n269,1,1,\"Graham, Mrs. William Thompson (Edith Junkins)\",female,58,0,1,PC 17582,153.4625,C125,S\\n270,1,1,\"Bissette, Miss. Amelia\",female,35,0,0,PC 17760,135.6333,C99,S\\n271,0,1,\"Cairns, Mr. Alexander\",male,,0,0,113798,31,,S\\n272,1,3,\"Tornquist, Mr. William Henry\",male,25,0,0,LINE,0,,S\\n273,1,2,\"Mellinger, Mrs. (Elizabeth Anne Maidment)\",female,41,0,1,250644,19.5,,S\\n274,0,1,\"Natsch, Mr. Charles H\",male,37,0,1,PC 17596,29.7,C118,C\\n275,1,3,\"Healy, Miss. Hanora \"\"Nora\"\"\",female,,0,0,370375,7.75,,Q\\n276,1,1,\"Andrews, Miss. Kornelia Theodosia\",female,63,1,0,13502,77.9583,D7,S\\n277,0,3,\"Lindblom, Miss. Augusta Charlotta\",female,45,0,0,347073,7.75,,S\\n278,0,2,\"Parkes, Mr. Francis \"\"Frank\"\"\",male,,0,0,239853,0,,S\\n279,0,3,\"Rice, Master. Eric\",male,7,4,1,382652,29.125,,Q\\n280,1,3,\"Abbott, Mrs. Stanton (Rosa Hunt)\",female,35,1,1,C.A. 2673,20.25,,S\\n281,0,3,\"Duane, Mr. Frank\",male,65,0,0,336439,7.75,,Q\\n282,0,3,\"Olsson, Mr. Nils Johan Goransson\",male,28,0,0,347464,7.8542,,S\\n283,0,3,\"de Pelsmaeker, Mr. Alfons\",male,16,0,0,345778,9.5,,S\\n284,1,3,\"Dorking, Mr. Edward Arthur\",male,19,0,0,A/5. 10482,8.05,,S\\n285,0,1,\"Smith, Mr. Richard William\",male,,0,0,113056,26,A19,S\\n286,0,3,\"Stankovic, Mr. Ivan\",male,33,0,0,349239,8.6625,,C\\n287,1,3,\"de Mulder, Mr. Theodore\",male,30,0,0,345774,9.5,,S\\n288,0,3,\"Naidenoff, Mr. Penko\",male,22,0,0,349206,7.8958,,S\\n289,1,2,\"Hosono, Mr. Masabumi\",male,42,0,0,237798,13,,S\\n290,1,3,\"Connolly, Miss. Kate\",female,22,0,0,370373,7.75,,Q\\n291,1,1,\"Barber, Miss. Ellen \"\"Nellie\"\"\",female,26,0,0,19877,78.85,,S\\n292,1,1,\"Bishop, Mrs. Dickinson H (Helen Walton)\",female,19,1,0,11967,91.0792,B49,C\\n293,0,2,\"Levy, Mr. Rene Jacques\",male,36,0,0,SC/Paris 2163,12.875,D,C\\n294,0,3,\"Haas, Miss. Aloisia\",female,24,0,0,349236,8.85,,S\\n295,0,3,\"Mineff, Mr. Ivan\",male,24,0,0,349233,7.8958,,S\\n296,0,1,\"Lewy, Mr. Ervin G\",male,,0,0,PC 17612,27.7208,,C\\n297,0,3,\"Hanna, Mr. Mansour\",male,23.5,0,0,2693,7.2292,,C\\n298,0,1,\"Allison, Miss. Helen Loraine\",female,2,1,2,113781,151.55,C22 C26,S\\n299,1,1,\"Saalfeld, Mr. Adolphe\",male,,0,0,19988,30.5,C106,S\\n300,1,1,\"Baxter, Mrs. James (Helene DeLaudeniere Chaput)\",female,50,0,1,PC 17558,247.5208,B58 B60,C\\n301,1,3,\"Kelly, Miss. Anna Katherine \"\"Annie Kate\"\"\",female,,0,0,9234,7.75,,Q\\n302,1,3,\"McCoy, Mr. Bernard\",male,,2,0,367226,23.25,,Q\\n303,0,3,\"Johnson, Mr. William Cahoone Jr\",male,19,0,0,LINE,0,,S\\n304,1,2,\"Keane, Miss. Nora A\",female,,0,0,226593,12.35,E101,Q\\n305,0,3,\"Williams, Mr. Howard Hugh \"\"Harry\"\"\",male,,0,0,A/5 2466,8.05,,S\\n306,1,1,\"Allison, Master. Hudson Trevor\",male,0.92,1,2,113781,151.55,C22 C26,S\\n307,1,1,\"Fleming, Miss. Margaret\",female,,0,0,17421,110.8833,,C\\n308,1,1,\"Penasco y Castellana, Mrs. Victor de Satode (Maria Josefa Perez de Soto y Vallejo)\",female,17,1,0,PC 17758,108.9,C65,C\\n309,0,2,\"Abelson, Mr. Samuel\",male,30,1,0,P/PP 3381,24,,C\\n310,1,1,\"Francatelli, Miss. Laura Mabel\",female,30,0,0,PC 17485,56.9292,E36,C\\n311,1,1,\"Hays, Miss. Margaret Bechstein\",female,24,0,0,11767,83.1583,C54,C\\n312,1,1,\"Ryerson, Miss. Emily Borie\",female,18,2,2,PC 17608,262.375,B57 B59 B63 B66,C\\n313,0,2,\"Lahtinen, Mrs. William (Anna Sylfven)\",female,26,1,1,250651,26,,S\\n314,0,3,\"Hendekovic, Mr. Ignjac\",male,28,0,0,349243,7.8958,,S\\n315,0,2,\"Hart, Mr. Benjamin\",male,43,1,1,F.C.C. 13529,26.25,,S\\n316,1,3,\"Nilsson, Miss. Helmina Josefina\",female,26,0,0,347470,7.8542,,S\\n317,1,2,\"Kantor, Mrs. Sinai (Miriam Sternin)\",female,24,1,0,244367,26,,S\\n318,0,2,\"Moraweck, Dr. Ernest\",male,54,0,0,29011,14,,S\\n319,1,1,\"Wick, Miss. Mary Natalie\",female,31,0,2,36928,164.8667,C7,S\\n320,1,1,\"Spedden, Mrs. Frederic Oakley (Margaretta Corning Stone)\",female,40,1,1,16966,134.5,E34,C\\n321,0,3,\"Dennis, Mr. Samuel\",male,22,0,0,A/5 21172,7.25,,S\\n322,0,3,\"Danoff, Mr. Yoto\",male,27,0,0,349219,7.8958,,S\\n323,1,2,\"Slayter, Miss. Hilda Mary\",female,30,0,0,234818,12.35,,Q\\n324,1,2,\"Caldwell, Mrs. Albert Francis (Sylvia Mae Harbaugh)\",female,22,1,1,248738,29,,S\\n325,0,3,\"Sage, Mr. George John Jr\",male,,8,2,CA. 2343,69.55,,S\\n326,1,1,\"Young, Miss. Marie Grice\",female,36,0,0,PC 17760,135.6333,C32,C\\n327,0,3,\"Nysveen, Mr. Johan Hansen\",male,61,0,0,345364,6.2375,,S\\n328,1,2,\"Ball, Mrs. (Ada E Hall)\",female,36,0,0,28551,13,D,S\\n329,1,3,\"Goldsmith, Mrs. Frank John (Emily Alice Brown)\",female,31,1,1,363291,20.525,,S\\n330,1,1,\"Hippach, Miss. Jean Gertrude\",female,16,0,1,111361,57.9792,B18,C\\n331,1,3,\"McCoy, Miss. Agnes\",female,,2,0,367226,23.25,,Q\\n332,0,1,\"Partner, Mr. Austen\",male,45.5,0,0,113043,28.5,C124,S\\n333,0,1,\"Graham, Mr. George Edward\",male,38,0,1,PC 17582,153.4625,C91,S\\n334,0,3,\"Vander Planke, Mr. Leo Edmondus\",male,16,2,0,345764,18,,S\\n335,1,1,\"Frauenthal, Mrs. Henry William (Clara Heinsheimer)\",female,,1,0,PC 17611,133.65,,S\\n336,0,3,\"Denkoff, Mr. Mitto\",male,,0,0,349225,7.8958,,S\\n337,0,1,\"Pears, Mr. Thomas Clinton\",male,29,1,0,113776,66.6,C2,S\\n338,1,1,\"Burns, Miss. Elizabeth Margaret\",female,41,0,0,16966,134.5,E40,C\\n339,1,3,\"Dahl, Mr. Karl Edwart\",male,45,0,0,7598,8.05,,S\\n340,0,1,\"Blackwell, Mr. Stephen Weart\",male,45,0,0,113784,35.5,T,S\\n341,1,2,\"Navratil, Master. Edmond Roger\",male,2,1,1,230080,26,F2,S\\n342,1,1,\"Fortune, Miss. Alice Elizabeth\",female,24,3,2,19950,263,C23 C25 C27,S\\n343,0,2,\"Collander, Mr. Erik Gustaf\",male,28,0,0,248740,13,,S\\n344,0,2,\"Sedgwick, Mr. Charles Frederick Waddington\",male,25,0,0,244361,13,,S\\n345,0,2,\"Fox, Mr. Stanley Hubert\",male,36,0,0,229236,13,,S\\n346,1,2,\"Brown, Miss. Amelia \"\"Mildred\"\"\",female,24,0,0,248733,13,F33,S\\n347,1,2,\"Smith, Miss. Marion Elsie\",female,40,0,0,31418,13,,S\\n348,1,3,\"Davison, Mrs. Thomas Henry (Mary E Finck)\",female,,1,0,386525,16.1,,S\\n349,1,3,\"Coutts, Master. William Loch \"\"William\"\"\",male,3,1,1,C.A. 37671,15.9,,S\\n350,0,3,\"Dimic, Mr. Jovan\",male,42,0,0,315088,8.6625,,S\\n351,0,3,\"Odahl, Mr. Nils Martin\",male,23,0,0,7267,9.225,,S\\n352,0,1,\"Williams-Lambert, Mr. Fletcher Fellows\",male,,0,0,113510,35,C128,S\\n353,0,3,\"Elias, Mr. Tannous\",male,15,1,1,2695,7.2292,,C\\n354,0,3,\"Arnold-Franchi, Mr. Josef\",male,25,1,0,349237,17.8,,S\\n355,0,3,\"Yousif, Mr. Wazli\",male,,0,0,2647,7.225,,C\\n356,0,3,\"Vanden Steen, Mr. Leo Peter\",male,28,0,0,345783,9.5,,S\\n357,1,1,\"Bowerman, Miss. Elsie Edith\",female,22,0,1,113505,55,E33,S\\n358,0,2,\"Funk, Miss. Annie Clemmer\",female,38,0,0,237671,13,,S\\n359,1,3,\"McGovern, Miss. Mary\",female,,0,0,330931,7.8792,,Q\\n360,1,3,\"Mockler, Miss. Helen Mary \"\"Ellie\"\"\",female,,0,0,330980,7.8792,,Q\\n361,0,3,\"Skoog, Mr. Wilhelm\",male,40,1,4,347088,27.9,,S\\n362,0,2,\"del Carlo, Mr. Sebastiano\",male,29,1,0,SC/PARIS 2167,27.7208,,C\\n363,0,3,\"Barbara, Mrs. (Catherine David)\",female,45,0,1,2691,14.4542,,C\\n364,0,3,\"Asim, Mr. Adola\",male,35,0,0,SOTON/O.Q. 3101310,7.05,,S\\n365,0,3,\"O\\'Brien, Mr. Thomas\",male,,1,0,370365,15.5,,Q\\n366,0,3,\"Adahl, Mr. Mauritz Nils Martin\",male,30,0,0,C 7076,7.25,,S\\n367,1,1,\"Warren, Mrs. Frank Manley (Anna Sophia Atkinson)\",female,60,1,0,110813,75.25,D37,C\\n368,1,3,\"Moussa, Mrs. (Mantoura Boulos)\",female,,0,0,2626,7.2292,,C\\n369,1,3,\"Jermyn, Miss. Annie\",female,,0,0,14313,7.75,,Q\\n370,1,1,\"Aubart, Mme. Leontine Pauline\",female,24,0,0,PC 17477,69.3,B35,C\\n371,1,1,\"Harder, Mr. George Achilles\",male,25,1,0,11765,55.4417,E50,C\\n372,0,3,\"Wiklund, Mr. Jakob Alfred\",male,18,1,0,3101267,6.4958,,S\\n373,0,3,\"Beavan, Mr. William Thomas\",male,19,0,0,323951,8.05,,S\\n374,0,1,\"Ringhini, Mr. Sante\",male,22,0,0,PC 17760,135.6333,,C\\n375,0,3,\"Palsson, Miss. Stina Viola\",female,3,3,1,349909,21.075,,S\\n376,1,1,\"Meyer, Mrs. Edgar Joseph (Leila Saks)\",female,,1,0,PC 17604,82.1708,,C\\n377,1,3,\"Landergren, Miss. Aurora Adelia\",female,22,0,0,C 7077,7.25,,S\\n378,0,1,\"Widener, Mr. Harry Elkins\",male,27,0,2,113503,211.5,C82,C\\n379,0,3,\"Betros, Mr. Tannous\",male,20,0,0,2648,4.0125,,C\\n380,0,3,\"Gustafsson, Mr. Karl Gideon\",male,19,0,0,347069,7.775,,S\\n381,1,1,\"Bidois, Miss. Rosalie\",female,42,0,0,PC 17757,227.525,,C\\n382,1,3,\"Nakid, Miss. Maria (\"\"Mary\"\")\",female,1,0,2,2653,15.7417,,C\\n383,0,3,\"Tikkanen, Mr. Juho\",male,32,0,0,STON/O 2. 3101293,7.925,,S\\n384,1,1,\"Holverson, Mrs. Alexander Oskar (Mary Aline Towner)\",female,35,1,0,113789,52,,S\\n385,0,3,\"Plotcharsky, Mr. Vasil\",male,,0,0,349227,7.8958,,S\\n386,0,2,\"Davies, Mr. Charles Henry\",male,18,0,0,S.O.C. 14879,73.5,,S\\n387,0,3,\"Goodwin, Master. Sidney Leonard\",male,1,5,2,CA 2144,46.9,,S\\n388,1,2,\"Buss, Miss. Kate\",female,36,0,0,27849,13,,S\\n389,0,3,\"Sadlier, Mr. Matthew\",male,,0,0,367655,7.7292,,Q\\n390,1,2,\"Lehmann, Miss. Bertha\",female,17,0,0,SC 1748,12,,C\\n391,1,1,\"Carter, Mr. William Ernest\",male,36,1,2,113760,120,B96 B98,S\\n392,1,3,\"Jansson, Mr. Carl Olof\",male,21,0,0,350034,7.7958,,S\\n393,0,3,\"Gustafsson, Mr. Johan Birger\",male,28,2,0,3101277,7.925,,S\\n394,1,1,\"Newell, Miss. Marjorie\",female,23,1,0,35273,113.275,D36,C\\n395,1,3,\"Sandstrom, Mrs. Hjalmar (Agnes Charlotta Bengtsson)\",female,24,0,2,PP 9549,16.7,G6,S\\n396,0,3,\"Johansson, Mr. Erik\",male,22,0,0,350052,7.7958,,S\\n397,0,3,\"Olsson, Miss. Elina\",female,31,0,0,350407,7.8542,,S\\n398,0,2,\"McKane, Mr. Peter David\",male,46,0,0,28403,26,,S\\n399,0,2,\"Pain, Dr. Alfred\",male,23,0,0,244278,10.5,,S\\n400,1,2,\"Trout, Mrs. William H (Jessie L)\",female,28,0,0,240929,12.65,,S\\n401,1,3,\"Niskanen, Mr. Juha\",male,39,0,0,STON/O 2. 3101289,7.925,,S\\n402,0,3,\"Adams, Mr. John\",male,26,0,0,341826,8.05,,S\\n403,0,3,\"Jussila, Miss. Mari Aina\",female,21,1,0,4137,9.825,,S\\n404,0,3,\"Hakkarainen, Mr. Pekka Pietari\",male,28,1,0,STON/O2. 3101279,15.85,,S\\n405,0,3,\"Oreskovic, Miss. Marija\",female,20,0,0,315096,8.6625,,S\\n406,0,2,\"Gale, Mr. Shadrach\",male,34,1,0,28664,21,,S\\n407,0,3,\"Widegren, Mr. Carl/Charles Peter\",male,51,0,0,347064,7.75,,S\\n408,1,2,\"Richards, Master. William Rowe\",male,3,1,1,29106,18.75,,S\\n409,0,3,\"Birkeland, Mr. Hans Martin Monsen\",male,21,0,0,312992,7.775,,S\\n410,0,3,\"Lefebre, Miss. Ida\",female,,3,1,4133,25.4667,,S\\n411,0,3,\"Sdycoff, Mr. Todor\",male,,0,0,349222,7.8958,,S\\n412,0,3,\"Hart, Mr. Henry\",male,,0,0,394140,6.8583,,Q\\n413,1,1,\"Minahan, Miss. Daisy E\",female,33,1,0,19928,90,C78,Q\\n414,0,2,\"Cunningham, Mr. Alfred Fleming\",male,,0,0,239853,0,,S\\n415,1,3,\"Sundman, Mr. Johan Julian\",male,44,0,0,STON/O 2. 3101269,7.925,,S\\n416,0,3,\"Meek, Mrs. Thomas (Annie Louise Rowley)\",female,,0,0,343095,8.05,,S\\n417,1,2,\"Drew, Mrs. James Vivian (Lulu Thorne Christian)\",female,34,1,1,28220,32.5,,S\\n418,1,2,\"Silven, Miss. Lyyli Karoliina\",female,18,0,2,250652,13,,S\\n419,0,2,\"Matthews, Mr. William John\",male,30,0,0,28228,13,,S\\n420,0,3,\"Van Impe, Miss. Catharina\",female,10,0,2,345773,24.15,,S\\n421,0,3,\"Gheorgheff, Mr. Stanio\",male,,0,0,349254,7.8958,,C\\n422,0,3,\"Charters, Mr. David\",male,21,0,0,A/5. 13032,7.7333,,Q\\n423,0,3,\"Zimmerman, Mr. Leo\",male,29,0,0,315082,7.875,,S\\n424,0,3,\"Danbom, Mrs. Ernst Gilbert (Anna Sigrid Maria Brogren)\",female,28,1,1,347080,14.4,,S\\n425,0,3,\"Rosblom, Mr. Viktor Richard\",male,18,1,1,370129,20.2125,,S\\n426,0,3,\"Wiseman, Mr. Phillippe\",male,,0,0,A/4. 34244,7.25,,S\\n427,1,2,\"Clarke, Mrs. Charles V (Ada Maria Winfield)\",female,28,1,0,2003,26,,S\\n428,1,2,\"Phillips, Miss. Kate Florence (\"\"Mrs Kate Louise Phillips Marshall\"\")\",female,19,0,0,250655,26,,S\\n429,0,3,\"Flynn, Mr. James\",male,,0,0,364851,7.75,,Q\\n430,1,3,\"Pickard, Mr. Berk (Berk Trembisky)\",male,32,0,0,SOTON/O.Q. 392078,8.05,E10,S\\n431,1,1,\"Bjornstrom-Steffansson, Mr. Mauritz Hakan\",male,28,0,0,110564,26.55,C52,S\\n432,1,3,\"Thorneycroft, Mrs. Percival (Florence Kate White)\",female,,1,0,376564,16.1,,S\\n433,1,2,\"Louch, Mrs. Charles Alexander (Alice Adelaide Slow)\",female,42,1,0,SC/AH 3085,26,,S\\n434,0,3,\"Kallio, Mr. Nikolai Erland\",male,17,0,0,STON/O 2. 3101274,7.125,,S\\n435,0,1,\"Silvey, Mr. William Baird\",male,50,1,0,13507,55.9,E44,S\\n436,1,1,\"Carter, Miss. Lucile Polk\",female,14,1,2,113760,120,B96 B98,S\\n437,0,3,\"Ford, Miss. Doolina Margaret \"\"Daisy\"\"\",female,21,2,2,W./C. 6608,34.375,,S\\n438,1,2,\"Richards, Mrs. Sidney (Emily Hocking)\",female,24,2,3,29106,18.75,,S\\n439,0,1,\"Fortune, Mr. Mark\",male,64,1,4,19950,263,C23 C25 C27,S\\n440,0,2,\"Kvillner, Mr. Johan Henrik Johannesson\",male,31,0,0,C.A. 18723,10.5,,S\\n441,1,2,\"Hart, Mrs. Benjamin (Esther Ada Bloomfield)\",female,45,1,1,F.C.C. 13529,26.25,,S\\n442,0,3,\"Hampe, Mr. Leon\",male,20,0,0,345769,9.5,,S\\n443,0,3,\"Petterson, Mr. Johan Emil\",male,25,1,0,347076,7.775,,S\\n444,1,2,\"Reynaldo, Ms. Encarnacion\",female,28,0,0,230434,13,,S\\n445,1,3,\"Johannesen-Bratthammer, Mr. Bernt\",male,,0,0,65306,8.1125,,S\\n446,1,1,\"Dodge, Master. Washington\",male,4,0,2,33638,81.8583,A34,S\\n447,1,2,\"Mellinger, Miss. Madeleine Violet\",female,13,0,1,250644,19.5,,S\\n448,1,1,\"Seward, Mr. Frederic Kimber\",male,34,0,0,113794,26.55,,S\\n449,1,3,\"Baclini, Miss. Marie Catherine\",female,5,2,1,2666,19.2583,,C\\n450,1,1,\"Peuchen, Major. Arthur Godfrey\",male,52,0,0,113786,30.5,C104,S\\n451,0,2,\"West, Mr. Edwy Arthur\",male,36,1,2,C.A. 34651,27.75,,S\\n452,0,3,\"Hagland, Mr. Ingvald Olai Olsen\",male,,1,0,65303,19.9667,,S\\n453,0,1,\"Foreman, Mr. Benjamin Laventall\",male,30,0,0,113051,27.75,C111,C\\n454,1,1,\"Goldenberg, Mr. Samuel L\",male,49,1,0,17453,89.1042,C92,C\\n455,0,3,\"Peduzzi, Mr. Joseph\",male,,0,0,A/5 2817,8.05,,S\\n456,1,3,\"Jalsevac, Mr. Ivan\",male,29,0,0,349240,7.8958,,C\\n457,0,1,\"Millet, Mr. Francis Davis\",male,65,0,0,13509,26.55,E38,S\\n458,1,1,\"Kenyon, Mrs. Frederick R (Marion)\",female,,1,0,17464,51.8625,D21,S\\n459,1,2,\"Toomey, Miss. Ellen\",female,50,0,0,F.C.C. 13531,10.5,,S\\n460,0,3,\"O\\'Connor, Mr. Maurice\",male,,0,0,371060,7.75,,Q\\n461,1,1,\"Anderson, Mr. Harry\",male,48,0,0,19952,26.55,E12,S\\n462,0,3,\"Morley, Mr. William\",male,34,0,0,364506,8.05,,S\\n463,0,1,\"Gee, Mr. Arthur H\",male,47,0,0,111320,38.5,E63,S\\n464,0,2,\"Milling, Mr. Jacob Christian\",male,48,0,0,234360,13,,S\\n465,0,3,\"Maisner, Mr. Simon\",male,,0,0,A/S 2816,8.05,,S\\n466,0,3,\"Goncalves, Mr. Manuel Estanslas\",male,38,0,0,SOTON/O.Q. 3101306,7.05,,S\\n467,0,2,\"Campbell, Mr. William\",male,,0,0,239853,0,,S\\n468,0,1,\"Smart, Mr. John Montgomery\",male,56,0,0,113792,26.55,,S\\n469,0,3,\"Scanlan, Mr. James\",male,,0,0,36209,7.725,,Q\\n470,1,3,\"Baclini, Miss. Helene Barbara\",female,0.75,2,1,2666,19.2583,,C\\n471,0,3,\"Keefe, Mr. Arthur\",male,,0,0,323592,7.25,,S\\n472,0,3,\"Cacic, Mr. Luka\",male,38,0,0,315089,8.6625,,S\\n473,1,2,\"West, Mrs. Edwy Arthur (Ada Mary Worth)\",female,33,1,2,C.A. 34651,27.75,,S\\n474,1,2,\"Jerwan, Mrs. Amin S (Marie Marthe Thuillard)\",female,23,0,0,SC/AH Basle 541,13.7917,D,C\\n475,0,3,\"Strandberg, Miss. Ida Sofia\",female,22,0,0,7553,9.8375,,S\\n476,0,1,\"Clifford, Mr. George Quincy\",male,,0,0,110465,52,A14,S\\n477,0,2,\"Renouf, Mr. Peter Henry\",male,34,1,0,31027,21,,S\\n478,0,3,\"Braund, Mr. Lewis Richard\",male,29,1,0,3460,7.0458,,S\\n479,0,3,\"Karlsson, Mr. Nils August\",male,22,0,0,350060,7.5208,,S\\n480,1,3,\"Hirvonen, Miss. Hildur E\",female,2,0,1,3101298,12.2875,,S\\n481,0,3,\"Goodwin, Master. Harold Victor\",male,9,5,2,CA 2144,46.9,,S\\n482,0,2,\"Frost, Mr. Anthony Wood \"\"Archie\"\"\",male,,0,0,239854,0,,S\\n483,0,3,\"Rouse, Mr. Richard Henry\",male,50,0,0,A/5 3594,8.05,,S\\n484,1,3,\"Turkula, Mrs. (Hedwig)\",female,63,0,0,4134,9.5875,,S\\n485,1,1,\"Bishop, Mr. Dickinson H\",male,25,1,0,11967,91.0792,B49,C\\n486,0,3,\"Lefebre, Miss. Jeannie\",female,,3,1,4133,25.4667,,S\\n487,1,1,\"Hoyt, Mrs. Frederick Maxfield (Jane Anne Forby)\",female,35,1,0,19943,90,C93,S\\n488,0,1,\"Kent, Mr. Edward Austin\",male,58,0,0,11771,29.7,B37,C\\n489,0,3,\"Somerton, Mr. Francis William\",male,30,0,0,A.5. 18509,8.05,,S\\n490,1,3,\"Coutts, Master. Eden Leslie \"\"Neville\"\"\",male,9,1,1,C.A. 37671,15.9,,S\\n491,0,3,\"Hagland, Mr. Konrad Mathias Reiersen\",male,,1,0,65304,19.9667,,S\\n492,0,3,\"Windelov, Mr. Einar\",male,21,0,0,SOTON/OQ 3101317,7.25,,S\\n493,0,1,\"Molson, Mr. Harry Markland\",male,55,0,0,113787,30.5,C30,S\\n494,0,1,\"Artagaveytia, Mr. Ramon\",male,71,0,0,PC 17609,49.5042,,C\\n495,0,3,\"Stanley, Mr. Edward Roland\",male,21,0,0,A/4 45380,8.05,,S\\n496,0,3,\"Yousseff, Mr. Gerious\",male,,0,0,2627,14.4583,,C\\n497,1,1,\"Eustis, Miss. Elizabeth Mussey\",female,54,1,0,36947,78.2667,D20,C\\n498,0,3,\"Shellard, Mr. Frederick William\",male,,0,0,C.A. 6212,15.1,,S\\n499,0,1,\"Allison, Mrs. Hudson J C (Bessie Waldo Daniels)\",female,25,1,2,113781,151.55,C22 C26,S\\n500,0,3,\"Svensson, Mr. Olof\",male,24,0,0,350035,7.7958,,S\\n501,0,3,\"Calic, Mr. Petar\",male,17,0,0,315086,8.6625,,S\\n502,0,3,\"Canavan, Miss. Mary\",female,21,0,0,364846,7.75,,Q\\n503,0,3,\"O\\'Sullivan, Miss. Bridget Mary\",female,,0,0,330909,7.6292,,Q\\n504,0,3,\"Laitinen, Miss. Kristina Sofia\",female,37,0,0,4135,9.5875,,S\\n505,1,1,\"Maioni, Miss. Roberta\",female,16,0,0,110152,86.5,B79,S\\n506,0,1,\"Penasco y Castellana, Mr. Victor de Satode\",male,18,1,0,PC 17758,108.9,C65,C\\n507,1,2,\"Quick, Mrs. Frederick Charles (Jane Richards)\",female,33,0,2,26360,26,,S\\n508,1,1,\"Bradley, Mr. George (\"\"George Arthur Brayton\"\")\",male,,0,0,111427,26.55,,S\\n509,0,3,\"Olsen, Mr. Henry Margido\",male,28,0,0,C 4001,22.525,,S\\n510,1,3,\"Lang, Mr. Fang\",male,26,0,0,1601,56.4958,,S\\n511,1,3,\"Daly, Mr. Eugene Patrick\",male,29,0,0,382651,7.75,,Q\\n512,0,3,\"Webber, Mr. James\",male,,0,0,SOTON/OQ 3101316,8.05,,S\\n513,1,1,\"McGough, Mr. James Robert\",male,36,0,0,PC 17473,26.2875,E25,S\\n514,1,1,\"Rothschild, Mrs. Martin (Elizabeth L. Barrett)\",female,54,1,0,PC 17603,59.4,,C\\n515,0,3,\"Coleff, Mr. Satio\",male,24,0,0,349209,7.4958,,S\\n516,0,1,\"Walker, Mr. William Anderson\",male,47,0,0,36967,34.0208,D46,S\\n517,1,2,\"Lemore, Mrs. (Amelia Milley)\",female,34,0,0,C.A. 34260,10.5,F33,S\\n518,0,3,\"Ryan, Mr. Patrick\",male,,0,0,371110,24.15,,Q\\n519,1,2,\"Angle, Mrs. William A (Florence \"\"Mary\"\" Agnes Hughes)\",female,36,1,0,226875,26,,S\\n520,0,3,\"Pavlovic, Mr. Stefo\",male,32,0,0,349242,7.8958,,S\\n521,1,1,\"Perreault, Miss. Anne\",female,30,0,0,12749,93.5,B73,S\\n522,0,3,\"Vovk, Mr. Janko\",male,22,0,0,349252,7.8958,,S\\n523,0,3,\"Lahoud, Mr. Sarkis\",male,,0,0,2624,7.225,,C\\n524,1,1,\"Hippach, Mrs. Louis Albert (Ida Sophia Fischer)\",female,44,0,1,111361,57.9792,B18,C\\n525,0,3,\"Kassem, Mr. Fared\",male,,0,0,2700,7.2292,,C\\n526,0,3,\"Farrell, Mr. James\",male,40.5,0,0,367232,7.75,,Q\\n527,1,2,\"Ridsdale, Miss. Lucy\",female,50,0,0,W./C. 14258,10.5,,S\\n528,0,1,\"Farthing, Mr. John\",male,,0,0,PC 17483,221.7792,C95,S\\n529,0,3,\"Salonen, Mr. Johan Werner\",male,39,0,0,3101296,7.925,,S\\n530,0,2,\"Hocking, Mr. Richard George\",male,23,2,1,29104,11.5,,S\\n531,1,2,\"Quick, Miss. Phyllis May\",female,2,1,1,26360,26,,S\\n532,0,3,\"Toufik, Mr. Nakli\",male,,0,0,2641,7.2292,,C\\n533,0,3,\"Elias, Mr. Joseph Jr\",male,17,1,1,2690,7.2292,,C\\n534,1,3,\"Peter, Mrs. Catherine (Catherine Rizk)\",female,,0,2,2668,22.3583,,C\\n535,0,3,\"Cacic, Miss. Marija\",female,30,0,0,315084,8.6625,,S\\n536,1,2,\"Hart, Miss. Eva Miriam\",female,7,0,2,F.C.C. 13529,26.25,,S\\n537,0,1,\"Butt, Major. Archibald Willingham\",male,45,0,0,113050,26.55,B38,S\\n538,1,1,\"LeRoy, Miss. Bertha\",female,30,0,0,PC 17761,106.425,,C\\n539,0,3,\"Risien, Mr. Samuel Beard\",male,,0,0,364498,14.5,,S\\n540,1,1,\"Frolicher, Miss. Hedwig Margaritha\",female,22,0,2,13568,49.5,B39,C\\n541,1,1,\"Crosby, Miss. Harriet R\",female,36,0,2,WE/P 5735,71,B22,S\\n542,0,3,\"Andersson, Miss. Ingeborg Constanzia\",female,9,4,2,347082,31.275,,S\\n543,0,3,\"Andersson, Miss. Sigrid Elisabeth\",female,11,4,2,347082,31.275,,S\\n544,1,2,\"Beane, Mr. Edward\",male,32,1,0,2908,26,,S\\n545,0,1,\"Douglas, Mr. Walter Donald\",male,50,1,0,PC 17761,106.425,C86,C\\n546,0,1,\"Nicholson, Mr. Arthur Ernest\",male,64,0,0,693,26,,S\\n547,1,2,\"Beane, Mrs. Edward (Ethel Clarke)\",female,19,1,0,2908,26,,S\\n548,1,2,\"Padro y Manent, Mr. Julian\",male,,0,0,SC/PARIS 2146,13.8625,,C\\n549,0,3,\"Goldsmith, Mr. Frank John\",male,33,1,1,363291,20.525,,S\\n550,1,2,\"Davies, Master. John Morgan Jr\",male,8,1,1,C.A. 33112,36.75,,S\\n551,1,1,\"Thayer, Mr. John Borland Jr\",male,17,0,2,17421,110.8833,C70,C\\n552,0,2,\"Sharp, Mr. Percival James R\",male,27,0,0,244358,26,,S\\n553,0,3,\"O\\'Brien, Mr. Timothy\",male,,0,0,330979,7.8292,,Q\\n554,1,3,\"Leeni, Mr. Fahim (\"\"Philip Zenni\"\")\",male,22,0,0,2620,7.225,,C\\n555,1,3,\"Ohman, Miss. Velin\",female,22,0,0,347085,7.775,,S\\n556,0,1,\"Wright, Mr. George\",male,62,0,0,113807,26.55,,S\\n557,1,1,\"Duff Gordon, Lady. (Lucille Christiana Sutherland) (\"\"Mrs Morgan\"\")\",female,48,1,0,11755,39.6,A16,C\\n558,0,1,\"Robbins, Mr. Victor\",male,,0,0,PC 17757,227.525,,C\\n559,1,1,\"Taussig, Mrs. Emil (Tillie Mandelbaum)\",female,39,1,1,110413,79.65,E67,S\\n560,1,3,\"de Messemaeker, Mrs. Guillaume Joseph (Emma)\",female,36,1,0,345572,17.4,,S\\n561,0,3,\"Morrow, Mr. Thomas Rowan\",male,,0,0,372622,7.75,,Q\\n562,0,3,\"Sivic, Mr. Husein\",male,40,0,0,349251,7.8958,,S\\n563,0,2,\"Norman, Mr. Robert Douglas\",male,28,0,0,218629,13.5,,S\\n564,0,3,\"Simmons, Mr. John\",male,,0,0,SOTON/OQ 392082,8.05,,S\\n565,0,3,\"Meanwell, Miss. (Marion Ogden)\",female,,0,0,SOTON/O.Q. 392087,8.05,,S\\n566,0,3,\"Davies, Mr. Alfred J\",male,24,2,0,A/4 48871,24.15,,S\\n567,0,3,\"Stoytcheff, Mr. Ilia\",male,19,0,0,349205,7.8958,,S\\n568,0,3,\"Palsson, Mrs. Nils (Alma Cornelia Berglund)\",female,29,0,4,349909,21.075,,S\\n569,0,3,\"Doharr, Mr. Tannous\",male,,0,0,2686,7.2292,,C\\n570,1,3,\"Jonsson, Mr. Carl\",male,32,0,0,350417,7.8542,,S\\n571,1,2,\"Harris, Mr. George\",male,62,0,0,S.W./PP 752,10.5,,S\\n572,1,1,\"Appleton, Mrs. Edward Dale (Charlotte Lamson)\",female,53,2,0,11769,51.4792,C101,S\\n573,1,1,\"Flynn, Mr. John Irwin (\"\"Irving\"\")\",male,36,0,0,PC 17474,26.3875,E25,S\\n574,1,3,\"Kelly, Miss. Mary\",female,,0,0,14312,7.75,,Q\\n575,0,3,\"Rush, Mr. Alfred George John\",male,16,0,0,A/4. 20589,8.05,,S\\n576,0,3,\"Patchett, Mr. George\",male,19,0,0,358585,14.5,,S\\n577,1,2,\"Garside, Miss. Ethel\",female,34,0,0,243880,13,,S\\n578,1,1,\"Silvey, Mrs. William Baird (Alice Munger)\",female,39,1,0,13507,55.9,E44,S\\n579,0,3,\"Caram, Mrs. Joseph (Maria Elias)\",female,,1,0,2689,14.4583,,C\\n580,1,3,\"Jussila, Mr. Eiriik\",male,32,0,0,STON/O 2. 3101286,7.925,,S\\n581,1,2,\"Christy, Miss. Julie Rachel\",female,25,1,1,237789,30,,S\\n582,1,1,\"Thayer, Mrs. John Borland (Marian Longstreth Morris)\",female,39,1,1,17421,110.8833,C68,C\\n583,0,2,\"Downton, Mr. William James\",male,54,0,0,28403,26,,S\\n584,0,1,\"Ross, Mr. John Hugo\",male,36,0,0,13049,40.125,A10,C\\n585,0,3,\"Paulner, Mr. Uscher\",male,,0,0,3411,8.7125,,C\\n586,1,1,\"Taussig, Miss. Ruth\",female,18,0,2,110413,79.65,E68,S\\n587,0,2,\"Jarvis, Mr. John Denzil\",male,47,0,0,237565,15,,S\\n588,1,1,\"Frolicher-Stehli, Mr. Maxmillian\",male,60,1,1,13567,79.2,B41,C\\n589,0,3,\"Gilinski, Mr. Eliezer\",male,22,0,0,14973,8.05,,S\\n590,0,3,\"Murdlin, Mr. Joseph\",male,,0,0,A./5. 3235,8.05,,S\\n591,0,3,\"Rintamaki, Mr. Matti\",male,35,0,0,STON/O 2. 3101273,7.125,,S\\n592,1,1,\"Stephenson, Mrs. Walter Bertram (Martha Eustis)\",female,52,1,0,36947,78.2667,D20,C\\n593,0,3,\"Elsbury, Mr. William James\",male,47,0,0,A/5 3902,7.25,,S\\n594,0,3,\"Bourke, Miss. Mary\",female,,0,2,364848,7.75,,Q\\n595,0,2,\"Chapman, Mr. John Henry\",male,37,1,0,SC/AH 29037,26,,S\\n596,0,3,\"Van Impe, Mr. Jean Baptiste\",male,36,1,1,345773,24.15,,S\\n597,1,2,\"Leitch, Miss. Jessie Wills\",female,,0,0,248727,33,,S\\n598,0,3,\"Johnson, Mr. Alfred\",male,49,0,0,LINE,0,,S\\n599,0,3,\"Boulos, Mr. Hanna\",male,,0,0,2664,7.225,,C\\n600,1,1,\"Duff Gordon, Sir. Cosmo Edmund (\"\"Mr Morgan\"\")\",male,49,1,0,PC 17485,56.9292,A20,C\\n601,1,2,\"Jacobsohn, Mrs. Sidney Samuel (Amy Frances Christy)\",female,24,2,1,243847,27,,S\\n602,0,3,\"Slabenoff, Mr. Petco\",male,,0,0,349214,7.8958,,S\\n603,0,1,\"Harrington, Mr. Charles H\",male,,0,0,113796,42.4,,S\\n604,0,3,\"Torber, Mr. Ernst William\",male,44,0,0,364511,8.05,,S\\n605,1,1,\"Homer, Mr. Harry (\"\"Mr E Haven\"\")\",male,35,0,0,111426,26.55,,C\\n606,0,3,\"Lindell, Mr. Edvard Bengtsson\",male,36,1,0,349910,15.55,,S\\n607,0,3,\"Karaic, Mr. Milan\",male,30,0,0,349246,7.8958,,S\\n608,1,1,\"Daniel, Mr. Robert Williams\",male,27,0,0,113804,30.5,,S\\n609,1,2,\"Laroche, Mrs. Joseph (Juliette Marie Louise Lafargue)\",female,22,1,2,SC/Paris 2123,41.5792,,C\\n610,1,1,\"Shutes, Miss. Elizabeth W\",female,40,0,0,PC 17582,153.4625,C125,S\\n611,0,3,\"Andersson, Mrs. Anders Johan (Alfrida Konstantia Brogren)\",female,39,1,5,347082,31.275,,S\\n612,0,3,\"Jardin, Mr. Jose Neto\",male,,0,0,SOTON/O.Q. 3101305,7.05,,S\\n613,1,3,\"Murphy, Miss. Margaret Jane\",female,,1,0,367230,15.5,,Q\\n614,0,3,\"Horgan, Mr. John\",male,,0,0,370377,7.75,,Q\\n615,0,3,\"Brocklebank, Mr. William Alfred\",male,35,0,0,364512,8.05,,S\\n616,1,2,\"Herman, Miss. Alice\",female,24,1,2,220845,65,,S\\n617,0,3,\"Danbom, Mr. Ernst Gilbert\",male,34,1,1,347080,14.4,,S\\n618,0,3,\"Lobb, Mrs. William Arthur (Cordelia K Stanlick)\",female,26,1,0,A/5. 3336,16.1,,S\\n619,1,2,\"Becker, Miss. Marion Louise\",female,4,2,1,230136,39,F4,S\\n620,0,2,\"Gavey, Mr. Lawrence\",male,26,0,0,31028,10.5,,S\\n621,0,3,\"Yasbeck, Mr. Antoni\",male,27,1,0,2659,14.4542,,C\\n622,1,1,\"Kimball, Mr. Edwin Nelson Jr\",male,42,1,0,11753,52.5542,D19,S\\n623,1,3,\"Nakid, Mr. Sahid\",male,20,1,1,2653,15.7417,,C\\n624,0,3,\"Hansen, Mr. Henry Damsgaard\",male,21,0,0,350029,7.8542,,S\\n625,0,3,\"Bowen, Mr. David John \"\"Dai\"\"\",male,21,0,0,54636,16.1,,S\\n626,0,1,\"Sutton, Mr. Frederick\",male,61,0,0,36963,32.3208,D50,S\\n627,0,2,\"Kirkland, Rev. Charles Leonard\",male,57,0,0,219533,12.35,,Q\\n628,1,1,\"Longley, Miss. Gretchen Fiske\",female,21,0,0,13502,77.9583,D9,S\\n629,0,3,\"Bostandyeff, Mr. Guentcho\",male,26,0,0,349224,7.8958,,S\\n630,0,3,\"O\\'Connell, Mr. Patrick D\",male,,0,0,334912,7.7333,,Q\\n631,1,1,\"Barkworth, Mr. Algernon Henry Wilson\",male,80,0,0,27042,30,A23,S\\n632,0,3,\"Lundahl, Mr. Johan Svensson\",male,51,0,0,347743,7.0542,,S\\n633,1,1,\"Stahelin-Maeglin, Dr. Max\",male,32,0,0,13214,30.5,B50,C\\n634,0,1,\"Parr, Mr. William Henry Marsh\",male,,0,0,112052,0,,S\\n635,0,3,\"Skoog, Miss. Mabel\",female,9,3,2,347088,27.9,,S\\n636,1,2,\"Davis, Miss. Mary\",female,28,0,0,237668,13,,S\\n637,0,3,\"Leinonen, Mr. Antti Gustaf\",male,32,0,0,STON/O 2. 3101292,7.925,,S\\n638,0,2,\"Collyer, Mr. Harvey\",male,31,1,1,C.A. 31921,26.25,,S\\n639,0,3,\"Panula, Mrs. Juha (Maria Emilia Ojala)\",female,41,0,5,3101295,39.6875,,S\\n640,0,3,\"Thorneycroft, Mr. Percival\",male,,1,0,376564,16.1,,S\\n641,0,3,\"Jensen, Mr. Hans Peder\",male,20,0,0,350050,7.8542,,S\\n642,1,1,\"Sagesser, Mlle. Emma\",female,24,0,0,PC 17477,69.3,B35,C\\n643,0,3,\"Skoog, Miss. Margit Elizabeth\",female,2,3,2,347088,27.9,,S\\n644,1,3,\"Foo, Mr. Choong\",male,,0,0,1601,56.4958,,S\\n645,1,3,\"Baclini, Miss. Eugenie\",female,0.75,2,1,2666,19.2583,,C\\n646,1,1,\"Harper, Mr. Henry Sleeper\",male,48,1,0,PC 17572,76.7292,D33,C\\n647,0,3,\"Cor, Mr. Liudevit\",male,19,0,0,349231,7.8958,,S\\n648,1,1,\"Simonius-Blumer, Col. Oberst Alfons\",male,56,0,0,13213,35.5,A26,C\\n649,0,3,\"Willey, Mr. Edward\",male,,0,0,S.O./P.P. 751,7.55,,S\\n650,1,3,\"Stanley, Miss. Amy Zillah Elsie\",female,23,0,0,CA. 2314,7.55,,S\\n651,0,3,\"Mitkoff, Mr. Mito\",male,,0,0,349221,7.8958,,S\\n652,1,2,\"Doling, Miss. Elsie\",female,18,0,1,231919,23,,S\\n653,0,3,\"Kalvik, Mr. Johannes Halvorsen\",male,21,0,0,8475,8.4333,,S\\n654,1,3,\"O\\'Leary, Miss. Hanora \"\"Norah\"\"\",female,,0,0,330919,7.8292,,Q\\n655,0,3,\"Hegarty, Miss. Hanora \"\"Nora\"\"\",female,18,0,0,365226,6.75,,Q\\n656,0,2,\"Hickman, Mr. Leonard Mark\",male,24,2,0,S.O.C. 14879,73.5,,S\\n657,0,3,\"Radeff, Mr. Alexander\",male,,0,0,349223,7.8958,,S\\n658,0,3,\"Bourke, Mrs. John (Catherine)\",female,32,1,1,364849,15.5,,Q\\n659,0,2,\"Eitemiller, Mr. George Floyd\",male,23,0,0,29751,13,,S\\n660,0,1,\"Newell, Mr. Arthur Webster\",male,58,0,2,35273,113.275,D48,C\\n661,1,1,\"Frauenthal, Dr. Henry William\",male,50,2,0,PC 17611,133.65,,S\\n662,0,3,\"Badt, Mr. Mohamed\",male,40,0,0,2623,7.225,,C\\n663,0,1,\"Colley, Mr. Edward Pomeroy\",male,47,0,0,5727,25.5875,E58,S\\n664,0,3,\"Coleff, Mr. Peju\",male,36,0,0,349210,7.4958,,S\\n665,1,3,\"Lindqvist, Mr. Eino William\",male,20,1,0,STON/O 2. 3101285,7.925,,S\\n666,0,2,\"Hickman, Mr. Lewis\",male,32,2,0,S.O.C. 14879,73.5,,S\\n667,0,2,\"Butler, Mr. Reginald Fenton\",male,25,0,0,234686,13,,S\\n668,0,3,\"Rommetvedt, Mr. Knud Paust\",male,,0,0,312993,7.775,,S\\n669,0,3,\"Cook, Mr. Jacob\",male,43,0,0,A/5 3536,8.05,,S\\n670,1,1,\"Taylor, Mrs. Elmer Zebley (Juliet Cummins Wright)\",female,,1,0,19996,52,C126,S\\n671,1,2,\"Brown, Mrs. Thomas William Solomon (Elizabeth Catherine Ford)\",female,40,1,1,29750,39,,S\\n672,0,1,\"Davidson, Mr. Thornton\",male,31,1,0,F.C. 12750,52,B71,S\\n673,0,2,\"Mitchell, Mr. Henry Michael\",male,70,0,0,C.A. 24580,10.5,,S\\n674,1,2,\"Wilhelms, Mr. Charles\",male,31,0,0,244270,13,,S\\n675,0,2,\"Watson, Mr. Ennis Hastings\",male,,0,0,239856,0,,S\\n676,0,3,\"Edvardsson, Mr. Gustaf Hjalmar\",male,18,0,0,349912,7.775,,S\\n677,0,3,\"Sawyer, Mr. Frederick Charles\",male,24.5,0,0,342826,8.05,,S\\n678,1,3,\"Turja, Miss. Anna Sofia\",female,18,0,0,4138,9.8417,,S\\n679,0,3,\"Goodwin, Mrs. Frederick (Augusta Tyler)\",female,43,1,6,CA 2144,46.9,,S\\n680,1,1,\"Cardeza, Mr. Thomas Drake Martinez\",male,36,0,1,PC 17755,512.3292,B51 B53 B55,C\\n681,0,3,\"Peters, Miss. Katie\",female,,0,0,330935,8.1375,,Q\\n682,1,1,\"Hassab, Mr. Hammad\",male,27,0,0,PC 17572,76.7292,D49,C\\n683,0,3,\"Olsvigen, Mr. Thor Anderson\",male,20,0,0,6563,9.225,,S\\n684,0,3,\"Goodwin, Mr. Charles Edward\",male,14,5,2,CA 2144,46.9,,S\\n685,0,2,\"Brown, Mr. Thomas William Solomon\",male,60,1,1,29750,39,,S\\n686,0,2,\"Laroche, Mr. Joseph Philippe Lemercier\",male,25,1,2,SC/Paris 2123,41.5792,,C\\n687,0,3,\"Panula, Mr. Jaako Arnold\",male,14,4,1,3101295,39.6875,,S\\n688,0,3,\"Dakic, Mr. Branko\",male,19,0,0,349228,10.1708,,S\\n689,0,3,\"Fischer, Mr. Eberhard Thelander\",male,18,0,0,350036,7.7958,,S\\n690,1,1,\"Madill, Miss. Georgette Alexandra\",female,15,0,1,24160,211.3375,B5,S\\n691,1,1,\"Dick, Mr. Albert Adrian\",male,31,1,0,17474,57,B20,S\\n692,1,3,\"Karun, Miss. Manca\",female,4,0,1,349256,13.4167,,C\\n693,1,3,\"Lam, Mr. Ali\",male,,0,0,1601,56.4958,,S\\n694,0,3,\"Saad, Mr. Khalil\",male,25,0,0,2672,7.225,,C\\n695,0,1,\"Weir, Col. John\",male,60,0,0,113800,26.55,,S\\n696,0,2,\"Chapman, Mr. Charles Henry\",male,52,0,0,248731,13.5,,S\\n697,0,3,\"Kelly, Mr. James\",male,44,0,0,363592,8.05,,S\\n698,1,3,\"Mullens, Miss. Katherine \"\"Katie\"\"\",female,,0,0,35852,7.7333,,Q\\n699,0,1,\"Thayer, Mr. John Borland\",male,49,1,1,17421,110.8833,C68,C\\n700,0,3,\"Humblen, Mr. Adolf Mathias Nicolai Olsen\",male,42,0,0,348121,7.65,F G63,S\\n701,1,1,\"Astor, Mrs. John Jacob (Madeleine Talmadge Force)\",female,18,1,0,PC 17757,227.525,C62 C64,C\\n702,1,1,\"Silverthorne, Mr. Spencer Victor\",male,35,0,0,PC 17475,26.2875,E24,S\\n703,0,3,\"Barbara, Miss. Saiide\",female,18,0,1,2691,14.4542,,C\\n704,0,3,\"Gallagher, Mr. Martin\",male,25,0,0,36864,7.7417,,Q\\n705,0,3,\"Hansen, Mr. Henrik Juul\",male,26,1,0,350025,7.8542,,S\\n706,0,2,\"Morley, Mr. Henry Samuel (\"\"Mr Henry Marshall\"\")\",male,39,0,0,250655,26,,S\\n707,1,2,\"Kelly, Mrs. Florence \"\"Fannie\"\"\",female,45,0,0,223596,13.5,,S\\n708,1,1,\"Calderhead, Mr. Edward Pennington\",male,42,0,0,PC 17476,26.2875,E24,S\\n709,1,1,\"Cleaver, Miss. Alice\",female,22,0,0,113781,151.55,,S\\n710,1,3,\"Moubarek, Master. Halim Gonios (\"\"William George\"\")\",male,,1,1,2661,15.2458,,C\\n711,1,1,\"Mayne, Mlle. Berthe Antonine (\"\"Mrs de Villiers\"\")\",female,24,0,0,PC 17482,49.5042,C90,C\\n712,0,1,\"Klaber, Mr. Herman\",male,,0,0,113028,26.55,C124,S\\n713,1,1,\"Taylor, Mr. Elmer Zebley\",male,48,1,0,19996,52,C126,S\\n714,0,3,\"Larsson, Mr. August Viktor\",male,29,0,0,7545,9.4833,,S\\n715,0,2,\"Greenberg, Mr. Samuel\",male,52,0,0,250647,13,,S\\n716,0,3,\"Soholt, Mr. Peter Andreas Lauritz Andersen\",male,19,0,0,348124,7.65,F G73,S\\n717,1,1,\"Endres, Miss. Caroline Louise\",female,38,0,0,PC 17757,227.525,C45,C\\n718,1,2,\"Troutt, Miss. Edwina Celia \"\"Winnie\"\"\",female,27,0,0,34218,10.5,E101,S\\n719,0,3,\"McEvoy, Mr. Michael\",male,,0,0,36568,15.5,,Q\\n720,0,3,\"Johnson, Mr. Malkolm Joackim\",male,33,0,0,347062,7.775,,S\\n721,1,2,\"Harper, Miss. Annie Jessie \"\"Nina\"\"\",female,6,0,1,248727,33,,S\\n722,0,3,\"Jensen, Mr. Svend Lauritz\",male,17,1,0,350048,7.0542,,S\\n723,0,2,\"Gillespie, Mr. William Henry\",male,34,0,0,12233,13,,S\\n724,0,2,\"Hodges, Mr. Henry Price\",male,50,0,0,250643,13,,S\\n725,1,1,\"Chambers, Mr. Norman Campbell\",male,27,1,0,113806,53.1,E8,S\\n726,0,3,\"Oreskovic, Mr. Luka\",male,20,0,0,315094,8.6625,,S\\n727,1,2,\"Renouf, Mrs. Peter Henry (Lillian Jefferys)\",female,30,3,0,31027,21,,S\\n728,1,3,\"Mannion, Miss. Margareth\",female,,0,0,36866,7.7375,,Q\\n729,0,2,\"Bryhl, Mr. Kurt Arnold Gottfrid\",male,25,1,0,236853,26,,S\\n730,0,3,\"Ilmakangas, Miss. Pieta Sofia\",female,25,1,0,STON/O2. 3101271,7.925,,S\\n731,1,1,\"Allen, Miss. Elisabeth Walton\",female,29,0,0,24160,211.3375,B5,S\\n732,0,3,\"Hassan, Mr. Houssein G N\",male,11,0,0,2699,18.7875,,C\\n733,0,2,\"Knight, Mr. Robert J\",male,,0,0,239855,0,,S\\n734,0,2,\"Berriman, Mr. William John\",male,23,0,0,28425,13,,S\\n735,0,2,\"Troupiansky, Mr. Moses Aaron\",male,23,0,0,233639,13,,S\\n736,0,3,\"Williams, Mr. Leslie\",male,28.5,0,0,54636,16.1,,S\\n737,0,3,\"Ford, Mrs. Edward (Margaret Ann Watson)\",female,48,1,3,W./C. 6608,34.375,,S\\n738,1,1,\"Lesurer, Mr. Gustave J\",male,35,0,0,PC 17755,512.3292,B101,C\\n739,0,3,\"Ivanoff, Mr. Kanio\",male,,0,0,349201,7.8958,,S\\n740,0,3,\"Nankoff, Mr. Minko\",male,,0,0,349218,7.8958,,S\\n741,1,1,\"Hawksford, Mr. Walter James\",male,,0,0,16988,30,D45,S\\n742,0,1,\"Cavendish, Mr. Tyrell William\",male,36,1,0,19877,78.85,C46,S\\n743,1,1,\"Ryerson, Miss. Susan Parker \"\"Suzette\"\"\",female,21,2,2,PC 17608,262.375,B57 B59 B63 B66,C\\n744,0,3,\"McNamee, Mr. Neal\",male,24,1,0,376566,16.1,,S\\n745,1,3,\"Stranden, Mr. Juho\",male,31,0,0,STON/O 2. 3101288,7.925,,S\\n746,0,1,\"Crosby, Capt. Edward Gifford\",male,70,1,1,WE/P 5735,71,B22,S\\n747,0,3,\"Abbott, Mr. Rossmore Edward\",male,16,1,1,C.A. 2673,20.25,,S\\n748,1,2,\"Sinkkonen, Miss. Anna\",female,30,0,0,250648,13,,S\\n749,0,1,\"Marvin, Mr. Daniel Warner\",male,19,1,0,113773,53.1,D30,S\\n750,0,3,\"Connaghton, Mr. Michael\",male,31,0,0,335097,7.75,,Q\\n751,1,2,\"Wells, Miss. Joan\",female,4,1,1,29103,23,,S\\n752,1,3,\"Moor, Master. Meier\",male,6,0,1,392096,12.475,E121,S\\n753,0,3,\"Vande Velde, Mr. Johannes Joseph\",male,33,0,0,345780,9.5,,S\\n754,0,3,\"Jonkoff, Mr. Lalio\",male,23,0,0,349204,7.8958,,S\\n755,1,2,\"Herman, Mrs. Samuel (Jane Laver)\",female,48,1,2,220845,65,,S\\n756,1,2,\"Hamalainen, Master. Viljo\",male,0.67,1,1,250649,14.5,,S\\n757,0,3,\"Carlsson, Mr. August Sigfrid\",male,28,0,0,350042,7.7958,,S\\n758,0,2,\"Bailey, Mr. Percy Andrew\",male,18,0,0,29108,11.5,,S\\n759,0,3,\"Theobald, Mr. Thomas Leonard\",male,34,0,0,363294,8.05,,S\\n760,1,1,\"Rothes, the Countess. of (Lucy Noel Martha Dyer-Edwards)\",female,33,0,0,110152,86.5,B77,S\\n761,0,3,\"Garfirth, Mr. John\",male,,0,0,358585,14.5,,S\\n762,0,3,\"Nirva, Mr. Iisakki Antino Aijo\",male,41,0,0,SOTON/O2 3101272,7.125,,S\\n763,1,3,\"Barah, Mr. Hanna Assi\",male,20,0,0,2663,7.2292,,C\\n764,1,1,\"Carter, Mrs. William Ernest (Lucile Polk)\",female,36,1,2,113760,120,B96 B98,S\\n765,0,3,\"Eklund, Mr. Hans Linus\",male,16,0,0,347074,7.775,,S\\n766,1,1,\"Hogeboom, Mrs. John C (Anna Andrews)\",female,51,1,0,13502,77.9583,D11,S\\n767,0,1,\"Brewe, Dr. Arthur Jackson\",male,,0,0,112379,39.6,,C\\n768,0,3,\"Mangan, Miss. Mary\",female,30.5,0,0,364850,7.75,,Q\\n769,0,3,\"Moran, Mr. Daniel J\",male,,1,0,371110,24.15,,Q\\n770,0,3,\"Gronnestad, Mr. Daniel Danielsen\",male,32,0,0,8471,8.3625,,S\\n771,0,3,\"Lievens, Mr. Rene Aime\",male,24,0,0,345781,9.5,,S\\n772,0,3,\"Jensen, Mr. Niels Peder\",male,48,0,0,350047,7.8542,,S\\n773,0,2,\"Mack, Mrs. (Mary)\",female,57,0,0,S.O./P.P. 3,10.5,E77,S\\n774,0,3,\"Elias, Mr. Dibo\",male,,0,0,2674,7.225,,C\\n775,1,2,\"Hocking, Mrs. Elizabeth (Eliza Needs)\",female,54,1,3,29105,23,,S\\n776,0,3,\"Myhrman, Mr. Pehr Fabian Oliver Malkolm\",male,18,0,0,347078,7.75,,S\\n777,0,3,\"Tobin, Mr. Roger\",male,,0,0,383121,7.75,F38,Q\\n778,1,3,\"Emanuel, Miss. Virginia Ethel\",female,5,0,0,364516,12.475,,S\\n779,0,3,\"Kilgannon, Mr. Thomas J\",male,,0,0,36865,7.7375,,Q\\n780,1,1,\"Robert, Mrs. Edward Scott (Elisabeth Walton McMillan)\",female,43,0,1,24160,211.3375,B3,S\\n781,1,3,\"Ayoub, Miss. Banoura\",female,13,0,0,2687,7.2292,,C\\n782,1,1,\"Dick, Mrs. Albert Adrian (Vera Gillespie)\",female,17,1,0,17474,57,B20,S\\n783,0,1,\"Long, Mr. Milton Clyde\",male,29,0,0,113501,30,D6,S\\n784,0,3,\"Johnston, Mr. Andrew G\",male,,1,2,W./C. 6607,23.45,,S\\n785,0,3,\"Ali, Mr. William\",male,25,0,0,SOTON/O.Q. 3101312,7.05,,S\\n786,0,3,\"Harmer, Mr. Abraham (David Lishin)\",male,25,0,0,374887,7.25,,S\\n787,1,3,\"Sjoblom, Miss. Anna Sofia\",female,18,0,0,3101265,7.4958,,S\\n788,0,3,\"Rice, Master. George Hugh\",male,8,4,1,382652,29.125,,Q\\n789,1,3,\"Dean, Master. Bertram Vere\",male,1,1,2,C.A. 2315,20.575,,S\\n790,0,1,\"Guggenheim, Mr. Benjamin\",male,46,0,0,PC 17593,79.2,B82 B84,C\\n791,0,3,\"Keane, Mr. Andrew \"\"Andy\"\"\",male,,0,0,12460,7.75,,Q\\n792,0,2,\"Gaskell, Mr. Alfred\",male,16,0,0,239865,26,,S\\n793,0,3,\"Sage, Miss. Stella Anna\",female,,8,2,CA. 2343,69.55,,S\\n794,0,1,\"Hoyt, Mr. William Fisher\",male,,0,0,PC 17600,30.6958,,C\\n795,0,3,\"Dantcheff, Mr. Ristiu\",male,25,0,0,349203,7.8958,,S\\n796,0,2,\"Otter, Mr. Richard\",male,39,0,0,28213,13,,S\\n797,1,1,\"Leader, Dr. Alice (Farnham)\",female,49,0,0,17465,25.9292,D17,S\\n798,1,3,\"Osman, Mrs. Mara\",female,31,0,0,349244,8.6833,,S\\n799,0,3,\"Ibrahim Shawah, Mr. Yousseff\",male,30,0,0,2685,7.2292,,C\\n800,0,3,\"Van Impe, Mrs. Jean Baptiste (Rosalie Paula Govaert)\",female,30,1,1,345773,24.15,,S\\n801,0,2,\"Ponesell, Mr. Martin\",male,34,0,0,250647,13,,S\\n802,1,2,\"Collyer, Mrs. Harvey (Charlotte Annie Tate)\",female,31,1,1,C.A. 31921,26.25,,S\\n803,1,1,\"Carter, Master. William Thornton II\",male,11,1,2,113760,120,B96 B98,S\\n804,1,3,\"Thomas, Master. Assad Alexander\",male,0.42,0,1,2625,8.5167,,C\\n805,1,3,\"Hedman, Mr. Oskar Arvid\",male,27,0,0,347089,6.975,,S\\n806,0,3,\"Johansson, Mr. Karl Johan\",male,31,0,0,347063,7.775,,S\\n807,0,1,\"Andrews, Mr. Thomas Jr\",male,39,0,0,112050,0,A36,S\\n808,0,3,\"Pettersson, Miss. Ellen Natalia\",female,18,0,0,347087,7.775,,S\\n809,0,2,\"Meyer, Mr. August\",male,39,0,0,248723,13,,S\\n810,1,1,\"Chambers, Mrs. Norman Campbell (Bertha Griggs)\",female,33,1,0,113806,53.1,E8,S\\n811,0,3,\"Alexander, Mr. William\",male,26,0,0,3474,7.8875,,S\\n812,0,3,\"Lester, Mr. James\",male,39,0,0,A/4 48871,24.15,,S\\n813,0,2,\"Slemen, Mr. Richard James\",male,35,0,0,28206,10.5,,S\\n814,0,3,\"Andersson, Miss. Ebba Iris Alfrida\",female,6,4,2,347082,31.275,,S\\n815,0,3,\"Tomlin, Mr. Ernest Portage\",male,30.5,0,0,364499,8.05,,S\\n816,0,1,\"Fry, Mr. Richard\",male,,0,0,112058,0,B102,S\\n817,0,3,\"Heininen, Miss. Wendla Maria\",female,23,0,0,STON/O2. 3101290,7.925,,S\\n818,0,2,\"Mallet, Mr. Albert\",male,31,1,1,S.C./PARIS 2079,37.0042,,C\\n819,0,3,\"Holm, Mr. John Fredrik Alexander\",male,43,0,0,C 7075,6.45,,S\\n820,0,3,\"Skoog, Master. Karl Thorsten\",male,10,3,2,347088,27.9,,S\\n821,1,1,\"Hays, Mrs. Charles Melville (Clara Jennings Gregg)\",female,52,1,1,12749,93.5,B69,S\\n822,1,3,\"Lulic, Mr. Nikola\",male,27,0,0,315098,8.6625,,S\\n823,0,1,\"Reuchlin, Jonkheer. John George\",male,38,0,0,19972,0,,S\\n824,1,3,\"Moor, Mrs. (Beila)\",female,27,0,1,392096,12.475,E121,S\\n825,0,3,\"Panula, Master. Urho Abraham\",male,2,4,1,3101295,39.6875,,S\\n826,0,3,\"Flynn, Mr. John\",male,,0,0,368323,6.95,,Q\\n827,0,3,\"Lam, Mr. Len\",male,,0,0,1601,56.4958,,S\\n828,1,2,\"Mallet, Master. Andre\",male,1,0,2,S.C./PARIS 2079,37.0042,,C\\n829,1,3,\"McCormack, Mr. Thomas Joseph\",male,,0,0,367228,7.75,,Q\\n830,1,1,\"Stone, Mrs. George Nelson (Martha Evelyn)\",female,62,0,0,113572,80,B28,\\n831,1,3,\"Yasbeck, Mrs. Antoni (Selini Alexander)\",female,15,1,0,2659,14.4542,,C\\n832,1,2,\"Richards, Master. George Sibley\",male,0.83,1,1,29106,18.75,,S\\n833,0,3,\"Saad, Mr. Amin\",male,,0,0,2671,7.2292,,C\\n834,0,3,\"Augustsson, Mr. Albert\",male,23,0,0,347468,7.8542,,S\\n835,0,3,\"Allum, Mr. Owen George\",male,18,0,0,2223,8.3,,S\\n836,1,1,\"Compton, Miss. Sara Rebecca\",female,39,1,1,PC 17756,83.1583,E49,C\\n837,0,3,\"Pasic, Mr. Jakob\",male,21,0,0,315097,8.6625,,S\\n838,0,3,\"Sirota, Mr. Maurice\",male,,0,0,392092,8.05,,S\\n839,1,3,\"Chip, Mr. Chang\",male,32,0,0,1601,56.4958,,S\\n840,1,1,\"Marechal, Mr. Pierre\",male,,0,0,11774,29.7,C47,C\\n841,0,3,\"Alhomaki, Mr. Ilmari Rudolf\",male,20,0,0,SOTON/O2 3101287,7.925,,S\\n842,0,2,\"Mudd, Mr. Thomas Charles\",male,16,0,0,S.O./P.P. 3,10.5,,S\\n843,1,1,\"Serepeca, Miss. Augusta\",female,30,0,0,113798,31,,C\\n844,0,3,\"Lemberopolous, Mr. Peter L\",male,34.5,0,0,2683,6.4375,,C\\n845,0,3,\"Culumovic, Mr. Jeso\",male,17,0,0,315090,8.6625,,S\\n846,0,3,\"Abbing, Mr. Anthony\",male,42,0,0,C.A. 5547,7.55,,S\\n847,0,3,\"Sage, Mr. Douglas Bullen\",male,,8,2,CA. 2343,69.55,,S\\n848,0,3,\"Markoff, Mr. Marin\",male,35,0,0,349213,7.8958,,C\\n849,0,2,\"Harper, Rev. John\",male,28,0,1,248727,33,,S\\n850,1,1,\"Goldenberg, Mrs. Samuel L (Edwiga Grabowska)\",female,,1,0,17453,89.1042,C92,C\\n851,0,3,\"Andersson, Master. Sigvard Harald Elias\",male,4,4,2,347082,31.275,,S\\n852,0,3,\"Svensson, Mr. Johan\",male,74,0,0,347060,7.775,,S\\n853,0,3,\"Boulos, Miss. Nourelain\",female,9,1,1,2678,15.2458,,C\\n854,1,1,\"Lines, Miss. Mary Conover\",female,16,0,1,PC 17592,39.4,D28,S\\n855,0,2,\"Carter, Mrs. Ernest Courtenay (Lilian Hughes)\",female,44,1,0,244252,26,,S\\n856,1,3,\"Aks, Mrs. Sam (Leah Rosen)\",female,18,0,1,392091,9.35,,S\\n857,1,1,\"Wick, Mrs. George Dennick (Mary Hitchcock)\",female,45,1,1,36928,164.8667,,S\\n858,1,1,\"Daly, Mr. Peter Denis \",male,51,0,0,113055,26.55,E17,S\\n859,1,3,\"Baclini, Mrs. Solomon (Latifa Qurban)\",female,24,0,3,2666,19.2583,,C\\n860,0,3,\"Razi, Mr. Raihed\",male,,0,0,2629,7.2292,,C\\n861,0,3,\"Hansen, Mr. Claus Peter\",male,41,2,0,350026,14.1083,,S\\n862,0,2,\"Giles, Mr. Frederick Edward\",male,21,1,0,28134,11.5,,S\\n863,1,1,\"Swift, Mrs. Frederick Joel (Margaret Welles Barron)\",female,48,0,0,17466,25.9292,D17,S\\n864,0,3,\"Sage, Miss. Dorothy Edith \"\"Dolly\"\"\",female,,8,2,CA. 2343,69.55,,S\\n865,0,2,\"Gill, Mr. John William\",male,24,0,0,233866,13,,S\\n866,1,2,\"Bystrom, Mrs. (Karolina)\",female,42,0,0,236852,13,,S\\n867,1,2,\"Duran y More, Miss. Asuncion\",female,27,1,0,SC/PARIS 2149,13.8583,,C\\n868,0,1,\"Roebling, Mr. Washington Augustus II\",male,31,0,0,PC 17590,50.4958,A24,S\\n869,0,3,\"van Melkebeke, Mr. Philemon\",male,,0,0,345777,9.5,,S\\n870,1,3,\"Johnson, Master. Harold Theodor\",male,4,1,1,347742,11.1333,,S\\n871,0,3,\"Balkic, Mr. Cerin\",male,26,0,0,349248,7.8958,,S\\n872,1,1,\"Beckwith, Mrs. Richard Leonard (Sallie Monypeny)\",female,47,1,1,11751,52.5542,D35,S\\n873,0,1,\"Carlsson, Mr. Frans Olof\",male,33,0,0,695,5,B51 B53 B55,S\\n874,0,3,\"Vander Cruyssen, Mr. Victor\",male,47,0,0,345765,9,,S\\n875,1,2,\"Abelson, Mrs. Samuel (Hannah Wizosky)\",female,28,1,0,P/PP 3381,24,,C\\n876,1,3,\"Najib, Miss. Adele Kiamie \"\"Jane\"\"\",female,15,0,0,2667,7.225,,C\\n877,0,3,\"Gustafsson, Mr. Alfred Ossian\",male,20,0,0,7534,9.8458,,S\\n878,0,3,\"Petroff, Mr. Nedelio\",male,19,0,0,349212,7.8958,,S\\n879,0,3,\"Laleff, Mr. Kristo\",male,,0,0,349217,7.8958,,S\\n880,1,1,\"Potter, Mrs. Thomas Jr (Lily Alexenia Wilson)\",female,56,0,1,11767,83.1583,C50,C\\n881,1,2,\"Shelley, Mrs. William (Imanita Parrish Hall)\",female,25,0,1,230433,26,,S\\n882,0,3,\"Markun, Mr. Johann\",male,33,0,0,349257,7.8958,,S\\n883,0,3,\"Dahlberg, Miss. Gerda Ulrika\",female,22,0,0,7552,10.5167,,S\\n884,0,2,\"Banfield, Mr. Frederick James\",male,28,0,0,C.A./SOTON 34068,10.5,,S\\n885,0,3,\"Sutehall, Mr. Henry Jr\",male,25,0,0,SOTON/OQ 392076,7.05,,S\\n886,0,3,\"Rice, Mrs. William (Margaret Norton)\",female,39,0,5,382652,29.125,,Q\\n887,0,2,\"Montvila, Rev. Juozas\",male,27,0,0,211536,13,,S\\n888,1,1,\"Graham, Miss. Margaret Edith\",female,19,0,0,112053,30,B42,S\\n889,0,3,\"Johnston, Miss. Catherine Helen \"\"Carrie\"\"\",female,,1,2,W./C. 6607,23.45,,S\\n890,1,1,\"Behr, Mr. Karl Howell\",male,26,0,0,111369,30,C148,C\\n891,0,3,\"Dooley, Mr. Patrick\",male,32,0,0,370376,7.75,,Q\\n'}"
      ]
     },
     "execution_count": 43,
     "metadata": {
      "tags": []
     },
     "output_type": "execute_result"
    }
   ],
   "source": [
    "files.upload()"
   ]
  },
  {
   "cell_type": "code",
   "execution_count": null,
   "metadata": {
    "colab": {
     "base_uri": "https://localhost:8080/",
     "height": 202
    },
    "colab_type": "code",
    "id": "9BYQFbMKPVqs",
    "outputId": "7777c2fc-b710-4b55-bfd9-d54114961327"
   },
   "outputs": [
    {
     "data": {
      "text/html": [
       "<div>\n",
       "<style scoped>\n",
       "    .dataframe tbody tr th:only-of-type {\n",
       "        vertical-align: middle;\n",
       "    }\n",
       "\n",
       "    .dataframe tbody tr th {\n",
       "        vertical-align: top;\n",
       "    }\n",
       "\n",
       "    .dataframe thead th {\n",
       "        text-align: right;\n",
       "    }\n",
       "</style>\n",
       "<table border=\"1\" class=\"dataframe\">\n",
       "  <thead>\n",
       "    <tr style=\"text-align: right;\">\n",
       "      <th></th>\n",
       "      <th>PassengerId</th>\n",
       "      <th>Survived</th>\n",
       "      <th>Pclass</th>\n",
       "      <th>Name</th>\n",
       "      <th>Sex</th>\n",
       "      <th>Age</th>\n",
       "      <th>SibSp</th>\n",
       "      <th>Parch</th>\n",
       "      <th>Ticket</th>\n",
       "      <th>Fare</th>\n",
       "      <th>Cabin</th>\n",
       "      <th>Embarked</th>\n",
       "    </tr>\n",
       "  </thead>\n",
       "  <tbody>\n",
       "    <tr>\n",
       "      <th>0</th>\n",
       "      <td>1</td>\n",
       "      <td>0</td>\n",
       "      <td>3</td>\n",
       "      <td>Braund, Mr. Owen Harris</td>\n",
       "      <td>male</td>\n",
       "      <td>22.0</td>\n",
       "      <td>1</td>\n",
       "      <td>0</td>\n",
       "      <td>A/5 21171</td>\n",
       "      <td>7.2500</td>\n",
       "      <td>NaN</td>\n",
       "      <td>S</td>\n",
       "    </tr>\n",
       "    <tr>\n",
       "      <th>1</th>\n",
       "      <td>2</td>\n",
       "      <td>1</td>\n",
       "      <td>1</td>\n",
       "      <td>Cumings, Mrs. John Bradley (Florence Briggs Th...</td>\n",
       "      <td>female</td>\n",
       "      <td>38.0</td>\n",
       "      <td>1</td>\n",
       "      <td>0</td>\n",
       "      <td>PC 17599</td>\n",
       "      <td>71.2833</td>\n",
       "      <td>C85</td>\n",
       "      <td>C</td>\n",
       "    </tr>\n",
       "    <tr>\n",
       "      <th>2</th>\n",
       "      <td>3</td>\n",
       "      <td>1</td>\n",
       "      <td>3</td>\n",
       "      <td>Heikkinen, Miss. Laina</td>\n",
       "      <td>female</td>\n",
       "      <td>26.0</td>\n",
       "      <td>0</td>\n",
       "      <td>0</td>\n",
       "      <td>STON/O2. 3101282</td>\n",
       "      <td>7.9250</td>\n",
       "      <td>NaN</td>\n",
       "      <td>S</td>\n",
       "    </tr>\n",
       "    <tr>\n",
       "      <th>3</th>\n",
       "      <td>4</td>\n",
       "      <td>1</td>\n",
       "      <td>1</td>\n",
       "      <td>Futrelle, Mrs. Jacques Heath (Lily May Peel)</td>\n",
       "      <td>female</td>\n",
       "      <td>35.0</td>\n",
       "      <td>1</td>\n",
       "      <td>0</td>\n",
       "      <td>113803</td>\n",
       "      <td>53.1000</td>\n",
       "      <td>C123</td>\n",
       "      <td>S</td>\n",
       "    </tr>\n",
       "    <tr>\n",
       "      <th>4</th>\n",
       "      <td>5</td>\n",
       "      <td>0</td>\n",
       "      <td>3</td>\n",
       "      <td>Allen, Mr. William Henry</td>\n",
       "      <td>male</td>\n",
       "      <td>35.0</td>\n",
       "      <td>0</td>\n",
       "      <td>0</td>\n",
       "      <td>373450</td>\n",
       "      <td>8.0500</td>\n",
       "      <td>NaN</td>\n",
       "      <td>S</td>\n",
       "    </tr>\n",
       "  </tbody>\n",
       "</table>\n",
       "</div>"
      ],
      "text/plain": [
       "   PassengerId  Survived  Pclass  ...     Fare Cabin  Embarked\n",
       "0            1         0       3  ...   7.2500   NaN         S\n",
       "1            2         1       1  ...  71.2833   C85         C\n",
       "2            3         1       3  ...   7.9250   NaN         S\n",
       "3            4         1       1  ...  53.1000  C123         S\n",
       "4            5         0       3  ...   8.0500   NaN         S\n",
       "\n",
       "[5 rows x 12 columns]"
      ]
     },
     "execution_count": 44,
     "metadata": {
      "tags": []
     },
     "output_type": "execute_result"
    }
   ],
   "source": [
    "titanic_data = pd.read_csv('titanic-train.csv.txt')\n",
    "titanic_data.head()"
   ]
  },
  {
   "cell_type": "code",
   "execution_count": null,
   "metadata": {
    "colab": {
     "base_uri": "https://localhost:8080/",
     "height": 312
    },
    "colab_type": "code",
    "id": "qZkKZIpIPu8F",
    "outputId": "bdf2311f-ef86-40fa-816a-ac48b8f67cb7"
   },
   "outputs": [
    {
     "name": "stdout",
     "output_type": "stream",
     "text": [
      "<class 'pandas.core.frame.DataFrame'>\n",
      "RangeIndex: 891 entries, 0 to 890\n",
      "Data columns (total 12 columns):\n",
      "PassengerId    891 non-null int64\n",
      "Survived       891 non-null int64\n",
      "Pclass         891 non-null int64\n",
      "Name           891 non-null object\n",
      "Sex            891 non-null object\n",
      "Age            714 non-null float64\n",
      "SibSp          891 non-null int64\n",
      "Parch          891 non-null int64\n",
      "Ticket         891 non-null object\n",
      "Fare           891 non-null float64\n",
      "Cabin          204 non-null object\n",
      "Embarked       889 non-null object\n",
      "dtypes: float64(2), int64(5), object(5)\n",
      "memory usage: 83.6+ KB\n"
     ]
    }
   ],
   "source": [
    "titanic_data.info()"
   ]
  },
  {
   "cell_type": "code",
   "execution_count": null,
   "metadata": {
    "colab": {},
    "colab_type": "code",
    "id": "C1sY2Ka4P1Bc"
   },
   "outputs": [],
   "source": [
    "titanic_data.drop(['Cabin'],axis=1,inplace=True)"
   ]
  },
  {
   "cell_type": "code",
   "execution_count": null,
   "metadata": {
    "colab": {
     "base_uri": "https://localhost:8080/",
     "height": 202
    },
    "colab_type": "code",
    "id": "i8jHu91L6LI9",
    "outputId": "f8764dc6-42d0-4b90-ad5e-3066f48d5cd1"
   },
   "outputs": [
    {
     "data": {
      "text/html": [
       "<div>\n",
       "<style scoped>\n",
       "    .dataframe tbody tr th:only-of-type {\n",
       "        vertical-align: middle;\n",
       "    }\n",
       "\n",
       "    .dataframe tbody tr th {\n",
       "        vertical-align: top;\n",
       "    }\n",
       "\n",
       "    .dataframe thead th {\n",
       "        text-align: right;\n",
       "    }\n",
       "</style>\n",
       "<table border=\"1\" class=\"dataframe\">\n",
       "  <thead>\n",
       "    <tr style=\"text-align: right;\">\n",
       "      <th></th>\n",
       "      <th>PassengerId</th>\n",
       "      <th>Survived</th>\n",
       "      <th>Pclass</th>\n",
       "      <th>Name</th>\n",
       "      <th>Sex</th>\n",
       "      <th>Age</th>\n",
       "      <th>SibSp</th>\n",
       "      <th>Parch</th>\n",
       "      <th>Ticket</th>\n",
       "      <th>Fare</th>\n",
       "      <th>Embarked</th>\n",
       "    </tr>\n",
       "  </thead>\n",
       "  <tbody>\n",
       "    <tr>\n",
       "      <th>0</th>\n",
       "      <td>1</td>\n",
       "      <td>0</td>\n",
       "      <td>3</td>\n",
       "      <td>Braund, Mr. Owen Harris</td>\n",
       "      <td>male</td>\n",
       "      <td>22.0</td>\n",
       "      <td>1</td>\n",
       "      <td>0</td>\n",
       "      <td>A/5 21171</td>\n",
       "      <td>7.2500</td>\n",
       "      <td>S</td>\n",
       "    </tr>\n",
       "    <tr>\n",
       "      <th>1</th>\n",
       "      <td>2</td>\n",
       "      <td>1</td>\n",
       "      <td>1</td>\n",
       "      <td>Cumings, Mrs. John Bradley (Florence Briggs Th...</td>\n",
       "      <td>female</td>\n",
       "      <td>38.0</td>\n",
       "      <td>1</td>\n",
       "      <td>0</td>\n",
       "      <td>PC 17599</td>\n",
       "      <td>71.2833</td>\n",
       "      <td>C</td>\n",
       "    </tr>\n",
       "    <tr>\n",
       "      <th>2</th>\n",
       "      <td>3</td>\n",
       "      <td>1</td>\n",
       "      <td>3</td>\n",
       "      <td>Heikkinen, Miss. Laina</td>\n",
       "      <td>female</td>\n",
       "      <td>26.0</td>\n",
       "      <td>0</td>\n",
       "      <td>0</td>\n",
       "      <td>STON/O2. 3101282</td>\n",
       "      <td>7.9250</td>\n",
       "      <td>S</td>\n",
       "    </tr>\n",
       "    <tr>\n",
       "      <th>3</th>\n",
       "      <td>4</td>\n",
       "      <td>1</td>\n",
       "      <td>1</td>\n",
       "      <td>Futrelle, Mrs. Jacques Heath (Lily May Peel)</td>\n",
       "      <td>female</td>\n",
       "      <td>35.0</td>\n",
       "      <td>1</td>\n",
       "      <td>0</td>\n",
       "      <td>113803</td>\n",
       "      <td>53.1000</td>\n",
       "      <td>S</td>\n",
       "    </tr>\n",
       "    <tr>\n",
       "      <th>4</th>\n",
       "      <td>5</td>\n",
       "      <td>0</td>\n",
       "      <td>3</td>\n",
       "      <td>Allen, Mr. William Henry</td>\n",
       "      <td>male</td>\n",
       "      <td>35.0</td>\n",
       "      <td>0</td>\n",
       "      <td>0</td>\n",
       "      <td>373450</td>\n",
       "      <td>8.0500</td>\n",
       "      <td>S</td>\n",
       "    </tr>\n",
       "  </tbody>\n",
       "</table>\n",
       "</div>"
      ],
      "text/plain": [
       "   PassengerId  Survived  Pclass  ...            Ticket     Fare  Embarked\n",
       "0            1         0       3  ...         A/5 21171   7.2500         S\n",
       "1            2         1       1  ...          PC 17599  71.2833         C\n",
       "2            3         1       3  ...  STON/O2. 3101282   7.9250         S\n",
       "3            4         1       1  ...            113803  53.1000         S\n",
       "4            5         0       3  ...            373450   8.0500         S\n",
       "\n",
       "[5 rows x 11 columns]"
      ]
     },
     "execution_count": 47,
     "metadata": {
      "tags": []
     },
     "output_type": "execute_result"
    }
   ],
   "source": [
    "titanic_data.head()"
   ]
  },
  {
   "cell_type": "code",
   "execution_count": null,
   "metadata": {
    "colab": {
     "base_uri": "https://localhost:8080/",
     "height": 295
    },
    "colab_type": "code",
    "id": "qJ6eO2egP5Jc",
    "outputId": "b14c8890-b24e-4355-f3ca-c8c1a2644c45"
   },
   "outputs": [
    {
     "name": "stdout",
     "output_type": "stream",
     "text": [
      "<class 'pandas.core.frame.DataFrame'>\n",
      "RangeIndex: 891 entries, 0 to 890\n",
      "Data columns (total 11 columns):\n",
      "PassengerId    891 non-null int64\n",
      "Survived       891 non-null int64\n",
      "Pclass         891 non-null int64\n",
      "Name           891 non-null object\n",
      "Sex            891 non-null object\n",
      "Age            714 non-null float64\n",
      "SibSp          891 non-null int64\n",
      "Parch          891 non-null int64\n",
      "Ticket         891 non-null object\n",
      "Fare           891 non-null float64\n",
      "Embarked       889 non-null object\n",
      "dtypes: float64(2), int64(5), object(4)\n",
      "memory usage: 76.6+ KB\n"
     ]
    }
   ],
   "source": [
    "titanic_data.info()"
   ]
  },
  {
   "cell_type": "markdown",
   "metadata": {
    "colab_type": "text",
    "id": "quwd1Iw9REGs"
   },
   "source": [
    "Lets,  drop all rows with missing values\n",
    "\n",
    "We don't have inplace = True, so doesn't modify the dataframe"
   ]
  },
  {
   "cell_type": "code",
   "execution_count": null,
   "metadata": {
    "colab": {
     "base_uri": "https://localhost:8080/",
     "height": 295
    },
    "colab_type": "code",
    "id": "PBxR82XARIev",
    "outputId": "8c45d400-9961-45be-feaa-ab5264cdbea5"
   },
   "outputs": [
    {
     "name": "stdout",
     "output_type": "stream",
     "text": [
      "<class 'pandas.core.frame.DataFrame'>\n",
      "Int64Index: 712 entries, 0 to 890\n",
      "Data columns (total 11 columns):\n",
      "PassengerId    712 non-null int64\n",
      "Survived       712 non-null int64\n",
      "Pclass         712 non-null int64\n",
      "Name           712 non-null object\n",
      "Sex            712 non-null object\n",
      "Age            712 non-null float64\n",
      "SibSp          712 non-null int64\n",
      "Parch          712 non-null int64\n",
      "Ticket         712 non-null object\n",
      "Fare           712 non-null float64\n",
      "Embarked       712 non-null object\n",
      "dtypes: float64(2), int64(5), object(4)\n",
      "memory usage: 66.8+ KB\n"
     ]
    }
   ],
   "source": [
    "titanic_data.dropna().info()"
   ]
  },
  {
   "cell_type": "markdown",
   "metadata": {
    "colab_type": "text",
    "id": "i-N9ygAGRZ21"
   },
   "source": [
    "### Function Application\n",
    "Map for transforming one column to another\n",
    "\n",
    "Can be applied only to series"
   ]
  },
  {
   "cell_type": "code",
   "execution_count": null,
   "metadata": {
    "colab": {},
    "colab_type": "code",
    "id": "gy4E_n_IURHp"
   },
   "outputs": [],
   "source": [
    " titanic_data_age = titanic_data[titanic_data.Age.notnull()]"
   ]
  },
  {
   "cell_type": "code",
   "execution_count": null,
   "metadata": {
    "colab": {
     "base_uri": "https://localhost:8080/",
     "height": 295
    },
    "colab_type": "code",
    "id": "IOlJ8phv73b3",
    "outputId": "0de06eaf-6ad9-4399-9ecd-c19dd2a0e43d"
   },
   "outputs": [
    {
     "name": "stdout",
     "output_type": "stream",
     "text": [
      "<class 'pandas.core.frame.DataFrame'>\n",
      "Int64Index: 714 entries, 0 to 890\n",
      "Data columns (total 11 columns):\n",
      "PassengerId    714 non-null int64\n",
      "Survived       714 non-null int64\n",
      "Pclass         714 non-null int64\n",
      "Name           714 non-null object\n",
      "Sex            714 non-null object\n",
      "Age            714 non-null float64\n",
      "SibSp          714 non-null int64\n",
      "Parch          714 non-null int64\n",
      "Ticket         714 non-null object\n",
      "Fare           714 non-null float64\n",
      "Embarked       712 non-null object\n",
      "dtypes: float64(2), int64(5), object(4)\n",
      "memory usage: 66.9+ KB\n"
     ]
    }
   ],
   "source": [
    "titanic_data_age.info()"
   ]
  },
  {
   "cell_type": "code",
   "execution_count": null,
   "metadata": {
    "colab": {},
    "colab_type": "code",
    "id": "dmrwF1ZDUWWU"
   },
   "outputs": [],
   "source": [
    "titanic_data['age_category'] = titanic_data.Age.map(lambda age: 'Kid' if age < 18 else 'Adult')"
   ]
  },
  {
   "cell_type": "code",
   "execution_count": null,
   "metadata": {
    "colab": {
     "base_uri": "https://localhost:8080/",
     "height": 885
    },
    "colab_type": "code",
    "id": "0PtxorwVUYl4",
    "outputId": "c7111bb1-87d2-411f-b12e-4ed9e8aee63c"
   },
   "outputs": [
    {
     "data": {
      "text/html": [
       "<div>\n",
       "<style scoped>\n",
       "    .dataframe tbody tr th:only-of-type {\n",
       "        vertical-align: middle;\n",
       "    }\n",
       "\n",
       "    .dataframe tbody tr th {\n",
       "        vertical-align: top;\n",
       "    }\n",
       "\n",
       "    .dataframe thead th {\n",
       "        text-align: right;\n",
       "    }\n",
       "</style>\n",
       "<table border=\"1\" class=\"dataframe\">\n",
       "  <thead>\n",
       "    <tr style=\"text-align: right;\">\n",
       "      <th></th>\n",
       "      <th>PassengerId</th>\n",
       "      <th>Survived</th>\n",
       "      <th>Pclass</th>\n",
       "      <th>Name</th>\n",
       "      <th>Sex</th>\n",
       "      <th>Age</th>\n",
       "      <th>SibSp</th>\n",
       "      <th>Parch</th>\n",
       "      <th>Ticket</th>\n",
       "      <th>Fare</th>\n",
       "      <th>Embarked</th>\n",
       "      <th>age_category</th>\n",
       "    </tr>\n",
       "  </thead>\n",
       "  <tbody>\n",
       "    <tr>\n",
       "      <th>0</th>\n",
       "      <td>1</td>\n",
       "      <td>0</td>\n",
       "      <td>3</td>\n",
       "      <td>Braund, Mr. Owen Harris</td>\n",
       "      <td>male</td>\n",
       "      <td>22.0</td>\n",
       "      <td>1</td>\n",
       "      <td>0</td>\n",
       "      <td>A/5 21171</td>\n",
       "      <td>7.2500</td>\n",
       "      <td>S</td>\n",
       "      <td>Adult</td>\n",
       "    </tr>\n",
       "    <tr>\n",
       "      <th>1</th>\n",
       "      <td>2</td>\n",
       "      <td>1</td>\n",
       "      <td>1</td>\n",
       "      <td>Cumings, Mrs. John Bradley (Florence Briggs Th...</td>\n",
       "      <td>female</td>\n",
       "      <td>38.0</td>\n",
       "      <td>1</td>\n",
       "      <td>0</td>\n",
       "      <td>PC 17599</td>\n",
       "      <td>71.2833</td>\n",
       "      <td>C</td>\n",
       "      <td>Adult</td>\n",
       "    </tr>\n",
       "    <tr>\n",
       "      <th>2</th>\n",
       "      <td>3</td>\n",
       "      <td>1</td>\n",
       "      <td>3</td>\n",
       "      <td>Heikkinen, Miss. Laina</td>\n",
       "      <td>female</td>\n",
       "      <td>26.0</td>\n",
       "      <td>0</td>\n",
       "      <td>0</td>\n",
       "      <td>STON/O2. 3101282</td>\n",
       "      <td>7.9250</td>\n",
       "      <td>S</td>\n",
       "      <td>Adult</td>\n",
       "    </tr>\n",
       "    <tr>\n",
       "      <th>3</th>\n",
       "      <td>4</td>\n",
       "      <td>1</td>\n",
       "      <td>1</td>\n",
       "      <td>Futrelle, Mrs. Jacques Heath (Lily May Peel)</td>\n",
       "      <td>female</td>\n",
       "      <td>35.0</td>\n",
       "      <td>1</td>\n",
       "      <td>0</td>\n",
       "      <td>113803</td>\n",
       "      <td>53.1000</td>\n",
       "      <td>S</td>\n",
       "      <td>Adult</td>\n",
       "    </tr>\n",
       "    <tr>\n",
       "      <th>4</th>\n",
       "      <td>5</td>\n",
       "      <td>0</td>\n",
       "      <td>3</td>\n",
       "      <td>Allen, Mr. William Henry</td>\n",
       "      <td>male</td>\n",
       "      <td>35.0</td>\n",
       "      <td>0</td>\n",
       "      <td>0</td>\n",
       "      <td>373450</td>\n",
       "      <td>8.0500</td>\n",
       "      <td>S</td>\n",
       "      <td>Adult</td>\n",
       "    </tr>\n",
       "    <tr>\n",
       "      <th>5</th>\n",
       "      <td>6</td>\n",
       "      <td>0</td>\n",
       "      <td>3</td>\n",
       "      <td>Moran, Mr. James</td>\n",
       "      <td>male</td>\n",
       "      <td>NaN</td>\n",
       "      <td>0</td>\n",
       "      <td>0</td>\n",
       "      <td>330877</td>\n",
       "      <td>8.4583</td>\n",
       "      <td>Q</td>\n",
       "      <td>Adult</td>\n",
       "    </tr>\n",
       "    <tr>\n",
       "      <th>6</th>\n",
       "      <td>7</td>\n",
       "      <td>0</td>\n",
       "      <td>1</td>\n",
       "      <td>McCarthy, Mr. Timothy J</td>\n",
       "      <td>male</td>\n",
       "      <td>54.0</td>\n",
       "      <td>0</td>\n",
       "      <td>0</td>\n",
       "      <td>17463</td>\n",
       "      <td>51.8625</td>\n",
       "      <td>S</td>\n",
       "      <td>Adult</td>\n",
       "    </tr>\n",
       "    <tr>\n",
       "      <th>7</th>\n",
       "      <td>8</td>\n",
       "      <td>0</td>\n",
       "      <td>3</td>\n",
       "      <td>Palsson, Master. Gosta Leonard</td>\n",
       "      <td>male</td>\n",
       "      <td>2.0</td>\n",
       "      <td>3</td>\n",
       "      <td>1</td>\n",
       "      <td>349909</td>\n",
       "      <td>21.0750</td>\n",
       "      <td>S</td>\n",
       "      <td>Kid</td>\n",
       "    </tr>\n",
       "    <tr>\n",
       "      <th>8</th>\n",
       "      <td>9</td>\n",
       "      <td>1</td>\n",
       "      <td>3</td>\n",
       "      <td>Johnson, Mrs. Oscar W (Elisabeth Vilhelmina Berg)</td>\n",
       "      <td>female</td>\n",
       "      <td>27.0</td>\n",
       "      <td>0</td>\n",
       "      <td>2</td>\n",
       "      <td>347742</td>\n",
       "      <td>11.1333</td>\n",
       "      <td>S</td>\n",
       "      <td>Adult</td>\n",
       "    </tr>\n",
       "    <tr>\n",
       "      <th>9</th>\n",
       "      <td>10</td>\n",
       "      <td>1</td>\n",
       "      <td>2</td>\n",
       "      <td>Nasser, Mrs. Nicholas (Adele Achem)</td>\n",
       "      <td>female</td>\n",
       "      <td>14.0</td>\n",
       "      <td>1</td>\n",
       "      <td>0</td>\n",
       "      <td>237736</td>\n",
       "      <td>30.0708</td>\n",
       "      <td>C</td>\n",
       "      <td>Kid</td>\n",
       "    </tr>\n",
       "    <tr>\n",
       "      <th>10</th>\n",
       "      <td>11</td>\n",
       "      <td>1</td>\n",
       "      <td>3</td>\n",
       "      <td>Sandstrom, Miss. Marguerite Rut</td>\n",
       "      <td>female</td>\n",
       "      <td>4.0</td>\n",
       "      <td>1</td>\n",
       "      <td>1</td>\n",
       "      <td>PP 9549</td>\n",
       "      <td>16.7000</td>\n",
       "      <td>S</td>\n",
       "      <td>Kid</td>\n",
       "    </tr>\n",
       "    <tr>\n",
       "      <th>11</th>\n",
       "      <td>12</td>\n",
       "      <td>1</td>\n",
       "      <td>1</td>\n",
       "      <td>Bonnell, Miss. Elizabeth</td>\n",
       "      <td>female</td>\n",
       "      <td>58.0</td>\n",
       "      <td>0</td>\n",
       "      <td>0</td>\n",
       "      <td>113783</td>\n",
       "      <td>26.5500</td>\n",
       "      <td>S</td>\n",
       "      <td>Adult</td>\n",
       "    </tr>\n",
       "    <tr>\n",
       "      <th>12</th>\n",
       "      <td>13</td>\n",
       "      <td>0</td>\n",
       "      <td>3</td>\n",
       "      <td>Saundercock, Mr. William Henry</td>\n",
       "      <td>male</td>\n",
       "      <td>20.0</td>\n",
       "      <td>0</td>\n",
       "      <td>0</td>\n",
       "      <td>A/5. 2151</td>\n",
       "      <td>8.0500</td>\n",
       "      <td>S</td>\n",
       "      <td>Adult</td>\n",
       "    </tr>\n",
       "    <tr>\n",
       "      <th>13</th>\n",
       "      <td>14</td>\n",
       "      <td>0</td>\n",
       "      <td>3</td>\n",
       "      <td>Andersson, Mr. Anders Johan</td>\n",
       "      <td>male</td>\n",
       "      <td>39.0</td>\n",
       "      <td>1</td>\n",
       "      <td>5</td>\n",
       "      <td>347082</td>\n",
       "      <td>31.2750</td>\n",
       "      <td>S</td>\n",
       "      <td>Adult</td>\n",
       "    </tr>\n",
       "    <tr>\n",
       "      <th>14</th>\n",
       "      <td>15</td>\n",
       "      <td>0</td>\n",
       "      <td>3</td>\n",
       "      <td>Vestrom, Miss. Hulda Amanda Adolfina</td>\n",
       "      <td>female</td>\n",
       "      <td>14.0</td>\n",
       "      <td>0</td>\n",
       "      <td>0</td>\n",
       "      <td>350406</td>\n",
       "      <td>7.8542</td>\n",
       "      <td>S</td>\n",
       "      <td>Kid</td>\n",
       "    </tr>\n",
       "    <tr>\n",
       "      <th>15</th>\n",
       "      <td>16</td>\n",
       "      <td>1</td>\n",
       "      <td>2</td>\n",
       "      <td>Hewlett, Mrs. (Mary D Kingcome)</td>\n",
       "      <td>female</td>\n",
       "      <td>55.0</td>\n",
       "      <td>0</td>\n",
       "      <td>0</td>\n",
       "      <td>248706</td>\n",
       "      <td>16.0000</td>\n",
       "      <td>S</td>\n",
       "      <td>Adult</td>\n",
       "    </tr>\n",
       "    <tr>\n",
       "      <th>16</th>\n",
       "      <td>17</td>\n",
       "      <td>0</td>\n",
       "      <td>3</td>\n",
       "      <td>Rice, Master. Eugene</td>\n",
       "      <td>male</td>\n",
       "      <td>2.0</td>\n",
       "      <td>4</td>\n",
       "      <td>1</td>\n",
       "      <td>382652</td>\n",
       "      <td>29.1250</td>\n",
       "      <td>Q</td>\n",
       "      <td>Kid</td>\n",
       "    </tr>\n",
       "    <tr>\n",
       "      <th>17</th>\n",
       "      <td>18</td>\n",
       "      <td>1</td>\n",
       "      <td>2</td>\n",
       "      <td>Williams, Mr. Charles Eugene</td>\n",
       "      <td>male</td>\n",
       "      <td>NaN</td>\n",
       "      <td>0</td>\n",
       "      <td>0</td>\n",
       "      <td>244373</td>\n",
       "      <td>13.0000</td>\n",
       "      <td>S</td>\n",
       "      <td>Adult</td>\n",
       "    </tr>\n",
       "    <tr>\n",
       "      <th>18</th>\n",
       "      <td>19</td>\n",
       "      <td>0</td>\n",
       "      <td>3</td>\n",
       "      <td>Vander Planke, Mrs. Julius (Emelia Maria Vande...</td>\n",
       "      <td>female</td>\n",
       "      <td>31.0</td>\n",
       "      <td>1</td>\n",
       "      <td>0</td>\n",
       "      <td>345763</td>\n",
       "      <td>18.0000</td>\n",
       "      <td>S</td>\n",
       "      <td>Adult</td>\n",
       "    </tr>\n",
       "    <tr>\n",
       "      <th>19</th>\n",
       "      <td>20</td>\n",
       "      <td>1</td>\n",
       "      <td>3</td>\n",
       "      <td>Masselmani, Mrs. Fatima</td>\n",
       "      <td>female</td>\n",
       "      <td>NaN</td>\n",
       "      <td>0</td>\n",
       "      <td>0</td>\n",
       "      <td>2649</td>\n",
       "      <td>7.2250</td>\n",
       "      <td>C</td>\n",
       "      <td>Adult</td>\n",
       "    </tr>\n",
       "    <tr>\n",
       "      <th>20</th>\n",
       "      <td>21</td>\n",
       "      <td>0</td>\n",
       "      <td>2</td>\n",
       "      <td>Fynney, Mr. Joseph J</td>\n",
       "      <td>male</td>\n",
       "      <td>35.0</td>\n",
       "      <td>0</td>\n",
       "      <td>0</td>\n",
       "      <td>239865</td>\n",
       "      <td>26.0000</td>\n",
       "      <td>S</td>\n",
       "      <td>Adult</td>\n",
       "    </tr>\n",
       "    <tr>\n",
       "      <th>21</th>\n",
       "      <td>22</td>\n",
       "      <td>1</td>\n",
       "      <td>2</td>\n",
       "      <td>Beesley, Mr. Lawrence</td>\n",
       "      <td>male</td>\n",
       "      <td>34.0</td>\n",
       "      <td>0</td>\n",
       "      <td>0</td>\n",
       "      <td>248698</td>\n",
       "      <td>13.0000</td>\n",
       "      <td>S</td>\n",
       "      <td>Adult</td>\n",
       "    </tr>\n",
       "    <tr>\n",
       "      <th>22</th>\n",
       "      <td>23</td>\n",
       "      <td>1</td>\n",
       "      <td>3</td>\n",
       "      <td>McGowan, Miss. Anna \"Annie\"</td>\n",
       "      <td>female</td>\n",
       "      <td>15.0</td>\n",
       "      <td>0</td>\n",
       "      <td>0</td>\n",
       "      <td>330923</td>\n",
       "      <td>8.0292</td>\n",
       "      <td>Q</td>\n",
       "      <td>Kid</td>\n",
       "    </tr>\n",
       "    <tr>\n",
       "      <th>23</th>\n",
       "      <td>24</td>\n",
       "      <td>1</td>\n",
       "      <td>1</td>\n",
       "      <td>Sloper, Mr. William Thompson</td>\n",
       "      <td>male</td>\n",
       "      <td>28.0</td>\n",
       "      <td>0</td>\n",
       "      <td>0</td>\n",
       "      <td>113788</td>\n",
       "      <td>35.5000</td>\n",
       "      <td>S</td>\n",
       "      <td>Adult</td>\n",
       "    </tr>\n",
       "    <tr>\n",
       "      <th>24</th>\n",
       "      <td>25</td>\n",
       "      <td>0</td>\n",
       "      <td>3</td>\n",
       "      <td>Palsson, Miss. Torborg Danira</td>\n",
       "      <td>female</td>\n",
       "      <td>8.0</td>\n",
       "      <td>3</td>\n",
       "      <td>1</td>\n",
       "      <td>349909</td>\n",
       "      <td>21.0750</td>\n",
       "      <td>S</td>\n",
       "      <td>Kid</td>\n",
       "    </tr>\n",
       "  </tbody>\n",
       "</table>\n",
       "</div>"
      ],
      "text/plain": [
       "    PassengerId  Survived  Pclass  ...     Fare Embarked  age_category\n",
       "0             1         0       3  ...   7.2500        S         Adult\n",
       "1             2         1       1  ...  71.2833        C         Adult\n",
       "2             3         1       3  ...   7.9250        S         Adult\n",
       "3             4         1       1  ...  53.1000        S         Adult\n",
       "4             5         0       3  ...   8.0500        S         Adult\n",
       "5             6         0       3  ...   8.4583        Q         Adult\n",
       "6             7         0       1  ...  51.8625        S         Adult\n",
       "7             8         0       3  ...  21.0750        S           Kid\n",
       "8             9         1       3  ...  11.1333        S         Adult\n",
       "9            10         1       2  ...  30.0708        C           Kid\n",
       "10           11         1       3  ...  16.7000        S           Kid\n",
       "11           12         1       1  ...  26.5500        S         Adult\n",
       "12           13         0       3  ...   8.0500        S         Adult\n",
       "13           14         0       3  ...  31.2750        S         Adult\n",
       "14           15         0       3  ...   7.8542        S           Kid\n",
       "15           16         1       2  ...  16.0000        S         Adult\n",
       "16           17         0       3  ...  29.1250        Q           Kid\n",
       "17           18         1       2  ...  13.0000        S         Adult\n",
       "18           19         0       3  ...  18.0000        S         Adult\n",
       "19           20         1       3  ...   7.2250        C         Adult\n",
       "20           21         0       2  ...  26.0000        S         Adult\n",
       "21           22         1       2  ...  13.0000        S         Adult\n",
       "22           23         1       3  ...   8.0292        Q           Kid\n",
       "23           24         1       1  ...  35.5000        S         Adult\n",
       "24           25         0       3  ...  21.0750        S           Kid\n",
       "\n",
       "[25 rows x 12 columns]"
      ]
     },
     "execution_count": 54,
     "metadata": {
      "tags": []
     },
     "output_type": "execute_result"
    }
   ],
   "source": [
    "titanic_data.head(25)"
   ]
  },
  {
   "cell_type": "code",
   "execution_count": null,
   "metadata": {
    "colab": {
     "base_uri": "https://localhost:8080/",
     "height": 35
    },
    "colab_type": "code",
    "id": "OVZpsB6IU04l",
    "outputId": "7dd0c4f2-0c1f-4964-be25-6809e93b3913"
   },
   "outputs": [
    {
     "data": {
      "text/plain": [
       "21205.17"
      ]
     },
     "execution_count": 55,
     "metadata": {
      "tags": []
     },
     "output_type": "execute_result"
    }
   ],
   "source": [
    "titanic_data.Age.apply('sum')"
   ]
  },
  {
   "cell_type": "code",
   "execution_count": null,
   "metadata": {
    "colab": {
     "base_uri": "https://localhost:8080/",
     "height": 35
    },
    "colab_type": "code",
    "id": "9sBTOt6uU3Vn",
    "outputId": "5d5b0442-1dda-42a6-b9fa-be91332741ec"
   },
   "outputs": [
    {
     "data": {
      "text/plain": [
       "21205.17"
      ]
     },
     "execution_count": 56,
     "metadata": {
      "tags": []
     },
     "output_type": "execute_result"
    }
   ],
   "source": [
    "titanic_data_age.Age.apply('sum')"
   ]
  },
  {
   "cell_type": "code",
   "execution_count": null,
   "metadata": {
    "colab": {
     "base_uri": "https://localhost:8080/",
     "height": 1092
    },
    "colab_type": "code",
    "id": "jws_pcTqU-7b",
    "outputId": "1d8e92f0-bfa7-4919-838a-a4ea679dd1e6"
   },
   "outputs": [
    {
     "data": {
      "text/plain": [
       "0      Adult\n",
       "1      Adult\n",
       "2      Adult\n",
       "3      Adult\n",
       "4      Adult\n",
       "6      Adult\n",
       "7        Kid\n",
       "8      Adult\n",
       "9        Kid\n",
       "10       Kid\n",
       "11     Adult\n",
       "12     Adult\n",
       "13     Adult\n",
       "14       Kid\n",
       "15     Adult\n",
       "16       Kid\n",
       "18     Adult\n",
       "20     Adult\n",
       "21     Adult\n",
       "22       Kid\n",
       "23     Adult\n",
       "24       Kid\n",
       "25     Adult\n",
       "27     Adult\n",
       "30     Adult\n",
       "33     Adult\n",
       "34     Adult\n",
       "35     Adult\n",
       "37     Adult\n",
       "38     Adult\n",
       "       ...  \n",
       "91     Adult\n",
       "92     Adult\n",
       "93     Adult\n",
       "94     Adult\n",
       "96     Adult\n",
       "97     Adult\n",
       "98     Adult\n",
       "99     Adult\n",
       "100    Adult\n",
       "102    Adult\n",
       "103    Adult\n",
       "104    Adult\n",
       "105    Adult\n",
       "106    Adult\n",
       "108    Adult\n",
       "110    Adult\n",
       "111      Kid\n",
       "112    Adult\n",
       "113    Adult\n",
       "114      Kid\n",
       "115    Adult\n",
       "116    Adult\n",
       "117    Adult\n",
       "118    Adult\n",
       "119      Kid\n",
       "120    Adult\n",
       "122    Adult\n",
       "123    Adult\n",
       "124    Adult\n",
       "125      Kid\n",
       "Name: Age, Length: 100, dtype: object"
      ]
     },
     "execution_count": 57,
     "metadata": {
      "tags": []
     },
     "output_type": "execute_result"
    }
   ],
   "source": [
    "titanic_data_age.Age.apply(lambda age: 'Kid' if age < 18 else 'Adult')[:100]\n"
   ]
  },
  {
   "cell_type": "code",
   "execution_count": null,
   "metadata": {
    "colab": {
     "base_uri": "https://localhost:8080/",
     "height": 207
    },
    "colab_type": "code",
    "id": "jmC6DmcJ1ooJ",
    "outputId": "919e973e-e3b6-4ba0-cd5c-69f1ad7b8673"
   },
   "outputs": [
    {
     "data": {
      "text/plain": [
       "0     Adult\n",
       "1     Adult\n",
       "2     Adult\n",
       "3     Adult\n",
       "4     Adult\n",
       "6     Adult\n",
       "7       Kid\n",
       "8     Adult\n",
       "9       Kid\n",
       "10      Kid\n",
       "Name: Age, dtype: object"
      ]
     },
     "execution_count": 50,
     "metadata": {
      "tags": []
     },
     "output_type": "execute_result"
    }
   ],
   "source": [
    "titanic_data_age.Age.map(lambda age: 'Kid' if age < 18 else 'Adult')[:10]"
   ]
  },
  {
   "cell_type": "code",
   "execution_count": null,
   "metadata": {
    "colab": {
     "base_uri": "https://localhost:8080/",
     "height": 202
    },
    "colab_type": "code",
    "id": "A3ZcP2nbVRGe",
    "outputId": "82eae6d1-75bd-4804-855e-e6b0cb73ca5a"
   },
   "outputs": [
    {
     "data": {
      "text/html": [
       "<div>\n",
       "<style scoped>\n",
       "    .dataframe tbody tr th:only-of-type {\n",
       "        vertical-align: middle;\n",
       "    }\n",
       "\n",
       "    .dataframe tbody tr th {\n",
       "        vertical-align: top;\n",
       "    }\n",
       "\n",
       "    .dataframe thead th {\n",
       "        text-align: right;\n",
       "    }\n",
       "</style>\n",
       "<table border=\"1\" class=\"dataframe\">\n",
       "  <thead>\n",
       "    <tr style=\"text-align: right;\">\n",
       "      <th></th>\n",
       "      <th>PassengerId</th>\n",
       "      <th>Survived</th>\n",
       "      <th>Pclass</th>\n",
       "      <th>Name</th>\n",
       "      <th>Sex</th>\n",
       "      <th>Age</th>\n",
       "      <th>SibSp</th>\n",
       "      <th>Parch</th>\n",
       "      <th>Ticket</th>\n",
       "      <th>Fare</th>\n",
       "      <th>Embarked</th>\n",
       "      <th>age_category</th>\n",
       "    </tr>\n",
       "  </thead>\n",
       "  <tbody>\n",
       "    <tr>\n",
       "      <th>1</th>\n",
       "      <td>2</td>\n",
       "      <td>1</td>\n",
       "      <td>1</td>\n",
       "      <td>Cumings, Mrs. John Bradley (Florence Briggs Th...</td>\n",
       "      <td>female</td>\n",
       "      <td>38.0</td>\n",
       "      <td>1</td>\n",
       "      <td>0</td>\n",
       "      <td>PC 17599</td>\n",
       "      <td>71.2833</td>\n",
       "      <td>C</td>\n",
       "      <td>Adult</td>\n",
       "    </tr>\n",
       "    <tr>\n",
       "      <th>3</th>\n",
       "      <td>4</td>\n",
       "      <td>1</td>\n",
       "      <td>1</td>\n",
       "      <td>Futrelle, Mrs. Jacques Heath (Lily May Peel)</td>\n",
       "      <td>female</td>\n",
       "      <td>35.0</td>\n",
       "      <td>1</td>\n",
       "      <td>0</td>\n",
       "      <td>113803</td>\n",
       "      <td>53.1000</td>\n",
       "      <td>S</td>\n",
       "      <td>Adult</td>\n",
       "    </tr>\n",
       "    <tr>\n",
       "      <th>8</th>\n",
       "      <td>9</td>\n",
       "      <td>1</td>\n",
       "      <td>3</td>\n",
       "      <td>Johnson, Mrs. Oscar W (Elisabeth Vilhelmina Berg)</td>\n",
       "      <td>female</td>\n",
       "      <td>27.0</td>\n",
       "      <td>0</td>\n",
       "      <td>2</td>\n",
       "      <td>347742</td>\n",
       "      <td>11.1333</td>\n",
       "      <td>S</td>\n",
       "      <td>Adult</td>\n",
       "    </tr>\n",
       "    <tr>\n",
       "      <th>9</th>\n",
       "      <td>10</td>\n",
       "      <td>1</td>\n",
       "      <td>2</td>\n",
       "      <td>Nasser, Mrs. Nicholas (Adele Achem)</td>\n",
       "      <td>female</td>\n",
       "      <td>14.0</td>\n",
       "      <td>1</td>\n",
       "      <td>0</td>\n",
       "      <td>237736</td>\n",
       "      <td>30.0708</td>\n",
       "      <td>C</td>\n",
       "      <td>Kid</td>\n",
       "    </tr>\n",
       "    <tr>\n",
       "      <th>15</th>\n",
       "      <td>16</td>\n",
       "      <td>1</td>\n",
       "      <td>2</td>\n",
       "      <td>Hewlett, Mrs. (Mary D Kingcome)</td>\n",
       "      <td>female</td>\n",
       "      <td>55.0</td>\n",
       "      <td>0</td>\n",
       "      <td>0</td>\n",
       "      <td>248706</td>\n",
       "      <td>16.0000</td>\n",
       "      <td>S</td>\n",
       "      <td>Adult</td>\n",
       "    </tr>\n",
       "  </tbody>\n",
       "</table>\n",
       "</div>"
      ],
      "text/plain": [
       "    PassengerId  Survived  Pclass  ...     Fare Embarked  age_category\n",
       "1             2         1       1  ...  71.2833        C         Adult\n",
       "3             4         1       1  ...  53.1000        S         Adult\n",
       "8             9         1       3  ...  11.1333        S         Adult\n",
       "9            10         1       2  ...  30.0708        C           Kid\n",
       "15           16         1       2  ...  16.0000        S         Adult\n",
       "\n",
       "[5 rows x 12 columns]"
      ]
     },
     "execution_count": 59,
     "metadata": {
      "tags": []
     },
     "output_type": "execute_result"
    }
   ],
   "source": [
    "titanic_data[titanic_data.Name.str.contains('Mrs.')].head()"
   ]
  },
  {
   "cell_type": "markdown",
   "metadata": {
    "colab_type": "text",
    "id": "DSpp2v7QVgOE"
   },
   "source": [
    "### Append , Merge, Join & Concatenate\n",
    "Append for stacking dataframe"
   ]
  },
  {
   "cell_type": "code",
   "execution_count": null,
   "metadata": {
    "colab": {
     "base_uri": "https://localhost:8080/",
     "height": 355
    },
    "colab_type": "code",
    "id": "Sa7rLUaDVcEm",
    "outputId": "79ce49f5-b860-416b-8bed-805875000e4f"
   },
   "outputs": [
    {
     "data": {
      "text/html": [
       "<div>\n",
       "<style scoped>\n",
       "    .dataframe tbody tr th:only-of-type {\n",
       "        vertical-align: middle;\n",
       "    }\n",
       "\n",
       "    .dataframe tbody tr th {\n",
       "        vertical-align: top;\n",
       "    }\n",
       "\n",
       "    .dataframe thead th {\n",
       "        text-align: right;\n",
       "    }\n",
       "</style>\n",
       "<table border=\"1\" class=\"dataframe\">\n",
       "  <thead>\n",
       "    <tr style=\"text-align: right;\">\n",
       "      <th></th>\n",
       "      <th>A</th>\n",
       "      <th>B</th>\n",
       "      <th>C</th>\n",
       "    </tr>\n",
       "  </thead>\n",
       "  <tbody>\n",
       "    <tr>\n",
       "      <th>0</th>\n",
       "      <td>7</td>\n",
       "      <td>7</td>\n",
       "      <td>4</td>\n",
       "    </tr>\n",
       "    <tr>\n",
       "      <th>1</th>\n",
       "      <td>1</td>\n",
       "      <td>2</td>\n",
       "      <td>1</td>\n",
       "    </tr>\n",
       "    <tr>\n",
       "      <th>2</th>\n",
       "      <td>5</td>\n",
       "      <td>7</td>\n",
       "      <td>8</td>\n",
       "    </tr>\n",
       "    <tr>\n",
       "      <th>3</th>\n",
       "      <td>3</td>\n",
       "      <td>7</td>\n",
       "      <td>5</td>\n",
       "    </tr>\n",
       "    <tr>\n",
       "      <th>4</th>\n",
       "      <td>7</td>\n",
       "      <td>7</td>\n",
       "      <td>5</td>\n",
       "    </tr>\n",
       "    <tr>\n",
       "      <th>5</th>\n",
       "      <td>5</td>\n",
       "      <td>5</td>\n",
       "      <td>3</td>\n",
       "    </tr>\n",
       "    <tr>\n",
       "      <th>6</th>\n",
       "      <td>1</td>\n",
       "      <td>1</td>\n",
       "      <td>3</td>\n",
       "    </tr>\n",
       "    <tr>\n",
       "      <th>7</th>\n",
       "      <td>8</td>\n",
       "      <td>7</td>\n",
       "      <td>1</td>\n",
       "    </tr>\n",
       "    <tr>\n",
       "      <th>8</th>\n",
       "      <td>6</td>\n",
       "      <td>3</td>\n",
       "      <td>3</td>\n",
       "    </tr>\n",
       "    <tr>\n",
       "      <th>9</th>\n",
       "      <td>1</td>\n",
       "      <td>2</td>\n",
       "      <td>6</td>\n",
       "    </tr>\n",
       "  </tbody>\n",
       "</table>\n",
       "</div>"
      ],
      "text/plain": [
       "   A  B  C\n",
       "0  7  7  4\n",
       "1  1  2  1\n",
       "2  5  7  8\n",
       "3  3  7  5\n",
       "4  7  7  5\n",
       "5  5  5  3\n",
       "6  1  1  3\n",
       "7  8  7  1\n",
       "8  6  3  3\n",
       "9  1  2  6"
      ]
     },
     "execution_count": 60,
     "metadata": {
      "tags": []
     },
     "output_type": "execute_result"
    }
   ],
   "source": [
    "df1 = pd.DataFrame(data=np.random.randint(1,10,size=(10,3)), columns=list('ABC'))\n",
    "df1"
   ]
  },
  {
   "cell_type": "code",
   "execution_count": null,
   "metadata": {
    "colab": {
     "base_uri": "https://localhost:8080/",
     "height": 355
    },
    "colab_type": "code",
    "id": "FFq0BwiMVpdM",
    "outputId": "07ac0c0b-7c92-4e33-cc12-ea2ca4398bf6"
   },
   "outputs": [
    {
     "data": {
      "text/html": [
       "<div>\n",
       "<style scoped>\n",
       "    .dataframe tbody tr th:only-of-type {\n",
       "        vertical-align: middle;\n",
       "    }\n",
       "\n",
       "    .dataframe tbody tr th {\n",
       "        vertical-align: top;\n",
       "    }\n",
       "\n",
       "    .dataframe thead th {\n",
       "        text-align: right;\n",
       "    }\n",
       "</style>\n",
       "<table border=\"1\" class=\"dataframe\">\n",
       "  <thead>\n",
       "    <tr style=\"text-align: right;\">\n",
       "      <th></th>\n",
       "      <th>A</th>\n",
       "      <th>B</th>\n",
       "      <th>C</th>\n",
       "    </tr>\n",
       "  </thead>\n",
       "  <tbody>\n",
       "    <tr>\n",
       "      <th>0</th>\n",
       "      <td>4</td>\n",
       "      <td>6</td>\n",
       "      <td>3</td>\n",
       "    </tr>\n",
       "    <tr>\n",
       "      <th>1</th>\n",
       "      <td>3</td>\n",
       "      <td>5</td>\n",
       "      <td>5</td>\n",
       "    </tr>\n",
       "    <tr>\n",
       "      <th>2</th>\n",
       "      <td>8</td>\n",
       "      <td>7</td>\n",
       "      <td>6</td>\n",
       "    </tr>\n",
       "    <tr>\n",
       "      <th>3</th>\n",
       "      <td>7</td>\n",
       "      <td>9</td>\n",
       "      <td>3</td>\n",
       "    </tr>\n",
       "    <tr>\n",
       "      <th>4</th>\n",
       "      <td>9</td>\n",
       "      <td>5</td>\n",
       "      <td>5</td>\n",
       "    </tr>\n",
       "    <tr>\n",
       "      <th>5</th>\n",
       "      <td>5</td>\n",
       "      <td>4</td>\n",
       "      <td>7</td>\n",
       "    </tr>\n",
       "    <tr>\n",
       "      <th>6</th>\n",
       "      <td>1</td>\n",
       "      <td>1</td>\n",
       "      <td>2</td>\n",
       "    </tr>\n",
       "    <tr>\n",
       "      <th>7</th>\n",
       "      <td>1</td>\n",
       "      <td>8</td>\n",
       "      <td>6</td>\n",
       "    </tr>\n",
       "    <tr>\n",
       "      <th>8</th>\n",
       "      <td>1</td>\n",
       "      <td>2</td>\n",
       "      <td>6</td>\n",
       "    </tr>\n",
       "    <tr>\n",
       "      <th>9</th>\n",
       "      <td>9</td>\n",
       "      <td>1</td>\n",
       "      <td>3</td>\n",
       "    </tr>\n",
       "  </tbody>\n",
       "</table>\n",
       "</div>"
      ],
      "text/plain": [
       "   A  B  C\n",
       "0  4  6  3\n",
       "1  3  5  5\n",
       "2  8  7  6\n",
       "3  7  9  3\n",
       "4  9  5  5\n",
       "5  5  4  7\n",
       "6  1  1  2\n",
       "7  1  8  6\n",
       "8  1  2  6\n",
       "9  9  1  3"
      ]
     },
     "execution_count": 61,
     "metadata": {
      "tags": []
     },
     "output_type": "execute_result"
    }
   ],
   "source": [
    "df2 = pd.DataFrame(data=np.random.randint(1,10,size=(10,3)), columns=list('ABC'))\n",
    "df2"
   ]
  },
  {
   "cell_type": "code",
   "execution_count": null,
   "metadata": {
    "colab": {
     "base_uri": "https://localhost:8080/",
     "height": 662
    },
    "colab_type": "code",
    "id": "j9LabfLLVyrc",
    "outputId": "75e204e0-0a0d-4935-c659-5deb672bea8b"
   },
   "outputs": [
    {
     "data": {
      "text/html": [
       "<div>\n",
       "<style scoped>\n",
       "    .dataframe tbody tr th:only-of-type {\n",
       "        vertical-align: middle;\n",
       "    }\n",
       "\n",
       "    .dataframe tbody tr th {\n",
       "        vertical-align: top;\n",
       "    }\n",
       "\n",
       "    .dataframe thead th {\n",
       "        text-align: right;\n",
       "    }\n",
       "</style>\n",
       "<table border=\"1\" class=\"dataframe\">\n",
       "  <thead>\n",
       "    <tr style=\"text-align: right;\">\n",
       "      <th></th>\n",
       "      <th>A</th>\n",
       "      <th>B</th>\n",
       "      <th>C</th>\n",
       "    </tr>\n",
       "  </thead>\n",
       "  <tbody>\n",
       "    <tr>\n",
       "      <th>0</th>\n",
       "      <td>7</td>\n",
       "      <td>7</td>\n",
       "      <td>4</td>\n",
       "    </tr>\n",
       "    <tr>\n",
       "      <th>1</th>\n",
       "      <td>1</td>\n",
       "      <td>2</td>\n",
       "      <td>1</td>\n",
       "    </tr>\n",
       "    <tr>\n",
       "      <th>2</th>\n",
       "      <td>5</td>\n",
       "      <td>7</td>\n",
       "      <td>8</td>\n",
       "    </tr>\n",
       "    <tr>\n",
       "      <th>3</th>\n",
       "      <td>3</td>\n",
       "      <td>7</td>\n",
       "      <td>5</td>\n",
       "    </tr>\n",
       "    <tr>\n",
       "      <th>4</th>\n",
       "      <td>7</td>\n",
       "      <td>7</td>\n",
       "      <td>5</td>\n",
       "    </tr>\n",
       "    <tr>\n",
       "      <th>5</th>\n",
       "      <td>5</td>\n",
       "      <td>5</td>\n",
       "      <td>3</td>\n",
       "    </tr>\n",
       "    <tr>\n",
       "      <th>6</th>\n",
       "      <td>1</td>\n",
       "      <td>1</td>\n",
       "      <td>3</td>\n",
       "    </tr>\n",
       "    <tr>\n",
       "      <th>7</th>\n",
       "      <td>8</td>\n",
       "      <td>7</td>\n",
       "      <td>1</td>\n",
       "    </tr>\n",
       "    <tr>\n",
       "      <th>8</th>\n",
       "      <td>6</td>\n",
       "      <td>3</td>\n",
       "      <td>3</td>\n",
       "    </tr>\n",
       "    <tr>\n",
       "      <th>9</th>\n",
       "      <td>1</td>\n",
       "      <td>2</td>\n",
       "      <td>6</td>\n",
       "    </tr>\n",
       "    <tr>\n",
       "      <th>10</th>\n",
       "      <td>4</td>\n",
       "      <td>6</td>\n",
       "      <td>3</td>\n",
       "    </tr>\n",
       "    <tr>\n",
       "      <th>11</th>\n",
       "      <td>3</td>\n",
       "      <td>5</td>\n",
       "      <td>5</td>\n",
       "    </tr>\n",
       "    <tr>\n",
       "      <th>12</th>\n",
       "      <td>8</td>\n",
       "      <td>7</td>\n",
       "      <td>6</td>\n",
       "    </tr>\n",
       "    <tr>\n",
       "      <th>13</th>\n",
       "      <td>7</td>\n",
       "      <td>9</td>\n",
       "      <td>3</td>\n",
       "    </tr>\n",
       "    <tr>\n",
       "      <th>14</th>\n",
       "      <td>9</td>\n",
       "      <td>5</td>\n",
       "      <td>5</td>\n",
       "    </tr>\n",
       "    <tr>\n",
       "      <th>15</th>\n",
       "      <td>5</td>\n",
       "      <td>4</td>\n",
       "      <td>7</td>\n",
       "    </tr>\n",
       "    <tr>\n",
       "      <th>16</th>\n",
       "      <td>1</td>\n",
       "      <td>1</td>\n",
       "      <td>2</td>\n",
       "    </tr>\n",
       "    <tr>\n",
       "      <th>17</th>\n",
       "      <td>1</td>\n",
       "      <td>8</td>\n",
       "      <td>6</td>\n",
       "    </tr>\n",
       "    <tr>\n",
       "      <th>18</th>\n",
       "      <td>1</td>\n",
       "      <td>2</td>\n",
       "      <td>6</td>\n",
       "    </tr>\n",
       "    <tr>\n",
       "      <th>19</th>\n",
       "      <td>9</td>\n",
       "      <td>1</td>\n",
       "      <td>3</td>\n",
       "    </tr>\n",
       "  </tbody>\n",
       "</table>\n",
       "</div>"
      ],
      "text/plain": [
       "    A  B  C\n",
       "0   7  7  4\n",
       "1   1  2  1\n",
       "2   5  7  8\n",
       "3   3  7  5\n",
       "4   7  7  5\n",
       "5   5  5  3\n",
       "6   1  1  3\n",
       "7   8  7  1\n",
       "8   6  3  3\n",
       "9   1  2  6\n",
       "10  4  6  3\n",
       "11  3  5  5\n",
       "12  8  7  6\n",
       "13  7  9  3\n",
       "14  9  5  5\n",
       "15  5  4  7\n",
       "16  1  1  2\n",
       "17  1  8  6\n",
       "18  1  2  6\n",
       "19  9  1  3"
      ]
     },
     "execution_count": 62,
     "metadata": {
      "tags": []
     },
     "output_type": "execute_result"
    }
   ],
   "source": [
    "df1.append(df2, ignore_index=True)"
   ]
  },
  {
   "cell_type": "code",
   "execution_count": null,
   "metadata": {
    "colab": {
     "base_uri": "https://localhost:8080/",
     "height": 179
    },
    "colab_type": "code",
    "id": "OL84yLp-jIhh",
    "outputId": "339d8d73-8995-4176-d565-8e712f5430c3"
   },
   "outputs": [
    {
     "name": "stdout",
     "output_type": "stream",
     "text": [
      "   a  b\n",
      "0  1  3\n",
      "1  2  5\n",
      "2  2  2\n"
     ]
    },
    {
     "data": {
      "text/html": [
       "<div>\n",
       "<style scoped>\n",
       "    .dataframe tbody tr th:only-of-type {\n",
       "        vertical-align: middle;\n",
       "    }\n",
       "\n",
       "    .dataframe tbody tr th {\n",
       "        vertical-align: top;\n",
       "    }\n",
       "\n",
       "    .dataframe thead th {\n",
       "        text-align: right;\n",
       "    }\n",
       "</style>\n",
       "<table border=\"1\" class=\"dataframe\">\n",
       "  <thead>\n",
       "    <tr style=\"text-align: right;\">\n",
       "      <th></th>\n",
       "      <th>a</th>\n",
       "      <th>b</th>\n",
       "    </tr>\n",
       "  </thead>\n",
       "  <tbody>\n",
       "    <tr>\n",
       "      <th>0</th>\n",
       "      <td>1</td>\n",
       "      <td>3</td>\n",
       "    </tr>\n",
       "    <tr>\n",
       "      <th>2</th>\n",
       "      <td>2</td>\n",
       "      <td>2</td>\n",
       "    </tr>\n",
       "  </tbody>\n",
       "</table>\n",
       "</div>"
      ],
      "text/plain": [
       "   a  b\n",
       "0  1  3\n",
       "2  2  2"
      ]
     },
     "execution_count": 64,
     "metadata": {
      "tags": []
     },
     "output_type": "execute_result"
    }
   ],
   "source": [
    "import pandas as pd\n",
    "df=pd.DataFrame({'a': [1, 2, 2], 'b': [3, 5, 2]})\n",
    "mask=[True, False, True]\n",
    "print(df)\n",
    "df[mask]"
   ]
  },
  {
   "cell_type": "markdown",
   "metadata": {
    "colab_type": "text",
    "id": "0wJrxZCZjj57"
   },
   "source": [
    "This marks the end of Pandas tutorial.\n",
    "\n",
    "Remember practise is the key to achieve proficiency."
   ]
  }
 ],
 "metadata": {
  "colab": {
   "collapsed_sections": [],
   "name": "1.13 Python Pandas",
   "provenance": []
  },
  "kernelspec": {
   "display_name": "Python 3",
   "language": "python",
   "name": "python3"
  },
  "language_info": {
   "codemirror_mode": {
    "name": "ipython",
    "version": 3
   },
   "file_extension": ".py",
   "mimetype": "text/x-python",
   "name": "python",
   "nbconvert_exporter": "python",
   "pygments_lexer": "ipython3",
   "version": "3.7.6"
  }
 },
 "nbformat": 4,
 "nbformat_minor": 1
}
