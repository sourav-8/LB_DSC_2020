{
 "cells": [
  {
   "cell_type": "code",
   "execution_count": 1,
   "metadata": {},
   "outputs": [
    {
     "name": "stdout",
     "output_type": "stream",
     "text": [
      "[[[ 87  23  92  96 109]\n",
      "  [ 86  48 120  37  39]\n",
      "  [ 26  90  13  66  20]\n",
      "  [118 106  72  24  14]\n",
      "  [116  82 118  53  85]]\n",
      "\n",
      " [[  6  51  61 113  66]\n",
      "  [ 10  46  16  89  41]\n",
      "  [ 68  35  42   5  54]\n",
      "  [ 42  27  65  17  89]\n",
      "  [ 59 123 108   7  87]]\n",
      "\n",
      " [[ 42 101  40 123  92]\n",
      "  [ 11  98  94 109  67]\n",
      "  [ 58  19  80  60  95]\n",
      "  [115  72  53  32  57]\n",
      "  [ 74  36  22 114  96]]\n",
      "\n",
      " [[ 53 106  88  28  67]\n",
      "  [ 66  58  95  18  37]\n",
      "  [ 35  19 103  90 101]\n",
      "  [ 95  80   5  42  24]\n",
      "  [ 61  37  26  29  36]]\n",
      "\n",
      " [[ 54  90  14  68  69]\n",
      "  [ 53  71   2  54  90]\n",
      "  [ 83  36  71  94  58]\n",
      "  [ 73  47  31   1  68]\n",
      "  [ 78  36  63  73   8]]]\n"
     ]
    }
   ],
   "source": [
    "import numpy as np\n",
    "\n",
    "s = np.random.randint(1,125,125).reshape(5,5,5)\n",
    "print(s)"
   ]
  },
  {
   "cell_type": "code",
   "execution_count": 2,
   "metadata": {},
   "outputs": [
    {
     "data": {
      "text/plain": [
       "array([[ 9,  0,  0,  0,  0],\n",
       "       [19, 14,  0,  0,  0],\n",
       "       [23, 23, 11,  0,  0],\n",
       "       [10, 10,  8, 18,  0],\n",
       "       [11,  3, 15, 19,  2]])"
      ]
     },
     "execution_count": 2,
     "metadata": {},
     "output_type": "execute_result"
    }
   ],
   "source": [
    "a = np.random.randint(0,25,25).reshape(5,5)\n",
    "\n",
    "np.triu(a)\n",
    "np.tril(a)"
   ]
  },
  {
   "cell_type": "code",
   "execution_count": 3,
   "metadata": {},
   "outputs": [
    {
     "name": "stdout",
     "output_type": "stream",
     "text": [
      "Not Matched\n"
     ]
    }
   ],
   "source": [
    "M1 = np.random.randint(1,16,16).reshape(4,4)\n",
    "MT1 = M1.T\n",
    "comparison = M1 == MT1\n",
    "\n",
    "if comparison.all() == True:\n",
    "    print(\"Value matched\")\n",
    "else:\n",
    "    print(\"Not Matched\")"
   ]
  },
  {
   "cell_type": "code",
   "execution_count": 9,
   "metadata": {},
   "outputs": [
    {
     "name": "stdout",
     "output_type": "stream",
     "text": [
      "[[5 2 1]\n",
      " [1 1 1]]\n",
      "\n",
      "[[3 2 1]\n",
      " [2 2 4]]\n",
      "\n",
      "[[15  4  1]\n",
      " [ 2  2  4]]\n"
     ]
    }
   ],
   "source": [
    "a = np.random.randint(1,6,6).reshape(2,3)\n",
    "b = np.random.randint(1,6,6).reshape(2,3)\n",
    "c = a*b \n",
    "print(a)\n",
    "print()\n",
    "print(b)\n",
    "print()\n",
    "print(c)"
   ]
  },
  {
   "cell_type": "code",
   "execution_count": null,
   "metadata": {},
   "outputs": [],
   "source": [
    "s = '2'"
   ]
  },
  {
   "cell_type": "code",
   "execution_count": null,
   "metadata": {},
   "outputs": [],
   "source": [
    "np.eye(5)"
   ]
  },
  {
   "cell_type": "code",
   "execution_count": null,
   "metadata": {},
   "outputs": [],
   "source": [
    "np.shape(s)"
   ]
  }
 ],
 "metadata": {
  "kernelspec": {
   "display_name": "Python 3",
   "language": "python",
   "name": "python3"
  },
  "language_info": {
   "codemirror_mode": {
    "name": "ipython",
    "version": 3
   },
   "file_extension": ".py",
   "mimetype": "text/x-python",
   "name": "python",
   "nbconvert_exporter": "python",
   "pygments_lexer": "ipython3",
   "version": "3.7.6"
  }
 },
 "nbformat": 4,
 "nbformat_minor": 4
}
