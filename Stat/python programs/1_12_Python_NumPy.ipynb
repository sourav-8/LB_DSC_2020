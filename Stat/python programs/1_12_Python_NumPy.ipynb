{
 "cells": [
  {
   "cell_type": "markdown",
   "metadata": {
    "colab_type": "text",
    "id": "GDITfmS5RCAE"
   },
   "source": [
    "# Introduction\n",
    "\n",
    "**NumPy** is a general-purpose array-processing package designed to efficiently manipulate large multi-dimensional arrays of arbitrary records without sacrificing too much speed for small multi-dimensional arrays. **NumPy** is built on the Numeric code base and adds features introduced by numarray as well as an extended C-API and the ability to create arrays of arbitrary type which also makes NumPy suitable for interfacing with general-purpose data-base applications.\n",
    "\n",
    "There are also basic facilities for discrete fourier transform, basic linear algebra and random number generation. Its required to process large swaths of data files in tabular format needed for Data Science.\n",
    "\n",
    "www.numpy.org\n",
    "\n",
    "\n",
    "A common beginner question is what is the real difference here against python data types. The answer is performance. Numpy data structures perform better in:\n",
    "\n",
    "Size - Numpy data structures take up less space\n",
    "\n",
    "Performance - they have a need for speed and are faster than lists\n",
    "\n",
    "Functionality - SciPy and NumPy have optimized functions such as linear algebra operations built in."
   ]
  },
  {
   "cell_type": "markdown",
   "metadata": {
    "colab_type": "text",
    "id": "Zz3GnetNZb5d"
   },
   "source": [
    "Installation\n",
    "\n",
    "1. Comes preinstalled with Anaconda and Google colab\n",
    "    \n",
    "\n",
    "*   https://www.anaconda.com\n",
    "*   https://colab.research.google.com\n",
    "\n",
    "\n",
    "2. Otherwise use : **pip install numpy**\n",
    "\n",
    "The latest stable version of **NumPy** is 1.16.3"
   ]
  },
  {
   "cell_type": "markdown",
   "metadata": {
    "colab_type": "text",
    "id": "Lb3KURlnZVyf"
   },
   "source": [
    "Import in Python Program/Script"
   ]
  },
  {
   "cell_type": "code",
   "execution_count": 1,
   "metadata": {
    "colab": {
     "base_uri": "https://localhost:8080/",
     "height": 35
    },
    "colab_type": "code",
    "id": "Ov7f83Z6SiuO",
    "outputId": "6003cd1d-2ade-48b5-a581-dd213153708f"
   },
   "outputs": [
    {
     "name": "stdout",
     "output_type": "stream",
     "text": [
      "Requirement already satisfied: numpy in c:\\users\\soura\\anaconda3\\lib\\site-packages (1.18.1)\n"
     ]
    }
   ],
   "source": [
    "! pip install numpy"
   ]
  },
  {
   "cell_type": "code",
   "execution_count": 2,
   "metadata": {
    "colab": {},
    "colab_type": "code",
    "id": "3Hhtlgc2ZxU5"
   },
   "outputs": [],
   "source": [
    "import numpy as np"
   ]
  },
  {
   "cell_type": "markdown",
   "metadata": {
    "colab_type": "text",
    "id": "-Kwy8LqqZ8ec"
   },
   "source": [
    "## Intialization"
   ]
  },
  {
   "cell_type": "code",
   "execution_count": 3,
   "metadata": {
    "colab": {
     "base_uri": "https://localhost:8080/",
     "height": 711
    },
    "colab_type": "code",
    "id": "vohtMPnqauub",
    "outputId": "4c358c29-c2df-4c33-9edc-98d57db49ae8"
   },
   "outputs": [
    {
     "name": "stdout",
     "output_type": "stream",
     "text": [
      "[[[[0. 0. 0.]\n",
      "   [0. 0. 0.]\n",
      "   [0. 0. 0.]]\n",
      "\n",
      "  [[0. 0. 0.]\n",
      "   [0. 0. 0.]\n",
      "   [0. 0. 0.]]\n",
      "\n",
      "  [[0. 0. 0.]\n",
      "   [0. 0. 0.]\n",
      "   [0. 0. 0.]]\n",
      "\n",
      "  [[0. 0. 0.]\n",
      "   [0. 0. 0.]\n",
      "   [0. 0. 0.]]\n",
      "\n",
      "  [[0. 0. 0.]\n",
      "   [0. 0. 0.]\n",
      "   [0. 0. 0.]]]\n",
      "\n",
      "\n",
      " [[[0. 0. 0.]\n",
      "   [0. 0. 0.]\n",
      "   [0. 0. 0.]]\n",
      "\n",
      "  [[0. 0. 0.]\n",
      "   [0. 0. 0.]\n",
      "   [0. 0. 0.]]\n",
      "\n",
      "  [[0. 0. 0.]\n",
      "   [0. 0. 0.]\n",
      "   [0. 0. 0.]]\n",
      "\n",
      "  [[0. 0. 0.]\n",
      "   [0. 0. 0.]\n",
      "   [0. 0. 0.]]\n",
      "\n",
      "  [[0. 0. 0.]\n",
      "   [0. 0. 0.]\n",
      "   [0. 0. 0.]]]]\n"
     ]
    }
   ],
   "source": [
    "a = np.zeros((2,5,3,3))\n",
    "print (a)"
   ]
  },
  {
   "cell_type": "code",
   "execution_count": 4,
   "metadata": {
    "colab": {
     "base_uri": "https://localhost:8080/",
     "height": 35
    },
    "colab_type": "code",
    "id": "6WwzxJ9RbAsN",
    "outputId": "49917124-2a04-4ead-8dc3-9fafd5a8f6ed"
   },
   "outputs": [
    {
     "name": "stdout",
     "output_type": "stream",
     "text": [
      "<class 'numpy.ndarray'>\n"
     ]
    }
   ],
   "source": [
    "print (type(a))"
   ]
  },
  {
   "cell_type": "code",
   "execution_count": 5,
   "metadata": {
    "colab": {
     "base_uri": "https://localhost:8080/",
     "height": 104
    },
    "colab_type": "code",
    "id": "vXmArsdxBx5K",
    "outputId": "03db7275-3350-4cc7-a872-b18595b87192"
   },
   "outputs": [
    {
     "name": "stdout",
     "output_type": "stream",
     "text": [
      "[[[1 1 1]\n",
      "  [1 1 1]]\n",
      "\n",
      " [[1 1 1]\n",
      "  [1 1 1]]]\n"
     ]
    }
   ],
   "source": [
    "b = np.ones((2,2,3), dtype =int)\n",
    "print (b)"
   ]
  },
  {
   "cell_type": "code",
   "execution_count": 6,
   "metadata": {
    "colab": {
     "base_uri": "https://localhost:8080/",
     "height": 35
    },
    "colab_type": "code",
    "id": "dvgn2lUx0uzL",
    "outputId": "c75a2467-f704-415a-f06f-e0d8a94429f9"
   },
   "outputs": [
    {
     "name": "stdout",
     "output_type": "stream",
     "text": [
      "[1 2 3 4]\n"
     ]
    }
   ],
   "source": [
    "a = np.array([1,2,3,4])\n",
    "print(a)"
   ]
  },
  {
   "cell_type": "code",
   "execution_count": 7,
   "metadata": {
    "colab": {
     "base_uri": "https://localhost:8080/",
     "height": 69
    },
    "colab_type": "code",
    "id": "zQQRt9sH05VI",
    "outputId": "0a73b0bb-3de2-4c23-8802-b718eb29ed83"
   },
   "outputs": [
    {
     "name": "stdout",
     "output_type": "stream",
     "text": [
      "[[ 1  2  3]\n",
      " [ 4  5  6]\n",
      " [ 7 11  6]]\n"
     ]
    }
   ],
   "source": [
    "b = np.array([(1,2,3), (4,5,6), (7,11,6)])\n",
    "print(b)"
   ]
  },
  {
   "cell_type": "code",
   "execution_count": 8,
   "metadata": {
    "colab": {
     "base_uri": "https://localhost:8080/",
     "height": 52
    },
    "colab_type": "code",
    "id": "5Zf4Jat-1Fs_",
    "outputId": "ada238d6-1c16-4d00-fb4c-fdacbb62e6f0"
   },
   "outputs": [
    {
     "name": "stdout",
     "output_type": "stream",
     "text": [
      "[[1.+2.j 2.+6.j]\n",
      " [3.+0.j 4.+0.j]]\n"
     ]
    }
   ],
   "source": [
    "c = np.array( [ (1+2j, 2+6j), (3,4) ], dtype=complex )\n",
    "print (c)"
   ]
  },
  {
   "cell_type": "code",
   "execution_count": 9,
   "metadata": {
    "colab": {
     "base_uri": "https://localhost:8080/",
     "height": 35
    },
    "colab_type": "code",
    "id": "eINTVBnQ1Wnl",
    "outputId": "95cddb94-c1fa-44c2-de0c-0e9cef5dc1c6"
   },
   "outputs": [
    {
     "name": "stdout",
     "output_type": "stream",
     "text": [
      "<class 'numpy.ndarray'>\n"
     ]
    }
   ],
   "source": [
    "d = np.array([1+2j, 3+4j, 5+6j])\n",
    "print (type(d))"
   ]
  },
  {
   "cell_type": "markdown",
   "metadata": {
    "colab_type": "text",
    "id": "82lfArqZx2dW"
   },
   "source": [
    "## Generate Random numeric values"
   ]
  },
  {
   "cell_type": "code",
   "execution_count": 76,
   "metadata": {
    "colab": {
     "base_uri": "https://localhost:8080/",
     "height": 711
    },
    "colab_type": "code",
    "id": "OaokU5mYFn56",
    "outputId": "82e06550-63f1-42ed-ca21-2aeb50873faa"
   },
   "outputs": [
    {
     "data": {
      "text/plain": [
       "array([[0.15654636, 0.41686984, 0.06680689, 0.86540639, 0.30229266,\n",
       "        0.74125586, 0.41041526, 0.34513583, 0.97038625, 0.85254326],\n",
       "       [0.57568511, 0.74530348, 0.68513455, 0.37452814, 0.18463369,\n",
       "        0.28290183, 0.76077559, 0.61127742, 0.5473914 , 0.71080255],\n",
       "       [0.58580117, 0.97151746, 0.94569067, 0.5166665 , 0.6582399 ,\n",
       "        0.79492955, 0.40720702, 0.76953392, 0.07670343, 0.65327686],\n",
       "       [0.8583688 , 0.50493235, 0.6966257 , 0.89618378, 0.36649969,\n",
       "        0.73465513, 0.62589185, 0.9430502 , 0.6142144 , 0.83581277],\n",
       "       [0.28378321, 0.74103373, 0.12282519, 0.9795708 , 0.02377285,\n",
       "        0.50611138, 0.98748746, 0.48673501, 0.03395986, 0.76613888],\n",
       "       [0.75934091, 0.87632783, 0.63020388, 0.38634057, 0.93143231,\n",
       "        0.91418726, 0.49593791, 0.60003236, 0.07850808, 0.6368584 ],\n",
       "       [0.5903337 , 0.38502885, 0.25112874, 0.84811823, 0.97997383,\n",
       "        0.20651039, 0.2399852 , 0.66630943, 0.63050984, 0.449665  ],\n",
       "       [0.03083455, 0.9677237 , 0.16781812, 0.93602031, 0.26091858,\n",
       "        0.08039602, 0.66426854, 0.7810304 , 0.43112194, 0.02430269],\n",
       "       [0.94222472, 0.46964807, 0.56886266, 0.20331789, 0.75311205,\n",
       "        0.87206812, 0.04889377, 0.6024443 , 0.35582065, 0.03061727],\n",
       "       [0.7894653 , 0.45926228, 0.43469631, 0.13643147, 0.06380787,\n",
       "        0.12476708, 0.72559068, 0.57882288, 0.64715944, 0.78150588],\n",
       "       [0.27245117, 0.65689379, 0.66037058, 0.07264659, 0.33305183,\n",
       "        0.20025393, 0.58161303, 0.93335702, 0.45597733, 0.32783714],\n",
       "       [0.03862893, 0.72968495, 0.68967093, 0.07714609, 0.45111939,\n",
       "        0.54835918, 0.25584303, 0.57428114, 0.61085907, 0.10382525],\n",
       "       [0.94423214, 0.51934929, 0.71746682, 0.87377542, 0.35087255,\n",
       "        0.52212875, 0.69031679, 0.12079911, 0.64582443, 0.90466746],\n",
       "       [0.36653867, 0.23802772, 0.4876133 , 0.07857842, 0.17802592,\n",
       "        0.77176606, 0.23941844, 0.7180149 , 0.4813561 , 0.34391711],\n",
       "       [0.10610322, 0.97263589, 0.73970571, 0.67494162, 0.55150644,\n",
       "        0.35898391, 0.76443824, 0.71760998, 0.76493052, 0.68016337],\n",
       "       [0.74960428, 0.29979418, 0.44693061, 0.87841325, 0.85661556,\n",
       "        0.27556568, 0.35721755, 0.98417681, 0.89620086, 0.20706407],\n",
       "       [0.42931468, 0.70756605, 0.37200269, 0.911715  , 0.48391361,\n",
       "        0.62732182, 0.41800075, 0.51993808, 0.86395954, 0.23386414],\n",
       "       [0.54714483, 0.03682544, 0.92616009, 0.03783436, 0.39412579,\n",
       "        0.98646444, 0.35423998, 0.49772667, 0.9212284 , 0.55098948],\n",
       "       [0.36286018, 0.55647954, 0.18548321, 0.66131838, 0.89274273,\n",
       "        0.43443622, 0.56850791, 0.90626762, 0.18162188, 0.79943484],\n",
       "       [0.92868835, 0.89440554, 0.28483786, 0.04614544, 0.44890027,\n",
       "        0.71443261, 0.59227902, 0.87185675, 0.13932615, 0.91023323]])"
      ]
     },
     "execution_count": 76,
     "metadata": {},
     "output_type": "execute_result"
    }
   ],
   "source": [
    "np.random.seed(700)\n",
    "np.random.rand(20,10)"
   ]
  },
  {
   "cell_type": "code",
   "execution_count": 82,
   "metadata": {
    "colab": {
     "base_uri": "https://localhost:8080/",
     "height": 191
    },
    "colab_type": "code",
    "id": "leJ9DZZZF-Bp",
    "outputId": "39ad0f6a-8cd2-40d8-cf0b-c0ed4bbf2c64"
   },
   "outputs": [
    {
     "name": "stdout",
     "output_type": "stream",
     "text": [
      "[[8 8 7 1 4 8 5 2 2 8]\n",
      " [9 2 1 6 4 1 4 8 5 9]\n",
      " [1 5 3 4 4 3 1 9 2 6]\n",
      " [5 8 2 3 6 2 8 9 4 4]\n",
      " [9 7 9 2 5 7 9 6 5 4]\n",
      " [1 7 6 6 4 8 1 3 3 5]\n",
      " [5 9 2 1 4 5 9 4 1 3]\n",
      " [9 1 1 2 2 6 4 5 2 2]]\n"
     ]
    }
   ],
   "source": [
    "# data = np.random.randint(1,10,(10,8))\n",
    "data = np.random.randint(1,10,(8,10))\n",
    "print (data)"
   ]
  },
  {
   "cell_type": "markdown",
   "metadata": {
    "colab_type": "text",
    "id": "809KugMNy7XL"
   },
   "source": [
    "## Reshaping matrix"
   ]
  },
  {
   "cell_type": "code",
   "execution_count": 12,
   "metadata": {
    "colab": {
     "base_uri": "https://localhost:8080/",
     "height": 35
    },
    "colab_type": "code",
    "id": "o3_s6shuzFaG",
    "outputId": "c0d8d57d-71b1-45d3-d850-4f231353c4a4"
   },
   "outputs": [
    {
     "name": "stdout",
     "output_type": "stream",
     "text": [
      "[ 5  6  7  8  9 10 11 12 13 14 15 16 17 18 19 20 21 22 23 24]\n"
     ]
    }
   ],
   "source": [
    "a = np.arange(5,25)\n",
    "print (a)"
   ]
  },
  {
   "cell_type": "code",
   "execution_count": 13,
   "metadata": {
    "colab": {
     "base_uri": "https://localhost:8080/",
     "height": 260
    },
    "colab_type": "code",
    "id": "C-Vhz1PazQCE",
    "outputId": "e0671e6a-1733-4ac8-a39c-56faac11dbee"
   },
   "outputs": [
    {
     "data": {
      "text/plain": [
       "array([[[ 5,  6],\n",
       "        [ 7,  8]],\n",
       "\n",
       "       [[ 9, 10],\n",
       "        [11, 12]],\n",
       "\n",
       "       [[13, 14],\n",
       "        [15, 16]],\n",
       "\n",
       "       [[17, 18],\n",
       "        [19, 20]],\n",
       "\n",
       "       [[21, 22],\n",
       "        [23, 24]]])"
      ]
     },
     "execution_count": 13,
     "metadata": {},
     "output_type": "execute_result"
    }
   ],
   "source": [
    "# a = a.reshape(4,5)\n",
    "# a = a.reshape(5,4)\n",
    "a = a.reshape(5,2,2)\n",
    "a"
   ]
  },
  {
   "cell_type": "code",
   "execution_count": 14,
   "metadata": {
    "colab": {
     "base_uri": "https://localhost:8080/",
     "height": 104
    },
    "colab_type": "code",
    "id": "Y8umggUkznOT",
    "outputId": "8b018e63-1398-4eb7-e795-37e8db080481"
   },
   "outputs": [
    {
     "name": "stdout",
     "output_type": "stream",
     "text": [
      "(5, 2, 2)\n",
      "3\n",
      "int32\n",
      "4\n",
      "20\n"
     ]
    }
   ],
   "source": [
    "print(a.shape)\n",
    "print(a.ndim)\n",
    "print(a.dtype)\n",
    "print(a.itemsize)\n",
    "print(a.size)"
   ]
  },
  {
   "cell_type": "markdown",
   "metadata": {
    "colab_type": "text",
    "id": "0uqV9X3TDtXD"
   },
   "source": [
    "## Basic Operations"
   ]
  },
  {
   "cell_type": "code",
   "execution_count": 15,
   "metadata": {
    "colab": {
     "base_uri": "https://localhost:8080/",
     "height": 69
    },
    "colab_type": "code",
    "id": "zZ11M8RED0aX",
    "outputId": "74b24d01-42aa-4162-fc29-571ff7c717ce"
   },
   "outputs": [
    {
     "name": "stdout",
     "output_type": "stream",
     "text": [
      "[20 30 40 50]\n",
      "[4 5 6 7]\n",
      "[16 25 34 43]\n"
     ]
    }
   ],
   "source": [
    "a = np.array( [20,30,40,50] )\n",
    "b = np.arange( 4,8 )\n",
    "print (a)\n",
    "print (b)\n",
    "c = a-b\n",
    "print (c)"
   ]
  },
  {
   "cell_type": "code",
   "execution_count": 16,
   "metadata": {
    "colab": {
     "base_uri": "https://localhost:8080/",
     "height": 35
    },
    "colab_type": "code",
    "id": "lGG6CXwwEH4M",
    "outputId": "01625d4b-e875-4ea9-fb7c-031b23c565dc"
   },
   "outputs": [
    {
     "data": {
      "text/plain": [
       "array([16, 25, 36, 49], dtype=int32)"
      ]
     },
     "execution_count": 16,
     "metadata": {},
     "output_type": "execute_result"
    }
   ],
   "source": [
    "b**2"
   ]
  },
  {
   "cell_type": "code",
   "execution_count": 17,
   "metadata": {
    "colab": {
     "base_uri": "https://localhost:8080/",
     "height": 35
    },
    "colab_type": "code",
    "id": "8xXI4l41ER3D",
    "outputId": "c32061fe-eebe-4d5b-abc1-c5adb96c12ef"
   },
   "outputs": [
    {
     "data": {
      "text/plain": [
       "array([ 0.91294525, -0.98803162,  0.74511316, -0.26237485])"
      ]
     },
     "execution_count": 17,
     "metadata": {},
     "output_type": "execute_result"
    }
   ],
   "source": [
    "np.sin(a)"
   ]
  },
  {
   "cell_type": "code",
   "execution_count": 18,
   "metadata": {
    "colab": {
     "base_uri": "https://localhost:8080/",
     "height": 35
    },
    "colab_type": "code",
    "id": "MbgmW8J4EhOP",
    "outputId": "4a84b2b1-a0b6-4a25-db73-ec1e323b410f"
   },
   "outputs": [
    {
     "data": {
      "text/plain": [
       "array([0.        , 0.5       , 0.70710678, 0.8660254 , 1.        ])"
      ]
     },
     "execution_count": 18,
     "metadata": {},
     "output_type": "execute_result"
    }
   ],
   "source": [
    "np.sin(np.array((0., 30., 45., 60., 90.)) * np.pi / 180. )"
   ]
  },
  {
   "cell_type": "code",
   "execution_count": 19,
   "metadata": {
    "colab": {
     "base_uri": "https://localhost:8080/",
     "height": 52
    },
    "colab_type": "code",
    "id": "UEbFT-KVyALy",
    "outputId": "4b1a0a8b-3028-4de1-c474-860a2b26ef89"
   },
   "outputs": [
    {
     "data": {
      "text/plain": [
       "array([1.00000000e+00, 8.66025404e-01, 7.07106781e-01, 5.00000000e-01,\n",
       "       6.12323400e-17])"
      ]
     },
     "execution_count": 19,
     "metadata": {},
     "output_type": "execute_result"
    }
   ],
   "source": [
    "np.cos(np.array((0.,30.,45.,60.,90.))* np.pi / 180.)\n"
   ]
  },
  {
   "cell_type": "code",
   "execution_count": 20,
   "metadata": {
    "colab": {
     "base_uri": "https://localhost:8080/",
     "height": 35
    },
    "colab_type": "code",
    "id": "4sHgjj6nFwR1",
    "outputId": "cbc57067-3c06-46e0-9207-f272cc76e6d3"
   },
   "outputs": [
    {
     "data": {
      "text/plain": [
       "array([50])"
      ]
     },
     "execution_count": 20,
     "metadata": {},
     "output_type": "execute_result"
    }
   ],
   "source": [
    "a[a>45]"
   ]
  },
  {
   "cell_type": "code",
   "execution_count": 21,
   "metadata": {
    "colab": {
     "base_uri": "https://localhost:8080/",
     "height": 225
    },
    "colab_type": "code",
    "id": "x0_ItPgzGGc3",
    "outputId": "38891412-c9ff-480c-9625-c7ff8a36abe8"
   },
   "outputs": [
    {
     "name": "stdout",
     "output_type": "stream",
     "text": [
      "[[1 1]\n",
      " [0 1]]\n",
      "[[2 0]\n",
      " [3 4]]\n",
      "elementwise\n",
      "[[2 0]\n",
      " [0 4]]\n",
      "matrixproduct\n",
      "[[5 4]\n",
      " [3 4]]\n",
      "[[5 4]\n",
      " [3 4]]\n"
     ]
    }
   ],
   "source": [
    "A = np.array( [[1,1], [0,1]] )\n",
    "B = np.array( [[2,0], [3,4]] )\n",
    "print (A)\n",
    "print (B)\n",
    "\n",
    "# elementwise matrix multiplication\n",
    "print (\"elementwise\")\n",
    "print (A*B)\n",
    "\n",
    "# matrix product\n",
    "print (\"matrixproduct\")\n",
    "print (A@B)\n",
    "\n",
    "# another way of matrix product\n",
    "\n",
    "print (A.dot(B))"
   ]
  },
  {
   "cell_type": "markdown",
   "metadata": {
    "colab_type": "text",
    "id": "HBTHrG-LHppT"
   },
   "source": [
    "## Unary Operations"
   ]
  },
  {
   "cell_type": "code",
   "execution_count": 22,
   "metadata": {
    "colab": {
     "base_uri": "https://localhost:8080/",
     "height": 52
    },
    "colab_type": "code",
    "id": "roQpwdQSGvY4",
    "outputId": "ffc4e838-cb18-471c-9e1f-c287261ae496"
   },
   "outputs": [
    {
     "data": {
      "text/plain": [
       "array([[0.27083024, 0.35094912, 0.62686355],\n",
       "       [0.63151289, 0.73910934, 0.74810479]])"
      ]
     },
     "execution_count": 22,
     "metadata": {},
     "output_type": "execute_result"
    }
   ],
   "source": [
    "a = np.random.random((2,3))\n",
    "a"
   ]
  },
  {
   "cell_type": "code",
   "execution_count": 23,
   "metadata": {
    "colab": {
     "base_uri": "https://localhost:8080/",
     "height": 35
    },
    "colab_type": "code",
    "id": "UHDDIKLUXXc8",
    "outputId": "58987664-e5b8-4cce-f032-64617967141d"
   },
   "outputs": [
    {
     "data": {
      "text/plain": [
       "(2, 3)"
      ]
     },
     "execution_count": 23,
     "metadata": {},
     "output_type": "execute_result"
    }
   ],
   "source": [
    "a.shape"
   ]
  },
  {
   "cell_type": "code",
   "execution_count": 24,
   "metadata": {
    "colab": {
     "base_uri": "https://localhost:8080/",
     "height": 35
    },
    "colab_type": "code",
    "id": "TAtsQNZxHy-k",
    "outputId": "87562430-8c7a-43a4-ef98-632883cd2c33"
   },
   "outputs": [
    {
     "data": {
      "text/plain": [
       "3.36736992849458"
      ]
     },
     "execution_count": 24,
     "metadata": {},
     "output_type": "execute_result"
    }
   ],
   "source": [
    "a.sum()"
   ]
  },
  {
   "cell_type": "code",
   "execution_count": 25,
   "metadata": {
    "colab": {
     "base_uri": "https://localhost:8080/",
     "height": 35
    },
    "colab_type": "code",
    "id": "3fTZHWfuICvD",
    "outputId": "00e2d768-d45a-4a49-977b-c6611a73709f"
   },
   "outputs": [
    {
     "data": {
      "text/plain": [
       "0.27083024065540606"
      ]
     },
     "execution_count": 25,
     "metadata": {},
     "output_type": "execute_result"
    }
   ],
   "source": [
    "a.min()"
   ]
  },
  {
   "cell_type": "code",
   "execution_count": 26,
   "metadata": {
    "colab": {
     "base_uri": "https://localhost:8080/",
     "height": 35
    },
    "colab_type": "code",
    "id": "s6Qvu-REIEDN",
    "outputId": "489a8285-126d-4c04-821b-ed022e766f40"
   },
   "outputs": [
    {
     "data": {
      "text/plain": [
       "0.7481047863598169"
      ]
     },
     "execution_count": 26,
     "metadata": {},
     "output_type": "execute_result"
    }
   ],
   "source": [
    "a.max()"
   ]
  },
  {
   "cell_type": "code",
   "execution_count": 27,
   "metadata": {
    "colab": {
     "base_uri": "https://localhost:8080/",
     "height": 87
    },
    "colab_type": "code",
    "id": "qmqY1h15H7Fo",
    "outputId": "b4846280-a774-4c22-bc12-6f7218b6a1ef"
   },
   "outputs": [
    {
     "data": {
      "text/plain": [
       "array([[ 0,  1,  2],\n",
       "       [ 3,  4,  5],\n",
       "       [ 6,  7,  8],\n",
       "       [ 9, 10, 11]])"
      ]
     },
     "execution_count": 27,
     "metadata": {},
     "output_type": "execute_result"
    }
   ],
   "source": [
    "b = np.arange(12).reshape(4,3)\n",
    "b"
   ]
  },
  {
   "cell_type": "code",
   "execution_count": 28,
   "metadata": {
    "colab": {
     "base_uri": "https://localhost:8080/",
     "height": 35
    },
    "colab_type": "code",
    "id": "MYbAzGbEXfXf",
    "outputId": "5f8b0f41-ae2c-4b44-d5eb-a8a0d8596753"
   },
   "outputs": [
    {
     "data": {
      "text/plain": [
       "(4, 3)"
      ]
     },
     "execution_count": 28,
     "metadata": {},
     "output_type": "execute_result"
    }
   ],
   "source": [
    "b.shape"
   ]
  },
  {
   "cell_type": "code",
   "execution_count": 29,
   "metadata": {
    "colab": {
     "base_uri": "https://localhost:8080/",
     "height": 35
    },
    "colab_type": "code",
    "id": "Zzo90VBOIMpJ",
    "outputId": "c482031f-6630-4a6b-e3b1-24ae1e8977cc"
   },
   "outputs": [
    {
     "data": {
      "text/plain": [
       "array([18, 22, 26])"
      ]
     },
     "execution_count": 29,
     "metadata": {},
     "output_type": "execute_result"
    }
   ],
   "source": [
    "b.sum(axis = 0)"
   ]
  },
  {
   "cell_type": "code",
   "execution_count": 30,
   "metadata": {
    "colab": {
     "base_uri": "https://localhost:8080/",
     "height": 35
    },
    "colab_type": "code",
    "id": "muQCGEwMISY7",
    "outputId": "e5470e7c-80ab-4eea-b028-ae1a7edc56ad"
   },
   "outputs": [
    {
     "data": {
      "text/plain": [
       "array([ 3, 12, 21, 30])"
      ]
     },
     "execution_count": 30,
     "metadata": {},
     "output_type": "execute_result"
    }
   ],
   "source": [
    "b.sum(axis=1)"
   ]
  },
  {
   "cell_type": "code",
   "execution_count": 31,
   "metadata": {
    "colab": {
     "base_uri": "https://localhost:8080/",
     "height": 35
    },
    "colab_type": "code",
    "id": "N-qa5pGjIcWA",
    "outputId": "aceab1d6-9571-42c7-ce16-7a99c7707bf1"
   },
   "outputs": [
    {
     "data": {
      "text/plain": [
       "array([0, 1, 2])"
      ]
     },
     "execution_count": 31,
     "metadata": {},
     "output_type": "execute_result"
    }
   ],
   "source": [
    "b.min(axis = 0)"
   ]
  },
  {
   "cell_type": "code",
   "execution_count": 32,
   "metadata": {
    "colab": {
     "base_uri": "https://localhost:8080/",
     "height": 87
    },
    "colab_type": "code",
    "id": "nhoShOgTIhjd",
    "outputId": "3f10a7df-5121-4756-b55e-009734125f79"
   },
   "outputs": [
    {
     "data": {
      "text/plain": [
       "array([[ 0,  1,  2],\n",
       "       [ 3,  5,  7],\n",
       "       [ 9, 12, 15],\n",
       "       [18, 22, 26]], dtype=int32)"
      ]
     },
     "execution_count": 32,
     "metadata": {},
     "output_type": "execute_result"
    }
   ],
   "source": [
    "b.cumsum(axis =0)"
   ]
  },
  {
   "cell_type": "code",
   "execution_count": 33,
   "metadata": {
    "colab": {},
    "colab_type": "code",
    "id": "4tF6CTRkfJF1"
   },
   "outputs": [],
   "source": [
    "a = np.array([1,2,3,4, 0.5, 0.25])"
   ]
  },
  {
   "cell_type": "code",
   "execution_count": 34,
   "metadata": {
    "colab": {
     "base_uri": "https://localhost:8080/",
     "height": 52
    },
    "colab_type": "code",
    "id": "cXSwXccTIoR9",
    "outputId": "28fec351-986c-4ae1-cb23-ec578b98a224"
   },
   "outputs": [
    {
     "data": {
      "text/plain": [
       "array([ 2.71828183,  7.3890561 , 20.08553692, 54.59815003,  1.64872127,\n",
       "        1.28402542])"
      ]
     },
     "execution_count": 34,
     "metadata": {},
     "output_type": "execute_result"
    }
   ],
   "source": [
    "np.exp(a)"
   ]
  },
  {
   "cell_type": "code",
   "execution_count": 35,
   "metadata": {
    "colab": {
     "base_uri": "https://localhost:8080/",
     "height": 52
    },
    "colab_type": "code",
    "id": "bDp6K_T4IyD0",
    "outputId": "d1433232-764f-462c-e9e6-06eb1fa80162"
   },
   "outputs": [
    {
     "data": {
      "text/plain": [
       "array([1.        , 1.41421356, 1.73205081, 2.        , 0.70710678,\n",
       "       0.5       ])"
      ]
     },
     "execution_count": 35,
     "metadata": {},
     "output_type": "execute_result"
    }
   ],
   "source": [
    "np.sqrt(a)"
   ]
  },
  {
   "cell_type": "code",
   "execution_count": 36,
   "metadata": {
    "colab": {
     "base_uri": "https://localhost:8080/",
     "height": 52
    },
    "colab_type": "code",
    "id": "EB4NlWx0I-m8",
    "outputId": "c2b62d31-4cb3-401c-a02e-787bbdbea737"
   },
   "outputs": [
    {
     "data": {
      "text/plain": [
       "array([[3, 1],\n",
       "       [3, 5]])"
      ]
     },
     "execution_count": 36,
     "metadata": {},
     "output_type": "execute_result"
    }
   ],
   "source": [
    "np.add(A,B) #shape of both inputs must be same"
   ]
  },
  {
   "cell_type": "markdown",
   "metadata": {
    "colab_type": "text",
    "id": "7FtfkN7xJNcD"
   },
   "source": [
    "## Indexing, Slicing and Iterating"
   ]
  },
  {
   "cell_type": "code",
   "execution_count": 37,
   "metadata": {
    "colab": {
     "base_uri": "https://localhost:8080/",
     "height": 35
    },
    "colab_type": "code",
    "id": "oE1s5IKMJQ_F",
    "outputId": "55511831-a868-4b0a-eff9-4aec3d669093"
   },
   "outputs": [
    {
     "data": {
      "text/plain": [
       "array([ 0,  1,  4,  9, 16, 25, 36, 49, 64, 81], dtype=int32)"
      ]
     },
     "execution_count": 37,
     "metadata": {},
     "output_type": "execute_result"
    }
   ],
   "source": [
    "# Very similar to list in python\n",
    "a = np.arange(10)**2\n",
    "a"
   ]
  },
  {
   "cell_type": "code",
   "execution_count": 38,
   "metadata": {
    "colab": {
     "base_uri": "https://localhost:8080/",
     "height": 35
    },
    "colab_type": "code",
    "id": "RH5vF6WlODaC",
    "outputId": "6b2cd583-c8de-4e32-8646-1be009c19d5a"
   },
   "outputs": [
    {
     "data": {
      "text/plain": [
       "36"
      ]
     },
     "execution_count": 38,
     "metadata": {},
     "output_type": "execute_result"
    }
   ],
   "source": [
    "a[6]"
   ]
  },
  {
   "cell_type": "code",
   "execution_count": 39,
   "metadata": {
    "colab": {
     "base_uri": "https://localhost:8080/",
     "height": 35
    },
    "colab_type": "code",
    "id": "VRZXHbxJOH_k",
    "outputId": "2e5aaa9a-3198-43e2-e970-c5df4b7a0c07"
   },
   "outputs": [
    {
     "data": {
      "text/plain": [
       "array([ 4,  9, 16], dtype=int32)"
      ]
     },
     "execution_count": 39,
     "metadata": {},
     "output_type": "execute_result"
    }
   ],
   "source": [
    "a[2:5]"
   ]
  },
  {
   "cell_type": "code",
   "execution_count": 40,
   "metadata": {
    "colab": {
     "base_uri": "https://localhost:8080/",
     "height": 191
    },
    "colab_type": "code",
    "id": "uxpLskGCO1aF",
    "outputId": "bf0640c8-1c4d-465b-c97e-11898da9f9c3"
   },
   "outputs": [
    {
     "name": "stdout",
     "output_type": "stream",
     "text": [
      "0\n",
      "1\n",
      "64\n",
      "729\n",
      "4096\n",
      "15625\n",
      "46656\n",
      "117649\n",
      "262144\n",
      "531441\n"
     ]
    }
   ],
   "source": [
    "for i in a:\n",
    "  print (i ** 3)"
   ]
  },
  {
   "cell_type": "code",
   "execution_count": 41,
   "metadata": {
    "colab": {
     "base_uri": "https://localhost:8080/",
     "height": 52
    },
    "colab_type": "code",
    "id": "_dsqUPGtRfAB",
    "outputId": "2576958c-fa56-41ab-db70-68c45b301bdf"
   },
   "outputs": [
    {
     "data": {
      "text/plain": [
       "array([[ 5,  6,  7,  8,  9],\n",
       "       [10, 11, 12, 13, 14]])"
      ]
     },
     "execution_count": 41,
     "metadata": {},
     "output_type": "execute_result"
    }
   ],
   "source": [
    "B = np.arange(5,15).reshape(2,5)\n",
    "B"
   ]
  },
  {
   "cell_type": "code",
   "execution_count": 42,
   "metadata": {
    "colab": {
     "base_uri": "https://localhost:8080/",
     "height": 35
    },
    "colab_type": "code",
    "id": "JwVc6kv_RyOj",
    "outputId": "ff48b94c-9d51-4889-bd9d-f53ddf54b0dd"
   },
   "outputs": [
    {
     "data": {
      "text/plain": [
       "6"
      ]
     },
     "execution_count": 42,
     "metadata": {},
     "output_type": "execute_result"
    }
   ],
   "source": [
    "B[0,1]"
   ]
  },
  {
   "cell_type": "code",
   "execution_count": 43,
   "metadata": {
    "colab": {
     "base_uri": "https://localhost:8080/",
     "height": 35
    },
    "colab_type": "code",
    "id": "Z2jbn2Y8R-Bn",
    "outputId": "756420e6-cb8f-4fd1-e097-a449dc61083f"
   },
   "outputs": [
    {
     "data": {
      "text/plain": [
       "array([ 6, 11])"
      ]
     },
     "execution_count": 43,
     "metadata": {},
     "output_type": "execute_result"
    }
   ],
   "source": [
    "B[:, 1] "
   ]
  },
  {
   "cell_type": "code",
   "execution_count": 44,
   "metadata": {
    "colab": {
     "base_uri": "https://localhost:8080/",
     "height": 156
    },
    "colab_type": "code",
    "id": "QIoUqqrvSV30",
    "outputId": "7219b9d4-75eb-47d4-a463-c244c146a414"
   },
   "outputs": [
    {
     "data": {
      "text/plain": [
       "array([[[  0,   1,   2],\n",
       "        [ 10,  12,  13]],\n",
       "\n",
       "       [[100, 101, 102],\n",
       "        [110, 112, 113]],\n",
       "\n",
       "       [[  1,  10,  12],\n",
       "        [110, 112, 113]]])"
      ]
     },
     "execution_count": 44,
     "metadata": {},
     "output_type": "execute_result"
    }
   ],
   "source": [
    "C = np.array( [[[  0,  1,  2], [ 10, 12, 13]], [[100,101,102], [110,112,113]], [[1,10,12], [110,112,113]]])\n",
    "C"
   ]
  },
  {
   "cell_type": "code",
   "execution_count": 45,
   "metadata": {
    "colab": {
     "base_uri": "https://localhost:8080/",
     "height": 35
    },
    "colab_type": "code",
    "id": "qvRkCjJwSjpn",
    "outputId": "fe6ce322-f9a5-44bd-b5f9-60e3cc5cd937"
   },
   "outputs": [
    {
     "data": {
      "text/plain": [
       "(3, 2, 3)"
      ]
     },
     "execution_count": 45,
     "metadata": {},
     "output_type": "execute_result"
    }
   ],
   "source": [
    "C.shape"
   ]
  },
  {
   "cell_type": "code",
   "execution_count": 46,
   "metadata": {
    "colab": {
     "base_uri": "https://localhost:8080/",
     "height": 52
    },
    "colab_type": "code",
    "id": "MuyswaaGSpvF",
    "outputId": "71072b0e-1d8a-4636-d417-4599baebee27"
   },
   "outputs": [
    {
     "data": {
      "text/plain": [
       "array([[100, 101, 102],\n",
       "       [110, 112, 113]])"
      ]
     },
     "execution_count": 46,
     "metadata": {},
     "output_type": "execute_result"
    }
   ],
   "source": [
    "C[1,...]"
   ]
  },
  {
   "cell_type": "code",
   "execution_count": 47,
   "metadata": {
    "colab": {
     "base_uri": "https://localhost:8080/",
     "height": 104
    },
    "colab_type": "code",
    "id": "OkJeOujeIwlC",
    "outputId": "8b36e1fe-2be5-434e-f346-66a1b2ce7783"
   },
   "outputs": [
    {
     "data": {
      "text/plain": [
       "array([[[100, 101, 102],\n",
       "        [110, 112, 113]],\n",
       "\n",
       "       [[  1,  10,  12],\n",
       "        [110, 112, 113]]])"
      ]
     },
     "execution_count": 47,
     "metadata": {},
     "output_type": "execute_result"
    }
   ],
   "source": [
    "C[1:]"
   ]
  },
  {
   "cell_type": "code",
   "execution_count": 48,
   "metadata": {
    "colab": {
     "base_uri": "https://localhost:8080/",
     "height": 69
    },
    "colab_type": "code",
    "id": "2Cu5ZNehSvpr",
    "outputId": "afc5f84a-d794-4c4c-add5-1c3d81496fd0"
   },
   "outputs": [
    {
     "data": {
      "text/plain": [
       "array([[  2,  13],\n",
       "       [102, 113],\n",
       "       [ 12, 113]])"
      ]
     },
     "execution_count": 48,
     "metadata": {},
     "output_type": "execute_result"
    }
   ],
   "source": [
    "C[...,2]"
   ]
  },
  {
   "cell_type": "code",
   "execution_count": 49,
   "metadata": {
    "colab": {
     "base_uri": "https://localhost:8080/",
     "height": 35
    },
    "colab_type": "code",
    "id": "8ESpepI96LMn",
    "outputId": "30983cd3-d21a-401b-c355-190542a60b12"
   },
   "outputs": [
    {
     "data": {
      "text/plain": [
       "array([110, 112, 113])"
      ]
     },
     "execution_count": 49,
     "metadata": {},
     "output_type": "execute_result"
    }
   ],
   "source": [
    "C[1,1,...]"
   ]
  },
  {
   "cell_type": "code",
   "execution_count": 50,
   "metadata": {
    "colab": {
     "base_uri": "https://localhost:8080/",
     "height": 277
    },
    "colab_type": "code",
    "id": "Oi7xW7KfS0TB",
    "outputId": "0c34aedd-1bd9-466d-d69c-b51431252c88"
   },
   "outputs": [
    {
     "name": "stdout",
     "output_type": "stream",
     "text": [
      "(2, 3)\n",
      "(3,)\n",
      "[0 1 2]\n",
      "(3,)\n",
      "[10 12 13]\n",
      "(2, 3)\n",
      "(3,)\n",
      "[100 101 102]\n",
      "(3,)\n",
      "[110 112 113]\n",
      "(2, 3)\n",
      "(3,)\n",
      "[ 1 10 12]\n",
      "(3,)\n",
      "[110 112 113]\n"
     ]
    }
   ],
   "source": [
    "for obj1 in C:\n",
    "  print(obj1.shape)\n",
    "  for obj2 in obj1:\n",
    "    print(obj2.shape)\n",
    "    print(obj2)"
   ]
  },
  {
   "cell_type": "markdown",
   "metadata": {
    "colab_type": "text",
    "id": "20o_D9S1TM1b"
   },
   "source": [
    "## Shape Manipulation"
   ]
  },
  {
   "cell_type": "code",
   "execution_count": 51,
   "metadata": {
    "colab": {
     "base_uri": "https://localhost:8080/",
     "height": 69
    },
    "colab_type": "code",
    "id": "VhxbC7gPTO4m",
    "outputId": "172a04e4-fe8b-4c54-8c79-237d24f7467d"
   },
   "outputs": [
    {
     "data": {
      "text/plain": [
       "array([[3., 0., 9., 5.],\n",
       "       [4., 9., 5., 0.],\n",
       "       [8., 4., 7., 4.]])"
      ]
     },
     "execution_count": 51,
     "metadata": {},
     "output_type": "execute_result"
    }
   ],
   "source": [
    "A = np.floor(10*np.random.random((3,4)))\n",
    "A"
   ]
  },
  {
   "cell_type": "code",
   "execution_count": 52,
   "metadata": {
    "colab": {
     "base_uri": "https://localhost:8080/",
     "height": 35
    },
    "colab_type": "code",
    "id": "tlglk7vHTnHk",
    "outputId": "367b2801-c706-4e61-e609-cd920c600542"
   },
   "outputs": [
    {
     "data": {
      "text/plain": [
       "(3, 4)"
      ]
     },
     "execution_count": 52,
     "metadata": {},
     "output_type": "execute_result"
    }
   ],
   "source": [
    "A.shape"
   ]
  },
  {
   "cell_type": "code",
   "execution_count": 53,
   "metadata": {
    "colab": {
     "base_uri": "https://localhost:8080/",
     "height": 35
    },
    "colab_type": "code",
    "id": "xmWUxABRTqZp",
    "outputId": "5b25db78-ee49-43fe-9975-84f880b58a1f"
   },
   "outputs": [
    {
     "data": {
      "text/plain": [
       "array([3., 0., 9., 5., 4., 9., 5., 0., 8., 4., 7., 4.])"
      ]
     },
     "execution_count": 53,
     "metadata": {},
     "output_type": "execute_result"
    }
   ],
   "source": [
    "A.ravel()"
   ]
  },
  {
   "cell_type": "code",
   "execution_count": 54,
   "metadata": {
    "colab": {
     "base_uri": "https://localhost:8080/",
     "height": 121
    },
    "colab_type": "code",
    "id": "UrNwKdSxTvWR",
    "outputId": "7ba7a012-04ae-4f9d-a853-8e64657036bc"
   },
   "outputs": [
    {
     "data": {
      "text/plain": [
       "array([[3., 0.],\n",
       "       [9., 5.],\n",
       "       [4., 9.],\n",
       "       [5., 0.],\n",
       "       [8., 4.],\n",
       "       [7., 4.]])"
      ]
     },
     "execution_count": 54,
     "metadata": {},
     "output_type": "execute_result"
    }
   ],
   "source": [
    "A = A.reshape(6,2)\n",
    "A"
   ]
  },
  {
   "cell_type": "code",
   "execution_count": 55,
   "metadata": {
    "colab": {
     "base_uri": "https://localhost:8080/",
     "height": 52
    },
    "colab_type": "code",
    "id": "ONUmkLkuT2KE",
    "outputId": "dd88907b-0cf9-48f8-a5ff-4528a3192711"
   },
   "outputs": [
    {
     "data": {
      "text/plain": [
       "array([[3., 9., 4., 5., 8., 7.],\n",
       "       [0., 5., 9., 0., 4., 4.]])"
      ]
     },
     "execution_count": 55,
     "metadata": {},
     "output_type": "execute_result"
    }
   ],
   "source": [
    "A.T"
   ]
  },
  {
   "cell_type": "code",
   "execution_count": 56,
   "metadata": {
    "colab": {
     "base_uri": "https://localhost:8080/",
     "height": 35
    },
    "colab_type": "code",
    "id": "daTe5ciNT5OM",
    "outputId": "a09f76f9-5650-45d7-9519-4eb208ebc8d3"
   },
   "outputs": [
    {
     "data": {
      "text/plain": [
       "(2, 6)"
      ]
     },
     "execution_count": 56,
     "metadata": {},
     "output_type": "execute_result"
    }
   ],
   "source": [
    "A.T.shape"
   ]
  },
  {
   "cell_type": "code",
   "execution_count": 57,
   "metadata": {
    "colab": {
     "base_uri": "https://localhost:8080/",
     "height": 35
    },
    "colab_type": "code",
    "id": "RxMvSX_PUBTu",
    "outputId": "bbd46c55-e455-4d79-b075-f393eba955b6"
   },
   "outputs": [
    {
     "data": {
      "text/plain": [
       "(6, 2)"
      ]
     },
     "execution_count": 57,
     "metadata": {},
     "output_type": "execute_result"
    }
   ],
   "source": [
    "A.shape"
   ]
  },
  {
   "cell_type": "code",
   "execution_count": 58,
   "metadata": {
    "colab": {
     "base_uri": "https://localhost:8080/",
     "height": 208
    },
    "colab_type": "code",
    "id": "GxN03YB6ZWYZ",
    "outputId": "b5410dba-a8c0-49ca-e9b1-69654c6be535"
   },
   "outputs": [
    {
     "name": "stdout",
     "output_type": "stream",
     "text": [
      "[[  1   0   0   0   0   0   0   0   0   0   0]\n",
      " [ 12  13   0   0   0   0   0   0   0   0   0]\n",
      " [ 23  24  25   0   0   0   0   0   0   0   0]\n",
      " [ 34  35  36  37   0   0   0   0   0   0   0]\n",
      " [ 45  46  47  48  49   0   0   0   0   0   0]\n",
      " [ 56  57  58  59  60  61   0   0   0   0   0]\n",
      " [ 67  68  69  70  71  72  73   0   0   0   0]\n",
      " [ 78  79  80  81  82  83  84  85   0   0   0]\n",
      " [ 89  90  91  92  93  94  95  96  97   0   0]\n",
      " [100 101 102 103 104 105 106 107 108 109   0]\n",
      " [111 112 113 114 115 116 117 118 119 120 121]]\n"
     ]
    }
   ],
   "source": [
    "my_arr = np.arange(1,122).reshape(11,11)\n",
    "count = 0\n",
    "for row in my_arr:\n",
    "    row[count+1:] = 0\n",
    "    count += 1\n",
    "print(my_arr)"
   ]
  },
  {
   "cell_type": "code",
   "execution_count": 59,
   "metadata": {
    "colab": {
     "base_uri": "https://localhost:8080/",
     "height": 208
    },
    "colab_type": "code",
    "id": "rX54RSoWq3NU",
    "outputId": "3a769da8-b887-48cd-986e-e80f8f995742"
   },
   "outputs": [
    {
     "name": "stdout",
     "output_type": "stream",
     "text": [
      "[[  1   2   3   4   5   6   7   8   9  10  11]\n",
      " [ 12  13  14  15  16  17  18  19  20  21  22]\n",
      " [ 23  24  25  26  27  28  29  30  31  32  33]\n",
      " [ 34  35  36  37  38  39  40  41  42  43  44]\n",
      " [ 45  46  47   0   0   0   0   0  53  54  55]\n",
      " [ 56  57  58   0   0   0   0   0  64  65  66]\n",
      " [ 67  68  69   0   0   0   0   0  75  76  77]\n",
      " [ 78  79  80   0   0   0   0   0  86  87  88]\n",
      " [ 89  90  91   0   0   0   0   0  97  98  99]\n",
      " [100 101 102 103 104 105 106 107 108 109 110]\n",
      " [111 112 113 114 115 116 117 118 119 120 121]]\n"
     ]
    }
   ],
   "source": [
    "arr = np.arange(1,122).reshape(11,11)\n",
    "arr[4:9,3:8] = 0\n",
    "print(arr)"
   ]
  },
  {
   "cell_type": "markdown",
   "metadata": {
    "colab_type": "text",
    "id": "mOOHNpCaWFaI"
   },
   "source": [
    "## Stacking together different arrays"
   ]
  },
  {
   "cell_type": "code",
   "execution_count": 60,
   "metadata": {
    "colab": {
     "base_uri": "https://localhost:8080/",
     "height": 69
    },
    "colab_type": "code",
    "id": "JL2Cv-6jWG9w",
    "outputId": "6b973d44-a45b-4707-b4b4-5efa56c57851"
   },
   "outputs": [
    {
     "data": {
      "text/plain": [
       "array([[2., 9., 7.],\n",
       "       [8., 3., 7.],\n",
       "       [0., 2., 1.]])"
      ]
     },
     "execution_count": 60,
     "metadata": {},
     "output_type": "execute_result"
    }
   ],
   "source": [
    "a = np.floor(10*np.random.random((3,3)))\n",
    "a"
   ]
  },
  {
   "cell_type": "code",
   "execution_count": 61,
   "metadata": {
    "colab": {
     "base_uri": "https://localhost:8080/",
     "height": 52
    },
    "colab_type": "code",
    "id": "D_VZmFcYWUTG",
    "outputId": "7a6b9ad2-225f-4865-d696-f6fee1466feb"
   },
   "outputs": [
    {
     "data": {
      "text/plain": [
       "array([[0., 9., 7.],\n",
       "       [4., 1., 0.]])"
      ]
     },
     "execution_count": 61,
     "metadata": {},
     "output_type": "execute_result"
    }
   ],
   "source": [
    "b = np.floor(10*np.random.random((2,3)))\n",
    "b"
   ]
  },
  {
   "cell_type": "code",
   "execution_count": 62,
   "metadata": {
    "colab": {
     "base_uri": "https://localhost:8080/",
     "height": 104
    },
    "colab_type": "code",
    "id": "JjIa8thoWb1C",
    "outputId": "aa0ced8a-92c1-4a52-cbc3-93afaa27c901"
   },
   "outputs": [
    {
     "data": {
      "text/plain": [
       "array([[2., 9., 7.],\n",
       "       [8., 3., 7.],\n",
       "       [0., 2., 1.],\n",
       "       [0., 9., 7.],\n",
       "       [4., 1., 0.]])"
      ]
     },
     "execution_count": 62,
     "metadata": {},
     "output_type": "execute_result"
    }
   ],
   "source": [
    "np.vstack((a,b))"
   ]
  },
  {
   "cell_type": "markdown",
   "metadata": {
    "colab_type": "text",
    "id": "TkOoFrS9iyzH"
   },
   "source": [
    "Try HStack on your own."
   ]
  },
  {
   "cell_type": "markdown",
   "metadata": {
    "colab_type": "text",
    "id": "oSQLVT_wWqtZ"
   },
   "source": [
    "## Splitting one array into several"
   ]
  },
  {
   "cell_type": "code",
   "execution_count": 63,
   "metadata": {
    "colab": {
     "base_uri": "https://localhost:8080/",
     "height": 69
    },
    "colab_type": "code",
    "id": "VFJSSlyZWweP",
    "outputId": "f2555c15-3ba3-4f40-f1e4-14a023974c8d"
   },
   "outputs": [
    {
     "data": {
      "text/plain": [
       "array([[9., 0., 6., 0., 4., 3., 5., 0., 9., 5., 1., 4.],\n",
       "       [5., 2., 3., 6., 9., 8., 0., 2., 8., 1., 1., 1.],\n",
       "       [6., 2., 4., 7., 0., 4., 8., 6., 9., 8., 3., 0.]])"
      ]
     },
     "execution_count": 63,
     "metadata": {},
     "output_type": "execute_result"
    }
   ],
   "source": [
    "a = np.floor(10*np.random.random((3,12)))\n",
    "a"
   ]
  },
  {
   "cell_type": "code",
   "execution_count": 64,
   "metadata": {
    "colab": {
     "base_uri": "https://localhost:8080/",
     "height": 139
    },
    "colab_type": "code",
    "id": "9cJcYi4-Z3rw",
    "outputId": "179c0005-b2a1-4426-c285-fe3adbabbe4d"
   },
   "outputs": [
    {
     "data": {
      "text/plain": [
       "[array([[9., 0., 6., 0.],\n",
       "        [5., 2., 3., 6.],\n",
       "        [6., 2., 4., 7.]]),\n",
       " array([[4., 3., 5., 0.],\n",
       "        [9., 8., 0., 2.],\n",
       "        [0., 4., 8., 6.]]),\n",
       " array([[9., 5., 1., 4.],\n",
       "        [8., 1., 1., 1.],\n",
       "        [9., 8., 3., 0.]])]"
      ]
     },
     "execution_count": 64,
     "metadata": {},
     "output_type": "execute_result"
    }
   ],
   "source": [
    "np.hsplit(a,3)"
   ]
  },
  {
   "cell_type": "code",
   "execution_count": 65,
   "metadata": {
    "colab": {
     "base_uri": "https://localhost:8080/",
     "height": 69
    },
    "colab_type": "code",
    "id": "4TVtnZKr9DMX",
    "outputId": "9f853818-0176-451f-c074-4586c5a4d4eb"
   },
   "outputs": [
    {
     "data": {
      "text/plain": [
       "[array([[9., 0., 6., 0., 4., 3., 5., 0., 9., 5., 1., 4.]]),\n",
       " array([[5., 2., 3., 6., 9., 8., 0., 2., 8., 1., 1., 1.]]),\n",
       " array([[6., 2., 4., 7., 0., 4., 8., 6., 9., 8., 3., 0.]])]"
      ]
     },
     "execution_count": 65,
     "metadata": {},
     "output_type": "execute_result"
    }
   ],
   "source": [
    "np.vsplit(a,3) # homework"
   ]
  },
  {
   "cell_type": "markdown",
   "metadata": {
    "colab_type": "text",
    "id": "OZqGoaDff1Vv"
   },
   "source": [
    "## Linear Algebra"
   ]
  },
  {
   "cell_type": "code",
   "execution_count": 66,
   "metadata": {
    "colab": {
     "base_uri": "https://localhost:8080/",
     "height": 52
    },
    "colab_type": "code",
    "id": "e1MD-Hm2f3rz",
    "outputId": "c909ceb5-9e83-492f-885e-2152487b5aea"
   },
   "outputs": [
    {
     "name": "stdout",
     "output_type": "stream",
     "text": [
      "[[3.  2. ]\n",
      " [4.  6.5]]\n"
     ]
    }
   ],
   "source": [
    "a = np.array([[3.0, 2.0], [4.0, 6.5]])\n",
    "print(a)"
   ]
  },
  {
   "cell_type": "code",
   "execution_count": 67,
   "metadata": {
    "colab": {
     "base_uri": "https://localhost:8080/",
     "height": 52
    },
    "colab_type": "code",
    "id": "lD0bpitCgEa7",
    "outputId": "ce283d9a-351b-4b62-e90e-9d2d066eca51"
   },
   "outputs": [
    {
     "data": {
      "text/plain": [
       "array([[3. , 4. ],\n",
       "       [2. , 6.5]])"
      ]
     },
     "execution_count": 67,
     "metadata": {},
     "output_type": "execute_result"
    }
   ],
   "source": [
    "a.transpose()"
   ]
  },
  {
   "cell_type": "code",
   "execution_count": 68,
   "metadata": {
    "colab": {
     "base_uri": "https://localhost:8080/",
     "height": 52
    },
    "colab_type": "code",
    "id": "K7hHVMtvgJPb",
    "outputId": "dc102e67-6d78-43b2-f51c-a512d980bc21"
   },
   "outputs": [
    {
     "data": {
      "text/plain": [
       "array([[ 0.56521739, -0.17391304],\n",
       "       [-0.34782609,  0.26086957]])"
      ]
     },
     "execution_count": 68,
     "metadata": {},
     "output_type": "execute_result"
    }
   ],
   "source": [
    "np.linalg.inv(a)                       #linalg is the package in numpy for Linear algebra operations"
   ]
  },
  {
   "cell_type": "code",
   "execution_count": 69,
   "metadata": {
    "colab": {
     "base_uri": "https://localhost:8080/",
     "height": 104
    },
    "colab_type": "code",
    "id": "GZgx5okcgZA2",
    "outputId": "32461dff-32e3-48b7-aa24-af50ee832a2c"
   },
   "outputs": [
    {
     "data": {
      "text/plain": [
       "array([[1., 0., 0., 0., 0.],\n",
       "       [0., 1., 0., 0., 0.],\n",
       "       [0., 0., 1., 0., 0.],\n",
       "       [0., 0., 0., 1., 0.],\n",
       "       [0., 0., 0., 0., 1.]])"
      ]
     },
     "execution_count": 69,
     "metadata": {},
     "output_type": "execute_result"
    }
   ],
   "source": [
    "u = np.eye(5) #pronounced as I (Identity matrix)\n",
    "u"
   ]
  },
  {
   "cell_type": "markdown",
   "metadata": {
    "colab_type": "text",
    "id": "qTX49Ez31dls"
   },
   "source": [
    "## Advantages of Numpy against list\n",
    "\n",
    "The most important benefits of using it are :\n",
    "\n",
    "1. It consumes less memory.\n",
    "\n",
    "2. It is fast as compared to the python List.\n",
    "\n",
    "3. It is convenient to use.\n",
    "\n",
    "\n",
    "For Python Lists -  We can conclude from this that for every new element, we need another eight bytes for the reference to the new object. The new integer object itself consumes 28 bytes. The size of a list \"lst\" without the size of the elements can be calculated with:\n",
    "\n",
    "64 + 8 * len(lst) + (len(lst) * 28)\n",
    "\n",
    "![alt text](https://webcourses.ucf.edu/courses/1249560/files/64324060/download?verifier=ZSNNql7AkXjfNQuAPKVykvZTiRqAa6LJY4EvPrdr&wrap=1)\n",
    "\n",
    "\n",
    "NumPy takes up less space. This means that an arbitrary integer array of length \"n\" in numpy needs\n",
    "\n",
    "96 + n * 8 Bytes\n",
    "\n",
    "![alt text](https://webcourses.ucf.edu/courses/1249560/files/64324040/download?verifier=V7pAn7JWwOOMUVR8nJ2mpRIfu8MRFGTSZNwUCAlq&wrap=1)"
   ]
  },
  {
   "cell_type": "code",
   "execution_count": 70,
   "metadata": {
    "colab": {
     "base_uri": "https://localhost:8080/",
     "height": 52
    },
    "colab_type": "code",
    "id": "9EXnMwv41cTP",
    "outputId": "8d9d4095-1204-4715-ccc8-51137b6af77d"
   },
   "outputs": [
    {
     "name": "stdout",
     "output_type": "stream",
     "text": [
      "Size of NumPy array:  4000\n",
      "Size of list:  28000\n"
     ]
    }
   ],
   "source": [
    "import numpy as np\n",
    "import time \n",
    "import sys\n",
    "\n",
    "# Creating a NumPy array with 1000 elements\n",
    "array = np.arange(1000)\n",
    "# array.itemsize : Size of one element\n",
    "# array.size : length of array\n",
    "print(\"Size of NumPy array: \", array.itemsize * 1000)\n",
    "\n",
    "# Creating a list with 1000 elements\n",
    "# print the size of list\n",
    "list = range(0, 1000)\n",
    "# Multiplying size of 1 element with length of the list\n",
    "print(\"Size of list: \", sys.getsizeof(1)*len(list))"
   ]
  },
  {
   "cell_type": "code",
   "execution_count": 71,
   "metadata": {
    "colab": {
     "base_uri": "https://localhost:8080/",
     "height": 69
    },
    "colab_type": "code",
    "id": "KlvDNqTK1z6j",
    "outputId": "00a9410c-f679-4c87-cb78-6548d592ee00"
   },
   "outputs": [
    {
     "name": "stdout",
     "output_type": "stream",
     "text": [
      "3.3952503204345703 \n",
      " 0.05900454521179199\n",
      "Numpy in this example is: 57x faster!\n"
     ]
    }
   ],
   "source": [
    "import math\n",
    "size_of_vec = 10000000\n",
    "\n",
    "def pure_python_version():\n",
    "    t1 = time.time()\n",
    "    X = range(size_of_vec)\n",
    "    Y = range(size_of_vec)\n",
    "    Z = [X[i] + Y[i] for i in range(len(X)) ]\n",
    "    return time.time() - t1\n",
    "\n",
    "def numpy_version():\n",
    "    t1 = time.time()\n",
    "    X = np.arange(size_of_vec)\n",
    "    Y = np.arange(size_of_vec)\n",
    "    Z = X + Y\n",
    "    return time.time() - t1\n",
    "\n",
    "\n",
    "t1 = pure_python_version()\n",
    "t2 = numpy_version()\n",
    "print(t1, \"\\n\", t2)\n",
    "print(\"Numpy in this example is: \" + str(math.floor(t1/t2)) + \"x faster!\")"
   ]
  },
  {
   "cell_type": "markdown",
   "metadata": {
    "colab_type": "text",
    "id": "ACKZWCJ9gksn"
   },
   "source": [
    "## Further Reading\n",
    "https://docs.scipy.org/doc/numpy/reference/index.html#reference"
   ]
  }
 ],
 "metadata": {
  "colab": {
   "collapsed_sections": [],
   "name": "1.12 Python NumPy",
   "provenance": []
  },
  "kernelspec": {
   "display_name": "Python 3",
   "language": "python",
   "name": "python3"
  },
  "language_info": {
   "codemirror_mode": {
    "name": "ipython",
    "version": 3
   },
   "file_extension": ".py",
   "mimetype": "text/x-python",
   "name": "python",
   "nbconvert_exporter": "python",
   "pygments_lexer": "ipython3",
   "version": "3.7.6"
  }
 },
 "nbformat": 4,
 "nbformat_minor": 1
}
