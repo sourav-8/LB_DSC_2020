{
 "cells": [
  {
   "cell_type": "markdown",
   "metadata": {
    "colab_type": "text",
    "id": "YzSgy3Eu3aeg"
   },
   "source": [
    "## Probability Assignment\n",
    "\n",
    "\n",
    "You guys can submit either handwritten or typed answers. Please do the maths. Don't just write the answers only.\n",
    "\n",
    "Share your answers to amritansh.48@gmail.com"
   ]
  },
  {
   "cell_type": "markdown",
   "metadata": {
    "colab_type": "text",
    "id": "2MUluzo53hJy"
   },
   "source": [
    "**Q1.** A bag contains 2 red, 3 green and 2 blue balls. Two balls are drawn at random. What is the probability that none of the balls drawn is blue?"
   ]
  },
  {
   "cell_type": "markdown",
   "metadata": {},
   "source": [
    "\n",
    "Probability that none of the balls drawn are blue: 5C2/7C2 = 10/21\n",
    "\n",
    "Alternatively:\n",
    "\n",
    "Probability of getting max two balls blue: 2C2/7C2 + 2C1*5C1/7C2 = 11/21\n",
    "\n",
    "probability that none of the balls drawn is blue = 1 - 11/21 =10/21"
   ]
  },
  {
   "cell_type": "markdown",
   "metadata": {
    "colab_type": "text",
    "id": "8jWhg0kD39wR"
   },
   "source": [
    "**Q2.** \tThree unbiased coins are tossed. What is the probability of getting at most two heads?"
   ]
  },
  {
   "cell_type": "markdown",
   "metadata": {},
   "source": [
    "Probability of getting 2 heads: 2C1 * 2C1 * 2C0/2^3\n",
    "\n",
    "Probability of getting 1 head: 2C1 * 2C0 * 2C0/2^3\n",
    "\n",
    "Probability of getting no heads: 2C0 * 2C0 * 2C0/2^3\n",
    "    \n",
    "The probability of getting at most two heads :\n",
    "    \n",
    "    2C1*2C1*2C0/2^3 + 2C1*2C0*2C0/2^3 + 2C0*2C0*2C0/2^3 = .5+.25+.125 = .875 "
   ]
  },
  {
   "cell_type": "markdown",
   "metadata": {
    "colab_type": "text",
    "id": "BsynqIE77Nie"
   },
   "source": [
    "**Q3.** If two people are drawing out cards randomly from a pack of cards, Whats the probability that person A will draw 2 cards from red suites in sucession. The person A and B draw out cards one by one."
   ]
  },
  {
   "cell_type": "markdown",
   "metadata": {},
   "source": [
    " For drow 1, the probability that person A will draw Red then B will draw Black and then A will draw  from red suites: \n",
    " \n",
    " P(a1) = (26C1/52)*(26C1/51)*(25C1/50) = .12745\n",
    " \n",
    " For drow 2, the probability that person A will draw Red then B will draw Red and then A will draw  from red suites: \n",
    " \n",
    " P(a2) = ()(26C1/52)*(25C1/51)*(24C1/50) = .11764\n",
    " \n",
    " the probability that person A will draw 2 cards from red suites in sucession P(A) = P(a1)+ P(a2)= .2450\n"
   ]
  },
  {
   "cell_type": "markdown",
   "metadata": {
    "colab_type": "text",
    "id": "_wLMRyiZ8NKj"
   },
   "source": [
    "**Q4.** Dennis is playing a game of rock-paper-scissors with Phil. The loser of the game will pay the winner $100.\n",
    "In the game of rock-paper-scissors, each player chooses either rock, paper, or scissors simultaneously. A winner is decided by the following rules: rock beats scissors, scissors beats paper, and paper beats rock. If both players make the same choice, then the game is a tie.\n",
    "Dennis is trying to decide whether to play rock or paper. Based on previous games, he knows that Phil will make his choice according to the probabilities in the table below:\n",
    "\n",
    "\n",
    "---\n",
    "\n",
    "Phil's Choice        :                                                                                Probability\n",
    "\n",
    "---\n",
    "Rock  :  0.5\n",
    "\n",
    "---\n",
    "\n",
    "Paper :  0.2\n",
    "\n",
    "\n",
    "---\n",
    "Scissor : 0.3\n",
    "\n",
    "\n",
    "\n",
    "\n",
    "\n",
    "\n",
    "---\n",
    "\n",
    "\n",
    "\n",
    "a)\tWhat are Dennis's expected winnings if he chooses rock? Round your answer to the nearest dollar.\n",
    "\n",
    "b)\tWhat are Dennis's expected winnings if he chooses paper? Round your answer to the nearest dollar.\n",
    "\n",
    "c)\tIf Dennis wants the best payoff in the long run, he should choose: Rock, Paper, Scissor?\n",
    "\n"
   ]
  },
  {
   "cell_type": "markdown",
   "metadata": {},
   "source": [
    "The probable outcome of rock, paper scissors = 9\n",
    "\n",
    "The probability of win = 3/9= .333\n",
    "\n",
    "The probability of loss = 3/9= .333\n",
    "\n",
    "The probability of tie = 3/9= .333\n",
    "\n",
    "a) if Dennis's chooses rock then on bais of Phil's Choice probability the, \n",
    "\n",
    "Dennis's probability of:\n",
    "\n",
    "win: .3\n",
    "\n",
    "Tie: .5\n",
    "\n",
    "loss: .2\n",
    "\n",
    "The derived probability of win (Bay's Theorem)= .333*.3/(.333*.3+.333*.5+.333*.2)=.3\n",
    "\n",
    "So, the Dinnis may win .3*100 = 30 $\n",
    "\n",
    "b) if Dennis's chooses paper then on bais of Phil's Choice probability the, \n",
    "\n",
    "Dennis's probability of:\n",
    "\n",
    "win: .5\n",
    "\n",
    "Tie: .2\n",
    "\n",
    "loss: .3\n",
    "\n",
    "The derived probability of win (Bay's Theorem) = .333*.5/(.333*.3+.333*.5+.333*.2)=.5\n",
    "\n",
    "So, the Dinnis may win .5*100 = 50 $\n",
    "\n",
    "c) Since the probability of win if Dennis's chooses paper is highest, it will be his option for best payoff."
   ]
  },
  {
   "cell_type": "markdown",
   "metadata": {
    "colab_type": "text",
    "id": "ToIViPgN4F6w"
   },
   "source": [
    "**Q5**. Assuming a normal distribution of a people's height in cm: Given mean = 161.2 cm and variance = 144.8 cm^2. What is the probability that a random person selected will have height greater than 179 cm. You can refer this graph for calulations.\n",
    "\n",
    "![normal_curve](https://mathbitsnotebook.com/Algebra2/Statistics/normalstandard.jpg)"
   ]
  },
  {
   "cell_type": "markdown",
   "metadata": {},
   "source": [
    "The mean is: 161.2 cm\n",
    "    \n",
    "variance = 144.8 cm^2.\n",
    "\n",
    "Thus Standerd Derivation: SQRT(144.8) = 12.033 cm\n",
    "\n",
    "A person selected having height  179 cm falls under 1.5 SD (179.24 cm) means 86.6% pf the area of the curve.\n",
    "\n",
    "The probability that a random person selected will have height greater than 179 cm is (100-86.4)= 13.6%\n",
    "    \n",
    "    "
   ]
  },
  {
   "cell_type": "markdown",
   "metadata": {
    "colab_type": "text",
    "id": "INmG_zvjXR3B"
   },
   "source": [
    "**Q6.** Find Mode in all of the following data points (use python functions to calculate):\n",
    "\n",
    "  a) 12, 8, 4, 8, 1, 8, 9, 11, 9, 10, 12, 8\n",
    "  \n",
    "  b) 15, 22, 17, 19, 22, 17, 29, 24, 17, 15\n",
    "  \n",
    "  c) 0, 3, 2, 1, 3, 5, 4, 3, 42, 1, 2, 0\n",
    "  \n",
    "  d) 1, 7, 2, 4, 5, 9, 8, 3"
   ]
  },
  {
   "cell_type": "code",
   "execution_count": 23,
   "metadata": {},
   "outputs": [
    {
     "name": "stdout",
     "output_type": "stream",
     "text": [
      "8\n",
      "17\n",
      "3\n"
     ]
    }
   ],
   "source": [
    "import statistics\n",
    "\n",
    "print(statistics.mode([12, 8, 4, 8, 1, 8, 9, 11, 9, 10, 12, 8]))\n",
    "# 8\n",
    "print(statistics.mode([15, 22, 17, 19, 22, 17, 29, 24, 17, 15]))\n",
    "# 17\n",
    "print(statistics.mode([0, 3, 2, 1, 3, 5, 4, 3, 42, 1, 2, 0]))\n",
    "# 3\n",
    "# print(statistics.mode([1, 7, 2, 4, 5, 9, 8, 3])) \n",
    "\n",
    "# showing error as no unique mode"
   ]
  },
  {
   "cell_type": "markdown",
   "metadata": {
    "colab_type": "text",
    "id": "1RbusyJ1XoWj"
   },
   "source": [
    "**Q7**. The runs scored in a cricket match by 11 players is as follows:\n",
    "\n",
    "7, 16, 121, 51, 101, 81, 1, 16, 9, 11, 16\n",
    "\n",
    "Find the mean, mode, median of this data."
   ]
  },
  {
   "cell_type": "code",
   "execution_count": 24,
   "metadata": {},
   "outputs": [
    {
     "name": "stdout",
     "output_type": "stream",
     "text": [
      "39.09090909090909\n",
      "16\n",
      "16\n"
     ]
    }
   ],
   "source": [
    "run = [7, 16, 121, 51, 101, 81, 1, 16, 9, 11, 16]\n",
    "print(statistics.mean(run))\n",
    "print(statistics.mode(run))\n",
    "print(statistics.median(run))"
   ]
  },
  {
   "cell_type": "markdown",
   "metadata": {
    "colab_type": "text",
    "id": "X6D8ooEuXv7a"
   },
   "source": [
    "**Q8**.  Find the median and mean of the following data.\n",
    "\n",
    "(a) 27, 39, 49, 20, 21, 28, 38\n",
    "\n",
    "(b) 10, 19, 54, 80, 15, 16\n",
    "\n",
    "(c) 47, 41, 52, 43, 56, 35, 49, 55, 42\n",
    "\n",
    "(d) 12, 17, 3, 14, 5, 8, 7, 15"
   ]
  },
  {
   "cell_type": "markdown",
   "metadata": {},
   "source": [
    "\n"
   ]
  },
  {
   "cell_type": "code",
   "execution_count": 25,
   "metadata": {},
   "outputs": [
    {
     "name": "stdout",
     "output_type": "stream",
     "text": [
      "28\n",
      "31.714285714285715\n",
      "17.5\n",
      "32.333333333333336\n",
      "47\n",
      "46.666666666666664\n",
      "10.0\n",
      "10.125\n"
     ]
    }
   ],
   "source": [
    "print(statistics.median([27, 39, 49, 20, 21, 28, 38]))\n",
    "print(statistics.mean([27, 39, 49, 20, 21, 28, 38]))\n",
    "\n",
    "print(statistics.median([10, 19, 54, 80, 15, 16]))\n",
    "print(statistics.mean([10, 19, 54, 80, 15, 16]))\n",
    "\n",
    "print(statistics.median([47, 41, 52, 43, 56, 35, 49, 55, 42]))\n",
    "print(statistics.mean([47, 41, 52, 43, 56, 35, 49, 55, 42]))\n",
    "\n",
    "print(statistics.median([12, 17, 3, 14, 5, 8, 7, 15]))\n",
    "print(statistics.mean([12, 17, 3, 14, 5, 8, 7, 15]))"
   ]
  },
  {
   "cell_type": "code",
   "execution_count": null,
   "metadata": {},
   "outputs": [],
   "source": []
  },
  {
   "cell_type": "code",
   "execution_count": null,
   "metadata": {},
   "outputs": [],
   "source": []
  },
  {
   "cell_type": "code",
   "execution_count": null,
   "metadata": {},
   "outputs": [],
   "source": []
  },
  {
   "cell_type": "code",
   "execution_count": null,
   "metadata": {},
   "outputs": [],
   "source": []
  },
  {
   "cell_type": "code",
   "execution_count": null,
   "metadata": {},
   "outputs": [],
   "source": []
  },
  {
   "cell_type": "code",
   "execution_count": null,
   "metadata": {},
   "outputs": [],
   "source": []
  },
  {
   "cell_type": "code",
   "execution_count": null,
   "metadata": {},
   "outputs": [],
   "source": []
  },
  {
   "cell_type": "code",
   "execution_count": null,
   "metadata": {},
   "outputs": [],
   "source": []
  },
  {
   "cell_type": "code",
   "execution_count": null,
   "metadata": {},
   "outputs": [],
   "source": []
  }
 ],
 "metadata": {
  "colab": {
   "collapsed_sections": [],
   "name": "Probability Assignment",
   "provenance": []
  },
  "kernelspec": {
   "display_name": "Python 3",
   "language": "python",
   "name": "python3"
  },
  "language_info": {
   "codemirror_mode": {
    "name": "ipython",
    "version": 3
   },
   "file_extension": ".py",
   "mimetype": "text/x-python",
   "name": "python",
   "nbconvert_exporter": "python",
   "pygments_lexer": "ipython3",
   "version": "3.7.6"
  }
 },
 "nbformat": 4,
 "nbformat_minor": 1
}
