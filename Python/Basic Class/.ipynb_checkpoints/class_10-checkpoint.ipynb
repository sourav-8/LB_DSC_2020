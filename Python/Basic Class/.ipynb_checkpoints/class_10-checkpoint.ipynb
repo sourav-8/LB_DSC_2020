{
 "cells": [
  {
   "cell_type": "code",
   "execution_count": null,
   "metadata": {},
   "outputs": [],
   "source": [
    "# give me 2 mins, will start at 08:03\n",
    "# Generators, Modules, importing a module, Regular expression"
   ]
  },
  {
   "cell_type": "code",
   "execution_count": 16,
   "metadata": {},
   "outputs": [
    {
     "name": "stdout",
     "output_type": "stream",
     "text": [
      "11\n",
      "22\n",
      "12\n",
      "24\n",
      "13\n",
      "26\n",
      "14\n",
      "28\n",
      "15\n",
      "30\n",
      "16\n",
      "32\n",
      "17\n",
      "34\n",
      "18\n",
      "36\n",
      "19\n",
      "38\n"
     ]
    }
   ],
   "source": [
    "# # Generators is a seq - yield - similar to return statement\n",
    "# def f1():\n",
    "#     return 10\n",
    "# print(f1())\n",
    "\n",
    "def my_gen(lst):\n",
    "    for i in lst:\n",
    "        yield i\n",
    "        yield i*2\n",
    "g = my_gen([11,12,13,14,15,16,17,18,19])\n",
    "lst = [11,12,13,14,15,16,17,18,19]\n",
    "# print(list(g))\n",
    "# print(next(g))\n",
    "# print(next(g))\n",
    "# print(next(g))\n",
    "# print(next(g))\n",
    "# print(next(g))\n",
    "# print(next(g))\n",
    "# print(next(g))\n",
    "# print(next(g))\n",
    "# print(next(g))\n",
    "# print(next(g))\n",
    "# print(next(g))\n",
    "# print(next(g))\n",
    "# print(next(g))\n",
    "# print(next(g))\n",
    "# print(next(g))\n",
    "# print(next(g))    \n",
    "# print(next(g))\n",
    "# print(next(g))\n",
    "# print(next(g))\n",
    "# for i in range(len(lst)*2):\n",
    "#     print(next(g))\n",
    "for i in g:\n",
    "    print(i)"
   ]
  },
  {
   "cell_type": "code",
   "execution_count": null,
   "metadata": {},
   "outputs": [],
   "source": [
    "# lst = 10, tuple, string - __iter__\n",
    "# for i in lst:\n",
    "#     next()"
   ]
  },
  {
   "cell_type": "code",
   "execution_count": 17,
   "metadata": {},
   "outputs": [
    {
     "name": "stdout",
     "output_type": "stream",
     "text": [
      "0\n",
      "1\n",
      "2\n",
      "3\n",
      "4\n",
      "5\n",
      "6\n",
      "7\n",
      "8\n",
      "9\n"
     ]
    }
   ],
   "source": [
    "def my_gen(start, stop):\n",
    "    i = start\n",
    "    while i<stop:\n",
    "        yield i\n",
    "        i+=1\n",
    "g = my_gen(0, 10)\n",
    "\n",
    "for i in g:\n",
    "    print(i)"
   ]
  },
  {
   "cell_type": "code",
   "execution_count": 18,
   "metadata": {},
   "outputs": [
    {
     "name": "stdout",
     "output_type": "stream",
     "text": [
      "<generator object <genexpr> at 0x107f7e6d8>\n"
     ]
    }
   ],
   "source": [
    "tpl = (i*i for i in range(10))\n",
    "print(tpl)\n",
    "\n",
    "\"pdb\""
   ]
  },
  {
   "cell_type": "code",
   "execution_count": null,
   "metadata": {},
   "outputs": [],
   "source": [
    "# list - they allocate the memory for the object immediately\n",
    "# list(range(1000000000000000000000000000000000000000000000000000000000000000))\n",
    "for i in range(1000000000000000000000000000000000000000000000000000000000000000):\n",
    "    print(i)"
   ]
  },
  {
   "cell_type": "code",
   "execution_count": 23,
   "metadata": {},
   "outputs": [
    {
     "data": {
      "text/plain": [
       "2.0"
      ]
     },
     "execution_count": 23,
     "metadata": {},
     "output_type": "execute_result"
    }
   ],
   "source": [
    "import math\n",
    "math.sqrt(4)"
   ]
  },
  {
   "cell_type": "code",
   "execution_count": 1,
   "metadata": {},
   "outputs": [
    {
     "name": "stdout",
     "output_type": "stream",
     "text": [
      "__main__\n"
     ]
    }
   ],
   "source": [
    "# print(__name__)\n",
    "# \n",
    "\n"
   ]
  },
  {
   "cell_type": "code",
   "execution_count": 2,
   "metadata": {},
   "outputs": [
    {
     "name": "stdout",
     "output_type": "stream",
     "text": [
      "my_mod\n"
     ]
    }
   ],
   "source": [
    "# import my_mod"
   ]
  },
  {
   "cell_type": "code",
   "execution_count": 5,
   "metadata": {},
   "outputs": [
    {
     "name": "stdout",
     "output_type": "stream",
     "text": [
      "2.0\n"
     ]
    }
   ],
   "source": [
    "# import math\n",
    "# # print(dir())\n",
    "# # print(dir(math))\n",
    "# print(math.sqrt(4))"
   ]
  },
  {
   "cell_type": "code",
   "execution_count": 2,
   "metadata": {},
   "outputs": [
    {
     "name": "stdout",
     "output_type": "stream",
     "text": [
      "2.0\n"
     ]
    }
   ],
   "source": [
    "# from math import *\n",
    "# # print(dir())\n",
    "# print(sqrt(4))"
   ]
  },
  {
   "cell_type": "code",
   "execution_count": 5,
   "metadata": {},
   "outputs": [],
   "source": [
    "# from math import sqrt\n",
    "# # print(dir())\n",
    "# print(sqrt(4))\n",
    "# print(math.pi)"
   ]
  },
  {
   "cell_type": "code",
   "execution_count": 3,
   "metadata": {},
   "outputs": [
    {
     "name": "stdout",
     "output_type": "stream",
     "text": [
      "3.141592653589793\n"
     ]
    }
   ],
   "source": [
    "# import math as m\n",
    "# # print(dir())\n",
    "# print(m.pi)"
   ]
  },
  {
   "cell_type": "code",
   "execution_count": null,
   "metadata": {},
   "outputs": [],
   "source": [
    "# from math import sqrt as s"
   ]
  },
  {
   "cell_type": "code",
   "execution_count": 4,
   "metadata": {},
   "outputs": [
    {
     "name": "stdout",
     "output_type": "stream",
     "text": [
      "['In', 'Out', '_', '__', '___', '__builtin__', '__builtins__', '__doc__', '__loader__', '__name__', '__package__', '__spec__', '_dh', '_i', '_i1', '_i2', '_i3', '_i4', '_ih', '_ii', '_iii', '_oh', 'exit', 'get_ipython', 'm', 'quit', 'sin', 'sqrt', 'tan']\n"
     ]
    }
   ],
   "source": [
    "from math import sqrt, tan, sin\n",
    "print(dir())"
   ]
  },
  {
   "cell_type": "code",
   "execution_count": null,
   "metadata": {},
   "outputs": [],
   "source": [
    "from math import sqrt as s, tan as t, sin as si"
   ]
  },
  {
   "cell_type": "markdown",
   "metadata": {},
   "source": [
    "# Regular Expression"
   ]
  },
  {
   "cell_type": "code",
   "execution_count": 28,
   "metadata": {},
   "outputs": [
    {
     "name": "stdout",
     "output_type": "stream",
     "text": [
      "This is Python \n",
      "class\n",
      "This is Python \\nclass\n"
     ]
    }
   ],
   "source": [
    "# s = 'cat mat can bat cup mad cpu'\n",
    "# reg = r\"c\\w\\w\"\n",
    "\n",
    "#Whether strng is starting with given pattern - match - group()\n",
    "# import re\n",
    "# res = re.match(reg, s)\n",
    "# print(res)\n",
    "# print(res.group())\n",
    "\n",
    "# if it is not matched then it will return None and then group method shouldnotbe applied\n",
    "# s = 'cat mat can bat cup mad cpu'\n",
    "# reg = r\"m\\w\\w\"\n",
    "# import re\n",
    "# res = re.match(reg, s)\n",
    "# print(res)\n",
    "# # print(res.group())\n",
    "\n",
    "\n",
    "# Whethre string has the given pattern then return the first occurence of the matched object - search - group()\n",
    "# s = 'cat mat can bat cup mad cpu'\n",
    "# reg = r\"m\\w\\w\"\n",
    "# import re\n",
    "# res = re.search(reg, s)\n",
    "# print(res)\n",
    "# print(res.group())\n",
    "\n",
    "# If the match is not found using search method\n",
    "# s = 'cat mat can bat cup mad cpu'\n",
    "# reg = r\"m\\w\\w\"\n",
    "# import re\n",
    "# res = re.search(reg, s)\n",
    "# print(res)\n",
    "# print(res.group())\n",
    "# if res == None:\n",
    "#     print('Pattern did not match')\n",
    "# else:\n",
    "#     print(res.group())\n",
    "\n",
    "# if you want to find the occurenece of all the matched pattern - findall  - list\n",
    "# s = 'cat mat can bat cup mad cpu'\n",
    "# reg = r\"c\\w\\w\"\n",
    "# import re\n",
    "# res = re.findall(reg, s)\n",
    "# print(res)\n",
    "# print(res.group())\n",
    "\n",
    "# If the matched object ois not there then it will return me the empty list\n",
    "# s = 'cat mat can bat cup mad cpu'\n",
    "# reg = r\"t\\w\\w\"\n",
    "# import re\n",
    "# res = re.findall(reg, s)\n",
    "# print(res)\n",
    "# # print(res.group())\n",
    "\n",
    "# split a string based on some pattern - split - list\n",
    "# s = 'cat mat can bat cup mad cpu'\n",
    "# reg = r\"\\bm\\w\\w\\b\\Z\"\n",
    "# import re\n",
    "# res = re.split(reg, s)\n",
    "# print(res)\n",
    "# # print(res.group())\n",
    "\n",
    "\n",
    "# substitute - for substituting the given pattern in the string with new string - string\n",
    "# s = 'cat mat can bat cup mad cpu'\n",
    "# reg = r\"\\Am\\w\\w*\"\n",
    "# import re\n",
    "# res = re.sub(reg, 'new', s)\n",
    "# print(res)\n",
    "\n",
    "\n",
    "# s = 'This is Python \\nclass'\n",
    "# print(s)\n",
    "\n",
    "# s = r'This is Python \\nclass'\n",
    "# print(s)"
   ]
  },
  {
   "cell_type": "code",
   "execution_count": null,
   "metadata": {},
   "outputs": [],
   "source": [
    "Sequence characters in regular expression:-\n",
    "    1. \\d - any digit from 0 to 9\n",
    "    2. \\D - any non-digit - alphabets, special char\n",
    "    3. \\s - white space e.g.:- \\t,\\n,\\r,\\v,\\f\n",
    "    4. \\S - non white space character\n",
    "    5. \\w - any alphanumeric character e.g.:- (A to Z, a to z, 0 to 9)\n",
    "    6. \\W - any non alphanumeric character\n",
    "    7. \\b - represents a space around words\n",
    "    8. \\A - matches only at the start of the string\n",
    "    9. \\Z - matches only at the end of the string"
   ]
  },
  {
   "cell_type": "code",
   "execution_count": null,
   "metadata": {},
   "outputs": [],
   "source": [
    "Characters represents more than one character to be matched in the string is called Quantifiers.\n",
    "    1. + - represents 1 or more repetitions of the preceding regex exp\n",
    "    2. * - 0 or more repetitions of the preceding regex exp\n",
    "    3. ? - 0 or 1 repetitions of the preceding regex exp\n",
    "    4. {m} - exactly m occurences\n",
    "    5. {m,n} - from m to n. m defaults to 0 n to infinity."
   ]
  },
  {
   "cell_type": "code",
   "execution_count": null,
   "metadata": {},
   "outputs": [],
   "source": [
    "Special Characters in regex:-\n",
    "    1. \\ - Escape special character\n",
    "    2. . - matches any character except new line\n",
    "    3. ^ - matches begining of the string\n",
    "    4. $ - matches ending of a string\n",
    "    5. [...] - Denotes set of possible charcaters. e.g. [6p-t]matches any characters from 6,p,q,r,s or t.\n",
    "    6. [^...] - Matches every characters except the ones inside brackets. e.g [^6p-t]matches every characters\n",
    "    except 6,p,q,r,s or t.\n",
    "    7. (...) - Matches the regular expression inside the parenthesis and the result can be captured.\n",
    "    8. R|S - Matches the regex either R or S."
   ]
  },
  {
   "cell_type": "code",
   "execution_count": null,
   "metadata": {},
   "outputs": [],
   "source": [
    "File handling & Exception handling"
   ]
  },
  {
   "cell_type": "code",
   "execution_count": null,
   "metadata": {},
   "outputs": [],
   "source": []
  },
  {
   "cell_type": "code",
   "execution_count": null,
   "metadata": {},
   "outputs": [],
   "source": []
  },
  {
   "cell_type": "code",
   "execution_count": null,
   "metadata": {},
   "outputs": [],
   "source": []
  },
  {
   "cell_type": "code",
   "execution_count": null,
   "metadata": {},
   "outputs": [],
   "source": []
  },
  {
   "cell_type": "code",
   "execution_count": null,
   "metadata": {},
   "outputs": [],
   "source": []
  },
  {
   "cell_type": "code",
   "execution_count": null,
   "metadata": {},
   "outputs": [],
   "source": []
  },
  {
   "cell_type": "code",
   "execution_count": null,
   "metadata": {},
   "outputs": [],
   "source": []
  },
  {
   "cell_type": "code",
   "execution_count": null,
   "metadata": {},
   "outputs": [],
   "source": []
  },
  {
   "cell_type": "code",
   "execution_count": null,
   "metadata": {},
   "outputs": [],
   "source": []
  },
  {
   "cell_type": "code",
   "execution_count": null,
   "metadata": {},
   "outputs": [],
   "source": []
  },
  {
   "cell_type": "code",
   "execution_count": null,
   "metadata": {},
   "outputs": [],
   "source": []
  },
  {
   "cell_type": "code",
   "execution_count": null,
   "metadata": {},
   "outputs": [],
   "source": []
  },
  {
   "cell_type": "code",
   "execution_count": null,
   "metadata": {},
   "outputs": [],
   "source": []
  }
 ],
 "metadata": {
  "kernelspec": {
   "display_name": "Python 3",
   "language": "python",
   "name": "python3"
  },
  "language_info": {
   "codemirror_mode": {
    "name": "ipython",
    "version": 3
   },
   "file_extension": ".py",
   "mimetype": "text/x-python",
   "name": "python",
   "nbconvert_exporter": "python",
   "pygments_lexer": "ipython3",
   "version": "3.7.6"
  }
 },
 "nbformat": 4,
 "nbformat_minor": 2
}
