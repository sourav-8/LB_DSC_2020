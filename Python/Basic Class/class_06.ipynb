{
 "cells": [
  {
   "cell_type": "code",
   "execution_count": 16,
   "metadata": {},
   "outputs": [
    {
     "name": "stdout",
     "output_type": "stream",
     "text": [
      "['peter', 'piper', 'picked', 'a', 'peck', 'of', 'pickled', 'peppers']\n"
     ]
    }
   ],
   "source": [
    "#Write a python program to find below output using loop:-\n",
    "\n",
    "#Input:- 'peter piper picked a peck of pickled peppers.'\n",
    "#Output:- ['peter', 'piper', 'picked', 'a', 'peck', 'of', 'pickled', 'peppers']\n",
    "\n",
    "s = 'peter piper picked a peck of pickled peppers.'\n",
    "out_lst = []\n",
    "out_str = ''\n",
    "for i in s:\n",
    "    if i == \" \" or i == '.':\n",
    "        out_lst.append(out_str)\n",
    "        out_str = ''\n",
    "    else:\n",
    "        out_str += i\n",
    "print(out_lst)"
   ]
  },
  {
   "cell_type": "code",
   "execution_count": 11,
   "metadata": {},
   "outputs": [
    {
     "name": "stdout",
     "output_type": "stream",
     "text": [
      ".sreppep delkcip fo kcep a dekcip repip retep\n"
     ]
    }
   ],
   "source": [
    "#Write a python program to find below output using loop:-\n",
    "\n",
    "#Input:- 'peter piper picked a peck of pickled peppers.'\n",
    "#Output:- '.sreppep delkcip fo kcep a dekcip repip retep'\n",
    "\n",
    "my_str = 'peter piper picked a peck of pickled peppers.'\n",
    "out_str = ''\n",
    "ind = -1\n",
    "while ind >= -(len(my_str)):\n",
    "    out_str += my_str[ind]\n",
    "    ind -= 1\n",
    "print(out_str)\n",
    "    "
   ]
  },
  {
   "cell_type": "markdown",
   "metadata": {},
   "source": [
    "# string"
   ]
  },
  {
   "cell_type": "code",
   "execution_count": 13,
   "metadata": {},
   "outputs": [
    {
     "name": "stdout",
     "output_type": "stream",
     "text": [
      "Python\n",
      "Type:  <class 'str'>\n",
      "Id:  4551612600\n",
      "<class 'str'>\n"
     ]
    }
   ],
   "source": [
    "# String is a combnation of characters kept inside single quotation, double quotation or teiple quotation.\n",
    "s = 'Python'\n",
    "print(s)\n",
    "print('Type: ', type(s))\n",
    "print(\"Id: \", id(s))\n",
    "# print(help(str))\n",
    "# print(dir(str))\n",
    "\n",
    "#  'center', 'encode', 'expandtabs',  'format', 'format_map', \n",
    "# 'ljust', 'maketrans', 'partition', \n",
    "# 'rjust', 'rpartition', 'splitlines', \n",
    "# 'translate', , 'zfill'\n",
    "\n",
    "#There is no concept of character - is a string with single element\n",
    "a = 'A'\n",
    "print(type(a))"
   ]
  },
  {
   "cell_type": "code",
   "execution_count": 3,
   "metadata": {},
   "outputs": [
    {
     "name": "stdout",
     "output_type": "stream",
     "text": [
      "P <class 'str'>\n",
      "False\n",
      "True\n",
      "True\n"
     ]
    }
   ],
   "source": [
    "# String is a sequence - positive and negative indexing(Accessing one single element) both and we can also do slicing(Accessing multiple elements)\n",
    "# LEngth of string - print(len(s2))\n",
    "s = 'Python'\n",
    "s1 = 'Python'\n",
    "\n",
    "# Python\n",
    "\n",
    "# print(s)\n",
    "print(s[0], type(s[0]))\n",
    "\n",
    "# print(s is s1)\n",
    "# print(s[0] is s1[0])\n",
    "\n",
    "\n",
    "s2 = 'Python is easy'\n",
    "s3 = 'Python is easy'\n",
    "print(s2 is s3)\n",
    "print(s2[0] is s3[0])\n",
    "print(s2[6]is s3[6])\n",
    "\n",
    "\n",
    "\n",
    "# s1 = 'a '\n",
    "# s2 = 'a '\n",
    "# print(s1 is s2)\n",
    "\n",
    "# s1 = \"P \"\n",
    "# print(s2[0] is s1[0])"
   ]
  },
  {
   "cell_type": "code",
   "execution_count": 63,
   "metadata": {},
   "outputs": [
    {
     "name": "stdout",
     "output_type": "stream",
     "text": [
      "True\n",
      "True\n",
      "True\n",
      "False\n",
      "True\n",
      "True\n"
     ]
    }
   ],
   "source": [
    "# 'isalnum', 'isalpha', 'isascii', 'isdecimal', 'isdigit', 'isidentifier', 'islower', 'isnumeric', \n",
    "# 'isprintable', 'isspace', 'istitle', 'isupper',\n",
    "\n",
    "# Return boolean value - True or False\n",
    "\n",
    "s = 'Python'\n",
    "s1 = 'Python9'\n",
    "s2 = '87364872543'\n",
    "s3 = 'Python$'\n",
    "s4 = 'Python$ 98'\n",
    "s5 = 'python'\n",
    "s6 = 'PYTHON'\n",
    "\n",
    "# To check given string is alphanumeric or not\n",
    "# print(s.isalnum(), s1.isalnum(), s2.isalnum())\n",
    "# print(s3.isalnum(), s4.isalnum())\n",
    "\n",
    "# To check given string is alphabet or not\n",
    "# print(s.isalpha(), s1.isalpha(), s2.isalpha())\n",
    "\n",
    "# To check given string is alphabet or not\n",
    "# print(s.isascii())\n",
    "# print('Fluß'.isascii())\n",
    "\n",
    "# 'isdecimal', 'isdigit', 'isnumeric', \n",
    "# print(s2.isdigit(), s1.isdigit())  # Roman Numerals, fraction or cyrrencies symbols are not digits\n",
    "# print('\\u00BC'.isdigit())\n",
    "\n",
    "# isdecimal()\n",
    "# print('\\u00BC'.isnumeric())   # # Roman Numerals, fraction, unicode numbers are considered as numeral\n",
    "# print(s2.isnumeric())\n",
    "\n",
    "# # decimal()\n",
    "# print('1234'.isdecimal())\n",
    "# print('12 34'.isdecimal())\n",
    "\n",
    "# TO check an identifier is a valid identifier or not\n",
    "# print('abc'.isidentifier())\n",
    "# print('abc$'.isidentifier())\n",
    "\n",
    "# islower and isupper and istitle\n",
    "# print(s5.islower(), s6.islower())\n",
    "# print(s5.isupper(), s6.isupper())\n",
    "# # istitle - checks whether first charcater of theevery word in the string is in capital case\n",
    "# print(s5.istitle())\n",
    "# print(s6.istitle())\n",
    "# print(s.istitle()) \n",
    "\n",
    "# isspace()\n",
    "# print(' '.isspace())\n",
    "# print('\\n'.isspace())\n",
    "# print('\\t'.isspace())\n",
    "\n",
    "\n",
    "# isprintable()\n",
    "s = 'This is Python \\nclass'\n",
    "rs = r'This is Python \\nclass'\n",
    "# print(s)\n",
    "# print(rs)\n",
    "# print(s.isprintable())\n",
    "# print(rs.isprintable())\n",
    "\n",
    "\n",
    "\n",
    "# startswith(), endswith() - Boolean value\n",
    "s = 'This is Python class'\n",
    "print(s.startswith('T'))\n",
    "print(s.startswith('This'))\n",
    "print(s.startswith('Py', 8))\n",
    "print(s.startswith('Pn', 8))\n",
    "\n",
    "print(s.endswith('ss'))\n",
    "print(s.endswith('n', 8, 14)"
   ]
  },
  {
   "cell_type": "code",
   "execution_count": 69,
   "metadata": {},
   "outputs": [
    {
     "name": "stdout",
     "output_type": "stream",
     "text": [
      "Peter piper picked a peck of pickled peppers.\n",
      "Peter Piper Picked A Peck Of Pickled Peppers.\n",
      "der fluß\n",
      "der fluss\n",
      "PETER PIPER PICKED A PECK OF PICKLED PEPPERS.\n",
      "pETER pIPER pICKED a pECK oF pICKLED pEPPERS.\n"
     ]
    }
   ],
   "source": [
    "\n",
    "\n",
    "# 'capitalize', 'casefold', 'lower','swapcase', 'title', 'upper'\n",
    "\n",
    "# Capitalizes the first character of the string\n",
    "s = 'peter piper picked a peck of pickled peppers.'\n",
    "print(s.capitalize())\n",
    "print(s.title())\n",
    "\n",
    "# casefole and lower - used to convert all the letters in lower case but casefold works more aggressively\n",
    "print('der Fluß'.lower())\n",
    "print('der Fluß'.casefold())\n",
    "\n",
    "print(s.upper())\n",
    "print(s.title().swapcase())"
   ]
  },
  {
   "cell_type": "code",
   "execution_count": 85,
   "metadata": {},
   "outputs": [
    {
     "name": "stdout",
     "output_type": "stream",
     "text": [
      "0\n",
      "6\n",
      "-1\n",
      "12\n",
      "44\n",
      "0\n",
      "6\n",
      "12\n",
      "44\n"
     ]
    },
    {
     "ename": "ValueError",
     "evalue": "substring not found",
     "output_type": "error",
     "traceback": [
      "\u001b[0;31m---------------------------------------------------------------------------\u001b[0m",
      "\u001b[0;31mValueError\u001b[0m                                Traceback (most recent call last)",
      "\u001b[0;32m<ipython-input-85-3a53c636564a>\u001b[0m in \u001b[0;36m<module>\u001b[0;34m\u001b[0m\n\u001b[1;32m     25\u001b[0m \u001b[0mprint\u001b[0m\u001b[0;34m(\u001b[0m\u001b[0ms\u001b[0m\u001b[0;34m.\u001b[0m\u001b[0mindex\u001b[0m\u001b[0;34m(\u001b[0m\u001b[0;34m'p'\u001b[0m\u001b[0;34m,\u001b[0m \u001b[0;36m10\u001b[0m\u001b[0;34m,\u001b[0m \u001b[0;36m19\u001b[0m\u001b[0;34m)\u001b[0m\u001b[0;34m)\u001b[0m\u001b[0;34m\u001b[0m\u001b[0;34m\u001b[0m\u001b[0m\n\u001b[1;32m     26\u001b[0m \u001b[0mprint\u001b[0m\u001b[0;34m(\u001b[0m\u001b[0ms\u001b[0m\u001b[0;34m.\u001b[0m\u001b[0mrindex\u001b[0m\u001b[0;34m(\u001b[0m\u001b[0;34m'.'\u001b[0m\u001b[0;34m)\u001b[0m\u001b[0;34m)\u001b[0m\u001b[0;34m\u001b[0m\u001b[0;34m\u001b[0m\u001b[0m\n\u001b[0;32m---> 27\u001b[0;31m \u001b[0mprint\u001b[0m\u001b[0;34m(\u001b[0m\u001b[0ms\u001b[0m\u001b[0;34m.\u001b[0m\u001b[0mrindex\u001b[0m\u001b[0;34m(\u001b[0m\u001b[0;34m\"$\"\u001b[0m\u001b[0;34m)\u001b[0m\u001b[0;34m)\u001b[0m\u001b[0;34m\u001b[0m\u001b[0;34m\u001b[0m\u001b[0m\n\u001b[0m",
      "\u001b[0;31mValueError\u001b[0m: substring not found"
     ]
    }
   ],
   "source": [
    "#  'join', 'replace', \n",
    "# 'rsplit', 'split', \n",
    "\n",
    "# count, index, rindex, find, rfind\n",
    "s = 'peter piper picked a peck of pickled peppers.'\n",
    "# print(s.count('p'))\n",
    "# print(s.count('pe'))\n",
    "# print(s.count('p', 8, 19))\n",
    "\n",
    "# find and index  - both are similar but with small difference\n",
    "# they return the first occurrence matching index of the character or the string you are looking for in the given string\n",
    "# if the substring or character is not found then find method returns -1 whereas index method returns ValueError\n",
    "\n",
    "s = 'peter piper picked a peck of pickled peppers.'\n",
    "print(s.find('p'))\n",
    "print(s.find('pi'))\n",
    "print(s.find('piz'))\n",
    "print(s.find('p', 10, 19))\n",
    "print(s.rfind('.'))\n",
    "\n",
    "\n",
    "print(s.index('p'))\n",
    "print(s.index('pi'))\n",
    "# print(s.index('piz'))\n",
    "print(s.index('p', 10, 19))\n",
    "print(s.rindex('.'))\n",
    "print(s.rindex(\"$\"))\n"
   ]
  },
  {
   "cell_type": "code",
   "execution_count": 87,
   "metadata": {},
   "outputs": [
    {
     "name": "stdout",
     "output_type": "stream",
     "text": [
      "Python is easy.\n",
      "      Python is easy.\n",
      "Python is easy.     \n"
     ]
    }
   ],
   "source": [
    "# strip,rstrip, lstrip - used to remove the unneccessary spaces from the string, does not remove the spaces in between the string\n",
    "\n",
    "s = '      Python is easy.     '\n",
    "print(s.strip())   # will remove the space from both side\n",
    "print(s.rstrip())\n",
    "print(s.lstrip())\n"
   ]
  },
  {
   "cell_type": "code",
   "execution_count": 96,
   "metadata": {},
   "outputs": [
    {
     "name": "stdout",
     "output_type": "stream",
     "text": [
      "['peter', 'piper', 'picked', 'a', 'peck', 'of', 'pickled', 'peppers.']\n",
      "['peter', 'piper', 'picked', 'a', 'pack', 'of', 'pickled', 'peppers.']\n",
      "peter piper picked a pack of pickled peppers.\n",
      "peter::piper::picked::a::pack::of::pickled::peppers.\n"
     ]
    }
   ],
   "source": [
    "# split\n",
    "s = 'peter piper picked a peck of pickled peppers.'\n",
    "print(s.split())\n",
    "# print(s.split(' '))\n",
    "# print(s.split('p'))\n",
    "lst = s.split()\n",
    "lst[4] = 'pack'\n",
    "print(lst)\n",
    "\n",
    "# join() - joins alsit into string -> 'sep'.join(lst)\n",
    "print(' '.join(lst))\n",
    "print('::'.join(lst))"
   ]
  },
  {
   "cell_type": "code",
   "execution_count": 98,
   "metadata": {},
   "outputs": [
    {
     "name": "stdout",
     "output_type": "stream",
     "text": [
      "geter piger picked a geck of pickled gepgers.\n",
      "peter piper picked a peck of pickled peppers.\n"
     ]
    }
   ],
   "source": [
    "# replace() - to replace the existing substring with a new one\n",
    "s = 'peter piper picked a peck of pickled peppers.'\n",
    "print(s.replace('pe', 'ge'))\n",
    "print(s)"
   ]
  },
  {
   "cell_type": "code",
   "execution_count": null,
   "metadata": {},
   "outputs": [],
   "source": []
  },
  {
   "cell_type": "code",
   "execution_count": null,
   "metadata": {},
   "outputs": [],
   "source": []
  }
 ],
 "metadata": {
  "kernelspec": {
   "display_name": "Python 3",
   "language": "python",
   "name": "python3"
  },
  "language_info": {
   "codemirror_mode": {
    "name": "ipython",
    "version": 3
   },
   "file_extension": ".py",
   "mimetype": "text/x-python",
   "name": "python",
   "nbconvert_exporter": "python",
   "pygments_lexer": "ipython3",
   "version": "3.7.6"
  }
 },
 "nbformat": 4,
 "nbformat_minor": 2
}
