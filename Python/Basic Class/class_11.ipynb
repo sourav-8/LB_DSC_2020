{
 "cells": [
  {
   "cell_type": "code",
   "execution_count": null,
   "metadata": {},
   "outputs": [],
   "source": [
    "# File Handling, Exception Handling"
   ]
  },
  {
   "cell_type": "code",
   "execution_count": 22,
   "metadata": {},
   "outputs": [],
   "source": [
    "# File Handling - Text, Binary, CSV, Excel, Json\n",
    "\n",
    "# open\n",
    "# -------\n",
    "# -------\n",
    "# close\n",
    "\n",
    "# Syntax:- f = open('File_name_with_extension', 'mode')\n",
    "# read(r), write(w) and append(a), read and write(r+), write and read(w+), append and read(a+)\n",
    "\n",
    "# Read mode - r -> f=open('File_name', 'r')\n",
    "# It allows you to read the file only, you are not allowed to write into the file.\n",
    "# If the file exist, then it will open the file in read mode and cursor will be placed at the begning of the file.\n",
    "# If the file does not exist, then it will give FileNotFoundError.\n",
    "# f = open('abc.txt',  'r')\n",
    "# print(f.tell())\n",
    "# print(f.read())\n",
    "# print(f.tell())\n",
    "# # f.write('Hello')\n",
    "# f.close()\n",
    "\n",
    "# Write mode - w -> f=open('File_name', 'w')\n",
    "# It allows you to write into the file only, you are not allowed to read from the file.\n",
    "# If the file exist, then it will open the file in write mode and will place the cursor at the begining of the file \n",
    "    # after deleting the content of the file.\n",
    "# If the file does not exist, then it will create a file with the given name.\n",
    "# f = open('abc.txt',  'w')\n",
    "# print(f.tell())\n",
    "# # print(f.read())\n",
    "# f.write('Hello')\n",
    "# print(f.tell())\n",
    "# f.close()\n",
    "\n",
    "# f = open('f1.txt',  'w')\n",
    "# print(f.tell())\n",
    "# # print(f.read())\n",
    "# # f.write('Hello')\n",
    "# print(f.tell())\n",
    "# f.close()\n",
    "\n",
    "# append mode - a -> f=open('File_name', 'a')\n",
    "# It allows you to write into the file only, you are not allowed to read from the file.\n",
    "# If the file exist, then it will open the file and the cursor will be placed at the end of the file.\n",
    "# If the file does not exist, then it will create a file with the given name.\n",
    "# f = open('abc.txt',  'a')\n",
    "# print(f.tell())\n",
    "# # print(f.read())\n",
    "# f.write('Hello')\n",
    "# print(f.tell())\n",
    "# f.close()\n",
    "\n",
    "# f = open('abc1.txt',  'a')\n",
    "# print(f.tell())\n",
    "# # print(f.read())\n",
    "# f.write('Hello')\n",
    "# # print(f.read())\n",
    "# print(f.tell())\n",
    "# f.close()\n",
    "\n",
    "\n",
    "# Read and write mode - r+ -> f=open('File_name', 'r+')\n",
    "# It allows you to read and write both into the file.\n",
    "# If the file exist, then it will open the file in read mode and cursor will be placed at the begning of the file.\n",
    "# If the file does not exist, then it will give FileNotFoundError.\n",
    "\n",
    "# f = open('abc1.txt',  'r+')\n",
    "# print(f.tell())\n",
    "# # print(f.read())\n",
    "# # f.write('Hello')\n",
    "# # print(f.read())\n",
    "# # print(f.tell())\n",
    "# f.close()\n",
    "\n",
    "# f = open('abc.txt',  'r+')\n",
    "# print(f.tell())\n",
    "# print(f.read())\n",
    "# f.write('Hello')\n",
    "# print(f.tell())\n",
    "# f.seek(0)\n",
    "# print(f.read())\n",
    "# f.close()\n",
    "\n",
    "# Write and read mode - w+ -> f=open('File_name', 'w+')\n",
    "# It allows you to write and read from the file.\n",
    "# If the file exist, then it will open the file in write mode and will place the cursor at the begining of the file \n",
    "    # after deleting the content of the file.\n",
    "# If the file does not exist, then it will create a file with the given name.\n",
    "# f = open('abc1.txt',  'w+')\n",
    "# print(f.tell())\n",
    "# # print(f.read())\n",
    "# # f.write('Hello')\n",
    "# # print(f.read())\n",
    "# # print(f.tell())\n",
    "# print(f.read())\n",
    "# f.close()\n",
    "\n",
    "# f = open('abc1.txt',  'w+')\n",
    "# print(f.tell())\n",
    "# f.write('Hello')\n",
    "# print(f.tell())\n",
    "# f.seek(0)\n",
    "# print(f.read())\n",
    "# f.close()\n",
    "\n",
    "# append and read mode - a+ -> f=open('File_name', 'a+')\n",
    "# It allows you to write and read into the file.\n",
    "# If the file exist, then it will open the file and the cursor will be placed at the end of the file.\n",
    "# If the file does not exist, then it will create a file with the given name.\n",
    "# f = open('f1.txt',  'a+')\n",
    "# print(f.tell())\n",
    "# # print(f.read())\n",
    "# # f.write('Hello')\n",
    "# # print(f.read())\n",
    "# # print(f.tell())\n",
    "# print(f.read())\n",
    "# f.close()\n",
    "\n",
    "# f = open('abc.txt',  'a+')\n",
    "# print(f.tell())\n",
    "# f.write('Hello')\n",
    "# print(f.tell())\n",
    "# f.seek(0)\n",
    "# print(f.read())\n",
    "# f.close()"
   ]
  },
  {
   "cell_type": "code",
   "execution_count": 26,
   "metadata": {},
   "outputs": [
    {
     "name": "stdout",
     "output_type": "stream",
     "text": [
      "[\"Lorem Ipsum is simply dummy text of the printing and typesetting industry. Lorem Ipsum has been the industry's standard dummy text ever since the 1500s, when an unknown printer took a galley of type and scrambled it to make a type specimen book. It has survived not only five centuries, but also the leap into electronic typesetting, remaining essentially unchanged. It was popularised in the 1960s with the release of Letraset sheets containing Lorem Ipsum passages, and more recently with desktop publishing software like Aldus PageMaker including versions of Lorem Ipsum.\\n\", \"It is a long established fact that a reader will be distracted by the readable content of a page when looking at its layout. The point of using Lorem Ipsum is that it has a more-or-less normal distribution of letters, as opposed to using 'Content here, content here', making it look like readable English. Many desktop publishing packages and web page editors now use Lorem Ipsum as their default model text, and a search for 'lorem ipsum' will uncover many web sites still in their infancy. Various versions have evolved over the years, sometimes by accident, sometimes on purpose (injected humour and the like).\\n\", \"There are many variations of passages of Lorem Ipsum available, but the majority have suffered alteration in some form, by injected humour, or randomised words which don't look even slightly believable. If you are going to use a passage of Lorem Ipsum, you need to be sure there isn't anything embarrassing hidden in the middle of text. All the Lorem Ipsum generators on the Internet tend to repeat predefined chunks as necessary, making this the first true generator on the Internet. It uses a dictionary of over 200 Latin words, combined with a handful of model sentence structures, to generate Lorem Ipsum which looks reasonable. The generated Lorem Ipsum is therefore always free from repetition, injected humour, or non-characteristic words etc.\\n\", 'The standard chunk of Lorem Ipsum used since the 1500s is reproduced below for those interested. Sections 1.10.32 and 1.10.33 from \"de Finibus Bonorum et Malorum\" by Cicero are also reproduced in their exact original form, accompanied by English versions from the 1914 translation by H. Rackham.\\n', 'Hello']\n"
     ]
    }
   ],
   "source": [
    "# methods to read from the file\n",
    "# read() reads the whole content of the file and returns a string object\n",
    "# read(no of characters) - reads the methioned no of characters from the last position and returns a string object\n",
    "# readline() - reads one line at a time and returns string object\n",
    "# readlines() - reads the whole content of the file and returns a list object\n",
    "# f = open('abc.txt',  'a+')\n",
    "# f.seek(0)\n",
    "# print(f.readlines())\n",
    "# f.close()\n",
    "\n",
    "\n",
    "# Methods to write\n",
    "# write('string')\n",
    "# writelines(['str1\\n', 'str2\\n'.....])"
   ]
  },
  {
   "cell_type": "code",
   "execution_count": null,
   "metadata": {},
   "outputs": [],
   "source": [
    "# Binary file - imgaes, video files, pdf\n",
    "# read mode - rb, write mode - wb, append mode - ab, read and write mode - rb+, write and read mode - wb+,append and read mode - ab+\n",
    "\n",
    "\n",
    "\n"
   ]
  },
  {
   "cell_type": "code",
   "execution_count": 27,
   "metadata": {},
   "outputs": [
    {
     "name": "stdout",
     "output_type": "stream",
     "text": [
      "2241\n"
     ]
    },
    {
     "ename": "UnsupportedOperation",
     "evalue": "not readable",
     "output_type": "error",
     "traceback": [
      "\u001b[0;31m---------------------------------------------------------------------------\u001b[0m",
      "\u001b[0;31mUnsupportedOperation\u001b[0m                      Traceback (most recent call last)",
      "\u001b[0;32m<ipython-input-27-a6681d56fb5f>\u001b[0m in \u001b[0;36m<module>\u001b[0;34m\u001b[0m\n\u001b[1;32m      1\u001b[0m \u001b[0mf\u001b[0m \u001b[0;34m=\u001b[0m \u001b[0mopen\u001b[0m\u001b[0;34m(\u001b[0m\u001b[0;34m'abc.txt'\u001b[0m\u001b[0;34m,\u001b[0m  \u001b[0;34m'a'\u001b[0m\u001b[0;34m)\u001b[0m\u001b[0;34m\u001b[0m\u001b[0;34m\u001b[0m\u001b[0m\n\u001b[1;32m      2\u001b[0m \u001b[0mprint\u001b[0m\u001b[0;34m(\u001b[0m\u001b[0mf\u001b[0m\u001b[0;34m.\u001b[0m\u001b[0mtell\u001b[0m\u001b[0;34m(\u001b[0m\u001b[0;34m)\u001b[0m\u001b[0;34m)\u001b[0m\u001b[0;34m\u001b[0m\u001b[0;34m\u001b[0m\u001b[0m\n\u001b[0;32m----> 3\u001b[0;31m \u001b[0mprint\u001b[0m\u001b[0;34m(\u001b[0m\u001b[0mf\u001b[0m\u001b[0;34m.\u001b[0m\u001b[0mread\u001b[0m\u001b[0;34m(\u001b[0m\u001b[0;34m)\u001b[0m\u001b[0;34m)\u001b[0m\u001b[0;34m\u001b[0m\u001b[0;34m\u001b[0m\u001b[0m\n\u001b[0m\u001b[1;32m      4\u001b[0m \u001b[0mf\u001b[0m\u001b[0;34m.\u001b[0m\u001b[0mwrite\u001b[0m\u001b[0;34m(\u001b[0m\u001b[0;34m'Hello'\u001b[0m\u001b[0;34m)\u001b[0m\u001b[0;34m\u001b[0m\u001b[0;34m\u001b[0m\u001b[0m\n\u001b[1;32m      5\u001b[0m \u001b[0mprint\u001b[0m\u001b[0;34m(\u001b[0m\u001b[0mf\u001b[0m\u001b[0;34m.\u001b[0m\u001b[0mtell\u001b[0m\u001b[0;34m(\u001b[0m\u001b[0;34m)\u001b[0m\u001b[0;34m)\u001b[0m\u001b[0;34m\u001b[0m\u001b[0;34m\u001b[0m\u001b[0m\n",
      "\u001b[0;31mUnsupportedOperation\u001b[0m: not readable"
     ]
    }
   ],
   "source": [
    "f = open('abc.txt',  'a')\n",
    "print(f.tell())\n",
    "print(f.read())\n",
    "f.write('Hello')\n",
    "print(f.tell())\n",
    "f.close()"
   ]
  },
  {
   "cell_type": "code",
   "execution_count": null,
   "metadata": {},
   "outputs": [],
   "source": [
    "# with open('abc.txt',  'a') as f:\n",
    "#     f.write()\n",
    "#     code 2\n",
    "#     code 3"
   ]
  },
  {
   "cell_type": "code",
   "execution_count": 29,
   "metadata": {},
   "outputs": [
    {
     "name": "stdout",
     "output_type": "stream",
     "text": [
      "2241\n",
      "Sone eror has occurred\n",
      "2246\n"
     ]
    }
   ],
   "source": [
    "# Exception Handling - try, except, finally\n",
    "\n",
    "# f = open('abc.txt',  'a')\n",
    "# print(f.tell())\n",
    "# try:\n",
    "#     print(f.read())\n",
    "# except:\n",
    "#     print('Sone eror has occurred')\n",
    "# f.write('Hello')\n",
    "# print(f.tell())\n",
    "# f.close()\n",
    "\n"
   ]
  },
  {
   "cell_type": "code",
   "execution_count": 33,
   "metadata": {},
   "outputs": [
    {
     "name": "stdout",
     "output_type": "stream",
     "text": [
      "10.0\n",
      "100\n",
      "10\n"
     ]
    }
   ],
   "source": [
    "a = 100\n",
    "b = 0\n",
    "try:\n",
    "    res = a/b\n",
    "    print(res)\n",
    "except ZeroDivisionError:\n",
    "    print('Can not divide by zero')\n",
    "\n",
    "print(a)\n",
    "print(b)"
   ]
  },
  {
   "cell_type": "code",
   "execution_count": 46,
   "metadata": {},
   "outputs": [
    {
     "name": "stdout",
     "output_type": "stream",
     "text": [
      "Division by zero is not possible\n",
      "Hello\n"
     ]
    }
   ],
   "source": [
    "a = 100\n",
    "b = 0\n",
    "try:\n",
    "    res = a/b\n",
    "    print(res)\n",
    "except ZeroDivisionError:\n",
    "    print('Division by zero is not possible')\n",
    "except ArithmeticError as e:\n",
    "    print('some error',e)\n",
    "except NameError:\n",
    "    print('some name is not defined')\n",
    "# except:\n",
    "#     print(\"Some Error has occured\"\n",
    "finally:\n",
    "    del a\n",
    "    del b\n",
    "print('Hello')"
   ]
  },
  {
   "cell_type": "code",
   "execution_count": null,
   "metadata": {},
   "outputs": [],
   "source": [
    "# raise\n",
    "class large_amount_exception(Exception):\n",
    "    def __init__(self, msg):\n",
    "        self.msg = msg\n",
    "\n",
    "# withdraw_amt = int(input('Enter an amount you want to withdraw: '))\n",
    "# if withdraw_amt>49999:\n",
    "#     raise large_amount_exception('It is quite large amount to withdraw')\n",
    "# else:\n",
    "#     print('You may withdraw this amount')"
   ]
  },
  {
   "cell_type": "code",
   "execution_count": 49,
   "metadata": {},
   "outputs": [
    {
     "name": "stdout",
     "output_type": "stream",
     "text": [
      "Help on class Exception in module builtins:\n",
      "\n",
      "class Exception(BaseException)\n",
      " |  Common base class for all non-exit exceptions.\n",
      " |  \n",
      " |  Method resolution order:\n",
      " |      Exception\n",
      " |      BaseException\n",
      " |      object\n",
      " |  \n",
      " |  Methods defined here:\n",
      " |  \n",
      " |  __init__(self, /, *args, **kwargs)\n",
      " |      Initialize self.  See help(type(self)) for accurate signature.\n",
      " |  \n",
      " |  ----------------------------------------------------------------------\n",
      " |  Static methods defined here:\n",
      " |  \n",
      " |  __new__(*args, **kwargs) from builtins.type\n",
      " |      Create and return a new object.  See help(type) for accurate signature.\n",
      " |  \n",
      " |  ----------------------------------------------------------------------\n",
      " |  Methods inherited from BaseException:\n",
      " |  \n",
      " |  __delattr__(self, name, /)\n",
      " |      Implement delattr(self, name).\n",
      " |  \n",
      " |  __getattribute__(self, name, /)\n",
      " |      Return getattr(self, name).\n",
      " |  \n",
      " |  __reduce__(...)\n",
      " |      Helper for pickle.\n",
      " |  \n",
      " |  __repr__(self, /)\n",
      " |      Return repr(self).\n",
      " |  \n",
      " |  __setattr__(self, name, value, /)\n",
      " |      Implement setattr(self, name, value).\n",
      " |  \n",
      " |  __setstate__(...)\n",
      " |  \n",
      " |  __str__(self, /)\n",
      " |      Return str(self).\n",
      " |  \n",
      " |  with_traceback(...)\n",
      " |      Exception.with_traceback(tb) --\n",
      " |      set self.__traceback__ to tb and return self.\n",
      " |  \n",
      " |  ----------------------------------------------------------------------\n",
      " |  Data descriptors inherited from BaseException:\n",
      " |  \n",
      " |  __cause__\n",
      " |      exception cause\n",
      " |  \n",
      " |  __context__\n",
      " |      exception context\n",
      " |  \n",
      " |  __dict__\n",
      " |  \n",
      " |  __suppress_context__\n",
      " |  \n",
      " |  __traceback__\n",
      " |  \n",
      " |  args\n",
      "\n"
     ]
    }
   ],
   "source": [
    "help(Exception)"
   ]
  },
  {
   "cell_type": "code",
   "execution_count": null,
   "metadata": {},
   "outputs": [],
   "source": [
    "Lorem Ipsum is simply dummy text of the printing and typesetting industry. \n",
    "Lorem Ipsum has been the industry's standard dummy text ever since the 1500s, when an unknown printer took a galley of type and scrambled it to make a type specimen book. \n",
    "It has survived not only five centuries, but also the leap into electronic typesetting, remaining essentially unchanged. \n",
    "It was popularised in the 1960s with the release of Letraset sheets containing Lorem Ipsum passages, and more recently with desktop publishing software like Aldus PageMaker including versions of Lorem Ipsum.\n",
    "It is a long established fact that a reader will be distracted by the readable content of a page when looking at its layout. \n",
    "The point of using Lorem Ipsum is that it has a more-or-less normal distribution of letters, as opposed to using 'Content here, content here', making it look like readable English. \n",
    "Many desktop publishing packages and web page editors now use Lorem Ipsum as their default model text, and a search for 'lorem ipsum' will uncover many web sites still in their infancy. \n",
    "Various versions have evolved over the years, sometimes by accident, sometimes on purpose (injected humour and the like)."
   ]
  },
  {
   "cell_type": "code",
   "execution_count": null,
   "metadata": {},
   "outputs": [],
   "source": []
  },
  {
   "cell_type": "code",
   "execution_count": null,
   "metadata": {},
   "outputs": [],
   "source": []
  }
 ],
 "metadata": {
  "kernelspec": {
   "display_name": "Python 3",
   "language": "python",
   "name": "python3"
  },
  "language_info": {
   "codemirror_mode": {
    "name": "ipython",
    "version": 3
   },
   "file_extension": ".py",
   "mimetype": "text/x-python",
   "name": "python",
   "nbconvert_exporter": "python",
   "pygments_lexer": "ipython3",
   "version": "3.7.6"
  }
 },
 "nbformat": 4,
 "nbformat_minor": 2
}
