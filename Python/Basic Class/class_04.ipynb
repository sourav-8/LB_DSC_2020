{
 "cells": [
  {
   "cell_type": "code",
   "execution_count": 2,
   "metadata": {},
   "outputs": [
    {
     "name": "stdout",
     "output_type": "stream",
     "text": [
      "This \\is Python class\n"
     ]
    }
   ],
   "source": [
    "e = 'This \\\\\\\n",
    "is \\\n",
    "Python \\\n",
    "class'\n",
    "print(e)\n",
    "\n",
    "# True -> 1, False -> 0\n",
    "# except 0 everything is True\n",
    "# except 0.0 everything is True\n",
    "# except 0+0j everything is True\n",
    "# except '' everything is True"
   ]
  },
  {
   "cell_type": "code",
   "execution_count": null,
   "metadata": {},
   "outputs": [],
   "source": []
  },
  {
   "cell_type": "code",
   "execution_count": null,
   "metadata": {},
   "outputs": [],
   "source": []
  },
  {
   "cell_type": "code",
   "execution_count": 11,
   "metadata": {},
   "outputs": [
    {
     "name": "stdout",
     "output_type": "stream",
     "text": [
      "True\n",
      "False\n",
      "True\n",
      "20\n",
      "10\n",
      "0\n",
      "0.0\n"
     ]
    }
   ],
   "source": [
    "# Logical Operators - and or not\n",
    "# and table\n",
    "# True and True = True\n",
    "# True and False = False\n",
    "# False and True = False\n",
    "# False and False = False\n",
    "\n",
    "# # or table\n",
    "# True or True = True\n",
    "# True or False = True\n",
    "# False or True = True\n",
    "# False or False = False\n",
    "\n",
    "# # not Table\n",
    "# not True = False\n",
    "# not False = True\n",
    "\n",
    "\n",
    "print((10<20) and (5!=100))\n",
    "print((10<20) and (5==100))\n",
    "print((10<20) or (5!=100))\n",
    "print(10+20 and 20*1)\n",
    "\n",
    "# if A and B returns A if A is False else B\n",
    "# if A or B returns A if A is True else B\n",
    "\n",
    "print(10 or 20)\n",
    "print(0 and 0.0)\n",
    "print(0 or 0.0)"
   ]
  },
  {
   "cell_type": "code",
   "execution_count": 28,
   "metadata": {},
   "outputs": [
    {
     "name": "stdout",
     "output_type": "stream",
     "text": [
      "-1\n",
      "200\n",
      "3\n"
     ]
    }
   ],
   "source": [
    "# Bitwise Operators - & | ^, ~ << >>\n",
    "# these operators works on bits or binary values\n",
    "# print(10 & 20)\n",
    "\n",
    "# & table\n",
    "# 1 & 1 = 1\n",
    "# 1 & 0 = 0\n",
    "# 0 & 1 = 0\n",
    "# 0 & 0 = 0\n",
    "\n",
    "# | table\n",
    "# 1 | 1 = 1\n",
    "# 1 | 0 = 1\n",
    "# 0 | 1 = 1\n",
    "# 0 | 0 = 0\n",
    "\n",
    "# ^ table\n",
    "# 1 | 1 = 0\n",
    "# 1 | 0 = 1\n",
    "# 0 | 1 = 1\n",
    "# 0 | 0 = 0\n",
    "\n",
    "# print(24 & 25)\n",
    "# # print(bin(25))\n",
    "# print(24 | 25)\n",
    "# print(24^25)\n",
    "\n",
    "# 24 -> 11000\n",
    "# 25 -> 11001\n",
    "# --------------\n",
    "# &  -> 11000 -> 24\n",
    "# |  -> 11001 -> 25\n",
    "# ^  -> 00001 -> 1\n",
    "\n",
    "# Bitwise negation - ~\n",
    "# ~n => -(n+1)\n",
    "# print(~True)\n",
    "# print(~9)\n",
    "# print(~-9)\n",
    "print(~False)\n",
    "\n",
    "\n",
    "# Left shift(num << bit) and right shift(num >> bit)\n",
    "# doing left shift of 25 by 3 bits\n",
    "print(25 << 3)\n",
    "\n",
    "# 00000000000000000000000011001000\n",
    "# print(0b11001000)\n",
    "\n",
    "print(25>>3)\n",
    "\n",
    "# 00000000000000000000000000000011\n",
    "# print(0b11)"
   ]
  },
  {
   "cell_type": "code",
   "execution_count": null,
   "metadata": {},
   "outputs": [],
   "source": [
    "# Assignment opertors and compound assignment operators\n",
    "a = 10\n",
    "\n",
    "# Compond assignment operator\n",
    "# a = a*2\n",
    "a *= 2\n",
    "\n",
    "# +=, -=, *=, /=, //=, %=, **=, &=, |=, ^=, ~=, <<=, >>="
   ]
  },
  {
   "cell_type": "code",
   "execution_count": 39,
   "metadata": {},
   "outputs": [
    {
     "name": "stdout",
     "output_type": "stream",
     "text": [
      "4508554944\n",
      "4508554944\n",
      "True\n",
      "False\n",
      "4564164880\n",
      "4564165136\n"
     ]
    }
   ],
   "source": [
    "# Membership operator in, not in - to check an element isa member of the seq or mapping or not\n",
    "# Identity operator - is, is not - to check bothn the operands are havl=ning similar ID or not\n",
    "# They both returns Boolean value\n",
    "\n",
    "# print('P' in 'Python')\n",
    "# print('p' in 'Python')\n",
    "# print('p' not in 'Python')\n",
    "# print('Py' in 'Python')\n",
    "# print('Pn' in 'Python')\n",
    "\n",
    "# Object reusability - object should not be recretaed if it is already existing in the heap area - Fundamental data type except Float and complex and not available for derived data type\n",
    "# Int - 0-256\n",
    "# String - a to z, A to Z, 0-9\n",
    "# Boolean - True and False\n",
    "# None\n",
    "\n",
    "# Derived data type and Float and complex\n",
    "\n",
    "\n",
    "a = 10\n",
    "b = 10\n",
    "print(id(a))\n",
    "print(id(b))\n",
    "\n",
    "print(a is b)\n",
    "\n",
    "a = 1000\n",
    "b = 1000\n",
    "print(a is b)\n",
    "print(id(a))\n",
    "print(id(b))\n"
   ]
  },
  {
   "cell_type": "code",
   "execution_count": null,
   "metadata": {},
   "outputs": [],
   "source": [
    "# Operator Precedence\n",
    "# ()\n",
    "# **\n",
    "# ~,- Bitwise complement and unary Minus\n",
    "# *,/,%,//\n",
    "# +,-\n",
    "# <<,>>\n",
    "# &\n",
    "# ^\n",
    "# |\n",
    "# >,>=,<,<=,==,!=\n",
    "# =,+=,-=...\n",
    "# is, is not\n",
    "# in, not in\n",
    "# not\n",
    "# and\n",
    "# or"
   ]
  },
  {
   "cell_type": "code",
   "execution_count": 45,
   "metadata": {},
   "outputs": [
    {
     "name": "stdout",
     "output_type": "stream",
     "text": [
      "[10, 10.2, (10+20j), 'Python', [10, 20, 30], (10, 20, 30), [10, 20, 30]]\n",
      "[10, 10.2, (10+20j), [10, 20, 30], (10, 20, 30), [10, 20, 30]]\n"
     ]
    }
   ],
   "source": [
    "# Derived Data types - List, tuple, set, frozenset, dictionary, range, bytes, bytearray\n",
    "lst = [10, 10.20, 10+20j, 'Python', [10,20,30], (10,20,30)]\n",
    "# List is seq - indxeing and slicing is possible, they follow +ve and -ve indexing both\n",
    "# List is Mutable means modifiable - Item Assignment is Possible\n",
    "# For adding an element in the list at the end we use append method and for removing an element from the list we use remove methods\n",
    "lst.append([10,20,30])\n",
    "print(lst)\n",
    "lst.remove('Python')\n",
    "print(lst)\n",
    "\n",
    "\n",
    "\n",
    "# s = 'Python'\n",
    "# # String is Immutable - Item assignment is not possible\n",
    "# # s[0] = 'J'\n",
    "\n",
    "# # List is Mutable and supports item assignment\n",
    "# lst[0] = 100\n",
    "# print(lst)"
   ]
  },
  {
   "cell_type": "code",
   "execution_count": null,
   "metadata": {},
   "outputs": [],
   "source": [
    "# Tuple is similar to list but it is immutable\n",
    "tpl = (10,[10,20,30], 'Python', 10.20, 10+20j, (10,20,30))\n"
   ]
  },
  {
   "cell_type": "code",
   "execution_count": 52,
   "metadata": {},
   "outputs": [
    {
     "name": "stdout",
     "output_type": "stream",
     "text": [
      "frozenset({100, 200, 10, 20, 20220, 30})\n"
     ]
    },
    {
     "ename": "AttributeError",
     "evalue": "'frozenset' object has no attribute 'add'",
     "output_type": "error",
     "traceback": [
      "\u001b[0;31m---------------------------------------------------------------------------\u001b[0m",
      "\u001b[0;31mAttributeError\u001b[0m                            Traceback (most recent call last)",
      "\u001b[0;32m<ipython-input-52-4a2a8355d393>\u001b[0m in \u001b[0;36m<module>\u001b[0;34m\u001b[0m\n\u001b[1;32m     14\u001b[0m \u001b[0mfz\u001b[0m \u001b[0;34m=\u001b[0m \u001b[0mfrozenset\u001b[0m\u001b[0;34m(\u001b[0m\u001b[0;34m[\u001b[0m\u001b[0;36m10\u001b[0m\u001b[0;34m,\u001b[0m\u001b[0;36m20\u001b[0m\u001b[0;34m,\u001b[0m\u001b[0;36m30\u001b[0m\u001b[0;34m,\u001b[0m\u001b[0;36m100\u001b[0m\u001b[0;34m,\u001b[0m\u001b[0;36m200\u001b[0m\u001b[0;34m,\u001b[0m\u001b[0;36m100\u001b[0m\u001b[0;34m,\u001b[0m\u001b[0;36m10\u001b[0m\u001b[0;34m,\u001b[0m\u001b[0;36m20\u001b[0m\u001b[0;34m,\u001b[0m\u001b[0;36m20220\u001b[0m\u001b[0;34m]\u001b[0m\u001b[0;34m)\u001b[0m\u001b[0;34m\u001b[0m\u001b[0;34m\u001b[0m\u001b[0m\n\u001b[1;32m     15\u001b[0m \u001b[0mprint\u001b[0m\u001b[0;34m(\u001b[0m\u001b[0mfz\u001b[0m\u001b[0;34m)\u001b[0m\u001b[0;34m\u001b[0m\u001b[0;34m\u001b[0m\u001b[0m\n\u001b[0;32m---> 16\u001b[0;31m \u001b[0mfz\u001b[0m\u001b[0;34m.\u001b[0m\u001b[0madd\u001b[0m\u001b[0;34m(\u001b[0m\u001b[0;36m100\u001b[0m\u001b[0;34m)\u001b[0m\u001b[0;34m\u001b[0m\u001b[0;34m\u001b[0m\u001b[0m\n\u001b[0m\u001b[1;32m     17\u001b[0m \u001b[0;34m\u001b[0m\u001b[0m\n",
      "\u001b[0;31mAttributeError\u001b[0m: 'frozenset' object has no attribute 'add'"
     ]
    }
   ],
   "source": [
    "# Set - is a collection of unique elements, it is not a seq so values are not indexed and even slicing is also not possible\n",
    "# Set is a mapping type and uses hashmap internally\n",
    "# Set is mutable\n",
    "# it does not allow mutable object to be takenas elemnet\n",
    "# s = {10,20,30,10,100,10,100,20,200,300}\n",
    "# print(s)\n",
    "# s.add((10,203,0))\n",
    "# print(s)\n",
    "# # s.add([10,20,30])\n",
    "# s.remove((10,203,0))\n",
    "# print(s)\n",
    "\n",
    "# frozenset - is immutable set\n",
    "fz = frozenset([10,20,30,100,200,100,10,20,20220])\n",
    "print(fz)\n",
    "# fz.add(100)\n",
    "\n"
   ]
  },
  {
   "cell_type": "code",
   "execution_count": 57,
   "metadata": {},
   "outputs": [
    {
     "name": "stdout",
     "output_type": "stream",
     "text": [
      "b'\\n\\x14\\x1e'\n",
      "bytearray(b'\\n\\x14\\x1e')\n",
      "bytearray(b'\\x02\\x14\\x1e')\n"
     ]
    }
   ],
   "source": [
    "# bytes and bytearrays - store the images or pdf file or soundclips\n",
    "# Bytes is immutable and bytearray is mutable\n",
    "# Bytes and bytearray the allowed characters are 0 to 256\n",
    "\n",
    "# lst = [10,20,30]\n",
    "# b = bytes(lst)\n",
    "# print(b)\n",
    "# # b[0] = 2\n",
    "\n",
    "# ba =bytearray(lst)\n",
    "# print(ba)\n",
    "# ba[0] = 2\n",
    "# print(ba)"
   ]
  },
  {
   "cell_type": "code",
   "execution_count": 63,
   "metadata": {},
   "outputs": [
    {
     "name": "stdout",
     "output_type": "stream",
     "text": [
      "{1: [200], 'a': 200, (2, 3, 4): 'Python'}\n"
     ]
    }
   ],
   "source": [
    "# dictionary - combination ofkey value pair and key and value should be separated by :\n",
    "# one single key value pair is called an item or elemnet\n",
    "# Keys can not be duplicated but values can be dupicated\n",
    "# keys does not allow mutable data type where any data type is accepted as value\n",
    "\n",
    "# d = {1:100, 'a':200, (2,3,4):'Python', 1:[200]}\n",
    "# print(d)\n"
   ]
  },
  {
   "cell_type": "code",
   "execution_count": 74,
   "metadata": {},
   "outputs": [
    {
     "name": "stdout",
     "output_type": "stream",
     "text": [
      "[0, 1, 2, 3, 4, 5, 6, 7, 8, 9]\n",
      "[0, -1, -2, -3, -4, -5, -6, -7, -8, -9]\n",
      "range(2, 21, 2)\n"
     ]
    }
   ],
   "source": [
    "# range function allows you to create a sequence of numbers based on some pattern\n",
    "# syntax - range(start, stop, step), range(stop)\n",
    "\n",
    "# start = int(input('Enter the start value for range: '))\n",
    "# stop = int(input('Enter the stop value for range: '))\n",
    "# print(list(range(start, stop)))   # default start = 0, step = 1\n",
    "\n",
    "print(list(range(10)))         # default start = 0, step = 1\n",
    "\n",
    "\n",
    "#         --------if step is positive the seq will be generated from let to right--------->\n",
    "# -inf <------------------------------------------0------------------------------------------> +inf\n",
    "#         <--------if step is negative the seq will be generated from right to left---------\n",
    "\n",
    "print(list(range(0, -10, -1)))\n",
    "\n",
    "\n",
    "# generating a seq of even numbers from 1 to 20\n",
    "print((range(2,21, 2)))\n",
    "\n"
   ]
  },
  {
   "cell_type": "code",
   "execution_count": 100,
   "metadata": {},
   "outputs": [
    {
     "name": "stdout",
     "output_type": "stream",
     "text": [
      "Enter First Number: 100\n",
      "Enter Second Number: 111\n",
      "The sum of 100 and 111 is 211\n",
      "The sum of 100 and 111 is 211\n"
     ]
    }
   ],
   "source": [
    "# input functiona and print\n",
    "# input function is used to take the input from the user\n",
    "\n",
    "# Type casting is allowed only for fundamental data type\n",
    "# num = int(input('Enter a number: '))\n",
    "# num, type(num)\n",
    "\n",
    "# lst = eval(input('Enter a list: '))\n",
    "# print(lst, type(lst))\n",
    "# print(lst[0])\n",
    "\n",
    "# print(eval('10+20'))\n",
    "\n",
    "# list function\n",
    "# print(list('Python'))\n",
    "\n",
    "\n",
    "# print()\n",
    "# can takemultiple arguments\n",
    "# print(10,20,30)    # In utput the default separator is space\n",
    "\n",
    "# # print(10,20,30, sep = '\\t')\n",
    "\n",
    "# print(10, end = '\\t')\n",
    "# print(20, end = '\\t')\n",
    "# print(30, end = '\\t')\n",
    "# print(40)\n",
    "\n",
    "# formatting the output\n",
    "a = int(input('Enter First Number: '))\n",
    "b = int(input('Enter Second Number: '))\n",
    "c= a+b\n",
    "print(f'The sum of {a} and {b} is {c}')\n",
    "\n",
    "print('The sum of {} and {} is {}'.format(a,b,c))\n",
    "# The sum of 10 and 20 is 30"
   ]
  },
  {
   "cell_type": "code",
   "execution_count": null,
   "metadata": {},
   "outputs": [],
   "source": []
  },
  {
   "cell_type": "code",
   "execution_count": null,
   "metadata": {},
   "outputs": [],
   "source": []
  },
  {
   "cell_type": "code",
   "execution_count": null,
   "metadata": {},
   "outputs": [],
   "source": []
  },
  {
   "cell_type": "code",
   "execution_count": null,
   "metadata": {},
   "outputs": [],
   "source": []
  },
  {
   "cell_type": "code",
   "execution_count": null,
   "metadata": {},
   "outputs": [],
   "source": []
  },
  {
   "cell_type": "code",
   "execution_count": null,
   "metadata": {},
   "outputs": [],
   "source": []
  },
  {
   "cell_type": "code",
   "execution_count": null,
   "metadata": {},
   "outputs": [],
   "source": [
    "# if - else - elif and for loop:"
   ]
  },
  {
   "cell_type": "code",
   "execution_count": null,
   "metadata": {},
   "outputs": [],
   "source": []
  },
  {
   "cell_type": "code",
   "execution_count": null,
   "metadata": {},
   "outputs": [],
   "source": []
  },
  {
   "cell_type": "code",
   "execution_count": null,
   "metadata": {},
   "outputs": [],
   "source": []
  },
  {
   "cell_type": "code",
   "execution_count": null,
   "metadata": {},
   "outputs": [],
   "source": []
  },
  {
   "cell_type": "code",
   "execution_count": null,
   "metadata": {},
   "outputs": [],
   "source": []
  }
 ],
 "metadata": {
  "kernelspec": {
   "display_name": "Python 3",
   "language": "python",
   "name": "python3"
  },
  "language_info": {
   "codemirror_mode": {
    "name": "ipython",
    "version": 3
   },
   "file_extension": ".py",
   "mimetype": "text/x-python",
   "name": "python",
   "nbconvert_exporter": "python",
   "pygments_lexer": "ipython3",
   "version": "3.7.6"
  }
 },
 "nbformat": 4,
 "nbformat_minor": 2
}
