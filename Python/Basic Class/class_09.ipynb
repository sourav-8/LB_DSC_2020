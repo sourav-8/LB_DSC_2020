{
 "cells": [
  {
   "cell_type": "code",
   "execution_count": 1,
   "metadata": {},
   "outputs": [
    {
     "name": "stdout",
     "output_type": "stream",
     "text": [
      "Enter First Number: 100\n",
      "Enter Second Number: 200\n",
      "300\n"
     ]
    }
   ],
   "source": [
    "# Functions - \n",
    "def add():\n",
    "    num1 = int(input('Enter First Number: '))\n",
    "    num2 = int(input('Enter Second Number: '))\n",
    "    res = num1 + num2\n",
    "    print(res)\n",
    "    \n",
    "# Function definition is not function execution, If you want to execute the function then you have to do the function call\n",
    "\n",
    "add()"
   ]
  },
  {
   "cell_type": "code",
   "execution_count": 6,
   "metadata": {},
   "outputs": [
    {
     "name": "stdout",
     "output_type": "stream",
     "text": [
      "Enter First Number: 100\n",
      "Enter Second Number: 200\n",
      "300\n"
     ]
    }
   ],
   "source": [
    "# Input to the function is argumnets\n",
    "# Output to the function is return statament\n",
    "\n",
    "def add(a,b):      # Parameter\n",
    "    res = a+b\n",
    "    print(res)\n",
    "num1 = int(input('Enter First Number: '))\n",
    "num2 = int(input('Enter Second Number: '))\n",
    "add(num1,num2)    # argument\n",
    "\n",
    "# Positional argument - no of arguments and parameter should be same"
   ]
  },
  {
   "cell_type": "code",
   "execution_count": 10,
   "metadata": {},
   "outputs": [
    {
     "name": "stdout",
     "output_type": "stream",
     "text": [
      "Enter First Number: 100\n",
      "Enter Second Number: 200\n",
      "300\n",
      "330\n",
      "370\n"
     ]
    }
   ],
   "source": [
    "def add(a,b,c=0,d=0):      # Parameter\n",
    "    res = a+b+c+d\n",
    "    print(res)\n",
    "num1 = int(input('Enter First Number: '))\n",
    "num2 = int(input('Enter Second Number: '))\n",
    "\n",
    "add(num1,num2)\n",
    "add(num1,num2, 30)\n",
    "add(num1,num2, 30, 40)\n",
    "\n",
    "# Default parameter - Default paarameter should always be written after positional parameter"
   ]
  },
  {
   "cell_type": "code",
   "execution_count": 16,
   "metadata": {},
   "outputs": [
    {
     "ename": "SyntaxError",
     "evalue": "positional argument follows keyword argument (<ipython-input-16-2b2c0772a5bc>, line 12)",
     "output_type": "error",
     "traceback": [
      "\u001b[0;36m  File \u001b[0;32m\"<ipython-input-16-2b2c0772a5bc>\"\u001b[0;36m, line \u001b[0;32m12\u001b[0m\n\u001b[0;31m    add(c=num1,d= num2, 30, 40)\u001b[0m\n\u001b[0m                       ^\u001b[0m\n\u001b[0;31mSyntaxError\u001b[0m\u001b[0;31m:\u001b[0m positional argument follows keyword argument\n"
     ]
    }
   ],
   "source": [
    "# Keyworded argument\n",
    "\n",
    "def add(a,b,c=0,d=0):      # Parameter\n",
    "    res = a+b+c+d\n",
    "    print(res)\n",
    "num1 = int(input('Enter First Number: '))\n",
    "num2 = int(input('Enter Second Number: '))\n",
    "\n",
    "add(b=num1,a =num2)\n",
    "add(c=num1,b=num2, a=30)\n",
    "add(num1,num2, c=30, d=40)\n",
    "# add(c=num1,d= num2, 30, 40)\n",
    "\n",
    "# Keyworded argument - combination of positional argumnets and keyworded argumnets then keyworded argumets should always be apssed after positional arguments\n",
    "\n",
    "\n",
    "\n",
    "\n"
   ]
  },
  {
   "cell_type": "code",
   "execution_count": 19,
   "metadata": {},
   "outputs": [
    {
     "name": "stdout",
     "output_type": "stream",
     "text": [
      "(10, 20) <class 'tuple'>\n",
      "30\n",
      "(10, 20, 30) <class 'tuple'>\n",
      "60\n",
      "(10, 20, 30, 40) <class 'tuple'>\n",
      "100\n",
      "(10, 20, 30, 40, 50) <class 'tuple'>\n",
      "150\n",
      "(10, 20, 30, 40, 50, 60) <class 'tuple'>\n",
      "210\n"
     ]
    }
   ],
   "source": [
    "# Variable length argumnets - *args\n",
    "\n",
    "\n",
    "# def add(*abhi):\n",
    "#     print(abhi, type(abhi))\n",
    "#     total = 0\n",
    "#     for num in abhi:\n",
    "#         total += num\n",
    "#     print(total)\n",
    "# add(10,20, {1:100})\n",
    "# add(10,20,30)\n",
    "# add(10,20,30,40)\n",
    "# add(10,20,30,40,50)\n",
    "# add(10,20,30,40,50,60)"
   ]
  },
  {
   "cell_type": "code",
   "execution_count": 21,
   "metadata": {},
   "outputs": [
    {
     "name": "stdout",
     "output_type": "stream",
     "text": [
      "{'name': 'ABC', 'Addr': 'Bangalore', 'Pin': 987654} <class 'dict'>\n",
      "name-->ABC\n",
      "Addr-->Bangalore\n",
      "Pin-->987654\n",
      "None\n",
      "{'name': 'ABC', 'Addr': 'Bangalore', 'Pin': 987654, 'email': 'abc@gmail.com'} <class 'dict'>\n",
      "name-->ABC\n",
      "Addr-->Bangalore\n",
      "Pin-->987654\n",
      "email-->abc@gmail.com\n",
      "{'name': 'ABC', 'Addr': 'Bangalore', 'Pin': 987654, 'email': 'abc@gmail.com', 'phone': 6543219870} <class 'dict'>\n",
      "name-->ABC\n",
      "Addr-->Bangalore\n",
      "Pin-->987654\n",
      "email-->abc@gmail.com\n",
      "phone-->6543219870\n"
     ]
    }
   ],
   "source": [
    "# Variable length keyworded argumnets - **kwargs\n",
    "def employee(**kwargs):\n",
    "    print(kwargs, type(kwargs))\n",
    "    for key in kwargs:\n",
    "        print(key,kwargs[key], sep = '-->')\n",
    "print(employee(name = 'ABC', Addr = 'Bangalore', Pin = 987654))\n",
    "employee(name = 'ABC', Addr = 'Bangalore', Pin = 987654, email = 'abc@gmail.com')\n",
    "employee(name = 'ABC', Addr = 'Bangalore', Pin = 987654, email = 'abc@gmail.com', phone = 6543219870)"
   ]
  },
  {
   "cell_type": "code",
   "execution_count": 23,
   "metadata": {},
   "outputs": [
    {
     "name": "stdout",
     "output_type": "stream",
     "text": [
      "Enter First Number: 100\n",
      "Enter Second Number: 200\n",
      "300\n",
      "\n",
      "\n",
      "\n",
      "\n",
      "Enter First Number: 100\n",
      "Enter Second Number: 200\n",
      "300\n",
      "<class 'int'>\n"
     ]
    }
   ],
   "source": [
    "# Output to the function - return\n",
    "def add():\n",
    "    num1 = int(input('Enter First Number: '))\n",
    "    num2 = int(input('Enter Second Number: '))\n",
    "    res = num1 + num2\n",
    "    print(res)\n",
    "    return res\n",
    "sum = add()\n",
    "print(sum)\n",
    "# print('\\n\\n\\n')\n",
    "# print(type(add()))\n",
    "\n",
    "# If you do not write any return statement then default return vakue is None"
   ]
  },
  {
   "cell_type": "code",
   "execution_count": 55,
   "metadata": {},
   "outputs": [
    {
     "data": {
      "text/plain": [
       "1000"
      ]
     },
     "execution_count": 55,
     "metadata": {},
     "output_type": "execute_result"
    }
   ],
   "source": [
    "# Anonymous function, filter, map and reduce\n",
    "\n",
    "# Anonymous function - A function without name - lambda\n",
    "# a = lambda var1,var2,var3:expr\n",
    "# s = lambda num:num*num\n",
    "# print(s(4))\n",
    "\n",
    "# filter function - filter a seq - length of seq will be diminished\n",
    "# syntax - filter(func, seq) - filter object - generator - list(range())\n",
    "seq = [10,11,12,13,14,15,16,17,18, 19]\n",
    "min = seq[0]\n",
    "for i in seq:\n",
    "    if min<i:\n",
    "# print(list(filter(lambda num:num%2, seq)))\n",
    "# print(seq)\n",
    "\n",
    "\n",
    "# map function - map every element of a seq to some value - length of seq will be constant\n",
    "# syntax - map(func, seq1) - map object - generator - \n",
    "# seq2 = list(map(lambda num:num*2, seq))\n",
    "# # seq3 = seq+seq2\n",
    "# # print(seq3)\n",
    "# print(list(filter(lambda num:num%2, (map(lambda num1,num2:num1+num2, seq, seq2)))))\n",
    "\n",
    "\n",
    "\n",
    "# reduce - aggregation fnction which is used to find the aggregate - reduces a seq to a single value\n",
    "# print(dir(__builtins__))\n",
    "# summary statistics, sum, min, max, mean , median,mode\n",
    "\n",
    "\n",
    "# from functools import reduce\n",
    "# # print(dir())\n",
    "# print(reduce(lambda x,y:x+y, seq))\n",
    "\n",
    "# print(sum(seq))\n",
    "# print(min(seq))\n",
    "# print(max(seq))\n",
    "\n",
    "# d = {1:100,2:200,3:300,4:400}\n",
    "# reduce(lambda x,y:x+y, d.values())\n",
    "\n"
   ]
  },
  {
   "cell_type": "code",
   "execution_count": 30,
   "metadata": {},
   "outputs": [
    {
     "name": "stdout",
     "output_type": "stream",
     "text": [
      "[10, 12, 14, 16, 18]\n"
     ]
    }
   ],
   "source": [
    "seq = [10,11,12,13,14,15,16,17,18,19]\n",
    "def is_even(num):\n",
    "    return True if num%2 == 0 else False\n",
    "\n",
    "out_lst =[]\n",
    "def my_filter(is_even, seq):\n",
    "    for i in seq:\n",
    "        if is_even(i) == True:\n",
    "            out_lst.append(i)\n",
    "        else:\n",
    "            continue\n",
    "    return out_lst\n",
    "print(my_filter(is_even, seq))\n"
   ]
  },
  {
   "cell_type": "code",
   "execution_count": 1,
   "metadata": {},
   "outputs": [
    {
     "name": "stdout",
     "output_type": "stream",
     "text": [
      "Enter Name: abc\n",
      "Enter Phone: 21457863\n",
      "Enter Email: hhh@hmail.com\n",
      "abc 21457863 hhh@hmail.com\n"
     ]
    }
   ],
   "source": [
    "# Decorators - is a function which takes one function as input and returns the input function with a=some added functionality\n",
    "# old car -> service guy -> same car with added functionality\n",
    "# Existing function -> decorator -> same function with added functionality\n",
    "\n",
    "def my_decorator(func):\n",
    "    def wrap_existing_function():\n",
    "        name, phone = func()\n",
    "        email = input('Enter Email: ')\n",
    "        print(name,phone,email)\n",
    "    return wrap_existing_function\n",
    "\n",
    "\n",
    "\n",
    "# @my_decorator\n",
    "def existing_function():\n",
    "    name = input('Enter Name: ')\n",
    "    phone = input('Enter Phone: ')\n",
    "    return name, phone\n",
    "\n",
    "existing_function = my_decorator(existing_function)\n",
    "existing_function()\n"
   ]
  },
  {
   "cell_type": "code",
   "execution_count": null,
   "metadata": {},
   "outputs": [],
   "source": [
    "# When you write a function - function name and other function object"
   ]
  },
  {
   "cell_type": "code",
   "execution_count": null,
   "metadata": {},
   "outputs": [],
   "source": [
    "# Closure"
   ]
  },
  {
   "cell_type": "code",
   "execution_count": null,
   "metadata": {},
   "outputs": [],
   "source": []
  },
  {
   "cell_type": "code",
   "execution_count": null,
   "metadata": {},
   "outputs": [],
   "source": []
  },
  {
   "cell_type": "code",
   "execution_count": null,
   "metadata": {},
   "outputs": [],
   "source": []
  },
  {
   "cell_type": "code",
   "execution_count": null,
   "metadata": {},
   "outputs": [],
   "source": []
  },
  {
   "cell_type": "code",
   "execution_count": null,
   "metadata": {},
   "outputs": [],
   "source": []
  },
  {
   "cell_type": "code",
   "execution_count": null,
   "metadata": {},
   "outputs": [],
   "source": []
  },
  {
   "cell_type": "code",
   "execution_count": 5,
   "metadata": {},
   "outputs": [],
   "source": []
  },
  {
   "cell_type": "code",
   "execution_count": null,
   "metadata": {},
   "outputs": [],
   "source": []
  },
  {
   "cell_type": "code",
   "execution_count": null,
   "metadata": {},
   "outputs": [],
   "source": []
  },
  {
   "cell_type": "code",
   "execution_count": null,
   "metadata": {},
   "outputs": [],
   "source": []
  }
 ],
 "metadata": {
  "kernelspec": {
   "display_name": "Python 3",
   "language": "python",
   "name": "python3"
  },
  "language_info": {
   "codemirror_mode": {
    "name": "ipython",
    "version": 3
   },
   "file_extension": ".py",
   "mimetype": "text/x-python",
   "name": "python",
   "nbconvert_exporter": "python",
   "pygments_lexer": "ipython3",
   "version": "3.7.6"
  }
 },
 "nbformat": 4,
 "nbformat_minor": 2
}
