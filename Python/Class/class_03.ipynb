{
 "cells": [
  {
   "cell_type": "code",
   "execution_count": null,
   "metadata": {},
   "outputs": [],
   "source": [
    "# Data types in Python\n",
    "    # Fundamental Data Types - int, float, complex, boolean, string, None\n",
    "    # Derived Data Types - List, tuple, set, frozenset, dictionary, bytes, bytearray, range"
   ]
  },
  {
   "cell_type": "code",
   "execution_count": 24,
   "metadata": {},
   "outputs": [
    {
     "ename": "ValueError",
     "evalue": "invalid literal for int() with base 10: 'A'",
     "output_type": "error",
     "traceback": [
      "\u001b[0;31m---------------------------------------------------------------------------\u001b[0m",
      "\u001b[0;31mValueError\u001b[0m                                Traceback (most recent call last)",
      "\u001b[0;32m<ipython-input-24-3dd21a92d141>\u001b[0m in \u001b[0;36m<module>\u001b[0;34m\u001b[0m\n\u001b[1;32m     42\u001b[0m \u001b[0;31m# print(int('0b1100'))\u001b[0m\u001b[0;34m\u001b[0m\u001b[0;34m\u001b[0m\u001b[0;34m\u001b[0m\u001b[0m\n\u001b[1;32m     43\u001b[0m \u001b[0;31m# print(int('True'))\u001b[0m\u001b[0;34m\u001b[0m\u001b[0;34m\u001b[0m\u001b[0;34m\u001b[0m\u001b[0m\n\u001b[0;32m---> 44\u001b[0;31m \u001b[0mprint\u001b[0m\u001b[0;34m(\u001b[0m\u001b[0mint\u001b[0m\u001b[0;34m(\u001b[0m\u001b[0;34m'A'\u001b[0m\u001b[0;34m)\u001b[0m\u001b[0;34m)\u001b[0m\u001b[0;34m\u001b[0m\u001b[0;34m\u001b[0m\u001b[0m\n\u001b[0m",
      "\u001b[0;31mValueError\u001b[0m: invalid literal for int() with base 10: 'A'"
     ]
    }
   ],
   "source": [
    "# int data type - any whole number without decimal point - 10, 0, -10\n",
    "# represented in different form\n",
    "    # Decimal - Allowed digits are 0 -9, no prefix required, int(), 98765\n",
    "    # binary - Allowed digits are 0 and 1, prefix reqired in 0b or 0B, bin() - 0b1010, 0b10100\n",
    "    # Octal - Allowed digits are 0 to 7, prefix required is 0o or 0O, oct() - 0o76432\n",
    "    # Hexadecimal - Allowed digits are 0 -9 and a/A to f/F, prefix - 0x, 0X, hex() - 0xfc98\n",
    "# Only integer values can be represented in binary, octal or hexadecimal form\n",
    "\n",
    "a = 98\n",
    "\n",
    "# Binary representation\n",
    "# a = 0b1010011011001\n",
    "# print(a)\n",
    "# print(type(bin(5337)))\n",
    "# print(bin(0o7653))\n",
    "# print(bin(10.20))\n",
    "\n",
    "#Octal Representation\n",
    "# b = 0o7653\n",
    "# print(b)\n",
    "# print(oct(4011))\n",
    "# print(oct(0b1010011011001))\n",
    "\n",
    "# Hexadecimal\n",
    "# c = 0xfc98\n",
    "# print(c)\n",
    "# print(hex(64664))\n",
    "# print(hex(0b101010))\n",
    "\n",
    "# int()\n",
    "# print(int(10))\n",
    "# print(int(10.20))\n",
    "# print(int('10'))\n",
    "# print(int(0b101010))\n",
    "# print(int(0xfc98))\n",
    "# print(int(0o7654))\n",
    "# print(int(True))\n",
    "\n",
    "\n",
    "# print(int('10.20'))\n",
    "# print(int(10+20j))\n",
    "# print(int('0b1100'))\n",
    "# print(int('True'))\n",
    "# print(int('A'))"
   ]
  },
  {
   "cell_type": "code",
   "execution_count": 37,
   "metadata": {},
   "outputs": [
    {
     "name": "stdout",
     "output_type": "stream",
     "text": [
      "10.0\n",
      "10.2\n",
      "10.2\n",
      "21.0\n",
      "4012.0\n",
      "64664.0\n",
      "1.0\n"
     ]
    },
    {
     "ename": "ValueError",
     "evalue": "could not convert string to float: 'A'",
     "output_type": "error",
     "traceback": [
      "\u001b[0;31m---------------------------------------------------------------------------\u001b[0m",
      "\u001b[0;31mValueError\u001b[0m                                Traceback (most recent call last)",
      "\u001b[0;32m<ipython-input-37-ba83d47954ea>\u001b[0m in \u001b[0;36m<module>\u001b[0;34m\u001b[0m\n\u001b[1;32m     15\u001b[0m \u001b[0;31m# print(float('0b10101'))\u001b[0m\u001b[0;34m\u001b[0m\u001b[0;34m\u001b[0m\u001b[0;34m\u001b[0m\u001b[0m\n\u001b[1;32m     16\u001b[0m \u001b[0;31m# print(float('True'))\u001b[0m\u001b[0;34m\u001b[0m\u001b[0;34m\u001b[0m\u001b[0;34m\u001b[0m\u001b[0m\n\u001b[0;32m---> 17\u001b[0;31m \u001b[0mprint\u001b[0m\u001b[0;34m(\u001b[0m\u001b[0mfloat\u001b[0m\u001b[0;34m(\u001b[0m\u001b[0;34m'A'\u001b[0m\u001b[0;34m)\u001b[0m\u001b[0;34m)\u001b[0m\u001b[0;34m\u001b[0m\u001b[0;34m\u001b[0m\u001b[0m\n\u001b[0m",
      "\u001b[0;31mValueError\u001b[0m: could not convert string to float: 'A'"
     ]
    }
   ],
   "source": [
    "# float - any number with decimal point - 10.20, 0.001,-10.20\n",
    "# float()\n",
    "# float value can not be represented in binary, octal or hexadecimal form\n",
    "\n",
    "# float()\n",
    "print(float(10))\n",
    "print(float(10.20))\n",
    "print(float('10.20'))\n",
    "print(float(0b10101))\n",
    "print(float(0o7654))\n",
    "print(float(0xfc98))\n",
    "print(float(True))\n",
    "\n",
    "# print(float(10+20j))\n",
    "# print(float('0b10101'))\n",
    "# print(float('True'))\n",
    "# print(float('A'))"
   ]
  },
  {
   "cell_type": "code",
   "execution_count": 32,
   "metadata": {},
   "outputs": [
    {
     "name": "stdout",
     "output_type": "stream",
     "text": [
      "0o142\n",
      "98\n"
     ]
    }
   ],
   "source": [
    "# a=98\n",
    "# b=oct(a)\n",
    "# print(b, type(b))\n",
    "# c=int(b)\n",
    "# print (b,type (b))\n",
    "# print (c,type (b))\n",
    "# int('0o142')\n",
    "\n",
    "# a=98\n",
    "# b=oct(a)\n",
    "# print(b)\n",
    "# # c=int(oct(b))\n",
    "# print(int(0o142))"
   ]
  },
  {
   "cell_type": "code",
   "execution_count": 54,
   "metadata": {},
   "outputs": [
    {
     "ename": "TypeError",
     "evalue": "complex() second arg can't be a string",
     "output_type": "error",
     "traceback": [
      "\u001b[0;31m---------------------------------------------------------------------------\u001b[0m",
      "\u001b[0;31mTypeError\u001b[0m                                 Traceback (most recent call last)",
      "\u001b[0;32m<ipython-input-54-306fac9354b0>\u001b[0m in \u001b[0;36m<module>\u001b[0;34m\u001b[0m\n\u001b[1;32m     32\u001b[0m \u001b[0;31m# print(complex('10', 20))\u001b[0m\u001b[0;34m\u001b[0m\u001b[0;34m\u001b[0m\u001b[0;34m\u001b[0m\u001b[0m\n\u001b[1;32m     33\u001b[0m \u001b[0;31m# print(compelx('0b1010', 20))\u001b[0m\u001b[0;34m\u001b[0m\u001b[0;34m\u001b[0m\u001b[0;34m\u001b[0m\u001b[0m\n\u001b[0;32m---> 34\u001b[0;31m \u001b[0mprint\u001b[0m\u001b[0;34m(\u001b[0m\u001b[0mcomplex\u001b[0m\u001b[0;34m(\u001b[0m\u001b[0;36m20\u001b[0m\u001b[0;34m,\u001b[0m \u001b[0;34m'0b1010'\u001b[0m\u001b[0;34m)\u001b[0m\u001b[0;34m)\u001b[0m\u001b[0;34m\u001b[0m\u001b[0;34m\u001b[0m\u001b[0m\n\u001b[0m\u001b[1;32m     35\u001b[0m \u001b[0mprint\u001b[0m\u001b[0;34m(\u001b[0m\u001b[0mcomplex\u001b[0m\u001b[0;34m(\u001b[0m\u001b[0;36m10\u001b[0m\u001b[0;34m,\u001b[0m\u001b[0;34m'20'\u001b[0m\u001b[0;34m)\u001b[0m\u001b[0;34m)\u001b[0m\u001b[0;34m\u001b[0m\u001b[0;34m\u001b[0m\u001b[0m\n\u001b[1;32m     36\u001b[0m \u001b[0;34m\u001b[0m\u001b[0m\n",
      "\u001b[0;31mTypeError\u001b[0m: complex() second arg can't be a string"
     ]
    }
   ],
   "source": [
    "# Complex - a+bj where a is real part, b is imaginary part and j is imaginary value = square root of -1\n",
    "# Number line - square root of -1\n",
    "a = 10+20j\n",
    "# print(a.real)\n",
    "# print(a.imag)\n",
    "\n",
    "# print(help(int))\n",
    "# print(help(complex))\n",
    "# print(dir(int))\n",
    "# print(dir(complex))\n",
    "\n",
    "# complex(real), complex(real, imag)\n",
    "\n",
    "# print(complex(10))\n",
    "# print(complex(10.20))\n",
    "# print(complex('10'))\n",
    "# print(complex('10.20'))\n",
    "# print(complex(0b10101))\n",
    "# print(complex(True))\n",
    "\n",
    "# print(complex('0b10101'))\n",
    "# print(complex('True'))\n",
    "# print(complex('A'))\n",
    "\n",
    "\n",
    "# print(complex(10,20))\n",
    "# print(complex(10.20, 20.30))\n",
    "# print(complex(0b10101, 0xfc98))\n",
    "# print(complex(True, False))\n",
    "\n",
    "\n",
    "# print(complex('10', 20))\n",
    "# print(compelx('0b1010', 20))\n",
    "# print(complex(20, '0b1010'))\n",
    "# print(complex(10,'20'))\n",
    "\n",
    "# Modulo operation is not allowed \n",
    "\n"
   ]
  },
  {
   "cell_type": "code",
   "execution_count": 66,
   "metadata": {},
   "outputs": [
    {
     "name": "stdout",
     "output_type": "stream",
     "text": [
      "False\n",
      "True\n",
      "True\n",
      "True\n"
     ]
    }
   ],
   "source": [
    "# Boolean - True and False - bool() - returns True if value is True else False\n",
    "# True - 1, 1.0 or 1+0j\n",
    "# False - 0, 0.0, 0+0j\n",
    "\n",
    "# Any data type to boolean value\n",
    "# In numbers apart from 0 everything is True\n",
    "# print(bool(10))\n",
    "# print(bool(10.20))\n",
    "# print(bool(0.000000000000000000000001))\n",
    "# print(bool(0+0.000000001j))\n",
    "# print(bool(0+0.00000000j))\n",
    "# print(True + True)\n",
    "# print(True-True)\n",
    "\n",
    "# string - apart from empty string everything is True\n",
    "# print(bool(\"\"))\n",
    "# print(bool(\"A\"))\n",
    "# print(bool(\" \"))\n",
    "# print(bool(\"0\"))"
   ]
  },
  {
   "cell_type": "code",
   "execution_count": 87,
   "metadata": {},
   "outputs": [
    {
     "name": "stdout",
     "output_type": "stream",
     "text": [
      "This is Python's class\n",
      "This is \"Python\" class\n",
      "This is \"Python\" and Java's class\n",
      "This\n",
      "is \n",
      "Python\n",
      "class\n",
      "This \tis \u000b",
      "Python \n",
      "class\n"
     ]
    }
   ],
   "source": [
    "# String - Combination of characters kept inside quotation - '...', \"...\", '''...''', \"\"\"...\"\"\"\n",
    "\n",
    "a = \"This is Python's class\"\n",
    "print(a)\n",
    "\n",
    "b = 'This is \"Python\" class'\n",
    "print(b)\n",
    "\n",
    "c = '''This is \"Python\" and Java's class'''\n",
    "print(c)\n",
    "\n",
    "# triple quotations are used to write multiline strings\n",
    "d = \"\"\"This\n",
    "is \n",
    "Python\n",
    "class\"\"\"\n",
    "print(d)\n",
    "\n",
    "# e = 'This \\n\n",
    "# is \\n\n",
    "# Python \\n\n",
    "# class'\n",
    "\n",
    "# print(e)\n",
    "\n",
    "\n",
    "f = 'This \\tis \\vPython \\nclass'\n",
    "print(f)\n",
    "\n",
    "# Python\n",
    "#     Python\n",
    "#         Python\n",
    "#     Python\n",
    "# Python"
   ]
  },
  {
   "cell_type": "code",
   "execution_count": null,
   "metadata": {},
   "outputs": [],
   "source": [
    "# \\, \\n, \\t, \\v"
   ]
  },
  {
   "cell_type": "code",
   "execution_count": 107,
   "metadata": {},
   "outputs": [
    {
     "name": "stdout",
     "output_type": "stream",
     "text": [
      "PythonLearnbay\n",
      "PythonPython\n",
      "PythonPythonPythonPythonPythonPythonPythonPythonPythonPython\n"
     ]
    },
    {
     "ename": "TypeError",
     "evalue": "can't multiply sequence by non-int of type 'float'",
     "output_type": "error",
     "traceback": [
      "\u001b[0;31m---------------------------------------------------------------------------\u001b[0m",
      "\u001b[0;31mTypeError\u001b[0m                                 Traceback (most recent call last)",
      "\u001b[0;32m<ipython-input-107-5c4006005b3e>\u001b[0m in \u001b[0;36m<module>\u001b[0;34m\u001b[0m\n\u001b[1;32m     60\u001b[0m \u001b[0mprint\u001b[0m\u001b[0;34m(\u001b[0m\u001b[0ma\u001b[0m\u001b[0;34m*\u001b[0m\u001b[0;36m10\u001b[0m\u001b[0;34m)\u001b[0m\u001b[0;34m\u001b[0m\u001b[0;34m\u001b[0m\u001b[0m\n\u001b[1;32m     61\u001b[0m \u001b[0;31m# print(a*b)\u001b[0m\u001b[0;34m\u001b[0m\u001b[0;34m\u001b[0m\u001b[0;34m\u001b[0m\u001b[0m\n\u001b[0;32m---> 62\u001b[0;31m \u001b[0mprint\u001b[0m\u001b[0;34m(\u001b[0m\u001b[0ma\u001b[0m\u001b[0;34m*\u001b[0m\u001b[0;36m10.20\u001b[0m\u001b[0;34m)\u001b[0m\u001b[0;34m\u001b[0m\u001b[0;34m\u001b[0m\u001b[0m\n\u001b[0m",
      "\u001b[0;31mTypeError\u001b[0m: can't multiply sequence by non-int of type 'float'"
     ]
    }
   ],
   "source": [
    "# sequence - string, list, tuple, bytes, bytearray, range\n",
    "# the values are indexed it is an ordered collection of elements\n",
    "# indexing and slicing are allowed\n",
    "# positive and negative indexing are allowed\n",
    "# concatenation and repetition\n",
    "\n",
    "a = 'Python'\n",
    "\n",
    "# -6  -5   -4   -3   -2   -1\n",
    "# <--------------------------- negative indexing and always starts from -1\n",
    "# P    y    t    h    o    n\n",
    "# ---------------------------> always starts from 0 and positive indexing\n",
    "# 0    1    2    3    4    5\n",
    "\n",
    "# Indexing - accessing a single charater\n",
    "# Syntax = str_name[index]\n",
    "\n",
    "# print(a[-1])\n",
    "# print(a[0])\n",
    "# print(a[len(a)-1])\n",
    "# print(a[-len(a)])\n",
    "\n",
    "\n",
    "# Slicing - to access multiple charcaters at a time\n",
    "# sytax of slicing - str_name[start:stop:step]\n",
    "# Thedefault value of \n",
    "# start - 0\n",
    "# stop is len(str)\n",
    "# step is 1\n",
    "# id step is negative then start and stop default values are swapped\n",
    "\n",
    "# a = 'Python'\n",
    "# print(a[::])\n",
    "# print(a[2:4:1])\n",
    "\n",
    "\n",
    "# step is Positive slicing is done from left to right    --------->\n",
    "# step is negative slicing is done from right to left    <---------\n",
    "# 1,2,3,4 - every value, every 2nd value, every third value and so on\n",
    "\n",
    "# b = 'This is Python class'\n",
    "# print(b[8:14:1])\n",
    "# print(b[8:14])\n",
    "# print(b[13:7:-1])\n",
    "# print(b[-7:-13:-1])\n",
    "# print(b[::2])\n",
    "# print(b[::-1])\n",
    "# print(b[::-2])\n",
    "\n",
    "\n",
    "a = 'Python'\n",
    "b = 'Learnbay'\n",
    "# Concatenation combining two sequences, sequence should be of similar type\n",
    "print(a+b)\n",
    "# print(a+[10,20,30])\n",
    "\n",
    "# print(a+10)\n",
    "\n",
    "# Repetition - repeting a string multiple time, one opaerand shouldbe string and other shoudl be integer\n",
    "print(a*2)\n",
    "print(a*10)\n",
    "# print(a*b)\n",
    "# print(a*10.20)\n"
   ]
  },
  {
   "cell_type": "code",
   "execution_count": 110,
   "metadata": {},
   "outputs": [
    {
     "name": "stdout",
     "output_type": "stream",
     "text": [
      "4436101224\n",
      "4436101224\n"
     ]
    }
   ],
   "source": [
    "# # None - \n",
    "# # a = None\n",
    "# # lst = [None]*10\n",
    "# # lst[2] = 100\n",
    "# # print(lst)\n",
    "\n",
    "# lst = [0,0,100,0]\n",
    "\n",
    "# a = None\n",
    "# b = None\n",
    "# print(id(a))\n",
    "# print(id(b))"
   ]
  },
  {
   "cell_type": "code",
   "execution_count": 116,
   "metadata": {},
   "outputs": [
    {
     "name": "stdout",
     "output_type": "stream",
     "text": [
      "3.3333333333333335\n",
      "3\n",
      "40\n",
      "1\n",
      "10000\n"
     ]
    }
   ],
   "source": [
    "# Operators\n",
    "# Arithmetic operators - number\n",
    "    # Addition - +\n",
    "    # Subtraction - -\n",
    "    # Multiplication - *\n",
    "    # Float Division - / - True Division- float value - after completey dividing the number\n",
    "    # Floor Division- // - Floor value, Quotient\n",
    "    # Modulo operation - %\n",
    "    # Exponent - **\n",
    "    \n",
    "print(10/3)\n",
    "print(10//3)\n",
    "print(10*4)\n",
    "print(10%3)\n",
    "print(10**4)"
   ]
  },
  {
   "cell_type": "code",
   "execution_count": 114,
   "metadata": {},
   "outputs": [
    {
     "name": "stdout",
     "output_type": "stream",
     "text": [
      "3\n",
      "5\n"
     ]
    }
   ],
   "source": [
    "# Floor value and ceil\n",
    "# Floor value - nearest lowest whole number - bottom\n",
    "import math\n",
    "print(math.floor(3.9999))\n",
    "\n",
    "\n",
    "# ceil value - nearest highest whole number - top\n",
    "print(math.ceil(4.0001))"
   ]
  },
  {
   "cell_type": "code",
   "execution_count": 133,
   "metadata": {},
   "outputs": [
    {
     "name": "stdout",
     "output_type": "stream",
     "text": [
      "True\n",
      "True\n",
      "True\n",
      "True\n"
     ]
    },
    {
     "ename": "TypeError",
     "evalue": "'<=' not supported between instances of 'str' and 'int'",
     "output_type": "error",
     "traceback": [
      "\u001b[0;31m---------------------------------------------------------------------------\u001b[0m",
      "\u001b[0;31mTypeError\u001b[0m                                 Traceback (most recent call last)",
      "\u001b[0;32m<ipython-input-133-c87776775f1d>\u001b[0m in \u001b[0;36m<module>\u001b[0;34m\u001b[0m\n\u001b[1;32m     11\u001b[0m \u001b[0mprint\u001b[0m\u001b[0;34m(\u001b[0m\u001b[0;34m'Python'\u001b[0m \u001b[0;34m<=\u001b[0m \u001b[0;34m'Python'\u001b[0m\u001b[0;34m)\u001b[0m\u001b[0;34m\u001b[0m\u001b[0;34m\u001b[0m\u001b[0m\n\u001b[1;32m     12\u001b[0m \u001b[0mprint\u001b[0m\u001b[0;34m(\u001b[0m\u001b[0;34m'python'\u001b[0m \u001b[0;34m>\u001b[0m \u001b[0;34m'Python'\u001b[0m\u001b[0;34m)\u001b[0m\u001b[0;34m\u001b[0m\u001b[0;34m\u001b[0m\u001b[0m\n\u001b[0;32m---> 13\u001b[0;31m \u001b[0mprint\u001b[0m\u001b[0;34m(\u001b[0m\u001b[0;34m'A'\u001b[0m\u001b[0;34m<=\u001b[0m\u001b[0;36m65\u001b[0m\u001b[0;34m)\u001b[0m\u001b[0;34m\u001b[0m\u001b[0;34m\u001b[0m\u001b[0m\n\u001b[0m\u001b[1;32m     14\u001b[0m \u001b[0;31m# print(10>True)\u001b[0m\u001b[0;34m\u001b[0m\u001b[0;34m\u001b[0m\u001b[0;34m\u001b[0m\u001b[0m\n\u001b[1;32m     15\u001b[0m \u001b[0;34m\u001b[0m\u001b[0m\n",
      "\u001b[0;31mTypeError\u001b[0m: '<=' not supported between instances of 'str' and 'int'"
     ]
    }
   ],
   "source": [
    "# Comparison operator - <, <=, >, >= - return boolean value based on the result\n",
    "# Comparison between different data type is not possible except int, boolean and float 10<'A',\n",
    "# Comparison between similar data type is possible\n",
    "# Sequence comparison\n",
    "    # length\n",
    "    # character by character and using ASCII code\n",
    "\n",
    "print(10<20)\n",
    "# print(10<'A')\n",
    "print('Pytho' < 'Python')\n",
    "print('Python' <= 'Python')\n",
    "print('python' > 'Python')\n",
    "print('A'<=65)\n",
    "# print(10>True)\n",
    "\n",
    "# print(ord('p'))\n",
    "# print(ord('P'))\n",
    "# print(chr(112))\n",
    "# print(chr(80))\n",
    "# print(ord('A'))\n",
    "# print(ord('='))"
   ]
  },
  {
   "cell_type": "code",
   "execution_count": 139,
   "metadata": {},
   "outputs": [
    {
     "name": "stdout",
     "output_type": "stream",
     "text": [
      "False\n",
      "True\n",
      "True\n",
      "False\n"
     ]
    }
   ],
   "source": [
    "# Equality operator - Compares the content and returns boolean value, == & !=\n",
    "# checking equality is allowed between different data types\n",
    "\n",
    "# print(10==10.20)\n",
    "# print(10!=20)\n",
    "# print('Python' != 'python')\n",
    "# print('A' == 65)"
   ]
  },
  {
   "cell_type": "code",
   "execution_count": null,
   "metadata": {},
   "outputs": [],
   "source": []
  },
  {
   "cell_type": "code",
   "execution_count": null,
   "metadata": {},
   "outputs": [],
   "source": []
  },
  {
   "cell_type": "code",
   "execution_count": null,
   "metadata": {},
   "outputs": [],
   "source": []
  },
  {
   "cell_type": "code",
   "execution_count": null,
   "metadata": {},
   "outputs": [],
   "source": []
  },
  {
   "cell_type": "code",
   "execution_count": null,
   "metadata": {},
   "outputs": [],
   "source": []
  },
  {
   "cell_type": "code",
   "execution_count": null,
   "metadata": {},
   "outputs": [],
   "source": []
  }
 ],
 "metadata": {
  "kernelspec": {
   "display_name": "Python 3",
   "language": "python",
   "name": "python3"
  },
  "language_info": {
   "codemirror_mode": {
    "name": "ipython",
    "version": 3
   },
   "file_extension": ".py",
   "mimetype": "text/x-python",
   "name": "python",
   "nbconvert_exporter": "python",
   "pygments_lexer": "ipython3",
   "version": "3.7.6"
  }
 },
 "nbformat": 4,
 "nbformat_minor": 2
}
