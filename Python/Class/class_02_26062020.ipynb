{
 "cells": [
  {
   "cell_type": "code",
   "execution_count": null,
   "metadata": {},
   "outputs": [],
   "source": [
    "# Low Level - Machine Langauge(Binary Language), Assembly Language\n",
    "# High Level - C/C++/Java/Python/Perl/Ruby\n",
    "\n",
    "# C and Shell Sripting, ABC language\n",
    "\n",
    "# H/W - Memory, CPU, I/O Devices\n",
    "\n",
    "# Instruction - Signals - 0 & 1 - Binary Representation\n",
    "\n",
    "# a = 10\n",
    "# print(a)\n",
    "\n",
    "# ASCII - 128, or Unicode - 6000 - Standard table which maps every key on your keyboard to a specific decimal number\n",
    "# A - 65, B - 66, C - 67, a - 97, b - 98, c - 99, = - 61\n",
    "\n",
    "# Integer value - binary\n",
    "# num     by 2     quo     rem\n",
    "# 97.      2.       48       1\n",
    "# 48.      2.       24.      0\n",
    "# 24.      2.       12.      0\n",
    "# 12.      2.       6.       0\n",
    "# 6.       2.       3.       0\n",
    "# 3.       2.       1.       1\n",
    "# 1.       2.       0.       1\n",
    "\n",
    "# 61\n",
    "\n",
    "# a -> 1100001\n",
    "\n",
    "# Translators - Compilers and Interpreters - Translate the code from High Level to Low level PL\n",
    "\n",
    "# Compilers - takes the whole code in High Level PL at once and converts it to Low level PL\n",
    "# Interpreters - It is instruction by instruction execution\n",
    "\n",
    "# Compiled - compilers to translate - C/C++/Java\n",
    "# Interpreted - Interpreters to translates - Javascript, perl, php\n",
    "\n",
    "# Python - compiled and interpreted\n",
    "\n",
    "# Type of Errors -\n",
    "    # Compile time error - Compilation stage - Syntax Error, Indentation Error etc - \n",
    "        # If any compile time error encountered in the source code then compilation to byte code will not be done i.e. not a single line of code will be executed\n",
    "        # If there is no error or only run time error in source code then compilation will be done and depends on the run location of  runtime error whetehr some ccode willbe executed or not.\n",
    "    # Run time Error - NameError, TypeError, ValueError etc\n",
    "        # If any run time error is encountered then it will stop the execution then and there\n",
    "        # If tehre is no error then the whole code will be executed.\n",
    "\n",
    "# Python is portable(source code) and platform indepenedent(Byte code)        \n",
    "        \n",
    "\n",
    "# Batteries Included - modules and packages\n",
    "\n",
    "# Extensibility(importing code form other PL to Python) and Embedded(exporting the code of Python to other PL)"
   ]
  },
  {
   "cell_type": "code",
   "execution_count": 6,
   "metadata": {},
   "outputs": [
    {
     "ename": "IndentationError",
     "evalue": "unexpected indent (<ipython-input-6-b9f1b1333da3>, line 6)",
     "output_type": "error",
     "traceback": [
      "\u001b[0;36m  File \u001b[0;32m\"<ipython-input-6-b9f1b1333da3>\"\u001b[0;36m, line \u001b[0;32m6\u001b[0m\n\u001b[0;31m    print(a)\u001b[0m\n\u001b[0m    ^\u001b[0m\n\u001b[0;31mIndentationError\u001b[0m\u001b[0;31m:\u001b[0m unexpected indent\n"
     ]
    }
   ],
   "source": [
    "# Syntax error\n",
    "# a = 10\n",
    "# b = 20\n",
    "# c = a+b\n",
    "# print(c)\n",
    "# print(a)\n",
    "# print(b)\n",
    "\n",
    "\n",
    "\n",
    "\n",
    "\n",
    "\n"
   ]
  },
  {
   "cell_type": "code",
   "execution_count": 9,
   "metadata": {},
   "outputs": [
    {
     "name": "stdout",
     "output_type": "stream",
     "text": [
      "30\n"
     ]
    },
    {
     "ename": "NameError",
     "evalue": "name 'd' is not defined",
     "output_type": "error",
     "traceback": [
      "\u001b[0;31m---------------------------------------------------------------------------\u001b[0m",
      "\u001b[0;31mNameError\u001b[0m                                 Traceback (most recent call last)",
      "\u001b[0;32m<ipython-input-9-c65e1b6cd510>\u001b[0m in \u001b[0;36m<module>\u001b[0;34m\u001b[0m\n\u001b[1;32m      4\u001b[0m \u001b[0mc\u001b[0m \u001b[0;34m=\u001b[0m \u001b[0ma\u001b[0m\u001b[0;34m+\u001b[0m\u001b[0mb\u001b[0m\u001b[0;34m\u001b[0m\u001b[0;34m\u001b[0m\u001b[0m\n\u001b[1;32m      5\u001b[0m \u001b[0mprint\u001b[0m\u001b[0;34m(\u001b[0m\u001b[0mc\u001b[0m\u001b[0;34m)\u001b[0m\u001b[0;34m\u001b[0m\u001b[0;34m\u001b[0m\u001b[0m\n\u001b[0;32m----> 6\u001b[0;31m \u001b[0mprint\u001b[0m\u001b[0;34m(\u001b[0m\u001b[0md\u001b[0m\u001b[0;34m)\u001b[0m\u001b[0;34m\u001b[0m\u001b[0;34m\u001b[0m\u001b[0m\n\u001b[0m\u001b[1;32m      7\u001b[0m \u001b[0mprint\u001b[0m\u001b[0;34m(\u001b[0m\u001b[0ma\u001b[0m\u001b[0;34m)\u001b[0m\u001b[0;34m\u001b[0m\u001b[0;34m\u001b[0m\u001b[0m\n\u001b[1;32m      8\u001b[0m \u001b[0mprint\u001b[0m\u001b[0;34m(\u001b[0m\u001b[0mb\u001b[0m\u001b[0;34m)\u001b[0m\u001b[0;34m\u001b[0m\u001b[0;34m\u001b[0m\u001b[0m\n",
      "\u001b[0;31mNameError\u001b[0m: name 'd' is not defined"
     ]
    }
   ],
   "source": [
    "# Run time Error\n",
    "# a = 10\n",
    "# b = 20\n",
    "# c = a+b\n",
    "# print(c)\n",
    "# print(d)\n",
    "# print(a)\n",
    "# print(b)\n",
    "\n",
    "\n",
    "\n",
    "\n"
   ]
  },
  {
   "cell_type": "code",
   "execution_count": 11,
   "metadata": {},
   "outputs": [],
   "source": [
    "# print(dir(__builtins__))"
   ]
  },
  {
   "cell_type": "code",
   "execution_count": null,
   "metadata": {},
   "outputs": [],
   "source": [
    "# Memeory management in Python - automatic\n",
    "# Memroy allocation and deallocation - user has no contril over the memory allocation and deallocation\n",
    "    # In Python everyting is an object, 10,10.20, 10+20j,'Python', [10,20,30], True, None, f1()\n",
    "# Garbage collection - automatic - reference count\n"
   ]
  },
  {
   "cell_type": "code",
   "execution_count": 14,
   "metadata": {},
   "outputs": [
    {
     "name": "stdout",
     "output_type": "stream",
     "text": [
      "100\n",
      "200\n"
     ]
    }
   ],
   "source": [
    "# Different components of a python program\n",
    "    # literals\n",
    "    # Identifiers\n",
    "    # variables \n",
    "    # constants\n",
    "    # Reserved words\n",
    "    # Expressions\n",
    "    # Statements\n",
    "    # Comments\n",
    "    # Suites or block and Indentation\n",
    "    # Escape Sequeces\n",
    "    \n",
    "# Literal - any value is a literal\n",
    "# Numerical - 10, 10.20, 10+20j, 0b1010, 0o7654, 0xfc98\n",
    "# Boolean Literal - True and False\n",
    "# String Literals - anything which is kept inside single quotaion('...'), double quotation(\"...\") or triple quotation('''...''' or \"\"\"...\"\"\")\n",
    "    # '10', \"10.20\", 'Python', \"\"\"10+20j\"\"\", \n",
    "    \n",
    "# Identifiers - Any name given to variables, function, class, constatns, objects.\n",
    "\n",
    "# variable identifier - variables are the identifier which may change the value associated with them, lowercase\n",
    "num = 100\n",
    "    \n",
    "# constant identifier - constants are the identifier which are not going to change the value associated with them, uppercase\n",
    "MAX_NUM = 100\n",
    "print(MAX_NUM)\n",
    "MAX_NUM =200 \n",
    "print(MAX_NUM)\n",
    "\n",
    "# Rules of defining the identifier:-\n",
    "    # Allowed Characters - A to Z, a to z, 0 to 9\n",
    "    # Not allowed - Special characters \n",
    "    # Identifier should not start with a number.\n",
    "    # Identifier are case sensitive\n",
    "    # Never use reserved words as an identifier\n",
    "    # _ is also allowed\n",
    "    # _abc - Private - not accessible outside the module\n",
    "    # __abc - Strongly private - not accessible outside of the class\n",
    "    # __abc__ - language defined special identifier \n",
    "    \n",
    "    \n",
    "    \n",
    "    \n",
    "    \n",
    "    \n",
    "    "
   ]
  },
  {
   "cell_type": "code",
   "execution_count": 15,
   "metadata": {},
   "outputs": [
    {
     "name": "stdout",
     "output_type": "stream",
     "text": [
      "100\n"
     ]
    }
   ],
   "source": [
    "num1 = 100\n",
    "print(num1)"
   ]
  },
  {
   "cell_type": "code",
   "execution_count": 16,
   "metadata": {},
   "outputs": [
    {
     "name": "stdout",
     "output_type": "stream",
     "text": [
      "100\n",
      "1000\n"
     ]
    }
   ],
   "source": [
    "Num1 = 1000\n",
    "print(num1)\n",
    "print(Num1)"
   ]
  },
  {
   "cell_type": "code",
   "execution_count": 17,
   "metadata": {},
   "outputs": [
    {
     "ename": "SyntaxError",
     "evalue": "invalid syntax (<ipython-input-17-4029ac31a7ad>, line 1)",
     "output_type": "error",
     "traceback": [
      "\u001b[0;36m  File \u001b[0;32m\"<ipython-input-17-4029ac31a7ad>\"\u001b[0;36m, line \u001b[0;32m1\u001b[0m\n\u001b[0;31m    1num = 200\u001b[0m\n\u001b[0m       ^\u001b[0m\n\u001b[0;31mSyntaxError\u001b[0m\u001b[0;31m:\u001b[0m invalid syntax\n"
     ]
    }
   ],
   "source": [
    "# 1num = 200"
   ]
  },
  {
   "cell_type": "code",
   "execution_count": 18,
   "metadata": {},
   "outputs": [
    {
     "ename": "SyntaxError",
     "evalue": "invalid syntax (<ipython-input-18-97d3a17b1b77>, line 1)",
     "output_type": "error",
     "traceback": [
      "\u001b[0;36m  File \u001b[0;32m\"<ipython-input-18-97d3a17b1b77>\"\u001b[0;36m, line \u001b[0;32m1\u001b[0m\n\u001b[0;31m    num$ = 200\u001b[0m\n\u001b[0m       ^\u001b[0m\n\u001b[0;31mSyntaxError\u001b[0m\u001b[0;31m:\u001b[0m invalid syntax\n"
     ]
    }
   ],
   "source": [
    "num$ = 200"
   ]
  },
  {
   "cell_type": "code",
   "execution_count": 19,
   "metadata": {},
   "outputs": [
    {
     "name": "stdout",
     "output_type": "stream",
     "text": [
      "['False', 'None', 'True', 'and', 'as', 'assert', 'async', 'await', 'break', 'class', 'continue', 'def', 'del', 'elif', 'else', 'except', 'finally', 'for', 'from', 'global', 'if', 'import', 'in', 'is', 'lambda', 'nonlocal', 'not', 'or', 'pass', 'raise', 'return', 'try', 'while', 'with', 'yield']\n"
     ]
    }
   ],
   "source": [
    "# Reserved words in Python\n",
    "import keyword\n",
    "print(keyword.kwlist)\n",
    "\n",
    "# 'False', 'None', 'True', 'and', 'as', 'assert', 'async', 'await', 'break', 'class', 'continue', 'def', 'del', \n",
    "# 'elif', 'else', 'except', 'finally', 'for', 'from', 'global', 'if', 'import', 'in', 'is', 'lambda', 'nonlocal', \n",
    "# 'not', 'or', 'pass', 'raise', 'return', 'try', 'while', 'with', 'yield'\n",
    "\n",
    "# Reserved Literals - 'False', 'None', 'True',\n",
    "# Keyword - 'and', 'as', 'assert', 'async', 'await', 'break', 'class', 'continue', 'def', 'del', \n",
    "# 'elif', 'else', 'except', 'finally', 'for', 'from', 'global', 'if', 'import', 'in', 'is', 'lambda', 'nonlocal', \n",
    "# 'not', 'or', 'pass', 'raise', 'return', 'try', 'while', 'with', 'yield'"
   ]
  },
  {
   "cell_type": "code",
   "execution_count": 28,
   "metadata": {},
   "outputs": [
    {
     "name": "stdout",
     "output_type": "stream",
     "text": [
      "None\n",
      "10\n",
      "0\n",
      "1\n",
      "2\n",
      "3\n",
      "4\n"
     ]
    }
   ],
   "source": [
    "# False\n",
    "# True\n",
    "# print(None)\n",
    "\n",
    "# # print(if)\n",
    "# if 10<20:\n",
    "#     print(10)\n",
    "    \n",
    "# for i in range(5):\n",
    "#     print(i)"
   ]
  },
  {
   "cell_type": "code",
   "execution_count": 30,
   "metadata": {},
   "outputs": [
    {
     "ename": "SyntaxError",
     "evalue": "invalid syntax (<ipython-input-30-37838ee9fa2d>, line 2)",
     "output_type": "error",
     "traceback": [
      "\u001b[0;36m  File \u001b[0;32m\"<ipython-input-30-37838ee9fa2d>\"\u001b[0;36m, line \u001b[0;32m2\u001b[0m\n\u001b[0;31m    if = 200\u001b[0m\n\u001b[0m       ^\u001b[0m\n\u001b[0;31mSyntaxError\u001b[0m\u001b[0;31m:\u001b[0m invalid syntax\n"
     ]
    }
   ],
   "source": [
    "# True = 100\n",
    "# if = 200\n",
    "a = 'if'"
   ]
  },
  {
   "cell_type": "code",
   "execution_count": 31,
   "metadata": {},
   "outputs": [
    {
     "name": "stdout",
     "output_type": "stream",
     "text": [
      "['In', 'MAX_NUM', 'Num1', 'Out', '_', '_20', '_21', '_22', '__', '___', '__builtin__', '__builtins__', '__doc__', '__loader__', '__name__', '__package__', '__spec__', '_dh', '_i', '_i1', '_i10', '_i11', '_i12', '_i13', '_i14', '_i15', '_i16', '_i17', '_i18', '_i19', '_i2', '_i20', '_i21', '_i22', '_i23', '_i24', '_i25', '_i26', '_i27', '_i28', '_i29', '_i3', '_i30', '_i31', '_i4', '_i5', '_i6', '_i7', '_i8', '_i9', '_ih', '_ii', '_iii', '_oh', 'a', 'b', 'c', 'exit', 'get_ipython', 'i', 'keyword', 'num', 'num1', 'quit']\n"
     ]
    }
   ],
   "source": [
    "# print(dir())"
   ]
  },
  {
   "cell_type": "code",
   "execution_count": 32,
   "metadata": {},
   "outputs": [
    {
     "name": "stdout",
     "output_type": "stream",
     "text": [
      "['ArithmeticError', 'AssertionError', 'AttributeError', 'BaseException', 'BlockingIOError', 'BrokenPipeError', 'BufferError', 'BytesWarning', 'ChildProcessError', 'ConnectionAbortedError', 'ConnectionError', 'ConnectionRefusedError', 'ConnectionResetError', 'DeprecationWarning', 'EOFError', 'Ellipsis', 'EnvironmentError', 'Exception', 'False', 'FileExistsError', 'FileNotFoundError', 'FloatingPointError', 'FutureWarning', 'GeneratorExit', 'IOError', 'ImportError', 'ImportWarning', 'IndentationError', 'IndexError', 'InterruptedError', 'IsADirectoryError', 'KeyError', 'KeyboardInterrupt', 'LookupError', 'MemoryError', 'ModuleNotFoundError', 'NameError', 'None', 'NotADirectoryError', 'NotImplemented', 'NotImplementedError', 'OSError', 'OverflowError', 'PendingDeprecationWarning', 'PermissionError', 'ProcessLookupError', 'RecursionError', 'ReferenceError', 'ResourceWarning', 'RuntimeError', 'RuntimeWarning', 'StopAsyncIteration', 'StopIteration', 'SyntaxError', 'SyntaxWarning', 'SystemError', 'SystemExit', 'TabError', 'TimeoutError', 'True', 'TypeError', 'UnboundLocalError', 'UnicodeDecodeError', 'UnicodeEncodeError', 'UnicodeError', 'UnicodeTranslateError', 'UnicodeWarning', 'UserWarning', 'ValueError', 'Warning', 'ZeroDivisionError', '__IPYTHON__', '__build_class__', '__debug__', '__doc__', '__import__', '__loader__', '__name__', '__package__', '__spec__', 'abs', 'all', 'any', 'ascii', 'bin', 'bool', 'breakpoint', 'bytearray', 'bytes', 'callable', 'chr', 'classmethod', 'compile', 'complex', 'copyright', 'credits', 'delattr', 'dict', 'dir', 'display', 'divmod', 'enumerate', 'eval', 'exec', 'filter', 'float', 'format', 'frozenset', 'get_ipython', 'getattr', 'globals', 'hasattr', 'hash', 'help', 'hex', 'id', 'input', 'int', 'isinstance', 'issubclass', 'iter', 'len', 'license', 'list', 'locals', 'map', 'max', 'memoryview', 'min', 'next', 'object', 'oct', 'open', 'ord', 'pow', 'print', 'property', 'range', 'repr', 'reversed', 'round', 'set', 'setattr', 'slice', 'sorted', 'staticmethod', 'str', 'sum', 'super', 'tuple', 'type', 'vars', 'zip']\n"
     ]
    }
   ],
   "source": [
    "# print(dir(__builtins__))"
   ]
  },
  {
   "cell_type": "code",
   "execution_count": 33,
   "metadata": {},
   "outputs": [
    {
     "name": "stdout",
     "output_type": "stream",
     "text": [
      "['__abs__', '__add__', '__and__', '__bool__', '__ceil__', '__class__', '__delattr__', '__dir__', '__divmod__', '__doc__', '__eq__', '__float__', '__floor__', '__floordiv__', '__format__', '__ge__', '__getattribute__', '__getnewargs__', '__gt__', '__hash__', '__index__', '__init__', '__init_subclass__', '__int__', '__invert__', '__le__', '__lshift__', '__lt__', '__mod__', '__mul__', '__ne__', '__neg__', '__new__', '__or__', '__pos__', '__pow__', '__radd__', '__rand__', '__rdivmod__', '__reduce__', '__reduce_ex__', '__repr__', '__rfloordiv__', '__rlshift__', '__rmod__', '__rmul__', '__ror__', '__round__', '__rpow__', '__rrshift__', '__rshift__', '__rsub__', '__rtruediv__', '__rxor__', '__setattr__', '__sizeof__', '__str__', '__sub__', '__subclasshook__', '__truediv__', '__trunc__', '__xor__', 'bit_length', 'conjugate', 'denominator', 'from_bytes', 'imag', 'numerator', 'real', 'to_bytes']\n"
     ]
    }
   ],
   "source": [
    "# print(dir(int))"
   ]
  },
  {
   "cell_type": "code",
   "execution_count": 34,
   "metadata": {},
   "outputs": [
    {
     "name": "stdout",
     "output_type": "stream",
     "text": [
      "__main__\n"
     ]
    }
   ],
   "source": [
    "# print(__name__)"
   ]
  },
  {
   "cell_type": "code",
   "execution_count": 35,
   "metadata": {},
   "outputs": [],
   "source": [
    "# __name__ = 1000\n"
   ]
  },
  {
   "cell_type": "code",
   "execution_count": 36,
   "metadata": {},
   "outputs": [
    {
     "name": "stdout",
     "output_type": "stream",
     "text": [
      "1000\n"
     ]
    }
   ],
   "source": [
    "# print(__name__)"
   ]
  },
  {
   "cell_type": "code",
   "execution_count": 37,
   "metadata": {},
   "outputs": [
    {
     "name": "stdout",
     "output_type": "stream",
     "text": [
      "30\n"
     ]
    }
   ],
   "source": [
    "# print(10+20)"
   ]
  },
  {
   "cell_type": "code",
   "execution_count": null,
   "metadata": {},
   "outputs": [],
   "source": [
    "# __add__"
   ]
  },
  {
   "cell_type": "code",
   "execution_count": 38,
   "metadata": {},
   "outputs": [
    {
     "name": "stdout",
     "output_type": "stream",
     "text": [
      "Enter First Number: 100\n",
      "Enter Second Number: 200\n",
      "300\n"
     ]
    }
   ],
   "source": [
    "# Comments - \n",
    "    # 1. If you do not want a code or block of code to be executed\n",
    "    # 2. To write the documentation\n",
    "\n",
    "    \n",
    "# a and b are two variable which takes integer input from the user    \n",
    "a = int(input('Enter First Number: '))    \n",
    "b = int(input('Enter Second Number: '))    \n",
    "# c variable stores the resule of addition of a and b\n",
    "c = a+b\n",
    "# printing the value in c\n",
    "print(c)\n"
   ]
  },
  {
   "cell_type": "code",
   "execution_count": 48,
   "metadata": {},
   "outputs": [
    {
     "name": "stdout",
     "output_type": "stream",
     "text": [
      "30\n"
     ]
    }
   ],
   "source": [
    "# Expressions and Statments\n",
    "# Expression - is combination of values, variables or function calls which are executable\n",
    "10\n",
    "10.20\n",
    "'Python'\n",
    "10+20\n",
    "a = 100\n",
    "a+10\n",
    "\n",
    "import math\n",
    "math.sqrt(4)+100\n",
    "\n",
    "\n",
    "# Statmenets\n",
    "# combination of variables and expression with some operation\n",
    "a = 10+20    # ssignment operation\n",
    "\n",
    "#Loop operation\n",
    "# for i in range(10):\n",
    "#     print(i)\n",
    "    \n",
    "# Condition operation\n",
    "if a == 100:\n",
    "    print(a)\n",
    "print(a)\n",
    "\n",
    "import math"
   ]
  },
  {
   "cell_type": "code",
   "execution_count": 50,
   "metadata": {},
   "outputs": [
    {
     "name": "stdout",
     "output_type": "stream",
     "text": [
      "Enter First Number: 3\n",
      "Enter Second Number: 10\n",
      "7\n",
      "3.3333333333333335\n",
      "13\n",
      "30\n"
     ]
    }
   ],
   "source": [
    "# Suites or blocks and Indentation - if, for, with, def,class, while\n",
    "\n",
    "a = int(input('Enter First Number: '))    \n",
    "b = int(input('Enter Second Number: ')) \n",
    "if a>b:\n",
    "    print(a-b)\n",
    "    print(a/b)\n",
    "if a<b:\n",
    "    print(b-a)\n",
    "    print(b/a)\n",
    "print(a+b)\n",
    "print(a*b)\n"
   ]
  },
  {
   "cell_type": "code",
   "execution_count": 51,
   "metadata": {},
   "outputs": [
    {
     "name": "stdout",
     "output_type": "stream",
     "text": [
      "0\n",
      "0\n",
      "2\n",
      "1\n",
      "2\n",
      "3\n",
      "2\n",
      "4\n",
      "4\n",
      "3\n",
      "6\n",
      "5\n",
      "4\n",
      "8\n",
      "6\n",
      "5\n",
      "10\n",
      "7\n",
      "6\n",
      "12\n",
      "8\n",
      "7\n",
      "14\n",
      "9\n",
      "8\n",
      "16\n",
      "10\n",
      "9\n",
      "18\n",
      "11\n"
     ]
    }
   ],
   "source": [
    "for i in range(10):\n",
    "    print(i)\n",
    "    print(i*2)\n",
    "    print(i+2)"
   ]
  },
  {
   "cell_type": "code",
   "execution_count": null,
   "metadata": {},
   "outputs": [],
   "source": []
  },
  {
   "cell_type": "code",
   "execution_count": null,
   "metadata": {},
   "outputs": [],
   "source": []
  },
  {
   "cell_type": "code",
   "execution_count": null,
   "metadata": {},
   "outputs": [],
   "source": []
  },
  {
   "cell_type": "code",
   "execution_count": null,
   "metadata": {},
   "outputs": [],
   "source": []
  },
  {
   "cell_type": "code",
   "execution_count": null,
   "metadata": {},
   "outputs": [],
   "source": []
  },
  {
   "cell_type": "code",
   "execution_count": null,
   "metadata": {},
   "outputs": [],
   "source": []
  },
  {
   "cell_type": "code",
   "execution_count": null,
   "metadata": {},
   "outputs": [],
   "source": []
  },
  {
   "cell_type": "code",
   "execution_count": null,
   "metadata": {},
   "outputs": [],
   "source": []
  },
  {
   "cell_type": "code",
   "execution_count": null,
   "metadata": {},
   "outputs": [],
   "source": []
  },
  {
   "cell_type": "code",
   "execution_count": null,
   "metadata": {},
   "outputs": [],
   "source": []
  }
 ],
 "metadata": {
  "kernelspec": {
   "display_name": "Python 3",
   "language": "python",
   "name": "python3"
  },
  "language_info": {
   "codemirror_mode": {
    "name": "ipython",
    "version": 3
   },
   "file_extension": ".py",
   "mimetype": "text/x-python",
   "name": "python",
   "nbconvert_exporter": "python",
   "pygments_lexer": "ipython3",
   "version": "3.7.6"
  }
 },
 "nbformat": 4,
 "nbformat_minor": 2
}
