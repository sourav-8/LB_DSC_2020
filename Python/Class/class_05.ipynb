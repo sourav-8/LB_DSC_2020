{
 "cells": [
  {
   "cell_type": "code",
   "execution_count": null,
   "metadata": {},
   "outputs": [],
   "source": [
    "# if - else - elif and loop\n",
    "n, n^2, logn\n",
    "for i in range: -> n\n",
    "for j in range() --> n^2\n",
    "for k in range --> n#"
   ]
  },
  {
   "cell_type": "code",
   "execution_count": 3,
   "metadata": {},
   "outputs": [
    {
     "data": {
      "text/plain": [
       "20"
      ]
     },
     "execution_count": 3,
     "metadata": {},
     "output_type": "execute_result"
    }
   ],
   "source": [
    "# and logical operator\n",
    "True and False\n",
    "\n",
    "(10==10) and (10<20)\n",
    "\n",
    "# A abd B -> return A if a is False else B\n",
    "10 and 20"
   ]
  },
  {
   "cell_type": "code",
   "execution_count": 18,
   "metadata": {},
   "outputs": [
    {
     "name": "stdout",
     "output_type": "stream",
     "text": [
      "False\n"
     ]
    }
   ],
   "source": [
    "# &\n",
    "10 & 20\n",
    "# 01010\n",
    "# 10100\n",
    "# ------\n",
    "# 00000\n",
    "\n",
    "# Assignment operator --> =\n",
    "a = 10\n",
    "name = 'ABHI'\n",
    "\n",
    "# equality - ==, !=\n",
    "a = 10\n",
    "b = 20\n",
    "print(a==b)"
   ]
  },
  {
   "cell_type": "code",
   "execution_count": 23,
   "metadata": {},
   "outputs": [
    {
     "name": "stdout",
     "output_type": "stream",
     "text": [
      "Zero\n",
      "0.0018451213836669922\n",
      "Zero\n",
      "NUMBER IS NOT IN RANGE 0-9\n",
      "0.00019693374633789062\n"
     ]
    }
   ],
   "source": [
    "\n",
    "# if - else - elif\n",
    "# 0-3 - 0 - ZERO, 1 - ONE\n",
    "\n",
    "import time\n",
    "def num_word():\n",
    "    num = 1\n",
    "    if num == 0:\n",
    "        print('Zero')\n",
    "    elif num == 1:\n",
    "        print('ONE')\n",
    "    elif num == 2:\n",
    "        print('TWO')\n",
    "    elif num == 3:\n",
    "        print('THREE')\n",
    "    elif num == 4:\n",
    "        print(\"FOUR\")\n",
    "    elif num ==5:\n",
    "        print(\"FIVE\")\n",
    "    elif num == 6:\n",
    "        print(\"SIX\")\n",
    "    elif num == 7:\n",
    "        print(\"SEVEN\")\n",
    "    elif num == 8:\n",
    "        print(\"EIGHT\")\n",
    "    elif num == 9:\n",
    "        print(\"NINE\")\n",
    "    else:\n",
    "        print(\"NUMBER IS NOT IN RANGE 0-9\")\n",
    "st_time = time.time()\n",
    "num_word()\n",
    "e_time = time.time()\n",
    "print(e_time-st_time)        \n",
    "        \n",
    "def num_word1():\n",
    "    num = 0\n",
    "    if num ==0:\n",
    "        print('Zero')\n",
    "    if num == 1:\n",
    "        print('ONE')\n",
    "    if num == 2:\n",
    "        print('TWO')\n",
    "    if num == 3:\n",
    "        print('THREE')\n",
    "    if num == 4:\n",
    "        print(\"FOUR\")\n",
    "    if num ==5:\n",
    "        print(\"FIVE\")\n",
    "    if num == 6:\n",
    "        print(\"SIX\")\n",
    "    if num == 7:\n",
    "        print(\"SEVEN\")\n",
    "    if num == 8:\n",
    "        print(\"EIGHT\")\n",
    "    if num == 9:\n",
    "        print(\"NINE\")\n",
    "    else:\n",
    "        print(\"NUMBER IS NOT IN RANGE 0-9\")\n",
    "st_time = time.time()\n",
    "num_word1()\n",
    "e_time = time.time()\n",
    "print(e_time-st_time)"
   ]
  },
  {
   "cell_type": "code",
   "execution_count": 2,
   "metadata": {},
   "outputs": [
    {
     "name": "stdout",
     "output_type": "stream",
     "text": [
      "Enter First Number:  5\n",
      "Enter second number: 8\n",
      "Enter the operation: \n",
      "\t\t 1. Add\n",
      "\t\t 2. Sub\n",
      "\t\t 3. Mul\n",
      "\t\t 4. Float_div\n",
      "\t\t 5. Floor Div3\n",
      "40\n"
     ]
    }
   ],
   "source": [
    "# write a program for calculator:-\n",
    "#     two numbers from user and also take the operation from the user as input\n",
    "        # 1. Add\n",
    "        # 2. Sub\n",
    "        # 3. mul\n",
    "        \n",
    "num1 = int(input('Enter First Number:  '))\n",
    "num2 = int(input('Enter second number: '))\n",
    "op = int(input('''Enter the operation: \n",
    "\\t\\t 1. Add\n",
    "\\t\\t 2. Sub\n",
    "\\t\\t 3. Mul\n",
    "\\t\\t 4. Float_div\n",
    "\\t\\t 5. Floor Div'''))\n",
    "if op == 1:\n",
    "    print(num1+num2)\n",
    "elif op == 2:\n",
    "    if num1>num2:\n",
    "        print('subtracting num2 from num1',num1-num2)\n",
    "    else:\n",
    "        print('subtracting num1 from num2', num2-num1)\n",
    "elif op == 3:\n",
    "    print(num1*num2)\n",
    "elif op == 4:\n",
    "    if num1>num2:\n",
    "        print(num1/num2)\n",
    "    else:\n",
    "        print(num2/num1)\n",
    "elif op == 5:\n",
    "    if num1>num2:\n",
    "        print(num1//num2)\n",
    "    else:\n",
    "        print(num2//num1)\n",
    "else:\n",
    "    print('Operation is not defined')"
   ]
  },
  {
   "cell_type": "code",
   "execution_count": 36,
   "metadata": {},
   "outputs": [
    {
     "name": "stdout",
     "output_type": "stream",
     "text": [
      "Enter First Number:  100\n",
      "Enter second number: 100\n",
      "Enter third number: 100\n",
      "100\n"
     ]
    }
   ],
   "source": [
    "# Find the largest of three numbers a,b,c and these numbers will be taken from user\n",
    "\n",
    "num1 = int(input('Enter First Number:  '))\n",
    "num2 = int(input('Enter second number: '))\n",
    "num3 = int(input('Enter third number: '))\n",
    "#if num1 == num2 == num3:\n",
    "\n",
    "# elif num1>num2 and num1>num3:\n",
    "#     print('largest num is: 1 ', num1)\n",
    "# elif num2>num3:\n",
    "#     print('largest num is: 2 ', num2)\n",
    "# elif:\n",
    "#     print('largest num is: 3 ', num3)\n",
    "\n",
    "# Ternary operator\n",
    "# syntax -> expression if cond1 else expr\n",
    "# expression if cond1 else expr2 if cond2 else expr\n",
    "\n",
    "res = num1 if num1>num2 and num1>num3 else num2 if num2>num3 else num3\n",
    "print(res)"
   ]
  },
  {
   "cell_type": "code",
   "execution_count": 44,
   "metadata": {},
   "outputs": [
    {
     "name": "stdout",
     "output_type": "stream",
     "text": [
      "Enter an year: 1999\n",
      "Not a leap year\n"
     ]
    }
   ],
   "source": [
    "# Find a year whether it is a leap year or not\n",
    "# if year is divisble by 4 then whether it is divisible by 100, the whether it is divisible by 400 -> Leap\n",
    "# if year is divisble by 4 then whether it is divisible by 100 but no divisible by 400 -> not leap year\n",
    "# if year is divisble by 4 not divisible by 100  -> leap year\n",
    "# if year is not divisible by 4 -> not leap year\n",
    "\n",
    "# leap year--> 1600, 2000, 2004, 1968\n",
    "# Npt leap year--> 1800, 1700, 1900, 1999\n",
    "\n",
    "year = int(input('Enter an year: '))\n",
    "if year%4 == 0:\n",
    "    if year % 100 == 0:\n",
    "        if year % 400 == 0:\n",
    "            print('Leap Year')\n",
    "        else:\n",
    "            print('Year is not leap year')\n",
    "    else:\n",
    "        print('Leap Year')\n",
    "else:\n",
    "    print('Not a leap year')\n"
   ]
  },
  {
   "cell_type": "code",
   "execution_count": null,
   "metadata": {},
   "outputs": [],
   "source": []
  },
  {
   "cell_type": "code",
   "execution_count": 38,
   "metadata": {},
   "outputs": [
    {
     "name": "stdout",
     "output_type": "stream",
     "text": [
      "3.3333333333333335\n",
      "3\n"
     ]
    }
   ],
   "source": [
    "# float div - / -> True division\n",
    "# floor div - // -> quotinet or floor value\n",
    "\n",
    "# 3.9 -> 3, 4\n",
    "\n",
    "# print(10/3)\n",
    "# print(10//3)"
   ]
  },
  {
   "cell_type": "code",
   "execution_count": 55,
   "metadata": {},
   "outputs": [
    {
     "name": "stdout",
     "output_type": "stream",
     "text": [
      "0\n",
      "P\n",
      "\n",
      "1\n",
      "y\n",
      "\n",
      "2\n",
      "t\n",
      "\n",
      "3\n",
      "h\n",
      "\n",
      "4\n",
      "o\n",
      "\n",
      "5\n",
      "n\n",
      "\n",
      "6\n"
     ]
    },
    {
     "ename": "IndexError",
     "evalue": "string index out of range",
     "output_type": "error",
     "traceback": [
      "\u001b[0;31m---------------------------------------------------------------------------\u001b[0m",
      "\u001b[0;31mIndexError\u001b[0m                                Traceback (most recent call last)",
      "\u001b[0;32m<ipython-input-55-03110c1994ca>\u001b[0m in \u001b[0;36m<module>\u001b[0;34m\u001b[0m\n\u001b[1;32m     36\u001b[0m \u001b[0;32mwhile\u001b[0m \u001b[0mind\u001b[0m \u001b[0;34m<=\u001b[0m \u001b[0mlen\u001b[0m\u001b[0;34m(\u001b[0m\u001b[0ms\u001b[0m\u001b[0;34m)\u001b[0m\u001b[0;34m:\u001b[0m\u001b[0;34m\u001b[0m\u001b[0;34m\u001b[0m\u001b[0m\n\u001b[1;32m     37\u001b[0m     \u001b[0mprint\u001b[0m\u001b[0;34m(\u001b[0m\u001b[0mind\u001b[0m\u001b[0;34m)\u001b[0m\u001b[0;34m\u001b[0m\u001b[0;34m\u001b[0m\u001b[0m\n\u001b[0;32m---> 38\u001b[0;31m     \u001b[0mprint\u001b[0m\u001b[0;34m(\u001b[0m\u001b[0ms\u001b[0m\u001b[0;34m[\u001b[0m\u001b[0mind\u001b[0m\u001b[0;34m]\u001b[0m\u001b[0;34m)\u001b[0m\u001b[0;34m\u001b[0m\u001b[0;34m\u001b[0m\u001b[0m\n\u001b[0m\u001b[1;32m     39\u001b[0m     \u001b[0mprint\u001b[0m\u001b[0;34m(\u001b[0m\u001b[0;34m)\u001b[0m\u001b[0;34m\u001b[0m\u001b[0;34m\u001b[0m\u001b[0m\n\u001b[1;32m     40\u001b[0m     \u001b[0mind\u001b[0m \u001b[0;34m+=\u001b[0m \u001b[0;36m1\u001b[0m\u001b[0;34m\u001b[0m\u001b[0;34m\u001b[0m\u001b[0m\n",
      "\u001b[0;31mIndexError\u001b[0m: string index out of range"
     ]
    }
   ],
   "source": [
    "# Loop - for - if no of iterations areknown to you in advance,  \n",
    "# while - when you do not know the number of iteration and want to execute the code till one condition is False\n",
    "\n",
    "# for var in seq:\n",
    "#     code\n",
    "#     code\n",
    "#     code\n",
    "\n",
    "s = 'Python'\n",
    "# for i in range(0, len(s)):\n",
    "#     print(i, s[i])\n",
    "# print('Execution completed')\n",
    "\n",
    "\n",
    "# for i in s:\n",
    "#     print(i, end = '\\t')\n",
    "# print('Execution completed')\n",
    "\n",
    "\n",
    "# for j in [10,20,30, 'Python', [10,20,30]]:\n",
    "#     print(j)\n",
    "\n",
    "# d = {1:100, 2:200, 3:300, 4:400}\n",
    "# for k in {1:100, 2:200, 3:300, 4:400}:\n",
    "#     print(k, d[k])\n",
    "\n",
    "\n",
    "# syntax while expression(True/False):\n",
    "#             code\n",
    "#             code\n",
    "#             code\n",
    "#.            increment/decrement\n",
    "\n",
    "s = 'Python'\n",
    "ind = 0\n",
    "while ind <= len(s):\n",
    "    print(ind)\n",
    "    print(s[ind])\n",
    "    print()\n",
    "    ind += 1\n",
    "print('Execution completed')"
   ]
  },
  {
   "cell_type": "code",
   "execution_count": 56,
   "metadata": {},
   "outputs": [
    {
     "name": "stdout",
     "output_type": "stream",
     "text": [
      "0\n",
      "1\n",
      "2\n",
      "3\n",
      "4\n",
      "5\n",
      "coming out of loop\n"
     ]
    }
   ],
   "source": [
    "# Loop control -> break -> come out of the loop, continue - skip the current iteration\n",
    "\n",
    "lst = list(range(10))\n",
    "for i in lst:\n",
    "    if i == 6:\n",
    "        print('coming out of loop')\n",
    "        break\n",
    "    else:\n",
    "        print(i)\n",
    "\n",
    "\n"
   ]
  },
  {
   "cell_type": "code",
   "execution_count": 57,
   "metadata": {},
   "outputs": [
    {
     "name": "stdout",
     "output_type": "stream",
     "text": [
      "0\n",
      "1\n",
      "2\n",
      "3\n",
      "4\n",
      "5\n",
      "skipping the current iteration\n",
      "7\n",
      "8\n",
      "9\n"
     ]
    }
   ],
   "source": [
    "lst = list(range(10))\n",
    "for i in lst:\n",
    "    if i == 6:\n",
    "        print('skipping the current iteration')\n",
    "        continue\n",
    "        \n",
    "    else:\n",
    "        print(i)"
   ]
  },
  {
   "cell_type": "code",
   "execution_count": 58,
   "metadata": {},
   "outputs": [
    {
     "name": "stdout",
     "output_type": "stream",
     "text": [
      "1\n",
      "1\n",
      "100\n",
      "10\n"
     ]
    }
   ],
   "source": [
    "#Q. Use break statement properly. The code is:\n",
    "x = [1, 2]\n",
    "y = [10, 100]\n",
    "for i in x: \n",
    "    for j in y: \n",
    "        if i % 2 == 0: \n",
    "            break\n",
    "            print(i * j)\n",
    "        print(i)\n",
    "    print(j)\n",
    "    \n",
    "#Output is\n",
    "# 1\n",
    "# 1\n",
    "# 100\n",
    "# 10\n",
    "    \n",
    "    \n",
    "\n",
    "# Output is:-\n",
    "# 1\n",
    "# 10\n",
    "# 20\n",
    "# 2\n",
    "# 10\n",
    "\n",
    "\n",
    "\n"
   ]
  },
  {
   "cell_type": "code",
   "execution_count": 59,
   "metadata": {},
   "outputs": [
    {
     "name": "stdout",
     "output_type": "stream",
     "text": [
      "1\n",
      "1\n",
      "100\n",
      "20\n",
      "200\n",
      "100\n"
     ]
    }
   ],
   "source": [
    "# Q. Use continue statememnt properly. The code is:-\n",
    "x = [1, 2]\n",
    "y = [10, 100]\n",
    "\n",
    "for i in x:\n",
    "    for j in y:\n",
    "        if i % 2 == 0:\n",
    "            print(i * j)\n",
    "            continue\n",
    "        print(i)\n",
    "    print(j)\n",
    "\n",
    "# Output is:-\n",
    "# 1\n",
    "# 1\n",
    "# 100\n",
    "# 20\n",
    "# 200\n",
    "# 100"
   ]
  }
 ],
 "metadata": {
  "kernelspec": {
   "display_name": "Python 3",
   "language": "python",
   "name": "python3"
  },
  "language_info": {
   "codemirror_mode": {
    "name": "ipython",
    "version": 3
   },
   "file_extension": ".py",
   "mimetype": "text/x-python",
   "name": "python",
   "nbconvert_exporter": "python",
   "pygments_lexer": "ipython3",
   "version": "3.7.6"
  }
 },
 "nbformat": 4,
 "nbformat_minor": 2
}
