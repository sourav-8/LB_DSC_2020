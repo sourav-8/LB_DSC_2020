{
 "cells": [
  {
   "cell_type": "code",
   "execution_count": null,
   "metadata": {},
   "outputs": [],
   "source": [
    "# List, Tuple, Dictionary"
   ]
  },
  {
   "cell_type": "code",
   "execution_count": 3,
   "metadata": {},
   "outputs": [
    {
     "name": "stdout",
     "output_type": "stream",
     "text": [
      "Rwvfql\n"
     ]
    },
    {
     "ename": "AttributeError",
     "evalue": "'str' object has no attribute 'just'",
     "output_type": "error",
     "traceback": [
      "\u001b[0;31m---------------------------------------------------------------------------\u001b[0m",
      "\u001b[0;31mAttributeError\u001b[0m                            Traceback (most recent call last)",
      "\u001b[0;32m<ipython-input-3-24d03f9423a4>\u001b[0m in \u001b[0;36m<module>\u001b[0;34m\u001b[0m\n\u001b[1;32m     18\u001b[0m \u001b[0;34m\u001b[0m\u001b[0m\n\u001b[1;32m     19\u001b[0m \u001b[0ms\u001b[0m \u001b[0;34m=\u001b[0m \u001b[0;34m'Python'\u001b[0m\u001b[0;34m\u001b[0m\u001b[0;34m\u001b[0m\u001b[0m\n\u001b[0;32m---> 20\u001b[0;31m \u001b[0ms\u001b[0m\u001b[0;34m.\u001b[0m\u001b[0mjust\u001b[0m\u001b[0;34m(\u001b[0m\u001b[0;34m)\u001b[0m\u001b[0;34m\u001b[0m\u001b[0;34m\u001b[0m\u001b[0m\n\u001b[0m",
      "\u001b[0;31mAttributeError\u001b[0m: 'str' object has no attribute 'just'"
     ]
    }
   ],
   "source": [
    "# Using loop\n",
    "#     2. #Input:- 'Python'\n",
    "       #Output:- 'Rwvfql'\n",
    "        \n",
    "s = 'Python'\n",
    "out_str = ''\n",
    "for i in range(len(s)):\n",
    "    if i % 2 == 0:\n",
    "        out_str += chr(ord(s[i])+2)\n",
    "    else:\n",
    "        out_str += chr(ord(s[i])-2)\n",
    "print(out_str)\n",
    "        \n",
    "# Using string methods\n",
    "#Input:- 'Peter Piper Picked A Peck Of Pickled Peppers.', sub_str = 'Peck', \n",
    "#Output:- '*********************Peck********************'\n",
    "\n",
    "\n",
    "s = 'Python'\n",
    "s.just()"
   ]
  },
  {
   "cell_type": "code",
   "execution_count": 10,
   "metadata": {},
   "outputs": [
    {
     "data": {
      "text/plain": [
       "'****Python****'"
      ]
     },
     "execution_count": 10,
     "metadata": {},
     "output_type": "execute_result"
    }
   ],
   "source": [
    "s = 'Python'\n",
    "s1 = s.rjust(10, '*')\n",
    "s1.ljust(14, '*')\n",
    "\n",
    "\n"
   ]
  },
  {
   "cell_type": "code",
   "execution_count": 24,
   "metadata": {},
   "outputs": [
    {
     "name": "stdout",
     "output_type": "stream",
     "text": [
      "['Peter', 'Piper', 'Picked', 'A', 'Peck', 'Of', 'Pickled', 'Peppers.']\n"
     ]
    }
   ],
   "source": [
    "# List - is a seq, an ordered collection of elements, indexing, slicing, concatenation, repetition, membership\n",
    "# anything kept inside square bracket form a list, elements should be separated by comma\n",
    "# can take any data type as it's element, allows duplicate elements\n",
    "\n",
    "# lst = [10,10.20,10+20j,'Python',True, None, True,[10,20,30], (1,2,3), {100,200,300}, {1:100, 2:200,3:300}]\n",
    "# print(lst, type(lst))\n",
    "\n",
    "\n",
    "# # Creating a list\n",
    "# lst = [10,10.20,10+20j,'Python',True, None, True,[10,20,30], (1,2,3), {100,200,300}, {1:100, 2:200,3:300}]\n",
    "# print(lst)\n",
    "\n",
    "# taking list input from user\n",
    "# num1 = int(input('Enter a number: '))\n",
    "# print(num1, type(num1))\n",
    "\n",
    "# lst = list(input('Enter a list: '))\n",
    "# print(lst, type(lst))\n",
    "\n",
    "# lst1 = eval(input('Enter a list: '))\n",
    "# print(lst1, type(lst1))\n",
    "\n",
    "# list function worls\n",
    "# print(list('Python'))\n",
    "\n",
    "# using split function\n",
    "s = 'Peter Piper Picked A Peck Of Pickled Peppers.'\n",
    "print(s.split())"
   ]
  },
  {
   "cell_type": "code",
   "execution_count": 31,
   "metadata": {},
   "outputs": [
    {
     "name": "stdout",
     "output_type": "stream",
     "text": [
      "[100, None, True]\n",
      "[10, 10.2, (10+20j), 'Python', True, None, True, [10, 20, 30], (1, 2, 3), {200, 100, 300}, {1: 100, 2: 200, 3: 300}]\n"
     ]
    }
   ],
   "source": [
    "lst = [10,10.20,10+20j,'Python',True, None, True,[10,20,30], (1,2,3), {100,200,300}, {1:100, 2:200,3:300}]\n",
    "\n",
    "# List follows the memory policy similar to string - wholelist is referenced by lst and then. individual elelemnts are stored separately\n",
    "# Positive and negative indexing both similar to string\n",
    "# List is mutable\n",
    "# print(lst[7][1])\n",
    "# print(lst[-1][2])\n",
    "\n",
    "# # slicing   - shallow copy\n",
    "# print(lst[4:7])\n",
    "# sub_lst = lst[4:7]\n",
    "# sub_lst[0] = 100\n",
    "# print(sub_lst)\n",
    "# print(lst)\n",
    "\n",
    "\n",
    "\n",
    "\n",
    "\n"
   ]
  },
  {
   "cell_type": "code",
   "execution_count": 41,
   "metadata": {},
   "outputs": [
    {
     "name": "stdout",
     "output_type": "stream",
     "text": [
      "[10, 20, 30, [1, 2, 3]] [10, 20, 30, [100, 2, 3]]\n"
     ]
    }
   ],
   "source": [
    "# shallow copy\n",
    "lst = [10,20,30]\n",
    "# lst1 = lst            # Aliasing - giving another name to an exiting object\n",
    "# lst1[0] = 'A'\n",
    "# print(lst, lst1)\n",
    "# print(lst is lst1)\n",
    "\n",
    "# Shallow copy\n",
    "lst2 = lst[::]\n",
    "# print(lst2, lst)\n",
    "# print(lst2 is lst)\n",
    "# print(id(lst), id(lst2))\n",
    "# lst[0] = 'A'\n",
    "# print(lst, lst2)\n",
    "\n",
    "\n",
    "lst3 = [10,20,30,[1,2,3]]\n",
    "# lst4 = lst3[::]\n",
    "# # print(lst3 is lst4)\n",
    "# lst4[-1][0] = 100\n",
    "# print(lst3, lst4)\n",
    "\n",
    "# deepcopy\n",
    "from copy import deepcopy\n",
    "lst5 = deepcopy(lst3)\n",
    "lst5[-1][0] = 100\n",
    "print(lst3, lst5)\n",
    "\n",
    "\n"
   ]
  },
  {
   "cell_type": "code",
   "execution_count": 42,
   "metadata": {},
   "outputs": [
    {
     "name": "stdout",
     "output_type": "stream",
     "text": [
      "['__add__', '__class__', '__contains__', '__delattr__', '__delitem__', '__dir__', '__doc__', '__eq__', '__format__', '__ge__', '__getattribute__', '__getitem__', '__gt__', '__hash__', '__iadd__', '__imul__', '__init__', '__init_subclass__', '__iter__', '__le__', '__len__', '__lt__', '__mul__', '__ne__', '__new__', '__reduce__', '__reduce_ex__', '__repr__', '__reversed__', '__rmul__', '__setattr__', '__setitem__', '__sizeof__', '__str__', '__subclasshook__', 'append', 'clear', 'copy', 'count', 'extend', 'index', 'insert', 'pop', 'remove', 'reverse', 'sort']\n"
     ]
    }
   ],
   "source": [
    "# Methods in list\n",
    "print(dir(list))\n",
    "#  'reverse', 'sort'"
   ]
  },
  {
   "cell_type": "code",
   "execution_count": 52,
   "metadata": {},
   "outputs": [
    {
     "name": "stdout",
     "output_type": "stream",
     "text": [
      "[10, 10.2, (10+20j), 'Python', True, None, True, [10, 20, 30], (1, 2, 3), {200, 100, 300}, {1: 100, 2: 200, 3: 300}, 100, 1000, 10000, 100000]\n",
      "[10, 10.2, (10+20j), 'Python', True, None, True, [10, 20, 30], (1, 2, 3), {200, 100, 300}, {1: 100, 2: 200, 3: 300}]\n"
     ]
    }
   ],
   "source": [
    "# Methods to insert an element insidea list\n",
    "lst = [10,10.20,10+20j,'Python',True, None, True,[10,20,30], (1,2,3), {100,200,300}, {1:100, 2:200,3:300}]\n",
    "\n",
    "# Append method always adds the element at the end of the list - returns None\n",
    "# print(lst.append(range(10)))\n",
    "# print(lst)\n",
    "\n",
    "#  'insert', - adds the element at the specified index - returns None\n",
    "# print(lst.insert(5, [100,200,300]))\n",
    "# print(lst)\n",
    "\n",
    "# extend - it extends one list into another - returns None\n",
    "lst1 = [100,1000,10000,100000]\n",
    "# Extensing lst1 into lst\n",
    "# print(lst.extend(lst1))\n",
    "# print(lst)\n",
    "\n",
    "\n",
    "# lst.append([1,2,3])\n",
    "# print(lst)\n",
    "\n",
    "# print(lst+lst1)\n",
    "# print(lst)\n",
    "\n"
   ]
  },
  {
   "cell_type": "code",
   "execution_count": 76,
   "metadata": {},
   "outputs": [],
   "source": [
    "# Removing an element from a list\n",
    "lst = [10,10.20,10+20j,'Python',True, None, True,[10,20,30], (1,2,3), {100,200,300}, {1:100, 2:200,3:300}]\n",
    "# Removing an element by value - remove - returns None\n",
    "# print(lst.remove('Python'))\n",
    "# print(lst)\n",
    "# lst.remove(lst[5:7]) - does not work\n",
    "\n",
    "# removing an element using index - pop -> which returns some value - returns the removed element\n",
    "# pop(), pop(index)\n",
    "# print(lst.pop())\n",
    "# print(lst.pop(7))\n",
    "# print(lst.pop(lst[5:7])) - does not work\n",
    "\n",
    "\n",
    "# lst1 = lst[5:7]\n",
    "# for i in lst1:\n",
    "#     lst.remove(i)\n",
    "# print(lst)"
   ]
  },
  {
   "cell_type": "code",
   "execution_count": 61,
   "metadata": {},
   "outputs": [
    {
     "name": "stdout",
     "output_type": "stream",
     "text": [
      "False\n"
     ]
    }
   ],
   "source": [
    "# copy method is used to create shallow copy\n",
    "# lst1 = lst.copy()\n",
    "# print(lst is lst1)"
   ]
  },
  {
   "cell_type": "code",
   "execution_count": 3,
   "metadata": {},
   "outputs": [
    {
     "name": "stdout",
     "output_type": "stream",
     "text": [
      "5\n"
     ]
    }
   ],
   "source": [
    "# 'clear',  'count', 'index', \n",
    "lst = [10,1,100,1,200,20,1,300,3,4,1,200,9,20,1]\n",
    "print(lst.count(1))\n",
    "# # print(lst.index(200, 5,9))\n",
    "\n",
    "# # clear method is used to delete the element from the list and it leave the empty list behind, returns none\n",
    "# print(lst.clear())\n",
    "# print(lst)\n",
    "\n",
    "\n"
   ]
  },
  {
   "cell_type": "code",
   "execution_count": 89,
   "metadata": {},
   "outputs": [],
   "source": [
    "#   'reverse', 'sort'\n",
    "# reverse - reverses a list and returns None\n",
    "# print(lst)\n",
    "lst = [10,10.20,10+20j,'Python',True, None, True,[10,20,30], (1,2,3), {100,200,300}, {1:100, 2:200,3:300}]\n",
    "# lst.reverse()\n",
    "# print(lst)\n",
    "\n",
    "# sorting - ascending(default) - low to high - sort(), descending - high to low - sort(reverse= True) - internally applies comparison method\n",
    "# lst1 = [100,1,10,1000, 20,200,2000,30,3,39]\n",
    "# # print(lst1.sort())\n",
    "# # print(lst1)\n",
    "\n",
    "\n",
    "# lst1.sort(reverse = True)\n",
    "# print(lst1)\n",
    "\n",
    "# sorting a list with differet data type\n",
    "# lst.sort()"
   ]
  },
  {
   "cell_type": "code",
   "execution_count": 92,
   "metadata": {},
   "outputs": [
    {
     "name": "stdout",
     "output_type": "stream",
     "text": [
      "[{1: 100, 2: 200, 3: 300}, {200, 100, 300}, (1, 2, 3), [10, 20, 30], True, None, True, 'Python', (10+20j), 10.2, 10]\n",
      "range(0, 10)\n"
     ]
    }
   ],
   "source": [
    "# reversed(), sorted() - function available in \"builtins\" class\n",
    "# print(dir(__builtins__))\n",
    "\n",
    "print(list(reversed(lst)))\n",
    "\n",
    "print(range(10))"
   ]
  },
  {
   "cell_type": "code",
   "execution_count": 4,
   "metadata": {},
   "outputs": [
    {
     "name": "stdout",
     "output_type": "stream",
     "text": [
      "1\n",
      "2\n",
      "4\n",
      "7\n",
      "10\n",
      "[10, 100, 200, 20, 300, 3, 4, 200, 9, 20]\n"
     ]
    }
   ],
   "source": [
    "lst = [10,1,100,1,200,20,1,300,3,4,1,200,9,20,1]\n",
    "# s = list(set(lst))\n",
    "# print(s)\n",
    "ind = -1\n",
    "while True:\n",
    "    try:\n",
    "        ind = lst.index(1,ind+1)\n",
    "        print(ind)\n",
    "        lst.remove(lst[ind])\n",
    "        \n",
    "    except ValueError:\n",
    "        break\n",
    "print(lst)\n",
    "    \n"
   ]
  },
  {
   "cell_type": "code",
   "execution_count": 6,
   "metadata": {},
   "outputs": [
    {
     "name": "stdout",
     "output_type": "stream",
     "text": [
      "[2, 3, 5, 6]\n"
     ]
    }
   ],
   "source": [
    "# List comprehension - simplest way to creae a list  - [expr for var in seq if cond]\n",
    "# lst = []\n",
    "# for i in range(21):\n",
    "#     if i%2 == 0:\n",
    "#         lst.append(i)\n",
    "#     else:\n",
    "#         continue\n",
    "# print(lst)\n",
    "\n",
    "#print([i for i in range(21) if i%2 == 0])\n",
    "\n",
    "# [[0,0,0,0],[0,1,2,3],[0,2,4,6],[0,3,6,9]]\n",
    "\n",
    "item_list = [1, 2, 1, 3, 5, 6]\n",
    "item_list = [e for e in item_list if e != 1]\n",
    "print(item_list)"
   ]
  },
  {
   "cell_type": "code",
   "execution_count": null,
   "metadata": {},
   "outputs": [],
   "source": []
  }
 ],
 "metadata": {
  "kernelspec": {
   "display_name": "Python 3",
   "language": "python",
   "name": "python3"
  },
  "language_info": {
   "codemirror_mode": {
    "name": "ipython",
    "version": 3
   },
   "file_extension": ".py",
   "mimetype": "text/x-python",
   "name": "python",
   "nbconvert_exporter": "python",
   "pygments_lexer": "ipython3",
   "version": "3.7.6"
  }
 },
 "nbformat": 4,
 "nbformat_minor": 2
}
