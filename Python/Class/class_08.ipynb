{
 "cells": [
  {
   "cell_type": "code",
   "execution_count": 10,
   "metadata": {},
   "outputs": [
    {
     "name": "stdout",
     "output_type": "stream",
     "text": [
      "(10, 20, 30) <class 'tuple'>\n",
      "(10, 20, 30) <class 'tuple'>\n",
      "(10,) <class 'tuple'>\n",
      "10 <class 'int'>\n",
      "('P', 'y', 't', 'h', 'o', 'n')\n"
     ]
    }
   ],
   "source": [
    "# List, Tuple, Dictionary methods, Github\n",
    "\n",
    "# s = '    Python.   '\n",
    "# print(s.strip())\n",
    "# print(s)\n",
    "\n",
    "# l = [10,20,30]\n",
    "# print(l.append(100))\n",
    "# print(l)\n",
    "\n",
    "# Tuple is simliar to List - seq, indexed, slicing, ordered collection of elements, concatenation, repetition, memebership, loop\n",
    "# Tuple is immutable, all elements should be kept inside () - optional and separated by comma\n",
    "# Collectiom of non-homogeneous elements, aloows duplicates\n",
    "tpl = (10,20,30)\n",
    "print(tpl, type(tpl))\n",
    "\n",
    "tpl1 = 10,20,30\n",
    "print(tpl1, type(tpl1))\n",
    "\n",
    "tpl2 = 10,\n",
    "print(tpl2, type(tpl2))\n",
    "\n",
    "tpl3 = (10)\n",
    "print(tpl3, type(tpl3))\n",
    "\n",
    "tpl4 = tuple('Python')\n",
    "print(tpl4)\n",
    "\n",
    "tpl5 = eval(input(\"Enter a tuple: \"))"
   ]
  },
  {
   "cell_type": "code",
   "execution_count": 11,
   "metadata": {},
   "outputs": [
    {
     "name": "stdout",
     "output_type": "stream",
     "text": [
      "['__add__', '__class__', '__contains__', '__delattr__', '__dir__', '__doc__', '__eq__', '__format__', '__ge__', '__getattribute__', '__getitem__', '__getnewargs__', '__gt__', '__hash__', '__init__', '__init_subclass__', '__iter__', '__le__', '__len__', '__lt__', '__mul__', '__ne__', '__new__', '__reduce__', '__reduce_ex__', '__repr__', '__rmul__', '__setattr__', '__sizeof__', '__str__', '__subclasshook__', 'count', 'index']\n"
     ]
    }
   ],
   "source": [
    "print(dir(tuple))"
   ]
  },
  {
   "cell_type": "code",
   "execution_count": 17,
   "metadata": {},
   "outputs": [
    {
     "name": "stdout",
     "output_type": "stream",
     "text": [
      "(10, 20, 30, [40])\n"
     ]
    }
   ],
   "source": [
    "# Tuple packing and unpacking\n",
    "# Packing\n",
    "a = 10\n",
    "b = 20\n",
    "c = 30\n",
    "d = [40]\n",
    "\n",
    "tpl = a,b,c,d\n",
    "print(tpl)"
   ]
  },
  {
   "cell_type": "code",
   "execution_count": 16,
   "metadata": {},
   "outputs": [
    {
     "name": "stdout",
     "output_type": "stream",
     "text": [
      "10\n",
      "20\n",
      "30\n",
      "40\n"
     ]
    }
   ],
   "source": [
    "# Tuple Unpacking - no of elements in the tuple and variable should remain same\n",
    "tpl = 10,20,30,40,50,60\n",
    "print(len(tpl))\n",
    "a,b,c,d,e,f = tpl\n",
    "print(a)\n",
    "print(b)\n",
    "print(c)\n",
    "print(d)"
   ]
  },
  {
   "cell_type": "markdown",
   "metadata": {},
   "source": [
    "# Dictionary-mapping - key - value -pair - item"
   ]
  },
  {
   "cell_type": "code",
   "execution_count": null,
   "metadata": {},
   "outputs": [],
   "source": []
  },
  {
   "cell_type": "code",
   "execution_count": null,
   "metadata": {},
   "outputs": [],
   "source": []
  },
  {
   "cell_type": "code",
   "execution_count": null,
   "metadata": {},
   "outputs": [],
   "source": []
  },
  {
   "cell_type": "code",
   "execution_count": null,
   "metadata": {},
   "outputs": [],
   "source": []
  },
  {
   "cell_type": "code",
   "execution_count": null,
   "metadata": {},
   "outputs": [],
   "source": []
  }
 ],
 "metadata": {
  "kernelspec": {
   "display_name": "Python 3",
   "language": "python",
   "name": "python3"
  },
  "language_info": {
   "codemirror_mode": {
    "name": "ipython",
    "version": 3
   },
   "file_extension": ".py",
   "mimetype": "text/x-python",
   "name": "python",
   "nbconvert_exporter": "python",
   "pygments_lexer": "ipython3",
   "version": "3.7.3"
  }
 },
 "nbformat": 4,
 "nbformat_minor": 2
}
