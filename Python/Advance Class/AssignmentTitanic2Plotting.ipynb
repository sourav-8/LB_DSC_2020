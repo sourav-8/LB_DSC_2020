{
 "cells": [
  {
   "cell_type": "markdown",
   "metadata": {},
   "source": [
    "\n",
    "### Titanic Plotting\n",
    "- Load data generated previously from 'titanic_filtered.csv'\n",
    "- plot histogram of ages of people\n",
    "- plot no of people in each pclass on bar chart\n",
    "\n",
    "\n",
    "- plot a horizontal bar-chart depicting the ratio of males to females\n",
    "- plot a bar-chart depicting the ratio of male-survived, female-survived, male-dead, female-dead. \n",
    "- plot a stacked bar chart of number of male-survived,dead and female-survived, dead.\n",
    "- plot stacked bar of survived with different pclass in same bar.\n",
    "\n",
    "\n",
    "- plot box plot of ages of survived vs not-survived\n",
    "- plot scatter plot of ages vs survived."
   ]
  },
  {
   "cell_type": "code",
   "execution_count": 1,
   "metadata": {},
   "outputs": [
    {
     "data": {
      "text/html": [
       "<div>\n",
       "<style scoped>\n",
       "    .dataframe tbody tr th:only-of-type {\n",
       "        vertical-align: middle;\n",
       "    }\n",
       "\n",
       "    .dataframe tbody tr th {\n",
       "        vertical-align: top;\n",
       "    }\n",
       "\n",
       "    .dataframe thead th {\n",
       "        text-align: right;\n",
       "    }\n",
       "</style>\n",
       "<table border=\"1\" class=\"dataframe\">\n",
       "  <thead>\n",
       "    <tr style=\"text-align: right;\">\n",
       "      <th></th>\n",
       "      <th>pclass</th>\n",
       "      <th>survived</th>\n",
       "      <th>gender</th>\n",
       "      <th>age</th>\n",
       "      <th>sibsp</th>\n",
       "      <th>parch</th>\n",
       "      <th>ticket</th>\n",
       "      <th>fare</th>\n",
       "      <th>embarked</th>\n",
       "    </tr>\n",
       "  </thead>\n",
       "  <tbody>\n",
       "    <tr>\n",
       "      <th>0</th>\n",
       "      <td>1</td>\n",
       "      <td>1</td>\n",
       "      <td>female</td>\n",
       "      <td>29.000000</td>\n",
       "      <td>0</td>\n",
       "      <td>0</td>\n",
       "      <td>24160</td>\n",
       "      <td>211.34</td>\n",
       "      <td>S</td>\n",
       "    </tr>\n",
       "    <tr>\n",
       "      <th>1</th>\n",
       "      <td>1</td>\n",
       "      <td>1</td>\n",
       "      <td>male</td>\n",
       "      <td>0.916700</td>\n",
       "      <td>1</td>\n",
       "      <td>2</td>\n",
       "      <td>113781</td>\n",
       "      <td>151.55</td>\n",
       "      <td>S</td>\n",
       "    </tr>\n",
       "    <tr>\n",
       "      <th>2</th>\n",
       "      <td>1</td>\n",
       "      <td>0</td>\n",
       "      <td>female</td>\n",
       "      <td>2.000000</td>\n",
       "      <td>1</td>\n",
       "      <td>2</td>\n",
       "      <td>113781</td>\n",
       "      <td>151.55</td>\n",
       "      <td>S</td>\n",
       "    </tr>\n",
       "    <tr>\n",
       "      <th>3</th>\n",
       "      <td>1</td>\n",
       "      <td>0</td>\n",
       "      <td>male</td>\n",
       "      <td>30.000000</td>\n",
       "      <td>1</td>\n",
       "      <td>2</td>\n",
       "      <td>113781</td>\n",
       "      <td>151.55</td>\n",
       "      <td>S</td>\n",
       "    </tr>\n",
       "    <tr>\n",
       "      <th>4</th>\n",
       "      <td>1</td>\n",
       "      <td>0</td>\n",
       "      <td>female</td>\n",
       "      <td>25.000000</td>\n",
       "      <td>1</td>\n",
       "      <td>2</td>\n",
       "      <td>113781</td>\n",
       "      <td>151.55</td>\n",
       "      <td>S</td>\n",
       "    </tr>\n",
       "    <tr>\n",
       "      <th>...</th>\n",
       "      <td>...</td>\n",
       "      <td>...</td>\n",
       "      <td>...</td>\n",
       "      <td>...</td>\n",
       "      <td>...</td>\n",
       "      <td>...</td>\n",
       "      <td>...</td>\n",
       "      <td>...</td>\n",
       "      <td>...</td>\n",
       "    </tr>\n",
       "    <tr>\n",
       "      <th>1302</th>\n",
       "      <td>3</td>\n",
       "      <td>0</td>\n",
       "      <td>female</td>\n",
       "      <td>14.500000</td>\n",
       "      <td>1</td>\n",
       "      <td>0</td>\n",
       "      <td>2665</td>\n",
       "      <td>14.45</td>\n",
       "      <td>C</td>\n",
       "    </tr>\n",
       "    <tr>\n",
       "      <th>1303</th>\n",
       "      <td>3</td>\n",
       "      <td>0</td>\n",
       "      <td>female</td>\n",
       "      <td>29.881135</td>\n",
       "      <td>1</td>\n",
       "      <td>0</td>\n",
       "      <td>2665</td>\n",
       "      <td>14.45</td>\n",
       "      <td>C</td>\n",
       "    </tr>\n",
       "    <tr>\n",
       "      <th>1304</th>\n",
       "      <td>3</td>\n",
       "      <td>0</td>\n",
       "      <td>male</td>\n",
       "      <td>26.500000</td>\n",
       "      <td>0</td>\n",
       "      <td>0</td>\n",
       "      <td>2656</td>\n",
       "      <td>7.23</td>\n",
       "      <td>C</td>\n",
       "    </tr>\n",
       "    <tr>\n",
       "      <th>1305</th>\n",
       "      <td>3</td>\n",
       "      <td>0</td>\n",
       "      <td>male</td>\n",
       "      <td>27.000000</td>\n",
       "      <td>0</td>\n",
       "      <td>0</td>\n",
       "      <td>2670</td>\n",
       "      <td>7.23</td>\n",
       "      <td>C</td>\n",
       "    </tr>\n",
       "    <tr>\n",
       "      <th>1306</th>\n",
       "      <td>3</td>\n",
       "      <td>0</td>\n",
       "      <td>male</td>\n",
       "      <td>29.000000</td>\n",
       "      <td>0</td>\n",
       "      <td>0</td>\n",
       "      <td>315082</td>\n",
       "      <td>7.88</td>\n",
       "      <td>S</td>\n",
       "    </tr>\n",
       "  </tbody>\n",
       "</table>\n",
       "<p>1307 rows × 9 columns</p>\n",
       "</div>"
      ],
      "text/plain": [
       "      pclass  survived  gender        age  sibsp  parch  ticket    fare  \\\n",
       "0          1         1  female  29.000000      0      0   24160  211.34   \n",
       "1          1         1    male   0.916700      1      2  113781  151.55   \n",
       "2          1         0  female   2.000000      1      2  113781  151.55   \n",
       "3          1         0    male  30.000000      1      2  113781  151.55   \n",
       "4          1         0  female  25.000000      1      2  113781  151.55   \n",
       "...      ...       ...     ...        ...    ...    ...     ...     ...   \n",
       "1302       3         0  female  14.500000      1      0    2665   14.45   \n",
       "1303       3         0  female  29.881135      1      0    2665   14.45   \n",
       "1304       3         0    male  26.500000      0      0    2656    7.23   \n",
       "1305       3         0    male  27.000000      0      0    2670    7.23   \n",
       "1306       3         0    male  29.000000      0      0  315082    7.88   \n",
       "\n",
       "     embarked  \n",
       "0           S  \n",
       "1           S  \n",
       "2           S  \n",
       "3           S  \n",
       "4           S  \n",
       "...       ...  \n",
       "1302        C  \n",
       "1303        C  \n",
       "1304        C  \n",
       "1305        C  \n",
       "1306        S  \n",
       "\n",
       "[1307 rows x 9 columns]"
      ]
     },
     "execution_count": 1,
     "metadata": {},
     "output_type": "execute_result"
    }
   ],
   "source": [
    "import pandas as pd\n",
    "import matplotlib.pyplot as plt\n",
    "\n",
    "df = pd.read_csv(\"titanic_filtered.csv\")\n",
    "df"
   ]
  },
  {
   "cell_type": "code",
   "execution_count": 2,
   "metadata": {},
   "outputs": [
    {
     "data": {
      "image/png": "[encoded data removed]",
      "text/plain": [
       "<Figure size 1080x432 with 1 Axes>"
      ]
     },
     "metadata": {
      "needs_background": "light"
     },
     "output_type": "display_data"
    }
   ],
   "source": [
    "# plot histogram of ages of people\n",
    "a = df.age\n",
    "plt.figure(figsize=(15,6))\n",
    "r = plt.hist(a, rwidth = .9, bins=20)\n",
    "plt.show()\n"
   ]
  },
  {
   "cell_type": "code",
   "execution_count": 3,
   "metadata": {},
   "outputs": [
    {
     "name": "stdout",
     "output_type": "stream",
     "text": [
      "pclass\n",
      "1    321\n",
      "2    277\n",
      "3    709\n",
      "dtype: int64\n"
     ]
    },
    {
     "data": {
      "text/plain": [
       "<matplotlib.axes._subplots.AxesSubplot at 0x21695481988>"
      ]
     },
     "execution_count": 3,
     "metadata": {},
     "output_type": "execute_result"
    },
    {
     "data": {
      "image/png": "[encoded data removed]",
      "text/plain": [
       "<Figure size 432x288 with 1 Axes>"
      ]
     },
     "metadata": {
      "needs_background": "light"
     },
     "output_type": "display_data"
    }
   ],
   "source": [
    "# plot no of people in each pclass on bar chart\n",
    "a = df.groupby('pclass').size()\n",
    "print(a)\n",
    "a.plot.bar()\n",
    "\n",
    "# df.pclass.value_counts().plot.bar()"
   ]
  },
  {
   "cell_type": "code",
   "execution_count": 4,
   "metadata": {},
   "outputs": [
    {
     "data": {
      "text/plain": [
       "<matplotlib.axes._subplots.AxesSubplot at 0x2169542f188>"
      ]
     },
     "execution_count": 4,
     "metadata": {},
     "output_type": "execute_result"
    },
    {
     "data": {
      "image/png": "[encoded data removed]",
      "text/plain": [
       "<Figure size 432x288 with 1 Axes>"
      ]
     },
     "metadata": {
      "needs_background": "light"
     },
     "output_type": "display_data"
    }
   ],
   "source": [
    "# plot a bar-chart depicting the ratio of males to females\n",
    "df.groupby('gender').size().plot.bar()\n"
   ]
  },
  {
   "cell_type": "code",
   "execution_count": 5,
   "metadata": {},
   "outputs": [
    {
     "name": "stdout",
     "output_type": "stream",
     "text": [
      "survived  gender\n",
      "0         female    127\n",
      "          male      682\n",
      "1         female    337\n",
      "          male      161\n",
      "dtype: int64\n",
      "MultiIndex([(0, 'female'),\n",
      "            (0,   'male'),\n",
      "            (1, 'female'),\n",
      "            (1,   'male')],\n",
      "           names=['survived', 'gender'])\n",
      "gender    female  male\n",
      "survived              \n",
      "0            127   682\n",
      "1            337   161\n"
     ]
    },
    {
     "data": {
      "text/plain": [
       "<matplotlib.axes._subplots.AxesSubplot at 0x216955849c8>"
      ]
     },
     "execution_count": 5,
     "metadata": {},
     "output_type": "execute_result"
    },
    {
     "data": {
      "image/png": "[encoded data removed]",
      "text/plain": [
       "<Figure size 432x288 with 1 Axes>"
      ]
     },
     "metadata": {
      "needs_background": "light"
     },
     "output_type": "display_data"
    }
   ],
   "source": [
    "# plot a bar-chart depicting the ratio of male-survived, female-survived, male-dead, female-dead.\n",
    "\n",
    "# df[['gender','survived']].groupby(['gender','survived']).size().plot.bar()\n",
    "\n",
    "grp = df.groupby(['survived','gender'])\n",
    "s = grp.size()\n",
    "print(s)\n",
    "print(s.index)\n",
    "res = s.unstack()\n",
    "print(res)\n",
    "\n",
    "res.plot.bar()"
   ]
  },
  {
   "cell_type": "code",
   "execution_count": 6,
   "metadata": {},
   "outputs": [
    {
     "name": "stdout",
     "output_type": "stream",
     "text": [
      "\n",
      "gender  survived  pclass\n",
      "female  0         1           5\n",
      "                  2          12\n",
      "                  3         110\n",
      "        1         1         137\n",
      "                  2          94\n",
      "                  3         106\n",
      "male    0         1         118\n",
      "                  2         146\n",
      "                  3         418\n",
      "        1         1          61\n",
      "                  2          25\n",
      "                  3          75\n",
      "dtype: int64\n",
      "\n",
      "MultiIndex([('female', 0, 1),\n",
      "            ('female', 0, 2),\n",
      "            ('female', 0, 3),\n",
      "            ('female', 1, 1),\n",
      "            ('female', 1, 2),\n",
      "            ('female', 1, 3),\n",
      "            (  'male', 0, 1),\n",
      "            (  'male', 0, 2),\n",
      "            (  'male', 0, 3),\n",
      "            (  'male', 1, 1),\n",
      "            (  'male', 1, 2),\n",
      "            (  'male', 1, 3)],\n",
      "           names=['gender', 'survived', 'pclass'])\n",
      "\n",
      "pclass             1    2    3\n",
      "gender survived               \n",
      "female 0           5   12  110\n",
      "       1         137   94  106\n",
      "male   0         118  146  418\n",
      "       1          61   25   75\n"
     ]
    },
    {
     "data": {
      "text/plain": [
       "<matplotlib.axes._subplots.AxesSubplot at 0x21695617dc8>"
      ]
     },
     "execution_count": 6,
     "metadata": {},
     "output_type": "execute_result"
    },
    {
     "data": {
      "image/png": "[encoded data removed]",
      "text/plain": [
       "<Figure size 432x288 with 1 Axes>"
      ]
     },
     "metadata": {
      "needs_background": "light"
     },
     "output_type": "display_data"
    }
   ],
   "source": [
    "# plot a stacked bar chart of number of male-survived,dead and female-survived, dead.\n",
    "# plot a stacked bar chart of number of male-survived,dead and female-survived, dead.\n",
    "grp = df.groupby(by=[\"gender\", \"survived\", \"pclass\"])\n",
    "s = grp.size()\n",
    "print()\n",
    "print(s)\n",
    "\n",
    "print()\n",
    "print(s.index)\n",
    "\n",
    "print()\n",
    "res = s.unstack()\n",
    "print(res)\n",
    "res.plot(kind=\"bar\", stacked=True)\n"
   ]
  },
  {
   "cell_type": "code",
   "execution_count": 7,
   "metadata": {},
   "outputs": [
    {
     "name": "stdout",
     "output_type": "stream",
     "text": [
      "\n",
      "survived  pclass\n",
      "0         1         123\n",
      "          2         158\n",
      "          3         528\n",
      "1         1         198\n",
      "          2         119\n",
      "          3         181\n",
      "dtype: int64\n",
      "\n",
      "MultiIndex([(0, 1),\n",
      "            (0, 2),\n",
      "            (0, 3),\n",
      "            (1, 1),\n",
      "            (1, 2),\n",
      "            (1, 3)],\n",
      "           names=['survived', 'pclass'])\n",
      "\n",
      "pclass      1    2    3\n",
      "survived               \n",
      "0         123  158  528\n",
      "1         198  119  181\n"
     ]
    },
    {
     "data": {
      "text/plain": [
       "<matplotlib.axes._subplots.AxesSubplot at 0x2169584a688>"
      ]
     },
     "execution_count": 7,
     "metadata": {},
     "output_type": "execute_result"
    },
    {
     "data": {
      "image/png": "[encoded data removed]",
      "text/plain": [
       "<Figure size 432x288 with 1 Axes>"
      ]
     },
     "metadata": {
      "needs_background": "light"
     },
     "output_type": "display_data"
    }
   ],
   "source": [
    "# plot stacked bar of survived with different pclass in same bar\n",
    "\n",
    "grp = df.groupby(by=[\"survived\", \"pclass\"])\n",
    "s = grp.size()\n",
    "print()\n",
    "print(s)\n",
    "\n",
    "print()\n",
    "print(s.index)\n",
    "\n",
    "print()\n",
    "res = s.unstack()\n",
    "print(res)\n",
    "res.plot(kind=\"bar\", stacked=True)\n"
   ]
  },
  {
   "cell_type": "code",
   "execution_count": 8,
   "metadata": {},
   "outputs": [
    {
     "data": {
      "image/png": "[encoded data removed]",
      "text/plain": [
       "<Figure size 432x288 with 1 Axes>"
      ]
     },
     "metadata": {
      "needs_background": "light"
     },
     "output_type": "display_data"
    }
   ],
   "source": [
    "# plot box plot of ages of survived vs not-survived\n",
    "\n",
    "a = df['age'][df['survived'] == 0]\n",
    "\n",
    "b = df['age'][df['survived'] == 1]\n",
    "\n",
    "plt.title('Box plot of survived vs ages')\n",
    "plt.ylabel('age')\n",
    "plt.xlabel('survived')\n",
    "\n",
    "\n",
    "plt.boxplot([a,b])\n",
    "plt.show()\n"
   ]
  },
  {
   "cell_type": "code",
   "execution_count": 10,
   "metadata": {},
   "outputs": [
    {
     "data": {
      "text/plain": [
       "<matplotlib.collections.PathCollection at 0x21695bd1448>"
      ]
     },
     "execution_count": 10,
     "metadata": {},
     "output_type": "execute_result"
    },
    {
     "data": {
      "image/png": "[encoded data removed]",
      "text/plain": [
       "<Figure size 1080x360 with 1 Axes>"
      ]
     },
     "metadata": {
      "needs_background": "light"
     },
     "output_type": "display_data"
    }
   ],
   "source": [
    "# plot scatter plot of ages vs survived. \n",
    "plt.figure(figsize=(15,5))\n",
    "plt.title('scatter plot of ages vs survived')\n",
    "a = plt.xlabel('age')\n",
    "s = plt.ylabel('survived')\n",
    "plt.scatter(df.age,df.survived  ,alpha=0.5, color='b')"
   ]
  },
  {
   "cell_type": "code",
   "execution_count": null,
   "metadata": {},
   "outputs": [],
   "source": []
  }
 ],
 "metadata": {
  "kernelspec": {
   "display_name": "Python 3",
   "language": "python",
   "name": "python3"
  },
  "language_info": {
   "codemirror_mode": {
    "name": "ipython",
    "version": 3
   },
   "file_extension": ".py",
   "mimetype": "text/x-python",
   "name": "python",
   "nbconvert_exporter": "python",
   "pygments_lexer": "ipython3",
   "version": "3.7.6"
  }
 },
 "nbformat": 4,
 "nbformat_minor": 2
}
