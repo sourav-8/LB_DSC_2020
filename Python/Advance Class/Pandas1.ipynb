{
 "cells": [
  {
   "cell_type": "code",
   "execution_count": 1,
   "metadata": {},
   "outputs": [],
   "source": [
    "# all imports go at the top, even though python is a very open language\n",
    "import numpy as np\n",
    "import pandas as pd"
   ]
  },
  {
   "cell_type": "code",
   "execution_count": 2,
   "metadata": {},
   "outputs": [
    {
     "name": "stdout",
     "output_type": "stream",
     "text": [
      "['BooleanDtype', 'Categorical', 'CategoricalDtype', 'CategoricalIndex', 'DataFrame', 'DateOffset', 'DatetimeIndex', 'DatetimeTZDtype', 'ExcelFile', 'ExcelWriter', 'Float64Index', 'Grouper', 'HDFStore', 'Index', 'IndexSlice', 'Int16Dtype', 'Int32Dtype', 'Int64Dtype', 'Int64Index', 'Int8Dtype', 'Interval', 'IntervalDtype', 'IntervalIndex', 'MultiIndex', 'NA', 'NaT', 'NamedAgg', 'Period', 'PeriodDtype', 'PeriodIndex', 'RangeIndex', 'Series', 'SparseDtype', 'StringDtype', 'Timedelta', 'TimedeltaIndex', 'Timestamp', 'UInt16Dtype', 'UInt32Dtype', 'UInt64Dtype', 'UInt64Index', 'UInt8Dtype', '__builtins__', '__cached__', '__doc__', '__docformat__', '__file__', '__getattr__', '__git_version__', '__loader__', '__name__', '__package__', '__path__', '__spec__', '__version__', '_config', '_hashtable', '_lib', '_libs', '_np_version_under1p14', '_np_version_under1p15', '_np_version_under1p16', '_np_version_under1p17', '_np_version_under1p18', '_testing', '_tslib', '_typing', '_version', 'api', 'array', 'arrays', 'bdate_range', 'compat', 'concat', 'core', 'crosstab', 'cut', 'date_range', 'describe_option', 'errors', 'eval', 'factorize', 'get_dummies', 'get_option', 'infer_freq', 'interval_range', 'io', 'isna', 'isnull', 'json_normalize', 'lreshape', 'melt', 'merge', 'merge_asof', 'merge_ordered', 'notna', 'notnull', 'offsets', 'option_context', 'options', 'pandas', 'period_range', 'pivot', 'pivot_table', 'plotting', 'qcut', 'read_clipboard', 'read_csv', 'read_excel', 'read_feather', 'read_fwf', 'read_gbq', 'read_hdf', 'read_html', 'read_json', 'read_orc', 'read_parquet', 'read_pickle', 'read_sas', 'read_spss', 'read_sql', 'read_sql_query', 'read_sql_table', 'read_stata', 'read_table', 'reset_option', 'set_eng_float_format', 'set_option', 'show_versions', 'test', 'testing', 'timedelta_range', 'to_datetime', 'to_numeric', 'to_pickle', 'to_timedelta', 'tseries', 'unique', 'util', 'value_counts', 'wide_to_long']\n",
      "['T', '_AXIS_ALIASES', '_AXIS_IALIASES', '_AXIS_LEN', '_AXIS_NAMES', '_AXIS_NUMBERS', '_AXIS_ORDERS', '_AXIS_REVERSED', '__abs__', '__add__', '__and__', '__annotations__', '__array__', '__array_priority__', '__array_wrap__', '__bool__', '__class__', '__contains__', '__copy__', '__deepcopy__', '__delattr__', '__delitem__', '__dict__', '__dir__', '__div__', '__doc__', '__eq__', '__finalize__', '__floordiv__', '__format__', '__ge__', '__getattr__', '__getattribute__', '__getitem__', '__getstate__', '__gt__', '__hash__', '__iadd__', '__iand__', '__ifloordiv__', '__imod__', '__imul__', '__init__', '__init_subclass__', '__invert__', '__ior__', '__ipow__', '__isub__', '__iter__', '__itruediv__', '__ixor__', '__le__', '__len__', '__lt__', '__matmul__', '__mod__', '__module__', '__mul__', '__ne__', '__neg__', '__new__', '__nonzero__', '__or__', '__pos__', '__pow__', '__radd__', '__rand__', '__rdiv__', '__reduce__', '__reduce_ex__', '__repr__', '__rfloordiv__', '__rmatmul__', '__rmod__', '__rmul__', '__ror__', '__round__', '__rpow__', '__rsub__', '__rtruediv__', '__rxor__', '__setattr__', '__setitem__', '__setstate__', '__sizeof__', '__str__', '__sub__', '__subclasshook__', '__truediv__', '__weakref__', '__xor__', '_accessors', '_add_numeric_operations', '_add_series_or_dataframe_operations', '_agg_by_level', '_agg_examples_doc', '_agg_summary_and_see_also_doc', '_aggregate', '_aggregate_multiple_funcs', '_align_frame', '_align_series', '_box_col_values', '_box_item_values', '_builtin_table', '_check_inplace_setting', '_check_is_chained_assignment_possible', '_check_label_or_level_ambiguity', '_check_setitem_copy', '_clear_item_cache', '_clip_with_one_bound', '_clip_with_scalar', '_combine_frame', '_combine_match_index', '_consolidate', '_consolidate_inplace', '_construct_axes_dict', '_construct_axes_dict_from', '_construct_axes_from_arguments', '_construct_result', '_constructor', '_constructor_expanddim', '_constructor_sliced', '_convert', '_count_level', '_create_indexer', '_cython_table', '_deprecations', '_dir_additions', '_dir_deletions', '_drop_axis', '_drop_labels_or_levels', '_ensure_type', '_ensure_valid_index', '_find_valid_index', '_from_arrays', '_from_axes', '_get_agg_axis', '_get_axis', '_get_axis_name', '_get_axis_number', '_get_axis_resolvers', '_get_block_manager_axis', '_get_bool_data', '_get_cacher', '_get_cleaned_column_resolvers', '_get_cython_func', '_get_index_resolvers', '_get_item_cache', '_get_label_or_level_values', '_get_numeric_data', '_get_value', '_get_values', '_getitem_bool_array', '_getitem_multilevel', '_gotitem', '_iget_item_cache', '_indexed_same', '_info_axis', '_info_axis_name', '_info_axis_number', '_info_repr', '_init_mgr', '_internal_get_values', '_internal_names', '_internal_names_set', '_is_builtin_func', '_is_cached', '_is_copy', '_is_datelike_mixed_type', '_is_homogeneous_type', '_is_label_or_level_reference', '_is_label_reference', '_is_level_reference', '_is_mixed_type', '_is_numeric_mixed_type', '_is_view', '_ix', '_ixs', '_join_compat', '_maybe_cache_changed', '_maybe_update_cacher', '_metadata', '_needs_reindex_multi', '_obj_with_exclusions', '_protect_consolidate', '_reduce', '_reindex_axes', '_reindex_columns', '_reindex_index', '_reindex_multi', '_reindex_with_indexers', '_repr_data_resource_', '_repr_fits_horizontal_', '_repr_fits_vertical_', '_repr_html_', '_repr_latex_', '_reset_cache', '_reset_cacher', '_sanitize_column', '_selected_obj', '_selection', '_selection_list', '_selection_name', '_series', '_set_as_cached', '_set_axis', '_set_axis_name', '_set_is_copy', '_set_item', '_set_value', '_setitem_array', '_setitem_frame', '_setitem_slice', '_setup_axes', '_slice', '_stat_axis', '_stat_axis_name', '_stat_axis_number', '_take_with_is_copy', '_to_dict_of_blocks', '_try_aggregate_string_function', '_typ', '_update_inplace', '_validate_dtype', '_values', '_where', '_xs', 'abs', 'add', 'add_prefix', 'add_suffix', 'agg', 'aggregate', 'align', 'all', 'any', 'append', 'apply', 'applymap', 'asfreq', 'asof', 'assign', 'astype', 'at', 'at_time', 'attrs', 'axes', 'between_time', 'bfill', 'bool', 'boxplot', 'clip', 'columns', 'combine', 'combine_first', 'convert_dtypes', 'copy', 'corr', 'corrwith', 'count', 'cov', 'cummax', 'cummin', 'cumprod', 'cumsum', 'describe', 'diff', 'div', 'divide', 'dot', 'drop', 'drop_duplicates', 'droplevel', 'dropna', 'dtypes', 'duplicated', 'empty', 'eq', 'equals', 'eval', 'ewm', 'expanding', 'explode', 'ffill', 'fillna', 'filter', 'first', 'first_valid_index', 'floordiv', 'from_dict', 'from_records', 'ge', 'get', 'groupby', 'gt', 'head', 'hist', 'iat', 'idxmax', 'idxmin', 'iloc', 'index', 'infer_objects', 'info', 'insert', 'interpolate', 'isin', 'isna', 'isnull', 'items', 'iteritems', 'iterrows', 'itertuples', 'join', 'keys', 'kurt', 'kurtosis', 'last', 'last_valid_index', 'le', 'loc', 'lookup', 'lt', 'mad', 'mask', 'max', 'mean', 'median', 'melt', 'memory_usage', 'merge', 'min', 'mod', 'mode', 'mul', 'multiply', 'ndim', 'ne', 'nlargest', 'notna', 'notnull', 'nsmallest', 'nunique', 'pct_change', 'pipe', 'pivot', 'pivot_table', 'plot', 'pop', 'pow', 'prod', 'product', 'quantile', 'query', 'radd', 'rank', 'rdiv', 'reindex', 'reindex_like', 'rename', 'rename_axis', 'reorder_levels', 'replace', 'resample', 'reset_index', 'rfloordiv', 'rmod', 'rmul', 'rolling', 'round', 'rpow', 'rsub', 'rtruediv', 'sample', 'select_dtypes', 'sem', 'set_axis', 'set_index', 'shape', 'shift', 'size', 'skew', 'slice_shift', 'sort_index', 'sort_values', 'sparse', 'squeeze', 'stack', 'std', 'style', 'sub', 'subtract', 'sum', 'swapaxes', 'swaplevel', 'tail', 'take', 'to_clipboard', 'to_csv', 'to_dict', 'to_excel', 'to_feather', 'to_gbq', 'to_hdf', 'to_html', 'to_json', 'to_latex', 'to_markdown', 'to_numpy', 'to_parquet', 'to_period', 'to_pickle', 'to_records', 'to_sql', 'to_stata', 'to_string', 'to_timestamp', 'to_xarray', 'transform', 'transpose', 'truediv', 'truncate', 'tshift', 'tz_convert', 'tz_localize', 'unstack', 'update', 'values', 'var', 'where', 'xs']\n"
     ]
    }
   ],
   "source": [
    "print(dir(pd))\n",
    "print(dir(pd.DataFrame))"
   ]
  },
  {
   "cell_type": "markdown",
   "metadata": {},
   "source": [
    "## Series"
   ]
  },
  {
   "cell_type": "code",
   "execution_count": 3,
   "metadata": {},
   "outputs": [
    {
     "data": {
      "text/plain": [
       "['a', 'b', 'c', 'd']"
      ]
     },
     "execution_count": 3,
     "metadata": {},
     "output_type": "execute_result"
    }
   ],
   "source": [
    "list(\"abcd\")"
   ]
  },
  {
   "cell_type": "code",
   "execution_count": 4,
   "metadata": {
    "scrolled": true
   },
   "outputs": [
    {
     "name": "stdout",
     "output_type": "stream",
     "text": [
      "0    1\n",
      "1    2\n",
      "2    3\n",
      "dtype: int8\n",
      "\n",
      "a    1.0\n",
      "b    2.0\n",
      "c    3.0\n",
      "d    NaN\n",
      "dtype: float64\n"
     ]
    }
   ],
   "source": [
    "# Normal series and series with custom index\n",
    "s1 = pd.Series([1,2,3], dtype='int8')\n",
    "s2 = pd.Series([1,2,3, np.nan], index=list(\"abcd\"))\n",
    "print(s1)\n",
    "print()\n",
    "print(s2)"
   ]
  },
  {
   "cell_type": "code",
   "execution_count": 5,
   "metadata": {},
   "outputs": [
    {
     "name": "stdout",
     "output_type": "stream",
     "text": [
      "0    1.0\n",
      "1    2.0\n",
      "2    3.0\n",
      "dtype: float64\n",
      "\n",
      "0    1\n",
      "1    2\n",
      "2    3\n",
      "dtype: object\n",
      "object\n"
     ]
    }
   ],
   "source": [
    "# changing dtype: astype\n",
    "print(s1.astype('float64'))\n",
    "print()\n",
    "print(s1.astype('str'))\n",
    "print(s1.astype('str').dtype)"
   ]
  },
  {
   "cell_type": "code",
   "execution_count": 6,
   "metadata": {},
   "outputs": [
    {
     "name": "stdout",
     "output_type": "stream",
     "text": [
      "(3,)\n",
      "3\n",
      "int8\n",
      "RangeIndex(start=0, stop=3, step=1)\n",
      "[1 2 3] <class 'numpy.ndarray'>\n",
      "\n",
      "Index(['a', 'b', 'c', 'd'], dtype='object')\n",
      "[ 1.  2.  3. nan]\n"
     ]
    }
   ],
   "source": [
    "# shape, size, dtype, index, values\n",
    "print(s1.shape)\n",
    "print(s1.size)\n",
    "print(s1.dtype)\n",
    "print(s1.index)\n",
    "print(s1.values, type(s1.values))\n",
    "\n",
    "print()\n",
    "print(s2.index)\n",
    "print(s2.values)"
   ]
  },
  {
   "cell_type": "code",
   "execution_count": 7,
   "metadata": {},
   "outputs": [
    {
     "name": "stdout",
     "output_type": "stream",
     "text": [
      "1\n",
      "3\n",
      "[1 2 3]\n",
      "6\n",
      "True\n",
      "True\n",
      "\n",
      "1.0\n",
      "3.0\n",
      "[ 1.  2.  3. nan]\n",
      "6.0\n",
      "True\n",
      "True\n"
     ]
    }
   ],
   "source": [
    "# aggregate operations: min, max, unique, sum etc.\n",
    "print(s1.min())\n",
    "print(s1.max())\n",
    "print(s1.unique())\n",
    "print(s1.sum())\n",
    "print(s1.all())\n",
    "print(s1.any())\n",
    "\n",
    "print()\n",
    "print(s2.min())\n",
    "print(s2.max())\n",
    "print(s2.unique())\n",
    "print(s2.sum())\n",
    "print(s2.all())\n",
    "print(s2.any())"
   ]
  },
  {
   "cell_type": "code",
   "execution_count": 8,
   "metadata": {},
   "outputs": [
    {
     "name": "stdout",
     "output_type": "stream",
     "text": [
      "0    10\n",
      "1    20\n",
      "2    30\n",
      "dtype: int8\n",
      "\n",
      "0    -9\n",
      "1   -18\n",
      "2   -27\n",
      "dtype: int8\n",
      "\n",
      "0   NaN\n",
      "1   NaN\n",
      "2   NaN\n",
      "a   NaN\n",
      "b   NaN\n",
      "c   NaN\n",
      "d   NaN\n",
      "dtype: float64\n",
      "\n",
      "0    0.0\n",
      "1    0.0\n",
      "2    0.0\n",
      "3    NaN\n",
      "4    NaN\n",
      "dtype: float64\n"
     ]
    }
   ],
   "source": [
    "# arithmetic operations(new copy) and broadcast like numpy\n",
    "print(s1 * 10) \n",
    "print()\n",
    "print(s1 - (s1*10))\n",
    "\n",
    "print()\n",
    "print(s1 - s2)\n",
    "s3 = pd.Series([1,2,3,4,5], dtype='int8')\n",
    "\n",
    "print()\n",
    "print(s3-s1)"
   ]
  },
  {
   "cell_type": "code",
   "execution_count": 9,
   "metadata": {},
   "outputs": [
    {
     "name": "stdout",
     "output_type": "stream",
     "text": [
      "2\n",
      "1.0\n",
      "\n",
      "1    2\n",
      "2    3\n",
      "dtype: int8\n",
      "\n",
      "a    1.0\n",
      "b    2.0\n",
      "c    3.0\n",
      "d    NaN\n",
      "dtype: float64\n",
      "\n",
      "1    2\n",
      "dtype: int8\n",
      "\n",
      "a    1.0\n",
      "b    2.0\n",
      "c    3.0\n",
      "dtype: float64\n"
     ]
    }
   ],
   "source": [
    "# indexing and slicing\n",
    "print(s1[1])\n",
    "print(s2['a'])\n",
    "\n",
    "print()\n",
    "print(s1[1:])\n",
    "print()\n",
    "print(s2['a':])\n",
    "\n",
    "\n",
    "print()\n",
    "print(s1[1:2])\n",
    "print()\n",
    "print(s2['a':'c'])"
   ]
  },
  {
   "cell_type": "code",
   "execution_count": 10,
   "metadata": {},
   "outputs": [
    {
     "name": "stdout",
     "output_type": "stream",
     "text": [
      "0    False\n",
      "1     True\n",
      "2    False\n",
      "dtype: bool\n",
      "\n",
      "1    2\n",
      "dtype: int8\n",
      "\n",
      "0    1\n",
      "1    2\n",
      "dtype: int8\n",
      "\n",
      "0    3\n",
      "1    2\n",
      "2    3\n",
      "dtype: int8\n"
     ]
    }
   ],
   "source": [
    "# result of operations as index\n",
    "r = s1 % 2 == 0\n",
    "print(r)\n",
    "\n",
    "print()\n",
    "print(s1[r])\n",
    "\n",
    "print()\n",
    "print(s1[ [0,1] ])\n",
    "\n",
    "print()\n",
    "s1[ [0,2] ] = 3\n",
    "print(s1)"
   ]
  },
  {
   "cell_type": "code",
   "execution_count": 11,
   "metadata": {},
   "outputs": [
    {
     "name": "stdout",
     "output_type": "stream",
     "text": [
      "3    2\n",
      "2    1\n",
      "dtype: int64 Int64Index([3, 2], dtype='int64')\n",
      "\n",
      "c    9\n",
      "a    4\n",
      "b    2\n",
      "dtype: int64\n"
     ]
    }
   ],
   "source": [
    "# frequency : value_counts\n",
    "r = s1.value_counts()\n",
    "print(r, r.index)\n",
    "\n",
    "print()\n",
    "s4 = pd.Series(list('abcccccccccabaa'))\n",
    "print(s4.value_counts())"
   ]
  },
  {
   "cell_type": "markdown",
   "metadata": {},
   "source": [
    "## DataFrame"
   ]
  },
  {
   "cell_type": "code",
   "execution_count": 12,
   "metadata": {},
   "outputs": [
    {
     "name": "stdout",
     "output_type": "stream",
     "text": [
      "        Name  Age  Gender\n",
      "0     Gaurav  0.0     0.0\n",
      "1  Abhishek1  1.0     0.0\n",
      "2    Krishna  2.0     0.0\n",
      "3  Abhishek2  2.0     0.0\n",
      "4   Harshita  1.0     1.0\n",
      "5       Joey  2.0     1.0\n",
      "6     Shweta  3.0     1.0\n",
      "7       na-1  1.0     NaN\n",
      "8       na-2  NaN     0.0\n",
      "9        NaN  2.0     0.0\n",
      "\n",
      "         Name  Number\n",
      "0      Gaurav       1\n",
      "11   Abhiskek       2\n",
      "2     Krishna       3\n",
      "3   Abhishek2       4\n"
     ]
    }
   ],
   "source": [
    "# dataframe from dict or list of rows\n",
    "df1 = pd.DataFrame(\n",
    "    {\n",
    "        \"Name\":   [\"Gaurav\", \"Abhishek1\", \"Krishna\", \"Abhishek2\", \"Harshita\", \"Joey\", \"Shweta\", \"na-1\" , \"na-2\"  , np.nan],\n",
    "        \"Age\":    [ 0      , 1          , 2        , 2          , 1         , 2     , 3       , 1      ,  np.nan , 2     ],\n",
    "        \"Gender\": [ 0      , 0          , 0        , 0          , 1         , 1     , 1       , np.nan ,  0      , 0     ]\n",
    "    }\n",
    ")\n",
    "df2 = pd.DataFrame([(\"Gaurav\",1), (\"Abhiskek\",2), (\"Krishna\",3), (\"Abhishek2\",4)],\n",
    "                    index=[0,11,2,3], \n",
    "                    columns=[\"Name\", \"Number\"])\n",
    "print(df1)\n",
    "print()\n",
    "print(df2)"
   ]
  },
  {
   "cell_type": "code",
   "execution_count": 13,
   "metadata": {},
   "outputs": [
    {
     "name": "stdout",
     "output_type": "stream",
     "text": [
      "(10, 3)\n",
      "\n",
      "30\n",
      "\n",
      "Name       object\n",
      "Age       float64\n",
      "Gender    float64\n",
      "dtype: object <class 'pandas.core.series.Series'>\n",
      "\n",
      "RangeIndex(start=0, stop=10, step=1)\n",
      "\n",
      "Index(['Name', 'Age', 'Gender'], dtype='object')\n",
      "\n",
      "             0          1        2          3         4     5       6     7  \\\n",
      "Name    Gaurav  Abhishek1  Krishna  Abhishek2  Harshita  Joey  Shweta  na-1   \n",
      "Age          0          1        2          2         1     2       3     1   \n",
      "Gender       0          0        0          0         1     1       1   NaN   \n",
      "\n",
      "           8    9  \n",
      "Name    na-2  NaN  \n",
      "Age      NaN    2  \n",
      "Gender     0    0  \n",
      "\n",
      "Second one\n",
      "(4, 2)\n",
      "8\n",
      "Name      object\n",
      "Number     int64\n",
      "dtype: object\n",
      "Int64Index([0, 11, 2, 3], dtype='int64')\n",
      "Index(['Name', 'Number'], dtype='object')\n",
      "            0         11       2          3 \n",
      "Name    Gaurav  Abhiskek  Krishna  Abhishek2\n",
      "Number       1         2        3          4\n"
     ]
    }
   ],
   "source": [
    "# shape, size, dtypes, index, columns, T\n",
    "print(df1.shape)\n",
    "print()\n",
    "print(df1.size)\n",
    "print()\n",
    "print(df1.dtypes, type(df1.dtypes))\n",
    "print()\n",
    "print(df1.index)\n",
    "print()\n",
    "print(df1.columns)\n",
    "print()\n",
    "print(df1.T)\n",
    "\n",
    "print()\n",
    "print(\"Second one\")\n",
    "print(df2.shape)\n",
    "print(df2.size)\n",
    "print(df2.dtypes)\n",
    "print(df2.index)\n",
    "print(df2.columns)\n",
    "print(df2.T)"
   ]
  },
  {
   "cell_type": "code",
   "execution_count": 14,
   "metadata": {},
   "outputs": [
    {
     "name": "stdout",
     "output_type": "stream",
     "text": [
      "        Name  Age  Gender\n",
      "0     Gaurav  0.0     0.0\n",
      "1  Abhishek1  1.0     0.0\n",
      "2    Krishna  2.0     0.0\n",
      "3  Abhishek2  2.0     0.0\n",
      "4   Harshita  1.0     1.0\n",
      "5       Joey  2.0     1.0\n",
      "6     Shweta  3.0     1.0\n",
      "7       na-1  1.0     NaN\n",
      "8       na-2  NaN     0.0\n",
      "9        NaN  2.0     0.0\n",
      "\n",
      "         Abc  Age  Gender\n",
      "0     Gaurav  0.0     0.0\n",
      "1  Abhishek1  1.0     0.0\n",
      "2    Krishna  2.0     0.0\n",
      "3  Abhishek2  2.0     0.0\n",
      "4   Harshita  1.0     1.0\n",
      "5       Joey  2.0     1.0\n",
      "6     Shweta  3.0     1.0\n",
      "7       na-1  1.0     NaN\n",
      "8       na-2  NaN     0.0\n",
      "9        NaN  2.0     0.0\n",
      "\n",
      "None\n",
      "         Abc    A  Gender\n",
      "0     Gaurav  0.0     0.0\n",
      "1  Abhishek1  1.0     0.0\n",
      "2    Krishna  2.0     0.0\n",
      "3  Abhishek2  2.0     0.0\n",
      "4   Harshita  1.0     1.0\n",
      "5       Joey  2.0     1.0\n",
      "6     Shweta  3.0     1.0\n",
      "7       na-1  1.0     NaN\n",
      "8       na-2  NaN     0.0\n",
      "9        NaN  2.0     0.0\n"
     ]
    }
   ],
   "source": [
    "# Rename index and columns on df2.\n",
    "# Inplace vs normal operation\n",
    "d = df1.rename(columns = {'Name':'Abc'})\n",
    "print(df1)\n",
    "print()\n",
    "print(d)\n",
    "\n",
    "print()\n",
    "d1 = d.rename(columns = {'Age':'A'}, inplace=True)\n",
    "print(d1)\n",
    "print(d)"
   ]
  },
  {
   "cell_type": "code",
   "execution_count": 15,
   "metadata": {},
   "outputs": [
    {
     "name": "stdout",
     "output_type": "stream",
     "text": [
      "         Name  Age  Gender\n",
      "0      Gaurav  0.0     0.0\n",
      "1   Abhishek1  1.0     0.0\n",
      "2     Krishna  2.0     0.0\n",
      "3   Abhishek2  2.0     0.0\n",
      "4    Harshita  1.0     1.0\n",
      "50       Joey  2.0     1.0\n",
      "6      Shweta  3.0     1.0\n",
      "7        na-1  1.0     NaN\n",
      "8        na-2  NaN     0.0\n",
      "9         NaN  2.0     0.0\n",
      "\n",
      "           N    A    G\n",
      "0     Gaurav  0.0  0.0\n",
      "1  Abhishek1  1.0  0.0\n",
      "2    Krishna  2.0  0.0\n",
      "3  Abhishek2  2.0  0.0\n",
      "4   Harshita  1.0  1.0\n",
      "5       Joey  2.0  1.0\n",
      "6     Shweta  3.0  1.0\n",
      "7       na-1  1.0  NaN\n",
      "8       na-2  NaN  0.0\n",
      "9        NaN  2.0  0.0\n",
      "\n",
      "           n    a    g\n",
      "0     Gaurav  0.0  0.0\n",
      "1  Abhishek1  1.0  0.0\n",
      "2    Krishna  2.0  0.0\n",
      "3  Abhishek2  2.0  0.0\n",
      "4   Harshita  1.0  1.0\n",
      "5       Joey  2.0  1.0\n",
      "6     Shweta  3.0  1.0\n",
      "7       na-1  1.0  NaN\n",
      "8       na-2  NaN  0.0\n",
      "9        NaN  2.0  0.0\n"
     ]
    }
   ],
   "source": [
    "print(df1.rename(index={5:50}))\n",
    "\n",
    "print()\n",
    "d.columns = ['N',\"A\",\"G\"]\n",
    "print(d)\n",
    "\n",
    "print()\n",
    "print(d.rename(lambda x: x.lower(), axis=1))"
   ]
  },
  {
   "cell_type": "code",
   "execution_count": 16,
   "metadata": {},
   "outputs": [
    {
     "name": "stdout",
     "output_type": "stream",
     "text": [
      "0       Gaurav\n",
      "1    Abhishek1\n",
      "2      Krishna\n",
      "3    Abhishek2\n",
      "4     Harshita\n",
      "5         Joey\n",
      "6       Shweta\n",
      "7         na-1\n",
      "8         na-2\n",
      "9          NaN\n",
      "Name: Name, dtype: object\n",
      "0       Gaurav\n",
      "1    Abhishek1\n",
      "2      Krishna\n",
      "3    Abhishek2\n",
      "4     Harshita\n",
      "5         Joey\n",
      "6       Shweta\n",
      "7         na-1\n",
      "8         na-2\n",
      "9          NaN\n",
      "Name: Name, dtype: object\n"
     ]
    }
   ],
   "source": [
    "# Indexing columns directly and via index.\n",
    "print(df1.Name) # only for valid non-numeric names\n",
    "print(df1['Name'])"
   ]
  },
  {
   "cell_type": "code",
   "execution_count": 17,
   "metadata": {
    "scrolled": true
   },
   "outputs": [
    {
     "name": "stdout",
     "output_type": "stream",
     "text": [
      "<class 'pandas.core.series.Series'>\n",
      "\n",
      "[ 0.  1.  2.  3. nan]\n",
      "\n",
      "2.0    4\n",
      "1.0    3\n",
      "3.0    1\n",
      "0.0    1\n",
      "Name: Age, dtype: int64\n"
     ]
    }
   ],
   "source": [
    "# Series in a DataFrame\n",
    "print(type(df1.Name))\n",
    "print()\n",
    "print(df1.Age.unique())\n",
    "print()\n",
    "print(df1.Age.value_counts())"
   ]
  },
  {
   "cell_type": "code",
   "execution_count": 18,
   "metadata": {},
   "outputs": [
    {
     "name": "stdout",
     "output_type": "stream",
     "text": [
      "             Name       Age    Gender\n",
      "count           9  9.000000  9.000000\n",
      "unique          9       NaN       NaN\n",
      "top     Abhishek2       NaN       NaN\n",
      "freq            1       NaN       NaN\n",
      "mean          NaN  1.555556  0.333333\n",
      "std           NaN  0.881917  0.500000\n",
      "min           NaN  0.000000  0.000000\n",
      "25%           NaN  1.000000  0.000000\n",
      "50%           NaN  2.000000  0.000000\n",
      "75%           NaN  2.000000  1.000000\n",
      "max           NaN  3.000000  1.000000\n",
      "\n",
      "        Name  Age  Gender\n",
      "0     Gaurav  0.0     0.0\n",
      "1  Abhishek1  1.0     0.0\n",
      "2    Krishna  2.0     0.0\n",
      "3  Abhishek2  2.0     0.0\n",
      "4   Harshita  1.0     1.0\n",
      "\n",
      "        Name  Age  Gender\n",
      "0     Gaurav  0.0     0.0\n",
      "1  Abhishek1  1.0     0.0\n",
      "2    Krishna  2.0     0.0\n",
      "\n",
      "     Name  Age  Gender\n",
      "5    Joey  2.0     1.0\n",
      "6  Shweta  3.0     1.0\n",
      "7    na-1  1.0     NaN\n",
      "8    na-2  NaN     0.0\n",
      "9     NaN  2.0     0.0\n"
     ]
    }
   ],
   "source": [
    "# describe, top/bottom rows of data\n",
    "print(df1.describe(include='all'))\n",
    "\n",
    "print()\n",
    "print(df1.head())\n",
    "\n",
    "print()\n",
    "print(df1.head(3))\n",
    "\n",
    "print()\n",
    "print(df1.tail())"
   ]
  },
  {
   "cell_type": "code",
   "execution_count": 19,
   "metadata": {},
   "outputs": [],
   "source": [
    "# indexing and slicing\n",
    "# loc, iloc [rows, cols]"
   ]
  },
  {
   "cell_type": "code",
   "execution_count": 20,
   "metadata": {
    "scrolled": true
   },
   "outputs": [
    {
     "name": "stdout",
     "output_type": "stream",
     "text": [
      "Name      Gaurav\n",
      "Age            0\n",
      "Gender         0\n",
      "Name: 0, dtype: object\n",
      "\n",
      "        Name  Age  Gender\n",
      "0     Gaurav  0.0     0.0\n",
      "1  Abhishek1  1.0     0.0\n",
      "2    Krishna  2.0     0.0\n",
      "3  Abhishek2  2.0     0.0\n",
      "\n",
      "       Name  Gender\n",
      "0    Gaurav     0.0\n",
      "2   Krishna     0.0\n",
      "4  Harshita     1.0\n",
      "6    Shweta     1.0\n",
      "8      na-2     0.0\n",
      "\n",
      "        Name  Age\n",
      "1  Abhishek1  1.0\n",
      "2    Krishna  2.0\n",
      "3  Abhishek2  2.0\n"
     ]
    }
   ],
   "source": [
    "# loc\n",
    "print(df1.loc[0])\n",
    "print()\n",
    "print(df1.loc[:3])\n",
    "print()\n",
    "print(df1.loc[::2, 'Name'::2])\n",
    "print()\n",
    "print(df1.loc[1:3, 'Name':'Age'])"
   ]
  },
  {
   "cell_type": "code",
   "execution_count": 21,
   "metadata": {},
   "outputs": [
    {
     "name": "stdout",
     "output_type": "stream",
     "text": [
      "         Name  Number\n",
      "0      Gaurav       1\n",
      "11   Abhiskek       2\n",
      "2     Krishna       3\n",
      "3   Abhishek2       4\n",
      "\n",
      "Name      Abhiskek\n",
      "Number           2\n",
      "Name: 11, dtype: object\n",
      "\n",
      "0        Gaurav\n",
      "11     Abhiskek\n",
      "2       Krishna\n",
      "3     Abhishek2\n",
      "Name: Name, dtype: object\n",
      "\n",
      "    Number\n",
      "0        1\n",
      "11       2\n",
      "2        3\n",
      "3        4\n",
      "\n",
      "         Name  Number\n",
      "11   Abhiskek       2\n",
      "2     Krishna       3\n",
      "3   Abhishek2       4\n"
     ]
    }
   ],
   "source": [
    "# iloc\n",
    "print(df2)\n",
    "print()\n",
    "print(df2.iloc[1])\n",
    "print()\n",
    "print(df2.iloc[:,0])\n",
    "print()\n",
    "print(df2.iloc[:,1:])\n",
    "print()\n",
    "print(df2.iloc[:][1:]) # different"
   ]
  },
  {
   "cell_type": "code",
   "execution_count": 22,
   "metadata": {},
   "outputs": [
    {
     "name": "stdout",
     "output_type": "stream",
     "text": [
      "Age       0.0\n",
      "Gender    0.0\n",
      "dtype: float64\n",
      "\n",
      "0    0.0\n",
      "1    0.0\n",
      "2    0.0\n",
      "3    0.0\n",
      "4    1.0\n",
      "5    1.0\n",
      "6    1.0\n",
      "7    1.0\n",
      "8    0.0\n",
      "9    0.0\n",
      "dtype: float64\n",
      "\n",
      "0    3\n",
      "1    3\n",
      "2    3\n",
      "3    3\n",
      "4    3\n",
      "5    3\n",
      "6    3\n",
      "7    2\n",
      "8    2\n",
      "9    2\n",
      "dtype: int64\n",
      "     Name  Age  Gender\n",
      "5    Joey  2.0     1.0\n",
      "6  Shweta  3.0     1.0\n",
      "7    na-1  1.0     NaN\n",
      "8    na-2  NaN     0.0\n",
      "9     NaN  2.0     0.0\n"
     ]
    }
   ],
   "source": [
    "# aggregate operations (with and without axis : row-1, col-0)\n",
    "# min, max, count, ...\n",
    "print(df1.min())\n",
    "print()\n",
    "print(df1.min(axis=1))\n",
    "print()\n",
    "print(df1.count(axis=1))\n",
    "print(df1.tail())"
   ]
  },
  {
   "cell_type": "code",
   "execution_count": 23,
   "metadata": {},
   "outputs": [
    {
     "name": "stdout",
     "output_type": "stream",
     "text": [
      "                 Name  Age  Gender\n",
      "0        GauravGaurav  0.0     0.0\n",
      "1  Abhishek1Abhishek1  2.0     0.0\n",
      "2      KrishnaKrishna  4.0     0.0\n",
      "3  Abhishek2Abhishek2  4.0     0.0\n",
      "4    HarshitaHarshita  2.0     2.0\n",
      "5            JoeyJoey  4.0     2.0\n",
      "6        ShwetaShweta  6.0     2.0\n",
      "7            na-1na-1  2.0     NaN\n",
      "8            na-2na-2  NaN     0.0\n",
      "9                 NaN  4.0     0.0\n"
     ]
    }
   ],
   "source": [
    "# arithmetic operations\n",
    "print(df1*2)\n",
    "# print(df1-2) # doesn't work since Name column is a string"
   ]
  },
  {
   "cell_type": "code",
   "execution_count": 24,
   "metadata": {},
   "outputs": [
    {
     "name": "stdout",
     "output_type": "stream",
     "text": [
      "Name      True\n",
      "Age       True\n",
      "Gender    True\n",
      "dtype: bool\n",
      "\n",
      "0    False\n",
      "1    False\n",
      "2    False\n",
      "3    False\n",
      "4    False\n",
      "5    False\n",
      "6    False\n",
      "7     True\n",
      "8     True\n",
      "9     True\n",
      "dtype: bool\n",
      "\n",
      "Name      1\n",
      "Age       1\n",
      "Gender    1\n",
      "dtype: int64\n"
     ]
    }
   ],
   "source": [
    "# Na Values: isna, fillna, dropna\n",
    "print(df1.isna().any())\n",
    "print()\n",
    "print(df1.isna().any(axis=1))\n",
    "print()\n",
    "print(df1.isna().sum())"
   ]
  },
  {
   "cell_type": "code",
   "execution_count": 25,
   "metadata": {},
   "outputs": [
    {
     "name": "stdout",
     "output_type": "stream",
     "text": [
      "     Name  Age  Gender\n",
      "5    Joey  2.0     1.0\n",
      "6  Shweta  3.0     1.0\n",
      "7    na-1  1.0     NaN\n",
      "8    na-2  NaN     0.0\n",
      "9     NaN  2.0     0.0\n",
      "\n",
      "     Name  Age  Gender\n",
      "5    Joey  2.0     1.0\n",
      "6  Shweta  3.0     1.0\n",
      "7    na-1  1.0     1.0\n",
      "8    na-2  1.0     0.0\n",
      "9    na-2  2.0     0.0\n",
      "\n",
      "0       Gaurav\n",
      "1    Abhishek1\n",
      "2      Krishna\n",
      "3    Abhishek2\n",
      "4     Harshita\n",
      "5         Joey\n",
      "6       Shweta\n",
      "7         na-1\n",
      "8         na-2\n",
      "9            -\n",
      "Name: Name, dtype: object\n",
      "        Name  Age  Gender\n",
      "0     Gaurav  0.0     0.0\n",
      "1  Abhishek1  1.0     0.0\n",
      "2    Krishna  2.0     0.0\n",
      "3  Abhishek2  2.0     0.0\n",
      "4   Harshita  1.0     1.0\n",
      "5       Joey  2.0     1.0\n",
      "6     Shweta  3.0     1.0\n",
      "7       na-1  1.0     NaN\n",
      "8       na-2  NaN     0.0\n",
      "9        NaN  2.0     0.0\n"
     ]
    }
   ],
   "source": [
    "# fillna\n",
    "print(df1.tail())\n",
    "print()\n",
    "r = df1.fillna(method='ffill')#,inplace=True)\n",
    "print(r.tail())\n",
    "\n",
    "print()\n",
    "r = df1.Name.fillna('-')\n",
    "print(r)\n",
    "\n",
    "print(df1)\n",
    "\n"
   ]
  },
  {
   "cell_type": "code",
   "execution_count": 26,
   "metadata": {},
   "outputs": [
    {
     "name": "stdout",
     "output_type": "stream",
     "text": [
      "        Name  Age  Gender\n",
      "0     Gaurav  0.0     0.0\n",
      "1  Abhishek1  1.0     0.0\n",
      "2    Krishna  2.0     0.0\n",
      "3  Abhishek2  2.0     0.0\n",
      "4   Harshita  1.0     1.0\n",
      "5       Joey  2.0     1.0\n",
      "6     Shweta  3.0     1.0\n",
      "\n",
      "Empty DataFrame\n",
      "Columns: []\n",
      "Index: [0, 1, 2, 3, 4, 5, 6, 7, 8, 9]\n",
      "\n",
      "        Name  Age  Gender\n",
      "0     Gaurav  0.0     0.0\n",
      "1  Abhishek1  1.0     0.0\n",
      "2    Krishna  2.0     0.0\n",
      "3  Abhishek2  2.0     0.0\n",
      "4   Harshita  1.0     1.0\n",
      "5       Joey  2.0     1.0\n",
      "6     Shweta  3.0     1.0\n",
      "7       na-1  1.0     NaN\n",
      "8       na-2  NaN     0.0\n",
      "9        NaN  2.0     0.0\n"
     ]
    }
   ],
   "source": [
    "# dropna\n",
    "r = df1.dropna()\n",
    "print(r)\n",
    "print()\n",
    "r = df1.dropna(axis=1)\n",
    "print(r)\n",
    "print()\n",
    "r = df1.dropna(axis=1, how = 'all')\n",
    "print(r)"
   ]
  },
  {
   "cell_type": "code",
   "execution_count": 27,
   "metadata": {},
   "outputs": [],
   "source": [
    "# any, all"
   ]
  },
  {
   "cell_type": "code",
   "execution_count": 28,
   "metadata": {},
   "outputs": [
    {
     "name": "stdout",
     "output_type": "stream",
     "text": [
      "        Name  Age  Gender\n",
      "1  Abhishek1  1.0     0.0\n",
      "3  Abhishek2  2.0     0.0\n",
      "0     Gaurav  0.0     0.0\n",
      "4   Harshita  1.0     1.0\n",
      "5       Joey  2.0     1.0\n",
      "2    Krishna  2.0     0.0\n",
      "6     Shweta  3.0     1.0\n",
      "7       na-1  1.0     NaN\n",
      "8       na-2  NaN     0.0\n",
      "9        NaN  2.0     0.0\n",
      "\n",
      "        Name  Age  Gender\n",
      "0     Gaurav  0.0     0.0\n",
      "7       na-1  1.0     NaN\n",
      "4   Harshita  1.0     1.0\n",
      "1  Abhishek1  1.0     0.0\n",
      "2    Krishna  2.0     0.0\n",
      "5       Joey  2.0     1.0\n",
      "3  Abhishek2  2.0     0.0\n",
      "9        NaN  2.0     0.0\n",
      "6     Shweta  3.0     1.0\n",
      "8       na-2  NaN     0.0\n"
     ]
    }
   ],
   "source": [
    "# ordering data, sort_values\n",
    "print(df1.sort_values(by='Name'))\n",
    "print()\n",
    "print(df1.sort_values(by=['Age','Name'], ascending=[True, False]))"
   ]
  },
  {
   "cell_type": "code",
   "execution_count": 29,
   "metadata": {},
   "outputs": [],
   "source": [
    "# row / column wise operation: apply\n",
    "tmp = pd.DataFrame(np.random.randint(10,20,20).reshape(5,4))"
   ]
  },
  {
   "cell_type": "code",
   "execution_count": 30,
   "metadata": {},
   "outputs": [
    {
     "name": "stdout",
     "output_type": "stream",
     "text": [
      "    0   1   2   3\n",
      "0  17  10  16  18\n",
      "1  19  13  14  11\n",
      "2  14  13  17  17\n",
      "3  14  12  15  13\n",
      "4  16  10  17  19\n",
      "0    80\n",
      "1    58\n",
      "2    79\n",
      "3    78\n",
      "dtype: int64\n",
      "\n",
      "0    61\n",
      "1    57\n",
      "2    61\n",
      "3    54\n",
      "4    62\n",
      "dtype: int64\n",
      "\n",
      "     0    1    2    3\n",
      "0  289  100  256  324\n",
      "1  361  169  196  121\n",
      "2  196  169  289  289\n",
      "3  196  144  225  169\n",
      "4  256  100  289  361\n"
     ]
    }
   ],
   "source": [
    "print(tmp)\n",
    "print(tmp.apply(sum))\n",
    "print()\n",
    "print(tmp.apply(sum, axis=1))\n",
    "print()\n",
    "print(tmp.apply(lambda x : x**2, axis=1))"
   ]
  },
  {
   "cell_type": "code",
   "execution_count": 31,
   "metadata": {},
   "outputs": [
    {
     "name": "stdout",
     "output_type": "stream",
     "text": [
      "0       gaurav\n",
      "1    abhishek1\n",
      "2      krishna\n",
      "3    abhishek2\n",
      "4     harshita\n",
      "5         joey\n",
      "6       shweta\n",
      "7         na-1\n",
      "8         na-2\n",
      "9          NaN\n",
      "Name: Name, dtype: object\n",
      "['__annotations__', '__class__', '__delattr__', '__dict__', '__dir__', '__doc__', '__eq__', '__format__', '__frozen', '__ge__', '__getattribute__', '__getitem__', '__gt__', '__hash__', '__init__', '__init_subclass__', '__iter__', '__le__', '__lt__', '__module__', '__ne__', '__new__', '__reduce__', '__reduce_ex__', '__repr__', '__setattr__', '__sizeof__', '__str__', '__subclasshook__', '__weakref__', '_doc_args', '_freeze', '_get_series_list', '_inferred_dtype', '_is_categorical', '_is_string', '_make_accessor', '_orig', '_parent', '_validate', '_wrap_result', 'capitalize', 'casefold', 'cat', 'center', 'contains', 'count', 'decode', 'encode', 'endswith', 'extract', 'extractall', 'find', 'findall', 'get', 'get_dummies', 'index', 'isalnum', 'isalpha', 'isdecimal', 'isdigit', 'islower', 'isnumeric', 'isspace', 'istitle', 'isupper', 'join', 'len', 'ljust', 'lower', 'lstrip', 'match', 'normalize', 'pad', 'partition', 'repeat', 'replace', 'rfind', 'rindex', 'rjust', 'rpartition', 'rsplit', 'rstrip', 'slice', 'slice_replace', 'split', 'startswith', 'strip', 'swapcase', 'title', 'translate', 'upper', 'wrap', 'zfill']\n"
     ]
    }
   ],
   "source": [
    "# str submodule (replace etc)\n",
    "print(df1.Name.str.lower())\n",
    "print(dir(df1.Name.str))"
   ]
  },
  {
   "cell_type": "code",
   "execution_count": 32,
   "metadata": {},
   "outputs": [],
   "source": [
    "# load and save data"
   ]
  },
  {
   "cell_type": "code",
   "execution_count": 33,
   "metadata": {},
   "outputs": [
    {
     "name": "stdout",
     "output_type": "stream",
     "text": [
      "<pandas.core.groupby.generic.DataFrameGroupBy object at 0x000001D7DB0F6048>\n",
      "{0.0: Int64Index([0], dtype='int64'), 1.0: Int64Index([1, 4, 7], dtype='int64'), 2.0: Int64Index([2, 3, 5, 9], dtype='int64'), 3.0: Int64Index([6], dtype='int64')}\n",
      "Age\n",
      "0.0    0.0\n",
      "1.0    3.0\n",
      "2.0    8.0\n",
      "3.0    3.0\n",
      "Name: Age, dtype: float64\n",
      "\n",
      "Age\n",
      "0.0    1\n",
      "1.0    3\n",
      "2.0    4\n",
      "3.0    1\n",
      "Name: Age, dtype: int64\n",
      "\n",
      "14.0\n"
     ]
    }
   ],
   "source": [
    "# groups: groupby\n",
    "grp  = df1.groupby(by=['Age'])\n",
    "print(grp)\n",
    "print(grp.groups)\n",
    "\n",
    "print(grp.Age.sum())\n",
    "\n",
    "print()\n",
    "print(grp.Age.count())\n",
    "\n",
    "print()\n",
    "print(df1.Age.sum())"
   ]
  },
  {
   "cell_type": "code",
   "execution_count": 34,
   "metadata": {},
   "outputs": [
    {
     "name": "stdout",
     "output_type": "stream",
     "text": [
      "<pandas.core.groupby.generic.DataFrameGroupBy object at 0x000001D7DB11CA08>\n",
      "{(0.0, 0.0): Int64Index([0], dtype='int64'), (1.0, 0.0): Int64Index([1], dtype='int64'), (1.0, 1.0): Int64Index([4], dtype='int64'), (1.0, nan): Int64Index([7], dtype='int64'), (2.0, 0.0): Int64Index([2, 3, 9], dtype='int64'), (2.0, 1.0): Int64Index([5], dtype='int64'), (3.0, 1.0): Int64Index([6], dtype='int64'), (nan, 0.0): Int64Index([8], dtype='int64')}\n",
      "\n",
      "['Age', 'Gender', 'Name', '__annotations__', '__class__', '__delattr__', '__dict__', '__dir__', '__doc__', '__eq__', '__format__', '__ge__', '__getattr__', '__getattribute__', '__getitem__', '__gt__', '__hash__', '__init__', '__init_subclass__', '__iter__', '__le__', '__len__', '__lt__', '__module__', '__ne__', '__new__', '__reduce__', '__reduce_ex__', '__repr__', '__setattr__', '__sizeof__', '__str__', '__subclasshook__', '__weakref__', '_accessors', '_add_numeric_operations', '_agg_examples_doc', '_agg_see_also_doc', '_aggregate', '_aggregate_frame', '_aggregate_item_by_item', '_aggregate_multiple_funcs', '_apply_filter', '_apply_to_column_groupbys', '_apply_whitelist', '_assure_grouper', '_bool_agg', '_builtin_table', '_choose_path', '_concat_objects', '_constructor', '_cumcount_array', '_cython_agg_blocks', '_cython_agg_general', '_cython_table', '_cython_transform', '_define_paths', '_deprecations', '_dir_additions', '_dir_deletions', '_ensure_type', '_fill', '_get_cython_func', '_get_cythonized_result', '_get_data_to_aggregate', '_get_index', '_get_indices', '_gotitem', '_group_selection', '_insert_inaxis_grouper_inplace', '_internal_names', '_internal_names_set', '_is_builtin_func', '_iterate_column_groupbys', '_iterate_slices', '_make_wrapper', '_obj_with_exclusions', '_python_agg_general', '_python_apply_general', '_reindex_output', '_reset_cache', '_reset_group_selection', '_selected_obj', '_selection', '_selection_list', '_selection_name', '_set_group_selection', '_set_result_index_ordered', '_transform_fast', '_transform_general', '_transform_item_by_item', '_transform_should_cast', '_try_aggregate_string_function', '_try_cast', '_wrap_agged_blocks', '_wrap_aggregated_output', '_wrap_applied_output', '_wrap_frame_output', '_wrap_transformed_output', 'agg', 'aggregate', 'all', 'any', 'apply', 'backfill', 'bfill', 'boxplot', 'corr', 'corrwith', 'count', 'cov', 'cumcount', 'cummax', 'cummin', 'cumprod', 'cumsum', 'describe', 'diff', 'dtypes', 'expanding', 'ffill', 'fillna', 'filter', 'first', 'get_group', 'groups', 'head', 'hist', 'idxmax', 'idxmin', 'indices', 'last', 'mad', 'max', 'mean', 'median', 'min', 'ndim', 'ngroup', 'ngroups', 'nth', 'nunique', 'ohlc', 'pad', 'pct_change', 'pipe', 'plot', 'prod', 'quantile', 'rank', 'resample', 'rolling', 'sem', 'shift', 'size', 'skew', 'std', 'sum', 'tail', 'take', 'transform', 'tshift', 'var']\n"
     ]
    }
   ],
   "source": [
    "\n",
    "grp  = df1.groupby(by=['Age','Gender'])\n",
    "print(grp)\n",
    "print(grp.groups)\n",
    "print()\n",
    "print(dir(grp))"
   ]
  },
  {
   "cell_type": "code",
   "execution_count": 35,
   "metadata": {},
   "outputs": [],
   "source": [
    "# groups and aggregates"
   ]
  }
 ],
 "metadata": {
  "kernelspec": {
   "display_name": "Python 3",
   "language": "python",
   "name": "python3"
  },
  "language_info": {
   "codemirror_mode": {
    "name": "ipython",
    "version": 3
   },
   "file_extension": ".py",
   "mimetype": "text/x-python",
   "name": "python",
   "nbconvert_exporter": "python",
   "pygments_lexer": "ipython3",
   "version": "3.7.6"
  }
 },
 "nbformat": 4,
 "nbformat_minor": 2
}
