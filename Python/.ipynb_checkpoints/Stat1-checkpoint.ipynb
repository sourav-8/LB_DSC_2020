{
 "cells": [
  {
   "cell_type": "code",
   "execution_count": 14,
   "metadata": {},
   "outputs": [
    {
     "name": "stdout",
     "output_type": "stream",
     "text": [
      "[[[ 79  38  39  94  91]\n",
      "  [ 12  90  31   8  82]\n",
      "  [109  89  14 106  80]\n",
      "  [ 23  80  69  61  14]\n",
      "  [ 75 122  84  74  69]]\n",
      "\n",
      " [[ 28 102  64  26 115]\n",
      "  [ 93 101  79  29 111]\n",
      "  [ 83  41  60   7   2]\n",
      "  [  8  56  13  58 101]\n",
      "  [ 92  13  39  74 118]]\n",
      "\n",
      " [[ 25  15  89  67  69]\n",
      "  [ 80  67  39 119  33]\n",
      "  [ 22  36  75 123 123]\n",
      "  [ 90  43 112  68  59]\n",
      "  [103  67  23 101  30]]\n",
      "\n",
      " [[105  11  80 112  33]\n",
      "  [ 91  95  56  30  11]\n",
      "  [117  41  50  68  79]\n",
      "  [ 67 111   4 116  58]\n",
      "  [ 73  93  92   5  16]]\n",
      "\n",
      " [[ 85  22 123  65  27]\n",
      "  [ 57  81  92  15  98]\n",
      "  [ 34  16   9  18   5]\n",
      "  [ 13  35   1  63  19]\n",
      "  [ 42   3  49  93  72]]]\n"
     ]
    }
   ],
   "source": [
    "import numpy as np\n",
    "\n",
    "s = np.random.randint(1,125,125).reshape(5,5,5)\n",
    "print(s)"
   ]
  },
  {
   "cell_type": "code",
   "execution_count": 19,
   "metadata": {},
   "outputs": [
    {
     "data": {
      "text/plain": [
       "array([[13,  0,  0,  0,  0],\n",
       "       [20,  1,  0,  0,  0],\n",
       "       [11, 17, 19,  0,  0],\n",
       "       [11, 17, 12, 17,  0],\n",
       "       [ 4,  3,  5, 18, 21]])"
      ]
     },
     "execution_count": 19,
     "metadata": {},
     "output_type": "execute_result"
    }
   ],
   "source": [
    "a = np.random.randint(0,25,25).reshape(5,5)\n",
    "\n",
    "np.triu(a)\n",
    "np.tril(a)"
   ]
  },
  {
   "cell_type": "code",
   "execution_count": 22,
   "metadata": {},
   "outputs": [
    {
     "name": "stdout",
     "output_type": "stream",
     "text": [
      "Not Matched\n"
     ]
    }
   ],
   "source": [
    "M1 = np.random.randint(1,16,16).reshape(4,4)\n",
    "MT1 = M1.T\n",
    "comparison = M1 == MT1\n",
    "\n",
    "if comparison.all() == True:\n",
    "    print(\"Value matched\")\n",
    "else:\n",
    "    print(\"Not Matched\")"
   ]
  },
  {
   "cell_type": "code",
   "execution_count": null,
   "metadata": {},
   "outputs": [],
   "source": [
    "a = np.random.randint(1,4,4).reshape(2,2)\n",
    "b = np.random.randint(1,6,6).reshape(2,3)\n",
    "c = a*b\n",
    "p"
   ]
  },
  {
   "cell_type": "code",
   "execution_count": null,
   "metadata": {},
   "outputs": [],
   "source": []
  },
  {
   "cell_type": "code",
   "execution_count": 15,
   "metadata": {},
   "outputs": [
    {
     "data": {
      "text/plain": [
       "array([[1., 0., 0., 0., 0.],\n",
       "       [0., 1., 0., 0., 0.],\n",
       "       [0., 0., 1., 0., 0.],\n",
       "       [0., 0., 0., 1., 0.],\n",
       "       [0., 0., 0., 0., 1.]])"
      ]
     },
     "execution_count": 15,
     "metadata": {},
     "output_type": "execute_result"
    }
   ],
   "source": [
    "np.eye(5)"
   ]
  },
  {
   "cell_type": "code",
   "execution_count": 13,
   "metadata": {},
   "outputs": [
    {
     "data": {
      "text/plain": [
       "(10, 10)"
      ]
     },
     "execution_count": 13,
     "metadata": {},
     "output_type": "execute_result"
    }
   ],
   "source": [
    "np.shape(s)"
   ]
  }
 ],
 "metadata": {
  "kernelspec": {
   "display_name": "Python 3",
   "language": "python",
   "name": "python3"
  },
  "language_info": {
   "codemirror_mode": {
    "name": "ipython",
    "version": 3
   },
   "file_extension": ".py",
   "mimetype": "text/x-python",
   "name": "python",
   "nbconvert_exporter": "python",
   "pygments_lexer": "ipython3",
   "version": "3.7.6"
  }
 },
 "nbformat": 4,
 "nbformat_minor": 4
}
