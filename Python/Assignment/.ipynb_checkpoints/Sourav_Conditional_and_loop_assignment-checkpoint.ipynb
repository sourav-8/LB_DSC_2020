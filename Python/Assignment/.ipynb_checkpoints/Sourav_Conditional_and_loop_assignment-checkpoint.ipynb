{
 "cells": [
  {
   "cell_type": "markdown",
   "metadata": {
    "colab_type": "text",
    "id": "wNRNTbrsc53d"
   },
   "source": [
    "# If - elif - else statement"
   ]
  },
  {
   "cell_type": "code",
   "execution_count": 5,
   "metadata": {
    "colab": {},
    "colab_type": "code",
    "id": "MiPfTnBycxNa"
   },
   "outputs": [
    {
     "name": "stdout",
     "output_type": "stream",
     "text": [
      "Enter a number: 8\n",
      "Eight\n"
     ]
    }
   ],
   "source": [
    "#W. A P. which takes one number from 0 to 9 from the user and prints it in the word. And if the word is not from 0 to 9 then\n",
    "#it should print that number is outside of the range and program should exit.\n",
    "# For exapmple:- \n",
    "# input = 1\n",
    "# output = one\n",
    "\n",
    "user_input = int(input(\"Enter a number: \"))\n",
    "if user_input == 1:\n",
    "    print(\"One\")\n",
    "elif user_input == 2:\n",
    "    print(\"Two\")\n",
    "elif user_input == 3:\n",
    "    print(\"Three\")\n",
    "elif user_input == 4:\n",
    "    print(\"Four\")\n",
    "elif user_input == 5:\n",
    "    print(\"Five\")\n",
    "elif user_input == 6:\n",
    "    print(\"Six\")\n",
    "elif user_input == 7:\n",
    "    print(\"Seven\")\n",
    "elif user_input == 8:\n",
    "    print(\"Eight\")\n",
    "elif user_input == 9:\n",
    "    print(\"Nine\")\n",
    "else:\n",
    "    print(\"The number is outside of the range\")"
   ]
  },
  {
   "cell_type": "code",
   "execution_count": 27,
   "metadata": {
    "colab": {},
    "colab_type": "code",
    "id": "vEMNOv9zdA39"
   },
   "outputs": [
    {
     "name": "stdout",
     "output_type": "stream",
     "text": [
      "Enter a number 1: 5\n",
      "Enter a number 2: 3\n",
      "Please select any one operation from below:-\n",
      "         * To add enter 1\n",
      "         * to subtract enter 2\n",
      "         * To multiply enter 3\n",
      "         * To divide enter 4\n",
      "         * To divide and find quotient enter 5\n",
      "         * To divide and find remainder enter 6\n",
      "         * To divide and find num1 to the power of num2 enter 7\n",
      "         * To Come out of the program enter 8\n",
      "\n",
      "6\n",
      "2\n"
     ]
    }
   ],
   "source": [
    "#W. A P. to implement calculator but the operation to be done and two numbers will be taken as input from user:-\n",
    "#Operation console should show below:-\n",
    "#     Please select any one operation from below:-\n",
    "#         * To add enter 1\n",
    "#         * to subtract enter 2\n",
    "#         * To multiply enter 3\n",
    "#         * To divide enter 4\n",
    "#         * To divide and find quotient enter 5\n",
    "#         * To divide and find remainder enter 6\n",
    "#         * To divide and find num1 to the power of num2 enter 7\n",
    "#         * To Come out of the program enter 8\n",
    "\n",
    "\n",
    "    \n",
    "user_input1 = int(input(\"Enter a number 1: \"))\n",
    "user_input2 = int(input(\"Enter a number 2: \"))\n",
    "user_input3 = int(input('''Please select any one operation from below:-\n",
    "         * To add enter 1\n",
    "         * to subtract enter 2\n",
    "         * To multiply enter 3\n",
    "         * To divide enter 4\n",
    "         * To divide and find quotient enter 5\n",
    "         * To divide and find remainder enter 6\n",
    "         * To divide and find num1 to the power of num2 enter 7\n",
    "         * To Come out of the program enter 8\n",
    "\n",
    "'''))\n",
    "while(1):\n",
    "  \n",
    "    if user_input3 == 1:\n",
    "        print(user_input1+user_input2)\n",
    "        break\n",
    "    elif user_input3 == 2:\n",
    "        if user_input1>user_input2:\n",
    "            print(user_input1-user_input2)\n",
    "            break\n",
    "        else:\n",
    "            print(user_input2-user_input1)\n",
    "            break\n",
    "    elif user_input3 == 3:\n",
    "        print(user_input1*user_input2)\n",
    "        break\n",
    "    elif user_input3 == 4:\n",
    "        print(user_input1/user_input2)\n",
    "        break\n",
    "    elif user_input3 == 5:\n",
    "        print(user_input1//user_input2)\n",
    "        break\n",
    "    elif user_input3 == 6:\n",
    "        print(user_input1%user_input2)\n",
    "        break\n",
    "    elif user_input3 == 7:\n",
    "        print(user_input1**user_input2)\n",
    "        break\n",
    "    elif user_input3 == 8:\n",
    "        print(\"out of the program\")\n",
    "        break   \n",
    "    else:\n",
    "        print(\"Enter valid option\")\n",
    "        break\n",
    "\n",
    "\n"
   ]
  },
  {
   "cell_type": "code",
   "execution_count": 43,
   "metadata": {
    "colab": {},
    "colab_type": "code",
    "id": "1e2gwYLqdC1s"
   },
   "outputs": [
    {
     "name": "stdout",
     "output_type": "stream",
     "text": [
      "Enter a yeat to check leap-year: 1900\n",
      "Not Leap Year\n"
     ]
    }
   ],
   "source": [
    "#W A P to check whether a year entered by user is an leap year or not?\n",
    "#Check with below input:-\n",
    "    #leap year:- 2012, 1968, 2004, 1200, 1600,2400\n",
    "    #Non-lear year:- 1971, 2006, 1700,1800,1900\n",
    "# Find a year whether it is a leap year or not\n",
    "\n",
    "\n",
    "input1 = int(input(\"Enter a year to check leap-year: \"))\n",
    "if input1%4 == 0:\n",
    "    if input1%100 == 0:\n",
    "        if input1%400 == 0:\n",
    "            print(\"Leap Year\")\n",
    "        else:\n",
    "            print(\"Not Leap Year\")\n",
    "    else:\n",
    "         print(\"Leap Year\")\n",
    "else:\n",
    "    print(\"Not Leap Year\")\n",
    "\n",
    "    \n"
   ]
  },
  {
   "cell_type": "code",
   "execution_count": 3,
   "metadata": {
    "colab": {},
    "colab_type": "code",
    "id": "_tpXv1EtdEre"
   },
   "outputs": [
    {
     "name": "stdout",
     "output_type": "stream",
     "text": [
      "Enter a year to check if it is odd/even: 3\n",
      "odd number\n"
     ]
    }
   ],
   "source": [
    "#W A P which takes one number from the user and checks whether it is an even or odd number?, If it even then prints number is \n",
    "#even number else prints that number is odd number.\n",
    "input1 = int(input(\"Enter a number to check if it is odd/even: \"))\n",
    "if input1%2 == 0:\n",
    "    print(\"even number\")\n",
    "else:\n",
    "    print(\"odd number\")\n",
    "\n"
   ]
  },
  {
   "cell_type": "code",
   "execution_count": 6,
   "metadata": {
    "colab": {},
    "colab_type": "code",
    "id": "Q1HumymCdG6i"
   },
   "outputs": [
    {
     "name": "stdout",
     "output_type": "stream",
     "text": [
      "Enter a number 1 :5\n",
      "Enter a number 2 :5\n",
      "Nubmer 1 is equal number2\n"
     ]
    }
   ],
   "source": [
    "#W A P which takes two numbers from the user and prints below output:-\n",
    "#     1. num1 is greater than num2 if num1 is greater than num2\n",
    "#     2. num1 is smaller than num2 if num1 is smaller than num2\n",
    "#     3. num1 is equal to num2 if num1 and num2 are equal\n",
    "\n",
    "#Note:- 1. Do this problem using if - else \n",
    "#       2. Do this using ternary operator\n",
    "\n",
    "input1 = int(input(\"Enter a number 1 :\"))\n",
    "input2 = int(input(\"Enter a number 2 :\"))\n",
    "print(\"Nubmer 1 is greater than Number 2\" if input1>input2 else  \"Nubmer 1 is equal to Number2\" if input1==input2 else \"Nubmer 1 is less than Number2\" )\n"
   ]
  },
  {
   "cell_type": "code",
   "execution_count": 16,
   "metadata": {
    "colab": {},
    "colab_type": "code",
    "id": "LR6TVB-DdOPf"
   },
   "outputs": [
    {
     "name": "stdout",
     "output_type": "stream",
     "text": [
      "Enter a number 1 :3\n",
      "Enter a number 2 :5\n",
      "Enter a number 3 :7\n",
      "Nubmer 3 is greater than Number1 and Number2\n"
     ]
    }
   ],
   "source": [
    "#W A P which takes three numbers from the user and prints below output:-\n",
    "#     1. num1 is greater than num2 and num3 if num1 is greater than num2 and num3\n",
    "#     2. num2 is greater than num1 and num3 if num2 is greater than num1 and num3\n",
    "#     3. num3 is greater than num1 and num2 if num3 is greater than num1 and num2\n",
    "\n",
    "#Note:- 1. Do this problem using if - elif - else \n",
    "#       2. Do this using ternary operator\n",
    "\n",
    "#****Can't use elif in ternary operator, code worked with nested if else******# \n",
    "\n",
    "input1 = int(input(\"Enter a number 1 :\"))\n",
    "input2 = int(input(\"Enter a number 2 :\"))\n",
    "input3 = int(input(\"Enter a number 3 :\"))\n",
    "print(\"Nubmer 1 is greater than Number 2 and Number 3\" if (input1>input2 and input1>input3 ) else \"Nubmer 2 is greater than Number 1 and number 3\" if   input2>input3  else \"Nubmer 3 is greater than Number1 and Number2\" )\n",
    "\n",
    "\n",
    "#print(\"Nubmer 1 is greater than Number 2 and Number 3\" if (input1>input2 and input1>input3 )  \"Nubmer 2 is greater than Number 1 and number 3\" elif   input2>input3  else \"Nubmer 3 is greater than Number1 and Number2\" )\n",
    "\n",
    "\n",
    "\n",
    "\n"
   ]
  },
  {
   "cell_type": "markdown",
   "metadata": {
    "colab_type": "text",
    "id": "IoOLQMUGdSox"
   },
   "source": [
    "# Loops - for loop, while loop"
   ]
  },
  {
   "cell_type": "code",
   "execution_count": 20,
   "metadata": {
    "colab": {},
    "colab_type": "code",
    "id": "9K23Uld8dQfA"
   },
   "outputs": [
    {
     "name": "stdout",
     "output_type": "stream",
     "text": [
      "The length of the string : 55\n"
     ]
    }
   ],
   "source": [
    "#Write a Python program to find the length of the my_str using loop:-\n",
    "\n",
    "#Input:- 'Write a Python program to find the length of the my_str'\n",
    "#Output:- 55\n",
    "input_str = 'Write a Python program to find the length of the my_str'\n",
    "j = 0\n",
    "for i in input_str:\n",
    "    j=j+1\n",
    "print(\"The length of the string : %s\"%j)\n"
   ]
  },
  {
   "cell_type": "code",
   "execution_count": 22,
   "metadata": {
    "colab": {},
    "colab_type": "code",
    "id": "bp6AcqTsdYxy"
   },
   "outputs": [
    {
     "name": "stdout",
     "output_type": "stream",
     "text": [
      "The length of the string : 9\n"
     ]
    }
   ],
   "source": [
    "#Write a Python program to find the total number of times letter 'p' is appeared in the below string using loop:-\n",
    "    \n",
    "#Input:- 'peter piper picked a peck of pickled peppers.\\n'\n",
    "#Output:- 9\n",
    "\n",
    "input_str = 'peter piper picked a peck of pickled peppers.\\n'\n",
    "j = 0\n",
    "for i in input_str:\n",
    "    if i == \"p\":\n",
    "        j = j+1\n",
    "print(\"The length of the string : %s\"%j)"
   ]
  },
  {
   "cell_type": "code",
   "execution_count": 35,
   "metadata": {
    "colab": {},
    "colab_type": "code",
    "id": "xvxSBhTJdav1"
   },
   "outputs": [
    {
     "name": "stdout",
     "output_type": "stream",
     "text": [
      "0\n",
      "6\n",
      "8\n",
      "12\n",
      "21\n",
      "29\n",
      "37\n",
      "39\n",
      "40\n"
     ]
    }
   ],
   "source": [
    "#Write a Python Program, to print all the indexes of all occurences of letter 'p' appeared in the string using loop:-\n",
    "    \n",
    "#Input:- 'peter piper picked a peck of pickled peppers.'\n",
    "#Output:- \n",
    "# 0\n",
    "# 6\n",
    "# 8\n",
    "# 12\n",
    "# 21\n",
    "# 29\n",
    "# 37\n",
    "# 39\n",
    "# 40\n",
    "\n",
    "input_str = 'peter piper picked a peck of pickled peppers.\\n'\n",
    "i = 0\n",
    "while i < len(input_str):\n",
    "    if input_str[i] == 'p':\n",
    "        print(i)\n",
    "    i = i+1"
   ]
  },
  {
   "cell_type": "code",
   "execution_count": 60,
   "metadata": {
    "colab": {},
    "colab_type": "code",
    "id": "79L_feMadbmw"
   },
   "outputs": [
    {
     "name": "stdout",
     "output_type": "stream",
     "text": [
      "['peter', 'piper', 'picked', 'a', 'peck', 'of', 'pickled', 'peppers']\n"
     ]
    }
   ],
   "source": [
    "#Write a python program to find below output using loop:-\n",
    "\n",
    "#Input:- 'peter piper picked a peck of pickled peppers.'\n",
    "#Output:- ['peter', 'piper', 'picked', 'a', 'peck', 'of', 'pickled', 'peppers']\n",
    "\n",
    "input_str = 'peter piper picked a peck of pickled peppers.'\n",
    "output_lst = []\n",
    "output_str = ''\n",
    "for i in input_str:\n",
    "    if i == ' ' or i == '.':\n",
    "        output_lst.append(output_str)\n",
    "        output_str=''\n",
    "    else:\n",
    "        output_str=output_str+i\n",
    "    \n",
    "print(output_lst)\n",
    "    "
   ]
  },
  {
   "cell_type": "code",
   "execution_count": 1,
   "metadata": {
    "colab": {},
    "colab_type": "code",
    "id": "vzs5AJ53deVS"
   },
   "outputs": [
    {
     "name": "stdout",
     "output_type": "stream",
     "text": [
      " peppers pickled of peck a picked piper peter\n"
     ]
    }
   ],
   "source": [
    "#Write a python program to find below output using loop:-\n",
    "\n",
    "#Input:- 'peter piper picked a peck of pickled peppers.'\n",
    "#Output:- 'peppers pickled of peck a picked piper peter'\n",
    "\n",
    "input_str = 'peter piper picked a peck of pickled peppers.'\n",
    "output_lst = []\n",
    "output_str = ''\n",
    "ind = -1\n",
    "for i in input_str:\n",
    "    if i == ' ' or i == '.':\n",
    "        output_lst.append(output_str)\n",
    "        output_str=''\n",
    "    else:\n",
    "        output_str=output_str+i\n",
    "    \n",
    "#print(output_lst)\n",
    "\n",
    "while ind >= - len(output_lst):\n",
    "    output_str = output_str+\" \" +output_lst[ind]\n",
    "    ind = ind-1\n",
    "print(output_str)\n",
    "\n",
    "    \n"
   ]
  },
  {
   "cell_type": "code",
   "execution_count": 4,
   "metadata": {
    "colab": {},
    "colab_type": "code",
    "id": "i-HP7DrCdhwS"
   },
   "outputs": [
    {
     "name": "stdout",
     "output_type": "stream",
     "text": [
      ".sreppep delkcip fo kcep a dekcip repip retep\n"
     ]
    }
   ],
   "source": [
    "#Write a python program to find below output using loop:-\n",
    "\n",
    "#Input:- 'peter piper picked a peck of pickled peppers.'\n",
    "#Output:- '.sreppep delkcip fo kcep a dekcip repip retep'\n",
    "\n",
    "input_str = 'peter piper picked a peck of pickled peppers.'\n",
    "output_str = ''\n",
    "ind = -1\n",
    "while ind >= - len(input_str):\n",
    "    output_str = output_str + input_str[ind]\n",
    "    ind = ind-1\n",
    "print(output_str)\n",
    "\n",
    "\n"
   ]
  },
  {
   "cell_type": "code",
   "execution_count": 12,
   "metadata": {
    "colab": {},
    "colab_type": "code",
    "id": "3rt6p0ytdkq0"
   },
   "outputs": [
    {
     "name": "stdout",
     "output_type": "stream",
     "text": [
      " retep repip dekcip a kcep fo delkcip sreppep\n"
     ]
    }
   ],
   "source": [
    "#Write a python program to find below output using loop:-\n",
    "\n",
    "#Input:- 'peter piper picked a peck of pickled peppers.'\n",
    "#Output:- 'retep repip dekcip a kcep fo delkcip sreppep'\n",
    "\n",
    "def reversestr(str1):\n",
    "    ind = -1\n",
    "    outputstr = ''\n",
    "    while ind >= - len(str1):\n",
    "        outputstr = outputstr + str1[ind]\n",
    "        ind = ind -1\n",
    "    return outputstr\n",
    "    \n",
    "    \n",
    "input_str = 'peter piper picked a peck of pickled peppers.'\n",
    "output_lst = []\n",
    "output_str = ''\n",
    "ind = -1\n",
    "final_str = ''\n",
    "for i in input_str:\n",
    "    if i == ' ' or i == '.':\n",
    "        final_str= final_str +\" \"+ reversestr(output_str)\n",
    "        output_str=''\n",
    "    else:\n",
    "        output_str=output_str+i\n",
    "    \n",
    "print(final_str)\n",
    "\n"
   ]
  },
  {
   "cell_type": "code",
   "execution_count": 12,
   "metadata": {
    "colab": {},
    "colab_type": "code",
    "id": "HdlAWgT2dnKO"
   },
   "outputs": [
    {
     "name": "stdout",
     "output_type": "stream",
     "text": [
      " Peter Piper Picked A Peck Of Pickled Peppers\n",
      "Peter Piper Picked A Peck Of Pickled Peppers.\n"
     ]
    }
   ],
   "source": [
    "#Write a python program to find below output using loop:-\n",
    "\n",
    "#Input:- 'peter piper picked a peck of pickled peppers.'\n",
    "#Output:- 'Peter Piper Picked A Peck Of Pickled Peppers'\n",
    "\n",
    "input_str = 'peter piper picked a peck of pickled peppers.'\n",
    "output_lst = []\n",
    "output_str = ''\n",
    "ind = -1\n",
    "final_str = ''\n",
    "for i in input_str:\n",
    "    if i == ' ' or i == '.':\n",
    "        final_str= final_str +\" \"+ output_str.title()\n",
    "        output_str=''\n",
    "    else:\n",
    "        output_str=output_str+i\n",
    "    \n",
    "print(final_str)\n",
    "\n",
    "#alternatively without loop:\n",
    "print(input_str.title())"
   ]
  },
  {
   "cell_type": "code",
   "execution_count": 11,
   "metadata": {
    "colab": {},
    "colab_type": "code",
    "id": "OthUuacodrNl"
   },
   "outputs": [
    {
     "name": "stdout",
     "output_type": "stream",
     "text": [
      " Peter piper picked a peck of pickled peppers\n",
      "Peter piper picked a peck of pickled peppers.\n"
     ]
    }
   ],
   "source": [
    "#Write a python program to find below output using loop:-\n",
    "\n",
    "#Input:- 'Peter Piper Picked A Peck Of Pickled Peppers.'\n",
    "#Output:- 'Peter piper picked a peck of pickled peppers'\n",
    "input_str = 'Peter Piper Picked A Peck Of Pickled Peppers.'\n",
    "output_lst = []\n",
    "output_str = ''\n",
    "j=0\n",
    "for i in input_str:\n",
    "    if i == ' ' or i == '.':\n",
    "        output_lst.append(output_str)\n",
    "        output_str=''\n",
    "    else:\n",
    "        output_str=output_str+i\n",
    "        \n",
    "while j < len(output_lst):\n",
    "    if j == 0:\n",
    "        output_str= output_str+\" \"+output_lst[j]\n",
    "    else:\n",
    "        output_str= output_str+\" \"+output_lst[j].lower()\n",
    "    j=j+1\n",
    "        \n",
    "print(output_str)\n",
    "\n",
    "#alternatively without loop:\n",
    "\n",
    "print(input_str.capitalize())\n"
   ]
  },
  {
   "cell_type": "code",
   "execution_count": 10,
   "metadata": {
    "colab": {},
    "colab_type": "code",
    "id": "scmDJE-ldsI9"
   },
   "outputs": [
    {
     "name": "stdout",
     "output_type": "stream",
     "text": [
      "29\n"
     ]
    }
   ],
   "source": [
    "#Write a python program to implement index method using loop. If sub_str is found in my_str then it will print the index\n",
    "# of first occurrence of first character of matching string in my_str:-\n",
    "\n",
    "#Input:- my_str = 'Peter Piper Picked A Peck Of Pickled Peppers.', sub_str = 'Pickl'\n",
    "#Output:- 29\n",
    "\n",
    "my_str = 'Peter Piper Picked A Peck Of Pickled Peppers.'\n",
    "sub_str = 'Pickl'\n",
    "\n",
    "print(my_str.index('Pickl'))\n"
   ]
  },
  {
   "cell_type": "code",
   "execution_count": 19,
   "metadata": {
    "colab": {},
    "colab_type": "code",
    "id": "Kq_fwdb_dvYE"
   },
   "outputs": [
    {
     "name": "stdout",
     "output_type": "stream",
     "text": [
      "Peter Piper Picked A Pack Of Pickled Peppers.\n"
     ]
    }
   ],
   "source": [
    "#Write a python program to implement replace method using loop. If sub_str is found in my_str then it will replace the first \n",
    "#occurrence of sub_str with new_str else it will will print sub_str not found:-\n",
    "\n",
    "#Input:- my_str = 'Peter Piper Picked A Peck Of Pickled Peppers.', sub_str = 'Peck', new_str = 'Pack'\n",
    "#Output:- 'Peter Piper Picked A Pack Of Pickled Peppers.'\n",
    "my_str = 'Peter Piper Picked A Peck Of Pickled Peppers.'\n",
    "print(my_str.replace('Peck','Pack'))\n"
   ]
  },
  {
   "cell_type": "code",
   "execution_count": 47,
   "metadata": {
    "colab": {},
    "colab_type": "code",
    "id": "4Qes5D0cdyd1"
   },
   "outputs": [
    {
     "name": "stdout",
     "output_type": "stream",
     "text": [
      "*****************Peck************************\n",
      "45\n",
      "45\n"
     ]
    }
   ],
   "source": [
    "#Write a python program to find below output (implements rjust and ljust) using loop:-\n",
    "\n",
    "#Input:- 'Peter Piper Picked A Peck Of Pickled Peppers.', sub_str = 'Peck', \n",
    "#Output:- '*********************Peck********************'\n",
    "#*****************Pec\n",
    "input_str = 'Peter Piper Picked A Peck Of Pickled Peppers.'\n",
    "sub_str = 'Peck'\n",
    "i=input_str.index('Peck')\n",
    "j=len(input_str)\n",
    "input_str1=sub_str.rjust(i,'*')\n",
    "print(input_str1.ljust(j,'*'))\n",
    "\n",
    "print(len('*****************Peck************************'))\n",
    "print(len(input_str))\n"
   ]
  },
  {
   "cell_type": "code",
   "execution_count": 53,
   "metadata": {
    "colab": {},
    "colab_type": "code",
    "id": "DsOrb07Od0lR"
   },
   "outputs": [
    {
     "name": "stdout",
     "output_type": "stream",
     "text": [
      "['Th', ' ', ' Python class']\n"
     ]
    }
   ],
   "source": [
    "\n",
    "#Write a python program to find below output using loop:-\n",
    "\n",
    "#Input:- 'This is Python class', sep = 'is', \n",
    "#Output:- ['This', 'is', 'Python class']\n",
    "\n",
    "input_str = 'This is Python class'\n",
    "print(input_str.split(\"is\"))\n",
    "\n",
    "#Question not clear\n"
   ]
  },
  {
   "cell_type": "code",
   "execution_count": 61,
   "metadata": {
    "colab": {},
    "colab_type": "code",
    "id": "jRnBVufmd2Ay"
   },
   "outputs": [
    {
     "name": "stdout",
     "output_type": "stream",
     "text": [
      "b'Python'\n",
      "b'Python'\n",
      "b'Python'\n",
      "b'Python'\n",
      "b'Python'\n",
      "b'Python'\n",
      "b'Python'\n"
     ]
    }
   ],
   "source": [
    "#Write a python program which takes one input string from user and encode it in below format:-\n",
    "       #Input:- 'Python'\n",
    "       #Output:- 'R{vjqp'\n",
    "        \n",
    "txt =  'Python'\n",
    "print(s.encode())\n",
    "        \n",
    "        \n",
    "        \n",
    "        \n",
    "\n",
    "       #Input:- 'Python'\n",
    "       #Output:- 'Rwvfql'\n",
    "        \n",
    "        \n",
    "        \n",
    "        \n",
    "        \n",
    "       #Input:- 'Python'\n",
    "       #Output:- 'R{vfml'\n",
    "        \n",
    "        \n",
    "\n",
    "print(txt.encode(encoding=\"ascii\",errors=\"backslashreplace\"))\n",
    "print(txt.encode(encoding=\"ascii\",errors=\"ignore\"))\n",
    "print(txt.encode(encoding=\"ascii\",errors=\"namereplace\"))\n",
    "print(txt.encode(encoding=\"ascii\",errors=\"replace\"))\n",
    "print(txt.encode(encoding=\"ascii\",errors=\"xmlcharrefreplace\"))\n",
    "print(txt.encode(encoding=\"utf-8\",errors=\"strict\"))     \n",
    "\n",
    "#Encode is not working       "
   ]
  },
  {
   "cell_type": "code",
   "execution_count": 60,
   "metadata": {},
   "outputs": [
    {
     "name": "stdout",
     "output_type": "stream",
     "text": [
      "Help on method_descriptor:\n",
      "\n",
      "encode(self, /, encoding='utf-8', errors='strict')\n",
      "    Encode the string using the codec registered for encoding.\n",
      "    \n",
      "    encoding\n",
      "      The encoding in which to encode the string.\n",
      "    errors\n",
      "      The error handling scheme to use for encoding errors.\n",
      "      The default is 'strict' meaning that encoding errors raise a\n",
      "      UnicodeEncodeError.  Other possible values are 'ignore', 'replace' and\n",
      "      'xmlcharrefreplace' as well as any other name registered with\n",
      "      codecs.register_error that can handle UnicodeEncodeErrors.\n",
      "\n"
     ]
    }
   ],
   "source": [
    "\n",
    "help(str.encode)"
   ]
  },
  {
   "cell_type": "code",
   "execution_count": null,
   "metadata": {},
   "outputs": [],
   "source": []
  }
 ],
 "metadata": {
  "colab": {
   "name": "Conditional_and_loop_assignment.ipynb",
   "provenance": []
  },
  "kernelspec": {
   "display_name": "Python 3",
   "language": "python",
   "name": "python3"
  },
  "language_info": {
   "codemirror_mode": {
    "name": "ipython",
    "version": 3
   },
   "file_extension": ".py",
   "mimetype": "text/x-python",
   "name": "python",
   "nbconvert_exporter": "python",
   "pygments_lexer": "ipython3",
   "version": "3.7.6"
  }
 },
 "nbformat": 4,
 "nbformat_minor": 1
}
